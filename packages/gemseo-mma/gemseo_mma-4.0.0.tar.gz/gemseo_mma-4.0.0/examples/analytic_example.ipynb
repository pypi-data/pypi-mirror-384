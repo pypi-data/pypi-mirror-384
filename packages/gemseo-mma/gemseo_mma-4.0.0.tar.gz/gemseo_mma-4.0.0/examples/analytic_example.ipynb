{
 "cells": [
  {
   "cell_type": "markdown",
   "id": "0",
   "metadata": {},
   "source": [
    "# Analytic optimization example"
   ]
  },
  {
   "cell_type": "markdown",
   "id": "1",
   "metadata": {},
   "source": [
    "In this example, we consider a simple optimization problem to illustrate GEMSEO interface and MMA optimization library integration.\n"
   ]
  },
  {
   "cell_type": "markdown",
   "id": "2",
   "metadata": {},
   "source": [
    "## Imports"
   ]
  },
  {
   "cell_type": "code",
   "execution_count": null,
   "id": "3",
   "metadata": {},
   "outputs": [],
   "source": [
    "from gemseo.algos.design_space import DesignSpace\n",
    "from gemseo.api import configure_logger\n",
    "from gemseo.api import create_discipline\n",
    "from gemseo.api import create_scenario\n",
    "from gemseo.api import execute_post\n",
    "from numpy import array\n",
    "from numpy import ones\n",
    "\n",
    "configure_logger()"
   ]
  },
  {
   "cell_type": "markdown",
   "id": "4",
   "metadata": {},
   "source": [
    "## Define objective function, constraints and its gradients."
   ]
  },
  {
   "cell_type": "markdown",
   "id": "5",
   "metadata": {},
   "source": [
    "The objective function:"
   ]
  },
  {
   "cell_type": "code",
   "execution_count": null,
   "id": "6",
   "metadata": {},
   "outputs": [],
   "source": [
    "def obj_func(x=0.0, y=0.0):\n",
    "    \"\"\"The objective function.\"\"\"\n",
    "    f = (x - 1.0) ** 2 + (y - 1.0) ** 2\n",
    "    return f\n",
    "\n",
    "\n",
    "def d_obj_func(x=0.0, y=0.0):\n",
    "    \"\"\"The objective function jacobian.\"\"\"\n",
    "    jac = array([2.0 * (x[0] - 1.0), 2 * (y[0] - 1.0)])\n",
    "    return jac"
   ]
  },
  {
   "cell_type": "markdown",
   "id": "7",
   "metadata": {},
   "source": [
    "The constraint function:"
   ]
  },
  {
   "cell_type": "code",
   "execution_count": null,
   "id": "8",
   "metadata": {},
   "outputs": [],
   "source": [
    "def cstr_func(x=0.0, y=0.0):\n",
    "    \"\"\"The inequality constraint function.\"\"\"\n",
    "    g = x + y - 1.0\n",
    "    return g\n",
    "\n",
    "\n",
    "def d_cstr_func(x=0.0, y=0.0):\n",
    "    \"\"\"The inequality constraint function jacobian.\"\"\"\n",
    "    jac = ones((1, 2))\n",
    "    return jac"
   ]
  },
  {
   "cell_type": "markdown",
   "id": "9",
   "metadata": {},
   "source": [
    "The GEMSEO autopy disciplines:"
   ]
  },
  {
   "cell_type": "code",
   "execution_count": null,
   "id": "10",
   "metadata": {},
   "outputs": [],
   "source": [
    "disc1 = create_discipline(\"AutoPyDiscipline\", py_func=obj_func, py_jac=d_obj_func)\n",
    "disc2 = create_discipline(\"AutoPyDiscipline\", py_func=cstr_func, py_jac=d_cstr_func)"
   ]
  },
  {
   "cell_type": "markdown",
   "id": "11",
   "metadata": {},
   "source": [
    "## Define the design space"
   ]
  },
  {
   "cell_type": "code",
   "execution_count": null,
   "id": "12",
   "metadata": {},
   "outputs": [],
   "source": [
    "ds = DesignSpace()\n",
    "ds.add_variable(\"x\", l_b=0.0, u_b=1.0, value=0.1)\n",
    "ds.add_variable(\"y\", l_b=0.0, u_b=1.0, value=0.1)"
   ]
  },
  {
   "cell_type": "markdown",
   "id": "13",
   "metadata": {},
   "source": [
    "## Define the scenario"
   ]
  },
  {
   "cell_type": "code",
   "execution_count": null,
   "id": "14",
   "metadata": {},
   "outputs": [],
   "source": [
    "scenario = create_scenario(\n",
    "    disciplines=[disc1, disc2],\n",
    "    formulation=\"DisciplinaryOpt\",\n",
    "    objective_name=\"f\",\n",
    "    design_space=ds,\n",
    ")\n",
    "scenario.add_constraint(\"g\", \"ineq\")"
   ]
  },
  {
   "cell_type": "markdown",
   "id": "15",
   "metadata": {},
   "source": [
    "## Define the scenario execution options."
   ]
  },
  {
   "cell_type": "code",
   "execution_count": null,
   "id": "16",
   "metadata": {},
   "outputs": [],
   "source": [
    "ineq_tol = 1e-5\n",
    "convergence_tol = 1e-8\n",
    "options = {\n",
    "    \"algo\": \"MMA\",\n",
    "    \"max_iter\": 50,\n",
    "    \"algo_options\": {\n",
    "        \"tol\": 1e-5,\n",
    "        \"normalize_design_space\": True,\n",
    "        \"ineq_tolerance\": ineq_tol,\n",
    "        \"xtol_rel\": convergence_tol,\n",
    "        \"xtol_abs\": convergence_tol,\n",
    "        \"ftol_rel\": convergence_tol,\n",
    "        \"ftol_abs\": convergence_tol,\n",
    "    },\n",
    "}"
   ]
  },
  {
   "cell_type": "markdown",
   "id": "17",
   "metadata": {},
   "source": [
    "## Execute the optimization algorithm."
   ]
  },
  {
   "cell_type": "code",
   "execution_count": null,
   "id": "18",
   "metadata": {},
   "outputs": [],
   "source": [
    "scenario.execute(options)\n",
    "opt = scenario.formulation.opt_problem.solution.x_opt"
   ]
  },
  {
   "cell_type": "code",
   "execution_count": null,
   "id": "19",
   "metadata": {},
   "outputs": [],
   "source": []
  },
  {
   "cell_type": "markdown",
   "id": "20",
   "metadata": {},
   "source": [
    "## Post-process the results"
   ]
  },
  {
   "cell_type": "code",
   "execution_count": null,
   "id": "21",
   "metadata": {},
   "outputs": [],
   "source": [
    "execute_post(scenario, \"OptHistoryView\", show=True, save=False)"
   ]
  }
 ],
 "metadata": {
  "kernelspec": {
   "display_name": "Python gemseo-mma",
   "language": "python",
   "name": "envname"
  },
  "language_info": {
   "codemirror_mode": {
    "name": "ipython",
    "version": 3
   },
   "file_extension": ".py",
   "mimetype": "text/x-python",
   "name": "python",
   "nbconvert_exporter": "python",
   "pygments_lexer": "ipython3",
   "version": "3.9.13"
  }
 },
 "nbformat": 4,
 "nbformat_minor": 5
}
