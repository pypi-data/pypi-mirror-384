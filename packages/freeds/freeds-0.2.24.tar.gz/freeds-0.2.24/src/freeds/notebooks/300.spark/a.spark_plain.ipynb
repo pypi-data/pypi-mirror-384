{
 "cells": [
  {
   "cell_type": "markdown",
   "id": "0",
   "metadata": {},
   "source": [
    "Self check template. (this cell can and should be removed in selfcheck ntoebooks )\n"
   ]
  },
  {
   "cell_type": "code",
   "execution_count": 1,
   "id": "1",
   "metadata": {},
   "outputs": [],
   "source": [
    "%load_ext autoreload\n",
    "%autoreload 2\n",
    "from importlib.metadata import version\n",
    "# edit the strings to describe the check\n",
    "result = {\n",
    "    \"area\": \"spark\",\n",
    "    \"description\": \"Check that spark can run and print on the cluster.\",\n",
    "    \"passed\": False,\n",
    "    \"message\": \"\",\n",
    "    \"plugin\": \"spark\",\n",
    "    \"freeds\": version('freeds')\n",
    "}"
   ]
  },
  {
   "cell_type": "code",
   "execution_count": 2,
   "id": "2",
   "metadata": {},
   "outputs": [
    {
     "name": "stdout",
     "output_type": "stream",
     "text": [
      "Running on freeds version: 0.2.22\n"
     ]
    },
    {
     "name": "stderr",
     "output_type": "stream",
     "text": [
      "Setting default log level to \"WARN\".\n",
      "To adjust logging level use sc.setLogLevel(newLevel). For SparkR, use setLogLevel(newLevel).\n",
      "25/09/24 19:06:23 WARN NativeCodeLoader: Unable to load native-hadoop library for your platform... using builtin-java classes where applicable\n",
      "25/09/24 19:06:25 WARN MetricsConfig: Cannot locate configuration: tried hadoop-metrics2-s3a-file-system.properties,hadoop-metrics2.properties\n",
      "log4j:WARN No appenders could be found for logger (com.amazonaws.AmazonWebServiceClient).\n",
      "log4j:WARN Please initialize the log4j system properly.\n",
      "log4j:WARN See http://logging.apache.org/log4j/1.2/faq.html#noconfig for more info.\n",
      "                                                                                \r"
     ]
    },
    {
     "name": "stdout",
     "output_type": "stream",
     "text": [
      "+---+\n",
      "| id|\n",
      "+---+\n",
      "|  0|\n",
      "|  2|\n",
      "|  4|\n",
      "|  6|\n",
      "|  8|\n",
      "+---+\n",
      "only showing top 5 rows\n",
      "\n"
     ]
    }
   ],
   "source": [
    "from pyspark.sql.functions import col\n",
    "\n",
    "from freeds.spark import get_spark_session\n",
    "\n",
    "try:\n",
    "    spark = get_spark_session(\"self-check\")\n",
    "    data = spark.range(100)\n",
    "    # Filter even numbers\n",
    "    even_numbers = data.filter(col(\"id\") % 2 == 0)\n",
    "    even_numbers.show(5)\n",
    "    spark.stop()\n",
    "    result[\"message\"] = \"Executed spark cell ok.\"\n",
    "    result[\"passed\"] = True\n",
    "except Exception as ex:\n",
    "    print(type(ex).__name__)\n",
    "    result[\"message\"] = result[\"freeds\"] + ' : ' + type(ex).__name__ + ' '+ str(ex) + ex.with_traceback()\n",
    "    result[\"passed\"] = False"
   ]
  },
  {
   "cell_type": "code",
   "execution_count": 3,
   "id": "3",
   "metadata": {},
   "outputs": [
    {
     "name": "stdout",
     "output_type": "stream",
     "text": [
      "{\n",
      "    \"area\": \"spark\",\n",
      "    \"description\": \"Check that spark can run and print on the cluster.\",\n",
      "    \"passed\": true,\n",
      "    \"message\": \"Executed spark cell ok.\",\n",
      "    \"plugin\": \"spark\",\n",
      "    \"freeds\": \"0.2.22\"\n",
      "}\n"
     ]
    }
   ],
   "source": [
    "import json\n",
    "\n",
    "print(json.dumps(result, indent=4))"
   ]
  }
 ],
 "metadata": {
  "kernelspec": {
   "display_name": "FREEDS",
   "language": "python",
   "name": "freeds"
  }
 },
 "nbformat": 4,
 "nbformat_minor": 5
}
