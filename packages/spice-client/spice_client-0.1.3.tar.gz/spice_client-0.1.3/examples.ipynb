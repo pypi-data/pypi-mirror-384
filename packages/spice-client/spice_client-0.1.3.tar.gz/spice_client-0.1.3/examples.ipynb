{
 "cells": [
  {
   "cell_type": "markdown",
   "id": "05bf69e7-9558-42c2-80d7-597f3cdce1e0",
   "metadata": {},
   "source": [
    "# Example notebook for SPICE\n",
    "\n",
    "The API documentation can be found at /docs/api for a description of each endpoint and the fields: \n",
    "    https://spice.epfl.ch/api/docs"
   ]
  },
  {
   "cell_type": "code",
   "execution_count": null,
   "id": "5d5c3e2e-c603-4013-8755-e4c2be7ea2d7",
   "metadata": {},
   "outputs": [],
   "source": [
    "from spice_client import ApiClient, Configuration\n",
    "from spice_client.helpers.wrapper import get_jwt_token\n",
    "from spice_client.api.default_api import DefaultApi\n",
    "import pandas as pd\n",
    "import geopandas as gpd\n",
    "import json\n",
    "\n",
    "SERVER = \"https://spice.epfl.ch\"\n",
    "\n",
    "auth_token = get_jwt_token(SERVER)\n",
    "config = Configuration(host=SERVER, access_token=auth_token)\n",
    "api = DefaultApi(ApiClient(configuration=config))\n",
    "\n",
    "# Test getting projects, to see if we're connected\n",
    "print(\"Connected\") if api.get_all_projects() is not None else print(\"Not connected\")"
   ]
  },
  {
   "cell_type": "code",
   "execution_count": null,
   "id": "70fceef3-1924-4cba-abe7-2839323a0d6b",
   "metadata": {},
   "outputs": [],
   "source": [
    "# Get all projects\n",
    "print(api.get_all_projects())\n",
    "\n",
    "# We can also do a filter (but we have to serialise the filter terms into JSON first):\n",
    "\n",
    "print(\"\\nWith filter:\", api.get_all_projects(filter=json.dumps({'name': \"Ag\"})))"
   ]
  },
  {
   "cell_type": "code",
   "execution_count": null,
   "id": "7cfa07ac-ccd0-40cc-b000-6dfa7e7831fd",
   "metadata": {},
   "outputs": [],
   "source": [
    "# Use the ID to get one response (usually more data is returned)\n",
    "\n",
    "ag_frost_proection = api.get_one_project('00aa40f4-4122-472d-890d-ba40671b819b')\n",
    "ag_frost_proection"
   ]
  },
  {
   "cell_type": "code",
   "execution_count": null,
   "id": "b1762afa-c0c6-41fb-a8d9-6eeab30db8bf",
   "metadata": {},
   "outputs": [],
   "source": [
    "api.get_one_location('7ae01251-81ce-4f44-8e31-63a92ac76ff6')"
   ]
  },
  {
   "cell_type": "code",
   "execution_count": null,
   "id": "c1f923c9-9be6-40af-9025-04b634cb7a85",
   "metadata": {},
   "outputs": [],
   "source": [
    "for experiment in sorted(api.get_all_experiments(), key=lambda x: x.name):\n",
    "    print(f\"{experiment.name:35} {experiment.id}\")"
   ]
  },
  {
   "cell_type": "code",
   "execution_count": null,
   "id": "9c27d6da-d9d1-4633-9c72-25f70a5c3dd9",
   "metadata": {},
   "outputs": [],
   "source": [
    "# With this result, make a pandas dataframe from the results if you want\n",
    "pd.DataFrame.from_dict([x.to_dict() for x in api.get_all_experiments()])"
   ]
  },
  {
   "cell_type": "code",
   "execution_count": null,
   "id": "ddb47c2c-e58a-4ba1-9056-9f03ca01acb3",
   "metadata": {
    "scrolled": true
   },
   "outputs": [],
   "source": [
    "exp139 = api.get_one_experiment(\"4642971c-6717-4b3b-b8f2-462b3a557302\")  # A UUID from the ID column above"
   ]
  },
  {
   "cell_type": "code",
   "execution_count": null,
   "id": "0d9ec5d2-6d6d-46f3-a882-080dd06d85ea",
   "metadata": {
    "scrolled": true
   },
   "outputs": [],
   "source": [
    "# Experiments, if they have results, are organised by experiment.results.trays[].wells[]. For example:\n",
    "\n",
    "exp139.results.trays[0].wells[0].to_dict()  # This is likely well A1 from the first tray (0) -- As a JSON/Dictionary"
   ]
  },
  {
   "cell_type": "code",
   "execution_count": null,
   "id": "275475ab-4b40-4c2f-beb8-6c60fa3167d5",
   "metadata": {},
   "outputs": [],
   "source": [
    "# We could search for a specific well if desired, from tray 0\n",
    "TRAY = 1\n",
    "WELL = 'H2'\n",
    "\n",
    "for well in exp139.results.trays[TRAY].wells:\n",
    "    if well.coordinate == WELL:\n",
    "        result = well\n",
    "\n",
    "print(result)"
   ]
  },
  {
   "cell_type": "code",
   "execution_count": null,
   "id": "9a191e65-e71e-459b-8fd6-73ebd8180cc8",
   "metadata": {},
   "outputs": [],
   "source": [
    "# We could then get more information about the sample, we have the ID field in the result.sample.id\n",
    "print(result.sample.id)\n",
    "\n",
    "# Get the sample from the sample endpoint. Here we have all the treatments, and all\n",
    "# of the results from any experiments done to each sample/treatment.\n",
    "# print(api.get_one_sample(result.sample.id))\n",
    "\n",
    "# Querying by sample gives us some aggregated statistics, for example, grouping by dilution on each treatment\n",
    "for treatment in api.get_one_sample(result.sample.id).treatments:\n",
    "    print(f\"Treatment: {treatment.name}\")\n",
    "    print(f\"Dilution summary: {treatment.dilution_summaries}\")\n",
    "    print()"
   ]
  },
  {
   "cell_type": "code",
   "execution_count": null,
   "id": "c351284a-3724-452a-bf8f-0993946bad1c",
   "metadata": {},
   "outputs": [],
   "source": [
    "# We can also search by sample but it might be easier to navigate to find the ID from within the UI.\n",
    "# By default, our limit is 10, but we can alter the range (and filter, and paginate too if you would like), here we request 1000\n",
    "for sample in api.get_all_samples(range=json.dumps([0,20])):\n",
    "    print(f\"{sample.name:65} {sample.id}\")\n",
    "\n",
    "print(api.get_one_sample(\"0092be07-d661-4a04-a1ce-e7b428c8da4c\"))"
   ]
  }
 ],
 "metadata": {
  "kernelspec": {
   "display_name": "Python 3 (ipykernel)",
   "language": "python",
   "name": "python3"
  },
  "language_info": {
   "codemirror_mode": {
    "name": "ipython",
    "version": 3
   },
   "file_extension": ".py",
   "mimetype": "text/x-python",
   "name": "python",
   "nbconvert_exporter": "python",
   "pygments_lexer": "ipython3",
   "version": "3.12.6"
  }
 },
 "nbformat": 4,
 "nbformat_minor": 5
}
