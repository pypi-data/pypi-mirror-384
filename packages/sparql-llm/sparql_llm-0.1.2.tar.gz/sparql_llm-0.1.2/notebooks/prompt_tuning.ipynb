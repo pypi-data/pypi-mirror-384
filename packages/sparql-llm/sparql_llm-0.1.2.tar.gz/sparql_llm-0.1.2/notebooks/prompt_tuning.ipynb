{
 "cells": [
  {
   "cell_type": "markdown",
   "metadata": {},
   "source": [
    "# Answering questions with SPARQL queries to SIB endpoints\n",
    "\n",
    "Questions:\n",
    "* Which info can I get from the UniProt endpoint?\n",
    "* Give me an example to access cross references from the UniProt SPARQL endpoint to all the databases available in the endpoint"
   ]
  },
  {
   "cell_type": "code",
   "execution_count": 2,
   "metadata": {},
   "outputs": [
    {
     "name": "stdout",
     "output_type": "stream",
     "text": [
      "Processing endpoint https://sparql.uniprot.org/sparql/\n",
      "Found 51 queries\n",
      "Processing endpoint https://www.bgee.org/sparql/\n",
      "Found 0 queries\n"
     ]
    },
    {
     "name": "stderr",
     "output_type": "stream",
     "text": [
      "/tmp/ipykernel_6580/1735412413.py:38: MarkupResemblesLocatorWarning: The input looks more like a filename than markup. You may want to open this file and pass the filehandle into Beautiful Soup.\n",
      "  soup = BeautifulSoup(html_text, \"html.parser\")\n"
     ]
    }
   ],
   "source": [
    "import re\n",
    "\n",
    "from bs4 import BeautifulSoup\n",
    "from SPARQLWrapper import JSON, SPARQLWrapper\n",
    "\n",
    "system_prompt = \"\"\"You are Expasy, an assistant that helps users to query the databases from the Swiss Institute of Bioinformatics, such as UniProt or Bgee.\n",
    "When writing the SPARQL query try to factorize the predicates/objects of a subject as much as possible, so that the user can understand the query and the results.\n",
    "\"\"\"\n",
    "examples_prompt: str = \"Here are a list of questions and queries that Expasy has learned to answer, use them as base when answering the question from the user:\"\n",
    "\n",
    "endpoints = [\n",
    "    \"https://sparql.uniprot.org/sparql/\",\n",
    "    \"https://www.bgee.org/sparql/\",\n",
    "]\n",
    "\n",
    "get_queries = \"\"\"PREFIX sh: <http://www.w3.org/ns/shacl#>\n",
    "PREFIX rdfs: <http://www.w3.org/2000/01/rdf-schema#>\n",
    "\n",
    "SELECT ?comment ?query\n",
    "WHERE\n",
    "{\n",
    "    ?sq a sh:SPARQLExecutable ;\n",
    "        rdfs:comment ?comment ;\n",
    "        sh:select ?query .\n",
    "}\"\"\"\n",
    "\n",
    "get_prefixes = \"\"\"PREFIX sh: <http://www.w3.org/ns/shacl#>\n",
    "PREFIX rdfs: <http://www.w3.org/2000/01/rdf-schema#>\n",
    "\n",
    "SELECT ?prefix ?namespace\n",
    "WHERE {\n",
    "    [] sh:namespace ?namespace ;\n",
    "        sh:prefix ?prefix .\n",
    "} ORDER BY ?prefix\"\"\"\n",
    "\n",
    "\n",
    "def remove_a_tags(html_text: str) -> str:\n",
    "    \"\"\"Remove all <a> tags from the queries descriptions\"\"\"\n",
    "    soup = BeautifulSoup(html_text, \"html.parser\")\n",
    "    for a_tag in soup.find_all(\"a\"):\n",
    "        a_tag.replace_with(a_tag.text)\n",
    "    return soup.get_text()\n",
    "\n",
    "\n",
    "for endpoint_url in endpoints:\n",
    "    print(f\"Processing endpoint {endpoint_url}\")\n",
    "    sparql_endpoint = SPARQLWrapper(endpoint_url)\n",
    "    sparql_endpoint.setReturnFormat(JSON)\n",
    "\n",
    "    sparql_endpoint.setQuery(get_prefixes)\n",
    "    results = sparql_endpoint.query().convert()\n",
    "    prefix_map = {}\n",
    "    for row in results[\"results\"][\"bindings\"]:\n",
    "        prefix_map[row[\"prefix\"][\"value\"]] = row[\"namespace\"][\"value\"]\n",
    "\n",
    "    # print(f\"Found {len(prefix_map)} prefixes\")\n",
    "\n",
    "    sparql_endpoint.setQuery(get_queries)\n",
    "    results = sparql_endpoint.query().convert()\n",
    "    queries_list = []\n",
    "    for row in results[\"results\"][\"bindings\"]:\n",
    "        queries_list.append(\n",
    "            {\n",
    "                \"comment\": row[\"comment\"][\"value\"],\n",
    "                \"query\": row[\"query\"][\"value\"],\n",
    "            }\n",
    "        )\n",
    "\n",
    "    print(f\"Found {len(queries_list)} queries\")\n",
    "\n",
    "    for q in queries_list:\n",
    "        query = q[\"query\"]\n",
    "        # Add prefixes to queries\n",
    "        for prefix, namespace in prefix_map.items():\n",
    "            prefix_str = f\"PREFIX {prefix}: <{namespace}>\"\n",
    "            if not re.search(prefix_str, query) and re.search(\n",
    "                f\"[(| |\\u00a0|/]{prefix}:\", query\n",
    "            ):\n",
    "                query = f\"{prefix_str}\\n{query}\"\n",
    "\n",
    "        example_question = remove_a_tags(q[\"comment\"])\n",
    "\n",
    "        examples_prompt += f\"\\n\\n- {example_question}:\\n{query}\"\n",
    "\n",
    "examples_prompt += \"\\n\\nThe question from the user is:\""
   ]
  },
  {
   "cell_type": "code",
   "execution_count": 7,
   "metadata": {},
   "outputs": [
    {
     "name": "stdout",
     "output_type": "stream",
     "text": [
      "Sure, here's an example SPARQL query that retrieves cross-references from UniProt entries to all available external databases in the UniProt SPARQL endpoint:\n",
      "\n",
      "```sparql\n",
      "PREFIX up: <http://purl.uniprot.org/core/>\n",
      "PREFIX rdfs: <http://www.w3.org/2000/01/rdf-schema#>\n",
      "\n",
      "SELECT ?protein ?externalDatabase ?crossReference\n",
      "WHERE\n",
      "{\n",
      "  ?protein a up:Protein ;\n",
      "           rdfs:seeAlso ?crossReference .\n",
      "  ?crossReference up:database ?externalDatabase .\n",
      "}\n",
      "LIMIT 100\n",
      "```\n",
      "\n",
      "This query does the following:\n",
      "\n",
      "- Selects all proteins (`?protein`) in the UniProt dataset.\n",
      "- Retrieves external cross-references (`?crossReference`) associated with each protein.\n",
      "- Identifies the external database (`?externalDatabase`) to which each cross-reference points.\n",
      "\n",
      "You can remove the `LIMIT 100` clause to retrieve all results, but keep in mind that this could result in a large number of results depending on the breadth of data in the UniProt database.\n"
     ]
    }
   ],
   "source": [
    "from openai import OpenAI\n",
    "\n",
    "client = OpenAI()\n",
    "\n",
    "user_asks = \"Give me an example to access cross references from the UniProt SPARQL endpoint to all the databases available in the endpoint\"\n",
    "\n",
    "response = client.chat.completions.create(\n",
    "    model=\"gpt-4o\",\n",
    "    #   response_format={ \"type\": \"json_object\" },\n",
    "    messages=[\n",
    "        {\"role\": \"system\", \"content\": system_prompt},\n",
    "        {\"role\": \"user\", \"content\": f\"{examples_prompt}\\n\\n{user_asks}\"},\n",
    "    ],\n",
    ")\n",
    "print(response.choices[0].message.content)"
   ]
  },
  {
   "cell_type": "markdown",
   "metadata": {},
   "source": []
  }
 ],
 "metadata": {
  "kernelspec": {
   "display_name": "expasy-api",
   "language": "python",
   "name": "python3"
  },
  "language_info": {
   "codemirror_mode": {
    "name": "ipython",
    "version": 3
   },
   "file_extension": ".py",
   "mimetype": "text/x-python",
   "name": "python",
   "nbconvert_exporter": "python",
   "pygments_lexer": "ipython3",
   "version": "3.10.12"
  }
 },
 "nbformat": 4,
 "nbformat_minor": 2
}
