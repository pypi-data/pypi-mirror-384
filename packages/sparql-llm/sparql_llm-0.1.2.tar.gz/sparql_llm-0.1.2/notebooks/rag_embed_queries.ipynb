{
 "cells": [
  {
   "cell_type": "markdown",
   "metadata": {},
   "source": [
    "# Generating embeddings for SIB SPARQL queries\n",
    "\n",
    "Using `fastembed` library, FlagEmbedding large 1.5 embedding model, and Qdrant vectorstore\n",
    "\n",
    "Example code for loading the large Babel concepts synonyms dataset to Qdrant: https://github.com/vemonet/concept-resolver/blob/main/src/babel_load.py\n",
    "\n",
    "Questions:\n",
    "* Which info can I get from the UniProt endpoint?\n",
    "* Give me an example to access cross references from the UniProt SPARQL endpoint to all the databases available in the endpoint"
   ]
  },
  {
   "cell_type": "code",
   "execution_count": null,
   "metadata": {},
   "outputs": [],
   "source": [
    "from sparql_llm.index import init_vectordb\n",
    "\n",
    "init_vectordb(\"localhost\")\n",
    "\n",
    "\n",
    "# get_schemaorg_description({\n",
    "#     \"label\": \"Bgee\",\n",
    "#     \"endpoint\": \"https://www.bgee.org/sparql/\",\n",
    "#     \"homepage\": \"https://www.bgee.org/\",\n",
    "# })"
   ]
  },
  {
   "cell_type": "markdown",
   "metadata": {},
   "source": []
  }
 ],
 "metadata": {
  "kernelspec": {
   "display_name": "expasy-scripts",
   "language": "python",
   "name": "python3"
  },
  "language_info": {
   "codemirror_mode": {
    "name": "ipython",
    "version": 3
   },
   "file_extension": ".py",
   "mimetype": "text/x-python",
   "name": "python",
   "nbconvert_exporter": "python",
   "pygments_lexer": "ipython3",
   "version": "3.10.12"
  }
 },
 "nbformat": 4,
 "nbformat_minor": 2
}
