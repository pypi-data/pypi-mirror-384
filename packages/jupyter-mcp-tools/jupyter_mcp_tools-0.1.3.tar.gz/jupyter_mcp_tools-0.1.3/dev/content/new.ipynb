{
 "cells": [
  {
   "cell_type": "markdown",
   "id": "a70f6bd9",
   "metadata": {},
   "source": [
    "# A New Notebook"
   ]
  },
  {
   "cell_type": "code",
   "execution_count": 1,
   "id": "3c3442e4",
   "metadata": {},
   "outputs": [
    {
     "name": "stdout",
     "output_type": "stream",
     "text": [
      "Hello, World!\n"
     ]
    }
   ],
   "source": [
    "print(\"Hello, World!\")"
   ]
  },
  {
   "cell_type": "code",
   "execution_count": null,
   "id": "68d7d9e9",
   "metadata": {},
   "outputs": [],
   "source": []
  },
  {
   "cell_type": "code",
   "execution_count": 1,
   "id": "07431691-be96-40d1-b7f6-8dfd8ee105c6",
   "metadata": {
    "execution": {
     "iopub.execute_input": "2025-10-13T07:43:26.288151",
     "shell.execute_reply": "2025-10-13T07:43:26.300816",
     "shell.execute_reply.started": "2025-10-13T07:43:26.288151"
    }
   },
   "outputs": [
    {
     "data": {
      "text/plain": [
       "2"
      ]
     },
     "execution_count": 1,
     "metadata": {},
     "output_type": "execute_result"
    }
   ],
   "source": [
    "1+1"
   ]
  }
 ],
 "metadata": {
  "kernelspec": {
   "display_name": "Python 3 (ipykernel)",
   "language": "python",
   "name": "python3"
  },
  "language_info": {
   "codemirror_mode": {
    "name": "ipython",
    "version": 3
   },
   "file_extension": ".py",
   "mimetype": "text/x-python",
   "name": "python",
   "nbconvert_exporter": "python",
   "pygments_lexer": "ipython3",
   "version": "3.11.12"
  }
 },
 "nbformat": 4,
 "nbformat_minor": 5
}
