{
 "cells": [
  {
   "cell_type": "code",
   "execution_count": 54,
   "id": "243d7eab",
   "metadata": {},
   "outputs": [
    {
     "name": "stdout",
     "output_type": "stream",
     "text": [
      "<class 'dict'>\n",
      "{\n",
      "  \"properties\": {\n",
      "    \"name\": {\n",
      "      \"description\": \"The person's name\",\n",
      "      \"title\": \"Name\",\n",
      "      \"type\": \"string\"\n",
      "    },\n",
      "    \"age\": {\n",
      "      \"description\": \"The person's age\",\n",
      "      \"maximum\": 120,\n",
      "      \"minimum\": 0,\n",
      "      \"title\": \"Age\",\n",
      "      \"type\": \"integer\"\n",
      "    },\n",
      "    \"is_student\": {\n",
      "      \"default\": false,\n",
      "      \"title\": \"Is Student\",\n",
      "      \"type\": \"boolean\"\n",
      "    }\n",
      "  },\n",
      "  \"required\": [\n",
      "    \"name\",\n",
      "    \"age\"\n",
      "  ],\n",
      "  \"title\": \"Person\",\n",
      "  \"type\": \"object\"\n",
      "}\n"
     ]
    }
   ],
   "source": [
    "from pydantic import BaseModel, Field, TypeAdapter\n",
    "import json\n",
    "\n",
    "# If you have the original model class available\n",
    "class Person(BaseModel):\n",
    "    name: str = Field(..., description=\"The person's name\")\n",
    "    age: int = Field(\n",
    "        ...,\n",
    "        description=\"The person's age\",\n",
    "        ge=0,  # age must be non-negative\n",
    "        le=120,  # age must be less than or equal to 120\n",
    "    )\n",
    "    is_student: bool = False\n",
    "\n",
    "# You can use TypeAdapter for validation\n",
    "schema = Person.model_json_schema()\n",
    "print(type(schema))\n",
    "print(json.dumps(schema, indent=2))"
   ]
  },
  {
   "cell_type": "code",
   "execution_count": 55,
   "id": "22f7ab6d",
   "metadata": {},
   "outputs": [
    {
     "name": "stdout",
     "output_type": "stream",
     "text": [
      "{\"name\": \"Alice\", \"age\": 0, \"is_student\": false}\n",
      "---\n"
     ]
    },
    {
     "data": {
      "text/plain": [
       "Person(name='Alice', age=0, is_student=False)"
      ]
     },
     "execution_count": 55,
     "metadata": {},
     "output_type": "execute_result"
    }
   ],
   "source": [
    "data = {\"name\": \"Alice\", \"age\": 0, \"is_student\": False}\n",
    "data = json.dumps(data)\n",
    "print(data)\n",
    "print('---')\n",
    "adapter = TypeAdapter(Person)  # PROBLEM: NEED JSON CLASS\n",
    "validated = adapter.validate_json(data)\n",
    "validated"
   ]
  },
  {
   "cell_type": "code",
   "execution_count": null,
   "id": "62e028b8",
   "metadata": {},
   "outputs": [],
   "source": []
  },
  {
   "cell_type": "code",
   "execution_count": 56,
   "id": "4611b82e",
   "metadata": {},
   "outputs": [
    {
     "name": "stdout",
     "output_type": "stream",
     "text": [
      "Valid:  False\n",
      "Validation Error:\n",
      "```\n",
      "-1 is less than the minimum of 0\n",
      "\n",
      "Failed validating 'minimum' in schema['properties']['age']:\n",
      "    {'type': 'integer', 'minimum': 0, 'maximum': 120}\n",
      "\n",
      "On instance['age']:\n",
      "    -1\n",
      "```\n"
     ]
    }
   ],
   "source": [
    "from jsonschema import validate, ValidationError\n",
    "\n",
    "schema = {\n",
    "    \"type\": \"object\",\n",
    "    \"properties\": {\n",
    "        \"name\": {\"type\": \"string\"},\n",
    "        \"age\":  {\"type\": \"integer\", \"minimum\": 0, \"maximum\": 120},\n",
    "    },\n",
    "    \"required\": [\"name\", \"age\"],\n",
    "}\n",
    "data = {\"name\": \"Alice\", \"age\": -1}  # age 130 violates the schema (max 120)\n",
    "\n",
    "def validate_json_schema(data: dict | str | BaseModel, schema: dict | str | BaseModel) -> tuple[bool, str | None]:\n",
    "    \"\"\"Validate data against a JSON schema.\"\"\"\n",
    "    if isinstance(schema, BaseModel):\n",
    "        # TODO I think this should work\n",
    "        schema = schema.model_json_schema()\n",
    "    elif isinstance(schema, str):\n",
    "        schema = json.loads(schema)\n",
    "    elif not isinstance(schema, dict):\n",
    "        raise ValueError(\"Schema must be a dict, JSON string, or Pydantic BaseModel\")\n",
    "    if isinstance(data, str):\n",
    "        data = json.loads(data)\n",
    "    elif isinstance(data, BaseModel):\n",
    "        # TODO I think this should work\n",
    "        data = data.model_dump()\n",
    "    elif not isinstance(data, dict):\n",
    "        raise ValueError(\"Data must be a dict, JSON string, or Pydantic BaseModel\")\n",
    "\n",
    "    valid = False\n",
    "    validation_error = None\n",
    "    try:\n",
    "        validate(instance=data, schema=schema)\n",
    "        valid = True\n",
    "    except ValidationError as e:\n",
    "        validation_error = str(e)\n",
    "\n",
    "    return valid, validation_error\n",
    "\n",
    "valid, validation_error = validate_json_schema(data, schema)\n",
    "print(\"Valid: \", valid)\n",
    "print(f\"Validation Error:\\n```\\n{validation_error}\\n```\")"
   ]
  },
  {
   "cell_type": "code",
   "execution_count": 57,
   "id": "dd9a59ae",
   "metadata": {},
   "outputs": [
    {
     "name": "stdout",
     "output_type": "stream",
     "text": [
      "Valid:  False\n",
      "Validation Error:\n",
      "```\n",
      "-1 is less than the minimum of 0\n",
      "\n",
      "Failed validating 'minimum' in schema['properties']['age']:\n",
      "    {'type': 'integer', 'minimum': 0, 'maximum': 120}\n",
      "\n",
      "On instance['age']:\n",
      "    -1\n",
      "```\n"
     ]
    }
   ],
   "source": [
    "valid, validation_error = validate_json_schema(json.dumps(data), json.dumps(schema))\n",
    "print(\"Valid: \", valid)\n",
    "print(f\"Validation Error:\\n```\\n{validation_error}\\n```\")"
   ]
  },
  {
   "cell_type": "code",
   "execution_count": null,
   "id": "6c359be0",
   "metadata": {},
   "outputs": [
    {
     "name": "stdout",
     "output_type": "stream",
     "text": [
      "{\n",
      "  \"properties\": {\n",
      "    \"name\": {\n",
      "      \"description\": \"The person's name\",\n",
      "      \"title\": \"Name\",\n",
      "      \"type\": \"string\"\n",
      "    },\n",
      "    \"age\": {\n",
      "      \"description\": \"The person's age\",\n",
      "      \"maximum\": 120,\n",
      "      \"minimum\": 0,\n",
      "      \"title\": \"Age\",\n",
      "      \"type\": \"integer\"\n",
      "    },\n",
      "    \"is_student\": {\n",
      "      \"default\": false,\n",
      "      \"title\": \"Is Student\",\n",
      "      \"type\": \"boolean\"\n",
      "    }\n",
      "  },\n",
      "  \"required\": [\n",
      "    \"name\",\n",
      "    \"age\"\n",
      "  ],\n",
      "  \"title\": \"MyJSONSchema\",\n",
      "  \"type\": \"object\"\n",
      "}\n"
     ]
    }
   ],
   "source": [
    "pydanic_schema = Person.model_json_schema()\n",
    "pydanic_schema = json.dumps(pydanic_schema, indent=2)\n",
    "print(pydanic_schema)"
   ]
  },
  {
   "cell_type": "code",
   "execution_count": 53,
   "id": "4f82eff3",
   "metadata": {},
   "outputs": [
    {
     "name": "stdout",
     "output_type": "stream",
     "text": [
      "Valid:  False\n",
      "Validation Error:\n",
      "```\n",
      "-1 is less than the minimum of 0\n",
      "\n",
      "Failed validating 'minimum' in schema['properties']['age']:\n",
      "    {'description': \"The person's age\",\n",
      "     'maximum': 120,\n",
      "     'minimum': 0,\n",
      "     'title': 'Age',\n",
      "     'type': 'integer'}\n",
      "\n",
      "On instance['age']:\n",
      "    -1\n",
      "```\n"
     ]
    }
   ],
   "source": [
    "valid, validation_error = validate_json_schema(data, pydanic_schema)\n",
    "print(\"Valid: \", valid)\n",
    "print(f\"Validation Error:\\n```\\n{validation_error}\\n```\")"
   ]
  },
  {
   "cell_type": "code",
   "execution_count": null,
   "id": "940d0424",
   "metadata": {},
   "outputs": [],
   "source": []
  },
  {
   "cell_type": "code",
   "execution_count": 66,
   "id": "5362500b",
   "metadata": {},
   "outputs": [
    {
     "name": "stdout",
     "output_type": "stream",
     "text": [
      "Valid: False\n",
      "Validation Errors:\n",
      "(root): 'name' is a required property\n",
      "/age: -1 is less than the minimum of 0\n"
     ]
    }
   ],
   "source": [
    "import json\n",
    "from collections.abc import Mapping\n",
    "from typing import Any\n",
    "\n",
    "from jsonschema import Draft202012Validator, FormatChecker\n",
    "from pydantic import BaseModel\n",
    "\n",
    "JSONLike = Any | str | BaseModel  # keep it simple: one alias for both inputs\n",
    "\n",
    "\n",
    "def _coerce(value: JSONLike, *, as_schema: bool) -> Any:  # noqa: ANN401\n",
    "    \"\"\"\n",
    "    Coerce input to a Python object suitable for validation.\n",
    "    - If BaseModel: dump to schema (for schema) or to data (for data).\n",
    "    - If str: json.loads.\n",
    "    - Otherwise: pass through.\n",
    "    Additionally, if as_schema=True, ensure result is a mapping.\n",
    "    \"\"\"\n",
    "    if isinstance(value, BaseModel):\n",
    "        value = value.__class__.model_json_schema() if as_schema else value.model_dump()\n",
    "    elif isinstance(value, str):\n",
    "        value = json.loads(value)\n",
    "\n",
    "    if as_schema and not isinstance(value, Mapping):\n",
    "        raise TypeError(\"Schema must be a JSON object (mapping) after coercion.\")\n",
    "    return value\n",
    "\n",
    "\n",
    "def validate_json_schema(data: JSONLike, schema: JSONLike) -> tuple[bool, str | None]:\n",
    "    \"\"\"\n",
    "    Validate `data` against JSON `schema`.\n",
    "\n",
    "    Returns (is_valid, error_report). If invalid, error_report lists all issues.\n",
    "    \"\"\"\n",
    "    schema = _coerce(schema, as_schema=True)\n",
    "    data = _coerce(data, as_schema=False)\n",
    "\n",
    "    # Draft202012Validator is the implementation of the JSON Schema 2020-12 draft, which is the\n",
    "    # latest stable version of the standard.\n",
    "    validator = Draft202012Validator(schema, format_checker=FormatChecker())\n",
    "    errors = sorted(validator.iter_errors(data), key=lambda e: list(e.path))\n",
    "\n",
    "    if not errors:\n",
    "        return True, None\n",
    "\n",
    "    validation_errors = []\n",
    "    for err in errors:\n",
    "        path_elems = [str(p) for p in err.path]\n",
    "        path = \"/\" + \"/\".join(path_elems) if path_elems else \"(root)\"\n",
    "        validation_errors.append(f\"{path}: {err.message}\")\n",
    "    return False, validation_errors\n",
    "\n",
    "schema = {\n",
    "    \"type\": \"object\",\n",
    "    \"properties\": {\n",
    "        \"name\": {\"type\": \"string\"},\n",
    "        \"age\":  {\"type\": \"integer\", \"minimum\": 0, \"maximum\": 120},\n",
    "    },\n",
    "    \"required\": [\"name\", \"age\"],\n",
    "    \"additionalProperties\": False,\n",
    "}\n",
    "\n",
    "# data = {\"name\": \"Alice\", \"age\": -1}  # violates minimum 0\n",
    "data = {'age': -1} # violates required name and minimum age\n",
    "\n",
    "valid, validation_errors = validate_json_schema(data, schema)\n",
    "print(\"Valid:\", valid)\n",
    "print(\"Validation Errors:\")\n",
    "for err in (validation_errors or []):\n",
    "    print(err)"
   ]
  }
 ],
 "metadata": {
  "kernelspec": {
   "display_name": ".venv",
   "language": "python",
   "name": "python3"
  },
  "language_info": {
   "codemirror_mode": {
    "name": "ipython",
    "version": 3
   },
   "file_extension": ".py",
   "mimetype": "text/x-python",
   "name": "python",
   "nbconvert_exporter": "python",
   "pygments_lexer": "ipython3",
   "version": "3.11.13"
  }
 },
 "nbformat": 4,
 "nbformat_minor": 5
}
