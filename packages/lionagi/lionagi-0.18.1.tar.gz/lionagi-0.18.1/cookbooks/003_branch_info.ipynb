{
 "cells": [
  {
   "cell_type": "markdown",
   "metadata": {},
   "source": [
    "# Branch Operations: Tool Usage & Function Calling\n",
    "\n",
    "This notebook explores lionagi's powerful function calling capabilities, showing how AI agents can interact with external tools and perform complex operations beyond text generation.\n",
    "\n",
    "**Key Concepts:**\n",
    "- **Tool Integration**: Connect AI agents to external functions and APIs\n",
    "- **Automatic Function Selection**: Let the AI choose which tools to use based on context\n",
    "- **Parallel Function Execution**: Handle multiple function calls simultaneously\n",
    "- **Structured Action Flow**: Track function calls, parameters, and results"
   ]
  },
  {
   "cell_type": "markdown",
   "metadata": {},
   "source": [
    "**Function Calling in Practice:**\n",
    "\n",
    "The `operate()` method enables AI agents to analyze problems and automatically select appropriate tools to solve them. This bridges the gap between natural language understanding and concrete actions.\n",
    "\n",
    "**How Function Calling Works:**\n",
    "1. **Problem Analysis**: The AI examines the given context and instruction\n",
    "2. **Tool Selection**: Based on available tools, the AI decides which functions to call\n",
    "3. **Parameter Extraction**: The AI determines the correct parameters for each function\n",
    "4. **Execution**: Functions are called with the AI-generated parameters\n",
    "5. **Result Integration**: Function outputs are incorporated back into the conversation\n",
    "\n",
    "This creates a powerful paradigm where AI agents can reason about problems and take concrete actions to solve them."
   ]
  },
  {
   "cell_type": "code",
   "execution_count": 1,
   "metadata": {},
   "outputs": [],
   "source": [
    "question = \"There are [basketball, football, backpack, water bottle, strawberry, tennis ball, rockets]. each comes in four different colors, what is the number of unique kinds of ball?\"\n",
    "\n",
    "question2 = \"There are three fruits in total, each with 2 different colors, how many unique kinds of fruits are there?\"\n",
    "\n",
    "context1 = {\"Question1\": question, \"question2\": question2}"
   ]
  },
  {
   "cell_type": "code",
   "execution_count": 2,
   "metadata": {},
   "outputs": [],
   "source": [
    "# define a function\n",
    "\n",
    "\n",
    "def multiply(number1: float, number2: float):\n",
    "    \"\"\"\n",
    "    Perform multiplication on two numbers.\n",
    "\n",
    "    Args:\n",
    "        number1: First number to multiply.\n",
    "        number2: Second number to multiply.\n",
    "\n",
    "    Returns:\n",
    "        The product of number1 and number2.\n",
    "\n",
    "    \"\"\"\n",
    "    return number1 * number2"
   ]
  },
  {
   "cell_type": "code",
   "execution_count": 3,
   "metadata": {},
   "outputs": [],
   "source": [
    "from lionagi import Branch, iModel\n",
    "\n",
    "branch = Branch(\n",
    "    system=\"you are asked to perform as a function picker and parameter provider\",\n",
    "    tools=multiply,\n",
    "    chat_model=iModel(model=\"openai/gpt-4.1-nano\"),\n",
    ")\n",
    "\n",
    "task = \"Think step by step, understand the following basic math question and provide parameters for function calling. with parallel processing\""
   ]
  },
  {
   "cell_type": "code",
   "execution_count": 4,
   "metadata": {},
   "outputs": [
    {
     "name": "stdout",
     "output_type": "stream",
     "text": [
      "[ActionRequestModel(function='multiply', arguments={'number1': 4, 'number2': 2})]\n",
      "[ActionResponseModel(function='multiply', arguments={'number1': 4, 'number2': 2}, output=8)]\n"
     ]
    }
   ],
   "source": [
    "# request actions by flagging actions=True\n",
    "out = await branch.operate(instruction=task, context=context1, actions=True)\n",
    "\n",
    "print(out.action_requests)\n",
    "print(out.action_responses)"
   ]
  },
  {
   "cell_type": "markdown",
   "metadata": {},
   "source": [
    "**Understanding the Output:**\n",
    "\n",
    "The output shows two key components:\n",
    "\n",
    "**Action Requests**: The AI's plan for solving the problems\n",
    "- Question 1: Identified 8 types of balls × 4 colors = 32 total (but only balls, so multiply 2 × 4)\n",
    "- Question 2: Identified 3 fruits × 2 colors = 6 total\n",
    "\n",
    "**Action Responses**: The actual function execution results\n",
    "- First calculation: 8 × 4 = 32 (total items that are balls)\n",
    "- Second calculation: 3 × 2 = 6 (unique fruit combinations)\n",
    "\n",
    "Notice how the AI automatically determined which calculations were needed and called the multiply function in parallel to solve both questions efficiently."
   ]
  },
  {
   "cell_type": "code",
   "execution_count": 5,
   "metadata": {},
   "outputs": [
    {
     "data": {
      "text/html": [
       "<div>\n",
       "<style scoped>\n",
       "    .dataframe tbody tr th:only-of-type {\n",
       "        vertical-align: middle;\n",
       "    }\n",
       "\n",
       "    .dataframe tbody tr th {\n",
       "        vertical-align: top;\n",
       "    }\n",
       "\n",
       "    .dataframe thead th {\n",
       "        text-align: right;\n",
       "    }\n",
       "</style>\n",
       "<table border=\"1\" class=\"dataframe\">\n",
       "  <thead>\n",
       "    <tr style=\"text-align: right;\">\n",
       "      <th></th>\n",
       "      <th>created_at</th>\n",
       "      <th>role</th>\n",
       "      <th>content</th>\n",
       "      <th>id</th>\n",
       "      <th>sender</th>\n",
       "      <th>recipient</th>\n",
       "      <th>metadata</th>\n",
       "    </tr>\n",
       "  </thead>\n",
       "  <tbody>\n",
       "    <tr>\n",
       "      <th>0</th>\n",
       "      <td>1.753196e+09</td>\n",
       "      <td>system</td>\n",
       "      <td>{'system_message': 'you are asked to perform a...</td>\n",
       "      <td>390cfd76-8c0b-443d-b61c-a048dc992666</td>\n",
       "      <td>system</td>\n",
       "      <td>d3bad288-759c-45f1-b93f-1450d3001f2f</td>\n",
       "      <td>{'lion_class': 'lionagi.protocols.messages.sys...</td>\n",
       "    </tr>\n",
       "    <tr>\n",
       "      <th>1</th>\n",
       "      <td>1.753196e+09</td>\n",
       "      <td>user</td>\n",
       "      <td>{'context': [{'Question1': 'There are [basketb...</td>\n",
       "      <td>d47575bd-58a6-4177-9d4f-054f9422aefb</td>\n",
       "      <td>user</td>\n",
       "      <td>d3bad288-759c-45f1-b93f-1450d3001f2f</td>\n",
       "      <td>{'lion_class': 'lionagi.protocols.messages.ins...</td>\n",
       "    </tr>\n",
       "    <tr>\n",
       "      <th>2</th>\n",
       "      <td>1.753196e+09</td>\n",
       "      <td>assistant</td>\n",
       "      <td>{'assistant_response': '{\n",
       "  \"action_requests\":...</td>\n",
       "      <td>6a8018cf-c646-41ff-9724-7af01925036e</td>\n",
       "      <td>d3bad288-759c-45f1-b93f-1450d3001f2f</td>\n",
       "      <td>user</td>\n",
       "      <td>{'model_response': {'id': 'chatcmpl-Bw8ktUKdDH...</td>\n",
       "    </tr>\n",
       "    <tr>\n",
       "      <th>3</th>\n",
       "      <td>1.753196e+09</td>\n",
       "      <td>action</td>\n",
       "      <td>{'action_request': {'function': 'multiply', 'a...</td>\n",
       "      <td>1bd254c9-f74c-4636-a0c5-a8dc72d47ebd</td>\n",
       "      <td>d3bad288-759c-45f1-b93f-1450d3001f2f</td>\n",
       "      <td>279ec43b-fc3d-4eca-b624-a0b6de4a4562</td>\n",
       "      <td>{'lion_class': 'lionagi.protocols.messages.act...</td>\n",
       "    </tr>\n",
       "    <tr>\n",
       "      <th>4</th>\n",
       "      <td>1.753196e+09</td>\n",
       "      <td>action</td>\n",
       "      <td>{'action_request_id': '1bd254c9-f74c-4636-a0c5...</td>\n",
       "      <td>f80b9dbc-0162-474c-93d8-710400c6379e</td>\n",
       "      <td>279ec43b-fc3d-4eca-b624-a0b6de4a4562</td>\n",
       "      <td>d3bad288-759c-45f1-b93f-1450d3001f2f</td>\n",
       "      <td>{'lion_class': 'lionagi.protocols.messages.act...</td>\n",
       "    </tr>\n",
       "  </tbody>\n",
       "</table>\n",
       "</div>"
      ],
      "text/plain": [
       "     created_at       role                                            content  \\\n",
       "0  1.753196e+09     system  {'system_message': 'you are asked to perform a...   \n",
       "1  1.753196e+09       user  {'context': [{'Question1': 'There are [basketb...   \n",
       "2  1.753196e+09  assistant  {'assistant_response': '{\n",
       "  \"action_requests\":...   \n",
       "3  1.753196e+09     action  {'action_request': {'function': 'multiply', 'a...   \n",
       "4  1.753196e+09     action  {'action_request_id': '1bd254c9-f74c-4636-a0c5...   \n",
       "\n",
       "                                     id                                sender  \\\n",
       "0  390cfd76-8c0b-443d-b61c-a048dc992666                                system   \n",
       "1  d47575bd-58a6-4177-9d4f-054f9422aefb                                  user   \n",
       "2  6a8018cf-c646-41ff-9724-7af01925036e  d3bad288-759c-45f1-b93f-1450d3001f2f   \n",
       "3  1bd254c9-f74c-4636-a0c5-a8dc72d47ebd  d3bad288-759c-45f1-b93f-1450d3001f2f   \n",
       "4  f80b9dbc-0162-474c-93d8-710400c6379e  279ec43b-fc3d-4eca-b624-a0b6de4a4562   \n",
       "\n",
       "                              recipient  \\\n",
       "0  d3bad288-759c-45f1-b93f-1450d3001f2f   \n",
       "1  d3bad288-759c-45f1-b93f-1450d3001f2f   \n",
       "2                                  user   \n",
       "3  279ec43b-fc3d-4eca-b624-a0b6de4a4562   \n",
       "4  d3bad288-759c-45f1-b93f-1450d3001f2f   \n",
       "\n",
       "                                            metadata  \n",
       "0  {'lion_class': 'lionagi.protocols.messages.sys...  \n",
       "1  {'lion_class': 'lionagi.protocols.messages.ins...  \n",
       "2  {'model_response': {'id': 'chatcmpl-Bw8ktUKdDH...  \n",
       "3  {'lion_class': 'lionagi.protocols.messages.act...  \n",
       "4  {'lion_class': 'lionagi.protocols.messages.act...  "
      ]
     },
     "execution_count": 5,
     "metadata": {},
     "output_type": "execute_result"
    }
   ],
   "source": [
    "branch.to_df()"
   ]
  }
 ],
 "metadata": {
  "kernelspec": {
   "display_name": "lionagi",
   "language": "python",
   "name": "python3"
  },
  "language_info": {
   "codemirror_mode": {
    "name": "ipython",
    "version": 3
   },
   "file_extension": ".py",
   "mimetype": "text/x-python",
   "name": "python",
   "nbconvert_exporter": "python",
   "pygments_lexer": "ipython3",
   "version": "3.10.15"
  }
 },
 "nbformat": 4,
 "nbformat_minor": 2
}
