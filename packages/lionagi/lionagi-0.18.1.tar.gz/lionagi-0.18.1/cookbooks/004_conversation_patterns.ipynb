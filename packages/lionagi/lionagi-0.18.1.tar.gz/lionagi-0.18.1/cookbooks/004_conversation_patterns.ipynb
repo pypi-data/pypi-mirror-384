{
 "cells": [
  {
   "cell_type": "markdown",
   "metadata": {},
   "source": [
    "# Conversation Patterns & Context\n",
    "\n",
    "Building on:\n",
    "- **001**: `chat()` vs `communicate()`\n",
    "- **002**: Multi-agent collaboration \n",
    "- **003**: `operate()` with function calling\n",
    "\n",
    "**This notebook**: Practical conversation patterns and context management."
   ]
  },
  {
   "cell_type": "code",
   "execution_count": 1,
   "metadata": {},
   "outputs": [],
   "source": [
    "from lionagi import Branch, iModel"
   ]
  },
  {
   "cell_type": "markdown",
   "metadata": {},
   "source": [
    "## Pattern 1: Customer Service with Context\n",
    "\n",
    "Using `communicate()` to maintain conversation state:"
   ]
  },
  {
   "cell_type": "code",
   "execution_count": 2,
   "metadata": {},
   "outputs": [],
   "source": [
    "# Simple password reset function\n",
    "def reset_password(user_id: str) -> str:\n",
    "    \"\"\"Reset user password and return new temporary password.\"\"\"\n",
    "    return f\"Password reset for {user_id}. Temporary password: temp123\"\n",
    "\n",
    "\n",
    "# Customer service agent\n",
    "agent = Branch(\n",
    "    system=\"You are a helpful customer service agent. Be concise and friendly.\",\n",
    "    tools=[reset_password],\n",
    "    chat_model=iModel(model=\"openai/gpt-4.1-mini\"),\n",
    ")"
   ]
  },
  {
   "cell_type": "code",
   "execution_count": 3,
   "metadata": {},
   "outputs": [
    {
     "name": "stdout",
     "output_type": "stream",
     "text": [
      "Agent: Hi Alice! Sorry to hear you're having trouble logging in. Could you please let me know if you're seeing any error messages? Meanwhile, try resetting your password using the \"Forgot Password\" link. I'm here to help!\n",
      "\n",
      "Agent: No problem, Alice! You can reset your password by clicking the \"Forgot Password\" link on the login page. If you need, I can send you a password reset link—just let me know!\n"
     ]
    }
   ],
   "source": [
    "# Multi-turn conversation with context\n",
    "user_id = \"alice123\"\n",
    "\n",
    "# First message\n",
    "response1 = await agent.communicate(\n",
    "    \"Hi, I can't log into my account\", context={\"user_id\": user_id}\n",
    ")\n",
    "print(\"Agent:\", response1)\n",
    "\n",
    "# Follow-up (context is maintained)\n",
    "response2 = await agent.communicate(\"I think I need a password reset\")\n",
    "print(\"\\nAgent:\", response2)\n",
    "\n",
    "# Check if any tools were used\n",
    "if hasattr(agent, \"last_response\") and agent.last_response:\n",
    "    print(\n",
    "        f\"\\nTools used: {len([msg for msg in agent.messages if msg.role == 'action'])}\"\n",
    "    )"
   ]
  },
  {
   "cell_type": "markdown",
   "metadata": {},
   "source": [
    "## Pattern 2: Conversation with Memory\n",
    "\n",
    "Building context across multiple exchanges:"
   ]
  },
  {
   "cell_type": "code",
   "execution_count": 4,
   "metadata": {},
   "outputs": [
    {
     "name": "stdout",
     "output_type": "stream",
     "text": [
      "Assistant: Great! Since you prefer blue colors and a minimalist design, here are some personalized recommendations for you:\n",
      "\n",
      "1. **Blue Minimalist Wallet**  \n",
      "   Sleek, ultra-lightweight wallet in a solid blue tone with clean lines and no unnecessary embellishments.\n",
      "\n",
      "2. **Blue Ceramic Vase**  \n",
      "   A simple, matte-finish vase in a deep blue hue, perfect for minimalist décor and small floral arrangements.\n",
      "\n",
      "3. **Blue Silk Throw Pillow**  \n",
      "   Elegant pillow with a plain design, in a calming shade of blue — ideal for adding a touch of simplicity to your living space.\n",
      "\n",
      "4. **Minimalist Blue Bluetooth Speaker**  \n",
      "   Compact, intuitive design with a smooth blue exterior, offering high-quality sound with a sleek look.\n",
      "\n",
      "5. **Blue Monochrome Art Prints**  \n",
      "   Modern, abstract prints in varying shades of blue, framed in minimalist frames to enhance your wall décor.\n",
      "\n",
      "Would you like more options or help finding specific products?\n",
      "\n",
      "Assistant: Great! With a budget of $100-$200, here are some stylish, blue, minimalist products I recommend:\n",
      "\n",
      "1. **Blue Minimalist Wallet** – Approximately $50  \n",
      "   A sleek leather or vegan leather wallet in a beautiful blue shade, perfect for everyday use.\n",
      "\n",
      "2. **Blue Ceramic Vase** – About $40-$80  \n",
      "   A simple, matte-finish vase in deep blue, suitable for minimalist home décor.\n",
      "\n",
      "3. **Bluetooth Speaker** – Around $100-$150  \n",
      "   A compact, high-quality Bluetooth speaker in a minimalist design with a blue exterior.\n",
      "\n",
      "4. **Blue Silk Throw Pillow** – $60-$120  \n",
      "   Elegant, soft pillow in a calming blue tone to add subtle color to your living space.\n",
      "\n",
      "5. **Minimalist Art Prints** – $50-$100  \n",
      "   Modern blue-themed wall art, printed on quality paper and framed in minimalist frames.\n",
      "\n",
      "Would you like me to help you find specific brands or online stores to purchase these items?\n",
      "\n",
      "Recommendation: # Assistant Response\n",
      "\n",
      "**Response**:\n",
      "Since you prefer a minimalist design and blue colors, here are some great laptop options that fit your style and budget:\n",
      "\n",
      "1. **Apple MacBook Air (M2)** — Starting around $999  \n",
      "   Although slightly above your budget, it offers a sleek, minimalist design and excellent performance. Available in space gray and silver, but accessories or skins in blue can customize its look.\n",
      "\n",
      "2. **ASUS ZenBook 14** — Approximately $900-$1,200  \n",
      "   Known for its slim, minimalist design and vibrant display options. Some models feature elegant blue accents and a clean aesthetic.\n",
      "\n",
      "3. **Dell XPS 13** — Around $1,000-$1,500  \n",
      "   A beautifully designed, minimalist laptop with a premium build. While color options are limited, you can customize the exterior in subtle shades and add blue accessories.\n",
      "\n",
      "4. **HP Spectre x360** — About $1,000-$1,300  \n",
      "   Stylish, with a sleek design. Some models come with deep blue or navy color options, aligning with your preference.\n",
      "\n",
      "If your budget is around $200, a new high-performance laptop might be limited, but you could consider a high-quality used or refurbished model. Would you like help finding options within your budget or suggestions tailored more specifically?\n",
      "\n",
      "Conversation has 7 messages\n"
     ]
    }
   ],
   "source": [
    "# Shopping assistant that remembers preferences\n",
    "shopper = Branch(\n",
    "    system=\"You are a shopping assistant. Remember user preferences and make personalized recommendations.\"\n",
    ")\n",
    "\n",
    "# Build up preferences over time\n",
    "pref1 = await shopper.communicate(\"I like blue colors and minimalist design\")\n",
    "print(\"Assistant:\", pref1)\n",
    "\n",
    "pref2 = await shopper.communicate(\"My budget is around $100-200\")\n",
    "print(\"\\nAssistant:\", pref2)\n",
    "\n",
    "# Now ask for recommendations (uses accumulated context)\n",
    "rec = await shopper.communicate(\"What laptop should I buy?\")\n",
    "print(\"\\nRecommendation:\", rec)\n",
    "\n",
    "# Check conversation length\n",
    "print(f\"\\nConversation has {len(shopper.messages)} messages\")"
   ]
  },
  {
   "cell_type": "markdown",
   "metadata": {},
   "source": [
    "## Pattern 3: Conversation State Management\n",
    "\n",
    "Viewing and managing conversation history:"
   ]
  },
  {
   "cell_type": "code",
   "execution_count": 5,
   "metadata": {},
   "outputs": [
    {
     "name": "stdout",
     "output_type": "stream",
     "text": [
      "Conversation overview:\n",
      "        role                                            content\n",
      "0     system  {'system_message': 'You are a shopping assista...\n",
      "1       user  {'context': [], 'instruction': 'I like blue co...\n",
      "2  assistant  {'assistant_response': 'Great! Since you prefe...\n",
      "3       user  {'context': [], 'instruction': 'My budget is a...\n",
      "4  assistant  {'assistant_response': 'Great! With a budget o...\n",
      "\n",
      "User said 3 things\n",
      "Assistant responded 3 times\n"
     ]
    }
   ],
   "source": [
    "# View conversation as DataFrame\n",
    "conversation_df = shopper.to_df()\n",
    "print(\"Conversation overview:\")\n",
    "print(conversation_df[[\"role\", \"content\"]].head())\n",
    "\n",
    "# Get just user messages\n",
    "user_messages = [msg for msg in shopper.messages if msg.role == \"user\"]\n",
    "print(f\"\\nUser said {len(user_messages)} things\")\n",
    "\n",
    "# Get just assistant responses\n",
    "assistant_messages = [\n",
    "    msg for msg in shopper.messages if msg.role == \"assistant\"\n",
    "]\n",
    "print(f\"Assistant responded {len(assistant_messages)} times\")"
   ]
  },
  {
   "cell_type": "markdown",
   "metadata": {},
   "source": [
    "## Pattern 4: Context-Aware Operations\n",
    "\n",
    "Combining `operate()` with conversation context:"
   ]
  },
  {
   "cell_type": "code",
   "execution_count": 6,
   "metadata": {},
   "outputs": [],
   "source": [
    "def search_products(category: str, max_price: float) -> str:\n",
    "    \"\"\"Search for products in category under max price.\"\"\"\n",
    "    return f\"Found 5 {category} items under ${max_price}\"\n",
    "\n",
    "\n",
    "def add_to_cart(product_name: str) -> str:\n",
    "    \"\"\"Add product to shopping cart.\"\"\"\n",
    "    return f\"Added {product_name} to cart\"\n",
    "\n",
    "\n",
    "# Shopping bot with tools\n",
    "shop_bot = Branch(\n",
    "    system=\"You help users shop. Use tools when needed.\",\n",
    "    tools=[search_products, add_to_cart],\n",
    ")"
   ]
  },
  {
   "cell_type": "code",
   "execution_count": 7,
   "metadata": {},
   "outputs": [
    {
     "name": "stdout",
     "output_type": "stream",
     "text": [
      "\n",
      "Actions taken:\n",
      "- search_products: Found 5 wireless headphones items under $150\n"
     ]
    }
   ],
   "source": [
    "# Set shopping context\n",
    "await shop_bot.communicate(\"I'm looking for wireless headphones under $150\")\n",
    "\n",
    "# Use operate() with accumulated context\n",
    "result = await shop_bot.operate(\n",
    "    instruction=\"Find me some options and add the best one to my cart\",\n",
    "    actions=True,\n",
    ")\n",
    "\n",
    "print(\"\\nActions taken:\")\n",
    "for action in result.action_responses:\n",
    "    print(f\"- {action.function}: {action.output}\")"
   ]
  },
  {
   "cell_type": "markdown",
   "metadata": {},
   "source": [
    "## Key Patterns Summary\n",
    "\n",
    "1. **Contextual Communication**: Use `context` parameter to provide relevant information\n",
    "2. **Memory Building**: `communicate()` automatically maintains conversation history\n",
    "3. **State Inspection**: Access `branch.messages` and `branch.to_df()` to understand conversation\n",
    "4. **Context + Actions**: Combine conversation memory with `operate()` for context-aware tool usage\n",
    "\n",
    "These patterns form the foundation for building conversational AI applications!"
   ]
  }
 ],
 "metadata": {
  "kernelspec": {
   "display_name": "lionagi",
   "language": "python",
   "name": "python3"
  },
  "language_info": {
   "codemirror_mode": {
    "name": "ipython",
    "version": 3
   },
   "file_extension": ".py",
   "mimetype": "text/x-python",
   "name": "python",
   "nbconvert_exporter": "python",
   "pygments_lexer": "ipython3",
   "version": "3.10.15"
  }
 },
 "nbformat": 4,
 "nbformat_minor": 4
}
