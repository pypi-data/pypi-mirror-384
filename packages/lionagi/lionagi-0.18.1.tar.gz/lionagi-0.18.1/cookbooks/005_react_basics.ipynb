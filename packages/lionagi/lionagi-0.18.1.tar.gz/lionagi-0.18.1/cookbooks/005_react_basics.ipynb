{
 "cells": [
  {
   "cell_type": "markdown",
   "metadata": {},
   "source": [
    "# ReAct: Reasoning + Acting\n",
    "\n",
    "Building on:\n",
    "- **001-003**: Basic Branch usage and function calling\n",
    "- **004**: Conversation patterns and context\n",
    "\n",
    "**This notebook**: Introduction to ReAct - getting AI to think step-by-step and use tools strategically."
   ]
  },
  {
   "cell_type": "code",
   "execution_count": 1,
   "metadata": {},
   "outputs": [],
   "source": [
    "from lionagi import Branch, iModel\n",
    "import json\n",
    "from IPython.display import Markdown"
   ]
  },
  {
   "cell_type": "markdown",
   "metadata": {},
   "source": [
    "## What is ReAct?\n",
    "\n",
    "**ReAct** = **Reasoning** + **Acting**\n",
    "\n",
    "Instead of just giving an answer, the AI:\n",
    "1. **Thinks** about the problem (reasoning)\n",
    "2. **Uses tools** when needed (acting)\n",
    "3. **Repeats** until the problem is solved\n",
    "\n",
    "This creates more reliable, step-by-step problem solving."
   ]
  },
  {
   "cell_type": "markdown",
   "metadata": {},
   "source": [
    "## Simple Example: Math Problem Solver\n",
    "\n",
    "Let's start with a basic calculator that shows its reasoning:"
   ]
  },
  {
   "cell_type": "code",
   "execution_count": 2,
   "metadata": {},
   "outputs": [
    {
     "name": "stdout",
     "output_type": "stream",
     "text": [
      "Calculator ready with ReAct capabilities!\n"
     ]
    }
   ],
   "source": [
    "# Simple calculator functions\n",
    "def add(a: float, b: float) -> float:\n",
    "    \"\"\"Add two numbers.\"\"\"\n",
    "    return a + b\n",
    "\n",
    "\n",
    "def multiply(a: float, b: float) -> float:\n",
    "    \"\"\"Multiply two numbers.\"\"\"\n",
    "    return a * b\n",
    "\n",
    "\n",
    "def divide(a: float, b: float) -> float:\n",
    "    \"\"\"Divide two numbers.\"\"\"\n",
    "    if b == 0:\n",
    "        return \"Error: Cannot divide by zero\"\n",
    "    return a / b\n",
    "\n",
    "\n",
    "# Create a ReAct-enabled branch\n",
    "calculator = Branch(\n",
    "    system=\"You solve math problems step by step. Think about what you need to calculate, then use tools.\",\n",
    "    tools=[add, multiply, divide],\n",
    "    chat_model=iModel(model=\"openai/gpt-4.1-mini\"),\n",
    ")\n",
    "\n",
    "print(\"Calculator ready with ReAct capabilities!\")"
   ]
  },
  {
   "cell_type": "markdown",
   "metadata": {},
   "source": [
    "## Using ReAct for Problem Solving"
   ]
  },
  {
   "cell_type": "code",
   "execution_count": 3,
   "metadata": {},
   "outputs": [
    {
     "name": "stdout",
     "output_type": "stream",
     "text": [
      "Invoking action multiply with {'a': 3, 'b': 15.5}.\n",
      "Action multiply invoked, status: completed.\n"
     ]
    },
    {
     "data": {
      "text/markdown": [
       "### ReAct Round No.1 Analysis:\n",
       "```yaml\n",
       "analysis: First, calculate the total price for 3 items each costing $15.50 by multiplying 3 by 15.50. Then, calculate the 8% tax on the total price. Finally, add the tax to the total price to get the final cost including tax.\n",
       "planned_actions:\n",
       "  - action_type: multiply\n",
       "    description: Calculate the total price for 3 items at $15.50 each.\n",
       "extension_needed: True\n",
       "milestone: Calculate total item cost before tax.\n",
       "action_strategy: sequential\n",
       "action_required: True\n",
       "reason:\n",
       "  title: Step to find total cost before tax\n",
       "  content: We need the total item cost before applying the 8% tax to find the final total.\n",
       "  confidence_score: 1.0\n",
       "action_requests:\n",
       "  - function: multiply\n",
       "    arguments:\n",
       "      a: 3\n",
       "      b: 15.5\n",
       "action_responses:\n",
       "  - function: multiply\n",
       "    arguments:\n",
       "      a: 3\n",
       "      b: 15.5\n",
       "    output: 46.5\n",
       "```\n",
       "---------"
      ],
      "text/plain": [
       "<IPython.core.display.Markdown object>"
      ]
     },
     "metadata": {},
     "output_type": "display_data"
    },
    {
     "name": "stdout",
     "output_type": "stream",
     "text": [
      "Invoking action multiply with {'a': 46.5, 'b': 0.08}.\n",
      "Action multiply invoked, status: completed.\n"
     ]
    },
    {
     "data": {
      "text/markdown": [
       "### ReAct Round No.2 Analysis:\n",
       "```yaml\n",
       "analysis: Next, calculate the 8% tax on the total cost before tax, which is $46.5. This will give us the tax amount to be added to get the final total cost.\n",
       "planned_actions:\n",
       "  - action_type: multiply\n",
       "    description: Calculate the 8% tax on the total item cost of $46.5 by multiplying 46.5 by 0.08.\n",
       "extension_needed: True\n",
       "milestone: Calculate tax amount on total item cost.\n",
       "action_strategy: sequential\n",
       "action_required: True\n",
       "reason:\n",
       "  title: Calculate tax amount\n",
       "  content: We need to calculate 8% tax on the total item cost to find how much tax is added to the purchase.\n",
       "  confidence_score: 1.0\n",
       "action_requests:\n",
       "  - function: multiply\n",
       "    arguments:\n",
       "      a: 46.5\n",
       "      b: 0.08\n",
       "action_responses:\n",
       "  - function: multiply\n",
       "    arguments:\n",
       "      a: 46.5\n",
       "      b: 0.08\n",
       "    output: 3.72\n",
       "```\n",
       "---------"
      ],
      "text/plain": [
       "<IPython.core.display.Markdown object>"
      ]
     },
     "metadata": {},
     "output_type": "display_data"
    },
    {
     "name": "stdout",
     "output_type": "stream",
     "text": [
      "Invoking action add with {'a': 46.5, 'b': 3.72}.\n",
      "Action add invoked, status: completed.\n"
     ]
    },
    {
     "data": {
      "text/markdown": [
       "### ReAct Round No.3 Analysis:\n",
       "```yaml\n",
       "analysis: Now that we have the tax amount $3.72, we can add this to the initial total $46.5 to get the final cost including the 8% tax.\n",
       "planned_actions:\n",
       "  - action_type: add\n",
       "    description: Add the tax amount $3.72 to the total item cost $46.5 to get the final total cost including tax.\n",
       "extension_needed: True\n",
       "milestone: Calculate final total cost including tax.\n",
       "action_strategy: sequential\n",
       "action_required: True\n",
       "reason:\n",
       "  title: Calculate final total price\n",
       "  content: Adding the calculated tax amount to the original total item cost gives the final price including tax.\n",
       "  confidence_score: 1.0\n",
       "action_requests:\n",
       "  - function: add\n",
       "    arguments:\n",
       "      a: 46.5\n",
       "      b: 3.72\n",
       "action_responses:\n",
       "  - function: add\n",
       "    arguments:\n",
       "      a: 46.5\n",
       "      b: 3.72\n",
       "    output: 50.22\n",
       "```\n",
       "---------"
      ],
      "text/plain": [
       "<IPython.core.display.Markdown object>"
      ]
     },
     "metadata": {},
     "output_type": "display_data"
    },
    {
     "data": {
      "text/markdown": [
       "### ReAct Round No.4 Analysis:\n",
       "```yaml\n",
       "analysis: The total cost for 3 items at $15.50 each with an 8% tax included is $50.22. This includes the $46.50 total item price plus $3.72 tax.\n",
       "planned_actions:\n",
       "extension_needed: False\n",
       "milestone: Final total cost including tax calculated.\n",
       "action_strategy: sequential\n",
       "action_required: False\n",
       "reason:\n",
       "  title: Final calculation completed\n",
       "  content: All necessary calculations have been performed: total item cost, tax, and final total. The final amount is ready to present.\n",
       "  confidence_score: 1.0\n",
       "action_requests:\n",
       "```\n",
       "---------"
      ],
      "text/plain": [
       "<IPython.core.display.Markdown object>"
      ]
     },
     "metadata": {},
     "output_type": "display_data"
    },
    {
     "data": {
      "text/markdown": [
       "### ReAct Final Answer:\n",
       "The total cost for 3 items at $15.50 each, including an 8% tax, is $50.22.\n",
       "---------"
      ],
      "text/plain": [
       "<IPython.core.display.Markdown object>"
      ]
     },
     "metadata": {},
     "output_type": "display_data"
    },
    {
     "name": "stdout",
     "output_type": "stream",
     "text": [
      "\n",
      "🎯 Final Answer:\n",
      "The total cost for 3 items at $15.50 each, including an 8% tax, is $50.22.\n"
     ]
    }
   ],
   "source": [
    "# Problem: Calculate the total cost of 3 items at $15.50 each, plus 8% tax\n",
    "problem = (\n",
    "    \"I bought 3 items at $15.50 each. What's the total cost including 8% tax?\"\n",
    ")\n",
    "\n",
    "# Use ReAct to solve step-by-step\n",
    "solution = await calculator.ReAct(\n",
    "    instruct={\"instruction\": problem},\n",
    "    max_extensions=5,  # Limit the number of reasoning steps\n",
    "    verbose=True,  # Show the reasoning process\n",
    ")\n",
    "\n",
    "print(\"\\n🎯 Final Answer:\")\n",
    "print(solution)"
   ]
  },
  {
   "cell_type": "markdown",
   "metadata": {},
   "source": [
    "## Understanding the ReAct Process\n",
    "\n",
    "Let's look at what happened in the conversation:"
   ]
  },
  {
   "cell_type": "code",
   "execution_count": 4,
   "metadata": {},
   "outputs": [
    {
     "name": "stdout",
     "output_type": "stream",
     "text": [
      "Total conversation steps: 17\n",
      "\n",
      "Step-by-step breakdown:\n",
      "\n",
      "👤 User: {'context': [], 'instruction': \"I bought 3 items at $15.50 each. What's the total cost including 8% ...\n",
      "🤖 Assistant: {'assistant_response': '```json\\n{\"planned_actions\":[{\"action_type\":\"multiply\",\"description\":\"Calcul...\n",
      "🔧 Tool Used: {'action_request': {'function': 'multiply', 'arguments': {'a': 3, 'b': 15.5}}, 'action_response_id':...\n",
      "🔧 Tool Used: {'action_request_id': 'ba13cecd-f7ca-4e7d-8a57-3da9b182e183', 'action_response': {'function': 'multi...\n",
      "\n",
      "👤 User: {'context': [{'action_request_id': 'ba13cecd-f7ca-4e7d-8a57-3da9b182e183', 'action_response': {'func...\n",
      "🤖 Assistant: {'assistant_response': '```json\\n{\"planned_actions\":[{\"action_type\":\"multiply\",\"description\":\"Calcul...\n",
      "🔧 Tool Used: {'action_request': {'function': 'multiply', 'arguments': {'a': 46.5, 'b': 0.08}}, 'action_response_i...\n",
      "🔧 Tool Used: {'action_request_id': 'f1ee8c36-7267-4af9-9620-3c0732d4f039', 'action_response': {'function': 'multi...\n",
      "\n",
      "👤 User: {'context': [{'action_request_id': 'f1ee8c36-7267-4af9-9620-3c0732d4f039', 'action_response': {'func...\n",
      "🤖 Assistant: {'assistant_response': '```json\\n{\"planned_actions\":[{\"action_type\":\"add\",\"description\":\"Add the tax...\n",
      "🔧 Tool Used: {'action_request': {'function': 'add', 'arguments': {'a': 46.5, 'b': 3.72}}, 'action_response_id': '...\n",
      "🔧 Tool Used: {'action_request_id': 'bff82de9-aa9c-4902-b810-25e414a89ed9', 'action_response': {'function': 'add',...\n",
      "\n",
      "👤 User: {'context': [{'action_request_id': 'bff82de9-aa9c-4902-b810-25e414a89ed9', 'action_response': {'func...\n",
      "🤖 Assistant: {'assistant_response': '```json\\n{\"planned_actions\":[],\"extension_needed\":false,\"analysis\":\"The tota...\n",
      "\n",
      "👤 User: {'context': [], 'instruction': \"Given your reasoning and actions, please now provide the final answe...\n",
      "🤖 Assistant: {'assistant_response': '```json\\n{\"answer\":\"The total cost for 3 items at $15.50 each, including an ...\n"
     ]
    }
   ],
   "source": [
    "# View the reasoning steps\n",
    "conversation = calculator.to_df()\n",
    "print(f\"Total conversation steps: {len(conversation)}\")\n",
    "print(\"\\nStep-by-step breakdown:\")\n",
    "\n",
    "for i, row in conversation.iterrows():\n",
    "    if row[\"role\"] == \"user\":\n",
    "        print(f\"\\n👤 User: {str(row['content'])[:100]}...\")\n",
    "    elif row[\"role\"] == \"assistant\":\n",
    "        print(f\"🤖 Assistant: {str(row['content'])[:100]}...\")\n",
    "    elif row[\"role\"] == \"action\":\n",
    "        print(f\"🔧 Tool Used: {str(row['content'])[:100]}...\")"
   ]
  },
  {
   "cell_type": "markdown",
   "metadata": {},
   "source": [
    "## Practical Example: Research Assistant\n",
    "\n",
    "Let's build a simple research assistant that can look up information:"
   ]
  },
  {
   "cell_type": "code",
   "execution_count": 5,
   "metadata": {},
   "outputs": [],
   "source": [
    "# Simple \"database\" functions\n",
    "company_data = {\n",
    "    \"apple\": {\"founded\": 1976, \"employees\": 164000, \"revenue\": \"$394.3B\"},\n",
    "    \"google\": {\"founded\": 1998, \"employees\": 182000, \"revenue\": \"$307.4B\"},\n",
    "    \"microsoft\": {\"founded\": 1975, \"employees\": 238000, \"revenue\": \"$211.9B\"},\n",
    "}\n",
    "\n",
    "\n",
    "def lookup_company(name: str) -> str:\n",
    "    \"\"\"Look up information about a company.\"\"\"\n",
    "    name = name.lower()\n",
    "    if name in company_data:\n",
    "        data = company_data[name]\n",
    "        return f\"{name.title()}: Founded {data['founded']}, {data['employees']} employees, {data['revenue']} revenue\"\n",
    "    return f\"No data found for {name}\"\n",
    "\n",
    "\n",
    "def calculate_age(founded_year: int) -> int:\n",
    "    \"\"\"Calculate how old a company is.\"\"\"\n",
    "    from datetime import datetime\n",
    "\n",
    "    current_year = datetime.now().year\n",
    "    return current_year - founded_year\n",
    "\n",
    "\n",
    "# Research assistant with ReAct\n",
    "researcher = Branch(\n",
    "    system=\"You are a research assistant. Look up information and analyze it step by step.\",\n",
    "    tools=[lookup_company, calculate_age],\n",
    "    chat_model=iModel(model=\"openai/gpt-4.1-mini\"),\n",
    ")"
   ]
  },
  {
   "cell_type": "code",
   "execution_count": 6,
   "metadata": {},
   "outputs": [
    {
     "name": "stdout",
     "output_type": "stream",
     "text": [
      "Invoking action lookup_company with {'name': 'Google'}.\n",
      "Action lookup_company invoked, status: completed.\n",
      "Invoking action lookup_company with {'name': 'Microsoft'}.\n",
      "Action lookup_company invoked, status: completed.\n",
      "Invoking action lookup_company with {'name': 'Apple'}.\n",
      "Action lookup_company invoked, status: completed.\n"
     ]
    },
    {
     "data": {
      "text/markdown": [
       "### ReAct Round No.1 Analysis:\n",
       "```yaml\n",
       "analysis: To determine which company is the oldest among Apple, Google, and Microsoft, I need to find their respective founding years. With the founding years, I can then identify the oldest and newest among them and calculate how much older the oldest company is compared to the newest one.\n",
       "planned_actions:\n",
       "  - action_type: lookup_company\n",
       "    description: Look up founding years of Apple, Google, and Microsoft to determine which is oldest and calculate age differences.\n",
       "extension_needed: True\n",
       "milestone: Identify founding years of Apple, Google, and Microsoft.\n",
       "action_strategy: concurrent\n",
       "action_required: True\n",
       "reason:\n",
       "  title: Need founding years to compare company ages\n",
       "  content: The founding years are essential to knowing which company is the oldest and the age difference between the oldest and newest companies.\n",
       "  confidence_score: 1.0\n",
       "action_requests:\n",
       "  - function: lookup_company\n",
       "    arguments:\n",
       "      name: Apple\n",
       "  - function: lookup_company\n",
       "    arguments:\n",
       "      name: Google\n",
       "  - function: lookup_company\n",
       "    arguments:\n",
       "      name: Microsoft\n",
       "action_responses:\n",
       "  - function: lookup_company\n",
       "    arguments:\n",
       "      name: Apple\n",
       "    output: Apple: Founded 1976, 164000 employees, $394.3B revenue\n",
       "  - function: lookup_company\n",
       "    arguments:\n",
       "      name: Google\n",
       "    output: Google: Founded 1998, 182000 employees, $307.4B revenue\n",
       "  - function: lookup_company\n",
       "    arguments:\n",
       "      name: Microsoft\n",
       "    output: Microsoft: Founded 1975, 238000 employees, $211.9B revenue\n",
       "```\n",
       "---------"
      ],
      "text/plain": [
       "<IPython.core.display.Markdown object>"
      ]
     },
     "metadata": {},
     "output_type": "display_data"
    },
    {
     "data": {
      "text/markdown": [
       "### ReAct Round No.2 Analysis:\n",
       "```yaml\n",
       "analysis: The founding years are: Microsoft in 1975, Apple in 1976, and Google in 1998. Microsoft is the oldest company, and Google is the newest. The age difference between Microsoft (oldest) and Google (newest) is 23 years.\n",
       "planned_actions:\n",
       "extension_needed: False\n",
       "milestone: Determine oldest company and age difference from founding years.\n",
       "action_strategy: concurrent\n",
       "action_required: False\n",
       "reason:\n",
       "  title: Founding years obtained for all companies\n",
       "  content: Accurate founding years for Apple (1976), Google (1998), and Microsoft (1975) have been found, allowing determination of the oldest company and the age difference correctly.\n",
       "  confidence_score: 1.0\n",
       "action_requests:\n",
       "```\n",
       "---------"
      ],
      "text/plain": [
       "<IPython.core.display.Markdown object>"
      ]
     },
     "metadata": {},
     "output_type": "display_data"
    },
    {
     "data": {
      "text/markdown": [
       "### ReAct Final Answer:\n",
       "Microsoft is the oldest company, founded in 1975. Google is the newest, founded in 1998. Therefore, Microsoft is 23 years older than Google.\n",
       "---------"
      ],
      "text/plain": [
       "<IPython.core.display.Markdown object>"
      ]
     },
     "metadata": {},
     "output_type": "display_data"
    },
    {
     "name": "stdout",
     "output_type": "stream",
     "text": [
      "\n",
      "📊 Research Result:\n",
      "Microsoft is the oldest company, founded in 1975. Google is the newest, founded in 1998. Therefore, Microsoft is 23 years older than Google.\n"
     ]
    }
   ],
   "source": [
    "# Research question\n",
    "question = \"Which company is oldest: Apple, Google, or Microsoft? How much older is the oldest than the newest?\"\n",
    "\n",
    "# Let ReAct figure out the steps\n",
    "research_result = await researcher.ReAct(\n",
    "    instruct={\"instruction\": question}, max_extensions=10, verbose=True\n",
    ")\n",
    "\n",
    "print(\"\\n📊 Research Result:\")\n",
    "print(research_result)"
   ]
  },
  {
   "cell_type": "markdown",
   "metadata": {},
   "source": [
    "## ReAct vs Regular Function Calling\n",
    "\n",
    "Let's compare ReAct with regular `operate()` to see the difference:"
   ]
  },
  {
   "cell_type": "code",
   "execution_count": 7,
   "metadata": {},
   "outputs": [
    {
     "name": "stdout",
     "output_type": "stream",
     "text": [
      "🔧 Regular operate() result:\n",
      "\n",
      "Tools used: 3\n",
      "\n",
      "==================================================\n",
      "🧠 ReAct approach showed more reasoning steps and systematic problem solving!\n"
     ]
    }
   ],
   "source": [
    "# Regular function calling approach\n",
    "regular_branch = Branch(\n",
    "    system=\"Answer questions about companies.\",\n",
    "    tools=[lookup_company, calculate_age],\n",
    "    chat_model=iModel(model=\"openai/gpt-4.1-mini\"),\n",
    ")\n",
    "\n",
    "# Same question, different approach\n",
    "regular_result = await regular_branch.operate(\n",
    "    instruction=question, actions=True\n",
    ")\n",
    "\n",
    "print(\"🔧 Regular operate() result:\")\n",
    "print(f\"\\nTools used: {len(regular_result.action_responses)}\")\n",
    "\n",
    "print(\"\\n\" + \"=\" * 50)\n",
    "print(\n",
    "    \"🧠 ReAct approach showed more reasoning steps and systematic problem solving!\"\n",
    ")"
   ]
  },
  {
   "cell_type": "markdown",
   "metadata": {},
   "source": [
    "## When to Use ReAct\n",
    "\n",
    "**ReAct is best for:**\n",
    "- Complex, multi-step problems\n",
    "- When you want to see the reasoning process\n",
    "- Problems that need strategic tool use\n",
    "- Research and analysis tasks\n",
    "\n",
    "**Regular `operate()` is better for:**\n",
    "- Simple, single-step actions\n",
    "- When you just want the answer quickly\n",
    "- Straightforward tool usage"
   ]
  },
  {
   "cell_type": "markdown",
   "metadata": {},
   "source": [
    "## Simple ReAct Configuration\n",
    "\n",
    "Key parameters you can control:"
   ]
  },
  {
   "cell_type": "code",
   "execution_count": 8,
   "metadata": {},
   "outputs": [
    {
     "name": "stdout",
     "output_type": "stream",
     "text": [
      "Quick ReAct: 10 * 5 + 3 = 50 + 3 = 53\n",
      "Invoking action multiply with {'a': 15, 'b': 4}.\n",
      "Action multiply invoked, status: completed.\n",
      "Invoking action divide with {'a': 20, 'b': 5}.\n",
      "Action divide invoked, status: completed.\n"
     ]
    },
    {
     "data": {
      "text/markdown": [
       "### ReAct Round No.1 Analysis:\n",
       "```yaml\n",
       "analysis: The expression is (15 * 4) + (20 / 5) - 3. Based on order of operations, calculate multiplications and divisions first: 15 * 4 and 20 / 5. Then, proceed to additions and subtractions.\n",
       "planned_actions:\n",
       "  - action_type: multiply\n",
       "    description: Calculate 15 * 4 as the first part of the expression.\n",
       "  - action_type: divide\n",
       "    description: Calculate 20 / 5 as the second part of the expression.\n",
       "extension_needed: True\n",
       "milestone: Complete multiplication and division steps\n",
       "action_strategy: concurrent\n",
       "action_required: True\n",
       "reason:\n",
       "  title: Stepwise calculation to break down expression\n",
       "  content: By first calculating the multiplication and division parts, the expression simplifies correctly for the next steps.\n",
       "  confidence_score: 1.0\n",
       "action_requests:\n",
       "  - function: multiply\n",
       "    arguments:\n",
       "      a: 15\n",
       "      b: 4\n",
       "  - function: divide\n",
       "    arguments:\n",
       "      a: 20\n",
       "      b: 5\n",
       "action_responses:\n",
       "  - function: multiply\n",
       "    arguments:\n",
       "      a: 15\n",
       "      b: 4\n",
       "    output: 60\n",
       "  - function: divide\n",
       "    arguments:\n",
       "      a: 20\n",
       "      b: 5\n",
       "    output: 4.0\n",
       "```\n",
       "---------"
      ],
      "text/plain": [
       "<IPython.core.display.Markdown object>"
      ]
     },
     "metadata": {},
     "output_type": "display_data"
    },
    {
     "name": "stdout",
     "output_type": "stream",
     "text": [
      "Invoking action add with {'a': 60, 'b': 4.0}.\n",
      "Action add invoked, status: completed.\n"
     ]
    },
    {
     "data": {
      "text/markdown": [
       "### ReAct Round No.2 Analysis:\n",
       "```yaml\n",
       "analysis: We have calculated 15 * 4 = 60 and 20 / 5 = 4.0. Now, to follow the expression (15 * 4) + (20 / 5) - 3, we first add 60 and 4.0, then subtract 3.\n",
       "planned_actions:\n",
       "  - action_type: add\n",
       "    description: Add the results of multiplication (60) and division (4.0).\n",
       "  - action_type: add\n",
       "    description: Subtract 3 from the sum of previous addition to complete the expression.\n",
       "extension_needed: True\n",
       "milestone: Sum multiplication and division results, then subtract 3\n",
       "action_strategy: sequential\n",
       "action_required: True\n",
       "reason:\n",
       "  title: Stepwise evaluation\n",
       "  content: By adding the intermediate results first, we simplify the problem and then finish by subtracting 3, ensuring accuracy.\n",
       "  confidence_score: 1.0\n",
       "action_requests:\n",
       "  - function: add\n",
       "    arguments:\n",
       "      a: 60\n",
       "      b: 4.0\n",
       "action_responses:\n",
       "  - function: add\n",
       "    arguments:\n",
       "      a: 60\n",
       "      b: 4.0\n",
       "    output: 64.0\n",
       "```\n",
       "---------"
      ],
      "text/plain": [
       "<IPython.core.display.Markdown object>"
      ]
     },
     "metadata": {},
     "output_type": "display_data"
    },
    {
     "name": "stdout",
     "output_type": "stream",
     "text": [
      "Invoking action add with {'a': 64.0, 'b': -3}.\n",
      "Action add invoked, status: completed.\n"
     ]
    },
    {
     "data": {
      "text/markdown": [
       "### ReAct Round No.3 Analysis:\n",
       "```yaml\n",
       "analysis: We have the partial sum 64.0 from (15 * 4) + (20 / 5). The last operation is to subtract 3 from 64.0 to finalize the expression (15 * 4) + (20 / 5) - 3.\n",
       "planned_actions:\n",
       "  - action_type: add\n",
       "    description: Subtract 3 from the sum of previous results (64.0) to complete the expression.\n",
       "extension_needed: True\n",
       "milestone: Complete subtraction to finish expression evaluation\n",
       "action_strategy: sequential\n",
       "action_required: True\n",
       "reason:\n",
       "  title: Final subtraction step\n",
       "  content: Subtracting 3 from the partial sum completes the evaluation of the given expression.\n",
       "  confidence_score: 1.0\n",
       "action_requests:\n",
       "  - function: add\n",
       "    arguments:\n",
       "      a: 64.0\n",
       "      b: -3\n",
       "action_responses:\n",
       "  - function: add\n",
       "    arguments:\n",
       "      a: 64.0\n",
       "      b: -3\n",
       "    output: 61.0\n",
       "```\n",
       "---------"
      ],
      "text/plain": [
       "<IPython.core.display.Markdown object>"
      ]
     },
     "metadata": {},
     "output_type": "display_data"
    },
    {
     "data": {
      "text/markdown": [
       "### ReAct Round No.4 Analysis:\n",
       "```yaml\n",
       "analysis: All calculations are complete: 15 * 4 = 60, 20 / 5 = 4.0, sum is 64.0, and subtracting 3 results in 61.0. We can now provide the final answer.\n",
       "planned_actions:\n",
       "  - action_type:\n",
       "\n",
       "    description: Provide the final answer to the user after completing all calculations.\n",
       "extension_needed: False\n",
       "milestone: Provide final answer\n",
       "action_strategy: sequential\n",
       "action_required: False\n",
       "reason:\n",
       "  title: Final step\n",
       "  content: The expression has been fully evaluated step-by-step with confidence.\n",
       "  confidence_score: 1.0\n",
       "action_requests:\n",
       "```\n",
       "---------"
      ],
      "text/plain": [
       "<IPython.core.display.Markdown object>"
      ]
     },
     "metadata": {},
     "output_type": "display_data"
    },
    {
     "data": {
      "text/markdown": [
       "### ReAct Final Answer:\n",
       "(15 * 4) + (20 / 5) - 3 = 60 + 4.0 - 3 = 61.0\n",
       "---------"
      ],
      "text/plain": [
       "<IPython.core.display.Markdown object>"
      ]
     },
     "metadata": {},
     "output_type": "display_data"
    },
    {
     "name": "stdout",
     "output_type": "stream",
     "text": [
      "\n",
      "Detailed ReAct: (15 * 4) + (20 / 5) - 3 = 60 + 4.0 - 3 = 61.0\n"
     ]
    }
   ],
   "source": [
    "# Different ReAct configurations\n",
    "demo_branch = Branch(\n",
    "    system=\"You solve problems step by step.\",\n",
    "    tools=[add, multiply, divide],\n",
    "    chat_model=iModel(model=\"openai/gpt-4.1-mini\"),\n",
    ")\n",
    "\n",
    "# Quick ReAct (fewer steps)\n",
    "quick_result = await demo_branch.ReAct(\n",
    "    instruct={\"instruction\": \"What's 10 * 5 + 3?\"},\n",
    "    max_extensions=10,\n",
    "    verbose=False,  # Hide reasoning steps\n",
    ")\n",
    "\n",
    "print(\"Quick ReAct:\", quick_result)\n",
    "\n",
    "# Detailed ReAct (more steps)\n",
    "detailed_result = await demo_branch.ReAct(\n",
    "    instruct={\"instruction\": \"Calculate (15 * 4) + (20 / 5) - 3\"},\n",
    "    max_extensions=10,\n",
    "    verbose=True,  # Show reasoning steps\n",
    ")\n",
    "\n",
    "print(\"\\nDetailed ReAct:\", detailed_result)"
   ]
  },
  {
   "cell_type": "markdown",
   "metadata": {},
   "source": [
    "## Key Takeaways\n",
    "\n",
    "**ReAct Pattern:**\n",
    "1. 🧠 **Think** about what needs to be done\n",
    "2. 🔧 **Act** using available tools\n",
    "3. 🔄 **Repeat** until problem is solved\n",
    "\n",
    "**Benefits:**\n",
    "- More reliable problem solving\n",
    "- Transparent reasoning process\n",
    "- Better handling of complex tasks\n",
    "- Strategic tool usage\n",
    "\n",
    "**Next**: You now understand ReAct fundamentals! This prepares you for more advanced reasoning patterns and complex workflows."
   ]
  }
 ],
 "metadata": {
  "kernelspec": {
   "display_name": "lionagi",
   "language": "python",
   "name": "python3"
  },
  "language_info": {
   "codemirror_mode": {
    "name": "ipython",
    "version": 3
   },
   "file_extension": ".py",
   "mimetype": "text/x-python",
   "name": "python",
   "nbconvert_exporter": "python",
   "pygments_lexer": "ipython3",
   "version": "3.10.15"
  }
 },
 "nbformat": 4,
 "nbformat_minor": 4
}
