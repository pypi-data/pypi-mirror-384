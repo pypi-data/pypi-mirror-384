{
 "cells": [
  {
   "cell_type": "code",
   "execution_count": null,
   "id": "d2ceb407",
   "metadata": {},
   "outputs": [],
   "source": [
    "from lionagi.service.connections.endpoint_config import EndpointConfig\n",
    "from lionagi.service.imodel import Endpoint\n",
    "from lionagi.service.connections.providers.claude_code_cli import (\n",
    "    ClaudeCodeRequest,\n",
    ")\n",
    "\n",
    "claude_code_config = EndpointConfig(\n",
    "    name=\"claude_code_cli_proxy\",\n",
    "    provider=\"claude_code\",\n",
    "    base_url=\"http://localhost:8000/v1\",\n",
    "    endpoint=\"query\",\n",
    "    api_key=\"dummy_api_key\",\n",
    "    kwargs={\"model\": \"sonnet\"},\n",
    ")\n",
    "claude_code = Endpoint(claude_code_config)"
   ]
  },
  {
   "cell_type": "code",
   "execution_count": null,
   "id": "5fc216f4",
   "metadata": {},
   "outputs": [],
   "source": [
    "# prompt = \"reply in text only, Write a Python function to calculate the factorial of a number.\"\n",
    "\n",
    "# await claude_code.call(request=ClaudeCodeRequest(prompt=prompt))"
   ]
  },
  {
   "cell_type": "code",
   "execution_count": null,
   "id": "4c173814",
   "metadata": {},
   "outputs": [],
   "source": [
    "from lionagi import iModel\n",
    "\n",
    "claude_code = iModel(endpoint=claude_code)"
   ]
  },
  {
   "cell_type": "code",
   "execution_count": null,
   "id": "fe6dcca4",
   "metadata": {},
   "outputs": [],
   "source": [
    "result = await claude_code.invoke(\n",
    "    messages=[\n",
    "        {\n",
    "            \"role\": \"user\",\n",
    "            \"content\": \"reply in text only, Write a Python function to calculate the factorial of a number.\",\n",
    "        }\n",
    "    ]\n",
    ")"
   ]
  },
  {
   "cell_type": "code",
   "execution_count": null,
   "id": "88db9e9a",
   "metadata": {},
   "outputs": [],
   "source": [
    "result.response"
   ]
  }
 ],
 "metadata": {
  "kernelspec": {
   "display_name": "lionagi",
   "language": "python",
   "name": "python3"
  },
  "language_info": {
   "codemirror_mode": {
    "name": "ipython",
    "version": 3
   },
   "file_extension": ".py",
   "mimetype": "text/x-python",
   "name": "python",
   "nbconvert_exporter": "python",
   "pygments_lexer": "ipython3",
   "version": "3.10.15"
  }
 },
 "nbformat": 4,
 "nbformat_minor": 5
}
