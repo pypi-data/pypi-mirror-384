{
 "cells": [
  {
   "cell_type": "markdown",
   "id": "f163c17b-d49e-47c2-863a-bd4dd42e0871",
   "metadata": {},
   "source": [
    "# rubin_nights demo\n",
    "\n",
    "The rubin_nights package provides simple utilties to accessing the EFD, the ConsDB and various logging reports. \n"
   ]
  },
  {
   "cell_type": "code",
   "execution_count": null,
   "id": "b18aca7c-21b0-4b0a-9a49-2238f05baa65",
   "metadata": {},
   "outputs": [],
   "source": [
    "from astropy.time import Time, TimeDelta\n",
    "from IPython.display import Markdown, display, HTML\n",
    "\n",
    "from rubin_nights import connections"
   ]
  },
  {
   "cell_type": "markdown",
   "id": "5a7d65d6-8b35-4f6d-bdd7-00a023097ee5",
   "metadata": {},
   "source": [
    "## Gather connection information and authorization\n",
    "\n",
    "In the USDF (usdf-rsp or usdf-rsp-dev) or summit RSP, the default is to connect to the services appropriate to the same RSP.\n",
    "\n",
    "Outside of these RSPs, the default is to connect to the production USDF services at usdf-rsp.slac.stanford.edu, although the usdf-rsp-dev is available as well. Note that outside of the RSP, an RSP token will be required. See https://rsp.lsst.io/v/usdfprod/guides/auth/creating-user-tokens.html for more information about creating tokens (and note that tokens created on usdf-rsp are different than those on usdf-rsp-dev and must match the services being queried). "
   ]
  },
  {
   "cell_type": "code",
   "execution_count": null,
   "id": "aebbe615-b382-4544-96fc-4aa593d20f13",
   "metadata": {},
   "outputs": [],
   "source": [
    "on_rsp = False\n",
    "# Are you on an RSP?\n",
    "if on_rsp:\n",
    "    tokenfile = None\n",
    "    site = None\n",
    "# Or are you outside of an RSP? - just use USDF and your own USDF-RSP token\n",
    "# See https://rsp.lsst.io/guides/auth/creating-user-tokens.html\n",
    "else:\n",
    "    # Substitute the location of your own tokenfile\n",
    "    # If you prefer, this will also get token info from an \"ACCESS_TOKEN\" environment variable\n",
    "    tokenfile = \"/Users/lynnej/.lsst/usdf_rsp\"\n",
    "    site = 'usdf'\n",
    "\n",
    "endpoints = connections.get_clients(tokenfile = tokenfile, site=site)"
   ]
  },
  {
   "cell_type": "markdown",
   "id": "cf9b868f-1a86-455f-bfd7-1fefaf933554",
   "metadata": {},
   "source": [
    "The services available and their endpoints:"
   ]
  },
  {
   "cell_type": "code",
   "execution_count": null,
   "id": "8fd6b0f4-271a-4551-aa25-7a1b12f7bbdd",
   "metadata": {},
   "outputs": [],
   "source": [
    "endpoints"
   ]
  },
  {
   "cell_type": "code",
   "execution_count": null,
   "id": "ab66d754-d7e8-4fda-a731-c92256f0d9cc",
   "metadata": {},
   "outputs": [],
   "source": [
    "# Example of choosing to connect to the usdf-rsp-dev services instead\n",
    "endpoints_dev = connections.get_clients(tokenfile ='/Users/lynnej/.lsst/usdf_dev', site='usdf-dev')\n",
    "endpoints_dev"
   ]
  },
  {
   "cell_type": "markdown",
   "id": "c91be3ad-cc24-48c1-972c-e18b1189e62f",
   "metadata": {},
   "source": [
    "## Querying for data\n",
    "\n",
    "Each of these services has different data. A basic query setup along the lines of \"what happened on a given night\" is included with most of the connection classes, and demonstrated below. \n",
    "Each connection also supports more general queries, `endpoints[\"xxx\"].query` but the details of what to include to specify such a query depends on the service. \n",
    "\n",
    "More information: \n",
    "* [night report](https://usdf-rsp.slac.stanford.edu/nightreport/docs#/default/find_nightreports_reports_get)\n",
    "* [narrative log](https://usdf-rsp.slac.stanford.edu/narrativelog/docs#/default/find_messages_messages_get)\n",
    "* [exposure log](https://usdf-rsp.slac.stanford.edu/exposurelog/docs#/default/find_messages_messages_get)\n",
    "* [Consdb Schema](https://sdm-schemas.lsst.io/) - see also [consdb technote](https://dmtn-227.lsst.io/)\n",
    "    * [consdb FastAPI](https://usdf-rsp.slac.stanford.edu/consdb/docs#/default/query_consdb_query_post)\n",
    "    * [consdb_TAP](https://pyvo.readthedocs.io/en/latest/dal/index.html#pyvo-tap)\n",
    "* [EFD Schema](https://ts-xml.lsst.io/) - see also [lsst-efd-client documentation](https://efd-client.lsst.io/index.html)\n"
   ]
  },
  {
   "cell_type": "code",
   "execution_count": null,
   "id": "14a3df03-62e9-4ad6-8bcc-cfaf346ac0be",
   "metadata": {},
   "outputs": [],
   "source": [
    "# Let's pick a day_obs to query \n",
    "# day_obs = the local calendar date of the start (sunset) of a night\n",
    "day_obs = \"2025-04-15\"\n",
    "# the day_obs is applied to the entire time from noon UTC to next-noon\n",
    "t_start = Time(f\"{day_obs}T12:00:00\", format='isot', scale='utc')\n",
    "t_end = t_start + TimeDelta(1, format='jd')\n",
    "t_start.iso, t_end.iso"
   ]
  },
  {
   "cell_type": "markdown",
   "id": "871240ef-0bff-44cd-9f5e-e9bf557f4468",
   "metadata": {},
   "source": [
    "---\n",
    "    \n",
    "### Night report\n",
    "\n",
    "The night report is a summary of the observing state. There is one for each telescope. "
   ]
  },
  {
   "cell_type": "code",
   "execution_count": null,
   "id": "2d20beb9-7f7d-4380-8bf2-9b5319057410",
   "metadata": {},
   "outputs": [],
   "source": [
    "nightreport, html = endpoints['night_report'].query_night_report(day_obs=day_obs, telescope=\"Simonyi\", return_html=True)\n",
    "display(HTML(html))"
   ]
  },
  {
   "cell_type": "markdown",
   "id": "de626083-d1cb-451d-ad25-1b3b65ed1e46",
   "metadata": {},
   "source": [
    "---\n",
    "\n",
    "### Narrative log\n",
    "\n",
    "The narrative log is an ongoing record of comments regarding observing and the observatory state.\n",
    "When paired with further information about the scriptqueue, it provides valuable insights into observatory operations."
   ]
  },
  {
   "cell_type": "code",
   "execution_count": null,
   "id": "55aca817-a41a-4c46-95e8-7e7b36bf703d",
   "metadata": {},
   "outputs": [],
   "source": [
    "log = endpoints['narrative_log'].query_log(t_start, t_end)\n",
    "# The log is indexed by time such that it can be joined with EFD data.\n",
    "display(HTML(log[['component', 'message_text', 'user_id']].iloc[21:35].to_html()))"
   ]
  },
  {
   "cell_type": "markdown",
   "id": "953cf8dc-89e8-4e71-a290-fc6da7652325",
   "metadata": {},
   "source": [
    "---\n",
    "\n",
    "### Exposure log\n",
    "\n",
    "The exposure log provides a record for annotations on particular images. It tends to be very sparsely populated."
   ]
  },
  {
   "cell_type": "code",
   "execution_count": null,
   "id": "a1de4a90-06dc-417b-bd26-c646ef4ed02d",
   "metadata": {},
   "outputs": [],
   "source": [
    "exposurelog = endpoints['exposure_log'].query_log(t_start, t_end)\n",
    "# Exposure log needs to be joined with other data sources (exposure id <-> exposure time) in order to have a useful \"time\" value. \n",
    "exposurelog"
   ]
  },
  {
   "cell_type": "markdown",
   "id": "f2d8b4fb-e911-4e2f-8591-355a73aeddc3",
   "metadata": {},
   "source": [
    "---\n",
    "\n",
    "### ConsDB\n",
    "\n",
    "The consolidated database is still in development. For more information on contents, see [sdm-schemas](https://sdm-schemas.lsst.io/). \n",
    "For more information on development, see also [consdb technote](https://dmtn-227.lsst.io/). \n",
    "\n",
    "The TAP service is intended to be the future API for users, and is currently available on all USDF platforms (and summit?). \n",
    "The FastAPI service is available on at the USDF as well as the summit. This interface is intended to be deprecated in favor of TAP, but does perform better presently.\n",
    "\n",
    "See also the ConsDB demo notebook in this repo. "
   ]
  },
  {
   "cell_type": "code",
   "execution_count": null,
   "id": "f08c62d0-d270-47a3-ac98-4fe13b31be62",
   "metadata": {},
   "outputs": [],
   "source": [
    "# Let's pick a different day_obs to query - 2025-04-15 is nice but many of the visits were missing metadata\n",
    "# day_obs = the local calendar date of the start (sunset) of a night\n",
    "day_obs = \"2025-06-20\"\n",
    "# the day_obs is applied to the entire time from noon UTC to next-noon\n",
    "t_start = Time(f\"{day_obs}T12:00:00\", format='isot', scale='utc')\n",
    "t_end = t_start + TimeDelta(1, format='jd')\n",
    "t_start.iso, t_end.iso"
   ]
  },
  {
   "cell_type": "code",
   "execution_count": null,
   "id": "c0604a5b-20c3-4e1f-adbd-107c8c961e97",
   "metadata": {
    "scrolled": true
   },
   "outputs": [],
   "source": [
    "visits_api = endpoints['consdb'].get_visits('lsstcam', t_start, t_end, augment=False)\n",
    "visits_tap = endpoints['consdb_tap'].get_visits('lsstcam', t_start, t_end, augment=False)\n",
    "print(len(visits_api), len(visits_tap))"
   ]
  },
  {
   "cell_type": "code",
   "execution_count": null,
   "id": "18ddcc7c-d205-477e-ae2f-a7642f138e2a",
   "metadata": {},
   "outputs": [],
   "source": [
    "short_cols = ['obs_start', 'obs_start_mjd', 's_ra', 's_dec', 'sky_rotation', 'band', \n",
    "         'airmass', 'psf_sigma_median', 'zero_point_median', 'img_type', 'target_name', 'observation_reason', 'science_program']\n",
    "if len(visits_api) == 0:\n",
    "    print(\"Did not find any visits\")\n",
    "else:\n",
    "    display(visits_api[short_cols].iloc[200:210])"
   ]
  },
  {
   "cell_type": "code",
   "execution_count": null,
   "id": "15168060-1e11-4bc1-99ea-3b7adb0a5983",
   "metadata": {},
   "outputs": [],
   "source": [
    "from rubin_nights.augment_visits import augment_visits"
   ]
  },
  {
   "cell_type": "code",
   "execution_count": null,
   "id": "ab7cebe7-1c66-44d2-b133-dd1d187206a1",
   "metadata": {},
   "outputs": [],
   "source": [
    "query = \"select v.*, q.zero_point_median, q.sky_bg_median from cdb_lsstcomcam.visit1 as v, cdb_lsstcomcam.visit1_quicklook as q\"\n",
    "query += \" where q.visit_id = v.visit_id and v.science_program = 'BLOCK-320'\"\n",
    "print(query)\n",
    "# Either of these methods will work - query issues are more clear through TAP\n",
    "#visits_lsstcomcam = endpoints['consdb_tap'].query(query)\n",
    "visits_lsstcomcam = endpoints['consdb'].query(query)\n",
    "visits_lsstcomcam = augment_visits(visits_lsstcomcam, \"lsstcomcam\")\n",
    "print(f\"Retrieved {len(visits_lsstcomcam)} visits\") # should retrieve 1694 visits\n",
    "cols = ['obs_start', 'obs_start_mjd', 's_ra', 's_dec', 'sky_rotation', 'band', 'exp_time', 'zero_point_median', 'sky_bg_median',\n",
    "         'airmass', 'img_type', 'target_name', 'observation_reason', 'science_program', 'visit_gap', 'clouds']\n",
    "visits_lsstcomcam[cols].tail()"
   ]
  },
  {
   "cell_type": "markdown",
   "id": "8832adc1-ed34-4908-99ee-4b214b12ae8e",
   "metadata": {},
   "source": [
    "---\n",
    "\n",
    "### EFD\n",
    "\n",
    "There is a full client for the EFD (see [efd-lsst-client](https://efd-client.lsst.io/)) but a simple, synchronous query client is provided here that replicates the basics of the API.\n",
    "Finding information in the EFD can be challenging; see [the XML specifications](https://ts-xml.lsst.io/) - after identifying the CSC that is the source of the information, the commands and logentry information can be linked to the specifications for each topic."
   ]
  },
  {
   "cell_type": "code",
   "execution_count": null,
   "id": "a35acbed-c5d2-48ec-ad00-c7a5f71775fa",
   "metadata": {},
   "outputs": [],
   "source": [
    "targets = endpoints['efd'].select_time_series('lsst.sal.Scheduler.logevent_target', '*', t_start, t_end, index=1)\n",
    "targets.tail()"
   ]
  },
  {
   "cell_type": "code",
   "execution_count": null,
   "id": "3fa5882b-768d-4f44-bf5d-264e1cd4047d",
   "metadata": {},
   "outputs": [],
   "source": [
    "prev_targets = endpoints['efd'].select_top_n('lsst.sal.Scheduler.logevent_target', '*', num=3, time_cut=t_start)\n",
    "prev_targets"
   ]
  },
  {
   "cell_type": "code",
   "execution_count": null,
   "id": "b77bf869-bf5e-4c74-8dfc-c61372f70f2b",
   "metadata": {},
   "outputs": [],
   "source": [
    "query = \"select message, traceback, salIndex from \\\"lsst.sal.Script.logevent_logMessage\\\"\"\n",
    "query += f\"where time >= \\'{t_start.isot}Z\\' and time <= \\'{t_end.isot}Z\\' and traceback != ''\"\n",
    "tracebacks = endpoints['efd'].query(query)\n",
    "display(HTML(tracebacks[['salIndex', 'message', 'traceback']].head().to_html(escape=True)))"
   ]
  },
  {
   "cell_type": "markdown",
   "id": "6b1f8cde-8fb0-4ee4-a46b-f03394ac4869",
   "metadata": {},
   "source": [
    "---\n",
    "\n",
    "### Obs-env\n",
    "\n",
    "This is likely uninteresting for anyone outside of summit and survey scheduling teams, but provides more details on the packages set up and in use at a given time at the summit."
   ]
  },
  {
   "cell_type": "code",
   "execution_count": null,
   "id": "53d55f9e-11bb-4750-a24f-3e1881cbe510",
   "metadata": {},
   "outputs": [],
   "source": [
    "obsenv = endpoints['obsenv'].select_time_series('lsst.obsenv.summary', '*', t_start, t_end)\n",
    "obsenv_start = endpoints['obsenv'].select_top_n('lsst.obsenv.summary', '*', num=1, time_cut=t_start)\n",
    "obsenv_start"
   ]
  },
  {
   "cell_type": "code",
   "execution_count": null,
   "id": "3f772e88-e1a0-45ef-a89d-1b4f14d7e526",
   "metadata": {},
   "outputs": [],
   "source": []
  }
 ],
 "metadata": {
  "kernelspec": {
   "display_name": "Python 3 (ipykernel)",
   "language": "python",
   "name": "python3"
  },
  "language_info": {
   "codemirror_mode": {
    "name": "ipython",
    "version": 3
   },
   "file_extension": ".py",
   "mimetype": "text/x-python",
   "name": "python",
   "nbconvert_exporter": "python",
   "pygments_lexer": "ipython3",
   "version": "3.13.1"
  }
 },
 "nbformat": 4,
 "nbformat_minor": 5
}
