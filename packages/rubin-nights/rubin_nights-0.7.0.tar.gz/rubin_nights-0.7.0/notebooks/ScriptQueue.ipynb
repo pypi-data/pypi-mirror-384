{
 "cells": [
  {
   "cell_type": "markdown",
   "id": "57751df4-efe6-4e05-88e5-d142824f5633",
   "metadata": {},
   "source": [
    "## ScriptQueue Miner ##\n",
    "\n",
    "An illustration of using the ScriptQueue query tools, which are behind the \"SQ Miner\" notebook on Times Square."
   ]
  },
  {
   "cell_type": "code",
   "execution_count": null,
   "id": "29379908-6d04-40c4-98f6-bf4644e177cf",
   "metadata": {},
   "outputs": [],
   "source": [
    "import os\n",
    "import numpy as np\n",
    "import pandas as pd \n",
    "from astropy.time import Time, TimeDelta\n",
    "\n",
    "from IPython.display import display, HTML\n",
    "from rubin_nights import connections\n",
    "from rubin_nights import scriptqueue\n",
    "from rubin_nights import scriptqueue_formatting\n",
    "from rubin_nights.ts_xml_enums import SalIndexExtended\n",
    "\n",
    "import logging\n",
    "logging.getLogger('rubin_nights').setLevel(logging.INFO)"
   ]
  },
  {
   "cell_type": "code",
   "execution_count": null,
   "id": "88d74097-ad98-4615-8954-5055443d6baa",
   "metadata": {},
   "outputs": [],
   "source": [
    "# Test if running in an RSP - if so, token and site will be automatic\n",
    "if os.getenv(\"EXTERNAL_INSTANCE_URL\") is None:\n",
    "    # Outside of an RSP, you will need an RSP token\n",
    "    # See https://rsp.lsst.io/guides/auth/creating-user-tokens.html \n",
    "    tokenfile = \"/Users/lynnej/.lsst/usdf_rsp\"\n",
    "    site = \"usdf\"\n",
    "    #tokenfile = \"/Users/lynnej/.lsst/summit_rsp\"\n",
    "    #site = \"summit\"\n",
    "else:\n",
    "    tokenfile = None\n",
    "    site = None\n",
    "    \n",
    "print(f\"Using site {site}\")\n",
    "endpoints = connections.get_clients(tokenfile=tokenfile, site=site)"
   ]
  },
  {
   "cell_type": "code",
   "execution_count": null,
   "id": "b600b8dc-d93f-4977-b2c5-be0f6e0a345b",
   "metadata": {},
   "outputs": [],
   "source": [
    "from zoneinfo import ZoneInfo\n",
    "tz = ZoneInfo(\"Chile/Continental\")\n",
    "tz_utc = ZoneInfo(\"UTC\")\n",
    "tz_pacific = ZoneInfo(\"America/Los_Angeles\")\n",
    "\n",
    "t = Time.now()\n",
    "print(\"UTC time\", t.utc.to_datetime(timezone=tz_utc))\n",
    "print(\"Chilean time\", t.utc.to_datetime(timezone=tz))\n",
    "print(\"Pacific time\", t.utc.to_datetime(timezone=tz_pacific))"
   ]
  },
  {
   "cell_type": "code",
   "execution_count": null,
   "id": "0e14f251-7935-48a5-90a7-3e4564684b52",
   "metadata": {},
   "outputs": [],
   "source": [
    "# Search based on dayobs?\n",
    "day_obs = \"2025-08-26\"\n",
    "t_start = Time(f\"{day_obs}T12:00:00\", format='isot', scale='utc')\n",
    "t_end = t_start + TimeDelta(1, format='jd')\n",
    "\n",
    "# Search based on current time and previous sunset to now?\n",
    "# from astroplan import Observer\n",
    "# observer = Observer.at_site('Rubin')\n",
    "# t_start = observer.sun_set_time(Time.now(), which='previous')\n",
    "# t_end = Time.now\n",
    "\n",
    "#Search for the last few hours \n",
    "#t_start = Time.now() - TimeDelta(2*60*60, format='sec')\n",
    "#t_end = Time.now()\n",
    "\n",
    "print(f\"Querying for messages from {t_start.iso} to {t_end.iso}\")\n",
    "print(f\"Notebook executed at {Time.now().utc.iso}\")\n",
    "efd_and_messages, cols = scriptqueue.get_consolidated_messages(t_start, t_end, endpoints)"
   ]
  },
  {
   "cell_type": "code",
   "execution_count": null,
   "id": "e41f309d-897a-4e4e-9b3a-566a894e3004",
   "metadata": {},
   "outputs": [],
   "source": [
    "mt = [i.value for i in SalIndexExtended if \"SIMONYI\" in i.name or \"OTHER\" in i.name or \"MAIN\" in i.name or \"OCS\" in i.name]\n",
    "at = [i.value for i in SalIndexExtended if \"AUX\" in i.name or \"OTHER\" in i.name ]\n",
    "simonyi = scriptqueue_formatting.format_html(efd_and_messages, cols=cols, time_order='newest first', show_salIndex=mt)\n",
    "auxtel = scriptqueue_formatting.format_html(efd_and_messages, cols=cols, time_order='newest first', show_salIndex=at)\n",
    "both = scriptqueue_formatting.format_html(efd_and_messages, cols=cols, time_order='newest first')\n",
    "display(HTML(both))"
   ]
  },
  {
   "cell_type": "code",
   "execution_count": null,
   "id": "3dc5bbf5-e34d-48db-8a0b-e47beb2d72e1",
   "metadata": {},
   "outputs": [],
   "source": [
    "#tracebacks = scriptqueue.get_all_tracebacks(t_start, t_end, endpoints['efd'])\n",
    "#display(HTML(tracebacks.tail(10).to_html()))"
   ]
  },
  {
   "cell_type": "code",
   "execution_count": null,
   "id": "dd9d2d2e-0132-429c-af92-59614e410a69",
   "metadata": {},
   "outputs": [],
   "source": []
  }
 ],
 "metadata": {
  "kernelspec": {
   "display_name": "Python 3 (ipykernel)",
   "language": "python",
   "name": "python3"
  },
  "language_info": {
   "codemirror_mode": {
    "name": "ipython",
    "version": 3
   },
   "file_extension": ".py",
   "mimetype": "text/x-python",
   "name": "python",
   "nbconvert_exporter": "python",
   "pygments_lexer": "ipython3",
   "version": "3.13.1"
  }
 },
 "nbformat": 4,
 "nbformat_minor": 5
}
