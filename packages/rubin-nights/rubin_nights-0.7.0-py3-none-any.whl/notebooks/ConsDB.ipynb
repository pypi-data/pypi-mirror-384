{
 "cells": [
  {
   "cell_type": "code",
   "execution_count": null,
   "id": "8caadf58-6859-47f4-bce5-d7aefea1bb33",
   "metadata": {},
   "outputs": [],
   "source": [
    "# pip install git+https://github.com/lsst-sims/rubin_nights.git\n",
    "import os\n",
    "import numpy as np\n",
    "from astropy.time import Time\n",
    "\n",
    "from rubin_nights.connections import get_clients, get_access_token\n",
    "from rubin_nights.consdb_query import ConsDbTap, ConsDbFastAPI, ConsDbSql\n",
    "from rubin_nights.augment_visits import augment_visits, exclude_visits, fetch_excluded_visits\n",
    "from rubin_nights.targets_and_visits import targets_and_visits, flag_potential_bad_visits"
   ]
  },
  {
   "cell_type": "markdown",
   "id": "9edda9b0-7d3c-4ae1-b595-e35f712b2de4",
   "metadata": {},
   "source": [
    "## Query the ConsDB \n",
    "\n",
    "First, set up the location and authentication for the ConsDB.\n",
    "\n",
    "If you are on an RSP - you're good to go, this will be taken care of automatically for you.\n",
    "If you are outside an RSP, choose which site you'd like to use and identify your RSP token. "
   ]
  },
  {
   "cell_type": "code",
   "execution_count": null,
   "id": "a75cd26f-1fe8-4eff-9ec7-09c8860bd4ea",
   "metadata": {},
   "outputs": [],
   "source": [
    "on_rsp = False\n",
    "# Are you on an RSP?\n",
    "if on_rsp:\n",
    "    api_base = os.getenv(\"EXTERNAL_INSTANCE_URL\", \"\")\n",
    "    token = get_access_token()\n",
    "    site = None\n",
    "# Or are you outside of an RSP? - just use USDF and your own USDF-RSP token\n",
    "# See https://rsp.lsst.io/guides/auth/creating-user-tokens.html\n",
    "else:\n",
    "    api_base = \"https://usdf-rsp.slac.stanford.edu\"\n",
    "    # Substitute the location of your own tokenfile\n",
    "    # If you prefer, this will also get token info from an \"ACCESS_TOKEN\" environment variable\n",
    "    tokenfile = \"/Users/lynnej/.lsst/usdf_rsp\"\n",
    "    token = get_access_token(tokenfile)\n",
    "    site = 'usdf'\n",
    "    \n",
    "consdb_tap = ConsDbTap(api_base=api_base, token=token)\n",
    "consdb_fastapi = ConsDbFastAPI(api_base=api_base, auth=('user', token))\n",
    "\n",
    "# The ConsDbSql access will only work within the USDF or Summit, but connects using postgres directly \n",
    "# and then runs queries through pandas. \n",
    "if on_rsp:\n",
    "    consdb_sql = ConsDbSql(site=\"usdf\")"
   ]
  },
  {
   "cell_type": "markdown",
   "id": "e531a7df-366c-4383-97de-66c6ba94a5a6",
   "metadata": {},
   "source": [
    "It's worth noting that the queries below are much faster when run at the RSP, and speeds generally get faster from consdb_sql -> consdb_fastapi -> consdb_tap. However, errors due to sql are easier to find and correct using consdb_tap or possibly consdb_sql than consdb_fastapi, which does not always pass back the proper sql errors (instead just giving a 500 https error). "
   ]
  },
  {
   "cell_type": "markdown",
   "id": "4cd9f2ed-30bc-4435-855c-74146ec0d308",
   "metadata": {},
   "source": [
    "General queries are supported and the results can be manipulated as dataframes. See [sdm-schemas.lsst.io](https://sdm-schemas.lsst.io) for more information on available data."
   ]
  },
  {
   "cell_type": "code",
   "execution_count": null,
   "id": "dac58c4d-0408-4ce8-aed6-f22221ce8804",
   "metadata": {},
   "outputs": [],
   "source": [
    "# Here is a simple query\n",
    "query = \"select * from cdb_lsstcam.visit1 where science_program = 'BLOCK-365' and day_obs=20250621\""
   ]
  },
  {
   "cell_type": "code",
   "execution_count": null,
   "id": "55f47ebf-6b41-4332-a8b0-e9eb942cb599",
   "metadata": {},
   "outputs": [],
   "source": [
    "%%time\n",
    "visits = consdb_fastapi.query(query)\n",
    "print(len(visits))\n",
    "print(visits.columns)"
   ]
  },
  {
   "cell_type": "code",
   "execution_count": null,
   "id": "b6f008a8-b628-45cc-bd3f-c2834ee81ab7",
   "metadata": {},
   "outputs": [],
   "source": [
    "%%time\n",
    "visits2 = consdb_tap.query(query)\n",
    "print(len(visits2))\n",
    "print(visits2.columns)"
   ]
  },
  {
   "cell_type": "code",
   "execution_count": null,
   "id": "188486a5-51e7-4741-b0fb-21e7792574eb",
   "metadata": {},
   "outputs": [],
   "source": [
    "np.all(visits['visit_id'] == visits2['visit_id'])"
   ]
  },
  {
   "cell_type": "code",
   "execution_count": null,
   "id": "99d206b1-c73e-4662-99be-430526053f9c",
   "metadata": {},
   "outputs": [],
   "source": [
    "visits.head()[['visit_id', 'obs_start', 's_ra', 's_dec', 'sky_rotation', 'band', 'target_name', 'observation_reason']]"
   ]
  },
  {
   "cell_type": "code",
   "execution_count": null,
   "id": "b3e042f3-8fd0-4528-946c-e727da1fe3a0",
   "metadata": {},
   "outputs": [],
   "source": [
    "visits.groupby(['target_name', 'band']).agg({'obs_start': ('first', 'last', 'count')})"
   ]
  },
  {
   "cell_type": "markdown",
   "id": "941fb3b9-0940-47ef-89c6-1c3b62c3fa76",
   "metadata": {},
   "source": [
    "There is also a convenience function to query all visit1 and visit1_quicklook data between two times. This is inherited from the parent class, for any of the Consdb (specific service) class above. "
   ]
  },
  {
   "cell_type": "code",
   "execution_count": null,
   "id": "4a10bcc1-f20e-41cb-94d2-59ac8954124f",
   "metadata": {},
   "outputs": [],
   "source": [
    "t_start = Time(\"2025-06-20T12:00:00\", format='isot', scale='tai')\n",
    "t_end = Time(\"2025-06-21T12:00:00\", format='isot', scale='tai')\n",
    "\n",
    "visits = consdb_fastapi.get_visits(\"lsstcam\", t_start, t_end, visit_constraint=\"science_program = 'BLOCK-365'\", augment=False)\n",
    "print(len(visits))\n",
    "visits.head()"
   ]
  },
  {
   "cell_type": "markdown",
   "id": "2c6e209b-9aa3-4e28-92b3-6b370ff04ee7",
   "metadata": {},
   "source": [
    "## Add extra computed values \n",
    "\n",
    "There is a function to add some additional useful columns, such as the predicted zeropoint (which can be used to estimate cloud extinction) or moon separation, along with additional values useful to match the opsim schema."
   ]
  },
  {
   "cell_type": "code",
   "execution_count": null,
   "id": "e2d2a700-2f23-4346-bfbd-b983c984d259",
   "metadata": {},
   "outputs": [],
   "source": [
    "visits_plus = augment_visits(visits)\n",
    "# What columns are added?\n",
    "set(visits_plus.columns) - set(visits.columns)"
   ]
  },
  {
   "cell_type": "markdown",
   "id": "f294e7b4-d63e-4d32-91a6-ac9b3f2ec1c9",
   "metadata": {},
   "source": [
    "## Removing bad visits\n",
    "\n",
    "DM maintains a repo at [excluded_visits](https://github.com/lsst-dm/excluded_visits) to track known bad visits, and you can automatically download bad visits from this repo."
   ]
  },
  {
   "cell_type": "code",
   "execution_count": null,
   "id": "c8faa582-1fa3-471c-9a03-9b805809b90b",
   "metadata": {},
   "outputs": [],
   "source": [
    "bad_visit_ids = fetch_excluded_visits(instrument=\"lsstcam\")\n",
    "bad_visit_ids = [b for b in bad_visit_ids if b in visits.visit_id.values]\n",
    "print(np.sort(bad_visit_ids))\n",
    "better_visits = exclude_visits(visits=visits, bad_visit_ids=bad_visit_ids)\n",
    "print(len(visits), len(better_visits))"
   ]
  },
  {
   "cell_type": "markdown",
   "id": "1c6787bf-3acf-479d-bdb8-781f4fbea465",
   "metadata": {},
   "source": [
    "## Targets and Visits \n",
    "\n",
    "The `lsst.sal.Scheduler.logevent_target` and `lsst.sal.Scheduler.logevent_observation`, coupled with `lsst.sal.Scheduler.logevent_nextvisit` can provide additional useful information, including the salIndex of the script which generated the observation. These can be retrieve with `targets_and_visits`. \n",
    "\n",
    "Potential bad visits can also be marked by the lack of an `observation` event following the `target` (indicating the script failed somewhere), the lack of `quicklook` values (indicating the image failed processing, although it can also just indicate that rapid analysis was unable to write to the ConsDB .. plus there are many reasons why a visit might fail processing), or a large offset between the expected zeropoint and the measured zeropoint for the image. This can be useful to flag some suspect visits, but does not identify all bad visits, nor are all visits thus-identified actually bad."
   ]
  },
  {
   "cell_type": "code",
   "execution_count": null,
   "id": "b775051c-a317-407b-afdd-91b48c616020",
   "metadata": {},
   "outputs": [],
   "source": [
    "# This requires querying the EFD as well as the ConsDB\n",
    "endpoints = get_clients(tokenfile, site)\n",
    "target_visits, cols, target_obs, nv, v = targets_and_visits(t_start, t_end, endpoints, queue_index=1)"
   ]
  },
  {
   "cell_type": "code",
   "execution_count": null,
   "id": "a01d5d73-112c-470a-aea8-d9ab369cc425",
   "metadata": {},
   "outputs": [],
   "source": [
    "target_visits.head()[['time_target', 'time_nextvisit', 'time_observation', 'scriptSalIndex', 'groupId','obs_start', 'observation_reason',  'target_name', 'band']]"
   ]
  },
  {
   "cell_type": "code",
   "execution_count": null,
   "id": "a4e27ce0-bf22-4d5b-840c-657b01da6a23",
   "metadata": {},
   "outputs": [],
   "source": [
    "# Flag bad visits with 1.5 magnitudes or more of extinction and if there is no quicklook values\n",
    "flagged_visit_ids = flag_potential_bad_visits(target_visits,  extinction = 1.5, no_quicklook = True)\n",
    "print(np.sort(flagged_visit_ids))\n",
    "better_visits = exclude_visits(visits=visits, bad_visit_ids=flagged_visit_ids)\n",
    "print(len(visits), len(better_visits))"
   ]
  },
  {
   "cell_type": "code",
   "execution_count": null,
   "id": "41b63a3e-755b-4093-b544-72930ca71c9c",
   "metadata": {},
   "outputs": [],
   "source": []
  }
 ],
 "metadata": {
  "kernelspec": {
   "display_name": "Python 3 (ipykernel)",
   "language": "python",
   "name": "python3"
  },
  "language_info": {
   "codemirror_mode": {
    "name": "ipython",
    "version": 3
   },
   "file_extension": ".py",
   "mimetype": "text/x-python",
   "name": "python",
   "nbconvert_exporter": "python",
   "pygments_lexer": "ipython3",
   "version": "3.13.1"
  }
 },
 "nbformat": 4,
 "nbformat_minor": 5
}
