{
 "cells": [
  {
   "cell_type": "markdown",
   "id": "f13463e1-b397-445b-abe1-c7bbc6d7ab2f",
   "metadata": {},
   "source": [
    "# Alert Stream and Visits \n",
    "\n",
    "Query the number of diaSources reported in `lsst.prompt.prod.numDiaSourcesGood` and merge with visit information."
   ]
  },
  {
   "cell_type": "code",
   "execution_count": null,
   "id": "9988e198-9c3b-4702-bf30-f809cabffc5a",
   "metadata": {},
   "outputs": [],
   "source": [
    "import os\n",
    "from astropy.time import Time, TimeDelta\n",
    "from IPython.display import display, HTML\n",
    "from rubin_nights import connections\n",
    "from rubin_nights.influx_query import InfluxQueryClient\n",
    "import rubin_nights.dayobs_utils as rn_dayobs\n",
    "\n",
    "import numpy as np\n",
    "import pandas as pd \n",
    "\n",
    "import matplotlib.pyplot as plt\n",
    "\n",
    "import rubin_nights.plot_utils as rn_plots\n",
    "colors = rn_plots.PlotStyles.band_colors\n",
    "markers = rn_plots.PlotStyles.band_symbols\n",
    "\n",
    "import logging\n",
    "logging.getLogger('rubin_nights').setLevel(logging.INFO)"
   ]
  },
  {
   "cell_type": "code",
   "execution_count": null,
   "id": "87d827a2-f186-4271-bb1d-9a51845f0aec",
   "metadata": {},
   "outputs": [],
   "source": [
    "# Connect using your tokenfile and appropriate site \n",
    "tokenfile = \"/Users/lynnej/.lsst/usdf_rsp\"\n",
    "site = \"usdf\"\n",
    "endpoints = connections.get_clients(tokenfile, site)"
   ]
  },
  {
   "cell_type": "code",
   "execution_count": null,
   "id": "24e6db59-a67e-4b5f-b341-9e3fad977e75",
   "metadata": {},
   "outputs": [],
   "source": [
    "day_obs = 20250920\n",
    "\n",
    "# Find start and end of the night\n",
    "tstart, tend = rn_dayobs.day_obs_sunset_sunrise(day_obs, sun_alt=-12)\n",
    "\n",
    "#tstart = Time(\"2025-09-20T12:00:00\")\n",
    "#tend = Time.now()\n",
    "\n",
    "sasquatch = InfluxQueryClient(\"usdfdev\", db_name=\"lsst.prompt\")\n",
    "tt = sasquatch.select_time_series(\"lsst.prompt.prod.numDiaSourcesGood\", \n",
    "                                  [\"visit\", \"band\", \"day_obs\", \"detector\", \"dataset_tag\", \"numAllDiaSources\", \"numGoodDiaSources\", \"run\"], \n",
    "                                  tstart, tend)\n",
    "if len(tt) > 0:\n",
    "    alertsum = tt.groupby(\"visit\").agg({'numAllDiaSources': 'sum', 'numGoodDiaSources': ('sum', 'median'), 'detector': 'count'})\n",
    "    alertsum.index = alertsum.index.astype(int)\n",
    "    cols = [f\"{c[0]}_{c[1]}\" for c in alertsum.columns]\n",
    "    alertsum = alertsum.droplevel(level=0, axis=1)\n",
    "    alertsum.columns = cols\n",
    "    alertsum.rename({\"detector_count\": \"nDiaDetectors_count\"}, axis=1, inplace=True)\n",
    "else:\n",
    "    print(\"no alerts\")"
   ]
  },
  {
   "cell_type": "code",
   "execution_count": null,
   "id": "53917a4a-f050-47d5-aa44-d4d8cc5c2534",
   "metadata": {},
   "outputs": [],
   "source": [
    "fields = ['visit', 'exposure', 'detector', 'day_obs', 'ra', 'dec', 'band', 'nPsfStar', 'psfArea', 'psfSigma', 'skyBg', 'skyNoise', 'zeroPoint']\n",
    "#tt2 = sasquatch.select_time_series(\"lsst.prompt.prod.initialPviSummaryMetrics\", fields, tstart, tend)"
   ]
  },
  {
   "cell_type": "code",
   "execution_count": null,
   "id": "8355e86a-762c-40f9-883d-7c745d95b459",
   "metadata": {},
   "outputs": [],
   "source": [
    "visits = endpoints['consdb'].get_visits(\"lsstcam\", tstart, tend, visit_constraint=\"science_program = 'BLOCK-365'\")"
   ]
  },
  {
   "cell_type": "code",
   "execution_count": null,
   "id": "6c5979e2-f463-4336-b382-ef0b99bf30ff",
   "metadata": {},
   "outputs": [],
   "source": [
    "print(\"number of block-365 visits:\", len(visits))\n",
    "print(\"number of visits with alerts:\", len(alertsum))"
   ]
  },
  {
   "cell_type": "code",
   "execution_count": null,
   "id": "4ad00dd3-cfbc-468d-8f1e-75f0b9a0704c",
   "metadata": {},
   "outputs": [],
   "source": [
    "if len(visits) > 0 and len(alertsum) > 0:\n",
    "    vv = pd.merge(visits, alertsum, left_on='visit_id', right_index=True, how='outer')\n",
    "    cols = ['visit_id', 'observation_reason', 'obs_start', 'band', 's_ra', 's_dec', 'sky_rotation', 'clouds', \n",
    "        'fwhm_eff', 'cat_m5', 'numGoodDiaSources_sum', 'numGoodDiaSources_median', 'nDiaDetectors_count']\n",
    "    #display(vv[cols])"
   ]
  },
  {
   "cell_type": "code",
   "execution_count": null,
   "id": "6196a711-b532-47cb-b50a-41f44645e68b",
   "metadata": {},
   "outputs": [],
   "source": [
    "if len(vv) > 0:\n",
    "    #vv = vv.query(\"not observation_reason.str.contains('ddf')\")\n",
    "    fig, ax = plt.subplots(1, 2, figsize=(16, 8))\n",
    "    for tt in ['ddf', 'pair', 'other']:\n",
    "        if tt == 'other':\n",
    "            qq = vv.query(\"~observation_reason.str.contains('pair') and ~observation_reason.str.contains('ddf')\")\n",
    "        else:\n",
    "            qq = vv.query(\"observation_reason.str.contains(@tt)\")\n",
    "        if tt == 'ddf':\n",
    "            marker='^'\n",
    "        else:\n",
    "            marker = 'o'\n",
    "        for b in qq.band.unique():\n",
    "            dq = qq.query(\"band == @b\")\n",
    "            for d in dq.day_obs.unique():\n",
    "                q = dq.query(\"day_obs == @d\")\n",
    "                if len(q) > 0:\n",
    "                    if not np.all(np.isnan(q.cat_m5)) and not np.all(np.isnan(q.numGoodDiaSources_sum)):\n",
    "                        ax[0].scatter(q.cat_m5, q.numGoodDiaSources_sum, s=q.nDiaDetectors_count/189*18 + 5, #color=colors[b], \n",
    "                                      marker=marker, linestyle='', label=f\"{b} {tt} {d}\")\n",
    "    #ax[0].legend()\n",
    "    ax[0].set_xlabel(\"estimated limiting magnitude\", fontsize='large')\n",
    "    ax[0].set_ylabel(\"nGoodDiaSources per visit\", fontsize='large')\n",
    "    ax[0].set_title(f\"Dayobs {day_obs}\", fontsize='large')\n",
    "\n",
    "    for tt in ['ddf', 'pair', 'other']:\n",
    "        if tt == 'other':\n",
    "            qq = vv.query(\"~observation_reason.str.contains('pair') and ~observation_reason.str.contains('ddf')\")\n",
    "        else:\n",
    "            qq = vv.query(\"observation_reason.str.contains(@tt)\")\n",
    "        if tt == 'ddf':\n",
    "            marker='^'\n",
    "        else:\n",
    "            marker = 'o'\n",
    "        for b in qq.band.unique():\n",
    "            dq = qq.query(\"band == @b\")\n",
    "            for d in dq.day_obs.unique():\n",
    "                q = dq.query(\"day_obs == @d\")\n",
    "                if len(q) > 0:\n",
    "                    if not np.all(np.isnan(q.cat_m5)) and not np.all(np.isnan(q.numGoodDiaSources_sum)):\n",
    "                        ax[1].scatter(q.nDiaDetectors_count, q.numGoodDiaSources_sum, s=(q.cat_m5 - q.cat_m5.min())*5 + 9, #color=colors[b], \n",
    "                                      marker=marker, linestyle='', label=f\"{b} {tt} {d}\")\n",
    "    ax[1].legend(loc=(1.01, 0.1))\n",
    "    ax[1].set_xlabel(\"nDiaDetectors per visit\")\n",
    "    ax[1].set_ylabel(\"nGoodDiaSources per visit\", fontsize='large')\n",
    "    ax[1].set_title(f\"Dayobs {day_obs}\", fontsize='large')"
   ]
  },
  {
   "cell_type": "code",
   "execution_count": null,
   "id": "eb09de11-65c0-4005-ae6c-8d8da6bd5e47",
   "metadata": {},
   "outputs": [],
   "source": [
    "fig, ax = plt.subplots(6, 1, figsize=(8, 12), sharex=True)\n",
    "\n",
    "fig.subplots_adjust(hspace=0.1)\n",
    "i = 0\n",
    "for b in vv.band.unique():\n",
    "    q = vv.query(\"band == @b\")\n",
    "    ax[i].plot(q.obs_start_mjd, q.fwhm_eff, linestyle='', marker=markers[b], color=colors[b], label=b)\n",
    "ax[i].plot(vv.obs_start_mjd, vv.fwhm_eff, '-', color='gray', alpha=0.3, zorder=0)\n",
    "ax[i].legend(loc=(1.01, 0.5))\n",
    "ax[i].set_ylabel(\"fwhm (arcsecond)\")\n",
    "ax[i].grid(alpha=0.3)\n",
    "i += 1\n",
    "for b in vv.band.unique():\n",
    "    q = vv.query(\"band == @b\")\n",
    "    ax[i].plot(q.obs_start_mjd, q.clouds, linestyle='', marker=markers[b], color=colors[b], label=b)\n",
    "ax[i].plot(vv.obs_start_mjd, vv.clouds, '-', color='gray', alpha=0.3, zorder=0)\n",
    "ax[i].legend(loc=(1.01, 0.5))\n",
    "ax[i].set_ylabel(\"cloud extinction\")\n",
    "ax[i].grid(alpha=0.3)\n",
    "i += 1\n",
    "for b in vv.band.unique():\n",
    "    q = vv.query(\"band == @b\")\n",
    "    ax[i].plot(q.obs_start_mjd, q.cat_m5, linestyle='', marker=markers[b], color=colors[b], label=b)\n",
    "ax[i].plot(vv.obs_start_mjd, vv.cat_m5, '-', color='gray', alpha=0.3, zorder=0)\n",
    "ax[i].legend(loc=(1.01, 0.5))\n",
    "ax[i].set_ylabel(\"estimated m5\")\n",
    "ax[i].grid(alpha=0.3)\n",
    "i += 1\n",
    "for b in vv.band.unique():\n",
    "    q = vv.query(\"band == @b\")\n",
    "    ax[i].plot(q.obs_start_mjd, q.numGoodDiaSources_median*189, linestyle='', marker='o', color='none', markeredgecolor=colors[b])\n",
    "    ax[i].plot(q.obs_start_mjd, q.numGoodDiaSources_sum, linestyle='', marker=markers[b], color=colors[b], label=b)\n",
    "ax[i].plot(vv.obs_start_mjd, vv.numGoodDiaSources_sum, '-', color='gray', alpha=0.3, zorder=0)\n",
    "ax[i].legend(loc=(1.01, 0.5))\n",
    "ax[i].set_ylabel(\"Number DiaSources\")\n",
    "ax[i].set_ylim(-10, vv.numGoodDiaSources_sum.max() * 1.2)\n",
    "ax[i].grid(alpha=0.3)\n",
    "i += 1\n",
    "for b in vv.band.unique():\n",
    "    q = vv.query(\"band == @b\")\n",
    "    ax[i].plot(q.obs_start_mjd, q.nDiaDetectors_count, linestyle='', marker=markers[b], color=colors[b], label=b)\n",
    "ax[i].plot(vv.obs_start_mjd, vv.nDiaDetectors_count, '-', color='gray', alpha=0.3, zorder=0)\n",
    "ax[i].legend(loc=(1.01, 0.5))\n",
    "ax[i].set_ylabel(\"NDetectors\")\n",
    "ax[i].set_ylim(0, 189)\n",
    "ax[i].grid(alpha=0.3)\n",
    "i += 1\n",
    "for b in vv.band.unique():\n",
    "    q = vv.query(\"band == @b\")\n",
    "    ax[i].plot(q.obs_start_mjd, q.eclip_lat, linestyle='', marker=markers[b], color=colors[b], label=b)\n",
    "ax[i].plot(vv.obs_start_mjd, vv.eclip_lat, '-', color='gray', alpha=0.3, zorder=0)\n",
    "ax[i].legend(loc=(1.01, 0.5))\n",
    "ax[i].set_ylabel(\"Ecliptic Latitude\")\n",
    "ax[i].grid(alpha=0.3)\n",
    "_ = fig.suptitle(f\"DayObs {day_obs}\", y=0.92)"
   ]
  },
  {
   "cell_type": "code",
   "execution_count": null,
   "id": "924aab99-7fa4-4e31-a405-a94a786c31dd",
   "metadata": {},
   "outputs": [],
   "source": []
  }
 ],
 "metadata": {
  "kernelspec": {
   "display_name": "Python 3 (ipykernel)",
   "language": "python",
   "name": "python3"
  },
  "language_info": {
   "codemirror_mode": {
    "name": "ipython",
    "version": 3
   },
   "file_extension": ".py",
   "mimetype": "text/x-python",
   "name": "python",
   "nbconvert_exporter": "python",
   "pygments_lexer": "ipython3",
   "version": "3.13.1"
  }
 },
 "nbformat": 4,
 "nbformat_minor": 5
}
