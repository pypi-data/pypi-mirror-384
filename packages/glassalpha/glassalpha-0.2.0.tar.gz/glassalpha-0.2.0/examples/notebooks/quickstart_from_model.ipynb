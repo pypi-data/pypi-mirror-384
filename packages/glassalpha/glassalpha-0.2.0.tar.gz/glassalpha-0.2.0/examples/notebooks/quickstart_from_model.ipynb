{
 "cells": [
  {
   "cell_type": "markdown",
   "metadata": {},
   "source": [
    "# Quickstart: 3-Line Audit with `from_model()`\n",
    "\n",
    "This notebook demonstrates the programmatic API for GlassAlpha - auditing a model in 3 lines without YAML configs.\n",
    "\n",
    "**What you'll learn:**\n",
    "- How to audit a model programmatically (no YAML files)\n",
    "- Auto-detection of model types and features\n",
    "- Inline HTML display in Jupyter\n",
    "- Full determinism and reproducibility\n",
    "\n",
    "**API Reference**: [`from_model()` documentation](https://glassalpha.com/reference/api/api-audit/)\n"
   ]
  },
  {
   "cell_type": "markdown",
   "metadata": {},
   "source": [
    "## Environment Verification\n",
    "\n",
    "Run this first to verify your setup and ensure reproducibility.\n"
   ]
  },
  {
   "cell_type": "code",
   "execution_count": null,
   "metadata": {},
   "outputs": [],
   "source": [
    "\"\"\"Environment verification for reproducibility\"\"\"\n",
    "import platform\n",
    "import random\n",
    "import sys\n",
    "\n",
    "import numpy as np\n",
    "\n",
    "import glassalpha as ga\n",
    "\n",
    "SEED = 42\n",
    "random.seed(SEED)\n",
    "np.random.seed(SEED)\n",
    "\n",
    "print(\n",
    "    {\n",
    "        \"python\": sys.version.split()[0],\n",
    "        \"platform\": platform.platform(),\n",
    "        \"glassalpha\": getattr(ga, \"__version__\", \"dev\"),\n",
    "        \"seed\": SEED,\n",
    "    }\n",
    ")"
   ]
  },
  {
   "cell_type": "code",
   "execution_count": null,
   "metadata": {},
   "outputs": [],
   "source": [
    "%pip install -q glassalpha[explain]"
   ]
  },
  {
   "cell_type": "markdown",
   "metadata": {},
   "source": [
    "## 1. Train a Simple Model\n"
   ]
  },
  {
   "cell_type": "code",
   "execution_count": null,
   "metadata": {},
   "outputs": [],
   "source": [
    "import numpy as np\n",
    "import pandas as pd\n",
    "from sklearn.datasets import make_classification\n",
    "from sklearn.linear_model import LogisticRegression\n",
    "from sklearn.model_selection import train_test_split\n",
    "\n",
    "# Create sample dataset\n",
    "X, y = make_classification(n_samples=1000, n_features=10, n_informative=5, random_state=42)\n",
    "\n",
    "# Convert to DataFrame\n",
    "feature_names = [f\"feature_{i}\" for i in range(10)]\n",
    "X_df = pd.DataFrame(X, columns=feature_names)\n",
    "\n",
    "# Add protected attributes\n",
    "rng = np.random.RandomState(42)\n",
    "X_df[\"gender\"] = rng.choice([\"M\", \"F\"], size=1000)\n",
    "X_df[\"age_group\"] = rng.choice([\"18-30\", \"31-50\", \"51+\"], size=1000)\n",
    "\n",
    "# Train/test split\n",
    "X_train, X_test, y_train, y_test = train_test_split(X_df, y, test_size=0.3, random_state=42)\n",
    "\n",
    "print(f\"Training set: {X_train.shape}\")\n",
    "print(f\"Test set: {X_test.shape}\")"
   ]
  },
  {
   "cell_type": "code",
   "execution_count": null,
   "metadata": {},
   "outputs": [],
   "source": [
    "# Extract protected attributes (don't use them for training)\n",
    "gender_train = X_train.pop(\"gender\")\n",
    "gender_test = X_test.pop(\"gender\")\n",
    "age_train = X_train.pop(\"age_group\")\n",
    "age_test = X_test.pop(\"age_group\")\n",
    "\n",
    "# Train model (on features only)\n",
    "model = LogisticRegression(random_state=42, max_iter=1000)\n",
    "model.fit(X_train, y_train)\n",
    "\n",
    "print(f\"Model trained! Accuracy: {model.score(X_test, y_test):.3f}\")"
   ]
  },
  {
   "cell_type": "markdown",
   "metadata": {},
   "source": [
    "## 2. Audit in 3 Lines\n",
    "\n",
    "No YAML files needed - just pass your model and data!\n"
   ]
  },
  {
   "cell_type": "code",
   "execution_count": null,
   "metadata": {},
   "outputs": [],
   "source": [
    "# Encode protected attributes\n",
    "from sklearn.preprocessing import LabelEncoder\n",
    "\n",
    "import glassalpha as ga\n",
    "\n",
    "le_gender = LabelEncoder()\n",
    "le_age = LabelEncoder()\n",
    "\n",
    "gender_encoded = le_gender.fit_transform(gender_test)\n",
    "age_encoded = le_age.fit_transform(age_test)\n",
    "\n",
    "result = ga.audit.from_model(\n",
    "    model=model,\n",
    "    X=X_test,\n",
    "    y=y_test,\n",
    "    protected_attributes={\"gender\": gender_encoded, \"age_group\": age_encoded},\n",
    "    random_seed=42,\n",
    ")\n",
    "\n",
    "print(f\"Audit complete! Result ID: {result.id[:16]}...\")"
   ]
  },
  {
   "cell_type": "raw",
   "metadata": {
    "vscode": {
     "languageId": "raw"
    }
   },
   "source": [
    "## 3. View Results\n",
    "\n",
    "The result auto-displays in Jupyter\n"
   ]
  },
  {
   "cell_type": "code",
   "execution_count": null,
   "metadata": {},
   "outputs": [],
   "source": [
    "result  # Auto-displays audit summary!"
   ]
  },
  {
   "cell_type": "markdown",
   "metadata": {},
   "source": [
    "## 4. Access Results\n",
    "\n",
    "The `AuditResult` contains all computed metrics:\n",
    "```python\n",
    "print(\"Performance:\")\n",
    "print(f\"  Accuracy: {result.performance['accuracy']:.3f}\")\n",
    "print(f\"  Precision: {result.performance['precision']:.3f}\")\n",
    "print(f\"  Recall: {result.performance['recall']:.3f}\")\n",
    "print(f\"  F1: {result.performance['f1']:.3f}\")\n",
    "\n",
    "print(\"\\nFairness:\")\n",
    "for key, value in result.fairness.items():\n",
    "    print(f\"  {key}: {value:.3f}\")\n",
    "\n",
    "print(\"\\nCalibration:\")\n",
    "for key, value in result.calibration.items():\n",
    "    print(f\"  {key}: {value:.3f}\")\n",
    "```\n"
   ]
  }
 ],
 "metadata": {
  "language_info": {
   "name": "python"
  }
 },
 "nbformat": 4,
 "nbformat_minor": 2
}
