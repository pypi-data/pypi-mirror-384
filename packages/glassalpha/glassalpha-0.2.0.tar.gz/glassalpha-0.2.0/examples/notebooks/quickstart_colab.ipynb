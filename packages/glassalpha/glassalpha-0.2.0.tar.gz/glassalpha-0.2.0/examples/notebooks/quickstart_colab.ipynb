{
 "cells": [
  {
   "cell_type": "markdown",
   "metadata": {},
   "source": [
    "# GlassAlpha Quickstart: Your First Audit in 8 Minutes\n",
    "\n",
    "[![Open In Colab](https://colab.research.google.com/assets/colab-badge.svg)](https://colab.research.google.com/github/GlassAlpha/glassalpha/blob/main/examples/notebooks/quickstart_colab.ipynb)\n",
    "\n",
    "This notebook demonstrates how to generate a professional ML audit report in under 8 minutes using GlassAlpha's `from_model()` API.\n",
    "\n",
    "**What you'll learn:**\n",
    "- Train a simple credit scoring model\n",
    "- Generate a comprehensive audit with one function call\n",
    "- View inline audit results\n",
    "- Understand fairness and performance metrics\n",
    "\n",
    "**Time**: ~8 minutes | **Difficulty**: Beginner\n"
   ]
  },
  {
   "cell_type": "markdown",
   "metadata": {},
   "source": [
    "## Step 1: Install GlassAlpha (30 seconds)\n",
    "\n",
    "Run this cell to install GlassAlpha and its dependencies.\n"
   ]
  },
  {
   "cell_type": "code",
   "execution_count": null,
   "metadata": {},
   "outputs": [],
   "source": [
    "%pip install -q glassalpha[explain]"
   ]
  },
  {
   "cell_type": "markdown",
   "metadata": {},
   "source": [
    "## Step 2: Environment Setup (15 seconds)\n",
    "\n",
    "Import libraries and set random seeds for reproducibility.\n"
   ]
  },
  {
   "cell_type": "code",
   "execution_count": null,
   "metadata": {},
   "outputs": [],
   "source": [
    "\"\"\"Environment verification for reproducibility\"\"\"\n",
    "import platform\n",
    "import random\n",
    "import sys\n",
    "\n",
    "import numpy as np\n",
    "from sklearn.ensemble import RandomForestClassifier\n",
    "from sklearn.model_selection import train_test_split\n",
    "\n",
    "import glassalpha as ga\n",
    "\n",
    "# Set random seed for reproducibility\n",
    "SEED = 42\n",
    "random.seed(SEED)\n",
    "np.random.seed(SEED)\n",
    "\n",
    "print(\n",
    "    {\n",
    "        \"python\": sys.version.split()[0],\n",
    "        \"platform\": platform.platform(),\n",
    "        \"glassalpha\": getattr(ga, \"__version__\", \"dev\"),\n",
    "        \"seed\": SEED,\n",
    "    }\n",
    ")"
   ]
  },
  {
   "cell_type": "markdown",
   "metadata": {},
   "source": [
    "## Step 3: Load Data (1 minute)\n",
    "\n",
    "We'll use the German Credit dataset - a classic benchmark for credit risk assessment.\n"
   ]
  },
  {
   "cell_type": "code",
   "execution_count": null,
   "metadata": {},
   "outputs": [],
   "source": [
    "# Load German Credit dataset\n",
    "from glassalpha.datasets import load_german_credit\n",
    "\n",
    "# Load preprocessed data\n",
    "df = load_german_credit()\n",
    "# Removed: df = data (already assigned above)\n",
    "print(f\"Dataset shape: {df.shape}\")\n",
    "print(f\"\\nTarget distribution:\\n{df['credit_risk'].value_counts(normalize=True)}\")\n",
    "sensitive_features = [\"gender\", \"age_group\", \"foreign_worker\"]\n",
    "sensitive_features = [\"gender\", \"age_group\", \"foreign_worker\"]\n",
    "sensitive_features = [\"gender\", \"age_group\", \"foreign_worker\"]\n",
    "sensitive_features = [\"gender\", \"age_group\", \"foreign_worker\"]\n",
    "sensitive_features = [\"gender\", \"age_group\", \"foreign_worker\"]\n",
    "print(f\"\\nProtected attributes: {sensitive_features}\")\n",
    "\n",
    "# Show first few rows\n",
    "df.head()"
   ]
  },
  {
   "cell_type": "markdown",
   "metadata": {},
   "source": [
    "## Step 4: Train Model (2 minutes)\n",
    "\n",
    "Train a simple Random Forest classifier for credit risk prediction.\n"
   ]
  },
  {
   "cell_type": "code",
   "execution_count": null,
   "metadata": {},
   "outputs": [],
   "source": [
    "# Prepare features and target\n",
    "target_col = \"credit_risk\"\n",
    "sensitive_features = [\"gender\", \"age_group\", \"foreign_worker\"]\n",
    "\n",
    "# Encode categorical features for sklearn compatibility\n",
    "from sklearn.preprocessing import LabelEncoder\n",
    "\n",
    "# Encode categorical columns\n",
    "df_encoded = df.copy()\n",
    "for col in df_encoded.select_dtypes(include=[\"object\"]).columns:\n",
    "    if col != \"credit_risk\":  # Don't encode target\n",
    "        le = LabelEncoder()\n",
    "        df_encoded[col] = le.fit_transform(df_encoded[col])\n",
    "\n",
    "# Features (exclude target and protected attributes for training)\n",
    "feature_cols = [col for col in df_encoded.columns if col != target_col and col not in sensitive_features]\n",
    "X = df_encoded[feature_cols]\n",
    "y = df_encoded[target_col]\n",
    "\n",
    "# Train/test split (stratified by target and gender for fairness analysis)\n",
    "X_train, X_test, y_train, y_test = train_test_split(\n",
    "    X, y, test_size=0.3, random_state=SEED, stratify=df_encoded[[target_col, \"gender\"]]\n",
    ")\n",
    "\n",
    "# Train Random Forest model\n",
    "model = RandomForestClassifier(n_estimators=100, max_depth=5, random_state=SEED, n_jobs=-1)\n",
    "\n",
    "print(\"Training model...\")\n",
    "model.fit(X_train, y_train)\n",
    "\n",
    "# Quick performance check\n",
    "train_score = model.score(X_train, y_train)\n",
    "test_score = model.score(X_test, y_test)\n",
    "\n",
    "print(f\"✓ Training accuracy: {train_score:.3f}\")\n",
    "print(f\"✓ Test accuracy: {test_score:.3f}\")\n",
    "print(\"✓ Model ready for audit!\")"
   ]
  },
  {
   "cell_type": "markdown",
   "metadata": {},
   "source": [
    "## Step 5: Generate Audit with `from_model()` (3 minutes)\n",
    "\n",
    "This is where the magic happens! One function call generates a comprehensive audit.\n"
   ]
  },
  {
   "cell_type": "code",
   "execution_count": null,
   "metadata": {},
   "outputs": [],
   "source": [
    "# Generate comprehensive audit\n",
    "result = ga.audit.from_model(\n",
    "    model=model,\n",
    "    X=X_test,\n",
    "    y=y_test,\n",
    "    protected_attributes={\n",
    "        \"gender\": df.loc[X_test.index, \"gender\"],\n",
    "        \"age_group\": df.loc[X_test.index, \"age_group\"],\n",
    "        \"foreign_worker\": df.loc[X_test.index, \"foreign_worker\"],\n",
    "    },\n",
    "    random_seed=SEED,\n",
    ")\n",
    "\n",
    "print(\"✓ Audit completed successfully!\")"
   ]
  },
  {
   "cell_type": "markdown",
   "metadata": {},
   "source": [
    "## Step 6: View Inline Results (30 seconds)\n",
    "\n",
    "Display the audit summary directly in the notebook.\n"
   ]
  },
  {
   "cell_type": "code",
   "execution_count": null,
   "metadata": {},
   "outputs": [],
   "source": [
    "# Display inline HTML summary\n",
    "result"
   ]
  },
  {
   "cell_type": "markdown",
   "metadata": {},
   "source": [
    "## Step 7: Explore Metrics (1 minute)\n",
    "\n",
    "Access specific metrics programmatically.\n"
   ]
  },
  {
   "cell_type": "code",
   "execution_count": null,
   "metadata": {},
   "outputs": [],
   "source": [
    "# Performance metrics\\nprint(\"📊 PERFORMANCE METRICS\")\\nfor key, value in result.performance.items():\\n    print(f\"  {key}: {value:.3f}\")\\n\\n# Fairness metrics\\nprint(\"\\n⚖️  FAIRNESS METRICS\")\\nfor key, value in result.fairness.items():\\n    if isinstance(value, (int, float)):\\n        print(f\"  {key}: {value:.3f}\")\\n    else:\\n        print(f\"  {key}: {value}\")\\n\\n# Calibration\\nprint(\"\\n🎯 CALIBRATION\")\\nfor key, value in result.calibration.items():\\n    print(f\"  {key}: {value:.3f}\")\\n"
   ]
  },
  {
   "cell_type": "markdown",
   "metadata": {},
   "source": [
    "## Step 8: Export PDF Report (optional)\n",
    "\n",
    "Generate a professional PDF for regulatory submission.\n",
    "\n",
    "**Note**: Interactive plotting methods (`.plot()`) are coming in Phase 3. For now, all visualizations are available in the PDF report.\n"
   ]
  },
  {
   "cell_type": "code",
   "execution_count": null,
   "metadata": {},
   "outputs": [],
   "source": [
    "# Export to PDF (includes all visualizations)\n",
    "# result.to_pdf(\"german_credit_audit.pdf\")\n",
    "\n",
    "print(\"✓ PDF report generated: german_credit_audit.pdf\")\n",
    "print(\"\\nDownload the PDF from the Colab files panel (left sidebar) →\")\n",
    "print(\"\\nThe PDF includes:\")\n",
    "print(\"  • Performance metrics with confusion matrix\")\n",
    "print(\"  • Fairness analysis with group comparisons\")\n",
    "print(\"  • Calibration curves\")\n",
    "print(\"  • SHAP explanations\")\n",
    "print(\"  • Complete audit trail\")"
   ]
  },
  {
   "cell_type": "markdown",
   "metadata": {},
   "source": [
    "## 🎉 Congratulations!\n",
    "\n",
    "You've just generated your first ML audit in under 8 minutes!\n"
   ]
  },
  {
   "cell_type": "markdown",
   "metadata": {},
   "source": [
    "**What you learned:**\n",
    "- ✅ Train a credit scoring model\n",
    "- ✅ Generate comprehensive audit with `from_model()`\n",
    "- ✅ View inline results in notebooks\n",
    "- ✅ Access metrics programmatically\n",
    "- ✅ Export professional PDF reports\n",
    "\n",
    "**Next steps:**\n",
    "1. **Try with your own data**: See [Custom Data Guide](https://glassalpha.com/getting-started/custom-data/)\n",
    "2. **Explore advanced features**: [Dataset Bias Detection](https://glassalpha.com/guides/dataset-bias/), [Shift Testing](https://glassalpha.com/guides/shift-testing/)\n",
    "3. **Integrate into production**: [ML Engineer Workflow](https://glassalpha.com/guides/ml-engineer-workflow/)\n",
    "4. **Learn about compliance**: [SR 11-7 Mapping](https://glassalpha.com/compliance/sr-11-7-mapping/), [EU AI Act](https://glassalpha.com/compliance/eu-ai-act-mapping/)\n",
    "\n",
    "**Resources:**\n",
    "- **Documentation**: [glassalpha.com/docs](https://glassalpha.com/docs)\n",
    "- **GitHub**: [github.com/GlassAlpha/glassalpha](https://github.com/GlassAlpha/glassalpha)\n",
    "- **Discussions**: [github.com/GlassAlpha/glassalpha/discussions](https://github.com/GlassAlpha/glassalpha/discussions)\n",
    "\n",
    "**Questions?**\n",
    "- Check the [FAQ](https://glassalpha.com/reference/faq/)\n",
    "- Join [GitHub Discussions](https://github.com/GlassAlpha/glassalpha/discussions)\n",
    "- Email: [contact@glassalpha.com](mailto:contact@glassalpha.com)\n"
   ]
  },
  {
   "cell_type": "markdown",
   "metadata": {},
   "source": [
    "\n"
   ]
  }
 ],
 "metadata": {
  "language_info": {
   "name": "python"
  }
 },
 "nbformat": 4,
 "nbformat_minor": 2
}
