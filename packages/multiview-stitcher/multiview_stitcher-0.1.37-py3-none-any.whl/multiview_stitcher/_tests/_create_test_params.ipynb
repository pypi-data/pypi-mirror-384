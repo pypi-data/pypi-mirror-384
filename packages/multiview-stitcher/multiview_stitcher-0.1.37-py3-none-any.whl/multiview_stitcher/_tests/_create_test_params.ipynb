{
 "cells": [
  {
   "cell_type": "markdown",
   "metadata": {},
   "source": [
    "# Obtain ground truth params for test datasets\n",
    "\n",
    "Convenience notebook for creating ground truth parameters for test datasets."
   ]
  },
  {
   "cell_type": "code",
   "execution_count": 1,
   "metadata": {},
   "outputs": [
    {
     "data": {
      "text/plain": [
       "<module 'multiview_stitcher._tests.test_bench' from '/Users/malbert/software/multiview-stitcher/src/multiview_stitcher/_tests/test_bench.py'>"
      ]
     },
     "execution_count": 1,
     "metadata": {},
     "output_type": "execute_result"
    }
   ],
   "source": [
    "from pathlib import Path\n",
    "\n",
    "from multiview_stitcher._tests import test_bench\n",
    "from multiview_stitcher import vis_utils, io\n",
    "\n",
    "import dask.diagnostics\n",
    "\n",
    "import importlib\n",
    "importlib.reload(test_bench)"
   ]
  },
  {
   "cell_type": "code",
   "execution_count": 9,
   "metadata": {},
   "outputs": [
    {
     "name": "stdout",
     "output_type": "stream",
     "text": [
      "/Users/malbert/software/multiview-stitcher/image-datasets/test_bench_data\n"
     ]
    },
    {
     "data": {
      "image/png": "[encoded data removed]",
      "text/plain": [
       "<Figure size 640x480 with 1 Axes>"
      ]
     },
     "metadata": {},
     "output_type": "display_data"
    },
    {
     "data": {
      "text/plain": [
       "(<Figure size 640x480 with 1 Axes>, <Axes3D: ylabel='x [μm]', zlabel='y [μm]'>)"
      ]
     },
     "execution_count": 9,
     "metadata": {},
     "output_type": "execute_result"
    }
   ],
   "source": [
    "print(test_bench.test_bench_data_dir)\n",
    "\n",
    "dataset = test_bench.datasets[2]\n",
    "msims = test_bench.get_msims_from_dataset(dataset)\n",
    "\n",
    "vis_utils.plot_positions(msims, io.METADATA_TRANSFORM_KEY, use_positional_colors=False)"
   ]
  },
  {
   "cell_type": "markdown",
   "metadata": {},
   "source": [
    "## Registration"
   ]
  },
  {
   "cell_type": "code",
   "execution_count": 10,
   "metadata": {},
   "outputs": [
    {
     "name": "stdout",
     "output_type": "stream",
     "text": [
      "[########################################] | 100% Completed | 1.58 ss\n",
      "[########################################] | 100% Completed | 5.12 sms\n"
     ]
    }
   ],
   "source": [
    "with dask.diagnostics.ProgressBar():\n",
    "    params = test_bench.register_dataset(msims, dataset)"
   ]
  },
  {
   "cell_type": "markdown",
   "metadata": {},
   "source": [
    "## Visualization"
   ]
  },
  {
   "cell_type": "code",
   "execution_count": 7,
   "metadata": {},
   "outputs": [],
   "source": [
    "# napari\n",
    "\n",
    "from napari_stitcher import viewer_utils\n",
    "import napari\n",
    "\n",
    "viewer = napari.Viewer(ndisplay=2)\n",
    "lds = viewer_utils.create_image_layer_tuples_from_msims(\n",
    "    msims,\n",
    "    transform_key='reg_0',\n",
    "    n_colors=4,\n",
    "    # contrast_limits=[0, 1000],\n",
    "    )\n",
    "viewer_utils.add_image_layer_tuples_to_viewer(viewer, lds, manage_viewer_transformations=True)\n",
    "viewer.reset_view()\n",
    "    "
   ]
  },
  {
   "cell_type": "code",
   "execution_count": null,
   "metadata": {},
   "outputs": [],
   "source": [
    "# # neuroglancer\n",
    "\n",
    "# # doesn't work if time dimension is present\n",
    "\n",
    "# from multiview_stitcher import vis_utils, ngff_utils, msi_utils\n",
    "# import importlib\n",
    "# importlib.reload(vis_utils)\n",
    "\n",
    "# import tempfile\n",
    "\n",
    "# with tempfile.TemporaryDirectory() as tmp_dir:\n",
    "\n",
    "#     tmp_dir = Path(tmp_dir)\n",
    "\n",
    "#     zarr_paths = [tmp_dir / f\"sim_{imsim}.zarr\" for imsim, msim in enumerate(msims)]\n",
    "\n",
    "#     sims = [msi_utils.get_sim_from_msim(msim) for msim in msims]\n",
    "\n",
    "#     for imsim, msim in enumerate(msims):\n",
    "#         ngff_utils.write_sim_to_ome_zarr(\n",
    "#             msi_utils.get_sim_from_msim(msim),\n",
    "#             zarr_paths[imsim], overwrite=False)\n",
    "\n",
    "#     # sims = [ngff_utils.write_sim_to_ome_zarr(\n",
    "#     #     msi_utils.get_sim_from_msim(msim),\n",
    "#     #     zarr_paths[imsim], overwrite=False) for imsim, msim in enumerate(msims)]\n",
    "\n",
    "#     vis_utils.view_neuroglancer(\n",
    "#         sims,\n",
    "#         ome_zarr_paths=zarr_paths,\n",
    "#         # channel_coord='DAPI',\n",
    "#         transform_key=\"registered\",\n",
    "#         # single_layer=False,\n",
    "#     )"
   ]
  },
  {
   "cell_type": "markdown",
   "metadata": {},
   "source": [
    "## Save parameters"
   ]
  },
  {
   "cell_type": "code",
   "execution_count": 11,
   "metadata": {},
   "outputs": [],
   "source": [
    "test_bench.write_params(params, dataset[\"parameter_path\"])"
   ]
  }
 ],
 "metadata": {
  "kernelspec": {
   "display_name": "ms_ns",
   "language": "python",
   "name": "python3"
  },
  "language_info": {
   "codemirror_mode": {
    "name": "ipython",
    "version": 3
   },
   "file_extension": ".py",
   "mimetype": "text/x-python",
   "name": "python",
   "nbconvert_exporter": "python",
   "pygments_lexer": "ipython3",
   "version": "3.11.11"
  }
 },
 "nbformat": 4,
 "nbformat_minor": 2
}
