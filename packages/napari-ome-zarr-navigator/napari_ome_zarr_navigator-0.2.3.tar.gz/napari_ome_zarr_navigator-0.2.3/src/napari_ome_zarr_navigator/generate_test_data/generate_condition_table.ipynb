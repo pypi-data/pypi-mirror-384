{
 "cells": [
  {
   "cell_type": "code",
   "execution_count": 1,
   "metadata": {},
   "outputs": [],
   "source": [
    "import anndata as ad\n",
    "import pandas as pd\n",
    "from fractal_tasks_core.tables import write_table\n",
    "import zarr"
   ]
  },
  {
   "cell_type": "code",
   "execution_count": 20,
   "metadata": {},
   "outputs": [],
   "source": [
    "# zarr_base = \"/Users/joel/Documents/Code/napari-ome-zarr-navigator/test_data/10_5281_zenodo_10424292/20200812-CardiomyocyteDifferentiation14-Cycle1_mip.zarr\"\n",
    "zarr_base = \"/Users/joel/Documents/Code/napari-ome-zarr-navigator/test_data/10_5281_zenodo_10424292/20200812-CardiomyocyteDifferentiation14-Cycle1.zarr\"\n",
    "zarr_b03 = f\"{zarr_base}/B/03/0\"\n",
    "zarr_b05 = f\"{zarr_base}/B/05/0\""
   ]
  },
  {
   "cell_type": "markdown",
   "metadata": {},
   "source": []
  },
  {
   "cell_type": "code",
   "execution_count": 21,
   "metadata": {},
   "outputs": [],
   "source": [
    "df_b03 = pd.DataFrame(\n",
    "    {\n",
    "        'row': [\"B\", \"B\"], \n",
    "        'col': [\"03\", \"03\"], \n",
    "        'drug': [\"drug1\", \"drug2\"], \n",
    "        'concentration': [\"0.1\", \"10.0\"], \n",
    "        'extra1': [\"True\", \"False\"], \n",
    "        'extra2': [\"example\", \"example\"]\n",
    "    }\n",
    ")\n",
    "\n",
    "df_b05 = pd.DataFrame(\n",
    "    {\n",
    "        'row': [\"B\"], \n",
    "        'col': [\"05\"], \n",
    "        'drug': [\"drug1\"], \n",
    "        'concentration': [\"5.0\"], \n",
    "        'extra1': [\"True\"], \n",
    "        'extra2': [\"example\"]\n",
    "    }\n",
    ")"
   ]
  },
  {
   "cell_type": "code",
   "execution_count": 22,
   "metadata": {},
   "outputs": [
    {
     "name": "stderr",
     "output_type": "stream",
     "text": [
      "/Users/joel/mambaforge/envs/napari-ome-zarr-navigator/lib/python3.10/site-packages/anndata/_core/anndata.py:183: ImplicitModificationWarning: Transforming to str index.\n",
      "  warnings.warn(\"Transforming to str index.\", ImplicitModificationWarning)\n",
      "/Users/joel/mambaforge/envs/napari-ome-zarr-navigator/lib/python3.10/site-packages/anndata/_core/anndata.py:183: ImplicitModificationWarning: Transforming to str index.\n",
      "  warnings.warn(\"Transforming to str index.\", ImplicitModificationWarning)\n"
     ]
    }
   ],
   "source": [
    "table_b03 = ad.AnnData(X=df_b03)\n",
    "table_b05 = ad.AnnData(X=df_b05)"
   ]
  },
  {
   "cell_type": "code",
   "execution_count": 23,
   "metadata": {},
   "outputs": [
    {
     "name": "stderr",
     "output_type": "stream",
     "text": [
      "2024-05-23 15:57:40,210; WARNING; Unknown table type `condition`.\n"
     ]
    },
    {
     "name": "stderr",
     "output_type": "stream",
     "text": [
      "2024-05-23 15:57:40,341; WARNING; Setting table type to 'condition' (and overriding 'condition' attribute).\n",
      "2024-05-23 15:57:40,341; WARNING; Unknown table type `condition`.\n"
     ]
    },
    {
     "data": {
      "text/plain": [
       "<zarr.hierarchy.Group '/tables/condition'>"
      ]
     },
     "execution_count": 23,
     "metadata": {},
     "output_type": "execute_result"
    }
   ],
   "source": [
    "table_attrs = {\"fractal_table_version\":\"1\"}\n",
    "image_group_b03 = zarr.open(zarr_b03, mode=\"a\")\n",
    "image_group_b05 = zarr.open(zarr_b05, mode=\"a\")\n",
    "\n",
    "write_table(image_group_b03, \"condition\", table_b03, overwrite=True, table_type=\"condition\", table_attrs=table_attrs)\n",
    "write_table(image_group_b05, \"condition\", table_b05, overwrite=True, table_type=\"condition\", table_attrs=table_attrs)"
   ]
  },
  {
   "cell_type": "code",
   "execution_count": 26,
   "metadata": {},
   "outputs": [],
   "source": [
    "table = ad.read_zarr(\"/Users/joel/Documents/Code/napari-ome-zarr-navigator/test_data/10_5281_zenodo_10424292/20200812-CardiomyocyteDifferentiation14-Cycle1.zarr/B/05/0/tables/condition\")"
   ]
  },
  {
   "cell_type": "code",
   "execution_count": 27,
   "metadata": {},
   "outputs": [
    {
     "data": {
      "text/html": [
       "<div>\n",
       "<style scoped>\n",
       "    .dataframe tbody tr th:only-of-type {\n",
       "        vertical-align: middle;\n",
       "    }\n",
       "\n",
       "    .dataframe tbody tr th {\n",
       "        vertical-align: top;\n",
       "    }\n",
       "\n",
       "    .dataframe thead th {\n",
       "        text-align: right;\n",
       "    }\n",
       "</style>\n",
       "<table border=\"1\" class=\"dataframe\">\n",
       "  <thead>\n",
       "    <tr style=\"text-align: right;\">\n",
       "      <th></th>\n",
       "      <th>row</th>\n",
       "      <th>col</th>\n",
       "      <th>drug</th>\n",
       "      <th>concentration</th>\n",
       "      <th>extra1</th>\n",
       "      <th>extra2</th>\n",
       "    </tr>\n",
       "  </thead>\n",
       "  <tbody>\n",
       "    <tr>\n",
       "      <th>0</th>\n",
       "      <td>B</td>\n",
       "      <td>05</td>\n",
       "      <td>drug1</td>\n",
       "      <td>5.0</td>\n",
       "      <td>True</td>\n",
       "      <td>example</td>\n",
       "    </tr>\n",
       "  </tbody>\n",
       "</table>\n",
       "</div>"
      ],
      "text/plain": [
       "  row col   drug concentration extra1   extra2\n",
       "0   B  05  drug1           5.0   True  example"
      ]
     },
     "execution_count": 27,
     "metadata": {},
     "output_type": "execute_result"
    }
   ],
   "source": [
    "table.to_df()"
   ]
  },
  {
   "cell_type": "code",
   "execution_count": null,
   "metadata": {},
   "outputs": [],
   "source": []
  }
 ],
 "metadata": {
  "kernelspec": {
   "display_name": "napari-ome-zarr-navigator",
   "language": "python",
   "name": "python3"
  },
  "language_info": {
   "codemirror_mode": {
    "name": "ipython",
    "version": 3
   },
   "file_extension": ".py",
   "mimetype": "text/x-python",
   "name": "python",
   "nbconvert_exporter": "python",
   "pygments_lexer": "ipython3",
   "version": "3.10.13"
  }
 },
 "nbformat": 4,
 "nbformat_minor": 2
}
