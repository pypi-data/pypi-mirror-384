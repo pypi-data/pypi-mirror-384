{
 "cells": [
  {
   "cell_type": "code",
   "execution_count": null,
   "metadata": {},
   "outputs": [
    {
     "data": {
      "text/plain": [
       "<requests.sessions.Session at 0x7f5dfca4b510>"
      ]
     },
     "execution_count": null,
     "metadata": {},
     "output_type": "execute_result"
    }
   ],
   "source": [
    "import os\n",
    "import sys\n",
    "\n",
    "import matplotlib.pyplot as plt\n",
    "import pandas as pd\n",
    "import xarray as xr\n",
    "\n",
    "try:\n",
    "    import salientsdk as sk\n",
    "except ModuleNotFoundError as e:\n",
    "    if os.path.exists(\"../salientsdk\"):\n",
    "        sys.path.append(os.path.abspath(\"..\"))\n",
    "        import salientsdk as sk\n",
    "    else:\n",
    "        raise ModuleNotFoundError(\"Install salient SDK with: pip install salientsdk\")\n",
    "\n",
    "# Prevent wrapping on tables for readability\n",
    "pd.set_option(\"display.width\", None)\n",
    "pd.set_option(\"display.max_columns\", None)\n",
    "pd.set_option(\"display.expand_frame_repr\", False)\n",
    "\n",
    "sk.set_file_destination(\"trend_example\")\n",
    "sk.login(\"SALIENT_USERNAME\", \"SALIENT_PASSWORD\")"
   ]
  },
  {
   "cell_type": "markdown",
   "metadata": {},
   "source": [
    "## Customize the Calculation\n",
    "\n",
    "Set variables that will influence how the notebook behaves.\n"
   ]
  },
  {
   "cell_type": "code",
   "execution_count": null,
   "metadata": {},
   "outputs": [],
   "source": [
    "# The variables to project into the future:\n",
    "var = [\"tmax\", \"tmin\", \"precip\"]\n",
    "\n",
    "# When to start the future timeseries.  Valid values:\n",
    "# * A pd.Timestamp\n",
    "# * A string in YYYY-MM-DD format\n",
    "# * -today (the default)\n",
    "start_date = \"-today\"\n",
    "\n",
    "# When to end the future timeseries.  Valid values:\n",
    "# * a date\n",
    "# * a pd.Timestamp\n",
    "# * a DateOffset relative to start_date\n",
    "end_date = pd.DateOffset(years=5)\n",
    "\n",
    "# Set force to \"True\" to disable caching\n",
    "force = False"
   ]
  },
  {
   "cell_type": "markdown",
   "metadata": {},
   "source": [
    "The later call to `data_timeseries` will accept a `sk.Location` that is a single point, a vector of multiple points (shown here), or a `shapefile` polygon.\n"
   ]
  },
  {
   "cell_type": "markdown",
   "metadata": {},
   "source": [
    "#### Define the area of interest\n",
    "\n",
    "For this analysis, we'll generate a trend for a selection of global airports.\n"
   ]
  },
  {
   "cell_type": "code",
   "execution_count": null,
   "metadata": {},
   "outputs": [],
   "source": [
    "geo = pd.DataFrame(\n",
    "    [\n",
    "        # Europe\n",
    "        (2.359, 48.725, \"CDG\", \"Charles de Gaulle\", \"France\"),\n",
    "        (-0.462, 51.470, \"LHR\", \"Heathrow\", \"United Kingdom\"),\n",
    "        (23.944, 37.936, \"ATH\", \"Athens Intl\", \"Greece\"),\n",
    "        (12.250, 41.804, \"FCO\", \"Leonardo da Vinci\", \"Italy\"),\n",
    "        (37.416, 55.972, \"SVO\", \"Sheremetyevo\", \"Russia\"),\n",
    "        (24.963, 60.317, \"HEL\", \"Helsinki-Vantaa\", \"Finland\"),\n",
    "        (8.550, 50.033, \"FRA\", \"Frankfurt\", \"Germany\"),\n",
    "        (4.764, 52.308, \"AMS\", \"Schiphol\", \"Netherlands\"),\n",
    "        (13.292, 52.559, \"TXL\", \"Tegel\", \"Germany\"),\n",
    "        (19.258, 47.439, \"BUD\", \"Ferenc Liszt\", \"Hungary\"),\n",
    "        # Africa\n",
    "        (31.406, 30.111, \"CAI\", \"Cairo Intl\", \"Egypt\"),\n",
    "        (7.266, 9.007, \"ABV\", \"Nnamdi Azikiwe\", \"Nigeria\"),\n",
    "        (30.130, -1.968, \"KGL\", \"Kigali Intl\", \"Rwanda\"),\n",
    "        (28.246, -26.139, \"JNB\", \"O.R. Tambo\", \"South Africa\"),\n",
    "        (3.361, 6.577, \"LOS\", \"Murtala Muhammed\", \"Nigeria\"),\n",
    "        (-7.590, 33.367, \"CMN\", \"Mohammed V\", \"Morocco\"),\n",
    "        (39.252, -6.878, \"DAR\", \"Julius Nyerere\", \"Tanzania\"),\n",
    "        (36.928, -1.319, \"NBO\", \"Jomo Kenyatta\", \"Kenya\"),\n",
    "        # Middle East\n",
    "        (55.364, 25.252, \"DXB\", \"Dubai Intl\", \"United Arab Emirates\"),\n",
    "        (51.565, 25.273, \"DOH\", \"Hamad Intl\", \"Qatar\"),\n",
    "        (46.698, 24.966, \"RUH\", \"King Khalid\", \"Saudi Arabia\"),\n",
    "        (35.389, 31.722, \"AMM\", \"Queen Alia\", \"Jordan\"),\n",
    "        # Asia\n",
    "        (103.989, 1.359, \"SIN\", \"Singapore Changi\", \"Singapore\"),\n",
    "        (101.709, 2.745, \"KUL\", \"Kuala Lumpur\", \"Malaysia\"),\n",
    "        (113.915, 22.309, \"HKG\", \"Hong Kong Intl\", \"China\"),\n",
    "        (140.386, 35.772, \"NRT\", \"Narita\", \"Japan\"),\n",
    "        (121.233, 31.197, \"PVG\", \"Pudong\", \"China\"),\n",
    "        (126.451, 37.469, \"ICN\", \"Incheon\", \"South Korea\"),\n",
    "        (116.587, 40.080, \"PEK\", \"Beijing Capital\", \"China\"),\n",
    "        (72.868, 19.089, \"BOM\", \"Chhatrapati Shivaji\", \"India\"),\n",
    "        (77.103, 28.556, \"DEL\", \"Indira Gandhi\", \"India\"),\n",
    "        (100.747, 13.681, \"BKK\", \"Suvarnabhumi\", \"Thailand\"),\n",
    "        (106.652, 10.818, \"SGN\", \"Tan Son Nhat\", \"Vietnam\"),\n",
    "        (96.133, 16.907, \"RGN\", \"Yangon Intl\", \"Myanmar\"),\n",
    "        # Oceania\n",
    "        (151.177, -33.946, \"SYD\", \"Kingsford Smith\", \"Australia\"),\n",
    "        (144.843, -37.673, \"MEL\", \"Melbourne\", \"Australia\"),\n",
    "        (115.967, -31.940, \"PER\", \"Perth\", \"Australia\"),\n",
    "        (174.785, -37.008, \"AKL\", \"Auckland\", \"New Zealand\"),\n",
    "        (147.220, -9.443, \"POM\", \"Port Moresby\", \"Papua New Guinea\"),\n",
    "        (-157.922, 21.332, \"HNL\", \"Daniel K. Inouye\", \"United States\"),\n",
    "        # South America\n",
    "        (-46.472, -23.432, \"GRU\", \"Guarulhos\", \"Brazil\"),\n",
    "        (-58.535, -34.822, \"EZE\", \"Ministro Pistarini\", \"Argentina\"),\n",
    "        (-70.786, -33.393, \"SCL\", \"Arturo Merino\", \"Chile\"),\n",
    "        (-74.147, 4.701, \"BOG\", \"El Dorado\", \"Colombia\"),\n",
    "        (-79.619, -2.157, \"GYE\", \"José Joaquín\", \"Ecuador\"),\n",
    "        (-66.991, 10.601, \"CCS\", \"Simón Bolívar\", \"Venezuela\"),\n",
    "        (-77.114, -12.024, \"LIM\", \"Jorge Chávez\", \"Peru\"),\n",
    "        # Central America & Caribbean\n",
    "        (-99.072, 19.436, \"MEX\", \"Benito Juárez\", \"Mexico\"),\n",
    "        (-79.383, 8.979, \"PTY\", \"Tocumen\", \"Panama\"),\n",
    "        (-82.409, 23.034, \"HAV\", \"José Martí\", \"Cuba\"),\n",
    "        (-69.669, 18.430, \"SDQ\", \"Las Américas\", \"Dominican Republic\"),\n",
    "        # North America\n",
    "        (-73.778, 45.471, \"YUL\", \"Montréal-Trudeau\", \"Canada\"),\n",
    "        (-79.612, 43.677, \"YYZ\", \"Toronto Pearson\", \"Canada\"),\n",
    "        (-114.020, 51.114, \"YYC\", \"Calgary\", \"Canada\"),\n",
    "        (-123.184, 49.194, \"YVR\", \"Vancouver\", \"Canada\"),\n",
    "        (-122.375, 37.619, \"SFO\", \"San Francisco\", \"United States\"),\n",
    "        (-87.905, 41.979, \"ORD\", \"O'Hare\", \"United States\"),\n",
    "        (-80.290, 25.795, \"MIA\", \"Miami\", \"United States\"),\n",
    "        (-73.779, 40.641, \"JFK\", \"John F Kennedy\", \"United States\"),\n",
    "        (-118.408, 33.942, \"LAX\", \"Los Angeles\", \"United States\"),\n",
    "        (-95.341, 29.984, \"IAH\", \"George Bush\", \"United States\"),\n",
    "        (-84.428, 33.640, \"ATL\", \"Hartsfield-Jackson\", \"United States\"),\n",
    "    ],\n",
    "    columns=[\"lon\", \"lat\", \"iata\", \"full_name\", \"country\"],\n",
    ")"
   ]
  },
  {
   "cell_type": "markdown",
   "metadata": {},
   "source": [
    "### Define the Location\n"
   ]
  },
  {
   "cell_type": "code",
   "execution_count": null,
   "metadata": {},
   "outputs": [
    {
     "name": "stdout",
     "output_type": "stream",
     "text": [
      "       lat      lon name         country           full_name\n",
      "0   48.725    2.359  CDG          France   Charles de Gaulle\n",
      "1   51.470   -0.462  LHR  United Kingdom            Heathrow\n",
      "2   37.936   23.944  ATH          Greece         Athens Intl\n",
      "3   41.804   12.250  FCO           Italy   Leonardo da Vinci\n",
      "4   55.972   37.416  SVO          Russia        Sheremetyevo\n",
      "..     ...      ...  ...             ...                 ...\n",
      "57  25.795  -80.290  MIA   United States               Miami\n",
      "58  40.641  -73.779  JFK   United States      John F Kennedy\n",
      "59  33.942 -118.408  LAX   United States         Los Angeles\n",
      "60  29.984  -95.341  IAH   United States         George Bush\n",
      "61  33.640  -84.428  ATL   United States  Hartsfield-Jackson\n",
      "\n",
      "[62 rows x 5 columns]\n"
     ]
    }
   ],
   "source": [
    "loc = sk.Location(\n",
    "    location_file=sk.upload_location_file(\n",
    "        lats=geo.lat,\n",
    "        lons=geo.lon,\n",
    "        names=geo.iata,\n",
    "        country=geo.country,\n",
    "        full_name=geo.full_name,\n",
    "        geoname=\"airports_global\",\n",
    "        force=force,\n",
    "    )\n",
    ")\n",
    "print(loc.load_location_file().drop(\"geometry\", axis=1))\n",
    "# loc.plot_locations(names=False, title=\"World Airports\")"
   ]
  },
  {
   "cell_type": "markdown",
   "metadata": {},
   "source": [
    "## Extrapolate the Climatological Trend\n",
    "\n",
    "The function `extrapolate_trend` will use Salient's 30-year linear trend to generate a per-day timeseries on for any date range.\n"
   ]
  },
  {
   "cell_type": "code",
   "execution_count": null,
   "metadata": {},
   "outputs": [
    {
     "name": "stdout",
     "output_type": "stream",
     "text": [
      "<xarray.Dataset> Size: 3MB\n",
      "Dimensions:   (location: 62, time: 1827)\n",
      "Coordinates:\n",
      "  * location  (location) object 496B 'CDG' 'LHR' 'ATH' ... 'LAX' 'IAH' 'ATL'\n",
      "    lat       (location) float64 496B 48.73 51.47 37.94 ... 33.94 29.98 33.64\n",
      "    lon       (location) float64 496B 2.359 -0.462 23.94 ... -95.34 -84.43\n",
      "  * time      (time) datetime64[ns] 15kB 2025-04-04 2025-04-05 ... 2030-04-04\n",
      "Data variables:\n",
      "    precip    (time, location) float64 906kB 1.265 1.367 1.013 ... 1.922 3.903\n",
      "    tmax      (time, location) float64 906kB 15.68 13.12 19.83 ... 26.56 23.0\n",
      "    tmin      (time, location) float64 906kB 5.675 5.148 10.84 ... 15.91 11.29\n"
     ]
    }
   ],
   "source": [
    "trend = sk.data_timeseries_api.extrapolate_trend(\n",
    "    loc=loc,\n",
    "    variable=var,\n",
    "    start=start_date,\n",
    "    end=end_date,\n",
    "    force=force,\n",
    ")\n",
    "\n",
    "print(trend)"
   ]
  },
  {
   "cell_type": "markdown",
   "metadata": {},
   "source": [
    "### Visualize the Results\n",
    "\n",
    "View the trend as a set of stacked anomalies.\n"
   ]
  },
  {
   "cell_type": "code",
   "execution_count": null,
   "metadata": {},
   "outputs": [],
   "source": [
    "ds_plot = (\n",
    "    trend.assign_coords(year=trend.time.dt.year, dayofyear=trend.time.dt.dayofyear)\n",
    "    .set_index({\"time\": [\"year\", \"dayofyear\"]})\n",
    "    .unstack(\"time\")\n",
    "    .mean(\"location\", keep_attrs=True)\n",
    ")\n",
    "\n",
    "# Drop first (incomplete) year and calculate anomalies relative to first complete year\n",
    "first_year = ds_plot.year.min().item()\n",
    "ds_plot = ds_plot.sel(year=slice(first_year + 1, None))\n",
    "with xr.set_options(keep_attrs=True):\n",
    "    ds_plot = ds_plot - ds_plot.sel(year=first_year + 1)\n",
    "\n",
    "fig, axes = plt.subplots(len(ds_plot.data_vars), 1, figsize=(12, 6 * len(ds_plot.data_vars)))\n",
    "for (var_name, da), ax in zip(ds_plot.data_vars.items(), axes):\n",
    "    da.plot(x=\"dayofyear\", hue=\"year\", ax=ax)\n",
    "    ax.set_title(f\"Average {var_name.capitalize()} Change from {first_year + 1}\")"
   ]
  },
  {
   "cell_type": "markdown",
   "metadata": {},
   "source": [
    "### Export in Tabular Form\n",
    "\n",
    "If you wish to upload the results to a database, a tabular representation may be more natural.\n"
   ]
  },
  {
   "cell_type": "code",
   "execution_count": null,
   "metadata": {},
   "outputs": [
    {
     "name": "stdout",
     "output_type": "stream",
     "text": [
      "Wrote table to 'trend_example/trend_table.csv':\n",
      "                        lat      lon    precip       tmax       tmin\n",
      "time       location                                                 \n",
      "2025-04-04 ABV        9.007    7.266  0.990180  35.825071  26.173296\n",
      "           AKL      -37.008  174.785  2.692716  21.465929  15.890984\n",
      "           AMM       31.722   35.389  0.593724  24.602078  14.035481\n",
      "           AMS       52.308    4.764  1.273668  12.219561   5.446900\n",
      "           ATH       37.936   23.944  1.012770  19.831917  10.835725\n",
      "...                     ...      ...       ...        ...        ...\n",
      "2030-04-04 TXL       52.559   13.292  0.922891  13.920495   4.369089\n",
      "           YUL       45.471  -73.778  3.630097   7.354522  -1.126916\n",
      "           YVR       49.194 -123.184  7.382996  10.169097   5.920988\n",
      "           YYC       51.114 -114.020  1.371740   7.537110  -3.919986\n",
      "           YYZ       43.677  -79.612  3.598309   8.290379   0.306223\n",
      "\n",
      "[113274 rows x 5 columns]\n"
     ]
    }
   ],
   "source": [
    "trend_table = trend.to_dataframe().reorder_levels([\"time\", \"location\"]).sort_index()\n",
    "file_table = os.path.join(sk.get_file_destination(), \"trend_table.csv\")\n",
    "trend_table.to_csv(file_table)\n",
    "\n",
    "print(f\"Wrote table to '{file_table}':\")\n",
    "print(trend_table)"
   ]
  }
 ],
 "metadata": {
  "kernelspec": {
   "display_name": "salientsdk-54A4kIpb-py3.11",
   "language": "python",
   "name": "python3"
  },
  "language_info": {
   "codemirror_mode": {
    "name": "ipython",
    "version": 3
   },
   "file_extension": ".py",
   "mimetype": "text/x-python",
   "name": "python",
   "nbconvert_exporter": "python",
   "pygments_lexer": "ipython3",
   "version": "3.11.5"
  }
 },
 "nbformat": 4,
 "nbformat_minor": 2
}
