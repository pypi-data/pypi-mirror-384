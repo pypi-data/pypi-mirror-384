{
 "cells": [
  {
   "cell_type": "markdown",
   "metadata": {},
   "source": [
    "# Accessing Salient's forecasts through Cloudflare\n",
    "\n",
    "Salient has made its native forecasts available for North America for the `v9` modeling and its GemAI v2 model released in October 2025.\n",
    "\n",
    "This notebook is to show how to gain direct access to the forecasts through their Zarr stores so you can analyze, backtest, and plug the data into your own processes without needing to make API requests for every forecast init date.\n",
    "\n",
    "Access to these forecasts are provided by Salient using a customized URL and access keys. This notebook assumes that these are stored in your run environment as:\n",
    "\n",
    "- `SALIENT_DIRECT_URL`: A url like `https://{url_string}.r2.cloudflarestorage.com`\n",
    "- `SALIENT_DIRECT_ID`: The access key ID\n",
    "- `SALIENT_DIRECT_SECRET` The access key secret"
   ]
  },
  {
   "cell_type": "code",
   "execution_count": null,
   "metadata": {},
   "outputs": [
    {
     "data": {
      "text/plain": [
       "<requests.sessions.Session at 0x71d257516410>"
      ]
     },
     "execution_count": null,
     "metadata": {},
     "output_type": "execute_result"
    }
   ],
   "source": [
    "import os\n",
    "import sys\n",
    "\n",
    "try:\n",
    "    import salientsdk as sk\n",
    "except ModuleNotFoundError as e:\n",
    "    if os.path.exists(\"../salientsdk\"):\n",
    "        sys.path.append(os.path.abspath(\"..\"))\n",
    "        import salientsdk as sk\n",
    "    else:\n",
    "        raise ModuleNotFoundError(\"Install salient SDK with: pip install salientsdk\")\n",
    "\n",
    "sk.set_file_destination(\"direct-access\")\n",
    "sk.login(\"SALIENT_USERNAME\", \"SALIENT_PASSWORD\")"
   ]
  },
  {
   "cell_type": "markdown",
   "metadata": {},
   "source": [
    "# Dataset access\n",
    "\n",
    "If you're already comfortable with `xarray`, you may just want access to the `dask`-backed datasets for an entire region or the `global` region. Each request requires the creation of a `location` object. You can choose any of `region` in `[\"africa\", \"asia\", \"europe\", \"global\", \"north-america\", \"russia\", \"south-america\", \"south-pacific\"]`."
   ]
  },
  {
   "cell_type": "code",
   "execution_count": null,
   "metadata": {},
   "outputs": [],
   "source": [
    "loc_region = sk.Location(region=\"global\")"
   ]
  },
  {
   "cell_type": "markdown",
   "metadata": {},
   "source": [
    "### Accessing GEM forecasts\n",
    "\n",
    "The GEM datasets are provided in their native format from `2020-01-01` to the current forecast release and have support for the following values:\n",
    "\n",
    "- `variable`: `[\"cc\", \"cdd\", \"dewpoint\", \"hdd\", \"heat_index\", \"hgt500\", \"mslp\", \"rh\", \"precip\", \"temp\", \"tmax\", \"tmin\", \"tsi\", \"wind_chill\", \"wgst\", \"wspd\", \"wspd100\"]`\n",
    "- `field`: `[\"vals_ens\", \"vals\"]` where `_ens` returns the 200 ensemble member values while `vals` return the data in the same quantile space as `v9`.\n",
    "- `model`: `[\"gem\"]`\n",
    "- `timescale`: `[\"daily\"]`"
   ]
  },
  {
   "cell_type": "code",
   "execution_count": null,
   "metadata": {},
   "outputs": [],
   "source": [
    "ds = sk.ForecastZarr(\n",
    "    location=loc_region,\n",
    "    variable=[\"tmin\", \"hdd\", \"wind_chill\"],\n",
    "    field=\"vals_ens\",\n",
    "    model=\"gem\",\n",
    "    timescale=\"daily\",\n",
    "    start=\"2025-01-01\",\n",
    "    end=\"today\",\n",
    "    # If you already have your credentials in your environment, you can omit the following\n",
    "    # as these credentials variables will be loaded automatically\n",
    "    # key_id=os.environ.get(\"SALIENT_KEY_ID\", \"your_key_id\"),\n",
    "    # key_secret=os.environ.get(\"SALIENT_KEY_SECRET\", \"your_key_secret\"),\n",
    "    # direct_url=os.environ.get(\"SALIENT_DIRECT_URL\", \"your_direct_url\"),\n",
    ").open_dataset()\n",
    "ds"
   ]
  },
  {
   "cell_type": "markdown",
   "metadata": {},
   "source": [
    "You can see there is `num_leads` coordinate in the dataset. This is because that the number of daily leads differs between the reforecast and operational dataset.\n",
    "\n",
    "From 2020-01-01 to 2025-09-30, the forecast has 46 daily leads unless the forecast was made on a Monday, in which case it has 126 leads. From 2025-10-01 onward, each forecast date has 126 lead days.\n",
    "\n",
    "If you are performing an analyis on timescales longer than 46 days during the reforecast period, this allows you then to select out only those forecast dates which have 126 lead days."
   ]
  },
  {
   "cell_type": "code",
   "execution_count": null,
   "metadata": {},
   "outputs": [],
   "source": [
    "ds.where(ds.num_leads == 126, drop=True)"
   ]
  },
  {
   "cell_type": "markdown",
   "metadata": {},
   "source": [
    "### Accessing v9 forecasts\n",
    "\n",
    "The following values are supported:\n",
    "- `variable`: `[\"temp\", \"precip\", \"wspd\", \"tsi\", \"cdd\", \"hdd\"]`\n",
    "- `field`: `[\"anom\", \"vals\"]`\n",
    "- `model`: `[\"blend\", \"noaa_gefs\", \"ecmwf_ens\", \"ecmwf_seas5\", \"truth\"]`\n",
    "- `timescale`: `[\"sub-seasonal\", \"seasonal\", \"long-range\"]`\n",
    "\n",
    "Currently, only the forecasts for the `north-america` region are made available for direct access."
   ]
  },
  {
   "cell_type": "code",
   "execution_count": null,
   "metadata": {},
   "outputs": [],
   "source": [
    "loc_region = sk.Location(region=\"north-america\")\n",
    "ds_v9 = sk.ForecastZarr(\n",
    "    location=loc_region,\n",
    "    variable=\"temp\",\n",
    "    field=[\"anom\", \"vals\"],\n",
    "    model=\"blend\",\n",
    "    timescale=\"sub-seasonal\",\n",
    "    # If you already have your credentials in your environment, you can omit the following\n",
    "    # as these credentials variables will be loaded automatically\n",
    "    # key_id=os.environ.get(\"SALIENT_KEY_ID\", \"your_key_id\"),\n",
    "    # key_secret=os.environ.get(\"SALIENT_KEY_SECRET\", \"your_key_secret\"),\n",
    "    # direct_url=os.environ.get(\"SALIENT_DIRECT_URL\", \"your_direct_url\"),\n",
    ").open_dataset()\n",
    "ds_v9"
   ]
  },
  {
   "cell_type": "markdown",
   "metadata": {},
   "source": [
    "# Accessing location-specific values\n",
    "\n",
    "You can use `location` files in order to get forecasts at specifc locations, and similar to compute `anom` it generates a large `dask` graph and can take a while to compute."
   ]
  },
  {
   "cell_type": "code",
   "execution_count": null,
   "metadata": {},
   "outputs": [],
   "source": [
    "loc_file = sk.upload_location_file(\n",
    "    lats=[37.7749, 33.9416, 32.7336],\n",
    "    lons=[-122.4194, -118.4085, -117.1897],\n",
    "    names=[\"SFO\", \"LAX\", \"SAN\"],\n",
    "    geoname=\"CA_Airports\",\n",
    ")\n",
    "loc = sk.Location(location_file=loc_file)"
   ]
  },
  {
   "cell_type": "code",
   "execution_count": null,
   "metadata": {},
   "outputs": [],
   "source": [
    "ds = sk.ForecastZarr(\n",
    "    location=loc,\n",
    "    variable=\"tmax\",\n",
    "    field=\"vals_ens\",\n",
    "    model=\"gem\",\n",
    "    timescale=\"daily\",\n",
    "    start=\"2025-10-01\",\n",
    "    # end=\"2025-01-31\",\n",
    "    # If you already have your credentials in your environment, you can omit the following\n",
    "    # as these credentials variables will be loaded automatically\n",
    "    # key_id=os.environ.get(\"SALIENT_KEY_ID\", \"your_key_id\"),\n",
    "    # key_secret=os.environ.get(\"SALIENT_KEY_SECRET\", \"your_key_secret\"),\n",
    "    # direct_url=os.environ.get(\"SALIENT_DIRECT_URL\", \"your_direct_url\"),\n",
    ").open_dataset()\n",
    "ds"
   ]
  },
  {
   "cell_type": "markdown",
   "metadata": {},
   "source": [
    "So if you are looking to compute for a large number of locations it can be helpful to reduce the dataset size down before grabbing data for specific locations.\n",
    "An easy way to illustrate this is with seasonal variables, e.g., an interest in `tmax/cdd/heat_index` only in summer or warm months.\n",
    "If this is the case, it's beneficial to grab data for the whole region, subselect the desired forecast dates, and then get the data at the desired locations."
   ]
  },
  {
   "cell_type": "code",
   "execution_count": null,
   "metadata": {},
   "outputs": [],
   "source": [
    "import pandas as pd\n",
    "\n",
    "loc_region = sk.Location(region=\"global\")\n",
    "fz = sk.ForecastZarr(\n",
    "    location=loc_region,\n",
    "    variable=[\"tmax\", \"cdd\", \"heat_index\"],\n",
    "    field=\"vals_ens\",\n",
    "    model=\"gem\",\n",
    "    timescale=\"daily\",\n",
    "    start=\"2024-04-01\",\n",
    "    end=\"today\",\n",
    "    # If you already have your credentials in your environment, you can omit the following\n",
    "    # as these credentials variables will be loaded automatically\n",
    "    # key_id=os.environ.get(\"SALIENT_KEY_ID\", \"your_key_id\"),\n",
    "    # key_secret=os.environ.get(\"SALIENT_KEY_SECRET\", \"your_key_secret\"),\n",
    "    # direct_url=os.environ.get(\"SALIENT_DIRECT_URL\", \"your_direct_url\"),\n",
    ")\n",
    "ds = fz.open_dataset()\n",
    "\n",
    "forecast_dates = [\n",
    "    fd for fd in ds.forecast_date.values if pd.Timestamp(fd).month in [5, 6, 7, 8, 9]\n",
    "]\n",
    "ds_summer = ds.sel(forecast_date=forecast_dates)\n",
    "ds_summer"
   ]
  },
  {
   "cell_type": "code",
   "execution_count": null,
   "metadata": {},
   "outputs": [],
   "source": [
    "loc_df = pd.read_csv(loc_file)\n",
    "lat, lon = fz.make_coords_dataarrays(\n",
    "    lon=loc_df[\"lon\"], lat=loc_df[\"lat\"], names=loc_df[\"name\"]\n",
    ")  # This creates xarray DataArrays for lat and lon\n",
    "# By default this does linear interpolation, if you just want to get the grid value you can do `method=\"nearest\"`, which will be much faster.\n",
    "ds_summer_locs = fz.interp_to_coords(ds_summer, lat=lat, lon=lon)\n",
    "ds_summer_locs"
   ]
  }
 ],
 "metadata": {
  "kernelspec": {
   "display_name": "salientsdk-mef0K3y7-py3.11",
   "language": "python",
   "name": "python3"
  },
  "language_info": {
   "codemirror_mode": {
    "name": "ipython",
    "version": 3
   },
   "file_extension": ".py",
   "mimetype": "text/x-python",
   "name": "python",
   "nbconvert_exporter": "python",
   "pygments_lexer": "ipython3",
   "version": "3.11.10"
  }
 },
 "nbformat": 4,
 "nbformat_minor": 2
}
