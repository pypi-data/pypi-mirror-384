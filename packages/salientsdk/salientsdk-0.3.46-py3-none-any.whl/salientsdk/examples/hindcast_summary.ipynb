{
 "cells": [
  {
   "cell_type": "markdown",
   "metadata": {},
   "source": [
    "# Hindcast Summary Demo\n",
    "\n",
    "This example shows how to access Salient's rigorous data validation system and highlight areas of particular interest.\n"
   ]
  },
  {
   "cell_type": "code",
   "execution_count": null,
   "metadata": {},
   "outputs": [
    {
     "data": {
      "text/plain": [
       "<requests.sessions.Session at 0x7fceb818b810>"
      ]
     },
     "execution_count": null,
     "metadata": {},
     "output_type": "execute_result"
    }
   ],
   "source": [
    "import os\n",
    "import sys\n",
    "\n",
    "import pandas as pd\n",
    "\n",
    "# Prevent wrapping on tables for readability\n",
    "pd.set_option(\"display.width\", None)\n",
    "pd.set_option(\"display.max_columns\", None)\n",
    "pd.set_option(\"display.expand_frame_repr\", False)\n",
    "\n",
    "try:\n",
    "    import salientsdk as sk\n",
    "except ModuleNotFoundError as e:\n",
    "    if os.path.exists(\"../salientsdk\"):\n",
    "        sys.path.append(os.path.abspath(\"..\"))\n",
    "        import salientsdk as sk\n",
    "    else:\n",
    "        raise ModuleNotFoundError(\"Install salient SDK with: pip install salientsdk\")\n",
    "\n",
    "sk.set_file_destination(\"hindcast_summary_example\", force=False)\n",
    "sk.login(\"SALIENT_USERNAME\", \"SALIENT_PASSWORD\", verbose=False)"
   ]
  },
  {
   "cell_type": "markdown",
   "metadata": {},
   "source": [
    "## Validate\n",
    "\n",
    "The `hindcast_summary` function is a convenience interface to the `hindast_summary` [API endpoint](https://api.salientpredictions.com/v2/documentation/api/#/Validation/hindcast_summary) which delivers accuracy statistics. This example vectorizes multiple requests, downloads them in parallel, and concatenates all the results into a single file.\n"
   ]
  },
  {
   "cell_type": "code",
   "execution_count": null,
   "metadata": {},
   "outputs": [
    {
     "name": "stdout",
     "output_type": "stream",
     "text": [
      "hindcast_summary_example/hindcast_summary_dda9e7bca8ffdd70d3268eb30d8683d2.csv\n",
      "            Lead      Reference Model  Reference CRPS  Salient CRPS  Salient CRPS Skill Score (%)         region season variable\n",
      "0         Week 1  30 year Climatology           2.568         0.786                         68.81  united states    DJF     temp\n",
      "1         Week 2  30 year Climatology           2.567         1.786                         30.67  united states    DJF     temp\n",
      "2         Week 3  30 year Climatology           2.567         2.313                         10.04  united states    DJF     temp\n",
      "3         Week 4  30 year Climatology           2.567         2.462                          4.21  united states    DJF     temp\n",
      "4         Week 5  30 year Climatology           2.567         2.476                          3.74  united states    DJF     temp\n",
      "..           ...                  ...             ...           ...                           ...            ...    ...      ...\n",
      "91       Month 3  30 year Climatology           0.688         0.676                          1.68        germany    JJA   precip\n",
      "92    Months 1-3  30 year Climatology           0.389         0.378                          2.66        germany    JJA   precip\n",
      "93    Months 4-6  30 year Climatology           0.389         0.378                          2.76        germany    JJA   precip\n",
      "94    Months 7-9  30 year Climatology           0.388         0.378                          2.35        germany    JJA   precip\n",
      "95  Months 10-12  30 year Climatology           0.388         0.380                          1.94        germany    JJA   precip\n",
      "\n",
      "[96 rows x 8 columns]\n"
     ]
    }
   ],
   "source": [
    "score_file = sk.hindcast_summary(\n",
    "    loc=sk.Location(region=[\"united states\", \"germany\"]),\n",
    "    variable=[\"temp\", \"precip\"],  # Vectorize multi-variable\n",
    "    metric=\"crps_skill_score\",\n",
    "    reference=\"clim\",\n",
    "    season=[\"DJF\", \"JJA\"],  # Vectorize meteorological winter and summer\n",
    "    version=\"-default\",  # this is vectorizable\n",
    "    force=False,\n",
    "    verbose=False,\n",
    ")\n",
    "\n",
    "print(score_file)\n",
    "print(pd.read_csv(score_file))"
   ]
  },
  {
   "cell_type": "markdown",
   "metadata": {},
   "source": [
    "# Simplify Score File\n",
    "\n",
    "The native score file returned by `hindcast_summary` is \"data-long\", which means that each `Lead` time gets a row of its own. To make the data more compact, we can focus only on the 5th \"skill score\" column and transpose all of its rows to columns. Use the sdk function `transpose_hindcast_summary()` to transform the hindcast csv.\n",
    "\n",
    "The min_score argument converts any score below the threshold value into `NaN`. By default, this is set to zero. In this example, setting it to `5.0` creates a \"bright spot\" analysis which highlights the examples where the Salient forecast significantly outperforms the reference model.\n"
   ]
  },
  {
   "cell_type": "code",
   "execution_count": null,
   "metadata": {},
   "outputs": [
    {
     "name": "stdout",
     "output_type": "stream",
     "text": [
      "hindcast_summary_example/hindcast_summary_transposed.csv\n",
      "Lead                           Week 1  Week 2  Week 3  Week 4  Week 5  Month 1  Month 2  Month 3  Months 1-3  Months 4-6  Months 7-9  Months 10-12   mean\n",
      "region        season variable                                                                                                                            \n",
      "germany       DJF    precip     52.66   12.66     NaN     NaN     NaN    14.06      NaN      NaN         NaN         NaN         NaN           NaN    NaN\n",
      "                     temp       73.36   33.48   10.56    6.80    6.27    33.21     7.91     8.50       12.23       10.67        6.62          5.87   7.92\n",
      "              JJA    precip     37.68    6.95     NaN     NaN     NaN    11.93      NaN      NaN         NaN         NaN         NaN           NaN    NaN\n",
      "                     temp       72.63   30.09   12.40    9.33    9.35    35.55    19.87    19.14       20.70       22.30       21.96         22.30  14.15\n",
      "united states DJF    precip     48.59   12.16     NaN     NaN     NaN    15.20      NaN      NaN        8.25        6.31         NaN           NaN    NaN\n",
      "                     temp       68.81   30.67   10.04     NaN     NaN    26.51     5.81     6.31       12.99       11.90        8.45          9.24   6.62\n",
      "              JJA    precip     35.23    6.28     NaN     NaN     NaN    11.59      NaN      NaN        6.21        6.54         NaN           NaN    NaN\n",
      "                     temp       63.12   25.08   12.65   10.69    9.56    33.54    18.02    16.95       21.13       19.26       14.11         14.59  13.13\n"
     ]
    }
   ],
   "source": [
    "scores = sk.transpose_hindcast_summary(score_file, min_score=5.0)\n",
    "\n",
    "save_file = os.path.join(sk.get_file_destination(), \"hindcast_summary_transposed.csv\")\n",
    "scores.to_csv(save_file)\n",
    "\n",
    "print(save_file)\n",
    "print(scores)"
   ]
  }
 ],
 "metadata": {
  "kernelspec": {
   "display_name": "Python 3",
   "language": "python",
   "name": "python3"
  },
  "language_info": {
   "codemirror_mode": {
    "name": "ipython",
    "version": 3
   },
   "file_extension": ".py",
   "mimetype": "text/x-python",
   "name": "python",
   "nbconvert_exporter": "python",
   "pygments_lexer": "ipython3",
   "version": "3.11.5"
  }
 },
 "nbformat": 4,
 "nbformat_minor": 2
}
