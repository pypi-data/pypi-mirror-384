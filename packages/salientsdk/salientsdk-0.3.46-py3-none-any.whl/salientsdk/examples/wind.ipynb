{
 "cells": [
  {
   "cell_type": "markdown",
   "metadata": {},
   "source": [
    "# Wind Energy\n"
   ]
  },
  {
   "cell_type": "code",
   "execution_count": null,
   "metadata": {},
   "outputs": [
    {
     "data": {
      "text/plain": [
       "<requests.sessions.Session at 0x7efc888bfd10>"
      ]
     },
     "execution_count": null,
     "metadata": {},
     "output_type": "execute_result"
    }
   ],
   "source": [
    "import os\n",
    "import sys\n",
    "\n",
    "import matplotlib.pyplot as plt\n",
    "import xarray as xr\n",
    "\n",
    "try:\n",
    "    import salientsdk as sk\n",
    "except ModuleNotFoundError as e:\n",
    "    if os.path.exists(\"../salientsdk\"):\n",
    "        sys.path.append(os.path.abspath(\"..\"))\n",
    "        import salientsdk as sk\n",
    "    else:\n",
    "        raise ModuleNotFoundError(\"Install salient SDK with: pip install salientsdk\")\n",
    "\n",
    "\n",
    "# These are the variables we need to convert wind to power:\n",
    "vars = \"wspd,wspd100,temp\"\n",
    "# Temporal resolution of the time series:\n",
    "freq = \"hourly\"\n",
    "# Analyze one year of data:\n",
    "(start_date, end_date) = (\"2022-01-01\", \"2022-12-31\")\n",
    "# When we want to plot a timeseries, focus on a specific month:\n",
    "plt_time = slice(\"2022-02-01\", \"2022-02-28\")\n",
    "\n",
    "\n",
    "sk.set_file_destination(\"wind_example\")\n",
    "sk.login(\"SALIENT_USERNAME\", \"SALIENT_PASSWORD\")"
   ]
  },
  {
   "cell_type": "markdown",
   "metadata": {},
   "source": [
    "## Get Source Data\n",
    "\n",
    "To start, call the Salient API to get an hourly forecast of wind-relevant meteorological varibles. Then get historical observed values for comparison.\n"
   ]
  },
  {
   "cell_type": "markdown",
   "metadata": {},
   "source": [
    "### Set geographic bounds\n",
    "\n",
    "The Salient SDK uses a `Location` object to specify the geographic bounds of a request. Let's analyze wind energy at 3 sites. Escalade (Texas) features modern high-capacity wind turbines on tall towers. Twin Groves (Illinois) and Windy Point (Oregon) have older moderate-capacity turbines on shorter towers.\n"
   ]
  },
  {
   "cell_type": "code",
   "execution_count": null,
   "metadata": {},
   "outputs": [],
   "source": [
    "if True:  # Analyze wind at 3 locations with a location_file\n",
    "    loc_file = sk.upload_location_file(\n",
    "        lats=[33.735371, 40.445091, 45.710293],\n",
    "        lons=[-99.646866, -88.696297, -120.848785],\n",
    "        names=[\"Escalade\", \"Twin Groves I\", \"Windy Point IIa\"],\n",
    "        hub_height=[119, 80, 80],  # meters\n",
    "        elevation=[444, 260, 582],  # meters\n",
    "        rated_capacity=[5.6, 1.65, 2.3],  # Megawatts\n",
    "        turbine_count=[65, 121, 24],\n",
    "        turbine_model=[\"V162-5.6\", \"V82-1.65\", \"SWT-2.3-93\"],\n",
    "        turbine_manufacturer=[\"Vestas\", \"Vestas\", \"Siemens\"],\n",
    "        year_online=[2022, 2007, 2009],\n",
    "        geoname=\"wind_example\",\n",
    "        force=False,\n",
    "    )\n",
    "    loc = sk.Location(location_file=loc_file)\n",
    "\n",
    "    def add_turbines(ds, loc, force=False):\n",
    "        \"\"\"Add elevation, hub height, and turbine model data to the dataset.\"\"\"\n",
    "        return sk.merge_location_data(ds, loc_file)\n",
    "\n",
    "    def plot_timeseries(ds, timeslice=plt_time):\n",
    "        \"\"\"Plot the data vs time.\"\"\"\n",
    "        if timeslice is not None:\n",
    "            ds = ds.sel(time=timeslice)\n",
    "\n",
    "        if \"ensemble\" in ds.coords:\n",
    "            plt_h = ds.plot(\n",
    "                x=\"time\",\n",
    "                hue=\"ensemble\",\n",
    "                col=\"location\",\n",
    "                size=5,\n",
    "                aspect=1,\n",
    "                add_legend=False,\n",
    "                color=\"#80808040\",\n",
    "            )\n",
    "        else:\n",
    "            # Use this for historical data_timeseries\n",
    "            ds.plot(x=\"time\", hue=\"location\")\n",
    "\n",
    "else:  # Analyze wind over the Western ERCOT region with a shapefile\n",
    "    coords = [\n",
    "        (-103.25, 32.00),\n",
    "        (-105.50, 32.00),\n",
    "        (-105.50, 31.00),\n",
    "        (-104.50, 29.50),\n",
    "        (-103.25, 29.00),\n",
    "        (-102.50, 29.75),\n",
    "        (-101.25, 29.50),\n",
    "        (-100.50, 29.00),\n",
    "        (-98.000, 34.00),\n",
    "        (-100.00, 34.50),\n",
    "        (-100.00, 35.75),\n",
    "        (-103.25, 35.75),\n",
    "    ]\n",
    "\n",
    "    shape_file = sk.upload_shapefile(coords, \"ercot_west\", force=False)\n",
    "    loc = sk.Location(shapefile=shape_file)\n",
    "\n",
    "    def add_turbines(ds, loc, force=False):\n",
    "        \"\"\"Add elevation, hub height, and turbine model data to the dataset.\"\"\"\n",
    "        ds[\"hub_height\"] = xr.DataArray(95)\n",
    "        ds[\"turbine_model\"] = xr.DataArray(\"SWT-2.3-93\")\n",
    "\n",
    "        elev = xr.load_dataset(sk.geo(loc, variables=\"elevation\", force=False, verbose=False))\n",
    "        elev = elev.interp(lat=ds.lat, lon=ds.lon, method=\"linear\")\n",
    "        ds = ds.merge(elev)\n",
    "\n",
    "        return ds\n",
    "\n",
    "    def plot_timeseries(ds, timeslice=plt_time):\n",
    "        \"\"\"Plot the data vs time.\"\"\"\n",
    "        if timeslice is not None:\n",
    "            ds = ds.sel(time=timeslice)\n",
    "\n",
    "        # get all dimensions of the dataset that are not \"time\"\n",
    "        dims = [dim for dim in ds.dims if dim != \"time\"]\n",
    "        ds_avg = ds.mean(dim=dims)\n",
    "        ds_std = ds.std(dim=dims)\n",
    "        ds_avg.attrs = ds.attrs\n",
    "        ds_std.attrs = ds.attrs\n",
    "\n",
    "        fig, ax = plt.subplots()\n",
    "        ds_avg.plot(ax=ax)\n",
    "        ax.fill_between(\n",
    "            ds_avg[\"time\"],\n",
    "            ds_avg - ds_std,\n",
    "            ds_avg + ds_std,\n",
    "            color=\"gray\",\n",
    "            alpha=0.25,\n",
    "        )"
   ]
  },
  {
   "cell_type": "markdown",
   "metadata": {},
   "source": [
    "### Get Historical Observed Data\n"
   ]
  },
  {
   "cell_type": "code",
   "execution_count": null,
   "metadata": {},
   "outputs": [
    {
     "name": "stdout",
     "output_type": "stream",
     "text": [
      "<xarray.Dataset> Size: 699kB\n",
      "Dimensions:               (location: 3, time: 8737)\n",
      "Coordinates:\n",
      "  * location              (location) object 24B 'Escalade' ... 'Windy Point IIa'\n",
      "  * time                  (time) datetime64[ns] 70kB 2022-01-01 ... 2022-12-31\n",
      "    lat                   (location) float64 24B 33.74 40.45 45.71\n",
      "    lon                   (location) float64 24B -99.65 -88.7 -120.8\n",
      "Data variables:\n",
      "    hub_height            (location) int64 24B 119 80 80\n",
      "    elevation             (location) int64 24B 444 260 582\n",
      "    rated_capacity        (location) float64 24B 5.6 1.65 2.3\n",
      "    turbine_count         (location) int64 24B 65 121 24\n",
      "    turbine_model         (location) object 24B 'V162-5.6' ... 'SWT-2.3-93'\n",
      "    turbine_manufacturer  (location) object 24B 'Vestas' 'Vestas' 'Siemens'\n",
      "    year_online           (location) int64 24B 2022 2007 2009\n",
      "    wspd                  (time, location) float64 210kB 3.592 3.517 ... 1.135\n",
      "    wspd100               (time, location) float64 210kB 6.842 8.078 ... 2.421\n",
      "    temp                  (time, location) float64 210kB 17.27 10.65 ... 5.321\n"
     ]
    }
   ],
   "source": [
    "file_hst = sk.data_timeseries(\n",
    "    loc=loc,\n",
    "    variable=vars,\n",
    "    field=\"vals\",\n",
    "    frequency=freq,\n",
    "    start=start_date,\n",
    "    end=end_date,\n",
    ")\n",
    "\n",
    "# Load all of the history files into a single dataset:\n",
    "hst = sk.load_multihistory(file_hst, fields=[\"vals\"])\n",
    "\n",
    "# Add extra columns like elevation and turbine_count to the dataset:\n",
    "hst = add_turbines(hst, loc)\n",
    "print(hst)\n",
    "\n",
    "plot_timeseries(hst[\"wspd100\"])\n",
    "plt.title(f\"{freq} historical actuals\");"
   ]
  },
  {
   "cell_type": "markdown",
   "metadata": {},
   "source": [
    "### Downscale Forecast\n",
    "\n",
    "The `downscale` API endpoint converts Salient's temporally granular weekly/monthly/quarterly forecasts into an hourly ensemble of timeseries.\n"
   ]
  },
  {
   "cell_type": "code",
   "execution_count": null,
   "metadata": {},
   "outputs": [
    {
     "name": "stdout",
     "output_type": "stream",
     "text": [
      "<xarray.Dataset> Size: 4MB\n",
      "Dimensions:               (location: 3, time: 8783, ensemble: 11)\n",
      "Coordinates:\n",
      "  * location              (location) object 24B 'Escalade' ... 'Windy Point IIa'\n",
      "    analog                (time, ensemble) datetime64[ns] 773kB NaT ... 1991-...\n",
      "  * time                  (time) datetime64[ns] 70kB 2022-01-01T01:00:00 ... ...\n",
      "  * ensemble              (ensemble) int32 44B 0 1 2 3 4 5 6 7 8 9 10\n",
      "    lat                   (location) float64 24B 33.74 40.45 45.71\n",
      "    lon                   (location) float64 24B -99.65 -88.7 -120.8\n",
      "    forecast_date         datetime64[ns] 8B 2022-01-01\n",
      "Data variables:\n",
      "    hub_height            (location) int64 24B 119 80 80\n",
      "    elevation             (location) int64 24B 444 260 582\n",
      "    rated_capacity        (location) float64 24B 5.6 1.65 2.3\n",
      "    turbine_count         (location) int64 24B 65 121 24\n",
      "    turbine_model         (location) object 24B 'V162-5.6' ... 'SWT-2.3-93'\n",
      "    turbine_manufacturer  (location) object 24B 'Vestas' 'Vestas' 'Siemens'\n",
      "    year_online           (location) int64 24B 2022 2007 2009\n",
      "    wspd100               (time, location, ensemble) float32 1MB nan ... 2.237\n",
      "    temp                  (time, location, ensemble) float32 1MB nan ... -1.203\n",
      "    wspd                  (time, location, ensemble) float32 1MB nan ... 1.534\n"
     ]
    }
   ],
   "source": [
    "file_dsc = sk.downscale(\n",
    "    loc=loc,\n",
    "    variables=vars,\n",
    "    date=start_date,\n",
    "    frequency=freq,\n",
    "    members=11,\n",
    ")\n",
    "\n",
    "dsc = add_turbines(xr.load_dataset(file_dsc), loc)\n",
    "\n",
    "# Make downscaled forecasts consistent with historical timeseries\n",
    "if \"forecast_day\" in dsc:\n",
    "    dsc = dsc.rename({\"forecast_day\": \"time\"})\n",
    "\n",
    "print(dsc)\n",
    "plot_timeseries(dsc[\"wspd100\"])"
   ]
  },
  {
   "cell_type": "markdown",
   "metadata": {},
   "source": [
    "## Wind to Power\n",
    "\n",
    "Now that we have wind and temperature, let's translate them to megawatts.\n"
   ]
  },
  {
   "cell_type": "markdown",
   "metadata": {},
   "source": [
    "### Shear to Hub Height\n",
    "\n",
    "Each of the sites has a different tower height. We need to interpolate or extrapolate 10m and 100m wind speeds to the hub height at each location.\n"
   ]
  },
  {
   "cell_type": "code",
   "execution_count": null,
   "metadata": {},
   "outputs": [
    {
     "name": "stdout",
     "output_type": "stream",
     "text": [
      "<xarray.Dataset> Size: 909kB\n",
      "Dimensions:               (location: 3, time: 8737)\n",
      "Coordinates:\n",
      "  * location              (location) object 24B 'Escalade' ... 'Windy Point IIa'\n",
      "  * time                  (time) datetime64[ns] 70kB 2022-01-01 ... 2022-12-31\n",
      "    lat                   (location) float64 24B 33.74 40.45 45.71\n",
      "    lon                   (location) float64 24B -99.65 -88.7 -120.8\n",
      "Data variables:\n",
      "    hub_height            (location) int64 24B 119 80 80\n",
      "    elevation             (location) int64 24B 444 260 582\n",
      "    rated_capacity        (location) float64 24B 5.6 1.65 2.3\n",
      "    turbine_count         (location) int64 24B 65 121 24\n",
      "    turbine_model         (location) object 24B 'V162-5.6' ... 'SWT-2.3-93'\n",
      "    turbine_manufacturer  (location) object 24B 'Vestas' 'Vestas' 'Siemens'\n",
      "    year_online           (location) int64 24B 2022 2007 2009\n",
      "    wspd                  (time, location) float64 210kB 3.592 3.517 ... 1.135\n",
      "    wspd100               (time, location) float64 210kB 6.842 8.078 ... 2.421\n",
      "    temp                  (time, location) float64 210kB 17.27 10.65 ... 5.321\n",
      "    wspdhh                (time, location) float64 210kB 7.183 7.453 ... 2.249\n"
     ]
    }
   ],
   "source": [
    "hst[\"wspdhh\"] = sk.wind.shear_wind(hst[\"wspd100\"], hst[\"wspd\"], hst[\"hub_height\"])\n",
    "print(hst)\n",
    "\n",
    "if loc.location_file:\n",
    "    hst.plot.scatter(x=\"wspd100\", y=\"wspdhh\", hue=\"location\")\n",
    "else:\n",
    "    hst[[\"wspd100\", \"wspdhh\"]].mean(dim=\"time\").plot.scatter(x=\"wspd100\", y=\"wspdhh\")\n",
    "    plt.title(\"Shear to Hub Height\")\n",
    "\n",
    "plt.autoscale(False)\n",
    "plt_diag = plt.plot([0, 25], [0, 25], \"--k\")"
   ]
  },
  {
   "cell_type": "markdown",
   "metadata": {},
   "source": [
    "### Correct for Air Density\n",
    "\n",
    "Manufacturers denominate their power curves in terms of air density, often sea level. We will use elevation and temperature to modify wind speeds to match the power curve.\n"
   ]
  },
  {
   "cell_type": "code",
   "execution_count": null,
   "metadata": {},
   "outputs": [],
   "source": [
    "hst[\"wspddc\"] = sk.wind.correct_wind_density(\n",
    "    wspd=hst[\"wspdhh\"],\n",
    "    dens=1.225,\n",
    "    temp=hst[\"temp\"],\n",
    "    elev=hst[\"elevation\"] + hst[\"hub_height\"],\n",
    ")\n",
    "\n",
    "if loc.location_file:\n",
    "    with xr.Dataset({\"temp\": hst.temp, \"dif\": hst.wspddc / hst.wspdhh}) as dif:\n",
    "        dif.plot.scatter(x=\"temp\", y=\"dif\", hue=\"location\")\n",
    "elif loc.shapefile:\n",
    "    with xr.Dataset(\n",
    "        {\"temp\": hst.temp, \"elevation\": hst.elevation, \"dif\": hst.wspddc / hst.wspdhh}\n",
    "    ).mean(dim=\"time\") as dif:\n",
    "        print(dif)\n",
    "        dif.plot.scatter(x=\"temp\", y=\"dif\", hue=\"elevation\", cmap=\"terrain\", vmin=0)\n",
    "plt.title(\"Wind Density Correction\")\n",
    "plt.ylabel(\"Corrected Wind Speed / Raw Wind Speed\")\n",
    "plt.xlabel(\"Temperature (K)\");"
   ]
  },
  {
   "cell_type": "markdown",
   "metadata": {},
   "source": [
    "### Define Turbine Power Curves\n"
   ]
  },
  {
   "cell_type": "code",
   "execution_count": null,
   "metadata": {},
   "outputs": [
    {
     "name": "stdout",
     "output_type": "stream",
     "text": [
      "<xarray.DataArray 'power_curve' (wind_speed: 5, turbine_model: 3)> Size: 120B\n",
      "array([[0.   , 0.   , 0.   ],\n",
      "       [0.027, 0.   , 0.   ],\n",
      "       [0.144, 0.01 , 0.026],\n",
      "       [0.289, 0.028, 0.053],\n",
      "       [0.464, 0.075, 0.1  ]])\n",
      "Coordinates:\n",
      "  * wind_speed     (wind_speed) float64 40B 0.0 3.0 3.5 4.0 4.5\n",
      "  * turbine_model  (turbine_model) object 24B 'V162-5.6' 'V82-1.65' 'SWT-2.3-93'\n",
      "Attributes:\n",
      "    units:          MW\n",
      "    long_name:      Power\n",
      "    standard_name:  power_curve\n"
     ]
    }
   ],
   "source": [
    "pc = sk.wind.get_power_curve(turbine_model=hst[\"turbine_model\"])\n",
    "print(pc.head())\n",
    "plt_curves = pc.plot.line(x=\"wind_speed\")"
   ]
  },
  {
   "cell_type": "markdown",
   "metadata": {},
   "source": [
    "### Apply Power Curve\n",
    "\n",
    "Feed the density-corrected hub-height wind speeds through the power curve to get power production.\n"
   ]
  },
  {
   "cell_type": "code",
   "execution_count": null,
   "metadata": {},
   "outputs": [
    {
     "name": "stdout",
     "output_type": "stream",
     "text": [
      "<xarray.DataArray 'power' (time: 8737, location: 3)> Size: 210kB\n",
      "array([[2.1645533 , 0.62240475, 0.        ],\n",
      "       [2.96460284, 0.47617704, 0.        ],\n",
      "       [3.32678462, 0.55230746, 0.        ],\n",
      "       ...,\n",
      "       [0.30359419, 0.        , 0.        ],\n",
      "       [0.77323862, 0.00364891, 0.        ],\n",
      "       [1.9277592 , 0.02549899, 0.        ]])\n",
      "Coordinates:\n",
      "  * location  (location) <U15 180B 'Escalade' 'Twin Groves I' 'Windy Point IIa'\n",
      "  * time      (time) datetime64[ns] 70kB 2022-01-01 ... 2022-12-31\n",
      "    lat       (location) float64 24B 33.74 40.45 45.71\n",
      "    lon       (location) float64 24B -99.65 -88.7 -120.8\n",
      "Attributes:\n",
      "    units:          MW\n",
      "    long_name:      Wind Power\n",
      "    standard_name:  power\n"
     ]
    }
   ],
   "source": [
    "hst[\"power\"] = sk.wind.calc_wind_power(hst[\"wspdhh\"], hst[\"turbine_model\"])\n",
    "print(hst.power)\n",
    "\n",
    "plot_timeseries(hst[\"power\"])"
   ]
  },
  {
   "cell_type": "markdown",
   "metadata": {},
   "source": [
    "### End-to-End Wind-to-Power\n",
    "\n",
    "As a convenience, the function `calc_wind_power_all` will shear, density correct, and calculate power. Let's use it with the `downscale` dataset so we don't have to run each step individually.\n"
   ]
  },
  {
   "cell_type": "code",
   "execution_count": null,
   "metadata": {},
   "outputs": [
    {
     "name": "stdout",
     "output_type": "stream",
     "text": [
      "<xarray.Dataset> Size: 5MB\n",
      "Dimensions:        (location: 3, time: 8783, ensemble: 11)\n",
      "Coordinates:\n",
      "  * location       (location) object 24B 'Escalade' ... 'Windy Point IIa'\n",
      "    analog         (time, ensemble) datetime64[ns] 773kB NaT ... 1991-12-17T2...\n",
      "  * time           (time) datetime64[ns] 70kB 2022-01-01T01:00:00 ... 2023-01...\n",
      "  * ensemble       (ensemble) int32 44B 0 1 2 3 4 5 6 7 8 9 10\n",
      "    lat            (location) float64 24B 33.74 40.45 45.71\n",
      "    lon            (location) float64 24B -99.65 -88.7 -120.8\n",
      "    forecast_date  datetime64[ns] 8B 2022-01-01\n",
      "Data variables:\n",
      "    wspdhh         (time, location, ensemble) float64 2MB nan nan ... 2.217\n",
      "    power          (time, location, ensemble) float64 2MB nan nan ... 0.638 0.0\n"
     ]
    }
   ],
   "source": [
    "pwr_dsc = sk.wind.calc_wind_power_all(dsc)\n",
    "print(pwr_dsc)\n",
    "plot_timeseries(pwr_dsc[\"power\"])"
   ]
  }
 ],
 "metadata": {
  "kernelspec": {
   "display_name": "salient",
   "language": "python",
   "name": "python3"
  },
  "language_info": {
   "codemirror_mode": {
    "name": "ipython",
    "version": 3
   },
   "file_extension": ".py",
   "mimetype": "text/x-python",
   "name": "python",
   "nbconvert_exporter": "python",
   "pygments_lexer": "ipython3",
   "version": "3.11.5"
  }
 },
 "nbformat": 4,
 "nbformat_minor": 2
}
