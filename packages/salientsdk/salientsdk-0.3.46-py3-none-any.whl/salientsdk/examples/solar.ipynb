{
 "cells": [
  {
   "cell_type": "markdown",
   "metadata": {},
   "source": [
    "# Solar Energy\n"
   ]
  },
  {
   "cell_type": "markdown",
   "metadata": {},
   "source": [
    "Salient's historical and downscale data include the components necessary to calculate solar energy output. This notebook will show you how to obtain the source meteorological data and then convert it to energy based on array characteristics.\n"
   ]
  },
  {
   "cell_type": "code",
   "execution_count": null,
   "metadata": {},
   "outputs": [
    {
     "data": {
      "text/plain": [
       "<requests.sessions.Session at 0x7f4f183c2b90>"
      ]
     },
     "execution_count": null,
     "metadata": {},
     "output_type": "execute_result"
    }
   ],
   "source": [
    "import os\n",
    "import sys\n",
    "\n",
    "try:\n",
    "    import salientsdk as sk\n",
    "except ModuleNotFoundError as e:\n",
    "    if os.path.exists(\"../salientsdk\"):\n",
    "        sys.path.append(os.path.abspath(\"..\"))\n",
    "        import salientsdk as sk\n",
    "    else:\n",
    "        raise ModuleNotFoundError(\"Install salient SDK with: pip install salientsdk\")\n",
    "\n",
    "# Analyze one year of data:\n",
    "year = \"2023\"\n",
    "(start_date, end_date) = (f\"{year}-01-01\", f\"{year}-12-31\")\n",
    "# When we want to plot a timeseries, focus on a specific month:\n",
    "plt_time = slice(f\"{year}-07-02\", f\"{year}-07-05\")\n",
    "# When we want to plot a single location, choose this one\n",
    "plt_loc = \"Roadrunner TX\"\n",
    "\n",
    "sk.set_file_destination(\"solar_example\")\n",
    "sk.login(\"SALIENT_USERNAME\", \"SALIENT_PASSWORD\")"
   ]
  },
  {
   "cell_type": "markdown",
   "metadata": {},
   "source": [
    "## Get Solar Meteorological Data\n"
   ]
  },
  {
   "cell_type": "markdown",
   "metadata": {},
   "source": [
    "### Set geographic bounds\n",
    "\n",
    "The Salient SDK uses a `Location` object to specify the geographic bounds of a request. Let's analyze solar energy at 3 sites in Maine, Texas, and California. We can also predict solar energy over a gridded area defined by a polygon shapefile.\n"
   ]
  },
  {
   "cell_type": "code",
   "execution_count": null,
   "metadata": {},
   "outputs": [],
   "source": [
    "if False:  # Analyze solar at a single location\n",
    "    loc = sk.Location(lat=31.2194, lon=-102.1922)\n",
    "elif True:  # Analyze solar at 3 locations with a location_file\n",
    "    loc_file = sk.upload_location_file(\n",
    "        lats=[44.3327, 31.2194, 34.830556],\n",
    "        lons=[-69.781, -102.1922, -118.398056],\n",
    "        names=[\"3 Corners ME\", \"Roadrunner TX\", \"Solar Star CA\"],\n",
    "        rated_capacity=[109, 400, 579],  # MW\n",
    "        geoname=\"solar_example\",\n",
    "        force=False,\n",
    "    )\n",
    "    loc = sk.Location(location_file=loc_file)\n",
    "\n",
    "else:  # Analyze solar over the Western ERCOT region with a shapefile\n",
    "    # fmt: off\n",
    "    coords = [\n",
    "        (-103.25, 32.00),(-105.50, 32.00),(-105.50, 31.00),(-104.50, 29.50),(-103.25, 29.00),(-102.50, 29.75),\n",
    "        (-101.25, 29.50),(-100.50, 29.00),(-98.000, 34.00),(-100.00, 34.50),(-100.00, 35.75),(-103.25, 35.75),\n",
    "    ]\n",
    "    # fmt: on\n",
    "\n",
    "    shape_file = sk.upload_shapefile(coords, \"ercot_west\", force=False)\n",
    "    loc = sk.Location(shapefile=shape_file)"
   ]
  },
  {
   "cell_type": "markdown",
   "metadata": {},
   "source": [
    "### Get Historical Observed Data\n"
   ]
  },
  {
   "cell_type": "markdown",
   "metadata": {},
   "source": [
    "The `data_timeseries_solar` function is a convenience function that calls `data_timeseries` to generate an hourly historical timeseries with the appropriate weather inputs for solar analysis.\n"
   ]
  },
  {
   "cell_type": "code",
   "execution_count": null,
   "metadata": {},
   "outputs": [
    {
     "name": "stdout",
     "output_type": "stream",
     "text": [
      "<xarray.Dataset> Size: 1MB\n",
      "Dimensions:    (time: 8737, location: 3)\n",
      "Coordinates:\n",
      "  * time       (time) datetime64[ns] 70kB 2023-01-01 ... 2023-12-31\n",
      "  * location   (location) object 24B '3 Corners ME' ... 'Solar Star CA'\n",
      "    lat        (location) float64 24B 44.33 31.22 34.83\n",
      "    lon        (location) float64 24B -69.78 -102.2 -118.4\n",
      "Data variables:\n",
      "    temp       (time, location) float64 210kB 8.167 19.81 10.54 ... 17.8 11.02\n",
      "    wspd       (time, location) float64 210kB 2.912 3.424 5.352 ... 1.917 3.013\n",
      "    tsi        (time, location) float64 210kB 0.0 48.79 52.78 ... 0.0 40.2 163.8\n",
      "    dhi        (time, location) float64 210kB 0.0 21.02 52.56 ... 31.27 56.02\n",
      "    dni        (time, location) float64 210kB 0.0 400.4 0.9458 ... 133.0 483.5\n",
      "    elevation  (location) float32 12B 92.69 780.5 975.8\n"
     ]
    }
   ],
   "source": [
    "hist = sk.solar.data_timeseries_solar(loc=loc, start=start_date, end=end_date)\n",
    "print(hist)\n",
    "hist[\"tsi\"].sel(time=plt_time).plot.line(x=\"time\");"
   ]
  },
  {
   "cell_type": "markdown",
   "metadata": {},
   "source": [
    "### Get Forecast Ensembles\n",
    "\n",
    "`downscale_solar` is a specialized version of `downscale` that fetches all the hourly data variables needed to calculate solar energy. Hourly downscale is a compute- and data-intensive process so the call may take a few minutes.\n"
   ]
  },
  {
   "cell_type": "code",
   "execution_count": null,
   "metadata": {},
   "outputs": [
    {
     "name": "stdout",
     "output_type": "stream",
     "text": [
      "<xarray.Dataset> Size: 7MB\n",
      "Dimensions:        (time: 8783, ensemble: 11, location: 3)\n",
      "Coordinates:\n",
      "    analog         (time, ensemble) datetime64[ns] 773kB NaT ... 1996-12-31T2...\n",
      "  * time           (time) datetime64[ns] 70kB 2023-01-01T01:00:00 ... 2024-01...\n",
      "  * ensemble       (ensemble) int32 44B 0 1 2 3 4 5 6 7 8 9 10\n",
      "  * location       (location) object 24B '3 Corners ME' ... 'Solar Star CA'\n",
      "    lat            (location) float64 24B 44.33 31.22 34.83\n",
      "    lon            (location) float64 24B -69.78 -102.2 -118.4\n",
      "    forecast_date  datetime64[ns] 8B 2023-01-01\n",
      "Data variables:\n",
      "    wspd           (time, location, ensemble) float32 1MB nan nan ... 2.931\n",
      "    temp           (time, location, ensemble) float32 1MB nan nan ... 13.64\n",
      "    tsi            (time, location, ensemble) float32 1MB 0.0 0.0 ... 162.8\n",
      "    dni            (time, location, ensemble) float32 1MB 0.0 0.0 ... 145.8\n",
      "    dhi            (time, location, ensemble) float32 1MB 0.0 0.0 ... 109.1\n",
      "    elevation      (location) float32 12B 92.69 780.5 975.8\n"
     ]
    }
   ],
   "source": [
    "fcst = sk.solar.downscale_solar(loc=loc, date=start_date, members=11)\n",
    "print(fcst)\n",
    "fcst[\"tsi\"].sel(time=plt_time, location=plt_loc).plot.line(\n",
    "    x=\"time\", color=(0.7, 0.7, 0.7, 0.2), add_legend=False\n",
    ")\n",
    "hist[\"tsi\"].sel(time=plt_time, location=plt_loc).plot.line(\n",
    "    x=\"time\", color=\"orange\", add_legend=False\n",
    ");"
   ]
  },
  {
   "cell_type": "markdown",
   "metadata": {},
   "source": [
    "## Sun to Power\n"
   ]
  },
  {
   "cell_type": "markdown",
   "metadata": {},
   "source": [
    "`run_pvlib_dataset` uses NREL's `pvlib` to convert the meteorological dataset into a timeseries with `ac` and `dc` watts.\n"
   ]
  },
  {
   "cell_type": "code",
   "execution_count": null,
   "metadata": {},
   "outputs": [
    {
     "name": "stdout",
     "output_type": "stream",
     "text": [
      "<xarray.Dataset> Size: 1MB\n",
      "Dimensions:               (time: 8737, location: 3)\n",
      "Coordinates:\n",
      "  * time                  (time) datetime64[ns] 70kB 2023-01-01 ... 2023-12-31\n",
      "  * location              (location) object 24B '3 Corners ME' ... 'Solar Sta...\n",
      "    lat                   (location) float64 24B 44.33 31.22 34.83\n",
      "    lon                   (location) float64 24B -69.78 -102.2 -118.4\n",
      "Data variables:\n",
      "    ac                    (location, time) float64 210kB 0.0 0.0 ... 0.2807\n",
      "    dc                    (location, time) float64 210kB 0.0 0.0 ... 0.3043\n",
      "    effective_irradiance  (location, time) float64 210kB 0.0 0.0 ... 286.8 297.2\n",
      "    poa_direct            (location, time) float64 210kB 0.0 0.0 ... 152.6 216.5\n",
      "    poa_sky_diffuse       (location, time) float64 210kB 0.0 0.0 ... 132.7 93.23\n",
      "    poa_ground_diffuse    (location, time) float64 210kB 0.0 0.0 ... 4.612 3.669\n"
     ]
    }
   ],
   "source": [
    "# model_chain is a vector pvlib model chains, which specifies panels, inverters, etc.\n",
    "model_chain = sk.solar.dataset_to_modelchain(hist)\n",
    "pwr_hist = sk.solar.run_pvlib_dataset(hist, model_chain=model_chain)\n",
    "print(pwr_hist)\n",
    "pwr_hist[\"ac\"].sel(time=plt_time).plot.line(x=\"time\");"
   ]
  },
  {
   "cell_type": "markdown",
   "metadata": {},
   "source": [
    "`run_pvlib_dataset` accepts also a data input with ensemble `members` of the style returned by `downscale_solar`. This helps you calculate multiple potential future power outputs.\n"
   ]
  },
  {
   "cell_type": "code",
   "execution_count": null,
   "metadata": {},
   "outputs": [
    {
     "name": "stdout",
     "output_type": "stream",
     "text": [
      "<xarray.Dataset> Size: 14MB\n",
      "Dimensions:               (time: 8783, ensemble: 11, location: 3)\n",
      "Coordinates:\n",
      "  * time                  (time) datetime64[ns] 70kB 2023-01-01T01:00:00 ... ...\n",
      "    forecast_date         datetime64[ns] 8B 2023-01-01\n",
      "    analog                (time, ensemble) datetime64[ns] 773kB NaT ... 1996-...\n",
      "  * ensemble              (ensemble) int32 44B 0 1 2 3 4 5 6 7 8 9 10\n",
      "  * location              (location) object 24B '3 Corners ME' ... 'Solar Sta...\n",
      "    lat                   (location) float64 24B 44.33 31.22 34.83\n",
      "    lon                   (location) float64 24B -69.78 -102.2 -118.4\n",
      "Data variables:\n",
      "    ac                    (location, ensemble, time) float64 2MB 0.0 ... 0.1916\n",
      "    dc                    (location, ensemble, time) float64 2MB nan ... 0.2133\n",
      "    effective_irradiance  (location, ensemble, time) float64 2MB nan ... 208.3\n",
      "    poa_direct            (location, ensemble, time) float64 2MB nan ... 93.78\n",
      "    poa_sky_diffuse       (location, ensemble, time) float64 2MB nan ... 112.8\n",
      "    poa_ground_diffuse    (location, ensemble, time) float32 1MB 0.0 ... 3.646\n"
     ]
    }
   ],
   "source": [
    "# mc is a pvlib model chain, which specifies panels, inverters, etc.\n",
    "model_chain = sk.solar.dataset_to_modelchain(fcst)\n",
    "pwr_fcst = sk.solar.run_pvlib_dataset(fcst, model_chain=model_chain)\n",
    "\n",
    "print(pwr_fcst)\n",
    "pwr_fcst[\"ac\"].sel(time=plt_time, location=plt_loc).plot.line(\n",
    "    x=\"time\", color=(0.7, 0.7, 0.7, 0.5), add_legend=False\n",
    ")\n",
    "pwr_hist[\"ac\"].sel(time=plt_time, location=plt_loc).plot.line(\n",
    "    x=\"time\", color=\"orange\", add_legend=False\n",
    ");"
   ]
  },
  {
   "cell_type": "markdown",
   "metadata": {},
   "source": [
    "## Validate\n",
    "\n",
    "Because we have historical observed and forecast meteorology and have run both through the same sun-to-power function, we can evaluate the forecast in the power domain.\n"
   ]
  },
  {
   "cell_type": "code",
   "execution_count": null,
   "metadata": {},
   "outputs": [],
   "source": [
    "diff = (pwr_fcst[\"ac\"] - pwr_hist[\"ac\"]).cumsum(\"time\") / pwr_hist[\"ac\"].cumsum(\"time\")\n",
    "diff.attrs[\"long_name\"] = \"Cumulative \" + pwr_hist[\"ac\"].attrs[\"long_name\"] + \" Error\"\n",
    "diff.attrs[\"units\"] = \"%\"\n",
    "\n",
    "diff_avg = diff.mean(\"ensemble\", keep_attrs=True)\n",
    "\n",
    "diff_slice = slice(f\"{year}-11-01\", f\"{year}-12-31\")\n",
    "diff.sel(location=plt_loc, time=diff_slice).plot.line(\n",
    "    x=\"time\", color=(0.7, 0.7, 0.7, 0.5), add_legend=False\n",
    ")\n",
    "diff_avg.sel(location=plt_loc, time=diff_slice).plot.line(\n",
    "    x=\"time\", color=\"black\", add_legend=False\n",
    ");"
   ]
  }
 ],
 "metadata": {
  "kernelspec": {
   "display_name": "salient",
   "language": "python",
   "name": "python3"
  },
  "language_info": {
   "codemirror_mode": {
    "name": "ipython",
    "version": 3
   },
   "file_extension": ".py",
   "mimetype": "text/x-python",
   "name": "python",
   "nbconvert_exporter": "python",
   "pygments_lexer": "ipython3",
   "version": "3.11.5"
  }
 },
 "nbformat": 4,
 "nbformat_minor": 2
}
