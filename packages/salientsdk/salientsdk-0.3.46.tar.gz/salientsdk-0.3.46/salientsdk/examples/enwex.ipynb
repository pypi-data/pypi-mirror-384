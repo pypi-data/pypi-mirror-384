{
 "cells": [
  {
   "cell_type": "markdown",
   "metadata": {},
   "source": [
    "# Enwex\n",
    "\n",
    "https://enwex.com/wp-content/uploads/2024/03/ENWEX_wind.pdf\n"
   ]
  },
  {
   "cell_type": "code",
   "execution_count": null,
   "metadata": {},
   "outputs": [
    {
     "data": {
      "text/plain": [
       "<requests.sessions.Session at 0x7f74c9839610>"
      ]
     },
     "execution_count": null,
     "metadata": {},
     "output_type": "execute_result"
    }
   ],
   "source": [
    "import os\n",
    "import sys\n",
    "\n",
    "import matplotlib.pyplot as plt\n",
    "import numpy as np\n",
    "import pandas as pd\n",
    "import xarray as xr\n",
    "\n",
    "try:\n",
    "    import salientsdk as sk\n",
    "except ModuleNotFoundError as e:\n",
    "    if os.path.exists(\"../salientsdk\"):\n",
    "        sys.path.append(os.path.abspath(\"..\"))\n",
    "        import salientsdk as sk\n",
    "    else:\n",
    "        raise ModuleNotFoundError(\"Install salient SDK with: pip install salientsdk\")\n",
    "\n",
    "# Prevent wrapping on tables for readability\n",
    "pd.set_option(\"display.width\", None)\n",
    "pd.set_option(\"display.max_columns\", None)\n",
    "pd.set_option(\"display.expand_frame_repr\", False)\n",
    "\n",
    "sk.set_file_destination(\"enwex_example\", force=False)\n",
    "sk.login(\"SALIENT_USERNAME\", \"SALIENT_PASSWORD\")"
   ]
  },
  {
   "cell_type": "markdown",
   "metadata": {},
   "source": [
    "## Get the Source Meteorology"
   ]
  },
  {
   "cell_type": "markdown",
   "metadata": {},
   "source": [
    "### Set Shared Parameters\n"
   ]
  },
  {
   "cell_type": "code",
   "execution_count": null,
   "metadata": {},
   "outputs": [],
   "source": [
    "start_date = \"2024-03-01\"\n",
    "\n",
    "if True:\n",
    "    # Generate a fast and approximate timeseries\n",
    "    members = 11\n",
    "    day_count = 35  # Matches the NOAA_GEFS lead length\n",
    "else:\n",
    "    # Generate a more comprehensive timeseries\n",
    "    members = 101\n",
    "    day_count = 366  # Salient can forecast up to a year in advance\n",
    "\n",
    "# Not recommended to change these parameters:\n",
    "force = False\n",
    "vars = [\"temp\", \"tsi\", \"wspd100\"]\n",
    "freq = \"hourly\"\n",
    "end_date = np.datetime64(start_date) + np.timedelta64(day_count, \"D\")"
   ]
  },
  {
   "cell_type": "markdown",
   "metadata": {},
   "source": [
    "### Set geographic bounds\n",
    "\n",
    "Enwex trades temperature, wind, and solar defivatives based off 12 grid points throughout Germany."
   ]
  },
  {
   "cell_type": "code",
   "execution_count": null,
   "metadata": {},
   "outputs": [
    {
     "name": "stdout",
     "output_type": "stream",
     "text": [
      "location file: enwex.csv\n"
     ]
    }
   ],
   "source": [
    "# fmt: off\n",
    "loc = sk.Location(location_file = sk.upload_location_file(\n",
    "    lats =  [48.5, 49.0,  52.5, 50.5, 53.75,   52.5, 51.5,  50.00, 51.0, 52.00,  54.25, 51.0],\n",
    "    lons =  [ 9.0, 11.5,  13.5,  9.0, 12.50,    9.0,  7.5,   7.25, 13.5, 11.75,   9.75, 11.0],\n",
    "    names = [\"BW\",\"BAY\",\"BB_B\", \"HE\",  \"MV\",\"NS_HB\", \"NW\",\"RP_SL\",  \"S\",  \"SA\",\"SH_HH\", \"TH\"],\n",
    "    geoname = \"enwex\",\n",
    "    force = False,\n",
    "    weight_wnd = [ 3.1, 4.6,14.0,4.1,6.4,21.1,11.4,7.7,2.3,9.5,12.7,3.1],\n",
    "    weight_sun = [12.6,27.1, 8.3,4.5,5.1, 8.6,11.1,5.7,4.3,5.8, 3.5,3.4],\n",
    "    weight_tmp = [13.4,15.9, 7.5,7.6,1.9,10.5,21.5,6.1,4.8,2.6, 5.7,2.5],\n",
    "    long_name = [\"Baden-Wuerttemberg\", \"Bayern\", \"Brandenburg & Berlin\", \"Hessen\",\n",
    "        \"Mecklenburg-Vorpommern\", \"Niedersachsen & Bremen\", \"Nordrhein-Westfalen\",\n",
    "        \"Rheinland-Pfalz\", \"Sachsen\", \"Sachsen-Anhalt\", \"Schleswig-Holstein & Hamburg\",\n",
    "        \"Thueringen\"]),\n",
    "    )\n",
    "# fmt: on\n",
    "# loc.plot_locations(title=\"ENWEX Weather Index Locations\", weight=\"weight_wnd\")\n",
    "print(loc)"
   ]
  },
  {
   "cell_type": "markdown",
   "metadata": {},
   "source": [
    "### Get Forecast\n",
    "\n",
    "This is what the forecast predicted as of the forecast date"
   ]
  },
  {
   "cell_type": "code",
   "execution_count": null,
   "metadata": {},
   "outputs": [
    {
     "name": "stdout",
     "output_type": "stream",
     "text": [
      "<xarray.Dataset> Size: 1MB\n",
      "Dimensions:        (location: 12, time: 839, ensemble: 11)\n",
      "Coordinates:\n",
      "  * location       (location) object 96B 'BW' 'BAY' 'BB_B' ... 'SA' 'SH_HH' 'TH'\n",
      "  * time           (time) datetime64[ns] 7kB 2024-03-01T01:00:00 ... 2024-04-...\n",
      "  * ensemble       (ensemble) int64 88B 0 1 2 3 4 5 6 7 8 9 10\n",
      "    forecast_date  datetime64[ns] 8B ...\n",
      "    lat            (location) float64 96B ...\n",
      "    lon            (location) float64 96B ...\n",
      "    analog         (ensemble, time) datetime64[ns] 74kB ...\n",
      "Data variables:\n",
      "    weight_wnd     (location) float64 96B 3.1 4.6 14.0 4.1 ... 2.3 9.5 12.7 3.1\n",
      "    weight_sun     (location) float64 96B 12.6 27.1 8.3 4.5 ... 4.3 5.8 3.5 3.4\n",
      "    weight_tmp     (location) float64 96B 13.4 15.9 7.5 7.6 ... 4.8 2.6 5.7 2.5\n",
      "    long_name      (location) object 96B 'Baden-Wuerttemberg' ... 'Thueringen'\n",
      "    wspd100        (ensemble, time, location) float32 443kB ...\n",
      "    temp           (ensemble, time, location) float32 443kB ...\n",
      "    tsi            (ensemble, time, location) float32 443kB ...\n"
     ]
    }
   ],
   "source": [
    "fcst_met = sk.merge_location_data(\n",
    "    xr.open_dataset(\n",
    "        sk.downscale(\n",
    "            loc=loc,\n",
    "            variables=vars,\n",
    "            date=start_date,\n",
    "            length=day_count,\n",
    "            frequency=freq,\n",
    "            members=members,\n",
    "            force=force,\n",
    "        )\n",
    "    ),\n",
    "    loc_file=loc,\n",
    ")\n",
    "\n",
    "print(fcst_met)"
   ]
  },
  {
   "cell_type": "markdown",
   "metadata": {},
   "source": [
    "### Get Historical \"Truth\"\n",
    "\n",
    "This is what actually happened, according to ECMWF."
   ]
  },
  {
   "cell_type": "code",
   "execution_count": null,
   "metadata": {},
   "outputs": [
    {
     "name": "stdout",
     "output_type": "stream",
     "text": [
      "<xarray.Dataset> Size: 250kB\n",
      "Dimensions:     (location: 12, time: 841)\n",
      "Coordinates:\n",
      "  * location    (location) object 96B 'BW' 'BAY' 'BB_B' ... 'SA' 'SH_HH' 'TH'\n",
      "  * time        (time) datetime64[ns] 7kB 2024-03-01 ... 2024-04-05\n",
      "    lat         (location) float64 96B 48.5 49.0 52.5 50.5 ... 52.0 54.25 51.0\n",
      "    lon         (location) float64 96B 9.0 11.5 13.5 9.0 ... 11.75 9.75 11.0\n",
      "Data variables:\n",
      "    weight_wnd  (location) float64 96B 3.1 4.6 14.0 4.1 6.4 ... 2.3 9.5 12.7 3.1\n",
      "    weight_sun  (location) float64 96B 12.6 27.1 8.3 4.5 5.1 ... 4.3 5.8 3.5 3.4\n",
      "    weight_tmp  (location) float64 96B 13.4 15.9 7.5 7.6 1.9 ... 4.8 2.6 5.7 2.5\n",
      "    long_name   (location) object 96B 'Baden-Wuerttemberg' ... 'Thueringen'\n",
      "    temp        (time, location) float64 81kB 1.969 1.581 4.835 ... 7.983 9.654\n",
      "    tsi         (time, location) float64 81kB 0.0 0.0 0.0 0.0 ... 0.0 0.0 0.0\n",
      "    wspd100     (time, location) float64 81kB 3.072 0.7619 6.085 ... 8.561 8.257\n"
     ]
    }
   ],
   "source": [
    "hist_met = sk.merge_location_data(\n",
    "    sk.load_multihistory(\n",
    "        sk.data_timeseries(\n",
    "            loc=loc,\n",
    "            variable=vars,\n",
    "            field=\"vals\",\n",
    "            start=start_date,\n",
    "            end=end_date,\n",
    "            frequency=freq,\n",
    "            force=force,\n",
    "        )\n",
    "    ),\n",
    "    loc_file=loc,\n",
    ")\n",
    "print(hist_met)"
   ]
  },
  {
   "cell_type": "markdown",
   "metadata": {},
   "source": [
    "## Calculate Enwex Index"
   ]
  },
  {
   "cell_type": "code",
   "execution_count": null,
   "metadata": {},
   "outputs": [],
   "source": [
    "def calc_enwex(met: xr.Dataset) -> xr.Dataset:\n",
    "    \"\"\"Calculate the ENWEX indices for a given forecast dataset.\n",
    "\n",
    "    Args:\n",
    "        met: A Dataset containing the forecast meteorological variables and weights:\n",
    "            - wspd100: Wind speed at 100m height [m/s]\n",
    "            - tsi: Total solar irradiance [W/m^2]\n",
    "            - temp: Temperature [degC]\n",
    "            - weight_wnd: Wind weight for each location\n",
    "            - weight_sun: Solar weight for each location\n",
    "            - weight_tmp: Temperature weight for each location\n",
    "            - location: vector of geo points, same length as `weight` vectors\n",
    "\n",
    "    Returns:\n",
    "        A Dataset containing the ENWEX indices:\n",
    "            - enwex_wind: ENWEX wind index [%]\n",
    "            - enwex_solar: ENWEX solar index [%]\n",
    "            - enwex_temperature: ENWEX temperature index [degC]\n",
    "    \"\"\"\n",
    "    src_wind = met[\"wspd100\"].weighted(met[\"weight_wnd\"]).mean(dim=\"location\")\n",
    "    src_wind.attrs = {\"long_name\": \"Weighted Wind Speed\", \"units\": \"m/s\"}\n",
    "\n",
    "    return xr.Dataset(\n",
    "        {\n",
    "            \"src_wind\": src_wind,\n",
    "            \"enwex_wind\": calc_enwex_wind(met[\"wspd100\"], met[\"weight_wnd\"]),\n",
    "            \"enwex_solar\": calc_enwex_solar(met[\"tsi\"], met[\"weight_sun\"]),\n",
    "            \"enwex_temperature\": calc_enwex_temp(met[\"temp\"], met[\"weight_tmp\"]),\n",
    "        }\n",
    "    )\n",
    "\n",
    "\n",
    "def calc_enwex_wind(wind: xr.DataArray, weight: xr.DataArray) -> xr.DataArray:\n",
    "    \"\"\"Calculate the ENWEX wind index for a given forecast dataset.\"\"\"\n",
    "    idx_loc = 100 * (\n",
    "        (0.92 + 0.05) / (1.0 + np.exp(3.2 - 0.529 * (wind - 2.5) - 0.0074)) - 0.05\n",
    "    ).clip(min=0)\n",
    "    idx = idx_loc.weighted(weight).mean(dim=\"location\")\n",
    "    idx.attrs[\"units\"] = \"%\"\n",
    "    idx.attrs[\"long_name\"] = \"ENWEX Wind Index\"\n",
    "    return idx\n",
    "\n",
    "\n",
    "def calc_enwex_solar(tsi: xr.DataArray, weight: xr.DataArray) -> xr.DataArray:\n",
    "    \"\"\"Calculate the ENWEX solar index for a given forecast dataset.\"\"\"\n",
    "    idx_loc = 100 * (0.71 * (tsi / 1000))\n",
    "    idx = idx_loc.weighted(weight).mean(dim=\"location\")\n",
    "    idx.attrs[\"units\"] = \"%\"\n",
    "    idx.attrs[\"long_name\"] = \"ENWEX Solar Index\"\n",
    "    return idx\n",
    "\n",
    "\n",
    "def calc_enwex_temp(temp: xr.DataArray, weight: xr.DataArray) -> xr.DataArray:\n",
    "    \"\"\"Calculate the ENWEX temperature index for a given forecast dataset.\"\"\"\n",
    "    idx = temp.weighted(weight).mean(dim=\"location\")\n",
    "    idx.attrs[\"units\"] = \"degC\"\n",
    "    idx.attrs[\"long_name\"] = \"ENWEX Temperature Index\"\n",
    "    return idx"
   ]
  },
  {
   "cell_type": "code",
   "execution_count": null,
   "metadata": {},
   "outputs": [
    {
     "name": "stdout",
     "output_type": "stream",
     "text": [
      "<xarray.Dataset> Size: 376kB\n",
      "Dimensions:            (time: 839, ensemble: 11)\n",
      "Coordinates:\n",
      "  * time               (time) datetime64[ns] 7kB 2024-03-01T01:00:00 ... 2024...\n",
      "  * ensemble           (ensemble) int64 88B 0 1 2 3 4 5 6 7 8 9 10\n",
      "    forecast_date      datetime64[ns] 8B 2024-03-01\n",
      "    analog             (ensemble, time) datetime64[ns] 74kB NaT ... 2018-03-2...\n",
      "Data variables:\n",
      "    src_wind           (ensemble, time) float64 74kB nan nan ... 4.46 4.496\n",
      "    enwex_wind         (ensemble, time) float64 74kB nan nan ... 9.317 7.661\n",
      "    enwex_solar        (ensemble, time) float64 74kB 0.0 0.0 ... 0.0 0.0\n",
      "    enwex_temperature  (ensemble, time) float64 74kB nan nan ... 2.326 1.892\n"
     ]
    }
   ],
   "source": [
    "fcst = calc_enwex(fcst_met)\n",
    "print(fcst)"
   ]
  },
  {
   "cell_type": "code",
   "execution_count": null,
   "metadata": {},
   "outputs": [
    {
     "name": "stdout",
     "output_type": "stream",
     "text": [
      "<xarray.Dataset> Size: 34kB\n",
      "Dimensions:            (time: 841)\n",
      "Coordinates:\n",
      "  * time               (time) datetime64[ns] 7kB 2024-03-01 ... 2024-04-05\n",
      "Data variables:\n",
      "    src_wind           (time) float64 7kB 6.72 6.855 6.831 ... 8.244 8.204 8.098\n",
      "    enwex_wind         (time) float64 7kB 25.45 26.12 25.45 ... 40.04 39.6 38.34\n",
      "    enwex_solar        (time) float64 7kB 0.0 0.0 0.0 0.0 ... 0.0 0.0 0.0 0.0\n",
      "    enwex_temperature  (time) float64 7kB 4.17 3.929 3.65 ... 10.2 10.07 10.01\n"
     ]
    }
   ],
   "source": [
    "hist = calc_enwex(hist_met)\n",
    "print(hist)"
   ]
  },
  {
   "cell_type": "code",
   "execution_count": null,
   "metadata": {},
   "outputs": [],
   "source": [
    "hist.plot.scatter(x=\"src_wind\", y=\"enwex_wind\", alpha=0.1)\n",
    "plt.show();"
   ]
  },
  {
   "cell_type": "code",
   "execution_count": null,
   "metadata": {},
   "outputs": [],
   "source": [
    "from matplotlib.lines import Line2D\n",
    "\n",
    "# Plot lead week 3:\n",
    "plot_time = slice(14 * 24, 21 * 24)\n",
    "\n",
    "# Create a figure and a set of subplots\n",
    "fig, axes = plt.subplots(nrows=1, ncols=2, figsize=(9, 3))\n",
    "\n",
    "for idx, ax in zip([\"enwex_wind\", \"enwex_solar\"], axes):\n",
    "    fcst_h = (\n",
    "        fcst[idx]\n",
    "        .isel(time=plot_time)\n",
    "        .plot.line(x=\"time\", ax=ax, color=(0.5, 0.5, 0.5, 0.2), add_legend=False)\n",
    "    )\n",
    "    hist_h = (\n",
    "        hist[idx]\n",
    "        .isel(time=plot_time)\n",
    "        .plot.line(x=\"time\", ax=ax, color=\"dodgerblue\", add_legend=False)\n",
    "    )\n",
    "\n",
    "    if ax == axes[0]:\n",
    "        ax.legend(\n",
    "            handles=[\n",
    "                Line2D([0], [0], color=(0.5, 0.5, 0.5, 0.2), lw=2, label=\"Forecast ensemble\"),\n",
    "                Line2D([0], [0], color=\"dodgerblue\", lw=2, label=\"Settlement\"),\n",
    "            ]\n",
    "        )\n",
    "\n",
    "plt.show()"
   ]
  },
  {
   "cell_type": "markdown",
   "metadata": {},
   "source": [
    "## Validate Forecast Accuracy\n"
   ]
  },
  {
   "cell_type": "code",
   "execution_count": null,
   "metadata": {},
   "outputs": [
    {
     "name": "stdout",
     "output_type": "stream",
     "text": [
      "<xarray.Dataset> Size: 40kB\n",
      "Dimensions:            (time: 839)\n",
      "Coordinates:\n",
      "  * time               (time) datetime64[ns] 7kB 2024-03-01T01:00:00 ... 2024...\n",
      "    forecast_date      datetime64[ns] 8B 2024-03-01\n",
      "    lead               (time) timedelta64[ns] 7kB 01:00:00 ... 34 days 23:00:00\n",
      "Data variables:\n",
      "    src_wind           (time) float64 7kB nan nan 0.3167 ... 2.049 1.79 1.841\n",
      "    enwex_wind         (time) float64 7kB nan nan 3.077 ... 19.38 16.59 17.56\n",
      "    enwex_solar        (time) float64 7kB 4.218e-07 0.0 ... 4.482e-07 4.482e-07\n",
      "    enwex_temperature  (time) float64 7kB nan nan 0.3078 ... 5.221 5.619 5.693\n"
     ]
    }
   ],
   "source": [
    "mae = abs(hist - fcst).mean(dim=\"ensemble\")\n",
    "mae = mae.assign_coords(lead=(\"time\", (mae[\"time\"] - mae[\"forecast_date\"]).values))\n",
    "\n",
    "print(mae)\n",
    "\n",
    "# Create a figure and a set of subplots\n",
    "fig, axes = plt.subplots(nrows=3, ncols=1, figsize=(10, 15))\n",
    "\n",
    "# Plot each variable on a separate axis\n",
    "mae[\"enwex_wind\"].plot(ax=axes[0], x=\"lead\", color=\"black\")\n",
    "axes[0].set_title(\"ENWEX Wind MAE\")\n",
    "\n",
    "mae[\"enwex_solar\"].plot(ax=axes[1], x=\"lead\", color=\"black\")\n",
    "axes[1].set_title(\"ENWEX Solar MAE\")\n",
    "\n",
    "mae[\"enwex_temperature\"].plot(ax=axes[2], x=\"lead\", color=\"black\")\n",
    "axes[2].set_title(\"ENWEX Temperature MAE\")\n",
    "\n",
    "# Adjust layout\n",
    "plt.tight_layout()\n",
    "plt.show()"
   ]
  },
  {
   "cell_type": "markdown",
   "metadata": {},
   "source": [
    "## Appendix: Validate Calculation Methodology\n"
   ]
  },
  {
   "cell_type": "code",
   "execution_count": null,
   "metadata": {},
   "outputs": [],
   "source": [
    "wind_file = os.path.join(sk.get_file_destination(), \"ENWEXwind_since2022.xlsx\")\n",
    "if os.path.exists(wind_file):\n",
    "    if \"index_ref\" not in locals():\n",
    "        # read_excel is heavyweight, only read this if needed\n",
    "        assert os.path.exists(wind_file)\n",
    "        index_ref = (\n",
    "            pd.read_excel(wind_file, sheet_name=\"ENWEXwind_2022\", skiprows=17, usecols=\"C:E\")\n",
    "            .set_index(\"DateTimeUTC\")\n",
    "            .merge(hist[\"enwex_wind\"].to_dataframe(), left_index=True, right_index=True)\n",
    "        )\n",
    "\n",
    "    plot_data = index_ref.iloc[:100, [1, 2]]  # Adjust column indices if needed\n",
    "\n",
    "    plt.plot(plot_data.index, plot_data.iloc[:, 0], label=\"Reference\")\n",
    "    plt.plot(plot_data.index, plot_data.iloc[:, 1], label=\"As-Calculated\")\n",
    "    plt.legend()\n",
    "\n",
    "    print(index_ref)"
   ]
  },
  {
   "cell_type": "code",
   "execution_count": null,
   "metadata": {},
   "outputs": [],
   "source": [
    "wind_file = os.path.join(sk.get_file_destination(), \"ENWEXwind_since2022.xlsx\")\n",
    "if os.path.exists(wind_file):\n",
    "    if \"wind_ref\" not in locals():\n",
    "        wind_ref = pd.read_excel(wind_file, sheet_name=\"Windspeed_100m_Ecmwf\", usecols=\"B:N\")\n",
    "        wind_ref = wind_ref.set_index(\"DateTimeUTC\")\n",
    "        wind_ref = wind_ref.rename(\n",
    "            columns={\n",
    "                \"5425_0975_1270\": \"SH_HH\",\n",
    "                \"5375_1250_0640\": \"MV\",\n",
    "                \"5250_0900_2110\": \"NS_HB\",\n",
    "                \"5250_1350_1400\": \"BB_B\",\n",
    "                \"5200_1175_0950\": \"SA\",\n",
    "                \"5150_0750_1140\": \"NW\",\n",
    "                \"5100_1350_0230\": \"S\",\n",
    "                \"5100_1100_0310\": \"TH\",\n",
    "                \"5050_0900_0410\": \"HE\",\n",
    "                \"5000_0725_0770\": \"RP_SL\",\n",
    "                \"4900_1150_0460\": \"BAY\",\n",
    "                \"4850_0900_0310\": \"BW\",\n",
    "            }\n",
    "        )\n",
    "    wind_era = (\n",
    "        hist_met.wspd100.drop_vars([\"lat\", \"lon\"])\n",
    "        .to_dataframe()\n",
    "        .reset_index()\n",
    "        .pivot(index=\"time\", columns=\"location\", values=\"wspd100\")\n",
    "    )\n",
    "\n",
    "    wind_mrg = pd.merge(\n",
    "        wind_ref[\"MV\"],\n",
    "        wind_era[\"MV\"],\n",
    "        left_index=True,\n",
    "        right_index=True,\n",
    "        how=\"inner\",\n",
    "        suffixes=(\"_opr\", \"_era\"),\n",
    "    )\n",
    "\n",
    "    if False:\n",
    "        plt.plot(wind_ref.iloc[0:100][\"MV\"], label=\"ECMWF Operational\")\n",
    "        plt.plot(wind_xxx.iloc[0:100][\"MV\"], label=\"ERA5\")\n",
    "        plt.title(\"Mecklenburg-Vorpommern\")\n",
    "        plt.ylabel(\"Wind Speed @ 100m [m/s]\")\n",
    "        plt.legend()\n",
    "    else:\n",
    "        correlation = wind_mrg[\"MV_opr\"].corr(wind_mrg[\"MV_era\"])\n",
    "        # create a scatterplot of wind_ref vs wind_xxx at location MV\n",
    "        fig, ax = plt.subplots(figsize=(8, 6))\n",
    "        ax.scatter(wind_mrg[\"MV_opr\"], wind_mrg[\"MV_era\"], alpha=0.1)\n",
    "        ax.plot([0, 20], [0, 20], \"k--\")\n",
    "        ax.set_aspect(\"equal\", adjustable=\"box\")\n",
    "        plt.xlabel(\"ECMWF Operational\")\n",
    "        plt.ylabel(\"ERA5\")\n",
    "        plt.title(\"Wind @ 100m [m/s]\")\n",
    "        ax.text(0, 20, f\"Correlation: {correlation:.2f}\", fontsize=12)\n",
    "        # plt.legend()\n",
    "        # plt.grid(True)\n",
    "        plt.show()"
   ]
  },
  {
   "cell_type": "markdown",
   "metadata": {},
   "source": [
    "## Appendix: Export Forecasts\n",
    "\n",
    "Save as a CSV for external consumption."
   ]
  },
  {
   "cell_type": "code",
   "execution_count": null,
   "metadata": {},
   "outputs": [
    {
     "name": "stdout",
     "output_type": "stream",
     "text": [
      "Wrote met forecast to enwex_example/enwex-de-2024-03-01.csv\n",
      "                                                      lat   lon  wspd100     temp  tsi\n",
      "forecast_date time                location ensemble                                   \n",
      "2024-03-01    2024-03-18 00:00:00 BW       0         48.5   9.0   2.4132  -2.7049  0.0\n",
      "                                           1         48.5   9.0   3.7900   5.8971  0.0\n",
      "                                           2         48.5   9.0   7.5274   5.3299  0.0\n",
      "                                           3         48.5   9.0   3.8520   5.4125  0.0\n",
      "                                           4         48.5   9.0   4.6582   2.6851  0.0\n",
      "...                                                   ...   ...      ...      ...  ...\n",
      "              2024-03-18 23:00:00 TH       6         51.0  11.0  10.2662   8.4212  0.0\n",
      "                                           7         51.0  11.0   9.3928  11.8993  0.0\n",
      "                                           8         51.0  11.0   8.3051   8.0876  0.0\n",
      "                                           9         51.0  11.0   2.9966   1.6007  0.0\n",
      "                                           10        51.0  11.0   5.9727   3.8974  0.0\n",
      "\n",
      "[3168 rows x 5 columns]\n"
     ]
    }
   ],
   "source": [
    "out_path = os.path.join(sk.get_file_destination(), f\"enwex-de-{start_date}.csv\")\n",
    "out_drop = [\"long_name\", \"analog\", \"weight_wnd\", \"weight_sun\", \"weight_tmp\"]\n",
    "out = fcst_met.drop_vars(out_drop, errors=\"ignore\")\n",
    "\n",
    "for var in [\"temp\", \"tsi\", \"wspd100\"]:\n",
    "    # Replace any missing values with historical actuals\n",
    "    out[var] = out[var].fillna(hist_met[var]).round(4)\n",
    "\n",
    "# To assist in adding to a database, distinguish each date's forecast\n",
    "out = out.expand_dims(\"forecast_date\")\n",
    "\n",
    "if True:\n",
    "    # Write a fast data sample single-day subset of the forecast\n",
    "    out_time = len(out.time) // 2\n",
    "    out = out.isel(time=slice(out_time - 12, out_time + 12))\n",
    "\n",
    "out = out.to_dataframe(dim_order=[\"forecast_date\", \"time\", \"location\", \"ensemble\"])\n",
    "out.to_csv(out_path)\n",
    "\n",
    "print(f\"Wrote met forecast to {out_path}\")\n",
    "print(out)"
   ]
  }
 ],
 "metadata": {
  "kernelspec": {
   "display_name": "salientsdk-54A4kIpb-py3.11",
   "language": "python",
   "name": "python3"
  },
  "language_info": {
   "codemirror_mode": {
    "name": "ipython",
    "version": 3
   },
   "file_extension": ".py",
   "mimetype": "text/x-python",
   "name": "python",
   "nbconvert_exporter": "python",
   "pygments_lexer": "ipython3",
   "version": "3.11.5"
  }
 },
 "nbformat": 4,
 "nbformat_minor": 2
}
