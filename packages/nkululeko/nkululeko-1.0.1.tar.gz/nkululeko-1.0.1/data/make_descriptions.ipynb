{
 "cells": [
  {
   "cell_type": "code",
   "execution_count": 1,
   "metadata": {},
   "outputs": [],
   "source": [
    "#!pip install pyyaml\n",
    "import yaml\n",
    "import audeer\n",
    "import os"
   ]
  },
  {
   "cell_type": "code",
   "execution_count": 2,
   "metadata": {},
   "outputs": [],
   "source": [
    "db_list = (\n",
    "(\"aesdd\",\"emotion\",\"public\",\"amharic language\"),\n",
    "(\"androids\",\"depression\",\"public\",\"English\"),\n",
    "(\"ased\",\"emotion\",\"public\",\"Greek\"),\n",
    "(\"asvp-esd\",\"emotion\",\"public\",\"Multilingual, also contain vocal bursts\"),\n",
    "(\"baved\",\"emotion\",\"public\",\"Arabic\"),\n",
    "(\"catsvsdogs\",\"cats_dogs\", \"public\", \"kaggle test set\"),\n",
    "(\"cafe\",\"emotion\",\"public\",\"Childrenspeech, CanadianFrench\"),\n",
    "(\"cmu-mosei\",\"sentiment,emotion\",\"public\",\"English, original link dead\"),\n",
    "(\"crema-d\",\"emotion\",\"public\",\"English,adopted from tfds\"),\n",
    "(\"demos\",\"emotion\",\"restricted\",\"Italian\"),\n",
    "(\"ekorpus\",\"emotion\",\"public\",\"Estonian\"),\n",
    "(\"emns\",\"emotion,intensity\",\"public\",\"British, singles peaker, UAR=.479\"),\n",
    "(\"emodb\",\"emotion\",\"public\",\"German\"),\n",
    "(\"emofilm\",\"emotion\",\"restricted\",\"English, Spanish, Italian\"),\n",
    "(\"emorynlp\",\"emotion\",\"public\",\"English, From Friends TV\"),\n",
    "(\"emov-db\",\"emotion\",\"public\",\"English\"),\n",
    "(\"emovo\",\"emotion\",\"restricted\",\"Italian\"),\n",
    "(\"emozionalmente\",\"emotion\",\"public\",\"Italian\"),\n",
    "(\"enterface\",\"emotion\",\"public\",\"Multilingual\"),\n",
    "(\"esd\",\"emotion\",\"public\",\"English,Chinese\"),\n",
    "(\"iemocap\",\"emotion,VAD\",\"restriced\",\"English\"),\n",
    "(\"jl\",\"emotion\",\"public\",\"English\"),\n",
    "(\"jtes\",\"emotion\",\"private\",\"Japanese\"),\n",
    "(\"laughter-types\",\"laughter\",\"public\",\"Master Thesis from TUBerlin\"),\n",
    "(\"meld\",\"emotion\",\"public\",\"English, From Friends TV\"),\n",
    "(\"mesd\",\"emotion\",\"public\",\"Mexican\"),\n",
    "(\"mess\",\"emotion\",\"public\",\"English\"),\n",
    "(\"mlendsnd\",\"emotion\",\"public\",\"English\"),\n",
    "(\"msp-improv\",\"emotion,VAD,naturalness\",\"restricted\",\"English\"),\n",
    "(\"msp-podcast\",\"emotion,VAD\",\"restricted\",\"English\"),\n",
    "(\"oreau2\",\"emotion\",\"public\",\"French\"),\n",
    "(\"portuguese\",\"emotion\",\"public\",\"Portuguese\"),\n",
    "(\"ravdess\",\"emotion,speaker\",\"public\",\"English\"),\n",
    "(\"savee\",\"emotion\",\"restricted\",\"English, from tfds\"),\n",
    "(\"shemo\",\"emotion\",\"public\",\"Persian\"),\n",
    "(\"subesco\",\"emotion\",\"public\",\"Bangla\"),\n",
    "(\"syntact\",\"emotion\",\"public\",\"Synthesized German speech\"),\n",
    "(\"tess\",\"emotion\",\"public\",\"British English (Toronto)\"),\n",
    "(\"thorsten-emotional\",\"emotion\",\"public\",\"German\"),\n",
    "(\"urdu\",\"emotion\",\"public\",\"Urdu\"),\n",
    "(\"vivae\",\"emotion\",\"public\",\"English vocal bursts\"),\n",
    "(\"clac\",\"healthyspeech,age,gender\",\"public\",\"English\"),\n",
    "(\"gerparas\",\"valence,arousal,dominance\",\"restricted\",\"German\"),\n",
    "(\"SVD\",\"pathologicalspeech\",\"public\",\"German\"),\n",
    "(\"nEMO\",\"emotion,VAD\",\"public\",\"Polish\"),\n",
    "#(\"emoUERJ\",\"emotion\",\"public\",\"Portuguese\"),\n",
    "#(\"TTH\",\"emotion\",\"public\",\"Vietnamese\"),\n",
    "(\"jnv\",\"emotion\",\"public\",\"Japanese, non-verbals\"),\n",
    "(\"jvnv\",\"emotion\",\"public\",\"Japanese, verbal and non-verbal\"),\n",
    "(\"kbes\",\"emotion\",\"public\",\"Bengali\"),\n",
    "(\"eaed\",\"emotion\",\"public\",\"Arabic\"),\n",
    "(\"banglaser\",\"emotion\",\"public\",\"Bengali\"),\n",
    "(\"kia\",\"emotion\",\"public\",\"Korean, wake-up word\"),\n",
    "(\"odyssey-cat-2024\",\"emotion\",\"restricted\",\"Data for Odyssey 2024 challenge, needs MSPPodcast\"),\n",
    "(\"polish\",\"emotion\",\"public\",\"Polish\"),\n",
    "(\"erysac\",\"emotion\",\"public\",\"Russian, children\"),\n",
    "(\"turev\",\"emotion\",\"public\",\"Turkish\"),\n",
    ")"
   ]
  },
  {
   "cell_type": "code",
   "execution_count": 3,
   "metadata": {},
   "outputs": [],
   "source": [
    "for db in db_list:\n",
    "    name = db[0]\n",
    "    dic = {\"name\":name,\n",
    "    \"target\":db[1],\n",
    "    \"access\":db[2],\n",
    "    \"descr\":db[3],}\n",
    "    #dir = f'../tmp/{name}'\n",
    "    #audeer.mkdir(dir)\n",
    "    dir = name.lower()\n",
    "    fname =  os.path.join(dir, \"descr.yml\")\n",
    "    with open(fname, 'w') as outfile:\n",
    "        yaml.dump(dic, outfile, default_flow_style=False)    "
   ]
  },
  {
   "cell_type": "code",
   "execution_count": null,
   "metadata": {},
   "outputs": [],
   "source": []
  }
 ],
 "metadata": {
  "kernelspec": {
   "display_name": "venv",
   "language": "python",
   "name": "python3"
  },
  "language_info": {
   "codemirror_mode": {
    "name": "ipython",
    "version": 3
   },
   "file_extension": ".py",
   "mimetype": "text/x-python",
   "name": "python",
   "nbconvert_exporter": "python",
   "pygments_lexer": "ipython3",
   "version": "3.10.15"
  }
 },
 "nbformat": 4,
 "nbformat_minor": 2
}
