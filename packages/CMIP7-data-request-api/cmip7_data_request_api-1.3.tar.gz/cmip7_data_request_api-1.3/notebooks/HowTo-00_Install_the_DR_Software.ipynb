{
 "cells": [
  {
   "cell_type": "markdown",
   "metadata": {},
   "source": [
    "# HowTo-00_Install_the_DR_Software"
   ]
  },
  {
   "cell_type": "markdown",
   "metadata": {},
   "source": [
    "### Option 1 - Install within a virtual env"
   ]
  },
  {
   "cell_type": "markdown",
   "metadata": {},
   "source": [
    "#### Create and activate a virtual env"
   ]
  },
  {
   "cell_type": "markdown",
   "metadata": {},
   "source": [
    "_run the following commands in a terminal **(please use a python version >= 3.8)**_"
   ]
  },
  {
   "cell_type": "raw",
   "metadata": {},
   "source": [
    "python3.13 -m venv <path_to_virtual_envs>/cmip7_dreq_venv\n",
    "source <path_to_virtual_envs>/cmip7_dreq_venv/bin/activate\n",
    "#\n",
    "pip install --upgrade pip"
   ]
  },
  {
   "cell_type": "markdown",
   "metadata": {},
   "source": [
    "#### Install the dependencies"
   ]
  },
  {
   "cell_type": "code",
   "execution_count": null,
   "metadata": {},
   "outputs": [],
   "source": [
    "import wget"
   ]
  },
  {
   "cell_type": "code",
   "execution_count": null,
   "metadata": {},
   "outputs": [],
   "source": [
    "url = \"https://raw.githubusercontent.com/CMIP-Data-Request/CMIP7_DReq_Software/refs/heads/main/requirements.txt\"\n",
    "dep = wget.download(url)"
   ]
  },
  {
   "cell_type": "markdown",
   "metadata": {},
   "source": [
    "_run the following command in a terminal **where cmip7_dreq_venv has been activated**_"
   ]
  },
  {
   "cell_type": "raw",
   "metadata": {},
   "source": [
    "pip install -r requirements.txt"
   ]
  },
  {
   "cell_type": "markdown",
   "metadata": {},
   "source": [
    "#### Install the software"
   ]
  },
  {
   "cell_type": "markdown",
   "metadata": {},
   "source": [
    "_run the following command in a terminal **where cmip7_dreq_venv has been activated**_"
   ]
  },
  {
   "cell_type": "raw",
   "metadata": {},
   "source": [
    "pip install CMIP7-data-request-api"
   ]
  },
  {
   "cell_type": "markdown",
   "metadata": {},
   "source": [
    "#### Test if the installation is correct"
   ]
  },
  {
   "cell_type": "code",
   "execution_count": null,
   "metadata": {},
   "outputs": [],
   "source": [
    "!export_dreq_lists_json --all_opportunities v1.1 amip.json --experiments amip"
   ]
  },
  {
   "cell_type": "markdown",
   "metadata": {},
   "source": [
    "### Option 2 - Install alternatively with a conda env (if prefered)"
   ]
  },
  {
   "cell_type": "code",
   "execution_count": null,
   "metadata": {},
   "outputs": [],
   "source": [
    "url = \"https://raw.githubusercontent.com/CMIP-Data-Request/CMIP7_DReq_Software/refs/heads/main/env.yml\"\n",
    "dep = wget.download(url)"
   ]
  },
  {
   "cell_type": "markdown",
   "metadata": {},
   "source": [
    "_run the following commands in a terminal **(please use a python version >= 3.8)**_"
   ]
  },
  {
   "cell_type": "code",
   "execution_count": null,
   "metadata": {},
   "outputs": [],
   "source": [
    "conda env create -n cmip7_dreq_cenv --file {dep} python=3.13\n",
    "conda activate cmip7_dreq_cenv\n",
    "pip install CMIP7-data-request-api"
   ]
  },
  {
   "cell_type": "markdown",
   "metadata": {},
   "source": [
    "#### Test if the installation is correct"
   ]
  },
  {
   "cell_type": "code",
   "execution_count": null,
   "metadata": {},
   "outputs": [],
   "source": [
    "!export_dreq_lists_json --all_opportunities v1.1 amip.json --experiments amip"
   ]
  }
 ],
 "metadata": {
  "kernelspec": {
   "display_name": "cmip7_dreq_venv-user (python3.13)",
   "language": "python",
   "name": "cmip7_dreq_venv-user"
  },
  "language_info": {
   "codemirror_mode": {
    "name": "ipython",
    "version": 3
   },
   "file_extension": ".py",
   "mimetype": "text/x-python",
   "name": "python",
   "nbconvert_exporter": "python",
   "pygments_lexer": "ipython3",
   "version": "3.13.2"
  }
 },
 "nbformat": 4,
 "nbformat_minor": 2
}
