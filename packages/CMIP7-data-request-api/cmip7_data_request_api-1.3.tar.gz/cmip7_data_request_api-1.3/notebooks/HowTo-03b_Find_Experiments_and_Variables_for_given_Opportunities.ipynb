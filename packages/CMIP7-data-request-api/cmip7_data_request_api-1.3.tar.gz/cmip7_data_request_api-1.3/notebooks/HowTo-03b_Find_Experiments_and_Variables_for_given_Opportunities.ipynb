{
 "cells": [
  {
   "cell_type": "markdown",
   "metadata": {},
   "source": [
    "# HowTo-03b_Find_Experiments_and_Variables_for_given_Opportunities"
   ]
  },
  {
   "cell_type": "markdown",
   "metadata": {},
   "source": [
    "### Import/load the DR content as a \"DR-Dictionnary\""
   ]
  },
  {
   "cell_type": "code",
   "execution_count": null,
   "metadata": {},
   "outputs": [],
   "source": [
    "from data_request_api.content import dreq_content as dc\n",
    "from data_request_api.query import dreq_query as dq"
   ]
  },
  {
   "cell_type": "code",
   "execution_count": null,
   "metadata": {},
   "outputs": [],
   "source": [
    "dc.get_versions()"
   ]
  },
  {
   "cell_type": "code",
   "execution_count": null,
   "metadata": {},
   "outputs": [],
   "source": [
    "used_dreq_version = 'v1.2'\n",
    "dreq_content = dc.load(version=used_dreq_version)\n",
    "dreq_tables = dq.create_dreq_tables_for_request(content=dreq_content, dreq_version=used_dreq_version)\n",
    "path_to_content = dc._dreq_content_loaded['json_path']"
   ]
  },
  {
   "cell_type": "markdown",
   "metadata": {},
   "source": [
    "### Select some Opportunities"
   ]
  },
  {
   "cell_type": "code",
   "execution_count": null,
   "metadata": {},
   "outputs": [],
   "source": [
    "#- Or simply set use_opps = 'all' to support all opportunities\n",
    "used_opps = []\n",
    "used_opps.append(\"Energy System Impacts\")\n",
    "used_opps.append(\"Health Impacts\")"
   ]
  },
  {
   "cell_type": "markdown",
   "metadata": {},
   "source": [
    "### Set a priority cut-off for Variables"
   ]
  },
  {
   "cell_type": "code",
   "execution_count": null,
   "metadata": {},
   "outputs": [],
   "source": [
    "prio_cutoff = 'Low' # among: 'Low', 'Medium', High'"
   ]
  },
  {
   "cell_type": "markdown",
   "metadata": {},
   "source": [
    "### Retrieve the Variables expected for each Experiment (given the selected Opportunities)"
   ]
  },
  {
   "cell_type": "code",
   "execution_count": null,
   "metadata": {},
   "outputs": [],
   "source": [
    "#>>> issue: sounds like used_opps and priority_cutoff args are not taken into account\n",
    "expected_vars_per_expes = dq.get_requested_variables(content=dreq_tables, dreq_version=used_dreq_version,\n",
    "                                                     use_opps=used_opps, priority_cutoff=prio_cutoff, \n",
    "                                                     verbose=False, check_core_variables=False)"
   ]
  },
  {
   "cell_type": "code",
   "execution_count": null,
   "metadata": {},
   "outputs": [],
   "source": [
    "expected_vars_per_expes"
   ]
  },
  {
   "cell_type": "markdown",
   "metadata": {},
   "source": [
    "### Show result as a quick summary"
   ]
  },
  {
   "cell_type": "code",
   "execution_count": null,
   "metadata": {},
   "outputs": [],
   "source": [
    "dq.show_requested_vars_summary(expt_vars=expected_vars_per_expes, dreq_version=used_dreq_version)"
   ]
  },
  {
   "cell_type": "markdown",
   "metadata": {},
   "source": [
    "### Write full result in a json file"
   ]
  },
  {
   "cell_type": "code",
   "execution_count": null,
   "metadata": {},
   "outputs": [],
   "source": [
    "json_out = './outdir/HowTo-03b_expected_vars_per_expes.json'\n",
    "dq.write_requested_vars_json(outfile=json_out, expt_vars=expected_vars_per_expes, \n",
    "                             dreq_version=used_dreq_version, priority_cutoff=prio_cutoff, \n",
    "                             content_path=path_to_content)"
   ]
  }
 ],
 "metadata": {
  "kernelspec": {
   "display_name": "cmip7_dreq_venv-devel (python3.13)",
   "language": "python",
   "name": "cmip7_dreq_venv-devel"
  },
  "language_info": {
   "codemirror_mode": {
    "name": "ipython",
    "version": 3
   },
   "file_extension": ".py",
   "mimetype": "text/x-python",
   "name": "python",
   "nbconvert_exporter": "python",
   "pygments_lexer": "ipython3",
   "version": "3.13.2"
  }
 },
 "nbformat": 4,
 "nbformat_minor": 2
}
