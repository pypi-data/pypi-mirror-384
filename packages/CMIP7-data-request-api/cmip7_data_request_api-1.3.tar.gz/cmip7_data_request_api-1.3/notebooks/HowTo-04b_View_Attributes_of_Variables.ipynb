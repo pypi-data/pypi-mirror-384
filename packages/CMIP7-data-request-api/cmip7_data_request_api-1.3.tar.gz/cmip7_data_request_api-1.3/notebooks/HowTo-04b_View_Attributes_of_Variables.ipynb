{
 "cells": [
  {
   "cell_type": "markdown",
   "metadata": {},
   "source": [
    "# HowTo-04b_View_Attributes_of_Variables"
   ]
  },
  {
   "cell_type": "markdown",
   "metadata": {},
   "source": [
    "### Import/load the DR content as a \"DR-Dictionnary\""
   ]
  },
  {
   "cell_type": "code",
   "execution_count": null,
   "metadata": {},
   "outputs": [],
   "source": [
    "from data_request_api.content import dreq_content as dc\n",
    "from data_request_api.query import dreq_query as dq"
   ]
  },
  {
   "cell_type": "code",
   "execution_count": null,
   "metadata": {},
   "outputs": [],
   "source": [
    "dc.get_versions()"
   ]
  },
  {
   "cell_type": "code",
   "execution_count": null,
   "metadata": {},
   "outputs": [],
   "source": [
    "used_dreq_version = 'v1.2'\n",
    "dreq_content = dc.load(version=used_dreq_version)\n",
    "dreq_tables = dq.create_dreq_tables_for_request(content=dreq_content, dreq_version=used_dreq_version)\n",
    "path_to_content = dc._dreq_content_loaded['json_path']"
   ]
  },
  {
   "cell_type": "code",
   "execution_count": null,
   "metadata": {},
   "outputs": [],
   "source": [
    "#- Need to set an api version for writting results in json files\n",
    "used_api_version = 'v1.2'"
   ]
  },
  {
   "cell_type": "markdown",
   "metadata": {},
   "source": [
    "### Select some Variables or Tables or combinaison of both (i.e. Variable Compound names)"
   ]
  },
  {
   "cell_type": "code",
   "execution_count": null,
   "metadata": {
    "scrolled": false
   },
   "outputs": [],
   "source": [
    "used_cmor_tables = ['Amon', 'Omon']\n",
    "metadata1 = dq.get_variables_metadata(content=dreq_tables, cmor_tables=used_cmor_tables, \n",
    "                                      dreq_version=used_dreq_version)"
   ]
  },
  {
   "cell_type": "code",
   "execution_count": null,
   "metadata": {},
   "outputs": [],
   "source": [
    "metadata1"
   ]
  },
  {
   "cell_type": "code",
   "execution_count": null,
   "metadata": {},
   "outputs": [],
   "source": [
    "used_cmor_vars = ['tas', 'tos']\n",
    "metadata2 = dq.get_variables_metadata(content=dreq_tables, cmor_variables=used_cmor_vars, \n",
    "                                      dreq_version=used_dreq_version)"
   ]
  },
  {
   "cell_type": "code",
   "execution_count": null,
   "metadata": {},
   "outputs": [],
   "source": [
    "metadata2"
   ]
  },
  {
   "cell_type": "code",
   "execution_count": null,
   "metadata": {},
   "outputs": [],
   "source": [
    "used_compound_varnames = ['Amon.tas', 'Omon.tos']\n",
    "metadata3 = dq.get_variables_metadata(content=dreq_tables, compound_names=used_compound_varnames, \n",
    "                                      dreq_version=used_dreq_version)"
   ]
  },
  {
   "cell_type": "code",
   "execution_count": null,
   "metadata": {},
   "outputs": [],
   "source": [
    "metadata3"
   ]
  },
  {
   "cell_type": "markdown",
   "metadata": {},
   "source": [
    "### Write results in json files"
   ]
  },
  {
   "cell_type": "code",
   "execution_count": null,
   "metadata": {},
   "outputs": [],
   "source": [
    "json_out1 = './outdir/HowTo-04b_var_attrs_2tables.json'\n",
    "dq.write_variables_metadata(metadata1, dreq_version=used_dreq_version, filepath=json_out1, \n",
    "                            api_version=used_api_version, content_path=path_to_content)"
   ]
  },
  {
   "cell_type": "code",
   "execution_count": null,
   "metadata": {},
   "outputs": [],
   "source": [
    "json_out2 = './outdir/HowTo-04b_var_attrs_2vars.json'\n",
    "dq.write_variables_metadata(metadata2, dreq_version=used_dreq_version, filepath=json_out2, \n",
    "                            api_version=used_api_version, content_path=path_to_content)"
   ]
  },
  {
   "cell_type": "code",
   "execution_count": null,
   "metadata": {},
   "outputs": [],
   "source": [
    "json_out3 = './outdir/HowTo-04b_var_attrs_2compounds.json'\n",
    "dq.write_variables_metadata(metadata3, dreq_version=used_dreq_version, filepath=json_out3, \n",
    "                            api_version=used_api_version, content_path=path_to_content)"
   ]
  }
 ],
 "metadata": {
  "kernelspec": {
   "display_name": "cmip7_dreq_venv-devel (python3.13)",
   "language": "python",
   "name": "cmip7_dreq_venv-devel"
  },
  "language_info": {
   "codemirror_mode": {
    "name": "ipython",
    "version": 3
   },
   "file_extension": ".py",
   "mimetype": "text/x-python",
   "name": "python",
   "nbconvert_exporter": "python",
   "pygments_lexer": "ipython3",
   "version": "3.13.2"
  }
 },
 "nbformat": 4,
 "nbformat_minor": 2
}
