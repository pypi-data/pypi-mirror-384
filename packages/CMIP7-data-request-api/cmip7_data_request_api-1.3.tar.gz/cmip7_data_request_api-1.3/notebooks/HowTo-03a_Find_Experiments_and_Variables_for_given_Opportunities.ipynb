{
 "cells": [
  {
   "cell_type": "markdown",
   "metadata": {},
   "source": [
    "# HowTo-03a_Find_Experiments_and_Variables_for_given_Opportunities"
   ]
  },
  {
   "cell_type": "markdown",
   "metadata": {},
   "source": [
    "### Import the DR and instanciate a \"DR-Object\""
   ]
  },
  {
   "cell_type": "code",
   "execution_count": null,
   "metadata": {},
   "outputs": [],
   "source": [
    "from data_request_api.content import dreq_content as dc\n",
    "from data_request_api.content import dump_transformation as dt\n",
    "from data_request_api.query import data_request as dr\n",
    "from data_request_api.query import dreq_query as dq"
   ]
  },
  {
   "cell_type": "code",
   "execution_count": null,
   "metadata": {},
   "outputs": [],
   "source": [
    "#- Use the latest_stable version of the DR content (default)\n",
    "content_dic = dt.get_transformed_content()"
   ]
  },
  {
   "cell_type": "code",
   "execution_count": null,
   "metadata": {},
   "outputs": [],
   "source": [
    "DR = dr.DataRequest.from_separated_inputs(**content_dic)"
   ]
  },
  {
   "cell_type": "markdown",
   "metadata": {},
   "source": [
    "### Find  Experiments and Variables requested by a given Opportunity"
   ]
  },
  {
   "cell_type": "markdown",
   "metadata": {},
   "source": [
    "#### Select an opportunity and see what it is made of"
   ]
  },
  {
   "cell_type": "code",
   "execution_count": null,
   "metadata": {},
   "outputs": [],
   "source": [
    "used_opp = \"Terrestrial Biodiversity\""
   ]
  },
  {
   "cell_type": "code",
   "execution_count": null,
   "metadata": {},
   "outputs": [],
   "source": [
    "opp = DR.get_opportunity(used_opp)\n",
    "opp"
   ]
  },
  {
   "cell_type": "markdown",
   "metadata": {},
   "source": [
    "#### Find Experiments associated with the selected Opportunity"
   ]
  },
  {
   "cell_type": "code",
   "execution_count": null,
   "metadata": {},
   "outputs": [],
   "source": [
    "opp_expes = DR.find_experiments_per_opportunity(used_opp)\n",
    "opp_expes"
   ]
  },
  {
   "cell_type": "markdown",
   "metadata": {},
   "source": [
    "_This is equivalent to scanning the 3 experimentGroups included in this Opportunity_"
   ]
  },
  {
   "cell_type": "code",
   "execution_count": null,
   "metadata": {},
   "outputs": [],
   "source": [
    "DR.get_experiment_group(\"picontrol\")\n",
    "#DR.get_experiment_group(\"80ab724b-a698-11ef-914a-613c0433d878\")"
   ]
  },
  {
   "cell_type": "code",
   "execution_count": null,
   "metadata": {},
   "outputs": [],
   "source": [
    "DR.get_experiment_group(\"scenarios\")\n",
    "#DR.get_experiment_group(\"dafc748f-8c95-11ef-944e-41a8eb05f654\")"
   ]
  },
  {
   "cell_type": "code",
   "execution_count": null,
   "metadata": {},
   "outputs": [],
   "source": [
    "DR.get_experiment_group(\"historical\")\n",
    "#DR.get_experiment_group(\"dafc7490-8c95-11ef-944e-41a8eb05f654\")"
   ]
  },
  {
   "cell_type": "markdown",
   "metadata": {},
   "source": [
    "#### Find Variables requested by the selected Opportunity"
   ]
  },
  {
   "cell_type": "code",
   "execution_count": null,
   "metadata": {},
   "outputs": [],
   "source": [
    "opp_vars = DR.find_variables_per_opportunity(\"Terrestrial Biodiversity\")\n",
    "len(opp_vars)"
   ]
  },
  {
   "cell_type": "code",
   "execution_count": null,
   "metadata": {},
   "outputs": [],
   "source": [
    "opp_vars"
   ]
  },
  {
   "cell_type": "markdown",
   "metadata": {},
   "source": [
    "### Find Experiments and Variables requested by several Opportunities"
   ]
  },
  {
   "cell_type": "code",
   "execution_count": null,
   "metadata": {},
   "outputs": [],
   "source": [
    "used_opps = []\n",
    "used_opps.append(\"Energy System Impacts\")\n",
    "used_opps.append(\"Health Impacts\")"
   ]
  },
  {
   "cell_type": "code",
   "execution_count": null,
   "metadata": {},
   "outputs": [],
   "source": [
    "#- Create a dictionnary of filtering criterias\n",
    "filters = {\"opportunity\":used_opps}"
   ]
  },
  {
   "cell_type": "code",
   "execution_count": null,
   "metadata": {},
   "outputs": [],
   "source": [
    "#- Apply the filters to the find_experiments function\n",
    "expes = DR.find_experiments(operation='any', skip_if_missing=True, **filters)\n",
    "len(expes)"
   ]
  },
  {
   "cell_type": "code",
   "execution_count": null,
   "metadata": {},
   "outputs": [],
   "source": [
    "expes"
   ]
  },
  {
   "cell_type": "code",
   "execution_count": null,
   "metadata": {},
   "outputs": [],
   "source": [
    "#- Apply the filters to the find_variables function\n",
    "vars = DR.find_variables(operation='any', skip_if_missing=True, **filters)\n",
    "len(vars)"
   ]
  },
  {
   "cell_type": "code",
   "execution_count": null,
   "metadata": {},
   "outputs": [],
   "source": [
    "vars"
   ]
  }
 ],
 "metadata": {
  "kernelspec": {
   "display_name": "cmip7_dreq_venv-devel (python3.13)",
   "language": "python",
   "name": "cmip7_dreq_venv-devel"
  },
  "language_info": {
   "codemirror_mode": {
    "name": "ipython",
    "version": 3
   },
   "file_extension": ".py",
   "mimetype": "text/x-python",
   "name": "python",
   "nbconvert_exporter": "python",
   "pygments_lexer": "ipython3",
   "version": "3.13.2"
  }
 },
 "nbformat": 4,
 "nbformat_minor": 2
}
