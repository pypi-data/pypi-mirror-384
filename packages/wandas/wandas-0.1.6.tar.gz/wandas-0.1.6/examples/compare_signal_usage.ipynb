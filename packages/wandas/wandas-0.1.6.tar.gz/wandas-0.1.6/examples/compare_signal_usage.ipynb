{
 "cells": [
  {
   "cell_type": "code",
   "execution_count": null,
   "metadata": {},
   "outputs": [],
   "source": [
    "import numpy as np\n",
    "\n",
    "from wandas.core import ChannelFrame, FileFrame\n",
    "from wandas.utils import generate_sample"
   ]
  },
  {
   "cell_type": "code",
   "execution_count": 2,
   "metadata": {},
   "outputs": [
    {
     "name": "stderr",
     "output_type": "stream",
     "text": [
      "/workspaces/wandas/wandas/io/wav_io.py:26: WavFileWarning: Chunk (non-data) not understood, skipping it.\n",
      "  sampling_rate, data = wavfile.read(filename)\n"
     ]
    },
    {
     "data": {
      "application/vnd.jupyter.widget-view+json": {
       "model_id": "bfc3865410eb40b19e5955bf7cd6205c",
       "version_major": 2,
       "version_minor": 0
      },
      "text/plain": [
       "VBox(children=(VBox(children=(HTML(value=\"<span style='font-size:20px; font-weight:normal;'>./data/summer_stre…"
      ]
     },
     "execution_count": 2,
     "metadata": {},
     "output_type": "execute_result"
    }
   ],
   "source": [
    "files = FileFrame.from_dir(\"./data\", suffix=\".wav\")\n",
    "files.describe()"
   ]
  },
  {
   "cell_type": "code",
   "execution_count": null,
   "metadata": {},
   "outputs": [
    {
     "data": {
      "application/vnd.jupyter.widget-view+json": {
       "model_id": "35f2c3c02d6d4a5981aa15a94746d076",
       "version_major": 2,
       "version_minor": 0
      },
      "text/plain": [
       "VBox(children=(VBox(children=(HTML(value=\"<span style='font-size:20px; font-weight:normal;'>None, 44100 Hz</sp…"
      ]
     },
     "execution_count": 3,
     "metadata": {},
     "output_type": "execute_result"
    }
   ],
   "source": [
    "fs = 44100\n",
    "rand_signal = np.random.rand(2, fs * 10)\n",
    "\n",
    "files = FileFrame(\n",
    "    [\n",
    "        ChannelFrame.from_ndarray(rand_signal, sampling_rate=fs),\n",
    "        generate_sample.generate_sample(freqs=5000, sampling_rate=fs, duration=10),\n",
    "    ]\n",
    ")\n",
    "files.describe()"
   ]
  },
  {
   "cell_type": "code",
   "execution_count": null,
   "metadata": {},
   "outputs": [],
   "source": []
  }
 ],
 "metadata": {
  "kernelspec": {
   "display_name": ".venv",
   "language": "python",
   "name": "python3"
  },
  "language_info": {
   "codemirror_mode": {
    "name": "ipython",
    "version": 3
   },
   "file_extension": ".py",
   "mimetype": "text/x-python",
   "name": "python",
   "nbconvert_exporter": "python",
   "pygments_lexer": "ipython3",
   "version": "3.10.16"
  }
 },
 "nbformat": 4,
 "nbformat_minor": 2
}
