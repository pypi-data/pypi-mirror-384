{
 "cells": [
  {
   "cell_type": "markdown",
   "metadata": {},
   "source": [
    "# Synthetic FlyPCA Demo\n",
    "This notebook mirrors the CLI pipeline on a synthetic dataset, illustrating lag-embedded PCA, feature extraction, and clustering."
   ]
  },
  {
   "cell_type": "code",
   "execution_count": null,
   "metadata": {},
   "outputs": [],
   "source": [
    "from pathlib import Path\n",
    "import pandas as pd\n",
    "from flypca.synthetic import generate_synthetic_trials\n",
    "from flypca.lagpca import fit_lag_pca_for_trials, project_trial\n",
    "from flypca.features import compute_feature_table\n",
    "from flypca.cluster import cluster_features\n",
    "\n",
    "trials, meta = generate_synthetic_trials(n_flies=3, trials_per_fly=8)\n",
    "config = {\n",
    "    \"pre_s\": 2.0,\n",
    "    \"post_s\": 2.0,\n",
    "    \"lag_ms\": 250,\n",
    "    \"n_components\": 5,\n",
    "    \"threshold_k\": 2.5,\n",
    "    \"smoothing\": {\"enable\": True, \"savgol_window_ms\": 151, \"savgol_poly\": 3},\n",
    "}\n",
    "result = fit_lag_pca_for_trials(trials, config)\n",
    "projections = {trial.trial_id: project_trial(trial, result) for trial in trials}\n",
    "features = compute_feature_table(trials, config, result=result, projections=projections)\n",
    "features = features.merge(meta, on=[\"trial_id\", \"fly_id\"])\n",
    "cluster_result = cluster_features(features.drop(columns=[\"reaction\", \"amplitude\", \"latency\"]))\n",
    "features.head()"
   ]
  }
 ],
 "metadata": {
  "kernelspec": {
   "display_name": "Python 3",
   "language": "python",
   "name": "python3"
  },
  "language_info": {
   "name": "python",
   "version": "3.11"
  }
 },
 "nbformat": 4,
 "nbformat_minor": 5
}
