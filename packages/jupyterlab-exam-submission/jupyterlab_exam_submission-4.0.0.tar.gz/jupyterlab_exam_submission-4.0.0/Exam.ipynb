{
 "cells": [
  {
   "cell_type": "markdown",
   "id": "c36b934c-bbee-4350-97bf-459c24ac4700",
   "metadata": {},
   "source": [
    "# Exam"
   ]
  },
  {
   "cell_type": "code",
   "execution_count": 1,
   "id": "b07216d9-e40c-49bd-bb93-3095e8354e60",
   "metadata": {
    "tags": [
     "hide_code",
     "hide_output"
    ]
   },
   "outputs": [
    {
     "name": "stdout",
     "output_type": "stream",
     "text": [
      "Note: you may need to restart the kernel to use updated packages.\n"
     ]
    }
   ],
   "source": [
    "%pip install -q ipywidgets bqplot plotly"
   ]
  },
  {
   "cell_type": "code",
   "execution_count": 2,
   "id": "a868c8fb-c097-4f1a-bfca-a3a28fb99a83",
   "metadata": {
    "tags": [
     "hide_code"
    ]
   },
   "outputs": [
    {
     "data": {
      "application/vnd.jupyter.widget-view+json": {
       "model_id": "42cd205d61664547992454636190fcce",
       "version_major": 2,
       "version_minor": 0
      },
      "text/plain": [
       "VBox(children=(HTML(value='<h3>📓 Notebook Submission</h3>'), Text(value='', description='Student Code:', layou…"
      ]
     },
     "metadata": {},
     "output_type": "display_data"
    }
   ],
   "source": [
    "import json\n",
    "import requests\n",
    "import ipywidgets as widgets\n",
    "from IPython.display import display, HTML\n",
    "from datetime import datetime\n",
    "\n",
    "# --- Configuration ---\n",
    "ENDPOINT = \"https://httpbin.org/post\"  # demo endpoint, echoes what you send\n",
    "NOTEBOOK_PATH = \"exam.ipynb\"\n",
    "\n",
    "# --- Track last submission ---\n",
    "last_submission_time = None\n",
    "\n",
    "# --- UI Setup ---\n",
    "student_code_input = widgets.Text(\n",
    "    placeholder='Enter your student code',\n",
    "    description='Student Code:',\n",
    "    style={'description_width': '120px'},\n",
    "    layout=widgets.Layout(width='400px')\n",
    ")\n",
    "\n",
    "submit_button = widgets.Button(\n",
    "    description=\"📤 Submit Notebook\",\n",
    "    button_style=\"primary\",\n",
    "    tooltip=\"Send notebook to server\",\n",
    ")\n",
    "\n",
    "last_submission_label = widgets.HTML(\n",
    "    value=\"<p style='color:gray; font-style:italic;'>📅 Never submitted</p>\"\n",
    ")\n",
    "\n",
    "status_output = widgets.Output()\n",
    "\n",
    "# --- Handler ---\n",
    "def on_submit_clicked(b):\n",
    "    global last_submission_time\n",
    "    \n",
    "    with status_output:\n",
    "        status_output.clear_output()\n",
    "        \n",
    "        # Validate student code\n",
    "        student_code = student_code_input.value.strip()\n",
    "        if not student_code:\n",
    "            display(HTML(\"<p style='color:orange;'>⚠️ Please enter your student code</p>\"))\n",
    "            return\n",
    "        \n",
    "        print(f\"Submitting notebook for student: {student_code}...\")\n",
    "        \n",
    "        try:\n",
    "            # Read notebook content\n",
    "            with open(NOTEBOOK_PATH, \"r\", encoding=\"utf-8\") as f:\n",
    "                nb_content = json.load(f)\n",
    "            \n",
    "            # Prepare payload with student code and timestamp\n",
    "            submission_time = datetime.now()\n",
    "            payload = {\n",
    "                \"student_code\": student_code,\n",
    "                \"notebook\": nb_content,\n",
    "                \"timestamp\": submission_time.isoformat()\n",
    "            }\n",
    "            \n",
    "            # Send POST request\n",
    "            response = requests.post(ENDPOINT, json=payload)\n",
    "            \n",
    "            # Check response\n",
    "            if response.status_code == 200:\n",
    "                last_submission_time = submission_time\n",
    "                last_submission_label.value = f\"<p style='color:green;'>📅 Last submitted: {submission_time.strftime('%Y-%m-%d %H:%M:%S')}</p>\"\n",
    "                display(HTML(f\"<p style='color:green;'>✅ Submission successful for student {student_code}!</p>\"))\n",
    "            else:\n",
    "                display(HTML(f\"<p style='color:red;'>❌ Failed: {response.status_code}</p>\"))\n",
    "        except Exception as e:\n",
    "            display(HTML(f\"<p style='color:red;'>⚠️ Error: {e}</p>\"))\n",
    "\n",
    "# --- Bind the event ---\n",
    "submit_button.on_click(on_submit_clicked)\n",
    "\n",
    "# --- Display UI ---\n",
    "display(\n",
    "    widgets.VBox([\n",
    "        widgets.HTML(\"<h3>📓 Notebook Submission</h3>\"),\n",
    "        student_code_input,\n",
    "        submit_button,\n",
    "        last_submission_label,\n",
    "        status_output\n",
    "    ])\n",
    ")"
   ]
  },
  {
   "cell_type": "code",
   "execution_count": null,
   "id": "a77a0efa-1e0d-4a8d-8e19-516e45b01423",
   "metadata": {},
   "outputs": [],
   "source": []
  }
 ],
 "metadata": {
  "kernelspec": {
   "display_name": "Python 3 (ipykernel)",
   "language": "python",
   "name": "python3"
  },
  "language_info": {
   "codemirror_mode": {
    "name": "ipython",
    "version": 3
   },
   "file_extension": ".py",
   "mimetype": "text/x-python",
   "name": "python",
   "nbconvert_exporter": "python",
   "pygments_lexer": "ipython3",
   "version": "3.11.14"
  }
 },
 "nbformat": 4,
 "nbformat_minor": 5
}
