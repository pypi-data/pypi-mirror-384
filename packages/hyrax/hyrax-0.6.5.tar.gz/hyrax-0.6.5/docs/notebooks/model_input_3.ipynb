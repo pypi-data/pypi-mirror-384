{
 "cells": [
  {
   "cell_type": "markdown",
   "id": "b19e006d",
   "metadata": {},
   "source": [
    "# Providing Data - Level 3\n",
    "## Requesting multi-modal data\n",
    "\n",
    "In this notebook we'll see how to request data from multiple data sources using multiple ``HyraxDataset``s.\n",
    "\n",
    "To do so we'll start with ``model_inputs`` data request. "
   ]
  },
  {
   "cell_type": "markdown",
   "id": "9b20cc7b",
   "metadata": {},
   "source": []
  }
 ],
 "metadata": {
  "language_info": {
   "name": "python"
  }
 },
 "nbformat": 4,
 "nbformat_minor": 5
}
