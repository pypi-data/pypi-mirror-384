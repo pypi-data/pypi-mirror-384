{
 "cells": [
  {
   "cell_type": "markdown",
   "id": "82078a97-475a-436d-93f7-f8ff6c2d8b62",
   "metadata": {},
   "source": [
    "# Installs and imports\n",
    "We do a source install of hyrax and import the major libraries we will need, as well as define constants so all our database accesses are on the same dataset."
   ]
  },
  {
   "cell_type": "code",
   "execution_count": 1,
   "id": "27a9c823-0fb5-4fa8-ae4d-59731c603e09",
   "metadata": {
    "execution": {
     "iopub.execute_input": "2025-04-22T21:44:52.549191Z",
     "iopub.status.busy": "2025-04-22T21:44:52.548491Z",
     "iopub.status.idle": "2025-04-22T21:45:04.994818Z",
     "shell.execute_reply": "2025-04-22T21:45:04.994236Z",
     "shell.execute_reply.started": "2025-04-22T21:44:52.549171Z"
    }
   },
   "outputs": [
    {
     "name": "stdout",
     "output_type": "stream",
     "text": [
      "\u001b[0m\n",
      "Note: you may need to restart the kernel to use updated packages.\n",
      "\u001b[0m\n",
      "Note: you may need to restart the kernel to use updated packages.\n"
     ]
    }
   ],
   "source": [
    "# You must git check out hyrax to ~/rubin-user/hyrax for this to work.\n",
    "%pip install -q -e ~/rubin-user/hyrax 2>&1 | grep -vE 'WARNING: Error parsing dependencies of (lsst-|astshim|astro-)'\n",
    "%pip install -q lsdb 2>&1 | grep -vE 'WARNING: Error parsing dependencies of (lsst-|astshim|astro-)'"
   ]
  },
  {
   "cell_type": "code",
   "execution_count": 3,
   "id": "ab7c0163-5b56-47dd-a19f-c1e5604c0ac2",
   "metadata": {
    "execution": {
     "iopub.execute_input": "2025-05-26T07:50:34.665977Z",
     "iopub.status.busy": "2025-05-26T07:50:34.665377Z",
     "iopub.status.idle": "2025-05-26T07:50:34.668812Z",
     "shell.execute_reply": "2025-05-26T07:50:34.668333Z",
     "shell.execute_reply.started": "2025-05-26T07:50:34.665958Z"
    }
   },
   "outputs": [],
   "source": [
    "import lsdb\n",
    "import hyrax\n",
    "from lsst.daf.butler import Butler\n",
    "import numpy as np\n",
    "import astropy.units as u\n",
    "\n",
    "butler_config = {\n",
    "    \"config\": \"/repo/main\",\n",
    "    \"collections\": \"LSSTComCam/runs/DRP/DP1/v29_0_0_rc5/DM-49865\",\n",
    "}\n",
    "sky_config = {\n",
    "    \"skymap\": \"lsst_cells_v1\",\n",
    "    \"tract\": 5063,\n",
    "    \"patch\": 4,\n",
    "}"
   ]
  },
  {
   "cell_type": "markdown",
   "id": "15d6cb96-2d8e-4670-a12a-8acc1cb6ad29",
   "metadata": {},
   "source": [
    "# Route 1 -- Create a Hats catalog with objects of interest\n",
    "\n",
    "In order that this is compatible with DP1 ComCam data, we will pick a tract/patch where there is a deep field, cone search in hats slightly smaller than the patch to avoid edge-of-patch/edge-of-tract cutouts which are not yet handled by LSSTCutout, and then save the catalog file"
   ]
  },
  {
   "cell_type": "code",
   "execution_count": 2,
   "id": "1317a8a4-26dd-4d90-a9b8-50c23988efa6",
   "metadata": {
    "execution": {
     "iopub.execute_input": "2025-05-26T07:50:27.155109Z",
     "iopub.status.busy": "2025-05-26T07:50:27.154876Z",
     "iopub.status.idle": "2025-05-26T07:50:27.158156Z",
     "shell.execute_reply": "2025-05-26T07:50:27.157706Z",
     "shell.execute_reply.started": "2025-05-26T07:50:27.155092Z"
    }
   },
   "outputs": [],
   "source": [
    "lsdb_config = {\n",
    "    \"path\": \"/sdf/data/rubin/shared/lsdb_commissioning/hats/v29_0_0_rc5/object_lc\",\n",
    "    \"margin_cache\": \"/sdf/data/rubin/shared/lsdb_commissioning/hats/v29_0_0_rc5/object_lc_5arcs\",\n",
    "    \"columns\": [\n",
    "        \"objectId\",\n",
    "        \"coord_ra\",\n",
    "        \"coord_dec\",\n",
    "        \"shape_flag\",\n",
    "        \"g_kronMag\",\n",
    "        \"g_psfMag\",\n",
    "        \"shape_xx\",\n",
    "        \"shape_yy\",\n",
    "        \"shape_xy\",\n",
    "    ],\n",
    "}"
   ]
  },
  {
   "cell_type": "code",
   "execution_count": 2,
   "id": "c521bcb4-7104-43a9-a699-0a16edcde148",
   "metadata": {
    "execution": {
     "iopub.execute_input": "2025-04-22T23:55:10.345871Z",
     "iopub.status.busy": "2025-04-22T23:55:10.345717Z",
     "iopub.status.idle": "2025-04-22T23:55:12.669618Z",
     "shell.execute_reply": "2025-04-22T23:55:12.669175Z",
     "shell.execute_reply.started": "2025-04-22T23:55:10.345855Z"
    }
   },
   "outputs": [
    {
     "data": {
      "text/html": [
       "<table border=\"1\" class=\"dataframe\">\n",
       "  <thead>\n",
       "    <tr style=\"text-align: right;\">\n",
       "      <th></th>\n",
       "      <th>objectId</th>\n",
       "      <th>coord_ra</th>\n",
       "      <th>coord_dec</th>\n",
       "      <th>shape_flag</th>\n",
       "      <th>g_kronMag</th>\n",
       "      <th>g_psfMag</th>\n",
       "      <th>shape_xx</th>\n",
       "      <th>shape_yy</th>\n",
       "      <th>shape_xy</th>\n",
       "      <th>area_sqpx</th>\n",
       "    </tr>\n",
       "    <tr>\n",
       "      <th>_healpix_29</th>\n",
       "      <th></th>\n",
       "      <th></th>\n",
       "      <th></th>\n",
       "      <th></th>\n",
       "      <th></th>\n",
       "      <th></th>\n",
       "      <th></th>\n",
       "      <th></th>\n",
       "      <th></th>\n",
       "      <th></th>\n",
       "    </tr>\n",
       "  </thead>\n",
       "  <tbody>\n",
       "    <tr>\n",
       "      <th>2528665042651534972</th>\n",
       "      <td>2132999781327330046</td>\n",
       "      <td>53.149835</td>\n",
       "      <td>-28.353579</td>\n",
       "      <td>False</td>\n",
       "      <td>26.862612</td>\n",
       "      <td>27.239223</td>\n",
       "      <td>5.770088</td>\n",
       "      <td>3.617737</td>\n",
       "      <td>-1.410515</td>\n",
       "      <td>19.307438</td>\n",
       "    </tr>\n",
       "    <tr>\n",
       "      <th>2528665044302456614</th>\n",
       "      <td>2132999781327330243</td>\n",
       "      <td>53.147271</td>\n",
       "      <td>-28.352482</td>\n",
       "      <td>False</td>\n",
       "      <td>24.923187</td>\n",
       "      <td>25.08605</td>\n",
       "      <td>7.937774</td>\n",
       "      <td>8.092479</td>\n",
       "      <td>-1.153888</td>\n",
       "      <td>35.237640</td>\n",
       "    </tr>\n",
       "    <tr>\n",
       "      <th>...</th>\n",
       "      <td>...</td>\n",
       "      <td>...</td>\n",
       "      <td>...</td>\n",
       "      <td>...</td>\n",
       "      <td>...</td>\n",
       "      <td>...</td>\n",
       "      <td>...</td>\n",
       "      <td>...</td>\n",
       "      <td>...</td>\n",
       "      <td>...</td>\n",
       "    </tr>\n",
       "    <tr>\n",
       "      <th>2528737149810927662</th>\n",
       "      <td>2226792521223120438</td>\n",
       "      <td>53.15675</td>\n",
       "      <td>-28.187247</td>\n",
       "      <td>False</td>\n",
       "      <td>24.898371</td>\n",
       "      <td>26.014616</td>\n",
       "      <td>5.029204</td>\n",
       "      <td>6.267774</td>\n",
       "      <td>-0.069132</td>\n",
       "      <td>24.942400</td>\n",
       "    </tr>\n",
       "    <tr>\n",
       "      <th>2528737151063122411</th>\n",
       "      <td>2226748540758023356</td>\n",
       "      <td>53.15478</td>\n",
       "      <td>-28.187289</td>\n",
       "      <td>False</td>\n",
       "      <td>23.721519</td>\n",
       "      <td>24.283817</td>\n",
       "      <td>14.342004</td>\n",
       "      <td>12.251507</td>\n",
       "      <td>2.401523</td>\n",
       "      <td>57.918537</td>\n",
       "    </tr>\n",
       "  </tbody>\n",
       "</table>\n",
       "<p>10302 rows × 10 columns</p>"
      ],
      "text/plain": [
       "                                objectId   coord_ra  coord_dec shape_flag  \\\n",
       "_healpix_29                                                                 \n",
       "2528665042651534972  2132999781327330046  53.149835 -28.353579      False   \n",
       "2528665044302456614  2132999781327330243  53.147271 -28.352482      False   \n",
       "...                                  ...        ...        ...        ...   \n",
       "2528737149810927662  2226792521223120438   53.15675 -28.187247      False   \n",
       "2528737151063122411  2226748540758023356   53.15478 -28.187289      False   \n",
       "\n",
       "                     g_kronMag   g_psfMag   shape_xx   shape_yy  shape_xy  \\\n",
       "_healpix_29                                                                 \n",
       "2528665042651534972  26.862612  27.239223   5.770088   3.617737 -1.410515   \n",
       "2528665044302456614  24.923187   25.08605   7.937774   8.092479 -1.153888   \n",
       "...                        ...        ...        ...        ...       ...   \n",
       "2528737149810927662  24.898371  26.014616   5.029204   6.267774 -0.069132   \n",
       "2528737151063122411  23.721519  24.283817  14.342004  12.251507  2.401523   \n",
       "\n",
       "                     area_sqpx  \n",
       "_healpix_29                     \n",
       "2528665042651534972  19.307438  \n",
       "2528665044302456614  35.237640  \n",
       "...                        ...  \n",
       "2528737149810927662  24.942400  \n",
       "2528737151063122411  57.918537  \n",
       "\n",
       "[10302 rows x 10 columns]"
      ]
     },
     "execution_count": 2,
     "metadata": {},
     "output_type": "execute_result"
    }
   ],
   "source": [
    "# Find the tract/patch dimensions we want\n",
    "butler = Butler.from_config(**butler_config)\n",
    "skymap = butler.get(\"skyMap\", sky_config)\n",
    "tract = skymap[sky_config[\"tract\"]]\n",
    "patch = tract.getPatchInfo(sky_config[\"patch\"])\n",
    "wcs = patch.getWcs()\n",
    "patch_bbox = patch.getInnerBBox()\n",
    "\n",
    "sky_max = wcs.pixelToSky(patch_bbox.minX, patch_bbox.maxY)\n",
    "sky_min = wcs.pixelToSky(patch_bbox.maxX, patch_bbox.minY)\n",
    "\n",
    "ra_range = [sky_min.getLongitude().asDegrees(), sky_max.getLongitude().asDegrees()]\n",
    "dec_range = [sky_min.getLatitude().asDegrees(), sky_max.getLatitude().asDegrees()]\n",
    "\n",
    "# Query the catalog and save out the restricted catalog\n",
    "catalog = lsdb.read_hats(**lsdb_config)\n",
    "catalog = catalog.box_search(ra=ra_range, dec=dec_range)\n",
    "catalog = catalog.query(\"g_psfMag > 20 & g_psfMag < 30\")\n",
    "catalog = catalog.query(\"shape_flag == False\")\n",
    "\n",
    "catalog._ddf[\"area_sqpx\"] = np.pi * np.sqrt(\n",
    "    2 * (catalog._ddf[\"shape_xx\"] * catalog._ddf[\"shape_yy\"] - catalog._ddf[\"shape_xy\"] ** 2)\n",
    ")\n",
    "catalog = catalog.query(\"area_sqpx > 5\")\n",
    "res = catalog.compute()\n",
    "catalog.to_hats(base_catalog_path=\"./hyrax_catalog\", catalog_name=\"hyrax_catalog\", overwrite=\"True\")\n",
    "# catalog.columns\n",
    "res"
   ]
  },
  {
   "cell_type": "markdown",
   "id": "77b6cbea-b9e7-495c-97b9-603b3245bf80",
   "metadata": {},
   "source": [
    "## Setup Hyrax to use the hats catalog\n",
    "Configure hyrax to use the hats catalog "
   ]
  },
  {
   "cell_type": "code",
   "execution_count": 5,
   "id": "f95c0174-16fb-4672-ad42-c207a31614bc",
   "metadata": {
    "execution": {
     "iopub.execute_input": "2025-04-23T00:17:09.176676Z",
     "iopub.status.busy": "2025-04-23T00:17:09.176193Z",
     "iopub.status.idle": "2025-04-23T00:17:14.819721Z",
     "shell.execute_reply": "2025-04-23T00:17:14.819272Z",
     "shell.execute_reply.started": "2025-04-23T00:17:09.176657Z"
    }
   },
   "outputs": [
    {
     "name": "stderr",
     "output_type": "stream",
     "text": [
      "[2025-04-23 00:17:09,220 hyrax:INFO] Runtime Config read from: /sdf/data/rubin/user/mtauraso/hyrax/src/hyrax/hyrax_default_config.toml\n"
     ]
    },
    {
     "data": {
      "text/html": [
       "<pre style=\"margin: 0.1em;\n",
       "padding-left: 0.25em;\n",
       "border-left-style: solid;\n",
       "font-family: var(--jp-code-font-family);\n",
       "font-size: var(--jp-code-font-size);\n",
       "line-height: var(--jp-code-line-height);\n",
       "\"><span style=\"color: var(--jp-warn-color2)\">hyrax</span> <span style=\"color: var(--jp-info-color0)\">INFO</span>: Runtime Config read from: /sdf/data/rubin/user/mtauraso/hyrax/src/hyrax/hyrax_default_config.toml</pre>"
      ],
      "text/plain": [
       "<IPython.core.display.HTML object>"
      ]
     },
     "metadata": {},
     "output_type": "display_data"
    },
    {
     "name": "stderr",
     "output_type": "stream",
     "text": [
      "/home/m/mtauraso/.local/lib/python3.12/site-packages/ignite/handlers/checkpoint.py:16: DeprecationWarning: `TorchScript` support for functional optimizers is deprecated and will be removed in a future PyTorch release. Consider using the `torch.compile` optimizer instead.\n",
      "  from torch.distributed.optim import ZeroRedundancyOptimizer\n",
      "[2025-04-23 00:17:14,816 hyrax.prepare:INFO] Finished Prepare\n"
     ]
    },
    {
     "data": {
      "text/html": [
       "<pre style=\"margin: 0.1em;\n",
       "padding-left: 0.25em;\n",
       "border-left-style: solid;\n",
       "font-family: var(--jp-code-font-family);\n",
       "font-size: var(--jp-code-font-size);\n",
       "line-height: var(--jp-code-line-height);\n",
       "\"><span style=\"color: var(--jp-warn-color2)\">hyrax.prepare</span> <span style=\"color: var(--jp-info-color0)\">INFO</span>: Finished Prepare</pre>"
      ],
      "text/plain": [
       "<IPython.core.display.HTML object>"
      ]
     },
     "metadata": {},
     "output_type": "display_data"
    }
   ],
   "source": [
    "h = hyrax.Hyrax()\n",
    "h.config[\"data_set\"][\"name\"] = \"LSSTDataset\"\n",
    "h.config[\"data_set\"][\"hats_catalog\"] = \"./hyrax_catalog/\"\n",
    "h.config[\"data_set\"][\"butler_repo\"] = butler_config[\"config\"]\n",
    "h.config[\"data_set\"][\"butler_collection\"] = butler_config[\"collections\"]\n",
    "h.config[\"data_set\"][\"skymap\"] = sky_config[\"skymap\"]\n",
    "h.config[\"data_set\"][\"semi_width_deg\"] = (20 * u.arcsec).to(u.deg).value\n",
    "h.config[\"data_set\"][\"semi_height_deg\"] = (20 * u.arcsec).to(u.deg).value\n",
    "\n",
    "a = h.prepare()"
   ]
  },
  {
   "cell_type": "code",
   "execution_count": 10,
   "id": "0ed25731-d408-488f-aec0-cd988ec73c17",
   "metadata": {
    "execution": {
     "iopub.execute_input": "2025-04-23T00:18:35.624925Z",
     "iopub.status.busy": "2025-04-23T00:18:35.624604Z",
     "iopub.status.idle": "2025-04-23T00:18:35.629829Z",
     "shell.execute_reply": "2025-04-23T00:18:35.629357Z",
     "shell.execute_reply.started": "2025-04-23T00:18:35.624905Z"
    }
   },
   "outputs": [
    {
     "data": {
      "text/plain": [
       "torch.Size([3, 200, 202])"
      ]
     },
     "execution_count": 10,
     "metadata": {},
     "output_type": "execute_result"
    }
   ],
   "source": [
    "a[3].shape"
   ]
  },
  {
   "cell_type": "markdown",
   "id": "dac3d274-adc4-4c0d-885e-30c72507778f",
   "metadata": {},
   "source": [
    "# Route 2 -- Use Butler to Download Catalog "
   ]
  },
  {
   "cell_type": "code",
   "execution_count": 5,
   "id": "3cd02f96-63a7-4ee9-9cac-cc31569bfddd",
   "metadata": {
    "execution": {
     "iopub.execute_input": "2025-05-26T07:52:23.266789Z",
     "iopub.status.busy": "2025-05-26T07:52:23.266435Z",
     "iopub.status.idle": "2025-05-26T07:52:23.871030Z",
     "shell.execute_reply": "2025-05-26T07:52:23.870466Z",
     "shell.execute_reply.started": "2025-05-26T07:52:23.266761Z"
    }
   },
   "outputs": [],
   "source": [
    "butler = Butler(**butler_config)"
   ]
  },
  {
   "cell_type": "markdown",
   "id": "decb6d5f-b94c-47dc-8c64-f441929a3434",
   "metadata": {
    "execution": {
     "iopub.execute_input": "2025-05-26T07:52:23.266789Z",
     "iopub.status.busy": "2025-05-26T07:52:23.266435Z",
     "iopub.status.idle": "2025-05-26T07:52:23.871030Z",
     "shell.execute_reply": "2025-05-26T07:52:23.870466Z",
     "shell.execute_reply.started": "2025-05-26T07:52:23.266761Z"
    }
   },
   "source": [
    "Let's specify the columns we want to downloda"
   ]
  },
  {
   "cell_type": "code",
   "execution_count": 6,
   "id": "f0bf7034-7186-46bc-af3e-89d5155ea276",
   "metadata": {
    "execution": {
     "iopub.execute_input": "2025-05-26T07:53:51.609164Z",
     "iopub.status.busy": "2025-05-26T07:53:51.608935Z",
     "iopub.status.idle": "2025-05-26T07:53:51.612082Z",
     "shell.execute_reply": "2025-05-26T07:53:51.611631Z",
     "shell.execute_reply.started": "2025-05-26T07:53:51.609147Z"
    }
   },
   "outputs": [],
   "source": [
    "INCOLS = [\n",
    "    \"objectId\",\n",
    "    \"coord_ra\",\n",
    "    \"coord_dec\",\n",
    "]"
   ]
  },
  {
   "cell_type": "markdown",
   "id": "2d08e370-c469-43aa-bbeb-40bb1211bf8f",
   "metadata": {
    "execution": {
     "iopub.execute_input": "2025-05-26T07:53:51.609164Z",
     "iopub.status.busy": "2025-05-26T07:53:51.608935Z",
     "iopub.status.idle": "2025-05-26T07:53:51.612082Z",
     "shell.execute_reply": "2025-05-26T07:53:51.611631Z",
     "shell.execute_reply.started": "2025-05-26T07:53:51.609147Z"
    }
   },
   "source": [
    "Now, let's download the data using the butler. We use the `sky_config` we had specified earlier"
   ]
  },
  {
   "cell_type": "code",
   "execution_count": 10,
   "id": "43884efc-4959-47ce-8ac7-84011e931158",
   "metadata": {
    "execution": {
     "iopub.execute_input": "2025-05-26T08:00:41.606305Z",
     "iopub.status.busy": "2025-05-26T08:00:41.605968Z",
     "iopub.status.idle": "2025-05-26T08:00:42.521933Z",
     "shell.execute_reply": "2025-05-26T08:00:42.521465Z",
     "shell.execute_reply.started": "2025-05-26T08:00:41.606278Z"
    }
   },
   "outputs": [],
   "source": [
    "object_table = butler.get(\"object\", dataId=sky_config, parameters={\"columns\": INCOLS})"
   ]
  },
  {
   "cell_type": "markdown",
   "id": "0ff37bd6-496f-46a8-b73c-4c2ada428ba1",
   "metadata": {},
   "source": [
    "The butler returns an Astropy table"
   ]
  },
  {
   "cell_type": "code",
   "execution_count": 11,
   "id": "793b368c-836c-4f4f-a807-2a267b7713fb",
   "metadata": {
    "execution": {
     "iopub.execute_input": "2025-05-26T08:00:50.362153Z",
     "iopub.status.busy": "2025-05-26T08:00:50.361792Z",
     "iopub.status.idle": "2025-05-26T08:00:50.366402Z",
     "shell.execute_reply": "2025-05-26T08:00:50.366019Z",
     "shell.execute_reply.started": "2025-05-26T08:00:50.362125Z"
    }
   },
   "outputs": [
    {
     "data": {
      "text/html": [
       "<div><i>Table length=330140</i>\n",
       "<table id=\"table139969023099872\" class=\"table-striped table-bordered table-condensed\">\n",
       "<thead><tr><th>objectId</th><th>coord_ra</th><th>coord_dec</th></tr></thead>\n",
       "<thead><tr><th>int64</th><th>float64</th><th>float64</th></tr></thead>\n",
       "<tr><td>2226730948571955231</td><td>53.84420370780718</td><td>-28.240337522632426</td></tr>\n",
       "<tr><td>2226730948571955234</td><td>53.858131730585136</td><td>-28.238685401609477</td></tr>\n",
       "<tr><td>2226730948571955235</td><td>53.85369296384201</td><td>-28.237595175872777</td></tr>\n",
       "<tr><td>2226730948571955236</td><td>53.85497966971418</td><td>-28.23732718026425</td></tr>\n",
       "<tr><td>2226730948571955237</td><td>53.85206728015377</td><td>-28.23398234737432</td></tr>\n",
       "<tr><td>2226730948571955238</td><td>53.86660564441939</td><td>-28.233416496002043</td></tr>\n",
       "<tr><td>2226730948571955240</td><td>53.86916441028787</td><td>-28.232749888804847</td></tr>\n",
       "<tr><td>2226730948571955241</td><td>53.86609497158882</td><td>-28.232530683870277</td></tr>\n",
       "<tr><td>2226730948571955242</td><td>53.86861432865251</td><td>-28.231339170865187</td></tr>\n",
       "<tr><td>...</td><td>...</td><td>...</td></tr>\n",
       "<tr><td>2226977239176579401</td><td>52.80923955437342</td><td>-27.490619588860596</td></tr>\n",
       "<tr><td>2226977239176579402</td><td>52.80899342409366</td><td>-27.48975412387232</td></tr>\n",
       "<tr><td>2226977239176579405</td><td>52.78375248803146</td><td>-27.490286784137727</td></tr>\n",
       "<tr><td>2226977239176579406</td><td>52.78438293057994</td><td>-27.490388265176712</td></tr>\n",
       "<tr><td>2226977239176579407</td><td>52.84074658730358</td><td>-27.490221262062125</td></tr>\n",
       "<tr><td>2226977239176579408</td><td>52.84028570775721</td><td>-27.48967661686162</td></tr>\n",
       "<tr><td>2226977239176579410</td><td>52.829380591411926</td><td>-27.489168431131656</td></tr>\n",
       "<tr><td>2226977239176579411</td><td>52.830521086290894</td><td>-27.489912601216663</td></tr>\n",
       "<tr><td>2226981637223088139</td><td>52.70677004240624</td><td>-27.51892952118405</td></tr>\n",
       "<tr><td>2226981637223088140</td><td>52.70315846142726</td><td>-27.51825689185434</td></tr>\n",
       "</table></div>"
      ],
      "text/plain": [
       "<Table length=330140>\n",
       "      objectId           coord_ra           coord_dec     \n",
       "       int64             float64             float64      \n",
       "------------------- ------------------ -------------------\n",
       "2226730948571955231  53.84420370780718 -28.240337522632426\n",
       "2226730948571955234 53.858131730585136 -28.238685401609477\n",
       "2226730948571955235  53.85369296384201 -28.237595175872777\n",
       "2226730948571955236  53.85497966971418  -28.23732718026425\n",
       "2226730948571955237  53.85206728015377  -28.23398234737432\n",
       "2226730948571955238  53.86660564441939 -28.233416496002043\n",
       "2226730948571955240  53.86916441028787 -28.232749888804847\n",
       "2226730948571955241  53.86609497158882 -28.232530683870277\n",
       "2226730948571955242  53.86861432865251 -28.231339170865187\n",
       "                ...                ...                 ...\n",
       "2226977239176579401  52.80923955437342 -27.490619588860596\n",
       "2226977239176579402  52.80899342409366  -27.48975412387232\n",
       "2226977239176579405  52.78375248803146 -27.490286784137727\n",
       "2226977239176579406  52.78438293057994 -27.490388265176712\n",
       "2226977239176579407  52.84074658730358 -27.490221262062125\n",
       "2226977239176579408  52.84028570775721  -27.48967661686162\n",
       "2226977239176579410 52.829380591411926 -27.489168431131656\n",
       "2226977239176579411 52.830521086290894 -27.489912601216663\n",
       "2226981637223088139  52.70677004240624  -27.51892952118405\n",
       "2226981637223088140  52.70315846142726  -27.51825689185434"
      ]
     },
     "execution_count": 11,
     "metadata": {},
     "output_type": "execute_result"
    }
   ],
   "source": [
    "object_table"
   ]
  },
  {
   "cell_type": "markdown",
   "id": "53191e08-b1f4-4779-8a4a-b84dfb74533f",
   "metadata": {},
   "source": [
    "Let's save the first 10,000 images as a pickle file (faster i/o compared to fits)"
   ]
  },
  {
   "cell_type": "code",
   "execution_count": 15,
   "id": "9e8265e0-7de5-4735-9411-df086c0e4473",
   "metadata": {
    "execution": {
     "iopub.execute_input": "2025-05-26T08:06:18.760429Z",
     "iopub.status.busy": "2025-05-26T08:06:18.760221Z",
     "iopub.status.idle": "2025-05-26T08:06:18.765841Z",
     "shell.execute_reply": "2025-05-26T08:06:18.765432Z",
     "shell.execute_reply.started": "2025-05-26T08:06:18.760414Z"
    }
   },
   "outputs": [],
   "source": [
    "import pickle\n",
    "\n",
    "with open(\"./test_catalog_10k.pkl\", \"wb\") as f:\n",
    "    pickle.dump(object_table[:10000], f)"
   ]
  },
  {
   "cell_type": "markdown",
   "id": "5fcd568c-6f7d-4488-93de-31c83e86b155",
   "metadata": {},
   "source": [
    "## Setup Hyrax to use the astropy catalog\n",
    "Configure hyrax to use the astropy catalog. Note that instead of saving the astropy table as a pickle file, you can save it any format that is supported by Astropy"
   ]
  },
  {
   "cell_type": "code",
   "execution_count": 16,
   "id": "628c8667-d48f-418c-a699-f1ee43837ff8",
   "metadata": {
    "execution": {
     "iopub.execute_input": "2025-05-26T08:07:05.648623Z",
     "iopub.status.busy": "2025-05-26T08:07:05.648290Z",
     "iopub.status.idle": "2025-05-26T08:07:05.690332Z",
     "shell.execute_reply": "2025-05-26T08:07:05.689920Z",
     "shell.execute_reply.started": "2025-05-26T08:07:05.648598Z"
    }
   },
   "outputs": [
    {
     "name": "stderr",
     "output_type": "stream",
     "text": [
      "[2025-05-26 01:07:05,687 hyrax:INFO] Runtime Config read from: /sdf/data/rubin/user/aritrag/hyrax/src/hyrax/hyrax_default_config.toml\n"
     ]
    }
   ],
   "source": [
    "h = hyrax.Hyrax()\n",
    "h.config[\"data_set\"][\"name\"] = \"LSSTDataset\"\n",
    "h.config[\"data_set\"][\"astropy_table\"] = \"./test_catalog_10k.pkl\"\n",
    "h.config[\"data_set\"][\"butler_repo\"] = butler_config[\"config\"]\n",
    "h.config[\"data_set\"][\"butler_collection\"] = butler_config[\"collections\"]\n",
    "h.config[\"data_set\"][\"skymap\"] = sky_config[\"skymap\"]\n",
    "h.config[\"data_set\"][\"semi_width_deg\"] = (20 * u.arcsec).to(u.deg).value\n",
    "h.config[\"data_set\"][\"semi_height_deg\"] = (20 * u.arcsec).to(u.deg).value"
   ]
  },
  {
   "cell_type": "code",
   "execution_count": 18,
   "id": "e568b4d0-9501-4eb4-a945-65510824ad6a",
   "metadata": {
    "execution": {
     "iopub.execute_input": "2025-05-26T08:09:23.155948Z",
     "iopub.status.busy": "2025-05-26T08:09:23.155209Z",
     "iopub.status.idle": "2025-05-26T08:09:23.957462Z",
     "shell.execute_reply": "2025-05-26T08:09:23.956918Z",
     "shell.execute_reply.started": "2025-05-26T08:09:23.155930Z"
    }
   },
   "outputs": [
    {
     "name": "stderr",
     "output_type": "stream",
     "text": [
      "[2025-05-26 01:09:23,954 hyrax.prepare:INFO] Finished Prepare\n"
     ]
    }
   ],
   "source": [
    "a = h.prepare()"
   ]
  },
  {
   "cell_type": "code",
   "execution_count": 19,
   "id": "c54d995d-f5b7-4347-b82b-902d95fc6c83",
   "metadata": {
    "execution": {
     "iopub.execute_input": "2025-05-26T08:09:33.101098Z",
     "iopub.status.busy": "2025-05-26T08:09:33.100744Z",
     "iopub.status.idle": "2025-05-26T08:09:52.227634Z",
     "shell.execute_reply": "2025-05-26T08:09:52.227089Z",
     "shell.execute_reply.started": "2025-05-26T08:09:33.101071Z"
    }
   },
   "outputs": [
    {
     "data": {
      "text/plain": [
       "torch.Size([3, 203, 199])"
      ]
     },
     "execution_count": 19,
     "metadata": {},
     "output_type": "execute_result"
    }
   ],
   "source": [
    "a[1].shape"
   ]
  },
  {
   "cell_type": "code",
   "execution_count": null,
   "id": "62fb7bbe-db69-4284-9f3f-bcbfc64891a9",
   "metadata": {},
   "outputs": [],
   "source": []
  }
 ],
 "metadata": {
  "kernelspec": {
   "display_name": "Python 3 (ipykernel)",
   "language": "python",
   "name": "python3"
  },
  "language_info": {
   "codemirror_mode": {
    "name": "ipython",
    "version": 3
   },
   "file_extension": ".py",
   "mimetype": "text/x-python",
   "name": "python",
   "nbconvert_exporter": "python",
   "pygments_lexer": "ipython3",
   "version": "3.12.9"
  },
  "nbsphinx": {
   "orphan": true
  }
 },
 "nbformat": 4,
 "nbformat_minor": 5
}
