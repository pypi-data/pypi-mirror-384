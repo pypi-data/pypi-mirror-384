{
 "cells": [
  {
   "cell_type": "markdown",
   "id": "419e0a05",
   "metadata": {
    "vscode": {
     "languageId": "markdown"
    }
   },
   "source": [
    "# Using the simple den\n",
    "The den is easiest to use if your administrator has set up everything.\n",
    "If that is the case, you should be able to simply:"
   ]
  },
  {
   "cell_type": "code",
   "execution_count": 1,
   "id": "6103d8ae",
   "metadata": {
    "vscode": {
     "languageId": "markdown"
    }
   },
   "outputs": [
    {
     "name": "stdout",
     "output_type": "stream",
     "text": [
      "Got 2 models:\n",
      "model_id='a645742030cae7be' model_card={'Model ID': 'a645742030cae7be', 'Last Modified On': '2025-08-27T14:19:48.479156', 'History (from least to most recent)': ['a645742030cae7be'], 'Description': 'No description\\n[27 August 2025] BASE MODEL - FAKE', 'Source Ontology': ['FAKE-ONT'], 'Location': 'N/A', 'MetaCAT models': [], 'Basic CDB Stats': {'Number of concepts': 5, 'Number of names': 9, 'Number of concepts that received training': 5, 'Number of seen training examples in total': 20, 'Average training examples per concept': 4.0, 'Unsupervised training history': [], 'Supervised training history': []}, 'Performance': {}, 'Important Parameters (Partial view, all available in cat.config)': {'config.ponents.ner.min_name_len': {'value': 3, 'description': 'Minimum detection length (found terms/mentions shorter than this will not be detected).'}, 'config.ponents.ner.upper_case_limit_len': {'value': 4, 'description': 'All detected terms shorter than this value have to be uppercase, otherwise they will be ignored.'}, 'config.ponents.linking.similarity_threshold': {'value': 0.25, 'description': 'If the confidence of the model is lower than this a detection will be ignore.'}, 'config.ponents.linking.filters.cuis': {'value': 0, 'description': 'Length of the CUIs filter to be included in outputs. If this is not 0 (i.e. not empty) its best to check what is included before using the model'}, 'config.general.spell_check': {'value': True, 'description': 'Is spell checking enabled.'}, 'config.general.spell_check_len_limit': {'value': 7, 'description': 'Words shorter than this will not be spell checked.'}}, 'MedCAT Version': '2.0.0'} base_model=None\n",
      "model_id='cbbc516986aa8e30' model_card={'Model ID': 'cbbc516986aa8e30', 'Last Modified On': '2025-08-27T14:25:22.993770', 'History (from least to most recent)': ['a645742030cae7be', 'cbbc516986aa8e30'], 'Description': 'No description\\n[27 August 2025] BASE MODEL - FAKE\\n[27 August 2025] Additional-fake-data-trained', 'Source Ontology': ['FAKE-ONT'], 'Location': 'N/A', 'MetaCAT models': [], 'Basic CDB Stats': {'Number of concepts': 5, 'Number of names': 9, 'Number of concepts that received training': 5, 'Number of seen training examples in total': 22, 'Average training examples per concept': 4.4, 'Unsupervised training history': [{'train_time_start': '2025-08-27T14:25:22.989884', 'train_time_end': '2025-08-27T14:25:22.993460', 'project_name': 'N/A', 'num_docs': 2, 'num_epochs': 1}], 'Supervised training history': []}, 'Performance': {}, 'Important Parameters (Partial view, all available in cat.config)': {'config.ponents.ner.min_name_len': {'value': 3, 'description': 'Minimum detection length (found terms/mentions shorter than this will not be detected).'}, 'config.ponents.ner.upper_case_limit_len': {'value': 4, 'description': 'All detected terms shorter than this value have to be uppercase, otherwise they will be ignored.'}, 'config.ponents.linking.similarity_threshold': {'value': 0.25, 'description': 'If the confidence of the model is lower than this a detection will be ignore.'}, 'config.ponents.linking.filters.cuis': {'value': 0, 'description': 'Length of the CUIs filter to be included in outputs. If this is not 0 (i.e. not empty) its best to check what is included before using the model'}, 'config.general.spell_check': {'value': True, 'description': 'Is spell checking enabled.'}, 'config.general.spell_check_len_limit': {'value': 7, 'description': 'Words shorter than this will not be spell checked.'}}, 'MedCAT Version': '2.0.0'} base_model=ModelInfo(model_id='a645742030cae7be', model_card=None, base_model=None)\n"
     ]
    }
   ],
   "source": [
    "from medcat_den.den import get_default_den\n",
    "den = get_default_den()\n",
    "models = den.list_available_models()\n",
    "print(\"Got\", len(models), \"models:\")\n",
    "for model in models:\n",
    "    print(model)"
   ]
  },
  {
   "cell_type": "markdown",
   "id": "658f69d7",
   "metadata": {},
   "source": [
    "# If you want to explicitly use a specific type of den\n",
    "Then you can either use one of the convenience methods:"
   ]
  },
  {
   "cell_type": "code",
   "execution_count": 2,
   "id": "c9ef552c",
   "metadata": {
    "vscode": {
     "languageId": "markdown"
    }
   },
   "outputs": [
    {
     "name": "stderr",
     "output_type": "stream",
     "text": [
      "The machine-local location '/Library/Application Support/medcat-den' does not have write access. Using an alternative of '/var/tmp/medcat-den' instead\n"
     ]
    },
    {
     "name": "stdout",
     "output_type": "stream",
     "text": [
      "Den (LOCAL_USER) with 2 models:\n",
      "a645742030cae7be ('No description\\n[27 August 2025] BASE MODEL - FAKE')\n",
      " - History: ['a645742030cae7be']\n",
      " - Source ontologies: ['FAKE-ONT']\n",
      " - Meta models: []\n",
      " - MedCAT Version: 2.0.0\n",
      " - Last updated: 2025-08-27T14:19:48.479156\n",
      "cbbc516986aa8e30 ('No description\\n[27 August 2025] BASE MODEL - FAKE\\n[27 August 2025] Additional-fake-data-trained')\n",
      " - History: ['a645742030cae7be', 'cbbc516986aa8e30']\n",
      " - Source ontologies: ['FAKE-ONT']\n",
      " - Meta models: []\n",
      " - MedCAT Version: 2.0.0\n",
      " - Last updated: 2025-08-27T14:25:22.993770\n",
      "Den (LOCAL_MACHINE) with 0 models:\n",
      "No models available\n"
     ]
    }
   ],
   "source": [
    "from medcat_den.den import get_default_user_local_den, get_default_machine_local_den\n",
    "from medcat_den.utils import summarise_den\n",
    "# either use local\n",
    "user_local = get_default_user_local_den()\n",
    "print(summarise_den(user_local))\n",
    "# or machien local\n",
    "machine_local = get_default_machine_local_den()\n",
    "print(summarise_den(machine_local))"
   ]
  }
 ],
 "metadata": {
  "kernelspec": {
   "display_name": ".venv",
   "language": "python",
   "name": "python3"
  },
  "language_info": {
   "codemirror_mode": {
    "name": "ipython",
    "version": 3
   },
   "file_extension": ".py",
   "mimetype": "text/x-python",
   "name": "python",
   "nbconvert_exporter": "python",
   "pygments_lexer": "ipython3",
   "version": "3.11.12"
  }
 },
 "nbformat": 4,
 "nbformat_minor": 5
}
