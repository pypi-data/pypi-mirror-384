{
 "cells": [
  {
   "cell_type": "markdown",
   "id": "ddcb8adc-f12d-42e2-909b-93ffed6e4259",
   "metadata": {},
   "source": [
    "# Tutorial: Building a Custom Environment in Aviary\n",
    "\n",
    "## Prerequisites\n",
    "\n",
    "To get started, you’ll need to install `aviary`, `ldp`, and `pydantic`, all available on PyPI. Note that `aviary` is listed on PyPI as `fhaviary`. Run the command below to install these packages:\n"
   ]
  },
  {
   "cell_type": "code",
   "execution_count": null,
   "id": "73d00726-8059-4ddc-9aef-d2de7d201751",
   "metadata": {},
   "outputs": [],
   "source": [
    "!pip install fhaviary ldp pydantic"
   ]
  },
  {
   "cell_type": "markdown",
   "id": "bd798465-7824-4543-8816-9799542006ac",
   "metadata": {},
   "source": [
    "You will need to set the `OPENAI_API_KEY` or the corresponding key for any other API you wish to access."
   ]
  },
  {
   "cell_type": "code",
   "execution_count": null,
   "id": "bc7b46a9-7fc8-4a75-b455-64b1ffe8d902",
   "metadata": {},
   "outputs": [],
   "source": [
    "import os\n",
    "\n",
    "os.environ[\"OPENAI_API_KEY\"] = \"your_API_key\""
   ]
  },
  {
   "cell_type": "markdown",
   "id": "9c5fb93f-4ca1-4f7d-bbd3-c3589d0eeb5c",
   "metadata": {},
   "source": [
    "## Background\n",
    "\n",
    "[Aviary](https://github.com/Future-House/aviary) is our framework supporting diverse language environments, where actions are tools available to agents. [LDP](https://github.com/Future-House/ldp) is our framework for creating and training language agents.\n",
    "\n",
    "Below, we briefly define some key classes and concepts from these libraries for context:\n",
    "\n",
    "**From Aviary**\n",
    "- `Message`: Used by language agents and environments for communication. Messages include attributes like `content` ot `role` (`system`, `user`, `assistant`, `tool` ), matching OpenAI's conventions.\n",
    "- `Environment`: An environment is a stateful system or \"world\" where an agent operates by taking actions. In Aviary, these actions are called tools. The environment presents states that the agent observes (totally or partially), prompting it to use tools to affect outcomes. Each action taken yields a reward and leads to a new state.\n",
    "- `Tool`: Defines an environmental tool that an agent can use to accomplish its task. Each environment contains its own set of tools. Most tools take arguments and tools can be called in parallel.\n",
    "- `ToolRequestMessage`: This is a specialized subclasses of `Message` used for tool requests. Typically, a language agent sends a `ToolRequestMessage` to the environment to request the execution of a specific tool. The role of `ToolRequestMessage` is always `assistant`.\n",
    "\n",
    "**From LDP**\n",
    "- `Agent`: An entity that interacts with the environment, mapping observations to tool request actions.\n",
    "- `Op`: Represents an operation within the agent. LDP includes various operations (Ops), such as API LLM calls, API embedding calls, or PyTorch module handling. These operations form the compute graph.\n",
    "- `OpResult`: the output of an `Op`.\n"
   ]
  },
  {
   "cell_type": "markdown",
   "id": "597cf85b-a47e-4a66-9cee-cf56318d5d00",
   "metadata": {},
   "source": [
    "## Defining a Custom Environment\n",
    "\n",
    "The example below walks through defining a custom language agent environment in Aviary. \n",
    "We define a simple environment where an agent takes actions to modify a counter."
   ]
  },
  {
   "cell_type": "code",
   "execution_count": null,
   "id": "e57efbec-1f48-405e-acd4-cb4b89c4a0ba",
   "metadata": {},
   "outputs": [],
   "source": [
    "from pydantic import BaseModel\n",
    "\n",
    "from aviary.core import Environment, Message, Tool, ToolRequestMessage\n",
    "\n",
    "\n",
    "# State in this example is simply a counter\n",
    "class CounterEnvState(BaseModel):\n",
    "    count: int\n",
    "\n",
    "\n",
    "class CounterEnv(Environment[CounterEnvState]):\n",
    "    \"\"\"A simple environment that allows an agent to modify a counter.\"\"\"\n",
    "\n",
    "    async def reset(self) -> tuple[list[Message], list[Tool]]:\n",
    "        \"\"\"Initialize the environment with a counter set to 0.\"\"\"\n",
    "        self.state = CounterEnvState(count=0)\n",
    "\n",
    "        # Target count\n",
    "        self.target = 10\n",
    "\n",
    "        # Create tools allowing the agent to increment and decrement counter\n",
    "        self.tools = [\n",
    "            Tool.from_function(self.incr),\n",
    "            Tool.from_function(self.decr),\n",
    "        ]\n",
    "\n",
    "        # Return an observation message with the counter and available tools\n",
    "        return [Message(content=f\"Count to 10. counter={self.state.count}\")], self.tools\n",
    "\n",
    "    async def step(\n",
    "        self, action: ToolRequestMessage\n",
    "    ) -> tuple[list[Message], float, bool, bool]:\n",
    "        \"\"\"Executes the tool call requested by the agent.\"\"\"\n",
    "        obs = await self.exec_tool_calls(action)\n",
    "\n",
    "        reward = int(self.state.count == self.target)\n",
    "\n",
    "        # Returns observations, reward, done, truncated\n",
    "        return obs, reward, reward == 1, False\n",
    "\n",
    "    def incr(self) -> str:\n",
    "        \"\"\"Increment the counter.\"\"\"\n",
    "        self.state.count += 1\n",
    "        return f\"counter={self.state.count}\"\n",
    "\n",
    "    def decr(self) -> str:\n",
    "        \"\"\"Decrement the counter.\"\"\"\n",
    "        self.state.count -= 1\n",
    "        return f\"counter={self.state.count}\""
   ]
  },
  {
   "cell_type": "markdown",
   "id": "25a02b15-dd96-47e1-990f-7678f7469b4f",
   "metadata": {},
   "source": [
    "## Evaluating an Agent on the Environment\n",
    "\n",
    "Following the definition of our custom environment, we can now evaluate a language agent\n",
    "on the environment using Aviary's sister library LDP (https://github.com/Future-House/ldp)."
   ]
  },
  {
   "cell_type": "code",
   "execution_count": null,
   "id": "8930b54e-4653-4e96-bf75-fb2981962991",
   "metadata": {},
   "outputs": [],
   "source": [
    "from pydantic import BaseModel, Field\n",
    "\n",
    "from aviary.core import Message, Tool\n",
    "\n",
    "\n",
    "class AgentState(BaseModel):\n",
    "    \"\"\"Simple bucket to store available tools and previous messages.\"\"\"\n",
    "\n",
    "    tools: list[Tool] = Field(default_factory=list)\n",
    "    messages: list[Message] = Field(default_factory=list)"
   ]
  },
  {
   "cell_type": "code",
   "execution_count": null,
   "id": "d186b08a-d5b7-404b-a4e4-d6dab15bcf74",
   "metadata": {},
   "outputs": [],
   "source": [
    "from ldp.agent import Agent\n",
    "from ldp.alg import RolloutManager\n",
    "from ldp.graph import LLMCallOp\n",
    "\n",
    "from aviary.core import ToolRequestMessage\n",
    "\n",
    "\n",
    "class SimpleAgent(Agent):\n",
    "    def __init__(self, **kwargs: dict) -> None:\n",
    "        self._llm_call_op = LLMCallOp(**kwargs)\n",
    "\n",
    "    async def init_state(self, tools: list[Tool]) -> AgentState:\n",
    "        return AgentState(tools=tools)\n",
    "\n",
    "    async def get_asv(\n",
    "        self, agent_state: AgentState, obs: list[Message]\n",
    "    ) -> tuple[ToolRequestMessage, AgentState, float]:\n",
    "        \"\"\"Take an action, observe new state, return value.\"\"\"\n",
    "        action: ToolRequestMessage = await self._llm_call_op(\n",
    "            config={\"name\": \"gpt-4o\", \"temperature\": 0.1},\n",
    "            msgs=agent_state.messages + obs,\n",
    "            tools=agent_state.tools,\n",
    "        )\n",
    "        new_state: AgentState = AgentState(\n",
    "            messages=agent_state.messages + obs + [action.value],\n",
    "            tools=agent_state.tools,\n",
    "        )\n",
    "        # Return action, state, value\n",
    "        return action, new_state, 0.0"
   ]
  },
  {
   "cell_type": "markdown",
   "id": "11135aa7-6e33-4eaf-b157-4b03dd51477a",
   "metadata": {},
   "source": [
    "### Create a simple agent and perform rollouts on the environment"
   ]
  },
  {
   "cell_type": "code",
   "execution_count": null,
   "id": "fa2c70d6-1512-451d-8e94-e05914640cca",
   "metadata": {},
   "outputs": [],
   "source": [
    "agent: SimpleAgent = SimpleAgent()\n",
    "\n",
    "runner: RolloutManager = RolloutManager(agent=agent)\n",
    "\n",
    "trajectories: list[tuple] = await runner.sample_trajectories(\n",
    "    environment_factory=CounterEnv,\n",
    "    batch_size=2,\n",
    ")"
   ]
  },
  {
   "cell_type": "markdown",
   "id": "2473b723-53cb-43a5-b8c4-920503262cd9",
   "metadata": {},
   "source": [
    "# End\n",
    "PS: See also a more advanced tutorial on creating a language agent in the [LDP repo](https://github.com/Future-House/ldp/blob/main/tutorials/creating_a_language_agent.ipynb)."
   ]
  }
 ],
 "metadata": {
  "kernelspec": {
   "display_name": "Python 3 (ipykernel)",
   "language": "python",
   "name": "python3"
  },
  "language_info": {
   "codemirror_mode": {
    "name": "ipython",
    "version": 3
   },
   "file_extension": ".py",
   "mimetype": "text/x-python",
   "name": "python",
   "nbconvert_exporter": "python",
   "pygments_lexer": "ipython3"
  }
 },
 "nbformat": 4,
 "nbformat_minor": 5
}
