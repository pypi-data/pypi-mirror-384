{
 "cells": [
  {
   "cell_type": "markdown",
   "id": "20275f14-2c7e-4c99-9552-13ff60261145",
   "metadata": {},
   "source": [
    "# Restructuring FS2009 bottle files  - (first attempt)\n",
    "\n",
    "- Parse the relevant data from the FS bottle file `fs2009bottle+CDOM.mat`\n",
    "    - To a NetCDF-compatible xarray *Dataset* by way of a Python dictionary.  \n",
    "- Massage into the (presumably) desired structure.\n",
    "    - Sorting by Niskin number to get unified dataset with dimensions `STATION, NISKIN_BOTTLE`\n",
    "    - (This is *not* how the data in the mat file are organized.. \n",
    "- Option to wrap CDOM absorbtion coefficients into a single 3D variable.\n",
    "- Export to (temporary) NetCDF file."
   ]
  },
  {
   "cell_type": "code",
   "execution_count": 466,
   "id": "2d92e4e4-fb5d-4e52-95f0-09b382c6bf37",
   "metadata": {},
   "outputs": [],
   "source": [
    "import xarray as xr\n",
    "import numpy as np\n",
    "import pymatreader\n",
    "from matplotlib import pyplot as plt"
   ]
  },
  {
   "cell_type": "markdown",
   "id": "34ff285a-32aa-4673-a815-752ed9d98c14",
   "metadata": {},
   "source": [
    "## Read the matfile\n",
    "\n",
    "- Using the `pymatreader` library which is pretty robust across matlab versions.\n",
    "- Note that `pymatreader.read_mat()` will give some warnings - they can be ignored in this case."
   ]
  },
  {
   "cell_type": "code",
   "execution_count": 467,
   "id": "9bad0b78-0f5b-4c20-8178-b585234a5898",
   "metadata": {},
   "outputs": [],
   "source": [
    "fn = '/home/oyvindl/work/data/cruise_data/fram_strait/bottle_data_2025/data/bottle_data/fs2009bottle+CDOM.mat'"
   ]
  },
  {
   "cell_type": "code",
   "execution_count": 468,
   "id": "b59418d8-5e2a-4408-bec6-1a196a0c422f",
   "metadata": {},
   "outputs": [],
   "source": [
    "dm = pymatreader.read_mat(fn)\n",
    "N_btl, N_station = dm['bot_nisk'].shape"
   ]
  },
  {
   "cell_type": "markdown",
   "id": "777c8da9-008e-426b-9e76-041e87330e4b",
   "metadata": {},
   "source": [
    "### Toggle whether to wrap absorption variables\n",
    "Whether or not to wrap the absorbtion coefficient variables into a single variable with a wavelength dimension as per CF (presumably)"
   ]
  },
  {
   "cell_type": "code",
   "execution_count": 444,
   "id": "0a2d921a-220c-4615-944c-55fd1960ac80",
   "metadata": {},
   "outputs": [],
   "source": [
    "use_wl_dimension = False"
   ]
  },
  {
   "cell_type": "markdown",
   "id": "a82f83c1-39a5-4c22-b521-a597b2c1a57f",
   "metadata": {},
   "source": [
    "## Build the xr dataset\n",
    "\n",
    "Create an xarray dataset `ds` that we will polulate with the data and massage into the shape we want.\n",
    "\n",
    "Initial dimensions:\n",
    "- `STATION, BTL_TEMPORARY` (if `use_wl_dimension=False`)\n",
    "- `STATION, BTL_TEMPORARY, WAVELENGTH` (if `use_wl_dimension=True`)\n",
    "\n",
    "\n",
    "**Note:** Each station has a different niskin ordering (in `bot_nisk`) -> **We will have to reindex, reordering by niskin number**.\n",
    "\n",
    "Initializing `ds` with a dimension `BTL_TEMPORARY` dimension which we will eventually replace with `NISKIN_BOTTLE`.\n"
   ]
  },
  {
   "cell_type": "code",
   "execution_count": 471,
   "id": "4b3583ca-883b-4382-800a-6e807fd8deef",
   "metadata": {},
   "outputs": [],
   "source": [
    "if not use_wl_dimension:\n",
    "    ds = xr.Dataset(coords = {\n",
    "        'STATION' : np.int_(dm['bot_stn']),\n",
    "        'BTL_TEMPORARY': np.arange(N_btl)},)\n",
    "else:\n",
    "    ds = xr.Dataset(coords = {\n",
    "        'STATION' : np.int_(dm['bot_stn']),\n",
    "        'BTL_TEMPORARY': np.arange(N_btl),\n",
    "        'WAVELENGTH':[254.0, 350.0, 375.0]})"
   ]
  },
  {
   "cell_type": "markdown",
   "id": "77ff279e-9efc-49bb-9c47-19061d0a0b5e",
   "metadata": {},
   "source": [
    "### Parse data into `ds`"
   ]
  },
  {
   "cell_type": "markdown",
   "id": "36085176-c6f8-4ead-afa3-72d921797004",
   "metadata": {},
   "source": [
    "#### Define in and out names\n",
    "\n",
    "Read variables to new names. Input variable selection (roughly) based on [`Framstrait_CTD_parameter_overview.xlsx`](https://npolar.sharepoint.com/:x:/r/sites/FramStraitdatadescriptorpaper-DTUdatasharing/Shared%20Documents/DTU%20data%20sharing/Framstrait_CTD_parameter_overview.xlsx?d=wffc5157539f7454caba994817b7dc30c&csf=1&web=1&e=qTmw8l).\n",
    "\n",
    "- *NOTE*: this is just a temporary dictionary; will conform with the names in the excel sheet eventually!"
   ]
  },
  {
   "cell_type": "code",
   "execution_count": 475,
   "id": "4622408b-cd8e-4ed5-86d5-df4d5f60fa1d",
   "metadata": {},
   "outputs": [],
   "source": [
    "var_dict = {\n",
    "    'bot_nisk': 'NISKIN_NUM_STATION',\n",
    "    'bot_ctdsal':'PSAL_CTD',\n",
    "    'bot_temp1':'TEMP_CTD',\n",
    "    'bot_press':'PRES_CTD',\n",
    "    'bot_labsal': 'PSAL_LAB',\n",
    "    'bot_d18o': 'DO18',\n",
    "    'bot_doc': 'DOC',\n",
    "    'bot_no2': 'NO2',\n",
    "    'bot_no3': 'NO3',\n",
    "    'bot_po4': 'PO4',\n",
    "    'bot_sio4': 'SIO4',\n",
    "    'bot_lat':'LATITUDE', \n",
    "    'bot_lon':'LONGITUDE', \n",
    "    'ex350em450_lab': 'CDOM_EX350EM450_LAB',\n",
    "    'ex370em460_lab': 'CDOM_EX370EM460_LAB',\n",
    "    'ex370em460_ctd': 'CDOM_EX370EM460_CTD',\n",
    "    'S': 'CDOM_SLOPE_300-650_LAB',\n",
    "    'S275_295': 'CDOM_SLOPE_275-295_LAB',\n",
    "    'S350_400': 'CDOM_SLOPE_350-400_LAB',\n",
    "    'a254': 'CDOM_ACOEF254_LAB',\n",
    "    'a350': 'CDOM_ACOEF350_LAB',\n",
    "    'a375': 'CDOM_ACOEF375_LAB',\n",
    "}"
   ]
  },
  {
   "cell_type": "markdown",
   "id": "e2dda7b8-3e69-4970-8f75-9ba072946d28",
   "metadata": {},
   "source": [
    "#### Parse data from the matfile to the xr Dataset"
   ]
  },
  {
   "cell_type": "code",
   "execution_count": 477,
   "id": "2dab8d77-3d91-4150-990e-ec9e94a0f2ba",
   "metadata": {},
   "outputs": [],
   "source": [
    "# Look through primary level variables:\n",
    "\n",
    "for old_name in dm.keys():\n",
    "    if old_name in var_dict:\n",
    "        new_name = var_dict[old_name]\n",
    "\n",
    "        # Look at 2D variables\n",
    "        if dm[old_name].shape == (N_btl, N_station):\n",
    "            ds[new_name] = (('BTL_TEMPORARY', 'STATION'), dm[old_name],) \n",
    "            \n",
    "            # Grab flags associated with the variable\n",
    "            flag_name_old = f'{old_name}_flag'\n",
    "            if flag_name_old in dm.keys():\n",
    "                ds[f'{new_name}_FLAG'] = (('BTL_TEMPORARY', 'STATION'), dm[flag_name_old],) \n",
    "\n",
    "            # TBD here: Do the appropriate cross-referencing in metadata e.g.\n",
    "\n",
    "        # Look at 1D variables\n",
    "        elif dm[old_name].shape == (N_station,):\n",
    "            ds[new_name] = (('STATION'), dm[old_name],)             \n",
    "\n",
    "# Look through variables nestes in `bot_cdom`:\n",
    "\n",
    "for old_name in dm['bot_cdom'].keys():\n",
    "    if old_name in var_dict:\n",
    "        new_name = var_dict[old_name]\n",
    "        if dm['bot_cdom'][old_name].shape == (N_btl, N_station):\n",
    "            ds[new_name] = (('BTL_TEMPORARY', 'STATION'), dm['bot_cdom'][old_name],) \n",
    "        elif dm['bot_cdom'][old_name].shape == (N_station,):\n",
    "            ds[new_name] = (('STATION'), dm['bot_cdom'][old_name],)   \n",
    "\n"
   ]
  },
  {
   "cell_type": "markdown",
   "id": "4f7a8913-d8ad-44b1-b239-4069053bb5e1",
   "metadata": {},
   "source": [
    "#### Set lat/lon/pressure/niskin bottle number as non-dimensional coordinates\n"
   ]
  },
  {
   "cell_type": "code",
   "execution_count": 479,
   "id": "b5d6a264-2979-4d5c-949d-d8e3f95bf8e1",
   "metadata": {},
   "outputs": [],
   "source": [
    "ds = ds.set_coords(['LATITUDE', 'LONGITUDE', 'NISKIN_NUM_STATION', 'PRES_CTD'])"
   ]
  },
  {
   "cell_type": "markdown",
   "id": "8d5cfe16-1c04-4220-a8a4-92492b8a96ca",
   "metadata": {},
   "source": [
    "### Combining the CDOM ACOEF variables\n",
    "\n",
    "If `use_wl_dimension=True`: \n",
    "\n",
    "Combine the `ACOEFXXX` variables into one 3d variable"
   ]
  },
  {
   "cell_type": "code",
   "execution_count": 480,
   "id": "1cd0b81e-fbb6-439a-b4c3-893719561a76",
   "metadata": {},
   "outputs": [],
   "source": [
    "if use_wl_dimension:\n",
    "    As = []\n",
    "    WLs = [254, 350, 375]\n",
    "    for WL in WLs:\n",
    "        WL_varnm = f'CDOM_ACOEF{WL}_LAB'\n",
    "        A_WL = ds[WL_varnm]\n",
    "        A_WL['WAVELENGTH'] = ((), float(WL))\n",
    "        As += [A_WL]\n",
    "        ds = ds.drop_vars(WL_varnm)\n",
    "    \n",
    "    A_combined = xr.concat(As, 'WAVELENGTH')\n",
    "    \n",
    "    ds['CDOM_ACOEF_LAB'] = A_combined"
   ]
  },
  {
   "cell_type": "markdown",
   "id": "ad7fa1b6-2425-4def-90c4-211e2876d2fe",
   "metadata": {},
   "source": [
    "### Reorder variables\n",
    "\n",
    "This is mostly aesthetical: Reorder so that the variables appear in a nice order."
   ]
  },
  {
   "cell_type": "code",
   "execution_count": 481,
   "id": "3e7f73e9-790d-49d6-b935-71815bbf01de",
   "metadata": {},
   "outputs": [],
   "source": [
    "# Reorder so we get the flags at the end (a bit hacky but who cares)\n",
    "varlist = []\n",
    "      \n",
    "for key in list(ds.keys()):\n",
    "    if ('_FLAG' not in key \n",
    "        and '_CTD' not in key \n",
    "        and 'CDOM_' not in key):\n",
    "        varlist += [key]\n",
    "for key in list(ds.keys()):\n",
    "    if '_CTD' in key and 'CDOM' not in key:\n",
    "        varlist += [key]\n",
    "\n",
    "for key in list(ds.keys()):\n",
    "    if 'CDOM_ACOEF' in key:\n",
    "        varlist += [key]\n",
    "        \n",
    "for key in list(ds.keys()):\n",
    "    if 'CDOM_' in key and key not in varlist:\n",
    "        varlist += [key]\n",
    "\n",
    "for key in list(ds.keys()):\n",
    "    if '_FLAG' in key:\n",
    "        varlist += [key]\n",
    "        \n",
    "ds = ds[varlist]"
   ]
  },
  {
   "cell_type": "markdown",
   "id": "bcfbca4e-f753-4c00-9908-2696e4e19f8d",
   "metadata": {},
   "source": [
    "### Reindex to a `NISKIN_BOTTLE` dimension\n",
    "\n",
    "For each station: \n",
    "    - Remove entries with NaN niskin bottle number\n",
    "    - Sort by Niskin bottle number\n",
    "\n",
    "Then concatenate the resulting datasets to get a dataset `ds_reindexed` with coordinates (`STATION, NISKIN_BOTTLE`)."
   ]
  },
  {
   "cell_type": "code",
   "execution_count": 482,
   "id": "8b8f2dbc-1e6d-4f1a-97d7-da5f6c26ed6d",
   "metadata": {},
   "outputs": [],
   "source": [
    "ds_stations = []\n",
    "for station in ds.STATION.data:\n",
    "    \n",
    "    # Select one station \n",
    "    ds_station = ds.sel(STATION=station)\n",
    "\n",
    "    # Swap dimension from BTL_TEMPORARY to NISKIN_NUM \n",
    "    ds_station = ds_station.assign_coords(NISKIN_BOTTLE=(\"BTL_TEMPORARY\", ds_station[\"NISKIN_NUM_STATION\"].data))\n",
    "    ds_station = ds_station.swap_dims({\"BTL_TEMPORARY\": \"NISKIN_BOTTLE\"})\n",
    "\n",
    "    # Remove rows where Niskin number is NaN\n",
    "    valid_nisk = ~np.isnan(ds_station['NISKIN_BOTTLE'])\n",
    "    ds_station_nna = ds_station.isel(NISKIN_BOTTLE=valid_nisk)\n",
    "\n",
    "    # Sort by Niskin number\n",
    "    ds_station_nna_sort = ds_station_nna.sortby('NISKIN_BOTTLE')\n",
    "\n",
    "    # Collect\n",
    "    ds_stations += [ds_station_nna_sort]\n",
    "\n",
    "ds_reindexed = xr.concat(ds_stations, dim = 'STATION')\n",
    "# Change from float to int\n",
    "ds_reindexed['NISKIN_BOTTLE'] = ds_reindexed['NISKIN_BOTTLE'] .astype(int)\n",
    "\n",
    "# Remove unused/redundant\n",
    "ds_reindexed = ds_reindexed.drop_vars(['BTL_TEMPORARY', 'NISKIN_NUM_STATION'])"
   ]
  },
  {
   "cell_type": "code",
   "execution_count": null,
   "id": "97b83251-3b47-41b1-a523-9357fe84467e",
   "metadata": {},
   "outputs": [],
   "source": []
  },
  {
   "cell_type": "code",
   "execution_count": null,
   "id": "41c1bffa-ed80-4177-83ba-b2b7f26cd610",
   "metadata": {},
   "outputs": [],
   "source": []
  }
 ],
 "metadata": {
  "kernelspec": {
   "display_name": "oyv",
   "language": "python",
   "name": "oyv"
  },
  "language_info": {
   "codemirror_mode": {
    "name": "ipython",
    "version": 3
   },
   "file_extension": ".py",
   "mimetype": "text/x-python",
   "name": "python",
   "nbconvert_exporter": "python",
   "pygments_lexer": "ipython3",
   "version": "3.12.5"
  }
 },
 "nbformat": 4,
 "nbformat_minor": 5
}
