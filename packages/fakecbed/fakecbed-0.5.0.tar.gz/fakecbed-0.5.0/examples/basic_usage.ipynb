{
 "cells": [
  {
   "cell_type": "markdown",
   "id": "6bb7f461",
   "metadata": {},
   "source": [
    "# Basic usage of the ``fakecbed`` library #"
   ]
  },
  {
   "cell_type": "markdown",
   "id": "5d6d9cd7",
   "metadata": {},
   "source": [
    "## A NOTE BEFORE STARTING ##"
   ]
  },
  {
   "cell_type": "markdown",
   "id": "880421e9",
   "metadata": {},
   "source": [
    "Since the ``fakecbed`` git repository tracks this notebook under its original\n",
    "basename ``basic_usage.ipynb``, we recommend that you copy the original notebook\n",
    "and rename it to any other basename that is not one of the original basenames\n",
    "that appear in the ``<root>/examples`` directory before executing any of the\n",
    "notebook cells below, where ``<root>`` is the root of the ``fakecbed``\n",
    "repository. This way you can explore the notebook by executing and modifying\n",
    "cells without changing the original notebook, which is being tracked by git."
   ]
  },
  {
   "cell_type": "markdown",
   "id": "12b0d90e",
   "metadata": {},
   "source": [
    "## Import necessary modules ##"
   ]
  },
  {
   "cell_type": "code",
   "execution_count": null,
   "id": "e7f9787f",
   "metadata": {},
   "outputs": [],
   "source": [
    "# For performing deep copies.\n",
    "import copy\n",
    "\n",
    "\n",
    "\n",
    "# For general array handling.\n",
    "import numpy as np\n",
    "\n",
    "# For creating distortion models.\n",
    "import distoptica\n",
    "\n",
    "# For creating Hyperspy markers.\n",
    "import hyperspy.api as hs\n",
    "\n",
    "\n",
    "\n",
    "# The library that is the subject of this demonstration.\n",
    "import fakecbed"
   ]
  },
  {
   "cell_type": "code",
   "execution_count": null,
   "id": "c97d0485-cf65-478b-80c4-d5d294879c26",
   "metadata": {},
   "outputs": [],
   "source": [
    "%matplotlib ipympl\n",
    "%matplotlib ipympl"
   ]
  },
  {
   "cell_type": "markdown",
   "id": "e667d633",
   "metadata": {},
   "source": [
    "## Introduction ##"
   ]
  },
  {
   "cell_type": "markdown",
   "id": "ec7f2509",
   "metadata": {},
   "source": [
    "In this notebook, we demonstrate how one can use each function and class in the\n",
    "``fakecbed`` library.\n",
    "\n",
    "You can find the documentation for the ``fakecbed`` library\n",
    "[here](https://mrfitzpa.github.io/fakecbed/_autosummary/fakecbed.html).  It is\n",
    "recommended that you consult the documentation of this library as you explore\n",
    "the notebook. Moreover, users should execute the cells in the order that they\n",
    "appear, i.e. from top to bottom, as some cells reference variables that are set\n",
    "in other cells above them."
   ]
  },
  {
   "cell_type": "markdown",
   "id": "f9445a5e-76d1-4957-8399-c8638ab57d0c",
   "metadata": {},
   "source": [
    "## Using the ``fakecbed`` library ##"
   ]
  },
  {
   "cell_type": "markdown",
   "id": "60a6dd71-881c-4e24-9fc3-15f291729d52",
   "metadata": {},
   "source": [
    "### Creating a fake CBED pattern ###"
   ]
  },
  {
   "cell_type": "markdown",
   "id": "07902c93-c509-48a1-9953-fc4fcb6e925a",
   "metadata": {},
   "source": [
    "Let's create a discretized fake convergent beam electron diffraction (CBED)\n",
    "pattern step by step."
   ]
  },
  {
   "cell_type": "markdown",
   "id": "4893ca4e-07a4-499a-a48d-f6a74fb45692",
   "metadata": {},
   "source": [
    "First, let's specify the number of pixels across the discretized CBED\n",
    "pattern. Note that in ``fakecbed``, it is assumed that the number of pixels in\n",
    "the discretized CBED pattern from left to right is equal to the number of pixels\n",
    "in the discretized CBED pattern from top to bottom."
   ]
  },
  {
   "cell_type": "code",
   "execution_count": null,
   "id": "b5428165-dac3-4f98-9c8c-b3ba87679a4e",
   "metadata": {},
   "outputs": [],
   "source": [
    "num_pixels_across_pattern = 512"
   ]
  },
  {
   "cell_type": "markdown",
   "id": "37373ff8-b4cb-49a1-826d-085abfdf11d1",
   "metadata": {},
   "source": [
    "Next, let's specify the intensity pattern of the undistorted thermal diffuse\n",
    "scattering (TDS) model."
   ]
  },
  {
   "cell_type": "code",
   "execution_count": null,
   "id": "56548f4a-43e8-4530-be6a-7504d84d982f",
   "metadata": {},
   "outputs": [],
   "source": [
    "kwargs = {\"center\": (0.480, 0.490),\n",
    "          \"widths\": (0.060, 0.050, 0.070, 0.055),\n",
    "          \"rotation_angle\": np.pi/3,\n",
    "          \"val_at_center\": 50,\n",
    "          \"functional_form\": \"asymmetric_gaussian\"}\n",
    "undistorted_tds_peak_0 = fakecbed.shapes.Peak(**kwargs)\n",
    "\n",
    "kwargs = {\"center\": (0.50, 0.51),\n",
    "          \"widths\": (0.075, 0.060, 0.045, 0.055),\n",
    "          \"rotation_angle\": np.pi,\n",
    "          \"val_at_center\": 55,\n",
    "          \"functional_form\": \"asymmetric_lorentzian\"}\n",
    "undistorted_tds_peak_1 = fakecbed.shapes.Peak(**kwargs)\n",
    "\n",
    "\n",
    "\n",
    "kwargs = {\"peaks\": (undistorted_tds_peak_0, undistorted_tds_peak_1),\n",
    "          \"constant_bg\": 3}\n",
    "undistorted_tds_model = fakecbed.tds.Model(**kwargs)"
   ]
  },
  {
   "cell_type": "markdown",
   "id": "799b2f23-330f-41a1-93b6-14119c674244",
   "metadata": {},
   "source": [
    "All public classes from the modules ``fakecbed.shapes`` and ``fakecbed.tds``,\n",
    "that are subclasses of ``fakecbed.shapes.BaseShape`` represent intensity\n",
    "patterns of undistorted shapes. For any instance of any such class, one can\n",
    "evaluate the intensity pattern of the undistorted shape being represented at\n",
    "fractional horizontal and vertical coordinates of any set of points in a\n",
    "hypothetical undistorted image."
   ]
  },
  {
   "cell_type": "code",
   "execution_count": null,
   "id": "c66b56df-5865-41fa-a57c-dc3f8d7626f5",
   "metadata": {},
   "outputs": [],
   "source": [
    "u_x = np.array(((0.30, 0.50, 0.60), \n",
    "                (0.50, 0.50, 0.45)))\n",
    "u_y = np.array(((0.50, 0.55, 0.60), \n",
    "                (0.45, 0.40, 0.45)))\n",
    "\n",
    "print(undistorted_tds_peak_0.eval(u_x, u_y))\n",
    "print(undistorted_tds_peak_1.eval(u_x, u_y))\n",
    "print(undistorted_tds_model.eval(u_x, u_y))"
   ]
  },
  {
   "cell_type": "markdown",
   "id": "f8326b60-f353-4c45-b62f-0c1f9cef4785",
   "metadata": {},
   "source": [
    "Note that all public classes in the library ``fakecbed`` are subclasses of\n",
    "``fancytypes.PreSerializableAndUpdatable``, meaning that any instance of any\n",
    "such subclass, except for ``fakecbed.shapes.BaseShape``, is pre-serializable,\n",
    "can be constructed from a serializable representation, and has an updatable\n",
    "subset of attributes. See\n",
    "[here](https://mrfitzpa.github.io/fancytypes/_autosummary/fancytypes.PreSerializableAndUpdatable.html)\n",
    "for a definition of pre-serialization, and the documentation for all the\n",
    "attributes and methods associated with the class\n",
    "``fancytypes.PreSerializableAndUpdatable``."
   ]
  },
  {
   "cell_type": "markdown",
   "id": "abb4123c-57c6-4b90-b319-cdcb048d532f",
   "metadata": {},
   "source": [
    "With our TDS model, we can begin to construct our discretized CBED pattern."
   ]
  },
  {
   "cell_type": "code",
   "execution_count": null,
   "id": "85094b30-fd76-435c-9409-bfac0c4983d6",
   "metadata": {},
   "outputs": [],
   "source": [
    "kwargs = {\"num_pixels_across_pattern\": num_pixels_across_pattern,\n",
    "          \"undistorted_tds_model\": undistorted_tds_model}\n",
    "cbed_pattern = fakecbed.discretized.CBEDPattern(**kwargs)"
   ]
  },
  {
   "cell_type": "markdown",
   "id": "145ccc0a-2f6e-4d75-ab3f-2742ae03ec94",
   "metadata": {},
   "source": [
    "We can visualize the discretized CBED pattern as we update it, using the\n",
    "``signal`` attribute, which stores a ``hyperspy`` signal representation of the\n",
    "fake CBED pattern. See\n",
    "[here](https://mrfitzpa.github.io/fakecbed/_autosummary/fakecbed.discretized.CBEDPattern.html#fakecbed.discretized.CBEDPattern.signal)\n",
    "for a description of the signal representation of the fake CBED pattern.  Note\n",
    "that the image of the discretized CBED pattern is always automatically min-max\n",
    "normalized."
   ]
  },
  {
   "cell_type": "code",
   "execution_count": null,
   "id": "1b86f812-53ab-4e1e-bca2-022dfed1eb97",
   "metadata": {},
   "outputs": [],
   "source": [
    "kwargs = {\"axes_off\": False, \n",
    "          \"scalebar\": False, \n",
    "          \"colorbar\": False, \n",
    "          \"gamma\": 0.3,\n",
    "          \"cmap\": \"jet\"}\n",
    "cbed_pattern.signal.plot(**kwargs)"
   ]
  },
  {
   "cell_type": "markdown",
   "id": "c842530b-d3b1-4cdb-b43c-53091dd855bc",
   "metadata": {},
   "source": [
    "Next, let's add some CBED disks to our fake CBED pattern. In ``fakecbed``, we\n",
    "assume that the undistorted CBED disks are either circular or elliptical. In\n",
    "this demo, we will assume that the CBED disks are only circular for\n",
    "simplicity. Furthermore, for simplicity sake again, we will only specify five\n",
    "CBED disks, one of which will be absent in the image of the fake CBED pattern."
   ]
  },
  {
   "cell_type": "code",
   "execution_count": null,
   "id": "c349ef9e-20f5-4f46-8358-8c7b5546d3bd",
   "metadata": {},
   "outputs": [],
   "source": [
    "undistorted_disk_radius = 1/20\n",
    "\n",
    "\n",
    "\n",
    "kwargs = {\"center\": (0.500, 0.500),\n",
    "          \"radius\": undistorted_disk_radius,\n",
    "          \"intra_shape_val\": 1}\n",
    "undistorted_disk_0_support = fakecbed.shapes.Circle(**kwargs)\n",
    "\n",
    "kwargs[\"center\"] = (0.300, 0.300)\n",
    "undistorted_disk_1_support = fakecbed.shapes.Circle(**kwargs)\n",
    "\n",
    "kwargs[\"center\"] = (0.400, 0.980)\n",
    "undistorted_disk_2_support = fakecbed.shapes.Circle(**kwargs)\n",
    "\n",
    "kwargs[\"center\"] = (0.400, 0.910)\n",
    "undistorted_disk_3_support = fakecbed.shapes.Circle(**kwargs)\n",
    "\n",
    "kwargs[\"center\"] = (2, 2)\n",
    "undistorted_disk_4_support = fakecbed.shapes.Circle(**kwargs)\n",
    "\n",
    "\n",
    "\n",
    "kwargs = {\"center\": undistorted_disk_0_support.core_attrs[\"center\"],\n",
    "          \"radius\": undistorted_disk_radius,\n",
    "          \"intra_shape_val\": 50}\n",
    "circle = fakecbed.shapes.Circle(**kwargs)\n",
    "\n",
    "kwargs = {\"amplitude\": 10, \n",
    "          \"wavelength\": 1/40,\n",
    "          \"propagation_direction\": 7*np.pi/8,\n",
    "          \"phase\": 0}\n",
    "plane_wave = fakecbed.shapes.PlaneWave(**kwargs)\n",
    "\n",
    "kwargs = {\"center\": undistorted_disk_0_support.core_attrs[\"center\"],\n",
    "          \"semi_major_axis\": 1.0*undistorted_disk_radius,\n",
    "          \"eccentricity\": 0.9, \n",
    "          \"rotation_angle\": np.pi/4, \n",
    "          \"intra_shape_val\": -50}\n",
    "ellipse = fakecbed.shapes.Ellipse(**kwargs)\n",
    "\n",
    "intra_support_shapes = (ellipse, circle, plane_wave)\n",
    "\n",
    "kwargs = {\"support\": undistorted_disk_0_support,\n",
    "          \"intra_support_shapes\": intra_support_shapes}\n",
    "undistorted_disk_0 = fakecbed.shapes.NonuniformBoundedShape(**kwargs)\n",
    "\n",
    "\n",
    "\n",
    "kwargs = {\"center\": undistorted_disk_1_support.core_attrs[\"center\"],\n",
    "          \"principal_quantum_number\": 3,\n",
    "          \"azimuthal_quantum_number\": 1, \n",
    "          \"magnetic_quantum_number\": 0,\n",
    "          \"effective_size\": undistorted_disk_radius/10, \n",
    "          \"renormalization_factor\": 1e-2, \n",
    "          \"rotation_angle\": 2*np.pi/3}\n",
    "orbital = fakecbed.shapes.Orbital(**kwargs)\n",
    "\n",
    "intra_support_shapes = (orbital,)\n",
    "\n",
    "kwargs = {\"support\": undistorted_disk_1_support,\n",
    "          \"intra_support_shapes\": intra_support_shapes}\n",
    "undistorted_disk_1 = fakecbed.shapes.NonuniformBoundedShape(**kwargs)\n",
    "\n",
    "\n",
    "\n",
    "kwargs = {\"center\": undistorted_disk_2_support.core_attrs[\"center\"],\n",
    "          \"radius\": undistorted_disk_radius,\n",
    "          \"intra_shape_val\": 5}\n",
    "bg_ellipse = fakecbed.shapes.Circle(**kwargs)  # All circles are ellipses.\n",
    "\n",
    "ellipse_center = (undistorted_disk_2_support.core_attrs[\"center\"][0]-0.01,\n",
    "                  undistorted_disk_2_support.core_attrs[\"center\"][1])\n",
    "kwargs = {\"center\": ellipse_center,\n",
    "          \"radius\": undistorted_disk_radius,\n",
    "          \"intra_shape_val\": 1}\n",
    "fg_ellipse = fakecbed.shapes.Circle(**kwargs)\n",
    "\n",
    "kwargs = {\"fg_ellipse\": fg_ellipse,\n",
    "          \"bg_ellipse\": bg_ellipse}\n",
    "lune = fakecbed.shapes.Lune(**kwargs)\n",
    "\n",
    "kwargs = {\"center\": undistorted_disk_2_support.core_attrs[\"center\"],\n",
    "          \"radius\": undistorted_disk_radius,\n",
    "          \"intra_shape_val\": 2}\n",
    "circle = fakecbed.shapes.Circle(**kwargs)\n",
    "\n",
    "intra_support_shapes = (lune, circle)\n",
    "\n",
    "kwargs = {\"support\": undistorted_disk_2_support,\n",
    "          \"intra_support_shapes\": intra_support_shapes}\n",
    "undistorted_disk_2 = fakecbed.shapes.NonuniformBoundedShape(**kwargs)\n",
    "\n",
    "\n",
    "\n",
    "kwargs = {\"center\": undistorted_disk_3_support.core_attrs[\"center\"],\n",
    "          \"radius\": undistorted_disk_radius,\n",
    "          \"intra_shape_val\": 5}\n",
    "circle = fakecbed.shapes.Circle(**kwargs)\n",
    "\n",
    "intra_support_shapes = (circle,)\n",
    "\n",
    "kwargs = {\"support\": undistorted_disk_3_support,\n",
    "          \"intra_support_shapes\": intra_support_shapes}\n",
    "undistorted_disk_3 = fakecbed.shapes.NonuniformBoundedShape(**kwargs)\n",
    "\n",
    "\n",
    "\n",
    "kwargs = {\"center\": undistorted_disk_4_support.core_attrs[\"center\"],\n",
    "          \"radius\": undistorted_disk_radius,\n",
    "          \"intra_shape_val\": 5}\n",
    "circle = fakecbed.shapes.Circle(**kwargs)\n",
    "\n",
    "kwargs = {\"support\": undistorted_disk_4_support,\n",
    "          \"intra_support_shapes\": intra_support_shapes}\n",
    "undistorted_disk_4 = fakecbed.shapes.NonuniformBoundedShape(**kwargs)\n",
    "\n",
    "\n",
    "\n",
    "undistorted_disks = (undistorted_disk_0, \n",
    "                     undistorted_disk_1, \n",
    "                     undistorted_disk_2, \n",
    "                     undistorted_disk_3, \n",
    "                     undistorted_disk_4)\n",
    "\n",
    "\n",
    "\n",
    "new_core_attr_subset_candidate = {\"undistorted_disks\": undistorted_disks}\n",
    "cbed_pattern.update(new_core_attr_subset_candidate)"
   ]
  },
  {
   "cell_type": "markdown",
   "id": "6a45e77f-95f0-498f-98ad-36ac083d85d4",
   "metadata": {},
   "source": [
    "Let's visualize the updated fake CBED pattern."
   ]
  },
  {
   "cell_type": "code",
   "execution_count": null,
   "id": "08251a77-cc28-405e-b371-613a6e4075cf",
   "metadata": {},
   "outputs": [],
   "source": [
    "kwargs = {\"axes_off\": False, \n",
    "          \"scalebar\": False, \n",
    "          \"colorbar\": False, \n",
    "          \"gamma\": 0.3,\n",
    "          \"cmap\": \"jet\"}\n",
    "cbed_pattern.signal.plot(**kwargs)"
   ]
  },
  {
   "cell_type": "markdown",
   "id": "d8876e72-8d4b-4893-92a9-efea8856ac98",
   "metadata": {},
   "source": [
    "Next, let's add some miscellaneous shapes to our fake CBED pattern."
   ]
  },
  {
   "cell_type": "code",
   "execution_count": null,
   "id": "92818173-3ead-4f46-883b-868995e9d74f",
   "metadata": {},
   "outputs": [],
   "source": [
    "undistorted_disk_radius = 1/20\n",
    "\n",
    "\n",
    "\n",
    "kwargs = {\"end_pt_1\": (0.2, -0.05),\n",
    "          \"end_pt_2\": (1.05, 0.60),\n",
    "          \"width\": 0.03,\n",
    "          \"intra_shape_val\": 2}\n",
    "undistorted_misc_shape_0 = fakecbed.shapes.Band(**kwargs)\n",
    "\n",
    "\n",
    "\n",
    "radial_range = (0.6*undistorted_disk_radius, 0.7*undistorted_disk_radius)\n",
    "\n",
    "kwargs = {\"center\": (0.2, 0.8),\n",
    "          \"midpoint_angle\": 5*np.pi/4,\n",
    "          \"subtending_angle\": np.pi/3,\n",
    "          \"radial_range\": radial_range,\n",
    "          \"intra_shape_val\": 8}\n",
    "undistorted_misc_shape_1 = fakecbed.shapes.Arc(**kwargs)\n",
    "\n",
    "\n",
    "\n",
    "undistorted_misc_shapes = (undistorted_misc_shape_0, \n",
    "                           undistorted_misc_shape_1)\n",
    "\n",
    "\n",
    "\n",
    "new_core_attr_subset_candidate = {\"undistorted_misc_shapes\": \\\n",
    "                                  undistorted_misc_shapes}\n",
    "cbed_pattern.update(new_core_attr_subset_candidate)"
   ]
  },
  {
   "cell_type": "markdown",
   "id": "cf52fdce-9ff7-4845-924e-e29a7b4da5f5",
   "metadata": {},
   "source": [
    "Let's visualize the updated fake CBED pattern."
   ]
  },
  {
   "cell_type": "code",
   "execution_count": null,
   "id": "f7a69d2a-8232-406b-955d-fddabcbf45dd",
   "metadata": {},
   "outputs": [],
   "source": [
    "kwargs = {\"axes_off\": False, \n",
    "          \"scalebar\": False, \n",
    "          \"colorbar\": False, \n",
    "          \"gamma\": 0.3,\n",
    "          \"cmap\": \"jet\"}\n",
    "cbed_pattern.signal.plot(**kwargs)"
   ]
  },
  {
   "cell_type": "markdown",
   "id": "c7062c35-80b7-4d28-a4b7-69ff48635bd6",
   "metadata": {},
   "source": [
    "Next, let's specify an illumination support that does not cover the entire\n",
    "imaged fake CBED pattern."
   ]
  },
  {
   "cell_type": "code",
   "execution_count": null,
   "id": "c7faf3ac-e790-4c89-8417-98be169794a7",
   "metadata": {},
   "outputs": [],
   "source": [
    "radial_reference_pt = undistorted_disk_0_support.core_attrs[\"center\"]\n",
    "\n",
    "kwargs = {\"radial_reference_pt\": radial_reference_pt,\n",
    "          \"radial_amplitudes\": (0.55, 0.08, 0.07),\n",
    "          \"radial_phases\": (0.00, 3*np.pi/5),\n",
    "          \"intra_shape_val\": 1}\n",
    "undistorted_outer_illumination_shape = fakecbed.shapes.GenericBlob(**kwargs)\n",
    "\n",
    "\n",
    "\n",
    "new_core_attr_subset_candidate = {\"undistorted_outer_illumination_shape\": \\\n",
    "                                  undistorted_outer_illumination_shape}\n",
    "cbed_pattern.update(new_core_attr_subset_candidate)"
   ]
  },
  {
   "cell_type": "markdown",
   "id": "eb46dc82-25cf-4dd3-8677-188f206c4453",
   "metadata": {},
   "source": [
    "Let's visualize the updated fake CBED pattern."
   ]
  },
  {
   "cell_type": "code",
   "execution_count": null,
   "id": "bbcc50d6-d7c1-4016-9e4c-1ee2b83d2229",
   "metadata": {},
   "outputs": [],
   "source": [
    "kwargs = {\"axes_off\": False, \n",
    "          \"scalebar\": False, \n",
    "          \"colorbar\": False, \n",
    "          \"gamma\": 0.3,\n",
    "          \"cmap\": \"jet\"}\n",
    "cbed_pattern.signal.plot(**kwargs)"
   ]
  },
  {
   "cell_type": "markdown",
   "id": "476aec25-9763-4490-a0e3-f1f02503f2d2",
   "metadata": {},
   "source": [
    "Next, let's specify a distortion model to use to distort the fake CBED pattern."
   ]
  },
  {
   "cell_type": "code",
   "execution_count": null,
   "id": "f4afa57d-2a02-48ef-9d51-a0a93e1f5fd6",
   "metadata": {},
   "outputs": [],
   "source": [
    "center = (0.52, 0.49)\n",
    "\n",
    "quadratic_radial_distortion_amplitude = -0.1\n",
    "\n",
    "spiral_distortion_amplitude = 0.1\n",
    "\n",
    "amplitude = 0.07\n",
    "phase = 7*np.pi/8\n",
    "elliptical_distortion_vector = (amplitude*np.cos(2*phase).item(), \n",
    "                                amplitude*np.sin(2*phase).item())\n",
    "\n",
    "amplitude = 0.1\n",
    "phase = 4*np.pi/3\n",
    "parabolic_distortion_vector = (amplitude*np.cos(phase), \n",
    "                               amplitude*np.sin(phase))\n",
    "\n",
    "\n",
    "\n",
    "kwargs = \\\n",
    "    {\"center\": \\\n",
    "     center,\n",
    "     \"quadratic_radial_distortion_amplitude\": \\\n",
    "     quadratic_radial_distortion_amplitude,\n",
    "     \"elliptical_distortion_vector\": \\\n",
    "     elliptical_distortion_vector,\n",
    "     \"spiral_distortion_amplitude\": \\\n",
    "     spiral_distortion_amplitude,\n",
    "     \"parabolic_distortion_vector\": \\\n",
    "     parabolic_distortion_vector}\n",
    "standard_coord_transform_params = \\\n",
    "    distoptica.StandardCoordTransformParams(**kwargs)\n",
    "\n",
    "\n",
    "\n",
    "kwargs = {\"max_num_iterations\": 20,\n",
    "          \"initial_damping\": 1e-3,\n",
    "          \"factor_for_decreasing_damping\": 9,\n",
    "          \"factor_for_increasing_damping\": 11,\n",
    "          \"improvement_tol\": 0.1, \n",
    "          \"rel_err_tol\": 1e-2, \n",
    "          \"plateau_tol\": 1e-3, \n",
    "          \"plateau_patience\": 2, \n",
    "          \"skip_validation_and_conversion\": False}\n",
    "least_squares_alg_params = distoptica.LeastSquaresAlgParams(**kwargs)\n",
    "\n",
    "\n",
    "\n",
    "kwargs = {\"standard_coord_transform_params\": standard_coord_transform_params,\n",
    "          \"sampling_grid_dims_in_pixels\": 2*(num_pixels_across_pattern,),\n",
    "          \"device_name\": \"cpu\",\n",
    "          \"least_squares_alg_params\": least_squares_alg_params}\n",
    "distortion_model = distoptica.generate_standard_distortion_model(**kwargs)\n",
    "\n",
    "\n",
    "\n",
    "new_core_attr_subset_candidate = {\"distortion_model\": distortion_model}\n",
    "cbed_pattern.update(new_core_attr_subset_candidate)"
   ]
  },
  {
   "cell_type": "markdown",
   "id": "7a3f371f-a841-41dd-875f-be5f7533edbf",
   "metadata": {},
   "source": [
    "Let's visualize the updated fake CBED pattern."
   ]
  },
  {
   "cell_type": "code",
   "execution_count": null,
   "id": "401f76c4-81dd-4374-9405-a12fe5d47e7f",
   "metadata": {},
   "outputs": [],
   "source": [
    "kwargs = {\"axes_off\": False, \n",
    "          \"scalebar\": False, \n",
    "          \"colorbar\": False, \n",
    "          \"gamma\": 0.3,\n",
    "          \"cmap\": \"jet\"}\n",
    "cbed_pattern.signal.plot(**kwargs)"
   ]
  },
  {
   "cell_type": "markdown",
   "id": "3f4c2b38-83eb-4892-9a19-3466ae264ed1",
   "metadata": {},
   "source": [
    "Next, let's add blur effects to the fake CBED pattern."
   ]
  },
  {
   "cell_type": "code",
   "execution_count": null,
   "id": "01027081-850b-4cfe-a7d3-77301921f92d",
   "metadata": {},
   "outputs": [],
   "source": [
    "new_core_attr_subset_candidate = {\"gaussian_filter_std_dev\": 2}\n",
    "cbed_pattern.update(new_core_attr_subset_candidate)"
   ]
  },
  {
   "cell_type": "markdown",
   "id": "4691f4c0-fa3d-4d94-9bfc-e29ab0aaba5d",
   "metadata": {},
   "source": [
    "Let's visualize the updated fake CBED pattern."
   ]
  },
  {
   "cell_type": "code",
   "execution_count": null,
   "id": "429059c9-905a-439d-a9e7-a1b54cdfb3b9",
   "metadata": {},
   "outputs": [],
   "source": [
    "kwargs = {\"axes_off\": False, \n",
    "          \"scalebar\": False, \n",
    "          \"colorbar\": False, \n",
    "          \"gamma\": 0.3,\n",
    "          \"cmap\": \"jet\"}\n",
    "cbed_pattern.signal.plot(**kwargs)"
   ]
  },
  {
   "cell_type": "markdown",
   "id": "6f88664e-52b8-4f5a-b4fc-a28abbd525cd",
   "metadata": {},
   "source": [
    "Next, let's shot noise to the fake CBED pattern."
   ]
  },
  {
   "cell_type": "code",
   "execution_count": null,
   "id": "b1256c10-aad5-4c5c-974e-a74c135a7bee",
   "metadata": {},
   "outputs": [],
   "source": [
    "new_core_attr_subset_candidate = {\"apply_shot_noise\": True}\n",
    "cbed_pattern.update(new_core_attr_subset_candidate)"
   ]
  },
  {
   "cell_type": "markdown",
   "id": "cb654996-0eec-45a2-8cdb-a8dd0670573c",
   "metadata": {},
   "source": [
    "Let's visualize the updated fake CBED pattern."
   ]
  },
  {
   "cell_type": "code",
   "execution_count": null,
   "id": "fa703c74-ebd7-4393-a0ce-7b8d036a19cd",
   "metadata": {},
   "outputs": [],
   "source": [
    "kwargs = {\"axes_off\": False, \n",
    "          \"scalebar\": False, \n",
    "          \"colorbar\": False, \n",
    "          \"gamma\": 0.3,\n",
    "          \"cmap\": \"jet\"}\n",
    "cbed_pattern.signal.plot(**kwargs)"
   ]
  },
  {
   "cell_type": "markdown",
   "id": "df7817fd-4a36-421a-8876-7aa2e9460bdf",
   "metadata": {},
   "source": [
    "Next, let's add a detector partition to the fake CBED pattern."
   ]
  },
  {
   "cell_type": "code",
   "execution_count": null,
   "id": "3f986bbc-476d-49db-ac86-4e775d6bec1a",
   "metadata": {},
   "outputs": [],
   "source": [
    "new_core_attr_subset_candidate = {\"detector_partition_width_in_pixels\": 4}\n",
    "cbed_pattern.update(new_core_attr_subset_candidate)"
   ]
  },
  {
   "cell_type": "markdown",
   "id": "b57dfec2-0940-4211-8702-7943db743914",
   "metadata": {},
   "source": [
    "Let's visualize the updated fake CBED pattern."
   ]
  },
  {
   "cell_type": "code",
   "execution_count": null,
   "id": "79402e3f-028d-468a-afc4-1710f27c0a4b",
   "metadata": {},
   "outputs": [],
   "source": [
    "kwargs = {\"axes_off\": False, \n",
    "          \"scalebar\": False, \n",
    "          \"colorbar\": False, \n",
    "          \"gamma\": 0.3,\n",
    "          \"cmap\": \"jet\"}\n",
    "cbed_pattern.signal.plot(**kwargs)"
   ]
  },
  {
   "cell_type": "markdown",
   "id": "2d3c761e-3f6d-48e9-9072-c013491476af",
   "metadata": {},
   "source": [
    "Next, let's add a mask frame."
   ]
  },
  {
   "cell_type": "code",
   "execution_count": null,
   "id": "d0a54fa9-3f3c-48b9-a898-f3aa0a97f0f1",
   "metadata": {},
   "outputs": [],
   "source": [
    "new_core_attr_subset_candidate = {\"mask_frame\": (40, 20, 0, 60)}\n",
    "cbed_pattern.update(new_core_attr_subset_candidate)"
   ]
  },
  {
   "cell_type": "markdown",
   "id": "e9031b4b-bcf4-43be-9cb7-d45ef97e84d7",
   "metadata": {},
   "source": [
    "Let's visualize the updated fake CBED pattern."
   ]
  },
  {
   "cell_type": "code",
   "execution_count": null,
   "id": "cdddf688-522a-4f22-a801-8e0a53495af0",
   "metadata": {},
   "outputs": [],
   "source": [
    "kwargs = {\"axes_off\": False, \n",
    "          \"scalebar\": False, \n",
    "          \"colorbar\": False, \n",
    "          \"gamma\": 0.3,\n",
    "          \"cmap\": \"jet\"}\n",
    "cbed_pattern.signal.plot(**kwargs)"
   ]
  },
  {
   "cell_type": "markdown",
   "id": "8a8f4eb6-b9d9-4e20-93e9-45327b620c83",
   "metadata": {},
   "source": [
    "Lastly, to complete the fake CBED pattern, let's add some cold pixels."
   ]
  },
  {
   "cell_type": "code",
   "execution_count": null,
   "id": "dde8385f-b5a3-4e12-86fd-aa91fcdacc00",
   "metadata": {},
   "outputs": [],
   "source": [
    "cold_pixels = ((245, 260), \n",
    "               (346, 150), \n",
    "               (250, 252))\n",
    "\n",
    "new_core_attr_subset_candidate = {\"cold_pixels\": cold_pixels}\n",
    "cbed_pattern.update(new_core_attr_subset_candidate)"
   ]
  },
  {
   "cell_type": "markdown",
   "id": "974be4bc-ed1d-4705-93d4-4da85ac43bef",
   "metadata": {},
   "source": [
    "Let's visualize the updated fake CBED pattern."
   ]
  },
  {
   "cell_type": "code",
   "execution_count": null,
   "id": "3dd4658f-b209-4946-b6d5-ad3f68858568",
   "metadata": {},
   "outputs": [],
   "source": [
    "kwargs = {\"axes_off\": False, \n",
    "          \"scalebar\": False, \n",
    "          \"colorbar\": False, \n",
    "          \"gamma\": 0.3,\n",
    "          \"cmap\": \"jet\"}\n",
    "cbed_pattern.signal.plot(**kwargs)"
   ]
  },
  {
   "cell_type": "markdown",
   "id": "1f0975fd-6fa9-4724-bc54-7f10297e2f03",
   "metadata": {},
   "source": [
    "With the fake CBED pattern complete, let's look at the metadata of its signal\n",
    "representation. Among other items, it stores a pre-serialized version of the\n",
    "core attributes of the fake CBED pattern."
   ]
  },
  {
   "cell_type": "code",
   "execution_count": null,
   "id": "91c2ef4b-49d6-4df6-9d3e-4a76471cc824",
   "metadata": {},
   "outputs": [],
   "source": [
    "cbed_pattern.signal.metadata"
   ]
  },
  {
   "cell_type": "markdown",
   "id": "89389fa3-0c0b-48f0-8039-a68837a0214e",
   "metadata": {},
   "source": [
    "Let's look at the remaining instance attributes of the fake CBED pattern. Note\n",
    "that for each attribute mentioned below, except for ``device``, ``num_disks``,\n",
    "and ``image_has_been_overridden``, there are multiple ways to access it using\n",
    "public methods. Let ``<attr_name>`` be the name of such an attribute. We can\n",
    "access attribute ``<attr_name>`` via ``cbed_pattern.<attr_name>``,\n",
    "``cbed_pattern.get_<attr_name>(deep_copy=True)``, and\n",
    "``cbed_pattern.get_<attr_name>(deep_copy=False)``, where the first two options\n",
    "yield a deep copy, and the last option yields a reference. Returning a reference\n",
    "may be preferred in some circumstances for faster data access and reduced memory\n",
    "overhead. In whatever case, users should treat any such attribute as read-only\n",
    "always.\n",
    "\n",
    "The attribute ``signal`` can be accessed in the ways described in the previous\n",
    "paragraph, i.e. via ``cbed_pattern.signal`` and the method\n",
    "``cbed_pattern.get_signal``."
   ]
  },
  {
   "cell_type": "markdown",
   "id": "b7ca4a89-e0fd-4060-a891-09c2a0461308",
   "metadata": {},
   "source": [
    "The first of the remaining attributes is actually a dictionary which stores the\n",
    "so-called \"core attributes\". See\n",
    "[here](https://mrfitzpa.github.io/fancytypes/_autosummary/fancytypes.Checkable.html)\n",
    "for a discussion on core attributes."
   ]
  },
  {
   "cell_type": "code",
   "execution_count": null,
   "id": "f406bb26-1f5e-4122-9c4a-bd8e8bc5b8e0",
   "metadata": {},
   "outputs": [],
   "source": [
    "cbed_pattern.core_attrs"
   ]
  },
  {
   "cell_type": "markdown",
   "id": "24f4a6f3-9072-48f6-a3d3-ebf3659ca40f",
   "metadata": {},
   "source": [
    "Next, we have the device on which computationally intensive PyTorch operations\n",
    "are performed and attributes of the type ``torch.Tensor`` are stored."
   ]
  },
  {
   "cell_type": "code",
   "execution_count": null,
   "id": "ddbbbf14-1883-4973-9958-9be26d46943e",
   "metadata": {},
   "outputs": [],
   "source": [
    "cbed_pattern.device"
   ]
  },
  {
   "cell_type": "markdown",
   "id": "db88e18f-fdfd-476f-9a69-4af497e3a2fa",
   "metadata": {},
   "source": [
    "Next, we have the total number of CBED disks defined in the fake CBED\n",
    "pattern. Note that this is not necessarily equal to the number of CBED disks\n",
    "that appear in the image of the fake CBED pattern. In our current case, we\n",
    "defined one of the CBED disks to be positioned outside of the field of view of\n",
    "the image of the fake CBED pattern."
   ]
  },
  {
   "cell_type": "code",
   "execution_count": null,
   "id": "7212cc92-499a-4edf-b316-a1e894b5babe",
   "metadata": {},
   "outputs": [],
   "source": [
    "cbed_pattern.num_disks"
   ]
  },
  {
   "cell_type": "markdown",
   "id": "5a99cf7e-fbb8-4fad-baa3-b562d8283b7d",
   "metadata": {},
   "source": [
    "Next, we have the disk absence registry, which records which CBED disks are\n",
    "absent from the image of the fake CBED pattern. In our current case, only the\n",
    "last CBED disk defined is absent."
   ]
  },
  {
   "cell_type": "code",
   "execution_count": null,
   "id": "df686d0c-0990-4934-9b82-5f2ce0fd4c4d",
   "metadata": {},
   "outputs": [],
   "source": [
    "cbed_pattern.disk_absence_registry"
   ]
  },
  {
   "cell_type": "markdown",
   "id": "051bbd33-9e51-4c30-9e4a-7342f478a5b7",
   "metadata": {},
   "source": [
    "Next, we have the disk clipping registry, which records which CBED disks are\n",
    "clipped in the image of the fake CBED pattern. Note that CBED disks that are\n",
    "absent are considered clipped. In our current case, assuming a zero-based\n",
    "indexing scheme, CBED disks #2 and #4 are clipped."
   ]
  },
  {
   "cell_type": "code",
   "execution_count": null,
   "id": "122e98f9-affc-48c0-845c-7fd3d3a3fc3a",
   "metadata": {},
   "outputs": [],
   "source": [
    "cbed_pattern.disk_clipping_registry"
   ]
  },
  {
   "cell_type": "markdown",
   "id": "3fed0ee1-0ddc-4ded-8a19-6102644c5370",
   "metadata": {},
   "source": [
    "Next, we have the image of the fake CBED pattern. This attribute stores the same\n",
    "numerical data as ``cbed_pattern.signal.data[0]``, except as a ``PyTorch``\n",
    "tensor."
   ]
  },
  {
   "cell_type": "code",
   "execution_count": null,
   "id": "6d8e82e7-a113-4d9b-aa59-fb1d5e44da69",
   "metadata": {},
   "outputs": [],
   "source": [
    "cbed_pattern.image"
   ]
  },
  {
   "cell_type": "markdown",
   "id": "81fbbc5b-89a1-47ef-aa1c-f0fc8fa48a5d",
   "metadata": {},
   "source": [
    "We can visualize the image as follows:"
   ]
  },
  {
   "cell_type": "code",
   "execution_count": null,
   "id": "c614dc01-9139-4400-8bb4-a494a375fcc6",
   "metadata": {},
   "outputs": [],
   "source": [
    "kwargs = {\"axes_off\": False, \n",
    "          \"scalebar\": False, \n",
    "          \"colorbar\": False, \n",
    "          \"gamma\": 0.3,\n",
    "          \"cmap\": \"jet\"}\n",
    "cbed_pattern.signal.inav[0].plot(**kwargs)"
   ]
  },
  {
   "cell_type": "markdown",
   "id": "9f3a829d-82ac-49dd-b42e-19d730c0dfd5",
   "metadata": {},
   "source": [
    "Next, we have the illumination support of the fake CBED pattern. This attribute\n",
    "stores the same numerical data as ``cbed_pattern.signal.data[1]``, except as a\n",
    "``PyTorch`` tensor."
   ]
  },
  {
   "cell_type": "code",
   "execution_count": null,
   "id": "41808def-f643-475d-9be3-a7c0f0eb5e4f",
   "metadata": {},
   "outputs": [],
   "source": [
    "cbed_pattern.illumination_support"
   ]
  },
  {
   "cell_type": "markdown",
   "id": "f7bb052c-92d0-4fc1-8c11-72fbdfb05972",
   "metadata": {},
   "source": [
    "We can visualize the illumination support masked by the mask frame as follows:"
   ]
  },
  {
   "cell_type": "code",
   "execution_count": null,
   "id": "0bb68a78-078e-4349-8d98-25767c27c279",
   "metadata": {},
   "outputs": [],
   "source": [
    "kwargs = {\"axes_off\": False, \n",
    "          \"scalebar\": False, \n",
    "          \"colorbar\": False, \n",
    "          \"gamma\": 0.3,\n",
    "          \"cmap\": \"jet\"}\n",
    "cbed_pattern.signal.inav[1].plot(**kwargs)"
   ]
  },
  {
   "cell_type": "markdown",
   "id": "d39bf69b-d6b1-475c-a06f-1615e9487f90",
   "metadata": {},
   "source": [
    "Next, we have the disk overlap support of the fake CBED pattern. This attribute\n",
    "stores the same numerical data as ``cbed_pattern.signal.data[2]``, except as a\n",
    "``PyTorch`` tensor."
   ]
  },
  {
   "cell_type": "code",
   "execution_count": null,
   "id": "3b9f27b1-81d6-421c-a3f3-e2146803fbbc",
   "metadata": {},
   "outputs": [],
   "source": [
    "cbed_pattern.disk_overlap_map"
   ]
  },
  {
   "cell_type": "markdown",
   "id": "35b77706-f289-44b6-ae1b-1ecf977fbdfe",
   "metadata": {},
   "source": [
    "We can visualize the disk overlap map as follows:"
   ]
  },
  {
   "cell_type": "code",
   "execution_count": null,
   "id": "46b7a7cb-0dc7-48ad-850b-d8dfc56d7e08",
   "metadata": {},
   "outputs": [],
   "source": [
    "kwargs = {\"axes_off\": False, \n",
    "          \"scalebar\": False, \n",
    "          \"colorbar\": False, \n",
    "          \"gamma\": 0.3,\n",
    "          \"cmap\": \"jet\"}\n",
    "cbed_pattern.signal.inav[2].plot(**kwargs)"
   ]
  },
  {
   "cell_type": "markdown",
   "id": "9018017b-7eeb-4656-943f-2f91f6cb754d",
   "metadata": {},
   "source": [
    "Next, we have the disk supports of the fake CBED pattern. This attribute stores\n",
    "the same numerical data as ``cbed_pattern.signal.data[3:]``, except as a\n",
    "``PyTorch`` tensor."
   ]
  },
  {
   "cell_type": "code",
   "execution_count": null,
   "id": "9bf55b60-1972-49bf-89e1-adc1af403655",
   "metadata": {},
   "outputs": [],
   "source": [
    "cbed_pattern.disk_supports"
   ]
  },
  {
   "cell_type": "markdown",
   "id": "07ea17b5-d5bb-4e49-acf4-714d29fb09ee",
   "metadata": {},
   "source": [
    "We can visualize the disk supports as follows:"
   ]
  },
  {
   "cell_type": "code",
   "execution_count": null,
   "id": "76600e1a-e896-490a-8131-cc9e6fef6045",
   "metadata": {},
   "outputs": [],
   "source": [
    "kwargs = {\"axes_off\": False, \n",
    "          \"scalebar\": False, \n",
    "          \"colorbar\": False, \n",
    "          \"gamma\": 0.3,\n",
    "          \"cmap\": \"jet\"}\n",
    "cbed_pattern.signal.inav[3:].plot(**kwargs)"
   ]
  },
  {
   "cell_type": "markdown",
   "id": "82dee453-3a61-4eed-b58d-99fe756b44eb",
   "metadata": {},
   "source": [
    "Lastly, we have the attribute ``image_has_been_overridden``, which indicates\n",
    "whether or not the image of the fake CBED pattern has been overridden. In our\n",
    "current case, the image has not yet been overridden:"
   ]
  },
  {
   "cell_type": "code",
   "execution_count": null,
   "id": "fa994e4e-f0b7-4223-9321-684c054035cb",
   "metadata": {},
   "outputs": [],
   "source": [
    "cbed_pattern.image_has_been_overridden"
   ]
  },
  {
   "cell_type": "markdown",
   "id": "65c82585-af57-466b-887a-3d8981d129a1",
   "metadata": {},
   "source": [
    "One can override the image and then subsequently reapply the masks implied by\n",
    "the illumination support and cold pixels using the method\n",
    "``override_image_then_reapply_mask``."
   ]
  },
  {
   "cell_type": "code",
   "execution_count": null,
   "id": "709c063d-f154-428e-8d4d-bd22a29a339d",
   "metadata": {},
   "outputs": [],
   "source": [
    "N = cbed_pattern.image.shape[0]\n",
    "\n",
    "overriding_image = np.ones((N, N))\n",
    "overriding_image[:N//2, :] *= 2\n",
    "\n",
    "cbed_pattern.override_image_then_reapply_mask(overriding_image)"
   ]
  },
  {
   "cell_type": "markdown",
   "id": "d9902a4a-f6bc-4389-8ec5-2113ccf94944",
   "metadata": {},
   "source": [
    "We should find that the attribute ``image_has_been_overridden`` has been updated\n",
    "accordingly."
   ]
  },
  {
   "cell_type": "code",
   "execution_count": null,
   "id": "a9f4f3d8-d2b0-4577-bc8c-968148b73f55",
   "metadata": {},
   "outputs": [],
   "source": [
    "cbed_pattern.image_has_been_overridden"
   ]
  },
  {
   "cell_type": "markdown",
   "id": "019ed16b-2690-49cd-9fe1-b20e1442fdaa",
   "metadata": {},
   "source": [
    "We can visualize the overridden image by plotting the signal representation of\n",
    "the fake CBED pattern again."
   ]
  },
  {
   "cell_type": "code",
   "execution_count": null,
   "id": "3f8553dd-38d9-4e9d-b4f7-b063587660b2",
   "metadata": {},
   "outputs": [],
   "source": [
    "kwargs = {\"axes_off\": False, \n",
    "          \"scalebar\": False, \n",
    "          \"colorbar\": False, \n",
    "          \"gamma\": 0.3,\n",
    "          \"cmap\": \"jet\"}\n",
    "cbed_pattern.signal.plot(**kwargs)"
   ]
  },
  {
   "cell_type": "markdown",
   "id": "012e8538-e2e9-420c-bfb9-684c18b3ac54",
   "metadata": {},
   "source": [
    "### Creating a cropped fake CBED pattern ###"
   ]
  },
  {
   "cell_type": "markdown",
   "id": "c4863267-bbd9-4950-86a5-15494a987f5a",
   "metadata": {},
   "source": [
    "Let us recover the fake CBED pattern we created prior to overriding the image:"
   ]
  },
  {
   "cell_type": "code",
   "execution_count": null,
   "id": "79dfc4f1-5621-4a75-bed7-8e3b18c871ae",
   "metadata": {},
   "outputs": [],
   "source": [
    "kwargs = cbed_pattern.core_attrs\n",
    "cbed_pattern = fakecbed.discretized.CBEDPattern(**kwargs)\n",
    "\n",
    "kwargs = {\"axes_off\": False, \n",
    "          \"scalebar\": False, \n",
    "          \"colorbar\": False, \n",
    "          \"gamma\": 0.3,\n",
    "          \"cmap\": \"jet\"}\n",
    "cbed_pattern.signal.plot(**kwargs)"
   ]
  },
  {
   "cell_type": "markdown",
   "id": "abe6a2d9-9c85-46a9-a34a-f46fb0c4b28b",
   "metadata": {},
   "source": [
    "With this fake CBED pattern we can create a cropped fake CBED pattern:"
   ]
  },
  {
   "cell_type": "code",
   "execution_count": null,
   "id": "5318265c-5934-4285-8a63-76634b059f44",
   "metadata": {},
   "outputs": [],
   "source": [
    "kwargs = {\"cbed_pattern\": cbed_pattern, \n",
    "          \"cropping_window_center\": (0.35, 0.35),\n",
    "          \"cropping_window_dims_in_pixels\": (300, 300),\n",
    "          \"principal_disk_idx\": 1,\n",
    "          \"disk_boundary_sample_size\": 64, \n",
    "          \"mask_frame\": (10, 50, 30, 5)}\n",
    "cropped_cbed_pattern = fakecbed.discretized.CroppedCBEDPattern(**kwargs)"
   ]
  },
  {
   "cell_type": "markdown",
   "id": "5829c2c2-e7d0-4cd0-afd1-88345f6677c3",
   "metadata": {},
   "source": [
    "A subset of the attribute names of the\n",
    "``fakecbed.discretized.CroppedCBEDPattern`` class is equal to the entire set of\n",
    "attribute names of the ``fakecbed.discretized.CBEDPattern`` class. For instance,\n",
    "the attribute ``cropped_cbed_pattern.signal`` stores a hyperspy signal\n",
    "representation of the cropped fake CBED pattern. See\n",
    "[here](https://mrfitzpa.github.io/fakecbed/_autosummary/fakecbed.discretized.CroppedCBEDPattern.html#fakecbed.discretized.CroppedCBEDPattern.signal)\n",
    "for a description of the signal representation of the fake cropped CBED pattern.\n",
    "Note that the image of the discretized cropped CBED pattern is always\n",
    "automatically min-max normalized. Also, note that the positions of the pixels in\n",
    "the signal representation of the cropped fake CBED pattern are expressed in the\n",
    "fractional coordinates of the uncropped fake CBED pattern."
   ]
  },
  {
   "cell_type": "code",
   "execution_count": null,
   "id": "fd130608-2d5e-4fd2-8832-f013a45223dd",
   "metadata": {},
   "outputs": [],
   "source": [
    "cropped_cbed_pattern_signal = cropped_cbed_pattern.signal\n",
    "\n",
    "kwargs = {\"axes_off\": False, \n",
    "          \"scalebar\": False, \n",
    "          \"colorbar\": False, \n",
    "          \"gamma\": 0.3,\n",
    "          \"cmap\": \"jet\"}\n",
    "cropped_cbed_pattern_signal.plot(**kwargs)\n",
    "\n",
    "cropped_cbed_pattern_signal.metadata"
   ]
  },
  {
   "cell_type": "markdown",
   "id": "0aa6554a-0036-4ee6-8138-4eaab5d14789",
   "metadata": {},
   "source": [
    "The ``fakecbed.discretized.CroppedCBEDPattern`` class has additional attributes,\n",
    "one of which is ``principal_disk_is_clipped``, which indicates whether the\n",
    "\"principal\" CBED disk is clipped in the image of the cropped fake CBED pattern:"
   ]
  },
  {
   "cell_type": "code",
   "execution_count": null,
   "id": "7ea653c5-03bc-4918-82e6-4ff08e5341b8",
   "metadata": {},
   "outputs": [],
   "source": [
    "cropped_cbed_pattern.principal_disk_is_clipped"
   ]
  },
  {
   "cell_type": "markdown",
   "id": "80824fd9-43ca-4500-9709-6979e6c3559c",
   "metadata": {},
   "source": [
    "In our current example, the principal CBED disk is not clipped. If the principal\n",
    "CBED disk does not exist, i.e. if the construction parameter\n",
    "``principal_disk_idx`` is set to a nonnegative integer greater than or equal to\n",
    "the number of CBED disks defined in the uncropped fake CBED pattern, then\n",
    "``principal_disk_is_clipped`` will return ``True``. To be clear,\n",
    "``principal_disk_is_clipped`` can return ``True`` even if the principal CBED\n",
    "disk exists. In such a scenario, the principal CBED disk corresponds to a CBED\n",
    "disk that has been defined, but is clipped in the image of the uncropped fake\n",
    "CBED pattern."
   ]
  },
  {
   "cell_type": "markdown",
   "id": "569d50f7-7354-448c-abf0-3124eb8b0ecc",
   "metadata": {},
   "source": [
    "Another attribute is ``principal_disk_is_absent``, which indicates whether the\n",
    "\"principal\" CBED disk is absent in the image of the cropped fake CBED pattern:"
   ]
  },
  {
   "cell_type": "code",
   "execution_count": null,
   "id": "fa747739-8f91-4bb1-bc17-23d79018bcda",
   "metadata": {},
   "outputs": [],
   "source": [
    "cropped_cbed_pattern.principal_disk_is_absent"
   ]
  },
  {
   "cell_type": "markdown",
   "id": "ec76677f-46d2-4aea-a11f-158173f09ebc",
   "metadata": {},
   "source": [
    "In our current example, the principal CBED disk is not absent. If the principal\n",
    "CBED disk does not exist, then ``principal_disk_is_absent`` will be set to\n",
    "``True``. To be clear, ``principal_disk_is_absent`` can be set to ``True`` even\n",
    "if the principal CBED disk exists. In such a scenario, the principal CBED disk\n",
    "corresponds to a CBED disk that has been defined, but is absent in the image of\n",
    "the uncropped fake CBED pattern."
   ]
  },
  {
   "cell_type": "markdown",
   "id": "64410367-6786-4d22-98e0-dc2330fd774b",
   "metadata": {},
   "source": [
    "Another attribute is ``principal_disk_is_overlapping``, which indicates whether\n",
    "the \"principal\" CBED disk is overlapping with another CBED disk in the image of\n",
    "the cropped fake CBED pattern:"
   ]
  },
  {
   "cell_type": "code",
   "execution_count": null,
   "id": "76ac4578-e7fc-4f4f-83a8-e03f1ac45e4b",
   "metadata": {},
   "outputs": [],
   "source": [
    "cropped_cbed_pattern.principal_disk_is_overlapping"
   ]
  },
  {
   "cell_type": "markdown",
   "id": "151710c6-6ac8-4f0d-8588-81016d5d4156",
   "metadata": {},
   "source": [
    "In our current example, the principal CBED disk is not overlapping. If the\n",
    "principal CBED disk does not exist, then ``principal_disk_is_overlapping`` will\n",
    "be set to ``False``."
   ]
  },
  {
   "cell_type": "markdown",
   "id": "9e091d44-7f20-4256-b148-4205460a13e0",
   "metadata": {},
   "source": [
    "Another attribute is\n",
    "``principal_disk_bounding_box_in_uncropped_image_fractional_coords``, which\n",
    "stores the bounding box of the unclipped support of the principal CBED disk,\n",
    "should it exist, in fractional coordinates of the uncropped fake CBED pattern:"
   ]
  },
  {
   "cell_type": "code",
   "execution_count": null,
   "id": "b91e8b37-a136-4c57-b1cb-95ed11934c19",
   "metadata": {},
   "outputs": [],
   "source": [
    "attr_name = \\\n",
    "    \"principal_disk_bounding_box_in_uncropped_image_fractional_coords\"\n",
    "principal_disk_bounding_box_in_uncropped_image_fractional_coords = \\\n",
    "    getattr(cropped_cbed_pattern, attr_name)\n",
    "\n",
    "principal_disk_bounding_box_in_uncropped_image_fractional_coords"
   ]
  },
  {
   "cell_type": "markdown",
   "id": "f48a054e-8fc1-46a7-b72e-9198d97d7a18",
   "metadata": {},
   "source": [
    "In the order that they appear, the coordinates are those of the left, right,\n",
    "bottom and top sides of the bounding box respectively. If the principal CBED\n",
    "disk does not exist, then the attribute is set to ``None``.\n",
    "\n",
    "We can add the box to the signal representations of the cropped and uncropped\n",
    "fake CBED patterns:"
   ]
  },
  {
   "cell_type": "code",
   "execution_count": null,
   "id": "23ffa504-3d7d-4784-9a2f-1fd3849aa687",
   "metadata": {},
   "outputs": [],
   "source": [
    "L, R, B, T = principal_disk_bounding_box_in_uncropped_image_fractional_coords\n",
    "\n",
    "kwargs = {\"axes_off\": False, \n",
    "          \"scalebar\": False, \n",
    "          \"colorbar\": False, \n",
    "          \"gamma\": 0.3,\n",
    "          \"cmap\": \"jet\"}\n",
    "cropped_cbed_pattern_signal.plot(**kwargs)\n",
    "\n",
    "try:  # For Hyperspy versions >= 2.\n",
    "    x_box = (R+L)/2\n",
    "    y_box = (B+T)/2\n",
    "    box_center = (x_box, y_box)\n",
    "    kwargs = {\"edgecolors\": \"green\",\n",
    "              \"linewidths\": 3, \n",
    "              \"facecolors\": \"none\",\n",
    "              \"offsets\": (box_center,), \n",
    "              \"widths\": (R-L), \n",
    "              \"heights\": (B-T)}\n",
    "    marker = hs.plot.markers.Rectangles(**kwargs)\n",
    "except:  # For Hyperspy versions < 2.\n",
    "    kwargs = {\"edgecolor\": \"green\",\n",
    "              \"linewidth\": 3, \n",
    "              \"x1\": L, \n",
    "              \"x2\": R, \n",
    "              \"y1\": T, \n",
    "              \"y2\": B}\n",
    "    marker = hs.plot.markers.rectangle(**kwargs)\n",
    "\n",
    "cropped_cbed_pattern_signal.add_marker(marker, permanent=False)"
   ]
  },
  {
   "cell_type": "code",
   "execution_count": null,
   "id": "62f80164-125a-4757-a61a-226768c6323b",
   "metadata": {},
   "outputs": [],
   "source": [
    "cbed_pattern_signal = cbed_pattern.signal\n",
    "\n",
    "kwargs = {\"axes_off\": False, \n",
    "          \"scalebar\": False, \n",
    "          \"colorbar\": False, \n",
    "          \"gamma\": 0.3,\n",
    "          \"cmap\": \"jet\"}\n",
    "cbed_pattern_signal.plot(**kwargs)\n",
    "\n",
    "marker = copy.deepcopy(marker)\n",
    "cbed_pattern_signal.add_marker(marker, permanent=False)"
   ]
  },
  {
   "cell_type": "markdown",
   "id": "18fe97c8-1692-4076-bb6f-b1dd90fabe80",
   "metadata": {},
   "source": [
    "Another attribute is\n",
    "``principal_disk_boundary_pts_in_uncropped_image_fractional_coords``, which\n",
    "stores a sample of points on the boundary of the unclipped support of the\n",
    "principal CBED disk, should it exist, in fractional coordinates of the uncropped\n",
    "fake CBED pattern:"
   ]
  },
  {
   "cell_type": "code",
   "execution_count": null,
   "id": "f71e51a6-b251-4e4a-ad73-a273e3b600c1",
   "metadata": {},
   "outputs": [],
   "source": [
    "attr_name = \\\n",
    "    \"principal_disk_boundary_pts_in_uncropped_image_fractional_coords\"\n",
    "principal_disk_boundary_pts_in_uncropped_image_fractional_coords = \\\n",
    "    getattr(cropped_cbed_pattern, attr_name)\n",
    "\n",
    "principal_disk_boundary_pts_in_uncropped_image_fractional_coords"
   ]
  },
  {
   "cell_type": "markdown",
   "id": "b57fd54c-341c-425a-8bc5-10df91147ab7",
   "metadata": {},
   "source": [
    "If the principal CBED disk does not exist, then the attribute is set to ``None``.\n",
    "\n",
    "We can add the sample of points to the signal representations of the cropped and\n",
    "uncropped fake CBED patterns:"
   ]
  },
  {
   "cell_type": "code",
   "execution_count": null,
   "id": "fd90ebc0-5626-444f-9b59-0e9322dba409",
   "metadata": {},
   "outputs": [],
   "source": [
    "pts = principal_disk_boundary_pts_in_uncropped_image_fractional_coords.tolist()\n",
    "\n",
    "kwargs = {\"axes_off\": False, \n",
    "          \"scalebar\": False, \n",
    "          \"colorbar\": False, \n",
    "          \"gamma\": 0.3,\n",
    "          \"cmap\": \"jet\"}\n",
    "cropped_cbed_pattern_signal.plot(**kwargs)\n",
    "\n",
    "markers = tuple()\n",
    "\n",
    "try:  # For Hyperspy versions >= 2.\n",
    "    for pt in pts:\n",
    "        kwargs = {\"color\": \"black\", \n",
    "                  \"sizes\": 3, \n",
    "                  \"offsets\": pt}\n",
    "        marker = hs.plot.markers.Points(**kwargs)\n",
    "        markers += (marker,)\n",
    "        cropped_cbed_pattern_signal.add_marker(marker, permanent=False)\n",
    "except:  # For Hyperspy versions < 2.\n",
    "    for pt in pts:\n",
    "        kwargs = {\"color\": \"black\", \n",
    "                  \"size\": 3, \n",
    "                  \"x\": pt[0], \n",
    "                  \"y\": pt[1]}\n",
    "        marker = hs.plot.markers.point(**kwargs)\n",
    "        markers += (marker,)\n",
    "        cropped_cbed_pattern_signal.add_marker(marker, permanent=False)"
   ]
  },
  {
   "cell_type": "code",
   "execution_count": null,
   "id": "ecd4c53e-78a4-40e5-86da-c65da6e17626",
   "metadata": {},
   "outputs": [],
   "source": [
    "kwargs = {\"axes_off\": False, \n",
    "          \"scalebar\": False, \n",
    "          \"colorbar\": False, \n",
    "          \"gamma\": 0.3,\n",
    "          \"cmap\": \"jet\"}\n",
    "cbed_pattern_signal.plot(**kwargs)\n",
    "\n",
    "markers = copy.deepcopy(markers)\n",
    "\n",
    "for marker in markers:\n",
    "    cbed_pattern_signal.add_marker(marker, permanent=False)"
   ]
  },
  {
   "cell_type": "markdown",
   "id": "84c9c73a-4014-49c4-96ae-76f1697ed644",
   "metadata": {},
   "source": [
    "Another attribute is\n",
    "``principal_disk_bounding_box_in_cropped_image_fractional_coords``, which stores\n",
    "the bounding box of the unclipped support of the principal CBED disk, should it\n",
    "exist, in fractional coordinates of the cropped fake CBED pattern:"
   ]
  },
  {
   "cell_type": "code",
   "execution_count": null,
   "id": "3e9bf369-fab6-4f19-a11c-995c2951a42b",
   "metadata": {},
   "outputs": [],
   "source": [
    "attr_name = \\\n",
    "    \"principal_disk_bounding_box_in_cropped_image_fractional_coords\"\n",
    "principal_disk_bounding_box_in_cropped_image_fractional_coords = \\\n",
    "    getattr(cropped_cbed_pattern, attr_name)\n",
    "\n",
    "principal_disk_bounding_box_in_cropped_image_fractional_coords"
   ]
  },
  {
   "cell_type": "markdown",
   "id": "bb3e6eb4-c41f-4bfa-b2c1-038e717aa651",
   "metadata": {},
   "source": [
    "If the principal CBED disk does not exist, then the attribute is set to ``None``.\n",
    "\n",
    "In order to add properly the box to the signal representation of the cropped\n",
    "fake CBED pattern, we need to modify signal axes such that the pixel coordinates\n",
    "are expressed in fractional units of the cropped fake CBED pattern:"
   ]
  },
  {
   "cell_type": "code",
   "execution_count": null,
   "id": "b76124a3-2f4f-48be-afb3-78ef50f97183",
   "metadata": {},
   "outputs": [],
   "source": [
    "N_h = cropped_cbed_pattern_signal.axes_manager[1].size\n",
    "N_v = cropped_cbed_pattern_signal.axes_manager[2].size\n",
    "\n",
    "cropped_cbed_pattern_signal.axes_manager[1].scale = 1/N_h\n",
    "cropped_cbed_pattern_signal.axes_manager[2].scale = -1/N_v\n",
    "\n",
    "cropped_cbed_pattern_signal.axes_manager[1].offset = 0.5/N_h\n",
    "cropped_cbed_pattern_signal.axes_manager[2].offset = 1-(1-0.5)/N_v\n",
    "\n",
    "cropped_cbed_pattern_signal.axes_manager[1].name = (\"fractional horizontal \"\n",
    "                                                    \"coordinate of cropped \"\n",
    "                                                    \"fake CBED pattern\")\n",
    "cropped_cbed_pattern_signal.axes_manager[2].name = (\"fractional vertical \"\n",
    "                                                    \"coordinate of cropped \"\n",
    "                                                    \"fake CBED pattern\")\n",
    "\n",
    "L, R, B, T = principal_disk_bounding_box_in_cropped_image_fractional_coords\n",
    "\n",
    "kwargs = {\"axes_off\": False, \n",
    "          \"scalebar\": False, \n",
    "          \"colorbar\": False, \n",
    "          \"gamma\": 0.3,\n",
    "          \"cmap\": \"jet\"}\n",
    "cropped_cbed_pattern_signal.plot(**kwargs)\n",
    "\n",
    "try:  # For Hyperspy versions >= 2.\n",
    "    x_box = (R+L)/2\n",
    "    y_box = (B+T)/2\n",
    "    box_center = (x_box, y_box)\n",
    "    kwargs = {\"edgecolors\": \"green\",\n",
    "              \"linewidths\": 3, \n",
    "              \"facecolors\": \"none\",\n",
    "              \"offsets\": (box_center,), \n",
    "              \"widths\": (R-L), \n",
    "              \"heights\": (B-T)}\n",
    "    marker = hs.plot.markers.Rectangles(**kwargs)\n",
    "except:  # For Hyperspy versions < 2.\n",
    "    kwargs = {\"edgecolor\": \"green\",\n",
    "              \"linewidth\": 3, \n",
    "              \"x1\": L, \n",
    "              \"x2\": R, \n",
    "              \"y1\": T, \n",
    "              \"y2\": B}\n",
    "    marker = hs.plot.markers.rectangle(**kwargs)\n",
    "\n",
    "cropped_cbed_pattern_signal.add_marker(marker, permanent=False)"
   ]
  },
  {
   "cell_type": "markdown",
   "id": "04be66ce-9e31-4610-941b-e8326c85981a",
   "metadata": {},
   "source": [
    "Lastly, another attribute is\n",
    "``principal_disk_boundary_pts_in_cropped_image_fractional_coords``, which stores\n",
    "a sample of points on the boundary of the unclipped support of the principal\n",
    "CBED disk, should it exist, in fractional coordinates of the cropped fake CBED\n",
    "pattern:"
   ]
  },
  {
   "cell_type": "code",
   "execution_count": null,
   "id": "ad6787ca-c22a-4546-a1d6-8bc89df90bcd",
   "metadata": {},
   "outputs": [],
   "source": [
    "attr_name = \\\n",
    "    \"principal_disk_boundary_pts_in_cropped_image_fractional_coords\"\n",
    "principal_disk_boundary_pts_in_cropped_image_fractional_coords = \\\n",
    "    getattr(cropped_cbed_pattern, attr_name)\n",
    "\n",
    "principal_disk_boundary_pts_in_cropped_image_fractional_coords"
   ]
  },
  {
   "cell_type": "markdown",
   "id": "fdcc74bc-9ec4-469e-923d-610c38cd6c4e",
   "metadata": {},
   "source": [
    "If the principal CBED disk does not exist, then the attribute is set to ``None``.\n",
    "\n",
    "We can add the sample of points to the signal representations of the cropped and\n",
    "uncropped fake CBED patterns:"
   ]
  },
  {
   "cell_type": "code",
   "execution_count": null,
   "id": "5280b166-8806-4322-90f3-3deb4e9fd8d2",
   "metadata": {},
   "outputs": [],
   "source": [
    "pts = principal_disk_boundary_pts_in_cropped_image_fractional_coords.tolist()\n",
    "\n",
    "kwargs = {\"axes_off\": False, \n",
    "          \"scalebar\": False, \n",
    "          \"colorbar\": False, \n",
    "          \"gamma\": 0.3,\n",
    "          \"cmap\": \"jet\"}\n",
    "cropped_cbed_pattern_signal.plot(**kwargs)\n",
    "\n",
    "markers = tuple()\n",
    "\n",
    "try:  # For Hyperspy versions >= 2.\n",
    "    for pt in pts:\n",
    "        kwargs = {\"color\": \"black\", \n",
    "                  \"sizes\": 3, \n",
    "                  \"offsets\": pt}\n",
    "        marker = hs.plot.markers.Points(**kwargs)\n",
    "        markers += (marker,)\n",
    "        cropped_cbed_pattern_signal.add_marker(marker, permanent=False)\n",
    "except:  # For Hyperspy versions < 2.\n",
    "    for pt in pts:\n",
    "        kwargs = {\"color\": \"black\", \n",
    "                  \"size\": 3, \n",
    "                  \"x\": pt[0], \n",
    "                  \"y\": pt[1]}\n",
    "        marker = hs.plot.markers.point(**kwargs)\n",
    "        markers += (marker,)\n",
    "        cropped_cbed_pattern_signal.add_marker(marker, permanent=False)"
   ]
  }
 ],
 "metadata": {
  "kernelspec": {
   "display_name": "Python 3 (ipykernel)",
   "language": "python",
   "name": "python3"
  },
  "language_info": {
   "codemirror_mode": {
    "name": "ipython",
    "version": 3
   },
   "file_extension": ".py",
   "mimetype": "text/x-python",
   "name": "python",
   "nbconvert_exporter": "python",
   "pygments_lexer": "ipython3",
   "version": "3.12.11"
  }
 },
 "nbformat": 4,
 "nbformat_minor": 5
}
