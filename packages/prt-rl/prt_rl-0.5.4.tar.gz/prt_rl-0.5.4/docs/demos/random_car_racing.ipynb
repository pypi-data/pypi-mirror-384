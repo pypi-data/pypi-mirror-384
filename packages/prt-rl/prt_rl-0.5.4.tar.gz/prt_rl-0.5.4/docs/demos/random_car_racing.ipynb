{
 "cells": [
  {
   "cell_type": "markdown",
   "id": "7627341fc510471c",
   "metadata": {},
   "source": [
    "# Random Policy Car Racing Game\n",
    "Shows how to use a random policy for an agent and visualize the environment.\n"
   ]
  },
  {
   "cell_type": "markdown",
   "id": "e810743df18dcf7a",
   "metadata": {},
   "source": [
    "## Set up the environment and prt_rl wrapper\n",
    "Import the Gymnasium robot game and the environment wrapper"
   ]
  },
  {
   "cell_type": "code",
   "execution_count": null,
   "id": "f1126d6bd5b6e9de",
   "metadata": {
    "ExecuteTime": {
     "end_time": "2025-01-10T15:38:45.667369Z",
     "start_time": "2025-01-10T15:38:43.640629Z"
    }
   },
   "outputs": [],
   "source": [
    "from prt_rl.common.policy import RandomPolicy\n",
    "from prt_rl.env.wrappers import GymnasiumWrapper\n",
    "from prt_rl.common.runners import Runner\n",
    "from prt_rl.common.recorders import GifRecorder"
   ]
  },
  {
   "cell_type": "markdown",
   "id": "da2f8c17bd641c32",
   "metadata": {},
   "source": [
    "## Create the environment"
   ]
  },
  {
   "cell_type": "code",
   "execution_count": 2,
   "id": "67b01c8a03bf751a",
   "metadata": {
    "ExecuteTime": {
     "end_time": "2025-01-10T15:38:45.696157Z",
     "start_time": "2025-01-10T15:38:45.674100Z"
    }
   },
   "outputs": [],
   "source": [
    "env = GymnasiumWrapper(\n",
    "    gym_name=\"CarRacing-v3\",\n",
    "    render_mode=\"rgb_array\",\n",
    "    continuous=True,\n",
    ")"
   ]
  },
  {
   "cell_type": "markdown",
   "id": "620b0a89fa61bd80",
   "metadata": {},
   "source": [
    "## Initialize Random policy\n",
    "Create a random policy that takes in the environment parameters."
   ]
  },
  {
   "cell_type": "code",
   "execution_count": 3,
   "id": "2ebac474b913915",
   "metadata": {
    "ExecuteTime": {
     "end_time": "2025-01-10T15:38:45.837300Z",
     "start_time": "2025-01-10T15:38:45.832856Z"
    }
   },
   "outputs": [],
   "source": [
    "policy = RandomPolicy(env_params=env.get_parameters())"
   ]
  },
  {
   "cell_type": "markdown",
   "id": "de0bd098d65ca560",
   "metadata": {},
   "source": [
    "## Create a Runner\n",
    "Run the environment for a single episode until it is done."
   ]
  },
  {
   "cell_type": "code",
   "execution_count": 4,
   "id": "e7d1d86c871daac0",
   "metadata": {
    "ExecuteTime": {
     "end_time": "2025-01-10T15:38:45.896733Z",
     "start_time": "2025-01-10T15:38:45.890499Z"
    }
   },
   "outputs": [],
   "source": [
    "runner = Runner(\n",
    "    env=env,\n",
    "    policy=policy,\n",
    "    recorder=GifRecorder(\n",
    "        filename=\"car_race.gif\",\n",
    "        fps=50\n",
    "    ),\n",
    ")"
   ]
  },
  {
   "cell_type": "code",
   "execution_count": 5,
   "id": "f3174914680b301e",
   "metadata": {
    "ExecuteTime": {
     "end_time": "2025-01-10T15:39:29.000097Z",
     "start_time": "2025-01-10T15:38:45.958282Z"
    }
   },
   "outputs": [],
   "source": [
    "runner.run()"
   ]
  },
  {
   "cell_type": "markdown",
   "id": "c94653879347cc36",
   "metadata": {},
   "source": [
    "![Car Race](car_race.gif)"
   ]
  }
 ],
 "metadata": {
  "kernelspec": {
   "display_name": "Python 3",
   "language": "python",
   "name": "python3"
  },
  "language_info": {
   "codemirror_mode": {
    "name": "ipython",
    "version": 2
   },
   "file_extension": ".py",
   "mimetype": "text/x-python",
   "name": "python",
   "nbconvert_exporter": "python",
   "pygments_lexer": "ipython2",
   "version": "2.7.6"
  }
 },
 "nbformat": 4,
 "nbformat_minor": 5
}
