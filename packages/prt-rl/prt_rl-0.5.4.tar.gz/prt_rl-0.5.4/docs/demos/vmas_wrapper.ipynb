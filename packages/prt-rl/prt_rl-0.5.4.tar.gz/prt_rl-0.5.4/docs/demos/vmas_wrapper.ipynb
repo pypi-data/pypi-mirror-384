{
 "cells": [
  {
   "metadata": {},
   "cell_type": "markdown",
   "source": [
    "# VMAS Environment Wrapper\n",
    "Vectorized Multi-Agent Simulator (VMAS) is a vectorized differentiable simulator designed for efficient Multi-Agent Reinforcement Learning benchmarking. It is comprised of a vectorized 2D physics engine written in PyTorch and a set of challenging multi-robot scenarios. Additional scenarios can be implemented through a simple and modular interface.\n",
    "\n",
    "[1] https://github.com/proroklab/VectorizedMultiAgentSimulator"
   ],
   "id": "f32cdc5b1d2f0144"
  },
  {
   "metadata": {
    "ExecuteTime": {
     "end_time": "2025-01-21T13:14:48.379617Z",
     "start_time": "2025-01-21T13:14:48.375341Z"
    }
   },
   "cell_type": "code",
   "source": [
    "from prt_rl.env.interface import MultiAgentEnvParams\n",
    "from prt_rl.env.wrappers import VmasWrapper\n",
    "from prt_rl.utils.runners import Runner\n",
    "from prt_rl.utils.recorders import GifRecorder\n",
    "from prt_rl.utils.policy import RandomPolicy"
   ],
   "id": "31c18e96a44f752b",
   "outputs": [],
   "execution_count": 18
  },
  {
   "metadata": {
    "ExecuteTime": {
     "end_time": "2025-01-21T13:14:48.405526Z",
     "start_time": "2025-01-21T13:14:48.394644Z"
    }
   },
   "cell_type": "code",
   "source": [
    "env = VmasWrapper(\n",
    "    scenario='discovery',\n",
    "    num_envs=1,\n",
    "    max_steps=100,\n",
    "    render_mode='rgb_array',\n",
    ")\n",
    "\n",
    "print(env.get_parameters())"
   ],
   "id": "831dd8e8c03bdf3b",
   "outputs": [
    {
     "name": "stdout",
     "output_type": "stream",
     "text": [
      "MultiAgentEnvParams(num_agents=5, agent=EnvParams(action_shape=(2,), action_continuous=True, action_min=[-1.0, -1.0], action_max=[1.0, 1.0], observation_shape=(19,), observation_continuous=True, observation_min=[-inf, -inf, -inf, -inf, -inf, -inf, -inf, -inf, -inf, -inf, -inf, -inf, -inf, -inf, -inf, -inf, -inf, -inf, -inf], observation_max=[inf, inf, inf, inf, inf, inf, inf, inf, inf, inf, inf, inf, inf, inf, inf, inf, inf, inf, inf]))\n"
     ]
    }
   ],
   "execution_count": 19
  },
  {
   "metadata": {
    "ExecuteTime": {
     "end_time": "2025-01-21T13:14:48.446477Z",
     "start_time": "2025-01-21T13:14:48.443391Z"
    }
   },
   "cell_type": "code",
   "source": "policy = RandomPolicy(env_params=env.get_parameters())",
   "id": "9d39a5b086d43065",
   "outputs": [],
   "execution_count": 20
  },
  {
   "metadata": {
    "ExecuteTime": {
     "end_time": "2025-01-21T13:14:48.499576Z",
     "start_time": "2025-01-21T13:14:48.493115Z"
    }
   },
   "cell_type": "code",
   "source": [
    "runner = Runner(\n",
    "    env=env,\n",
    "    policy=policy,\n",
    "    recorder=GifRecorder(\n",
    "        filename=\"vmas_wrapper.gif\",\n",
    "        fps=10,\n",
    "    ),\n",
    ")"
   ],
   "id": "dc6dcaa224953237",
   "outputs": [],
   "execution_count": 21
  },
  {
   "metadata": {
    "ExecuteTime": {
     "end_time": "2025-01-21T13:14:53.493255Z",
     "start_time": "2025-01-21T13:14:48.542500Z"
    }
   },
   "cell_type": "code",
   "source": "runner.run()",
   "id": "8a8b021594b19710",
   "outputs": [],
   "execution_count": 22
  },
  {
   "metadata": {},
   "cell_type": "markdown",
   "source": "![VMAS Wrapper](vmas_wrapper.gif)",
   "id": "c6b9f3b7e6a03037"
  }
 ],
 "metadata": {
  "kernelspec": {
   "display_name": "Python 3",
   "language": "python",
   "name": "python3"
  },
  "language_info": {
   "codemirror_mode": {
    "name": "ipython",
    "version": 2
   },
   "file_extension": ".py",
   "mimetype": "text/x-python",
   "name": "python",
   "nbconvert_exporter": "python",
   "pygments_lexer": "ipython2",
   "version": "2.7.6"
  }
 },
 "nbformat": 4,
 "nbformat_minor": 5
}
