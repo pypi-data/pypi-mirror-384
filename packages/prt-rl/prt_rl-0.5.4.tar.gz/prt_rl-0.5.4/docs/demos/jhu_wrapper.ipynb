{
 "cells": [
  {
   "cell_type": "markdown",
   "id": "initial_id",
   "metadata": {
    "collapsed": true
   },
   "source": [
    "# JHU Wrapper Example\n",
    "This examples shows how to configure and run a JHU environmenting using the wrapper. The JHU environments require prt-sim to be installed to work properly."
   ]
  },
  {
   "cell_type": "code",
   "execution_count": 8,
   "id": "d027facf",
   "metadata": {},
   "outputs": [],
   "source": [
    "from prt_sim.jhu.gold_explorer import GoldExplorer\n",
    "from prt_rl.env.wrappers import JhuWrapper\n",
    "from prt_rl.common.policy.random_policy import RandomPolicy\n",
    "from prt_rl.common.runners import Runner\n",
    "from prt_rl.common.recorders import GifRecorder"
   ]
  },
  {
   "cell_type": "markdown",
   "id": "6ff9ed83",
   "metadata": {},
   "source": [
    "## Setup Environment\n",
    "Initialize the wrapper with a JHU environment."
   ]
  },
  {
   "cell_type": "code",
   "execution_count": 9,
   "id": "e913222d",
   "metadata": {},
   "outputs": [],
   "source": [
    "env = JhuWrapper(\n",
    "    environment=GoldExplorer(), \n",
    "    render_mode=\"rgb_array\"\n",
    ")"
   ]
  },
  {
   "cell_type": "markdown",
   "id": "16bec8f6",
   "metadata": {},
   "source": [
    "## Initialize Random Policy\n",
    "Create a random policy that takes in the environment parameters"
   ]
  },
  {
   "cell_type": "code",
   "execution_count": 10,
   "id": "1901e3d1",
   "metadata": {},
   "outputs": [],
   "source": [
    "policy = RandomPolicy(env_params=env.get_parameters())"
   ]
  },
  {
   "cell_type": "markdown",
   "id": "9ab0abcf",
   "metadata": {},
   "source": [
    "## Create a Runner\n",
    "Run the environment for a single episode until it is done and record a gif."
   ]
  },
  {
   "cell_type": "code",
   "execution_count": 11,
   "id": "acaef0af",
   "metadata": {},
   "outputs": [],
   "source": [
    "runner = Runner(\n",
    "    env=env,\n",
    "    policy=policy,\n",
    "    recorder=GifRecorder(\n",
    "        filename='jhu_wrapper.gif'\n",
    "    )\n",
    ")"
   ]
  },
  {
   "cell_type": "code",
   "execution_count": 12,
   "id": "e4d9c34a",
   "metadata": {},
   "outputs": [],
   "source": [
    "runner.run()"
   ]
  },
  {
   "cell_type": "markdown",
   "id": "f1835086",
   "metadata": {},
   "source": [
    "![GoldExplorer](jhu_wrapper.gif)"
   ]
  }
 ],
 "metadata": {
  "kernelspec": {
   "display_name": ".venv",
   "language": "python",
   "name": "python3"
  },
  "language_info": {
   "codemirror_mode": {
    "name": "ipython",
    "version": 3
   },
   "file_extension": ".py",
   "mimetype": "text/x-python",
   "name": "python",
   "nbconvert_exporter": "python",
   "pygments_lexer": "ipython3",
   "version": "3.11.11"
  }
 },
 "nbformat": 4,
 "nbformat_minor": 5
}
