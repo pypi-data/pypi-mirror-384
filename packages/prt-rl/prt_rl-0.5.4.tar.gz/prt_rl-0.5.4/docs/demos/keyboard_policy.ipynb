{
 "cells": [
  {
   "metadata": {},
   "cell_type": "markdown",
   "source": [
    "# Keyboard Policy\n",
    "This demo shows how a human can operate the agent using keyboard commands. The KeyboardPolicy is typically meant for environments with discrete actions. When the agent has continuous action inputs, the keyboard executes the maximum or minimum action in a bang-bang fashion. The KeyboardPolicy can also be used in a blocking or non-blocking mode, where blocking will wait for a key press at each step of the environment, but non-blocking will use the presses as they come."
   ],
   "id": "9c04b1d359014991"
  },
  {
   "metadata": {
    "ExecuteTime": {
     "end_time": "2025-01-10T20:43:09.288556Z",
     "start_time": "2025-01-10T20:43:06.195928Z"
    }
   },
   "cell_type": "code",
   "source": [
    "# Imports for the environment\n",
    "from prt_rl.env.wrappers import JhuWrapper\n",
    "from prt_rl.utils.runners import Runner\n",
    "from prt_sim.jhu.robot_game import RobotGame"
   ],
   "id": "64a08876babebf9a",
   "outputs": [],
   "execution_count": 1
  },
  {
   "metadata": {
    "ExecuteTime": {
     "end_time": "2025-01-10T20:43:09.297124Z",
     "start_time": "2025-01-10T20:43:09.292621Z"
    }
   },
   "cell_type": "code",
   "source": [
    "env = JhuWrapper(\n",
    "    environment=RobotGame(),\n",
    "    render_mode=\"rgb_array\"\n",
    ")"
   ],
   "id": "cbb79b64b0e80d1",
   "outputs": [],
   "execution_count": 2
  },
  {
   "metadata": {},
   "cell_type": "markdown",
   "source": "## Import and Configure KeyboardPolicy\n",
   "id": "e95aab9b99d5e924"
  },
  {
   "metadata": {
    "ExecuteTime": {
     "end_time": "2025-01-10T20:43:09.420153Z",
     "start_time": "2025-01-10T20:43:09.340931Z"
    }
   },
   "cell_type": "code",
   "source": [
    "from prt_rl.utils.policy import KeyboardPolicy\n",
    "policy = KeyboardPolicy(\n",
    "    env_params=env.get_parameters(),\n",
    "    blocking=True,\n",
    "    key_action_map={\n",
    "        'up': 0,\n",
    "        'down': 1,\n",
    "        'left': 2,\n",
    "        'right': 3,\n",
    "    }\n",
    ")"
   ],
   "id": "cdec57fbdc36e223",
   "outputs": [],
   "execution_count": 3
  },
  {
   "metadata": {},
   "cell_type": "markdown",
   "source": "## Configure Runner",
   "id": "6bf9baf36f072ed2"
  },
  {
   "metadata": {
    "ExecuteTime": {
     "end_time": "2025-01-10T20:43:09.430620Z",
     "start_time": "2025-01-10T20:43:09.427540Z"
    }
   },
   "cell_type": "code",
   "source": [
    "from prt_rl.utils.runners import Runner\n",
    "from prt_rl.utils.recorders import GifRecorder\n",
    "from prt_rl.utils.visualizers import PygameVisualizer\n",
    "runner = Runner(\n",
    "    env=env,\n",
    "    policy=policy,\n",
    "    recorder=GifRecorder(\n",
    "        filename=\"keyboard_policy.gif\",\n",
    "        fps=5\n",
    "    ),\n",
    "    visualizer=PygameVisualizer(\n",
    "        fps=5,\n",
    "        caption=\"Robot Game\"\n",
    "    )\n",
    ")"
   ],
   "id": "6e31739da0ef5a42",
   "outputs": [],
   "execution_count": 4
  },
  {
   "metadata": {
    "ExecuteTime": {
     "end_time": "2025-01-10T20:43:16.164999Z",
     "start_time": "2025-01-10T20:43:09.477956Z"
    }
   },
   "cell_type": "code",
   "source": "runner.run()",
   "id": "2b4f9146083b868b",
   "outputs": [],
   "execution_count": 5
  },
  {
   "metadata": {},
   "cell_type": "markdown",
   "source": "![Robot Game](keyboard_policy.gif)",
   "id": "4514940b33e6f8b7"
  }
 ],
 "metadata": {
  "kernelspec": {
   "display_name": "Python 3",
   "language": "python",
   "name": "python3"
  },
  "language_info": {
   "codemirror_mode": {
    "name": "ipython",
    "version": 2
   },
   "file_extension": ".py",
   "mimetype": "text/x-python",
   "name": "python",
   "nbconvert_exporter": "python",
   "pygments_lexer": "ipython2",
   "version": "2.7.6"
  }
 },
 "nbformat": 4,
 "nbformat_minor": 5
}
