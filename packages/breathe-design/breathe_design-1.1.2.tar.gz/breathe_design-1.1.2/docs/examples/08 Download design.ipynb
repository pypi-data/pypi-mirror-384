{
 "cells": [
  {
   "cell_type": "markdown",
   "id": "5dba2f1c",
   "metadata": {},
   "source": [
    "# Download a design file"
   ]
  },
  {
   "cell_type": "markdown",
   "id": "a576936e",
   "metadata": {},
   "source": [
    "In this example we will demonstrate how to download a design file from the Breathe Design. These parameter set can later be used in Breathe Model to run more advanced battery or pack simulations."
   ]
  },
  {
   "cell_type": "code",
   "execution_count": 3,
   "id": "cbd2532a",
   "metadata": {},
   "outputs": [],
   "source": [
    "from breathe_design import api_interface as api"
   ]
  },
  {
   "cell_type": "code",
   "execution_count": 4,
   "id": "abf901df",
   "metadata": {},
   "outputs": [],
   "source": [
    "base_params = api.get_design_parameters(\"Molicel P45B\")"
   ]
  },
  {
   "cell_type": "code",
   "execution_count": 5,
   "id": "1246530f",
   "metadata": {},
   "outputs": [],
   "source": [
    "designs = [\n",
    "    {\"designName\": \"Lower NP\", \"NPratio\": base_params[\"NPratio\"] * 0.95},\n",
    "    {\"designName\": \"Higher NP\", \"NPratio\": base_params[\"NPratio\"] * 1.05},\n",
    "]"
   ]
  },
  {
   "cell_type": "code",
   "execution_count": 6,
   "id": "81a111d0",
   "metadata": {},
   "outputs": [],
   "source": [
    "base_format = api.get_battery_format(\"Molicel P45B\")"
   ]
  },
  {
   "cell_type": "code",
   "execution_count": 7,
   "id": "47c48e6d",
   "metadata": {},
   "outputs": [],
   "source": [
    "smaller_format = api.get_updated_format(\n",
    "    base_battery=\"Molicel P45B\",\n",
    "    name=\"smaller_format\",\n",
    "    height_mm=0.9 * base_format[\"height_mm\"],\n",
    ")"
   ]
  },
  {
   "cell_type": "markdown",
   "id": "6128b7d4",
   "metadata": {},
   "source": [
    "You can save both cells with design as well as format changes. You can now use your virtual designs to run more advanced battery or pack simulations with Breathe Model. \n",
    "You can request access Breathe Model by going to our website: https://www.breathebatteries.com/"
   ]
  },
  {
   "cell_type": "code",
   "execution_count": 8,
   "id": "2d9d8c14",
   "metadata": {},
   "outputs": [],
   "source": [
    "api.download_designs(\n",
    "    base_battery=\"Molicel P45B\",\n",
    "    designs=designs,\n",
    "    formats=[smaller_format],\n",
    "    output_tag=\"design\",\n",
    ")"
   ]
  }
 ],
 "metadata": {
  "kernelspec": {
   "display_name": "Python 3",
   "language": "python",
   "name": "python3"
  },
  "language_info": {
   "codemirror_mode": {
    "name": "ipython",
    "version": 3
   },
   "file_extension": ".py",
   "mimetype": "text/x-python",
   "name": "python",
   "nbconvert_exporter": "python",
   "pygments_lexer": "ipython3",
   "version": "3.11.9"
  }
 },
 "nbformat": 4,
 "nbformat_minor": 5
}
