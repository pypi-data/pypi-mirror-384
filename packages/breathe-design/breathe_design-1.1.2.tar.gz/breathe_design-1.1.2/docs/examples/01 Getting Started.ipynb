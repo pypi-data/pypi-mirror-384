{
 "cells": [
  {
   "cell_type": "markdown",
   "metadata": {},
   "source": [
    "# Getting started\n",
    "In this notebook, we will demonstrate how to use the Breathe Design API to get started."
   ]
  },
  {
   "cell_type": "code",
   "execution_count": 4,
   "metadata": {},
   "outputs": [],
   "source": [
    "from breathe_design import api_interface as api\n",
    "from breathe_design import enable_notebook_plotly\n",
    "\n",
    "enable_notebook_plotly()"
   ]
  },
  {
   "cell_type": "markdown",
   "metadata": {},
   "source": [
    "Lets see what batteries are available on the service"
   ]
  },
  {
   "cell_type": "code",
   "execution_count": 5,
   "metadata": {},
   "outputs": [
    {
     "name": "stdout",
     "output_type": "stream",
     "text": [
      "['Molicel P45B']\n"
     ]
    }
   ],
   "source": [
    "# see what batteries are available on the service\n",
    "batteries = api.get_batteries()\n",
    "print(batteries)"
   ]
  },
  {
   "cell_type": "markdown",
   "metadata": {},
   "source": [
    "Now we can access the design parameters of the battery"
   ]
  },
  {
   "cell_type": "code",
   "execution_count": 11,
   "metadata": {},
   "outputs": [],
   "source": [
    "base_params = api.get_design_parameters(\"Molicel P45B\")"
   ]
  },
  {
   "cell_type": "code",
   "execution_count": 7,
   "metadata": {},
   "outputs": [
    {
     "data": {
      "text/plain": [
       "{'anode': 'Molicel P45B Anode',\n",
       " 'cathode': 'Molicel P45B Cathode',\n",
       " 'NPratio': 1.039106051327928,\n",
       " 'Vmin_V': 2.5,\n",
       " 'Vmax_V': 4.2,\n",
       " 'cathodePorosity': 0.14216134985845785,\n",
       " 'anodePorosity': 0.16663641853607114,\n",
       " 'cathodeThickness_um': 37.483333333333334,\n",
       " 'anodeThickness_um': 48.900000000000006,\n",
       " 'copperThickness_um': 11.2,\n",
       " 'aluminumThickness_um': 22.2,\n",
       " 'separatorThickness_um': 16.8,\n",
       " 'format': 'Molicel P45B',\n",
       " 'electrolyte': 'LP30',\n",
       " 'electrolyteBuffer_rel': 0.2,\n",
       " 'lampe': 0,\n",
       " 'lamne': 0,\n",
       " 'lli': 0}"
      ]
     },
     "execution_count": 7,
     "metadata": {},
     "output_type": "execute_result"
    }
   ],
   "source": [
    "base_params"
   ]
  },
  {
   "cell_type": "markdown",
   "metadata": {},
   "source": [
    "And finally, let's get the equilibrium KPIs for the battery. These are a high level summary of the battery's performance without doing any cycling."
   ]
  },
  {
   "cell_type": "code",
   "execution_count": null,
   "metadata": {},
   "outputs": [],
   "source": [
    "eqm_kpis = api.get_eqm_kpis(\"Molicel P45B\")"
   ]
  },
  {
   "cell_type": "code",
   "execution_count": null,
   "metadata": {},
   "outputs": [],
   "source": [
    "eqm_kpis.get_kpis()"
   ]
  },
  {
   "cell_type": "markdown",
   "metadata": {},
   "source": [
    "The sensitivities of the battery's performance to changes in its design can be calculated using the get_sensitivities function."
   ]
  },
  {
   "cell_type": "code",
   "execution_count": null,
   "metadata": {},
   "outputs": [],
   "source": [
    "eqm_kpis.plot_sensitivities()"
   ]
  },
  {
   "cell_type": "markdown",
   "metadata": {},
   "source": [
    "This view shows how sensitive each equilibrium KPI (x-axis) is to a given adjustable cell-design parameter (y-axis).  \n",
    "Each cell is a normalised sensitivity relative to the baseline cell, capturing both direction and strength of impact.\n",
    "\n",
    "- Green = increase in the KPI (uplift vs. baseline)  \n",
    "- Grey = decrease in the KPI (reduction vs. baseline)  \n",
    "- Whiter/near zero = little to no effect  \n",
    "- Larger absolute values = stronger sensitivity\n",
    "\n",
    "\n",
    "- Scan across a row to see which KPIs respond most to changing that parameter.  \n",
    "- Scan down a column to spot the parameters that most influence that KPI.\n"
   ]
  }
 ],
 "metadata": {
  "kernelspec": {
   "display_name": "Python 3",
   "language": "python",
   "name": "python3"
  },
  "language_info": {
   "codemirror_mode": {
    "name": "ipython",
    "version": 3
   },
   "file_extension": ".py",
   "mimetype": "text/x-python",
   "name": "python",
   "nbconvert_exporter": "python",
   "pygments_lexer": "ipython3",
   "version": "3.11.9"
  }
 },
 "nbformat": 4,
 "nbformat_minor": 2
}
