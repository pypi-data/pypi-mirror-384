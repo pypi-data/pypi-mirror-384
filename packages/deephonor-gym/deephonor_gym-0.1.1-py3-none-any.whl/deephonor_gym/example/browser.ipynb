{
 "cells": [
  {
   "cell_type": "code",
   "execution_count": null,
   "id": "f37b2628",
   "metadata": {},
   "outputs": [],
   "source": [
    "# Copyright (C) [2025] [DingGuohua]\n",
    "#\n",
    "# This program is free software: you can redistribute it and/or modify\n",
    "# it under the terms of the GNU Affero General Public License as published\n",
    "# by the Free Software Foundation, either version 3 of the License, or\n",
    "# (at your option) any later version.\n",
    "#\n",
    "# This program is distributed in the hope that it will be useful,\n",
    "# but WITHOUT ANY WARRANTY; without even the implied warranty of\n",
    "# MERCHANTABILITY or FITNESS FOR A PARTICULAR PURPOSE.  See the\n",
    "# GNU Affero General Public License for more details.\n",
    "#\n",
    "# You should have received a copy of the GNU Affero General Public License\n",
    "# along with this program.  If not, see <https://www.gnu.org/licenses/>."
   ]
  },
  {
   "cell_type": "markdown",
   "id": "6d50293e",
   "metadata": {},
   "source": [
    "# 训练教程\n",
    "以 stable_baselines3 为例，在 deephonor_gym 平台上训练\n",
    "\n",
    "1、连接网页"
   ]
  },
  {
   "cell_type": "code",
   "execution_count": 1,
   "id": "2bb8d09f",
   "metadata": {},
   "outputs": [
    {
     "name": "stdout",
     "output_type": "stream",
     "text": [
      "🌐 正在打开浏览器: http://localhost:8000/index.html\n",
      "\n",
      "🚀 服务器已启动在 http://localhost:8000\n",
      "🛑 按 Ctrl+C 停止服务器\n",
      "\n",
      "\n",
      "🛑 正在关闭服务器...\n",
      "✅ 服务器已停止\n"
     ]
    }
   ],
   "source": [
    "from deephonor_gym import open_browser\n",
    "open_browser() # 打开网页"
   ]
  }
 ],
 "metadata": {
  "kernelspec": {
   "display_name": "RL",
   "language": "python",
   "name": "python3"
  },
  "language_info": {
   "codemirror_mode": {
    "name": "ipython",
    "version": 3
   },
   "file_extension": ".py",
   "mimetype": "text/x-python",
   "name": "python",
   "nbconvert_exporter": "python",
   "pygments_lexer": "ipython3",
   "version": "3.9.22"
  }
 },
 "nbformat": 4,
 "nbformat_minor": 5
}
