{
 "cells": [
  {
   "cell_type": "markdown",
   "metadata": {},
   "source": [
    "# SBML creator\n",
    "`sbmlutils` provides helpers for the creation of SBML models from scratch."
   ]
  },
  {
   "cell_type": "markdown",
   "metadata": {
    "pycharm": {
     "name": "#%% md\n"
    }
   },
   "source": [
    "## Create model\n",
    "The easist way to create a new model is by using a dictionary of information for the model creation."
   ]
  },
  {
   "cell_type": "code",
   "execution_count": 1,
   "metadata": {},
   "source": [
    "from pathlib import Path\n",
    "from sbmlutils.io import read_sbml, write_sbml, validate_sbml\n",
    "\n",
    "from sbmlutils.factory import *\n",
    "from sbmlutils.metadata import *\n",
    "\n",
    "import tempfile"
   ],
   "outputs": []
  },
  {
   "cell_type": "code",
   "execution_count": 2,
   "metadata": {
    "pycharm": {
     "name": "#%%\n"
    }
   },
   "source": [
    "model = Model(\n",
    "    \"example_model\",\n",
    "    name=\"Example model\",\n",
    "    units=Units,\n",
    "    model_units = ModelUnits(\n",
    "        time=Units.second,\n",
    "        substance=Units.mole,\n",
    "        extent=Units.mole,\n",
    "        volume=Units.litre,\n",
    "    ),\n",
    "    compartments = [Compartment(sid=\"C\", value=1.0)],\n",
    "    species = [\n",
    "        Species(\n",
    "            sid=\"S1\",\n",
    "            initialConcentration=10.0,\n",
    "            compartment=\"C\",\n",
    "            hasOnlySubstanceUnits=False,\n",
    "        ),\n",
    "        Species(\n",
    "            sid=\"S2\",\n",
    "            initialConcentration=0.0,\n",
    "            compartment=\"C\",\n",
    "            hasOnlySubstanceUnits=False,\n",
    "        )\n",
    "    ],\n",
    "    parameters = [Parameter(sid=\"k1\", value=1.0)],\n",
    "    reactions = [\n",
    "        Reaction(sid=\"R1\", equation=\"S1 -> S2\", formula=(\"k1 * S1\", None))\n",
    "    ],\n",
    ")\n",
    "\n",
    "# create the model as L3V1\n",
    "with tempfile.TemporaryDirectory() as tmp_path:\n",
    "    results = create_model(\n",
    "        model=model,\n",
    "        filepath=Path(tmp_path) / f\"{model.sid}.xml\",\n",
    "        validation_options=ValidationOptions(units_consistency=False),\n",
    "        sbml_level=3,\n",
    "        sbml_version=1,\n",
    "    )\n",
    "    # show level and version and print SBML\n",
    "    doc = read_sbml(source=results.sbml_path, validate=False)\n",
    "    sbml = write_sbml(doc)\n",
    "    print(sbml)"
   ],
   "outputs": []
  },
  {
   "cell_type": "markdown",
   "metadata": {},
   "source": [
    "## Units\n",
    "It is highly recommended to annotate all units in the model. This allows automatic unit validation and unit conversions with the model.\n",
    "\n",
    "Units are defined by subclassing the `Units` class. This provides the default SBML units and allows for code completion with units. Units are defined as attributes on the Units subclass."
   ]
  },
  {
   "cell_type": "code",
   "execution_count": 3,
   "metadata": {},
   "source": [
    "class U(Units):\n",
    "    \"\"\"UnitDefinitions.\"\"\"\n",
    "    \n",
    "    mmole = UnitDefinition(\"mmole\", \"mmole\")\n",
    "    mmole_per_min = UnitDefinition(\"mmole_per_min\", \"mmole/min\")\n"
   ],
   "outputs": []
  },
  {
   "cell_type": "markdown",
   "metadata": {
    "pycharm": {
     "name": "#%% md\n"
    }
   },
   "source": [
    "## SBML Levels and Versions\n",
    "Models can be generated in all SBML levels and versions via the `create_model` function."
   ]
  },
  {
   "cell_type": "code",
   "execution_count": 4,
   "metadata": {
    "pycharm": {
     "name": "#%%\n"
    }
   },
   "source": [
    "from sbmlutils.io import read_sbml, write_sbml, validate_sbml\n",
    "\n",
    "from sbmlutils.factory import *\n",
    "from sbmlutils.metadata import *\n",
    "\n",
    "import tempfile"
   ],
   "outputs": []
  },
  {
   "cell_type": "code",
   "execution_count": 5,
   "metadata": {
    "pycharm": {
     "name": "#%%\n"
    }
   },
   "source": [
    "# model definition\n",
    "md: ModelDict = {\n",
    "    \"sid\": \"level_version\",\n",
    "    \"units\": U,\n",
    "    \"model_units\": ModelUnits(\n",
    "        time=U.second,\n",
    "        substance=U.mole,\n",
    "        extent=U.mole,\n",
    "        volume=U.liter,\n",
    "    ),\n",
    "    \"compartments\": [Compartment(sid=\"C\", value=1.0)],\n",
    "    \"species\": [\n",
    "        Species(\n",
    "            sid=\"S1\",\n",
    "            initialConcentration=10.0,\n",
    "            compartment=\"C\",\n",
    "            hasOnlySubstanceUnits=False,\n",
    "            boundaryCondition=True,\n",
    "        )\n",
    "    ],\n",
    "    \"parameters\": [Parameter(sid=\"k1\", value=1.0)],\n",
    "    \"reactions\": [\n",
    "        Reaction(sid=\"R1\", equation=\"S1 ->\", formula=(\"k1 * S1\", None))\n",
    "    ],\n",
    "}\n",
    "\n",
    "supported_level_version = [\n",
    "    (1, 1), (1, 2),\n",
    "    (2, 1), (2, 2), (2, 3), (2, 4), (2, 5),\n",
    "    (3, 1), (3, 2),\n",
    "]\n",
    "\n",
    "with tempfile.TemporaryDirectory() as tmp_path:\n",
    "\n",
    "    for level, version in supported_level_version:\n",
    "        # inject information\n",
    "        md[\"sid\"] = f\"L{level}V{version}\"\n",
    "        results = create_model(\n",
    "            model=Model(**md),\n",
    "            filepath=Path(tmp_path) / f\"{model.sid}.xml\",\n",
    "            validation_options=ValidationOptions(units_consistency=False),\n",
    "            sbml_level=level,\n",
    "            sbml_version=version,\n",
    "        )\n",
    "        doc = read_sbml(source=results.sbml_path, validate=False)\n",
    "        print(f\"L{doc.getLevel()}V{doc.getVersion()}\")\n",
    "        if level == 3 and version == 1:\n",
    "            sbml = write_sbml(doc)\n",
    "            print(\"-\" * 80)\n",
    "            print(sbml)\n"
   ],
   "outputs": []
  },
  {
   "cell_type": "code",
   "execution_count": null,
   "metadata": {},
   "source": [],
   "outputs": []
  }
 ],
 "metadata": {
  "kernelspec": {
   "display_name": "sbmlutils",
   "language": "python",
   "name": "sbmlutils"
  },
  "language_info": {
   "codemirror_mode": {
    "name": "ipython",
    "version": 3
   },
   "file_extension": ".py",
   "mimetype": "text/x-python",
   "name": "python",
   "nbconvert_exporter": "python",
   "pygments_lexer": "ipython3",
   "version": "3.9.16"
  }
 },
 "nbformat": 4,
 "nbformat_minor": 4
}
