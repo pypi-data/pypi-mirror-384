{
 "cells": [
  {
   "cell_type": "markdown",
   "metadata": {},
   "source": [
    "# SBML converters\n",
    "`sbmlutils` provides functionality for converting formats to SBML and SBML to some formats."
   ]
  },
  {
   "cell_type": "markdown",
   "metadata": {},
   "source": [
    "## XPP to SBML\n",
    "In this example a given xpp model is converted to SBML."
   ]
  },
  {
   "cell_type": "code",
   "execution_count": 1,
   "metadata": {},
   "outputs": [
    {
     "name": "stdout",
     "output_type": "stream",
     "text": [
      "--------------------------------------------------------------------------------\n",
      "xpp2sbml:  ./xpp/SkM_AP_KCa.ode -> ./xpp/SkM_AP_KCa.xml\n",
      "--------------------------------------------------------------------------------\n"
     ]
    },
    {
     "data": {
      "text/html": [
       "<pre style=\"white-space:pre;overflow-x:auto;line-height:normal;font-family:Menlo,'DejaVu Sans Mono',consolas,'Courier New',monospace\"><span style=\"color: #800000; text-decoration-color: #800000\">WARNING </span> <span style=\"color: #008000; text-decoration-color: #008000\">'sboTerm'</span> should be set on <span style=\"color: #008000; text-decoration-color: #008000\">'&lt;Parameter Vm|Vm = -75&gt;'</span>                  <a href=\"file:///home/mkoenig/git/sbmlutils/src/sbmlutils/factory.py\"><span style=\"color: #7f7f7f; text-decoration-color: #7f7f7f\">factory.py</span></a><span style=\"color: #7f7f7f; text-decoration-color: #7f7f7f\">:461</span>\n",
       "</pre>\n"
      ],
      "text/plain": [
       "\u001b[31mWARNING \u001b[0m \u001b[32m'sboTerm'\u001b[0m should be set on \u001b[32m'\u001b[0m\u001b[32m<\u001b[0m\u001b[32mParameter\u001b[0m\u001b[32m Vm|Vm = -75\u001b[0m\u001b[32m>\u001b[0m\u001b[32m'\u001b[0m                  \u001b]8;id=693175;file:///home/mkoenig/git/sbmlutils/src/sbmlutils/factory.py\u001b\\\u001b[2mfactory.py\u001b[0m\u001b]8;;\u001b\\\u001b[2m:461\u001b[0m\n"
      ]
     },
     "metadata": {},
     "output_type": "display_data"
    },
    {
     "data": {
      "text/html": [
       "<pre style=\"white-space:pre;overflow-x:auto;line-height:normal;font-family:Menlo,'DejaVu Sans Mono',consolas,'Courier New',monospace\"><span style=\"color: #800000; text-decoration-color: #800000\">WARNING </span> <span style=\"color: #008000; text-decoration-color: #008000\">'sboTerm'</span> should be set on <span style=\"color: #008000; text-decoration-color: #008000\">'&lt;Parameter m|m = 0.0&gt;'</span>                    <a href=\"file:///home/mkoenig/git/sbmlutils/src/sbmlutils/factory.py\"><span style=\"color: #7f7f7f; text-decoration-color: #7f7f7f\">factory.py</span></a><span style=\"color: #7f7f7f; text-decoration-color: #7f7f7f\">:461</span>\n",
       "</pre>\n"
      ],
      "text/plain": [
       "\u001b[31mWARNING \u001b[0m \u001b[32m'sboTerm'\u001b[0m should be set on \u001b[32m'\u001b[0m\u001b[32m<\u001b[0m\u001b[32mParameter\u001b[0m\u001b[32m m|m = 0.0\u001b[0m\u001b[32m>\u001b[0m\u001b[32m'\u001b[0m                    \u001b]8;id=452265;file:///home/mkoenig/git/sbmlutils/src/sbmlutils/factory.py\u001b\\\u001b[2mfactory.py\u001b[0m\u001b]8;;\u001b\\\u001b[2m:461\u001b[0m\n"
      ]
     },
     "metadata": {},
     "output_type": "display_data"
    },
    {
     "data": {
      "text/html": [
       "<pre style=\"white-space:pre;overflow-x:auto;line-height:normal;font-family:Menlo,'DejaVu Sans Mono',consolas,'Courier New',monospace\"><span style=\"color: #800000; text-decoration-color: #800000\">WARNING </span> <span style=\"color: #008000; text-decoration-color: #008000\">'sboTerm'</span> should be set on <span style=\"color: #008000; text-decoration-color: #008000\">'&lt;Parameter h|h = 1.0&gt;'</span>                    <a href=\"file:///home/mkoenig/git/sbmlutils/src/sbmlutils/factory.py\"><span style=\"color: #7f7f7f; text-decoration-color: #7f7f7f\">factory.py</span></a><span style=\"color: #7f7f7f; text-decoration-color: #7f7f7f\">:461</span>\n",
       "</pre>\n"
      ],
      "text/plain": [
       "\u001b[31mWARNING \u001b[0m \u001b[32m'sboTerm'\u001b[0m should be set on \u001b[32m'\u001b[0m\u001b[32m<\u001b[0m\u001b[32mParameter\u001b[0m\u001b[32m h|h = 1.0\u001b[0m\u001b[32m>\u001b[0m\u001b[32m'\u001b[0m                    \u001b]8;id=786234;file:///home/mkoenig/git/sbmlutils/src/sbmlutils/factory.py\u001b\\\u001b[2mfactory.py\u001b[0m\u001b]8;;\u001b\\\u001b[2m:461\u001b[0m\n"
      ]
     },
     "metadata": {},
     "output_type": "display_data"
    },
    {
     "data": {
      "text/html": [
       "<pre style=\"white-space:pre;overflow-x:auto;line-height:normal;font-family:Menlo,'DejaVu Sans Mono',consolas,'Courier New',monospace\"><span style=\"color: #800000; text-decoration-color: #800000\">WARNING </span> <span style=\"color: #008000; text-decoration-color: #008000\">'sboTerm'</span> should be set on <span style=\"color: #008000; text-decoration-color: #008000\">'&lt;Parameter n|n = 0.0&gt;'</span>                    <a href=\"file:///home/mkoenig/git/sbmlutils/src/sbmlutils/factory.py\"><span style=\"color: #7f7f7f; text-decoration-color: #7f7f7f\">factory.py</span></a><span style=\"color: #7f7f7f; text-decoration-color: #7f7f7f\">:461</span>\n",
       "</pre>\n"
      ],
      "text/plain": [
       "\u001b[31mWARNING \u001b[0m \u001b[32m'sboTerm'\u001b[0m should be set on \u001b[32m'\u001b[0m\u001b[32m<\u001b[0m\u001b[32mParameter\u001b[0m\u001b[32m n|n = 0.0\u001b[0m\u001b[32m>\u001b[0m\u001b[32m'\u001b[0m                    \u001b]8;id=839572;file:///home/mkoenig/git/sbmlutils/src/sbmlutils/factory.py\u001b\\\u001b[2mfactory.py\u001b[0m\u001b]8;;\u001b\\\u001b[2m:461\u001b[0m\n"
      ]
     },
     "metadata": {},
     "output_type": "display_data"
    },
    {
     "data": {
      "text/html": [
       "<pre style=\"white-space:pre;overflow-x:auto;line-height:normal;font-family:Menlo,'DejaVu Sans Mono',consolas,'Courier New',monospace\"><span style=\"color: #800000; text-decoration-color: #800000\">WARNING </span> <span style=\"color: #008000; text-decoration-color: #008000\">'sboTerm'</span> should be set on <span style=\"color: #008000; text-decoration-color: #008000\">'&lt;Parameter Vt|Vt = -70&gt;'</span>                  <a href=\"file:///home/mkoenig/git/sbmlutils/src/sbmlutils/factory.py\"><span style=\"color: #7f7f7f; text-decoration-color: #7f7f7f\">factory.py</span></a><span style=\"color: #7f7f7f; text-decoration-color: #7f7f7f\">:461</span>\n",
       "</pre>\n"
      ],
      "text/plain": [
       "\u001b[31mWARNING \u001b[0m \u001b[32m'sboTerm'\u001b[0m should be set on \u001b[32m'\u001b[0m\u001b[32m<\u001b[0m\u001b[32mParameter\u001b[0m\u001b[32m Vt|Vt = -70\u001b[0m\u001b[32m>\u001b[0m\u001b[32m'\u001b[0m                  \u001b]8;id=796597;file:///home/mkoenig/git/sbmlutils/src/sbmlutils/factory.py\u001b\\\u001b[2mfactory.py\u001b[0m\u001b]8;;\u001b\\\u001b[2m:461\u001b[0m\n"
      ]
     },
     "metadata": {},
     "output_type": "display_data"
    },
    {
     "data": {
      "text/html": [
       "<pre style=\"white-space:pre;overflow-x:auto;line-height:normal;font-family:Menlo,'DejaVu Sans Mono',consolas,'Courier New',monospace\"><span style=\"color: #800000; text-decoration-color: #800000\">WARNING </span> <span style=\"color: #008000; text-decoration-color: #008000\">'sboTerm'</span> should be set on <span style=\"color: #008000; text-decoration-color: #008000\">'&lt;Parameter c|c = 0.15&gt;'</span>                   <a href=\"file:///home/mkoenig/git/sbmlutils/src/sbmlutils/factory.py\"><span style=\"color: #7f7f7f; text-decoration-color: #7f7f7f\">factory.py</span></a><span style=\"color: #7f7f7f; text-decoration-color: #7f7f7f\">:461</span>\n",
       "</pre>\n"
      ],
      "text/plain": [
       "\u001b[31mWARNING \u001b[0m \u001b[32m'sboTerm'\u001b[0m should be set on \u001b[32m'\u001b[0m\u001b[32m<\u001b[0m\u001b[32mParameter\u001b[0m\u001b[32m c|c = 0.15\u001b[0m\u001b[32m>\u001b[0m\u001b[32m'\u001b[0m                   \u001b]8;id=165812;file:///home/mkoenig/git/sbmlutils/src/sbmlutils/factory.py\u001b\\\u001b[2mfactory.py\u001b[0m\u001b]8;;\u001b\\\u001b[2m:461\u001b[0m\n"
      ]
     },
     "metadata": {},
     "output_type": "display_data"
    },
    {
     "data": {
      "text/html": [
       "<pre style=\"white-space:pre;overflow-x:auto;line-height:normal;font-family:Menlo,'DejaVu Sans Mono',consolas,'Courier New',monospace\"><span style=\"color: #800000; text-decoration-color: #800000\">WARNING </span> <span style=\"color: #008000; text-decoration-color: #008000\">'sboTerm'</span> should be set on <span style=\"color: #008000; text-decoration-color: #008000\">'&lt;Parameter o|o = 0.15&gt;'</span>                   <a href=\"file:///home/mkoenig/git/sbmlutils/src/sbmlutils/factory.py\"><span style=\"color: #7f7f7f; text-decoration-color: #7f7f7f\">factory.py</span></a><span style=\"color: #7f7f7f; text-decoration-color: #7f7f7f\">:461</span>\n",
       "</pre>\n"
      ],
      "text/plain": [
       "\u001b[31mWARNING \u001b[0m \u001b[32m'sboTerm'\u001b[0m should be set on \u001b[32m'\u001b[0m\u001b[32m<\u001b[0m\u001b[32mParameter\u001b[0m\u001b[32m o|o = 0.15\u001b[0m\u001b[32m>\u001b[0m\u001b[32m'\u001b[0m                   \u001b]8;id=669802;file:///home/mkoenig/git/sbmlutils/src/sbmlutils/factory.py\u001b\\\u001b[2mfactory.py\u001b[0m\u001b]8;;\u001b\\\u001b[2m:461\u001b[0m\n"
      ]
     },
     "metadata": {},
     "output_type": "display_data"
    },
    {
     "data": {
      "text/html": [
       "<pre style=\"white-space:pre;overflow-x:auto;line-height:normal;font-family:Menlo,'DejaVu Sans Mono',consolas,'Courier New',monospace\"><span style=\"color: #800000; text-decoration-color: #800000\">WARNING </span> <span style=\"color: #008000; text-decoration-color: #008000\">'sboTerm'</span> should be set on <span style=\"color: #008000; text-decoration-color: #008000\">'&lt;Parameter cer|cer = 200&gt;'</span>                <a href=\"file:///home/mkoenig/git/sbmlutils/src/sbmlutils/factory.py\"><span style=\"color: #7f7f7f; text-decoration-color: #7f7f7f\">factory.py</span></a><span style=\"color: #7f7f7f; text-decoration-color: #7f7f7f\">:461</span>\n",
       "</pre>\n"
      ],
      "text/plain": [
       "\u001b[31mWARNING \u001b[0m \u001b[32m'sboTerm'\u001b[0m should be set on \u001b[32m'\u001b[0m\u001b[32m<\u001b[0m\u001b[32mParameter\u001b[0m\u001b[32m cer|cer = 200\u001b[0m\u001b[32m>\u001b[0m\u001b[32m'\u001b[0m                \u001b]8;id=275311;file:///home/mkoenig/git/sbmlutils/src/sbmlutils/factory.py\u001b\\\u001b[2mfactory.py\u001b[0m\u001b]8;;\u001b\\\u001b[2m:461\u001b[0m\n"
      ]
     },
     "metadata": {},
     "output_type": "display_data"
    },
    {
     "data": {
      "text/html": [
       "<pre style=\"white-space:pre;overflow-x:auto;line-height:normal;font-family:Menlo,'DejaVu Sans Mono',consolas,'Courier New',monospace\"><span style=\"color: #800000; text-decoration-color: #800000\">WARNING </span> <span style=\"color: #008000; text-decoration-color: #008000\">'sboTerm'</span> should be set on <span style=\"color: #008000; text-decoration-color: #008000\">'&lt;Parameter gNa_max|gNa_max = 0.9&gt;'</span>        <a href=\"file:///home/mkoenig/git/sbmlutils/src/sbmlutils/factory.py\"><span style=\"color: #7f7f7f; text-decoration-color: #7f7f7f\">factory.py</span></a><span style=\"color: #7f7f7f; text-decoration-color: #7f7f7f\">:461</span>\n",
       "</pre>\n"
      ],
      "text/plain": [
       "\u001b[31mWARNING \u001b[0m \u001b[32m'sboTerm'\u001b[0m should be set on \u001b[32m'\u001b[0m\u001b[32m<\u001b[0m\u001b[32mParameter\u001b[0m\u001b[32m gNa_max|gNa_max = 0.9\u001b[0m\u001b[32m>\u001b[0m\u001b[32m'\u001b[0m        \u001b]8;id=511404;file:///home/mkoenig/git/sbmlutils/src/sbmlutils/factory.py\u001b\\\u001b[2mfactory.py\u001b[0m\u001b]8;;\u001b\\\u001b[2m:461\u001b[0m\n"
      ]
     },
     "metadata": {},
     "output_type": "display_data"
    },
    {
     "data": {
      "text/html": [
       "<pre style=\"white-space:pre;overflow-x:auto;line-height:normal;font-family:Menlo,'DejaVu Sans Mono',consolas,'Courier New',monospace\"><span style=\"color: #800000; text-decoration-color: #800000\">WARNING </span> <span style=\"color: #008000; text-decoration-color: #008000\">'sboTerm'</span> should be set on <span style=\"color: #008000; text-decoration-color: #008000\">'&lt;Parameter gcabar|gcabar = 0.05&gt;'</span>         <a href=\"file:///home/mkoenig/git/sbmlutils/src/sbmlutils/factory.py\"><span style=\"color: #7f7f7f; text-decoration-color: #7f7f7f\">factory.py</span></a><span style=\"color: #7f7f7f; text-decoration-color: #7f7f7f\">:461</span>\n",
       "</pre>\n"
      ],
      "text/plain": [
       "\u001b[31mWARNING \u001b[0m \u001b[32m'sboTerm'\u001b[0m should be set on \u001b[32m'\u001b[0m\u001b[32m<\u001b[0m\u001b[32mParameter\u001b[0m\u001b[32m gcabar|gcabar = 0.05\u001b[0m\u001b[32m>\u001b[0m\u001b[32m'\u001b[0m         \u001b]8;id=481701;file:///home/mkoenig/git/sbmlutils/src/sbmlutils/factory.py\u001b\\\u001b[2mfactory.py\u001b[0m\u001b]8;;\u001b\\\u001b[2m:461\u001b[0m\n"
      ]
     },
     "metadata": {},
     "output_type": "display_data"
    },
    {
     "data": {
      "text/html": [
       "<pre style=\"white-space:pre;overflow-x:auto;line-height:normal;font-family:Menlo,'DejaVu Sans Mono',consolas,'Courier New',monospace\"><span style=\"color: #800000; text-decoration-color: #800000\">WARNING </span> <span style=\"color: #008000; text-decoration-color: #008000\">'sboTerm'</span> should be set on <span style=\"color: #008000; text-decoration-color: #008000\">'&lt;Parameter gK_max|gK_max = 0.415&gt;'</span>        <a href=\"file:///home/mkoenig/git/sbmlutils/src/sbmlutils/factory.py\"><span style=\"color: #7f7f7f; text-decoration-color: #7f7f7f\">factory.py</span></a><span style=\"color: #7f7f7f; text-decoration-color: #7f7f7f\">:461</span>\n",
       "</pre>\n"
      ],
      "text/plain": [
       "\u001b[31mWARNING \u001b[0m \u001b[32m'sboTerm'\u001b[0m should be set on \u001b[32m'\u001b[0m\u001b[32m<\u001b[0m\u001b[32mParameter\u001b[0m\u001b[32m gK_max|gK_max = 0.415\u001b[0m\u001b[32m>\u001b[0m\u001b[32m'\u001b[0m        \u001b]8;id=328541;file:///home/mkoenig/git/sbmlutils/src/sbmlutils/factory.py\u001b\\\u001b[2mfactory.py\u001b[0m\u001b]8;;\u001b\\\u001b[2m:461\u001b[0m\n"
      ]
     },
     "metadata": {},
     "output_type": "display_data"
    },
    {
     "data": {
      "text/html": [
       "<pre style=\"white-space:pre;overflow-x:auto;line-height:normal;font-family:Menlo,'DejaVu Sans Mono',consolas,'Courier New',monospace\"><span style=\"color: #800000; text-decoration-color: #800000\">WARNING </span> <span style=\"color: #008000; text-decoration-color: #008000\">'sboTerm'</span> should be set on <span style=\"color: #008000; text-decoration-color: #008000\">'&lt;Parameter gL_max|gL_max = 0.0024&gt;'</span>       <a href=\"file:///home/mkoenig/git/sbmlutils/src/sbmlutils/factory.py\"><span style=\"color: #7f7f7f; text-decoration-color: #7f7f7f\">factory.py</span></a><span style=\"color: #7f7f7f; text-decoration-color: #7f7f7f\">:461</span>\n",
       "</pre>\n"
      ],
      "text/plain": [
       "\u001b[31mWARNING \u001b[0m \u001b[32m'sboTerm'\u001b[0m should be set on \u001b[32m'\u001b[0m\u001b[32m<\u001b[0m\u001b[32mParameter\u001b[0m\u001b[32m gL_max|gL_max = 0.0024\u001b[0m\u001b[32m>\u001b[0m\u001b[32m'\u001b[0m       \u001b]8;id=77365;file:///home/mkoenig/git/sbmlutils/src/sbmlutils/factory.py\u001b\\\u001b[2mfactory.py\u001b[0m\u001b]8;;\u001b\\\u001b[2m:461\u001b[0m\n"
      ]
     },
     "metadata": {},
     "output_type": "display_data"
    },
    {
     "data": {
      "text/html": [
       "<pre style=\"white-space:pre;overflow-x:auto;line-height:normal;font-family:Menlo,'DejaVu Sans Mono',consolas,'Courier New',monospace\"><span style=\"color: #800000; text-decoration-color: #800000\">WARNING </span> <span style=\"color: #008000; text-decoration-color: #008000\">'sboTerm'</span> should be set on <span style=\"color: #008000; text-decoration-color: #008000\">'&lt;Parameter gkca|gkca = 0.5&gt;'</span>              <a href=\"file:///home/mkoenig/git/sbmlutils/src/sbmlutils/factory.py\"><span style=\"color: #7f7f7f; text-decoration-color: #7f7f7f\">factory.py</span></a><span style=\"color: #7f7f7f; text-decoration-color: #7f7f7f\">:461</span>\n",
       "</pre>\n"
      ],
      "text/plain": [
       "\u001b[31mWARNING \u001b[0m \u001b[32m'sboTerm'\u001b[0m should be set on \u001b[32m'\u001b[0m\u001b[32m<\u001b[0m\u001b[32mParameter\u001b[0m\u001b[32m gkca|gkca = 0.5\u001b[0m\u001b[32m>\u001b[0m\u001b[32m'\u001b[0m              \u001b]8;id=876537;file:///home/mkoenig/git/sbmlutils/src/sbmlutils/factory.py\u001b\\\u001b[2mfactory.py\u001b[0m\u001b]8;;\u001b\\\u001b[2m:461\u001b[0m\n"
      ]
     },
     "metadata": {},
     "output_type": "display_data"
    },
    {
     "data": {
      "text/html": [
       "<pre style=\"white-space:pre;overflow-x:auto;line-height:normal;font-family:Menlo,'DejaVu Sans Mono',consolas,'Courier New',monospace\"><span style=\"color: #800000; text-decoration-color: #800000\">WARNING </span> <span style=\"color: #008000; text-decoration-color: #008000\">'sboTerm'</span> should be set on <span style=\"color: #008000; text-decoration-color: #008000\">'&lt;Parameter ENa|ENa = 50.0&gt;'</span>               <a href=\"file:///home/mkoenig/git/sbmlutils/src/sbmlutils/factory.py\"><span style=\"color: #7f7f7f; text-decoration-color: #7f7f7f\">factory.py</span></a><span style=\"color: #7f7f7f; text-decoration-color: #7f7f7f\">:461</span>\n",
       "</pre>\n"
      ],
      "text/plain": [
       "\u001b[31mWARNING \u001b[0m \u001b[32m'sboTerm'\u001b[0m should be set on \u001b[32m'\u001b[0m\u001b[32m<\u001b[0m\u001b[32mParameter\u001b[0m\u001b[32m ENa|ENa = 50.0\u001b[0m\u001b[32m>\u001b[0m\u001b[32m'\u001b[0m               \u001b]8;id=782449;file:///home/mkoenig/git/sbmlutils/src/sbmlutils/factory.py\u001b\\\u001b[2mfactory.py\u001b[0m\u001b]8;;\u001b\\\u001b[2m:461\u001b[0m\n"
      ]
     },
     "metadata": {},
     "output_type": "display_data"
    },
    {
     "data": {
      "text/html": [
       "<pre style=\"white-space:pre;overflow-x:auto;line-height:normal;font-family:Menlo,'DejaVu Sans Mono',consolas,'Courier New',monospace\"><span style=\"color: #800000; text-decoration-color: #800000\">WARNING </span> <span style=\"color: #008000; text-decoration-color: #008000\">'sboTerm'</span> should be set on <span style=\"color: #008000; text-decoration-color: #008000\">'&lt;Parameter EK|EK = -70.0&gt;'</span>                <a href=\"file:///home/mkoenig/git/sbmlutils/src/sbmlutils/factory.py\"><span style=\"color: #7f7f7f; text-decoration-color: #7f7f7f\">factory.py</span></a><span style=\"color: #7f7f7f; text-decoration-color: #7f7f7f\">:461</span>\n",
       "</pre>\n"
      ],
      "text/plain": [
       "\u001b[31mWARNING \u001b[0m \u001b[32m'sboTerm'\u001b[0m should be set on \u001b[32m'\u001b[0m\u001b[32m<\u001b[0m\u001b[32mParameter\u001b[0m\u001b[32m EK|EK = -70.0\u001b[0m\u001b[32m>\u001b[0m\u001b[32m'\u001b[0m                \u001b]8;id=259359;file:///home/mkoenig/git/sbmlutils/src/sbmlutils/factory.py\u001b\\\u001b[2mfactory.py\u001b[0m\u001b]8;;\u001b\\\u001b[2m:461\u001b[0m\n"
      ]
     },
     "metadata": {},
     "output_type": "display_data"
    },
    {
     "data": {
      "text/html": [
       "<pre style=\"white-space:pre;overflow-x:auto;line-height:normal;font-family:Menlo,'DejaVu Sans Mono',consolas,'Courier New',monospace\"><span style=\"color: #800000; text-decoration-color: #800000\">WARNING </span> <span style=\"color: #008000; text-decoration-color: #008000\">'sboTerm'</span> should be set on <span style=\"color: #008000; text-decoration-color: #008000\">'&lt;Parameter EL|EL = -75.0&gt;'</span>                <a href=\"file:///home/mkoenig/git/sbmlutils/src/sbmlutils/factory.py\"><span style=\"color: #7f7f7f; text-decoration-color: #7f7f7f\">factory.py</span></a><span style=\"color: #7f7f7f; text-decoration-color: #7f7f7f\">:461</span>\n",
       "</pre>\n"
      ],
      "text/plain": [
       "\u001b[31mWARNING \u001b[0m \u001b[32m'sboTerm'\u001b[0m should be set on \u001b[32m'\u001b[0m\u001b[32m<\u001b[0m\u001b[32mParameter\u001b[0m\u001b[32m EL|EL = -75.0\u001b[0m\u001b[32m>\u001b[0m\u001b[32m'\u001b[0m                \u001b]8;id=801312;file:///home/mkoenig/git/sbmlutils/src/sbmlutils/factory.py\u001b\\\u001b[2mfactory.py\u001b[0m\u001b]8;;\u001b\\\u001b[2m:461\u001b[0m\n"
      ]
     },
     "metadata": {},
     "output_type": "display_data"
    },
    {
     "data": {
      "text/html": [
       "<pre style=\"white-space:pre;overflow-x:auto;line-height:normal;font-family:Menlo,'DejaVu Sans Mono',consolas,'Courier New',monospace\"><span style=\"color: #800000; text-decoration-color: #800000\">WARNING </span> <span style=\"color: #008000; text-decoration-color: #008000\">'sboTerm'</span> should be set on <span style=\"color: #008000; text-decoration-color: #008000\">'&lt;Parameter ECa|ECa = 50&gt;'</span>                 <a href=\"file:///home/mkoenig/git/sbmlutils/src/sbmlutils/factory.py\"><span style=\"color: #7f7f7f; text-decoration-color: #7f7f7f\">factory.py</span></a><span style=\"color: #7f7f7f; text-decoration-color: #7f7f7f\">:461</span>\n",
       "</pre>\n"
      ],
      "text/plain": [
       "\u001b[31mWARNING \u001b[0m \u001b[32m'sboTerm'\u001b[0m should be set on \u001b[32m'\u001b[0m\u001b[32m<\u001b[0m\u001b[32mParameter\u001b[0m\u001b[32m ECa|ECa = 50\u001b[0m\u001b[32m>\u001b[0m\u001b[32m'\u001b[0m                 \u001b]8;id=481013;file:///home/mkoenig/git/sbmlutils/src/sbmlutils/factory.py\u001b\\\u001b[2mfactory.py\u001b[0m\u001b]8;;\u001b\\\u001b[2m:461\u001b[0m\n"
      ]
     },
     "metadata": {},
     "output_type": "display_data"
    },
    {
     "data": {
      "text/html": [
       "<pre style=\"white-space:pre;overflow-x:auto;line-height:normal;font-family:Menlo,'DejaVu Sans Mono',consolas,'Courier New',monospace\"><span style=\"color: #800000; text-decoration-color: #800000\">WARNING </span> <span style=\"color: #008000; text-decoration-color: #008000\">'sboTerm'</span> should be set on <span style=\"color: #008000; text-decoration-color: #008000\">'&lt;Parameter En|En = -40.0&gt;'</span>                <a href=\"file:///home/mkoenig/git/sbmlutils/src/sbmlutils/factory.py\"><span style=\"color: #7f7f7f; text-decoration-color: #7f7f7f\">factory.py</span></a><span style=\"color: #7f7f7f; text-decoration-color: #7f7f7f\">:461</span>\n",
       "</pre>\n"
      ],
      "text/plain": [
       "\u001b[31mWARNING \u001b[0m \u001b[32m'sboTerm'\u001b[0m should be set on \u001b[32m'\u001b[0m\u001b[32m<\u001b[0m\u001b[32mParameter\u001b[0m\u001b[32m En|En = -40.0\u001b[0m\u001b[32m>\u001b[0m\u001b[32m'\u001b[0m                \u001b]8;id=595937;file:///home/mkoenig/git/sbmlutils/src/sbmlutils/factory.py\u001b\\\u001b[2mfactory.py\u001b[0m\u001b]8;;\u001b\\\u001b[2m:461\u001b[0m\n"
      ]
     },
     "metadata": {},
     "output_type": "display_data"
    },
    {
     "data": {
      "text/html": [
       "<pre style=\"white-space:pre;overflow-x:auto;line-height:normal;font-family:Menlo,'DejaVu Sans Mono',consolas,'Courier New',monospace\"><span style=\"color: #800000; text-decoration-color: #800000\">WARNING </span> <span style=\"color: #008000; text-decoration-color: #008000\">'sboTerm'</span> should be set on <span style=\"color: #008000; text-decoration-color: #008000\">'&lt;Parameter Em|Em = -42.0&gt;'</span>                <a href=\"file:///home/mkoenig/git/sbmlutils/src/sbmlutils/factory.py\"><span style=\"color: #7f7f7f; text-decoration-color: #7f7f7f\">factory.py</span></a><span style=\"color: #7f7f7f; text-decoration-color: #7f7f7f\">:461</span>\n",
       "</pre>\n"
      ],
      "text/plain": [
       "\u001b[31mWARNING \u001b[0m \u001b[32m'sboTerm'\u001b[0m should be set on \u001b[32m'\u001b[0m\u001b[32m<\u001b[0m\u001b[32mParameter\u001b[0m\u001b[32m Em|Em = -42.0\u001b[0m\u001b[32m>\u001b[0m\u001b[32m'\u001b[0m                \u001b]8;id=240898;file:///home/mkoenig/git/sbmlutils/src/sbmlutils/factory.py\u001b\\\u001b[2mfactory.py\u001b[0m\u001b]8;;\u001b\\\u001b[2m:461\u001b[0m\n"
      ]
     },
     "metadata": {},
     "output_type": "display_data"
    },
    {
     "data": {
      "text/html": [
       "<pre style=\"white-space:pre;overflow-x:auto;line-height:normal;font-family:Menlo,'DejaVu Sans Mono',consolas,'Courier New',monospace\"><span style=\"color: #800000; text-decoration-color: #800000\">WARNING </span> <span style=\"color: #008000; text-decoration-color: #008000\">'sboTerm'</span> should be set on <span style=\"color: #008000; text-decoration-color: #008000\">'&lt;Parameter Eh|Eh = -41.0&gt;'</span>                <a href=\"file:///home/mkoenig/git/sbmlutils/src/sbmlutils/factory.py\"><span style=\"color: #7f7f7f; text-decoration-color: #7f7f7f\">factory.py</span></a><span style=\"color: #7f7f7f; text-decoration-color: #7f7f7f\">:461</span>\n",
       "</pre>\n"
      ],
      "text/plain": [
       "\u001b[31mWARNING \u001b[0m \u001b[32m'sboTerm'\u001b[0m should be set on \u001b[32m'\u001b[0m\u001b[32m<\u001b[0m\u001b[32mParameter\u001b[0m\u001b[32m Eh|Eh = -41.0\u001b[0m\u001b[32m>\u001b[0m\u001b[32m'\u001b[0m                \u001b]8;id=520530;file:///home/mkoenig/git/sbmlutils/src/sbmlutils/factory.py\u001b\\\u001b[2mfactory.py\u001b[0m\u001b]8;;\u001b\\\u001b[2m:461\u001b[0m\n"
      ]
     },
     "metadata": {},
     "output_type": "display_data"
    },
    {
     "data": {
      "text/html": [
       "<pre style=\"white-space:pre;overflow-x:auto;line-height:normal;font-family:Menlo,'DejaVu Sans Mono',consolas,'Courier New',monospace\"><span style=\"color: #800000; text-decoration-color: #800000\">WARNING </span> <span style=\"color: #008000; text-decoration-color: #008000\">'sboTerm'</span> should be set on <span style=\"color: #008000; text-decoration-color: #008000\">'&lt;Parameter Ct|Ct = 0.04&gt;'</span>                 <a href=\"file:///home/mkoenig/git/sbmlutils/src/sbmlutils/factory.py\"><span style=\"color: #7f7f7f; text-decoration-color: #7f7f7f\">factory.py</span></a><span style=\"color: #7f7f7f; text-decoration-color: #7f7f7f\">:461</span>\n",
       "</pre>\n"
      ],
      "text/plain": [
       "\u001b[31mWARNING \u001b[0m \u001b[32m'sboTerm'\u001b[0m should be set on \u001b[32m'\u001b[0m\u001b[32m<\u001b[0m\u001b[32mParameter\u001b[0m\u001b[32m Ct|Ct = 0.04\u001b[0m\u001b[32m>\u001b[0m\u001b[32m'\u001b[0m                 \u001b]8;id=192097;file:///home/mkoenig/git/sbmlutils/src/sbmlutils/factory.py\u001b\\\u001b[2mfactory.py\u001b[0m\u001b]8;;\u001b\\\u001b[2m:461\u001b[0m\n"
      ]
     },
     "metadata": {},
     "output_type": "display_data"
    },
    {
     "data": {
      "text/html": [
       "<pre style=\"white-space:pre;overflow-x:auto;line-height:normal;font-family:Menlo,'DejaVu Sans Mono',consolas,'Courier New',monospace\"><span style=\"color: #800000; text-decoration-color: #800000\">WARNING </span> <span style=\"color: #008000; text-decoration-color: #008000\">'sboTerm'</span> should be set on <span style=\"color: #008000; text-decoration-color: #008000\">'&lt;Parameter Cm|Cm = 0.0090&gt;'</span>               <a href=\"file:///home/mkoenig/git/sbmlutils/src/sbmlutils/factory.py\"><span style=\"color: #7f7f7f; text-decoration-color: #7f7f7f\">factory.py</span></a><span style=\"color: #7f7f7f; text-decoration-color: #7f7f7f\">:461</span>\n",
       "</pre>\n"
      ],
      "text/plain": [
       "\u001b[31mWARNING \u001b[0m \u001b[32m'sboTerm'\u001b[0m should be set on \u001b[32m'\u001b[0m\u001b[32m<\u001b[0m\u001b[32mParameter\u001b[0m\u001b[32m Cm|Cm = 0.0090\u001b[0m\u001b[32m>\u001b[0m\u001b[32m'\u001b[0m               \u001b]8;id=329378;file:///home/mkoenig/git/sbmlutils/src/sbmlutils/factory.py\u001b\\\u001b[2mfactory.py\u001b[0m\u001b]8;;\u001b\\\u001b[2m:461\u001b[0m\n"
      ]
     },
     "metadata": {},
     "output_type": "display_data"
    },
    {
     "data": {
      "text/html": [
       "<pre style=\"white-space:pre;overflow-x:auto;line-height:normal;font-family:Menlo,'DejaVu Sans Mono',consolas,'Courier New',monospace\"><span style=\"color: #800000; text-decoration-color: #800000\">WARNING </span> <span style=\"color: #008000; text-decoration-color: #008000\">'sboTerm'</span> should be set on <span style=\"color: #008000; text-decoration-color: #008000\">'&lt;Parameter Rs|Rs = 15.0&gt;'</span>                 <a href=\"file:///home/mkoenig/git/sbmlutils/src/sbmlutils/factory.py\"><span style=\"color: #7f7f7f; text-decoration-color: #7f7f7f\">factory.py</span></a><span style=\"color: #7f7f7f; text-decoration-color: #7f7f7f\">:461</span>\n",
       "</pre>\n"
      ],
      "text/plain": [
       "\u001b[31mWARNING \u001b[0m \u001b[32m'sboTerm'\u001b[0m should be set on \u001b[32m'\u001b[0m\u001b[32m<\u001b[0m\u001b[32mParameter\u001b[0m\u001b[32m Rs|Rs = 15.0\u001b[0m\u001b[32m>\u001b[0m\u001b[32m'\u001b[0m                 \u001b]8;id=965575;file:///home/mkoenig/git/sbmlutils/src/sbmlutils/factory.py\u001b\\\u001b[2mfactory.py\u001b[0m\u001b]8;;\u001b\\\u001b[2m:461\u001b[0m\n"
      ]
     },
     "metadata": {},
     "output_type": "display_data"
    },
    {
     "data": {
      "text/html": [
       "<pre style=\"white-space:pre;overflow-x:auto;line-height:normal;font-family:Menlo,'DejaVu Sans Mono',consolas,'Courier New',monospace\"><span style=\"color: #800000; text-decoration-color: #800000\">WARNING </span> <span style=\"color: #008000; text-decoration-color: #008000\">'sboTerm'</span> should be set on <span style=\"color: #008000; text-decoration-color: #008000\">'&lt;Parameter Am|Am = 200.0&gt;'</span>                <a href=\"file:///home/mkoenig/git/sbmlutils/src/sbmlutils/factory.py\"><span style=\"color: #7f7f7f; text-decoration-color: #7f7f7f\">factory.py</span></a><span style=\"color: #7f7f7f; text-decoration-color: #7f7f7f\">:461</span>\n",
       "</pre>\n"
      ],
      "text/plain": [
       "\u001b[31mWARNING \u001b[0m \u001b[32m'sboTerm'\u001b[0m should be set on \u001b[32m'\u001b[0m\u001b[32m<\u001b[0m\u001b[32mParameter\u001b[0m\u001b[32m Am|Am = 200.0\u001b[0m\u001b[32m>\u001b[0m\u001b[32m'\u001b[0m                \u001b]8;id=401699;file:///home/mkoenig/git/sbmlutils/src/sbmlutils/factory.py\u001b\\\u001b[2mfactory.py\u001b[0m\u001b]8;;\u001b\\\u001b[2m:461\u001b[0m\n"
      ]
     },
     "metadata": {},
     "output_type": "display_data"
    },
    {
     "data": {
      "text/html": [
       "<pre style=\"white-space:pre;overflow-x:auto;line-height:normal;font-family:Menlo,'DejaVu Sans Mono',consolas,'Courier New',monospace\"><span style=\"color: #800000; text-decoration-color: #800000\">WARNING </span> <span style=\"color: #008000; text-decoration-color: #008000\">'sboTerm'</span> should be set on <span style=\"color: #008000; text-decoration-color: #008000\">'&lt;Parameter alpha_n_max|alpha_n_max = </span>     <a href=\"file:///home/mkoenig/git/sbmlutils/src/sbmlutils/factory.py\"><span style=\"color: #7f7f7f; text-decoration-color: #7f7f7f\">factory.py</span></a><span style=\"color: #7f7f7f; text-decoration-color: #7f7f7f\">:461</span>\n",
       "         <span style=\"color: #008000; text-decoration-color: #008000\">0.0229&gt;'</span>                                                                            \n",
       "</pre>\n"
      ],
      "text/plain": [
       "\u001b[31mWARNING \u001b[0m \u001b[32m'sboTerm'\u001b[0m should be set on \u001b[32m'\u001b[0m\u001b[32m<\u001b[0m\u001b[32mParameter\u001b[0m\u001b[32m alpha_n_max|alpha_n_max = \u001b[0m     \u001b]8;id=167680;file:///home/mkoenig/git/sbmlutils/src/sbmlutils/factory.py\u001b\\\u001b[2mfactory.py\u001b[0m\u001b]8;;\u001b\\\u001b[2m:461\u001b[0m\n",
       "         \u001b[32m0.0229\u001b[0m\u001b[32m>\u001b[0m\u001b[32m'\u001b[0m                                                                            \n"
      ]
     },
     "metadata": {},
     "output_type": "display_data"
    },
    {
     "data": {
      "text/html": [
       "<pre style=\"white-space:pre;overflow-x:auto;line-height:normal;font-family:Menlo,'DejaVu Sans Mono',consolas,'Courier New',monospace\"><span style=\"color: #800000; text-decoration-color: #800000\">WARNING </span> <span style=\"color: #008000; text-decoration-color: #008000\">'sboTerm'</span> should be set on <span style=\"color: #008000; text-decoration-color: #008000\">'&lt;Parameter beta_n_max|beta_n_max = </span>       <a href=\"file:///home/mkoenig/git/sbmlutils/src/sbmlutils/factory.py\"><span style=\"color: #7f7f7f; text-decoration-color: #7f7f7f\">factory.py</span></a><span style=\"color: #7f7f7f; text-decoration-color: #7f7f7f\">:461</span>\n",
       "         <span style=\"color: #008000; text-decoration-color: #008000\">0.09616&gt;'</span>                                                                           \n",
       "</pre>\n"
      ],
      "text/plain": [
       "\u001b[31mWARNING \u001b[0m \u001b[32m'sboTerm'\u001b[0m should be set on \u001b[32m'\u001b[0m\u001b[32m<\u001b[0m\u001b[32mParameter\u001b[0m\u001b[32m beta_n_max|beta_n_max = \u001b[0m       \u001b]8;id=387080;file:///home/mkoenig/git/sbmlutils/src/sbmlutils/factory.py\u001b\\\u001b[2mfactory.py\u001b[0m\u001b]8;;\u001b\\\u001b[2m:461\u001b[0m\n",
       "         \u001b[32m0.09616\u001b[0m\u001b[32m>\u001b[0m\u001b[32m'\u001b[0m                                                                           \n"
      ]
     },
     "metadata": {},
     "output_type": "display_data"
    },
    {
     "data": {
      "text/html": [
       "<pre style=\"white-space:pre;overflow-x:auto;line-height:normal;font-family:Menlo,'DejaVu Sans Mono',consolas,'Courier New',monospace\"><span style=\"color: #800000; text-decoration-color: #800000\">WARNING </span> <span style=\"color: #008000; text-decoration-color: #008000\">'sboTerm'</span> should be set on <span style=\"color: #008000; text-decoration-color: #008000\">'&lt;Parameter v_alpha_m|v_alpha_m = 10.0&gt;'</span>   <a href=\"file:///home/mkoenig/git/sbmlutils/src/sbmlutils/factory.py\"><span style=\"color: #7f7f7f; text-decoration-color: #7f7f7f\">factory.py</span></a><span style=\"color: #7f7f7f; text-decoration-color: #7f7f7f\">:461</span>\n",
       "</pre>\n"
      ],
      "text/plain": [
       "\u001b[31mWARNING \u001b[0m \u001b[32m'sboTerm'\u001b[0m should be set on \u001b[32m'\u001b[0m\u001b[32m<\u001b[0m\u001b[32mParameter\u001b[0m\u001b[32m v_alpha_m|v_alpha_m = 10.0\u001b[0m\u001b[32m>\u001b[0m\u001b[32m'\u001b[0m   \u001b]8;id=19847;file:///home/mkoenig/git/sbmlutils/src/sbmlutils/factory.py\u001b\\\u001b[2mfactory.py\u001b[0m\u001b]8;;\u001b\\\u001b[2m:461\u001b[0m\n"
      ]
     },
     "metadata": {},
     "output_type": "display_data"
    },
    {
     "data": {
      "text/html": [
       "<pre style=\"white-space:pre;overflow-x:auto;line-height:normal;font-family:Menlo,'DejaVu Sans Mono',consolas,'Courier New',monospace\"><span style=\"color: #800000; text-decoration-color: #800000\">WARNING </span> <span style=\"color: #008000; text-decoration-color: #008000\">'sboTerm'</span> should be set on <span style=\"color: #008000; text-decoration-color: #008000\">'&lt;Parameter v_alpha_n|v_alpha_n = 7.0&gt;'</span>    <a href=\"file:///home/mkoenig/git/sbmlutils/src/sbmlutils/factory.py\"><span style=\"color: #7f7f7f; text-decoration-color: #7f7f7f\">factory.py</span></a><span style=\"color: #7f7f7f; text-decoration-color: #7f7f7f\">:461</span>\n",
       "</pre>\n"
      ],
      "text/plain": [
       "\u001b[31mWARNING \u001b[0m \u001b[32m'sboTerm'\u001b[0m should be set on \u001b[32m'\u001b[0m\u001b[32m<\u001b[0m\u001b[32mParameter\u001b[0m\u001b[32m v_alpha_n|v_alpha_n = 7.0\u001b[0m\u001b[32m>\u001b[0m\u001b[32m'\u001b[0m    \u001b]8;id=530951;file:///home/mkoenig/git/sbmlutils/src/sbmlutils/factory.py\u001b\\\u001b[2mfactory.py\u001b[0m\u001b]8;;\u001b\\\u001b[2m:461\u001b[0m\n"
      ]
     },
     "metadata": {},
     "output_type": "display_data"
    },
    {
     "data": {
      "text/html": [
       "<pre style=\"white-space:pre;overflow-x:auto;line-height:normal;font-family:Menlo,'DejaVu Sans Mono',consolas,'Courier New',monospace\"><span style=\"color: #800000; text-decoration-color: #800000\">WARNING </span> <span style=\"color: #008000; text-decoration-color: #008000\">'sboTerm'</span> should be set on <span style=\"color: #008000; text-decoration-color: #008000\">'&lt;Parameter v_alpha_h|v_alpha_h = 14.7&gt;'</span>   <a href=\"file:///home/mkoenig/git/sbmlutils/src/sbmlutils/factory.py\"><span style=\"color: #7f7f7f; text-decoration-color: #7f7f7f\">factory.py</span></a><span style=\"color: #7f7f7f; text-decoration-color: #7f7f7f\">:461</span>\n",
       "</pre>\n"
      ],
      "text/plain": [
       "\u001b[31mWARNING \u001b[0m \u001b[32m'sboTerm'\u001b[0m should be set on \u001b[32m'\u001b[0m\u001b[32m<\u001b[0m\u001b[32mParameter\u001b[0m\u001b[32m v_alpha_h|v_alpha_h = 14.7\u001b[0m\u001b[32m>\u001b[0m\u001b[32m'\u001b[0m   \u001b]8;id=488543;file:///home/mkoenig/git/sbmlutils/src/sbmlutils/factory.py\u001b\\\u001b[2mfactory.py\u001b[0m\u001b]8;;\u001b\\\u001b[2m:461\u001b[0m\n"
      ]
     },
     "metadata": {},
     "output_type": "display_data"
    },
    {
     "data": {
      "text/html": [
       "<pre style=\"white-space:pre;overflow-x:auto;line-height:normal;font-family:Menlo,'DejaVu Sans Mono',consolas,'Courier New',monospace\"><span style=\"color: #800000; text-decoration-color: #800000\">WARNING </span> <span style=\"color: #008000; text-decoration-color: #008000\">'sboTerm'</span> should be set on <span style=\"color: #008000; text-decoration-color: #008000\">'&lt;Parameter alpha_m_max|alpha_m_max = </span>     <a href=\"file:///home/mkoenig/git/sbmlutils/src/sbmlutils/factory.py\"><span style=\"color: #7f7f7f; text-decoration-color: #7f7f7f\">factory.py</span></a><span style=\"color: #7f7f7f; text-decoration-color: #7f7f7f\">:461</span>\n",
       "         <span style=\"color: #008000; text-decoration-color: #008000\">0.208&gt;'</span>                                                                             \n",
       "</pre>\n"
      ],
      "text/plain": [
       "\u001b[31mWARNING \u001b[0m \u001b[32m'sboTerm'\u001b[0m should be set on \u001b[32m'\u001b[0m\u001b[32m<\u001b[0m\u001b[32mParameter\u001b[0m\u001b[32m alpha_m_max|alpha_m_max = \u001b[0m     \u001b]8;id=761058;file:///home/mkoenig/git/sbmlutils/src/sbmlutils/factory.py\u001b\\\u001b[2mfactory.py\u001b[0m\u001b]8;;\u001b\\\u001b[2m:461\u001b[0m\n",
       "         \u001b[32m0.208\u001b[0m\u001b[32m>\u001b[0m\u001b[32m'\u001b[0m                                                                             \n"
      ]
     },
     "metadata": {},
     "output_type": "display_data"
    },
    {
     "data": {
      "text/html": [
       "<pre style=\"white-space:pre;overflow-x:auto;line-height:normal;font-family:Menlo,'DejaVu Sans Mono',consolas,'Courier New',monospace\"><span style=\"color: #800000; text-decoration-color: #800000\">WARNING </span> <span style=\"color: #008000; text-decoration-color: #008000\">'sboTerm'</span> should be set on <span style=\"color: #008000; text-decoration-color: #008000\">'&lt;Parameter beta_m_max|beta_m_max = </span>       <a href=\"file:///home/mkoenig/git/sbmlutils/src/sbmlutils/factory.py\"><span style=\"color: #7f7f7f; text-decoration-color: #7f7f7f\">factory.py</span></a><span style=\"color: #7f7f7f; text-decoration-color: #7f7f7f\">:461</span>\n",
       "         <span style=\"color: #008000; text-decoration-color: #008000\">2.081&gt;'</span>                                                                             \n",
       "</pre>\n"
      ],
      "text/plain": [
       "\u001b[31mWARNING \u001b[0m \u001b[32m'sboTerm'\u001b[0m should be set on \u001b[32m'\u001b[0m\u001b[32m<\u001b[0m\u001b[32mParameter\u001b[0m\u001b[32m beta_m_max|beta_m_max = \u001b[0m       \u001b]8;id=648068;file:///home/mkoenig/git/sbmlutils/src/sbmlutils/factory.py\u001b\\\u001b[2mfactory.py\u001b[0m\u001b]8;;\u001b\\\u001b[2m:461\u001b[0m\n",
       "         \u001b[32m2.081\u001b[0m\u001b[32m>\u001b[0m\u001b[32m'\u001b[0m                                                                             \n"
      ]
     },
     "metadata": {},
     "output_type": "display_data"
    },
    {
     "data": {
      "text/html": [
       "<pre style=\"white-space:pre;overflow-x:auto;line-height:normal;font-family:Menlo,'DejaVu Sans Mono',consolas,'Courier New',monospace\"><span style=\"color: #800000; text-decoration-color: #800000\">WARNING </span> <span style=\"color: #008000; text-decoration-color: #008000\">'sboTerm'</span> should be set on <span style=\"color: #008000; text-decoration-color: #008000\">'&lt;Parameter v_beta_n|v_beta_n = 40.0&gt;'</span>     <a href=\"file:///home/mkoenig/git/sbmlutils/src/sbmlutils/factory.py\"><span style=\"color: #7f7f7f; text-decoration-color: #7f7f7f\">factory.py</span></a><span style=\"color: #7f7f7f; text-decoration-color: #7f7f7f\">:461</span>\n",
       "</pre>\n"
      ],
      "text/plain": [
       "\u001b[31mWARNING \u001b[0m \u001b[32m'sboTerm'\u001b[0m should be set on \u001b[32m'\u001b[0m\u001b[32m<\u001b[0m\u001b[32mParameter\u001b[0m\u001b[32m v_beta_n|v_beta_n = 40.0\u001b[0m\u001b[32m>\u001b[0m\u001b[32m'\u001b[0m     \u001b]8;id=87212;file:///home/mkoenig/git/sbmlutils/src/sbmlutils/factory.py\u001b\\\u001b[2mfactory.py\u001b[0m\u001b]8;;\u001b\\\u001b[2m:461\u001b[0m\n"
      ]
     },
     "metadata": {},
     "output_type": "display_data"
    },
    {
     "data": {
      "text/html": [
       "<pre style=\"white-space:pre;overflow-x:auto;line-height:normal;font-family:Menlo,'DejaVu Sans Mono',consolas,'Courier New',monospace\"><span style=\"color: #800000; text-decoration-color: #800000\">WARNING </span> <span style=\"color: #008000; text-decoration-color: #008000\">'sboTerm'</span> should be set on <span style=\"color: #008000; text-decoration-color: #008000\">'&lt;Parameter v_beta_m|v_beta_m = 18.0&gt;'</span>     <a href=\"file:///home/mkoenig/git/sbmlutils/src/sbmlutils/factory.py\"><span style=\"color: #7f7f7f; text-decoration-color: #7f7f7f\">factory.py</span></a><span style=\"color: #7f7f7f; text-decoration-color: #7f7f7f\">:461</span>\n",
       "</pre>\n"
      ],
      "text/plain": [
       "\u001b[31mWARNING \u001b[0m \u001b[32m'sboTerm'\u001b[0m should be set on \u001b[32m'\u001b[0m\u001b[32m<\u001b[0m\u001b[32mParameter\u001b[0m\u001b[32m v_beta_m|v_beta_m = 18.0\u001b[0m\u001b[32m>\u001b[0m\u001b[32m'\u001b[0m     \u001b]8;id=542562;file:///home/mkoenig/git/sbmlutils/src/sbmlutils/factory.py\u001b\\\u001b[2mfactory.py\u001b[0m\u001b]8;;\u001b\\\u001b[2m:461\u001b[0m\n"
      ]
     },
     "metadata": {},
     "output_type": "display_data"
    },
    {
     "data": {
      "text/html": [
       "<pre style=\"white-space:pre;overflow-x:auto;line-height:normal;font-family:Menlo,'DejaVu Sans Mono',consolas,'Courier New',monospace\"><span style=\"color: #800000; text-decoration-color: #800000\">WARNING </span> <span style=\"color: #008000; text-decoration-color: #008000\">'sboTerm'</span> should be set on <span style=\"color: #008000; text-decoration-color: #008000\">'&lt;Parameter v_beta_h|v_beta_h = 7.6&gt;'</span>      <a href=\"file:///home/mkoenig/git/sbmlutils/src/sbmlutils/factory.py\"><span style=\"color: #7f7f7f; text-decoration-color: #7f7f7f\">factory.py</span></a><span style=\"color: #7f7f7f; text-decoration-color: #7f7f7f\">:461</span>\n",
       "</pre>\n"
      ],
      "text/plain": [
       "\u001b[31mWARNING \u001b[0m \u001b[32m'sboTerm'\u001b[0m should be set on \u001b[32m'\u001b[0m\u001b[32m<\u001b[0m\u001b[32mParameter\u001b[0m\u001b[32m v_beta_h|v_beta_h = 7.6\u001b[0m\u001b[32m>\u001b[0m\u001b[32m'\u001b[0m      \u001b]8;id=495644;file:///home/mkoenig/git/sbmlutils/src/sbmlutils/factory.py\u001b\\\u001b[2mfactory.py\u001b[0m\u001b]8;;\u001b\\\u001b[2m:461\u001b[0m\n"
      ]
     },
     "metadata": {},
     "output_type": "display_data"
    },
    {
     "data": {
      "text/html": [
       "<pre style=\"white-space:pre;overflow-x:auto;line-height:normal;font-family:Menlo,'DejaVu Sans Mono',consolas,'Courier New',monospace\"><span style=\"color: #800000; text-decoration-color: #800000\">WARNING </span> <span style=\"color: #008000; text-decoration-color: #008000\">'sboTerm'</span> should be set on <span style=\"color: #008000; text-decoration-color: #008000\">'&lt;Parameter alpha_h_max|alpha_h_max = </span>     <a href=\"file:///home/mkoenig/git/sbmlutils/src/sbmlutils/factory.py\"><span style=\"color: #7f7f7f; text-decoration-color: #7f7f7f\">factory.py</span></a><span style=\"color: #7f7f7f; text-decoration-color: #7f7f7f\">:461</span>\n",
       "         <span style=\"color: #008000; text-decoration-color: #008000\">0.0156&gt;'</span>                                                                            \n",
       "</pre>\n"
      ],
      "text/plain": [
       "\u001b[31mWARNING \u001b[0m \u001b[32m'sboTerm'\u001b[0m should be set on \u001b[32m'\u001b[0m\u001b[32m<\u001b[0m\u001b[32mParameter\u001b[0m\u001b[32m alpha_h_max|alpha_h_max = \u001b[0m     \u001b]8;id=138281;file:///home/mkoenig/git/sbmlutils/src/sbmlutils/factory.py\u001b\\\u001b[2mfactory.py\u001b[0m\u001b]8;;\u001b\\\u001b[2m:461\u001b[0m\n",
       "         \u001b[32m0.0156\u001b[0m\u001b[32m>\u001b[0m\u001b[32m'\u001b[0m                                                                            \n"
      ]
     },
     "metadata": {},
     "output_type": "display_data"
    },
    {
     "data": {
      "text/html": [
       "<pre style=\"white-space:pre;overflow-x:auto;line-height:normal;font-family:Menlo,'DejaVu Sans Mono',consolas,'Courier New',monospace\"><span style=\"color: #800000; text-decoration-color: #800000\">WARNING </span> <span style=\"color: #008000; text-decoration-color: #008000\">'sboTerm'</span> should be set on <span style=\"color: #008000; text-decoration-color: #008000\">'&lt;Parameter beta_h_max|beta_h_max = </span>       <a href=\"file:///home/mkoenig/git/sbmlutils/src/sbmlutils/factory.py\"><span style=\"color: #7f7f7f; text-decoration-color: #7f7f7f\">factory.py</span></a><span style=\"color: #7f7f7f; text-decoration-color: #7f7f7f\">:461</span>\n",
       "         <span style=\"color: #008000; text-decoration-color: #008000\">3.382&gt;'</span>                                                                             \n",
       "</pre>\n"
      ],
      "text/plain": [
       "\u001b[31mWARNING \u001b[0m \u001b[32m'sboTerm'\u001b[0m should be set on \u001b[32m'\u001b[0m\u001b[32m<\u001b[0m\u001b[32mParameter\u001b[0m\u001b[32m beta_h_max|beta_h_max = \u001b[0m       \u001b]8;id=772096;file:///home/mkoenig/git/sbmlutils/src/sbmlutils/factory.py\u001b\\\u001b[2mfactory.py\u001b[0m\u001b]8;;\u001b\\\u001b[2m:461\u001b[0m\n",
       "         \u001b[32m3.382\u001b[0m\u001b[32m>\u001b[0m\u001b[32m'\u001b[0m                                                                             \n"
      ]
     },
     "metadata": {},
     "output_type": "display_data"
    },
    {
     "data": {
      "text/html": [
       "<pre style=\"white-space:pre;overflow-x:auto;line-height:normal;font-family:Menlo,'DejaVu Sans Mono',consolas,'Courier New',monospace\"><span style=\"color: #800000; text-decoration-color: #800000\">WARNING </span> <span style=\"color: #008000; text-decoration-color: #008000\">'sboTerm'</span> should be set on <span style=\"color: #008000; text-decoration-color: #008000\">'&lt;Parameter kd|kd = 0.18&gt;'</span>                 <a href=\"file:///home/mkoenig/git/sbmlutils/src/sbmlutils/factory.py\"><span style=\"color: #7f7f7f; text-decoration-color: #7f7f7f\">factory.py</span></a><span style=\"color: #7f7f7f; text-decoration-color: #7f7f7f\">:461</span>\n",
       "</pre>\n"
      ],
      "text/plain": [
       "\u001b[31mWARNING \u001b[0m \u001b[32m'sboTerm'\u001b[0m should be set on \u001b[32m'\u001b[0m\u001b[32m<\u001b[0m\u001b[32mParameter\u001b[0m\u001b[32m kd|kd = 0.18\u001b[0m\u001b[32m>\u001b[0m\u001b[32m'\u001b[0m                 \u001b]8;id=333393;file:///home/mkoenig/git/sbmlutils/src/sbmlutils/factory.py\u001b\\\u001b[2mfactory.py\u001b[0m\u001b]8;;\u001b\\\u001b[2m:461\u001b[0m\n"
      ]
     },
     "metadata": {},
     "output_type": "display_data"
    },
    {
     "data": {
      "text/html": [
       "<pre style=\"white-space:pre;overflow-x:auto;line-height:normal;font-family:Menlo,'DejaVu Sans Mono',consolas,'Courier New',monospace\"><span style=\"color: #800000; text-decoration-color: #800000\">WARNING </span> <span style=\"color: #008000; text-decoration-color: #008000\">'sboTerm'</span> should be set on <span style=\"color: #008000; text-decoration-color: #008000\">'&lt;Parameter alpha|alpha = 4.5e-6&gt;'</span>         <a href=\"file:///home/mkoenig/git/sbmlutils/src/sbmlutils/factory.py\"><span style=\"color: #7f7f7f; text-decoration-color: #7f7f7f\">factory.py</span></a><span style=\"color: #7f7f7f; text-decoration-color: #7f7f7f\">:461</span>\n",
       "</pre>\n"
      ],
      "text/plain": [
       "\u001b[31mWARNING \u001b[0m \u001b[32m'sboTerm'\u001b[0m should be set on \u001b[32m'\u001b[0m\u001b[32m<\u001b[0m\u001b[32mParameter\u001b[0m\u001b[32m alpha|alpha = 4.5e-6\u001b[0m\u001b[32m>\u001b[0m\u001b[32m'\u001b[0m         \u001b]8;id=938268;file:///home/mkoenig/git/sbmlutils/src/sbmlutils/factory.py\u001b\\\u001b[2mfactory.py\u001b[0m\u001b]8;;\u001b\\\u001b[2m:461\u001b[0m\n"
      ]
     },
     "metadata": {},
     "output_type": "display_data"
    },
    {
     "data": {
      "text/html": [
       "<pre style=\"white-space:pre;overflow-x:auto;line-height:normal;font-family:Menlo,'DejaVu Sans Mono',consolas,'Courier New',monospace\"><span style=\"color: #800000; text-decoration-color: #800000\">WARNING </span> <span style=\"color: #008000; text-decoration-color: #008000\">'sboTerm'</span> should be set on <span style=\"color: #008000; text-decoration-color: #008000\">'&lt;Parameter kpmca|kpmca = 0.2&gt;'</span>            <a href=\"file:///home/mkoenig/git/sbmlutils/src/sbmlutils/factory.py\"><span style=\"color: #7f7f7f; text-decoration-color: #7f7f7f\">factory.py</span></a><span style=\"color: #7f7f7f; text-decoration-color: #7f7f7f\">:461</span>\n",
       "</pre>\n"
      ],
      "text/plain": [
       "\u001b[31mWARNING \u001b[0m \u001b[32m'sboTerm'\u001b[0m should be set on \u001b[32m'\u001b[0m\u001b[32m<\u001b[0m\u001b[32mParameter\u001b[0m\u001b[32m kpmca|kpmca = 0.2\u001b[0m\u001b[32m>\u001b[0m\u001b[32m'\u001b[0m            \u001b]8;id=645862;file:///home/mkoenig/git/sbmlutils/src/sbmlutils/factory.py\u001b\\\u001b[2mfactory.py\u001b[0m\u001b]8;;\u001b\\\u001b[2m:461\u001b[0m\n"
      ]
     },
     "metadata": {},
     "output_type": "display_data"
    },
    {
     "data": {
      "text/html": [
       "<pre style=\"white-space:pre;overflow-x:auto;line-height:normal;font-family:Menlo,'DejaVu Sans Mono',consolas,'Courier New',monospace\"><span style=\"color: #800000; text-decoration-color: #800000\">WARNING </span> <span style=\"color: #008000; text-decoration-color: #008000\">'sboTerm'</span> should be set on <span style=\"color: #008000; text-decoration-color: #008000\">'&lt;Parameter pleak|pleak = 0.0005&gt;'</span>         <a href=\"file:///home/mkoenig/git/sbmlutils/src/sbmlutils/factory.py\"><span style=\"color: #7f7f7f; text-decoration-color: #7f7f7f\">factory.py</span></a><span style=\"color: #7f7f7f; text-decoration-color: #7f7f7f\">:461</span>\n",
       "</pre>\n"
      ],
      "text/plain": [
       "\u001b[31mWARNING \u001b[0m \u001b[32m'sboTerm'\u001b[0m should be set on \u001b[32m'\u001b[0m\u001b[32m<\u001b[0m\u001b[32mParameter\u001b[0m\u001b[32m pleak|pleak = 0.0005\u001b[0m\u001b[32m>\u001b[0m\u001b[32m'\u001b[0m         \u001b]8;id=197370;file:///home/mkoenig/git/sbmlutils/src/sbmlutils/factory.py\u001b\\\u001b[2mfactory.py\u001b[0m\u001b]8;;\u001b\\\u001b[2m:461\u001b[0m\n"
      ]
     },
     "metadata": {},
     "output_type": "display_data"
    },
    {
     "data": {
      "text/html": [
       "<pre style=\"white-space:pre;overflow-x:auto;line-height:normal;font-family:Menlo,'DejaVu Sans Mono',consolas,'Courier New',monospace\"><span style=\"color: #800000; text-decoration-color: #800000\">WARNING </span> <span style=\"color: #008000; text-decoration-color: #008000\">'sboTerm'</span> should be set on <span style=\"color: #008000; text-decoration-color: #008000\">'&lt;Parameter kserca|kserca = 0.4&gt;'</span>          <a href=\"file:///home/mkoenig/git/sbmlutils/src/sbmlutils/factory.py\"><span style=\"color: #7f7f7f; text-decoration-color: #7f7f7f\">factory.py</span></a><span style=\"color: #7f7f7f; text-decoration-color: #7f7f7f\">:461</span>\n",
       "</pre>\n"
      ],
      "text/plain": [
       "\u001b[31mWARNING \u001b[0m \u001b[32m'sboTerm'\u001b[0m should be set on \u001b[32m'\u001b[0m\u001b[32m<\u001b[0m\u001b[32mParameter\u001b[0m\u001b[32m kserca|kserca = 0.4\u001b[0m\u001b[32m>\u001b[0m\u001b[32m'\u001b[0m          \u001b]8;id=240718;file:///home/mkoenig/git/sbmlutils/src/sbmlutils/factory.py\u001b\\\u001b[2mfactory.py\u001b[0m\u001b]8;;\u001b\\\u001b[2m:461\u001b[0m\n"
      ]
     },
     "metadata": {},
     "output_type": "display_data"
    },
    {
     "data": {
      "text/html": [
       "<pre style=\"white-space:pre;overflow-x:auto;line-height:normal;font-family:Menlo,'DejaVu Sans Mono',consolas,'Courier New',monospace\"><span style=\"color: #800000; text-decoration-color: #800000\">WARNING </span> <span style=\"color: #008000; text-decoration-color: #008000\">'sboTerm'</span> should be set on <span style=\"color: #008000; text-decoration-color: #008000\">'&lt;Parameter d1|d1 = 0.84&gt;'</span>                 <a href=\"file:///home/mkoenig/git/sbmlutils/src/sbmlutils/factory.py\"><span style=\"color: #7f7f7f; text-decoration-color: #7f7f7f\">factory.py</span></a><span style=\"color: #7f7f7f; text-decoration-color: #7f7f7f\">:461</span>\n",
       "</pre>\n"
      ],
      "text/plain": [
       "\u001b[31mWARNING \u001b[0m \u001b[32m'sboTerm'\u001b[0m should be set on \u001b[32m'\u001b[0m\u001b[32m<\u001b[0m\u001b[32mParameter\u001b[0m\u001b[32m d1|d1 = 0.84\u001b[0m\u001b[32m>\u001b[0m\u001b[32m'\u001b[0m                 \u001b]8;id=233903;file:///home/mkoenig/git/sbmlutils/src/sbmlutils/factory.py\u001b\\\u001b[2mfactory.py\u001b[0m\u001b]8;;\u001b\\\u001b[2m:461\u001b[0m\n"
      ]
     },
     "metadata": {},
     "output_type": "display_data"
    },
    {
     "data": {
      "text/html": [
       "<pre style=\"white-space:pre;overflow-x:auto;line-height:normal;font-family:Menlo,'DejaVu Sans Mono',consolas,'Courier New',monospace\"><span style=\"color: #800000; text-decoration-color: #800000\">WARNING </span> <span style=\"color: #008000; text-decoration-color: #008000\">'sboTerm'</span> should be set on <span style=\"color: #008000; text-decoration-color: #008000\">'&lt;Parameter d2|d2 = 1.0&gt;'</span>                  <a href=\"file:///home/mkoenig/git/sbmlutils/src/sbmlutils/factory.py\"><span style=\"color: #7f7f7f; text-decoration-color: #7f7f7f\">factory.py</span></a><span style=\"color: #7f7f7f; text-decoration-color: #7f7f7f\">:461</span>\n",
       "</pre>\n"
      ],
      "text/plain": [
       "\u001b[31mWARNING \u001b[0m \u001b[32m'sboTerm'\u001b[0m should be set on \u001b[32m'\u001b[0m\u001b[32m<\u001b[0m\u001b[32mParameter\u001b[0m\u001b[32m d2|d2 = 1.0\u001b[0m\u001b[32m>\u001b[0m\u001b[32m'\u001b[0m                  \u001b]8;id=555026;file:///home/mkoenig/git/sbmlutils/src/sbmlutils/factory.py\u001b\\\u001b[2mfactory.py\u001b[0m\u001b]8;;\u001b\\\u001b[2m:461\u001b[0m\n"
      ]
     },
     "metadata": {},
     "output_type": "display_data"
    },
    {
     "data": {
      "text/html": [
       "<pre style=\"white-space:pre;overflow-x:auto;line-height:normal;font-family:Menlo,'DejaVu Sans Mono',consolas,'Courier New',monospace\"><span style=\"color: #800000; text-decoration-color: #800000\">WARNING </span> <span style=\"color: #008000; text-decoration-color: #008000\">'sboTerm'</span> should be set on <span style=\"color: #008000; text-decoration-color: #008000\">'&lt;Parameter k1|k1 = 0.18&gt;'</span>                 <a href=\"file:///home/mkoenig/git/sbmlutils/src/sbmlutils/factory.py\"><span style=\"color: #7f7f7f; text-decoration-color: #7f7f7f\">factory.py</span></a><span style=\"color: #7f7f7f; text-decoration-color: #7f7f7f\">:461</span>\n",
       "</pre>\n"
      ],
      "text/plain": [
       "\u001b[31mWARNING \u001b[0m \u001b[32m'sboTerm'\u001b[0m should be set on \u001b[32m'\u001b[0m\u001b[32m<\u001b[0m\u001b[32mParameter\u001b[0m\u001b[32m k1|k1 = 0.18\u001b[0m\u001b[32m>\u001b[0m\u001b[32m'\u001b[0m                 \u001b]8;id=956538;file:///home/mkoenig/git/sbmlutils/src/sbmlutils/factory.py\u001b\\\u001b[2mfactory.py\u001b[0m\u001b]8;;\u001b\\\u001b[2m:461\u001b[0m\n"
      ]
     },
     "metadata": {},
     "output_type": "display_data"
    },
    {
     "data": {
      "text/html": [
       "<pre style=\"white-space:pre;overflow-x:auto;line-height:normal;font-family:Menlo,'DejaVu Sans Mono',consolas,'Courier New',monospace\"><span style=\"color: #800000; text-decoration-color: #800000\">WARNING </span> <span style=\"color: #008000; text-decoration-color: #008000\">'sboTerm'</span> should be set on <span style=\"color: #008000; text-decoration-color: #008000\">'&lt;Parameter k2|k2 = 0.011&gt;'</span>                <a href=\"file:///home/mkoenig/git/sbmlutils/src/sbmlutils/factory.py\"><span style=\"color: #7f7f7f; text-decoration-color: #7f7f7f\">factory.py</span></a><span style=\"color: #7f7f7f; text-decoration-color: #7f7f7f\">:461</span>\n",
       "</pre>\n"
      ],
      "text/plain": [
       "\u001b[31mWARNING \u001b[0m \u001b[32m'sboTerm'\u001b[0m should be set on \u001b[32m'\u001b[0m\u001b[32m<\u001b[0m\u001b[32mParameter\u001b[0m\u001b[32m k2|k2 = 0.011\u001b[0m\u001b[32m>\u001b[0m\u001b[32m'\u001b[0m                \u001b]8;id=917220;file:///home/mkoenig/git/sbmlutils/src/sbmlutils/factory.py\u001b\\\u001b[2mfactory.py\u001b[0m\u001b]8;;\u001b\\\u001b[2m:461\u001b[0m\n"
      ]
     },
     "metadata": {},
     "output_type": "display_data"
    },
    {
     "data": {
      "text/html": [
       "<pre style=\"white-space:pre;overflow-x:auto;line-height:normal;font-family:Menlo,'DejaVu Sans Mono',consolas,'Courier New',monospace\"><span style=\"color: #800000; text-decoration-color: #800000\">WARNING </span> <span style=\"color: #008000; text-decoration-color: #008000\">'sboTerm'</span> should be set on <span style=\"color: #008000; text-decoration-color: #008000\">'&lt;Parameter bbar|bbar = 0.28&gt;'</span>             <a href=\"file:///home/mkoenig/git/sbmlutils/src/sbmlutils/factory.py\"><span style=\"color: #7f7f7f; text-decoration-color: #7f7f7f\">factory.py</span></a><span style=\"color: #7f7f7f; text-decoration-color: #7f7f7f\">:461</span>\n",
       "</pre>\n"
      ],
      "text/plain": [
       "\u001b[31mWARNING \u001b[0m \u001b[32m'sboTerm'\u001b[0m should be set on \u001b[32m'\u001b[0m\u001b[32m<\u001b[0m\u001b[32mParameter\u001b[0m\u001b[32m bbar|bbar = 0.28\u001b[0m\u001b[32m>\u001b[0m\u001b[32m'\u001b[0m             \u001b]8;id=249270;file:///home/mkoenig/git/sbmlutils/src/sbmlutils/factory.py\u001b\\\u001b[2mfactory.py\u001b[0m\u001b]8;;\u001b\\\u001b[2m:461\u001b[0m\n"
      ]
     },
     "metadata": {},
     "output_type": "display_data"
    },
    {
     "data": {
      "text/html": [
       "<pre style=\"white-space:pre;overflow-x:auto;line-height:normal;font-family:Menlo,'DejaVu Sans Mono',consolas,'Courier New',monospace\"><span style=\"color: #800000; text-decoration-color: #800000\">WARNING </span> <span style=\"color: #008000; text-decoration-color: #008000\">'sboTerm'</span> should be set on <span style=\"color: #008000; text-decoration-color: #008000\">'&lt;Parameter abar|abar = 0.48&gt;'</span>             <a href=\"file:///home/mkoenig/git/sbmlutils/src/sbmlutils/factory.py\"><span style=\"color: #7f7f7f; text-decoration-color: #7f7f7f\">factory.py</span></a><span style=\"color: #7f7f7f; text-decoration-color: #7f7f7f\">:461</span>\n",
       "</pre>\n"
      ],
      "text/plain": [
       "\u001b[31mWARNING \u001b[0m \u001b[32m'sboTerm'\u001b[0m should be set on \u001b[32m'\u001b[0m\u001b[32m<\u001b[0m\u001b[32mParameter\u001b[0m\u001b[32m abar|abar = 0.48\u001b[0m\u001b[32m>\u001b[0m\u001b[32m'\u001b[0m             \u001b]8;id=143016;file:///home/mkoenig/git/sbmlutils/src/sbmlutils/factory.py\u001b\\\u001b[2mfactory.py\u001b[0m\u001b]8;;\u001b\\\u001b[2m:461\u001b[0m\n"
      ]
     },
     "metadata": {},
     "output_type": "display_data"
    },
    {
     "data": {
      "text/html": [
       "<pre style=\"white-space:pre;overflow-x:auto;line-height:normal;font-family:Menlo,'DejaVu Sans Mono',consolas,'Courier New',monospace\"><span style=\"color: #800000; text-decoration-color: #800000\">WARNING </span> <span style=\"color: #008000; text-decoration-color: #008000\">'sboTerm'</span> should be set on <span style=\"color: #008000; text-decoration-color: #008000\">'&lt;Parameter fer|fer = 0.01&gt;'</span>               <a href=\"file:///home/mkoenig/git/sbmlutils/src/sbmlutils/factory.py\"><span style=\"color: #7f7f7f; text-decoration-color: #7f7f7f\">factory.py</span></a><span style=\"color: #7f7f7f; text-decoration-color: #7f7f7f\">:461</span>\n",
       "</pre>\n"
      ],
      "text/plain": [
       "\u001b[31mWARNING \u001b[0m \u001b[32m'sboTerm'\u001b[0m should be set on \u001b[32m'\u001b[0m\u001b[32m<\u001b[0m\u001b[32mParameter\u001b[0m\u001b[32m fer|fer = 0.01\u001b[0m\u001b[32m>\u001b[0m\u001b[32m'\u001b[0m               \u001b]8;id=331947;file:///home/mkoenig/git/sbmlutils/src/sbmlutils/factory.py\u001b\\\u001b[2mfactory.py\u001b[0m\u001b]8;;\u001b\\\u001b[2m:461\u001b[0m\n"
      ]
     },
     "metadata": {},
     "output_type": "display_data"
    },
    {
     "data": {
      "text/html": [
       "<pre style=\"white-space:pre;overflow-x:auto;line-height:normal;font-family:Menlo,'DejaVu Sans Mono',consolas,'Courier New',monospace\"><span style=\"color: #800000; text-decoration-color: #800000\">WARNING </span> <span style=\"color: #008000; text-decoration-color: #008000\">'sboTerm'</span> should be set on <span style=\"color: #008000; text-decoration-color: #008000\">'&lt;Parameter vcytver|vcytver = 5&gt;'</span>          <a href=\"file:///home/mkoenig/git/sbmlutils/src/sbmlutils/factory.py\"><span style=\"color: #7f7f7f; text-decoration-color: #7f7f7f\">factory.py</span></a><span style=\"color: #7f7f7f; text-decoration-color: #7f7f7f\">:461</span>\n",
       "</pre>\n"
      ],
      "text/plain": [
       "\u001b[31mWARNING \u001b[0m \u001b[32m'sboTerm'\u001b[0m should be set on \u001b[32m'\u001b[0m\u001b[32m<\u001b[0m\u001b[32mParameter\u001b[0m\u001b[32m vcytver|vcytver = 5\u001b[0m\u001b[32m>\u001b[0m\u001b[32m'\u001b[0m          \u001b]8;id=610484;file:///home/mkoenig/git/sbmlutils/src/sbmlutils/factory.py\u001b\\\u001b[2mfactory.py\u001b[0m\u001b]8;;\u001b\\\u001b[2m:461\u001b[0m\n"
      ]
     },
     "metadata": {},
     "output_type": "display_data"
    },
    {
     "data": {
      "text/html": [
       "<pre style=\"white-space:pre;overflow-x:auto;line-height:normal;font-family:Menlo,'DejaVu Sans Mono',consolas,'Courier New',monospace\"><span style=\"color: #800000; text-decoration-color: #800000\">WARNING </span> <span style=\"color: #008000; text-decoration-color: #008000\">'sboTerm'</span> should be set on <span style=\"color: #008000; text-decoration-color: #008000\">'&lt;Parameter fcyt|fcyt = 0.01&gt;'</span>             <a href=\"file:///home/mkoenig/git/sbmlutils/src/sbmlutils/factory.py\"><span style=\"color: #7f7f7f; text-decoration-color: #7f7f7f\">factory.py</span></a><span style=\"color: #7f7f7f; text-decoration-color: #7f7f7f\">:461</span>\n",
       "</pre>\n"
      ],
      "text/plain": [
       "\u001b[31mWARNING \u001b[0m \u001b[32m'sboTerm'\u001b[0m should be set on \u001b[32m'\u001b[0m\u001b[32m<\u001b[0m\u001b[32mParameter\u001b[0m\u001b[32m fcyt|fcyt = 0.01\u001b[0m\u001b[32m>\u001b[0m\u001b[32m'\u001b[0m             \u001b]8;id=682823;file:///home/mkoenig/git/sbmlutils/src/sbmlutils/factory.py\u001b\\\u001b[2mfactory.py\u001b[0m\u001b]8;;\u001b\\\u001b[2m:461\u001b[0m\n"
      ]
     },
     "metadata": {},
     "output_type": "display_data"
    },
    {
     "data": {
      "text/html": [
       "<pre style=\"white-space:pre;overflow-x:auto;line-height:normal;font-family:Menlo,'DejaVu Sans Mono',consolas,'Courier New',monospace\"><span style=\"color: #800000; text-decoration-color: #800000\">WARNING </span> <span style=\"color: #008000; text-decoration-color: #008000\">'sboTerm'</span> should be set on <span style=\"color: #008000; text-decoration-color: #008000\">'&lt;Parameter period|period = 50&gt;'</span>           <a href=\"file:///home/mkoenig/git/sbmlutils/src/sbmlutils/factory.py\"><span style=\"color: #7f7f7f; text-decoration-color: #7f7f7f\">factory.py</span></a><span style=\"color: #7f7f7f; text-decoration-color: #7f7f7f\">:461</span>\n",
       "</pre>\n"
      ],
      "text/plain": [
       "\u001b[31mWARNING \u001b[0m \u001b[32m'sboTerm'\u001b[0m should be set on \u001b[32m'\u001b[0m\u001b[32m<\u001b[0m\u001b[32mParameter\u001b[0m\u001b[32m period|period = 50\u001b[0m\u001b[32m>\u001b[0m\u001b[32m'\u001b[0m           \u001b]8;id=273896;file:///home/mkoenig/git/sbmlutils/src/sbmlutils/factory.py\u001b\\\u001b[2mfactory.py\u001b[0m\u001b]8;;\u001b\\\u001b[2m:461\u001b[0m\n"
      ]
     },
     "metadata": {},
     "output_type": "display_data"
    },
    {
     "data": {
      "text/html": [
       "<pre style=\"white-space:pre;overflow-x:auto;line-height:normal;font-family:Menlo,'DejaVu Sans Mono',consolas,'Courier New',monospace\"><span style=\"color: #800000; text-decoration-color: #800000\">WARNING </span> <span style=\"color: #008000; text-decoration-color: #008000\">'sboTerm'</span> should be set on <span style=\"color: #008000; text-decoration-color: #008000\">'&lt;Parameter iStim_mag|iStim_mag = 2&gt;'</span>      <a href=\"file:///home/mkoenig/git/sbmlutils/src/sbmlutils/factory.py\"><span style=\"color: #7f7f7f; text-decoration-color: #7f7f7f\">factory.py</span></a><span style=\"color: #7f7f7f; text-decoration-color: #7f7f7f\">:461</span>\n",
       "</pre>\n"
      ],
      "text/plain": [
       "\u001b[31mWARNING \u001b[0m \u001b[32m'sboTerm'\u001b[0m should be set on \u001b[32m'\u001b[0m\u001b[32m<\u001b[0m\u001b[32mParameter\u001b[0m\u001b[32m iStim_mag|iStim_mag = 2\u001b[0m\u001b[32m>\u001b[0m\u001b[32m'\u001b[0m      \u001b]8;id=1349;file:///home/mkoenig/git/sbmlutils/src/sbmlutils/factory.py\u001b\\\u001b[2mfactory.py\u001b[0m\u001b]8;;\u001b\\\u001b[2m:461\u001b[0m\n"
      ]
     },
     "metadata": {},
     "output_type": "display_data"
    },
    {
     "data": {
      "text/html": [
       "<pre style=\"white-space:pre;overflow-x:auto;line-height:normal;font-family:Menlo,'DejaVu Sans Mono',consolas,'Courier New',monospace\"><span style=\"color: #800000; text-decoration-color: #800000\">WARNING </span> <span style=\"color: #008000; text-decoration-color: #008000\">'sboTerm'</span> should be set on <span style=\"color: #008000; text-decoration-color: #008000\">'&lt;Parameter iStim_beg|iStim_beg = 5&gt;'</span>      <a href=\"file:///home/mkoenig/git/sbmlutils/src/sbmlutils/factory.py\"><span style=\"color: #7f7f7f; text-decoration-color: #7f7f7f\">factory.py</span></a><span style=\"color: #7f7f7f; text-decoration-color: #7f7f7f\">:461</span>\n",
       "</pre>\n"
      ],
      "text/plain": [
       "\u001b[31mWARNING \u001b[0m \u001b[32m'sboTerm'\u001b[0m should be set on \u001b[32m'\u001b[0m\u001b[32m<\u001b[0m\u001b[32mParameter\u001b[0m\u001b[32m iStim_beg|iStim_beg = 5\u001b[0m\u001b[32m>\u001b[0m\u001b[32m'\u001b[0m      \u001b]8;id=656622;file:///home/mkoenig/git/sbmlutils/src/sbmlutils/factory.py\u001b\\\u001b[2mfactory.py\u001b[0m\u001b]8;;\u001b\\\u001b[2m:461\u001b[0m\n"
      ]
     },
     "metadata": {},
     "output_type": "display_data"
    },
    {
     "data": {
      "text/html": [
       "<pre style=\"white-space:pre;overflow-x:auto;line-height:normal;font-family:Menlo,'DejaVu Sans Mono',consolas,'Courier New',monospace\"><span style=\"color: #800000; text-decoration-color: #800000\">WARNING </span> <span style=\"color: #008000; text-decoration-color: #008000\">'sboTerm'</span> should be set on <span style=\"color: #008000; text-decoration-color: #008000\">'&lt;Parameter iStim_dur|iStim_dur = 1&gt;'</span>      <a href=\"file:///home/mkoenig/git/sbmlutils/src/sbmlutils/factory.py\"><span style=\"color: #7f7f7f; text-decoration-color: #7f7f7f\">factory.py</span></a><span style=\"color: #7f7f7f; text-decoration-color: #7f7f7f\">:461</span>\n",
       "</pre>\n"
      ],
      "text/plain": [
       "\u001b[31mWARNING \u001b[0m \u001b[32m'sboTerm'\u001b[0m should be set on \u001b[32m'\u001b[0m\u001b[32m<\u001b[0m\u001b[32mParameter\u001b[0m\u001b[32m iStim_dur|iStim_dur = 1\u001b[0m\u001b[32m>\u001b[0m\u001b[32m'\u001b[0m      \u001b]8;id=625574;file:///home/mkoenig/git/sbmlutils/src/sbmlutils/factory.py\u001b\\\u001b[2mfactory.py\u001b[0m\u001b]8;;\u001b\\\u001b[2m:461\u001b[0m\n"
      ]
     },
     "metadata": {},
     "output_type": "display_data"
    },
    {
     "data": {
      "text/html": [
       "<pre style=\"white-space:pre;overflow-x:auto;line-height:normal;font-family:Menlo,'DejaVu Sans Mono',consolas,'Courier New',monospace\"><span style=\"color: #800000; text-decoration-color: #800000\">WARNING </span> <span style=\"color: #008000; text-decoration-color: #008000\">'sboTerm'</span> should be set on <span style=\"color: #008000; text-decoration-color: #008000\">'&lt;Function max|minimum&gt;'</span>                   <a href=\"file:///home/mkoenig/git/sbmlutils/src/sbmlutils/factory.py\"><span style=\"color: #7f7f7f; text-decoration-color: #7f7f7f\">factory.py</span></a><span style=\"color: #7f7f7f; text-decoration-color: #7f7f7f\">:461</span>\n",
       "</pre>\n"
      ],
      "text/plain": [
       "\u001b[31mWARNING \u001b[0m \u001b[32m'sboTerm'\u001b[0m should be set on \u001b[32m'\u001b[0m\u001b[32m<\u001b[0m\u001b[32mFunction\u001b[0m\u001b[32m max|minimum\u001b[0m\u001b[32m>\u001b[0m\u001b[32m'\u001b[0m                   \u001b]8;id=181181;file:///home/mkoenig/git/sbmlutils/src/sbmlutils/factory.py\u001b\\\u001b[2mfactory.py\u001b[0m\u001b]8;;\u001b\\\u001b[2m:461\u001b[0m\n"
      ]
     },
     "metadata": {},
     "output_type": "display_data"
    },
    {
     "data": {
      "text/html": [
       "<pre style=\"white-space:pre;overflow-x:auto;line-height:normal;font-family:Menlo,'DejaVu Sans Mono',consolas,'Courier New',monospace\"><span style=\"color: #800000; text-decoration-color: #800000\">WARNING </span> <span style=\"color: #008000; text-decoration-color: #008000\">'sboTerm'</span> should be set on <span style=\"color: #008000; text-decoration-color: #008000\">'&lt;Function min|maximum&gt;'</span>                   <a href=\"file:///home/mkoenig/git/sbmlutils/src/sbmlutils/factory.py\"><span style=\"color: #7f7f7f; text-decoration-color: #7f7f7f\">factory.py</span></a><span style=\"color: #7f7f7f; text-decoration-color: #7f7f7f\">:461</span>\n",
       "</pre>\n"
      ],
      "text/plain": [
       "\u001b[31mWARNING \u001b[0m \u001b[32m'sboTerm'\u001b[0m should be set on \u001b[32m'\u001b[0m\u001b[32m<\u001b[0m\u001b[32mFunction\u001b[0m\u001b[32m min|maximum\u001b[0m\u001b[32m>\u001b[0m\u001b[32m'\u001b[0m                   \u001b]8;id=158678;file:///home/mkoenig/git/sbmlutils/src/sbmlutils/factory.py\u001b\\\u001b[2mfactory.py\u001b[0m\u001b]8;;\u001b\\\u001b[2m:461\u001b[0m\n"
      ]
     },
     "metadata": {},
     "output_type": "display_data"
    },
    {
     "data": {
      "text/html": [
       "<pre style=\"white-space:pre;overflow-x:auto;line-height:normal;font-family:Menlo,'DejaVu Sans Mono',consolas,'Courier New',monospace\"><span style=\"color: #800000; text-decoration-color: #800000\">WARNING </span> <span style=\"color: #008000; text-decoration-color: #008000\">'sboTerm'</span> should be set on <span style=\"color: #008000; text-decoration-color: #008000\">'&lt;Function heav|heavyside&gt;'</span>                <a href=\"file:///home/mkoenig/git/sbmlutils/src/sbmlutils/factory.py\"><span style=\"color: #7f7f7f; text-decoration-color: #7f7f7f\">factory.py</span></a><span style=\"color: #7f7f7f; text-decoration-color: #7f7f7f\">:461</span>\n",
       "</pre>\n"
      ],
      "text/plain": [
       "\u001b[31mWARNING \u001b[0m \u001b[32m'sboTerm'\u001b[0m should be set on \u001b[32m'\u001b[0m\u001b[32m<\u001b[0m\u001b[32mFunction\u001b[0m\u001b[32m heav|heavyside\u001b[0m\u001b[32m>\u001b[0m\u001b[32m'\u001b[0m                \u001b]8;id=924471;file:///home/mkoenig/git/sbmlutils/src/sbmlutils/factory.py\u001b\\\u001b[2mfactory.py\u001b[0m\u001b]8;;\u001b\\\u001b[2m:461\u001b[0m\n"
      ]
     },
     "metadata": {},
     "output_type": "display_data"
    },
    {
     "data": {
      "text/html": [
       "<pre style=\"white-space:pre;overflow-x:auto;line-height:normal;font-family:Menlo,'DejaVu Sans Mono',consolas,'Courier New',monospace\"><span style=\"color: #800000; text-decoration-color: #800000\">WARNING </span> <span style=\"color: #008000; text-decoration-color: #008000\">'sboTerm'</span> should be set on <span style=\"color: #008000; text-decoration-color: #008000\">'&lt;Function mod|modulo&gt;'</span>                    <a href=\"file:///home/mkoenig/git/sbmlutils/src/sbmlutils/factory.py\"><span style=\"color: #7f7f7f; text-decoration-color: #7f7f7f\">factory.py</span></a><span style=\"color: #7f7f7f; text-decoration-color: #7f7f7f\">:461</span>\n",
       "</pre>\n"
      ],
      "text/plain": [
       "\u001b[31mWARNING \u001b[0m \u001b[32m'sboTerm'\u001b[0m should be set on \u001b[32m'\u001b[0m\u001b[32m<\u001b[0m\u001b[32mFunction\u001b[0m\u001b[32m mod|modulo\u001b[0m\u001b[32m>\u001b[0m\u001b[32m'\u001b[0m                    \u001b]8;id=58487;file:///home/mkoenig/git/sbmlutils/src/sbmlutils/factory.py\u001b\\\u001b[2mfactory.py\u001b[0m\u001b]8;;\u001b\\\u001b[2m:461\u001b[0m\n"
      ]
     },
     "metadata": {},
     "output_type": "display_data"
    },
    {
     "data": {
      "text/html": [
       "<pre style=\"white-space:pre;overflow-x:auto;line-height:normal;font-family:Menlo,'DejaVu Sans Mono',consolas,'Courier New',monospace\"><span style=\"color: #800000; text-decoration-color: #800000\">WARNING </span> <span style=\"color: #008000; text-decoration-color: #008000\">'name'</span> should be set on <span style=\"color: #008000; text-decoration-color: #008000\">'&lt;Function alp&gt;'</span>                              <a href=\"file:///home/mkoenig/git/sbmlutils/src/sbmlutils/factory.py\"><span style=\"color: #7f7f7f; text-decoration-color: #7f7f7f\">factory.py</span></a><span style=\"color: #7f7f7f; text-decoration-color: #7f7f7f\">:436</span>\n",
       "</pre>\n"
      ],
      "text/plain": [
       "\u001b[31mWARNING \u001b[0m \u001b[32m'name'\u001b[0m should be set on \u001b[32m'\u001b[0m\u001b[32m<\u001b[0m\u001b[32mFunction\u001b[0m\u001b[32m alp\u001b[0m\u001b[32m>\u001b[0m\u001b[32m'\u001b[0m                              \u001b]8;id=231103;file:///home/mkoenig/git/sbmlutils/src/sbmlutils/factory.py\u001b\\\u001b[2mfactory.py\u001b[0m\u001b]8;;\u001b\\\u001b[2m:436\u001b[0m\n"
      ]
     },
     "metadata": {},
     "output_type": "display_data"
    },
    {
     "data": {
      "text/html": [
       "<pre style=\"white-space:pre;overflow-x:auto;line-height:normal;font-family:Menlo,'DejaVu Sans Mono',consolas,'Courier New',monospace\"><span style=\"color: #800000; text-decoration-color: #800000\">WARNING </span> <span style=\"color: #008000; text-decoration-color: #008000\">'sboTerm'</span> should be set on <span style=\"color: #008000; text-decoration-color: #008000\">'&lt;Function alp&gt;'</span>                           <a href=\"file:///home/mkoenig/git/sbmlutils/src/sbmlutils/factory.py\"><span style=\"color: #7f7f7f; text-decoration-color: #7f7f7f\">factory.py</span></a><span style=\"color: #7f7f7f; text-decoration-color: #7f7f7f\">:461</span>\n",
       "</pre>\n"
      ],
      "text/plain": [
       "\u001b[31mWARNING \u001b[0m \u001b[32m'sboTerm'\u001b[0m should be set on \u001b[32m'\u001b[0m\u001b[32m<\u001b[0m\u001b[32mFunction\u001b[0m\u001b[32m alp\u001b[0m\u001b[32m>\u001b[0m\u001b[32m'\u001b[0m                           \u001b]8;id=936081;file:///home/mkoenig/git/sbmlutils/src/sbmlutils/factory.py\u001b\\\u001b[2mfactory.py\u001b[0m\u001b]8;;\u001b\\\u001b[2m:461\u001b[0m\n"
      ]
     },
     "metadata": {},
     "output_type": "display_data"
    },
    {
     "data": {
      "text/html": [
       "<pre style=\"white-space:pre;overflow-x:auto;line-height:normal;font-family:Menlo,'DejaVu Sans Mono',consolas,'Courier New',monospace\"><span style=\"color: #800000; text-decoration-color: #800000\">WARNING </span> <span style=\"color: #008000; text-decoration-color: #008000\">'name'</span> should be set on <span style=\"color: #008000; text-decoration-color: #008000\">'&lt;Function beta&gt;'</span>                             <a href=\"file:///home/mkoenig/git/sbmlutils/src/sbmlutils/factory.py\"><span style=\"color: #7f7f7f; text-decoration-color: #7f7f7f\">factory.py</span></a><span style=\"color: #7f7f7f; text-decoration-color: #7f7f7f\">:436</span>\n",
       "</pre>\n"
      ],
      "text/plain": [
       "\u001b[31mWARNING \u001b[0m \u001b[32m'name'\u001b[0m should be set on \u001b[32m'\u001b[0m\u001b[32m<\u001b[0m\u001b[32mFunction\u001b[0m\u001b[32m beta\u001b[0m\u001b[32m>\u001b[0m\u001b[32m'\u001b[0m                             \u001b]8;id=260563;file:///home/mkoenig/git/sbmlutils/src/sbmlutils/factory.py\u001b\\\u001b[2mfactory.py\u001b[0m\u001b]8;;\u001b\\\u001b[2m:436\u001b[0m\n"
      ]
     },
     "metadata": {},
     "output_type": "display_data"
    },
    {
     "data": {
      "text/html": [
       "<pre style=\"white-space:pre;overflow-x:auto;line-height:normal;font-family:Menlo,'DejaVu Sans Mono',consolas,'Courier New',monospace\"><span style=\"color: #800000; text-decoration-color: #800000\">WARNING </span> <span style=\"color: #008000; text-decoration-color: #008000\">'sboTerm'</span> should be set on <span style=\"color: #008000; text-decoration-color: #008000\">'&lt;Function beta&gt;'</span>                          <a href=\"file:///home/mkoenig/git/sbmlutils/src/sbmlutils/factory.py\"><span style=\"color: #7f7f7f; text-decoration-color: #7f7f7f\">factory.py</span></a><span style=\"color: #7f7f7f; text-decoration-color: #7f7f7f\">:461</span>\n",
       "</pre>\n"
      ],
      "text/plain": [
       "\u001b[31mWARNING \u001b[0m \u001b[32m'sboTerm'\u001b[0m should be set on \u001b[32m'\u001b[0m\u001b[32m<\u001b[0m\u001b[32mFunction\u001b[0m\u001b[32m beta\u001b[0m\u001b[32m>\u001b[0m\u001b[32m'\u001b[0m                          \u001b]8;id=267568;file:///home/mkoenig/git/sbmlutils/src/sbmlutils/factory.py\u001b\\\u001b[2mfactory.py\u001b[0m\u001b]8;;\u001b\\\u001b[2m:461\u001b[0m\n"
      ]
     },
     "metadata": {},
     "output_type": "display_data"
    },
    {
     "data": {
      "text/html": [
       "<pre style=\"white-space:pre;overflow-x:auto;line-height:normal;font-family:Menlo,'DejaVu Sans Mono',consolas,'Courier New',monospace\"><span style=\"color: #800000; text-decoration-color: #800000\">WARNING </span> <span style=\"color: #008000; text-decoration-color: #008000\">'name'</span> should be set on <span style=\"color: #008000; text-decoration-color: #008000\">'&lt;Function tau&gt;'</span>                              <a href=\"file:///home/mkoenig/git/sbmlutils/src/sbmlutils/factory.py\"><span style=\"color: #7f7f7f; text-decoration-color: #7f7f7f\">factory.py</span></a><span style=\"color: #7f7f7f; text-decoration-color: #7f7f7f\">:436</span>\n",
       "</pre>\n"
      ],
      "text/plain": [
       "\u001b[31mWARNING \u001b[0m \u001b[32m'name'\u001b[0m should be set on \u001b[32m'\u001b[0m\u001b[32m<\u001b[0m\u001b[32mFunction\u001b[0m\u001b[32m tau\u001b[0m\u001b[32m>\u001b[0m\u001b[32m'\u001b[0m                              \u001b]8;id=543816;file:///home/mkoenig/git/sbmlutils/src/sbmlutils/factory.py\u001b\\\u001b[2mfactory.py\u001b[0m\u001b]8;;\u001b\\\u001b[2m:436\u001b[0m\n"
      ]
     },
     "metadata": {},
     "output_type": "display_data"
    },
    {
     "data": {
      "text/html": [
       "<pre style=\"white-space:pre;overflow-x:auto;line-height:normal;font-family:Menlo,'DejaVu Sans Mono',consolas,'Courier New',monospace\"><span style=\"color: #800000; text-decoration-color: #800000\">WARNING </span> <span style=\"color: #008000; text-decoration-color: #008000\">'sboTerm'</span> should be set on <span style=\"color: #008000; text-decoration-color: #008000\">'&lt;Function tau&gt;'</span>                           <a href=\"file:///home/mkoenig/git/sbmlutils/src/sbmlutils/factory.py\"><span style=\"color: #7f7f7f; text-decoration-color: #7f7f7f\">factory.py</span></a><span style=\"color: #7f7f7f; text-decoration-color: #7f7f7f\">:461</span>\n",
       "</pre>\n"
      ],
      "text/plain": [
       "\u001b[31mWARNING \u001b[0m \u001b[32m'sboTerm'\u001b[0m should be set on \u001b[32m'\u001b[0m\u001b[32m<\u001b[0m\u001b[32mFunction\u001b[0m\u001b[32m tau\u001b[0m\u001b[32m>\u001b[0m\u001b[32m'\u001b[0m                           \u001b]8;id=291358;file:///home/mkoenig/git/sbmlutils/src/sbmlutils/factory.py\u001b\\\u001b[2mfactory.py\u001b[0m\u001b]8;;\u001b\\\u001b[2m:461\u001b[0m\n"
      ]
     },
     "metadata": {},
     "output_type": "display_data"
    },
    {
     "data": {
      "text/html": [
       "<pre style=\"white-space:pre;overflow-x:auto;line-height:normal;font-family:Menlo,'DejaVu Sans Mono',consolas,'Courier New',monospace\"><span style=\"color: #800000; text-decoration-color: #800000\">WARNING </span> <span style=\"color: #008000; text-decoration-color: #008000\">'name'</span> should be set on <span style=\"color: #008000; text-decoration-color: #008000\">'&lt;Function ooinf&gt;'</span>                            <a href=\"file:///home/mkoenig/git/sbmlutils/src/sbmlutils/factory.py\"><span style=\"color: #7f7f7f; text-decoration-color: #7f7f7f\">factory.py</span></a><span style=\"color: #7f7f7f; text-decoration-color: #7f7f7f\">:436</span>\n",
       "</pre>\n"
      ],
      "text/plain": [
       "\u001b[31mWARNING \u001b[0m \u001b[32m'name'\u001b[0m should be set on \u001b[32m'\u001b[0m\u001b[32m<\u001b[0m\u001b[32mFunction\u001b[0m\u001b[32m ooinf\u001b[0m\u001b[32m>\u001b[0m\u001b[32m'\u001b[0m                            \u001b]8;id=449960;file:///home/mkoenig/git/sbmlutils/src/sbmlutils/factory.py\u001b\\\u001b[2mfactory.py\u001b[0m\u001b]8;;\u001b\\\u001b[2m:436\u001b[0m\n"
      ]
     },
     "metadata": {},
     "output_type": "display_data"
    },
    {
     "data": {
      "text/html": [
       "<pre style=\"white-space:pre;overflow-x:auto;line-height:normal;font-family:Menlo,'DejaVu Sans Mono',consolas,'Courier New',monospace\"><span style=\"color: #800000; text-decoration-color: #800000\">WARNING </span> <span style=\"color: #008000; text-decoration-color: #008000\">'sboTerm'</span> should be set on <span style=\"color: #008000; text-decoration-color: #008000\">'&lt;Function ooinf&gt;'</span>                         <a href=\"file:///home/mkoenig/git/sbmlutils/src/sbmlutils/factory.py\"><span style=\"color: #7f7f7f; text-decoration-color: #7f7f7f\">factory.py</span></a><span style=\"color: #7f7f7f; text-decoration-color: #7f7f7f\">:461</span>\n",
       "</pre>\n"
      ],
      "text/plain": [
       "\u001b[31mWARNING \u001b[0m \u001b[32m'sboTerm'\u001b[0m should be set on \u001b[32m'\u001b[0m\u001b[32m<\u001b[0m\u001b[32mFunction\u001b[0m\u001b[32m ooinf\u001b[0m\u001b[32m>\u001b[0m\u001b[32m'\u001b[0m                         \u001b]8;id=511686;file:///home/mkoenig/git/sbmlutils/src/sbmlutils/factory.py\u001b\\\u001b[2mfactory.py\u001b[0m\u001b]8;;\u001b\\\u001b[2m:461\u001b[0m\n"
      ]
     },
     "metadata": {},
     "output_type": "display_data"
    },
    {
     "data": {
      "text/html": [
       "<pre style=\"white-space:pre;overflow-x:auto;line-height:normal;font-family:Menlo,'DejaVu Sans Mono',consolas,'Courier New',monospace\"><span style=\"color: #800000; text-decoration-color: #800000\">WARNING </span> <span style=\"color: #008000; text-decoration-color: #008000\">'name'</span> should be set on <span style=\"color: #008000; text-decoration-color: #008000\">'&lt;RateRule Vm&gt;'</span>                               <a href=\"file:///home/mkoenig/git/sbmlutils/src/sbmlutils/factory.py\"><span style=\"color: #7f7f7f; text-decoration-color: #7f7f7f\">factory.py</span></a><span style=\"color: #7f7f7f; text-decoration-color: #7f7f7f\">:436</span>\n",
       "</pre>\n"
      ],
      "text/plain": [
       "\u001b[31mWARNING \u001b[0m \u001b[32m'name'\u001b[0m should be set on \u001b[32m'\u001b[0m\u001b[32m<\u001b[0m\u001b[32mRateRule\u001b[0m\u001b[32m Vm\u001b[0m\u001b[32m>\u001b[0m\u001b[32m'\u001b[0m                               \u001b]8;id=59132;file:///home/mkoenig/git/sbmlutils/src/sbmlutils/factory.py\u001b\\\u001b[2mfactory.py\u001b[0m\u001b]8;;\u001b\\\u001b[2m:436\u001b[0m\n"
      ]
     },
     "metadata": {},
     "output_type": "display_data"
    },
    {
     "data": {
      "text/html": [
       "<pre style=\"white-space:pre;overflow-x:auto;line-height:normal;font-family:Menlo,'DejaVu Sans Mono',consolas,'Courier New',monospace\"><span style=\"color: #800000; text-decoration-color: #800000\">WARNING </span> <span style=\"color: #008000; text-decoration-color: #008000\">'name'</span> should be set on <span style=\"color: #008000; text-decoration-color: #008000\">'&lt;RateRule m&gt;'</span>                                <a href=\"file:///home/mkoenig/git/sbmlutils/src/sbmlutils/factory.py\"><span style=\"color: #7f7f7f; text-decoration-color: #7f7f7f\">factory.py</span></a><span style=\"color: #7f7f7f; text-decoration-color: #7f7f7f\">:436</span>\n",
       "</pre>\n"
      ],
      "text/plain": [
       "\u001b[31mWARNING \u001b[0m \u001b[32m'name'\u001b[0m should be set on \u001b[32m'\u001b[0m\u001b[32m<\u001b[0m\u001b[32mRateRule\u001b[0m\u001b[32m m\u001b[0m\u001b[32m>\u001b[0m\u001b[32m'\u001b[0m                                \u001b]8;id=272817;file:///home/mkoenig/git/sbmlutils/src/sbmlutils/factory.py\u001b\\\u001b[2mfactory.py\u001b[0m\u001b]8;;\u001b\\\u001b[2m:436\u001b[0m\n"
      ]
     },
     "metadata": {},
     "output_type": "display_data"
    },
    {
     "data": {
      "text/html": [
       "<pre style=\"white-space:pre;overflow-x:auto;line-height:normal;font-family:Menlo,'DejaVu Sans Mono',consolas,'Courier New',monospace\"><span style=\"color: #800000; text-decoration-color: #800000\">WARNING </span> <span style=\"color: #008000; text-decoration-color: #008000\">'name'</span> should be set on <span style=\"color: #008000; text-decoration-color: #008000\">'&lt;RateRule h&gt;'</span>                                <a href=\"file:///home/mkoenig/git/sbmlutils/src/sbmlutils/factory.py\"><span style=\"color: #7f7f7f; text-decoration-color: #7f7f7f\">factory.py</span></a><span style=\"color: #7f7f7f; text-decoration-color: #7f7f7f\">:436</span>\n",
       "</pre>\n"
      ],
      "text/plain": [
       "\u001b[31mWARNING \u001b[0m \u001b[32m'name'\u001b[0m should be set on \u001b[32m'\u001b[0m\u001b[32m<\u001b[0m\u001b[32mRateRule\u001b[0m\u001b[32m h\u001b[0m\u001b[32m>\u001b[0m\u001b[32m'\u001b[0m                                \u001b]8;id=528853;file:///home/mkoenig/git/sbmlutils/src/sbmlutils/factory.py\u001b\\\u001b[2mfactory.py\u001b[0m\u001b]8;;\u001b\\\u001b[2m:436\u001b[0m\n"
      ]
     },
     "metadata": {},
     "output_type": "display_data"
    },
    {
     "data": {
      "text/html": [
       "<pre style=\"white-space:pre;overflow-x:auto;line-height:normal;font-family:Menlo,'DejaVu Sans Mono',consolas,'Courier New',monospace\"><span style=\"color: #800000; text-decoration-color: #800000\">WARNING </span> <span style=\"color: #008000; text-decoration-color: #008000\">'name'</span> should be set on <span style=\"color: #008000; text-decoration-color: #008000\">'&lt;RateRule n&gt;'</span>                                <a href=\"file:///home/mkoenig/git/sbmlutils/src/sbmlutils/factory.py\"><span style=\"color: #7f7f7f; text-decoration-color: #7f7f7f\">factory.py</span></a><span style=\"color: #7f7f7f; text-decoration-color: #7f7f7f\">:436</span>\n",
       "</pre>\n"
      ],
      "text/plain": [
       "\u001b[31mWARNING \u001b[0m \u001b[32m'name'\u001b[0m should be set on \u001b[32m'\u001b[0m\u001b[32m<\u001b[0m\u001b[32mRateRule\u001b[0m\u001b[32m n\u001b[0m\u001b[32m>\u001b[0m\u001b[32m'\u001b[0m                                \u001b]8;id=59898;file:///home/mkoenig/git/sbmlutils/src/sbmlutils/factory.py\u001b\\\u001b[2mfactory.py\u001b[0m\u001b]8;;\u001b\\\u001b[2m:436\u001b[0m\n"
      ]
     },
     "metadata": {},
     "output_type": "display_data"
    },
    {
     "data": {
      "text/html": [
       "<pre style=\"white-space:pre;overflow-x:auto;line-height:normal;font-family:Menlo,'DejaVu Sans Mono',consolas,'Courier New',monospace\"><span style=\"color: #800000; text-decoration-color: #800000\">WARNING </span> <span style=\"color: #008000; text-decoration-color: #008000\">'name'</span> should be set on <span style=\"color: #008000; text-decoration-color: #008000\">'&lt;RateRule Vt&gt;'</span>                               <a href=\"file:///home/mkoenig/git/sbmlutils/src/sbmlutils/factory.py\"><span style=\"color: #7f7f7f; text-decoration-color: #7f7f7f\">factory.py</span></a><span style=\"color: #7f7f7f; text-decoration-color: #7f7f7f\">:436</span>\n",
       "</pre>\n"
      ],
      "text/plain": [
       "\u001b[31mWARNING \u001b[0m \u001b[32m'name'\u001b[0m should be set on \u001b[32m'\u001b[0m\u001b[32m<\u001b[0m\u001b[32mRateRule\u001b[0m\u001b[32m Vt\u001b[0m\u001b[32m>\u001b[0m\u001b[32m'\u001b[0m                               \u001b]8;id=115967;file:///home/mkoenig/git/sbmlutils/src/sbmlutils/factory.py\u001b\\\u001b[2mfactory.py\u001b[0m\u001b]8;;\u001b\\\u001b[2m:436\u001b[0m\n"
      ]
     },
     "metadata": {},
     "output_type": "display_data"
    },
    {
     "data": {
      "text/html": [
       "<pre style=\"white-space:pre;overflow-x:auto;line-height:normal;font-family:Menlo,'DejaVu Sans Mono',consolas,'Courier New',monospace\"><span style=\"color: #800000; text-decoration-color: #800000\">WARNING </span> <span style=\"color: #008000; text-decoration-color: #008000\">'name'</span> should be set on <span style=\"color: #008000; text-decoration-color: #008000\">'&lt;Parameter d&gt;'</span>                               <a href=\"file:///home/mkoenig/git/sbmlutils/src/sbmlutils/factory.py\"><span style=\"color: #7f7f7f; text-decoration-color: #7f7f7f\">factory.py</span></a><span style=\"color: #7f7f7f; text-decoration-color: #7f7f7f\">:436</span>\n",
       "</pre>\n"
      ],
      "text/plain": [
       "\u001b[31mWARNING \u001b[0m \u001b[32m'name'\u001b[0m should be set on \u001b[32m'\u001b[0m\u001b[32m<\u001b[0m\u001b[32mParameter\u001b[0m\u001b[32m d\u001b[0m\u001b[32m>\u001b[0m\u001b[32m'\u001b[0m                               \u001b]8;id=661460;file:///home/mkoenig/git/sbmlutils/src/sbmlutils/factory.py\u001b\\\u001b[2mfactory.py\u001b[0m\u001b]8;;\u001b\\\u001b[2m:436\u001b[0m\n"
      ]
     },
     "metadata": {},
     "output_type": "display_data"
    },
    {
     "data": {
      "text/html": [
       "<pre style=\"white-space:pre;overflow-x:auto;line-height:normal;font-family:Menlo,'DejaVu Sans Mono',consolas,'Courier New',monospace\"><span style=\"color: #800000; text-decoration-color: #800000\">WARNING </span> <span style=\"color: #008000; text-decoration-color: #008000\">'sboTerm'</span> should be set on <span style=\"color: #008000; text-decoration-color: #008000\">'&lt;Parameter d&gt;'</span>                            <a href=\"file:///home/mkoenig/git/sbmlutils/src/sbmlutils/factory.py\"><span style=\"color: #7f7f7f; text-decoration-color: #7f7f7f\">factory.py</span></a><span style=\"color: #7f7f7f; text-decoration-color: #7f7f7f\">:461</span>\n",
       "</pre>\n"
      ],
      "text/plain": [
       "\u001b[31mWARNING \u001b[0m \u001b[32m'sboTerm'\u001b[0m should be set on \u001b[32m'\u001b[0m\u001b[32m<\u001b[0m\u001b[32mParameter\u001b[0m\u001b[32m d\u001b[0m\u001b[32m>\u001b[0m\u001b[32m'\u001b[0m                            \u001b]8;id=903386;file:///home/mkoenig/git/sbmlutils/src/sbmlutils/factory.py\u001b\\\u001b[2mfactory.py\u001b[0m\u001b]8;;\u001b\\\u001b[2m:461\u001b[0m\n"
      ]
     },
     "metadata": {},
     "output_type": "display_data"
    },
    {
     "data": {
      "text/html": [
       "<pre style=\"white-space:pre;overflow-x:auto;line-height:normal;font-family:Menlo,'DejaVu Sans Mono',consolas,'Courier New',monospace\"><span style=\"color: #800000; text-decoration-color: #800000\">WARNING </span> <span style=\"color: #008000; text-decoration-color: #008000\">'name'</span> should be set on <span style=\"color: #008000; text-decoration-color: #008000\">'&lt;RateRule d&gt;'</span>                                <a href=\"file:///home/mkoenig/git/sbmlutils/src/sbmlutils/factory.py\"><span style=\"color: #7f7f7f; text-decoration-color: #7f7f7f\">factory.py</span></a><span style=\"color: #7f7f7f; text-decoration-color: #7f7f7f\">:436</span>\n",
       "</pre>\n"
      ],
      "text/plain": [
       "\u001b[31mWARNING \u001b[0m \u001b[32m'name'\u001b[0m should be set on \u001b[32m'\u001b[0m\u001b[32m<\u001b[0m\u001b[32mRateRule\u001b[0m\u001b[32m d\u001b[0m\u001b[32m>\u001b[0m\u001b[32m'\u001b[0m                                \u001b]8;id=2591;file:///home/mkoenig/git/sbmlutils/src/sbmlutils/factory.py\u001b\\\u001b[2mfactory.py\u001b[0m\u001b]8;;\u001b\\\u001b[2m:436\u001b[0m\n"
      ]
     },
     "metadata": {},
     "output_type": "display_data"
    },
    {
     "data": {
      "text/html": [
       "<pre style=\"white-space:pre;overflow-x:auto;line-height:normal;font-family:Menlo,'DejaVu Sans Mono',consolas,'Courier New',monospace\"><span style=\"color: #800000; text-decoration-color: #800000\">WARNING </span> <span style=\"color: #008000; text-decoration-color: #008000\">'name'</span> should be set on <span style=\"color: #008000; text-decoration-color: #008000\">'&lt;RateRule o&gt;'</span>                                <a href=\"file:///home/mkoenig/git/sbmlutils/src/sbmlutils/factory.py\"><span style=\"color: #7f7f7f; text-decoration-color: #7f7f7f\">factory.py</span></a><span style=\"color: #7f7f7f; text-decoration-color: #7f7f7f\">:436</span>\n",
       "</pre>\n"
      ],
      "text/plain": [
       "\u001b[31mWARNING \u001b[0m \u001b[32m'name'\u001b[0m should be set on \u001b[32m'\u001b[0m\u001b[32m<\u001b[0m\u001b[32mRateRule\u001b[0m\u001b[32m o\u001b[0m\u001b[32m>\u001b[0m\u001b[32m'\u001b[0m                                \u001b]8;id=234756;file:///home/mkoenig/git/sbmlutils/src/sbmlutils/factory.py\u001b\\\u001b[2mfactory.py\u001b[0m\u001b]8;;\u001b\\\u001b[2m:436\u001b[0m\n"
      ]
     },
     "metadata": {},
     "output_type": "display_data"
    },
    {
     "data": {
      "text/html": [
       "<pre style=\"white-space:pre;overflow-x:auto;line-height:normal;font-family:Menlo,'DejaVu Sans Mono',consolas,'Courier New',monospace\"><span style=\"color: #800000; text-decoration-color: #800000\">WARNING </span> <span style=\"color: #008000; text-decoration-color: #008000\">'name'</span> should be set on <span style=\"color: #008000; text-decoration-color: #008000\">'&lt;RateRule c&gt;'</span>                                <a href=\"file:///home/mkoenig/git/sbmlutils/src/sbmlutils/factory.py\"><span style=\"color: #7f7f7f; text-decoration-color: #7f7f7f\">factory.py</span></a><span style=\"color: #7f7f7f; text-decoration-color: #7f7f7f\">:436</span>\n",
       "</pre>\n"
      ],
      "text/plain": [
       "\u001b[31mWARNING \u001b[0m \u001b[32m'name'\u001b[0m should be set on \u001b[32m'\u001b[0m\u001b[32m<\u001b[0m\u001b[32mRateRule\u001b[0m\u001b[32m c\u001b[0m\u001b[32m>\u001b[0m\u001b[32m'\u001b[0m                                \u001b]8;id=204861;file:///home/mkoenig/git/sbmlutils/src/sbmlutils/factory.py\u001b\\\u001b[2mfactory.py\u001b[0m\u001b]8;;\u001b\\\u001b[2m:436\u001b[0m\n"
      ]
     },
     "metadata": {},
     "output_type": "display_data"
    },
    {
     "data": {
      "text/html": [
       "<pre style=\"white-space:pre;overflow-x:auto;line-height:normal;font-family:Menlo,'DejaVu Sans Mono',consolas,'Courier New',monospace\"><span style=\"color: #800000; text-decoration-color: #800000\">WARNING </span> <span style=\"color: #008000; text-decoration-color: #008000\">'name'</span> should be set on <span style=\"color: #008000; text-decoration-color: #008000\">'&lt;RateRule cer&gt;'</span>                              <a href=\"file:///home/mkoenig/git/sbmlutils/src/sbmlutils/factory.py\"><span style=\"color: #7f7f7f; text-decoration-color: #7f7f7f\">factory.py</span></a><span style=\"color: #7f7f7f; text-decoration-color: #7f7f7f\">:436</span>\n",
       "</pre>\n"
      ],
      "text/plain": [
       "\u001b[31mWARNING \u001b[0m \u001b[32m'name'\u001b[0m should be set on \u001b[32m'\u001b[0m\u001b[32m<\u001b[0m\u001b[32mRateRule\u001b[0m\u001b[32m cer\u001b[0m\u001b[32m>\u001b[0m\u001b[32m'\u001b[0m                              \u001b]8;id=428072;file:///home/mkoenig/git/sbmlutils/src/sbmlutils/factory.py\u001b\\\u001b[2mfactory.py\u001b[0m\u001b]8;;\u001b\\\u001b[2m:436\u001b[0m\n"
      ]
     },
     "metadata": {},
     "output_type": "display_data"
    },
    {
     "data": {
      "text/html": [
       "<pre style=\"white-space:pre;overflow-x:auto;line-height:normal;font-family:Menlo,'DejaVu Sans Mono',consolas,'Courier New',monospace\"><span style=\"color: #800000; text-decoration-color: #800000\">WARNING </span> <span style=\"color: #008000; text-decoration-color: #008000\">'name'</span> should be set on <span style=\"color: #008000; text-decoration-color: #008000\">'&lt;Parameter iStim&gt;'</span>                           <a href=\"file:///home/mkoenig/git/sbmlutils/src/sbmlutils/factory.py\"><span style=\"color: #7f7f7f; text-decoration-color: #7f7f7f\">factory.py</span></a><span style=\"color: #7f7f7f; text-decoration-color: #7f7f7f\">:436</span>\n",
       "</pre>\n"
      ],
      "text/plain": [
       "\u001b[31mWARNING \u001b[0m \u001b[32m'name'\u001b[0m should be set on \u001b[32m'\u001b[0m\u001b[32m<\u001b[0m\u001b[32mParameter\u001b[0m\u001b[32m iStim\u001b[0m\u001b[32m>\u001b[0m\u001b[32m'\u001b[0m                           \u001b]8;id=545050;file:///home/mkoenig/git/sbmlutils/src/sbmlutils/factory.py\u001b\\\u001b[2mfactory.py\u001b[0m\u001b]8;;\u001b\\\u001b[2m:436\u001b[0m\n"
      ]
     },
     "metadata": {},
     "output_type": "display_data"
    },
    {
     "data": {
      "text/html": [
       "<pre style=\"white-space:pre;overflow-x:auto;line-height:normal;font-family:Menlo,'DejaVu Sans Mono',consolas,'Courier New',monospace\"><span style=\"color: #800000; text-decoration-color: #800000\">WARNING </span> <span style=\"color: #008000; text-decoration-color: #008000\">'sboTerm'</span> should be set on <span style=\"color: #008000; text-decoration-color: #008000\">'&lt;Parameter iStim&gt;'</span>                        <a href=\"file:///home/mkoenig/git/sbmlutils/src/sbmlutils/factory.py\"><span style=\"color: #7f7f7f; text-decoration-color: #7f7f7f\">factory.py</span></a><span style=\"color: #7f7f7f; text-decoration-color: #7f7f7f\">:461</span>\n",
       "</pre>\n"
      ],
      "text/plain": [
       "\u001b[31mWARNING \u001b[0m \u001b[32m'sboTerm'\u001b[0m should be set on \u001b[32m'\u001b[0m\u001b[32m<\u001b[0m\u001b[32mParameter\u001b[0m\u001b[32m iStim\u001b[0m\u001b[32m>\u001b[0m\u001b[32m'\u001b[0m                        \u001b]8;id=450489;file:///home/mkoenig/git/sbmlutils/src/sbmlutils/factory.py\u001b\\\u001b[2mfactory.py\u001b[0m\u001b]8;;\u001b\\\u001b[2m:461\u001b[0m\n"
      ]
     },
     "metadata": {},
     "output_type": "display_data"
    },
    {
     "data": {
      "text/html": [
       "<pre style=\"white-space:pre;overflow-x:auto;line-height:normal;font-family:Menlo,'DejaVu Sans Mono',consolas,'Courier New',monospace\"><span style=\"color: #800000; text-decoration-color: #800000\">WARNING </span> <span style=\"color: #008000; text-decoration-color: #008000\">'name'</span> should be set on <span style=\"color: #008000; text-decoration-color: #008000\">'&lt;Parameter beta_n&gt;'</span>                          <a href=\"file:///home/mkoenig/git/sbmlutils/src/sbmlutils/factory.py\"><span style=\"color: #7f7f7f; text-decoration-color: #7f7f7f\">factory.py</span></a><span style=\"color: #7f7f7f; text-decoration-color: #7f7f7f\">:436</span>\n",
       "</pre>\n"
      ],
      "text/plain": [
       "\u001b[31mWARNING \u001b[0m \u001b[32m'name'\u001b[0m should be set on \u001b[32m'\u001b[0m\u001b[32m<\u001b[0m\u001b[32mParameter\u001b[0m\u001b[32m beta_n\u001b[0m\u001b[32m>\u001b[0m\u001b[32m'\u001b[0m                          \u001b]8;id=553852;file:///home/mkoenig/git/sbmlutils/src/sbmlutils/factory.py\u001b\\\u001b[2mfactory.py\u001b[0m\u001b]8;;\u001b\\\u001b[2m:436\u001b[0m\n"
      ]
     },
     "metadata": {},
     "output_type": "display_data"
    },
    {
     "data": {
      "text/html": [
       "<pre style=\"white-space:pre;overflow-x:auto;line-height:normal;font-family:Menlo,'DejaVu Sans Mono',consolas,'Courier New',monospace\"><span style=\"color: #800000; text-decoration-color: #800000\">WARNING </span> <span style=\"color: #008000; text-decoration-color: #008000\">'sboTerm'</span> should be set on <span style=\"color: #008000; text-decoration-color: #008000\">'&lt;Parameter beta_n&gt;'</span>                       <a href=\"file:///home/mkoenig/git/sbmlutils/src/sbmlutils/factory.py\"><span style=\"color: #7f7f7f; text-decoration-color: #7f7f7f\">factory.py</span></a><span style=\"color: #7f7f7f; text-decoration-color: #7f7f7f\">:461</span>\n",
       "</pre>\n"
      ],
      "text/plain": [
       "\u001b[31mWARNING \u001b[0m \u001b[32m'sboTerm'\u001b[0m should be set on \u001b[32m'\u001b[0m\u001b[32m<\u001b[0m\u001b[32mParameter\u001b[0m\u001b[32m beta_n\u001b[0m\u001b[32m>\u001b[0m\u001b[32m'\u001b[0m                       \u001b]8;id=928028;file:///home/mkoenig/git/sbmlutils/src/sbmlutils/factory.py\u001b\\\u001b[2mfactory.py\u001b[0m\u001b]8;;\u001b\\\u001b[2m:461\u001b[0m\n"
      ]
     },
     "metadata": {},
     "output_type": "display_data"
    },
    {
     "data": {
      "text/html": [
       "<pre style=\"white-space:pre;overflow-x:auto;line-height:normal;font-family:Menlo,'DejaVu Sans Mono',consolas,'Courier New',monospace\"><span style=\"color: #800000; text-decoration-color: #800000\">WARNING </span> <span style=\"color: #008000; text-decoration-color: #008000\">'name'</span> should be set on <span style=\"color: #008000; text-decoration-color: #008000\">'&lt;Parameter beta_m&gt;'</span>                          <a href=\"file:///home/mkoenig/git/sbmlutils/src/sbmlutils/factory.py\"><span style=\"color: #7f7f7f; text-decoration-color: #7f7f7f\">factory.py</span></a><span style=\"color: #7f7f7f; text-decoration-color: #7f7f7f\">:436</span>\n",
       "</pre>\n"
      ],
      "text/plain": [
       "\u001b[31mWARNING \u001b[0m \u001b[32m'name'\u001b[0m should be set on \u001b[32m'\u001b[0m\u001b[32m<\u001b[0m\u001b[32mParameter\u001b[0m\u001b[32m beta_m\u001b[0m\u001b[32m>\u001b[0m\u001b[32m'\u001b[0m                          \u001b]8;id=306794;file:///home/mkoenig/git/sbmlutils/src/sbmlutils/factory.py\u001b\\\u001b[2mfactory.py\u001b[0m\u001b]8;;\u001b\\\u001b[2m:436\u001b[0m\n"
      ]
     },
     "metadata": {},
     "output_type": "display_data"
    },
    {
     "data": {
      "text/html": [
       "<pre style=\"white-space:pre;overflow-x:auto;line-height:normal;font-family:Menlo,'DejaVu Sans Mono',consolas,'Courier New',monospace\"><span style=\"color: #800000; text-decoration-color: #800000\">WARNING </span> <span style=\"color: #008000; text-decoration-color: #008000\">'sboTerm'</span> should be set on <span style=\"color: #008000; text-decoration-color: #008000\">'&lt;Parameter beta_m&gt;'</span>                       <a href=\"file:///home/mkoenig/git/sbmlutils/src/sbmlutils/factory.py\"><span style=\"color: #7f7f7f; text-decoration-color: #7f7f7f\">factory.py</span></a><span style=\"color: #7f7f7f; text-decoration-color: #7f7f7f\">:461</span>\n",
       "</pre>\n"
      ],
      "text/plain": [
       "\u001b[31mWARNING \u001b[0m \u001b[32m'sboTerm'\u001b[0m should be set on \u001b[32m'\u001b[0m\u001b[32m<\u001b[0m\u001b[32mParameter\u001b[0m\u001b[32m beta_m\u001b[0m\u001b[32m>\u001b[0m\u001b[32m'\u001b[0m                       \u001b]8;id=556261;file:///home/mkoenig/git/sbmlutils/src/sbmlutils/factory.py\u001b\\\u001b[2mfactory.py\u001b[0m\u001b]8;;\u001b\\\u001b[2m:461\u001b[0m\n"
      ]
     },
     "metadata": {},
     "output_type": "display_data"
    },
    {
     "data": {
      "text/html": [
       "<pre style=\"white-space:pre;overflow-x:auto;line-height:normal;font-family:Menlo,'DejaVu Sans Mono',consolas,'Courier New',monospace\"><span style=\"color: #800000; text-decoration-color: #800000\">WARNING </span> <span style=\"color: #008000; text-decoration-color: #008000\">'name'</span> should be set on <span style=\"color: #008000; text-decoration-color: #008000\">'&lt;Parameter beta_h&gt;'</span>                          <a href=\"file:///home/mkoenig/git/sbmlutils/src/sbmlutils/factory.py\"><span style=\"color: #7f7f7f; text-decoration-color: #7f7f7f\">factory.py</span></a><span style=\"color: #7f7f7f; text-decoration-color: #7f7f7f\">:436</span>\n",
       "</pre>\n"
      ],
      "text/plain": [
       "\u001b[31mWARNING \u001b[0m \u001b[32m'name'\u001b[0m should be set on \u001b[32m'\u001b[0m\u001b[32m<\u001b[0m\u001b[32mParameter\u001b[0m\u001b[32m beta_h\u001b[0m\u001b[32m>\u001b[0m\u001b[32m'\u001b[0m                          \u001b]8;id=72029;file:///home/mkoenig/git/sbmlutils/src/sbmlutils/factory.py\u001b\\\u001b[2mfactory.py\u001b[0m\u001b]8;;\u001b\\\u001b[2m:436\u001b[0m\n"
      ]
     },
     "metadata": {},
     "output_type": "display_data"
    },
    {
     "data": {
      "text/html": [
       "<pre style=\"white-space:pre;overflow-x:auto;line-height:normal;font-family:Menlo,'DejaVu Sans Mono',consolas,'Courier New',monospace\"><span style=\"color: #800000; text-decoration-color: #800000\">WARNING </span> <span style=\"color: #008000; text-decoration-color: #008000\">'sboTerm'</span> should be set on <span style=\"color: #008000; text-decoration-color: #008000\">'&lt;Parameter beta_h&gt;'</span>                       <a href=\"file:///home/mkoenig/git/sbmlutils/src/sbmlutils/factory.py\"><span style=\"color: #7f7f7f; text-decoration-color: #7f7f7f\">factory.py</span></a><span style=\"color: #7f7f7f; text-decoration-color: #7f7f7f\">:461</span>\n",
       "</pre>\n"
      ],
      "text/plain": [
       "\u001b[31mWARNING \u001b[0m \u001b[32m'sboTerm'\u001b[0m should be set on \u001b[32m'\u001b[0m\u001b[32m<\u001b[0m\u001b[32mParameter\u001b[0m\u001b[32m beta_h\u001b[0m\u001b[32m>\u001b[0m\u001b[32m'\u001b[0m                       \u001b]8;id=217623;file:///home/mkoenig/git/sbmlutils/src/sbmlutils/factory.py\u001b\\\u001b[2mfactory.py\u001b[0m\u001b]8;;\u001b\\\u001b[2m:461\u001b[0m\n"
      ]
     },
     "metadata": {},
     "output_type": "display_data"
    },
    {
     "data": {
      "text/html": [
       "<pre style=\"white-space:pre;overflow-x:auto;line-height:normal;font-family:Menlo,'DejaVu Sans Mono',consolas,'Courier New',monospace\"><span style=\"color: #800000; text-decoration-color: #800000\">WARNING </span> <span style=\"color: #008000; text-decoration-color: #008000\">'name'</span> should be set on <span style=\"color: #008000; text-decoration-color: #008000\">'&lt;Parameter alpha_n&gt;'</span>                         <a href=\"file:///home/mkoenig/git/sbmlutils/src/sbmlutils/factory.py\"><span style=\"color: #7f7f7f; text-decoration-color: #7f7f7f\">factory.py</span></a><span style=\"color: #7f7f7f; text-decoration-color: #7f7f7f\">:436</span>\n",
       "</pre>\n"
      ],
      "text/plain": [
       "\u001b[31mWARNING \u001b[0m \u001b[32m'name'\u001b[0m should be set on \u001b[32m'\u001b[0m\u001b[32m<\u001b[0m\u001b[32mParameter\u001b[0m\u001b[32m alpha_n\u001b[0m\u001b[32m>\u001b[0m\u001b[32m'\u001b[0m                         \u001b]8;id=773859;file:///home/mkoenig/git/sbmlutils/src/sbmlutils/factory.py\u001b\\\u001b[2mfactory.py\u001b[0m\u001b]8;;\u001b\\\u001b[2m:436\u001b[0m\n"
      ]
     },
     "metadata": {},
     "output_type": "display_data"
    },
    {
     "data": {
      "text/html": [
       "<pre style=\"white-space:pre;overflow-x:auto;line-height:normal;font-family:Menlo,'DejaVu Sans Mono',consolas,'Courier New',monospace\"><span style=\"color: #800000; text-decoration-color: #800000\">WARNING </span> <span style=\"color: #008000; text-decoration-color: #008000\">'sboTerm'</span> should be set on <span style=\"color: #008000; text-decoration-color: #008000\">'&lt;Parameter alpha_n&gt;'</span>                      <a href=\"file:///home/mkoenig/git/sbmlutils/src/sbmlutils/factory.py\"><span style=\"color: #7f7f7f; text-decoration-color: #7f7f7f\">factory.py</span></a><span style=\"color: #7f7f7f; text-decoration-color: #7f7f7f\">:461</span>\n",
       "</pre>\n"
      ],
      "text/plain": [
       "\u001b[31mWARNING \u001b[0m \u001b[32m'sboTerm'\u001b[0m should be set on \u001b[32m'\u001b[0m\u001b[32m<\u001b[0m\u001b[32mParameter\u001b[0m\u001b[32m alpha_n\u001b[0m\u001b[32m>\u001b[0m\u001b[32m'\u001b[0m                      \u001b]8;id=692169;file:///home/mkoenig/git/sbmlutils/src/sbmlutils/factory.py\u001b\\\u001b[2mfactory.py\u001b[0m\u001b]8;;\u001b\\\u001b[2m:461\u001b[0m\n"
      ]
     },
     "metadata": {},
     "output_type": "display_data"
    },
    {
     "data": {
      "text/html": [
       "<pre style=\"white-space:pre;overflow-x:auto;line-height:normal;font-family:Menlo,'DejaVu Sans Mono',consolas,'Courier New',monospace\"><span style=\"color: #800000; text-decoration-color: #800000\">WARNING </span> <span style=\"color: #008000; text-decoration-color: #008000\">'name'</span> should be set on <span style=\"color: #008000; text-decoration-color: #008000\">'&lt;Parameter alpha_m&gt;'</span>                         <a href=\"file:///home/mkoenig/git/sbmlutils/src/sbmlutils/factory.py\"><span style=\"color: #7f7f7f; text-decoration-color: #7f7f7f\">factory.py</span></a><span style=\"color: #7f7f7f; text-decoration-color: #7f7f7f\">:436</span>\n",
       "</pre>\n"
      ],
      "text/plain": [
       "\u001b[31mWARNING \u001b[0m \u001b[32m'name'\u001b[0m should be set on \u001b[32m'\u001b[0m\u001b[32m<\u001b[0m\u001b[32mParameter\u001b[0m\u001b[32m alpha_m\u001b[0m\u001b[32m>\u001b[0m\u001b[32m'\u001b[0m                         \u001b]8;id=282009;file:///home/mkoenig/git/sbmlutils/src/sbmlutils/factory.py\u001b\\\u001b[2mfactory.py\u001b[0m\u001b]8;;\u001b\\\u001b[2m:436\u001b[0m\n"
      ]
     },
     "metadata": {},
     "output_type": "display_data"
    },
    {
     "data": {
      "text/html": [
       "<pre style=\"white-space:pre;overflow-x:auto;line-height:normal;font-family:Menlo,'DejaVu Sans Mono',consolas,'Courier New',monospace\"><span style=\"color: #800000; text-decoration-color: #800000\">WARNING </span> <span style=\"color: #008000; text-decoration-color: #008000\">'sboTerm'</span> should be set on <span style=\"color: #008000; text-decoration-color: #008000\">'&lt;Parameter alpha_m&gt;'</span>                      <a href=\"file:///home/mkoenig/git/sbmlutils/src/sbmlutils/factory.py\"><span style=\"color: #7f7f7f; text-decoration-color: #7f7f7f\">factory.py</span></a><span style=\"color: #7f7f7f; text-decoration-color: #7f7f7f\">:461</span>\n",
       "</pre>\n"
      ],
      "text/plain": [
       "\u001b[31mWARNING \u001b[0m \u001b[32m'sboTerm'\u001b[0m should be set on \u001b[32m'\u001b[0m\u001b[32m<\u001b[0m\u001b[32mParameter\u001b[0m\u001b[32m alpha_m\u001b[0m\u001b[32m>\u001b[0m\u001b[32m'\u001b[0m                      \u001b]8;id=955387;file:///home/mkoenig/git/sbmlutils/src/sbmlutils/factory.py\u001b\\\u001b[2mfactory.py\u001b[0m\u001b]8;;\u001b\\\u001b[2m:461\u001b[0m\n"
      ]
     },
     "metadata": {},
     "output_type": "display_data"
    },
    {
     "data": {
      "text/html": [
       "<pre style=\"white-space:pre;overflow-x:auto;line-height:normal;font-family:Menlo,'DejaVu Sans Mono',consolas,'Courier New',monospace\"><span style=\"color: #800000; text-decoration-color: #800000\">WARNING </span> <span style=\"color: #008000; text-decoration-color: #008000\">'name'</span> should be set on <span style=\"color: #008000; text-decoration-color: #008000\">'&lt;Parameter alpha_h&gt;'</span>                         <a href=\"file:///home/mkoenig/git/sbmlutils/src/sbmlutils/factory.py\"><span style=\"color: #7f7f7f; text-decoration-color: #7f7f7f\">factory.py</span></a><span style=\"color: #7f7f7f; text-decoration-color: #7f7f7f\">:436</span>\n",
       "</pre>\n"
      ],
      "text/plain": [
       "\u001b[31mWARNING \u001b[0m \u001b[32m'name'\u001b[0m should be set on \u001b[32m'\u001b[0m\u001b[32m<\u001b[0m\u001b[32mParameter\u001b[0m\u001b[32m alpha_h\u001b[0m\u001b[32m>\u001b[0m\u001b[32m'\u001b[0m                         \u001b]8;id=424269;file:///home/mkoenig/git/sbmlutils/src/sbmlutils/factory.py\u001b\\\u001b[2mfactory.py\u001b[0m\u001b]8;;\u001b\\\u001b[2m:436\u001b[0m\n"
      ]
     },
     "metadata": {},
     "output_type": "display_data"
    },
    {
     "data": {
      "text/html": [
       "<pre style=\"white-space:pre;overflow-x:auto;line-height:normal;font-family:Menlo,'DejaVu Sans Mono',consolas,'Courier New',monospace\"><span style=\"color: #800000; text-decoration-color: #800000\">WARNING </span> <span style=\"color: #008000; text-decoration-color: #008000\">'sboTerm'</span> should be set on <span style=\"color: #008000; text-decoration-color: #008000\">'&lt;Parameter alpha_h&gt;'</span>                      <a href=\"file:///home/mkoenig/git/sbmlutils/src/sbmlutils/factory.py\"><span style=\"color: #7f7f7f; text-decoration-color: #7f7f7f\">factory.py</span></a><span style=\"color: #7f7f7f; text-decoration-color: #7f7f7f\">:461</span>\n",
       "</pre>\n"
      ],
      "text/plain": [
       "\u001b[31mWARNING \u001b[0m \u001b[32m'sboTerm'\u001b[0m should be set on \u001b[32m'\u001b[0m\u001b[32m<\u001b[0m\u001b[32mParameter\u001b[0m\u001b[32m alpha_h\u001b[0m\u001b[32m>\u001b[0m\u001b[32m'\u001b[0m                      \u001b]8;id=859575;file:///home/mkoenig/git/sbmlutils/src/sbmlutils/factory.py\u001b\\\u001b[2mfactory.py\u001b[0m\u001b]8;;\u001b\\\u001b[2m:461\u001b[0m\n"
      ]
     },
     "metadata": {},
     "output_type": "display_data"
    },
    {
     "data": {
      "text/html": [
       "<pre style=\"white-space:pre;overflow-x:auto;line-height:normal;font-family:Menlo,'DejaVu Sans Mono',consolas,'Courier New',monospace\"><span style=\"color: #800000; text-decoration-color: #800000\">WARNING </span> <span style=\"color: #008000; text-decoration-color: #008000\">'name'</span> should be set on <span style=\"color: #008000; text-decoration-color: #008000\">'&lt;Parameter dinf&gt;'</span>                            <a href=\"file:///home/mkoenig/git/sbmlutils/src/sbmlutils/factory.py\"><span style=\"color: #7f7f7f; text-decoration-color: #7f7f7f\">factory.py</span></a><span style=\"color: #7f7f7f; text-decoration-color: #7f7f7f\">:436</span>\n",
       "</pre>\n"
      ],
      "text/plain": [
       "\u001b[31mWARNING \u001b[0m \u001b[32m'name'\u001b[0m should be set on \u001b[32m'\u001b[0m\u001b[32m<\u001b[0m\u001b[32mParameter\u001b[0m\u001b[32m dinf\u001b[0m\u001b[32m>\u001b[0m\u001b[32m'\u001b[0m                            \u001b]8;id=311536;file:///home/mkoenig/git/sbmlutils/src/sbmlutils/factory.py\u001b\\\u001b[2mfactory.py\u001b[0m\u001b]8;;\u001b\\\u001b[2m:436\u001b[0m\n"
      ]
     },
     "metadata": {},
     "output_type": "display_data"
    },
    {
     "data": {
      "text/html": [
       "<pre style=\"white-space:pre;overflow-x:auto;line-height:normal;font-family:Menlo,'DejaVu Sans Mono',consolas,'Courier New',monospace\"><span style=\"color: #800000; text-decoration-color: #800000\">WARNING </span> <span style=\"color: #008000; text-decoration-color: #008000\">'sboTerm'</span> should be set on <span style=\"color: #008000; text-decoration-color: #008000\">'&lt;Parameter dinf&gt;'</span>                         <a href=\"file:///home/mkoenig/git/sbmlutils/src/sbmlutils/factory.py\"><span style=\"color: #7f7f7f; text-decoration-color: #7f7f7f\">factory.py</span></a><span style=\"color: #7f7f7f; text-decoration-color: #7f7f7f\">:461</span>\n",
       "</pre>\n"
      ],
      "text/plain": [
       "\u001b[31mWARNING \u001b[0m \u001b[32m'sboTerm'\u001b[0m should be set on \u001b[32m'\u001b[0m\u001b[32m<\u001b[0m\u001b[32mParameter\u001b[0m\u001b[32m dinf\u001b[0m\u001b[32m>\u001b[0m\u001b[32m'\u001b[0m                         \u001b]8;id=999553;file:///home/mkoenig/git/sbmlutils/src/sbmlutils/factory.py\u001b\\\u001b[2mfactory.py\u001b[0m\u001b]8;;\u001b\\\u001b[2m:461\u001b[0m\n"
      ]
     },
     "metadata": {},
     "output_type": "display_data"
    },
    {
     "data": {
      "text/html": [
       "<pre style=\"white-space:pre;overflow-x:auto;line-height:normal;font-family:Menlo,'DejaVu Sans Mono',consolas,'Courier New',monospace\"><span style=\"color: #800000; text-decoration-color: #800000\">WARNING </span> <span style=\"color: #008000; text-decoration-color: #008000\">'name'</span> should be set on <span style=\"color: #008000; text-decoration-color: #008000\">'&lt;Parameter taud&gt;'</span>                            <a href=\"file:///home/mkoenig/git/sbmlutils/src/sbmlutils/factory.py\"><span style=\"color: #7f7f7f; text-decoration-color: #7f7f7f\">factory.py</span></a><span style=\"color: #7f7f7f; text-decoration-color: #7f7f7f\">:436</span>\n",
       "</pre>\n"
      ],
      "text/plain": [
       "\u001b[31mWARNING \u001b[0m \u001b[32m'name'\u001b[0m should be set on \u001b[32m'\u001b[0m\u001b[32m<\u001b[0m\u001b[32mParameter\u001b[0m\u001b[32m taud\u001b[0m\u001b[32m>\u001b[0m\u001b[32m'\u001b[0m                            \u001b]8;id=159470;file:///home/mkoenig/git/sbmlutils/src/sbmlutils/factory.py\u001b\\\u001b[2mfactory.py\u001b[0m\u001b]8;;\u001b\\\u001b[2m:436\u001b[0m\n"
      ]
     },
     "metadata": {},
     "output_type": "display_data"
    },
    {
     "data": {
      "text/html": [
       "<pre style=\"white-space:pre;overflow-x:auto;line-height:normal;font-family:Menlo,'DejaVu Sans Mono',consolas,'Courier New',monospace\"><span style=\"color: #800000; text-decoration-color: #800000\">WARNING </span> <span style=\"color: #008000; text-decoration-color: #008000\">'sboTerm'</span> should be set on <span style=\"color: #008000; text-decoration-color: #008000\">'&lt;Parameter taud&gt;'</span>                         <a href=\"file:///home/mkoenig/git/sbmlutils/src/sbmlutils/factory.py\"><span style=\"color: #7f7f7f; text-decoration-color: #7f7f7f\">factory.py</span></a><span style=\"color: #7f7f7f; text-decoration-color: #7f7f7f\">:461</span>\n",
       "</pre>\n"
      ],
      "text/plain": [
       "\u001b[31mWARNING \u001b[0m \u001b[32m'sboTerm'\u001b[0m should be set on \u001b[32m'\u001b[0m\u001b[32m<\u001b[0m\u001b[32mParameter\u001b[0m\u001b[32m taud\u001b[0m\u001b[32m>\u001b[0m\u001b[32m'\u001b[0m                         \u001b]8;id=638631;file:///home/mkoenig/git/sbmlutils/src/sbmlutils/factory.py\u001b\\\u001b[2mfactory.py\u001b[0m\u001b]8;;\u001b\\\u001b[2m:461\u001b[0m\n"
      ]
     },
     "metadata": {},
     "output_type": "display_data"
    },
    {
     "data": {
      "text/html": [
       "<pre style=\"white-space:pre;overflow-x:auto;line-height:normal;font-family:Menlo,'DejaVu Sans Mono',consolas,'Courier New',monospace\"><span style=\"color: #800000; text-decoration-color: #800000\">WARNING </span> <span style=\"color: #008000; text-decoration-color: #008000\">'name'</span> should be set on <span style=\"color: #008000; text-decoration-color: #008000\">'&lt;Parameter alphad&gt;'</span>                          <a href=\"file:///home/mkoenig/git/sbmlutils/src/sbmlutils/factory.py\"><span style=\"color: #7f7f7f; text-decoration-color: #7f7f7f\">factory.py</span></a><span style=\"color: #7f7f7f; text-decoration-color: #7f7f7f\">:436</span>\n",
       "</pre>\n"
      ],
      "text/plain": [
       "\u001b[31mWARNING \u001b[0m \u001b[32m'name'\u001b[0m should be set on \u001b[32m'\u001b[0m\u001b[32m<\u001b[0m\u001b[32mParameter\u001b[0m\u001b[32m alphad\u001b[0m\u001b[32m>\u001b[0m\u001b[32m'\u001b[0m                          \u001b]8;id=87143;file:///home/mkoenig/git/sbmlutils/src/sbmlutils/factory.py\u001b\\\u001b[2mfactory.py\u001b[0m\u001b]8;;\u001b\\\u001b[2m:436\u001b[0m\n"
      ]
     },
     "metadata": {},
     "output_type": "display_data"
    },
    {
     "data": {
      "text/html": [
       "<pre style=\"white-space:pre;overflow-x:auto;line-height:normal;font-family:Menlo,'DejaVu Sans Mono',consolas,'Courier New',monospace\"><span style=\"color: #800000; text-decoration-color: #800000\">WARNING </span> <span style=\"color: #008000; text-decoration-color: #008000\">'sboTerm'</span> should be set on <span style=\"color: #008000; text-decoration-color: #008000\">'&lt;Parameter alphad&gt;'</span>                       <a href=\"file:///home/mkoenig/git/sbmlutils/src/sbmlutils/factory.py\"><span style=\"color: #7f7f7f; text-decoration-color: #7f7f7f\">factory.py</span></a><span style=\"color: #7f7f7f; text-decoration-color: #7f7f7f\">:461</span>\n",
       "</pre>\n"
      ],
      "text/plain": [
       "\u001b[31mWARNING \u001b[0m \u001b[32m'sboTerm'\u001b[0m should be set on \u001b[32m'\u001b[0m\u001b[32m<\u001b[0m\u001b[32mParameter\u001b[0m\u001b[32m alphad\u001b[0m\u001b[32m>\u001b[0m\u001b[32m'\u001b[0m                       \u001b]8;id=274429;file:///home/mkoenig/git/sbmlutils/src/sbmlutils/factory.py\u001b\\\u001b[2mfactory.py\u001b[0m\u001b]8;;\u001b\\\u001b[2m:461\u001b[0m\n"
      ]
     },
     "metadata": {},
     "output_type": "display_data"
    },
    {
     "data": {
      "text/html": [
       "<pre style=\"white-space:pre;overflow-x:auto;line-height:normal;font-family:Menlo,'DejaVu Sans Mono',consolas,'Courier New',monospace\"><span style=\"color: #800000; text-decoration-color: #800000\">WARNING </span> <span style=\"color: #008000; text-decoration-color: #008000\">'name'</span> should be set on <span style=\"color: #008000; text-decoration-color: #008000\">'&lt;Parameter betad&gt;'</span>                           <a href=\"file:///home/mkoenig/git/sbmlutils/src/sbmlutils/factory.py\"><span style=\"color: #7f7f7f; text-decoration-color: #7f7f7f\">factory.py</span></a><span style=\"color: #7f7f7f; text-decoration-color: #7f7f7f\">:436</span>\n",
       "</pre>\n"
      ],
      "text/plain": [
       "\u001b[31mWARNING \u001b[0m \u001b[32m'name'\u001b[0m should be set on \u001b[32m'\u001b[0m\u001b[32m<\u001b[0m\u001b[32mParameter\u001b[0m\u001b[32m betad\u001b[0m\u001b[32m>\u001b[0m\u001b[32m'\u001b[0m                           \u001b]8;id=517925;file:///home/mkoenig/git/sbmlutils/src/sbmlutils/factory.py\u001b\\\u001b[2mfactory.py\u001b[0m\u001b]8;;\u001b\\\u001b[2m:436\u001b[0m\n"
      ]
     },
     "metadata": {},
     "output_type": "display_data"
    },
    {
     "data": {
      "text/html": [
       "<pre style=\"white-space:pre;overflow-x:auto;line-height:normal;font-family:Menlo,'DejaVu Sans Mono',consolas,'Courier New',monospace\"><span style=\"color: #800000; text-decoration-color: #800000\">WARNING </span> <span style=\"color: #008000; text-decoration-color: #008000\">'sboTerm'</span> should be set on <span style=\"color: #008000; text-decoration-color: #008000\">'&lt;Parameter betad&gt;'</span>                        <a href=\"file:///home/mkoenig/git/sbmlutils/src/sbmlutils/factory.py\"><span style=\"color: #7f7f7f; text-decoration-color: #7f7f7f\">factory.py</span></a><span style=\"color: #7f7f7f; text-decoration-color: #7f7f7f\">:461</span>\n",
       "</pre>\n"
      ],
      "text/plain": [
       "\u001b[31mWARNING \u001b[0m \u001b[32m'sboTerm'\u001b[0m should be set on \u001b[32m'\u001b[0m\u001b[32m<\u001b[0m\u001b[32mParameter\u001b[0m\u001b[32m betad\u001b[0m\u001b[32m>\u001b[0m\u001b[32m'\u001b[0m                        \u001b]8;id=370316;file:///home/mkoenig/git/sbmlutils/src/sbmlutils/factory.py\u001b\\\u001b[2mfactory.py\u001b[0m\u001b]8;;\u001b\\\u001b[2m:461\u001b[0m\n"
      ]
     },
     "metadata": {},
     "output_type": "display_data"
    },
    {
     "data": {
      "text/html": [
       "<pre style=\"white-space:pre;overflow-x:auto;line-height:normal;font-family:Menlo,'DejaVu Sans Mono',consolas,'Courier New',monospace\"><span style=\"color: #800000; text-decoration-color: #800000\">WARNING </span> <span style=\"color: #008000; text-decoration-color: #008000\">'name'</span> should be set on <span style=\"color: #008000; text-decoration-color: #008000\">'&lt;Parameter gca&gt;'</span>                             <a href=\"file:///home/mkoenig/git/sbmlutils/src/sbmlutils/factory.py\"><span style=\"color: #7f7f7f; text-decoration-color: #7f7f7f\">factory.py</span></a><span style=\"color: #7f7f7f; text-decoration-color: #7f7f7f\">:436</span>\n",
       "</pre>\n"
      ],
      "text/plain": [
       "\u001b[31mWARNING \u001b[0m \u001b[32m'name'\u001b[0m should be set on \u001b[32m'\u001b[0m\u001b[32m<\u001b[0m\u001b[32mParameter\u001b[0m\u001b[32m gca\u001b[0m\u001b[32m>\u001b[0m\u001b[32m'\u001b[0m                             \u001b]8;id=354665;file:///home/mkoenig/git/sbmlutils/src/sbmlutils/factory.py\u001b\\\u001b[2mfactory.py\u001b[0m\u001b]8;;\u001b\\\u001b[2m:436\u001b[0m\n"
      ]
     },
     "metadata": {},
     "output_type": "display_data"
    },
    {
     "data": {
      "text/html": [
       "<pre style=\"white-space:pre;overflow-x:auto;line-height:normal;font-family:Menlo,'DejaVu Sans Mono',consolas,'Courier New',monospace\"><span style=\"color: #800000; text-decoration-color: #800000\">WARNING </span> <span style=\"color: #008000; text-decoration-color: #008000\">'sboTerm'</span> should be set on <span style=\"color: #008000; text-decoration-color: #008000\">'&lt;Parameter gca&gt;'</span>                          <a href=\"file:///home/mkoenig/git/sbmlutils/src/sbmlutils/factory.py\"><span style=\"color: #7f7f7f; text-decoration-color: #7f7f7f\">factory.py</span></a><span style=\"color: #7f7f7f; text-decoration-color: #7f7f7f\">:461</span>\n",
       "</pre>\n"
      ],
      "text/plain": [
       "\u001b[31mWARNING \u001b[0m \u001b[32m'sboTerm'\u001b[0m should be set on \u001b[32m'\u001b[0m\u001b[32m<\u001b[0m\u001b[32mParameter\u001b[0m\u001b[32m gca\u001b[0m\u001b[32m>\u001b[0m\u001b[32m'\u001b[0m                          \u001b]8;id=36856;file:///home/mkoenig/git/sbmlutils/src/sbmlutils/factory.py\u001b\\\u001b[2mfactory.py\u001b[0m\u001b]8;;\u001b\\\u001b[2m:461\u001b[0m\n"
      ]
     },
     "metadata": {},
     "output_type": "display_data"
    },
    {
     "data": {
      "text/html": [
       "<pre style=\"white-space:pre;overflow-x:auto;line-height:normal;font-family:Menlo,'DejaVu Sans Mono',consolas,'Courier New',monospace\"><span style=\"color: #800000; text-decoration-color: #800000\">WARNING </span> <span style=\"color: #008000; text-decoration-color: #008000\">'name'</span> should be set on <span style=\"color: #008000; text-decoration-color: #008000\">'&lt;Parameter w&gt;'</span>                               <a href=\"file:///home/mkoenig/git/sbmlutils/src/sbmlutils/factory.py\"><span style=\"color: #7f7f7f; text-decoration-color: #7f7f7f\">factory.py</span></a><span style=\"color: #7f7f7f; text-decoration-color: #7f7f7f\">:436</span>\n",
       "</pre>\n"
      ],
      "text/plain": [
       "\u001b[31mWARNING \u001b[0m \u001b[32m'name'\u001b[0m should be set on \u001b[32m'\u001b[0m\u001b[32m<\u001b[0m\u001b[32mParameter\u001b[0m\u001b[32m w\u001b[0m\u001b[32m>\u001b[0m\u001b[32m'\u001b[0m                               \u001b]8;id=849602;file:///home/mkoenig/git/sbmlutils/src/sbmlutils/factory.py\u001b\\\u001b[2mfactory.py\u001b[0m\u001b]8;;\u001b\\\u001b[2m:436\u001b[0m\n"
      ]
     },
     "metadata": {},
     "output_type": "display_data"
    },
    {
     "data": {
      "text/html": [
       "<pre style=\"white-space:pre;overflow-x:auto;line-height:normal;font-family:Menlo,'DejaVu Sans Mono',consolas,'Courier New',monospace\"><span style=\"color: #800000; text-decoration-color: #800000\">WARNING </span> <span style=\"color: #008000; text-decoration-color: #008000\">'sboTerm'</span> should be set on <span style=\"color: #008000; text-decoration-color: #008000\">'&lt;Parameter w&gt;'</span>                            <a href=\"file:///home/mkoenig/git/sbmlutils/src/sbmlutils/factory.py\"><span style=\"color: #7f7f7f; text-decoration-color: #7f7f7f\">factory.py</span></a><span style=\"color: #7f7f7f; text-decoration-color: #7f7f7f\">:461</span>\n",
       "</pre>\n"
      ],
      "text/plain": [
       "\u001b[31mWARNING \u001b[0m \u001b[32m'sboTerm'\u001b[0m should be set on \u001b[32m'\u001b[0m\u001b[32m<\u001b[0m\u001b[32mParameter\u001b[0m\u001b[32m w\u001b[0m\u001b[32m>\u001b[0m\u001b[32m'\u001b[0m                            \u001b]8;id=170582;file:///home/mkoenig/git/sbmlutils/src/sbmlutils/factory.py\u001b\\\u001b[2mfactory.py\u001b[0m\u001b]8;;\u001b\\\u001b[2m:461\u001b[0m\n"
      ]
     },
     "metadata": {},
     "output_type": "display_data"
    },
    {
     "data": {
      "text/html": [
       "<pre style=\"white-space:pre;overflow-x:auto;line-height:normal;font-family:Menlo,'DejaVu Sans Mono',consolas,'Courier New',monospace\"><span style=\"color: #800000; text-decoration-color: #800000\">WARNING </span> <span style=\"color: #008000; text-decoration-color: #008000\">'name'</span> should be set on <span style=\"color: #008000; text-decoration-color: #008000\">'&lt;Parameter jmem&gt;'</span>                            <a href=\"file:///home/mkoenig/git/sbmlutils/src/sbmlutils/factory.py\"><span style=\"color: #7f7f7f; text-decoration-color: #7f7f7f\">factory.py</span></a><span style=\"color: #7f7f7f; text-decoration-color: #7f7f7f\">:436</span>\n",
       "</pre>\n"
      ],
      "text/plain": [
       "\u001b[31mWARNING \u001b[0m \u001b[32m'name'\u001b[0m should be set on \u001b[32m'\u001b[0m\u001b[32m<\u001b[0m\u001b[32mParameter\u001b[0m\u001b[32m jmem\u001b[0m\u001b[32m>\u001b[0m\u001b[32m'\u001b[0m                            \u001b]8;id=710921;file:///home/mkoenig/git/sbmlutils/src/sbmlutils/factory.py\u001b\\\u001b[2mfactory.py\u001b[0m\u001b]8;;\u001b\\\u001b[2m:436\u001b[0m\n"
      ]
     },
     "metadata": {},
     "output_type": "display_data"
    },
    {
     "data": {
      "text/html": [
       "<pre style=\"white-space:pre;overflow-x:auto;line-height:normal;font-family:Menlo,'DejaVu Sans Mono',consolas,'Courier New',monospace\"><span style=\"color: #800000; text-decoration-color: #800000\">WARNING </span> <span style=\"color: #008000; text-decoration-color: #008000\">'sboTerm'</span> should be set on <span style=\"color: #008000; text-decoration-color: #008000\">'&lt;Parameter jmem&gt;'</span>                         <a href=\"file:///home/mkoenig/git/sbmlutils/src/sbmlutils/factory.py\"><span style=\"color: #7f7f7f; text-decoration-color: #7f7f7f\">factory.py</span></a><span style=\"color: #7f7f7f; text-decoration-color: #7f7f7f\">:461</span>\n",
       "</pre>\n"
      ],
      "text/plain": [
       "\u001b[31mWARNING \u001b[0m \u001b[32m'sboTerm'\u001b[0m should be set on \u001b[32m'\u001b[0m\u001b[32m<\u001b[0m\u001b[32mParameter\u001b[0m\u001b[32m jmem\u001b[0m\u001b[32m>\u001b[0m\u001b[32m'\u001b[0m                         \u001b]8;id=86494;file:///home/mkoenig/git/sbmlutils/src/sbmlutils/factory.py\u001b\\\u001b[2mfactory.py\u001b[0m\u001b]8;;\u001b\\\u001b[2m:461\u001b[0m\n"
      ]
     },
     "metadata": {},
     "output_type": "display_data"
    },
    {
     "data": {
      "text/html": [
       "<pre style=\"white-space:pre;overflow-x:auto;line-height:normal;font-family:Menlo,'DejaVu Sans Mono',consolas,'Courier New',monospace\"><span style=\"color: #800000; text-decoration-color: #800000\">WARNING </span> <span style=\"color: #008000; text-decoration-color: #008000\">'name'</span> should be set on <span style=\"color: #008000; text-decoration-color: #008000\">'&lt;Parameter jleak&gt;'</span>                           <a href=\"file:///home/mkoenig/git/sbmlutils/src/sbmlutils/factory.py\"><span style=\"color: #7f7f7f; text-decoration-color: #7f7f7f\">factory.py</span></a><span style=\"color: #7f7f7f; text-decoration-color: #7f7f7f\">:436</span>\n",
       "</pre>\n"
      ],
      "text/plain": [
       "\u001b[31mWARNING \u001b[0m \u001b[32m'name'\u001b[0m should be set on \u001b[32m'\u001b[0m\u001b[32m<\u001b[0m\u001b[32mParameter\u001b[0m\u001b[32m jleak\u001b[0m\u001b[32m>\u001b[0m\u001b[32m'\u001b[0m                           \u001b]8;id=683137;file:///home/mkoenig/git/sbmlutils/src/sbmlutils/factory.py\u001b\\\u001b[2mfactory.py\u001b[0m\u001b]8;;\u001b\\\u001b[2m:436\u001b[0m\n"
      ]
     },
     "metadata": {},
     "output_type": "display_data"
    },
    {
     "data": {
      "text/html": [
       "<pre style=\"white-space:pre;overflow-x:auto;line-height:normal;font-family:Menlo,'DejaVu Sans Mono',consolas,'Courier New',monospace\"><span style=\"color: #800000; text-decoration-color: #800000\">WARNING </span> <span style=\"color: #008000; text-decoration-color: #008000\">'sboTerm'</span> should be set on <span style=\"color: #008000; text-decoration-color: #008000\">'&lt;Parameter jleak&gt;'</span>                        <a href=\"file:///home/mkoenig/git/sbmlutils/src/sbmlutils/factory.py\"><span style=\"color: #7f7f7f; text-decoration-color: #7f7f7f\">factory.py</span></a><span style=\"color: #7f7f7f; text-decoration-color: #7f7f7f\">:461</span>\n",
       "</pre>\n"
      ],
      "text/plain": [
       "\u001b[31mWARNING \u001b[0m \u001b[32m'sboTerm'\u001b[0m should be set on \u001b[32m'\u001b[0m\u001b[32m<\u001b[0m\u001b[32mParameter\u001b[0m\u001b[32m jleak\u001b[0m\u001b[32m>\u001b[0m\u001b[32m'\u001b[0m                        \u001b]8;id=457608;file:///home/mkoenig/git/sbmlutils/src/sbmlutils/factory.py\u001b\\\u001b[2mfactory.py\u001b[0m\u001b]8;;\u001b\\\u001b[2m:461\u001b[0m\n"
      ]
     },
     "metadata": {},
     "output_type": "display_data"
    },
    {
     "data": {
      "text/html": [
       "<pre style=\"white-space:pre;overflow-x:auto;line-height:normal;font-family:Menlo,'DejaVu Sans Mono',consolas,'Courier New',monospace\"><span style=\"color: #800000; text-decoration-color: #800000\">WARNING </span> <span style=\"color: #008000; text-decoration-color: #008000\">'name'</span> should be set on <span style=\"color: #008000; text-decoration-color: #008000\">'&lt;Parameter jserca&gt;'</span>                          <a href=\"file:///home/mkoenig/git/sbmlutils/src/sbmlutils/factory.py\"><span style=\"color: #7f7f7f; text-decoration-color: #7f7f7f\">factory.py</span></a><span style=\"color: #7f7f7f; text-decoration-color: #7f7f7f\">:436</span>\n",
       "</pre>\n"
      ],
      "text/plain": [
       "\u001b[31mWARNING \u001b[0m \u001b[32m'name'\u001b[0m should be set on \u001b[32m'\u001b[0m\u001b[32m<\u001b[0m\u001b[32mParameter\u001b[0m\u001b[32m jserca\u001b[0m\u001b[32m>\u001b[0m\u001b[32m'\u001b[0m                          \u001b]8;id=754776;file:///home/mkoenig/git/sbmlutils/src/sbmlutils/factory.py\u001b\\\u001b[2mfactory.py\u001b[0m\u001b]8;;\u001b\\\u001b[2m:436\u001b[0m\n"
      ]
     },
     "metadata": {},
     "output_type": "display_data"
    },
    {
     "data": {
      "text/html": [
       "<pre style=\"white-space:pre;overflow-x:auto;line-height:normal;font-family:Menlo,'DejaVu Sans Mono',consolas,'Courier New',monospace\"><span style=\"color: #800000; text-decoration-color: #800000\">WARNING </span> <span style=\"color: #008000; text-decoration-color: #008000\">'sboTerm'</span> should be set on <span style=\"color: #008000; text-decoration-color: #008000\">'&lt;Parameter jserca&gt;'</span>                       <a href=\"file:///home/mkoenig/git/sbmlutils/src/sbmlutils/factory.py\"><span style=\"color: #7f7f7f; text-decoration-color: #7f7f7f\">factory.py</span></a><span style=\"color: #7f7f7f; text-decoration-color: #7f7f7f\">:461</span>\n",
       "</pre>\n"
      ],
      "text/plain": [
       "\u001b[31mWARNING \u001b[0m \u001b[32m'sboTerm'\u001b[0m should be set on \u001b[32m'\u001b[0m\u001b[32m<\u001b[0m\u001b[32mParameter\u001b[0m\u001b[32m jserca\u001b[0m\u001b[32m>\u001b[0m\u001b[32m'\u001b[0m                       \u001b]8;id=191489;file:///home/mkoenig/git/sbmlutils/src/sbmlutils/factory.py\u001b\\\u001b[2mfactory.py\u001b[0m\u001b]8;;\u001b\\\u001b[2m:461\u001b[0m\n"
      ]
     },
     "metadata": {},
     "output_type": "display_data"
    },
    {
     "data": {
      "text/html": [
       "<pre style=\"white-space:pre;overflow-x:auto;line-height:normal;font-family:Menlo,'DejaVu Sans Mono',consolas,'Courier New',monospace\"><span style=\"color: #800000; text-decoration-color: #800000\">WARNING </span> <span style=\"color: #008000; text-decoration-color: #008000\">'name'</span> should be set on <span style=\"color: #008000; text-decoration-color: #008000\">'&lt;Parameter jer&gt;'</span>                             <a href=\"file:///home/mkoenig/git/sbmlutils/src/sbmlutils/factory.py\"><span style=\"color: #7f7f7f; text-decoration-color: #7f7f7f\">factory.py</span></a><span style=\"color: #7f7f7f; text-decoration-color: #7f7f7f\">:436</span>\n",
       "</pre>\n"
      ],
      "text/plain": [
       "\u001b[31mWARNING \u001b[0m \u001b[32m'name'\u001b[0m should be set on \u001b[32m'\u001b[0m\u001b[32m<\u001b[0m\u001b[32mParameter\u001b[0m\u001b[32m jer\u001b[0m\u001b[32m>\u001b[0m\u001b[32m'\u001b[0m                             \u001b]8;id=477352;file:///home/mkoenig/git/sbmlutils/src/sbmlutils/factory.py\u001b\\\u001b[2mfactory.py\u001b[0m\u001b]8;;\u001b\\\u001b[2m:436\u001b[0m\n"
      ]
     },
     "metadata": {},
     "output_type": "display_data"
    },
    {
     "data": {
      "text/html": [
       "<pre style=\"white-space:pre;overflow-x:auto;line-height:normal;font-family:Menlo,'DejaVu Sans Mono',consolas,'Courier New',monospace\"><span style=\"color: #800000; text-decoration-color: #800000\">WARNING </span> <span style=\"color: #008000; text-decoration-color: #008000\">'sboTerm'</span> should be set on <span style=\"color: #008000; text-decoration-color: #008000\">'&lt;Parameter jer&gt;'</span>                          <a href=\"file:///home/mkoenig/git/sbmlutils/src/sbmlutils/factory.py\"><span style=\"color: #7f7f7f; text-decoration-color: #7f7f7f\">factory.py</span></a><span style=\"color: #7f7f7f; text-decoration-color: #7f7f7f\">:461</span>\n",
       "</pre>\n"
      ],
      "text/plain": [
       "\u001b[31mWARNING \u001b[0m \u001b[32m'sboTerm'\u001b[0m should be set on \u001b[32m'\u001b[0m\u001b[32m<\u001b[0m\u001b[32mParameter\u001b[0m\u001b[32m jer\u001b[0m\u001b[32m>\u001b[0m\u001b[32m'\u001b[0m                          \u001b]8;id=917087;file:///home/mkoenig/git/sbmlutils/src/sbmlutils/factory.py\u001b\\\u001b[2mfactory.py\u001b[0m\u001b]8;;\u001b\\\u001b[2m:461\u001b[0m\n"
      ]
     },
     "metadata": {},
     "output_type": "display_data"
    },
    {
     "data": {
      "text/html": [
       "<pre style=\"white-space:pre;overflow-x:auto;line-height:normal;font-family:Menlo,'DejaVu Sans Mono',consolas,'Courier New',monospace\"><span style=\"color: #800000; text-decoration-color: #800000\">WARNING </span> <span style=\"color: #008000; text-decoration-color: #008000\">'name'</span> should be set on <span style=\"color: #008000; text-decoration-color: #008000\">'&lt;Parameter INa&gt;'</span>                             <a href=\"file:///home/mkoenig/git/sbmlutils/src/sbmlutils/factory.py\"><span style=\"color: #7f7f7f; text-decoration-color: #7f7f7f\">factory.py</span></a><span style=\"color: #7f7f7f; text-decoration-color: #7f7f7f\">:436</span>\n",
       "</pre>\n"
      ],
      "text/plain": [
       "\u001b[31mWARNING \u001b[0m \u001b[32m'name'\u001b[0m should be set on \u001b[32m'\u001b[0m\u001b[32m<\u001b[0m\u001b[32mParameter\u001b[0m\u001b[32m INa\u001b[0m\u001b[32m>\u001b[0m\u001b[32m'\u001b[0m                             \u001b]8;id=848055;file:///home/mkoenig/git/sbmlutils/src/sbmlutils/factory.py\u001b\\\u001b[2mfactory.py\u001b[0m\u001b]8;;\u001b\\\u001b[2m:436\u001b[0m\n"
      ]
     },
     "metadata": {},
     "output_type": "display_data"
    },
    {
     "data": {
      "text/html": [
       "<pre style=\"white-space:pre;overflow-x:auto;line-height:normal;font-family:Menlo,'DejaVu Sans Mono',consolas,'Courier New',monospace\"><span style=\"color: #800000; text-decoration-color: #800000\">WARNING </span> <span style=\"color: #008000; text-decoration-color: #008000\">'sboTerm'</span> should be set on <span style=\"color: #008000; text-decoration-color: #008000\">'&lt;Parameter INa&gt;'</span>                          <a href=\"file:///home/mkoenig/git/sbmlutils/src/sbmlutils/factory.py\"><span style=\"color: #7f7f7f; text-decoration-color: #7f7f7f\">factory.py</span></a><span style=\"color: #7f7f7f; text-decoration-color: #7f7f7f\">:461</span>\n",
       "</pre>\n"
      ],
      "text/plain": [
       "\u001b[31mWARNING \u001b[0m \u001b[32m'sboTerm'\u001b[0m should be set on \u001b[32m'\u001b[0m\u001b[32m<\u001b[0m\u001b[32mParameter\u001b[0m\u001b[32m INa\u001b[0m\u001b[32m>\u001b[0m\u001b[32m'\u001b[0m                          \u001b]8;id=262289;file:///home/mkoenig/git/sbmlutils/src/sbmlutils/factory.py\u001b\\\u001b[2mfactory.py\u001b[0m\u001b]8;;\u001b\\\u001b[2m:461\u001b[0m\n"
      ]
     },
     "metadata": {},
     "output_type": "display_data"
    },
    {
     "data": {
      "text/html": [
       "<pre style=\"white-space:pre;overflow-x:auto;line-height:normal;font-family:Menlo,'DejaVu Sans Mono',consolas,'Courier New',monospace\"><span style=\"color: #800000; text-decoration-color: #800000\">WARNING </span> <span style=\"color: #008000; text-decoration-color: #008000\">'name'</span> should be set on <span style=\"color: #008000; text-decoration-color: #008000\">'&lt;Parameter IT&gt;'</span>                              <a href=\"file:///home/mkoenig/git/sbmlutils/src/sbmlutils/factory.py\"><span style=\"color: #7f7f7f; text-decoration-color: #7f7f7f\">factory.py</span></a><span style=\"color: #7f7f7f; text-decoration-color: #7f7f7f\">:436</span>\n",
       "</pre>\n"
      ],
      "text/plain": [
       "\u001b[31mWARNING \u001b[0m \u001b[32m'name'\u001b[0m should be set on \u001b[32m'\u001b[0m\u001b[32m<\u001b[0m\u001b[32mParameter\u001b[0m\u001b[32m IT\u001b[0m\u001b[32m>\u001b[0m\u001b[32m'\u001b[0m                              \u001b]8;id=467380;file:///home/mkoenig/git/sbmlutils/src/sbmlutils/factory.py\u001b\\\u001b[2mfactory.py\u001b[0m\u001b]8;;\u001b\\\u001b[2m:436\u001b[0m\n"
      ]
     },
     "metadata": {},
     "output_type": "display_data"
    },
    {
     "data": {
      "text/html": [
       "<pre style=\"white-space:pre;overflow-x:auto;line-height:normal;font-family:Menlo,'DejaVu Sans Mono',consolas,'Courier New',monospace\"><span style=\"color: #800000; text-decoration-color: #800000\">WARNING </span> <span style=\"color: #008000; text-decoration-color: #008000\">'sboTerm'</span> should be set on <span style=\"color: #008000; text-decoration-color: #008000\">'&lt;Parameter IT&gt;'</span>                           <a href=\"file:///home/mkoenig/git/sbmlutils/src/sbmlutils/factory.py\"><span style=\"color: #7f7f7f; text-decoration-color: #7f7f7f\">factory.py</span></a><span style=\"color: #7f7f7f; text-decoration-color: #7f7f7f\">:461</span>\n",
       "</pre>\n"
      ],
      "text/plain": [
       "\u001b[31mWARNING \u001b[0m \u001b[32m'sboTerm'\u001b[0m should be set on \u001b[32m'\u001b[0m\u001b[32m<\u001b[0m\u001b[32mParameter\u001b[0m\u001b[32m IT\u001b[0m\u001b[32m>\u001b[0m\u001b[32m'\u001b[0m                           \u001b]8;id=952999;file:///home/mkoenig/git/sbmlutils/src/sbmlutils/factory.py\u001b\\\u001b[2mfactory.py\u001b[0m\u001b]8;;\u001b\\\u001b[2m:461\u001b[0m\n"
      ]
     },
     "metadata": {},
     "output_type": "display_data"
    },
    {
     "data": {
      "text/html": [
       "<pre style=\"white-space:pre;overflow-x:auto;line-height:normal;font-family:Menlo,'DejaVu Sans Mono',consolas,'Courier New',monospace\"><span style=\"color: #800000; text-decoration-color: #800000\">WARNING </span> <span style=\"color: #008000; text-decoration-color: #008000\">'name'</span> should be set on <span style=\"color: #008000; text-decoration-color: #008000\">'&lt;Parameter IKCa&gt;'</span>                            <a href=\"file:///home/mkoenig/git/sbmlutils/src/sbmlutils/factory.py\"><span style=\"color: #7f7f7f; text-decoration-color: #7f7f7f\">factory.py</span></a><span style=\"color: #7f7f7f; text-decoration-color: #7f7f7f\">:436</span>\n",
       "</pre>\n"
      ],
      "text/plain": [
       "\u001b[31mWARNING \u001b[0m \u001b[32m'name'\u001b[0m should be set on \u001b[32m'\u001b[0m\u001b[32m<\u001b[0m\u001b[32mParameter\u001b[0m\u001b[32m IKCa\u001b[0m\u001b[32m>\u001b[0m\u001b[32m'\u001b[0m                            \u001b]8;id=455510;file:///home/mkoenig/git/sbmlutils/src/sbmlutils/factory.py\u001b\\\u001b[2mfactory.py\u001b[0m\u001b]8;;\u001b\\\u001b[2m:436\u001b[0m\n"
      ]
     },
     "metadata": {},
     "output_type": "display_data"
    },
    {
     "data": {
      "text/html": [
       "<pre style=\"white-space:pre;overflow-x:auto;line-height:normal;font-family:Menlo,'DejaVu Sans Mono',consolas,'Courier New',monospace\"><span style=\"color: #800000; text-decoration-color: #800000\">WARNING </span> <span style=\"color: #008000; text-decoration-color: #008000\">'sboTerm'</span> should be set on <span style=\"color: #008000; text-decoration-color: #008000\">'&lt;Parameter IKCa&gt;'</span>                         <a href=\"file:///home/mkoenig/git/sbmlutils/src/sbmlutils/factory.py\"><span style=\"color: #7f7f7f; text-decoration-color: #7f7f7f\">factory.py</span></a><span style=\"color: #7f7f7f; text-decoration-color: #7f7f7f\">:461</span>\n",
       "</pre>\n"
      ],
      "text/plain": [
       "\u001b[31mWARNING \u001b[0m \u001b[32m'sboTerm'\u001b[0m should be set on \u001b[32m'\u001b[0m\u001b[32m<\u001b[0m\u001b[32mParameter\u001b[0m\u001b[32m IKCa\u001b[0m\u001b[32m>\u001b[0m\u001b[32m'\u001b[0m                         \u001b]8;id=385083;file:///home/mkoenig/git/sbmlutils/src/sbmlutils/factory.py\u001b\\\u001b[2mfactory.py\u001b[0m\u001b]8;;\u001b\\\u001b[2m:461\u001b[0m\n"
      ]
     },
     "metadata": {},
     "output_type": "display_data"
    },
    {
     "data": {
      "text/html": [
       "<pre style=\"white-space:pre;overflow-x:auto;line-height:normal;font-family:Menlo,'DejaVu Sans Mono',consolas,'Courier New',monospace\"><span style=\"color: #800000; text-decoration-color: #800000\">WARNING </span> <span style=\"color: #008000; text-decoration-color: #008000\">'name'</span> should be set on <span style=\"color: #008000; text-decoration-color: #008000\">'&lt;Parameter ICa&gt;'</span>                             <a href=\"file:///home/mkoenig/git/sbmlutils/src/sbmlutils/factory.py\"><span style=\"color: #7f7f7f; text-decoration-color: #7f7f7f\">factory.py</span></a><span style=\"color: #7f7f7f; text-decoration-color: #7f7f7f\">:436</span>\n",
       "</pre>\n"
      ],
      "text/plain": [
       "\u001b[31mWARNING \u001b[0m \u001b[32m'name'\u001b[0m should be set on \u001b[32m'\u001b[0m\u001b[32m<\u001b[0m\u001b[32mParameter\u001b[0m\u001b[32m ICa\u001b[0m\u001b[32m>\u001b[0m\u001b[32m'\u001b[0m                             \u001b]8;id=85024;file:///home/mkoenig/git/sbmlutils/src/sbmlutils/factory.py\u001b\\\u001b[2mfactory.py\u001b[0m\u001b]8;;\u001b\\\u001b[2m:436\u001b[0m\n"
      ]
     },
     "metadata": {},
     "output_type": "display_data"
    },
    {
     "data": {
      "text/html": [
       "<pre style=\"white-space:pre;overflow-x:auto;line-height:normal;font-family:Menlo,'DejaVu Sans Mono',consolas,'Courier New',monospace\"><span style=\"color: #800000; text-decoration-color: #800000\">WARNING </span> <span style=\"color: #008000; text-decoration-color: #008000\">'sboTerm'</span> should be set on <span style=\"color: #008000; text-decoration-color: #008000\">'&lt;Parameter ICa&gt;'</span>                          <a href=\"file:///home/mkoenig/git/sbmlutils/src/sbmlutils/factory.py\"><span style=\"color: #7f7f7f; text-decoration-color: #7f7f7f\">factory.py</span></a><span style=\"color: #7f7f7f; text-decoration-color: #7f7f7f\">:461</span>\n",
       "</pre>\n"
      ],
      "text/plain": [
       "\u001b[31mWARNING \u001b[0m \u001b[32m'sboTerm'\u001b[0m should be set on \u001b[32m'\u001b[0m\u001b[32m<\u001b[0m\u001b[32mParameter\u001b[0m\u001b[32m ICa\u001b[0m\u001b[32m>\u001b[0m\u001b[32m'\u001b[0m                          \u001b]8;id=526597;file:///home/mkoenig/git/sbmlutils/src/sbmlutils/factory.py\u001b\\\u001b[2mfactory.py\u001b[0m\u001b]8;;\u001b\\\u001b[2m:461\u001b[0m\n"
      ]
     },
     "metadata": {},
     "output_type": "display_data"
    },
    {
     "data": {
      "text/html": [
       "<pre style=\"white-space:pre;overflow-x:auto;line-height:normal;font-family:Menlo,'DejaVu Sans Mono',consolas,'Courier New',monospace\"><span style=\"color: #800000; text-decoration-color: #800000\">WARNING </span> <span style=\"color: #008000; text-decoration-color: #008000\">'name'</span> should be set on <span style=\"color: #008000; text-decoration-color: #008000\">'&lt;Parameter IL&gt;'</span>                              <a href=\"file:///home/mkoenig/git/sbmlutils/src/sbmlutils/factory.py\"><span style=\"color: #7f7f7f; text-decoration-color: #7f7f7f\">factory.py</span></a><span style=\"color: #7f7f7f; text-decoration-color: #7f7f7f\">:436</span>\n",
       "</pre>\n"
      ],
      "text/plain": [
       "\u001b[31mWARNING \u001b[0m \u001b[32m'name'\u001b[0m should be set on \u001b[32m'\u001b[0m\u001b[32m<\u001b[0m\u001b[32mParameter\u001b[0m\u001b[32m IL\u001b[0m\u001b[32m>\u001b[0m\u001b[32m'\u001b[0m                              \u001b]8;id=692829;file:///home/mkoenig/git/sbmlutils/src/sbmlutils/factory.py\u001b\\\u001b[2mfactory.py\u001b[0m\u001b]8;;\u001b\\\u001b[2m:436\u001b[0m\n"
      ]
     },
     "metadata": {},
     "output_type": "display_data"
    },
    {
     "data": {
      "text/html": [
       "<pre style=\"white-space:pre;overflow-x:auto;line-height:normal;font-family:Menlo,'DejaVu Sans Mono',consolas,'Courier New',monospace\"><span style=\"color: #800000; text-decoration-color: #800000\">WARNING </span> <span style=\"color: #008000; text-decoration-color: #008000\">'sboTerm'</span> should be set on <span style=\"color: #008000; text-decoration-color: #008000\">'&lt;Parameter IL&gt;'</span>                           <a href=\"file:///home/mkoenig/git/sbmlutils/src/sbmlutils/factory.py\"><span style=\"color: #7f7f7f; text-decoration-color: #7f7f7f\">factory.py</span></a><span style=\"color: #7f7f7f; text-decoration-color: #7f7f7f\">:461</span>\n",
       "</pre>\n"
      ],
      "text/plain": [
       "\u001b[31mWARNING \u001b[0m \u001b[32m'sboTerm'\u001b[0m should be set on \u001b[32m'\u001b[0m\u001b[32m<\u001b[0m\u001b[32mParameter\u001b[0m\u001b[32m IL\u001b[0m\u001b[32m>\u001b[0m\u001b[32m'\u001b[0m                           \u001b]8;id=456745;file:///home/mkoenig/git/sbmlutils/src/sbmlutils/factory.py\u001b\\\u001b[2mfactory.py\u001b[0m\u001b]8;;\u001b\\\u001b[2m:461\u001b[0m\n"
      ]
     },
     "metadata": {},
     "output_type": "display_data"
    },
    {
     "data": {
      "text/html": [
       "<pre style=\"white-space:pre;overflow-x:auto;line-height:normal;font-family:Menlo,'DejaVu Sans Mono',consolas,'Courier New',monospace\"><span style=\"color: #800000; text-decoration-color: #800000\">WARNING </span> <span style=\"color: #008000; text-decoration-color: #008000\">'name'</span> should be set on <span style=\"color: #008000; text-decoration-color: #008000\">'&lt;Parameter IK&gt;'</span>                              <a href=\"file:///home/mkoenig/git/sbmlutils/src/sbmlutils/factory.py\"><span style=\"color: #7f7f7f; text-decoration-color: #7f7f7f\">factory.py</span></a><span style=\"color: #7f7f7f; text-decoration-color: #7f7f7f\">:436</span>\n",
       "</pre>\n"
      ],
      "text/plain": [
       "\u001b[31mWARNING \u001b[0m \u001b[32m'name'\u001b[0m should be set on \u001b[32m'\u001b[0m\u001b[32m<\u001b[0m\u001b[32mParameter\u001b[0m\u001b[32m IK\u001b[0m\u001b[32m>\u001b[0m\u001b[32m'\u001b[0m                              \u001b]8;id=817871;file:///home/mkoenig/git/sbmlutils/src/sbmlutils/factory.py\u001b\\\u001b[2mfactory.py\u001b[0m\u001b]8;;\u001b\\\u001b[2m:436\u001b[0m\n"
      ]
     },
     "metadata": {},
     "output_type": "display_data"
    },
    {
     "data": {
      "text/html": [
       "<pre style=\"white-space:pre;overflow-x:auto;line-height:normal;font-family:Menlo,'DejaVu Sans Mono',consolas,'Courier New',monospace\"><span style=\"color: #800000; text-decoration-color: #800000\">WARNING </span> <span style=\"color: #008000; text-decoration-color: #008000\">'sboTerm'</span> should be set on <span style=\"color: #008000; text-decoration-color: #008000\">'&lt;Parameter IK&gt;'</span>                           <a href=\"file:///home/mkoenig/git/sbmlutils/src/sbmlutils/factory.py\"><span style=\"color: #7f7f7f; text-decoration-color: #7f7f7f\">factory.py</span></a><span style=\"color: #7f7f7f; text-decoration-color: #7f7f7f\">:461</span>\n",
       "</pre>\n"
      ],
      "text/plain": [
       "\u001b[31mWARNING \u001b[0m \u001b[32m'sboTerm'\u001b[0m should be set on \u001b[32m'\u001b[0m\u001b[32m<\u001b[0m\u001b[32mParameter\u001b[0m\u001b[32m IK\u001b[0m\u001b[32m>\u001b[0m\u001b[32m'\u001b[0m                           \u001b]8;id=287279;file:///home/mkoenig/git/sbmlutils/src/sbmlutils/factory.py\u001b\\\u001b[2mfactory.py\u001b[0m\u001b]8;;\u001b\\\u001b[2m:461\u001b[0m\n"
      ]
     },
     "metadata": {},
     "output_type": "display_data"
    },
    {
     "data": {
      "text/html": [
       "<pre style=\"white-space:pre;overflow-x:auto;line-height:normal;font-family:Menlo,'DejaVu Sans Mono',consolas,'Courier New',monospace\"><span style=\"color: #800000; text-decoration-color: #800000\">WARNING </span> <span style=\"color: #008000; text-decoration-color: #008000\">'name'</span> should be set on <span style=\"color: #008000; text-decoration-color: #008000\">'&lt;Parameter i_na&gt;'</span>                            <a href=\"file:///home/mkoenig/git/sbmlutils/src/sbmlutils/factory.py\"><span style=\"color: #7f7f7f; text-decoration-color: #7f7f7f\">factory.py</span></a><span style=\"color: #7f7f7f; text-decoration-color: #7f7f7f\">:436</span>\n",
       "</pre>\n"
      ],
      "text/plain": [
       "\u001b[31mWARNING \u001b[0m \u001b[32m'name'\u001b[0m should be set on \u001b[32m'\u001b[0m\u001b[32m<\u001b[0m\u001b[32mParameter\u001b[0m\u001b[32m i_na\u001b[0m\u001b[32m>\u001b[0m\u001b[32m'\u001b[0m                            \u001b]8;id=808263;file:///home/mkoenig/git/sbmlutils/src/sbmlutils/factory.py\u001b\\\u001b[2mfactory.py\u001b[0m\u001b]8;;\u001b\\\u001b[2m:436\u001b[0m\n"
      ]
     },
     "metadata": {},
     "output_type": "display_data"
    },
    {
     "data": {
      "text/html": [
       "<pre style=\"white-space:pre;overflow-x:auto;line-height:normal;font-family:Menlo,'DejaVu Sans Mono',consolas,'Courier New',monospace\"><span style=\"color: #800000; text-decoration-color: #800000\">WARNING </span> <span style=\"color: #008000; text-decoration-color: #008000\">'sboTerm'</span> should be set on <span style=\"color: #008000; text-decoration-color: #008000\">'&lt;Parameter i_na&gt;'</span>                         <a href=\"file:///home/mkoenig/git/sbmlutils/src/sbmlutils/factory.py\"><span style=\"color: #7f7f7f; text-decoration-color: #7f7f7f\">factory.py</span></a><span style=\"color: #7f7f7f; text-decoration-color: #7f7f7f\">:461</span>\n",
       "</pre>\n"
      ],
      "text/plain": [
       "\u001b[31mWARNING \u001b[0m \u001b[32m'sboTerm'\u001b[0m should be set on \u001b[32m'\u001b[0m\u001b[32m<\u001b[0m\u001b[32mParameter\u001b[0m\u001b[32m i_na\u001b[0m\u001b[32m>\u001b[0m\u001b[32m'\u001b[0m                         \u001b]8;id=274433;file:///home/mkoenig/git/sbmlutils/src/sbmlutils/factory.py\u001b\\\u001b[2mfactory.py\u001b[0m\u001b]8;;\u001b\\\u001b[2m:461\u001b[0m\n"
      ]
     },
     "metadata": {},
     "output_type": "display_data"
    },
    {
     "data": {
      "text/html": [
       "<pre style=\"white-space:pre;overflow-x:auto;line-height:normal;font-family:Menlo,'DejaVu Sans Mono',consolas,'Courier New',monospace\"><span style=\"color: #800000; text-decoration-color: #800000\">WARNING </span> <span style=\"color: #008000; text-decoration-color: #008000\">'name'</span> should be set on <span style=\"color: #008000; text-decoration-color: #008000\">'&lt;Parameter i_kca&gt;'</span>                           <a href=\"file:///home/mkoenig/git/sbmlutils/src/sbmlutils/factory.py\"><span style=\"color: #7f7f7f; text-decoration-color: #7f7f7f\">factory.py</span></a><span style=\"color: #7f7f7f; text-decoration-color: #7f7f7f\">:436</span>\n",
       "</pre>\n"
      ],
      "text/plain": [
       "\u001b[31mWARNING \u001b[0m \u001b[32m'name'\u001b[0m should be set on \u001b[32m'\u001b[0m\u001b[32m<\u001b[0m\u001b[32mParameter\u001b[0m\u001b[32m i_kca\u001b[0m\u001b[32m>\u001b[0m\u001b[32m'\u001b[0m                           \u001b]8;id=849171;file:///home/mkoenig/git/sbmlutils/src/sbmlutils/factory.py\u001b\\\u001b[2mfactory.py\u001b[0m\u001b]8;;\u001b\\\u001b[2m:436\u001b[0m\n"
      ]
     },
     "metadata": {},
     "output_type": "display_data"
    },
    {
     "data": {
      "text/html": [
       "<pre style=\"white-space:pre;overflow-x:auto;line-height:normal;font-family:Menlo,'DejaVu Sans Mono',consolas,'Courier New',monospace\"><span style=\"color: #800000; text-decoration-color: #800000\">WARNING </span> <span style=\"color: #008000; text-decoration-color: #008000\">'sboTerm'</span> should be set on <span style=\"color: #008000; text-decoration-color: #008000\">'&lt;Parameter i_kca&gt;'</span>                        <a href=\"file:///home/mkoenig/git/sbmlutils/src/sbmlutils/factory.py\"><span style=\"color: #7f7f7f; text-decoration-color: #7f7f7f\">factory.py</span></a><span style=\"color: #7f7f7f; text-decoration-color: #7f7f7f\">:461</span>\n",
       "</pre>\n"
      ],
      "text/plain": [
       "\u001b[31mWARNING \u001b[0m \u001b[32m'sboTerm'\u001b[0m should be set on \u001b[32m'\u001b[0m\u001b[32m<\u001b[0m\u001b[32mParameter\u001b[0m\u001b[32m i_kca\u001b[0m\u001b[32m>\u001b[0m\u001b[32m'\u001b[0m                        \u001b]8;id=682152;file:///home/mkoenig/git/sbmlutils/src/sbmlutils/factory.py\u001b\\\u001b[2mfactory.py\u001b[0m\u001b]8;;\u001b\\\u001b[2m:461\u001b[0m\n"
      ]
     },
     "metadata": {},
     "output_type": "display_data"
    },
    {
     "data": {
      "text/html": [
       "<pre style=\"white-space:pre;overflow-x:auto;line-height:normal;font-family:Menlo,'DejaVu Sans Mono',consolas,'Courier New',monospace\"><span style=\"color: #800000; text-decoration-color: #800000\">WARNING </span> <span style=\"color: #008000; text-decoration-color: #008000\">'sboTerm'</span> should be set on <span style=\"color: #008000; text-decoration-color: #008000\">'&lt;Parameter t|model time&gt;'</span>                 <a href=\"file:///home/mkoenig/git/sbmlutils/src/sbmlutils/factory.py\"><span style=\"color: #7f7f7f; text-decoration-color: #7f7f7f\">factory.py</span></a><span style=\"color: #7f7f7f; text-decoration-color: #7f7f7f\">:461</span>\n",
       "</pre>\n"
      ],
      "text/plain": [
       "\u001b[31mWARNING \u001b[0m \u001b[32m'sboTerm'\u001b[0m should be set on \u001b[32m'\u001b[0m\u001b[32m<\u001b[0m\u001b[32mParameter\u001b[0m\u001b[32m t|model time\u001b[0m\u001b[32m>\u001b[0m\u001b[32m'\u001b[0m                 \u001b]8;id=841819;file:///home/mkoenig/git/sbmlutils/src/sbmlutils/factory.py\u001b\\\u001b[2mfactory.py\u001b[0m\u001b]8;;\u001b\\\u001b[2m:461\u001b[0m\n"
      ]
     },
     "metadata": {},
     "output_type": "display_data"
    },
    {
     "data": {
      "text/html": [
       "<pre style=\"white-space:pre;overflow-x:auto;line-height:normal;font-family:Menlo,'DejaVu Sans Mono',consolas,'Courier New',monospace\"><span style=\"color: #800000; text-decoration-color: #800000; font-weight: bold\">ERROR   </span> All SBML paths should be of type <span style=\"color: #008000; text-decoration-color: #008000\">'Path'</span>, but <span style=\"color: #008000; text-decoration-color: #008000\">'&lt;class '</span><span style=\"color: #000000; text-decoration-color: #000000\">str'</span><span style=\"font-weight: bold\">&gt;</span>' found for:   <a href=\"file:///home/mkoenig/git/sbmlutils/src/sbmlutils/io/sbml.py\"><span style=\"color: #7f7f7f; text-decoration-color: #7f7f7f\">sbml.py</span></a><span style=\"color: #7f7f7f; text-decoration-color: #7f7f7f\">:45</span>\n",
       "         .<span style=\"color: #800080; text-decoration-color: #800080\">/xpp/</span><span style=\"color: #ff00ff; text-decoration-color: #ff00ff\">SkM_AP_KCa.xml</span>                                                                \n",
       "</pre>\n"
      ],
      "text/plain": [
       "\u001b[1;31mERROR   \u001b[0m All SBML paths should be of type \u001b[32m'Path'\u001b[0m, but \u001b[32m'\u001b[0m\u001b[32m<\u001b[0m\u001b[32mclass\u001b[0m\u001b[32m '\u001b[0m\u001b[39mstr'\u001b[0m\u001b[1m>\u001b[0m' found for:   \u001b]8;id=669842;file:///home/mkoenig/git/sbmlutils/src/sbmlutils/io/sbml.py\u001b\\\u001b[2msbml.py\u001b[0m\u001b]8;;\u001b\\\u001b[2m:45\u001b[0m\n",
       "         .\u001b[35m/xpp/\u001b[0m\u001b[95mSkM_AP_KCa.xml\u001b[0m                                                                \n"
      ]
     },
     "metadata": {},
     "output_type": "display_data"
    },
    {
     "data": {
      "text/html": [
       "<pre style=\"white-space:pre;overflow-x:auto;line-height:normal;font-family:Menlo,'DejaVu Sans Mono',consolas,'Courier New',monospace\">\n",
       "</pre>\n"
      ],
      "text/plain": [
       "\n"
      ]
     },
     "metadata": {},
     "output_type": "display_data"
    },
    {
     "data": {
      "text/html": [
       "<pre style=\"white-space:pre;overflow-x:auto;line-height:normal;font-family:Menlo,'DejaVu Sans Mono',consolas,'Courier New',monospace\"><span style=\"color: #008000; text-decoration-color: #008000\">─────────────────────────────────────── </span>Validate SBML<span style=\"color: #008000; text-decoration-color: #008000\"> ───────────────────────────────────────</span>\n",
       "</pre>\n"
      ],
      "text/plain": [
       "\u001b[32m─────────────────────────────────────── \u001b[0mValidate SBML\u001b[32m ───────────────────────────────────────\u001b[0m\n"
      ]
     },
     "metadata": {},
     "output_type": "display_data"
    },
    {
     "data": {
      "text/html": [
       "<pre style=\"white-space:pre;overflow-x:auto;line-height:normal;font-family:Menlo,'DejaVu Sans Mono',consolas,'Courier New',monospace\"><span style=\"color: #008000; text-decoration-color: #008000\">.</span><span style=\"color: #800080; text-decoration-color: #800080\">/xpp/</span><span style=\"color: #ff00ff; text-decoration-color: #ff00ff\">SkM_AP_KCa.xml</span>\n",
       "<span style=\"color: #008000; text-decoration-color: #008000\">valid                    : TRUE</span>\n",
       "<span style=\"color: #008000; text-decoration-color: #008000\">check time </span><span style=\"color: #008000; text-decoration-color: #008000; font-weight: bold\">(</span><span style=\"color: #008000; text-decoration-color: #008000\">s</span><span style=\"color: #008000; text-decoration-color: #008000; font-weight: bold\">)</span><span style=\"color: #008000; text-decoration-color: #008000\">           : </span><span style=\"color: #008080; text-decoration-color: #008080; font-weight: bold\">0.009</span>\n",
       "</pre>\n"
      ],
      "text/plain": [
       "\u001b[32m.\u001b[0m\u001b[35m/xpp/\u001b[0m\u001b[95mSkM_AP_KCa.xml\u001b[0m\n",
       "\u001b[32mvalid                    : TRUE\u001b[0m\n",
       "\u001b[32mcheck time \u001b[0m\u001b[1;32m(\u001b[0m\u001b[32ms\u001b[0m\u001b[1;32m)\u001b[0m\u001b[32m           : \u001b[0m\u001b[1;36m0.009\u001b[0m\n"
      ]
     },
     "metadata": {},
     "output_type": "display_data"
    },
    {
     "data": {
      "text/html": [
       "<pre style=\"white-space:pre;overflow-x:auto;line-height:normal;font-family:Menlo,'DejaVu Sans Mono',consolas,'Courier New',monospace\"><span style=\"color: #008000; text-decoration-color: #008000\">─────────────────────────────────────────────────────────────────────────────────────────────</span>\n",
       "</pre>\n"
      ],
      "text/plain": [
       "\u001b[32m─────────────────────────────────────────────────────────────────────────────────────────────\u001b[0m\n"
      ]
     },
     "metadata": {},
     "output_type": "display_data"
    },
    {
     "data": {
      "text/html": [
       "<pre style=\"white-space:pre;overflow-x:auto;line-height:normal;font-family:Menlo,'DejaVu Sans Mono',consolas,'Courier New',monospace\">\n",
       "</pre>\n"
      ],
      "text/plain": [
       "\n"
      ]
     },
     "metadata": {},
     "output_type": "display_data"
    }
   ],
   "source": [
    "from sbmlutils.converters import xpp\n",
    "\n",
    "# convert to SBML\n",
    "xpp.xpp2sbml(xpp_file=\"./xpp/SkM_AP_KCa.ode\", sbml_file=\"./xpp/SkM_AP_KCa.xml\");"
   ]
  },
  {
   "cell_type": "code",
   "execution_count": null,
   "metadata": {},
   "outputs": [],
   "source": []
  }
 ],
 "metadata": {
  "kernelspec": {
   "display_name": "sbmlutils",
   "language": "python",
   "name": "sbmlutils"
  },
  "language_info": {
   "codemirror_mode": {
    "name": "ipython",
    "version": 3
   },
   "file_extension": ".py",
   "mimetype": "text/x-python",
   "name": "python",
   "nbconvert_exporter": "python",
   "pygments_lexer": "ipython3",
   "version": "3.8.10"
  }
 },
 "nbformat": 4,
 "nbformat_minor": 4
}
