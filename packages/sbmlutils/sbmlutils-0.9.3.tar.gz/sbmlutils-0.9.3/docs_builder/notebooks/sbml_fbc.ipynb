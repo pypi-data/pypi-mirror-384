{
 "cells": [
  {
   "cell_type": "markdown",
   "metadata": {},
   "source": [
    "## SBML Flux Balance Constraints (fbc)\n",
    "The following examples demonstrate the creation of SBML models with SBML fbc information."
   ]
  },
  {
   "cell_type": "code",
   "execution_count": 1,
   "metadata": {},
   "source": [
    "%load_ext autoreload\n",
    "%autoreload 2"
   ],
   "outputs": []
  },
  {
   "cell_type": "code",
   "execution_count": 2,
   "metadata": {},
   "source": [
    "from rich.jupyter import print\n",
    "from notebook_utils import print_xml\n",
    "from sbmlutils.factory import *\n",
    "from sbmlutils.validation import validate_doc"
   ],
   "outputs": []
  },
  {
   "cell_type": "markdown",
   "metadata": {},
   "source": [
    "### Setting charge and formula on species\n",
    "The optional attribute `charge` refers to the Species objects charge (in terms of electrons, not the SI unit coulombs)."
   ]
  },
  {
   "cell_type": "code",
   "execution_count": 3,
   "metadata": {},
   "source": [
    "class U(Units):\n",
    "    \"\"\"UnitDefinitions.\"\"\"\n",
    "    hr = UnitDefinition(\"hr\")\n",
    "    m2 = UnitDefinition(\"m2\", \"meter^2\")\n",
    "    mM = UnitDefinition(\"mM\", \"mmole/liter\")\n",
    "\n",
    "# model definition    \n",
    "model = Model(\n",
    "    'fbc_charge_formula',\n",
    "    packages= [Package.FBC_V2],\n",
    "    units=U,\n",
    "    model_units= ModelUnits(\n",
    "        time=U.hr, extent=U.mole, substance=U.mole,\n",
    "        length=U.meter, area=U.m2, volume=U.liter),\n",
    "    species=[\n",
    "        \n",
    "    ]\n",
    ")\n",
    "\n",
    "# create model and print SBML\n",
    "doc = Document(model)\n",
    "print_xml(doc.get_sbml())\n",
    "\n",
    "# validate model\n",
    "validate_doc(doc.doc, options=ValidationOptions(units_consistency=False));"
   ],
   "outputs": []
  },
  {
   "cell_type": "code",
   "execution_count": null,
   "metadata": {},
   "source": [],
   "outputs": []
  }
 ],
 "metadata": {
  "kernelspec": {
   "display_name": "sbmlutils",
   "language": "python",
   "name": "sbmlutils"
  },
  "language_info": {
   "codemirror_mode": {
    "name": "ipython",
    "version": 3
   },
   "file_extension": ".py",
   "mimetype": "text/x-python",
   "name": "python",
   "nbconvert_exporter": "python",
   "pygments_lexer": "ipython3",
   "version": "3.9.16"
  }
 },
 "nbformat": 4,
 "nbformat_minor": 4
}
