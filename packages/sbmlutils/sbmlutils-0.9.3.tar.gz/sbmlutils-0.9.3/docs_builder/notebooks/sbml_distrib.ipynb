{
 "cells": [
  {
   "cell_type": "markdown",
   "metadata": {},
   "source": [
    "## SBML distrib\n",
    "The following examples demonstrate the creation of SBML models with SBML distrib information."
   ]
  },
  {
   "cell_type": "code",
   "execution_count": 1,
   "metadata": {},
   "source": [
    "%load_ext autoreload\n",
    "%autoreload 2"
   ],
   "outputs": []
  },
  {
   "cell_type": "code",
   "execution_count": 2,
   "metadata": {},
   "source": [
    "from notebook_utils import print_xml\n",
    "from sbmlutils.factory import *\n",
    "from sbmlutils.validation import validate_doc"
   ],
   "outputs": []
  },
  {
   "cell_type": "markdown",
   "metadata": {},
   "source": [
    "### Assigning a distribution to a parameter\n",
    "Here we create a parameter $$p_1 = 0.0$$ and assign the initial value from a normal distribution with `mean=0` and `standard deviation=1` \n",
    "\n",
    "$$p_1 = \\sigma(0,1)$$"
   ]
  },
  {
   "cell_type": "code",
   "execution_count": 3,
   "metadata": {},
   "source": [
    "class U(Units):\n",
    "    \"\"\"UnitDefinitions.\"\"\"\n",
    "    hr = UnitDefinition(\"hr\")\n",
    "    m2 = UnitDefinition(\"m2\", \"meter^2\")\n",
    "    mM = UnitDefinition(\"mM\", \"mmole/liter\")\n",
    "\n",
    "# model definition    \n",
    "model = Model(\n",
    "    'distrib_assignment',\n",
    "    packages= [Package.DISTRIB_V1],\n",
    "    units=U,\n",
    "    model_units= ModelUnits(\n",
    "        time=U.hr, extent=U.mole, substance=U.mole,\n",
    "        length=U.meter, area=U.m2, volume=U.liter),\n",
    "    parameters= [\n",
    "        Parameter(sid=\"p1\", value=0.0, unit=U.mM)\n",
    "    ],\n",
    "    assignments= [\n",
    "        InitialAssignment('p1', 'normal(0 mM, 1 mM)'),\n",
    "    ]\n",
    ")\n",
    "\n",
    "# create model and print SBML\n",
    "doc = Document(model)\n",
    "print_xml(doc.get_sbml())\n",
    "\n",
    "# validate model\n",
    "validate_doc(doc.doc, options=ValidationOptions(units_consistency=False));"
   ],
   "outputs": []
  },
  {
   "cell_type": "markdown",
   "metadata": {},
   "source": [
    "### Using a normal distribution\n",
    "In this example, the initial value of y is set as a draw from the normal distribution `normal(z,10)`:"
   ]
  },
  {
   "cell_type": "code",
   "execution_count": 4,
   "metadata": {},
   "source": [
    "model = Model(\n",
    "    'normal',\n",
    "    packages=[Package.DISTRIB_V1],\n",
    "    objects=[\n",
    "        Parameter('y', value=1.0),\n",
    "        Parameter('z', value=1.0),\n",
    "        InitialAssignment('y', 'normal(z, 10)'),\n",
    "    ]\n",
    ")\n",
    "\n",
    "# create model and print SBML\n",
    "doc = Document(model)\n",
    "print_xml(doc.get_sbml())\n",
    "\n",
    "# validate model\n",
    "validate_doc(doc.doc, options=ValidationOptions(units_consistency=False));"
   ],
   "outputs": []
  },
  {
   "cell_type": "markdown",
   "metadata": {},
   "source": [
    "### Defining a truncated normal distribution\n",
    "When used with four arguments instead of two, the normal distribution is truncated to `normal(z, 10, z-2, z+2)`. This use would apply a draw from a normal distribution with `mean z`, `standard deviation 10`, `lower bound z-2` (inclusive) and `upper bound z+2` (not inclusive) to the SBML symbol `y`."
   ]
  },
  {
   "cell_type": "code",
   "execution_count": 5,
   "metadata": {},
   "source": [
    "model = Model(\n",
    "    'truncated_normal',\n",
    "    packages = [Package.DISTRIB_V1],\n",
    "    objects = [\n",
    "        Parameter('y', value=1.0),\n",
    "        Parameter('z', value=1.0),\n",
    "        InitialAssignment('y', 'normal(z, 10, z-2, z+2)'),\n",
    "    ]\n",
    ")\n",
    "\n",
    "# create model and print SBML\n",
    "doc = Document(model)\n",
    "print_xml(doc.get_sbml())\n",
    "\n",
    "# validate model\n",
    "validate_doc(doc.doc, options=ValidationOptions(units_consistency=False));"
   ],
   "outputs": []
  },
  {
   "cell_type": "markdown",
   "metadata": {},
   "source": [
    "### Defining conditional events \n",
    "Simultaneous events in SBML are ordered based on their Priority values, with higher values being executed first, and potentially cancelling events that fire after them. In this example, two simultaneous events have priorities set with csymbols defined in distrib. The event `E0` has a priority of `uniform(0,1)`, while the event `E1` has a priority of `uniform(0,2)`. This means that 75% of the time, event `E1` will have a higher priority than `E0`, and will fire first, assigning a value of `5` to parameter `x`. Because this negates the trigger condition for `E0`, which is set `persistent=\"false\"`, this means that `E0` never fires, and the value of `x` remains at `5`. The remaining 25% of the time, the reverse happens, with `E0` setting the value of `x` to `3` instead."
   ]
  },
  {
   "cell_type": "code",
   "execution_count": 6,
   "metadata": {},
   "source": [
    "model = Model(\n",
    "    'conditional_events',\n",
    "    packages=[Package.DISTRIB_V1],\n",
    "    objects=[\n",
    "        Parameter('x', value=1.0, constant=False),\n",
    "        Event(\n",
    "            \"E0\", \n",
    "            trigger=\"time>2 && x<1\", \n",
    "            priority=\"uniform(0, 1)\",\n",
    "            trigger_initialValue=True, trigger_persistent=False,\n",
    "            assignments={\"x\": \"3\"}\n",
    "        ),\n",
    "        Event(\n",
    "            \"E1\", \n",
    "            trigger=\"time>2 && x<1\", \n",
    "            priority=\"uniform(0, 2)\",\n",
    "            trigger_initialValue=True, trigger_persistent=False,\n",
    "            assignments={\"x\": \"5\"}\n",
    "        )\n",
    "    ]\n",
    ")\n",
    "\n",
    "# create model and print SBML\n",
    "doc = Document(model)\n",
    "print_xml(doc.get_sbml())\n",
    "\n",
    "# validate model\n",
    "validate_doc(doc.doc, options=ValidationOptions(units_consistency=False));"
   ],
   "outputs": []
  },
  {
   "cell_type": "markdown",
   "metadata": {
    "jupyter": {
     "outputs_hidden": true
    }
   },
   "source": [
    "### Overview of all distributions\n",
    "The following gives an example how to use all of the various distributions"
   ]
  },
  {
   "cell_type": "code",
   "execution_count": 7,
   "metadata": {},
   "source": [
    "model = Model(\n",
    "    'all_distributions',\n",
    "    packages = [Package.DISTRIB_V1],\n",
    "    objects = [\n",
    "        InitialAssignment('p_normal_1', 'normal(0, 1)'),\n",
    "        InitialAssignment('p_normal_2', 'normal(0, 1, 0, 10)'),\n",
    "        InitialAssignment('p_uniform', 'uniform(5, 10)'),\n",
    "        InitialAssignment('p_bernoulli', 'bernoulli(0.4)'),\n",
    "        InitialAssignment('p_binomial_1', 'binomial(100, 0.3)'),\n",
    "        InitialAssignment('p_binomial_2', 'binomial(100, 0.3, 0, 2)'),\n",
    "        InitialAssignment('p_cauchy_1', 'cauchy(0, 1)'),\n",
    "        InitialAssignment('p_cauchy_2', 'cauchy(0, 1, 0, 5)'),\n",
    "        InitialAssignment('p_chisquare_1', 'chisquare(10)'),\n",
    "        InitialAssignment('p_chisquare_2', 'chisquare(10, 0, 10)'),\n",
    "        InitialAssignment('p_exponential_1', 'exponential(1.0)'),\n",
    "        InitialAssignment('p_exponential_2', 'exponential(1.0, 0, 10)'),\n",
    "        InitialAssignment('p_gamma_1', 'gamma(0, 1)'),\n",
    "        InitialAssignment('p_gamma_2', 'gamma(0, 1, 0, 10)'),\n",
    "        InitialAssignment('p_laplace_1', 'laplace(0, 1)'),\n",
    "        InitialAssignment('p_laplace_2', 'laplace(0, 1, 0, 10)'),\n",
    "        InitialAssignment('p_lognormal_1', 'lognormal(0, 1)'),\n",
    "        InitialAssignment('p_lognormal_2', 'lognormal(0, 1, 0, 10)'),\n",
    "        InitialAssignment('p_poisson_1', 'poisson(0.5)'),\n",
    "        InitialAssignment('p_poisson_2', 'poisson(0.5, 0, 10)'),\n",
    "        InitialAssignment('p_raleigh_1', 'rayleigh(0.5)'),\n",
    "        InitialAssignment('p_raleigh_2', 'rayleigh(0.5, 0, 10)'),\n",
    "    ]\n",
    ")\n",
    "\n",
    "# create model and print SBML\n",
    "doc = Document(model)\n",
    "print_xml(doc.get_sbml())\n",
    "\n",
    "# validate model\n",
    "validate_doc(doc.doc, options=ValidationOptions(units_consistency=False));"
   ],
   "outputs": []
  },
  {
   "cell_type": "markdown",
   "metadata": {},
   "source": [
    "### Basic uncertainty example\n",
    "Here, the species with an initial amount of `3.22` is described as having a `standard deviation` of `0.3`, a value that might\n",
    "be written as `3.22 +- 0.3`."
   ]
  },
  {
   "cell_type": "code",
   "execution_count": 8,
   "metadata": {},
   "source": [
    "import libsbml\n",
    "md: ModelDict = {\n",
    "    'sid': 'basic_example_1',\n",
    "    'packages': [Package.DISTRIB_V1],\n",
    "    'compartments': [\n",
    "        Compartment(\"C\", value=1.0)\n",
    "    ],\n",
    "    'species': [\n",
    "        Species(sid=\"s1\", compartment=\"C\", initialAmount=3.22, \n",
    "                uncertainties=[\n",
    "                  Uncertainty(uncertParameters=[\n",
    "                      UncertParameter(type=libsbml.DISTRIB_UNCERTTYPE_STANDARDDEVIATION, value=0.3)\n",
    "                  ])\n",
    "                ])\n",
    "    ],\n",
    "}\n",
    "\n",
    "# create model and print SBML\n",
    "doc = Document(Model(**md))\n",
    "print_xml(doc.get_sbml())\n",
    "\n",
    "# validate model\n",
    "validate_doc(doc.doc, options=ValidationOptions(units_consistency=False));"
   ],
   "outputs": []
  },
  {
   "cell_type": "markdown",
   "metadata": {},
   "source": [
    "It is also possible to include additional information about the species, should more be known. In this example, the initial amount of `3.22` is noted as having a mean of `3.2`, a standard deviation of `0.3`, and a variance\n",
    "of `0.09`."
   ]
  },
  {
   "cell_type": "code",
   "execution_count": 9,
   "metadata": {},
   "source": [
    "import libsbml\n",
    "md: ModelDict = {\n",
    "    'sid': 'basic_example_2',\n",
    "    'packages': [Package.DISTRIB_V1],\n",
    "    'compartments': [\n",
    "        Compartment(\"C\", value=1.0)\n",
    "    ],\n",
    "    'species': [\n",
    "        Species(sid=\"s1\", compartment=\"C\", initialAmount=3.22, \n",
    "                uncertainties=[\n",
    "                  Uncertainty(uncertParameters=[\n",
    "                      UncertParameter(type=libsbml.DISTRIB_UNCERTTYPE_MEAN, value=3.2),\n",
    "                      UncertParameter(type=libsbml.DISTRIB_UNCERTTYPE_STANDARDDEVIATION, value=0.3),\n",
    "                      UncertParameter(type=libsbml.DISTRIB_UNCERTTYPE_VARIANCE, value=0.09),\n",
    "                  ])\n",
    "                ])\n",
    "    ],\n",
    "}\n",
    "\n",
    "# create model and print SBML\n",
    "doc = Document(Model(**md))\n",
    "print_xml(doc.get_sbml())\n",
    "\n",
    "# validate model\n",
    "validate_doc(doc.doc, options=ValidationOptions(units_consistency=False));"
   ],
   "outputs": []
  },
  {
   "cell_type": "markdown",
   "metadata": {},
   "source": [
    "### Multiple uncertainties\n",
    "The following gives an example how to encode multiple uncertainties for a parameter.\n",
    "Here the two uncertainties \n",
    "`5.0 (mean) +- 0.3 (std) [2.0 - 8.0]` \n",
    "and \n",
    "`4.5 (mean) +- 1.1 (std) [1.0 - 10.0]` \n",
    "are set."
   ]
  },
  {
   "cell_type": "code",
   "execution_count": 10,
   "metadata": {},
   "source": [
    "import libsbml\n",
    "\n",
    "class U(Units):\n",
    "    hr = UnitDefinition(\"hr\")\n",
    "    m2 = UnitDefinition(\"m2\", \"meter^2\")\n",
    "    mM = UnitDefinition(\"mM\", \"mmole/liter\")\n",
    "\n",
    "md: ModelDict = {\n",
    "    'sid': 'multiple_uncertainties',\n",
    "    'packages': [Package.DISTRIB_V1],\n",
    "    'units': U,\n",
    "    'model_units': ModelUnits(time=U.hr, extent=U.mole, substance=U.mole,\n",
    "                              length=U.meter, area=U.m2, volume=U.liter),\n",
    "    \n",
    "    'parameters': [\n",
    "        Parameter(sid=\"p1\", value=5.0, unit=U.mM, \n",
    "                  uncertainties=[\n",
    "                      Uncertainty('p1_uncertainty_1', uncertParameters=[\n",
    "                          UncertParameter(type=libsbml.DISTRIB_UNCERTTYPE_MEAN, value=5.0, unit=U.mM),\n",
    "                          UncertParameter(type=libsbml.DISTRIB_UNCERTTYPE_STANDARDDEVIATION, value=0.3, unit=U.mM),\n",
    "                          UncertSpan(type=libsbml.DISTRIB_UNCERTTYPE_RANGE, valueLower=2.0, valueUpper=8.0, unit=U.mM),\n",
    "                      ]),\n",
    "                      Uncertainty('p1_uncertainty_2', uncertParameters=[\n",
    "                          UncertParameter(type=libsbml.DISTRIB_UNCERTTYPE_MEAN, value=4.5, unit=U.mM),\n",
    "                          UncertParameter(type=libsbml.DISTRIB_UNCERTTYPE_STANDARDDEVIATION, value=1.1, unit=U.mM),\n",
    "                          UncertSpan(type=libsbml.DISTRIB_UNCERTTYPE_RANGE, valueLower=1.0, valueUpper=10.0, unit=U.mM),\n",
    "                      ])\n",
    "                  ])\n",
    "    ],\n",
    "    'assignments': [\n",
    "        InitialAssignment('p1', 'normal(0 mM, 1 mM)'),\n",
    "    ]\n",
    "}\n",
    "\n",
    "# create model and print SBML\n",
    "doc = Document(Model(**md))\n",
    "print_xml(doc.get_sbml())\n",
    "\n",
    "# validate model\n",
    "validate_doc(doc.doc, options=ValidationOptions(units_consistency=False));"
   ],
   "outputs": []
  },
  {
   "cell_type": "markdown",
   "metadata": {},
   "source": [
    "### Defining a random variable\n",
    "In addition to describing the uncertainty about an experimental observation one can also use this mechanism\n",
    "to describe a parameter as a random variable."
   ]
  },
  {
   "cell_type": "code",
   "execution_count": 11,
   "metadata": {},
   "source": [
    "import libsbml\n",
    "md: ModelDict = {\n",
    "    'sid': 'random_variable',\n",
    "    'packages': [Package.DISTRIB_V1],\n",
    "    'parameters': [\n",
    "        Parameter(\"shape_Z\", value=10.0),\n",
    "        Parameter(\"scale_Z\", value=0.1),\n",
    "        Parameter(\"Z\", value=0.1,\n",
    "                  uncertainties=[\n",
    "                      Uncertainty(formula=\"gamma(shape_Z, scale_Z)\",\n",
    "                                  uncertParameters=[\n",
    "                                      UncertParameter(type=libsbml.DISTRIB_UNCERTTYPE_MEAN, value=1.03),\n",
    "                                      UncertParameter(type=libsbml.DISTRIB_UNCERTTYPE_VARIANCE, value=0.97),\n",
    "                                  ])\n",
    "                  ])\n",
    "    ]\n",
    "}\n",
    "\n",
    "# create model and print SBML\n",
    "doc = Document(Model(**md))\n",
    "print_xml(doc.get_sbml())\n",
    "\n",
    "# validate model\n",
    "validate_doc(doc.doc, options=ValidationOptions(units_consistency=False));"
   ],
   "outputs": []
  },
  {
   "cell_type": "markdown",
   "metadata": {},
   "source": [
    "### Overview over UncertParameters and UncertSpans\n",
    "The following example provides an overview over the available fields."
   ]
  },
  {
   "cell_type": "code",
   "execution_count": 12,
   "metadata": {},
   "source": [
    "import libsbml\n",
    "md: ModelDict = {\n",
    "    'sid': 'parameters_spans',\n",
    "    'packages': [Package.DISTRIB_V1],\n",
    "    'parameters': [\n",
    "        Parameter(\"p\",\n",
    "          uncertainties=[\n",
    "              Uncertainty(\n",
    "                  formula=\"normal(0, 1)\",  # distribution\n",
    "                  uncertParameters=[\n",
    "                      UncertParameter(type=libsbml.DISTRIB_UNCERTTYPE_COEFFIENTOFVARIATION, value=1.0),\n",
    "                      UncertParameter(type=libsbml.DISTRIB_UNCERTTYPE_KURTOSIS, value=2.0),\n",
    "                      UncertParameter(type=libsbml.DISTRIB_UNCERTTYPE_MEAN, value=3.0),\n",
    "                      UncertParameter(type=libsbml.DISTRIB_UNCERTTYPE_MEDIAN, value=4.0),\n",
    "                      UncertParameter(type=libsbml.DISTRIB_UNCERTTYPE_MODE, value=5.0),\n",
    "                      UncertParameter(type=libsbml.DISTRIB_UNCERTTYPE_SAMPLESIZE, value=6.0),\n",
    "                      UncertParameter(type=libsbml.DISTRIB_UNCERTTYPE_SKEWNESS, value=7.0),\n",
    "                      UncertParameter(type=libsbml.DISTRIB_UNCERTTYPE_STANDARDDEVIATION, value=8.0),\n",
    "                      UncertParameter(type=libsbml.DISTRIB_UNCERTTYPE_STANDARDERROR, value=9.0),\n",
    "                      UncertParameter(type=libsbml.DISTRIB_UNCERTTYPE_VARIANCE, value=10.0),\n",
    "                      UncertSpan(type=libsbml.DISTRIB_UNCERTTYPE_CONFIDENCEINTERVAL, valueLower=1.0, valueUpper=2.0),\n",
    "                      UncertSpan(type=libsbml.DISTRIB_UNCERTTYPE_CREDIBLEINTERVAL, valueLower=2.0, valueUpper=3.0),\n",
    "                      UncertSpan(type=libsbml.DISTRIB_UNCERTTYPE_INTERQUARTILERANGE, valueLower=3.0, valueUpper=4.0),\n",
    "                      UncertSpan(type=libsbml.DISTRIB_UNCERTTYPE_RANGE, valueLower=4.0, valueUpper=5.0),\n",
    "                  ])\n",
    "          ])\n",
    "    ]\n",
    "}\n",
    "\n",
    "# create model and print SBML\n",
    "doc = Document(Model(**md))\n",
    "print_xml(doc.get_sbml())\n",
    "\n",
    "# validate model\n",
    "validate_doc(doc.doc, options=ValidationOptions(units_consistency=False));"
   ],
   "outputs": []
  },
  {
   "cell_type": "markdown",
   "metadata": {},
   "source": [
    "### Information on experimental parameters (SABIO-RK)\n",
    "In the following example we store the experimental information which was used for setting the parameter in the model."
   ]
  },
  {
   "cell_type": "code",
   "execution_count": 13,
   "metadata": {},
   "source": [
    "import libsbml\n",
    "from sbmlutils.metadata import *\n",
    "\n",
    "class U(Units):\n",
    "    hr = UnitDefinition(\"hr\")\n",
    "    m2 = UnitDefinition(\"m2\", \"meter^2\")\n",
    "    mM = UnitDefinition(\"mM\", \"mmole/liter\")\n",
    "    \n",
    "\n",
    "md: ModelDict = {\n",
    "    'sid': 'sabiork_parameter',\n",
    "    'packages': [Package.DISTRIB_V1],\n",
    "    'units': U,\n",
    "    'model_units': ModelUnits(time=U.hr, extent=U.mole,\n",
    "                              substance=U.mole,\n",
    "                              length=U.meter, area=U.m2,\n",
    "                              volume=U.liter),\n",
    "    'parameters': [\n",
    "        Parameter(\n",
    "            sid=\"Km_glc\", name=\"Michelis-Menten constant glucose\",\n",
    "            value=5.0, unit=U.mM, sboTerm=SBO.MICHAELIS_CONSTANT,\n",
    "            uncertainties=[\n",
    "                Uncertainty(\n",
    "                  sid=\"uncertainty1\",\n",
    "                  uncertParameters=[\n",
    "                      UncertParameter(\n",
    "                          type=libsbml.DISTRIB_UNCERTTYPE_MEAN,\n",
    "                          value=5.07),\n",
    "                      UncertParameter(\n",
    "                          type=libsbml.DISTRIB_UNCERTTYPE_STANDARDDEVIATION,\n",
    "                          value=0.97),\n",
    "                  ], annotations=[\n",
    "                        (BQB.IS, \"sabiork.kineticrecord/793\"),  # entry in SABIO-RK\n",
    "                        (BQB.HAS_TAXON, \"taxonomy/9606\"),  # homo sapiens\n",
    "                        (BQB.IS, \"ec-code/2.7.1.2\"),  # glucokinase\n",
    "                        (BQB.IS, \"uniprot/P35557\"),  # Glucokinase homo sapiens\n",
    "                        (BQB.IS, \"bto/BTO:0000075\"),  # liver\n",
    "                    ]),\n",
    "                Uncertainty(\n",
    "                    sid=\"uncertainty2\",\n",
    "                    uncertParameters=[\n",
    "                        UncertParameter(\n",
    "                            type=libsbml.DISTRIB_UNCERTTYPE_MEAN,\n",
    "                            value=2.7),\n",
    "                        UncertParameter(\n",
    "                            type=libsbml.DISTRIB_UNCERTTYPE_STANDARDDEVIATION,\n",
    "                            value=0.11),\n",
    "                    ], annotations=[\n",
    "                        (BQB.IS, \"sabiork.kineticrecord/2581\"),\n",
    "                        # entry in SABIO-RK\n",
    "                        (BQB.HAS_TAXON, \"taxonomy/9606\"),  # homo sapiens\n",
    "                        (BQB.IS, \"ec-code/2.7.1.2\"),  # glucokinase\n",
    "                        (BQB.IS, \"uniprot/P35557\"),  # Glucokinase homo sapiens\n",
    "                        (BQB.IS, \"bto/BTO:0000075\"),  # liver\n",
    "                    ]),\n",
    "            ])\n",
    "    ]\n",
    "}\n",
    "\n",
    "# create model and print SBML\n",
    "doc = Document(Model(**md))\n",
    "print_xml(doc.get_sbml())\n",
    "\n",
    "# validate model\n",
    "validate_doc(doc.doc, options=ValidationOptions(units_consistency=False));"
   ],
   "outputs": []
  },
  {
   "cell_type": "code",
   "execution_count": null,
   "metadata": {},
   "source": [],
   "outputs": []
  }
 ],
 "metadata": {
  "kernelspec": {
   "display_name": "sbmlutils",
   "language": "python",
   "name": "sbmlutils"
  },
  "language_info": {
   "codemirror_mode": {
    "name": "ipython",
    "version": 3
   },
   "file_extension": ".py",
   "mimetype": "text/x-python",
   "name": "python",
   "nbconvert_exporter": "python",
   "pygments_lexer": "ipython3",
   "version": "3.9.16"
  }
 },
 "nbformat": 4,
 "nbformat_minor": 4
}
