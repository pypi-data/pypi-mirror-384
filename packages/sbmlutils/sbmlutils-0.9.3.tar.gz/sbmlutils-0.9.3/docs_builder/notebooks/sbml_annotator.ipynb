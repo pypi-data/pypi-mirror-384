{
 "cells": [
  {
   "cell_type": "markdown",
   "metadata": {},
   "source": [
    "# SBML annotation\n",
    "Annotation of model components with meta-information is an important step during model building. Annotation is the process of adding metadata to the model and model components. These metadata are mostly from biological ontologies or biological databases.\n",
    "\n",
    "`sbmlutils` provides functionality for annotating SBML models which can be used during model creation or later on to add annotations to SBML models. Annotations have the form of RDF triples consisting of the model component to annotate (subject), the relationship between model component and annotation term (predicate), and a term which describes the meaning of the component (object), which often comes from an ontology of defined terms.\n",
    "\n",
    "The predicates come from a clearly defined set of predicates, the MIRIAM qualifiers (https://co.mbine.org/standards/qualifiers).\n",
    "Ideally the objects, i.e. annotations, are defined in an ontology which is registered at https://identifiers.org (see https://registry.identifiers.org/registry for available resources).\n",
    "\n",
    "For more information of the importance of model annotations and best practises we refer to\n",
    "\n",
    "> Neal, M.L., König, M., Nickerson, D., Mısırlı, G., Kalbasi, R., Dräger, A., Atalag, K., Chelliah, V., Cooling, M.T., Cook, D.L. and Crook, S., 2019. Harmonizing semantic annotations for computational models in biology. Briefings in bioinformatics, 20(2), pp.540-550. [10.1093/bib/bby087](https://doi.org/10.1093/bib/bby087)\n",
    "\n",
    "> Le Novère, N., Finney, A., Hucka, M., Bhalla, U.S., Campagne, F., Collado-Vides, J., Crampin, E.J., Halstead, M., Klipp, E., Mendes, P. and Nielsen, P., 2005. Minimum information requested in the annotation of biochemical models (MIRIAM). Nature biotechnology, 23(12), pp.1509-1515. https://www.nature.com/articles/nbt1156\n",
    "\n",
    "Annotations in `sbmlutils` consist of associating `(predictate, object)` tuples to model components. For instance to describe that a `species` in the model is a certain entry from CHEBI, we associate `(BQB.IS, \"chebi/CHEBI:28061\")` with the species. In addition the special subset of annotations to the Systems Biology Ontology (SBO) can be directly set on all model components via the `sboTerm` attribute."
   ]
  },
  {
   "cell_type": "code",
   "execution_count": 1,
   "metadata": {},
   "source": [
    "%load_ext autoreload\n",
    "%autoreload 2"
   ],
   "outputs": []
  },
  {
   "cell_type": "markdown",
   "metadata": {},
   "source": [
    "### Annotate during model creation\n",
    "In the example the model is annotated during the model creation process. Annotations are encoded as simple tuples consisting of MIRIAM identifiers terms and identifiers.org parts. The list of tuples is provided on object creation. In the example we annotate a `species`"
   ]
  },
  {
   "cell_type": "code",
   "execution_count": 2,
   "metadata": {},
   "source": [
    "from sbmlutils.factory import *\n",
    "from sbmlutils.metadata import *\n",
    "from sbmlutils.validation import validate_doc\n",
    "\n",
    "model = Model(\n",
    "    'example_annotation',\n",
    "    compartments=[\n",
    "        Compartment(sid=\"C\", value=1.0, sboTerm=SBO.PHYSICAL_COMPARTMENT)\n",
    "    ],\n",
    "    species = [\n",
    "        Species(sid='gal', compartment='C', initialConcentration=3.0,\n",
    "                name='D-galactose', sboTerm=SBO.SIMPLE_CHEMICAL,\n",
    "                annotations=[\n",
    "                    (BQB.IS, \"bigg.metabolite/gal\"),  # galactose\n",
    "                    (BQB.IS, \"chebi/CHEBI:28061\"),  # alpha-D-galactose\n",
    "                    (BQB.IS, \"vmhmetabolite/gal\"),\n",
    "                ]\n",
    "        )\n",
    "    ]\n",
    ")\n",
    "\n",
    "# create model and print SBML\n",
    "doc = Document(model)\n",
    "print(doc.get_sbml())\n",
    "\n",
    "# validate model\n",
    "validate_doc(doc.create_sbml(), options=ValidationOptions(units_consistency=False));"
   ],
   "outputs": []
  },
  {
   "cell_type": "markdown",
   "metadata": {},
   "source": [
    "For a more complete example see [model_with_annotations.py](./model_with_annotations.py) which creates annotations of the form\n",
    "```\n",
    "    Species(sid='e__gal', compartment='ext', initialConcentration=3.0,\n",
    "                substanceUnit=UNIT_KIND_MOLE, boundaryCondition=True,\n",
    "                name='D-galactose', sboTerm=SBO_SIMPLE_CHEMICAL,\n",
    "                annotations=[\n",
    "                    (BQB.IS, \"bigg.metabolite/gal\"),  # galactose\n",
    "                    (BQB.IS, \"chebi/CHEBI:28061\"),  # alpha-D-galactose\n",
    "                    (BQB.IS, \"vmhmetabolite/gal\"),\n",
    "                ]\n",
    "            ),\n",
    "```"
   ]
  },
  {
   "cell_type": "code",
   "execution_count": 3,
   "metadata": {},
   "source": [
    "from notebook import BASE_DIR\n",
    "from sbmlutils.factory import *\n",
    "from sbmlutils.io import read_sbml\n",
    "from model_with_annotations import model\n",
    "\n",
    "results = create_model(\n",
    "    model,\n",
    "    filepath=BASE_DIR / 'models' / f\"{model.sid}.xml\"\n",
    ")\n",
    "\n",
    "# check the annotations on the species\n",
    "import libsbml\n",
    "doc: libsbml.SBMLDocument = read_sbml(results.sbml_path)\n",
    "model: libsbml.Model = doc.getModel()\n",
    "s1: libsbml.Species = model.getSpecies('e__gal')\n",
    "print(s1.toSBML())"
   ],
   "outputs": []
  },
  {
   "cell_type": "markdown",
   "metadata": {},
   "source": [
    "### Annotate existing model\n",
    "An alternative approach is to annotate existing models from external annotation files.\n",
    "For instance we can define the annotations in an external file which we then add to the model based on identifier matching.\n",
    "The following annotations are written to the [./annotations/demo.xml](./annotations/demo.xml) based on pattern matching.\n",
    "\n",
    "Annotations are written for the given `sbml_type` for all SBML identifiers which match the given pattern."
   ]
  },
  {
   "cell_type": "code",
   "execution_count": 4,
   "metadata": {},
   "source": [
    "from sbmlutils.metadata.annotator import ModelAnnotator\n",
    "df = ModelAnnotator.read_annotations_df(BASE_DIR / 'annotations' / 'demo_annotations.xlsx', file_format=\"xlsx\")\n",
    "df"
   ],
   "outputs": []
  },
  {
   "cell_type": "code",
   "execution_count": 5,
   "metadata": {},
   "source": [
    "from sbmlutils.metadata.annotator import annotate_sbml\n",
    "\n",
    "# create SBML report without performing units checks\n",
    "doc = annotate_sbml(\n",
    "    source=BASE_DIR / 'annotations' / 'demo.xml', \n",
    "    annotations_path=BASE_DIR / 'annotations' / 'demo_annotations.xlsx', \n",
    "    filepath=BASE_DIR / 'annotations' / 'demo_annotated.xml'\n",
    ")\n",
    "print(doc.getModel())"
   ],
   "outputs": []
  },
  {
   "cell_type": "code",
   "execution_count": null,
   "metadata": {},
   "source": [],
   "outputs": []
  }
 ],
 "metadata": {
  "kernelspec": {
   "display_name": "sbmlutils",
   "language": "python",
   "name": "sbmlutils"
  },
  "language_info": {
   "codemirror_mode": {
    "name": "ipython",
    "version": 3
   },
   "file_extension": ".py",
   "mimetype": "text/x-python",
   "name": "python",
   "nbconvert_exporter": "python",
   "pygments_lexer": "ipython3",
   "version": "3.9.16"
  }
 },
 "nbformat": 4,
 "nbformat_minor": 4
}
