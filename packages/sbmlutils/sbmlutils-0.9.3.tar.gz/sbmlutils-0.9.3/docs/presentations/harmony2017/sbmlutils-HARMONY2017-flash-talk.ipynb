{
 "cells": [
  {
   "cell_type": "code",
   "execution_count": 1,
   "metadata": {
    "scrolled": true,
    "slideshow": {
     "slide_type": "skip"
    }
   },
   "outputs": [
    {
     "data": {
      "text/html": [
       "<style>\n",
       "img {float:left}\n",
       "</style>"
      ],
      "text/plain": [
       "<IPython.core.display.HTML object>"
      ]
     },
     "metadata": {},
     "output_type": "display_data"
    }
   ],
   "source": [
    "%%html\n",
    "<style>\n",
    "img {float:left}\n",
    "</style>"
   ]
  },
  {
   "cell_type": "markdown",
   "metadata": {
    "slideshow": {
     "slide_type": "slide"
    }
   },
   "source": [
    "<img alt=\"sbmlutils logo\" src=\"./images/sbmlutils-logo-small.png\" style=\"height: 60px;\" />\n",
    "# sbmlutils: Python utilities for SBML"
   ]
  },
  {
   "cell_type": "markdown",
   "metadata": {
    "slideshow": {
     "slide_type": "-"
    }
   },
   "source": [
    "[![Build Status](https://travis-ci.org/matthiaskoenig/sbmlutils.svg?branch=develop)](https://travis-ci.org/matthiaskoenig/sbmlutils)[![Documentation Status](https://readthedocs.org/projects/sbmlutils/badge/?version=latest)](http://sbmlutils.readthedocs.io/en/latest/) [![codecov](https://codecov.io/gh/matthiaskoenig/sbmlutils/branch/develop/graph/badge.svg)](https://codecov.io/gh/matthiaskoenig/sbmlutils) [![License (LGPL version 3)](https://img.shields.io/badge/license-LGPLv3.0-blue.svg?style=flat-square)](http://opensource.org/licenses/LGPL-3.0) [![DOI](https://zenodo.org/badge/55952847.svg)](https://zenodo.org/badge/latestdoi/55952847)<br />\n",
    "\n",
    "`sbmlutils` is a collection of python utilities for working with [SBML](http://www.sbml.org) models \n",
    "implemented on top of the [libSBML](http://sbml.org/Software/libSBML) python bindings.\n",
    "\n",
    "Features among others\n",
    "\n",
    "* HTML reports of SBML models\n",
    "* helpers for model creation, manipulation, and annotation\n",
    "* interpolation functions to add experimental data to models\n",
    "* dynamic flux balance analysis (DFBA)\n",
    "* file converters (XPP)\n",
    "\n",
    "The project code is available from [https://github.com/matthiaskoenig/sbmlutils](https://github.com/matthiaskoenig/sbmlutils)  \n",
    "Slides available at http://bit.ly/sbmlutils-flash\n",
    "\n",
    "## Installation\n",
    "```\n",
    "pip install sbmlutils\n",
    "```"
   ]
  },
  {
   "cell_type": "markdown",
   "metadata": {
    "slideshow": {
     "slide_type": "slide"
    }
   },
   "source": [
    "## SBML report\n",
    "* create HTML reports of SBML files\n",
    "* easy navigation and filtering\n",
    "* `fbc` and `comp` support\n",
    "\n",
    "[./examples/glucose/Hepatic_glucose_3.html](./examples/glucose/Hepatic_glucose_3.html)"
   ]
  },
  {
   "cell_type": "code",
   "execution_count": 5,
   "metadata": {
    "scrolled": true
   },
   "outputs": [
    {
     "name": "stdout",
     "output_type": "stream",
     "text": [
      "--------------------------------------------------------------------------------\n",
      "./examples/glucose/Hepatic_glucose_3.xml\n",
      "valid                    : TRUE\n",
      "check time (ms)          : 0.405\n",
      "--------------------------------------------------------------------------------\n"
     ]
    }
   ],
   "source": [
    "from sbmlutils.report import sbmlreport\n",
    "sbmlreport.create_sbml_report('./examples/glucose/Hepatic_glucose_3.xml', \n",
    "                              out_dir='./examples/glucose', validate=True)"
   ]
  },
  {
   "cell_type": "markdown",
   "metadata": {
    "slideshow": {
     "slide_type": "slide"
    }
   },
   "source": [
    "## SBML model creator\n",
    "* helper functions for generation of SBML models\n",
    "* constructors with all fields \n",
    "* patterns (like generate `Parameters` for `AssignmentRules`)\n",
    "* `fbc` and `comp` helpers\n",
    "* unit support\n",
    "\n",
    "https://sbmlutils.readthedocs.io/en/latest/notebooks/modelcreator.html#Create-FBA-Model"
   ]
  },
  {
   "cell_type": "markdown",
   "metadata": {
    "slideshow": {
     "slide_type": "slide"
    }
   },
   "source": [
    "## Misc (small helpers)\n",
    "* Data to splines & piecewise functions\n",
    "* Model annotation based on flat files and regular expressions\n",
    "* converters (XPP -> SBML)"
   ]
  },
  {
   "cell_type": "markdown",
   "metadata": {},
   "source": [
    "<img alt=\"sbmlutils logo\" src=\"./images/interpolation_constant.png\"/>\n",
    "<img alt=\"sbmlutils logo\" src=\"./images/interpolation_linear.png\"/>\n",
    "<img alt=\"sbmlutils logo\" src=\"./images/interpolation_cubic.png\"/>"
   ]
  },
  {
   "cell_type": "markdown",
   "metadata": {
    "slideshow": {
     "slide_type": "slide"
    }
   },
   "source": [
    "## Dynamic Flux Balance Analysis (DFBA)\n",
    "* DFBA model creation & simulation \n",
    "### SBML encoding\n",
    "* implementation of DFBA based on SBML `core`, `comp` and `fbc`\n",
    "* Proposed encoding: http://bit.ly/dfba-guidelines\n",
    "* 2 implementations: sbmlutils & iBioSim\n",
    "* Discussed/presented: **Thursday, 11.00**"
   ]
  },
  {
   "cell_type": "code",
   "execution_count": 6,
   "metadata": {
    "scrolled": true,
    "slideshow": {
     "slide_type": "slide"
    }
   },
   "outputs": [
    {
     "name": "stdout",
     "output_type": "stream",
     "text": [
      "Create directory: /tmp/tmpfrau2r0z/v12\n",
      "--------------------------------------------------------------------------------\n",
      "/tmp/tmpfrau2r0z/v12/toy_wholecell_fba.xml\n",
      "valid                    : TRUE\n",
      "check time (ms)          : 0.011\n",
      "--------------------------------------------------------------------------------\n",
      "--------------------------------------------------------------------------------\n",
      "/tmp/tmpfrau2r0z/v12/toy_wholecell_bounds.xml\n",
      "valid                    : TRUE\n",
      "check time (ms)          : 0.012\n",
      "--------------------------------------------------------------------------------\n",
      "--------------------------------------------------------------------------------\n",
      "/tmp/tmpfrau2r0z/v12/toy_wholecell_update.xml\n",
      "valid                    : TRUE\n",
      "check time (ms)          : 0.008\n",
      "--------------------------------------------------------------------------------\n",
      "--------------------------------------------------------------------------------\n",
      "/tmp/tmpfrau2r0z/v12/toy_wholecell_top.xml\n",
      "valid                    : TRUE\n",
      "check time (ms)          : 0.189\n",
      "--------------------------------------------------------------------------------\n",
      "Flattened model written to /tmp/tmpfrau2r0z/v12/toy_wholecell_flattened.xml\n",
      "/tmp/tmpfrau2r0z/v12/toy_wholecell_fba.xml\n",
      "/tmp/tmpfrau2r0z/v12/toy_wholecell_bounds.xml\n",
      "/tmp/tmpfrau2r0z/v12/toy_wholecell_update.xml\n",
      "/tmp/tmpfrau2r0z/v12/toy_wholecell_top.xml\n",
      "/tmp/tmpfrau2r0z/v12/toy_wholecell_flattened.xml\n",
      "/tmp/tmpfrau2r0z/v12/toy_wholecell_top.xml\n"
     ]
    }
   ],
   "source": [
    "from __future__ import absolute_import, print_function\n",
    "import os\n",
    "import tempfile\n",
    "\n",
    "import sbmlutils\n",
    "from sbmlutils import dfba\n",
    "from sbmlutils.dfba import utils\n",
    "\n",
    "from sbmlutils.dfba.toy_wholecell import settings as toysettings\n",
    "from sbmlutils.dfba.toy_wholecell import model_factory as toyfactory\n",
    "from sbmlutils.dfba.toy_wholecell import simulate as toysimulate\n",
    "\n",
    "test_dir = tempfile.mkdtemp()\n",
    "\n",
    "# create toy model\n",
    "toyfactory.create_model(test_dir)\n",
    "sbml_path = os.path.join(utils.versioned_directory(test_dir, toyfactory.version),\n",
    "                         toysettings.top_file)\n",
    "print(sbml_path)"
   ]
  },
  {
   "cell_type": "code",
   "execution_count": 7,
   "metadata": {
    "scrolled": true,
    "slideshow": {
     "slide_type": "slide"
    }
   },
   "outputs": [
    {
     "name": "stdout",
     "output_type": "stream",
     "text": [
      "\n",
      "Simulation time     : 0.210 [s]\n",
      "Total time          : 0.295 [s]\n",
      "Overhead time       : 0.086 [s] (29.0 %)\n",
      "\n",
      "* DFBA Solution is UNIQUE *\n"
     ]
    },
    {
     "data": {
      "text/html": [
       "<div>\n",
       "<style>\n",
       "    .dataframe thead tr:only-child th {\n",
       "        text-align: right;\n",
       "    }\n",
       "\n",
       "    .dataframe thead th {\n",
       "        text-align: left;\n",
       "    }\n",
       "\n",
       "    .dataframe tbody tr th {\n",
       "        vertical-align: top;\n",
       "    }\n",
       "</style>\n",
       "<table border=\"1\" class=\"dataframe\">\n",
       "  <thead>\n",
       "    <tr style=\"text-align: right;\">\n",
       "      <th></th>\n",
       "      <th>time</th>\n",
       "      <th>[A]</th>\n",
       "      <th>[C]</th>\n",
       "      <th>[D]</th>\n",
       "      <th>[dummy_S]</th>\n",
       "      <th>[fba__A]</th>\n",
       "      <th>[fba__B1]</th>\n",
       "      <th>[fba__B2]</th>\n",
       "      <th>[fba__C]</th>\n",
       "      <th>EX_A</th>\n",
       "      <th>...</th>\n",
       "      <th>fba__ub_default</th>\n",
       "      <th>fba__zero</th>\n",
       "      <th>k_R4</th>\n",
       "      <th>lb_EX_A</th>\n",
       "      <th>lb_EX_C</th>\n",
       "      <th>pEX_A</th>\n",
       "      <th>pEX_C</th>\n",
       "      <th>ub_EX_A</th>\n",
       "      <th>ub_EX_C</th>\n",
       "      <th>ub_R1</th>\n",
       "    </tr>\n",
       "  </thead>\n",
       "  <tbody>\n",
       "    <tr>\n",
       "      <th>0.0</th>\n",
       "      <td>0.0</td>\n",
       "      <td>10.000000</td>\n",
       "      <td>0.000000</td>\n",
       "      <td>0.000000</td>\n",
       "      <td>0.0</td>\n",
       "      <td>0.0</td>\n",
       "      <td>0.0</td>\n",
       "      <td>0.0</td>\n",
       "      <td>0.0</td>\n",
       "      <td>-1.000000</td>\n",
       "      <td>...</td>\n",
       "      <td>1000.0</td>\n",
       "      <td>0.0</td>\n",
       "      <td>0.1</td>\n",
       "      <td>-100.000000</td>\n",
       "      <td>0.000000</td>\n",
       "      <td>-1.000000</td>\n",
       "      <td>1.000000</td>\n",
       "      <td>1000.0</td>\n",
       "      <td>1000.0</td>\n",
       "      <td>1.000000</td>\n",
       "    </tr>\n",
       "    <tr>\n",
       "      <th>1.0</th>\n",
       "      <td>1.0</td>\n",
       "      <td>9.000000</td>\n",
       "      <td>0.951626</td>\n",
       "      <td>0.048374</td>\n",
       "      <td>0.0</td>\n",
       "      <td>0.0</td>\n",
       "      <td>0.0</td>\n",
       "      <td>0.0</td>\n",
       "      <td>0.0</td>\n",
       "      <td>-0.818731</td>\n",
       "      <td>...</td>\n",
       "      <td>1000.0</td>\n",
       "      <td>0.0</td>\n",
       "      <td>0.1</td>\n",
       "      <td>-90.000000</td>\n",
       "      <td>-9.516258</td>\n",
       "      <td>-0.818731</td>\n",
       "      <td>0.818731</td>\n",
       "      <td>1000.0</td>\n",
       "      <td>1000.0</td>\n",
       "      <td>0.818731</td>\n",
       "    </tr>\n",
       "    <tr>\n",
       "      <th>2.0</th>\n",
       "      <td>2.0</td>\n",
       "      <td>8.181269</td>\n",
       "      <td>1.640192</td>\n",
       "      <td>0.178539</td>\n",
       "      <td>0.0</td>\n",
       "      <td>0.0</td>\n",
       "      <td>0.0</td>\n",
       "      <td>0.0</td>\n",
       "      <td>0.0</td>\n",
       "      <td>-0.670320</td>\n",
       "      <td>...</td>\n",
       "      <td>1000.0</td>\n",
       "      <td>0.0</td>\n",
       "      <td>0.1</td>\n",
       "      <td>-81.812693</td>\n",
       "      <td>-16.401919</td>\n",
       "      <td>-0.670320</td>\n",
       "      <td>0.670320</td>\n",
       "      <td>1000.0</td>\n",
       "      <td>1000.0</td>\n",
       "      <td>0.670320</td>\n",
       "    </tr>\n",
       "    <tr>\n",
       "      <th>3.0</th>\n",
       "      <td>3.0</td>\n",
       "      <td>7.510949</td>\n",
       "      <td>2.122001</td>\n",
       "      <td>0.367049</td>\n",
       "      <td>0.0</td>\n",
       "      <td>0.0</td>\n",
       "      <td>0.0</td>\n",
       "      <td>0.0</td>\n",
       "      <td>0.0</td>\n",
       "      <td>-0.548811</td>\n",
       "      <td>...</td>\n",
       "      <td>1000.0</td>\n",
       "      <td>0.0</td>\n",
       "      <td>0.1</td>\n",
       "      <td>-75.109491</td>\n",
       "      <td>-21.220014</td>\n",
       "      <td>-0.548811</td>\n",
       "      <td>0.548811</td>\n",
       "      <td>1000.0</td>\n",
       "      <td>1000.0</td>\n",
       "      <td>0.548811</td>\n",
       "    </tr>\n",
       "    <tr>\n",
       "      <th>4.0</th>\n",
       "      <td>4.0</td>\n",
       "      <td>6.962138</td>\n",
       "      <td>2.442333</td>\n",
       "      <td>0.595529</td>\n",
       "      <td>0.0</td>\n",
       "      <td>0.0</td>\n",
       "      <td>0.0</td>\n",
       "      <td>0.0</td>\n",
       "      <td>0.0</td>\n",
       "      <td>-0.449323</td>\n",
       "      <td>...</td>\n",
       "      <td>1000.0</td>\n",
       "      <td>0.0</td>\n",
       "      <td>0.1</td>\n",
       "      <td>-69.621378</td>\n",
       "      <td>-24.423330</td>\n",
       "      <td>-0.449323</td>\n",
       "      <td>0.449323</td>\n",
       "      <td>1000.0</td>\n",
       "      <td>1000.0</td>\n",
       "      <td>0.449323</td>\n",
       "    </tr>\n",
       "    <tr>\n",
       "      <th>5.0</th>\n",
       "      <td>5.0</td>\n",
       "      <td>6.512814</td>\n",
       "      <td>2.637502</td>\n",
       "      <td>0.849683</td>\n",
       "      <td>0.0</td>\n",
       "      <td>0.0</td>\n",
       "      <td>0.0</td>\n",
       "      <td>0.0</td>\n",
       "      <td>0.0</td>\n",
       "      <td>-0.367873</td>\n",
       "      <td>...</td>\n",
       "      <td>1000.0</td>\n",
       "      <td>0.0</td>\n",
       "      <td>0.1</td>\n",
       "      <td>-65.128144</td>\n",
       "      <td>-26.375023</td>\n",
       "      <td>-0.367873</td>\n",
       "      <td>0.367873</td>\n",
       "      <td>1000.0</td>\n",
       "      <td>1000.0</td>\n",
       "      <td>0.367873</td>\n",
       "    </tr>\n",
       "    <tr>\n",
       "      <th>6.0</th>\n",
       "      <td>6.0</td>\n",
       "      <td>6.144941</td>\n",
       "      <td>2.736589</td>\n",
       "      <td>1.118470</td>\n",
       "      <td>0.0</td>\n",
       "      <td>0.0</td>\n",
       "      <td>0.0</td>\n",
       "      <td>0.0</td>\n",
       "      <td>0.0</td>\n",
       "      <td>-0.301187</td>\n",
       "      <td>...</td>\n",
       "      <td>1000.0</td>\n",
       "      <td>0.0</td>\n",
       "      <td>0.1</td>\n",
       "      <td>-61.449411</td>\n",
       "      <td>-27.365889</td>\n",
       "      <td>-0.301187</td>\n",
       "      <td>0.301187</td>\n",
       "      <td>1000.0</td>\n",
       "      <td>1000.0</td>\n",
       "      <td>0.301187</td>\n",
       "    </tr>\n",
       "    <tr>\n",
       "      <th>7.0</th>\n",
       "      <td>7.0</td>\n",
       "      <td>5.843754</td>\n",
       "      <td>2.762785</td>\n",
       "      <td>1.393460</td>\n",
       "      <td>0.0</td>\n",
       "      <td>0.0</td>\n",
       "      <td>0.0</td>\n",
       "      <td>0.0</td>\n",
       "      <td>0.0</td>\n",
       "      <td>-0.246589</td>\n",
       "      <td>...</td>\n",
       "      <td>1000.0</td>\n",
       "      <td>0.0</td>\n",
       "      <td>0.1</td>\n",
       "      <td>-58.437541</td>\n",
       "      <td>-27.627855</td>\n",
       "      <td>-0.246589</td>\n",
       "      <td>0.246589</td>\n",
       "      <td>1000.0</td>\n",
       "      <td>1000.0</td>\n",
       "      <td>0.246589</td>\n",
       "    </tr>\n",
       "    <tr>\n",
       "      <th>8.0</th>\n",
       "      <td>8.0</td>\n",
       "      <td>5.597165</td>\n",
       "      <td>2.734532</td>\n",
       "      <td>1.668303</td>\n",
       "      <td>0.0</td>\n",
       "      <td>0.0</td>\n",
       "      <td>0.0</td>\n",
       "      <td>0.0</td>\n",
       "      <td>0.0</td>\n",
       "      <td>-0.201888</td>\n",
       "      <td>...</td>\n",
       "      <td>1000.0</td>\n",
       "      <td>0.0</td>\n",
       "      <td>0.1</td>\n",
       "      <td>-55.971651</td>\n",
       "      <td>-27.345320</td>\n",
       "      <td>-0.201888</td>\n",
       "      <td>0.201888</td>\n",
       "      <td>1000.0</td>\n",
       "      <td>1000.0</td>\n",
       "      <td>0.201888</td>\n",
       "    </tr>\n",
       "    <tr>\n",
       "      <th>9.0</th>\n",
       "      <td>9.0</td>\n",
       "      <td>5.395277</td>\n",
       "      <td>2.666429</td>\n",
       "      <td>1.938295</td>\n",
       "      <td>0.0</td>\n",
       "      <td>0.0</td>\n",
       "      <td>0.0</td>\n",
       "      <td>0.0</td>\n",
       "      <td>0.0</td>\n",
       "      <td>-0.165291</td>\n",
       "      <td>...</td>\n",
       "      <td>1000.0</td>\n",
       "      <td>0.0</td>\n",
       "      <td>0.1</td>\n",
       "      <td>-53.952767</td>\n",
       "      <td>-26.664287</td>\n",
       "      <td>-0.165291</td>\n",
       "      <td>0.165291</td>\n",
       "      <td>1000.0</td>\n",
       "      <td>1000.0</td>\n",
       "      <td>0.165291</td>\n",
       "    </tr>\n",
       "  </tbody>\n",
       "</table>\n",
       "<p>10 rows × 30 columns</p>\n",
       "</div>"
      ],
      "text/plain": [
       "     time        [A]       [C]       [D]  [dummy_S]  [fba__A]  [fba__B1]  \\\n",
       "0.0   0.0  10.000000  0.000000  0.000000        0.0       0.0        0.0   \n",
       "1.0   1.0   9.000000  0.951626  0.048374        0.0       0.0        0.0   \n",
       "2.0   2.0   8.181269  1.640192  0.178539        0.0       0.0        0.0   \n",
       "3.0   3.0   7.510949  2.122001  0.367049        0.0       0.0        0.0   \n",
       "4.0   4.0   6.962138  2.442333  0.595529        0.0       0.0        0.0   \n",
       "5.0   5.0   6.512814  2.637502  0.849683        0.0       0.0        0.0   \n",
       "6.0   6.0   6.144941  2.736589  1.118470        0.0       0.0        0.0   \n",
       "7.0   7.0   5.843754  2.762785  1.393460        0.0       0.0        0.0   \n",
       "8.0   8.0   5.597165  2.734532  1.668303        0.0       0.0        0.0   \n",
       "9.0   9.0   5.395277  2.666429  1.938295        0.0       0.0        0.0   \n",
       "\n",
       "     [fba__B2]  [fba__C]      EX_A    ...     fba__ub_default  fba__zero  \\\n",
       "0.0        0.0       0.0 -1.000000    ...              1000.0        0.0   \n",
       "1.0        0.0       0.0 -0.818731    ...              1000.0        0.0   \n",
       "2.0        0.0       0.0 -0.670320    ...              1000.0        0.0   \n",
       "3.0        0.0       0.0 -0.548811    ...              1000.0        0.0   \n",
       "4.0        0.0       0.0 -0.449323    ...              1000.0        0.0   \n",
       "5.0        0.0       0.0 -0.367873    ...              1000.0        0.0   \n",
       "6.0        0.0       0.0 -0.301187    ...              1000.0        0.0   \n",
       "7.0        0.0       0.0 -0.246589    ...              1000.0        0.0   \n",
       "8.0        0.0       0.0 -0.201888    ...              1000.0        0.0   \n",
       "9.0        0.0       0.0 -0.165291    ...              1000.0        0.0   \n",
       "\n",
       "     k_R4     lb_EX_A    lb_EX_C     pEX_A     pEX_C  ub_EX_A  ub_EX_C  \\\n",
       "0.0   0.1 -100.000000   0.000000 -1.000000  1.000000   1000.0   1000.0   \n",
       "1.0   0.1  -90.000000  -9.516258 -0.818731  0.818731   1000.0   1000.0   \n",
       "2.0   0.1  -81.812693 -16.401919 -0.670320  0.670320   1000.0   1000.0   \n",
       "3.0   0.1  -75.109491 -21.220014 -0.548811  0.548811   1000.0   1000.0   \n",
       "4.0   0.1  -69.621378 -24.423330 -0.449323  0.449323   1000.0   1000.0   \n",
       "5.0   0.1  -65.128144 -26.375023 -0.367873  0.367873   1000.0   1000.0   \n",
       "6.0   0.1  -61.449411 -27.365889 -0.301187  0.301187   1000.0   1000.0   \n",
       "7.0   0.1  -58.437541 -27.627855 -0.246589  0.246589   1000.0   1000.0   \n",
       "8.0   0.1  -55.971651 -27.345320 -0.201888  0.201888   1000.0   1000.0   \n",
       "9.0   0.1  -53.952767 -26.664287 -0.165291  0.165291   1000.0   1000.0   \n",
       "\n",
       "        ub_R1  \n",
       "0.0  1.000000  \n",
       "1.0  0.818731  \n",
       "2.0  0.670320  \n",
       "3.0  0.548811  \n",
       "4.0  0.449323  \n",
       "5.0  0.367873  \n",
       "6.0  0.301187  \n",
       "7.0  0.246589  \n",
       "8.0  0.201888  \n",
       "9.0  0.165291  \n",
       "\n",
       "[10 rows x 30 columns]"
      ]
     },
     "metadata": {},
     "output_type": "display_data"
    },
    {
     "data": {
      "image/png": "[encoded data removed]",
      "text/plain": [
       "<matplotlib.figure.Figure at 0x7f4161869f60>"
      ]
     },
     "metadata": {},
     "output_type": "display_data"
    },
    {
     "data": {
      "image/png": "[encoded data removed]",
      "text/plain": [
       "<matplotlib.figure.Figure at 0x7f413c158748>"
      ]
     },
     "metadata": {},
     "output_type": "display_data"
    }
   ],
   "source": [
    "from IPython.display import display, HTML\n",
    "# simulate\n",
    "dfs = toysimulate.simulate_toy(sbml_path, test_dir, dts=[1.0], figures=False)\n",
    "display(dfs[0].head(10))\n",
    "toysimulate.print_species(dfs=dfs)\n",
    "toysimulate.print_fluxes(dfs=dfs)"
   ]
  }
 ],
 "metadata": {
  "celltoolbar": "Slideshow",
  "kernelspec": {
   "display_name": "sbmlutils",
   "language": "python",
   "name": "sbmlutils"
  },
  "language_info": {
   "codemirror_mode": {
    "name": "ipython",
    "version": 3
   },
   "file_extension": ".py",
   "mimetype": "text/x-python",
   "name": "python",
   "nbconvert_exporter": "python",
   "pygments_lexer": "ipython3",
   "version": "3.6.1+"
  }
 },
 "nbformat": 4,
 "nbformat_minor": 2
}
