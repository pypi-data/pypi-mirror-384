{
 "cells": [
  {
   "cell_type": "markdown",
   "metadata": {
    "id": "4FYJAV3ElZ5h"
   },
   "source": [
    "#Biodenoising - Animal vocalization denoising\n",
    "This is a demo for animal vocalization denoising without access to clean data.\n",
    "For the more info check the [associated page](https://mariusmiron.com/research/biodenoising/) and the code repository on [github](https://github.com/earthspecies/biodenoising).\n",
    "\n",
    "First, let's install the package from pip:"
   ]
  },
  {
   "cell_type": "code",
   "execution_count": null,
   "metadata": {
    "colab": {
     "base_uri": "https://localhost:8080/"
    },
    "id": "pl7pGTRidM1Q",
    "outputId": "cb0bdaef-c7fc-4aa1-9b61-cb566bf51b51"
   },
   "outputs": [],
   "source": [
    "!pip install biodenoising"
   ]
  },
  {
   "cell_type": "markdown",
   "metadata": {
    "id": "yzZIcD2PmJxB"
   },
   "source": [
    "We import the libraries:"
   ]
  },
  {
   "cell_type": "code",
   "execution_count": null,
   "metadata": {
    "id": "cypBqtncgE9Q"
   },
   "outputs": [],
   "source": [
    "from IPython import display as disp\n",
    "import os\n",
    "import torch\n",
    "import torchaudio\n",
    "from biodenoising import pretrained\n",
    "from biodenoising.denoiser.dsp import convert_audio"
   ]
  },
  {
   "cell_type": "markdown",
   "metadata": {
    "id": "mMfAk2Z2mRp3"
   },
   "source": [
    "We download some noisy animal vocalizations from the biodenoising_validation dataset. Note that these files, species, noise conditions were not seen during training, to test for generalization."
   ]
  },
  {
   "cell_type": "code",
   "execution_count": null,
   "metadata": {
    "colab": {
     "base_uri": "https://localhost:8080/"
    },
    "id": "NIWalUP7g96a",
    "outputId": "49cf9cec-9955-4f73-cec4-591b83afcca7"
   },
   "outputs": [],
   "source": [
    "!wget https://storage.googleapis.com/esp-public-files/biodenoising/demo/benchmark/12_terrestrial_original.wav\n",
    "!wget https://storage.googleapis.com/esp-public-files/biodenoising/demo/benchmark/14_terrestrial_original.wav\n",
    "!wget https://storage.googleapis.com/esp-public-files/biodenoising/demo/benchmark/36_underwater_original.wav\n",
    "!wget https://storage.googleapis.com/esp-public-files/biodenoising/demo/benchmark/30_terrestrial_original.wav\n",
    "!wget https://storage.googleapis.com/esp-public-files/biodenoising/demo/benchmark/34_terrestrial_original.wav\n",
    "!wget https://storage.googleapis.com/esp-public-files/biodenoising/demo/benchmark/3_terrestrial_original.wav\n",
    "!wget https://storage.googleapis.com/esp-public-files/biodenoising/demo/benchmark/21_terrestrial_original.wav\n",
    "!wget https://storage.googleapis.com/esp-public-files/biodenoising/demo/benchmark/52_underwater_original.wav\n",
    "!wget https://storage.googleapis.com/esp-public-files/biodenoising/demo/benchmark/24_underwater_original.wav"
   ]
  },
  {
   "cell_type": "markdown",
   "metadata": {
    "id": "ayCjnCxFmeJH"
   },
   "source": [
    "We set the device, gpu or cpu. You can use a computing instance with a GPU for faster processing."
   ]
  },
  {
   "cell_type": "code",
   "execution_count": null,
   "metadata": {
    "id": "snrSxC8Uh4lt"
   },
   "outputs": [],
   "source": [
    "if torch.cuda.is_available():\n",
    "    device = torch.device('cuda')\n",
    "else:\n",
    "    device = torch.device('cpu')"
   ]
  },
  {
   "cell_type": "markdown",
   "metadata": {
    "id": "czIUjWoRmjh-"
   },
   "source": [
    "Let's load the 16kHz model. If it's the first time you run this, it will download the model locally."
   ]
  },
  {
   "cell_type": "code",
   "execution_count": null,
   "metadata": {
    "colab": {
     "base_uri": "https://localhost:8080/"
    },
    "id": "Kpuap38kgnxY",
    "outputId": "e8c0652c-bcf7-4dea-921d-10430aa0993f"
   },
   "outputs": [],
   "source": [
    "model = pretrained.biodenoising16k_dns48().to(device)"
   ]
  },
  {
   "cell_type": "markdown",
   "metadata": {
    "id": "c8tHqnWtm2v9"
   },
   "source": [
    "We use the model above to denoise the first demo sound."
   ]
  },
  {
   "cell_type": "code",
   "execution_count": null,
   "metadata": {
    "colab": {
     "base_uri": "https://localhost:8080/",
     "height": 134
    },
    "id": "XexsuKUEg2W4",
    "outputId": "d06ac4ed-f819-4df2-f607-157c9c637c25"
   },
   "outputs": [],
   "source": [
    "wav, sr = torchaudio.load(os.path.join('12_terrestrial_original.wav'))\n",
    "wav = convert_audio(wav, sr, model.sample_rate, model.chin).to(device)\n",
    "with torch.no_grad():\n",
    "    denoised = model(wav[None])[0]\n",
    "disp.display(disp.Audio(wav.data.cpu().numpy(), rate=model.sample_rate))\n",
    "disp.display(disp.Audio(denoised.data.cpu().numpy(), rate=model.sample_rate))"
   ]
  },
  {
   "cell_type": "markdown",
   "metadata": {
    "id": "A6Ub0om2nNlc"
   },
   "source": [
    "We now process the remaining files."
   ]
  },
  {
   "cell_type": "code",
   "execution_count": null,
   "metadata": {
    "colab": {
     "background_save": true,
     "base_uri": "https://localhost:8080/",
     "height": 964
    },
    "id": "yCMxF2oSjbBH",
    "outputId": "e8095075-88cc-4157-b3c4-8aabacf668f0"
   },
   "outputs": [],
   "source": [
    "file_list = ['36_underwater_original.wav','14_terrestrial_original.wav','3_terrestrial_original.wav','21_terrestrial_original.wav','24_underwater_original.wav','30_terrestrial_original.wav','34_terrestrial_original.wav']\n",
    "for f in file_list:\n",
    "  wav, sr = torchaudio.load(os.path.join(f))\n",
    "  wav = convert_audio(wav, sr, model.sample_rate, model.chin).to(device)\n",
    "  with torch.no_grad():\n",
    "      denoised = model(wav[None])[0]\n",
    "  print(f)\n",
    "  disp.display(disp.Audio(wav.data.cpu().numpy(), rate=model.sample_rate))\n",
    "  disp.display(disp.Audio(denoised.data.cpu().numpy(), rate=model.sample_rate))"
   ]
  },
  {
   "cell_type": "markdown",
   "metadata": {
    "id": "xKY-Tnh9nZib"
   },
   "source": [
    "You can download the whole benchmarking dataset from zenodo and process it (subfolder 16000/noisy). You can also check the clean vocalizations and the added noise."
   ]
  },
  {
   "cell_type": "code",
   "execution_count": null,
   "metadata": {
    "colab": {
     "base_uri": "https://localhost:8080/"
    },
    "id": "z_i6k-iGfsih",
    "outputId": "a6739888-addf-4be7-e1bf-c4a73838c2c9"
   },
   "outputs": [],
   "source": [
    "!wget https://zenodo.org/records/13736465/files/biodenoising_validation_1.0.zip\n",
    "!unzip biodenoising_validation_1.0.zip"
   ]
  }
 ],
 "metadata": {
  "accelerator": "GPU",
  "colab": {
   "gpuType": "T4",
   "provenance": []
  },
  "kernelspec": {
   "display_name": "Python 3",
   "name": "python3"
  },
  "language_info": {
   "name": "python"
  }
 },
 "nbformat": 4,
 "nbformat_minor": 0
}
