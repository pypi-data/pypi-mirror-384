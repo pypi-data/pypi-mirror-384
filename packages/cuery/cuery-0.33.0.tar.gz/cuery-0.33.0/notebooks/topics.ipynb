{
 "cells": [
  {
   "cell_type": "code",
   "execution_count": null,
   "id": "43189691",
   "metadata": {},
   "outputs": [],
   "source": [
    "import importlib\n",
    "from pathlib import Path\n",
    "\n",
    "import pandas as pd\n",
    "from IPython.display import Markdown\n",
    "\n",
    "from cuery import pprint\n",
    "from cuery.cli import set_env_vars\n",
    "from cuery.tools import topics\n",
    "\n",
    "GDRIVE = Path(\"~/thomas@graphext.com - Google Drive/Shared drives/Solutions\").expanduser()"
   ]
  },
  {
   "cell_type": "code",
   "execution_count": null,
   "id": "15fbd0ba",
   "metadata": {},
   "outputs": [],
   "source": [
    "set_env_vars(apify_secrets=False)"
   ]
  },
  {
   "cell_type": "markdown",
   "id": "b579cfca",
   "metadata": {},
   "source": [
    "# Electric vehicles"
   ]
  },
  {
   "cell_type": "code",
   "execution_count": null,
   "id": "8ec8ce67",
   "metadata": {},
   "outputs": [],
   "source": [
    "DATA_DIR = GDRIVE / \"Research/tractor_v2/SEO\"\n",
    "\n",
    "veh = pd.read_csv(DATA_DIR / \"electric_vehicles_twitter.csv\")\n",
    "veh"
   ]
  },
  {
   "cell_type": "markdown",
   "id": "daba4ff6",
   "metadata": {},
   "source": [
    "# Manual taxonomy"
   ]
  },
  {
   "cell_type": "code",
   "execution_count": null,
   "id": "89630142",
   "metadata": {},
   "outputs": [],
   "source": [
    "taxonomy_dict = {\n",
    "    \"Vehicle types and technology\": [\n",
    "        \"Electric vehicles\",\n",
    "        \"Hybrid vehicles\",\n",
    "        \"Hydrogen vehicles\",\n",
    "        \"Battery technology\",\n",
    "        \"Charging infrastructure\",\n",
    "    ],\n",
    "    \"Manufacturing and Industry\": [\n",
    "        \"Automobile manufacturing\",\n",
    "        \"Battery production\",\n",
    "        \"Manufacturing locations\",\n",
    "        \"Industry challenges\",\n",
    "        \"Corporate strategies\",\n",
    "    ],\n",
    "    \"Market and Economics\": [\n",
    "        \"Sales trends\",\n",
    "        \"Market competition\",\n",
    "        \"Pricing and subsidies\",\n",
    "        \"Trade and tariffs\",\n",
    "        \"Investment and finance\",\n",
    "    ],\n",
    "    \"Environmental impact and sustainability\": [\n",
    "        \"Carbon emissions\",\n",
    "        \"Resource extraction\",\n",
    "        \"Battery recycling\",\n",
    "        \"Renewable energy\",\n",
    "        \"Pollution and health effects\",\n",
    "    ],\n",
    "    \"Government and policy\": [\n",
    "        \"Regulations and incentives\",\n",
    "        \"Subsidies and credits\",\n",
    "        \"Trade policy and disputes\",\n",
    "        \"Environmental policy\",\n",
    "        \"Transportation infrastructure\",\n",
    "    ],\n",
    "    \"Consumer experience and usage\": [\n",
    "        \"Vehicle performance\",\n",
    "        \"Range and charging\",\n",
    "        \"Maintenance and reliability\",\n",
    "        \"Safety and incidents\",\n",
    "        \"User opinions\",\n",
    "    ],\n",
    "    \"Logistics and fleet management\": [\n",
    "        \"Cargo and delivery vehicles\",\n",
    "        \"Fleet electrification\",\n",
    "        \"Public transportation\",\n",
    "        \"Shared mobility\",\n",
    "        \"Vehicle telematics\",\n",
    "    ],\n",
    "}\n",
    "\n",
    "taxonomy = topics.Topics(topics=taxonomy_dict)\n",
    "taxonomy"
   ]
  },
  {
   "cell_type": "code",
   "execution_count": null,
   "id": "8ea25a40",
   "metadata": {},
   "outputs": [],
   "source": [
    "assigner = topics.TopicAssigner(topics=taxonomy, texts=veh.text[:20])\n",
    "tt = await assigner(n_concurrent=100)\n",
    "tt.to_pandas()"
   ]
  },
  {
   "cell_type": "markdown",
   "id": "6c9bd90a",
   "metadata": {},
   "source": [
    "# Simple Oneshot"
   ]
  },
  {
   "cell_type": "code",
   "execution_count": null,
   "id": "8bd3ed06",
   "metadata": {},
   "outputs": [],
   "source": [
    "extractor = topics.TopicExtractor(\n",
    "    texts=veh.text,\n",
    "    n_topics=10,\n",
    "    n_subtopics=5,\n",
    "    instructions=\"The texts contain tweets about electric vehicles\",\n",
    "    model=\"openai/gpt-4.1-mini\",\n",
    "    max_dollars=0.5,\n",
    "    max_tokens=500_000,\n",
    "    max_texts=10_000,\n",
    ")"
   ]
  },
  {
   "cell_type": "code",
   "execution_count": null,
   "id": "b2c3e224",
   "metadata": {},
   "outputs": [],
   "source": [
    "pprint(extractor.task)"
   ]
  },
  {
   "cell_type": "code",
   "execution_count": null,
   "id": "cc20ccf7",
   "metadata": {},
   "outputs": [],
   "source": [
    "taxonomy = await extractor()\n",
    "taxonomy"
   ]
  },
  {
   "cell_type": "code",
   "execution_count": null,
   "id": "c0ac2a0b",
   "metadata": {},
   "outputs": [],
   "source": [
    "assigner = topics.TopicAssigner(topics=taxonomy, texts=veh.text[:10])\n",
    "pprint(assigner.task)"
   ]
  },
  {
   "cell_type": "code",
   "execution_count": null,
   "id": "c9d365cd",
   "metadata": {},
   "outputs": [],
   "source": [
    "tt = await assigner(n_concurrent=100)\n",
    "tt.to_pandas()"
   ]
  },
  {
   "cell_type": "markdown",
   "id": "b6067b31",
   "metadata": {},
   "source": [
    "# Multitopic"
   ]
  },
  {
   "cell_type": "code",
   "execution_count": null,
   "id": "668d9b09",
   "metadata": {},
   "outputs": [],
   "source": [
    "assigner = topics.MultiTopicAssigner(topics=taxonomy, texts=veh.text[:10])\n",
    "tt = await assigner(n_concurrent=100)\n",
    "tt_df = tt.to_pandas(explode=False)\n",
    "tt_df"
   ]
  },
  {
   "cell_type": "markdown",
   "id": "2ffcd035",
   "metadata": {},
   "source": [
    "# Flex"
   ]
  },
  {
   "cell_type": "markdown",
   "id": "3c1a3798",
   "metadata": {},
   "source": [
    "## Topic Extraction"
   ]
  },
  {
   "cell_type": "code",
   "execution_count": null,
   "id": "88665169",
   "metadata": {},
   "outputs": [],
   "source": [
    "from cuery.tools.flex import topics\n",
    "\n",
    "importlib.reload(topics)\n",
    "\n",
    "extractor = topics.TopicExtractor(\n",
    "    records=veh[:200],\n",
    "    n_topics=10,\n",
    "    n_subtopics=5,\n",
    "    instructions=\"The records contain tweets about electric vehicles\",\n",
    "    min_ldist=2,\n",
    "    model=\"openai/gpt-4.1-mini\",\n",
    "    max_samples=50,\n",
    "    attrs=[\"text\", \"viewCount\", \"author.userName\"],\n",
    "    record_format=\"attr_wise\",\n",
    ")\n",
    "\n",
    "pprint(extractor.task)"
   ]
  },
  {
   "cell_type": "code",
   "execution_count": null,
   "id": "a3c0b58e",
   "metadata": {},
   "outputs": [],
   "source": [
    "result = await extractor()\n",
    "result"
   ]
  },
  {
   "cell_type": "code",
   "execution_count": null,
   "id": "55f4deb6",
   "metadata": {},
   "outputs": [],
   "source": [
    "result.to_dict()"
   ]
  },
  {
   "cell_type": "code",
   "execution_count": null,
   "id": "87d78357",
   "metadata": {},
   "outputs": [],
   "source": [
    "# Markdown(extractor.task.queries[0][\"messages\"][0][\"content\"])"
   ]
  },
  {
   "cell_type": "markdown",
   "id": "ca47cb23",
   "metadata": {},
   "source": [
    "## Assignment"
   ]
  },
  {
   "cell_type": "code",
   "execution_count": null,
   "id": "f2565af5",
   "metadata": {},
   "outputs": [],
   "source": [
    "taxonomy_dict = {\n",
    "    \"Vehicle types and technology\": [\n",
    "        \"Electric vehicles\",\n",
    "        \"Hybrid vehicles\",\n",
    "        \"Hydrogen vehicles\",\n",
    "    ],\n",
    "    \"Manufacturing and Industry\": [\n",
    "        \"Automobile manufacturing\",\n",
    "        \"Battery production\",\n",
    "    ],\n",
    "    \"Market and Economics\": [\n",
    "        \"Sales trends\",\n",
    "        \"Market competition\",\n",
    "    ],\n",
    "}\n",
    "\n",
    "taxonomy = topics.Topics(topics=taxonomy_dict)\n",
    "taxonomy"
   ]
  },
  {
   "cell_type": "code",
   "execution_count": null,
   "id": "672e497f",
   "metadata": {},
   "outputs": [],
   "source": [
    "assigner = topics.TopicAssigner(\n",
    "    records=veh[:10],\n",
    "    topics=taxonomy,\n",
    "    attrs=[\"text\", \"viewCount\", \"author.userName\"],\n",
    "    record_format=\"text\",\n",
    "    model=\"openai/gpt-4.1-mini\",\n",
    ")\n",
    "\n",
    "pprint(assigner.task)"
   ]
  },
  {
   "cell_type": "code",
   "execution_count": null,
   "id": "7d6b56ea",
   "metadata": {},
   "outputs": [],
   "source": [
    "labels = await assigner(n_concurrent=100)\n",
    "labels"
   ]
  },
  {
   "cell_type": "markdown",
   "id": "62f49eba",
   "metadata": {},
   "source": [
    "## Scorer"
   ]
  },
  {
   "cell_type": "code",
   "execution_count": null,
   "id": "2c9ddee2",
   "metadata": {},
   "outputs": [],
   "source": [
    "from cuery.tools.flex import score\n",
    "\n",
    "importlib.reload(score)\n",
    "\n",
    "kwds = [\"what is an SUV\", \"Peugeot concesionarios\", \"SUV second hand\", \"electric car reviews\"]\n",
    "context = [{\"keyword\": kwd} for kwd in kwds]\n",
    "\n",
    "scorer = score.Scorer(\n",
    "    name=\"Purchase Probability \",\n",
    "    type=\"integer\",\n",
    "    min=0,\n",
    "    max=10,\n",
    "    description=\"The likelihood of a user completing a purchase or taking a commercial action based on the keyword within the next 30 days.\",\n",
    "    records=context,\n",
    "    record_format=\"text\",\n",
    ")"
   ]
  },
  {
   "cell_type": "code",
   "execution_count": null,
   "id": "82cf17e7",
   "metadata": {},
   "outputs": [],
   "source": [
    "pprint(scorer.task)"
   ]
  },
  {
   "cell_type": "code",
   "execution_count": null,
   "id": "4a9a5047",
   "metadata": {},
   "outputs": [],
   "source": [
    "result = await scorer(n_concurrent=100)\n",
    "result"
   ]
  },
  {
   "cell_type": "markdown",
   "id": "32e2f065",
   "metadata": {},
   "source": [
    "## Entities"
   ]
  },
  {
   "cell_type": "code",
   "execution_count": null,
   "id": "1edae8e2",
   "metadata": {},
   "outputs": [],
   "source": [
    "import importlib\n",
    "\n",
    "from cuery import pprint\n",
    "from cuery.cli import set_env_vars\n",
    "from cuery.tools.flex import entities\n",
    "\n",
    "importlib.reload(entities)\n",
    "\n",
    "set_env_vars(apify_secrets=False)\n",
    "\n",
    "ents = {\n",
    "    \"brand_company\": \"A brand, label or company name\",\n",
    "    \"product_service\": \"A product, item or service name\",\n",
    "    \"technology\": \"A technology, software or hardware name\",\n",
    "    \"other\": \"Any other relevant entity that does not fit into the above categories\",\n",
    "}\n",
    "\n",
    "ai_overviews = [\n",
    "    {\"content\": \"Tesla is a leading electric vehicle manufacturer.\"},\n",
    "    {\"content\": \"The iPhone is a popular smartphone by Apple.\"},\n",
    "    {\n",
    "        \"content\": \"Google's AI research focuses on machine learning and natural language processing.\"\n",
    "    },\n",
    "]\n",
    "\n",
    "extractor = entities.EntityExtractor(\n",
    "    entities=ents,\n",
    "    records=ai_overviews,\n",
    "    model=\"openai/gpt-4.1\",\n",
    ")\n",
    "\n",
    "pprint(extractor.task)"
   ]
  },
  {
   "cell_type": "code",
   "execution_count": null,
   "id": "c1f8c35c",
   "metadata": {},
   "outputs": [],
   "source": [
    "result = await extractor()\n",
    "result"
   ]
  },
  {
   "cell_type": "code",
   "execution_count": null,
   "id": "090217dd",
   "metadata": {},
   "outputs": [],
   "source": [
    "from IPython.display import Markdown\n",
    "\n",
    "Markdown(extractor.task.queries[0][\"messages\"][0][\"content\"])"
   ]
  },
  {
   "cell_type": "markdown",
   "id": "51b89512",
   "metadata": {},
   "source": [
    "## Classifier\n",
    "\n",
    "Simple one-shot classifier with configurable categories."
   ]
  },
  {
   "cell_type": "code",
   "execution_count": null,
   "id": "a47149da",
   "metadata": {},
   "outputs": [],
   "source": [
    "import importlib\n",
    "\n",
    "from cuery import pprint\n",
    "from cuery.cli import set_env_vars\n",
    "from cuery.tools.flex import classify\n",
    "\n",
    "importlib.reload(classify)\n",
    "\n",
    "set_env_vars(apify_secrets=False)\n",
    "\n",
    "\n",
    "kwds = [\"what is an SUV\", \"Peugeot concesionarios\", \"SUV second hand\", \"electric car reviews\"]\n",
    "records = [{\"keyword\": kwd} for kwd in kwds]\n",
    "\n",
    "categories = {\n",
    "    \"informational\": \"Keywords search with *informational* intent\",\n",
    "    \"transactional\": \"Keywords search with *transactional* intent\",\n",
    "}\n",
    "\n",
    "\n",
    "classifier = classify.Classifier(\n",
    "    categories=categories,\n",
    "    records=records,\n",
    "    instructions=\"Classify the Google search keyword into informational or transactional intent.\",\n",
    "    model=\"openai/gpt-4.1-mini\",\n",
    ")\n",
    "\n",
    "pprint(classifier.task)"
   ]
  },
  {
   "cell_type": "code",
   "execution_count": null,
   "id": "8d8d2284",
   "metadata": {},
   "outputs": [],
   "source": [
    "df = await classifier(n_concurrent=10)\n",
    "df"
   ]
  },
  {
   "cell_type": "code",
   "execution_count": null,
   "id": "868a58be",
   "metadata": {},
   "outputs": [],
   "source": [
    "Markdown(classifier.task.queries[3][\"messages\"][0][\"content\"])"
   ]
  },
  {
   "cell_type": "markdown",
   "id": "29d5be6b",
   "metadata": {},
   "source": [
    "## Generic Tool"
   ]
  },
  {
   "cell_type": "code",
   "execution_count": null,
   "id": "3ae36c13",
   "metadata": {},
   "outputs": [],
   "source": [
    "import importlib\n",
    "\n",
    "import pandas as pd\n",
    "\n",
    "from cuery.cli import set_env_vars\n",
    "from cuery.tools import schema\n",
    "from cuery.tools.flex import generic\n",
    "\n",
    "set_env_vars(apify_secrets=False)\n",
    "\n",
    "importlib.reload(schema)\n",
    "importlib.reload(generic)"
   ]
  },
  {
   "cell_type": "code",
   "execution_count": null,
   "id": "55571897",
   "metadata": {
    "vscode": {
     "languageId": "javascript"
    }
   },
   "outputs": [],
   "source": [
    "texts_with_emails_urls = [\n",
    "    \"Please contact our support team at support@techcorp.com or visit our help center at https://help.techcorp.com for assistance.\",\n",
    "    \"For business inquiries, reach out to sales@example.org. You can also check our pricing at www.example.org/pricing\",\n",
    "    \"Send your resume to jobs@startup.io and learn more about our company culture at https://startup.io/careers\",\n",
    "    \"Our customer service is available at help@mystore.net. Track your order status at https://mystore.net/orders/tracking\",\n",
    "    \"Subscribe to our newsletter by emailing newsletter@blog.co or visit our latest posts at http://blog.co/latest\",\n",
    "    \"Report any issues to admin@platform.dev. Check system status at https://status.platform.dev\",\n",
    "    \"For media inquiries, contact press@newscorp.com. Read our press releases at https://newscorp.com/press\",\n",
    "    \"Join our community discussion at forum@community.org or browse topics at www.community.org/forums\",\n",
    "    \"Technical documentation is available at docs@api.service.com and online at https://docs.api.service.com\",\n",
    "    \"Partnership opportunities: partners@bigtech.net. View our partner portal at https://partners.bigtech.net/login\",\n",
    "]\n",
    "\n",
    "df = pd.DataFrame(texts_with_emails_urls, columns = [\"text\"])\n",
    "df"
   ]
  },
  {
   "cell_type": "code",
   "execution_count": null,
   "id": "e8cd2dd7",
   "metadata": {},
   "outputs": [],
   "source": [
    "from cuery.tools.flex import generic\n",
    "\n",
    "autogen = generic.Auto(\n",
    "    records=df,\n",
    "    instructions=\"Extract any emails and URLs from the text column.\",\n",
    "    model=\"openai/gpt-4.1-mini\",\n",
    ")  # type: ignore\n",
    "\n",
    "result = await autogen(n_concurrent=10)\n",
    "result"
   ]
  },
  {
   "cell_type": "code",
   "execution_count": null,
   "id": "f008a571",
   "metadata": {},
   "outputs": [],
   "source": [
    "# Generate a schema\n",
    "schema_gen = schema.SchemaGenerator(\n",
    "    instructions=\"I need a reponse schema for extracting emails and URLs from text.\",\n",
    "    model=\"openai/gpt-4.1\",\n",
    ")\n",
    "\n",
    "response_schema = await schema_gen(max_retries=6)\n",
    "pprint(response_schema.json_schema)"
   ]
  },
  {
   "cell_type": "code",
   "execution_count": null,
   "id": "501fefd2",
   "metadata": {},
   "outputs": [],
   "source": [
    "generator = generic.Generic(\n",
    "    instructions=\"Extract emails and URLs from the text.\",\n",
    "    response_schema=response_schema.json_schema,\n",
    "    records=df,\n",
    "    model=\"openai/gpt-4.1-mini\",\n",
    ")\n",
    "pprint(generator.task)"
   ]
  },
  {
   "cell_type": "code",
   "execution_count": null,
   "id": "63e91bfa",
   "metadata": {},
   "outputs": [],
   "source": [
    "result = await generator(n_concurrent=10)\n",
    "result"
   ]
  },
  {
   "cell_type": "markdown",
   "id": "f1d25e5b",
   "metadata": {},
   "source": [
    "# Iterate"
   ]
  },
  {
   "cell_type": "code",
   "execution_count": null,
   "id": "6460f0e1",
   "metadata": {},
   "outputs": [],
   "source": [
    "system = \"\"\"\n",
    "You will receive a tweet text from a larger dataset of tweets about electric vehicles, and a list of top-level topics in markdown format.\n",
    "Your task is to identify new generalizable topics within the document that can act as top-level topics in the hierarchy.\n",
    "If any topic mentioned is similar enough to an existing topic (paraphrasing it), return the existing one instead.\n",
    "I.e. avoid duplicating topics with similar meanings, but different phrasing.\n",
    "\n",
    "# Examples\n",
    "\n",
    "## Example 1 (new topic, returning \"Battery safety issues):\n",
    "### Existing topics\n",
    "- Charging infrastructure\n",
    "### Document\n",
    "I don't want my car to explode on contact, the cars are expensive enough hahaha\n",
    "### Your response\n",
    "[Safety issues, Pricing]\n",
    "\n",
    "## Example 2 (no identifiable topic, returning an empty list):\n",
    "### Existing topics\n",
    "- Charging infrastructure\n",
    "- Safety issues\n",
    "### Document\n",
    "You don't say. D'uh!\n",
    "### Your response\n",
    "[]\n",
    "\n",
    "## Example 2 (different dataset context, returning an existing topic):\n",
    "### Existing topics\n",
    "- For sale\n",
    "### Document\n",
    "A friend of mine would like to sell his 850 MB SCSI drive for $800 + S/H.It is a full-height drive,\n",
    "and has been used for about one and a half years.If anyone is interested, please e-mail me.\n",
    "### Your response\n",
    "[For sale]\n",
    "\n",
    "\n",
    "# Instructions\n",
    "Step 1: Determine topics mentioned in the document.\n",
    "- The topic labels must be as GENERALIZABLE as possible. They must NOT be document-specific.\n",
    "- The topics must reflect a SINGLE topic instead of a combination of topics.\n",
    "- The topics must be broad enough to accommodate future subtopics.\n",
    "\n",
    "Step 2: Perform ONE of the following operations:\n",
    "- If there are already very similar, duplicate or relevant topics in the hierarchy, output those topics and stop here. \n",
    "- If the document contains no topic, return en empty list ([]).\n",
    "- Otherwise, stop here and output the new topic(s) as a list\n",
    "\"\"\"\n",
    "\n",
    "\n",
    "user = \"\"\"\n",
    "Extract new topics from the text below if they are not already amongst existing topics.\n",
    "### Existing topics\n",
    "- Charging infrastructure\n",
    "### Document\n",
    "{{text}}\n",
    "### Your response\n",
    "\n",
    "\"\"\"\n",
    "\n",
    "prompt = Prompt(\n",
    "    messages=[\n",
    "        {\"role\": \"system\", \"content\": system},\n",
    "        {\"role\": \"user\", \"content\": user},\n",
    "    ],\n",
    "    required=[\"text\"],\n",
    ")\n",
    "\n",
    "pprint(prompt)"
   ]
  },
  {
   "cell_type": "code",
   "execution_count": null,
   "id": "4075d384",
   "metadata": {},
   "outputs": [],
   "source": [
    "class Topics(Response):\n",
    "    names: list[str] = Field(\n",
    "        ..., description=\"(Possibly empty) list of top-level, generalizable topics.\"\n",
    "    )\n",
    "\n",
    "\n",
    "topics = Task(prompt=prompt, response=Topics, model=\"gpt-4.1-mini\")\n",
    "pprint(topics)"
   ]
  },
  {
   "cell_type": "code",
   "execution_count": null,
   "id": "558a04c4",
   "metadata": {},
   "outputs": [],
   "source": [
    "def split_prompt_topics(text: str) -> tuple[list, str, str]:\n",
    "    pre, post = text.split(\"### Existing topics\", maxsplit=1)\n",
    "    topics, post = post.split(\"### Document\", maxsplit=1)\n",
    "    topics = topics.strip().replace(\"- \", \"\")\n",
    "    topics = [topic.strip() for topic in topics.split(\"\\n\") if topic.strip()]\n",
    "    pre = pre + \"### Existing topics\\n\"\n",
    "    post = \"\\n### Document\" + post\n",
    "    return topics, pre, post\n",
    "\n",
    "\n",
    "def update_prompt(response: Response, prompt: Prompt, context: dict | None = None) -> None:\n",
    "    \"\"\"Update the prompt with the given text.\"\"\"\n",
    "    new_topics = response.names\n",
    "    if new_topics:\n",
    "        message = prompt.messages[1].content\n",
    "        old_topics, pre, post = split_prompt_topics(message)\n",
    "        topics = set(old_topics) | set(new_topics)\n",
    "        new_message = pre + \"\\n\".join(f\"- {x}\" for x in sorted(topics)) + post\n",
    "        prompt.messages[1].content = new_message\n"
   ]
  },
  {
   "cell_type": "code",
   "execution_count": null,
   "id": "53e2c38a",
   "metadata": {},
   "outputs": [],
   "source": [
    "res = await topics.iter(veh[:100], callback=update_prompt)\n",
    "res.to_pandas()"
   ]
  },
  {
   "cell_type": "code",
   "execution_count": null,
   "id": "151c8852",
   "metadata": {},
   "outputs": [],
   "source": [
    "sorted(res.to_pandas().names.unique())"
   ]
  },
  {
   "cell_type": "markdown",
   "id": "d3524dea",
   "metadata": {},
   "source": [
    "# Newsgroups"
   ]
  },
  {
   "cell_type": "code",
   "execution_count": null,
   "id": "b52bb54c",
   "metadata": {},
   "outputs": [],
   "source": [
    "DATA_DIR = Path(\"/Users/thomas/data/text\")\n",
    "news = pd.read_csv(DATA_DIR / \"newsgroups.csv\")\n",
    "display(news.label.value_counts())\n",
    "\n",
    "sample = news.sample(500)\n",
    "sample"
   ]
  },
  {
   "cell_type": "markdown",
   "id": "2777e416",
   "metadata": {},
   "source": [
    "# Keywords"
   ]
  },
  {
   "cell_type": "code",
   "execution_count": null,
   "id": "0198ee9e",
   "metadata": {},
   "outputs": [],
   "source": [
    "import pandas as pd\n",
    "\n",
    "from cuery import pprint\n",
    "from cuery.topics import keywords, oneshot\n",
    "\n",
    "#!uv pip install openpyxl\n",
    "# !uv add levenshtein"
   ]
  },
  {
   "cell_type": "code",
   "execution_count": null,
   "id": "105b0115",
   "metadata": {},
   "outputs": [],
   "source": [
    "kws = pd.read_excel(\"/Users/thomas/Documents/Cerraduras.xlsx\")\n",
    "kws"
   ]
  },
  {
   "cell_type": "code",
   "execution_count": null,
   "id": "f811fad9",
   "metadata": {},
   "outputs": [],
   "source": [
    "kws.Keywords.iloc[:50].tolist()"
   ]
  },
  {
   "cell_type": "code",
   "execution_count": null,
   "id": "e37b7f23",
   "metadata": {},
   "outputs": [],
   "source": [
    "kws.Categoría.value_counts()"
   ]
  },
  {
   "cell_type": "markdown",
   "id": "befdc7d4",
   "metadata": {},
   "source": [
    "## Two-level topics"
   ]
  },
  {
   "cell_type": "code",
   "execution_count": null,
   "id": "314adfce",
   "metadata": {},
   "outputs": [],
   "source": [
    "import importlib\n",
    "\n",
    "from cuery import set_api_keys, utils\n",
    "\n",
    "importlib.reload(utils)\n",
    "importlib.reload(oneshot)\n",
    "set_api_keys()\n",
    "\n",
    "instructions = utils.dedent(\"\"\"\n",
    "Always return topics in the original language (do NOT translate).\n",
    "Do NOT invent new keywords not in the original list.\n",
    "Make sure subtopics are always more specific than their parent topics and different from each other.\n",
    "\"\"\")\n",
    "\n",
    "extractor = oneshot.TopicExtractor(\n",
    "    domain=\"Google search keywords\",\n",
    "    n_topics=10,\n",
    "    n_subtopics=5,\n",
    "    extra=instructions,\n",
    ")\n",
    "\n",
    "topics = await extractor(\n",
    "    kws.Keywords,\n",
    "    # model=\"openai/gpt-4.1\",\n",
    "    model=\"google/gemini-2.5-flash-preview-05-20\",\n",
    "    max_dollars=0.5,\n",
    "    max_tokens=500_000,\n",
    "    max_texts=10_000,\n",
    "    # temperature=0.1\n",
    ")\n",
    "\n",
    "topics.to_dict()"
   ]
  },
  {
   "cell_type": "code",
   "execution_count": null,
   "id": "cc374501",
   "metadata": {},
   "outputs": [],
   "source": [
    "assigner = oneshot.TopicAssigner(topics)\n",
    "pprint(assigner.task)"
   ]
  },
  {
   "cell_type": "code",
   "execution_count": null,
   "id": "c64b502e",
   "metadata": {},
   "outputs": [],
   "source": [
    "tt = await assigner(\n",
    "    kws.rename(columns={\"Keywords\": \"text\"}), model=\"openai/gpt-4.1-mini\", n_concurrent=20\n",
    ")\n",
    "tt.to_pandas()"
   ]
  },
  {
   "cell_type": "code",
   "execution_count": null,
   "id": "5eceaac5",
   "metadata": {},
   "outputs": [],
   "source": [
    "tdf = tt.to_pandas()\n",
    "tdf.groupby([\"topic\", \"subtopic\"], as_index=False).size()"
   ]
  },
  {
   "cell_type": "markdown",
   "id": "3c294ec5",
   "metadata": {},
   "source": [
    "## Cleaner"
   ]
  },
  {
   "cell_type": "code",
   "execution_count": null,
   "id": "5899ae0d",
   "metadata": {},
   "outputs": [],
   "source": [
    "importlib.reload(keywords)\n",
    "\n",
    "cleaner = keywords.KeywordCleaner(\n",
    "    domain=\"Google search keywords\",\n",
    "    n_max=15,\n",
    "    extra=\"Don't change the language of the keywords. Treat different languages separately.\",\n",
    ")\n",
    "\n",
    "pprint(cleaner.task)\n",
    "\n",
    "kwds = await cleaner(\n",
    "    kws.Keywords,\n",
    "    model=\"openai/gpt-4.1-mini\",\n",
    "    max_dollars=0.5,\n",
    "    max_tokens=500_000,\n",
    "    max_texts=10_000,\n",
    ")\n",
    "\n",
    "kwds.to_dict()"
   ]
  },
  {
   "cell_type": "code",
   "execution_count": null,
   "id": "33a6dd8d",
   "metadata": {},
   "outputs": [],
   "source": [
    "importlib.reload(keywords)\n",
    "\n",
    "assigner = keywords.KeywordAssigner(kwds)\n",
    "pprint(assigner.task)"
   ]
  },
  {
   "cell_type": "code",
   "execution_count": null,
   "id": "a388b53f",
   "metadata": {},
   "outputs": [],
   "source": [
    "assigns = await assigner(\n",
    "    kws.rename(columns={\"Keywords\": \"text\"}),\n",
    "    model=\"openai/gpt-4.1-mini\",\n",
    "    n_concurrent=100,\n",
    ")\n",
    "\n",
    "assigns.to_pandas()"
   ]
  },
  {
   "cell_type": "markdown",
   "id": "ed5cab00",
   "metadata": {},
   "source": [
    "# Server\n",
    "Create example payloads to paste into FastAPI docs examples"
   ]
  },
  {
   "cell_type": "code",
   "execution_count": null,
   "id": "296a04a4",
   "metadata": {},
   "outputs": [],
   "source": [
    "import json\n",
    "\n",
    "q = {\n",
    "    \"texts\": [\n",
    "        \"cerradura de seguridad\",\n",
    "        \"google smart lock\",\n",
    "        \"smart lock google\",\n",
    "        \"nuki smart lock 3.0 pro\",\n",
    "        \"smartlock\",\n",
    "        \"smart lock\",\n",
    "        \"cerradura inteligente\",\n",
    "        \"bombin de seguridad\",\n",
    "        \"bombin de alta seguridad\",\n",
    "        \"bombín de seguridad\",\n",
    "        \"cerradura de seguridad para puerta exterior\",\n",
    "        \"cerradura de seguridad para puerta\",\n",
    "        \"mejor bombin de seguridad\",\n",
    "        \"el mejor bombin de seguridad\",\n",
    "        \"nuki smart lock 3.0\",\n",
    "        \"cerradura electrónica\",\n",
    "        \"cilindro de seguridad\",\n",
    "        \"cerradura de seguridad puerta\",\n",
    "        \"cerradura de seguridad anti bumping\",\n",
    "        \"cerradura inteligente xiaomi\",\n",
    "    ],\n",
    "    \"n_topics\": 3,\n",
    "    \"n_subtopics\": 3,\n",
    "    \"max_tokens\": 20_000,\n",
    "    \"model\": \"openai/gpt-3.5-turbo\",\n",
    "}\n",
    "\n",
    "print(json.dumps(q, indent=2))"
   ]
  },
  {
   "cell_type": "code",
   "execution_count": null,
   "id": "49948927",
   "metadata": {},
   "outputs": [],
   "source": [
    "tts = {\n",
    "    \"model\": \"openai/gpt-3.5-turbo\",\n",
    "    \"texts\": q[\"texts\"],\n",
    "    \"topics\": {\n",
    "        \"topics\": [\n",
    "            {\n",
    "                \"topic\": \"Smart Locks\",\n",
    "                \"subtopics\": [\n",
    "                    \"cerradura de seguridad\",\n",
    "                    \"google smart lock\",\n",
    "                    \"nuki smart lock 3.0 pro\",\n",
    "                ],\n",
    "            },\n",
    "            {\n",
    "                \"topic\": \"Security Features\",\n",
    "                \"subtopics\": [\n",
    "                    \"bombin de seguridad\",\n",
    "                    \"cilindro de seguridad\",\n",
    "                    \"cerradura de seguridad puerta\",\n",
    "                ],\n",
    "            },\n",
    "        ]\n",
    "    },\n",
    "}\n",
    "\n",
    "print(json.dumps(tts, indent=2))"
   ]
  },
  {
   "cell_type": "code",
   "execution_count": null,
   "id": "f3b24a9f",
   "metadata": {},
   "outputs": [],
   "source": [
    "tts = {\n",
    "    \"model\": \"openai/gpt-3.5-turbo\",\n",
    "    \"texts\": [\n",
    "        \"cerradura de seguridad\",\n",
    "        \"google smart lock\",\n",
    "        \"smart lock google\",\n",
    "        \"nuki smart lock 3.0 pro\",\n",
    "        \"smartlock\",\n",
    "        \"smart lock\",\n",
    "        \"cerradura inteligente\",\n",
    "        \"bombin de seguridad\",\n",
    "        \"bombin de alta seguridad\",\n",
    "        \"bomb\\u00edn de seguridad\",\n",
    "        \"cerradura de seguridad para puerta exterior\",\n",
    "        \"cerradura de seguridad para puerta\",\n",
    "        \"mejor bombin de seguridad\",\n",
    "        \"el mejor bombin de seguridad\",\n",
    "        \"nuki smart lock 3.0\",\n",
    "        \"cerradura electr\\u00f3nica\",\n",
    "        \"cilindro de seguridad\",\n",
    "        \"cerradura de seguridad puerta\",\n",
    "        \"cerradura de seguridad anti bumping\",\n",
    "        \"cerradura inteligente xiaomi\",\n",
    "    ],\n",
    "    \"topics\": {\n",
    "        \"Smart Locks\": [\"cerradura de seguridad\", \"google smart lock\", \"nuki smart lock 3.0 pro\"],\n",
    "        \"Security Features\": [\n",
    "            \"bombin de seguridad\",\n",
    "            \"cilindro de seguridad\",\n",
    "            \"cerradura de seguridad puerta\",\n",
    "        ],\n",
    "    },\n",
    "}\n",
    "\n",
    "print(json.dumps(tts, indent=2))"
   ]
  }
 ],
 "metadata": {
  "kernelspec": {
   "display_name": "cuery (3.11.13)",
   "language": "python",
   "name": "python3"
  },
  "language_info": {
   "codemirror_mode": {
    "name": "ipython",
    "version": 3
   },
   "file_extension": ".py",
   "mimetype": "text/x-python",
   "name": "python",
   "nbconvert_exporter": "python",
   "pygments_lexer": "ipython3",
   "version": "3.11.13"
  }
 },
 "nbformat": 4,
 "nbformat_minor": 5
}
