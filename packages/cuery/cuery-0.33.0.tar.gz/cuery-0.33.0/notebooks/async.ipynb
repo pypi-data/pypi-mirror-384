{
 "cells": [
  {
   "cell_type": "code",
   "execution_count": 1,
   "id": "abc43054",
   "metadata": {},
   "outputs": [],
   "source": [
    "import asyncio\n",
    "import importlib\n",
    "import random\n",
    "from functools import partial\n",
    "\n",
    "from tqdm.auto import tqdm\n",
    "\n",
    "from cuery import asy\n"
   ]
  },
  {
   "cell_type": "code",
   "execution_count": 2,
   "id": "ae8e8b6e",
   "metadata": {},
   "outputs": [
    {
     "data": {
      "application/vnd.jupyter.widget-view+json": {
       "model_id": "e765acb088284f45a803166ea7f599f1",
       "version_major": 2,
       "version_minor": 0
      },
      "text/plain": [
       "  0%|          | 0/10 [00:00<?, ?it/s]"
      ]
     },
     "metadata": {},
     "output_type": "display_data"
    },
    {
     "name": "stderr",
     "output_type": "stream",
     "text": [
      "2025-09-17 17:19:54 [cuery|INFO] Retry attempt 1 failed: Injected failure attempt 1 for task 3\n",
      "2025-09-17 17:19:54 [cuery|INFO] Retry attempt 1 failed: Injected failure attempt 1 for task 5\n",
      "2025-09-17 17:19:54 [cuery|INFO] Retry attempt 1 failed: Injected failure attempt 1 for task 2\n",
      "2025-09-17 17:19:54 [cuery|INFO] Retry attempt 1 failed: Injected failure attempt 1 for task 8\n",
      "2025-09-17 17:19:54 [cuery|INFO] Retry attempt 1 failed: Injected failure attempt 1 for task 1\n",
      "2025-09-17 17:19:54 [cuery|INFO] Retry attempt 1 failed: Injected failure attempt 1 for task 4\n",
      "2025-09-17 17:19:54 [cuery|INFO] Retry attempt 1 failed: Injected failure attempt 1 for task 6\n",
      "2025-09-17 17:19:54 [cuery|INFO] Retry attempt 1 failed: Injected failure attempt 1 for task 7\n",
      "2025-09-17 17:19:54 [cuery|INFO] Retry attempt 1 failed: Injected failure attempt 1 for task 9\n",
      "2025-09-17 17:19:54 [cuery|INFO] Retry attempt 1 failed: Injected failure attempt 1 for task 10\n",
      "2025-09-17 17:19:54 [cuery|INFO] Retry attempt 2 failed: Injected failure attempt 2 for task 4\n",
      "2025-09-17 17:19:54 [cuery|INFO] Retry attempt 2 failed: Injected failure attempt 2 for task 8\n",
      "2025-09-17 17:19:54 [cuery|INFO] Retry attempt 2 failed: Injected failure attempt 2 for task 6\n",
      "2025-09-17 17:19:54 [cuery|INFO] Retry attempt 2 failed: Injected failure attempt 2 for task 3\n",
      "2025-09-17 17:19:55 [cuery|INFO] Retry attempt 2 failed: Injected failure attempt 2 for task 10\n",
      "2025-09-17 17:19:55 [cuery|INFO] Retry attempt 2 failed: Injected failure attempt 2 for task 7\n",
      "2025-09-17 17:19:55 [cuery|INFO] Retry attempt 2 failed: Injected failure attempt 2 for task 5\n",
      "2025-09-17 17:19:55 [cuery|INFO] Retry attempt 2 failed: Injected failure attempt 2 for task 9\n",
      "2025-09-17 17:19:55 [cuery|INFO] Retry attempt 2 failed: Injected failure attempt 2 for task 2\n",
      "2025-09-17 17:19:55 [cuery|INFO] Retry attempt 2 failed: Injected failure attempt 2 for task 1\n",
      "2025-09-17 17:19:57 [cuery|INFO] Retry attempt 3 failed: Awaitable timed out!\n",
      "2025-09-17 17:19:57 [cuery|WARNING] Coroutine fallback: RetryError[<Future at 0x1162e9b50 state=finished raised TimeoutError>]\n"
     ]
    },
    {
     "name": "stdout",
     "output_type": "stream",
     "text": [
      "Progress update: 2 / 10\n"
     ]
    },
    {
     "name": "stderr",
     "output_type": "stream",
     "text": [
      "2025-09-17 17:19:57 [cuery|INFO] Retry attempt 3 failed: Awaitable timed out!\n",
      "2025-09-17 17:19:57 [cuery|WARNING] Coroutine fallback: RetryError[<Future at 0x11628e710 state=finished raised TimeoutError>]\n"
     ]
    },
    {
     "name": "stdout",
     "output_type": "stream",
     "text": [
      "Progress update: 4 / 10\n",
      "Progress update: 6 / 10\n"
     ]
    },
    {
     "name": "stderr",
     "output_type": "stream",
     "text": [
      "2025-09-17 17:19:59 [cuery|INFO] Retry attempt 3 failed: Awaitable timed out!\n",
      "2025-09-17 17:19:59 [cuery|WARNING] Coroutine fallback: RetryError[<Future at 0x1162d9710 state=finished raised TimeoutError>]\n"
     ]
    },
    {
     "name": "stdout",
     "output_type": "stream",
     "text": [
      "Progress update: 8 / 10\n"
     ]
    },
    {
     "name": "stderr",
     "output_type": "stream",
     "text": [
      "2025-09-17 17:20:00 [cuery|INFO] Retry attempt 3 failed: Awaitable timed out!\n",
      "2025-09-17 17:20:00 [cuery|WARNING] Coroutine fallback: RetryError[<Future at 0x1162da950 state=finished raised TimeoutError>]\n"
     ]
    },
    {
     "name": "stdout",
     "output_type": "stream",
     "text": [
      "Progress update: 10 / 10\n",
      "Results: [6, -1, 4, 16, -1, 8, -1, 14, 18, -1]\n",
      "Attempts per task: {3: 3, 5: 3, 2: 3, 8: 3, 1: 3, 4: 3, 6: 3, 7: 3, 9: 3, 10: 3}\n",
      "All tasks retried expected times: True\n"
     ]
    },
    {
     "data": {
      "text/plain": [
       "[6, -1, 4, 16, -1, 8, -1, 14, 18, -1]"
      ]
     },
     "execution_count": 2,
     "metadata": {},
     "output_type": "execute_result"
    }
   ],
   "source": [
    "# Deterministic retry test: make each task fail FAIL_FIRST times then succeed\n",
    "attempts: dict[int, int] = {}\n",
    "FAIL_FIRST = 2  # number of initial failures we force per task\n",
    "\n",
    "\n",
    "async def sometimes_fails(x: int) -> int:\n",
    "    attempt = attempts.get(x, 0)\n",
    "    attempts[x] = attempt + 1\n",
    "    # small sleep to exercise timeout/semaphore logic without slowing too much\n",
    "    if attempt < FAIL_FIRST:\n",
    "        raise ValueError(f\"Injected failure attempt {attempt + 1} for task {x}\")\n",
    "    await asyncio.sleep(1 + random.random() * 1.1)\n",
    "    return x * 2\n",
    "\n",
    "\n",
    "async def progress_callback(status: dict):\n",
    "    print(\"Progress update:\", status[\"n\"], \"/\", status[\"total\"])\n",
    "\n",
    "\n",
    "pbar = tqdm(total=10)\n",
    "params = [{\"x\": i} for i in [3, 5, 2, 8, 1, 4, 6, 7, 9, 10]]\n",
    "\n",
    "\n",
    "policies = {\n",
    "    \"timeout\": 1.9,\n",
    "    \"n_concurrent\": 3,\n",
    "    \"retries\": 3,\n",
    "    \"wait_max\": 10,\n",
    "    \"fallback\": -1,\n",
    "    \"pbar\": pbar,\n",
    "    \"progress_callback\": progress_callback,\n",
    "    \"min_iters\": 2,\n",
    "}\n",
    "\n",
    "coros = asy.all_with_policies(sometimes_fails, kwds=params, policies=policies)\n",
    "\n",
    "results = await asyncio.gather(*coros)\n",
    "print(\"Results:\", results)\n",
    "print(\"Attempts per task:\", attempts)\n",
    "\n",
    "expected_attempts = FAIL_FIRST + 1\n",
    "all_ok = all(a == expected_attempts for a in attempts.values())\n",
    "print(\"All tasks retried expected times:\", all_ok)\n",
    "\n",
    "assert all_ok, (\n",
    "    f\"Unexpected attempt distribution: {attempts} (expected each == {expected_attempts})\"\n",
    ")\n",
    "results"
   ]
  }
 ],
 "metadata": {
  "kernelspec": {
   "display_name": "cuery (3.11.13)",
   "language": "python",
   "name": "python3"
  },
  "language_info": {
   "codemirror_mode": {
    "name": "ipython",
    "version": 3
   },
   "file_extension": ".py",
   "mimetype": "text/x-python",
   "name": "python",
   "nbconvert_exporter": "python",
   "pygments_lexer": "ipython3",
   "version": "3.11.13"
  }
 },
 "nbformat": 4,
 "nbformat_minor": 5
}
