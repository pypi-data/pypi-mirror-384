{
 "cells": [
  {
   "cell_type": "code",
   "execution_count": 1,
   "id": "057358d3",
   "metadata": {},
   "outputs": [],
   "source": [
    "import os\n",
    "import importlib\n",
    "from pathlib import Path\n",
    "\n",
    "import pandas as pd\n",
    "\n",
    "from cuery import utils\n",
    "from cuery.seo import keywords, seo, serps, traffic\n",
    "\n",
    "GDRIVE = Path(\"~/Google Drive/Shared drives/Solutions\").expanduser()\n",
    "DATA_DIR = GDRIVE / \"Research/tractor_v2/SEO/\"\n",
    "\n",
    "utils.set_env(apify_secrets=False)"
   ]
  },
  {
   "cell_type": "code",
   "execution_count": null,
   "id": "a262b66a",
   "metadata": {},
   "outputs": [],
   "source": [
    "fnm = \"/Users/thomas/Library/CloudStorage/GoogleDrive-thomas@graphext.com/Shared drives/Solutions/Stellantis/coches_chinos_seo_data_with_aio_aspects_and_models_08_05.parquet\"\n",
    "df = pd.read_parquet(fnm)\n",
    "df"
   ]
  },
  {
   "cell_type": "code",
   "execution_count": 5,
   "id": "96255f06",
   "metadata": {},
   "outputs": [
    {
     "ename": "ValueError",
     "evalue": "Currently only `function` tool types support auto-parsing; Received `web_search`",
     "output_type": "error",
     "traceback": [
      "\u001b[31m---------------------------------------------------------------------------\u001b[39m",
      "\u001b[31mValueError\u001b[39m                                Traceback (most recent call last)",
      "\u001b[36mCell\u001b[39m\u001b[36m \u001b[39m\u001b[32mIn[5]\u001b[39m\u001b[32m, line 25\u001b[39m\n\u001b[32m     21\u001b[39m     brands: \u001b[38;5;28mlist\u001b[39m[Brand]\n\u001b[32m     22\u001b[39m \u001b[38;5;250m    \u001b[39m\u001b[33;03m\"\"\"List of brands.\"\"\"\u001b[39;00m\n\u001b[32m---> \u001b[39m\u001b[32m25\u001b[39m r = \u001b[38;5;28;01mawait\u001b[39;00m search.query_openai(\n\u001b[32m     26\u001b[39m     prompt=\u001b[33m\"\u001b[39m\u001b[33mWho are the main competitors of Peugeot in the automotive sector in Spain?\u001b[39m\u001b[33m\"\u001b[39m,\n\u001b[32m     27\u001b[39m     country=\u001b[33m\"\u001b[39m\u001b[33mes\u001b[39m\u001b[33m\"\u001b[39m,\n\u001b[32m     28\u001b[39m     context_size=\u001b[33m\"\u001b[39m\u001b[33mmedium\u001b[39m\u001b[33m\"\u001b[39m,\n\u001b[32m     29\u001b[39m     reaonsing_effort=\u001b[33m\"\u001b[39m\u001b[33mlow\u001b[39m\u001b[33m\"\u001b[39m,\n\u001b[32m     30\u001b[39m     model=\u001b[33m\"\u001b[39m\u001b[33mgpt-4.1\u001b[39m\u001b[33m\"\u001b[39m,\n\u001b[32m     31\u001b[39m     use_search=\u001b[38;5;28;01mTrue\u001b[39;00m,\n\u001b[32m     32\u001b[39m     response_format=Brands,\n\u001b[32m     33\u001b[39m )\n\u001b[32m     35\u001b[39m r\n",
      "\u001b[36mFile \u001b[39m\u001b[32m~/code/cuery/src/cuery/search.py:247\u001b[39m, in \u001b[36mquery_openai\u001b[39m\u001b[34m(prompt, country, city, context_size, reaonsing_effort, model, use_search, validate, response_format)\u001b[39m\n\u001b[32m    245\u001b[39m params[\u001b[33m\"\u001b[39m\u001b[33mresponse_format\u001b[39m\u001b[33m\"\u001b[39m] = response_format\n\u001b[32m    246\u001b[39m params[\u001b[33m\"\u001b[39m\u001b[33mmessages\u001b[39m\u001b[33m\"\u001b[39m] = [{\u001b[33m\"\u001b[39m\u001b[33mrole\u001b[39m\u001b[33m\"\u001b[39m: \u001b[33m\"\u001b[39m\u001b[33muser\u001b[39m\u001b[33m\"\u001b[39m, \u001b[33m\"\u001b[39m\u001b[33mcontent\u001b[39m\u001b[33m\"\u001b[39m: params.pop(\u001b[33m\"\u001b[39m\u001b[33minput\u001b[39m\u001b[33m\"\u001b[39m)}]\n\u001b[32m--> \u001b[39m\u001b[32m247\u001b[39m response = \u001b[38;5;28;01mawait\u001b[39;00m client.chat.completions.parse(**params)\n\u001b[32m    248\u001b[39m message = response.choices[\u001b[32m0\u001b[39m].message\n\u001b[32m    249\u001b[39m \u001b[38;5;28;01mreturn\u001b[39;00m message.parsed\n",
      "\u001b[36mFile \u001b[39m\u001b[32m~/code/cuery/.venv/lib/python3.11/site-packages/openai/resources/chat/completions/completions.py:1607\u001b[39m, in \u001b[36mAsyncCompletions.parse\u001b[39m\u001b[34m(self, messages, model, audio, response_format, frequency_penalty, function_call, functions, logit_bias, logprobs, max_completion_tokens, max_tokens, metadata, modalities, n, parallel_tool_calls, prediction, presence_penalty, prompt_cache_key, reasoning_effort, safety_identifier, seed, service_tier, stop, store, stream_options, temperature, tool_choice, tools, top_logprobs, top_p, user, verbosity, web_search_options, extra_headers, extra_query, extra_body, timeout)\u001b[39m\n\u001b[32m   1522\u001b[39m \u001b[38;5;28;01masync\u001b[39;00m \u001b[38;5;28;01mdef\u001b[39;00m\u001b[38;5;250m \u001b[39m\u001b[34mparse\u001b[39m(\n\u001b[32m   1523\u001b[39m     \u001b[38;5;28mself\u001b[39m,\n\u001b[32m   1524\u001b[39m     *,\n\u001b[32m   (...)\u001b[39m\u001b[32m   1563\u001b[39m     timeout: \u001b[38;5;28mfloat\u001b[39m | httpx.Timeout | \u001b[38;5;28;01mNone\u001b[39;00m | NotGiven = not_given,\n\u001b[32m   1564\u001b[39m ) -> ParsedChatCompletion[ResponseFormatT]:\n\u001b[32m   1565\u001b[39m \u001b[38;5;250m    \u001b[39m\u001b[33;03m\"\"\"Wrapper over the `client.chat.completions.create()` method that provides richer integrations with Python specific types\u001b[39;00m\n\u001b[32m   1566\u001b[39m \u001b[33;03m    & returns a `ParsedChatCompletion` object, which is a subclass of the standard `ChatCompletion` class.\u001b[39;00m\n\u001b[32m   1567\u001b[39m \n\u001b[32m   (...)\u001b[39m\u001b[32m   1605\u001b[39m \u001b[33;03m    ```\u001b[39;00m\n\u001b[32m   1606\u001b[39m \u001b[33;03m    \"\"\"\u001b[39;00m\n\u001b[32m-> \u001b[39m\u001b[32m1607\u001b[39m     \u001b[43m_validate_input_tools\u001b[49m\u001b[43m(\u001b[49m\u001b[43mtools\u001b[49m\u001b[43m)\u001b[49m\n\u001b[32m   1609\u001b[39m     extra_headers = {\n\u001b[32m   1610\u001b[39m         \u001b[33m\"\u001b[39m\u001b[33mX-Stainless-Helper-Method\u001b[39m\u001b[33m\"\u001b[39m: \u001b[33m\"\u001b[39m\u001b[33mchat.completions.parse\u001b[39m\u001b[33m\"\u001b[39m,\n\u001b[32m   1611\u001b[39m         **(extra_headers \u001b[38;5;129;01mor\u001b[39;00m {}),\n\u001b[32m   1612\u001b[39m     }\n\u001b[32m   1614\u001b[39m     \u001b[38;5;28;01mdef\u001b[39;00m\u001b[38;5;250m \u001b[39m\u001b[34mparser\u001b[39m(raw_completion: ChatCompletion) -> ParsedChatCompletion[ResponseFormatT]:\n",
      "\u001b[36mFile \u001b[39m\u001b[32m~/code/cuery/.venv/lib/python3.11/site-packages/openai/lib/_parsing/_completions.py:73\u001b[39m, in \u001b[36mvalidate_input_tools\u001b[39m\u001b[34m(tools)\u001b[39m\n\u001b[32m     71\u001b[39m \u001b[38;5;28;01mfor\u001b[39;00m tool \u001b[38;5;129;01min\u001b[39;00m tools:\n\u001b[32m     72\u001b[39m     \u001b[38;5;28;01mif\u001b[39;00m tool[\u001b[33m\"\u001b[39m\u001b[33mtype\u001b[39m\u001b[33m\"\u001b[39m] != \u001b[33m\"\u001b[39m\u001b[33mfunction\u001b[39m\u001b[33m\"\u001b[39m:\n\u001b[32m---> \u001b[39m\u001b[32m73\u001b[39m         \u001b[38;5;28;01mraise\u001b[39;00m \u001b[38;5;167;01mValueError\u001b[39;00m(\n\u001b[32m     74\u001b[39m             \u001b[33mf\u001b[39m\u001b[33m\"\u001b[39m\u001b[33mCurrently only `function` tool types support auto-parsing; Received `\u001b[39m\u001b[38;5;132;01m{\u001b[39;00mtool[\u001b[33m'\u001b[39m\u001b[33mtype\u001b[39m\u001b[33m'\u001b[39m]\u001b[38;5;132;01m}\u001b[39;00m\u001b[33m`\u001b[39m\u001b[33m\"\u001b[39m,\n\u001b[32m     75\u001b[39m         )\n\u001b[32m     77\u001b[39m     strict = tool[\u001b[33m\"\u001b[39m\u001b[33mfunction\u001b[39m\u001b[33m\"\u001b[39m].get(\u001b[33m\"\u001b[39m\u001b[33mstrict\u001b[39m\u001b[33m\"\u001b[39m)\n\u001b[32m     78\u001b[39m     \u001b[38;5;28;01mif\u001b[39;00m strict \u001b[38;5;129;01mis\u001b[39;00m \u001b[38;5;129;01mnot\u001b[39;00m \u001b[38;5;28;01mTrue\u001b[39;00m:\n",
      "\u001b[31mValueError\u001b[39m: Currently only `function` tool types support auto-parsing; Received `web_search`"
     ]
    }
   ],
   "source": [
    "import importlib\n",
    "\n",
    "from cuery import search\n",
    "from cuery.response import Response\n",
    "\n",
    "importlib.reload(search)\n",
    "\n",
    "\n",
    "class Brand(Response):\n",
    "    \"\"\"Identifier for a brand.\"\"\"\n",
    "\n",
    "    name: str\n",
    "    \"\"\"Name of the brand.\"\"\"\n",
    "    description: str\n",
    "    \"\"\"Brief description of the brand.\"\"\"\n",
    "\n",
    "\n",
    "class Brands(Response):\n",
    "    \"\"\"List of brands.\"\"\"\n",
    "\n",
    "    brands: list[Brand]\n",
    "    \"\"\"List of brands.\"\"\"\n",
    "\n",
    "\n",
    "r = await search.query_openai(\n",
    "    prompt=\"Who are the main competitors of Peugeot in the automotive sector in Spain?\",\n",
    "    country=\"es\",\n",
    "    context_size=\"medium\",\n",
    "    reaonsing_effort=\"low\",\n",
    "    model=\"gpt-4.1\",\n",
    "    use_search=True,\n",
    "    response_format=Brands,\n",
    ")\n",
    "\n",
    "r"
   ]
  },
  {
   "cell_type": "markdown",
   "id": "3ff358af",
   "metadata": {},
   "source": [
    "# Check tools refactor"
   ]
  },
  {
   "cell_type": "code",
   "execution_count": null,
   "id": "6351cfed",
   "metadata": {},
   "outputs": [],
   "source": [
    "topics = {\n",
    "    \"cerraduras electronicas\": [\n",
    "        \"cerraduras wifi\",\n",
    "        \"cerraduras bluetooth\",\n",
    "        \"cerraduras biométricas\",\n",
    "        \"cerraduras con cámara\",\n",
    "        \"cerraduras con alarma\",\n",
    "    ],\n",
    "    \"cerraduras inteligentes\": [\n",
    "        \"cerraduras con control remoto\",\n",
    "        \"cerraduras con sensor de movimiento\",\n",
    "        \"cerraduras con integración de hogar inteligente\",\n",
    "        \"cerraduras con notificaciones en tiempo real\",\n",
    "    ],\n",
    "}\n",
    "\n",
    "clf_df = await serps.topic_and_intent(\n",
    "    df=df.iloc[:100],\n",
    "    max_samples=100,\n",
    "    topic_model=\"google/gemini-2.5-flash\",\n",
    "    assignment_model=\"openai/gpt-4.1-mini\",\n",
    "    text_column=\"keyword\",\n",
    "    topics_instructions=\"\",\n",
    "    min_ldist=2,\n",
    ")\n",
    "clf_df"
   ]
  },
  {
   "cell_type": "code",
   "execution_count": null,
   "id": "a4494883",
   "metadata": {},
   "outputs": [],
   "source": [
    "importlib.reload(serps)\n",
    "\n",
    "ent_df = await serps.extract_aio_entities(df=df.iloc[:100], id_column=\"keyword\")\n",
    "ent_df"
   ]
  },
  {
   "cell_type": "markdown",
   "id": "765c25cf",
   "metadata": {},
   "source": [
    "# Keyword planner only"
   ]
  },
  {
   "cell_type": "code",
   "execution_count": null,
   "id": "a1ed4745",
   "metadata": {},
   "outputs": [],
   "source": [
    "importlib.reload(utils)\n",
    "importlib.reload(keywords)\n",
    "\n",
    "kwd_cfg = {\n",
    "    \"keywords\": [\"análisis de datos\"],\n",
    "    \"url\": None,\n",
    "    \"whole_site\": False,\n",
    "    \"ideas\": True,\n",
    "    \"max_ideas\": 20,\n",
    "    \"language\": \"es\",\n",
    "    \"country\": \"es\",\n",
    "    \"metrics_start\": \"2021-01\",\n",
    "    \"metrics_end\": \"2025-06\",\n",
    "}\n",
    "\n",
    "kwd_cfg = keywords.GoogleKwdConfig(**kwd_cfg)\n",
    "kwds = keywords.keywords(kwd_cfg)\n",
    "kwds"
   ]
  },
  {
   "cell_type": "code",
   "execution_count": null,
   "id": "ba0bfd90",
   "metadata": {},
   "outputs": [],
   "source": [
    "kwd_cfg.country"
   ]
  },
  {
   "cell_type": "markdown",
   "id": "c46c1ff1",
   "metadata": {},
   "source": [
    "# Serps only"
   ]
  },
  {
   "cell_type": "code",
   "execution_count": null,
   "id": "4cd338c0",
   "metadata": {},
   "outputs": [],
   "source": [
    "importlib.reload(serps)\n",
    "\n",
    "serp_cfg = {\n",
    "    \"keywords\": [\"data analysis\", \"data science\", \"machine learning\", \"artificial intelligence\"],\n",
    "    \"batch_size\": 25,\n",
    "    \"resultsPerPage\": 10,\n",
    "    \"maxPagesPerQuery\": 1,\n",
    "    # \"country\": \"us\",\n",
    "    # \"searchLanguage\": \"en\",\n",
    "    # \"languageCode\": \"en\",\n",
    "    \"top_n\": 10,\n",
    "    \"brands\": [\"graphext\"],\n",
    "    \"competitors\": [\"powerbi\", \"tableau\", \"qlik\", \"looker\", \"google data studio\"],\n",
    "    \"topic_max_samples\": 100,\n",
    "}\n",
    "\n",
    "serp_cfg = serps.SerpConfig(**serp_cfg)\n",
    "srs = await serps.serps(serp_cfg, keywords=None)\n",
    "srs"
   ]
  },
  {
   "cell_type": "markdown",
   "id": "f4a078b9",
   "metadata": {},
   "source": [
    "# Traffic only"
   ]
  },
  {
   "cell_type": "code",
   "execution_count": null,
   "id": "c6e01996",
   "metadata": {},
   "outputs": [],
   "source": [
    "importlib.reload(traffic)\n",
    "\n",
    "trf_cfg = {\"batch_size\": 25, \"apify_token\": None}\n",
    "trf_cfg = traffic.TrafficConfig(**trf_cfg)\n",
    "trf_cfg"
   ]
  },
  {
   "cell_type": "code",
   "execution_count": null,
   "id": "2cf1f063",
   "metadata": {},
   "outputs": [],
   "source": [
    "srs[[\"term\", \"domains\"]]"
   ]
  },
  {
   "cell_type": "code",
   "execution_count": null,
   "id": "96a80270",
   "metadata": {},
   "outputs": [],
   "source": [
    "trf = await traffic.keyword_traffic(srs.term, srs.domains, trf_cfg)\n",
    "trf"
   ]
  },
  {
   "cell_type": "code",
   "execution_count": null,
   "id": "0682cb99",
   "metadata": {},
   "outputs": [],
   "source": [
    "trfinp = srs[[\"term\", \"domains\"]].explode(\"domains\").reset_index(drop=True)\n",
    "trfinp"
   ]
  },
  {
   "cell_type": "code",
   "execution_count": null,
   "id": "fe274166",
   "metadata": {},
   "outputs": [],
   "source": [
    "trf = await traffic.fetch_domain_traffic(tuple(trfinp.domains), trf_cfg)\n",
    "trf"
   ]
  },
  {
   "cell_type": "code",
   "execution_count": null,
   "id": "e559b1a6",
   "metadata": {},
   "outputs": [],
   "source": [
    "trf"
   ]
  },
  {
   "cell_type": "markdown",
   "id": "dda9aa4f",
   "metadata": {},
   "source": [
    "# All in one"
   ]
  },
  {
   "cell_type": "code",
   "execution_count": null,
   "id": "7466292b",
   "metadata": {},
   "outputs": [],
   "source": [
    "importlib.reload(keywords)\n",
    "importlib.reload(serps)\n",
    "importlib.reload(traffic)\n",
    "importlib.reload(seo)"
   ]
  },
  {
   "cell_type": "code",
   "execution_count": null,
   "id": "fd4ad86e",
   "metadata": {},
   "outputs": [],
   "source": [
    "cfg = {\n",
    "    \"kwd_cfg\": {\n",
    "        \"keywords\": [\"coches eléctricos\", \"coches híbridos\", \"coches eléctricos españa\"],\n",
    "        \"url\": None,\n",
    "        \"whole_site\": False,\n",
    "        \"ideas\": True,\n",
    "        \"max_ideas\": 10_000,\n",
    "        \"language\": \"es\",\n",
    "        \"country\": \"es\",\n",
    "        \"metrics_start\": \"2021-01\",\n",
    "        \"metrics_end\": \"2025-07\",\n",
    "    },\n",
    "    \"serp_cfg\": {\n",
    "        \"batch_size\": 100,\n",
    "        \"resultsPerPage\": 20,\n",
    "        \"maxPagesPerQuery\": 1,\n",
    "        \"countryCode\": \"es\",\n",
    "        \"searchLanguage\": \"es\",\n",
    "        \"languageCode\": \"es\",\n",
    "        \"top_n\": 10,\n",
    "        \"brands\": [\n",
    "            \"peugeot\",\n",
    "            \"citroën\",\n",
    "            \"fiat\",\n",
    "            \"alfa romeo\",\n",
    "            \"opel\",\n",
    "            \"stellantis\",\n",
    "            \"vauxhall\",\n",
    "            \"lancia\",\n",
    "            \"jeep\",\n",
    "            \"chrysler\",\n",
    "            \"leapmotor\",\n",
    "        ],\n",
    "        \"competitors\": [\n",
    "            \"tesla\",\n",
    "            \"byd\",\n",
    "            \"mg\",\n",
    "            \"volkswagen\",\n",
    "            \"renault\",\n",
    "            \"hyundai\",\n",
    "            \"bmw\",\n",
    "            \"volvo\",\n",
    "            \"geely\",\n",
    "            \"zeekr\",\n",
    "            \"nissan\",\n",
    "        ],\n",
    "    },\n",
    "    \"traffic_cfg\": {\n",
    "        \"batch_size\": 25,\n",
    "    },\n",
    "}\n",
    "\n",
    "seo_cfg = seo.SeoConfig(**cfg)\n",
    "seo_cfg"
   ]
  },
  {
   "cell_type": "code",
   "execution_count": null,
   "id": "930e9360",
   "metadata": {},
   "outputs": [],
   "source": [
    "result = await seo.seo_data(seo_cfg)\n",
    "result"
   ]
  },
  {
   "cell_type": "code",
   "execution_count": null,
   "id": "86967fbe",
   "metadata": {},
   "outputs": [],
   "source": [
    "from datetime import datetime\n",
    "\n",
    "now = datetime.now().time().strftime(\"%H_%M_%S\")\n",
    "fnm = f\"/Users/thomas/Library/CloudStorage/GoogleDrive-thomas@graphext.com/Shared drives/Solutions/Stellantis/electric_vehicles_{now}.parquet\"\n",
    "result.to_parquet(fnm, index=False)"
   ]
  },
  {
   "cell_type": "code",
   "execution_count": null,
   "id": "7d24c634",
   "metadata": {},
   "outputs": [],
   "source": [
    "result = pd.read_parquet(\"...\")\n",
    "result"
   ]
  }
 ],
 "metadata": {
  "kernelspec": {
   "display_name": "cuery (3.11.13)",
   "language": "python",
   "name": "python3"
  },
  "language_info": {
   "codemirror_mode": {
    "name": "ipython",
    "version": 3
   },
   "file_extension": ".py",
   "mimetype": "text/x-python",
   "name": "python",
   "nbconvert_exporter": "python",
   "pygments_lexer": "ipython3",
   "version": "3.11.13"
  }
 },
 "nbformat": 4,
 "nbformat_minor": 5
}
