{
 "cells": [
  {
   "cell_type": "code",
   "execution_count": null,
   "id": "3fa265c8",
   "metadata": {},
   "outputs": [],
   "source": [
    "import time\n",
    "import importlib\n",
    "\n",
    "from cuery import utils\n",
    "\n",
    "importlib.reload(utils)\n",
    "\n",
    "for i in utils.progress(list(range(10)), callback=lambda **kw: print(kw)):\n",
    "    time.sleep(0.05)"
   ]
  },
  {
   "cell_type": "code",
   "execution_count": null,
   "id": "fb0834ff",
   "metadata": {},
   "outputs": [],
   "source": [
    "import importlib\n",
    "from pathlib import Path\n",
    "\n",
    "import pandas as pd\n",
    "\n",
    "from cuery import utils\n",
    "from cuery.cli import set_env_vars\n",
    "from cuery.seo import keywords, seo, serps\n",
    "\n",
    "GDRIVE = Path(\"~/Google Drive/Shared drives/Solutions\").expanduser()\n",
    "DATA_DIR = GDRIVE / \"Research/tractor_v2/SEO/\"\n",
    "\n",
    "env = set_env_vars(apify_secrets=False)"
   ]
  },
  {
   "cell_type": "code",
   "execution_count": null,
   "id": "54fd1eac",
   "metadata": {},
   "outputs": [],
   "source": [
    "pd.read_parquet(\"/Users/thomas/Downloads/titanic (1).parquet\")"
   ]
  },
  {
   "cell_type": "code",
   "execution_count": null,
   "id": "fd89c407",
   "metadata": {},
   "outputs": [],
   "source": [
    "from apify_client import ApifyClient\n",
    "\n",
    "client = ApifyClient()\n",
    "client.actor(\"graphext/topic-classifier\").version(\"version-0-1\").update"
   ]
  },
  {
   "cell_type": "code",
   "execution_count": null,
   "id": "bad8a006",
   "metadata": {},
   "outputs": [],
   "source": [
    "# fnm = \"/Users/thomas/Library/CloudStorage/GoogleDrive-thomas@graphext.com/Shared drives/Solutions/Stellantis/peugeot_es_seo_data_multitopic_08_06.parquet\"\n",
    "fnm = f\"/Users/thomas/Library/CloudStorage/GoogleDrive-thomas@graphext.com/Shared drives/Solutions/Stellantis/electric_vehicles_12_14_30.parquet\"\n",
    "df = pd.read_parquet(fnm, columns=[\"xxx\"])\n",
    "df"
   ]
  },
  {
   "cell_type": "code",
   "execution_count": null,
   "id": "169e0097",
   "metadata": {},
   "outputs": [],
   "source": [
    "urls = df[[\"domains\", \"urls_x\", \"urls_y\"]]\n",
    "urls"
   ]
  },
  {
   "cell_type": "markdown",
   "id": "0fb58b83",
   "metadata": {},
   "source": [
    "# Content/keyword gap\n",
    "\n",
    "**To Do**\n",
    "- decide/configure whether to consider mentions in organic result and AIO URLs only, or also in titles, content etc..."
   ]
  },
  {
   "cell_type": "code",
   "execution_count": null,
   "id": "99ba90ca",
   "metadata": {},
   "outputs": [],
   "source": [
    "rank_cols = [\n",
    "    \"titles_rank_brand\",\n",
    "    \"domains_rank_brand\",\n",
    "    \"descriptions_rank_brand\",\n",
    "    \"titles_rank_competition\",\n",
    "    \"domains_rank_competition\",\n",
    "    \"descriptions_rank_competition\",\n",
    "    \"aio_content_brand_mentions\",\n",
    "    \"aio_content_competitor_mentions\",\n",
    "    \"aio_sources_brand_mentions\",\n",
    "    \"aio_sources_competitor_mentions\",\n",
    "]\n",
    "\n",
    "df[[\"keyword\"] + rank_cols]"
   ]
  }
 ],
 "metadata": {
  "kernelspec": {
   "display_name": "cuery (3.11.13)",
   "language": "python",
   "name": "python3"
  },
  "language_info": {
   "codemirror_mode": {
    "name": "ipython",
    "version": 3
   },
   "file_extension": ".py",
   "mimetype": "text/x-python",
   "name": "python",
   "nbconvert_exporter": "python",
   "pygments_lexer": "ipython3",
   "version": "3.11.13"
  }
 },
 "nbformat": 4,
 "nbformat_minor": 5
}
