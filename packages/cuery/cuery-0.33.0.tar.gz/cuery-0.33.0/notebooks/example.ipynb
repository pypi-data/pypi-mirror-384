{
 "cells": [
  {
   "cell_type": "code",
   "execution_count": null,
   "id": "d88bdd64",
   "metadata": {},
   "outputs": [],
   "source": [
    "import importlib\n",
    "from pathlib import Path\n",
    "\n",
    "import pandas as pd\n",
    "from rich.console import Console\n",
    "\n",
    "c = Console(width=60)\n",
    "\n",
    "GDRIVE = Path(\"~/Google Drive/Shared drives/Solutions\").expanduser()"
   ]
  },
  {
   "cell_type": "markdown",
   "id": "af84fdfc",
   "metadata": {},
   "source": [
    "# Quick Start"
   ]
  },
  {
   "cell_type": "code",
   "execution_count": null,
   "id": "5913c9ed",
   "metadata": {},
   "outputs": [],
   "source": [
    "from cuery import Prompt, Response, Task, set_env\n",
    "\n",
    "set_env(apify_secrets=False)\n",
    "\n",
    "\n",
    "# Define response model\n",
    "class Entity(Response):\n",
    "    name: str\n",
    "    type: str\n",
    "\n",
    "\n",
    "class NamedEntities(Response):\n",
    "    entities: list[Entity]\n",
    "\n",
    "\n",
    "context = pd.DataFrame(\n",
    "    {\n",
    "        \"text\": [\n",
    "            \"Apple is headquartered in Cupertino, California.\",\n",
    "            \"Barack Obama was the 44th President of the United States.\",\n",
    "            \"The Eiffel Tower is located in Paris, France.\",\n",
    "        ]\n",
    "    }\n",
    ")\n",
    "\n",
    "prompt = Prompt.from_string(\"Extract named entities from the following text: {{text}}\")\n",
    "task = Task(prompt=prompt, response=NamedEntities)\n",
    "result = await task(context, model=\"openai/gpt-3.5-turbo\", n_concurrent=10)\n",
    "print(result.to_pandas(explode=False))"
   ]
  },
  {
   "cell_type": "code",
   "execution_count": null,
   "id": "58de55c1",
   "metadata": {},
   "outputs": [],
   "source": [
    "print(result.to_pandas(explode=True))"
   ]
  },
  {
   "cell_type": "markdown",
   "id": "72c2a58e",
   "metadata": {},
   "source": [
    "# Prompts"
   ]
  },
  {
   "cell_type": "code",
   "execution_count": null,
   "id": "f2d8adfc",
   "metadata": {},
   "outputs": [],
   "source": [
    "from cuery import Prompt\n",
    "\n",
    "prompt = Prompt.from_string(\"Explain {{ topic }} in simple terms.\")\n",
    "c.print(prompt)"
   ]
  },
  {
   "cell_type": "markdown",
   "id": "28434b21",
   "metadata": {},
   "source": [
    "# Context"
   ]
  },
  {
   "cell_type": "code",
   "execution_count": null,
   "id": "13c3e2af",
   "metadata": {},
   "outputs": [],
   "source": [
    "from cuery.context import iter_context\n",
    "\n",
    "df = pd.DataFrame(\n",
    "    {\n",
    "        \"topic\": [\"Machine Learning\", \"Natural Language Processing\", \"Computer Vision\"],\n",
    "        \"audience\": [\"beginners\", \"developers\", \"researchers\"],\n",
    "    }\n",
    ")\n",
    "\n",
    "contexts, count = iter_context(df, required=[\"topic\", \"audience\"])\n",
    "next(contexts)"
   ]
  },
  {
   "cell_type": "markdown",
   "id": "d86cf715",
   "metadata": {},
   "source": [
    "# Response, Task"
   ]
  },
  {
   "cell_type": "code",
   "execution_count": null,
   "id": "ca2fbcf8",
   "metadata": {},
   "outputs": [],
   "source": [
    "from cuery import Field, Prompt, Response, Task\n",
    "\n",
    "\n",
    "class MovieRecommendation(Response):\n",
    "    title: str\n",
    "    year: int = Field(gt=1900, lt=2030)\n",
    "    genre: list[str]\n",
    "    rating: float = Field(ge=0, le=10)\n",
    "\n",
    "\n",
    "# Multi-output response model\n",
    "class MovieRecommendations(Response):\n",
    "    recommendations: list[MovieRecommendation]\n",
    "\n",
    "\n",
    "movie_prompt = Prompt.from_string(\n",
    "    \"Recommend a movie for {{ audience }} interested in {{ topic }}.\"\n",
    ")\n",
    "context = [\n",
    "    {\"topic\": \"Machine Learning\", \"audience\": \"beginners\"},\n",
    "    {\"topic\": \"Computer Vision\", \"audience\": \"researchers\"},\n",
    "]\n",
    "\n",
    "movie_task = Task(prompt=movie_prompt, response=MovieRecommendations)\n",
    "result = await movie_task(context)\n",
    "print(result)\n",
    "print(result.to_pandas())"
   ]
  },
  {
   "cell_type": "code",
   "execution_count": null,
   "id": "ceecd6bd",
   "metadata": {},
   "outputs": [],
   "source": [
    "print(result.usage())"
   ]
  },
  {
   "cell_type": "code",
   "execution_count": null,
   "id": "8e7f2143",
   "metadata": {},
   "outputs": [],
   "source": [
    "from cuery import pprint\n",
    "\n",
    "print(result[0]._raw_response.model)\n",
    "print(result[0]._raw_response.service_tier)"
   ]
  },
  {
   "cell_type": "code",
   "execution_count": null,
   "id": "ac75d8a6",
   "metadata": {},
   "outputs": [],
   "source": [
    "print(movie_task.queries[0][\"messages\"][0][\"content\"])"
   ]
  },
  {
   "cell_type": "code",
   "execution_count": null,
   "id": "8b3b9246",
   "metadata": {},
   "outputs": [],
   "source": [
    "c.print(result[0])"
   ]
  },
  {
   "cell_type": "markdown",
   "id": "149f929c",
   "metadata": {},
   "source": [
    "# Chain"
   ]
  },
  {
   "cell_type": "code",
   "execution_count": null,
   "id": "0ec0ed27",
   "metadata": {},
   "outputs": [],
   "source": [
    "from typing import Literal\n",
    "\n",
    "from cuery import Chain, Task\n",
    "\n",
    "# Reuse example from above\n",
    "movies = Task(prompt=movie_prompt, response=MovieRecommendations)\n",
    "\n",
    "\n",
    "# Add PG rating\n",
    "class Rating(Response):\n",
    "    pg_category: Literal[\"G\", \"PG\", \"PG-13\", \"R\", \"NC-17\"]\n",
    "    \"\"\"PG rating of the movie.\"\"\"\n",
    "    pg_reason: str\n",
    "    \"\"\"Reason for the rating.\"\"\"\n",
    "\n",
    "\n",
    "rating_prompt = Prompt.from_string(\"What is the PG rating for {{ title }}?\")\n",
    "rating_task = Task(prompt=rating_prompt, response=Rating)\n",
    "\n",
    "# Create a chain of tasks\n",
    "chain = Chain(movie_task, rating_task)\n",
    "result = await chain(context, model=\"openai/gpt-3.5-turbo\", n_concurrent=20)\n",
    "result"
   ]
  },
  {
   "cell_type": "code",
   "execution_count": null,
   "id": "77efea6e",
   "metadata": {},
   "outputs": [],
   "source": [
    "print(result)"
   ]
  },
  {
   "cell_type": "markdown",
   "id": "e64e56e0",
   "metadata": {},
   "source": [
    "# Templates"
   ]
  },
  {
   "cell_type": "code",
   "execution_count": null,
   "id": "4920838d",
   "metadata": {},
   "outputs": [],
   "source": [
    "from cuery import templates\n",
    "from cuery.utils import render_template\n",
    "\n",
    "prompt = \"\"\"\n",
    "Analyze the following record and provide a summary in Markdown format.\n",
    "Make sure to include the name, age, city, and interests.\n",
    "\"\"\"\n",
    "\n",
    "context = {\n",
    "    \"record\": {\n",
    "        \"name\": \"John Doe\",\n",
    "        \"age\": 30,\n",
    "        \"city\": \"New York\",\n",
    "        \"interests\": [\"reading\", \"traveling\", \"coding\"],\n",
    "    }\n",
    "}\n"
   ]
  },
  {
   "cell_type": "code",
   "execution_count": null,
   "id": "c22c65b9",
   "metadata": {},
   "outputs": [],
   "source": [
    "for mode in [\"json\", \"text\", \"md\"]:\n",
    "    tpl = templates.prompt_with_template(prompt, template=f\"record_to_{mode}\")\n",
    "    print(render_template(tpl, **context), end=\"\\n\\n\")"
   ]
  }
 ],
 "metadata": {
  "kernelspec": {
   "display_name": "cuery (3.11.13)",
   "language": "python",
   "name": "python3"
  },
  "language_info": {
   "codemirror_mode": {
    "name": "ipython",
    "version": 3
   },
   "file_extension": ".py",
   "mimetype": "text/x-python",
   "name": "python",
   "nbconvert_exporter": "python",
   "pygments_lexer": "ipython3",
   "version": "3.11.13"
  }
 },
 "nbformat": 4,
 "nbformat_minor": 5
}
