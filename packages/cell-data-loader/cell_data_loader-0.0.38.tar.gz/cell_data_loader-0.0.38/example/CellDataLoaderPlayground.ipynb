{
 "cells": [
  {
   "cell_type": "code",
   "execution_count": null,
   "metadata": {
    "colab": {
     "base_uri": "https://localhost:8080/"
    },
    "id": "RcU4j0yvYQo5",
    "outputId": "bf38507e-b5ca-4b15-f07f-c399ae53a388"
   },
   "outputs": [],
   "source": [
    "!pip3 install --no-deps cell-data-loader\n",
    "!pip3 install tkinter"
   ]
  },
  {
   "cell_type": "code",
   "execution_count": null,
   "metadata": {
    "colab": {
     "base_uri": "https://localhost:8080/",
     "height": 385
    },
    "id": "mqEfUykaam6g",
    "outputId": "d4a384a1-27e3-43a9-a7fb-3f1956a0c799"
   },
   "outputs": [],
   "source": [
    "from cell_data_loader import CellDataloader\n",
    "import torch,os,glob\n",
    "from torchvision.models import resnet50 #, ResNet50_Weights\n",
    "import tkinter as tk\n",
    "import tkinter.filedialog"
   ]
  },
  {
   "cell_type": "code",
   "execution_count": 2,
   "metadata": {},
   "outputs": [
    {
     "name": "stdout",
     "output_type": "stream",
     "text": [
      "Select your working directory to save the model\n",
      "Select the directory with the train cell data\n",
      "Select the directory with the test cell data\n",
      "Working directory to save model: /Users/mleming/Desktop/CellDataLoader_playground\n",
      "Location of train data: /Users/mleming/Desktop/CellDataLoader_playground/dropbox_downloads/train\n",
      "Location of test data: /Users/mleming/Desktop/CellDataLoader_playground/dropbox_downloads/test\n"
     ]
    }
   ],
   "source": [
    "### CHANGE THESE LINES\n",
    "wd = '/Users/mleming/Desktop/CellDataLoader_playground'\n",
    "train_folder_name = os.path.join(wd,'dropbox_downloads','train')\n",
    "test_folder_name = os.path.join(wd,'dropbox_downloads','test')\n",
    "use_tkinter = True\n",
    "root = tk.Tk()\n",
    "if use_tkinter:\n",
    "    print(\"Select your working directory to save the model\")\n",
    "    wd = tk.filedialog.askdirectory(parent=root,title=\"Please select the directory to save the model\")\n",
    "    print(\"Select the directory with the train cell data\")\n",
    "    train_folder_name = tk.filedialog.askdirectory(title=\"Please select the directory with training cell data\")\n",
    "    print(\"Select the directory with the test cell data\")\n",
    "    test_folder_name = tk.filedialog.askdirectory(title=\"Please select the directory with test cell data\")\n",
    "print(f\"Working directory to save model: {wd}\")\n",
    "print(f\"Location of train data: {train_folder_name}\")\n",
    "print(f\"Location of test data: {test_folder_name}\")\n",
    "\n",
    "## These strings are used to match between the files with one label and those with another\n",
    "## In this case, if some folders have the word \"blurry\" and others have the word \"clear\",\n",
    "## they will have labels 1 and 2. Note that CellDataLoader pushes a warning if any given\n",
    "## path matches both strings (i.e., \"/this/path/is/Blurry/and/Clear/img.png\")\n",
    "\n",
    "label_regex_strings = [\"Blurry\",\"Clear\"]"
   ]
  },
  {
   "cell_type": "code",
   "execution_count": 3,
   "metadata": {},
   "outputs": [],
   "source": [
    "os.makedirs(wd, exist_ok = True)\n",
    "\n",
    "# Checkpoints\n",
    "model_folder = os.path.join(wd,'checkpoints')\n",
    "os.makedirs(model_folder,exist_ok=True)\n",
    "model_file = os.path.join(model_folder,'torch_model.pt')"
   ]
  },
  {
   "cell_type": "code",
   "execution_count": 4,
   "metadata": {
    "id": "LgDYXyklF9BX"
   },
   "outputs": [],
   "source": [
    "def train_torch(model,\n",
    "                dataloader,\n",
    "                model_file = None,\n",
    "                epochs = 50,\n",
    "                gpu_ids = None,\n",
    "                verbose = True,\n",
    "                loss_break=None):\n",
    "\n",
    "    if gpu_ids is not None:\n",
    "        model.to(gpu_ids)\n",
    "\n",
    "    # Train\n",
    "\n",
    "    model.train()\n",
    "    loss_fn = torch.nn.CrossEntropyLoss()\n",
    "    #loss_fn = torch.nn.NLLLoss()\n",
    "    optimizer = torch.optim.Adam(model.parameters(), lr=1e-5)\n",
    "    if verbose: print(\"Beginning training\")\n",
    "    for epoch in range(epochs):\n",
    "        loss_total,count = 0,0\n",
    "        for image,y in dataloader:\n",
    "            y_pred = model(image)\n",
    "            y = torch.nn.functional.pad(y,(0,y_pred.size()[1]-y.size()[1]))\n",
    "            assert(all(y.sum(1) == 1))\n",
    "            loss = loss_fn(y_pred, y)#torch.argmax(y,1))\n",
    "            loss_total += float(loss)\n",
    "            count += 1\n",
    "            optimizer.zero_grad()\n",
    "            loss.backward()\n",
    "            optimizer.step()\n",
    "        if model_file is not None:\n",
    "            torch.save(model,model_file)\n",
    "        if verbose:\n",
    "            print(\n",
    "                \"Epoch {epoch:d}/{epochs:d}: loss: {loss:.5f}\".format(\n",
    "                    epoch=epoch,epochs=epochs,loss=loss_total/count)\n",
    "            )\n",
    "        if loss_break is not None and loss_total/count < loss_break:\n",
    "            if verbose: print(\"Loss break - exiting\")\n",
    "            return\n",
    "\n",
    "def test_torch(model,\n",
    "               dataloader,\n",
    "               gpu_ids = None,\n",
    "               verbose=True):\n",
    "    \n",
    "    model.eval()\n",
    "    total_images = 0\n",
    "    sum_accuracy = 0\n",
    "    for image,y in dataloader:\n",
    "        total_images += image.size()[0]\n",
    "        y_pred = model(image)\n",
    "        y_pred = y_pred[:,:y.size()[1]]\n",
    "        sum_accuracy += torch.sum(torch.argmax(y_pred,axis=1) == \\\n",
    "            torch.argmax(y,axis=1))\n",
    "    accuracy = sum_accuracy / total_images\n",
    "    if verbose: print(\"Final accuracy: %.4f\" % accuracy)\n"
   ]
  },
  {
   "cell_type": "code",
   "execution_count": 8,
   "metadata": {
    "colab": {
     "base_uri": "https://localhost:8080/",
     "height": 35
    },
    "id": "YxPqQuvcZMYJ",
    "outputId": "cb3a8158-b807-48cb-a68f-bed0fb022ebc"
   },
   "outputs": [
    {
     "name": "stdout",
     "output_type": "stream",
     "text": [
      "Loading /Users/mleming/Desktop/CellDataLoader_playground/checkpoints/torch_model.pt\n",
      "Preparing Train Data\n",
      "Detected label format: Regex\n",
      "427 image paths read\n",
      "3 Channels Detected\n",
      "Preparing Test Data\n",
      "Detected label format: Regex\n",
      "50 image paths read\n",
      "3 Channels Detected\n"
     ]
    }
   ],
   "source": [
    "# Get a pretrained model from torchvision\n",
    "if os.path.isfile(model_file):\n",
    "    print(\"Loading %s\" % model_file)\n",
    "    model = torch.load(model_file)\n",
    "else:\n",
    "    # Download a pretrained resnet and edit its outputs to be compatible with cross entropy loss\n",
    "    model = resnet50(pretrained=True)\n",
    "    #model.fc = torch.nn.Sequential(\n",
    "    #    torch.nn.Dropout(0.5),\n",
    "    #    torch.nn.Linear(2048, 1000)\n",
    "    #)\n",
    "\n",
    "print(\"Preparing Train Data\")\n",
    "dataloader_train = CellDataloader(train_folder_name,label_regex=label_regex_strings,\n",
    "    dtype = \"torch\",\n",
    "    verbose = True,\n",
    "    batch_size = 64,\n",
    "    gpu_ids = None,\n",
    "    n_channels=3)\n",
    "\n",
    "print(\"Preparing Test Data\")\n",
    "dataloader_test = CellDataloader(test_folder_name,label_regex=label_regex_strings,\n",
    "    dtype = \"torch\",\n",
    "    verbose = True,\n",
    "    batch_size = 64,\n",
    "    gpu_ids = None,\n",
    "    n_channels=3)"
   ]
  },
  {
   "cell_type": "code",
   "execution_count": null,
   "metadata": {},
   "outputs": [],
   "source": [
    "train_torch(model,dataloader_train,model_file)"
   ]
  },
  {
   "cell_type": "code",
   "execution_count": null,
   "metadata": {},
   "outputs": [],
   "source": [
    "test_torch(model,dataloader_test)"
   ]
  }
 ],
 "metadata": {
  "colab": {
   "provenance": []
  },
  "kernelspec": {
   "display_name": "Python 3 (ipykernel)",
   "language": "python",
   "name": "python3"
  },
  "language_info": {
   "codemirror_mode": {
    "name": "ipython",
    "version": 3
   },
   "file_extension": ".py",
   "mimetype": "text/x-python",
   "name": "python",
   "nbconvert_exporter": "python",
   "pygments_lexer": "ipython3",
   "version": "3.8.10"
  }
 },
 "nbformat": 4,
 "nbformat_minor": 4
}
