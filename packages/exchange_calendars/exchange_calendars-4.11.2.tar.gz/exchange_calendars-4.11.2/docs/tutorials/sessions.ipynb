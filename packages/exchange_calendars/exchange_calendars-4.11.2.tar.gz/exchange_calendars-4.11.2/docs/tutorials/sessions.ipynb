{
 "cells": [
  {
   "cell_type": "markdown",
   "metadata": {},
   "source": [
    "# Sessions tutorial"
   ]
  },
  {
   "cell_type": "code",
   "execution_count": 1,
   "metadata": {},
   "outputs": [],
   "source": [
    "# setup\n",
    "from datetime import datetime\n",
    "\n",
    "import exchange_calendars as xcals\n",
    "import pandas as pd"
   ]
  },
  {
   "cell_type": "markdown",
   "metadata": {},
   "source": [
    "In `exchange_calendars` a 'session' is a timezone-naive timestamp that represents a date on which an exchange is open..."
   ]
  },
  {
   "cell_type": "code",
   "execution_count": 2,
   "metadata": {},
   "outputs": [
    {
     "data": {
      "text/plain": [
       "DatetimeIndex(['2022-01-03', '2022-01-04', '2022-01-05', '2022-01-06',\n",
       "               '2022-01-07', '2022-01-10', '2022-01-11', '2022-01-12',\n",
       "               '2022-01-13'],\n",
       "              dtype='datetime64[ns]', freq='C')"
      ]
     },
     "execution_count": 2,
     "metadata": {},
     "output_type": "execute_result"
    }
   ],
   "source": [
    "nys = xcals.get_calendar(\"XNYS\")  # New York Stock Exchange\n",
    "nys.sessions_in_range(\"2022-01-01\", \"2022-01-13\")"
   ]
  },
  {
   "cell_type": "markdown",
   "metadata": {},
   "source": [
    "The calendar stores in a `schedule` the open and close times for each session. If a session has a lunch break then the break-start and break-end times are also stored. All these times are defined in terms of UTC."
   ]
  },
  {
   "cell_type": "code",
   "execution_count": 3,
   "metadata": {},
   "outputs": [
    {
     "data": {
      "text/html": [
       "<div>\n",
       "<style scoped>\n",
       "    .dataframe tbody tr th:only-of-type {\n",
       "        vertical-align: middle;\n",
       "    }\n",
       "\n",
       "    .dataframe tbody tr th {\n",
       "        vertical-align: top;\n",
       "    }\n",
       "\n",
       "    .dataframe thead th {\n",
       "        text-align: right;\n",
       "    }\n",
       "</style>\n",
       "<table border=\"1\" class=\"dataframe\">\n",
       "  <thead>\n",
       "    <tr style=\"text-align: right;\">\n",
       "      <th></th>\n",
       "      <th>open</th>\n",
       "      <th>break_start</th>\n",
       "      <th>break_end</th>\n",
       "      <th>close</th>\n",
       "    </tr>\n",
       "  </thead>\n",
       "  <tbody>\n",
       "    <tr>\n",
       "      <th>2002-06-10</th>\n",
       "      <td>2002-06-10 02:00:00+00:00</td>\n",
       "      <td>2002-06-10 04:00:00+00:00</td>\n",
       "      <td>2002-06-10 05:00:00+00:00</td>\n",
       "      <td>2002-06-10 08:00:00+00:00</td>\n",
       "    </tr>\n",
       "    <tr>\n",
       "      <th>2002-06-11</th>\n",
       "      <td>2002-06-11 02:00:00+00:00</td>\n",
       "      <td>2002-06-11 04:00:00+00:00</td>\n",
       "      <td>2002-06-11 05:00:00+00:00</td>\n",
       "      <td>2002-06-11 08:00:00+00:00</td>\n",
       "    </tr>\n",
       "    <tr>\n",
       "      <th>2002-06-12</th>\n",
       "      <td>2002-06-12 02:00:00+00:00</td>\n",
       "      <td>2002-06-12 04:00:00+00:00</td>\n",
       "      <td>2002-06-12 05:00:00+00:00</td>\n",
       "      <td>2002-06-12 08:00:00+00:00</td>\n",
       "    </tr>\n",
       "    <tr>\n",
       "      <th>2002-06-13</th>\n",
       "      <td>2002-06-13 02:00:00+00:00</td>\n",
       "      <td>2002-06-13 04:00:00+00:00</td>\n",
       "      <td>2002-06-13 05:00:00+00:00</td>\n",
       "      <td>2002-06-13 08:00:00+00:00</td>\n",
       "    </tr>\n",
       "    <tr>\n",
       "      <th>2002-06-14</th>\n",
       "      <td>2002-06-14 02:00:00+00:00</td>\n",
       "      <td>2002-06-14 04:00:00+00:00</td>\n",
       "      <td>2002-06-14 05:00:00+00:00</td>\n",
       "      <td>2002-06-14 08:00:00+00:00</td>\n",
       "    </tr>\n",
       "    <tr>\n",
       "      <th>...</th>\n",
       "      <td>...</td>\n",
       "      <td>...</td>\n",
       "      <td>...</td>\n",
       "      <td>...</td>\n",
       "    </tr>\n",
       "    <tr>\n",
       "      <th>2023-06-05</th>\n",
       "      <td>2023-06-05 01:30:00+00:00</td>\n",
       "      <td>2023-06-05 04:00:00+00:00</td>\n",
       "      <td>2023-06-05 05:00:00+00:00</td>\n",
       "      <td>2023-06-05 08:00:00+00:00</td>\n",
       "    </tr>\n",
       "    <tr>\n",
       "      <th>2023-06-06</th>\n",
       "      <td>2023-06-06 01:30:00+00:00</td>\n",
       "      <td>2023-06-06 04:00:00+00:00</td>\n",
       "      <td>2023-06-06 05:00:00+00:00</td>\n",
       "      <td>2023-06-06 08:00:00+00:00</td>\n",
       "    </tr>\n",
       "    <tr>\n",
       "      <th>2023-06-07</th>\n",
       "      <td>2023-06-07 01:30:00+00:00</td>\n",
       "      <td>2023-06-07 04:00:00+00:00</td>\n",
       "      <td>2023-06-07 05:00:00+00:00</td>\n",
       "      <td>2023-06-07 08:00:00+00:00</td>\n",
       "    </tr>\n",
       "    <tr>\n",
       "      <th>2023-06-08</th>\n",
       "      <td>2023-06-08 01:30:00+00:00</td>\n",
       "      <td>2023-06-08 04:00:00+00:00</td>\n",
       "      <td>2023-06-08 05:00:00+00:00</td>\n",
       "      <td>2023-06-08 08:00:00+00:00</td>\n",
       "    </tr>\n",
       "    <tr>\n",
       "      <th>2023-06-09</th>\n",
       "      <td>2023-06-09 01:30:00+00:00</td>\n",
       "      <td>2023-06-09 04:00:00+00:00</td>\n",
       "      <td>2023-06-09 05:00:00+00:00</td>\n",
       "      <td>2023-06-09 08:00:00+00:00</td>\n",
       "    </tr>\n",
       "  </tbody>\n",
       "</table>\n",
       "<p>5184 rows × 4 columns</p>\n",
       "</div>"
      ],
      "text/plain": [
       "                                open               break_start  \\\n",
       "2002-06-10 2002-06-10 02:00:00+00:00 2002-06-10 04:00:00+00:00   \n",
       "2002-06-11 2002-06-11 02:00:00+00:00 2002-06-11 04:00:00+00:00   \n",
       "2002-06-12 2002-06-12 02:00:00+00:00 2002-06-12 04:00:00+00:00   \n",
       "2002-06-13 2002-06-13 02:00:00+00:00 2002-06-13 04:00:00+00:00   \n",
       "2002-06-14 2002-06-14 02:00:00+00:00 2002-06-14 04:00:00+00:00   \n",
       "...                              ...                       ...   \n",
       "2023-06-05 2023-06-05 01:30:00+00:00 2023-06-05 04:00:00+00:00   \n",
       "2023-06-06 2023-06-06 01:30:00+00:00 2023-06-06 04:00:00+00:00   \n",
       "2023-06-07 2023-06-07 01:30:00+00:00 2023-06-07 04:00:00+00:00   \n",
       "2023-06-08 2023-06-08 01:30:00+00:00 2023-06-08 04:00:00+00:00   \n",
       "2023-06-09 2023-06-09 01:30:00+00:00 2023-06-09 04:00:00+00:00   \n",
       "\n",
       "                           break_end                     close  \n",
       "2002-06-10 2002-06-10 05:00:00+00:00 2002-06-10 08:00:00+00:00  \n",
       "2002-06-11 2002-06-11 05:00:00+00:00 2002-06-11 08:00:00+00:00  \n",
       "2002-06-12 2002-06-12 05:00:00+00:00 2002-06-12 08:00:00+00:00  \n",
       "2002-06-13 2002-06-13 05:00:00+00:00 2002-06-13 08:00:00+00:00  \n",
       "2002-06-14 2002-06-14 05:00:00+00:00 2002-06-14 08:00:00+00:00  \n",
       "...                              ...                       ...  \n",
       "2023-06-05 2023-06-05 05:00:00+00:00 2023-06-05 08:00:00+00:00  \n",
       "2023-06-06 2023-06-06 05:00:00+00:00 2023-06-06 08:00:00+00:00  \n",
       "2023-06-07 2023-06-07 05:00:00+00:00 2023-06-07 08:00:00+00:00  \n",
       "2023-06-08 2023-06-08 05:00:00+00:00 2023-06-08 08:00:00+00:00  \n",
       "2023-06-09 2023-06-09 05:00:00+00:00 2023-06-09 08:00:00+00:00  \n",
       "\n",
       "[5184 rows x 4 columns]"
      ]
     },
     "execution_count": 3,
     "metadata": {},
     "output_type": "execute_result"
    }
   ],
   "source": [
    "hkg = xcals.get_calendar(\"XHKG\")  # Hong Kong Stock Exchange\n",
    "hkg.schedule"
   ]
  },
  {
   "cell_type": "markdown",
   "metadata": {},
   "source": [
    "Each session is associated with a set of contiguous trading minutes (or two sets if the sesson has a lunch break)."
   ]
  },
  {
   "cell_type": "code",
   "execution_count": 4,
   "metadata": {},
   "outputs": [
    {
     "name": "stdout",
     "output_type": "stream",
     "text": [
      "session=Timestamp('2023-06-09 00:00:00', freq='C')\n",
      "\n"
     ]
    },
    {
     "data": {
      "text/plain": [
       "DatetimeIndex(['2023-06-09 01:30:00+00:00', '2023-06-09 01:31:00+00:00',\n",
       "               '2023-06-09 01:32:00+00:00', '2023-06-09 01:33:00+00:00',\n",
       "               '2023-06-09 01:34:00+00:00', '2023-06-09 01:35:00+00:00',\n",
       "               '2023-06-09 01:36:00+00:00', '2023-06-09 01:37:00+00:00',\n",
       "               '2023-06-09 01:38:00+00:00', '2023-06-09 01:39:00+00:00',\n",
       "               ...\n",
       "               '2023-06-09 07:50:00+00:00', '2023-06-09 07:51:00+00:00',\n",
       "               '2023-06-09 07:52:00+00:00', '2023-06-09 07:53:00+00:00',\n",
       "               '2023-06-09 07:54:00+00:00', '2023-06-09 07:55:00+00:00',\n",
       "               '2023-06-09 07:56:00+00:00', '2023-06-09 07:57:00+00:00',\n",
       "               '2023-06-09 07:58:00+00:00', '2023-06-09 07:59:00+00:00'],\n",
       "              dtype='datetime64[ns, UTC]', length=330, freq=None)"
      ]
     },
     "execution_count": 4,
     "metadata": {},
     "output_type": "execute_result"
    }
   ],
   "source": [
    "session = hkg.schedule.index[-1]\n",
    "print(f\"{session=}\\n\")  # for reference\n",
    "\n",
    "hkg.session_minutes(session)"
   ]
  },
  {
   "cell_type": "markdown",
   "metadata": {},
   "source": [
    "See the [minutes.ipynb](./minutes.ipynb) tutorial for an explanation of how trading minutes for a session are evaluated according to the \"side\" option."
   ]
  },
  {
   "cell_type": "markdown",
   "metadata": {},
   "source": [
    "A timestamp representing a 'session' takes the date in which **most of the session falls** (based on UTC open/close times). Almost all calendars' have sessions that fall fully within a single date. The schedule above shows this is the case for XHKG.\n",
    "\n",
    "A few calendars have sessions that fall over two dates..."
   ]
  },
  {
   "cell_type": "code",
   "execution_count": 5,
   "metadata": {},
   "outputs": [
    {
     "data": {
      "text/html": [
       "<div>\n",
       "<style scoped>\n",
       "    .dataframe tbody tr th:only-of-type {\n",
       "        vertical-align: middle;\n",
       "    }\n",
       "\n",
       "    .dataframe tbody tr th {\n",
       "        vertical-align: top;\n",
       "    }\n",
       "\n",
       "    .dataframe thead th {\n",
       "        text-align: right;\n",
       "    }\n",
       "</style>\n",
       "<table border=\"1\" class=\"dataframe\">\n",
       "  <thead>\n",
       "    <tr style=\"text-align: right;\">\n",
       "      <th></th>\n",
       "      <th>open</th>\n",
       "      <th>break_start</th>\n",
       "      <th>break_end</th>\n",
       "      <th>close</th>\n",
       "    </tr>\n",
       "  </thead>\n",
       "  <tbody>\n",
       "    <tr>\n",
       "      <th>2002-06-10</th>\n",
       "      <td>2002-06-09 22:00:00+00:00</td>\n",
       "      <td>NaT</td>\n",
       "      <td>NaT</td>\n",
       "      <td>2002-06-10 22:00:00+00:00</td>\n",
       "    </tr>\n",
       "    <tr>\n",
       "      <th>2002-06-11</th>\n",
       "      <td>2002-06-10 22:00:00+00:00</td>\n",
       "      <td>NaT</td>\n",
       "      <td>NaT</td>\n",
       "      <td>2002-06-11 22:00:00+00:00</td>\n",
       "    </tr>\n",
       "    <tr>\n",
       "      <th>2002-06-12</th>\n",
       "      <td>2002-06-11 22:00:00+00:00</td>\n",
       "      <td>NaT</td>\n",
       "      <td>NaT</td>\n",
       "      <td>2002-06-12 22:00:00+00:00</td>\n",
       "    </tr>\n",
       "    <tr>\n",
       "      <th>2002-06-13</th>\n",
       "      <td>2002-06-12 22:00:00+00:00</td>\n",
       "      <td>NaT</td>\n",
       "      <td>NaT</td>\n",
       "      <td>2002-06-13 22:00:00+00:00</td>\n",
       "    </tr>\n",
       "    <tr>\n",
       "      <th>2002-06-14</th>\n",
       "      <td>2002-06-13 22:00:00+00:00</td>\n",
       "      <td>NaT</td>\n",
       "      <td>NaT</td>\n",
       "      <td>2002-06-14 22:00:00+00:00</td>\n",
       "    </tr>\n",
       "    <tr>\n",
       "      <th>...</th>\n",
       "      <td>...</td>\n",
       "      <td>...</td>\n",
       "      <td>...</td>\n",
       "      <td>...</td>\n",
       "    </tr>\n",
       "    <tr>\n",
       "      <th>2023-06-05</th>\n",
       "      <td>2023-06-04 22:00:00+00:00</td>\n",
       "      <td>NaT</td>\n",
       "      <td>NaT</td>\n",
       "      <td>2023-06-05 22:00:00+00:00</td>\n",
       "    </tr>\n",
       "    <tr>\n",
       "      <th>2023-06-06</th>\n",
       "      <td>2023-06-05 22:00:00+00:00</td>\n",
       "      <td>NaT</td>\n",
       "      <td>NaT</td>\n",
       "      <td>2023-06-06 22:00:00+00:00</td>\n",
       "    </tr>\n",
       "    <tr>\n",
       "      <th>2023-06-07</th>\n",
       "      <td>2023-06-06 22:00:00+00:00</td>\n",
       "      <td>NaT</td>\n",
       "      <td>NaT</td>\n",
       "      <td>2023-06-07 22:00:00+00:00</td>\n",
       "    </tr>\n",
       "    <tr>\n",
       "      <th>2023-06-08</th>\n",
       "      <td>2023-06-07 22:00:00+00:00</td>\n",
       "      <td>NaT</td>\n",
       "      <td>NaT</td>\n",
       "      <td>2023-06-08 22:00:00+00:00</td>\n",
       "    </tr>\n",
       "    <tr>\n",
       "      <th>2023-06-09</th>\n",
       "      <td>2023-06-08 22:00:00+00:00</td>\n",
       "      <td>NaT</td>\n",
       "      <td>NaT</td>\n",
       "      <td>2023-06-09 22:00:00+00:00</td>\n",
       "    </tr>\n",
       "  </tbody>\n",
       "</table>\n",
       "<p>5417 rows × 4 columns</p>\n",
       "</div>"
      ],
      "text/plain": [
       "                                open break_start break_end  \\\n",
       "2002-06-10 2002-06-09 22:00:00+00:00         NaT       NaT   \n",
       "2002-06-11 2002-06-10 22:00:00+00:00         NaT       NaT   \n",
       "2002-06-12 2002-06-11 22:00:00+00:00         NaT       NaT   \n",
       "2002-06-13 2002-06-12 22:00:00+00:00         NaT       NaT   \n",
       "2002-06-14 2002-06-13 22:00:00+00:00         NaT       NaT   \n",
       "...                              ...         ...       ...   \n",
       "2023-06-05 2023-06-04 22:00:00+00:00         NaT       NaT   \n",
       "2023-06-06 2023-06-05 22:00:00+00:00         NaT       NaT   \n",
       "2023-06-07 2023-06-06 22:00:00+00:00         NaT       NaT   \n",
       "2023-06-08 2023-06-07 22:00:00+00:00         NaT       NaT   \n",
       "2023-06-09 2023-06-08 22:00:00+00:00         NaT       NaT   \n",
       "\n",
       "                               close  \n",
       "2002-06-10 2002-06-10 22:00:00+00:00  \n",
       "2002-06-11 2002-06-11 22:00:00+00:00  \n",
       "2002-06-12 2002-06-12 22:00:00+00:00  \n",
       "2002-06-13 2002-06-13 22:00:00+00:00  \n",
       "2002-06-14 2002-06-14 22:00:00+00:00  \n",
       "...                              ...  \n",
       "2023-06-05 2023-06-05 22:00:00+00:00  \n",
       "2023-06-06 2023-06-06 22:00:00+00:00  \n",
       "2023-06-07 2023-06-07 22:00:00+00:00  \n",
       "2023-06-08 2023-06-08 22:00:00+00:00  \n",
       "2023-06-09 2023-06-09 22:00:00+00:00  \n",
       "\n",
       "[5417 rows x 4 columns]"
      ]
     },
     "execution_count": 5,
     "metadata": {},
     "output_type": "execute_result"
    }
   ],
   "source": [
    "cmes = xcals.get_calendar(\"CMES\")\n",
    "cmes.schedule"
   ]
  },
  {
   "cell_type": "markdown",
   "metadata": {},
   "source": [
    "Note how the sessions take their value as the date in which most of the session falls, NOT the date of the open."
   ]
  },
  {
   "cell_type": "markdown",
   "metadata": {},
   "source": [
    "### `session` parameter\n",
    "Methods that require a single session to be specified take a `session` parameter. Those that act on a range of sessions take `start` and `end` parameters.\n",
    "\n",
    "These parameters can take a `Date` or a `Session` type, defined as:\n",
    "\n",
    "```python\n",
    "Date = typing.Union[pd.Timestamp, str, int, float, datetime.datetime]\n",
    "Session = Date\n",
    "```\n",
    "In short, a `session` parameter can take any type that can be passed as a single argument to pd.Timestamp(). For example, the argument of `next_session` takes a `Session` type and any of the following inputs are valid:\n",
    "<!--TODO - following any renaming, change method in following cell to `next_session`-->"
   ]
  },
  {
   "cell_type": "code",
   "execution_count": 6,
   "metadata": {},
   "outputs": [],
   "source": [
    "inputs = [\n",
    "    \"2021-06-15\",\n",
    "    pd.Timestamp(\"2021-06-15\"),\n",
    "    datetime(2021, 6, 15),\n",
    "    1623715200000000000,\n",
    "]\n",
    "lon = xcals.get_calendar(\"XLON\")\n",
    "for input_ in inputs:\n",
    "    assert lon.next_session(input_) == pd.Timestamp('2021-06-16')"
   ]
  },
  {
   "cell_type": "markdown",
   "metadata": {},
   "source": [
    "The difference between `Date` and `Session` is that whilst an object passed to a parameter annotated `Date` can represent any date, an object passed to a parameter annotated `Session` must represent an actual calendar session.\n",
    "\n",
    "For example, the arguments of `sessions_in_range` take a `Date` type, such that the following is valid even though it can be seen that neither of the values passed represent sessions."
   ]
  },
  {
   "cell_type": "code",
   "execution_count": 7,
   "metadata": {},
   "outputs": [
    {
     "data": {
      "text/plain": [
       "DatetimeIndex(['2022-01-04', '2022-01-05', '2022-01-06', '2022-01-07'], dtype='datetime64[ns]', freq='C')"
      ]
     },
     "execution_count": 7,
     "metadata": {},
     "output_type": "execute_result"
    }
   ],
   "source": [
    "lon.sessions_in_range(\"2022-01-01\", \"2022-01-09\")"
   ]
  },
  {
   "cell_type": "markdown",
   "metadata": {},
   "source": [
    "However, passing a date that is not a session to an argument that takes a `Session` will raise a `NotSessionError`..."
   ]
  },
  {
   "cell_type": "code",
   "execution_count": null,
   "metadata": {},
   "outputs": [],
   "source": [
    "lon.session_open(\"2022-01-09\")\n",
    "# run cell for full traceback"
   ]
  },
  {
   "cell_type": "markdown",
   "metadata": {},
   "source": [
    "```\n",
    "---------------------------------------------------------------------------\n",
    "NotSessionError                           Traceback (most recent call last)\n",
    "Input In [8], in <cell line: 1>()\n",
    "----> 1 lon.session_open(\"2022-01-09\")\n",
    "\n",
    "NotSessionError: Parameter `session` takes a session although received input that parsed to '2022-01-09 00:00:00' which is not a session of calendar 'XLON'.\n",
    "```"
   ]
  },
  {
   "cell_type": "markdown",
   "metadata": {},
   "source": [
    "To find out **which type a `session` parameter takes**, simply refer to the annotated types in the method signature:"
   ]
  },
  {
   "cell_type": "code",
   "execution_count": null,
   "metadata": {
    "tags": []
   },
   "outputs": [],
   "source": [
    "lon.session_open?\n",
    "# run cell for full method doc"
   ]
  },
  {
   "cell_type": "markdown",
   "metadata": {},
   "source": [
    "```\n",
    "Signature: lon.session_open(session: 'Session', _parse: 'bool' = True) -> 'pd.Timestamp'\n",
    "Docstring: Return open time for a given session.\n",
    "```"
   ]
  },
  {
   "cell_type": "markdown",
   "metadata": {},
   "source": [
    "#### Invalid `session` input"
   ]
  },
  {
   "cell_type": "markdown",
   "metadata": {},
   "source": [
    "##### **Time components** \n",
    "A `session` parameter cannot include a time component..."
   ]
  },
  {
   "cell_type": "code",
   "execution_count": null,
   "metadata": {},
   "outputs": [],
   "source": [
    "lon.session_open(\"2021-01-07 12:20\")"
   ]
  },
  {
   "cell_type": "markdown",
   "metadata": {},
   "source": [
    "```\n",
    "---------------------------------------------------------------------------\n",
    "ValueError                                Traceback (most recent call last)\n",
    "Input In [10], in <cell line: 1>()\n",
    "----> 1 lon.session_open(\"2021-01-07 12:20\")\n",
    "\n",
    "ValueError: Parameter `session` parsed as '2021-01-07 12:20:00' although a Date must have a time component of 00:00.\n",
    "```"
   ]
  },
  {
   "cell_type": "markdown",
   "metadata": {},
   "source": [
    "##### **Timezone**\n",
    "A `session` parameter cannot have a timezone..."
   ]
  },
  {
   "cell_type": "code",
   "execution_count": null,
   "metadata": {},
   "outputs": [],
   "source": [
    "session = pd.Timestamp(\"2021-01-07\", tz=\"UTC\")\n",
    "lon.session_close(session)"
   ]
  },
  {
   "cell_type": "markdown",
   "metadata": {},
   "source": [
    "```\n",
    "---------------------------------------------------------------------------\n",
    "ValueError                                Traceback (most recent call last)\n",
    "Input In [11], in <cell line: 2>()\n",
    "      1 session = pd.Timestamp(\"2021-01-07\", tz=\"UTC\")\n",
    "----> 2 lon.session_close(session)\n",
    "\n",
    "ValueError: Parameter `session` received with timezone defined as 'UTC' although a Date must be timezone naive.\n",
    "```"
   ]
  }
 ],
 "metadata": {
  "kernelspec": {
   "display_name": "Python38 xcals",
   "language": "python",
   "name": "py38_xcals"
  },
  "language_info": {
   "codemirror_mode": {
    "name": "ipython",
    "version": 3
   },
   "file_extension": ".py",
   "mimetype": "text/x-python",
   "name": "python",
   "nbconvert_exporter": "python",
   "pygments_lexer": "ipython3",
   "version": "3.8.10"
  },
  "widgets": {
   "application/vnd.jupyter.widget-state+json": {
    "state": {},
    "version_major": 2,
    "version_minor": 0
   }
  }
 },
 "nbformat": 4,
 "nbformat_minor": 4
}
