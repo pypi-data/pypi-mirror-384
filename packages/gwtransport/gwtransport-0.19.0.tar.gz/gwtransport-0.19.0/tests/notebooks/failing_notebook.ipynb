{
 "cells": [
  {
   "cell_type": "code",
   "execution_count": null,
   "metadata": {},
   "outputs": [],
   "source": [
    "# This cell should execute successfully\n",
    "x = 1 + 1\n",
    "print(f\"x = {x}\")  # noqa: T201"
   ]
  },
  {
   "cell_type": "code",
   "execution_count": null,
   "metadata": {},
   "outputs": [],
   "source": "# This cell will fail with a NameError\n# Type checker: suppress error for intentionally undefined variable\nundefined_variable = None  # type: ignore[assignment]\ndel undefined_variable  # Make it undefined\nprint(undefined_variable)  # noqa: T201, F821  # type: ignore[name-defined]"
  }
 ],
 "metadata": {
  "kernelspec": {
   "display_name": "Python 3",
   "language": "python",
   "name": "python3"
  },
  "language_info": {
   "name": "python",
   "version": "3.8.0"
  }
 },
 "nbformat": 4,
 "nbformat_minor": 4
}