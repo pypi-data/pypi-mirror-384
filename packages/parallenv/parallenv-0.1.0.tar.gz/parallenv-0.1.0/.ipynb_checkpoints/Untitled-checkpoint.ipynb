{
 "cells": [
  {
   "cell_type": "code",
   "execution_count": 102,
   "id": "ddbeebd9-4eb0-4df1-be94-46f5d9bca025",
   "metadata": {},
   "outputs": [],
   "source": [
    "import sys"
   ]
  },
  {
   "cell_type": "code",
   "execution_count": 105,
   "id": "0251d069-19b7-4d54-9eb9-528fbb8cc98c",
   "metadata": {},
   "outputs": [],
   "source": [
    "try:\n",
    "    b = awq * 100\n",
    "except Exception as e:\n",
    "    exc_info = sys.exc_info()"
   ]
  },
  {
   "cell_type": "code",
   "execution_count": 106,
   "id": "e18b1922-108a-4548-9f8a-8ebdcb5836f3",
   "metadata": {},
   "outputs": [
    {
     "data": {
      "text/plain": [
       "(NameError,\n",
       " NameError(\"name 'awq' is not defined\"),\n",
       " <traceback at 0x7b3256164d80>)"
      ]
     },
     "execution_count": 106,
     "metadata": {},
     "output_type": "execute_result"
    }
   ],
   "source": [
    "exc_info"
   ]
  },
  {
   "cell_type": "code",
   "execution_count": 109,
   "id": "d2f3ffdd-57c3-4cd4-a9a2-84e40749d799",
   "metadata": {},
   "outputs": [],
   "source": [
    "tb  = exc_info[-1]"
   ]
  },
  {
   "cell_type": "code",
   "execution_count": 111,
   "id": "10d69923-f76b-4e6c-b836-c31a40609e93",
   "metadata": {},
   "outputs": [],
   "source": [
    "import traceback"
   ]
  },
  {
   "cell_type": "code",
   "execution_count": 116,
   "id": "08f5de81-9b58-46b2-b3a6-2f9f54f240c0",
   "metadata": {},
   "outputs": [
    {
     "name": "stderr",
     "output_type": "stream",
     "text": [
      "  File \"/tmp/ipykernel_26967/4250631686.py\", line 2, in <module>\n",
      "    b = awq * 100\n"
     ]
    }
   ],
   "source": [
    "traceback.print_tb(tb)"
   ]
  },
  {
   "cell_type": "code",
   "execution_count": 117,
   "id": "e53d32cb-e7a4-4b1a-9ae0-dd8f2c1fd7f7",
   "metadata": {},
   "outputs": [
    {
     "data": {
      "text/plain": [
       "'NoneType: None\\n'"
      ]
     },
     "execution_count": 117,
     "metadata": {},
     "output_type": "execute_result"
    }
   ],
   "source": [
    "traceback.format_exc()"
   ]
  },
  {
   "cell_type": "code",
   "execution_count": 1,
   "id": "0f0512bf-d2c7-4138-9e22-6c3c42efc256",
   "metadata": {},
   "outputs": [
    {
     "name": "stderr",
     "output_type": "stream",
     "text": [
      "/home/adrian/projects/parallenv/.venv/lib/python3.10/site-packages/pygame/pkgdata.py:25: UserWarning: pkg_resources is deprecated as an API. See https://setuptools.pypa.io/en/latest/pkg_resources.html. The pkg_resources package is slated for removal as early as 2025-11-30. Refrain from using this package or pin to Setuptools<81.\n",
      "  from pkg_resources import resource_stream, resource_exists\n"
     ]
    }
   ],
   "source": [
    "\n",
    "import gymnasium as gym\n",
    "\n",
    "env = gym.make(\"LunarLander-v3\")\n"
   ]
  },
  {
   "cell_type": "code",
   "execution_count": 2,
   "id": "e0219a95-650b-44c4-a40a-149e652aa7aa",
   "metadata": {},
   "outputs": [],
   "source": [
    "ob, info =  env.reset()"
   ]
  },
  {
   "cell_type": "code",
   "execution_count": 10,
   "id": "4b5024a3-6713-429b-a4d7-f8f462819d24",
   "metadata": {},
   "outputs": [
    {
     "data": {
      "text/plain": [
       "Box([ -2.5        -2.5       -10.        -10.         -6.2831855 -10.\n",
       "  -0.         -0.       ], [ 2.5        2.5       10.        10.         6.2831855 10.\n",
       "  1.         1.       ], (8,), float32)"
      ]
     },
     "execution_count": 10,
     "metadata": {},
     "output_type": "execute_result"
    }
   ],
   "source": [
    "env.observation_space"
   ]
  },
  {
   "cell_type": "code",
   "execution_count": 9,
   "id": "e586fa7c-ea1d-4ef3-adc0-7453228c72e5",
   "metadata": {},
   "outputs": [
    {
     "data": {
      "text/plain": [
       "np.int64(0)"
      ]
     },
     "execution_count": 9,
     "metadata": {},
     "output_type": "execute_result"
    }
   ],
   "source": [
    "env.action_space.sample()"
   ]
  },
  {
   "cell_type": "code",
   "execution_count": 52,
   "id": "2a18526a-4f55-4ccd-9903-6485f403cc6c",
   "metadata": {},
   "outputs": [
    {
     "name": "stdout",
     "output_type": "stream",
     "text": [
      "finished!!\n"
     ]
    }
   ],
   "source": [
    "for _ in range(1000):\n",
    "    ac = env.action_space.sample()\n",
    "    ob, reward, truncated, terminated, info = env.step(ac)\n",
    "    if terminated:\n",
    "        print(\"finished!!\")\n",
    "        break"
   ]
  },
  {
   "cell_type": "code",
   "execution_count": 53,
   "id": "c4cb1841-c2d2-46ac-8eb5-3fac10d8310c",
   "metadata": {},
   "outputs": [
    {
     "data": {
      "text/plain": [
       "True"
      ]
     },
     "execution_count": 53,
     "metadata": {},
     "output_type": "execute_result"
    }
   ],
   "source": [
    "terminated"
   ]
  },
  {
   "cell_type": "code",
   "execution_count": 101,
   "id": "f7952eca-05d2-4408-9f40-b1f4fd8586aa",
   "metadata": {
    "scrolled": true
   },
   "outputs": [
    {
     "data": {
      "text/plain": [
       "(array([-0.38710436, -0.03292979, -0.00917741, -0.05025944, -0.12206075,\n",
       "        -0.01582365,  1.        ,  0.        ], dtype=float32),\n",
       " -100,\n",
       " True,\n",
       " True,\n",
       " {})"
      ]
     },
     "execution_count": 101,
     "metadata": {},
     "output_type": "execute_result"
    }
   ],
   "source": [
    "env.step(env.action_space.sample())"
   ]
  },
  {
   "cell_type": "code",
   "execution_count": 18,
   "id": "ebcf5bd9-dfc3-4f9e-88aa-9cec1420e511",
   "metadata": {},
   "outputs": [],
   "source": [
    "\n",
    "import functools\n",
    "\n",
    "import gymnasium as gym\n",
    "from gymnasium import spaces\n",
    "import numpy as np\n",
    "from parallenv import ParallEnv\n",
    "\n",
    "class IdEnv(gym.Env):\n",
    "    def __init__(self, id: int):\n",
    "        self.id = id\n",
    "        self.observation_space = spaces.Box(1, 1)\n",
    "        self.action_space = spaces.Box(1, 1)\n",
    "\n",
    "    def step(self, action):\n",
    "        return np.array((0,)), 0, False, False, {\"env_id\": self.id}\n",
    "\n",
    "    def reset(\n",
    "        self,\n",
    "        *,\n",
    "        seed = None,\n",
    "        options = None,\n",
    "    ):\n",
    "        \"\"\"Resets the environment.\"\"\"\n",
    "        super().reset(seed=seed, options=options)\n",
    "        return  np.array((0,)), {\"env_id\": self.id}\n",
    "\n",
    "\n",
    "env_fns = [functools.partial(IdEnv, i) for i in range(4)]"
   ]
  },
  {
   "cell_type": "code",
   "execution_count": 20,
   "id": "f0740af4-b517-43de-ab9d-d082180cca8e",
   "metadata": {},
   "outputs": [
    {
     "name": "stdout",
     "output_type": "stream",
     "text": [
      "reseted\n",
      "[1 2 3 0]\n"
     ]
    }
   ],
   "source": [
    "envs = ParallEnv(\n",
    "    env_fns=env_fns,\n",
    "    batch_size=4,\n",
    "    num_workers=4,\n",
    ")\n",
    "envs.reset()\n",
    "print(\"reseted\")\n",
    "ids, observation, reward, terminated, truncated, info = envs.gather()\n",
    "envs.close()\n",
    "print(info[\"env_id\"])\n",
    "\n"
   ]
  },
  {
   "cell_type": "code",
   "execution_count": 23,
   "id": "1b1807ae-d5eb-43ba-968f-4f8d7c8ee9a1",
   "metadata": {},
   "outputs": [
    {
     "data": {
      "text/plain": [
       "True"
      ]
     },
     "execution_count": 23,
     "metadata": {},
     "output_type": "execute_result"
    }
   ],
   "source": []
  },
  {
   "cell_type": "code",
   "execution_count": 21,
   "id": "f35a632a-1fd9-4670-aee6-3dff93cf95ff",
   "metadata": {},
   "outputs": [
    {
     "data": {
      "text/plain": [
       "array([1, 2, 3, 0], dtype=int32)"
      ]
     },
     "execution_count": 21,
     "metadata": {},
     "output_type": "execute_result"
    }
   ],
   "source": [
    "ids"
   ]
  },
  {
   "cell_type": "code",
   "execution_count": 3,
   "id": "0a395e5c-16ec-449e-8b64-3b3920d1daab",
   "metadata": {},
   "outputs": [],
   "source": [
    "sepenvs = [f() for f in env_fns]"
   ]
  },
  {
   "cell_type": "code",
   "execution_count": 4,
   "id": "674c2f98-5912-483f-a675-d45bfc4766fa",
   "metadata": {},
   "outputs": [],
   "source": [
    "from gymnasium.vector.utils import batch_space, concatenate, create_empty_array\n"
   ]
  },
  {
   "cell_type": "code",
   "execution_count": 5,
   "id": "a400a30d-6983-4058-8e6a-502c14f2dd42",
   "metadata": {},
   "outputs": [],
   "source": [
    "single_observation_space = sepenvs[0].observation_space"
   ]
  },
  {
   "cell_type": "code",
   "execution_count": 6,
   "id": "5228444d-e427-4b43-a55c-7d367b1ff375",
   "metadata": {},
   "outputs": [],
   "source": [
    "\n",
    "observations = create_empty_array(\n",
    "    single_observation_space, n=len(sepenvs), fn=np.zeros\n",
    ")"
   ]
  },
  {
   "cell_type": "code",
   "execution_count": 7,
   "id": "1198cac7-97b4-460a-8f5b-4c6918ad8b58",
   "metadata": {},
   "outputs": [
    {
     "data": {
      "text/plain": [
       "array([[0.],\n",
       "       [0.],\n",
       "       [0.],\n",
       "       [0.]], dtype=float32)"
      ]
     },
     "execution_count": 7,
     "metadata": {},
     "output_type": "execute_result"
    }
   ],
   "source": [
    "observations"
   ]
  },
  {
   "cell_type": "code",
   "execution_count": 9,
   "id": "97cb8879-c1f8-4073-8a9b-dfd2071e15c2",
   "metadata": {},
   "outputs": [
    {
     "data": {
      "text/plain": [
       "(0, {'env_id': 0})"
      ]
     },
     "execution_count": 9,
     "metadata": {},
     "output_type": "execute_result"
    }
   ],
   "source": [
    "sepenvs[0].reset()"
   ]
  },
  {
   "cell_type": "code",
   "execution_count": 10,
   "id": "872afc86-c1ef-424d-95df-8f1210473e7a",
   "metadata": {},
   "outputs": [],
   "source": [
    "observation_buffer, infos = zip(*[env.reset() for env in sepenvs])"
   ]
  },
  {
   "cell_type": "code",
   "execution_count": 11,
   "id": "ddc94789-2d22-43f1-a951-dc413a5ffe86",
   "metadata": {},
   "outputs": [
    {
     "data": {
      "text/plain": [
       "(0, 0, 0, 0)"
      ]
     },
     "execution_count": 11,
     "metadata": {},
     "output_type": "execute_result"
    }
   ],
   "source": [
    "observation_buffer"
   ]
  },
  {
   "cell_type": "code",
   "execution_count": 13,
   "id": "85df9031-3516-407f-92c4-a5d1ff8f7692",
   "metadata": {},
   "outputs": [
    {
     "data": {
      "text/plain": [
       "(0, 0, 0, 0)"
      ]
     },
     "execution_count": 13,
     "metadata": {},
     "output_type": "execute_result"
    }
   ],
   "source": [
    "observation_buffer"
   ]
  },
  {
   "cell_type": "code",
   "execution_count": 16,
   "id": "bbcbb9b2-f3d9-4ea1-92a4-e324ccef6bb1",
   "metadata": {},
   "outputs": [],
   "source": [
    "        observations = concatenate(\n",
    "            single_observation_space,\n",
    "            [np.array((v,)) for v in observation_buffer],\n",
    "            observations,\n",
    "        )\n"
   ]
  },
  {
   "cell_type": "code",
   "execution_count": 17,
   "id": "321ca91b-575a-4272-8162-b0a522093867",
   "metadata": {},
   "outputs": [
    {
     "data": {
      "text/plain": [
       "array([[0.],\n",
       "       [0.],\n",
       "       [0.],\n",
       "       [0.]], dtype=float32)"
      ]
     },
     "execution_count": 17,
     "metadata": {},
     "output_type": "execute_result"
    }
   ],
   "source": [
    "observations"
   ]
  },
  {
   "cell_type": "code",
   "execution_count": null,
   "id": "26f9e9bd-5926-4127-b45b-c34c25faedbb",
   "metadata": {},
   "outputs": [],
   "source": [
    "sepenvs"
   ]
  },
  {
   "cell_type": "code",
   "execution_count": 9,
   "id": "27719cc9-57ff-4f8c-b91d-2c40413f07d9",
   "metadata": {},
   "outputs": [
    {
     "name": "stdout",
     "output_type": "stream",
     "text": [
      "0\n",
      "1\n",
      "2\n",
      "3\n"
     ]
    }
   ],
   "source": [
    "for fn in fns:\n",
    "    fn() "
   ]
  },
  {
   "cell_type": "code",
   "execution_count": 1,
   "id": "0e45e7e9-5f4f-4a12-b6a1-0997564ec545",
   "metadata": {},
   "outputs": [],
   "source": [
    "import gymnasium as gym\n",
    "\n"
   ]
  },
  {
   "cell_type": "code",
   "execution_count": null,
   "id": "ec1b7b01-5403-40e3-acb4-2fd7bbf7f4af",
   "metadata": {},
   "outputs": [],
   "source": []
  },
  {
   "cell_type": "code",
   "execution_count": 5,
   "id": "b4859c17-3ad3-45ad-8714-667ab0d99cb1",
   "metadata": {},
   "outputs": [],
   "source": [
    "env = gym.make(\"LunarLander-v3\")"
   ]
  },
  {
   "cell_type": "code",
   "execution_count": 6,
   "id": "e32672b4-eb35-4bcd-aae0-771835b3570b",
   "metadata": {},
   "outputs": [
    {
     "data": {
      "text/plain": [
       "(array([ 0.00412579,  1.4051588 ,  0.41787753, -0.2560674 , -0.0047739 ,\n",
       "        -0.09465547,  0.        ,  0.        ], dtype=float32),\n",
       " {})"
      ]
     },
     "execution_count": 6,
     "metadata": {},
     "output_type": "execute_result"
    }
   ],
   "source": [
    "env.reset()"
   ]
  },
  {
   "cell_type": "code",
   "execution_count": 8,
   "id": "cbe8c041-aee0-4c1b-969d-7a06cc2c28e9",
   "metadata": {},
   "outputs": [],
   "source": [
    "from gymnasium.vector.utils import batch_space"
   ]
  },
  {
   "cell_type": "code",
   "execution_count": 9,
   "id": "e532a3bd-76a3-46c1-9236-f1842c714743",
   "metadata": {},
   "outputs": [
    {
     "data": {
      "text/plain": [
       "Box([ -2.5        -2.5       -10.        -10.         -6.2831855 -10.\n",
       "  -0.         -0.       ], [ 2.5        2.5       10.        10.         6.2831855 10.\n",
       "  1.         1.       ], (8,), float32)"
      ]
     },
     "execution_count": 9,
     "metadata": {},
     "output_type": "execute_result"
    }
   ],
   "source": [
    "env.observation_space"
   ]
  },
  {
   "cell_type": "code",
   "execution_count": 11,
   "id": "d8be931c-f825-430a-99d1-1f57538806ce",
   "metadata": {},
   "outputs": [
    {
     "data": {
      "text/plain": [
       "Box([[ -2.5        -2.5       -10.        -10.         -6.2831855 -10.\n",
       "   -0.         -0.       ]\n",
       " [ -2.5        -2.5       -10.        -10.         -6.2831855 -10.\n",
       "   -0.         -0.       ]\n",
       " [ -2.5        -2.5       -10.        -10.         -6.2831855 -10.\n",
       "   -0.         -0.       ]\n",
       " [ -2.5        -2.5       -10.        -10.         -6.2831855 -10.\n",
       "   -0.         -0.       ]\n",
       " [ -2.5        -2.5       -10.        -10.         -6.2831855 -10.\n",
       "   -0.         -0.       ]\n",
       " [ -2.5        -2.5       -10.        -10.         -6.2831855 -10.\n",
       "   -0.         -0.       ]\n",
       " [ -2.5        -2.5       -10.        -10.         -6.2831855 -10.\n",
       "   -0.         -0.       ]\n",
       " [ -2.5        -2.5       -10.        -10.         -6.2831855 -10.\n",
       "   -0.         -0.       ]\n",
       " [ -2.5        -2.5       -10.        -10.         -6.2831855 -10.\n",
       "   -0.         -0.       ]\n",
       " [ -2.5        -2.5       -10.        -10.         -6.2831855 -10.\n",
       "   -0.         -0.       ]], [[ 2.5        2.5       10.        10.         6.2831855 10.\n",
       "   1.         1.       ]\n",
       " [ 2.5        2.5       10.        10.         6.2831855 10.\n",
       "   1.         1.       ]\n",
       " [ 2.5        2.5       10.        10.         6.2831855 10.\n",
       "   1.         1.       ]\n",
       " [ 2.5        2.5       10.        10.         6.2831855 10.\n",
       "   1.         1.       ]\n",
       " [ 2.5        2.5       10.        10.         6.2831855 10.\n",
       "   1.         1.       ]\n",
       " [ 2.5        2.5       10.        10.         6.2831855 10.\n",
       "   1.         1.       ]\n",
       " [ 2.5        2.5       10.        10.         6.2831855 10.\n",
       "   1.         1.       ]\n",
       " [ 2.5        2.5       10.        10.         6.2831855 10.\n",
       "   1.         1.       ]\n",
       " [ 2.5        2.5       10.        10.         6.2831855 10.\n",
       "   1.         1.       ]\n",
       " [ 2.5        2.5       10.        10.         6.2831855 10.\n",
       "   1.         1.       ]], (10, 8), float32)"
      ]
     },
     "execution_count": 11,
     "metadata": {},
     "output_type": "execute_result"
    }
   ],
   "source": [
    "batch_space(env.observation_space, 10)"
   ]
  },
  {
   "cell_type": "code",
   "execution_count": 8,
   "id": "cd54f0a9-e586-471a-a215-1a6a0026eee4",
   "metadata": {},
   "outputs": [
    {
     "data": {
      "text/plain": [
       "(8,)"
      ]
     },
     "execution_count": 8,
     "metadata": {},
     "output_type": "execute_result"
    }
   ],
   "source": [
    "env.observation_space.shape"
   ]
  },
  {
   "cell_type": "code",
   "execution_count": 2,
   "id": "88378f45-7fc0-47d3-9128-90e3b21b341c",
   "metadata": {},
   "outputs": [],
   "source": [
    "import numpy as np"
   ]
  },
  {
   "cell_type": "code",
   "execution_count": 3,
   "id": "0920956b-9131-4499-84d5-e10824aa0420",
   "metadata": {},
   "outputs": [],
   "source": [
    "a = [1,2,3,4,5,56]"
   ]
  },
  {
   "cell_type": "code",
   "execution_count": 8,
   "id": "3d68d069-9d6d-4885-b9db-62c94be4fdd4",
   "metadata": {},
   "outputs": [],
   "source": [
    "mask = [True, False, True, True, False, False]"
   ]
  },
  {
   "cell_type": "code",
   "execution_count": 7,
   "id": "7add7346-22c2-4193-9829-e9f336e0d849",
   "metadata": {},
   "outputs": [],
   "source": [
    "ar = np.array(a)"
   ]
  },
  {
   "cell_type": "code",
   "execution_count": 10,
   "id": "f3e95aea-14bd-4c15-8b03-a1288138853a",
   "metadata": {},
   "outputs": [
    {
     "data": {
      "text/plain": [
       "array([1, 3, 4])"
      ]
     },
     "execution_count": 10,
     "metadata": {},
     "output_type": "execute_result"
    }
   ],
   "source": [
    "ar[mask]"
   ]
  },
  {
   "cell_type": "code",
   "execution_count": 6,
   "id": "73b344a9-24cf-492a-af84-f9159aa9f3bd",
   "metadata": {},
   "outputs": [
    {
     "data": {
      "text/plain": [
       "True"
      ]
     },
     "execution_count": 6,
     "metadata": {},
     "output_type": "execute_result"
    }
   ],
   "source": [
    "isinstance(np.array(a), np.ndarray)"
   ]
  },
  {
   "cell_type": "code",
   "execution_count": null,
   "id": "96daffee-bc51-46e1-8d01-067591952790",
   "metadata": {},
   "outputs": [],
   "source": []
  },
  {
   "cell_type": "code",
   "execution_count": 5,
   "id": "098447e2-367a-4526-b526-b4a5e9ab353c",
   "metadata": {},
   "outputs": [
    {
     "data": {
      "text/plain": [
       "False"
      ]
     },
     "execution_count": 5,
     "metadata": {},
     "output_type": "execute_result"
    }
   ],
   "source": [
    "\n",
    "isinstance(a, np.ndarray)"
   ]
  },
  {
   "cell_type": "code",
   "execution_count": 11,
   "id": "a361f34d-dc14-42a7-855f-b553610223ac",
   "metadata": {},
   "outputs": [],
   "source": [
    "from collections.abc import Callable, Sequence"
   ]
  },
  {
   "cell_type": "code",
   "execution_count": 14,
   "id": "7aa86542-36e2-47a0-ab6b-71680fbe7009",
   "metadata": {},
   "outputs": [
    {
     "data": {
      "text/plain": [
       "False"
      ]
     },
     "execution_count": 14,
     "metadata": {},
     "output_type": "execute_result"
    }
   ],
   "source": [
    "isinstance(ar, Sequence)"
   ]
  },
  {
   "cell_type": "code",
   "execution_count": 15,
   "id": "65b68bf4-7a94-447a-949f-407e484038f0",
   "metadata": {},
   "outputs": [
    {
     "name": "stderr",
     "output_type": "stream",
     "text": [
      "/home/adrian/projects/parallenv/.venv/lib/python3.10/site-packages/pygame/pkgdata.py:25: UserWarning: pkg_resources is deprecated as an API. See https://setuptools.pypa.io/en/latest/pkg_resources.html. The pkg_resources package is slated for removal as early as 2025-11-30. Refrain from using this package or pin to Setuptools<81.\n",
      "  from pkg_resources import resource_stream, resource_exists\n"
     ]
    }
   ],
   "source": [
    "from parallenv import ParallEnv\n",
    "import gymnasium as gym\n",
    "\n",
    "env_fns = [lambda: gym.make(\"LunarLander-v3\") for _ in range(32)]\n",
    "\n",
    "envs = ParallEnv(env_fns, 16, 4)"
   ]
  },
  {
   "cell_type": "code",
   "execution_count": 35,
   "id": "fdb116a3-9332-4014-92d5-ead639bb7fc3",
   "metadata": {},
   "outputs": [
    {
     "data": {
      "text/plain": [
       "array([0, 0, 0, 2, 0, 2, 1, 1, 3, 3, 0, 2, 0, 2, 1, 0])"
      ]
     },
     "execution_count": 35,
     "metadata": {},
     "output_type": "execute_result"
    }
   ],
   "source": [
    "envs.action_space.sample()"
   ]
  },
  {
   "cell_type": "code",
   "execution_count": 33,
   "id": "295af538-dc93-48fa-92da-7c0dd454be0e",
   "metadata": {},
   "outputs": [
    {
     "data": {
      "text/plain": [
       "np.int64(1)"
      ]
     },
     "execution_count": 33,
     "metadata": {},
     "output_type": "execute_result"
    }
   ],
   "source": [
    "envs.single_action_space.sample()"
   ]
  }
 ],
 "metadata": {
  "kernelspec": {
   "display_name": "Python 3 (ipykernel)",
   "language": "python",
   "name": "python3"
  },
  "language_info": {
   "codemirror_mode": {
    "name": "ipython",
    "version": 3
   },
   "file_extension": ".py",
   "mimetype": "text/x-python",
   "name": "python",
   "nbconvert_exporter": "python",
   "pygments_lexer": "ipython3",
   "version": "3.10.12"
  }
 },
 "nbformat": 4,
 "nbformat_minor": 5
}
