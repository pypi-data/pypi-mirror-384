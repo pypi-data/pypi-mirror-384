{
 "cells": [
  {
   "cell_type": "code",
   "execution_count": 1,
   "id": "3a7558f9-d96c-4540-9e21-ee74bb80cffc",
   "metadata": {},
   "outputs": [
    {
     "name": "stdout",
     "output_type": "stream",
     "text": [
      "Download Titanic Datasets...\n",
      "Download Succses\n",
      "Save Path: ./datasets/\n"
     ]
    }
   ],
   "source": [
    "import os\n",
    "import requests\n",
    "from typing import Optional, List\n",
    "from guam.datalibs import DataLoader\n",
    "from omegaconf import OmegaConf\n",
    "\n",
    "\n",
    "PATH = \"./datasets/\"\n",
    "DATA_PATH = os.path.join(PATH, \"titanic.csv\")\n",
    "url = \"https://raw.githubusercontent.com/datasciencedojo/datasets/master/titanic.csv\"\n",
    "\n",
    "try:\n",
    "    print(\"Download Titanic Datasets...\")\n",
    "    response = requests.get(url)\n",
    "    response.raise_for_status()  # 요청이 실패하면 에러를 발생시킴\n",
    "\n",
    "    with open(DATA_PATH, 'wb') as file:\n",
    "        file.write(response.content)\n",
    "\n",
    "    print(f\"Download Succses\")\n",
    "    print(f\"Save Path: {PATH}\")\n",
    "\n",
    "except requests.exceptions.RequestException as e:\n",
    "    print(f\"Error Occured!!: {e}\")\n",
    "\n",
    "\n"
   ]
  },
  {
   "cell_type": "code",
   "execution_count": 2,
   "id": "818ae234-e8f0-4a6e-8073-b62faf9fb235",
   "metadata": {},
   "outputs": [],
   "source": [
    "# Make Workflow config\n",
    "yaml_string = \"\"\"\n",
    "    data:\n",
    "      output_path: \"./final_processed_data\"\n",
    "\n",
    "    workflow:\n",
    "        - selection: [\"PassengerId\",\"Survived\",\"Pclass\",\"Name\",\"SibSp\",\"Parch\",\"Ticket\",\"Cabin\"]\n",
    "        - selection: [\"Age\", \"Fare\"]\n",
    "          ops:\n",
    "            - FillMissing:\n",
    "                fill_val: 0\n",
    "            - LogOp:\n",
    "        \n",
    "        - selection: [\"Age\"]\n",
    "          ops:\n",
    "            - Normalize:\n",
    "          output_name: [\"age_normalized\"]\n",
    "\n",
    "        - selection: [\"Sex\", \"Embarked\"]\n",
    "          ops:\n",
    "            - Categorify:\n",
    "                freq_threshold: 10\n",
    "    \"\"\"\n",
    "    \n",
    "# 2. Load the configuration using OmegaConf\n",
    "cfg = OmegaConf.create(yaml_string)"
   ]
  },
  {
   "cell_type": "code",
   "execution_count": 3,
   "id": "43568b6d-a719-4cc4-b0ea-3a6144ad1b3d",
   "metadata": {},
   "outputs": [
    {
     "data": {
      "text/plain": [
       "[{'selection': ['PassengerId', 'Survived', 'Pclass', 'Name', 'SibSp', 'Parch', 'Ticket', 'Cabin']}, {'selection': ['Age', 'Fare'], 'ops': [{'FillMissing': {'fill_val': 0}}, {'LogOp': None}]}, {'selection': ['Age'], 'ops': [{'Normalize': None}], 'output_name': ['age_normalized']}, {'selection': ['Sex', 'Embarked'], 'ops': [{'Categorify': {'freq_threshold': 10}}]}]"
      ]
     },
     "execution_count": 3,
     "metadata": {},
     "output_type": "execute_result"
    }
   ],
   "source": [
    "cfg.workflow"
   ]
  },
  {
   "cell_type": "code",
   "execution_count": 4,
   "id": "a6a15169-020b-4f04-bae7-7cd9ff37828e",
   "metadata": {},
   "outputs": [
    {
     "name": "stderr",
     "output_type": "stream",
     "text": [
      "/home/cvmi_jeyoung/anaconda3/envs/rapids-nvt/lib/python3.10/site-packages/dask_cudf/io/csv.py:79: FutureWarning: `chunksize` is deprecated and will be removed in the future. Please use `blocksize` instead.\n",
      "  warn(\n"
     ]
    }
   ],
   "source": [
    "TestDataLoader = DataLoader(DATA_PATH)\n",
    "workflow = TestDataLoader._build_workflow(cfg.workflow)"
   ]
  },
  {
   "cell_type": "code",
   "execution_count": 5,
   "id": "b10ceefa-edb4-4f7b-b001-feca5763c704",
   "metadata": {},
   "outputs": [
    {
     "name": "stdout",
     "output_type": "stream",
     "text": [
      "Fitting and transforming dataset with the workflow...\n"
     ]
    },
    {
     "ename": "TypeError",
     "evalue": "'ListConfig' object is not callable",
     "output_type": "error",
     "traceback": [
      "\u001b[0;31m---------------------------------------------------------------------------\u001b[0m",
      "\u001b[0;31mTypeError\u001b[0m                                 Traceback (most recent call last)",
      "Cell \u001b[0;32mIn[5], line 1\u001b[0m\n\u001b[0;32m----> 1\u001b[0m \u001b[43mTestDataLoader\u001b[49m\u001b[43m(\u001b[49m\u001b[43mcfg\u001b[49m\u001b[38;5;241;43m.\u001b[39;49m\u001b[43mworkflow\u001b[49m\u001b[43m)\u001b[49m\n",
      "File \u001b[0;32m~/anaconda3/envs/rapids-nvt/lib/python3.10/site-packages/guam/datalibs/base.py:133\u001b[0m, in \u001b[0;36mDataLoader.__call__\u001b[0;34m(self, workflow_config)\u001b[0m\n\u001b[1;32m    131\u001b[0m \u001b[38;5;28;01mif\u001b[39;00m workflow:\n\u001b[1;32m    132\u001b[0m     \u001b[38;5;28mprint\u001b[39m(\u001b[38;5;124m\"\u001b[39m\u001b[38;5;124mFitting and transforming dataset with the workflow...\u001b[39m\u001b[38;5;124m\"\u001b[39m)\n\u001b[0;32m--> 133\u001b[0m     \u001b[43mworkflow\u001b[49m\u001b[38;5;241;43m.\u001b[39;49m\u001b[43mfit\u001b[49m\u001b[43m(\u001b[49m\u001b[38;5;28;43mself\u001b[39;49m\u001b[38;5;241;43m.\u001b[39;49m\u001b[43mdataset\u001b[49m\u001b[43m)\u001b[49m\n\u001b[1;32m    134\u001b[0m     transformed_dataset \u001b[38;5;241m=\u001b[39m workflow\u001b[38;5;241m.\u001b[39mtransform(\u001b[38;5;28mself\u001b[39m\u001b[38;5;241m.\u001b[39mdataset)\n\u001b[1;32m    135\u001b[0m \u001b[38;5;28;01melse\u001b[39;00m:\n",
      "File \u001b[0;32m~/anaconda3/envs/rapids-nvt/lib/python3.10/site-packages/nvtabular/workflow/workflow.py:213\u001b[0m, in \u001b[0;36mWorkflow.fit\u001b[0;34m(self, dataset)\u001b[0m\n\u001b[1;32m    199\u001b[0m \u001b[38;5;28;01mdef\u001b[39;00m\u001b[38;5;250m \u001b[39m\u001b[38;5;21mfit\u001b[39m(\u001b[38;5;28mself\u001b[39m, dataset: Dataset) \u001b[38;5;241m-\u001b[39m\u001b[38;5;241m>\u001b[39m \u001b[38;5;124m\"\u001b[39m\u001b[38;5;124mWorkflow\u001b[39m\u001b[38;5;124m\"\u001b[39m:\n\u001b[1;32m    200\u001b[0m \u001b[38;5;250m    \u001b[39m\u001b[38;5;124;03m\"\"\"Calculates statistics for this workflow on the input dataset\u001b[39;00m\n\u001b[1;32m    201\u001b[0m \n\u001b[1;32m    202\u001b[0m \u001b[38;5;124;03m    Parameters\u001b[39;00m\n\u001b[0;32m   (...)\u001b[0m\n\u001b[1;32m    211\u001b[0m \u001b[38;5;124;03m        This Workflow with statistics calculated on it\u001b[39;00m\n\u001b[1;32m    212\u001b[0m \u001b[38;5;124;03m    \"\"\"\u001b[39;00m\n\u001b[0;32m--> 213\u001b[0m     \u001b[38;5;28;43mself\u001b[39;49m\u001b[38;5;241;43m.\u001b[39;49m\u001b[43mexecutor\u001b[49m\u001b[38;5;241;43m.\u001b[39;49m\u001b[43mfit\u001b[49m\u001b[43m(\u001b[49m\u001b[43mdataset\u001b[49m\u001b[43m,\u001b[49m\u001b[43m \u001b[49m\u001b[38;5;28;43mself\u001b[39;49m\u001b[38;5;241;43m.\u001b[39;49m\u001b[43mgraph\u001b[49m\u001b[43m)\u001b[49m\n\u001b[1;32m    214\u001b[0m     \u001b[38;5;28;01mreturn\u001b[39;00m \u001b[38;5;28mself\u001b[39m\n",
      "File \u001b[0;32m~/anaconda3/envs/rapids-nvt/lib/python3.10/site-packages/merlin/dag/executors.py:442\u001b[0m, in \u001b[0;36mDaskExecutor.fit\u001b[0;34m(self, dataset, graph, refit)\u001b[0m\n\u001b[1;32m    439\u001b[0m     clear_stats(graph)\n\u001b[1;32m    441\u001b[0m \u001b[38;5;28;01mif\u001b[39;00m \u001b[38;5;129;01mnot\u001b[39;00m graph\u001b[38;5;241m.\u001b[39moutput_schema:\n\u001b[0;32m--> 442\u001b[0m     \u001b[43mgraph\u001b[49m\u001b[38;5;241;43m.\u001b[39;49m\u001b[43mconstruct_schema\u001b[49m\u001b[43m(\u001b[49m\u001b[43mdataset\u001b[49m\u001b[38;5;241;43m.\u001b[39;49m\u001b[43mschema\u001b[49m\u001b[43m)\u001b[49m\n\u001b[1;32m    444\u001b[0m \u001b[38;5;66;03m# Get a dictionary mapping all StatOperators we need to fit to a set of any dependent\u001b[39;00m\n\u001b[1;32m    445\u001b[0m \u001b[38;5;66;03m# StatOperators (having StatOperators that depend on the output of other StatOperators\u001b[39;00m\n\u001b[1;32m    446\u001b[0m \u001b[38;5;66;03m# means that will have multiple phases in the fit cycle here)\u001b[39;00m\n\u001b[1;32m    447\u001b[0m stat_op_nodes \u001b[38;5;241m=\u001b[39m {\n\u001b[1;32m    448\u001b[0m     node: Graph\u001b[38;5;241m.\u001b[39mget_nodes_by_op_type(\n\u001b[1;32m    449\u001b[0m         node\u001b[38;5;241m.\u001b[39mparents_with_dependencies,\n\u001b[0;32m   (...)\u001b[0m\n\u001b[1;32m    453\u001b[0m     \u001b[38;5;28;01mif\u001b[39;00m refit \u001b[38;5;129;01mor\u001b[39;00m \u001b[38;5;129;01mnot\u001b[39;00m node\u001b[38;5;241m.\u001b[39mop\u001b[38;5;241m.\u001b[39mfitted\n\u001b[1;32m    454\u001b[0m }\n",
      "File \u001b[0;32m~/anaconda3/envs/rapids-nvt/lib/python3.10/site-packages/merlin/dag/graph.py:112\u001b[0m, in \u001b[0;36mGraph.construct_schema\u001b[0;34m(self, root_schema, preserve_dtypes)\u001b[0m\n\u001b[1;32m     95\u001b[0m \u001b[38;5;250m\u001b[39m\u001b[38;5;124;03m\"\"\"\u001b[39;00m\n\u001b[1;32m     96\u001b[0m \u001b[38;5;124;03mGiven the schema of a dataset to transform, determine the output schema of the graph\u001b[39;00m\n\u001b[1;32m     97\u001b[0m \n\u001b[0;32m   (...)\u001b[0m\n\u001b[1;32m    108\u001b[0m \u001b[38;5;124;03m    This DAG after the schemas have been filled in\u001b[39;00m\n\u001b[1;32m    109\u001b[0m \u001b[38;5;124;03m\"\"\"\u001b[39;00m\n\u001b[1;32m    110\u001b[0m nodes \u001b[38;5;241m=\u001b[39m \u001b[38;5;28mlist\u001b[39m(postorder_iter_nodes(\u001b[38;5;28mself\u001b[39m\u001b[38;5;241m.\u001b[39moutput_node))\n\u001b[0;32m--> 112\u001b[0m \u001b[38;5;28;43mself\u001b[39;49m\u001b[38;5;241;43m.\u001b[39;49m\u001b[43m_compute_node_schemas\u001b[49m\u001b[43m(\u001b[49m\u001b[43mroot_schema\u001b[49m\u001b[43m,\u001b[49m\u001b[43m \u001b[49m\u001b[43mnodes\u001b[49m\u001b[43m,\u001b[49m\u001b[43m \u001b[49m\u001b[43mpreserve_dtypes\u001b[49m\u001b[43m)\u001b[49m\n\u001b[1;32m    113\u001b[0m \u001b[38;5;28mself\u001b[39m\u001b[38;5;241m.\u001b[39m_validate_node_schemas(root_schema, nodes, preserve_dtypes)\n\u001b[1;32m    115\u001b[0m \u001b[38;5;28;01mreturn\u001b[39;00m \u001b[38;5;28mself\u001b[39m\n",
      "File \u001b[0;32m~/anaconda3/envs/rapids-nvt/lib/python3.10/site-packages/merlin/dag/graph.py:119\u001b[0m, in \u001b[0;36mGraph._compute_node_schemas\u001b[0;34m(self, root_schema, nodes, preserve_dtypes)\u001b[0m\n\u001b[1;32m    117\u001b[0m \u001b[38;5;28;01mdef\u001b[39;00m\u001b[38;5;250m \u001b[39m\u001b[38;5;21m_compute_node_schemas\u001b[39m(\u001b[38;5;28mself\u001b[39m, root_schema, nodes, preserve_dtypes\u001b[38;5;241m=\u001b[39m\u001b[38;5;28;01mFalse\u001b[39;00m):\n\u001b[1;32m    118\u001b[0m     \u001b[38;5;28;01mfor\u001b[39;00m node \u001b[38;5;129;01min\u001b[39;00m nodes:\n\u001b[0;32m--> 119\u001b[0m         \u001b[43mnode\u001b[49m\u001b[38;5;241;43m.\u001b[39;49m\u001b[43mcompute_schemas\u001b[49m\u001b[43m(\u001b[49m\u001b[43mroot_schema\u001b[49m\u001b[43m,\u001b[49m\u001b[43m \u001b[49m\u001b[43mpreserve_dtypes\u001b[49m\u001b[38;5;241;43m=\u001b[39;49m\u001b[43mpreserve_dtypes\u001b[49m\u001b[43m)\u001b[49m\n",
      "File \u001b[0;32m~/anaconda3/envs/rapids-nvt/lib/python3.10/site-packages/merlin/dag/node.py:203\u001b[0m, in \u001b[0;36mNode.compute_schemas\u001b[0;34m(self, root_schema, preserve_dtypes)\u001b[0m\n\u001b[1;32m    198\u001b[0m \u001b[38;5;28mself\u001b[39m\u001b[38;5;241m.\u001b[39mselector \u001b[38;5;241m=\u001b[39m \u001b[38;5;28mself\u001b[39m\u001b[38;5;241m.\u001b[39mop\u001b[38;5;241m.\u001b[39mcompute_selector(\n\u001b[1;32m    199\u001b[0m     \u001b[38;5;28mself\u001b[39m\u001b[38;5;241m.\u001b[39minput_schema, \u001b[38;5;28mself\u001b[39m\u001b[38;5;241m.\u001b[39mselector, parents_selector, dependencies_selector\n\u001b[1;32m    200\u001b[0m )\n\u001b[1;32m    202\u001b[0m prev_output_schema \u001b[38;5;241m=\u001b[39m \u001b[38;5;28mself\u001b[39m\u001b[38;5;241m.\u001b[39moutput_schema \u001b[38;5;28;01mif\u001b[39;00m preserve_dtypes \u001b[38;5;28;01melse\u001b[39;00m \u001b[38;5;28;01mNone\u001b[39;00m\n\u001b[0;32m--> 203\u001b[0m \u001b[38;5;28mself\u001b[39m\u001b[38;5;241m.\u001b[39moutput_schema \u001b[38;5;241m=\u001b[39m \u001b[38;5;28;43mself\u001b[39;49m\u001b[38;5;241;43m.\u001b[39;49m\u001b[43mop\u001b[49m\u001b[38;5;241;43m.\u001b[39;49m\u001b[43mcompute_output_schema\u001b[49m\u001b[43m(\u001b[49m\n\u001b[1;32m    204\u001b[0m \u001b[43m    \u001b[49m\u001b[38;5;28;43mself\u001b[39;49m\u001b[38;5;241;43m.\u001b[39;49m\u001b[43minput_schema\u001b[49m\u001b[43m,\u001b[49m\u001b[43m \u001b[49m\u001b[38;5;28;43mself\u001b[39;49m\u001b[38;5;241;43m.\u001b[39;49m\u001b[43mselector\u001b[49m\u001b[43m,\u001b[49m\u001b[43m \u001b[49m\u001b[43mprev_output_schema\u001b[49m\n\u001b[1;32m    205\u001b[0m \u001b[43m\u001b[49m\u001b[43m)\u001b[49m\n",
      "File \u001b[0;32m~/anaconda3/envs/rapids-nvt/lib/python3.10/site-packages/merlin/dag/operator.py:168\u001b[0m, in \u001b[0;36mOperator.compute_output_schema\u001b[0;34m(self, input_schema, col_selector, prev_output_schema)\u001b[0m\n\u001b[1;32m    163\u001b[0m \u001b[38;5;28mself\u001b[39m\u001b[38;5;241m.\u001b[39m_validate_matching_cols(\n\u001b[1;32m    164\u001b[0m     input_schema, col_selector, \u001b[38;5;28mself\u001b[39m\u001b[38;5;241m.\u001b[39mcompute_output_schema\u001b[38;5;241m.\u001b[39m\u001b[38;5;18m__name__\u001b[39m\n\u001b[1;32m    165\u001b[0m )\n\u001b[1;32m    167\u001b[0m output_schema \u001b[38;5;241m=\u001b[39m Schema()\n\u001b[0;32m--> 168\u001b[0m \u001b[38;5;28;01mfor\u001b[39;00m output_col_name, input_col_names \u001b[38;5;129;01min\u001b[39;00m \u001b[38;5;28;43mself\u001b[39;49m\u001b[38;5;241;43m.\u001b[39;49m\u001b[43mcolumn_mapping\u001b[49m\u001b[43m(\u001b[49m\u001b[43mcol_selector\u001b[49m\u001b[43m)\u001b[49m\u001b[38;5;241m.\u001b[39mitems():\n\u001b[1;32m    169\u001b[0m     input_schema_fragment \u001b[38;5;241m=\u001b[39m input_schema[input_col_names]\n\u001b[1;32m    170\u001b[0m     col_schema \u001b[38;5;241m=\u001b[39m \u001b[38;5;28mself\u001b[39m\u001b[38;5;241m.\u001b[39mcompute_column_schema(output_col_name, input_schema_fragment)\n",
      "File \u001b[0;32m~/anaconda3/envs/rapids-nvt/lib/python3.10/site-packages/nvtabular/ops/rename.py:63\u001b[0m, in \u001b[0;36mRename.column_mapping\u001b[0;34m(self, col_selector)\u001b[0m\n\u001b[1;32m     61\u001b[0m \u001b[38;5;28;01mfor\u001b[39;00m col_name \u001b[38;5;129;01min\u001b[39;00m col_selector\u001b[38;5;241m.\u001b[39mnames:\n\u001b[1;32m     62\u001b[0m     \u001b[38;5;28;01mif\u001b[39;00m \u001b[38;5;28mself\u001b[39m\u001b[38;5;241m.\u001b[39mf:\n\u001b[0;32m---> 63\u001b[0m         new_col_name \u001b[38;5;241m=\u001b[39m \u001b[38;5;28;43mself\u001b[39;49m\u001b[38;5;241;43m.\u001b[39;49m\u001b[43mf\u001b[49m\u001b[43m(\u001b[49m\u001b[43mcol_name\u001b[49m\u001b[43m)\u001b[49m\n\u001b[1;32m     64\u001b[0m     \u001b[38;5;28;01melif\u001b[39;00m \u001b[38;5;28mself\u001b[39m\u001b[38;5;241m.\u001b[39mpostfix:\n\u001b[1;32m     65\u001b[0m         new_col_name \u001b[38;5;241m=\u001b[39m col_name \u001b[38;5;241m+\u001b[39m \u001b[38;5;28mself\u001b[39m\u001b[38;5;241m.\u001b[39mpostfix\n",
      "\u001b[0;31mTypeError\u001b[0m: 'ListConfig' object is not callable"
     ]
    }
   ],
   "source": [
    "TestDataLoader(cfg.workflow)"
   ]
  },
  {
   "cell_type": "code",
   "execution_count": null,
   "id": "d335cf45-79f5-46b4-92f0-ba89f408cb31",
   "metadata": {},
   "outputs": [],
   "source": []
  },
  {
   "cell_type": "code",
   "execution_count": null,
   "id": "d2548239-0df5-4aa2-9105-5d93d5c0bb72",
   "metadata": {},
   "outputs": [],
   "source": []
  }
 ],
 "metadata": {
  "kernelspec": {
   "display_name": "Python 3 (ipykernel)",
   "language": "python",
   "name": "python3"
  },
  "language_info": {
   "codemirror_mode": {
    "name": "ipython",
    "version": 3
   },
   "file_extension": ".py",
   "mimetype": "text/x-python",
   "name": "python",
   "nbconvert_exporter": "python",
   "pygments_lexer": "ipython3",
   "version": "3.10.14"
  }
 },
 "nbformat": 4,
 "nbformat_minor": 5
}
