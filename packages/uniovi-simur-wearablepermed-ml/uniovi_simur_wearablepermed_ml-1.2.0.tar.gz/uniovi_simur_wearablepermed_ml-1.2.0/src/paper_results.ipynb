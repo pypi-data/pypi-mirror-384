{
 "cells": [
  {
   "cell_type": "markdown",
   "id": "b4538480",
   "metadata": {},
   "source": [
    "# Resultados - Paper de clasificación de actividad física empleando dataset WPM"
   ]
  },
  {
   "cell_type": "code",
   "execution_count": 10,
   "id": "55dbb0a7",
   "metadata": {},
   "outputs": [],
   "source": [
    "# !where python\n",
    "# !pip show numpy\n",
    "\n",
    "import numpy as np"
   ]
  },
  {
   "cell_type": "markdown",
   "id": "376cdf49",
   "metadata": {},
   "source": [
    "# Cases dataset PI"
   ]
  },
  {
   "cell_type": "markdown",
   "id": "9fafd4ad",
   "metadata": {},
   "source": [
    "## BRF - 17 clases"
   ]
  },
  {
   "cell_type": "code",
   "execution_count": 2,
   "id": "20ad45f0",
   "metadata": {},
   "outputs": [
    {
     "name": "stdout",
     "output_type": "stream",
     "text": [
      "Media accuracies BRF 17 classes: 61.20\n",
      "STD accuracies BRF 17 classes: 0.29\n",
      "Media f1-score BRF 17 classes: 60.11\n",
      "STD f1-score BRF 17 classes: 0.32\n"
     ]
    }
   ],
   "source": [
    "ruta = 'D:\\\\DATA_PMP_File_Server\\\\output\\\\cases_dataset_PI\\\\case_PI_BRF_17_classes\\\\metrics_test.npz'\n",
    "BRF_metrics = np.load(ruta)\n",
    "BRF_metrics\n",
    "\n",
    "media_accuracies = BRF_metrics['acc_mean']\n",
    "std_accuracies = BRF_metrics['acc_std']\n",
    "print(f'Media accuracies BRF 17 classes: {media_accuracies:.2f}')\n",
    "print(f'STD accuracies BRF 17 classes: {std_accuracies:.2f}')\n",
    "\n",
    "media_f1_score = BRF_metrics['f1_mean']\n",
    "std_f1_score = BRF_metrics['f1_std']\n",
    "print(f'Media f1-score BRF 17 classes: {media_f1_score:.2f}')\n",
    "print(f'STD f1-score BRF 17 classes: {std_f1_score:.2f}')"
   ]
  },
  {
   "cell_type": "markdown",
   "id": "f45ecf1e",
   "metadata": {},
   "source": [
    "## BRF - superclases"
   ]
  },
  {
   "cell_type": "code",
   "execution_count": 3,
   "id": "4fcb628a",
   "metadata": {},
   "outputs": [
    {
     "name": "stdout",
     "output_type": "stream",
     "text": [
      "Media accuracies BRF superclasses: 91.89\n",
      "STD accuracies BRF superclasses: 0.35\n",
      "Media f1-score BRF superclasses: 91.87\n",
      "STD f1-score BRF superclasses: 0.35\n"
     ]
    }
   ],
   "source": [
    "ruta = 'D:\\\\DATA_PMP_File_Server\\\\output\\\\cases_dataset_PI\\\\case_PI_BRF_superclasses\\\\metrics_test.npz'\n",
    "BRF_metrics = np.load(ruta)\n",
    "BRF_metrics\n",
    "\n",
    "media_accuracies = BRF_metrics['acc_mean']\n",
    "std_accuracies = BRF_metrics['acc_std']\n",
    "print(f'Media accuracies BRF superclasses: {media_accuracies:.2f}')\n",
    "print(f'STD accuracies BRF superclasses: {std_accuracies:.2f}')\n",
    "\n",
    "media_f1_score = BRF_metrics['f1_mean']\n",
    "std_f1_score = BRF_metrics['f1_std']\n",
    "print(f'Media f1-score BRF superclasses: {media_f1_score:.2f}')\n",
    "print(f'STD f1-score BRF superclasses: {std_f1_score:.2f}')"
   ]
  },
  {
   "cell_type": "markdown",
   "id": "ad44d8ef",
   "metadata": {},
   "source": [
    "## XGBoost - 17 clases"
   ]
  },
  {
   "cell_type": "code",
   "execution_count": 4,
   "id": "fc6e5942",
   "metadata": {},
   "outputs": [
    {
     "name": "stdout",
     "output_type": "stream",
     "text": [
      "Media accuracies XGB 17 classes: 64.55\n",
      "STD accuracies XGB 17 classes: 0.76\n",
      "Media f1-score XGB 17 classes: 64.08\n",
      "STD f1-score XGB 17 classes: 0.78\n"
     ]
    }
   ],
   "source": [
    "ruta = 'D:\\\\DATA_PMP_File_Server\\\\output\\\\cases_dataset_PI\\\\case_PI_XGB_17_classes\\\\metrics_test.npz'\n",
    "XGB_metrics = np.load(ruta)\n",
    "XGB_metrics\n",
    "\n",
    "media_accuracies = XGB_metrics['acc_mean']\n",
    "std_accuracies = XGB_metrics['acc_std']\n",
    "print(f'Media accuracies XGB 17 classes: {media_accuracies:.2f}')\n",
    "print(f'STD accuracies XGB 17 classes: {std_accuracies:.2f}')\n",
    "\n",
    "media_f1_score = XGB_metrics['f1_mean']\n",
    "std_f1_score = XGB_metrics['f1_std']\n",
    "print(f'Media f1-score XGB 17 classes: {media_f1_score:.2f}')\n",
    "print(f'STD f1-score XGB 17 classes: {std_f1_score:.2f}')"
   ]
  },
  {
   "cell_type": "markdown",
   "id": "c4465366",
   "metadata": {},
   "source": [
    "## XGBoost - superclases"
   ]
  },
  {
   "cell_type": "code",
   "execution_count": 5,
   "id": "d4ceba1d",
   "metadata": {},
   "outputs": [
    {
     "name": "stdout",
     "output_type": "stream",
     "text": [
      "Media accuracies XGB superclasses: 93.87\n",
      "STD accuracies XGB superclasses: 0.47\n",
      "Media f1-score XGB superclasses: 93.91\n",
      "STD f1-score XGB superclasses: 0.46\n"
     ]
    }
   ],
   "source": [
    "ruta = 'D:\\\\DATA_PMP_File_Server\\\\output\\\\cases_dataset_PI\\\\case_PI_XGB_superclasses\\\\metrics_test.npz'\n",
    "XGB_metrics = np.load(ruta)\n",
    "XGB_metrics\n",
    "\n",
    "media_accuracies = XGB_metrics['acc_mean']\n",
    "std_accuracies = XGB_metrics['acc_std']\n",
    "print(f'Media accuracies XGB superclasses: {media_accuracies:.2f}')\n",
    "print(f'STD accuracies XGB superclasses: {std_accuracies:.2f}')\n",
    "\n",
    "media_f1_score = XGB_metrics['f1_mean']\n",
    "std_f1_score = XGB_metrics['f1_std']\n",
    "print(f'Media f1-score XGB superclasses: {media_f1_score:.2f}')\n",
    "print(f'STD f1-score XGB superclasses: {std_f1_score:.2f}')"
   ]
  },
  {
   "cell_type": "markdown",
   "id": "4a5d8562",
   "metadata": {},
   "source": [
    "## ESANN - 17 clases"
   ]
  },
  {
   "cell_type": "code",
   "execution_count": 6,
   "id": "d6c1ef92",
   "metadata": {},
   "outputs": [
    {
     "name": "stdout",
     "output_type": "stream",
     "text": [
      "Media accuracies ESANN 17 classes: 39.95\n",
      "STD accuracies ESANN 17 classes: 1.36\n",
      "Media f1-score ESANN 17 classes: 38.10\n",
      "STD f1-score ESANN 17 classes: 1.76\n"
     ]
    }
   ],
   "source": [
    "ruta = 'D:\\\\DATA_PMP_File_Server\\\\output\\\\cases_dataset_PI\\\\case_PI_ESANN_17_classes\\\\metrics_test.npz'\n",
    "ESANN_metrics = np.load(ruta)\n",
    "ESANN_metrics\n",
    "\n",
    "media_accuracies = ESANN_metrics['acc_mean']\n",
    "std_accuracies = ESANN_metrics['acc_std']\n",
    "print(f'Media accuracies ESANN 17 classes: {media_accuracies:.2f}')\n",
    "print(f'STD accuracies ESANN 17 classes: {std_accuracies:.2f}')\n",
    "\n",
    "media_f1_score = ESANN_metrics['f1_mean']\n",
    "std_f1_score = ESANN_metrics['f1_std']\n",
    "print(f'Media f1-score ESANN 17 classes: {media_f1_score:.2f}')\n",
    "print(f'STD f1-score ESANN 17 classes: {std_f1_score:.2f}')"
   ]
  },
  {
   "cell_type": "markdown",
   "id": "a3e23250",
   "metadata": {},
   "source": [
    "## ESANN - superclases"
   ]
  },
  {
   "cell_type": "code",
   "execution_count": 7,
   "id": "7961983d",
   "metadata": {},
   "outputs": [
    {
     "ename": "FileNotFoundError",
     "evalue": "[Errno 2] No such file or directory: 'D:\\\\DATA_PMP_File_Server\\\\output\\\\cases_dataset_PI\\\\case_PI_ESANN_superclasses\\\\metrics_test.npz'",
     "output_type": "error",
     "traceback": [
      "\u001b[31m---------------------------------------------------------------------------\u001b[39m",
      "\u001b[31mFileNotFoundError\u001b[39m                         Traceback (most recent call last)",
      "\u001b[36mCell\u001b[39m\u001b[36m \u001b[39m\u001b[32mIn[7]\u001b[39m\u001b[32m, line 2\u001b[39m\n\u001b[32m      1\u001b[39m ruta = \u001b[33m'\u001b[39m\u001b[33mD:\u001b[39m\u001b[38;5;130;01m\\\\\u001b[39;00m\u001b[33mDATA_PMP_File_Server\u001b[39m\u001b[38;5;130;01m\\\\\u001b[39;00m\u001b[33moutput\u001b[39m\u001b[38;5;130;01m\\\\\u001b[39;00m\u001b[33mcases_dataset_PI\u001b[39m\u001b[38;5;130;01m\\\\\u001b[39;00m\u001b[33mcase_PI_ESANN_superclasses\u001b[39m\u001b[38;5;130;01m\\\\\u001b[39;00m\u001b[33mmetrics_test.npz\u001b[39m\u001b[33m'\u001b[39m\n\u001b[32m----> \u001b[39m\u001b[32m2\u001b[39m ESANN_metrics = \u001b[43mnp\u001b[49m\u001b[43m.\u001b[49m\u001b[43mload\u001b[49m\u001b[43m(\u001b[49m\u001b[43mruta\u001b[49m\u001b[43m)\u001b[49m\n\u001b[32m      3\u001b[39m ESANN_metrics\n\u001b[32m      5\u001b[39m media_accuracies = ESANN_metrics[\u001b[33m'\u001b[39m\u001b[33macc_mean\u001b[39m\u001b[33m'\u001b[39m]\n",
      "\u001b[36mFile \u001b[39m\u001b[32md:\\git_septiembre_2025\\uniovi-simur-wearablepermed-ml\\.venv\\Lib\\site-packages\\numpy\\lib\\npyio.py:427\u001b[39m, in \u001b[36mload\u001b[39m\u001b[34m(file, mmap_mode, allow_pickle, fix_imports, encoding, max_header_size)\u001b[39m\n\u001b[32m    425\u001b[39m     own_fid = \u001b[38;5;28;01mFalse\u001b[39;00m\n\u001b[32m    426\u001b[39m \u001b[38;5;28;01melse\u001b[39;00m:\n\u001b[32m--> \u001b[39m\u001b[32m427\u001b[39m     fid = stack.enter_context(\u001b[38;5;28;43mopen\u001b[39;49m\u001b[43m(\u001b[49m\u001b[43mos_fspath\u001b[49m\u001b[43m(\u001b[49m\u001b[43mfile\u001b[49m\u001b[43m)\u001b[49m\u001b[43m,\u001b[49m\u001b[43m \u001b[49m\u001b[33;43m\"\u001b[39;49m\u001b[33;43mrb\u001b[39;49m\u001b[33;43m\"\u001b[39;49m\u001b[43m)\u001b[49m)\n\u001b[32m    428\u001b[39m     own_fid = \u001b[38;5;28;01mTrue\u001b[39;00m\n\u001b[32m    430\u001b[39m \u001b[38;5;66;03m# Code to distinguish from NumPy binary files and pickles.\u001b[39;00m\n",
      "\u001b[31mFileNotFoundError\u001b[39m: [Errno 2] No such file or directory: 'D:\\\\DATA_PMP_File_Server\\\\output\\\\cases_dataset_PI\\\\case_PI_ESANN_superclasses\\\\metrics_test.npz'"
     ]
    }
   ],
   "source": [
    "ruta = 'D:\\\\DATA_PMP_File_Server\\\\output\\\\cases_dataset_PI\\\\case_PI_ESANN_superclasses\\\\metrics_test.npz'\n",
    "ESANN_metrics = np.load(ruta)\n",
    "ESANN_metrics\n",
    "\n",
    "media_accuracies = ESANN_metrics['acc_mean']\n",
    "std_accuracies = ESANN_metrics['acc_std']\n",
    "print(f'Media accuracies ESANN 17 classes: {media_accuracies:.2f}')\n",
    "print(f'STD accuracies ESANN 17 classes: {std_accuracies:.2f}')\n",
    "\n",
    "media_f1_score = ESANN_metrics['f1_mean']\n",
    "std_f1_score = ESANN_metrics['f1_std']\n",
    "print(f'Media f1-score ESANN 17 classes: {media_f1_score:.2f}')\n",
    "print(f'STD f1-score ESANN 17 classes: {std_f1_score:.2f}')"
   ]
  },
  {
   "cell_type": "markdown",
   "id": "d8de01f9",
   "metadata": {},
   "source": [
    "## CAPTURE-24 - 17 clases"
   ]
  },
  {
   "cell_type": "code",
   "execution_count": null,
   "id": "41ea9208",
   "metadata": {},
   "outputs": [
    {
     "name": "stdout",
     "output_type": "stream",
     "text": [
      "Media accuracies CAPTURE24 17 classes: 42.45\n",
      "STD accuracies CAPTURE24 17 classes: 1.52\n",
      "Media f1-score CAPTURE24 17 classes: 39.41\n",
      "STD f1-score CAPTURE24 17 classes: 1.51\n"
     ]
    }
   ],
   "source": [
    "ruta = 'D:\\\\DATA_PMP_File_Server\\\\output\\\\cases_dataset_PI\\\\case_PI_CAPTURE24_17_classes\\\\metrics_test.npz'\n",
    "CAPTURE24_metrics = np.load(ruta)\n",
    "CAPTURE24_metrics\n",
    "\n",
    "media_accuracies = CAPTURE24_metrics['acc_mean']\n",
    "std_accuracies = CAPTURE24_metrics['acc_std']\n",
    "print(f'Media accuracies CAPTURE24 17 classes: {media_accuracies:.2f}')\n",
    "print(f'STD accuracies CAPTURE24 17 classes: {std_accuracies:.2f}')\n",
    "\n",
    "media_f1_score = CAPTURE24_metrics['f1_mean']\n",
    "std_f1_score = CAPTURE24_metrics['f1_std']\n",
    "print(f'Media f1-score CAPTURE24 17 classes: {media_f1_score:.2f}')\n",
    "print(f'STD f1-score CAPTURE24 17 classes: {std_f1_score:.2f}')"
   ]
  },
  {
   "cell_type": "markdown",
   "id": "aaae356d",
   "metadata": {},
   "source": [
    "## CAPTURE-24 - superclases"
   ]
  },
  {
   "cell_type": "code",
   "execution_count": null,
   "id": "68997c25",
   "metadata": {},
   "outputs": [
    {
     "name": "stdout",
     "output_type": "stream",
     "text": [
      "Media accuracies CAPTURE24 superclasses: 79.99\n",
      "STD accuracies CAPTURE24 superclasses: 3.28\n",
      "Media f1-score CAPTURE24 superclasses: 79.65\n",
      "STD f1-score CAPTURE24 superclasses: 3.48\n"
     ]
    }
   ],
   "source": [
    "ruta = 'D:\\\\DATA_PMP_File_Server\\\\output\\\\cases_dataset_PI\\\\case_PI_CAPTURE24_superclasses\\\\metrics_test.npz'\n",
    "CAPTURE24_metrics = np.load(ruta)\n",
    "CAPTURE24_metrics\n",
    "\n",
    "media_accuracies = CAPTURE24_metrics['acc_mean']\n",
    "std_accuracies = CAPTURE24_metrics['acc_std']\n",
    "print(f'Media accuracies CAPTURE24 superclasses: {media_accuracies:.2f}')\n",
    "print(f'STD accuracies CAPTURE24 superclasses: {std_accuracies:.2f}')\n",
    "\n",
    "media_f1_score = CAPTURE24_metrics['f1_mean']\n",
    "std_f1_score = CAPTURE24_metrics['f1_std']\n",
    "print(f'Media f1-score CAPTURE24 superclasses: {media_f1_score:.2f}')\n",
    "print(f'STD f1-score CAPTURE24 superclasses: {std_f1_score:.2f}')"
   ]
  },
  {
   "cell_type": "markdown",
   "id": "5f5a715b",
   "metadata": {},
   "source": [
    "# Cases dataset M"
   ]
  },
  {
   "cell_type": "markdown",
   "id": "90d53e99",
   "metadata": {},
   "source": [
    "## BRF - 17 clases"
   ]
  },
  {
   "cell_type": "code",
   "execution_count": null,
   "id": "2352832f",
   "metadata": {},
   "outputs": [
    {
     "name": "stdout",
     "output_type": "stream",
     "text": [
      "Media accuracies BRF 17 classes: 50.52\n",
      "STD accuracies BRF 17 classes: 0.25\n",
      "Media f1-score BRF 17 classes: 49.81\n",
      "STD f1-score BRF 17 classes: 0.27\n"
     ]
    }
   ],
   "source": [
    "ruta = 'D:\\\\DATA_PMP_File_Server\\\\output\\\\cases_dataset_M\\\\case_M_BRF_17_classes\\\\metrics_test.npz'\n",
    "BRF_metrics = np.load(ruta)\n",
    "BRF_metrics\n",
    "\n",
    "media_accuracies = BRF_metrics['acc_mean']\n",
    "std_accuracies = BRF_metrics['acc_std']\n",
    "print(f'Media accuracies BRF 17 classes: {media_accuracies:.2f}')\n",
    "print(f'STD accuracies BRF 17 classes: {std_accuracies:.2f}')\n",
    "\n",
    "media_f1_score = BRF_metrics['f1_mean']\n",
    "std_f1_score = BRF_metrics['f1_std']\n",
    "print(f'Media f1-score BRF 17 classes: {media_f1_score:.2f}')\n",
    "print(f'STD f1-score BRF 17 classes: {std_f1_score:.2f}')"
   ]
  },
  {
   "cell_type": "markdown",
   "id": "2eaf2b2d",
   "metadata": {},
   "source": [
    "## BRF - superclases"
   ]
  },
  {
   "cell_type": "code",
   "execution_count": null,
   "id": "07cc904c",
   "metadata": {},
   "outputs": [
    {
     "name": "stdout",
     "output_type": "stream",
     "text": [
      "Media accuracies BRF superclasses: 66.74\n",
      "STD accuracies BRF superclasses: 0.49\n",
      "Media f1-score BRF superclasses: 66.30\n",
      "STD f1-score BRF superclasses: 0.53\n"
     ]
    }
   ],
   "source": [
    "ruta = 'D:\\\\DATA_PMP_File_Server\\\\output\\\\cases_dataset_M\\\\case_M_BRF_superclasses\\\\metrics_test.npz'\n",
    "BRF_metrics = np.load(ruta)\n",
    "BRF_metrics\n",
    "\n",
    "media_accuracies = BRF_metrics['acc_mean']\n",
    "std_accuracies = BRF_metrics['acc_std']\n",
    "print(f'Media accuracies BRF superclasses: {media_accuracies:.2f}')\n",
    "print(f'STD accuracies BRF superclasses: {std_accuracies:.2f}')\n",
    "\n",
    "media_f1_score = BRF_metrics['f1_mean']\n",
    "std_f1_score = BRF_metrics['f1_std']\n",
    "print(f'Media f1-score BRF superclasses: {media_f1_score:.2f}')\n",
    "print(f'STD f1-score BRF superclasses: {std_f1_score:.2f}')"
   ]
  },
  {
   "cell_type": "markdown",
   "id": "35eeaa75",
   "metadata": {},
   "source": [
    "## XGBoost - 17 clases"
   ]
  },
  {
   "cell_type": "code",
   "execution_count": null,
   "id": "bfb86671",
   "metadata": {},
   "outputs": [
    {
     "name": "stdout",
     "output_type": "stream",
     "text": [
      "Media accuracies XGB 17 classes: 46.37\n",
      "STD accuracies XGB 17 classes: 0.77\n",
      "Media f1-score XGB 17 classes: 45.90\n",
      "STD f1-score XGB 17 classes: 0.82\n"
     ]
    }
   ],
   "source": [
    "ruta = 'D:\\\\DATA_PMP_File_Server\\\\output\\\\cases_dataset_M\\\\case_M_XGB_17_classes\\\\metrics_test.npz'\n",
    "XGB_metrics = np.load(ruta)\n",
    "XGB_metrics\n",
    "\n",
    "media_accuracies = XGB_metrics['acc_mean']\n",
    "std_accuracies = XGB_metrics['acc_std']\n",
    "print(f'Media accuracies XGB 17 classes: {media_accuracies:.2f}')\n",
    "print(f'STD accuracies XGB 17 classes: {std_accuracies:.2f}')\n",
    "\n",
    "media_f1_score = XGB_metrics['f1_mean']\n",
    "std_f1_score = XGB_metrics['f1_std']\n",
    "print(f'Media f1-score XGB 17 classes: {media_f1_score:.2f}')\n",
    "print(f'STD f1-score XGB 17 classes: {std_f1_score:.2f}')"
   ]
  },
  {
   "cell_type": "markdown",
   "id": "819a33e4",
   "metadata": {},
   "source": [
    "## XGBoost - superclases"
   ]
  },
  {
   "cell_type": "code",
   "execution_count": null,
   "id": "1ad163f2",
   "metadata": {},
   "outputs": [
    {
     "name": "stdout",
     "output_type": "stream",
     "text": [
      "Media accuracies XGB superclasses: 64.50\n",
      "STD accuracies XGB superclasses: 0.91\n",
      "Media f1-score XGB superclasses: 64.40\n",
      "STD f1-score XGB superclasses: 0.92\n"
     ]
    }
   ],
   "source": [
    "ruta = 'D:\\\\DATA_PMP_File_Server\\\\output\\\\cases_dataset_M\\\\case_M_XGB_superclasses\\\\metrics_test.npz'\n",
    "XGB_metrics = np.load(ruta)\n",
    "XGB_metrics\n",
    "\n",
    "media_accuracies = XGB_metrics['acc_mean']\n",
    "std_accuracies = XGB_metrics['acc_std']\n",
    "print(f'Media accuracies XGB superclasses: {media_accuracies:.2f}')\n",
    "print(f'STD accuracies XGB superclasses: {std_accuracies:.2f}')\n",
    "\n",
    "media_f1_score = XGB_metrics['f1_mean']\n",
    "std_f1_score = XGB_metrics['f1_std']\n",
    "print(f'Media f1-score XGB superclasses: {media_f1_score:.2f}')\n",
    "print(f'STD f1-score XGB superclasses: {std_f1_score:.2f}')"
   ]
  },
  {
   "cell_type": "markdown",
   "id": "aacc76a7",
   "metadata": {},
   "source": [
    "## ESANN - 17 clases"
   ]
  },
  {
   "cell_type": "code",
   "execution_count": null,
   "id": "f85bc26b",
   "metadata": {},
   "outputs": [],
   "source": [
    "ruta = 'D:\\\\DATA_PMP_File_Server\\\\output\\\\cases_dataset_M\\\\case_M_ESANN_17_classes\\\\'\n",
    "ESANN_metrics = np.load(ruta)\n",
    "ESANN_metrics\n",
    "\n",
    "media_accuracies = ESANN_metrics['acc_mean']\n",
    "std_accuracies = ESANN_metrics['acc_std']\n",
    "print(f'Media accuracies ESANN 17 classes: {media_accuracies:.2f}')\n",
    "print(f'STD accuracies ESANN 17 classes: {std_accuracies:.2f}')\n",
    "\n",
    "media_f1_score = ESANN_metrics['f1_mean']\n",
    "std_f1_score = ESANN_metrics['f1_std']\n",
    "print(f'Media f1-score ESANN 17 classes: {media_f1_score:.2f}')\n",
    "print(f'STD f1-score ESANN 17 classes: {std_f1_score:.2f}')"
   ]
  },
  {
   "cell_type": "markdown",
   "id": "982380a8",
   "metadata": {},
   "source": [
    "## ESANN - superclases"
   ]
  },
  {
   "cell_type": "code",
   "execution_count": null,
   "id": "18849866",
   "metadata": {},
   "outputs": [],
   "source": [
    "ruta = 'D:\\\\DATA_PMP_File_Server\\\\output\\\\cases_dataset_M\\\\case_M_ESANN_superclasses\\\\'\n",
    "ESANN_metrics = np.load(ruta)\n",
    "ESANN_metrics\n",
    "\n",
    "media_accuracies = ESANN_metrics['acc_mean']\n",
    "std_accuracies = ESANN_metrics['acc_std']\n",
    "print(f'Media accuracies ESANN 17 classes: {media_accuracies:.2f}')\n",
    "print(f'STD accuracies ESANN 17 classes: {std_accuracies:.2f}')\n",
    "\n",
    "media_f1_score = ESANN_metrics['f1_mean']\n",
    "std_f1_score = ESANN_metrics['f1_std']\n",
    "print(f'Media f1-score ESANN 17 classes: {media_f1_score:.2f}')\n",
    "print(f'STD f1-score ESANN 17 classes: {std_f1_score:.2f}')"
   ]
  },
  {
   "cell_type": "markdown",
   "id": "859c86a6",
   "metadata": {},
   "source": [
    "## CAPTURE-24 - 17 clases"
   ]
  },
  {
   "cell_type": "code",
   "execution_count": null,
   "id": "45f8b4fe",
   "metadata": {},
   "outputs": [],
   "source": [
    "ruta = 'D:\\\\DATA_PMP_File_Server\\\\output\\\\cases_dataset_M\\\\case_M_CAPTURE24_17_classes\\\\'\n",
    "CAPTURE24_metrics = np.load(ruta)\n",
    "CAPTURE24_metrics\n",
    "\n",
    "media_accuracies = CAPTURE24_metrics['acc_mean']\n",
    "std_accuracies = CAPTURE24_metrics['acc_std']\n",
    "print(f'Media accuracies CAPTURE24 17 classes: {media_accuracies:.2f}')\n",
    "print(f'STD accuracies CAPTURE24 17 classes: {std_accuracies:.2f}')\n",
    "\n",
    "media_f1_score = CAPTURE24_metrics['f1_mean']\n",
    "std_f1_score = CAPTURE24_metrics['f1_std']\n",
    "print(f'Media f1-score CAPTURE24 17 classes: {media_f1_score:.2f}')\n",
    "print(f'STD f1-score CAPTURE24 17 classes: {std_f1_score:.2f}')"
   ]
  },
  {
   "cell_type": "markdown",
   "id": "39437a6b",
   "metadata": {},
   "source": [
    "## CAPTURE-24 - superclases"
   ]
  },
  {
   "cell_type": "code",
   "execution_count": null,
   "id": "98957c92",
   "metadata": {},
   "outputs": [],
   "source": [
    "ruta = 'D:\\\\DATA_PMP_File_Server\\\\output\\\\cases_dataset_M\\\\case_M_CAPTURE24_superclasses\\\\'\n",
    "CAPTURE24_metrics = np.load(ruta)\n",
    "CAPTURE24_metrics\n",
    "\n",
    "media_accuracies = CAPTURE24_metrics['acc_mean']\n",
    "std_accuracies = CAPTURE24_metrics['acc_std']\n",
    "print(f'Media accuracies CAPTURE24 superclasses: {media_accuracies:.2f}')\n",
    "print(f'STD accuracies CAPTURE24 superclasses: {std_accuracies:.2f}')\n",
    "\n",
    "media_f1_score = CAPTURE24_metrics['f1_mean']\n",
    "std_f1_score = CAPTURE24_metrics['f1_std']\n",
    "print(f'Media f1-score CAPTURE24 superclasses: {media_f1_score:.2f}')\n",
    "print(f'STD f1-score CAPTURE24 superclasses: {std_f1_score:.2f}')"
   ]
  },
  {
   "cell_type": "markdown",
   "id": "4dd5e145",
   "metadata": {},
   "source": [
    "## Cases dataset PI + M"
   ]
  },
  {
   "cell_type": "markdown",
   "id": "c5a94c5e",
   "metadata": {},
   "source": [
    "## BRF - 17 clases"
   ]
  },
  {
   "cell_type": "code",
   "execution_count": null,
   "id": "d2547c39",
   "metadata": {},
   "outputs": [],
   "source": [
    "ruta = 'D:\\\\DATA_PMP_File_Server\\\\output\\\\cases_dataset_PI_M\\\\case_PI_M_BRF_17_classes\\\\'\n",
    "BRF_metrics = np.load(ruta)\n",
    "BRF_metrics\n",
    "\n",
    "media_accuracies = BRF_metrics['acc_mean']\n",
    "std_accuracies = BRF_metrics['acc_std']\n",
    "print(f'Media accuracies BRF 17 classes: {media_accuracies:.2f}')\n",
    "print(f'STD accuracies BRF 17 classes: {std_accuracies:.2f}')\n",
    "\n",
    "media_f1_score = BRF_metrics['f1_mean']\n",
    "std_f1_score = BRF_metrics['f1_std']\n",
    "print(f'Media f1-score BRF 17 classes: {media_f1_score:.2f}')\n",
    "print(f'STD f1-score BRF 17 classes: {std_f1_score:.2f}')"
   ]
  },
  {
   "cell_type": "markdown",
   "id": "e86b4416",
   "metadata": {},
   "source": [
    "## BRF - superclases"
   ]
  },
  {
   "cell_type": "code",
   "execution_count": 11,
   "id": "598117cb",
   "metadata": {},
   "outputs": [
    {
     "name": "stdout",
     "output_type": "stream",
     "text": [
      "Media accuracies BRF superclasses: nan\n",
      "STD accuracies BRF superclasses: nan\n",
      "Media f1-score BRF superclasses: nan\n",
      "STD f1-score BRF superclasses: nan\n"
     ]
    }
   ],
   "source": [
    "ruta = 'D:\\\\DATA_PMP_File_Server\\\\output\\\\cases_dataset_PI_M\\\\case_PI_M_BRF_superclasses\\\\metrics_test.npz'\n",
    "BRF_metrics = np.load(ruta)\n",
    "BRF_metrics\n",
    "\n",
    "media_accuracies = BRF_metrics['acc_mean']\n",
    "std_accuracies = BRF_metrics['acc_std']\n",
    "print(f'Media accuracies BRF superclasses: {media_accuracies:.2f}')\n",
    "print(f'STD accuracies BRF superclasses: {std_accuracies:.2f}')\n",
    "\n",
    "media_f1_score = BRF_metrics['f1_mean']\n",
    "std_f1_score = BRF_metrics['f1_std']\n",
    "print(f'Media f1-score BRF superclasses: {media_f1_score:.2f}')\n",
    "print(f'STD f1-score BRF superclasses: {std_f1_score:.2f}')"
   ]
  },
  {
   "cell_type": "markdown",
   "id": "28db2a77",
   "metadata": {},
   "source": [
    "## XGBoost - 17 clases"
   ]
  },
  {
   "cell_type": "code",
   "execution_count": null,
   "id": "20b76962",
   "metadata": {},
   "outputs": [],
   "source": [
    "ruta = 'D:\\\\DATA_PMP_File_Server\\\\output\\\\cases_dataset_PI_M\\\\case_PI_M_XGB_17_classes\\\\'\n",
    "XGB_metrics = np.load(ruta)\n",
    "XGB_metrics\n",
    "\n",
    "media_accuracies = XGB_metrics['acc_mean']\n",
    "std_accuracies = XGB_metrics['acc_std']\n",
    "print(f'Media accuracies XGB 17 classes: {media_accuracies:.2f}')\n",
    "print(f'STD accuracies XGB 17 classes: {std_accuracies:.2f}')\n",
    "\n",
    "media_f1_score = XGB_metrics['f1_mean']\n",
    "std_f1_score = XGB_metrics['f1_std']\n",
    "print(f'Media f1-score XGB 17 classes: {media_f1_score:.2f}')\n",
    "print(f'STD f1-score XGB 17 classes: {std_f1_score:.2f}')"
   ]
  },
  {
   "cell_type": "markdown",
   "id": "d3dc4fe2",
   "metadata": {},
   "source": [
    "## XGBoost - superclases"
   ]
  },
  {
   "cell_type": "code",
   "execution_count": null,
   "id": "8af0fc92",
   "metadata": {},
   "outputs": [],
   "source": [
    "ruta = 'D:\\DATA_PMP_File_Server\\output\\cases_dataset_PI_M\\case_PI_M_XGB_superclasses\\\\'\n",
    "XGB_metrics = np.load(ruta)\n",
    "XGB_metrics\n",
    "\n",
    "media_accuracies = XGB_metrics['acc_mean']\n",
    "std_accuracies = XGB_metrics['acc_std']\n",
    "print(f'Media accuracies XGB superclasses: {media_accuracies:.2f}')\n",
    "print(f'STD accuracies XGB superclasses: {std_accuracies:.2f}')\n",
    "\n",
    "media_f1_score = XGB_metrics['f1_mean']\n",
    "std_f1_score = XGB_metrics['f1_std']\n",
    "print(f'Media f1-score XGB superclasses: {media_f1_score:.2f}')\n",
    "print(f'STD f1-score XGB superclasses: {std_f1_score:.2f}')"
   ]
  },
  {
   "cell_type": "markdown",
   "id": "3eb97547",
   "metadata": {},
   "source": [
    "## ESANN - 17 clases"
   ]
  },
  {
   "cell_type": "code",
   "execution_count": null,
   "id": "6197318a",
   "metadata": {},
   "outputs": [],
   "source": [
    "ruta = 'D:\\DATA_PMP_File_Server\\output\\cases_dataset_PI_M\\case_PI_M_ESANN_17_classes\\\\'\n",
    "ESANN_metrics = np.load(ruta)\n",
    "ESANN_metrics\n",
    "\n",
    "media_accuracies = ESANN_metrics['acc_mean']\n",
    "std_accuracies = ESANN_metrics['acc_std']\n",
    "print(f'Media accuracies ESANN 17 classes: {media_accuracies:.2f}')\n",
    "print(f'STD accuracies ESANN 17 classes: {std_accuracies:.2f}')\n",
    "\n",
    "media_f1_score = ESANN_metrics['f1_mean']\n",
    "std_f1_score = ESANN_metrics['f1_std']\n",
    "print(f'Media f1-score ESANN 17 classes: {media_f1_score:.2f}')\n",
    "print(f'STD f1-score ESANN 17 classes: {std_f1_score:.2f}')"
   ]
  },
  {
   "cell_type": "markdown",
   "id": "7141d758",
   "metadata": {},
   "source": [
    "## ESANN - superclases"
   ]
  },
  {
   "cell_type": "code",
   "execution_count": null,
   "id": "544dd630",
   "metadata": {},
   "outputs": [],
   "source": [
    "ruta = 'D:\\DATA_PMP_File_Server\\output\\cases_dataset_PI_M\\case_PI_M_ESANN_17_superclasses\\\\'\n",
    "ESANN_metrics = np.load(ruta)\n",
    "ESANN_metrics\n",
    "\n",
    "media_accuracies = ESANN_metrics['acc_mean']\n",
    "std_accuracies = ESANN_metrics['acc_std']\n",
    "print(f'Media accuracies ESANN 17 classes: {media_accuracies:.2f}')\n",
    "print(f'STD accuracies ESANN 17 classes: {std_accuracies:.2f}')\n",
    "\n",
    "media_f1_score = ESANN_metrics['f1_mean']\n",
    "std_f1_score = ESANN_metrics['f1_std']\n",
    "print(f'Media f1-score ESANN 17 classes: {media_f1_score:.2f}')\n",
    "print(f'STD f1-score ESANN 17 classes: {std_f1_score:.2f}')"
   ]
  },
  {
   "cell_type": "markdown",
   "id": "e560a071",
   "metadata": {},
   "source": [
    "## CAPTURE-24 - 17 clases"
   ]
  },
  {
   "cell_type": "code",
   "execution_count": null,
   "id": "8fa4bdde",
   "metadata": {},
   "outputs": [],
   "source": [
    "ruta = 'D:\\DATA_PMP_File_Server\\output\\cases_dataset_PI_M\\case_PI_M_CAPTURE24_17_classes\\\\'\n",
    "CAPTURE24_metrics = np.load(ruta)\n",
    "CAPTURE24_metrics\n",
    "\n",
    "media_accuracies = CAPTURE24_metrics['acc_mean']\n",
    "std_accuracies = CAPTURE24_metrics['acc_std']\n",
    "print(f'Media accuracies CAPTURE24 17 classes: {media_accuracies:.2f}')\n",
    "print(f'STD accuracies CAPTURE24 17 classes: {std_accuracies:.2f}')\n",
    "\n",
    "media_f1_score = CAPTURE24_metrics['f1_mean']\n",
    "std_f1_score = CAPTURE24_metrics['f1_std']\n",
    "print(f'Media f1-score CAPTURE24 17 classes: {media_f1_score:.2f}')\n",
    "print(f'STD f1-score CAPTURE24 17 classes: {std_f1_score:.2f}')"
   ]
  },
  {
   "cell_type": "markdown",
   "id": "db8941f8",
   "metadata": {},
   "source": [
    "## CAPTURE-24 - superclases"
   ]
  },
  {
   "cell_type": "code",
   "execution_count": null,
   "id": "3bc002f8",
   "metadata": {},
   "outputs": [],
   "source": [
    "ruta = 'D:\\DATA_PMP_File_Server\\output\\cases_dataset_PI_M\\case_PI_M_CAPTURE24_superclasses\\\\'\n",
    "CAPTURE24_metrics = np.load(ruta)\n",
    "CAPTURE24_metrics\n",
    "\n",
    "media_accuracies = CAPTURE24_metrics['acc_mean']\n",
    "std_accuracies = CAPTURE24_metrics['acc_std']\n",
    "print(f'Media accuracies CAPTURE24 superclasses: {media_accuracies:.2f}')\n",
    "print(f'STD accuracies CAPTURE24 superclasses: {std_accuracies:.2f}')\n",
    "\n",
    "media_f1_score = CAPTURE24_metrics['f1_mean']\n",
    "std_f1_score = CAPTURE24_metrics['f1_std']\n",
    "print(f'Media f1-score CAPTURE24 superclasses: {media_f1_score:.2f}')\n",
    "print(f'STD f1-score CAPTURE24 superclasses: {std_f1_score:.2f}')"
   ]
  },
  {
   "cell_type": "markdown",
   "id": "e6e8c042",
   "metadata": {},
   "source": [
    "# Boxplots. Comparativa en función de IMUs empleados"
   ]
  },
  {
   "cell_type": "markdown",
   "id": "74bf95a6",
   "metadata": {},
   "source": [
    "Comparamos los notch de varios boxplot para comprobar si existen evidencias estadísticas sobre el beneficio de incorporar IMUs en nuevas localizaciones del cuerpo."
   ]
  }
 ],
 "metadata": {
  "kernelspec": {
   "display_name": ".venv",
   "language": "python",
   "name": "python3"
  },
  "language_info": {
   "codemirror_mode": {
    "name": "ipython",
    "version": 3
   },
   "file_extension": ".py",
   "mimetype": "text/x-python",
   "name": "python",
   "nbconvert_exporter": "python",
   "pygments_lexer": "ipython3",
   "version": "3.12.0"
  }
 },
 "nbformat": 4,
 "nbformat_minor": 5
}
