{
 "cells": [
  {
   "cell_type": "code",
   "execution_count": 1,
   "id": "3fc2db75-4a57-48f8-a11e-abd55238ecce",
   "metadata": {},
   "outputs": [],
   "source": [
    "# Array and data functions\n",
    "from glob import glob\n",
    "from tqdm import tqdm\n",
    "import numpy as np\n",
    "import pandas as pd\n",
    "\n",
    "from matplotlib import pyplot as plt\n",
    "from matplotlib.lines import Line2D\n",
    "import seaborn as sns\n",
    "\n",
    "from MEDUSSA.measure import SizeDataFrame\n",
    "from MEDUSSA.transform import ParamSampler, ConfIntSampler"
   ]
  },
  {
   "cell_type": "code",
   "execution_count": 3,
   "id": "85159e6f-e0b7-43f7-b249-af5f2b9d48a3",
   "metadata": {},
   "outputs": [
    {
     "name": "stderr",
     "output_type": "stream",
     "text": [
      "100%|██████████████████████████████████████████████████████████████████████████████████████████████████████████████████████████████████████████████████████████████████████████████████████████████████████| 7/7 [00:16<00:00,  2.40s/it]\n"
     ]
    }
   ],
   "source": [
    "BasePath = '/Users/reyesmatte/Priestia_megaterium_comparisons/Day1/' \n",
    "\n",
    "images = sorted(glob(f'{BasePath}*.tif'))\n",
    "\n",
    "strains = np.unique([img.split('/')[-1].split('_')[1] for img in images])\n",
    "\n",
    "dfs = []\n",
    "\n",
    "for i in tqdm(range(len(strains))):\n",
    "\n",
    "    strain = strains[i]\n",
    "    \n",
    "    masks = sorted(glob(f'{BasePath}*{strain}*.tif'))\n",
    "\n",
    "    times = np.unique([int(mask.split('/')[-1].split('_')[2][1:]) for mask in masks])\n",
    "    \n",
    "    for t in times:\n",
    "        \n",
    "        segmentations = sorted(glob(f'{BasePath}*{strain}_t{t}_*.tif'))\n",
    "\n",
    "        if t == 5:\n",
    "            stage = 'Exponential'\n",
    "        else:\n",
    "            stage = 'Stationary'\n",
    "        \n",
    "        df = SizeDataFrame(segmentations,from_files=True)\n",
    "        \n",
    "        df.insert(0,'Strain',str(strain))\n",
    "        df.insert(1,'Stage',stage)\n",
    "\n",
    "        dfs.append(df)"
   ]
  },
  {
   "cell_type": "code",
   "execution_count": 5,
   "id": "181bbe3d-dc57-4c39-9ad0-64d86fc684b0",
   "metadata": {},
   "outputs": [
    {
     "name": "stderr",
     "output_type": "stream",
     "text": [
      "100%|██████████████████████████████████████████████████████████████████████████████████████████████████████████████████████████████████████████████████████████████████████████████████████████████████████| 7/7 [00:17<00:00,  2.44s/it]\n"
     ]
    }
   ],
   "source": [
    "BasePath = '/Users/reyesmatte/Priestia_megaterium_comparisons/Day2/' \n",
    "\n",
    "dfs_d2 = []\n",
    "\n",
    "for i in tqdm(range(len(strains))):\n",
    "\n",
    "    strain = strains[i]\n",
    "    \n",
    "    masks = sorted(glob(f'{BasePath}*{strain}*.tif'))\n",
    "\n",
    "    times = np.unique([int(mask.split('/')[-1].split('_')[2][1:]) for mask in masks])\n",
    "    \n",
    "    for t in times:\n",
    "        \n",
    "        segmentations = sorted(glob(f'{BasePath}*{strain}_t{t}_*.tif'))\n",
    "\n",
    "        if t == 5:\n",
    "            stage = 'Exponential'\n",
    "        else:\n",
    "            stage = 'Stationary'\n",
    "        \n",
    "        df = SizeDataFrame(segmentations,from_files=True)\n",
    "        \n",
    "        df.insert(0,'Strain',str(strain))\n",
    "        df.insert(1,'Stage',stage)\n",
    "\n",
    "        dfs_d2.append(df)\n",
    "    "
   ]
  },
  {
   "cell_type": "code",
   "execution_count": 6,
   "id": "c382b730-074b-412c-a189-be9dc569d390",
   "metadata": {},
   "outputs": [],
   "source": [
    "full_df = pd.concat(dfs,ignore_index=True)\n",
    "full_df = full_df[full_df['Width'] > 0.3]\n",
    "\n",
    "full_df_d2 = pd.concat(dfs_d2,ignore_index=True)\n",
    "full_df_d2 = full_df_d2[full_df_d2['Width'] > 0.3]\n",
    "\n",
    "metrics = ['Length','Width','SurfaceArea','Volume']\n",
    "columns = ['Strain','Stage']\n",
    "\n",
    "df_posteriors = pd.read_csv('https://raw.githubusercontent.com/OReyesMatte/MEDUSSA/refs/heads/main/Figures/FigureS4/posterior_segmentation_measurements.csv')\n",
    "\n",
    "full_df = ParamSampler(full_df,df_posteriors,columns,metrics)\n",
    "full_df.insert(0,'Day','Day1')\n",
    "\n",
    "full_df_d2 = ParamSampler(full_df_d2,df_posteriors,columns,metrics)\n",
    "full_df_d2.insert(0,'Day','Day2')\n",
    "\n",
    "joint_df = pd.concat([full_df,full_df_d2],ignore_index=True)\n",
    "\n",
    "joint_df.to_csv('joint_days_df.csv')"
   ]
  },
  {
   "cell_type": "code",
   "execution_count": null,
   "id": "173134d0-9f1d-4584-a786-d54c5fefebd2",
   "metadata": {},
   "outputs": [],
   "source": [
    "strains = ['PY79','WH320','1060','7A242','QMB1551','DSM319','7A1']\n",
    "\n",
    "stages = ['Exponential','Stationary']\n",
    "\n",
    "strain_dict = {'PY79':'PY79','WH320':'WH320','1060':'DSM 32','7A242':'KM','QMB1551':'QM B1551','DSM319':'DSM 319','7A1':'899'}\n",
    "\n",
    "colors = sns.color_palette('tab10')[:2]\n",
    "\n",
    "handles = [Line2D([0], [0], color='w', lw=1, marker='o', markerfacecolor=c, markersize=10) for c in colors]\n",
    "\n",
    "for strain in strains:\n",
    "\n",
    "    for stage in stages:\n",
    "        \n",
    "        subdf = joint_df[joint_df['Strain']==strain]\n",
    "        subdf = subdf[subdf['Stage']==stage]\n",
    "\n",
    "        c1,c2 = subdf.groupby(['Day']).size().reset_index(name='counts')['counts']\n",
    "        \n",
    "        d1_w,d2_w = subdf[['Day','Width_mu']].groupby('Day').median()['Width_mu']\n",
    "        d1_w_std,d2_w_std = subdf[['Day','Width_mu']].groupby('Day').std()['Width_mu']\n",
    "\n",
    "        d1_L,d2_L = subdf[['Day','Length_mu']].groupby('Day').median()['Length_mu']\n",
    "        d1_L_std,d2_L_std = subdf[['Day','Length_mu']].groupby('Day').std()['Length_mu']\n",
    "\n",
    "        nl = '\\n'\n",
    "        \n",
    "        label1 = f'Day 1,      W = {d1_w:.3f}, CV = {d1_w_std/d1_w:.3f}{nl}n = {c1}    L = {d1_L:.3f}, CV = {d1_L_std/d1_L:.3f}'\n",
    "        label2 = f'Day 2,      W = {d2_w:.3f}, CV = {d2_w_std/d2_w:.3f}{nl}n = {c2}    L = {d2_L:.3f}, CV = {d2_L_std/d2_L:.3f}'\n",
    "\n",
    "        fig,ax = plt.subplots(dpi=300,figsize=(4,4))\n",
    "\n",
    "        sns.scatterplot(data=subdf,x='Width_mu',y='Length_mu',hue='Day',legend=True,alpha=0.5,ax=ax)\n",
    "        ax.set_xlim(0.4,1.8)\n",
    "        ax.set_ylim(0,25)\n",
    "        ax.set_xlabel('Cell Width (µm)')\n",
    "        ax.set_ylabel('Cell Length (µm)')\n",
    "        ax.set_title(f'{strain_dict[strain]}, {stage}')\n",
    "        ax.legend(handles=handles,labels=[label1,label2])\n",
    "\n",
    "        fig.tight_layout()\n",
    "        fig.savefig(f'/Users/reyesmatte/Desktop/Imaging_paper/FigSX/{strain}_{stage}.png')"
   ]
  },
  {
   "cell_type": "code",
   "execution_count": null,
   "id": "12859ad9-be76-4e8b-9fee-dd33f6c726f0",
   "metadata": {},
   "outputs": [],
   "source": []
  }
 ],
 "metadata": {
  "kernelspec": {
   "display_name": "Python 3 (ipykernel)",
   "language": "python",
   "name": "python3"
  },
  "language_info": {
   "codemirror_mode": {
    "name": "ipython",
    "version": 3
   },
   "file_extension": ".py",
   "mimetype": "text/x-python",
   "name": "python",
   "nbconvert_exporter": "python",
   "pygments_lexer": "ipython3",
   "version": "3.10.18"
  }
 },
 "nbformat": 4,
 "nbformat_minor": 5
}
