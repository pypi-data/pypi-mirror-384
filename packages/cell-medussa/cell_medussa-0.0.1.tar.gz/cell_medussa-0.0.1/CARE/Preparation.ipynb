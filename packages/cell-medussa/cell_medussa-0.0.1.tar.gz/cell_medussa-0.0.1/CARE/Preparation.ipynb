{
 "cells": [
  {
   "cell_type": "code",
   "execution_count": 3,
   "id": "5428002f",
   "metadata": {},
   "outputs": [],
   "source": [
    "# Load libraries\n",
    "\n",
    "from __future__ import print_function, unicode_literals, absolute_import, division\n",
    "import numpy as np\n",
    "import matplotlib.pyplot as plt\n",
    "plt.style.use('dark_background')\n",
    "%matplotlib inline\n",
    "%config InlineBackend.figure_format = 'retina'\n",
    "\n",
    "\n",
    "from tifffile import imread\n",
    "from csbdeep.data import RawData, create_patches\n",
    "\n",
    "from glob import glob\n",
    "import warnings\n",
    "warnings.filterwarnings('ignore')\n"
   ]
  },
  {
   "cell_type": "markdown",
   "id": "058dccab",
   "metadata": {},
   "source": [
    "### How to load the data (and prevent errors)\n",
    "\n",
    "- Provide a path where both _directories_ of input data and target data exist\n",
    "- Make sure that each corresponding pair of input-target images have both the same dimensions and name\n",
    "- Specify the image axes ('YX' for 2D, 'ZYX' for 3D)\n",
    "- CARE can take multiple inputs for one target (not shown here)"
   ]
  },
  {
   "cell_type": "code",
   "execution_count": 2,
   "id": "d064fc60",
   "metadata": {},
   "outputs": [],
   "source": [
    "## Provide path to the data\n",
    "\n",
    "StartPath = r'/home/reyesmatte/../../groups/evocell/Microscopy/Octavio/2023/20231102/JLG3976/2D/'\n",
    "\n",
    "raw_data = RawData.from_folder (\n",
    "    basepath    = StartPath,\n",
    "    source_dirs = ['FMRaw'],\n",
    "    target_dir  = 'FMDeconvolved',\n",
    "    axes        = 'YX',\n",
    ")"
   ]
  },
  {
   "cell_type": "code",
   "execution_count": 5,
   "id": "85c6733b",
   "metadata": {},
   "outputs": [
    {
     "name": "stdout",
     "output_type": "stream",
     "text": [
      "==================================================================\n",
      "  200 raw images x    1 transformations   =   200 images\n",
      "  200 images     x   16 patches per image =  3200 patches in total\n",
      "==================================================================\n",
      "Input data:\n",
      "/home/reyesmatte/../../groups/evocell/Microscopy/Octavio/2023/20231102/JLG3976/2D/: target='FMDeconvolved', sources=['FMRaw'], axes='YX', pattern='*.tif*'\n",
      "==================================================================\n",
      "Transformations:\n",
      "1 x Identity\n",
      "==================================================================\n",
      "Patch size:\n",
      "512 x 512\n",
      "==================================================================\n"
     ]
    },
    {
     "name": "stderr",
     "output_type": "stream",
     "text": [
      "100%|███████████████████████████████████████████████████████████████| 200/200 [02:11<00:00,  1.53it/s]\n"
     ]
    },
    {
     "name": "stdout",
     "output_type": "stream",
     "text": [
      "Saving data to /home/reyesmatte/../../groups/evocell/Microscopy/Octavio/2023/20231102/JLG3976/2D/FM2FM.npz.\n"
     ]
    }
   ],
   "source": [
    "## Create the image patches, specifying both patch size and the amount of patches per image\n",
    "\n",
    "X, Y, XY_axes = create_patches (\n",
    "    raw_data            = raw_data,\n",
    "    patch_size          = (512,512),\n",
    "    patch_filter        = no_background_patches(0),\n",
    "    n_patches_per_image = 16,\n",
    "    save_file           = StartPath+'FM2FM.npz',\n",
    ")"
   ]
  },
  {
   "cell_type": "markdown",
   "id": "429ba19e",
   "metadata": {},
   "source": [
    "For training the fluorescence translation network the steps are the same. The changes are that the `source_dir` when creating the `raw_data` instance is `FPRaw`, and that the save file in the `create_patches` function is `FP2FM.npz`"
   ]
  },
  {
   "cell_type": "code",
   "execution_count": null,
   "id": "c64dc845",
   "metadata": {},
   "outputs": [],
   "source": []
  },
  {
   "cell_type": "code",
   "execution_count": null,
   "id": "79f3800e",
   "metadata": {},
   "outputs": [],
   "source": []
  }
 ],
 "metadata": {
  "kernelspec": {
   "display_name": "Python 3 (ipykernel)",
   "language": "python",
   "name": "python3"
  },
  "language_info": {
   "codemirror_mode": {
    "name": "ipython",
    "version": 3
   },
   "file_extension": ".py",
   "mimetype": "text/x-python",
   "name": "python",
   "nbconvert_exporter": "python",
   "pygments_lexer": "ipython3",
   "version": "3.7.8"
  }
 },
 "nbformat": 4,
 "nbformat_minor": 5
}
