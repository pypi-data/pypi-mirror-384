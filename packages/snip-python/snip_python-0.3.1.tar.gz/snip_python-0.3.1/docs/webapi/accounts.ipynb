{
 "cells": [
  {
   "cell_type": "code",
   "execution_count": 1,
   "id": "f31e9b6b",
   "metadata": {
    "tags": [
     "hide-cell"
    ]
   },
   "outputs": [],
   "source": [
    "# Hidden using cell tags!\n",
    "# Normally, you dont need to set this variable if you are using\n",
    "# the default deployment of the backend\n",
    "import os\n",
    "\n",
    "os.environ[\"SNIP_DEPLOYMENT_URL\"] = \"https://snip:4000\"\n",
    "os.environ[\"SNIP_ADDITIONAL_REQUEST_ARGS\"] = '{\"verify\": false}'\n",
    "\n",
    "# Hide InsecureRequestWarning\n",
    "import urllib3\n",
    "urllib3.disable_warnings(urllib3.exceptions.InsecureRequestWarning)"
   ]
  },
  {
   "cell_type": "markdown",
   "id": "bb121a32",
   "metadata": {
    "vscode": {
     "languageId": "plaintext"
    }
   },
   "source": [
    "# Account Endpoints\n",
    "\n",
    "The python package provides a simple wrapper around the [account api](https://snip.roentgen.physik.uni-goettingen.de/apidocs/account). All API methods need either an account token or a book specific token. To find which method needs which token please check the call signature of all functions below.\n"
   ]
  },
  {
   "cell_type": "code",
   "execution_count": 2,
   "id": "348b4546",
   "metadata": {},
   "outputs": [],
   "source": [
    "from snip.token import get_all_tokens, AccountToken\n",
    "\n",
    "# Get account token\n",
    "tokens = get_all_tokens()\n",
    "account_tokens= list(filter(\n",
    "    lambda t: isinstance(t, AccountToken), tokens[0]\n",
    "))\n",
    "if len(account_tokens) == 0:\n",
    "    raise ValueError(\"No account token found. Please create one first.\")\n",
    "account_token: AccountToken = account_tokens[0]\n"
   ]
  },
  {
   "cell_type": "markdown",
   "id": "c2ac2cbf",
   "metadata": {},
   "source": [
    "## Retrieve all groups\n",
    "\n",
    "Get a list of all groups the user is a member of, the user is inferred from the token.\n"
   ]
  },
  {
   "cell_type": "code",
   "execution_count": 4,
   "id": "7cbe32be",
   "metadata": {},
   "outputs": [
    {
     "data": {
      "text/plain": [
       "[{'id': 2,\n",
       "  'name': 'whatagroup',\n",
       "  'description': 'fooasdasdassda',\n",
       "  'created': datetime.datetime(2025, 9, 29, 9, 49, 17, tzinfo=datetime.timezone.utc),\n",
       "  'last_updated': datetime.datetime(2025, 9, 29, 9, 49, 17, tzinfo=datetime.timezone.utc),\n",
       "  'members': [{'user_id': 1,\n",
       "    'group_id': 2,\n",
       "    'role': 'owner',\n",
       "    'joined_at': datetime.datetime(2025, 9, 29, 9, 49, 17, tzinfo=datetime.timezone.utc),\n",
       "    'primary_credential_id': 1,\n",
       "    'emails': ['sebastian@mohrenclan.de'],\n",
       "    'emails_verified': [True],\n",
       "    'credential_ids': [1],\n",
       "    'credential_types': ['password'],\n",
       "    'group_name': 'whatagroup',\n",
       "    'group_description': 'fooasdasdassda',\n",
       "    'self': True}]},\n",
       " {'id': 3,\n",
       "  'name': 'Test Group',\n",
       "  'description': None,\n",
       "  'created': datetime.datetime(2025, 10, 14, 12, 46, 51, tzinfo=datetime.timezone.utc),\n",
       "  'last_updated': datetime.datetime(2025, 10, 14, 12, 46, 51, tzinfo=datetime.timezone.utc),\n",
       "  'members': [{'user_id': 1,\n",
       "    'group_id': 3,\n",
       "    'role': 'owner',\n",
       "    'joined_at': datetime.datetime(2025, 10, 14, 12, 46, 51, tzinfo=datetime.timezone.utc),\n",
       "    'primary_credential_id': 1,\n",
       "    'emails': ['sebastian@mohrenclan.de'],\n",
       "    'emails_verified': [True],\n",
       "    'credential_ids': [1],\n",
       "    'credential_types': ['password'],\n",
       "    'group_name': 'Test Group',\n",
       "    'group_description': None,\n",
       "    'self': True}]},\n",
       " {'id': 4,\n",
       "  'name': 'Test Group',\n",
       "  'description': None,\n",
       "  'created': datetime.datetime(2025, 10, 14, 12, 56, 19, tzinfo=datetime.timezone.utc),\n",
       "  'last_updated': datetime.datetime(2025, 10, 14, 12, 56, 19, tzinfo=datetime.timezone.utc),\n",
       "  'members': [{'user_id': 1,\n",
       "    'group_id': 4,\n",
       "    'role': 'owner',\n",
       "    'joined_at': datetime.datetime(2025, 10, 14, 12, 56, 19, tzinfo=datetime.timezone.utc),\n",
       "    'primary_credential_id': 1,\n",
       "    'emails': ['sebastian@mohrenclan.de'],\n",
       "    'emails_verified': [True],\n",
       "    'credential_ids': [1],\n",
       "    'credential_types': ['password'],\n",
       "    'group_name': 'Test Group',\n",
       "    'group_description': None,\n",
       "    'self': True}]},\n",
       " {'id': 5,\n",
       "  'name': 'Test Group',\n",
       "  'description': None,\n",
       "  'created': datetime.datetime(2025, 10, 14, 12, 57, 9, tzinfo=datetime.timezone.utc),\n",
       "  'last_updated': datetime.datetime(2025, 10, 14, 12, 57, 9, tzinfo=datetime.timezone.utc),\n",
       "  'members': [{'user_id': 1,\n",
       "    'group_id': 5,\n",
       "    'role': 'owner',\n",
       "    'joined_at': datetime.datetime(2025, 10, 14, 12, 57, 9, tzinfo=datetime.timezone.utc),\n",
       "    'primary_credential_id': 1,\n",
       "    'emails': ['sebastian@mohrenclan.de'],\n",
       "    'emails_verified': [True],\n",
       "    'credential_ids': [1],\n",
       "    'credential_types': ['password'],\n",
       "    'group_name': 'Test Group',\n",
       "    'group_description': None,\n",
       "    'self': True}]},\n",
       " {'id': 7,\n",
       "  'name': 'Test Group',\n",
       "  'description': None,\n",
       "  'created': datetime.datetime(2025, 10, 14, 12, 59, 30, tzinfo=datetime.timezone.utc),\n",
       "  'last_updated': datetime.datetime(2025, 10, 14, 12, 59, 30, tzinfo=datetime.timezone.utc),\n",
       "  'members': [{'user_id': 1,\n",
       "    'group_id': 7,\n",
       "    'role': 'owner',\n",
       "    'joined_at': datetime.datetime(2025, 10, 14, 12, 59, 30, tzinfo=datetime.timezone.utc),\n",
       "    'primary_credential_id': 1,\n",
       "    'emails': ['sebastian@mohrenclan.de'],\n",
       "    'emails_verified': [True],\n",
       "    'credential_ids': [1],\n",
       "    'credential_types': ['password'],\n",
       "    'group_name': 'Test Group',\n",
       "    'group_description': None,\n",
       "    'self': True}]}]"
      ]
     },
     "execution_count": 4,
     "metadata": {},
     "output_type": "execute_result"
    }
   ],
   "source": [
    "from snip.api.account import get_groups\n",
    "\n",
    "all_groups = get_groups(token=account_token)\n",
    "all_groups"
   ]
  },
  {
   "cell_type": "markdown",
   "id": "7c64c2ab",
   "metadata": {},
   "source": [
    "## Get, Create, Update, Delete a specific group\n",
    "\n",
    "It is possible to get, create, update and delete a specific group. The user is inferred from the token but you have to provide the group id."
   ]
  },
  {
   "cell_type": "code",
   "execution_count": 3,
   "metadata": {},
   "outputs": [
    {
     "data": {
      "text/plain": [
       "{'id': 9,\n",
       " 'name': 'Test Group',\n",
       " 'description': None,\n",
       " 'created': datetime.datetime(2025, 10, 14, 13, 8, 20, tzinfo=datetime.timezone.utc),\n",
       " 'last_updated': datetime.datetime(2025, 10, 14, 13, 8, 20, tzinfo=datetime.timezone.utc),\n",
       " 'members': [{'user_id': 1,\n",
       "   'group_id': 9,\n",
       "   'role': 'owner',\n",
       "   'joined_at': datetime.datetime(2025, 10, 14, 13, 8, 20, tzinfo=datetime.timezone.utc),\n",
       "   'primary_credential_id': 1,\n",
       "   'emails': ['sebastian@mohrenclan.de'],\n",
       "   'emails_verified': [True],\n",
       "   'credential_ids': [1],\n",
       "   'credential_types': ['password'],\n",
       "   'group_name': 'Test Group',\n",
       "   'group_description': None,\n",
       "   'self': True}]}"
      ]
     },
     "execution_count": 3,
     "metadata": {},
     "output_type": "execute_result"
    }
   ],
   "source": [
    "from snip.api.account import get_group, create_group, modify_group, delete_group\n",
    "\n",
    "# Create group\n",
    "new_group = create_group(name=\"Test Group\", token=account_token)\n",
    "new_group"
   ]
  },
  {
   "cell_type": "code",
   "execution_count": 4,
   "id": "65cb7d38",
   "metadata": {},
   "outputs": [
    {
     "data": {
      "text/plain": [
       "{'id': 9,\n",
       " 'name': 'Test Group',\n",
       " 'description': None,\n",
       " 'created': datetime.datetime(2025, 10, 14, 13, 8, 20, tzinfo=datetime.timezone.utc),\n",
       " 'last_updated': datetime.datetime(2025, 10, 14, 13, 8, 20, tzinfo=datetime.timezone.utc),\n",
       " 'members': [{'user_id': 1,\n",
       "   'group_id': 9,\n",
       "   'role': 'owner',\n",
       "   'joined_at': datetime.datetime(2025, 10, 14, 13, 8, 20, tzinfo=datetime.timezone.utc),\n",
       "   'primary_credential_id': 1,\n",
       "   'emails': ['sebastian@mohrenclan.de'],\n",
       "   'emails_verified': [True],\n",
       "   'credential_ids': [1],\n",
       "   'credential_types': ['password'],\n",
       "   'group_name': 'Test Group',\n",
       "   'group_description': None,\n",
       "   'self': True}]}"
      ]
     },
     "execution_count": 4,
     "metadata": {},
     "output_type": "execute_result"
    }
   ],
   "source": [
    "# Get group by id\n",
    "new_group = get_group(group_id=new_group[\"id\"], token=account_token)\n",
    "new_group"
   ]
  },
  {
   "cell_type": "code",
   "execution_count": 9,
   "id": "ef483da3",
   "metadata": {},
   "outputs": [
    {
     "data": {
      "text/plain": [
       "{'id': 9,\n",
       " 'name': 'Modified Test Group',\n",
       " 'description': None,\n",
       " 'created': datetime.datetime(2025, 10, 14, 13, 8, 20, tzinfo=datetime.timezone.utc),\n",
       " 'last_updated': datetime.datetime(2025, 10, 14, 13, 13, 3, tzinfo=datetime.timezone.utc),\n",
       " 'members': [{'user_id': 1,\n",
       "   'group_id': 9,\n",
       "   'role': 'owner',\n",
       "   'joined_at': datetime.datetime(2025, 10, 14, 13, 8, 20, tzinfo=datetime.timezone.utc),\n",
       "   'primary_credential_id': 1,\n",
       "   'emails': ['sebastian@mohrenclan.de'],\n",
       "   'emails_verified': [True],\n",
       "   'credential_ids': [1],\n",
       "   'credential_types': ['password'],\n",
       "   'group_name': 'Modified Test Group',\n",
       "   'group_description': None,\n",
       "   'self': True}]}"
      ]
     },
     "execution_count": 9,
     "metadata": {},
     "output_type": "execute_result"
    }
   ],
   "source": [
    "# Modify group\n",
    "new_group = modify_group(\n",
    "    group_id=new_group[\"id\"], name=\"Modified Test Group\", token=account_token\n",
    ")\n",
    "new_group\n"
   ]
  },
  {
   "cell_type": "code",
   "execution_count": 10,
   "id": "0522f23e",
   "metadata": {},
   "outputs": [],
   "source": [
    "# Delete group\n",
    "delete_group(group_id=new_group[\"id\"], token=account_token)\n",
    "\n",
    "# Further calls to get this group will error now\n",
    "# get_group(group_id=new_group[\"id\"], token=account_token) -> Exception"
   ]
  }
 ],
 "metadata": {
  "kernelspec": {
   "display_name": "snip",
   "language": "python",
   "name": "python3"
  },
  "language_info": {
   "codemirror_mode": {
    "name": "ipython",
    "version": 3
   },
   "file_extension": ".py",
   "mimetype": "text/x-python",
   "name": "python",
   "nbconvert_exporter": "python",
   "pygments_lexer": "ipython3",
   "version": "3.12.11"
  }
 },
 "nbformat": 4,
 "nbformat_minor": 5
}
