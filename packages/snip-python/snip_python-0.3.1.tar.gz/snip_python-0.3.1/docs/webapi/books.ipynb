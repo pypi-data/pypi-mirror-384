{
 "cells": [
  {
   "cell_type": "code",
   "execution_count": 1,
   "id": "c33492cb",
   "metadata": {
    "tags": [
     "hide-cell"
    ]
   },
   "outputs": [],
   "source": [
    "# Hidden using cell tags!\n",
    "# Normally, you dont need to set this variable if you are using\n",
    "# the default deployment of the backend\n",
    "import os\n",
    "\n",
    "os.environ[\"SNIP_DEPLOYMENT_URL\"] = \"https://snip:4000\"\n",
    "os.environ[\"SNIP_ADDITIONAL_REQUEST_ARGS\"] = '{\"verify\": false}'\n",
    "\n",
    "# Hide InsecureRequestWarning\n",
    "import urllib3\n",
    "urllib3.disable_warnings(urllib3.exceptions.InsecureRequestWarning)"
   ]
  },
  {
   "cell_type": "markdown",
   "id": "f1d13e62",
   "metadata": {},
   "source": [
    "# Book Endpoints\n",
    "\n",
    "The python package provides a simple wrapper around the [books api](https://snip.roentgen.physik.uni-goettingen.de/apidocs/books). All API methods need either an account token or a book specific token. To find which method needs which token please check the call signature of all functions below.\n"
   ]
  },
  {
   "cell_type": "markdown",
   "id": "8babc103",
   "metadata": {},
   "source": [
    "## Retrieve all books for a user\n",
    "\n",
    "Once you have created an `AccountToken`, you can retrieve all books the user has access to with the `get_books` function."
   ]
  },
  {
   "cell_type": "code",
   "execution_count": 2,
   "id": "243b3414",
   "metadata": {},
   "outputs": [],
   "source": [
    "from snip.token import get_all_tokens, AccountToken\n",
    "\n",
    "# Get account token\n",
    "tokens = get_all_tokens()\n",
    "account_tokens= list(filter(\n",
    "    lambda t: isinstance(t, AccountToken), tokens[0]\n",
    "))\n",
    "if len(account_tokens) == 0:\n",
    "    raise ValueError(\"No account token found. Please create one first.\")\n",
    "account_token: AccountToken = account_tokens[0]\n"
   ]
  },
  {
   "cell_type": "markdown",
   "id": "e6a76328",
   "metadata": {},
   "source": [
    "We can retrieve all books for the user associated with the `get_books` function."
   ]
  },
  {
   "cell_type": "code",
   "execution_count": 7,
   "id": "071e2a1e",
   "metadata": {},
   "outputs": [],
   "source": [
    "from snip.api.books import get_books\n",
    "\n",
    "all_books = get_books(account_token)"
   ]
  },
  {
   "cell_type": "markdown",
   "id": "25dd5f7b",
   "metadata": {},
   "source": [
    "## Retrieve a single book by its ID\n",
    "\n",
    "You may also retrieve a single book by its ID using the `get_book` function. This can be done with both `AccountToken` and `BookToken`.\n"
   ]
  },
  {
   "cell_type": "code",
   "execution_count": 8,
   "id": "fb0e4b60",
   "metadata": {},
   "outputs": [
    {
     "data": {
      "text/plain": [
       "{'id': 1,\n",
       " 'title': 'test',\n",
       " 'comment': None,\n",
       " 'created': datetime.datetime(2025, 6, 18, 10, 23, 12, tzinfo=datetime.timezone.utc),\n",
       " 'finished': None,\n",
       " 'last_updated': datetime.datetime(2025, 7, 31, 10, 31, 21, tzinfo=datetime.timezone.utc),\n",
       " 'cover_page_id': None,\n",
       " 'owner_id': 1,\n",
       " 'owner_name': 'sebastian@mohrenclan.de',\n",
       " 'owner_type': 'user',\n",
       " 'default_background_type_id': 1,\n",
       " 'background_type_name': 'blank',\n",
       " 'background_type_description': 'Just your ordinary blank pages, nothing too special. Just a clean slate for you to write and draw onto.',\n",
       " 'num_pages': 3}"
      ]
     },
     "execution_count": 8,
     "metadata": {},
     "output_type": "execute_result"
    }
   ],
   "source": [
    "from snip.api.books import get_book\n",
    "\n",
    "book = get_book(account_token, 1)\n",
    "book"
   ]
  },
  {
   "cell_type": "markdown",
   "id": "f2919441",
   "metadata": {},
   "source": [
    "## Create a new book\n",
    "\n",
    "You may also create a new book using the `create_book` function. This requires an `AccountToken`."
   ]
  },
  {
   "cell_type": "code",
   "execution_count": 9,
   "id": "a0b15d96",
   "metadata": {},
   "outputs": [
    {
     "data": {
      "text/plain": [
       "{'id': 5,\n",
       " 'title': 'My New Book',\n",
       " 'comment': 'This is a comment.',\n",
       " 'created': datetime.datetime(2025, 9, 29, 11, 0, 27, tzinfo=datetime.timezone.utc),\n",
       " 'finished': None,\n",
       " 'last_updated': datetime.datetime(2025, 9, 29, 11, 0, 27, tzinfo=datetime.timezone.utc),\n",
       " 'cover_page_id': None,\n",
       " 'owner_id': 1,\n",
       " 'owner_name': 'sebastian@mohrenclan.de',\n",
       " 'owner_type': 'user',\n",
       " 'default_background_type_id': 1,\n",
       " 'background_type_name': 'blank',\n",
       " 'background_type_description': 'Just your ordinary blank pages, nothing too special. Just a clean slate for you to write and draw onto.',\n",
       " 'num_pages': 0}"
      ]
     },
     "execution_count": 9,
     "metadata": {},
     "output_type": "execute_result"
    }
   ],
   "source": [
    "from snip.api.books import create_book\n",
    "\n",
    "new_book = create_book(account_token, \"My New Book\", \"This is a comment.\")\n",
    "new_book"
   ]
  },
  {
   "cell_type": "markdown",
   "id": "d24f7d87",
   "metadata": {},
   "source": [
    "## Collaborators\n",
    "\n",
    "Book collaborators are all users and groups that have access to a specific book."
   ]
  },
  {
   "cell_type": "markdown",
   "id": "55ddecaa",
   "metadata": {},
   "source": [
    "### Retrieve all collaborators for a book\n",
    "\n",
    "You can retrieve all collaborators for a specific book using the `get_collaborators` function."
   ]
  },
  {
   "cell_type": "code",
   "execution_count": 4,
   "id": "5bd73725",
   "metadata": {},
   "outputs": [
    {
     "data": {
      "text/plain": [
       "[{'type': 'user',\n",
       "  'email': 'sebastian@mohrenclan.de',\n",
       "  'pRead': True,\n",
       "  'pWrite': True,\n",
       "  'pDelete': True,\n",
       "  'pACL': True,\n",
       "  'id': 1,\n",
       "  'self': False,\n",
       "  'owner': True},\n",
       " {'type': 'group',\n",
       "  'name': 'whatagroup',\n",
       "  'pRead': True,\n",
       "  'pWrite': True,\n",
       "  'pDelete': False,\n",
       "  'pACL': False,\n",
       "  'id': 2,\n",
       "  'owner': False}]"
      ]
     },
     "execution_count": 4,
     "metadata": {},
     "output_type": "execute_result"
    }
   ],
   "source": [
    "from snip.api.books import get_collaborators\n",
    "\n",
    "collaborators = get_collaborators(account_token, 3)\n",
    "collaborators"
   ]
  },
  {
   "cell_type": "markdown",
   "id": "1a72ffa7",
   "metadata": {},
   "source": [
    "### Update collaborators for a book\n",
    "\n",
    "We are able to update the collaborators for a specific book using the `update_collaborator` function. This function allows us to modify the permissions of existing collaborators or add new ones. You may also use this api to add groups as collaborators. For users please use the `invite_collaborator` function."
   ]
  },
  {
   "cell_type": "code",
   "execution_count": 5,
   "id": "82628162",
   "metadata": {},
   "outputs": [],
   "source": [
    "from snip.api.books import update_collaborator\n",
    "\n",
    "collaborators[1][\"pDelete\"] = not collaborators[1][\"pDelete\"]\n",
    "\n",
    "update_collaborator(\n",
    "    account_token,\n",
    "    3,\n",
    "    collaborators[1]\n",
    ")"
   ]
  },
  {
   "cell_type": "markdown",
   "id": "776c37ca",
   "metadata": {},
   "source": [
    "### Remove a collaborator from a book\n",
    "\n",
    "You can remove a collaborator from a book using the `remove_collaborator` function. "
   ]
  },
  {
   "cell_type": "code",
   "execution_count": 6,
   "id": "0c208572",
   "metadata": {},
   "outputs": [],
   "source": [
    "from snip.api.books import remove_collaborator\n",
    "\n",
    "\n",
    "remove_collaborator(\n",
    "    account_token,\n",
    "    3,\n",
    "    collaborators[1][\"id\"],\n",
    "    collaborators[1][\"type\"]\n",
    ")"
   ]
  },
  {
   "cell_type": "markdown",
   "id": "374b1801",
   "metadata": {},
   "source": [
    "### Add a group\n",
    "\n",
    "You can add a group as a collaborator to a book using the `update_collaborator` function. This function allows you to specify the group ID and the desired permissions for the group on the book."
   ]
  },
  {
   "cell_type": "code",
   "execution_count": 7,
   "id": "9dbb4c1f",
   "metadata": {},
   "outputs": [],
   "source": [
    "from snip.api.books import update_collaborator\n",
    "\n",
    "update_collaborator(\n",
    "    account_token,\n",
    "    3,\n",
    "    {\n",
    "        'id': 2,\n",
    "        'type': 'group',\n",
    "        'pRead': True,\n",
    "        'pWrite': True,\n",
    "        'pDelete': False,\n",
    "        'pACL': False,\n",
    "        'owner': False,\n",
    "        'name': 'Test Group'\n",
    "    }\n",
    ")"
   ]
  },
  {
   "cell_type": "markdown",
   "id": "d22542db",
   "metadata": {},
   "source": [
    "### Invite a collaborator to a book\n",
    "\n",
    "You can invite a new collaborator to a book using the `invite_collaborator` function. This function sends an invitation to the specified user to collaborate on the book with the given permissions."
   ]
  },
  {
   "cell_type": "code",
   "execution_count": 3,
   "id": "aed1f7c9",
   "metadata": {},
   "outputs": [
    {
     "data": {
      "text/plain": [
       "{'success': True,\n",
       " 'invites': [{'id': 7,\n",
       "   'book_id': 3,\n",
       "   'user_id': 2,\n",
       "   'invited_by': 1,\n",
       "   'created_at': '2025-09-29T11:16:08.000Z',\n",
       "   'expire_at': '2025-10-01T11:16:08.000Z',\n",
       "   'accepted_at': None,\n",
       "   'emails': ['sebastian.mohr@test.de'],\n",
       "   'emails_verified': [True],\n",
       "   'credential_ids': [2],\n",
       "   'credential_types': ['password'],\n",
       "   'primary_credential_id': 2,\n",
       "   'invited_by_emails': ['sebastian@mohrenclan.de'],\n",
       "   'invited_by_emails_verified': [True],\n",
       "   'invited_by_credential_ids': [1],\n",
       "   'invited_by_credential_types': ['password'],\n",
       "   'invited_by_primary_credential_id': 1}]}"
      ]
     },
     "execution_count": 3,
     "metadata": {},
     "output_type": "execute_result"
    }
   ],
   "source": [
    "from snip.api.books import  invite_collaborator\n",
    "\n",
    "invite_collaborator(\n",
    "    account_token,\n",
    "    3,\n",
    "    \"sebastian.mohr@test.de\"\n",
    ")"
   ]
  }
 ],
 "metadata": {
  "kernelspec": {
   "display_name": "snip",
   "language": "python",
   "name": "python3"
  },
  "language_info": {
   "codemirror_mode": {
    "name": "ipython",
    "version": 3
   },
   "file_extension": ".py",
   "mimetype": "text/x-python",
   "name": "python",
   "nbconvert_exporter": "python",
   "pygments_lexer": "ipython3",
   "version": "3.12.11"
  }
 },
 "nbformat": 4,
 "nbformat_minor": 5
}
