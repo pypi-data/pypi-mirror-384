{
 "cells": [
  {
   "cell_type": "markdown",
   "metadata": {
    "deletable": true,
    "editable": true
   },
   "source": [
    "## Comparing pyfm2d and pykonal on a constant velocity model in cartesian coordinates\n",
    "\n",
    "Pykonal is an implementation of the fast marching method available here [https://github.com/malcolmw/pykonal](https://github.com/malcolmw/pykonal) and here we compare `pyfm2d` with `pykonal` for the cartesian 2d example example given here [https://malcolmw.github.io/pykonal-docs/examples.html](https://malcolmw.github.io/pykonal-docs/examples.html)\n",
    "\n",
    "Some observations...\n",
    "- Source grid refinement and resampling of the velocity model  are turned on by default in `pyfm2d`. While they increase computation time the resulting travel times are more accurate when compared with `pykonal` for a constant velocity model.\n",
    "- If we turn source grid refinement and resampling of the velocity model off in `pyfm2d` the numerical errors are comparable to `pykonal` with the execution time for `pyfm2d` being lower by a factor of $\\approx$ 25% when compard to `pykonal`.\n",
    "- `pyfm2d` is compiled with the `-fbounds-check` and `-fbacktrace ` flag changing them to `-O3` is might improve its performance further.\n"
   ]
  },
  {
   "cell_type": "code",
   "execution_count": 5,
   "metadata": {
    "deletable": true,
    "editable": true,
    "tags": []
   },
   "outputs": [],
   "source": [
    "%matplotlib inline\n",
    "import numpy as np\n",
    "import matplotlib.pyplot as plt\n",
    "import pyfm2d\n",
    "import time"
   ]
  },
  {
   "cell_type": "code",
   "execution_count": 6,
   "metadata": {},
   "outputs": [],
   "source": [
    "# This noteboook requires pykonal which can be installed by uncommenting the next line that is remove the #\n",
    "#!pip install pykonal"
   ]
  },
  {
   "cell_type": "code",
   "execution_count": 7,
   "metadata": {},
   "outputs": [],
   "source": [
    "# setup the problem size\n",
    "nx=80\n",
    "ny=80"
   ]
  },
  {
   "cell_type": "markdown",
   "metadata": {},
   "source": [
    "## pykonal"
   ]
  },
  {
   "cell_type": "code",
   "execution_count": 8,
   "metadata": {},
   "outputs": [],
   "source": [
    "# Import modules.\n",
    "import numpy as np\n",
    "import pykonal\n",
    "\n",
    "# Instantiate EikonalSolver object using Cartesian coordinates.\n",
    "solver = pykonal.EikonalSolver(coord_sys=\"cartesian\")\n",
    "# Set the coordinates of the lower bounds of the computational grid.\n",
    "# For Cartesian coordinates this is x_min, y_min, z_min.\n",
    "# In this example, the origin is the lower bound of the computation grid.\n",
    "solver.velocity.min_coords = 0, 0, 0\n",
    "# Set the interval between nodes of the computational grid.\n",
    "# For Cartesian coordinates this is dx, dy, dz.\n",
    "# In this example the nodes are separated by 1 km in in each direction.\n",
    "solver.velocity.node_intervals = 1, 1, 1\n",
    "# Set the number of nodes in the computational grid.\n",
    "# For Cartesian coordinates this is nx, ny, nz.\n",
    "# This is a 2D example, so we only want one node in the z direction.\n",
    "solver.velocity.npts = nx, ny, 1\n",
    "# Set the velocity model.\n",
    "# In this case the velocity is equale to 1 km/s everywhere.\n",
    "solver.velocity.values = np.ones(solver.velocity.npts)\n",
    "\n",
    "# Initialize the source. This is the trickiest part of the example.\n",
    "# The source coincides with the node at index (0, 0, 0)\n",
    "src_idx = 0, 0, 0\n",
    "# Set the traveltime at the source node to 0.\n",
    "solver.traveltime.values[src_idx] = 0\n",
    "# Set the unknown flag for the source node to False.\n",
    "# This is an FMM state variable indicating which values are completely\n",
    "# unknown. Setting it to False indicates that the node has a tentative value\n",
    "# assigned to it. In this case, the tentative value happens to be the true,\n",
    "# final value.\n",
    "solver.unknown[src_idx] = False\n",
    "# Push the index of the source node onto the narrow-band heap.\n",
    "solver.trial.push(*src_idx)\n",
    "# Solve the system.\n",
    "solver.solve()\n",
    "# And finally, get the traveltime values.\n",
    "ttpykonal=solver.traveltime.values[:,:,0]"
   ]
  },
  {
   "cell_type": "markdown",
   "metadata": {},
   "source": [
    "# pyfm2d"
   ]
  },
  {
   "cell_type": "code",
   "execution_count": 9,
   "metadata": {},
   "outputs": [],
   "source": [
    "extent = [0.0, nx, 0.0, ny]\n",
    "m = solver.velocity.values[:,:,0]\n",
    "g = pyfm2d.BasisModel(m, extent=extent)"
   ]
  },
  {
   "cell_type": "code",
   "execution_count": 10,
   "metadata": {},
   "outputs": [
    {
     "data": {
      "image/png": "[encoded data removed]",
      "text/plain": [
       "<Figure size 300x300 with 2 Axes>"
      ]
     },
     "metadata": {},
     "output_type": "display_data"
    }
   ],
   "source": [
    "velocity = g.get_velocity()\n",
    "pyfm2d.display_model(velocity, extent=extent, figsize=(3, 3), clim=(0.9, 1.1))"
   ]
  },
  {
   "cell_type": "code",
   "execution_count": 11,
   "metadata": {},
   "outputs": [],
   "source": [
    "srcs=np.array([0,0])\n",
    "recs=[]\n",
    "for i in range(nx):\n",
    "    for j in range(ny):\n",
    "        recs.append([i,j])\n",
    "recs=np.array(recs)"
   ]
  },
  {
   "cell_type": "code",
   "execution_count": 12,
   "metadata": {},
   "outputs": [
    {
     "name": "stdout",
     "output_type": "stream",
     "text": [
      "\n",
      "The command took 0.0019 seconds to execute.\n"
     ]
    }
   ],
   "source": [
    "# run wave front tracker\n",
    "options = pyfm2d.WaveTrackerOptions(\n",
    "    times=True,\n",
    "    frechet=False,\n",
    "    paths=False,\n",
    "    cartesian=True,\n",
    "    sourcedicelevel=1,\n",
    "    sourcegridsize=1,\n",
    "    dicex=1,\n",
    "    dicey=1\n",
    ")\n",
    "start_time = time.perf_counter()\n",
    "result = pyfm2d.calc_wavefronts(velocity, recs, srcs, extent=extent, options=options)\n",
    "end_time = time.perf_counter()\n",
    "elapsed_time = end_time - start_time\n",
    "print(f\"\\nThe command took {elapsed_time:.4f} seconds to execute.\")\n",
    "\n",
    "ttpyfm2d=result.ttimes"
   ]
  },
  {
   "cell_type": "markdown",
   "metadata": {},
   "source": [
    "## Analytical solution \n",
    "\n",
    "In the following we plot the difference between the solution computed by `pykonal` respectively `pyfm2d` and the analyticla solution for constant velcoity model defined in cartesian coordinates."
   ]
  },
  {
   "cell_type": "code",
   "execution_count": 13,
   "metadata": {},
   "outputs": [],
   "source": [
    "import matplotlib.pyplot as plt \n",
    "ttconst=np.zeros([nx,ny])\n",
    "for i in range(nx):\n",
    "    for j in range(ny):\n",
    "        ttconst[i,j]=np.sqrt((float(i)**2+float(j)**2))"
   ]
  },
  {
   "cell_type": "code",
   "execution_count": 14,
   "metadata": {},
   "outputs": [
    {
     "data": {
      "text/plain": [
       "<matplotlib.colorbar.Colorbar at 0x118a9ac10>"
      ]
     },
     "execution_count": 14,
     "metadata": {},
     "output_type": "execute_result"
    },
    {
     "data": {
      "image/png": "[encoded data removed]",
      "text/plain": [
       "<Figure size 640x480 with 2 Axes>"
      ]
     },
     "metadata": {},
     "output_type": "display_data"
    }
   ],
   "source": [
    "# difference for pyfm2d\n",
    "plt.plot()\n",
    "plt.imshow(ttpyfm2d.reshape(nx,ny)-ttconst, cmap='bwr', aspect='auto',clim=(-0.5, 0.5),) \n",
    "plt.colorbar(label='Delta')"
   ]
  },
  {
   "cell_type": "code",
   "execution_count": 15,
   "metadata": {},
   "outputs": [
    {
     "data": {
      "text/plain": [
       "<matplotlib.colorbar.Colorbar at 0x11a845d10>"
      ]
     },
     "execution_count": 15,
     "metadata": {},
     "output_type": "execute_result"
    },
    {
     "data": {
      "image/png": "[encoded data removed]",
      "text/plain": [
       "<Figure size 640x480 with 2 Axes>"
      ]
     },
     "metadata": {},
     "output_type": "display_data"
    }
   ],
   "source": [
    "# difference for pykonal\n",
    "plt.plot()\n",
    "plt.imshow(ttpykonal-ttconst, cmap='bwr', aspect='auto',clim=(-0.5, 0.5)) \n",
    "plt.colorbar(label='Delta')"
   ]
  },
  {
   "cell_type": "markdown",
   "metadata": {},
   "source": [
    "# Compare the execution time for 1000 runs"
   ]
  },
  {
   "cell_type": "code",
   "execution_count": 16,
   "metadata": {},
   "outputs": [
    {
     "name": "stdout",
     "output_type": "stream",
     "text": [
      "\n",
      " pyfm2d took 1.0888 seconds to execute.\n"
     ]
    }
   ],
   "source": [
    "\n",
    "start_time = time.perf_counter()\n",
    "for i in range(1000):\n",
    "    options = pyfm2d.WaveTrackerOptions(\n",
    "    times=True,\n",
    "    frechet=False,\n",
    "    paths=False,\n",
    "    cartesian=True,\n",
    "    sourcedicelevel=1,\n",
    "    sourcegridsize=1,\n",
    "    dicex=1,\n",
    "    dicey=1\n",
    "    )\n",
    "    result = pyfm2d.calc_wavefronts(velocity, recs, srcs, extent=extent, options=options)\n",
    "end_time = time.perf_counter()\n",
    "elapsed_time = end_time - start_time\n",
    "print(f\"\\n pyfm2d took {elapsed_time:.4f} seconds to execute.\")"
   ]
  },
  {
   "cell_type": "code",
   "execution_count": 17,
   "metadata": {},
   "outputs": [
    {
     "name": "stdout",
     "output_type": "stream",
     "text": [
      "\n",
      "pykonal took 1.5799 seconds to execute.\n"
     ]
    }
   ],
   "source": [
    "start_time = time.perf_counter()\n",
    "for i in range(1000):\n",
    "    solver = pykonal.EikonalSolver(coord_sys=\"cartesian\")\n",
    "    solver.velocity.min_coords = 0, 0, 0\n",
    "    solver.velocity.node_intervals = 1, 1, 1\n",
    "    solver.velocity.npts = nx, ny, 1\n",
    "    solver.velocity.values = np.ones(solver.velocity.npts)\n",
    "    src_idx = 0, 0, 0\n",
    "    solver.traveltime.values[src_idx] = 0\n",
    "    solver.unknown[src_idx] = False\n",
    "    solver.trial.push(*src_idx)\n",
    "    solver.solve()\n",
    "end_time = time.perf_counter()\n",
    "elapsed_time = end_time - start_time\n",
    "print(f\"\\npykonal took {elapsed_time:.4f} seconds to execute.\")"
   ]
  }
 ],
 "metadata": {
  "kernelspec": {
   "display_name": "Python 3 (ipykernel)",
   "language": "python",
   "name": "python3"
  },
  "language_info": {
   "codemirror_mode": {
    "name": "ipython",
    "version": 3
   },
   "file_extension": ".py",
   "mimetype": "text/x-python",
   "name": "python",
   "nbconvert_exporter": "python",
   "pygments_lexer": "ipython3",
   "version": "3.13.1"
  }
 },
 "nbformat": 4,
 "nbformat_minor": 4
}
