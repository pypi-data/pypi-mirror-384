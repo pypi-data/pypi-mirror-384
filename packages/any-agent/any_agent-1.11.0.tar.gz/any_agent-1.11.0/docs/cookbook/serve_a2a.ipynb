{
 "cells": [
  {
   "cell_type": "markdown",
   "metadata": {},
   "source": [
    "# Serve an Agent with A2A\n",
    "\n",
    "Once you've built an agent, a common question might be: \"how do I let other developers/applications access it?\". Enter the [A2A](https://github.com/google-a2a/A2A) protocol by Google! A2A is \"An open protocol enabling communication and interoperability between opaque agentic applications\". Any-Agent provides support for serving an agent over A2A, as simple as calling `await agent.serve_async()`. In this tutorial, we'll build and serve an agent using any-agent, and show how you can serve and interact with it via the A2A protocol.\n",
    "\n",
    "<img src=\"/images/serve_a2a.png\" alt=\"\" style=\"max-width: 500px; height: auto;\">\n",
    "\n",
    "This tutorial assumes basic familiarity with any-agent: if you haven't used any-agent before you may also find the [Creating your first agent](./../your_first_agent) cookbook to be useful.\n",
    "\n",
    "Note: because this tutorial relies upon advanced stdio/stderr communication using the MCP Server, it cannot be run on Google Colab.\n"
   ]
  },
  {
   "cell_type": "markdown",
   "metadata": {},
   "source": [
    "## Install Dependencies\n",
    "\n",
    "any-agent uses the python asyncio module to support async functionality. When running in Jupyter notebooks, this means we need to enable the use of nested event loops. We'll install any-agent and enable this below using nest_asyncio."
   ]
  },
  {
   "cell_type": "code",
   "execution_count": null,
   "metadata": {},
   "outputs": [],
   "source": [
    "%pip install 'any-agent[a2a]'\n",
    "\n",
    "import nest_asyncio\n",
    "\n",
    "nest_asyncio.apply()"
   ]
  },
  {
   "cell_type": "code",
   "execution_count": 2,
   "metadata": {},
   "outputs": [
    {
     "name": "stdout",
     "output_type": "stream",
     "text": [
      "MISTRAL_API_KEY found in environment.\n"
     ]
    }
   ],
   "source": [
    "import os\n",
    "from getpass import getpass\n",
    "\n",
    "# This notebook communicates with Mistral models using the Mistral API.\n",
    "if \"MISTRAL_API_KEY\" not in os.environ:\n",
    "    print(\"MISTRAL_API_KEY not found in environment!\")\n",
    "    api_key = getpass(\"Please enter your MISTRAL_API_KEY: \")\n",
    "    os.environ[\"MISTRAL_API_KEY\"] = api_key\n",
    "    print(\"MISTRAL_API_KEY set for this session!\")\n",
    "else:\n",
    "    print(\"MISTRAL_API_KEY found in environment.\")"
   ]
  },
  {
   "cell_type": "markdown",
   "metadata": {},
   "source": [
    "## Configure and run the server\n",
    "\n",
    "Let's give our agent the very simple capability to access the current time through a Model Context Protocol (MCP) server. For this demo, we'll use the async method `agent.serve_async` so that we can easily run both the server and client from inside the notebook. "
   ]
  },
  {
   "cell_type": "code",
   "execution_count": null,
   "metadata": {},
   "outputs": [],
   "source": [
    "import asyncio\n",
    "\n",
    "import httpx\n",
    "\n",
    "from any_agent import AgentConfig, AnyAgent\n",
    "from any_agent.config import MCPStdio\n",
    "from any_agent.serving import A2AServingConfig\n",
    "\n",
    "# This MCP Tool relies upon uvx https://docs.astral.sh/uv/getting-started/installation/\n",
    "time_tool = MCPStdio(\n",
    "    command=\"uvx\",\n",
    "    args=[\"mcp-server-time\", \"--local-timezone=America/New_York\"],\n",
    "    tools=[\n",
    "        \"get_current_time\",\n",
    "    ],\n",
    ")\n",
    "\n",
    "time = await AnyAgent.create_async(\n",
    "    \"tinyagent\",  # See all options in https://mozilla-ai.github.io/any-agent/\n",
    "    AgentConfig(\n",
    "        model_id=\"mistral/mistral-small-latest\",\n",
    "        description=\"I'm an agent to help with getting the time\",\n",
    "        tools=[time_tool],\n",
    "    ),\n",
    ")\n",
    "time_handle = await time.serve_async(A2AServingConfig(port=0))\n",
    "\n",
    "server_port = time_handle.port\n",
    "\n",
    "max_attempts = 20\n",
    "poll_interval = 0.5\n",
    "attempts = 0\n",
    "server_url = f\"http://localhost:{server_port}\"\n",
    "async with httpx.AsyncClient() as client:\n",
    "    while True:\n",
    "        try:\n",
    "            # Try to make a basic GET request to check if server is responding\n",
    "            await client.get(server_url, timeout=1.0)\n",
    "            print(f\"Server is ready at {server_url}\")\n",
    "            break\n",
    "        except (httpx.RequestError, httpx.TimeoutException):\n",
    "            # Server not ready yet, continue polling\n",
    "            pass\n",
    "\n",
    "        await asyncio.sleep(poll_interval)\n",
    "        attempts += 1\n",
    "        if attempts >= max_attempts:\n",
    "            msg = f\"Could not connect to {server_url}. Tried {max_attempts} times with {poll_interval} second interval.\"\n",
    "            raise ConnectionError(msg)"
   ]
  },
  {
   "cell_type": "markdown",
   "metadata": {},
   "source": [
    "## Call the agent using A2AClient\n",
    "\n",
    "Now that the agent is listening on localhost, we can communicate with it from any other application that supports A2A. For this tutorial we'll use the a2a python SDK, but any client that implements the [A2A Protocol](https://github.com/google-a2a/A2A) would also work."
   ]
  },
  {
   "cell_type": "markdown",
   "metadata": {},
   "source": [
    "### A2A Agent Card\n",
    "\n",
    "Before giving the agent a task, we first retrieve the agent's model card, which is a description of the agents capabilities. This helps the client understand what the agent can do, and what A2A features are available."
   ]
  },
  {
   "cell_type": "code",
   "execution_count": 4,
   "metadata": {},
   "outputs": [
    {
     "name": "stdout",
     "output_type": "stream",
     "text": [
      "{\n",
      "  \"capabilities\": {\n",
      "    \"extensions\": null,\n",
      "    \"pushNotifications\": false,\n",
      "    \"stateTransitionHistory\": false,\n",
      "    \"streaming\": false\n",
      "  },\n",
      "  \"defaultInputModes\": [\n",
      "    \"text\"\n",
      "  ],\n",
      "  \"defaultOutputModes\": [\n",
      "    \"text\"\n",
      "  ],\n",
      "  \"description\": \"I'm an agent to help with getting the time\",\n",
      "  \"documentationUrl\": null,\n",
      "  \"iconUrl\": null,\n",
      "  \"name\": \"any_agent\",\n",
      "  \"provider\": null,\n",
      "  \"security\": null,\n",
      "  \"securitySchemes\": null,\n",
      "  \"skills\": [\n",
      "    {\n",
      "      \"description\": \"Get current time in a specific timezones\",\n",
      "      \"examples\": null,\n",
      "      \"id\": \"any_agent-get_current_time\",\n",
      "      \"inputModes\": null,\n",
      "      \"name\": \"get_current_time\",\n",
      "      \"outputModes\": null,\n",
      "      \"tags\": []\n",
      "    }\n",
      "  ],\n",
      "  \"supportsAuthenticatedExtendedCard\": null,\n",
      "  \"url\": \"http://localhost:54288/\",\n",
      "  \"version\": \"0.1.0\"\n",
      "}\n"
     ]
    }
   ],
   "source": [
    "import httpx\n",
    "from a2a.client import A2ACardResolver, A2AClient\n",
    "from a2a.types import AgentCard\n",
    "\n",
    "# Create the httpx client\n",
    "httpx_client = httpx.AsyncClient()\n",
    "\n",
    "agent_card: AgentCard = await A2ACardResolver(\n",
    "    httpx_client,\n",
    "    base_url=f\"http://localhost:{server_port}\",\n",
    ").get_agent_card(http_kwargs=None)\n",
    "print(agent_card.model_dump_json(indent=2))\n",
    "\n",
    "client = A2AClient(httpx_client=httpx_client, agent_card=agent_card)"
   ]
  },
  {
   "cell_type": "markdown",
   "metadata": {},
   "source": [
    "### Make a request of the agent\n",
    "\n",
    "Now that we've connected to the agent with the A2AClient, we're ready to make a request of the agent! "
   ]
  },
  {
   "cell_type": "code",
   "execution_count": 5,
   "metadata": {},
   "outputs": [
    {
     "data": {
      "text/html": [
       "<pre style=\"white-space:pre;overflow-x:auto;line-height:normal;font-family:Menlo,'DejaVu Sans Mono',consolas,'Courier New',monospace\"><span style=\"color: #808000; text-decoration-color: #808000\">╭────────────────────────────────────────────</span> CALL_LLM: mistral/mistral-medium-latest <span style=\"color: #808000; text-decoration-color: #808000\">─────────────────────────────────────────────╮</span>\n",
       "<span style=\"color: #808000; text-decoration-color: #808000\">│ </span><span style=\"color: #c0c0c0; text-decoration-color: #c0c0c0\">╭─</span><span style=\"color: #808000; text-decoration-color: #808000\"> INPUT </span><span style=\"color: #c0c0c0; text-decoration-color: #c0c0c0\">─────────────────────────────────────────────────────────────────────────────────────────────────────╮</span><span style=\"color: #808000; text-decoration-color: #808000\"> │</span>\n",
       "<span style=\"color: #808000; text-decoration-color: #808000\">│ </span><span style=\"color: #c0c0c0; text-decoration-color: #c0c0c0\">│ </span><span style=\"color: #c0c0c0; text-decoration-color: #c0c0c0; font-weight: bold\">[</span><span style=\"color: #c0c0c0; text-decoration-color: #c0c0c0\">                                                                                                           │</span><span style=\"color: #808000; text-decoration-color: #808000\"> │</span>\n",
       "<span style=\"color: #808000; text-decoration-color: #808000\">│ </span><span style=\"color: #c0c0c0; text-decoration-color: #c0c0c0\">│   </span><span style=\"color: #c0c0c0; text-decoration-color: #c0c0c0; font-weight: bold\">{</span><span style=\"color: #c0c0c0; text-decoration-color: #c0c0c0\">                                                                                                         │</span><span style=\"color: #808000; text-decoration-color: #808000\"> │</span>\n",
       "<span style=\"color: #808000; text-decoration-color: #808000\">│ </span><span style=\"color: #c0c0c0; text-decoration-color: #c0c0c0\">│     </span><span style=\"color: #000080; text-decoration-color: #000080; font-weight: bold\">\"role\"</span><span style=\"color: #c0c0c0; text-decoration-color: #c0c0c0\">: </span><span style=\"color: #008000; text-decoration-color: #008000\">\"system\"</span><span style=\"color: #c0c0c0; text-decoration-color: #c0c0c0\">,                                                                                       │</span><span style=\"color: #808000; text-decoration-color: #808000\"> │</span>\n",
       "<span style=\"color: #808000; text-decoration-color: #808000\">│ </span><span style=\"color: #c0c0c0; text-decoration-color: #c0c0c0\">│     </span><span style=\"color: #000080; text-decoration-color: #000080; font-weight: bold\">\"content\"</span><span style=\"color: #c0c0c0; text-decoration-color: #c0c0c0\">: </span><span style=\"color: #008000; text-decoration-color: #008000\">\"You are an agent - please keep going until the user's query is completely resolved, before </span><span style=\"color: #c0c0c0; text-decoration-color: #c0c0c0\"> │</span><span style=\"color: #808000; text-decoration-color: #808000\"> │</span>\n",
       "<span style=\"color: #808000; text-decoration-color: #808000\">│ </span><span style=\"color: #c0c0c0; text-decoration-color: #c0c0c0\">│   </span><span style=\"color: #c0c0c0; text-decoration-color: #c0c0c0; font-weight: bold\">}</span><span style=\"color: #c0c0c0; text-decoration-color: #c0c0c0\">,                                                                                                        │</span><span style=\"color: #808000; text-decoration-color: #808000\"> │</span>\n",
       "<span style=\"color: #808000; text-decoration-color: #808000\">│ </span><span style=\"color: #c0c0c0; text-decoration-color: #c0c0c0\">│   </span><span style=\"color: #c0c0c0; text-decoration-color: #c0c0c0; font-weight: bold\">{</span><span style=\"color: #c0c0c0; text-decoration-color: #c0c0c0\">                                                                                                         │</span><span style=\"color: #808000; text-decoration-color: #808000\"> │</span>\n",
       "<span style=\"color: #808000; text-decoration-color: #808000\">│ </span><span style=\"color: #c0c0c0; text-decoration-color: #c0c0c0\">│     </span><span style=\"color: #000080; text-decoration-color: #000080; font-weight: bold\">\"role\"</span><span style=\"color: #c0c0c0; text-decoration-color: #c0c0c0\">: </span><span style=\"color: #008000; text-decoration-color: #008000\">\"user\"</span><span style=\"color: #c0c0c0; text-decoration-color: #c0c0c0\">,                                                                                         │</span><span style=\"color: #808000; text-decoration-color: #808000\"> │</span>\n",
       "<span style=\"color: #808000; text-decoration-color: #808000\">│ </span><span style=\"color: #c0c0c0; text-decoration-color: #c0c0c0\">│     </span><span style=\"color: #000080; text-decoration-color: #000080; font-weight: bold\">\"content\"</span><span style=\"color: #c0c0c0; text-decoration-color: #c0c0c0\">: </span><span style=\"color: #008000; text-decoration-color: #008000\">\"What time is it?\"</span><span style=\"color: #c0c0c0; text-decoration-color: #c0c0c0\">                                                                           │</span><span style=\"color: #808000; text-decoration-color: #808000\"> │</span>\n",
       "<span style=\"color: #808000; text-decoration-color: #808000\">│ </span><span style=\"color: #c0c0c0; text-decoration-color: #c0c0c0\">│   </span><span style=\"color: #c0c0c0; text-decoration-color: #c0c0c0; font-weight: bold\">}</span><span style=\"color: #c0c0c0; text-decoration-color: #c0c0c0\">                                                                                                         │</span><span style=\"color: #808000; text-decoration-color: #808000\"> │</span>\n",
       "<span style=\"color: #808000; text-decoration-color: #808000\">│ </span><span style=\"color: #c0c0c0; text-decoration-color: #c0c0c0\">│ </span><span style=\"color: #c0c0c0; text-decoration-color: #c0c0c0; font-weight: bold\">]</span><span style=\"color: #c0c0c0; text-decoration-color: #c0c0c0\">                                                                                                           │</span><span style=\"color: #808000; text-decoration-color: #808000\"> │</span>\n",
       "<span style=\"color: #808000; text-decoration-color: #808000\">│ </span><span style=\"color: #c0c0c0; text-decoration-color: #c0c0c0\">╰─────────────────────────────────────────────────────────────────────────────────────────────────────────────╯</span><span style=\"color: #808000; text-decoration-color: #808000\"> │</span>\n",
       "<span style=\"color: #808000; text-decoration-color: #808000\">│ </span><span style=\"color: #c0c0c0; text-decoration-color: #c0c0c0\">╭─</span><span style=\"color: #808000; text-decoration-color: #808000\"> OUTPUT </span><span style=\"color: #c0c0c0; text-decoration-color: #c0c0c0\">────────────────────────────────────────────────────────────────────────────────────────────────────╮</span><span style=\"color: #808000; text-decoration-color: #808000\"> │</span>\n",
       "<span style=\"color: #808000; text-decoration-color: #808000\">│ </span><span style=\"color: #c0c0c0; text-decoration-color: #c0c0c0\">│ </span><span style=\"color: #c0c0c0; text-decoration-color: #c0c0c0; font-weight: bold\">[</span><span style=\"color: #c0c0c0; text-decoration-color: #c0c0c0\">                                                                                                           │</span><span style=\"color: #808000; text-decoration-color: #808000\"> │</span>\n",
       "<span style=\"color: #808000; text-decoration-color: #808000\">│ </span><span style=\"color: #c0c0c0; text-decoration-color: #c0c0c0\">│   </span><span style=\"color: #c0c0c0; text-decoration-color: #c0c0c0; font-weight: bold\">{</span><span style=\"color: #c0c0c0; text-decoration-color: #c0c0c0\">                                                                                                         │</span><span style=\"color: #808000; text-decoration-color: #808000\"> │</span>\n",
       "<span style=\"color: #808000; text-decoration-color: #808000\">│ </span><span style=\"color: #c0c0c0; text-decoration-color: #c0c0c0\">│     </span><span style=\"color: #000080; text-decoration-color: #000080; font-weight: bold\">\"tool.name\"</span><span style=\"color: #c0c0c0; text-decoration-color: #c0c0c0\">: </span><span style=\"color: #008000; text-decoration-color: #008000\">\"get_current_time\"</span><span style=\"color: #c0c0c0; text-decoration-color: #c0c0c0\">,                                                                        │</span><span style=\"color: #808000; text-decoration-color: #808000\"> │</span>\n",
       "<span style=\"color: #808000; text-decoration-color: #808000\">│ </span><span style=\"color: #c0c0c0; text-decoration-color: #c0c0c0\">│     </span><span style=\"color: #000080; text-decoration-color: #000080; font-weight: bold\">\"tool.args\"</span><span style=\"color: #c0c0c0; text-decoration-color: #c0c0c0\">: </span><span style=\"color: #008000; text-decoration-color: #008000\">\"{\\\"timezone\\\":\\\"America/New_York\\\"}\"</span><span style=\"color: #c0c0c0; text-decoration-color: #c0c0c0\">                                                      │</span><span style=\"color: #808000; text-decoration-color: #808000\"> │</span>\n",
       "<span style=\"color: #808000; text-decoration-color: #808000\">│ </span><span style=\"color: #c0c0c0; text-decoration-color: #c0c0c0\">│   </span><span style=\"color: #c0c0c0; text-decoration-color: #c0c0c0; font-weight: bold\">}</span><span style=\"color: #c0c0c0; text-decoration-color: #c0c0c0\">                                                                                                         │</span><span style=\"color: #808000; text-decoration-color: #808000\"> │</span>\n",
       "<span style=\"color: #808000; text-decoration-color: #808000\">│ </span><span style=\"color: #c0c0c0; text-decoration-color: #c0c0c0\">│ </span><span style=\"color: #c0c0c0; text-decoration-color: #c0c0c0; font-weight: bold\">]</span><span style=\"color: #c0c0c0; text-decoration-color: #c0c0c0\">                                                                                                           │</span><span style=\"color: #808000; text-decoration-color: #808000\"> │</span>\n",
       "<span style=\"color: #808000; text-decoration-color: #808000\">│ </span><span style=\"color: #c0c0c0; text-decoration-color: #c0c0c0\">╰─────────────────────────────────────────────────────────────────────────────────────────────────────────────╯</span><span style=\"color: #808000; text-decoration-color: #808000\"> │</span>\n",
       "<span style=\"color: #808000; text-decoration-color: #808000\">│ </span><span style=\"color: #c0c0c0; text-decoration-color: #c0c0c0\">╭─</span><span style=\"color: #808000; text-decoration-color: #808000\"> USAGE </span><span style=\"color: #c0c0c0; text-decoration-color: #c0c0c0\">─────────────────────────────────────────────────────────────────────────────────────────────────────╮</span><span style=\"color: #808000; text-decoration-color: #808000\"> │</span>\n",
       "<span style=\"color: #808000; text-decoration-color: #808000\">│ </span><span style=\"color: #c0c0c0; text-decoration-color: #c0c0c0\">│ </span><span style=\"color: #c0c0c0; text-decoration-color: #c0c0c0; font-weight: bold\">{</span><span style=\"color: #c0c0c0; text-decoration-color: #c0c0c0\">                                                                                                           │</span><span style=\"color: #808000; text-decoration-color: #808000\"> │</span>\n",
       "<span style=\"color: #808000; text-decoration-color: #808000\">│ </span><span style=\"color: #c0c0c0; text-decoration-color: #c0c0c0\">│   </span><span style=\"color: #000080; text-decoration-color: #000080; font-weight: bold\">\"input_tokens\"</span><span style=\"color: #c0c0c0; text-decoration-color: #c0c0c0\">: </span><span style=\"color: #008080; text-decoration-color: #008080; font-weight: bold\">227</span><span style=\"color: #c0c0c0; text-decoration-color: #c0c0c0\">,                                                                                      │</span><span style=\"color: #808000; text-decoration-color: #808000\"> │</span>\n",
       "<span style=\"color: #808000; text-decoration-color: #808000\">│ </span><span style=\"color: #c0c0c0; text-decoration-color: #c0c0c0\">│   </span><span style=\"color: #000080; text-decoration-color: #000080; font-weight: bold\">\"output_tokens\"</span><span style=\"color: #c0c0c0; text-decoration-color: #c0c0c0\">: </span><span style=\"color: #008080; text-decoration-color: #008080; font-weight: bold\">18</span><span style=\"color: #c0c0c0; text-decoration-color: #c0c0c0\">                                                                                       │</span><span style=\"color: #808000; text-decoration-color: #808000\"> │</span>\n",
       "<span style=\"color: #808000; text-decoration-color: #808000\">│ </span><span style=\"color: #c0c0c0; text-decoration-color: #c0c0c0\">│ </span><span style=\"color: #c0c0c0; text-decoration-color: #c0c0c0; font-weight: bold\">}</span><span style=\"color: #c0c0c0; text-decoration-color: #c0c0c0\">                                                                                                           │</span><span style=\"color: #808000; text-decoration-color: #808000\"> │</span>\n",
       "<span style=\"color: #808000; text-decoration-color: #808000\">│ </span><span style=\"color: #c0c0c0; text-decoration-color: #c0c0c0\">╰─────────────────────────────────────────────────────────────────────────────────────────────────────────────╯</span><span style=\"color: #808000; text-decoration-color: #808000\"> │</span>\n",
       "<span style=\"color: #808000; text-decoration-color: #808000\">╰─────────────────────────────────────────────────────────────────────────────────────────────────────────────────╯</span>\n",
       "</pre>\n"
      ],
      "text/plain": [
       "\u001b[33m╭─\u001b[0m\u001b[33m───────────────────────────────────────────\u001b[0m CALL_LLM: mistral/mistral-medium-latest \u001b[33m────────────────────────────────────────────\u001b[0m\u001b[33m─╮\u001b[0m\n",
       "\u001b[33m│\u001b[0m\u001b[33m \u001b[0m\u001b[37m╭─\u001b[0m\u001b[33m INPUT \u001b[0m\u001b[37m────────────────────────────────────────────────────────────────────────────────────────────────────\u001b[0m\u001b[37m─╮\u001b[0m\u001b[33m \u001b[0m\u001b[33m│\u001b[0m\n",
       "\u001b[33m│\u001b[0m\u001b[33m \u001b[0m\u001b[37m│\u001b[0m\u001b[37m \u001b[0m\u001b[1;37m[\u001b[0m\u001b[37m                                                                                                          \u001b[0m\u001b[37m \u001b[0m\u001b[37m│\u001b[0m\u001b[33m \u001b[0m\u001b[33m│\u001b[0m\n",
       "\u001b[33m│\u001b[0m\u001b[33m \u001b[0m\u001b[37m│\u001b[0m\u001b[37m \u001b[0m\u001b[37m  \u001b[0m\u001b[1;37m{\u001b[0m\u001b[37m                                                                                                        \u001b[0m\u001b[37m \u001b[0m\u001b[37m│\u001b[0m\u001b[33m \u001b[0m\u001b[33m│\u001b[0m\n",
       "\u001b[33m│\u001b[0m\u001b[33m \u001b[0m\u001b[37m│\u001b[0m\u001b[37m \u001b[0m\u001b[37m    \u001b[0m\u001b[1;34m\"role\"\u001b[0m\u001b[37m: \u001b[0m\u001b[32m\"system\"\u001b[0m\u001b[37m,\u001b[0m\u001b[37m                                                                                      \u001b[0m\u001b[37m \u001b[0m\u001b[37m│\u001b[0m\u001b[33m \u001b[0m\u001b[33m│\u001b[0m\n",
       "\u001b[33m│\u001b[0m\u001b[33m \u001b[0m\u001b[37m│\u001b[0m\u001b[37m \u001b[0m\u001b[37m    \u001b[0m\u001b[1;34m\"content\"\u001b[0m\u001b[37m: \u001b[0m\u001b[32m\"You are an agent - please keep going until the user's query is completely resolved, before \u001b[0m\u001b[37m \u001b[0m\u001b[37m│\u001b[0m\u001b[33m \u001b[0m\u001b[33m│\u001b[0m\n",
       "\u001b[33m│\u001b[0m\u001b[33m \u001b[0m\u001b[37m│\u001b[0m\u001b[37m \u001b[0m\u001b[37m  \u001b[0m\u001b[1;37m}\u001b[0m\u001b[37m,\u001b[0m\u001b[37m                                                                                                       \u001b[0m\u001b[37m \u001b[0m\u001b[37m│\u001b[0m\u001b[33m \u001b[0m\u001b[33m│\u001b[0m\n",
       "\u001b[33m│\u001b[0m\u001b[33m \u001b[0m\u001b[37m│\u001b[0m\u001b[37m \u001b[0m\u001b[37m  \u001b[0m\u001b[1;37m{\u001b[0m\u001b[37m                                                                                                        \u001b[0m\u001b[37m \u001b[0m\u001b[37m│\u001b[0m\u001b[33m \u001b[0m\u001b[33m│\u001b[0m\n",
       "\u001b[33m│\u001b[0m\u001b[33m \u001b[0m\u001b[37m│\u001b[0m\u001b[37m \u001b[0m\u001b[37m    \u001b[0m\u001b[1;34m\"role\"\u001b[0m\u001b[37m: \u001b[0m\u001b[32m\"user\"\u001b[0m\u001b[37m,\u001b[0m\u001b[37m                                                                                        \u001b[0m\u001b[37m \u001b[0m\u001b[37m│\u001b[0m\u001b[33m \u001b[0m\u001b[33m│\u001b[0m\n",
       "\u001b[33m│\u001b[0m\u001b[33m \u001b[0m\u001b[37m│\u001b[0m\u001b[37m \u001b[0m\u001b[37m    \u001b[0m\u001b[1;34m\"content\"\u001b[0m\u001b[37m: \u001b[0m\u001b[32m\"What time is it?\"\u001b[0m\u001b[37m                                                                          \u001b[0m\u001b[37m \u001b[0m\u001b[37m│\u001b[0m\u001b[33m \u001b[0m\u001b[33m│\u001b[0m\n",
       "\u001b[33m│\u001b[0m\u001b[33m \u001b[0m\u001b[37m│\u001b[0m\u001b[37m \u001b[0m\u001b[37m  \u001b[0m\u001b[1;37m}\u001b[0m\u001b[37m                                                                                                        \u001b[0m\u001b[37m \u001b[0m\u001b[37m│\u001b[0m\u001b[33m \u001b[0m\u001b[33m│\u001b[0m\n",
       "\u001b[33m│\u001b[0m\u001b[33m \u001b[0m\u001b[37m│\u001b[0m\u001b[37m \u001b[0m\u001b[1;37m]\u001b[0m\u001b[37m                                                                                                          \u001b[0m\u001b[37m \u001b[0m\u001b[37m│\u001b[0m\u001b[33m \u001b[0m\u001b[33m│\u001b[0m\n",
       "\u001b[33m│\u001b[0m\u001b[33m \u001b[0m\u001b[37m╰─────────────────────────────────────────────────────────────────────────────────────────────────────────────╯\u001b[0m\u001b[33m \u001b[0m\u001b[33m│\u001b[0m\n",
       "\u001b[33m│\u001b[0m\u001b[33m \u001b[0m\u001b[37m╭─\u001b[0m\u001b[33m OUTPUT \u001b[0m\u001b[37m───────────────────────────────────────────────────────────────────────────────────────────────────\u001b[0m\u001b[37m─╮\u001b[0m\u001b[33m \u001b[0m\u001b[33m│\u001b[0m\n",
       "\u001b[33m│\u001b[0m\u001b[33m \u001b[0m\u001b[37m│\u001b[0m\u001b[37m \u001b[0m\u001b[1;37m[\u001b[0m\u001b[37m                                                                                                          \u001b[0m\u001b[37m \u001b[0m\u001b[37m│\u001b[0m\u001b[33m \u001b[0m\u001b[33m│\u001b[0m\n",
       "\u001b[33m│\u001b[0m\u001b[33m \u001b[0m\u001b[37m│\u001b[0m\u001b[37m \u001b[0m\u001b[37m  \u001b[0m\u001b[1;37m{\u001b[0m\u001b[37m                                                                                                        \u001b[0m\u001b[37m \u001b[0m\u001b[37m│\u001b[0m\u001b[33m \u001b[0m\u001b[33m│\u001b[0m\n",
       "\u001b[33m│\u001b[0m\u001b[33m \u001b[0m\u001b[37m│\u001b[0m\u001b[37m \u001b[0m\u001b[37m    \u001b[0m\u001b[1;34m\"tool.name\"\u001b[0m\u001b[37m: \u001b[0m\u001b[32m\"get_current_time\"\u001b[0m\u001b[37m,\u001b[0m\u001b[37m                                                                       \u001b[0m\u001b[37m \u001b[0m\u001b[37m│\u001b[0m\u001b[33m \u001b[0m\u001b[33m│\u001b[0m\n",
       "\u001b[33m│\u001b[0m\u001b[33m \u001b[0m\u001b[37m│\u001b[0m\u001b[37m \u001b[0m\u001b[37m    \u001b[0m\u001b[1;34m\"tool.args\"\u001b[0m\u001b[37m: \u001b[0m\u001b[32m\"{\\\"timezone\\\":\\\"America/New_York\\\"}\"\u001b[0m\u001b[37m                                                     \u001b[0m\u001b[37m \u001b[0m\u001b[37m│\u001b[0m\u001b[33m \u001b[0m\u001b[33m│\u001b[0m\n",
       "\u001b[33m│\u001b[0m\u001b[33m \u001b[0m\u001b[37m│\u001b[0m\u001b[37m \u001b[0m\u001b[37m  \u001b[0m\u001b[1;37m}\u001b[0m\u001b[37m                                                                                                        \u001b[0m\u001b[37m \u001b[0m\u001b[37m│\u001b[0m\u001b[33m \u001b[0m\u001b[33m│\u001b[0m\n",
       "\u001b[33m│\u001b[0m\u001b[33m \u001b[0m\u001b[37m│\u001b[0m\u001b[37m \u001b[0m\u001b[1;37m]\u001b[0m\u001b[37m                                                                                                          \u001b[0m\u001b[37m \u001b[0m\u001b[37m│\u001b[0m\u001b[33m \u001b[0m\u001b[33m│\u001b[0m\n",
       "\u001b[33m│\u001b[0m\u001b[33m \u001b[0m\u001b[37m╰─────────────────────────────────────────────────────────────────────────────────────────────────────────────╯\u001b[0m\u001b[33m \u001b[0m\u001b[33m│\u001b[0m\n",
       "\u001b[33m│\u001b[0m\u001b[33m \u001b[0m\u001b[37m╭─\u001b[0m\u001b[33m USAGE \u001b[0m\u001b[37m────────────────────────────────────────────────────────────────────────────────────────────────────\u001b[0m\u001b[37m─╮\u001b[0m\u001b[33m \u001b[0m\u001b[33m│\u001b[0m\n",
       "\u001b[33m│\u001b[0m\u001b[33m \u001b[0m\u001b[37m│\u001b[0m\u001b[37m \u001b[0m\u001b[1;37m{\u001b[0m\u001b[37m                                                                                                          \u001b[0m\u001b[37m \u001b[0m\u001b[37m│\u001b[0m\u001b[33m \u001b[0m\u001b[33m│\u001b[0m\n",
       "\u001b[33m│\u001b[0m\u001b[33m \u001b[0m\u001b[37m│\u001b[0m\u001b[37m \u001b[0m\u001b[37m  \u001b[0m\u001b[1;34m\"input_tokens\"\u001b[0m\u001b[37m: \u001b[0m\u001b[1;36m227\u001b[0m\u001b[37m,\u001b[0m\u001b[37m                                                                                     \u001b[0m\u001b[37m \u001b[0m\u001b[37m│\u001b[0m\u001b[33m \u001b[0m\u001b[33m│\u001b[0m\n",
       "\u001b[33m│\u001b[0m\u001b[33m \u001b[0m\u001b[37m│\u001b[0m\u001b[37m \u001b[0m\u001b[37m  \u001b[0m\u001b[1;34m\"output_tokens\"\u001b[0m\u001b[37m: \u001b[0m\u001b[1;36m18\u001b[0m\u001b[37m                                                                                      \u001b[0m\u001b[37m \u001b[0m\u001b[37m│\u001b[0m\u001b[33m \u001b[0m\u001b[33m│\u001b[0m\n",
       "\u001b[33m│\u001b[0m\u001b[33m \u001b[0m\u001b[37m│\u001b[0m\u001b[37m \u001b[0m\u001b[1;37m}\u001b[0m\u001b[37m                                                                                                          \u001b[0m\u001b[37m \u001b[0m\u001b[37m│\u001b[0m\u001b[33m \u001b[0m\u001b[33m│\u001b[0m\n",
       "\u001b[33m│\u001b[0m\u001b[33m \u001b[0m\u001b[37m╰─────────────────────────────────────────────────────────────────────────────────────────────────────────────╯\u001b[0m\u001b[33m \u001b[0m\u001b[33m│\u001b[0m\n",
       "\u001b[33m╰─────────────────────────────────────────────────────────────────────────────────────────────────────────────────╯\u001b[0m\n"
      ]
     },
     "metadata": {},
     "output_type": "display_data"
    },
    {
     "data": {
      "text/html": [
       "<pre style=\"white-space:pre;overflow-x:auto;line-height:normal;font-family:Menlo,'DejaVu Sans Mono',consolas,'Courier New',monospace\"><span style=\"color: #000080; text-decoration-color: #000080\">╭────────────────────────────────────────</span> EXECUTE_TOOL: get_current_time <span style=\"color: #000080; text-decoration-color: #000080\">─────────────────────────────────────────╮</span>\n",
       "<span style=\"color: #000080; text-decoration-color: #000080\">│ </span><span style=\"color: #c0c0c0; text-decoration-color: #c0c0c0\">╭─</span><span style=\"color: #000080; text-decoration-color: #000080\"> Input </span><span style=\"color: #c0c0c0; text-decoration-color: #c0c0c0\">─────────────────────────────────────────────────────────────────────────────────────────────────────╮</span><span style=\"color: #000080; text-decoration-color: #000080\"> │</span>\n",
       "<span style=\"color: #000080; text-decoration-color: #000080\">│ </span><span style=\"color: #c0c0c0; text-decoration-color: #c0c0c0\">│ </span><span style=\"color: #c0c0c0; text-decoration-color: #c0c0c0; font-weight: bold\">{</span><span style=\"color: #c0c0c0; text-decoration-color: #c0c0c0\">                                                                                                           │</span><span style=\"color: #000080; text-decoration-color: #000080\"> │</span>\n",
       "<span style=\"color: #000080; text-decoration-color: #000080\">│ </span><span style=\"color: #c0c0c0; text-decoration-color: #c0c0c0\">│   </span><span style=\"color: #000080; text-decoration-color: #000080; font-weight: bold\">\"timezone\"</span><span style=\"color: #c0c0c0; text-decoration-color: #c0c0c0\">: </span><span style=\"color: #008000; text-decoration-color: #008000\">\"America/New_York\"</span><span style=\"color: #c0c0c0; text-decoration-color: #c0c0c0\">                                                                            │</span><span style=\"color: #000080; text-decoration-color: #000080\"> │</span>\n",
       "<span style=\"color: #000080; text-decoration-color: #000080\">│ </span><span style=\"color: #c0c0c0; text-decoration-color: #c0c0c0\">│ </span><span style=\"color: #c0c0c0; text-decoration-color: #c0c0c0; font-weight: bold\">}</span><span style=\"color: #c0c0c0; text-decoration-color: #c0c0c0\">                                                                                                           │</span><span style=\"color: #000080; text-decoration-color: #000080\"> │</span>\n",
       "<span style=\"color: #000080; text-decoration-color: #000080\">│ </span><span style=\"color: #c0c0c0; text-decoration-color: #c0c0c0\">╰─────────────────────────────────────────────────────────────────────────────────────────────────────────────╯</span><span style=\"color: #000080; text-decoration-color: #000080\"> │</span>\n",
       "<span style=\"color: #000080; text-decoration-color: #000080\">│ </span><span style=\"color: #c0c0c0; text-decoration-color: #c0c0c0\">╭─</span><span style=\"color: #000080; text-decoration-color: #000080\"> OUTPUT </span><span style=\"color: #c0c0c0; text-decoration-color: #c0c0c0\">────────────────────────────────────────────────────────────────────────────────────────────────────╮</span><span style=\"color: #000080; text-decoration-color: #000080\"> │</span>\n",
       "<span style=\"color: #000080; text-decoration-color: #000080\">│ </span><span style=\"color: #c0c0c0; text-decoration-color: #c0c0c0\">│ </span><span style=\"color: #c0c0c0; text-decoration-color: #c0c0c0; font-weight: bold\">{</span><span style=\"color: #c0c0c0; text-decoration-color: #c0c0c0\">                                                                                                           │</span><span style=\"color: #000080; text-decoration-color: #000080\"> │</span>\n",
       "<span style=\"color: #000080; text-decoration-color: #000080\">│ </span><span style=\"color: #c0c0c0; text-decoration-color: #c0c0c0\">│   </span><span style=\"color: #000080; text-decoration-color: #000080; font-weight: bold\">\"timezone\"</span><span style=\"color: #c0c0c0; text-decoration-color: #c0c0c0\">: </span><span style=\"color: #008000; text-decoration-color: #008000\">\"America/New_York\"</span><span style=\"color: #c0c0c0; text-decoration-color: #c0c0c0\">,                                                                           │</span><span style=\"color: #000080; text-decoration-color: #000080\"> │</span>\n",
       "<span style=\"color: #000080; text-decoration-color: #000080\">│ </span><span style=\"color: #c0c0c0; text-decoration-color: #c0c0c0\">│   </span><span style=\"color: #000080; text-decoration-color: #000080; font-weight: bold\">\"datetime\"</span><span style=\"color: #c0c0c0; text-decoration-color: #c0c0c0\">: </span><span style=\"color: #008000; text-decoration-color: #008000\">\"2025-06-27T08:20:44-04:00\"</span><span style=\"color: #c0c0c0; text-decoration-color: #c0c0c0\">,                                                                  │</span><span style=\"color: #000080; text-decoration-color: #000080\"> │</span>\n",
       "<span style=\"color: #000080; text-decoration-color: #000080\">│ </span><span style=\"color: #c0c0c0; text-decoration-color: #c0c0c0\">│   </span><span style=\"color: #000080; text-decoration-color: #000080; font-weight: bold\">\"is_dst\"</span><span style=\"color: #c0c0c0; text-decoration-color: #c0c0c0\">: </span><span style=\"color: #00ff00; text-decoration-color: #00ff00; font-style: italic\">true</span><span style=\"color: #c0c0c0; text-decoration-color: #c0c0c0\">                                                                                            │</span><span style=\"color: #000080; text-decoration-color: #000080\"> │</span>\n",
       "<span style=\"color: #000080; text-decoration-color: #000080\">│ </span><span style=\"color: #c0c0c0; text-decoration-color: #c0c0c0\">│ </span><span style=\"color: #c0c0c0; text-decoration-color: #c0c0c0; font-weight: bold\">}</span><span style=\"color: #c0c0c0; text-decoration-color: #c0c0c0\">                                                                                                           │</span><span style=\"color: #000080; text-decoration-color: #000080\"> │</span>\n",
       "<span style=\"color: #000080; text-decoration-color: #000080\">│ </span><span style=\"color: #c0c0c0; text-decoration-color: #c0c0c0\">╰─────────────────────────────────────────────────────────────────────────────────────────────────────────────╯</span><span style=\"color: #000080; text-decoration-color: #000080\"> │</span>\n",
       "<span style=\"color: #000080; text-decoration-color: #000080\">╰─────────────────────────────────────────────────────────────────────────────────────────────────────────────────╯</span>\n",
       "</pre>\n"
      ],
      "text/plain": [
       "\u001b[34m╭─\u001b[0m\u001b[34m───────────────────────────────────────\u001b[0m EXECUTE_TOOL: get_current_time \u001b[34m────────────────────────────────────────\u001b[0m\u001b[34m─╮\u001b[0m\n",
       "\u001b[34m│\u001b[0m\u001b[34m \u001b[0m\u001b[37m╭─\u001b[0m\u001b[34m Input \u001b[0m\u001b[37m────────────────────────────────────────────────────────────────────────────────────────────────────\u001b[0m\u001b[37m─╮\u001b[0m\u001b[34m \u001b[0m\u001b[34m│\u001b[0m\n",
       "\u001b[34m│\u001b[0m\u001b[34m \u001b[0m\u001b[37m│\u001b[0m\u001b[37m \u001b[0m\u001b[1;37m{\u001b[0m\u001b[37m                                                                                                          \u001b[0m\u001b[37m \u001b[0m\u001b[37m│\u001b[0m\u001b[34m \u001b[0m\u001b[34m│\u001b[0m\n",
       "\u001b[34m│\u001b[0m\u001b[34m \u001b[0m\u001b[37m│\u001b[0m\u001b[37m \u001b[0m\u001b[37m  \u001b[0m\u001b[1;34m\"timezone\"\u001b[0m\u001b[37m: \u001b[0m\u001b[32m\"America/New_York\"\u001b[0m\u001b[37m                                                                           \u001b[0m\u001b[37m \u001b[0m\u001b[37m│\u001b[0m\u001b[34m \u001b[0m\u001b[34m│\u001b[0m\n",
       "\u001b[34m│\u001b[0m\u001b[34m \u001b[0m\u001b[37m│\u001b[0m\u001b[37m \u001b[0m\u001b[1;37m}\u001b[0m\u001b[37m                                                                                                          \u001b[0m\u001b[37m \u001b[0m\u001b[37m│\u001b[0m\u001b[34m \u001b[0m\u001b[34m│\u001b[0m\n",
       "\u001b[34m│\u001b[0m\u001b[34m \u001b[0m\u001b[37m╰─────────────────────────────────────────────────────────────────────────────────────────────────────────────╯\u001b[0m\u001b[34m \u001b[0m\u001b[34m│\u001b[0m\n",
       "\u001b[34m│\u001b[0m\u001b[34m \u001b[0m\u001b[37m╭─\u001b[0m\u001b[34m OUTPUT \u001b[0m\u001b[37m───────────────────────────────────────────────────────────────────────────────────────────────────\u001b[0m\u001b[37m─╮\u001b[0m\u001b[34m \u001b[0m\u001b[34m│\u001b[0m\n",
       "\u001b[34m│\u001b[0m\u001b[34m \u001b[0m\u001b[37m│\u001b[0m\u001b[37m \u001b[0m\u001b[1;37m{\u001b[0m\u001b[37m                                                                                                          \u001b[0m\u001b[37m \u001b[0m\u001b[37m│\u001b[0m\u001b[34m \u001b[0m\u001b[34m│\u001b[0m\n",
       "\u001b[34m│\u001b[0m\u001b[34m \u001b[0m\u001b[37m│\u001b[0m\u001b[37m \u001b[0m\u001b[37m  \u001b[0m\u001b[1;34m\"timezone\"\u001b[0m\u001b[37m: \u001b[0m\u001b[32m\"America/New_York\"\u001b[0m\u001b[37m,\u001b[0m\u001b[37m                                                                          \u001b[0m\u001b[37m \u001b[0m\u001b[37m│\u001b[0m\u001b[34m \u001b[0m\u001b[34m│\u001b[0m\n",
       "\u001b[34m│\u001b[0m\u001b[34m \u001b[0m\u001b[37m│\u001b[0m\u001b[37m \u001b[0m\u001b[37m  \u001b[0m\u001b[1;34m\"datetime\"\u001b[0m\u001b[37m: \u001b[0m\u001b[32m\"2025-06-27T08:20:44-04:00\"\u001b[0m\u001b[37m,\u001b[0m\u001b[37m                                                                 \u001b[0m\u001b[37m \u001b[0m\u001b[37m│\u001b[0m\u001b[34m \u001b[0m\u001b[34m│\u001b[0m\n",
       "\u001b[34m│\u001b[0m\u001b[34m \u001b[0m\u001b[37m│\u001b[0m\u001b[37m \u001b[0m\u001b[37m  \u001b[0m\u001b[1;34m\"is_dst\"\u001b[0m\u001b[37m: \u001b[0m\u001b[3;92mtrue\u001b[0m\u001b[37m                                                                                           \u001b[0m\u001b[37m \u001b[0m\u001b[37m│\u001b[0m\u001b[34m \u001b[0m\u001b[34m│\u001b[0m\n",
       "\u001b[34m│\u001b[0m\u001b[34m \u001b[0m\u001b[37m│\u001b[0m\u001b[37m \u001b[0m\u001b[1;37m}\u001b[0m\u001b[37m                                                                                                          \u001b[0m\u001b[37m \u001b[0m\u001b[37m│\u001b[0m\u001b[34m \u001b[0m\u001b[34m│\u001b[0m\n",
       "\u001b[34m│\u001b[0m\u001b[34m \u001b[0m\u001b[37m╰─────────────────────────────────────────────────────────────────────────────────────────────────────────────╯\u001b[0m\u001b[34m \u001b[0m\u001b[34m│\u001b[0m\n",
       "\u001b[34m╰─────────────────────────────────────────────────────────────────────────────────────────────────────────────────╯\u001b[0m\n"
      ]
     },
     "metadata": {},
     "output_type": "display_data"
    },
    {
     "data": {
      "text/html": [
       "<pre style=\"white-space:pre;overflow-x:auto;line-height:normal;font-family:Menlo,'DejaVu Sans Mono',consolas,'Courier New',monospace\"><span style=\"color: #808000; text-decoration-color: #808000\">╭────────────────────────────────────────────</span> CALL_LLM: mistral/mistral-medium-latest <span style=\"color: #808000; text-decoration-color: #808000\">─────────────────────────────────────────────╮</span>\n",
       "<span style=\"color: #808000; text-decoration-color: #808000\">│ </span><span style=\"color: #c0c0c0; text-decoration-color: #c0c0c0\">╭─</span><span style=\"color: #808000; text-decoration-color: #808000\"> OUTPUT </span><span style=\"color: #c0c0c0; text-decoration-color: #c0c0c0\">────────────────────────────────────────────────────────────────────────────────────────────────────╮</span><span style=\"color: #808000; text-decoration-color: #808000\"> │</span>\n",
       "<span style=\"color: #808000; text-decoration-color: #808000\">│ </span><span style=\"color: #c0c0c0; text-decoration-color: #c0c0c0\">│ The current time in the America/New_York timezone is 8:20 AM on June 27, 2025. If you want to know the time │</span><span style=\"color: #808000; text-decoration-color: #808000\"> │</span>\n",
       "<span style=\"color: #808000; text-decoration-color: #808000\">│ </span><span style=\"color: #c0c0c0; text-decoration-color: #c0c0c0\">│ in another timezone, please let me know.                                                                    │</span><span style=\"color: #808000; text-decoration-color: #808000\"> │</span>\n",
       "<span style=\"color: #808000; text-decoration-color: #808000\">│ </span><span style=\"color: #c0c0c0; text-decoration-color: #c0c0c0\">╰─────────────────────────────────────────────────────────────────────────────────────────────────────────────╯</span><span style=\"color: #808000; text-decoration-color: #808000\"> │</span>\n",
       "<span style=\"color: #808000; text-decoration-color: #808000\">│ </span><span style=\"color: #c0c0c0; text-decoration-color: #c0c0c0\">╭─</span><span style=\"color: #808000; text-decoration-color: #808000\"> USAGE </span><span style=\"color: #c0c0c0; text-decoration-color: #c0c0c0\">─────────────────────────────────────────────────────────────────────────────────────────────────────╮</span><span style=\"color: #808000; text-decoration-color: #808000\"> │</span>\n",
       "<span style=\"color: #808000; text-decoration-color: #808000\">│ </span><span style=\"color: #c0c0c0; text-decoration-color: #c0c0c0\">│ </span><span style=\"color: #c0c0c0; text-decoration-color: #c0c0c0; font-weight: bold\">{</span><span style=\"color: #c0c0c0; text-decoration-color: #c0c0c0\">                                                                                                           │</span><span style=\"color: #808000; text-decoration-color: #808000\"> │</span>\n",
       "<span style=\"color: #808000; text-decoration-color: #808000\">│ </span><span style=\"color: #c0c0c0; text-decoration-color: #c0c0c0\">│   </span><span style=\"color: #000080; text-decoration-color: #000080; font-weight: bold\">\"input_tokens\"</span><span style=\"color: #c0c0c0; text-decoration-color: #c0c0c0\">: </span><span style=\"color: #008080; text-decoration-color: #008080; font-weight: bold\">295</span><span style=\"color: #c0c0c0; text-decoration-color: #c0c0c0\">,                                                                                      │</span><span style=\"color: #808000; text-decoration-color: #808000\"> │</span>\n",
       "<span style=\"color: #808000; text-decoration-color: #808000\">│ </span><span style=\"color: #c0c0c0; text-decoration-color: #c0c0c0\">│   </span><span style=\"color: #000080; text-decoration-color: #000080; font-weight: bold\">\"output_tokens\"</span><span style=\"color: #c0c0c0; text-decoration-color: #c0c0c0\">: </span><span style=\"color: #008080; text-decoration-color: #008080; font-weight: bold\">42</span><span style=\"color: #c0c0c0; text-decoration-color: #c0c0c0\">                                                                                       │</span><span style=\"color: #808000; text-decoration-color: #808000\"> │</span>\n",
       "<span style=\"color: #808000; text-decoration-color: #808000\">│ </span><span style=\"color: #c0c0c0; text-decoration-color: #c0c0c0\">│ </span><span style=\"color: #c0c0c0; text-decoration-color: #c0c0c0; font-weight: bold\">}</span><span style=\"color: #c0c0c0; text-decoration-color: #c0c0c0\">                                                                                                           │</span><span style=\"color: #808000; text-decoration-color: #808000\"> │</span>\n",
       "<span style=\"color: #808000; text-decoration-color: #808000\">│ </span><span style=\"color: #c0c0c0; text-decoration-color: #c0c0c0\">╰─────────────────────────────────────────────────────────────────────────────────────────────────────────────╯</span><span style=\"color: #808000; text-decoration-color: #808000\"> │</span>\n",
       "<span style=\"color: #808000; text-decoration-color: #808000\">╰─────────────────────────────────────────────────────────────────────────────────────────────────────────────────╯</span>\n",
       "</pre>\n"
      ],
      "text/plain": [
       "\u001b[33m╭─\u001b[0m\u001b[33m───────────────────────────────────────────\u001b[0m CALL_LLM: mistral/mistral-medium-latest \u001b[33m────────────────────────────────────────────\u001b[0m\u001b[33m─╮\u001b[0m\n",
       "\u001b[33m│\u001b[0m\u001b[33m \u001b[0m\u001b[37m╭─\u001b[0m\u001b[33m OUTPUT \u001b[0m\u001b[37m───────────────────────────────────────────────────────────────────────────────────────────────────\u001b[0m\u001b[37m─╮\u001b[0m\u001b[33m \u001b[0m\u001b[33m│\u001b[0m\n",
       "\u001b[33m│\u001b[0m\u001b[33m \u001b[0m\u001b[37m│\u001b[0m\u001b[37m \u001b[0m\u001b[37mThe current time in the America/New_York timezone is 8:20 AM on June 27, 2025. If you want to know the time\u001b[0m\u001b[37m \u001b[0m\u001b[37m│\u001b[0m\u001b[33m \u001b[0m\u001b[33m│\u001b[0m\n",
       "\u001b[33m│\u001b[0m\u001b[33m \u001b[0m\u001b[37m│\u001b[0m\u001b[37m \u001b[0m\u001b[37min another timezone, please let me know.                                                                   \u001b[0m\u001b[37m \u001b[0m\u001b[37m│\u001b[0m\u001b[33m \u001b[0m\u001b[33m│\u001b[0m\n",
       "\u001b[33m│\u001b[0m\u001b[33m \u001b[0m\u001b[37m╰─────────────────────────────────────────────────────────────────────────────────────────────────────────────╯\u001b[0m\u001b[33m \u001b[0m\u001b[33m│\u001b[0m\n",
       "\u001b[33m│\u001b[0m\u001b[33m \u001b[0m\u001b[37m╭─\u001b[0m\u001b[33m USAGE \u001b[0m\u001b[37m────────────────────────────────────────────────────────────────────────────────────────────────────\u001b[0m\u001b[37m─╮\u001b[0m\u001b[33m \u001b[0m\u001b[33m│\u001b[0m\n",
       "\u001b[33m│\u001b[0m\u001b[33m \u001b[0m\u001b[37m│\u001b[0m\u001b[37m \u001b[0m\u001b[1;37m{\u001b[0m\u001b[37m                                                                                                          \u001b[0m\u001b[37m \u001b[0m\u001b[37m│\u001b[0m\u001b[33m \u001b[0m\u001b[33m│\u001b[0m\n",
       "\u001b[33m│\u001b[0m\u001b[33m \u001b[0m\u001b[37m│\u001b[0m\u001b[37m \u001b[0m\u001b[37m  \u001b[0m\u001b[1;34m\"input_tokens\"\u001b[0m\u001b[37m: \u001b[0m\u001b[1;36m295\u001b[0m\u001b[37m,\u001b[0m\u001b[37m                                                                                     \u001b[0m\u001b[37m \u001b[0m\u001b[37m│\u001b[0m\u001b[33m \u001b[0m\u001b[33m│\u001b[0m\n",
       "\u001b[33m│\u001b[0m\u001b[33m \u001b[0m\u001b[37m│\u001b[0m\u001b[37m \u001b[0m\u001b[37m  \u001b[0m\u001b[1;34m\"output_tokens\"\u001b[0m\u001b[37m: \u001b[0m\u001b[1;36m42\u001b[0m\u001b[37m                                                                                      \u001b[0m\u001b[37m \u001b[0m\u001b[37m│\u001b[0m\u001b[33m \u001b[0m\u001b[33m│\u001b[0m\n",
       "\u001b[33m│\u001b[0m\u001b[33m \u001b[0m\u001b[37m│\u001b[0m\u001b[37m \u001b[0m\u001b[1;37m}\u001b[0m\u001b[37m                                                                                                          \u001b[0m\u001b[37m \u001b[0m\u001b[37m│\u001b[0m\u001b[33m \u001b[0m\u001b[33m│\u001b[0m\n",
       "\u001b[33m│\u001b[0m\u001b[33m \u001b[0m\u001b[37m╰─────────────────────────────────────────────────────────────────────────────────────────────────────────────╯\u001b[0m\u001b[33m \u001b[0m\u001b[33m│\u001b[0m\n",
       "\u001b[33m╰─────────────────────────────────────────────────────────────────────────────────────────────────────────────────╯\u001b[0m\n"
      ]
     },
     "metadata": {},
     "output_type": "display_data"
    }
   ],
   "source": [
    "from uuid import uuid4\n",
    "\n",
    "from a2a.types import MessageSendParams, SendMessageRequest\n",
    "\n",
    "send_message_payload = {\n",
    "    \"message\": {\n",
    "        \"role\": \"user\",\n",
    "        \"parts\": [{\"kind\": \"text\", \"text\": \"What time is it?\"}],\n",
    "        \"messageId\": uuid4().hex,\n",
    "    },\n",
    "}\n",
    "request = SendMessageRequest(\n",
    "    id=str(uuid4()), params=MessageSendParams(**send_message_payload)\n",
    ")\n",
    "response = await client.send_message(request, http_kwargs={\"timeout\": 30.0})\n",
    "# Close the httpx client when done\n",
    "await httpx_client.aclose()"
   ]
  },
  {
   "cell_type": "code",
   "execution_count": 6,
   "metadata": {},
   "outputs": [
    {
     "name": "stdout",
     "output_type": "stream",
     "text": [
      "{\n",
      "  \"id\": \"fb2bed8d-5a97-4200-9d85-9435fa7e5056\",\n",
      "  \"jsonrpc\": \"2.0\",\n",
      "  \"result\": {\n",
      "    \"artifacts\": null,\n",
      "    \"contextId\": \"2bc7f223-b5ea-4e26-a135-329ecd15fb11\",\n",
      "    \"history\": [\n",
      "      {\n",
      "        \"contextId\": \"2bc7f223-b5ea-4e26-a135-329ecd15fb11\",\n",
      "        \"extensions\": null,\n",
      "        \"kind\": \"message\",\n",
      "        \"messageId\": \"35685ee6f31c428aa9b93c1e98eb9fc8\",\n",
      "        \"metadata\": null,\n",
      "        \"parts\": [\n",
      "          {\n",
      "            \"kind\": \"text\",\n",
      "            \"metadata\": null,\n",
      "            \"text\": \"What time is it?\"\n",
      "          }\n",
      "        ],\n",
      "        \"referenceTaskIds\": null,\n",
      "        \"role\": \"user\",\n",
      "        \"taskId\": \"d740f7e4-d44d-4df8-bc7e-f82379ff803c\"\n",
      "      }\n",
      "    ],\n",
      "    \"id\": \"d740f7e4-d44d-4df8-bc7e-f82379ff803c\",\n",
      "    \"kind\": \"task\",\n",
      "    \"metadata\": null,\n",
      "    \"status\": {\n",
      "      \"message\": {\n",
      "        \"contextId\": \"2bc7f223-b5ea-4e26-a135-329ecd15fb11\",\n",
      "        \"extensions\": null,\n",
      "        \"kind\": \"message\",\n",
      "        \"messageId\": \"64bb6ebe-4f8b-4579-a509-8ba3c3d59a51\",\n",
      "        \"metadata\": null,\n",
      "        \"parts\": [\n",
      "          {\n",
      "            \"kind\": \"text\",\n",
      "            \"metadata\": null,\n",
      "            \"text\": \"{\\\"result\\\":\\\"The current time in the America/New_York timezone is 8:20 AM on June 27, 2025. If you want to know the time in another timezone, please let me know.\\\"}\"\n",
      "          }\n",
      "        ],\n",
      "        \"referenceTaskIds\": null,\n",
      "        \"role\": \"agent\",\n",
      "        \"taskId\": \"d740f7e4-d44d-4df8-bc7e-f82379ff803c\"\n",
      "      },\n",
      "      \"state\": \"completed\",\n",
      "      \"timestamp\": \"2025-06-27T12:20:45.987764+00:00\"\n",
      "    }\n",
      "  }\n",
      "}\n"
     ]
    }
   ],
   "source": [
    "print(response.model_dump_json(indent=2))"
   ]
  },
  {
   "cell_type": "markdown",
   "metadata": {},
   "source": [
    "## Cleanup\n",
    "\n",
    "In order to shut down the A2A server, we can set the `should_exit` property of the server, which will cause the server to shutdown and the asyncio task to complete."
   ]
  },
  {
   "cell_type": "code",
   "execution_count": 7,
   "metadata": {},
   "outputs": [
    {
     "name": "stdout",
     "output_type": "stream",
     "text": [
      "Agent server has been shut down!\n"
     ]
    }
   ],
   "source": [
    "await time_handle.shutdown()\n",
    "print(\"Agent server has been shut down!\")"
   ]
  }
 ],
 "metadata": {
  "kernelspec": {
   "display_name": ".venv",
   "language": "python",
   "name": "python3"
  },
  "language_info": {
   "codemirror_mode": {
    "name": "ipython",
    "version": 3
   },
   "file_extension": ".py",
   "mimetype": "text/x-python",
   "name": "python",
   "nbconvert_exporter": "python",
   "pygments_lexer": "ipython3",
   "version": "3.13.2"
  }
 },
 "nbformat": 4,
 "nbformat_minor": 2
}
