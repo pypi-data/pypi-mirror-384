{
  "cells": [
    {
      "cell_type": "markdown",
      "metadata": {
        "customInput": null,
        "originalKey": "abb093d5-56c6-43e6-8d6f-fabba25ff973",
        "showInput": false
      },
      "source": [
        "# balance Quickstart (raking): Analyzing and adjusting the bias on a simulated toy dataset\n",
        "\n",
        "The raking method is an advanced technique that extends post-stratification. It is well-suited for situations where we have marginal distributions of multiple covariates and we don't know the joint distribution. Raking works by applying post-stratification to the data based on the first covariate, using the resulting output weights as input for adjustment based on the second covariate, and so forth. Once all covariates have been utilized for adjustment, the process is repeated until a specified level of convergence is attained\n",
        "\n",
        "One of the main advantages of raking is its ability to work with user-level data while also utilizing marginal distributions that lack user-level granularity. Another benefit is its capacity to closely fit these distributions, depending on the convergence achieved. This is in contrast to techniques such as inverse probability weighting (IPW) and covariate balancing propensity score (CBPS), which may only approximate the data and potentially fail to fit them even at marginal levels.\n",
        "\n",
        "This notebook demonstrates how to use the raking method and showcases the high degree of fit it can provide."
      ]
    },
    {
      "cell_type": "markdown",
      "metadata": {
        "customInput": null,
        "originalKey": "4050c200-cd44-4aad-968f-72face9198ca",
        "showInput": false
      },
      "source": [
        "## Load the data"
      ]
    },
    {
      "cell_type": "code",
      "execution_count": null,
      "metadata": {
        "collapsed": false,
        "customInput": null,
        "customOutput": null,
        "executionStartTime": 1682332608466,
        "executionStopTime": 1682332608572,
        "originalKey": "6825f1ef-c172-4b08-b5c2-51d5e9777038",
        "requestMsgId": "5658525b-ddb2-41a8-845a-4c37ebe2d76c",
        "showInput": true
      },
      "outputs": [],
      "source": [
        "from balance import load_data"
      ]
    },
    {
      "cell_type": "code",
      "execution_count": null,
      "metadata": {
        "collapsed": false,
        "customInput": null,
        "customOutput": null,
        "executionStartTime": 1682332609077,
        "executionStopTime": 1682332609192,
        "originalKey": "33b8b973-bc29-46bf-872c-174ee7f76dcd",
        "requestMsgId": "c9829a94-4476-4ed7-92e2-80e5e0fc5698",
        "showInput": true
      },
      "outputs": [],
      "source": [
        "target_df, sample_df = load_data()\n",
        "\n",
        "print(\"target_df: \\n\", target_df.head())\n",
        "print(\"sample_df: \\n\", sample_df.head())"
      ]
    },
    {
      "cell_type": "code",
      "execution_count": null,
      "metadata": {
        "collapsed": false,
        "customInput": null,
        "customOutput": null,
        "executionStartTime": 1682332611156,
        "executionStopTime": 1682332611266,
        "originalKey": "015d2d0a-e740-4e08-85dd-47a332c1ca22",
        "requestMsgId": "9a1590ff-bc31-430e-9025-4803fb95fe0a",
        "showInput": true
      },
      "outputs": [],
      "source": [
        "from balance import Sample"
      ]
    },
    {
      "cell_type": "markdown",
      "metadata": {
        "customInput": null,
        "originalKey": "7b209a14-07d2-4432-98be-01e6fa4fa736",
        "showInput": false
      },
      "source": [
        "Raking can work with numerical variables since the variable is automatically bucketed. But for the simplicitiy of the discussion, we'll focus only on age and gender."
      ]
    },
    {
      "cell_type": "code",
      "execution_count": null,
      "metadata": {
        "collapsed": false,
        "customInput": null,
        "customOutput": null,
        "executionStartTime": 1682332614860,
        "executionStopTime": 1682332615540,
        "originalKey": "a3d32ede-794b-4935-951d-e0227c98d586",
        "requestMsgId": "3ddba5bc-d88f-4252-b812-81af878d6edd",
        "showInput": true
      },
      "outputs": [],
      "source": [
        "sample = Sample.from_frame(sample_df[['id', 'gender', 'age_group', 'happiness']], outcome_columns=[\"happiness\"])\n",
        "target = Sample.from_frame(target_df[['id', 'gender', 'age_group', 'happiness']], outcome_columns=[\"happiness\"])\n",
        "sample_with_target = sample.set_target(target)"
      ]
    },
    {
      "cell_type": "markdown",
      "metadata": {
        "customInput": null,
        "originalKey": "85aba7eb-5547-45c3-bea0-82c6187a8f2b",
        "showInput": false
      },
      "source": [
        "## Fit models using ipw and rake\n"
      ]
    },
    {
      "cell_type": "markdown",
      "metadata": {
        "customInput": null,
        "originalKey": "d5ccd82f-4fb3-4ddb-be1c-ba3c2c1e45d0",
        "showInput": false
      },
      "source": [
        "Fit an ipw model:"
      ]
    },
    {
      "cell_type": "code",
      "execution_count": null,
      "metadata": {
        "collapsed": false,
        "customInput": null,
        "customOutput": null,
        "executionStartTime": 1682332655221,
        "executionStopTime": 1682332657680,
        "originalKey": "6da3b43e-6879-4748-9b7f-2de4753fa70d",
        "requestMsgId": "8c02955e-a58b-444d-9e68-6e9aaa6bbe57",
        "showInput": true
      },
      "outputs": [],
      "source": [
        "adjusted_ipw = sample_with_target.adjust(method = \"ipw\")"
      ]
    },
    {
      "cell_type": "markdown",
      "metadata": {
        "customInput": null,
        "originalKey": "966a269c-2f58-44a3-983d-fd0c478aa126",
        "showInput": false
      },
      "source": [
        "Fit a raking model (on the user level data as input):"
      ]
    },
    {
      "cell_type": "code",
      "execution_count": null,
      "metadata": {
        "collapsed": false,
        "customInput": null,
        "customOutput": null,
        "executionStartTime": 1682332662788,
        "executionStopTime": 1682332663027,
        "originalKey": "bef6c6a0-58b9-4321-89d9-8d32a5cded4c",
        "requestMsgId": "345dab96-fe2a-4d04-b2c1-6288f4f17f5b",
        "showInput": true
      },
      "outputs": [],
      "source": [
        "adjusted_rake = sample_with_target.adjust(method = \"rake\")"
      ]
    },
    {
      "cell_type": "markdown",
      "metadata": {
        "customInput": null,
        "originalKey": "bc307e4d-cf61-4acc-afe8-3d19765d6f49",
        "showInput": false
      },
      "source": [
        "When comparing the results of ipw and rake, we can see that rake has a larger design effect, and that it provides a perfect fit. In contrast, ipw gives only a partial fit.\n",
        "\n",
        "We can see it in the ASMD and also the bar plots."
      ]
    },
    {
      "cell_type": "code",
      "execution_count": null,
      "metadata": {
        "collapsed": false,
        "customInput": null,
        "customOutput": null,
        "executionStartTime": 1682332666207,
        "executionStopTime": 1682332666609,
        "originalKey": "77d3ccca-02f7-4748-aa52-b3a14bf0a0af",
        "requestMsgId": "5e84b00d-266c-4de0-82ed-db763d6a6f29",
        "showInput": true
      },
      "outputs": [],
      "source": [
        "print(adjusted_ipw.summary())"
      ]
    },
    {
      "cell_type": "code",
      "execution_count": null,
      "metadata": {
        "collapsed": false,
        "customInput": null,
        "customOutput": null,
        "executionStartTime": 1682332666719,
        "executionStopTime": 1682332667251,
        "originalKey": "8479a3b0-a420-4be3-97a9-9ab4a60f91af",
        "requestMsgId": "719e2435-1da9-4af3-a068-3274b5016412",
        "showInput": true
      },
      "outputs": [],
      "source": [
        "print(adjusted_rake.summary())"
      ]
    },
    {
      "cell_type": "code",
      "execution_count": null,
      "metadata": {
        "collapsed": false,
        "customInput": null,
        "customOutput": null,
        "executionStartTime": 1682324875130,
        "executionStopTime": 1682324875279,
        "originalKey": "0371e3a8-08c8-4720-9945-8ec67ddc2717",
        "requestMsgId": "0371e3a8-08c8-4720-9945-8ec67ddc2717",
        "showInput": true
      },
      "outputs": [],
      "source": [
        "adjusted_ipw.covars().plot()"
      ]
    },
    {
      "cell_type": "code",
      "execution_count": null,
      "metadata": {
        "collapsed": false,
        "customInput": null,
        "customOutput": null,
        "executionStartTime": 1682273469917,
        "executionStopTime": 1682273470083,
        "originalKey": "f76f14f1-af73-4088-bf3d-749d550cf39d",
        "requestMsgId": "f76f14f1-af73-4088-bf3d-749d550cf39d",
        "showInput": true
      },
      "outputs": [],
      "source": [
        "adjusted_rake.covars().plot()"
      ]
    },
    {
      "cell_type": "markdown",
      "metadata": {
        "customInput": null,
        "originalKey": "663b280f-801e-4d14-9347-5d4fda95de0d",
        "showInput": false
      },
      "source": [
        "# Using marginal distribution with rake\n",
        "\n",
        "The benefit of rake is that we can define a target population from a marginal distribution, and fit towards it.\n",
        "The function to use for this purpose is `prepare_marginal_dist_for_raking`.\n",
        "\n",
        "In order to demonstrate this point, let us assume we have another target population in mind, with different proportions. Since it is known, we can create a sample with that target population based on a dict of marginal distributions using the `realize_dicts_of_proportions` function."
      ]
    },
    {
      "cell_type": "code",
      "execution_count": null,
      "metadata": {
        "collapsed": false,
        "customInput": null,
        "customOutput": null,
        "executionStartTime": 1682332791742,
        "executionStopTime": 1682332791850,
        "originalKey": "27c4209c-4b1e-4573-91e3-9d527be8b9a7",
        "requestMsgId": "d917036b-3f74-4335-8baf-ef805d8ed5d7",
        "showInput": true
      },
      "outputs": [],
      "source": [
        "from balance.weighting_methods.rake import prepare_marginal_dist_for_raking\n",
        "# import pandas as pd\n",
        "import numpy as np\n",
        "\n",
        "a_dict_with_marginal_distributions = {\"gender\": {\"Female\": 0.1, \"Male\": 0.85, np.nan: 0.05}, \"age_group\": {\"18-24\": 0.25, \"25-34\": 0.25, \"35-44\": 0.25, \"45+\": 0.25}}\n",
        "\n",
        "target_df_from_marginals = prepare_marginal_dist_for_raking(a_dict_with_marginal_distributions)"
      ]
    },
    {
      "cell_type": "code",
      "execution_count": null,
      "metadata": {
        "collapsed": false,
        "customInput": null,
        "customOutput": null,
        "executionStartTime": 1682332794230,
        "executionStopTime": 1682332794322,
        "originalKey": "2fb66d15-ef40-43c7-8929-33891fa14710",
        "requestMsgId": "95aff8b8-2e86-4d5e-94ba-24e40cb12f08",
        "showInput": true
      },
      "outputs": [],
      "source": [
        "target_df_from_marginals"
      ]
    },
    {
      "cell_type": "code",
      "execution_count": null,
      "metadata": {
        "collapsed": false,
        "customInput": null,
        "customOutput": null,
        "executionStartTime": 1682332800291,
        "executionStopTime": 1682332800301,
        "originalKey": "99901ad2-a712-44d3-a0c4-7500e7bd533d",
        "requestMsgId": "afcd3d70-f35f-4fe1-a849-11c4c9bfc3b4",
        "showInput": true
      },
      "outputs": [],
      "source": [
        "target_df_from_marginals.info()"
      ]
    },
    {
      "cell_type": "markdown",
      "metadata": {
        "customInput": null,
        "originalKey": "bf892f05-565a-494d-98c8-006411c8a274",
        "showInput": false
      },
      "source": [
        "With the new `target_df_from_marginals` object ready, we can use it as a target. Notice that this makes sense ONLY for the raking method. This should NOT be used for any other method."
      ]
    },
    {
      "cell_type": "code",
      "execution_count": null,
      "metadata": {
        "collapsed": false,
        "customInput": null,
        "customOutput": null,
        "executionStartTime": 1682325056147,
        "executionStopTime": 1682325056215,
        "originalKey": "e6fd0e53-4709-41ba-a02b-9c9441ee72e9",
        "requestMsgId": "e6fd0e53-4709-41ba-a02b-9c9441ee72e9",
        "showInput": true
      },
      "outputs": [],
      "source": [
        "target_from_marginals = Sample.from_frame(target_df_from_marginals)\n",
        "sample_with_target_2 = sample.set_target(target_from_marginals)"
      ]
    },
    {
      "cell_type": "markdown",
      "metadata": {
        "customInput": null,
        "originalKey": "8f4ec3c8-ba7e-491e-b265-01d058587935",
        "showInput": false
      },
      "source": [
        "And fit a raking model:"
      ]
    },
    {
      "cell_type": "code",
      "execution_count": null,
      "metadata": {
        "collapsed": false,
        "customInput": null,
        "customOutput": null,
        "executionStartTime": 1682325063425,
        "executionStopTime": 1682325063655,
        "originalKey": "56480464-6846-4c99-af4a-34725410e0ea",
        "requestMsgId": "56480464-6846-4c99-af4a-34725410e0ea",
        "showInput": true
      },
      "outputs": [],
      "source": [
        "adjusted_rake_2 = sample_with_target_2.adjust(method = \"rake\")"
      ]
    },
    {
      "cell_type": "markdown",
      "metadata": {
        "customInput": null,
        "originalKey": "fbca7171-a562-472d-859e-e509a0362113",
        "showInput": false
      },
      "source": [
        "As the following code shows, we get our data to have a perfect fit to the marginal distribution defined for age and gender."
      ]
    },
    {
      "cell_type": "code",
      "execution_count": null,
      "metadata": {
        "collapsed": false,
        "customInput": null,
        "customOutput": null,
        "executionStartTime": 1682325080054,
        "executionStopTime": 1682325080226,
        "originalKey": "f751310b-2684-443b-ae89-62919819a210",
        "requestMsgId": "f751310b-2684-443b-ae89-62919819a210",
        "showInput": true
      },
      "outputs": [],
      "source": [
        "print(adjusted_rake_2.summary())"
      ]
    },
    {
      "cell_type": "code",
      "execution_count": null,
      "metadata": {
        "collapsed": false,
        "customInput": null,
        "customOutput": null,
        "executionStartTime": 1682325091765,
        "executionStopTime": 1682325091827,
        "originalKey": "67d3e126-2c39-4627-9f20-b68b3d4e70fa",
        "requestMsgId": "67d3e126-2c39-4627-9f20-b68b3d4e70fa",
        "showInput": true
      },
      "outputs": [],
      "source": [
        "adjusted_rake_2.covars().plot()"
      ]
    },
    {
      "cell_type": "code",
      "execution_count": null,
      "metadata": {
        "customInput": null,
        "customOutput": null,
        "originalKey": "f0bbf69c-5e4a-4eed-8321-ff2cc8dad819",
        "showInput": true
      },
      "outputs": [],
      "source": []
    }
  ],
  "metadata": {
    "captumWidgetMessage": {},
    "dataExplorerConfig": {},
    "language_info": {
      "codemirror_mode": {
        "name": "ipython",
        "version": 3
      },
      "file_extension": ".py",
      "mimetype": "text/x-python",
      "name": "python",
      "nbconvert_exporter": "python",
      "pygments_lexer": "ipython3"
    },
    "last_kernel_id": "1fa57056-eece-4151-b3ca-8747a0cc0699",
    "last_msg_id": "597862a5-f6c6255ee69d7b8acbeb1345_184",
    "last_server_session_id": "f48c29ce-5d63-42db-b656-f5a6462592c9",
    "outputWidgetContext": {}
  },
  "nbformat": 4,
  "nbformat_minor": 2
}
