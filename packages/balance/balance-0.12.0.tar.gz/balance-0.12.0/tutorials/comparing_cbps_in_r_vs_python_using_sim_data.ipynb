{
  "metadata": {
    "dataExplorerConfig": {},
    "language_info": {
      "codemirror_mode": {
        "name": "ipython",
        "version": 3
      },
      "file_extension": ".py",
      "mimetype": "text/x-python",
      "name": "python",
      "nbconvert_exporter": "python",
      "pygments_lexer": "ipython3"
    },
    "captumWidgetMessage": {},
    "outputWidgetContext": {}
  },
  "nbformat": 4,
  "nbformat_minor": 2,
  "cells": [
    {
      "cell_type": "markdown",
      "metadata": {
        "originalKey": "d19f8d16-6b6b-416a-8da2-8cc81fcb7686",
        "showInput": false,
        "customInput": null
      },
      "source": [
        "# Comparing results of fitting CBPS between R's `CBPS` package and Python's `balance` package (using simulated data)\n",
        "\n",
        "This notebook shows how we can reproduce (almost exactly) the weights produced from R's [CBPS](https://cran.r-project.org/web/packages/CBPS/) package, using the implementation in balance.\n",
        "\n",
        "The example is based on simulated data that that was provided in the help page of the CBPS function (i.e.: `?CBPS::CBPS`, you can see it [here](https://rdrr.io/cran/CBPS/man/CBPS.html)).\n",
        "\n",
        "The R code used to create the data is available [here](https://github.com/facebookresearch/balance/blob/main/balance/datasets/sim_data_cbps.R)."
      ]
    },
    {
      "cell_type": "markdown",
      "metadata": {
        "originalKey": "237fdf43-b1a2-4283-8a1d-a38e4c450e94",
        "showInput": false,
        "customInput": null
      },
      "source": [
        "# Loading data and fitting CBPS using `balance`"
      ]
    },
    {
      "cell_type": "code",
      "metadata": {
        "originalKey": "9e62f224-d332-4ceb-86de-aa7290e59083",
        "showInput": true,
        "customInput": null,
        "collapsed": false,
        "requestMsgId": "9e62f224-d332-4ceb-86de-aa7290e59083",
        "executionStartTime": 1675970154624,
        "executionStopTime": 1675970154739,
        "customOutput": null
      },
      "source": [
        "import balance\n",
        "import numpy as np\n",
        "import pandas as pd\n",
        "import session_info\n",
        "\n",
        "from balance import Sample"
      ],
      "execution_count": null,
      "outputs": []
    },
    {
      "cell_type": "code",
      "metadata": {
        "originalKey": "f2c4536a-b987-4cee-8683-6c0897fffcf7",
        "showInput": true,
        "customInput": null,
        "collapsed": false,
        "requestMsgId": "f2c4536a-b987-4cee-8683-6c0897fffcf7",
        "executionStartTime": 1676043376105,
        "executionStopTime": 1676043376164,
        "customOutput": null
      },
      "source": [
        "target_df, sample_df = balance.datasets.load_data(\"sim_data_cbps\")\n",
        "# print(target_df.head())\n",
        "print(target_df.info())"
      ],
      "execution_count": null,
      "outputs": []
    },
    {
      "cell_type": "code",
      "metadata": {
        "originalKey": "35d01a29-a31d-4d46-a834-5a9dd253deb5",
        "showInput": true,
        "customInput": null,
        "collapsed": false,
        "requestMsgId": "35d01a29-a31d-4d46-a834-5a9dd253deb5",
        "executionStartTime": 1675970185260,
        "executionStopTime": 1675970185998,
        "customOutput": null
      },
      "source": [
        "sample = Sample.from_frame(sample_df, outcome_columns = ['y', 'cbps_weights'])\n",
        "target = Sample.from_frame(target_df, outcome_columns = ['y', 'cbps_weights'])\n",
        "sample_target = sample.set_target(target)"
      ],
      "execution_count": null,
      "outputs": []
    },
    {
      "cell_type": "code",
      "metadata": {
        "originalKey": "aaedb031-9864-435d-aff3-17be1df93b40",
        "showInput": true,
        "customInput": null,
        "collapsed": false,
        "requestMsgId": "aaedb031-9864-435d-aff3-17be1df93b40",
        "executionStartTime": 1675970189484,
        "executionStopTime": 1675970189943,
        "customOutput": null
      },
      "source": [
        "# adjust = sample_target.adjust(method = \"cbps\")  # the defaults of the function would not yield similar-enough results, so we need to adjust some parameters:\n",
        "adjust = sample_target.adjust(method = \"cbps\", transformations = None, weight_trimming_mean_ratio = None)"
      ],
      "execution_count": null,
      "outputs": []
    },
    {
      "cell_type": "markdown",
      "metadata": {
        "originalKey": "8eba6eda-0f62-4893-a542-7d384863eafb",
        "showInput": false,
        "customInput": null
      },
      "source": [
        "# Comparing results of `balance` and `CBPS` "
      ]
    },
    {
      "cell_type": "code",
      "metadata": {
        "originalKey": "51c86162-08a8-4b15-966f-059a08186452",
        "showInput": true,
        "customInput": null,
        "collapsed": false,
        "requestMsgId": "51c86162-08a8-4b15-966f-059a08186452",
        "executionStartTime": 1675970193200,
        "executionStopTime": 1675970193446,
        "customOutput": null
      },
      "source": [
        "# adjust.df.plot.scatter(x=\"cbps_weights\", y=\"weight\", color=\"blue\")\n",
        "adjust.df[[\"cbps_weights\", \"weight\"]].corr(method = \"pearson\")"
      ],
      "execution_count": null,
      "outputs": []
    },
    {
      "cell_type": "code",
      "metadata": {
        "originalKey": "3c62eca3-74fc-4ad9-93ff-149bfe8a38ef",
        "showInput": true,
        "customInput": null,
        "collapsed": false,
        "requestMsgId": "3c62eca3-74fc-4ad9-93ff-149bfe8a38ef",
        "executionStartTime": 1675970197424,
        "executionStopTime": 1675970197965,
        "customOutput": null
      },
      "source": [
        "# adjust.df.copy().assign(log_cbps_weights=np.log(adjust.df['cbps_weights']),log_weight=np.log(adjust.df['weight'])).plot.scatter('log_cbps_weights', 'log_weight', color='blue')\n",
        "adjust.df[[\"cbps_weights\", \"weight\"]].apply(lambda x: np.log10(x)).corr(method = \"pearson\")"
      ],
      "execution_count": null,
      "outputs": []
    },
    {
      "cell_type": "code",
      "metadata": {
        "originalKey": "effd80c0-5776-4824-b050-4b5ff9aaed83",
        "showInput": true,
        "customInput": null,
        "collapsed": false,
        "requestMsgId": "effd80c0-5776-4824-b050-4b5ff9aaed83",
        "executionStartTime": 1675950740450,
        "executionStopTime": 1675950740552,
        "customOutput": null
      },
      "source": [
        "# Notice how the y outcome before and after the weigts is 220.67 -> 207.55, similar to R's 220.67 -> 206.8\n",
        "print(adjust.outcomes().summary())"
      ],
      "execution_count": null,
      "outputs": []
    },
    {
      "cell_type": "code",
      "metadata": {
        "originalKey": "25de65d5-3873-4923-90ef-ed784f8aa98b",
        "showInput": true,
        "customInput": null,
        "collapsed": false,
        "requestMsgId": "25de65d5-3873-4923-90ef-ed784f8aa98b",
        "executionStartTime": 1675950763199,
        "executionStopTime": 1675950764754,
        "customOutput": null
      },
      "source": [
        "# Just to get some sense of what the weights did to the covars:\n",
        "adjust.covars().plot(library = \"seaborn\", dist_type = \"kde\")"
      ],
      "execution_count": null,
      "outputs": []
    },
    {
      "cell_type": "code",
      "metadata": {
        "originalKey": "d3ac73ef-7587-417d-84ac-9915cc8621ec",
        "showInput": true,
        "customInput": null,
        "collapsed": false,
        "requestMsgId": "d3ac73ef-7587-417d-84ac-9915cc8621ec",
        "executionStartTime": 1675950864218,
        "executionStopTime": 1675950864305,
        "customOutput": null
      },
      "source": [
        "# In contrast, if we were to use the original CBPS weights, we'd get this:\n",
        "from copy import deepcopy\n",
        "adjust2 = deepcopy(adjust)\n",
        "cbps_weights = adjust2.outcomes().df.cbps_weights\n",
        "adjust2.set_weights(cbps_weights)\n",
        "# .covars().plot(library = \"seaborn\", dist_type = \"kde\")"
      ],
      "execution_count": null,
      "outputs": []
    },
    {
      "cell_type": "code",
      "metadata": {
        "originalKey": "bd24f4ec-7ae2-43cb-9579-b39107119ae2",
        "showInput": true,
        "customInput": null,
        "collapsed": false,
        "requestMsgId": "bd24f4ec-7ae2-43cb-9579-b39107119ae2",
        "executionStartTime": 1675950879874,
        "executionStopTime": 1675950879885,
        "customOutput": null
      },
      "source": [
        "# we can see that this worked since the weighted avg of y is now 206.8\n",
        "print(adjust2.outcomes().summary())"
      ],
      "execution_count": null,
      "outputs": []
    },
    {
      "cell_type": "code",
      "metadata": {
        "originalKey": "a5b7304f-61cf-43e3-b2cd-3e474ccfd1ae",
        "showInput": true,
        "customInput": null,
        "collapsed": false,
        "requestMsgId": "a5b7304f-61cf-43e3-b2cd-3e474ccfd1ae",
        "executionStartTime": 1675951004560,
        "executionStopTime": 1675951005725,
        "customOutput": null
      },
      "source": [
        "# And here is how the covars looked like in the original CBPS implementation from R:\n",
        "# Almost identical correcation as balance did\n",
        "adjust2.covars().plot(library = \"seaborn\", dist_type = \"kde\")"
      ],
      "execution_count": null,
      "outputs": []
    },
    {
      "cell_type": "code",
      "metadata": {
        "originalKey": "d764c9da-726c-443f-aa96-b4d7c4ed9be0",
        "showInput": true,
        "customInput": null,
        "customOutput": null
      },
      "source": [
        ""
      ],
      "execution_count": null,
      "outputs": []
    },
    {
      "cell_type": "markdown",
      "metadata": {
        "originalKey": "9a55b37b-58a5-4cdb-89b9-3f5fa46a3f46",
        "showInput": false,
        "customInput": null
      },
      "source": [
        "# Sessions info"
      ]
    },
    {
      "cell_type": "code",
      "metadata": {
        "originalKey": "53b6d62d-4044-45e7-986d-a1d2b7c4a281",
        "showInput": true,
        "customInput": null,
        "collapsed": false,
        "requestMsgId": "53b6d62d-4044-45e7-986d-a1d2b7c4a281",
        "executionStartTime": 1675970263970,
        "executionStopTime": 1675970264413,
        "customOutput": null
      },
      "source": [
        "session_info.show(html=False, dependencies=True)"
      ],
      "execution_count": null,
      "outputs": []
    },
    {
      "cell_type": "code",
      "metadata": {
        "originalKey": "8183fdd4-a512-4f37-8e38-ea966278104b",
        "showInput": true,
        "customInput": null,
        "customOutput": null
      },
      "source": [
        ""
      ],
      "execution_count": null,
      "outputs": []
    }
  ]
}
