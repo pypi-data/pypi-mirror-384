{
 "cells": [
  {
   "cell_type": "markdown",
   "metadata": {},
   "source": [
    "# Poelis Python SDK Tutorial\n",
    "\n",
    "Welcome to the Poelis Python SDK tutorial! This notebook will guide you through setting up and using the SDK to interact with the Poelis API.\n",
    "\n",
    "## What is Poelis?\n",
    "\n",
    "Poelis is a platform for managing hierarchical data structures, products, items, and their properties. The Python SDK provides a convenient way to interact with the Poelis API from your Python applications.\n",
    "\n",
    "## Table of Contents\n",
    "\n",
    "1. [Installation](#Installation)\n",
    "2. [Authentication Setup](#Authentication-Setup)\n",
    "3. [Basic Client Setup](#Basic-Client-Setup)\n",
    "4. [Browser Interface](#Browser-Interface)\n",
    "\n"
   ]
  },
  {
   "cell_type": "markdown",
   "metadata": {},
   "source": [
    "## 1. Installation\n",
    "\n",
    "First, let's install the Poelis Python SDK. The SDK requires Python 3.11 or higher.\n",
    "\n",
    "```bash\n",
    "pip install -U poelis-sdk\n",
    "```\n",
    "\n",
    "### Requirements\n",
    "- Python >= 3.11\n",
    "- Access to a Poelis API endpoint\n",
    "- Valid API credentials (API key + organization ID)\n"
   ]
  },
  {
   "cell_type": "code",
   "execution_count": null,
   "metadata": {},
   "outputs": [],
   "source": [
    "!pip install -U poelis-sdk"
   ]
  },
  {
   "cell_type": "code",
   "execution_count": null,
   "metadata": {},
   "outputs": [],
   "source": [
    "# Import the SDK\n",
    "from poelis_sdk import PoelisClient\n",
    "\n",
    "# Check if the SDK is properly installed\n",
    "print(\"Poelis SDK imported successfully!\")\n",
    "print(f\"PoelisClient class: {PoelisClient}\")\n"
   ]
  },
  {
   "cell_type": "markdown",
   "metadata": {},
   "source": [
    "## 2. Authentication Setup\n",
    "\n",
    "Before you can use the SDK, obtain your API credentials from the Poelis web interface.\n",
    "\n",
    "### Getting Your Credentials\n",
    "\n",
    "1. **Navigate to Organization Settings → API Keys** in the Poelis web interface\n",
    "2. **Create a new API key**:\n",
    "   - Choose a descriptive name\n",
    "   - Select appropriate scopes\n",
    "   - Copy the key immediately\n",
    "3. **Note your Organization ID** (displayed in the same section)\n",
    "\n",
    "### Environment Variables (Recommended)\n",
    "\n",
    "For security, store your credentials as environment variables:\n",
    "\n",
    "```bash\n",
    "export POELIS_API_KEY=poelis_live_A1B2C3...\n",
    "export POELIS_ORG_ID=org_id_001\n",
    "```\n"
   ]
  },
  {
   "cell_type": "markdown",
   "metadata": {},
   "source": [
    "## 3. Basic Client Setup\n",
    "\n",
    "There are two ways to initialize the Poelis client:\n",
    "\n",
    "### Method 1: Direct Initialization (Simplified)\n"
   ]
  },
  {
   "cell_type": "code",
   "execution_count": null,
   "metadata": {},
   "outputs": [],
   "source": [
    "# Manual initialization (replace with your credentials)\n",
    "poelis = PoelisClient(\n",
    "    api_key=\"your_api_key_here\",\n",
    "    org_id=\"your_org_id_here\"\n",
    ")"
   ]
  },
  {
   "cell_type": "markdown",
   "metadata": {},
   "source": [
    "### Method 2: From Environment Variables (Recommended)\n",
    "\n",
    "```python\n",
    "client = PoelisClient.from_env()\n",
    "```\n",
    "\n",
    "This method automatically reads the `POELIS_API_KEY` and `POELIS_ORG_ID` environment variables."
   ]
  },
  {
   "cell_type": "code",
   "execution_count": null,
   "metadata": {},
   "outputs": [],
   "source": [
    "# Example: Initialize client (replace with your actual credentials)\n",
    "# For this demo, we'll use placeholder values\n",
    "# In practice, use environment variables or replace with your actual credentials\n",
    "\n",
    "try:\n",
    "    # Try to initialize from environment variables first\n",
    "    poelis = PoelisClient.from_env()\n",
    "    print(\"✅ Client initialized from environment variables\")\n",
    "    print(f\"Base URL: {client.base_url}\")\n",
    "    print(f\"Organization ID: {client.org_id}\")\n",
    "except ValueError as e:\n",
    "    print(f\"❌ Environment variables not set: {e}\")\n",
    "    print(\"Please set POELIS_API_KEY and POELIS_ORG_ID (POELIS_BASE_URL is optional)\")\n",
    "    \n"
   ]
  },
  {
   "cell_type": "markdown",
   "metadata": {},
   "source": [
    "## 4. Browser Interface - Interactive Exploration\n",
    "\n",
    "The Poelis SDK provides a powerful **browser interface** for interactive exploration of your data hierarchy. This is often the best way to start exploring your data!\n",
    "\n",
    "### What is the Browser Interface?\n",
    "\n",
    "The browser interface allows you to navigate through your data using **dot notation** and **tab completion**:\n",
    "- `client.browser` - Start here\n",
    "- `client.browser.<workspace>` - Access a specific workspace\n",
    "- `client.browser.<workspace>.<product>` - Access a specific product\n",
    "- `client.browser.<workspace>.<product>.<item>` - Access a specific item\n",
    "- And so on...\n",
    "\n"
   ]
  },
  {
   "cell_type": "code",
   "execution_count": null,
   "metadata": {},
   "outputs": [],
   "source": [
    "from poelis_sdk import PoelisClient\n",
    "\n",
    "# 1) Create the client\n",
    "poelis = PoelisClient(\n",
    "    api_key=\"YOUR_API_KEY\",\n",
    "    org_id=\"YOUR_ORG_ID\",\n",
    ")\n",
    "\n",
    "# 2) Explore with TAB (completion is installed automatically when accessing client.browser):\n",
    "# - Type: client.browser. and press TAB to see workspaces\n",
    "# - Then: client.browser.<workspace>. and TAB to see products\n",
    "# - Then: client.browser.<workspace>.<product>. and TAB to see items\n",
    "# - On an item, TAB shows child items and property keys"
   ]
  },
  {
   "cell_type": "code",
   "execution_count": null,
   "metadata": {},
   "outputs": [],
   "source": [
    "# 3) Access a property’s value and category via dot paths\n",
    "# Example (replace names with your actual names shown by TAB):\n",
    "workspace = poelis.browser.UH2_Workspace"
   ]
  },
  {
   "cell_type": "code",
   "execution_count": null,
   "metadata": {},
   "outputs": [],
   "source": [
    "val = workspace.LH2_Tank.cold_box.clv.mass.value\n",
    "cat = workspace.LH2_Tank.cold_box.clv.mass.category\n",
    "\n",
    "print(\"property value:\", val)\n",
    "print(\"property category:\", cat)"
   ]
  },
  {
   "cell_type": "code",
   "execution_count": null,
   "metadata": {},
   "outputs": [],
   "source": [
    "# 4) Go deeper into child items if needed (TAB will suggest only item/property names)\n",
    "inner = poelis.browser.UH2_Workspace.LH2_Tank.inner_tank"
   ]
  }
 ],
 "metadata": {
  "kernelspec": {
   "display_name": "Python 3",
   "language": "python",
   "name": "python3"
  },
  "language_info": {
   "codemirror_mode": {
    "name": "ipython",
    "version": 3
   },
   "file_extension": ".py",
   "mimetype": "text/x-python",
   "name": "python",
   "nbconvert_exporter": "python",
   "pygments_lexer": "ipython3",
   "version": "3.11.13"
  }
 },
 "nbformat": 4,
 "nbformat_minor": 2
}
