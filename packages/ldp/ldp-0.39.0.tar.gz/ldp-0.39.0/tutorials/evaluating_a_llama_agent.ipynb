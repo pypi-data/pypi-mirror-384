{
 "cells": [
  {
   "cell_type": "markdown",
   "metadata": {},
   "source": [
    "# Llama Agent Inference (GPU)\n",
    "\n",
    "A notebook demonstrating how to use an agent powered by a local model (Llama 3.1 8B) to solve problems in the GSM8k test set using a calculator. **The tutorial assumes access to a GPU machine**.\n",
    "\n",
    "Note that the model struggles to output valid tool call syntax consistently, causing many failures.\n",
    "\n",
    "TODO: add EI notebook demonstrating how to address this\n",
    "\n",
    "NB: To run this notebook you need to install ldp with the `nn` dependency as well as the aviary dependencies\n",
    "\n",
    "```bash\n",
    "pip install \"ldp[nn]\" \"fhaviary[gsm8k]\"\n",
    "```"
   ]
  },
  {
   "cell_type": "code",
   "execution_count": null,
   "metadata": {},
   "outputs": [],
   "source": [
    "from aviary.envs.gsm8k import GSM8kDataset\n",
    "\n",
    "from ldp.alg import Evaluator, EvaluatorConfig\n",
    "from ldp.alg.callbacks import Callback\n",
    "from ldp.data_structures import Trajectory\n",
    "from ldp.nn import AgentLMConfig, SimpleLocalLLMAgent, TorchDType"
   ]
  },
  {
   "cell_type": "code",
   "execution_count": null,
   "metadata": {},
   "outputs": [],
   "source": [
    "class AccuracyCallback(Callback):\n",
    "    \"\"\"Simple callback that logs accuracy of each batch.\"\"\"\n",
    "\n",
    "    async def after_eval_step(self, trajectories: list[Trajectory]):\n",
    "        # CalculatorEnvironment returns a terminal reward of 1 if\n",
    "        # the agent solved the problem correctly.\n",
    "        pass_rate = sum(t.steps[-1].reward == 1 for t in trajectories) / len(\n",
    "            trajectories\n",
    "        )\n",
    "        print(f\"Pass rate: {100 * pass_rate:.2f}%\")"
   ]
  },
  {
   "cell_type": "code",
   "execution_count": null,
   "metadata": {},
   "outputs": [],
   "source": [
    "lm_config = AgentLMConfig(\n",
    "    model=\"meta-llama/Llama-3.1-8B-Instruct\",\n",
    "    dtype=TorchDType.bf16,\n",
    "    chat_template=\"llama3.1_chat_template_thought.jinja\",\n",
    "    max_new_tokens=100,\n",
    "    # Parameters for async inference\n",
    "    batch_size=8,  # fits onto a single 4090 with these params\n",
    "    max_wait_interval=10.0,\n",
    ")\n",
    "agent = SimpleLocalLLMAgent(lm_config)"
   ]
  },
  {
   "cell_type": "code",
   "execution_count": null,
   "metadata": {},
   "outputs": [],
   "source": [
    "dataset = GSM8kDataset(split=\"test\")\n",
    "callback = AccuracyCallback()\n",
    "evaluator = Evaluator(\n",
    "    config=EvaluatorConfig(\n",
    "        batch_size=64,\n",
    "        num_eval_iterations=1,  # Only run one batch, then exit\n",
    "        max_rollout_steps=10,\n",
    "    ),\n",
    "    agent=agent,\n",
    "    dataset=dataset,\n",
    "    callbacks=[callback],\n",
    ")\n",
    "\n",
    "# Note that Llama 3.1 8B does not always reliably follow the tool-calling\n",
    "# syntax, so we will see several (caught) errors. The pass rate will be <10%.\n",
    "await evaluator.evaluate()"
   ]
  }
 ],
 "metadata": {
  "kernelspec": {
   "display_name": "Python 3 (ipykernel)",
   "language": "python",
   "name": "python3"
  },
  "language_info": {
   "codemirror_mode": {
    "name": "ipython",
    "version": 3
   },
   "file_extension": ".py",
   "mimetype": "text/x-python",
   "name": "python",
   "nbconvert_exporter": "python",
   "pygments_lexer": "ipython3"
  }
 },
 "nbformat": 4,
 "nbformat_minor": 4
}
