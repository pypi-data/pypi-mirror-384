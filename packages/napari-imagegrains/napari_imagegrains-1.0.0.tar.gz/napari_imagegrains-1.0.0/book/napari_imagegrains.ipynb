{
 "cells": [
  {
   "cell_type": "markdown",
   "id": "4762f62b-84c6-4609-88d4-c098e2801e2d",
   "metadata": {
    "editable": true,
    "slideshow": {
     "slide_type": ""
    },
    "tags": []
   },
   "source": [
    "# napari-imagegrains"
   ]
  },
  {
   "cell_type": "markdown",
   "id": "148868f1-7a38-4846-9475-cbaf785733bd",
   "metadata": {
    "editable": true,
    "slideshow": {
     "slide_type": ""
    },
    "tags": []
   },
   "source": [
    "An interactive napari plugin for the [ImageGrains](https://github.com/dmair1989/imagegrains) software.\n"
   ]
  },
  {
   "cell_type": "code",
   "execution_count": null,
   "id": "f4751bc8-09f7-48f5-a8b0-6f77bd076833",
   "metadata": {
    "editable": true,
    "slideshow": {
     "slide_type": ""
    },
    "tags": []
   },
   "outputs": [],
   "source": []
  }
 ],
 "metadata": {
  "kernelspec": {
   "display_name": "Python 3 (ipykernel)",
   "language": "python",
   "name": "python3"
  },
  "language_info": {
   "codemirror_mode": {
    "name": "ipython",
    "version": 3
   },
   "file_extension": ".py",
   "mimetype": "text/x-python",
   "name": "python",
   "nbconvert_exporter": "python",
   "pygments_lexer": "ipython3",
   "version": "3.11.12"
  }
 },
 "nbformat": 4,
 "nbformat_minor": 5
}
