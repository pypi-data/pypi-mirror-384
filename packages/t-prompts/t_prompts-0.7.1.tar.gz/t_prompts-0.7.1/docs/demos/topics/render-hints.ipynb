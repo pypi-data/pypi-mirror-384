{
 "cells": [
  {
   "cell_type": "markdown",
   "id": "intro",
   "metadata": {},
   "source": [
    "# Render Hints: XML and Header Formatting\n",
    "\n",
    "Learn how to use render hints to add XML wrappers and Markdown headers to your prompts."
   ]
  },
  {
   "cell_type": "code",
   "execution_count": 2,
   "id": "imports",
   "metadata": {
    "execution": {
     "iopub.execute_input": "2025-10-14T10:50:59.455831Z",
     "iopub.status.busy": "2025-10-14T10:50:59.455679Z",
     "iopub.status.idle": "2025-10-14T10:50:59.466094Z",
     "shell.execute_reply": "2025-10-14T10:50:59.465684Z"
    }
   },
   "outputs": [],
   "source": [
    "from t_prompts import dedent, prompt"
   ]
  },
  {
   "cell_type": "markdown",
   "id": "xml-intro",
   "metadata": {},
   "source": [
    "## XML Hint: Wrapping Content in Tags\n",
    "\n",
    "The `xml=<tag>` render hint wraps interpolated content in XML-style tags. This is useful for:\n",
    "- Structuring content for Claude's extended thinking format\n",
    "- Creating well-formatted XML or HTML output\n",
    "- Clearly delineating sections in prompts"
   ]
  },
  {
   "cell_type": "code",
   "execution_count": 3,
   "id": "xml-basic",
   "metadata": {
    "execution": {
     "iopub.execute_input": "2025-10-14T10:50:59.468339Z",
     "iopub.status.busy": "2025-10-14T10:50:59.468194Z",
     "iopub.status.idle": "2025-10-14T10:50:59.470518Z",
     "shell.execute_reply": "2025-10-14T10:50:59.470244Z"
    }
   },
   "outputs": [
    {
     "name": "stdout",
     "output_type": "stream",
     "text": [
      "<thinking>\n",
      "This is my reasoning process for solving the problem.\n",
      "</thinking>\n"
     ]
    }
   ],
   "source": [
    "# Basic XML wrapping\n",
    "content = \"This is my reasoning process for solving the problem.\"\n",
    "p = prompt(t\"{content:reasoning:xml=thinking}\")\n",
    "\n",
    "print(str(p))"
   ]
  },
  {
   "cell_type": "code",
   "execution_count": 4,
   "id": "xml-multiline",
   "metadata": {
    "execution": {
     "iopub.execute_input": "2025-10-14T10:50:59.472005Z",
     "iopub.status.busy": "2025-10-14T10:50:59.471890Z",
     "iopub.status.idle": "2025-10-14T10:50:59.473877Z",
     "shell.execute_reply": "2025-10-14T10:50:59.473584Z"
    }
   },
   "outputs": [
    {
     "name": "stdout",
     "output_type": "stream",
     "text": [
      "<analysis>\n",
      "Step 1: Understand the problem\n",
      "Step 2: Break it down\n",
      "Step 3: Solve each part\n",
      "</analysis>\n"
     ]
    }
   ],
   "source": [
    "# XML wrapping with multiline content\n",
    "analysis = \"\"\"Step 1: Understand the problem\n",
    "Step 2: Break it down\n",
    "Step 3: Solve each part\"\"\"\n",
    "\n",
    "p = prompt(t\"{analysis:steps:xml=analysis}\")\n",
    "print(str(p))"
   ]
  },
  {
   "cell_type": "code",
   "execution_count": 5,
   "id": "xml-nested",
   "metadata": {
    "execution": {
     "iopub.execute_input": "2025-10-14T10:50:59.475164Z",
     "iopub.status.busy": "2025-10-14T10:50:59.475056Z",
     "iopub.status.idle": "2025-10-14T10:50:59.477192Z",
     "shell.execute_reply": "2025-10-14T10:50:59.476889Z"
    }
   },
   "outputs": [
    {
     "name": "stdout",
     "output_type": "stream",
     "text": [
      "Outer context\n",
      "<process>\n",
      "<step>\n",
      "Inner reasoning\n",
      "</step>\n",
      "</process>\n"
     ]
    }
   ],
   "source": [
    "# XML wrapping with nested prompts\n",
    "inner_content = \"Inner reasoning\"\n",
    "inner = prompt(t\"{inner_content:ic:xml=step}\")\n",
    "\n",
    "outer_content = \"Outer context\"\n",
    "outer = prompt(t\"{outer_content:oc}\\n{inner:inner:xml=process}\")\n",
    "\n",
    "print(str(outer))"
   ]
  },
  {
   "cell_type": "markdown",
   "id": "header-intro",
   "metadata": {},
   "source": [
    "## Header Hint: Adding Markdown Headers\n",
    "\n",
    "The `header=<heading>` or `header` render hint adds Markdown-style headers to your content. Headers automatically adjust their level based on nesting depth."
   ]
  },
  {
   "cell_type": "code",
   "execution_count": 6,
   "id": "header-basic",
   "metadata": {
    "execution": {
     "iopub.execute_input": "2025-10-14T10:50:59.478570Z",
     "iopub.status.busy": "2025-10-14T10:50:59.478469Z",
     "iopub.status.idle": "2025-10-14T10:50:59.480244Z",
     "shell.execute_reply": "2025-10-14T10:50:59.479974Z"
    }
   },
   "outputs": [
    {
     "name": "stdout",
     "output_type": "stream",
     "text": [
      "# Task Description\n",
      "Translate the following text to French\n"
     ]
    }
   ],
   "source": [
    "# Basic header with explicit text\n",
    "task = \"Translate the following text to French\"\n",
    "p = prompt(t\"{task:t:header=Task Description}\")\n",
    "\n",
    "print(str(p))"
   ]
  },
  {
   "cell_type": "code",
   "execution_count": 7,
   "id": "header-key",
   "metadata": {
    "execution": {
     "iopub.execute_input": "2025-10-14T10:50:59.481463Z",
     "iopub.status.busy": "2025-10-14T10:50:59.481379Z",
     "iopub.status.idle": "2025-10-14T10:50:59.483337Z",
     "shell.execute_reply": "2025-10-14T10:50:59.483068Z"
    }
   },
   "outputs": [
    {
     "name": "stdout",
     "output_type": "stream",
     "text": [
      "# Instructions\n",
      "Follow these guidelines carefully\n"
     ]
    }
   ],
   "source": [
    "# Header using key as heading\n",
    "instructions = \"Follow these guidelines carefully\"\n",
    "p = prompt(t\"{instructions:Instructions:header}\")\n",
    "\n",
    "print(str(p))"
   ]
  },
  {
   "cell_type": "markdown",
   "id": "header-nesting",
   "metadata": {},
   "source": [
    "## Header Level Nesting\n",
    "\n",
    "Headers automatically increment their level when nested through prompts that have the `header` hint. This creates proper Markdown hierarchy."
   ]
  },
  {
   "cell_type": "code",
   "execution_count": 8,
   "id": "header-nesting-demo",
   "metadata": {
    "execution": {
     "iopub.execute_input": "2025-10-14T10:50:59.484574Z",
     "iopub.status.busy": "2025-10-14T10:50:59.484499Z",
     "iopub.status.idle": "2025-10-14T10:50:59.486546Z",
     "shell.execute_reply": "2025-10-14T10:50:59.486340Z"
    }
   },
   "outputs": [
    {
     "name": "stdout",
     "output_type": "stream",
     "text": [
      "# Main Section\n",
      "This is the section introduction\n",
      "# sub\n",
      "## Subsection\n",
      "This is the subsection content\n",
      "\n",
      "Notice how headers increment: # Main Section, # sub, ## Subsection\n"
     ]
    }
   ],
   "source": [
    "# Create nested structure with headers\n",
    "subsection_content = \"This is the subsection content\"\n",
    "subsection = prompt(t\"{subsection_content:content:header=Subsection}\")\n",
    "\n",
    "section_content = \"This is the section introduction\"\n",
    "section = prompt(t\"{section_content:intro:header=Main Section}\\n{subsection:sub:header}\")\n",
    "\n",
    "print(str(section))\n",
    "print(\"\\nNotice how headers increment: # Main Section, # sub, ## Subsection\")"
   ]
  },
  {
   "cell_type": "code",
   "execution_count": 9,
   "id": "header-deep-nesting",
   "metadata": {
    "execution": {
     "iopub.execute_input": "2025-10-14T10:50:59.487635Z",
     "iopub.status.busy": "2025-10-14T10:50:59.487562Z",
     "iopub.status.idle": "2025-10-14T10:50:59.489533Z",
     "shell.execute_reply": "2025-10-14T10:50:59.489301Z"
    }
   },
   "outputs": [
    {
     "name": "stdout",
     "output_type": "stream",
     "text": [
      "# Top Section\n",
      "## Middle Section\n",
      "### Deep Section\n",
      "Level 3 content\n",
      "\n",
      "Header levels: # Top Section, ## Middle Section, ### Deep Section\n"
     ]
    }
   ],
   "source": [
    "# Deep nesting with max level capping\n",
    "level3 = prompt(t\"{'Level 3 content':c:header=Deep Section}\")\n",
    "level2 = prompt(t\"{level3:l3:header=Middle Section}\")\n",
    "level1 = prompt(t\"{level2:l2:header=Top Section}\")\n",
    "\n",
    "print(str(level1))\n",
    "print(\"\\nHeader levels: # Top Section, ## Middle Section, ### Deep Section\")"
   ]
  },
  {
   "cell_type": "markdown",
   "id": "combined-intro",
   "metadata": {},
   "source": [
    "## Combining XML and Header Hints\n",
    "\n",
    "You can use both hints together. The header will be rendered outside the XML wrapper."
   ]
  },
  {
   "cell_type": "code",
   "execution_count": 10,
   "id": "combined-basic",
   "metadata": {
    "execution": {
     "iopub.execute_input": "2025-10-14T10:50:59.490781Z",
     "iopub.status.busy": "2025-10-14T10:50:59.490703Z",
     "iopub.status.idle": "2025-10-14T10:50:59.492563Z",
     "shell.execute_reply": "2025-10-14T10:50:59.492320Z"
    }
   },
   "outputs": [
    {
     "name": "stdout",
     "output_type": "stream",
     "text": [
      "# Analysis\n",
      "<thinking>\n",
      "First, I'll analyze the problem. Then I'll propose a solution.\n",
      "</thinking>\n"
     ]
    }
   ],
   "source": [
    "# Combine header and XML\n",
    "reasoning = \"First, I'll analyze the problem. Then I'll propose a solution.\"\n",
    "p = prompt(t\"{reasoning:r:header=Analysis:xml=thinking}\")\n",
    "\n",
    "print(str(p))"
   ]
  },
  {
   "cell_type": "code",
   "execution_count": 11,
   "id": "combined-complex",
   "metadata": {
    "execution": {
     "iopub.execute_input": "2025-10-14T10:50:59.493723Z",
     "iopub.status.busy": "2025-10-14T10:50:59.493645Z",
     "iopub.status.idle": "2025-10-14T10:50:59.495605Z",
     "shell.execute_reply": "2025-10-14T10:50:59.495401Z"
    }
   },
   "outputs": [
    {
     "name": "stdout",
     "output_type": "stream",
     "text": [
      "# Main Analysis\n",
      "Overall approach to the problem\n",
      "# inner\n",
      "<process>\n",
      "## Sub-Analysis\n",
      "<step>\n",
      "Detailed analysis of the sub-problem\n",
      "</step>\n",
      "</process>\n"
     ]
    }
   ],
   "source": [
    "# Complex nested example with both hints\n",
    "inner_reasoning = \"Detailed analysis of the sub-problem\"\n",
    "inner = prompt(t\"{inner_reasoning:ir:header=Sub-Analysis:xml=step}\")\n",
    "\n",
    "outer_reasoning = \"Overall approach to the problem\"\n",
    "outer = prompt(t\"{outer_reasoning:or:header=Main Analysis}\\n{inner:inner:header:xml=process}\")\n",
    "\n",
    "print(str(outer))"
   ]
  },
  {
   "cell_type": "markdown",
   "id": "lists-intro",
   "metadata": {},
   "source": [
    "## Using Hints with Lists\n",
    "\n",
    "Render hints can wrap entire list interpolations, creating structured sections."
   ]
  },
  {
   "cell_type": "code",
   "execution_count": 12,
   "id": "lists-xml",
   "metadata": {
    "execution": {
     "iopub.execute_input": "2025-10-14T10:50:59.496742Z",
     "iopub.status.busy": "2025-10-14T10:50:59.496671Z",
     "iopub.status.idle": "2025-10-14T10:50:59.498518Z",
     "shell.execute_reply": "2025-10-14T10:50:59.498330Z"
    }
   },
   "outputs": [
    {
     "name": "stdout",
     "output_type": "stream",
     "text": [
      "<examples>\n",
      "<example>\n",
      "Example 1: Basic case\n",
      "</example>\n",
      "<example>\n",
      "Example 2: Edge case\n",
      "</example>\n",
      "<example>\n",
      "Example 3: Complex case\n",
      "</example>\n",
      "</examples>\n"
     ]
    }
   ],
   "source": [
    "# XML wrapping a list\n",
    "examples = [\n",
    "    prompt(t\"{ex:example:xml=example}\")\n",
    "    for ex in [\"Example 1: Basic case\", \"Example 2: Edge case\", \"Example 3: Complex case\"]\n",
    "]\n",
    "\n",
    "p = prompt(t\"{examples:exs:xml=examples}\")\n",
    "print(str(p))"
   ]
  },
  {
   "cell_type": "code",
   "execution_count": 13,
   "id": "lists-header",
   "metadata": {
    "execution": {
     "iopub.execute_input": "2025-10-14T10:50:59.499597Z",
     "iopub.status.busy": "2025-10-14T10:50:59.499526Z",
     "iopub.status.idle": "2025-10-14T10:50:59.501399Z",
     "shell.execute_reply": "2025-10-14T10:50:59.501177Z"
    }
   },
   "outputs": [
    {
     "name": "stdout",
     "output_type": "stream",
     "text": [
      "# Implementation Steps\n",
      "Initialize variables\n",
      "Process data\n",
      "Return results\n"
     ]
    }
   ],
   "source": [
    "# Header for a list section\n",
    "steps = [\n",
    "    prompt(t\"{step:s}\")\n",
    "    for step in [\"Initialize variables\", \"Process data\", \"Return results\"]\n",
    "]\n",
    "\n",
    "p = prompt(t\"{steps:steps:header=Implementation Steps}\")\n",
    "print(str(p))"
   ]
  },
  {
   "cell_type": "code",
   "execution_count": 14,
   "id": "lists-combined",
   "metadata": {
    "execution": {
     "iopub.execute_input": "2025-10-14T10:50:59.502495Z",
     "iopub.status.busy": "2025-10-14T10:50:59.502420Z",
     "iopub.status.idle": "2025-10-14T10:50:59.504296Z",
     "shell.execute_reply": "2025-10-14T10:50:59.504051Z"
    }
   },
   "outputs": [
    {
     "name": "stdout",
     "output_type": "stream",
     "text": [
      "# Items\n",
      "<list>\n",
      "First item\n",
      "Second item\n",
      "Third item\n",
      "</list>\n"
     ]
    }
   ],
   "source": [
    "# Both hints on a list\n",
    "items = [\n",
    "    prompt(t\"{item:i}\")\n",
    "    for item in [\"First item\", \"Second item\", \"Third item\"]\n",
    "]\n",
    "\n",
    "p = prompt(t\"{items:items:header=Items:xml=list}\")\n",
    "print(str(p))"
   ]
  },
  {
   "cell_type": "markdown",
   "id": "separator-intro",
   "metadata": {},
   "source": [
    "## Combining with Separator Hints\n",
    "\n",
    "You can use `sep=` along with `xml=` and `header=` hints to control list formatting."
   ]
  },
  {
   "cell_type": "code",
   "execution_count": 15,
   "id": "separator-demo",
   "metadata": {
    "execution": {
     "iopub.execute_input": "2025-10-14T10:50:59.505368Z",
     "iopub.status.busy": "2025-10-14T10:50:59.505302Z",
     "iopub.status.idle": "2025-10-14T10:50:59.506997Z",
     "shell.execute_reply": "2025-10-14T10:50:59.506805Z"
    }
   },
   "outputs": [
    {
     "name": "stdout",
     "output_type": "stream",
     "text": [
      "<fruits>\n",
      "apple, banana, cherry\n",
      "</fruits>\n"
     ]
    }
   ],
   "source": [
    "# Custom separator with XML wrapper\n",
    "items = [\n",
    "    prompt(t\"{item:i}\")\n",
    "    for item in [\"apple\", \"banana\", \"cherry\"]\n",
    "]\n",
    "\n",
    "p = prompt(t\"{items:fruits:xml=fruits:sep=, }\")\n",
    "print(str(p))"
   ]
  },
  {
   "cell_type": "code",
   "execution_count": 16,
   "id": "separator-header",
   "metadata": {
    "execution": {
     "iopub.execute_input": "2025-10-14T10:50:59.508037Z",
     "iopub.status.busy": "2025-10-14T10:50:59.507961Z",
     "iopub.status.idle": "2025-10-14T10:50:59.509706Z",
     "shell.execute_reply": "2025-10-14T10:50:59.509484Z"
    }
   },
   "outputs": [
    {
     "name": "stdout",
     "output_type": "stream",
     "text": [
      "# Key Points\n",
      "<list>\n",
      "Point A | Point B | Point C\n",
      "</list>\n"
     ]
    }
   ],
   "source": [
    "# All three hints together\n",
    "points = [\n",
    "    prompt(t\"{pt:p}\")\n",
    "    for pt in [\"Point A\", \"Point B\", \"Point C\"]\n",
    "]\n",
    "\n",
    "p = prompt(t\"{points:points:header=Key Points:xml=list:sep= | }\")\n",
    "print(str(p))"
   ]
  },
  {
   "cell_type": "markdown",
   "id": "dedenting-intro",
   "metadata": {},
   "source": [
    "## Integration with Dedenting\n",
    "\n",
    "Render hints work seamlessly with dedented prompts for clean, readable source code."
   ]
  },
  {
   "cell_type": "code",
   "execution_count": 17,
   "id": "dedenting-header",
   "metadata": {
    "execution": {
     "iopub.execute_input": "2025-10-14T10:50:59.510804Z",
     "iopub.status.busy": "2025-10-14T10:50:59.510734Z",
     "iopub.status.idle": "2025-10-14T10:50:59.512485Z",
     "shell.execute_reply": "2025-10-14T10:50:59.512294Z"
    }
   },
   "outputs": [
    {
     "name": "stdout",
     "output_type": "stream",
     "text": [
      "# Task\n",
      "Analyze the code for potential bugs\n",
      "\n",
      "Please provide a detailed analysis.\n"
     ]
    }
   ],
   "source": [
    "# Header with dedenting\n",
    "task = \"Analyze the code for potential bugs\"\n",
    "p = dedent(t\"\"\"\n",
    "    {task:task:header=Task}\n",
    "\n",
    "    Please provide a detailed analysis.\n",
    "    \"\"\")\n",
    "\n",
    "print(str(p))"
   ]
  },
  {
   "cell_type": "code",
   "execution_count": 18,
   "id": "dedenting-xml",
   "metadata": {
    "execution": {
     "iopub.execute_input": "2025-10-14T10:50:59.513510Z",
     "iopub.status.busy": "2025-10-14T10:50:59.513444Z",
     "iopub.status.idle": "2025-10-14T10:50:59.515078Z",
     "shell.execute_reply": "2025-10-14T10:50:59.514866Z"
    }
   },
   "outputs": [
    {
     "name": "stdout",
     "output_type": "stream",
     "text": [
      "First, let me think:\n",
      "\n",
      "<thinking>\n",
      "This is my thought process\n",
      "</thinking>\n",
      "\n",
      "Now I'll provide my answer.\n"
     ]
    }
   ],
   "source": [
    "# XML with dedenting\n",
    "reasoning = \"This is my thought process\"\n",
    "p = dedent(t\"\"\"\n",
    "    First, let me think:\n",
    "\n",
    "    {reasoning:r:xml=thinking}\n",
    "\n",
    "    Now I'll provide my answer.\n",
    "    \"\"\")\n",
    "\n",
    "print(str(p))"
   ]
  },
  {
   "cell_type": "code",
   "execution_count": 19,
   "id": "dedenting-combined",
   "metadata": {
    "execution": {
     "iopub.execute_input": "2025-10-14T10:50:59.516086Z",
     "iopub.status.busy": "2025-10-14T10:50:59.516023Z",
     "iopub.status.idle": "2025-10-14T10:50:59.517521Z",
     "shell.execute_reply": "2025-10-14T10:50:59.517302Z"
    }
   },
   "outputs": [
    {
     "name": "stdout",
     "output_type": "stream",
     "text": [
      "# Analysis\n",
      "<process>\n",
      "Step 1: Identify the problem\n",
      "Step 2: Propose solutions\n",
      "</process>\n",
      "\n",
      "Conclusion: The problem is now clear.\n"
     ]
    }
   ],
   "source": [
    "# Both hints with dedenting\n",
    "analysis = \"Step 1: Identify the problem\\nStep 2: Propose solutions\"\n",
    "p = dedent(t\"\"\"\n",
    "    {analysis:a:header=Analysis:xml=process}\n",
    "\n",
    "    Conclusion: The problem is now clear.\n",
    "    \"\"\")\n",
    "\n",
    "print(str(p))"
   ]
  },
  {
   "cell_type": "markdown",
   "id": "realistic-intro",
   "metadata": {},
   "source": [
    "## Realistic Example: Structured LLM Prompt\n",
    "\n",
    "Build a well-structured prompt for Claude with multiple sections using headers and XML."
   ]
  },
  {
   "cell_type": "code",
   "execution_count": 20,
   "id": "realistic-demo",
   "metadata": {
    "execution": {
     "iopub.execute_input": "2025-10-14T10:50:59.518609Z",
     "iopub.status.busy": "2025-10-14T10:50:59.518535Z",
     "iopub.status.idle": "2025-10-14T10:50:59.520785Z",
     "shell.execute_reply": "2025-10-14T10:50:59.520585Z"
    }
   },
   "outputs": [
    {
     "name": "stdout",
     "output_type": "stream",
     "text": [
      "# System\n",
      "You are an expert Python developer.\n",
      "Provide clear, well-commented code.\n",
      "\n",
      "# Task\n",
      "Write a function to validate email addresses using regex\n",
      "\n",
      "# Examples\n",
      "<examples>\n",
      "Input: user@example.com\n",
      "Expected: Valid\n",
      "Input: invalid.email\n",
      "Expected: Invalid\n",
      "Input: test@domain.co.uk\n",
      "Expected: Valid\n",
      "</examples>\n",
      "\n",
      "# Constraints\n",
      "<requirements>\n",
      "Must handle international domains and subdomains\n",
      "</requirements>\n",
      "\n",
      "Please provide your implementation below.\n"
     ]
    }
   ],
   "source": [
    "# Create structured sections\n",
    "system_instructions = dedent(t\"\"\"\n",
    "    You are an expert Python developer.\n",
    "    Provide clear, well-commented code.\n",
    "    \"\"\")\n",
    "\n",
    "task_description = \"Write a function to validate email addresses using regex\"\n",
    "\n",
    "examples = [\n",
    "    prompt(t\"Input: {inp:i}\\nExpected: {out:o}\")\n",
    "    for inp, out in [\n",
    "        (\"user@example.com\", \"Valid\"),\n",
    "        (\"invalid.email\", \"Invalid\"),\n",
    "        (\"test@domain.co.uk\", \"Valid\")\n",
    "    ]\n",
    "]\n",
    "\n",
    "constraints = \"Must handle international domains and subdomains\"\n",
    "\n",
    "# Assemble the full prompt\n",
    "full_prompt = dedent(t\"\"\"\n",
    "    {system_instructions:sys:header=System}\n",
    "\n",
    "    {task_description:task:header=Task}\n",
    "\n",
    "    {examples:exs:header=Examples:xml=examples}\n",
    "\n",
    "    {constraints:constraints:header=Constraints:xml=requirements}\n",
    "\n",
    "    Please provide your implementation below.\n",
    "    \"\"\")\n",
    "\n",
    "print(str(full_prompt))"
   ]
  },
  {
   "cell_type": "markdown",
   "id": "max-level-intro",
   "metadata": {},
   "source": [
    "## Controlling Max Header Level\n",
    "\n",
    "You can control the maximum header level using the `max_header_level` parameter in `render()`."
   ]
  },
  {
   "cell_type": "code",
   "execution_count": 21,
   "id": "max-level-demo",
   "metadata": {
    "execution": {
     "iopub.execute_input": "2025-10-14T10:50:59.521874Z",
     "iopub.status.busy": "2025-10-14T10:50:59.521798Z",
     "iopub.status.idle": "2025-10-14T10:50:59.523812Z",
     "shell.execute_reply": "2025-10-14T10:50:59.523598Z"
    }
   },
   "outputs": [
    {
     "name": "stdout",
     "output_type": "stream",
     "text": [
      "Default max_header_level=4:\n",
      "# Level 1\n",
      "## Level 2\n",
      "### Level 3\n",
      "#### Level 4\n",
      "Content 4\n",
      "\n",
      "Custom max_header_level=2:\n",
      "# Level 1\n",
      "## Level 2\n",
      "## Level 3\n",
      "## Level 4\n",
      "Content 4\n"
     ]
    }
   ],
   "source": [
    "# Create deeply nested headers\n",
    "level4 = prompt(t\"{'Content 4':c:header=Level 4}\")\n",
    "level3 = prompt(t\"{level4:l4:header=Level 3}\")\n",
    "level2 = prompt(t\"{level3:l3:header=Level 2}\")\n",
    "level1 = prompt(t\"{level2:l2:header=Level 1}\")\n",
    "\n",
    "# Default max level (4)\n",
    "print(\"Default max_header_level=4:\")\n",
    "print(str(level1))\n",
    "print()\n",
    "\n",
    "# Custom max level (2)\n",
    "print(\"Custom max_header_level=2:\")\n",
    "rendered = level1.render(max_header_level=2)\n",
    "print(rendered.text)"
   ]
  },
  {
   "cell_type": "markdown",
   "id": "provenance-intro",
   "metadata": {},
   "source": [
    "## Provenance with Render Hints\n",
    "\n",
    "Render hints are preserved in the prompt's provenance data."
   ]
  },
  {
   "cell_type": "code",
   "execution_count": 22,
   "id": "provenance-demo",
   "metadata": {
    "execution": {
     "iopub.execute_input": "2025-10-14T10:50:59.524941Z",
     "iopub.status.busy": "2025-10-14T10:50:59.524865Z",
     "iopub.status.idle": "2025-10-14T10:50:59.526562Z",
     "shell.execute_reply": "2025-10-14T10:50:59.526360Z"
    }
   },
   "outputs": [
    {
     "name": "stdout",
     "output_type": "stream",
     "text": [
      "{\n",
      "  \"strings\": [\n",
      "    \"\",\n",
      "    \"\"\n",
      "  ],\n",
      "  \"nodes\": [\n",
      "    {\n",
      "      \"key\": \"c\",\n",
      "      \"expression\": \"content\",\n",
      "      \"conversion\": null,\n",
      "      \"format_spec\": \"c:header=Section:xml=data\",\n",
      "      \"render_hints\": \"header=Section:xml=data\",\n",
      "      \"index\": 1,\n",
      "      \"value\": \"Some content\"\n",
      "    }\n",
      "  ]\n",
      "}\n",
      "\n",
      "Render hints are preserved: header=Section:xml=data\n"
     ]
    }
   ],
   "source": [
    "import json\n",
    "\n",
    "content = \"Some content\"\n",
    "p = prompt(t\"{content:c:header=Section:xml=data}\")\n",
    "\n",
    "# Export provenance\n",
    "prov = p.to_provenance()\n",
    "print(json.dumps(prov, indent=2))\n",
    "\n",
    "print(\"\\nRender hints are preserved:\", prov['nodes'][0]['render_hints'])"
   ]
  },
  {
   "cell_type": "markdown",
   "id": "best-practices",
   "metadata": {},
   "source": [
    "## Best Practices\n",
    "\n",
    "1. **Use XML for structure**: Wrap thinking, analysis, or specific content types in XML tags\n",
    "2. **Use headers for sections**: Add headers to major sections of your prompts for clarity\n",
    "3. **Combine thoughtfully**: Both hints together work well for major sections with structured content\n",
    "4. **Consider nesting**: Headers automatically adjust levels - design your nesting hierarchy intentionally\n",
    "5. **Use with dedenting**: Write readable source code with proper indentation and dedenting\n",
    "6. **Max header level**: Keep header nesting reasonable (default max of 4 works well)\n",
    "7. **XML tag names**: Use semantic tag names like `thinking`, `analysis`, `examples`"
   ]
  },
  {
   "cell_type": "markdown",
   "id": "ddbbb72b",
   "metadata": {},
   "source": []
  }
 ],
 "metadata": {
  "kernelspec": {
   "display_name": "structured-prompts",
   "language": "python",
   "name": "python3"
  },
  "language_info": {
   "codemirror_mode": {
    "name": "ipython",
    "version": 3
   },
   "file_extension": ".py",
   "mimetype": "text/x-python",
   "name": "python",
   "nbconvert_exporter": "python",
   "pygments_lexer": "ipython3",
   "version": "3.14.0"
  }
 },
 "nbformat": 4,
 "nbformat_minor": 5
}
