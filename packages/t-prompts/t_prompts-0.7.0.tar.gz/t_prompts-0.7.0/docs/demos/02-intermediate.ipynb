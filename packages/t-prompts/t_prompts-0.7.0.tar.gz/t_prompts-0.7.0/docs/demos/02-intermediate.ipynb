{
 "cells": [
  {
   "cell_type": "markdown",
   "metadata": {},
   "source": [
    "# Intermediate Tutorial: Composition and Navigation\n",
    "\n",
    "This tutorial covers composing prompts from smaller pieces, navigating nested structures, and exporting provenance data."
   ]
  },
  {
   "cell_type": "code",
   "execution_count": 1,
   "metadata": {
    "execution": {
     "iopub.execute_input": "2025-10-14T13:17:02.468500Z",
     "iopub.status.busy": "2025-10-14T13:17:02.468327Z",
     "iopub.status.idle": "2025-10-14T13:17:02.489806Z",
     "shell.execute_reply": "2025-10-14T13:17:02.489487Z"
    }
   },
   "outputs": [],
   "source": [
    "from t_prompts import prompt"
   ]
  },
  {
   "cell_type": "markdown",
   "metadata": {},
   "source": [
    "## Nested Prompts\n",
    "\n",
    "You can build larger prompts by composing smaller `StructuredPrompt` objects together."
   ]
  },
  {
   "cell_type": "code",
   "execution_count": 2,
   "metadata": {
    "execution": {
     "iopub.execute_input": "2025-10-14T13:17:02.491574Z",
     "iopub.status.busy": "2025-10-14T13:17:02.491458Z",
     "iopub.status.idle": "2025-10-14T13:17:02.494574Z",
     "shell.execute_reply": "2025-10-14T13:17:02.494331Z"
    }
   },
   "outputs": [
    {
     "name": "stdout",
     "output_type": "stream",
     "text": [
      "You are a helpful assistant. User: What is Python?\n"
     ]
    }
   ],
   "source": [
    "# Build prompts from smaller pieces\n",
    "system_msg = \"You are a helpful assistant.\"\n",
    "user_query = \"What is Python?\"\n",
    "\n",
    "p_system = prompt(t\"{system_msg:system}\")\n",
    "p_user = prompt(t\"User: {user_query:query}\")\n",
    "\n",
    "# Compose into larger prompt\n",
    "p_full = prompt(t\"{p_system:sys} {p_user:usr}\")\n",
    "\n",
    "# Renders correctly\n",
    "print(str(p_full))"
   ]
  },
  {
   "cell_type": "markdown",
   "metadata": {},
   "source": [
    "## Navigating Nested Structures\n",
    "\n",
    "Access nested interpolations using chained subscript operations."
   ]
  },
  {
   "cell_type": "code",
   "execution_count": 3,
   "metadata": {
    "execution": {
     "iopub.execute_input": "2025-10-14T13:17:02.516014Z",
     "iopub.status.busy": "2025-10-14T13:17:02.515888Z",
     "iopub.status.idle": "2025-10-14T13:17:02.518041Z",
     "shell.execute_reply": "2025-10-14T13:17:02.517781Z"
    }
   },
   "outputs": [
    {
     "name": "stdout",
     "output_type": "stream",
     "text": [
      "System message: You are a helpful assistant.\n",
      "User query: What is Python?\n",
      "\n",
      "Nested prompt type: <class 't_prompts.core.StructuredPrompt'>\n",
      "Nested prompt text: You are a helpful assistant.\n"
     ]
    }
   ],
   "source": [
    "# Navigate the tree\n",
    "print(f\"System message: {p_full['sys']['system'].value}\")\n",
    "print(f\"User query: {p_full['usr']['query'].value}\")\n",
    "\n",
    "# Get the nested prompt itself\n",
    "nested = p_full['sys'].value\n",
    "print(f\"\\nNested prompt type: {type(nested)}\")\n",
    "print(f\"Nested prompt text: {str(nested)}\")"
   ]
  },
  {
   "cell_type": "markdown",
   "metadata": {},
   "source": [
    "## Conversions: !s, !r, !a\n",
    "\n",
    "t-strings support conversion flags from Python's string formatting."
   ]
  },
  {
   "cell_type": "code",
   "execution_count": 4,
   "metadata": {
    "execution": {
     "iopub.execute_input": "2025-10-14T13:17:02.519697Z",
     "iopub.status.busy": "2025-10-14T13:17:02.519591Z",
     "iopub.status.idle": "2025-10-14T13:17:02.522532Z",
     "shell.execute_reply": "2025-10-14T13:17:02.522274Z"
    }
   },
   "outputs": [
    {
     "name": "stdout",
     "output_type": "stream",
     "text": [
      "!s: Hello\n",
      "World\n",
      "!r: 'Hello\\nWorld'\n",
      "!a: 'Hello \\U0001f44b'\n",
      "\n",
      "Conversion for 'r': r\n"
     ]
    }
   ],
   "source": [
    "text = \"Hello\\nWorld\"\n",
    "\n",
    "# !s: str() conversion (default)\n",
    "p_s = prompt(t\"{text!s:s}\")\n",
    "print(f\"!s: {str(p_s)}\")\n",
    "\n",
    "# !r: repr() conversion\n",
    "p_r = prompt(t\"{text!r:r}\")\n",
    "print(f\"!r: {str(p_r)}\")\n",
    "\n",
    "# !a: ascii() conversion\n",
    "emoji = \"Hello 👋\"\n",
    "p_a = prompt(t\"{emoji!a:a}\")\n",
    "print(f\"!a: {str(p_a)}\")\n",
    "\n",
    "# Conversion is preserved in metadata\n",
    "print(f\"\\nConversion for 'r': {p_r['r'].conversion}\")"
   ]
  },
  {
   "cell_type": "markdown",
   "metadata": {},
   "source": [
    "## Mapping Protocol\n",
    "\n",
    "`StructuredPrompt` implements the mapping protocol: `keys()`, `values()`, `items()`, `get()`, etc."
   ]
  },
  {
   "cell_type": "code",
   "execution_count": 5,
   "metadata": {
    "execution": {
     "iopub.execute_input": "2025-10-14T13:17:02.523761Z",
     "iopub.status.busy": "2025-10-14T13:17:02.523678Z",
     "iopub.status.idle": "2025-10-14T13:17:02.526264Z",
     "shell.execute_reply": "2025-10-14T13:17:02.526002Z"
    }
   },
   "outputs": [
    {
     "name": "stdout",
     "output_type": "stream",
     "text": [
      "Keys: ['n', 'a', 'c']\n",
      "\n",
      "Values:\n",
      "  n: Alice\n",
      "  a: 30\n",
      "  c: NYC\n",
      "\n",
      "Items:\n",
      "  n -> name = Alice\n",
      "  a -> age = 30\n",
      "  c -> city = NYC\n",
      "\n",
      "get('n'): Alice\n",
      "get('missing'): None\n"
     ]
    }
   ],
   "source": [
    "name = \"Alice\"\n",
    "age = \"30\"\n",
    "city = \"NYC\"\n",
    "\n",
    "p = prompt(t\"Name: {name:n}, Age: {age:a}, City: {city:c}\")\n",
    "\n",
    "# Keys\n",
    "print(f\"Keys: {list(p.keys())}\")\n",
    "\n",
    "# Values (returns StructuredInterpolation nodes)\n",
    "print(\"\\nValues:\")\n",
    "for node in p.values():\n",
    "    print(f\"  {node.key}: {node.value}\")\n",
    "\n",
    "# Items\n",
    "print(\"\\nItems:\")\n",
    "for key, node in p.items():\n",
    "    print(f\"  {key} -> {node.expression} = {node.value}\")\n",
    "\n",
    "# get() with default\n",
    "print(f\"\\nget('n'): {p.get('n').value}\")\n",
    "print(f\"get('missing'): {p.get('missing')}\")"
   ]
  },
  {
   "cell_type": "markdown",
   "metadata": {},
   "source": [
    "## Exporting to Values\n",
    "\n",
    "Use `to_values()` to export just the key-value pairs (useful for logging or serialization)."
   ]
  },
  {
   "cell_type": "code",
   "execution_count": 6,
   "metadata": {
    "execution": {
     "iopub.execute_input": "2025-10-14T13:17:02.527576Z",
     "iopub.status.busy": "2025-10-14T13:17:02.527487Z",
     "iopub.status.idle": "2025-10-14T13:17:02.529943Z",
     "shell.execute_reply": "2025-10-14T13:17:02.529693Z"
    }
   },
   "outputs": [
    {
     "name": "stdout",
     "output_type": "stream",
     "text": [
      "{\n",
      "  \"ctx\": \"User is Alice\",\n",
      "  \"inst\": \"Be concise\"\n",
      "}\n"
     ]
    }
   ],
   "source": [
    "import json\n",
    "\n",
    "context = \"User is Alice\"\n",
    "instructions = \"Be concise\"\n",
    "\n",
    "p = prompt(t\"Context: {context:ctx}. {instructions:inst}\")\n",
    "\n",
    "# Export to dictionary\n",
    "values = p.to_values()\n",
    "print(json.dumps(values, indent=2))"
   ]
  },
  {
   "cell_type": "markdown",
   "metadata": {},
   "source": [
    "## Exporting Full Provenance\n",
    "\n",
    "Use `to_provenance()` to export complete metadata including expressions, conversions, and format specs."
   ]
  },
  {
   "cell_type": "code",
   "execution_count": 7,
   "metadata": {
    "execution": {
     "iopub.execute_input": "2025-10-14T13:17:02.531220Z",
     "iopub.status.busy": "2025-10-14T13:17:02.531127Z",
     "iopub.status.idle": "2025-10-14T13:17:02.532858Z",
     "shell.execute_reply": "2025-10-14T13:17:02.532621Z"
    }
   },
   "outputs": [
    {
     "name": "stdout",
     "output_type": "stream",
     "text": [
      "{\n",
      "  \"strings\": [\n",
      "    \"Context: \",\n",
      "    \". \",\n",
      "    \"\"\n",
      "  ],\n",
      "  \"nodes\": [\n",
      "    {\n",
      "      \"key\": \"ctx\",\n",
      "      \"expression\": \"context\",\n",
      "      \"conversion\": null,\n",
      "      \"format_spec\": \"ctx\",\n",
      "      \"render_hints\": \"\",\n",
      "      \"index\": 1,\n",
      "      \"source_location\": {\n",
      "        \"filename\": \"3357236726.py\",\n",
      "        \"filepath\": \"/private/var/folders/wr/5n6v6bvj6mxdxjcg5_5ss1ph0000gn/T/ipykernel_1963/3357236726.py\",\n",
      "        \"line\": 6\n",
      "      },\n",
      "      \"value\": \"User is Alice\"\n",
      "    },\n",
      "    {\n",
      "      \"key\": \"inst\",\n",
      "      \"expression\": \"instructions\",\n",
      "      \"conversion\": null,\n",
      "      \"format_spec\": \"inst\",\n",
      "      \"render_hints\": \"\",\n",
      "      \"index\": 3,\n",
      "      \"source_location\": {\n",
      "        \"filename\": \"3357236726.py\",\n",
      "        \"filepath\": \"/private/var/folders/wr/5n6v6bvj6mxdxjcg5_5ss1ph0000gn/T/ipykernel_1963/3357236726.py\",\n",
      "        \"line\": 6\n",
      "      },\n",
      "      \"value\": \"Be concise\"\n",
      "    }\n",
      "  ]\n",
      "}\n"
     ]
    }
   ],
   "source": [
    "# Export full provenance\n",
    "provenance = p.to_provenance()\n",
    "print(json.dumps(provenance, indent=2))"
   ]
  },
  {
   "cell_type": "markdown",
   "metadata": {},
   "source": [
    "## Nested Provenance\n",
    "\n",
    "Provenance export works recursively for nested prompts."
   ]
  },
  {
   "cell_type": "code",
   "execution_count": 8,
   "metadata": {
    "execution": {
     "iopub.execute_input": "2025-10-14T13:17:02.533960Z",
     "iopub.status.busy": "2025-10-14T13:17:02.533884Z",
     "iopub.status.idle": "2025-10-14T13:17:02.536051Z",
     "shell.execute_reply": "2025-10-14T13:17:02.535836Z"
    }
   },
   "outputs": [
    {
     "name": "stdout",
     "output_type": "stream",
     "text": [
      "{\n",
      "  \"strings\": [\n",
      "    \"Outer: \",\n",
      "    \". \",\n",
      "    \"\"\n",
      "  ],\n",
      "  \"nodes\": [\n",
      "    {\n",
      "      \"key\": \"in\",\n",
      "      \"expression\": \"inner\",\n",
      "      \"conversion\": null,\n",
      "      \"format_spec\": \"in\",\n",
      "      \"render_hints\": \"\",\n",
      "      \"index\": 1,\n",
      "      \"source_location\": {\n",
      "        \"filename\": \"1076965071.py\",\n",
      "        \"filepath\": \"/private/var/folders/wr/5n6v6bvj6mxdxjcg5_5ss1ph0000gn/T/ipykernel_1963/1076965071.py\",\n",
      "        \"line\": 3\n",
      "      },\n",
      "      \"value\": {\n",
      "        \"strings\": [\n",
      "          \"\",\n",
      "          \"\"\n",
      "        ],\n",
      "        \"nodes\": [\n",
      "          {\n",
      "            \"key\": \"ctx\",\n",
      "            \"expression\": \"context\",\n",
      "            \"conversion\": null,\n",
      "            \"format_spec\": \"ctx\",\n",
      "            \"render_hints\": \"\",\n",
      "            \"index\": 1,\n",
      "            \"source_location\": {\n",
      "              \"filename\": \"1076965071.py\",\n",
      "              \"filepath\": \"/private/var/folders/wr/5n6v6bvj6mxdxjcg5_5ss1ph0000gn/T/ipykernel_1963/1076965071.py\",\n",
      "              \"line\": 2\n",
      "            },\n",
      "            \"value\": \"User is Alice\"\n",
      "          }\n",
      "        ]\n",
      "      }\n",
      "    },\n",
      "    {\n",
      "      \"key\": \"inst\",\n",
      "      \"expression\": \"instructions\",\n",
      "      \"conversion\": null,\n",
      "      \"format_spec\": \"inst\",\n",
      "      \"render_hints\": \"\",\n",
      "      \"index\": 3,\n",
      "      \"source_location\": {\n",
      "        \"filename\": \"1076965071.py\",\n",
      "        \"filepath\": \"/private/var/folders/wr/5n6v6bvj6mxdxjcg5_5ss1ph0000gn/T/ipykernel_1963/1076965071.py\",\n",
      "        \"line\": 3\n",
      "      },\n",
      "      \"value\": \"Be concise\"\n",
      "    }\n",
      "  ]\n",
      "}\n"
     ]
    }
   ],
   "source": [
    "# Create nested structure\n",
    "inner = prompt(t\"{context:ctx}\")\n",
    "outer = prompt(t\"Outer: {inner:in}. {instructions:inst}\")\n",
    "\n",
    "# Export nested provenance\n",
    "nested_prov = outer.to_provenance()\n",
    "print(json.dumps(nested_prov, indent=2))"
   ]
  },
  {
   "cell_type": "markdown",
   "metadata": {},
   "source": [
    "## Introspection\n",
    "\n",
    "You can inspect the structure of a prompt to understand its composition."
   ]
  },
  {
   "cell_type": "code",
   "execution_count": 9,
   "metadata": {
    "execution": {
     "iopub.execute_input": "2025-10-14T13:17:02.537137Z",
     "iopub.status.busy": "2025-10-14T13:17:02.537065Z",
     "iopub.status.idle": "2025-10-14T13:17:02.539221Z",
     "shell.execute_reply": "2025-10-14T13:17:02.539020Z"
    }
   },
   "outputs": [
    {
     "name": "stdout",
     "output_type": "stream",
     "text": [
      "in: inner (nested)\n",
      "  ctx: context = \"User is Alice\"\n",
      "inst: instructions = \"Be concise\"\n"
     ]
    }
   ],
   "source": [
    "def inspect_prompt(p, indent=0):\n",
    "    \"\"\"Recursively inspect a structured prompt.\"\"\"\n",
    "    prefix = \"  \" * indent\n",
    "    for key, node in p.items():\n",
    "        if isinstance(node.value, str):\n",
    "            print(f\"{prefix}{key}: {node.expression} = \\\"{node.value}\\\"\")\n",
    "        else:  # Nested StructuredPrompt\n",
    "            print(f\"{prefix}{key}: {node.expression} (nested)\")\n",
    "            inspect_prompt(node.value, indent + 1)\n",
    "\n",
    "inspect_prompt(outer)"
   ]
  },
  {
   "cell_type": "markdown",
   "metadata": {},
   "source": [
    "## Next Steps\n",
    "\n",
    "Explore the topic notebooks for deep dives:\n",
    "\n",
    "- **Few-Shot Prompts**: Building lists of examples with dynamic keys\n",
    "- **Source Mapping**: Bidirectional text ↔ structure mapping\n",
    "- **Format Spec Mini-Language**: Custom keys and render hints\n",
    "- **Advanced Composition**: Complex nested structures and patterns"
   ]
  }
 ],
 "metadata": {
  "kernelspec": {
   "display_name": "Python 3",
   "language": "python",
   "name": "python3"
  },
  "language_info": {
   "codemirror_mode": {
    "name": "ipython",
    "version": 3
   },
   "file_extension": ".py",
   "mimetype": "text/x-python",
   "name": "python",
   "nbconvert_exporter": "python",
   "pygments_lexer": "ipython3",
   "version": "3.14.0"
  }
 },
 "nbformat": 4,
 "nbformat_minor": 2
}
