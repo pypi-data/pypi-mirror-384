{
 "cells": [
  {
   "cell_type": "markdown",
   "metadata": {},
   "source": [
    "# Intermediate Tutorial: Composition and Navigation\n",
    "\n",
    "This tutorial covers composing prompts from smaller pieces, navigating nested structures, and exporting data."
   ]
  },
  {
   "cell_type": "code",
   "execution_count": 1,
   "metadata": {
    "execution": {
     "iopub.execute_input": "2025-10-16T01:53:23.667915Z",
     "iopub.status.busy": "2025-10-16T01:53:23.667627Z",
     "iopub.status.idle": "2025-10-16T01:53:23.704496Z",
     "shell.execute_reply": "2025-10-16T01:53:23.703994Z"
    }
   },
   "outputs": [],
   "source": [
    "from t_prompts import prompt"
   ]
  },
  {
   "cell_type": "markdown",
   "metadata": {},
   "source": [
    "## Nested Prompts\n",
    "\n",
    "You can build larger prompts by composing smaller `StructuredPrompt` objects together."
   ]
  },
  {
   "cell_type": "code",
   "execution_count": 2,
   "metadata": {
    "execution": {
     "iopub.execute_input": "2025-10-16T01:53:23.706410Z",
     "iopub.status.busy": "2025-10-16T01:53:23.706276Z",
     "iopub.status.idle": "2025-10-16T01:53:23.709626Z",
     "shell.execute_reply": "2025-10-16T01:53:23.709307Z"
    }
   },
   "outputs": [
    {
     "name": "stdout",
     "output_type": "stream",
     "text": [
      "You are a helpful assistant. User: What is Python?\n"
     ]
    }
   ],
   "source": [
    "# Build prompts from smaller pieces\n",
    "system_msg = \"You are a helpful assistant.\"\n",
    "user_query = \"What is Python?\"\n",
    "\n",
    "p_system = prompt(t\"{system_msg:system}\")\n",
    "p_user = prompt(t\"User: {user_query:query}\")\n",
    "\n",
    "# Compose into larger prompt\n",
    "p_full = prompt(t\"{p_system:sys} {p_user:usr}\")\n",
    "\n",
    "# Renders correctly\n",
    "print(str(p_full))"
   ]
  },
  {
   "cell_type": "markdown",
   "metadata": {},
   "source": [
    "## Navigating Nested Structures\n",
    "\n",
    "Access nested interpolations using chained subscript operations."
   ]
  },
  {
   "cell_type": "code",
   "execution_count": 3,
   "metadata": {
    "execution": {
     "iopub.execute_input": "2025-10-16T01:53:23.734275Z",
     "iopub.status.busy": "2025-10-16T01:53:23.734142Z",
     "iopub.status.idle": "2025-10-16T01:53:23.736533Z",
     "shell.execute_reply": "2025-10-16T01:53:23.736290Z"
    }
   },
   "outputs": [
    {
     "name": "stdout",
     "output_type": "stream",
     "text": [
      "System message: You are a helpful assistant.\n",
      "User query: What is Python?\n",
      "\n",
      "Nested node type: StructuredPrompt\n",
      "Has 'system' key: True\n",
      "Rendered: You are a helpful assistant.\n"
     ]
    }
   ],
   "source": [
    "# Navigate the tree\n",
    "print(f\"System message: {p_full['sys']['system'].value}\")\n",
    "print(f\"User query: {p_full['usr']['query'].value}\")\n",
    "\n",
    "# When accessing a nested prompt node, it returns a StructuredPrompt\n",
    "nested_node = p_full['sys']\n",
    "print(f\"\\nNested node type: {type(nested_node).__name__}\")\n",
    "print(f\"Has 'system' key: {'system' in nested_node}\")\n",
    "print(f\"Rendered: {str(nested_node)}\")"
   ]
  },
  {
   "cell_type": "markdown",
   "metadata": {},
   "source": [
    "## Conversions: !s, !r, !a\n",
    "\n",
    "t-strings support conversion flags from Python's string formatting."
   ]
  },
  {
   "cell_type": "code",
   "execution_count": 4,
   "metadata": {
    "execution": {
     "iopub.execute_input": "2025-10-16T01:53:23.737853Z",
     "iopub.status.busy": "2025-10-16T01:53:23.737745Z",
     "iopub.status.idle": "2025-10-16T01:53:23.740955Z",
     "shell.execute_reply": "2025-10-16T01:53:23.740692Z"
    }
   },
   "outputs": [
    {
     "name": "stdout",
     "output_type": "stream",
     "text": [
      "!s: Hello\n",
      "World\n",
      "!r: 'Hello\\nWorld'\n",
      "!a: 'Hello \\U0001f44b'\n",
      "\n",
      "Conversion for 'r': r\n"
     ]
    }
   ],
   "source": [
    "text = \"Hello\\nWorld\"\n",
    "\n",
    "# !s: str() conversion (default)\n",
    "p_s = prompt(t\"{text!s:s}\")\n",
    "print(f\"!s: {str(p_s)}\")\n",
    "\n",
    "# !r: repr() conversion\n",
    "p_r = prompt(t\"{text!r:r}\")\n",
    "print(f\"!r: {str(p_r)}\")\n",
    "\n",
    "# !a: ascii() conversion\n",
    "emoji = \"Hello 👋\"\n",
    "p_a = prompt(t\"{emoji!a:a}\")\n",
    "print(f\"!a: {str(p_a)}\")\n",
    "\n",
    "# Conversion is preserved in metadata\n",
    "print(f\"\\nConversion for 'r': {p_r['r'].conversion}\")"
   ]
  },
  {
   "cell_type": "markdown",
   "metadata": {},
   "source": [
    "## Mapping Protocol\n",
    "\n",
    "`StructuredPrompt` implements the mapping protocol: `keys()`, `values()`, `items()`, `get()`, etc."
   ]
  },
  {
   "cell_type": "code",
   "execution_count": 5,
   "metadata": {
    "execution": {
     "iopub.execute_input": "2025-10-16T01:53:23.742138Z",
     "iopub.status.busy": "2025-10-16T01:53:23.742060Z",
     "iopub.status.idle": "2025-10-16T01:53:23.744663Z",
     "shell.execute_reply": "2025-10-16T01:53:23.744447Z"
    }
   },
   "outputs": [
    {
     "name": "stdout",
     "output_type": "stream",
     "text": [
      "Keys: ['n', 'a', 'c']\n",
      "\n",
      "Values:\n",
      "  n: Alice\n",
      "  a: 30\n",
      "  c: NYC\n",
      "\n",
      "Items:\n",
      "  n -> name = Alice\n",
      "  a -> age = 30\n",
      "  c -> city = NYC\n",
      "\n",
      "get('n'): Alice\n",
      "get('missing'): None\n"
     ]
    }
   ],
   "source": [
    "name = \"Alice\"\n",
    "age = \"30\"\n",
    "city = \"NYC\"\n",
    "\n",
    "p = prompt(t\"Name: {name:n}, Age: {age:a}, City: {city:c}\")\n",
    "\n",
    "# Keys\n",
    "print(f\"Keys: {list(p.keys())}\")\n",
    "\n",
    "# Values (returns interpolation nodes)\n",
    "print(\"\\nValues:\")\n",
    "for node in p.values():\n",
    "    print(f\"  {node.key}: {node.value}\")\n",
    "\n",
    "# Items\n",
    "print(\"\\nItems:\")\n",
    "for key, node in p.items():\n",
    "    print(f\"  {key} -> {node.expression} = {node.value}\")\n",
    "\n",
    "# get() with default\n",
    "print(f\"\\nget('n'): {p.get('n').value}\")\n",
    "print(f\"get('missing'): {p.get('missing')}\")"
   ]
  },
  {
   "cell_type": "markdown",
   "metadata": {},
   "source": [
    "## Exporting to JSON\n",
    "\n",
    "Use `toJSON()` to export the prompt structure as JSON."
   ]
  },
  {
   "cell_type": "code",
   "execution_count": 6,
   "metadata": {
    "execution": {
     "iopub.execute_input": "2025-10-16T01:53:23.745814Z",
     "iopub.status.busy": "2025-10-16T01:53:23.745747Z",
     "iopub.status.idle": "2025-10-16T01:53:23.747853Z",
     "shell.execute_reply": "2025-10-16T01:53:23.747636Z"
    }
   },
   "outputs": [
    {
     "name": "stdout",
     "output_type": "stream",
     "text": [
      "{\n",
      "  \"prompt_id\": \"a2eb2bc3-9576-4b21-8657-bd42a7aaf3e1\",\n",
      "  \"children\": [\n",
      "    {\n",
      "      \"type\": \"static\",\n",
      "      \"id\": \"22fe9dc4-0195-494b-805f-970e12d6a23a\",\n",
      "      \"parent_id\": \"a2eb2bc3-9576-4b21-8657-bd42a7aaf3e1\",\n",
      "      \"key\": 0,\n",
      "      \"index\": 0,\n",
      "      \"source_location\": {\n",
      "        \"filename\": \"882574176.py\",\n",
      "        \"filepath\": \"/private/var/folders/wr/5n6v6bvj6mxdxjcg5_5ss1ph0000gn/T/ipykernel_20815/882574176.py\",\n",
      "        \"line\": 6\n",
      "      },\n",
      "      \"value\": \"Context: \"\n",
      "    },\n",
      "    {\n",
      "      \"type\": \"interpolation\",\n",
      "      \"id\": \"7778f7cd-501c-49fb-b51d-9dc429d3e24e\",\n",
      "      \"parent_id\": \"a2eb2bc3-9576-4b21-8657-bd42a7aaf3e1\",\n",
      "      \"key\": \"ctx\",\n",
      "      \"index\": 1,\n",
      "      \"source_location\": {\n",
      "        \"filename\": \"882574176.py\",\n",
      "        \"filepath\": \"/private/var/folders/wr/5n6v6bvj6mxdxjcg5_5ss1ph0000gn/T/ipykernel_20815/882574176.py\",\n",
      "        \"line\": 6\n",
      "      },\n",
      "      \"expression\": \"context\",\n",
      "      \"conversion\": null,\n",
      "      \"format_spec\": \"ctx\",\n",
      "      \"render_hints\": \"\",\n",
      "      \"value\": \"User is Alice\"\n",
      "    },\n",
      "    {\n",
      "      \"type\": \"static\",\n",
      "      \"id\": \"360f1a15-077d-454c-8c90-2b1cc2368bbf\",\n",
      "      \"parent_id\": \"a2eb2bc3-9576-4b21-8657-bd42a7aaf3e1\",\n",
      "      \"key\": 1,\n",
      "      \"index\": 2,\n",
      "      \"source_location\": {\n",
      "        \"filename\": \"882574176.py\",\n",
      "        \"filepath\": \"/private/var/folders/wr/5n6v6bvj6mxdxjcg5_5ss1ph0000gn/T/ipykernel_20815/882574176.py\",\n",
      "        \"line\": 6\n",
      "      },\n",
      "      \"value\": \". \"\n",
      "    },\n",
      "    {\n",
      "      \"type\": \"interpolation\",\n",
      "      \"id\": \"fac8be58-0d01-435e-aa9a-cde30ecbb1d3\",\n",
      "      \"parent_id\": \"a2eb2bc3-9576-4b21-8657-bd42a7aaf3e1\",\n",
      "      \"key\": \"inst\",\n",
      "      \"index\": 3,\n",
      "      \"source_location\": {\n",
      "        \"filename\": \"882574176.py\",\n",
      "        \"filepath\": \"/private/var/folders/wr/5n6v6bvj6mxdxjcg5_5ss1ph0000gn/T/ipykernel_20815/882574176.py\",\n",
      "        \"line\": 6\n",
      "      },\n",
      "      \"expression\": \"instructions\",\n",
      "      \"conversion\": null,\n",
      "      \"format_spec\": \"inst\",\n",
      "      \"render_hints\": \"\",\n",
      "      \"value\": \"Be concise\"\n",
      "    },\n",
      "    {\n",
      "      \"type\": \"static\",\n",
      "      \"id\": \"9d4f6170-a5d2-4473-a59a-d883db08803a\",\n",
      "      \"parent_id\": \"a2eb2bc3-9576-4b21-8657-bd42a7aaf3e1\",\n",
      "      \"key\": 2,\n",
      "      \"index\": 4,\n",
      "      \"source_location\": {\n",
      "        \"filename\": \"882574176.py\",\n",
      "        \"filepath\": \"/private/var/folders/wr/5n6v6bvj6mxdxjcg5_5ss1ph0000gn/T/ipykernel_20815/882574176.py\",\n",
      "        \"line\": 6\n",
      "      },\n",
      "      \"value\": \"\"\n",
      "    }\n",
      "  ]\n",
      "}\n"
     ]
    }
   ],
   "source": [
    "import json\n",
    "\n",
    "context = \"User is Alice\"\n",
    "instructions = \"Be concise\"\n",
    "\n",
    "p = prompt(t\"Context: {context:ctx}. {instructions:inst}\")\n",
    "\n",
    "# Export to JSON\n",
    "json_data = p.toJSON()\n",
    "print(json.dumps(json_data, indent=2))"
   ]
  },
  {
   "cell_type": "markdown",
   "metadata": {},
   "source": [
    "## Nested JSON Export\n",
    "\n",
    "JSON export works recursively for nested prompts."
   ]
  },
  {
   "cell_type": "code",
   "execution_count": 7,
   "metadata": {
    "execution": {
     "iopub.execute_input": "2025-10-16T01:53:23.748916Z",
     "iopub.status.busy": "2025-10-16T01:53:23.748852Z",
     "iopub.status.idle": "2025-10-16T01:53:23.750933Z",
     "shell.execute_reply": "2025-10-16T01:53:23.750706Z"
    }
   },
   "outputs": [
    {
     "name": "stdout",
     "output_type": "stream",
     "text": [
      "{\n",
      "  \"prompt_id\": \"c49b95c2-63f0-4bd4-9d66-56c030b3e7cb\",\n",
      "  \"children\": [\n",
      "    {\n",
      "      \"type\": \"static\",\n",
      "      \"id\": \"79150a96-a36c-42d5-bc52-cef74912bc5e\",\n",
      "      \"parent_id\": \"c49b95c2-63f0-4bd4-9d66-56c030b3e7cb\",\n",
      "      \"key\": 0,\n",
      "      \"index\": 0,\n",
      "      \"source_location\": {\n",
      "        \"filename\": \"3458326394.py\",\n",
      "        \"filepath\": \"/private/var/folders/wr/5n6v6bvj6mxdxjcg5_5ss1ph0000gn/T/ipykernel_20815/3458326394.py\",\n",
      "        \"line\": 3\n",
      "      },\n",
      "      \"value\": \"Outer: \"\n",
      "    },\n",
      "    {\n",
      "      \"type\": \"nested_prompt\",\n",
      "      \"id\": \"3db55b42-3df1-4c7a-a3d8-4e712079f8d8\",\n",
      "      \"parent_id\": \"c49b95c2-63f0-4bd4-9d66-56c030b3e7cb\",\n",
      "      \"key\": \"in\",\n",
      "      \"index\": 1,\n",
      "      \"source_location\": {\n",
      "        \"filename\": \"3458326394.py\",\n",
      "        \"filepath\": \"/private/var/folders/wr/5n6v6bvj6mxdxjcg5_5ss1ph0000gn/T/ipykernel_20815/3458326394.py\",\n",
      "        \"line\": 3\n",
      "      },\n",
      "      \"expression\": \"inner\",\n",
      "      \"conversion\": null,\n",
      "      \"format_spec\": \"in\",\n",
      "      \"render_hints\": \"\",\n",
      "      \"prompt_id\": \"3db55b42-3df1-4c7a-a3d8-4e712079f8d8\",\n",
      "      \"creation_location\": {\n",
      "        \"filename\": \"3458326394.py\",\n",
      "        \"filepath\": \"/private/var/folders/wr/5n6v6bvj6mxdxjcg5_5ss1ph0000gn/T/ipykernel_20815/3458326394.py\",\n",
      "        \"line\": 2\n",
      "      },\n",
      "      \"children\": [\n",
      "        {\n",
      "          \"type\": \"static\",\n",
      "          \"id\": \"cd78f8f0-290d-42ab-bebd-868dd2cc456f\",\n",
      "          \"parent_id\": \"3db55b42-3df1-4c7a-a3d8-4e712079f8d8\",\n",
      "          \"key\": 0,\n",
      "          \"index\": 0,\n",
      "          \"source_location\": {\n",
      "            \"filename\": \"3458326394.py\",\n",
      "            \"filepath\": \"/private/var/folders/wr/5n6v6bvj6mxdxjcg5_5ss1ph0000gn/T/ipykernel_20815/3458326394.py\",\n",
      "            \"line\": 2\n",
      "          },\n",
      "          \"value\": \"\"\n",
      "        },\n",
      "        {\n",
      "          \"type\": \"interpolation\",\n",
      "          \"id\": \"3c9ff54c-897e-4e9c-983b-9d960ffe11ee\",\n",
      "          \"parent_id\": \"3db55b42-3df1-4c7a-a3d8-4e712079f8d8\",\n",
      "          \"key\": \"ctx\",\n",
      "          \"index\": 1,\n",
      "          \"source_location\": {\n",
      "            \"filename\": \"3458326394.py\",\n",
      "            \"filepath\": \"/private/var/folders/wr/5n6v6bvj6mxdxjcg5_5ss1ph0000gn/T/ipykernel_20815/3458326394.py\",\n",
      "            \"line\": 2\n",
      "          },\n",
      "          \"expression\": \"context\",\n",
      "          \"conversion\": null,\n",
      "          \"format_spec\": \"ctx\",\n",
      "          \"render_hints\": \"\",\n",
      "          \"value\": \"User is Alice\"\n",
      "        },\n",
      "        {\n",
      "          \"type\": \"static\",\n",
      "          \"id\": \"589d6f4a-4ae6-4b1a-a0b0-88b57745b41b\",\n",
      "          \"parent_id\": \"3db55b42-3df1-4c7a-a3d8-4e712079f8d8\",\n",
      "          \"key\": 1,\n",
      "          \"index\": 2,\n",
      "          \"source_location\": {\n",
      "            \"filename\": \"3458326394.py\",\n",
      "            \"filepath\": \"/private/var/folders/wr/5n6v6bvj6mxdxjcg5_5ss1ph0000gn/T/ipykernel_20815/3458326394.py\",\n",
      "            \"line\": 2\n",
      "          },\n",
      "          \"value\": \"\"\n",
      "        }\n",
      "      ]\n",
      "    },\n",
      "    {\n",
      "      \"type\": \"static\",\n",
      "      \"id\": \"7f040034-b2a6-495a-a84d-1dcd0bfad19a\",\n",
      "      \"parent_id\": \"c49b95c2-63f0-4bd4-9d66-56c030b3e7cb\",\n",
      "      \"key\": 1,\n",
      "      \"index\": 2,\n",
      "      \"source_location\": {\n",
      "        \"filename\": \"3458326394.py\",\n",
      "        \"filepath\": \"/private/var/folders/wr/5n6v6bvj6mxdxjcg5_5ss1ph0000gn/T/ipykernel_20815/3458326394.py\",\n",
      "        \"line\": 3\n",
      "      },\n",
      "      \"value\": \". \"\n",
      "    },\n",
      "    {\n",
      "      \"type\": \"interpolation\",\n",
      "      \"id\": \"5299a27e-4cc2-4168-a606-c773eb3d52e9\",\n",
      "      \"parent_id\": \"c49b95c2-63f0-4bd4-9d66-56c030b3e7cb\",\n",
      "      \"key\": \"inst\",\n",
      "      \"index\": 3,\n",
      "      \"source_location\": {\n",
      "        \"filename\": \"3458326394.py\",\n",
      "        \"filepath\": \"/private/var/folders/wr/5n6v6bvj6mxdxjcg5_5ss1ph0000gn/T/ipykernel_20815/3458326394.py\",\n",
      "        \"line\": 3\n",
      "      },\n",
      "      \"expression\": \"instructions\",\n",
      "      \"conversion\": null,\n",
      "      \"format_spec\": \"inst\",\n",
      "      \"render_hints\": \"\",\n",
      "      \"value\": \"Be concise\"\n",
      "    },\n",
      "    {\n",
      "      \"type\": \"static\",\n",
      "      \"id\": \"66f040b5-dba2-4352-9553-b34c3206bb0d\",\n",
      "      \"parent_id\": \"c49b95c2-63f0-4bd4-9d66-56c030b3e7cb\",\n",
      "      \"key\": 2,\n",
      "      \"index\": 4,\n",
      "      \"source_location\": {\n",
      "        \"filename\": \"3458326394.py\",\n",
      "        \"filepath\": \"/private/var/folders/wr/5n6v6bvj6mxdxjcg5_5ss1ph0000gn/T/ipykernel_20815/3458326394.py\",\n",
      "        \"line\": 3\n",
      "      },\n",
      "      \"value\": \"\"\n",
      "    }\n",
      "  ]\n",
      "}\n"
     ]
    }
   ],
   "source": [
    "# Create nested structure\n",
    "inner = prompt(t\"{context:ctx}\")\n",
    "outer = prompt(t\"Outer: {inner:in}. {instructions:inst}\")\n",
    "\n",
    "# Export nested structure\n",
    "nested_json = outer.toJSON()\n",
    "print(json.dumps(nested_json, indent=2))"
   ]
  },
  {
   "cell_type": "markdown",
   "metadata": {},
   "source": [
    "## Inspecting Prompt Structure\n",
    "\n",
    "You can recursively inspect nested prompt structures."
   ]
  },
  {
   "cell_type": "code",
   "execution_count": 8,
   "metadata": {
    "execution": {
     "iopub.execute_input": "2025-10-16T01:53:23.752059Z",
     "iopub.status.busy": "2025-10-16T01:53:23.751994Z",
     "iopub.status.idle": "2025-10-16T01:53:23.754023Z",
     "shell.execute_reply": "2025-10-16T01:53:23.753804Z"
    }
   },
   "outputs": [
    {
     "name": "stdout",
     "output_type": "stream",
     "text": [
      "in: (nested prompt)\n",
      "  ctx: context = \"User is Alice\"\n",
      "inst: instructions = \"Be concise\"\n"
     ]
    }
   ],
   "source": [
    "from t_prompts import StructuredPrompt\n",
    "\n",
    "\n",
    "def inspect_prompt(p, indent=0):\n",
    "    \"\"\"Recursively inspect a structured prompt.\"\"\"\n",
    "    prefix = \"  \" * indent\n",
    "    for key, node in p.items():\n",
    "        if isinstance(node, StructuredPrompt):\n",
    "            # Node is a nested prompt\n",
    "            print(f\"{prefix}{key}: (nested prompt)\")\n",
    "            inspect_prompt(node, indent + 1)\n",
    "        else:\n",
    "            # Node is an interpolation with a string value\n",
    "            print(f\"{prefix}{key}: {node.expression} = \\\"{node.value}\\\"\")\n",
    "\n",
    "inspect_prompt(outer)"
   ]
  },
  {
   "cell_type": "markdown",
   "metadata": {},
   "source": [
    "## Next Steps\n",
    "\n",
    "Continue learning:\n",
    "\n",
    "- **03-ir-visualization.ipynb**: See the widget visualization for IntermediateRepresentation\n",
    "- **topics/few-shot-prompts.ipynb**: Build few-shot prompts with dynamic keys and lists\n",
    "- **topics/source-mapping.ipynb**: Bidirectional text ↔ structure mapping\n",
    "- **topics/dedenting.ipynb**: Write readable multi-line prompts"
   ]
  }
 ],
 "metadata": {
  "kernelspec": {
   "display_name": "Python 3",
   "language": "python",
   "name": "python3"
  },
  "language_info": {
   "codemirror_mode": {
    "name": "ipython",
    "version": 3
   },
   "file_extension": ".py",
   "mimetype": "text/x-python",
   "name": "python",
   "nbconvert_exporter": "python",
   "pygments_lexer": "ipython3",
   "version": "3.14.0"
  }
 },
 "nbformat": 4,
 "nbformat_minor": 4
}
