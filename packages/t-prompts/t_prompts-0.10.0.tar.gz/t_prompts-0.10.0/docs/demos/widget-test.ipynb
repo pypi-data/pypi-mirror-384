{
 "cells": [
  {
   "cell_type": "markdown",
   "metadata": {},
   "source": [
    "# Widget Testing\n",
    "\n",
    "This notebook demonstrates various widget features including long lines, lists, nested prompts, and images."
   ]
  },
  {
   "cell_type": "code",
   "execution_count": 1,
   "metadata": {
    "execution": {
     "iopub.execute_input": "2025-10-16T01:59:16.640391Z",
     "iopub.status.busy": "2025-10-16T01:59:16.640107Z",
     "iopub.status.idle": "2025-10-16T01:59:16.679341Z",
     "shell.execute_reply": "2025-10-16T01:59:16.678936Z"
    }
   },
   "outputs": [],
   "source": [
    "from PIL import Image\n",
    "\n",
    "from t_prompts import dedent, prompt"
   ]
  },
  {
   "cell_type": "markdown",
   "metadata": {},
   "source": [
    "## Test 1: Long Lines with Wrapping\n",
    "\n",
    "Test the wrap indicator feature with long lines."
   ]
  },
  {
   "cell_type": "code",
   "execution_count": 2,
   "metadata": {
    "execution": {
     "iopub.execute_input": "2025-10-16T01:59:16.681233Z",
     "iopub.status.busy": "2025-10-16T01:59:16.681099Z",
     "iopub.status.idle": "2025-10-16T01:59:16.687047Z",
     "shell.execute_reply": "2025-10-16T01:59:16.686682Z"
    }
   },
   "outputs": [
    {
     "data": {
      "text/html": [
       "<style id=\"tp-widget-katex-css\">@font-face{font-display:block;font-family:KaTeX_AMS;font-style:normal;font-weight:400;src:url(fonts/KaTeX_AMS-Regular.woff2) format(\"woff2\"),url(fonts/KaTeX_AMS-Regular.woff) format(\"woff\"),url(fonts/KaTeX_AMS-Regular.ttf) format(\"truetype\")}@font-face{font-display:block;font-family:KaTeX_Caligraphic;font-style:normal;font-weight:700;src:url(fonts/KaTeX_Caligraphic-Bold.woff2) format(\"woff2\"),url(fonts/KaTeX_Caligraphic-Bold.woff) format(\"woff\"),url(fonts/KaTeX_Caligraphic-Bold.ttf) format(\"truetype\")}@font-face{font-display:block;font-family:KaTeX_Caligraphic;font-style:normal;font-weight:400;src:url(fonts/KaTeX_Caligraphic-Regular.woff2) format(\"woff2\"),url(fonts/KaTeX_Caligraphic-Regular.woff) format(\"woff\"),url(fonts/KaTeX_Caligraphic-Regular.ttf) format(\"truetype\")}@font-face{font-display:block;font-family:KaTeX_Fraktur;font-style:normal;font-weight:700;src:url(fonts/KaTeX_Fraktur-Bold.woff2) format(\"woff2\"),url(fonts/KaTeX_Fraktur-Bold.woff) format(\"woff\"),url(fonts/KaTeX_Fraktur-Bold.ttf) format(\"truetype\")}@font-face{font-display:block;font-family:KaTeX_Fraktur;font-style:normal;font-weight:400;src:url(fonts/KaTeX_Fraktur-Regular.woff2) format(\"woff2\"),url(fonts/KaTeX_Fraktur-Regular.woff) format(\"woff\"),url(fonts/KaTeX_Fraktur-Regular.ttf) format(\"truetype\")}@font-face{font-display:block;font-family:KaTeX_Main;font-style:normal;font-weight:700;src:url(fonts/KaTeX_Main-Bold.woff2) format(\"woff2\"),url(fonts/KaTeX_Main-Bold.woff) format(\"woff\"),url(fonts/KaTeX_Main-Bold.ttf) format(\"truetype\")}@font-face{font-display:block;font-family:KaTeX_Main;font-style:italic;font-weight:700;src:url(fonts/KaTeX_Main-BoldItalic.woff2) format(\"woff2\"),url(fonts/KaTeX_Main-BoldItalic.woff) format(\"woff\"),url(fonts/KaTeX_Main-BoldItalic.ttf) format(\"truetype\")}@font-face{font-display:block;font-family:KaTeX_Main;font-style:italic;font-weight:400;src:url(fonts/KaTeX_Main-Italic.woff2) format(\"woff2\"),url(fonts/KaTeX_Main-Italic.woff) format(\"woff\"),url(fonts/KaTeX_Main-Italic.ttf) format(\"truetype\")}@font-face{font-display:block;font-family:KaTeX_Main;font-style:normal;font-weight:400;src:url(fonts/KaTeX_Main-Regular.woff2) format(\"woff2\"),url(fonts/KaTeX_Main-Regular.woff) format(\"woff\"),url(fonts/KaTeX_Main-Regular.ttf) format(\"truetype\")}@font-face{font-display:block;font-family:KaTeX_Math;font-style:italic;font-weight:700;src:url(fonts/KaTeX_Math-BoldItalic.woff2) format(\"woff2\"),url(fonts/KaTeX_Math-BoldItalic.woff) format(\"woff\"),url(fonts/KaTeX_Math-BoldItalic.ttf) format(\"truetype\")}@font-face{font-display:block;font-family:KaTeX_Math;font-style:italic;font-weight:400;src:url(fonts/KaTeX_Math-Italic.woff2) format(\"woff2\"),url(fonts/KaTeX_Math-Italic.woff) format(\"woff\"),url(fonts/KaTeX_Math-Italic.ttf) format(\"truetype\")}@font-face{font-display:block;font-family:\"KaTeX_SansSerif\";font-style:normal;font-weight:700;src:url(fonts/KaTeX_SansSerif-Bold.woff2) format(\"woff2\"),url(fonts/KaTeX_SansSerif-Bold.woff) format(\"woff\"),url(fonts/KaTeX_SansSerif-Bold.ttf) format(\"truetype\")}@font-face{font-display:block;font-family:\"KaTeX_SansSerif\";font-style:italic;font-weight:400;src:url(fonts/KaTeX_SansSerif-Italic.woff2) format(\"woff2\"),url(fonts/KaTeX_SansSerif-Italic.woff) format(\"woff\"),url(fonts/KaTeX_SansSerif-Italic.ttf) format(\"truetype\")}@font-face{font-display:block;font-family:\"KaTeX_SansSerif\";font-style:normal;font-weight:400;src:url(fonts/KaTeX_SansSerif-Regular.woff2) format(\"woff2\"),url(fonts/KaTeX_SansSerif-Regular.woff) format(\"woff\"),url(fonts/KaTeX_SansSerif-Regular.ttf) format(\"truetype\")}@font-face{font-display:block;font-family:KaTeX_Script;font-style:normal;font-weight:400;src:url(fonts/KaTeX_Script-Regular.woff2) format(\"woff2\"),url(fonts/KaTeX_Script-Regular.woff) format(\"woff\"),url(fonts/KaTeX_Script-Regular.ttf) format(\"truetype\")}@font-face{font-display:block;font-family:KaTeX_Size1;font-style:normal;font-weight:400;src:url(fonts/KaTeX_Size1-Regular.woff2) format(\"woff2\"),url(fonts/KaTeX_Size1-Regular.woff) format(\"woff\"),url(fonts/KaTeX_Size1-Regular.ttf) format(\"truetype\")}@font-face{font-display:block;font-family:KaTeX_Size2;font-style:normal;font-weight:400;src:url(fonts/KaTeX_Size2-Regular.woff2) format(\"woff2\"),url(fonts/KaTeX_Size2-Regular.woff) format(\"woff\"),url(fonts/KaTeX_Size2-Regular.ttf) format(\"truetype\")}@font-face{font-display:block;font-family:KaTeX_Size3;font-style:normal;font-weight:400;src:url(fonts/KaTeX_Size3-Regular.woff2) format(\"woff2\"),url(fonts/KaTeX_Size3-Regular.woff) format(\"woff\"),url(fonts/KaTeX_Size3-Regular.ttf) format(\"truetype\")}@font-face{font-display:block;font-family:KaTeX_Size4;font-style:normal;font-weight:400;src:url(fonts/KaTeX_Size4-Regular.woff2) format(\"woff2\"),url(fonts/KaTeX_Size4-Regular.woff) format(\"woff\"),url(fonts/KaTeX_Size4-Regular.ttf) format(\"truetype\")}@font-face{font-display:block;font-family:KaTeX_Typewriter;font-style:normal;font-weight:400;src:url(fonts/KaTeX_Typewriter-Regular.woff2) format(\"woff2\"),url(fonts/KaTeX_Typewriter-Regular.woff) format(\"woff\"),url(fonts/KaTeX_Typewriter-Regular.ttf) format(\"truetype\")}.katex{font:normal 1.21em KaTeX_Main,Times New Roman,serif;line-height:1.2;text-indent:0;text-rendering:auto}.katex *{-ms-high-contrast-adjust:none!important;border-color:currentColor}.katex .katex-version:after{content:\"0.16.25\"}.katex .katex-mathml{clip:rect(1px,1px,1px,1px);border:0;height:1px;overflow:hidden;padding:0;position:absolute;width:1px}.katex .katex-html>.newline{display:block}.katex .base{position:relative;white-space:nowrap;width:-webkit-min-content;width:-moz-min-content;width:min-content}.katex .base,.katex .strut{display:inline-block}.katex .textbf{font-weight:700}.katex .textit{font-style:italic}.katex .textrm{font-family:KaTeX_Main}.katex .textsf{font-family:KaTeX_SansSerif}.katex .texttt{font-family:KaTeX_Typewriter}.katex .mathnormal{font-family:KaTeX_Math;font-style:italic}.katex .mathit{font-family:KaTeX_Main;font-style:italic}.katex .mathrm{font-style:normal}.katex .mathbf{font-family:KaTeX_Main;font-weight:700}.katex .boldsymbol{font-family:KaTeX_Math;font-style:italic;font-weight:700}.katex .amsrm,.katex .mathbb,.katex .textbb{font-family:KaTeX_AMS}.katex .mathcal{font-family:KaTeX_Caligraphic}.katex .mathfrak,.katex .textfrak{font-family:KaTeX_Fraktur}.katex .mathboldfrak,.katex .textboldfrak{font-family:KaTeX_Fraktur;font-weight:700}.katex .mathtt{font-family:KaTeX_Typewriter}.katex .mathscr,.katex .textscr{font-family:KaTeX_Script}.katex .mathsf,.katex .textsf{font-family:KaTeX_SansSerif}.katex .mathboldsf,.katex .textboldsf{font-family:KaTeX_SansSerif;font-weight:700}.katex .mathitsf,.katex .mathsfit,.katex .textitsf{font-family:KaTeX_SansSerif;font-style:italic}.katex .mainrm{font-family:KaTeX_Main;font-style:normal}.katex .vlist-t{border-collapse:collapse;display:inline-table;table-layout:fixed}.katex .vlist-r{display:table-row}.katex .vlist{display:table-cell;position:relative;vertical-align:bottom}.katex .vlist>span{display:block;height:0;position:relative}.katex .vlist>span>span{display:inline-block}.katex .vlist>span>.pstrut{overflow:hidden;width:0}.katex .vlist-t2{margin-right:-2px}.katex .vlist-s{display:table-cell;font-size:1px;min-width:2px;vertical-align:bottom;width:2px}.katex .vbox{align-items:baseline;display:inline-flex;flex-direction:column}.katex .hbox{width:100%}.katex .hbox,.katex .thinbox{display:inline-flex;flex-direction:row}.katex .thinbox{max-width:0;width:0}.katex .msupsub{text-align:left}.katex .mfrac>span>span{text-align:center}.katex .mfrac .frac-line{border-bottom-style:solid;display:inline-block;width:100%}.katex .hdashline,.katex .hline,.katex .mfrac .frac-line,.katex .overline .overline-line,.katex .rule,.katex .underline .underline-line{min-height:1px}.katex .mspace{display:inline-block}.katex .clap,.katex .llap,.katex .rlap{position:relative;width:0}.katex .clap>.inner,.katex .llap>.inner,.katex .rlap>.inner{position:absolute}.katex .clap>.fix,.katex .llap>.fix,.katex .rlap>.fix{display:inline-block}.katex .llap>.inner{right:0}.katex .clap>.inner,.katex .rlap>.inner{left:0}.katex .clap>.inner>span{margin-left:-50%;margin-right:50%}.katex .rule{border:0 solid;display:inline-block;position:relative}.katex .hline,.katex .overline .overline-line,.katex .underline .underline-line{border-bottom-style:solid;display:inline-block;width:100%}.katex .hdashline{border-bottom-style:dashed;display:inline-block;width:100%}.katex .sqrt>.root{margin-left:.2777777778em;margin-right:-.5555555556em}.katex .fontsize-ensurer.reset-size1.size1,.katex .sizing.reset-size1.size1{font-size:1em}.katex .fontsize-ensurer.reset-size1.size2,.katex .sizing.reset-size1.size2{font-size:1.2em}.katex .fontsize-ensurer.reset-size1.size3,.katex .sizing.reset-size1.size3{font-size:1.4em}.katex .fontsize-ensurer.reset-size1.size4,.katex .sizing.reset-size1.size4{font-size:1.6em}.katex .fontsize-ensurer.reset-size1.size5,.katex .sizing.reset-size1.size5{font-size:1.8em}.katex .fontsize-ensurer.reset-size1.size6,.katex .sizing.reset-size1.size6{font-size:2em}.katex .fontsize-ensurer.reset-size1.size7,.katex .sizing.reset-size1.size7{font-size:2.4em}.katex .fontsize-ensurer.reset-size1.size8,.katex .sizing.reset-size1.size8{font-size:2.88em}.katex .fontsize-ensurer.reset-size1.size9,.katex .sizing.reset-size1.size9{font-size:3.456em}.katex .fontsize-ensurer.reset-size1.size10,.katex .sizing.reset-size1.size10{font-size:4.148em}.katex .fontsize-ensurer.reset-size1.size11,.katex .sizing.reset-size1.size11{font-size:4.976em}.katex .fontsize-ensurer.reset-size2.size1,.katex .sizing.reset-size2.size1{font-size:.8333333333em}.katex .fontsize-ensurer.reset-size2.size2,.katex .sizing.reset-size2.size2{font-size:1em}.katex .fontsize-ensurer.reset-size2.size3,.katex .sizing.reset-size2.size3{font-size:1.1666666667em}.katex .fontsize-ensurer.reset-size2.size4,.katex .sizing.reset-size2.size4{font-size:1.3333333333em}.katex .fontsize-ensurer.reset-size2.size5,.katex .sizing.reset-size2.size5{font-size:1.5em}.katex .fontsize-ensurer.reset-size2.size6,.katex .sizing.reset-size2.size6{font-size:1.6666666667em}.katex .fontsize-ensurer.reset-size2.size7,.katex .sizing.reset-size2.size7{font-size:2em}.katex .fontsize-ensurer.reset-size2.size8,.katex .sizing.reset-size2.size8{font-size:2.4em}.katex .fontsize-ensurer.reset-size2.size9,.katex .sizing.reset-size2.size9{font-size:2.88em}.katex .fontsize-ensurer.reset-size2.size10,.katex .sizing.reset-size2.size10{font-size:3.4566666667em}.katex .fontsize-ensurer.reset-size2.size11,.katex .sizing.reset-size2.size11{font-size:4.1466666667em}.katex .fontsize-ensurer.reset-size3.size1,.katex .sizing.reset-size3.size1{font-size:.7142857143em}.katex .fontsize-ensurer.reset-size3.size2,.katex .sizing.reset-size3.size2{font-size:.8571428571em}.katex .fontsize-ensurer.reset-size3.size3,.katex .sizing.reset-size3.size3{font-size:1em}.katex .fontsize-ensurer.reset-size3.size4,.katex .sizing.reset-size3.size4{font-size:1.1428571429em}.katex .fontsize-ensurer.reset-size3.size5,.katex .sizing.reset-size3.size5{font-size:1.2857142857em}.katex .fontsize-ensurer.reset-size3.size6,.katex .sizing.reset-size3.size6{font-size:1.4285714286em}.katex .fontsize-ensurer.reset-size3.size7,.katex .sizing.reset-size3.size7{font-size:1.7142857143em}.katex .fontsize-ensurer.reset-size3.size8,.katex .sizing.reset-size3.size8{font-size:2.0571428571em}.katex .fontsize-ensurer.reset-size3.size9,.katex .sizing.reset-size3.size9{font-size:2.4685714286em}.katex .fontsize-ensurer.reset-size3.size10,.katex .sizing.reset-size3.size10{font-size:2.9628571429em}.katex .fontsize-ensurer.reset-size3.size11,.katex .sizing.reset-size3.size11{font-size:3.5542857143em}.katex .fontsize-ensurer.reset-size4.size1,.katex .sizing.reset-size4.size1{font-size:.625em}.katex .fontsize-ensurer.reset-size4.size2,.katex .sizing.reset-size4.size2{font-size:.75em}.katex .fontsize-ensurer.reset-size4.size3,.katex .sizing.reset-size4.size3{font-size:.875em}.katex .fontsize-ensurer.reset-size4.size4,.katex .sizing.reset-size4.size4{font-size:1em}.katex .fontsize-ensurer.reset-size4.size5,.katex .sizing.reset-size4.size5{font-size:1.125em}.katex .fontsize-ensurer.reset-size4.size6,.katex .sizing.reset-size4.size6{font-size:1.25em}.katex .fontsize-ensurer.reset-size4.size7,.katex .sizing.reset-size4.size7{font-size:1.5em}.katex .fontsize-ensurer.reset-size4.size8,.katex .sizing.reset-size4.size8{font-size:1.8em}.katex .fontsize-ensurer.reset-size4.size9,.katex .sizing.reset-size4.size9{font-size:2.16em}.katex .fontsize-ensurer.reset-size4.size10,.katex .sizing.reset-size4.size10{font-size:2.5925em}.katex .fontsize-ensurer.reset-size4.size11,.katex .sizing.reset-size4.size11{font-size:3.11em}.katex .fontsize-ensurer.reset-size5.size1,.katex .sizing.reset-size5.size1{font-size:.5555555556em}.katex .fontsize-ensurer.reset-size5.size2,.katex .sizing.reset-size5.size2{font-size:.6666666667em}.katex .fontsize-ensurer.reset-size5.size3,.katex .sizing.reset-size5.size3{font-size:.7777777778em}.katex .fontsize-ensurer.reset-size5.size4,.katex .sizing.reset-size5.size4{font-size:.8888888889em}.katex .fontsize-ensurer.reset-size5.size5,.katex .sizing.reset-size5.size5{font-size:1em}.katex .fontsize-ensurer.reset-size5.size6,.katex .sizing.reset-size5.size6{font-size:1.1111111111em}.katex .fontsize-ensurer.reset-size5.size7,.katex .sizing.reset-size5.size7{font-size:1.3333333333em}.katex .fontsize-ensurer.reset-size5.size8,.katex .sizing.reset-size5.size8{font-size:1.6em}.katex .fontsize-ensurer.reset-size5.size9,.katex .sizing.reset-size5.size9{font-size:1.92em}.katex .fontsize-ensurer.reset-size5.size10,.katex .sizing.reset-size5.size10{font-size:2.3044444444em}.katex .fontsize-ensurer.reset-size5.size11,.katex .sizing.reset-size5.size11{font-size:2.7644444444em}.katex .fontsize-ensurer.reset-size6.size1,.katex .sizing.reset-size6.size1{font-size:.5em}.katex .fontsize-ensurer.reset-size6.size2,.katex .sizing.reset-size6.size2{font-size:.6em}.katex .fontsize-ensurer.reset-size6.size3,.katex .sizing.reset-size6.size3{font-size:.7em}.katex .fontsize-ensurer.reset-size6.size4,.katex .sizing.reset-size6.size4{font-size:.8em}.katex .fontsize-ensurer.reset-size6.size5,.katex .sizing.reset-size6.size5{font-size:.9em}.katex .fontsize-ensurer.reset-size6.size6,.katex .sizing.reset-size6.size6{font-size:1em}.katex .fontsize-ensurer.reset-size6.size7,.katex .sizing.reset-size6.size7{font-size:1.2em}.katex .fontsize-ensurer.reset-size6.size8,.katex .sizing.reset-size6.size8{font-size:1.44em}.katex .fontsize-ensurer.reset-size6.size9,.katex .sizing.reset-size6.size9{font-size:1.728em}.katex .fontsize-ensurer.reset-size6.size10,.katex .sizing.reset-size6.size10{font-size:2.074em}.katex .fontsize-ensurer.reset-size6.size11,.katex .sizing.reset-size6.size11{font-size:2.488em}.katex .fontsize-ensurer.reset-size7.size1,.katex .sizing.reset-size7.size1{font-size:.4166666667em}.katex .fontsize-ensurer.reset-size7.size2,.katex .sizing.reset-size7.size2{font-size:.5em}.katex .fontsize-ensurer.reset-size7.size3,.katex .sizing.reset-size7.size3{font-size:.5833333333em}.katex .fontsize-ensurer.reset-size7.size4,.katex .sizing.reset-size7.size4{font-size:.6666666667em}.katex .fontsize-ensurer.reset-size7.size5,.katex .sizing.reset-size7.size5{font-size:.75em}.katex .fontsize-ensurer.reset-size7.size6,.katex .sizing.reset-size7.size6{font-size:.8333333333em}.katex .fontsize-ensurer.reset-size7.size7,.katex .sizing.reset-size7.size7{font-size:1em}.katex .fontsize-ensurer.reset-size7.size8,.katex .sizing.reset-size7.size8{font-size:1.2em}.katex .fontsize-ensurer.reset-size7.size9,.katex .sizing.reset-size7.size9{font-size:1.44em}.katex .fontsize-ensurer.reset-size7.size10,.katex .sizing.reset-size7.size10{font-size:1.7283333333em}.katex .fontsize-ensurer.reset-size7.size11,.katex .sizing.reset-size7.size11{font-size:2.0733333333em}.katex .fontsize-ensurer.reset-size8.size1,.katex .sizing.reset-size8.size1{font-size:.3472222222em}.katex .fontsize-ensurer.reset-size8.size2,.katex .sizing.reset-size8.size2{font-size:.4166666667em}.katex .fontsize-ensurer.reset-size8.size3,.katex .sizing.reset-size8.size3{font-size:.4861111111em}.katex .fontsize-ensurer.reset-size8.size4,.katex .sizing.reset-size8.size4{font-size:.5555555556em}.katex .fontsize-ensurer.reset-size8.size5,.katex .sizing.reset-size8.size5{font-size:.625em}.katex .fontsize-ensurer.reset-size8.size6,.katex .sizing.reset-size8.size6{font-size:.6944444444em}.katex .fontsize-ensurer.reset-size8.size7,.katex .sizing.reset-size8.size7{font-size:.8333333333em}.katex .fontsize-ensurer.reset-size8.size8,.katex .sizing.reset-size8.size8{font-size:1em}.katex .fontsize-ensurer.reset-size8.size9,.katex .sizing.reset-size8.size9{font-size:1.2em}.katex .fontsize-ensurer.reset-size8.size10,.katex .sizing.reset-size8.size10{font-size:1.4402777778em}.katex .fontsize-ensurer.reset-size8.size11,.katex .sizing.reset-size8.size11{font-size:1.7277777778em}.katex .fontsize-ensurer.reset-size9.size1,.katex .sizing.reset-size9.size1{font-size:.2893518519em}.katex .fontsize-ensurer.reset-size9.size2,.katex .sizing.reset-size9.size2{font-size:.3472222222em}.katex .fontsize-ensurer.reset-size9.size3,.katex .sizing.reset-size9.size3{font-size:.4050925926em}.katex .fontsize-ensurer.reset-size9.size4,.katex .sizing.reset-size9.size4{font-size:.462962963em}.katex .fontsize-ensurer.reset-size9.size5,.katex .sizing.reset-size9.size5{font-size:.5208333333em}.katex .fontsize-ensurer.reset-size9.size6,.katex .sizing.reset-size9.size6{font-size:.5787037037em}.katex .fontsize-ensurer.reset-size9.size7,.katex .sizing.reset-size9.size7{font-size:.6944444444em}.katex .fontsize-ensurer.reset-size9.size8,.katex .sizing.reset-size9.size8{font-size:.8333333333em}.katex .fontsize-ensurer.reset-size9.size9,.katex .sizing.reset-size9.size9{font-size:1em}.katex .fontsize-ensurer.reset-size9.size10,.katex .sizing.reset-size9.size10{font-size:1.2002314815em}.katex .fontsize-ensurer.reset-size9.size11,.katex .sizing.reset-size9.size11{font-size:1.4398148148em}.katex .fontsize-ensurer.reset-size10.size1,.katex .sizing.reset-size10.size1{font-size:.2410800386em}.katex .fontsize-ensurer.reset-size10.size2,.katex .sizing.reset-size10.size2{font-size:.2892960463em}.katex .fontsize-ensurer.reset-size10.size3,.katex .sizing.reset-size10.size3{font-size:.337512054em}.katex .fontsize-ensurer.reset-size10.size4,.katex .sizing.reset-size10.size4{font-size:.3857280617em}.katex .fontsize-ensurer.reset-size10.size5,.katex .sizing.reset-size10.size5{font-size:.4339440694em}.katex .fontsize-ensurer.reset-size10.size6,.katex .sizing.reset-size10.size6{font-size:.4821600771em}.katex .fontsize-ensurer.reset-size10.size7,.katex .sizing.reset-size10.size7{font-size:.5785920926em}.katex .fontsize-ensurer.reset-size10.size8,.katex .sizing.reset-size10.size8{font-size:.6943105111em}.katex .fontsize-ensurer.reset-size10.size9,.katex .sizing.reset-size10.size9{font-size:.8331726133em}.katex .fontsize-ensurer.reset-size10.size10,.katex .sizing.reset-size10.size10{font-size:1em}.katex .fontsize-ensurer.reset-size10.size11,.katex .sizing.reset-size10.size11{font-size:1.1996142719em}.katex .fontsize-ensurer.reset-size11.size1,.katex .sizing.reset-size11.size1{font-size:.2009646302em}.katex .fontsize-ensurer.reset-size11.size2,.katex .sizing.reset-size11.size2{font-size:.2411575563em}.katex .fontsize-ensurer.reset-size11.size3,.katex .sizing.reset-size11.size3{font-size:.2813504823em}.katex .fontsize-ensurer.reset-size11.size4,.katex .sizing.reset-size11.size4{font-size:.3215434084em}.katex .fontsize-ensurer.reset-size11.size5,.katex .sizing.reset-size11.size5{font-size:.3617363344em}.katex .fontsize-ensurer.reset-size11.size6,.katex .sizing.reset-size11.size6{font-size:.4019292605em}.katex .fontsize-ensurer.reset-size11.size7,.katex .sizing.reset-size11.size7{font-size:.4823151125em}.katex .fontsize-ensurer.reset-size11.size8,.katex .sizing.reset-size11.size8{font-size:.578778135em}.katex .fontsize-ensurer.reset-size11.size9,.katex .sizing.reset-size11.size9{font-size:.6945337621em}.katex .fontsize-ensurer.reset-size11.size10,.katex .sizing.reset-size11.size10{font-size:.8336012862em}.katex .fontsize-ensurer.reset-size11.size11,.katex .sizing.reset-size11.size11{font-size:1em}.katex .delimsizing.size1{font-family:KaTeX_Size1}.katex .delimsizing.size2{font-family:KaTeX_Size2}.katex .delimsizing.size3{font-family:KaTeX_Size3}.katex .delimsizing.size4{font-family:KaTeX_Size4}.katex .delimsizing.mult .delim-size1>span{font-family:KaTeX_Size1}.katex .delimsizing.mult .delim-size4>span{font-family:KaTeX_Size4}.katex .nulldelimiter{display:inline-block;width:.12em}.katex .delimcenter,.katex .op-symbol{position:relative}.katex .op-symbol.small-op{font-family:KaTeX_Size1}.katex .op-symbol.large-op{font-family:KaTeX_Size2}.katex .accent>.vlist-t,.katex .op-limits>.vlist-t{text-align:center}.katex .accent .accent-body{position:relative}.katex .accent .accent-body:not(.accent-full){width:0}.katex .overlay{display:block}.katex .mtable .vertical-separator{display:inline-block;min-width:1px}.katex .mtable .arraycolsep{display:inline-block}.katex .mtable .col-align-c>.vlist-t{text-align:center}.katex .mtable .col-align-l>.vlist-t{text-align:left}.katex .mtable .col-align-r>.vlist-t{text-align:right}.katex .svg-align{text-align:left}.katex svg{fill:currentColor;stroke:currentColor;fill-rule:nonzero;fill-opacity:1;stroke-width:1;stroke-linecap:butt;stroke-linejoin:miter;stroke-miterlimit:4;stroke-dasharray:none;stroke-dashoffset:0;stroke-opacity:1;display:block;height:inherit;position:absolute;width:100%}.katex svg path{stroke:none}.katex img{border-style:none;max-height:none;max-width:none;min-height:0;min-width:0}.katex .stretchy{display:block;overflow:hidden;position:relative;width:100%}.katex .stretchy:after,.katex .stretchy:before{content:\"\"}.katex .hide-tail{overflow:hidden;position:relative;width:100%}.katex .halfarrow-left{left:0;overflow:hidden;position:absolute;width:50.2%}.katex .halfarrow-right{overflow:hidden;position:absolute;right:0;width:50.2%}.katex .brace-left{left:0;overflow:hidden;position:absolute;width:25.1%}.katex .brace-center{left:25%;overflow:hidden;position:absolute;width:50%}.katex .brace-right{overflow:hidden;position:absolute;right:0;width:25.1%}.katex .x-arrow-pad{padding:0 .5em}.katex .cd-arrow-pad{padding:0 .55556em 0 .27778em}.katex .mover,.katex .munder,.katex .x-arrow{text-align:center}.katex .boxpad{padding:0 .3em}.katex .fbox,.katex .fcolorbox{border:.04em solid;box-sizing:border-box}.katex .cancel-pad{padding:0 .2em}.katex .cancel-lap{margin-left:-.2em;margin-right:-.2em}.katex .sout{border-bottom-style:solid;border-bottom-width:.08em}.katex .angl{border-right:.049em solid;border-top:.049em solid;box-sizing:border-box;margin-right:.03889em}.katex .anglpad{padding:0 .03889em}.katex .eqn-num:before{content:\"(\" counter(katexEqnNo) \")\";counter-increment:katexEqnNo}.katex .mml-eqn-num:before{content:\"(\" counter(mmlEqnNo) \")\";counter-increment:mmlEqnNo}.katex .mtr-glue{width:50%}.katex .cd-vert-arrow{display:inline-block;position:relative}.katex .cd-label-left{display:inline-block;position:absolute;right:calc(50% + .3em);text-align:left}.katex .cd-label-right{display:inline-block;left:calc(50% + .3em);position:absolute;text-align:right}.katex-display{display:block;margin:1em 0;text-align:center}.katex-display>.katex{display:block;text-align:center;white-space:nowrap}.katex-display>.katex>.katex-html{display:block;position:relative}.katex-display>.katex>.katex-html>.tag{position:absolute;right:0}.katex-display.leqno>.katex>.katex-html>.tag{left:0;right:auto}.katex-display.fleqn>.katex{padding-left:2em;text-align:left}body{counter-reset:katexEqnNo mmlEqnNo}\n",
       "</style><script id=\"tp-widget-bundle\">\"use strict\";var TPromptsWidgets=(()=>{var x=Object.defineProperty;var _=Object.getOwnPropertyDescriptor;var C=Object.getOwnPropertyNames;var D=Object.prototype.hasOwnProperty;var R=(e,t)=>{for(var n in t)x(e,n,{get:t[n],enumerable:!0})},H=(e,t,n,i)=>{if(t&&typeof t==\"object\"||typeof t==\"function\")for(let r of C(t))!D.call(e,r)&&r!==n&&x(e,r,{get:()=>t[r],enumerable:!(i=_(t,r))||i.enumerable});return e};var W=e=>H(x({},\"__esModule\",{value:!0}),e);var B={};R(B,{VERSION:()=>I,initRuntime:()=>v,initWidget:()=>c,injectStyles:()=>w});function m(e){return`id-${e}`}function O(e,t){if(!e)return null;let n=t.endsWith(\"/\")?t:t+\"/\";return e.startsWith(n)?e.substring(n.length):e===t?\".\":e}function T(e,t){if(!e||!e.filename)return null;let n=e.filepath||e.filename,i=O(n,t)||n;return e.line!==null&&e.line!==void 0?`${i}:${e.line}`:i}function N(e,t){let n={};if(!e)return n;function i(r){for(let o of r){let a=T(o.source_location,t),s=T(o.creation_location,t);a&&s&&a!==s?n[o.id]=`${a} (created: ${s})`:a?n[o.id]=a:s&&(n[o.id]=s),o.children&&i(o.children)}}return i(e.children),n}function P(e){let t={};if(!e)return t;function n(i){for(let r of i)t[r.id]=r.type,r.children&&n(r.children)}return n(e.children),t}function $(e){let t=e.config?.sourcePrefix||\"\";return{elementTypeMap:P(e.source_prompt||null),elementLocationMap:N(e.source_prompt||null,t)}}function z(e,t){let n=document.createElement(\"div\");n.className=\"tp-output-container wrap\";let i=\"\",r=[],o={};for(let a of e){let s=\"\",l;if(a.type===\"TextChunk\"&&a.text!==void 0){s=a.text;let p=document.createElement(\"span\");p.id=m(a.id),p.textContent=s;let u=t.elementTypeMap[a.element_id]||\"unknown\";p.className=`tp-chunk-${u}`;let g=t.elementLocationMap[a.element_id];g&&(p.title=g),l=p}else if(a.type===\"ImageChunk\"&&a.image){let p=a.image,u=p.format||\"PNG\",g=`data:image/${u.toLowerCase()};base64,${p.base64_data}`;s=`![${u} ${p.width}x${p.height}](${g})`;let f=document.createElement(\"span\");f.className=\"tp-chunk-image-container\",f.id=m(a.id);let h=document.createElement(\"span\");h.className=\"tp-chunk-image\",h.textContent=s;let y=t.elementLocationMap[a.element_id];y&&(h.title=y);let b=document.createElement(\"img\");b.className=\"tp-chunk-image-preview\",b.src=g,b.alt=`${u} ${p.width}x${p.height}`,f.appendChild(h),f.appendChild(b),l=f}else{let p=document.createElement(\"span\");p.id=m(a.id),l=p}let d=i.length,k=d+s.length;i+=s;for(let p=d;p<k;p++)r.push(a.id);o[a.id]={start:d,end:k},n.appendChild(l)}return{container:n,textMapping:{fullText:i,offsetToChunkId:r,chunkIdToOffsets:o}}}function E(e){let t=Array.from(e.querySelectorAll('span[id^=\"id-\"]'));t.forEach(n=>n.classList.remove(\"tp-wrapped-line\"));for(let n=0;n<t.length-1;n++){let i=t[n].offsetTop;t[n+1].offsetTop>i&&t[n].classList.add(\"tp-wrapped-line\")}}function A(e){if(E(e),typeof ResizeObserver<\"u\"){let t=new ResizeObserver(()=>{E(e)});t.observe(e),e._wrapResizeObserver=t}}function q(e,t,n){if(!(!t||!t.subtree_map))for(let[i,r]of Object.entries(t.subtree_map)){if(r.length===0)continue;let o=n.elementTypeMap[i]||\"unknown\",a=r[0],s=e.querySelector(`[id=\"${m(a)}\"]`);s&&s.classList.add(`tp-first-${o}`);let l=r[r.length-1],d=e.querySelector(`[id=\"${m(l)}\"]`);d&&d.classList.add(`tp-last-${o}`)}}function c(e){try{let t=e.querySelector('script[data-role=\"tp-widget-data\"]');if(!t||!t.textContent){e.innerHTML='<div class=\"tp-error\">No widget data found</div>';return}let n=JSON.parse(t.textContent);if(!n.ir||!n.ir.chunks){e.innerHTML='<div class=\"tp-error\">No chunks found in widget data</div>';return}let i=$(n),{container:r,textMapping:o}=z(n.ir.chunks,i);q(r,n.compiled_ir||null,i),A(r),r._textMapping=o;let a=document.createElement(\"div\");a.className=\"tp-widget-output\",a.appendChild(r);let s=e.querySelector(\".tp-widget-mount\");s?(s.innerHTML=\"\",s.appendChild(a)):(e.innerHTML=\"\",e.appendChild(a))}catch(t){console.error(\"Widget initialization error:\",t),e.innerHTML=`<div class=\"tp-error\">Failed to initialize widget: ${t instanceof Error?t.message:String(t)}</div>`}}var M=`/* T-Prompts Widget Styles */\n",
       "\n",
       "/* =============================================================================\n",
       "   CSS VARIABLES FOR THEMING\n",
       "   ============================================================================= */\n",
       "\n",
       "/* Base UI Variables */\n",
       ":root {\n",
       "  --tp-color-bg: #ffffff;\n",
       "  --tp-color-fg: #24292e;\n",
       "  --tp-color-border: #e1e4e8;\n",
       "  --tp-color-accent: #0366d6;\n",
       "  --tp-color-muted: #6a737d;\n",
       "  --tp-color-error: #d73a49;\n",
       "  --tp-font-family: -apple-system, BlinkMacSystemFont, 'Segoe UI', 'Noto Sans', Helvetica, Arial, sans-serif;\n",
       "  --tp-font-mono: 'SF Mono', Monaco, 'Cascadia Code', 'Roboto Mono', Consolas, 'Courier New', monospace;\n",
       "  --tp-spacing: 8px;\n",
       "\n",
       "  /* ==========================================================================\n",
       "     TIER 1: PALETTE PRIMITIVES - Hue values for each element type\n",
       "     ========================================================================== */\n",
       "  --tp-hue-static: 220;         /* Neutral blue-gray */\n",
       "  --tp-hue-interpolation: 212;  /* Blue - dynamic data */\n",
       "  --tp-hue-nested: 270;         /* Purple - compositional structure */\n",
       "  --tp-hue-list: 160;           /* Teal - collections */\n",
       "  --tp-hue-image: 30;           /* Orange - media */\n",
       "  --tp-hue-unknown: 0;          /* Red - warning/edge case */\n",
       "\n",
       "  /* ==========================================================================\n",
       "     TIER 2: SEMANTIC TOKENS - Light Mode\n",
       "     Saturation, lightness, and alpha values for foregrounds and backgrounds\n",
       "     ========================================================================== */\n",
       "\n",
       "  /* Static text - minimal styling (baseline) */\n",
       "  --tp-static-fg-s: 15%;\n",
       "  --tp-static-fg-l: 30%;\n",
       "  --tp-static-bg-alpha: 0.04;\n",
       "\n",
       "  /* Interpolations - blue, medium visibility */\n",
       "  --tp-interp-fg-s: 80%;\n",
       "  --tp-interp-fg-l: 35%;\n",
       "  --tp-interp-bg-alpha: 0.10;\n",
       "\n",
       "  /* Nested prompts - purple, slightly stronger */\n",
       "  --tp-nested-fg-s: 75%;\n",
       "  --tp-nested-fg-l: 38%;\n",
       "  --tp-nested-bg-alpha: 0.12;\n",
       "\n",
       "  /* Lists - teal, medium tint (increased visibility) */\n",
       "  --tp-list-fg-s: 80%;\n",
       "  --tp-list-fg-l: 32%;\n",
       "  --tp-list-bg-alpha: 0.14;\n",
       "\n",
       "  /* Images - orange, distinct */\n",
       "  --tp-image-fg-s: 85%;\n",
       "  --tp-image-fg-l: 40%;\n",
       "  --tp-image-bg-alpha: 0.10;\n",
       "\n",
       "  /* Unknown - red, warning signal */\n",
       "  --tp-unknown-fg-s: 80%;\n",
       "  --tp-unknown-fg-l: 45%;\n",
       "  --tp-unknown-bg-alpha: 0.12;\n",
       "}\n",
       "\n",
       "/* Dark Mode Overrides */\n",
       "@media (prefers-color-scheme: dark) {\n",
       "  :root {\n",
       "    --tp-color-bg: #0d1117;\n",
       "    --tp-color-fg: #c9d1d9;\n",
       "    --tp-color-border: #30363d;\n",
       "    --tp-color-accent: #58a6ff;\n",
       "    --tp-color-muted: #8b949e;\n",
       "    --tp-color-error: #f85149;\n",
       "\n",
       "    /* ==========================================================================\n",
       "       TIER 2: SEMANTIC TOKENS - Dark Mode Overrides\n",
       "       Higher lightness for foregrounds, higher alpha for backgrounds\n",
       "       ========================================================================== */\n",
       "\n",
       "    /* Static text */\n",
       "    --tp-static-fg-l: 75%;\n",
       "    --tp-static-bg-alpha: 0.08;\n",
       "\n",
       "    /* Interpolations */\n",
       "    --tp-interp-fg-l: 75%;\n",
       "    --tp-interp-bg-alpha: 0.18;\n",
       "\n",
       "    /* Nested prompts */\n",
       "    --tp-nested-fg-l: 78%;\n",
       "    --tp-nested-bg-alpha: 0.22;\n",
       "\n",
       "    /* Lists */\n",
       "    --tp-list-fg-l: 72%;\n",
       "    --tp-list-bg-alpha: 0.24;\n",
       "\n",
       "    /* Images */\n",
       "    --tp-image-fg-l: 80%;\n",
       "    --tp-image-bg-alpha: 0.18;\n",
       "\n",
       "    /* Unknown */\n",
       "    --tp-unknown-fg-l: 75%;\n",
       "    --tp-unknown-bg-alpha: 0.22;\n",
       "  }\n",
       "}\n",
       "\n",
       "/* Main widget container - three-pane grid layout */\n",
       ".tp-widget-container {\n",
       "  display: grid;\n",
       "  grid-template-columns: 1fr 1fr 1fr;\n",
       "  gap: var(--tp-spacing);\n",
       "  font-family: var(--tp-font-family);\n",
       "  font-size: 14px;\n",
       "  color: var(--tp-color-fg);\n",
       "  background: var(--tp-color-bg);\n",
       "  border: 1px solid var(--tp-color-border);\n",
       "  border-radius: 6px;\n",
       "  padding: var(--tp-spacing);\n",
       "  margin: calc(var(--tp-spacing) * 2) 0;\n",
       "  max-width: 100%;\n",
       "  overflow: hidden;\n",
       "}\n",
       "\n",
       "/* Output container for chunks */\n",
       ".tp-output-container {\n",
       "  font-family: var(--tp-font-mono);\n",
       "  font-size: 12px;\n",
       "  line-height: 1.6;\n",
       "  color: var(--tp-color-fg);\n",
       "  max-width: 100ch;\n",
       "  word-break: break-all;\n",
       "  padding-left: 16px; /* Gutter space for wrap indicators */\n",
       "  position: relative;\n",
       "}\n",
       "\n",
       "/* Wrapping mode (default) */\n",
       ".tp-output-container.wrap {\n",
       "  white-space: pre-wrap;\n",
       "}\n",
       "\n",
       "/* Scrolling mode (horizontal scroll, no wrapping) */\n",
       ".tp-output-container.scroll {\n",
       "  white-space: pre;\n",
       "  overflow-x: auto;\n",
       "}\n",
       "\n",
       "/* Wrap indicator for the last span on lines that wrap */\n",
       ".tp-wrapped-line::after {\n",
       "  content: '\\u2198';\n",
       "  position: absolute;\n",
       "  right: -14px;\n",
       "  color: var(--tp-color-muted);\n",
       "  font-size: 10px;\n",
       "  opacity: 0.5;\n",
       "  user-select: none;\n",
       "  pointer-events: none;\n",
       "}\n",
       "\n",
       "/* =============================================================================\n",
       "   TIER 3: APPLIED STYLES - Chunk Element Types\n",
       "   Semantic colors applied using the three-tier variable system\n",
       "   ============================================================================= */\n",
       "\n",
       "/* Static text - neutral baseline */\n",
       ".tp-chunk-static {\n",
       "  white-space: pre-wrap;\n",
       "  color: hsl(\n",
       "    var(--tp-hue-static),\n",
       "    var(--tp-static-fg-s),\n",
       "    var(--tp-static-fg-l)\n",
       "  );\n",
       "  background: hsla(\n",
       "    var(--tp-hue-static),\n",
       "    20%,\n",
       "    60%,\n",
       "    var(--tp-static-bg-alpha)\n",
       "  );\n",
       "}\n",
       "\n",
       "/* Interpolations - blue for dynamic data */\n",
       ".tp-chunk-interpolation {\n",
       "  white-space: pre-wrap;\n",
       "  color: hsl(\n",
       "    var(--tp-hue-interpolation),\n",
       "    var(--tp-interp-fg-s),\n",
       "    var(--tp-interp-fg-l)\n",
       "  );\n",
       "  background: hsla(\n",
       "    var(--tp-hue-interpolation),\n",
       "    80%,\n",
       "    60%,\n",
       "    var(--tp-interp-bg-alpha)\n",
       "  );\n",
       "}\n",
       "\n",
       "/* Nested prompts - purple for composition */\n",
       ".tp-chunk-nested_prompt {\n",
       "  white-space: pre-wrap;\n",
       "  color: hsl(\n",
       "    var(--tp-hue-nested),\n",
       "    var(--tp-nested-fg-s),\n",
       "    var(--tp-nested-fg-l)\n",
       "  );\n",
       "  background: hsla(\n",
       "    var(--tp-hue-nested),\n",
       "    75%,\n",
       "    65%,\n",
       "    var(--tp-nested-bg-alpha)\n",
       "  );\n",
       "}\n",
       "\n",
       "/* Lists - teal for collections */\n",
       ".tp-chunk-list {\n",
       "  white-space: pre-wrap;\n",
       "  color: hsl(\n",
       "    var(--tp-hue-list),\n",
       "    var(--tp-list-fg-s),\n",
       "    var(--tp-list-fg-l)\n",
       "  );\n",
       "  background: hsla(\n",
       "    var(--tp-hue-list),\n",
       "    70%,\n",
       "    60%,\n",
       "    var(--tp-list-bg-alpha)\n",
       "  );\n",
       "}\n",
       "\n",
       "/* Images - orange for media, with text elision */\n",
       ".tp-chunk-image {\n",
       "  white-space: nowrap;\n",
       "  max-width: 200px;\n",
       "  overflow: hidden;\n",
       "  text-overflow: ellipsis;\n",
       "  display: inline-block;\n",
       "  vertical-align: middle;\n",
       "  color: hsl(\n",
       "    var(--tp-hue-image),\n",
       "    var(--tp-image-fg-s),\n",
       "    var(--tp-image-fg-l)\n",
       "  );\n",
       "  background: hsla(\n",
       "    var(--tp-hue-image),\n",
       "    85%,\n",
       "    65%,\n",
       "    var(--tp-image-bg-alpha)\n",
       "  );\n",
       "}\n",
       "\n",
       "/* Image container for hover preview */\n",
       ".tp-chunk-image-container {\n",
       "  position: relative;\n",
       "  display: inline-block;\n",
       "}\n",
       "\n",
       "/* Hidden image preview - shown on hover */\n",
       ".tp-chunk-image-preview {\n",
       "  display: none;\n",
       "  position: absolute;\n",
       "  left: 100%;\n",
       "  top: 0;\n",
       "  margin-left: 8px;\n",
       "  z-index: 1000;\n",
       "  max-width: 400px;\n",
       "  max-height: 400px;\n",
       "  border: 2px solid var(--tp-color-border);\n",
       "  border-radius: 4px;\n",
       "  box-shadow: 0 4px 12px rgba(0, 0, 0, 0.3);\n",
       "  background: var(--tp-color-bg);\n",
       "}\n",
       "\n",
       "/* Show preview on hover */\n",
       ".tp-chunk-image-container:hover .tp-chunk-image-preview {\n",
       "  display: block;\n",
       "}\n",
       "\n",
       "/* Unknown types - red warning */\n",
       ".tp-chunk-unknown {\n",
       "  white-space: pre-wrap;\n",
       "  color: hsl(\n",
       "    var(--tp-hue-unknown),\n",
       "    var(--tp-unknown-fg-s),\n",
       "    var(--tp-unknown-fg-l)\n",
       "  );\n",
       "  background: hsla(\n",
       "    var(--tp-hue-unknown),\n",
       "    80%,\n",
       "    60%,\n",
       "    var(--tp-unknown-bg-alpha)\n",
       "  );\n",
       "}\n",
       "\n",
       "/* Element boundary markers - type-specific borders */\n",
       "/* Borders use each element type's semantic hue for visual consistency */\n",
       "\n",
       "/* No borders for static elements (baseline) */\n",
       ".tp-first-static,\n",
       ".tp-last-static {\n",
       "  /* Static elements have no boundary borders */\n",
       "}\n",
       "\n",
       "/* 1px borders for interpolation (blue, hue 212) */\n",
       ".tp-first-interpolation {\n",
       "  box-shadow: inset 1px 0 0 0 hsl(212, 90%, 45%);\n",
       "  padding-left: 1px;\n",
       "}\n",
       "\n",
       ".tp-last-interpolation {\n",
       "  box-shadow: inset -1px 0 0 0 hsl(212, 90%, 55%);\n",
       "  padding-right: 1px;\n",
       "}\n",
       "\n",
       "/* 1px borders for image (orange, hue 30) */\n",
       ".tp-first-image {\n",
       "  box-shadow: inset 1px 0 0 0 hsl(30, 90%, 50%);\n",
       "  padding-left: 1px;\n",
       "}\n",
       "\n",
       ".tp-last-image {\n",
       "  box-shadow: inset -1px 0 0 0 hsl(30, 90%, 60%);\n",
       "  padding-right: 1px;\n",
       "}\n",
       "\n",
       "\n",
       "/* 1px borders for nested_prompt (purple, hue 270) */\n",
       ".tp-first-nested_prompt {\n",
       "  box-shadow: inset 1px 0 0 0 hsl(270, 85%, 50%);\n",
       "  padding-left: 1px;\n",
       "}\n",
       "\n",
       ".tp-last-nested_prompt {\n",
       "  box-shadow: inset -1px 0 0 0 hsl(270, 85%, 60%);\n",
       "  padding-right: 1px;\n",
       "}\n",
       "\n",
       "/* 1px borders for list (teal, hue 160) - higher priority, placed last */\n",
       ".tp-first-list {\n",
       "  box-shadow: inset 1px 0 0 0 hsl(160, 80%, 40%);\n",
       "  padding-left: 1px;\n",
       "}\n",
       "\n",
       ".tp-last-list {\n",
       "  box-shadow: inset -1px 0 0 0 hsl(160, 80%, 50%);\n",
       "  padding-right: 1px;\n",
       "}\n",
       "\n",
       "\n",
       "/* Dark mode adjustments for boundaries - lighter colors for better visibility */\n",
       "@media (prefers-color-scheme: dark) {\n",
       "  .tp-first-interpolation {\n",
       "    box-shadow: inset 1px 0 0 0 hsl(212, 90%, 60%);\n",
       "  }\n",
       "\n",
       "  .tp-last-interpolation {\n",
       "    box-shadow: inset -1px 0 0 0 hsl(212, 90%, 70%);\n",
       "  }\n",
       "\n",
       "  .tp-first-image {\n",
       "    box-shadow: inset 1px 0 0 0 hsl(30, 90%, 65%);\n",
       "  }\n",
       "\n",
       "  .tp-last-image {\n",
       "    box-shadow: inset -1px 0 0 0 hsl(30, 90%, 75%);\n",
       "  }\n",
       "\n",
       "  .tp-first-nested_prompt {\n",
       "    box-shadow: inset 1px 0 0 0 hsl(270, 85%, 65%);\n",
       "  }\n",
       "\n",
       "  .tp-last-nested_prompt {\n",
       "    box-shadow: inset -1px 0 0 0 hsl(270, 85%, 75%);\n",
       "  }\n",
       "\n",
       "  .tp-first-list {\n",
       "    box-shadow: inset 1px 0 0 0 hsl(160, 80%, 55%);\n",
       "  }\n",
       "\n",
       "  .tp-last-list {\n",
       "    box-shadow: inset -1px 0 0 0 hsl(160, 80%, 65%);\n",
       "  }\n",
       "}\n",
       "\n",
       "/* Error display */\n",
       ".tp-error {\n",
       "  color: var(--tp-color-error);\n",
       "  font-family: var(--tp-font-mono);\n",
       "  font-size: 12px;\n",
       "  padding: var(--tp-spacing);\n",
       "  background: rgba(248, 81, 73, 0.1);\n",
       "  border: 1px solid var(--tp-color-error);\n",
       "  border-radius: 4px;\n",
       "  margin: var(--tp-spacing) 0;\n",
       "}\n",
       "\n",
       "/* Responsive layout */\n",
       "@media (max-width: 1200px) {\n",
       "  .tp-widget-container {\n",
       "    grid-template-columns: 1fr;\n",
       "  }\n",
       "\n",
       "  .tp-pane {\n",
       "    max-height: 400px;\n",
       "  }\n",
       "}\n",
       "\n",
       "@media (min-width: 1201px) and (max-width: 1600px) {\n",
       "  .tp-widget-container {\n",
       "    grid-template-columns: 1fr 1fr;\n",
       "  }\n",
       "}\n",
       "`;var S=\"d06e1b98\";var I=\"0.9.0-alpha\";function w(){let e=`tp-widget-styles-${S}`;if(document.querySelector(`#${e}`))return;document.querySelectorAll('[id^=\"tp-widget-styles\"]').forEach(i=>i.remove());let n=document.createElement(\"style\");n.id=e,n.textContent=M,document.head.appendChild(n),window.__TPWidget&&(window.__TPWidget.stylesInjected=!0)}function v(){window.__TPWidget||(window.__TPWidget={version:I,initWidget:c,stylesInjected:!1})}function L(){v(),w(),document.querySelectorAll(\"[data-tp-widget]\").forEach(t=>{t instanceof HTMLElement&&!t.dataset.tpInitialized&&(c(t),t.dataset.tpInitialized=\"true\")})}document.readyState===\"loading\"?document.addEventListener(\"DOMContentLoaded\",L):L();typeof MutationObserver<\"u\"&&new MutationObserver(t=>{t.forEach(n=>{n.addedNodes.forEach(i=>{i instanceof HTMLElement&&(i.matches(\"[data-tp-widget]\")&&!i.dataset.tpInitialized&&(v(),w(),c(i),i.dataset.tpInitialized=\"true\"),i.querySelectorAll(\"[data-tp-widget]\").forEach(o=>{o instanceof HTMLElement&&!o.dataset.tpInitialized&&(v(),w(),c(o),o.dataset.tpInitialized=\"true\")}))})})}).observe(document.body,{childList:!0,subtree:!0});return W(B);})();\n",
       "//# sourceMappingURL=index.js.map\n",
       "</script>\n",
       "<div class=\"tp-widget-root\" data-tp-widget>\n",
       "    <script data-role=\"tp-widget-data\" type=\"application/json\">{\"compiled_ir\": {\"ir_id\": \"cda02fea-eaeb-45f3-97d4-dea2ec4bae9a\", \"subtree_map\": {\"cf08b113-49fa-49fa-8139-17d6dde2bc7b\": [\"3b8eaa4c-160c-42a6-b706-0161fa8e02dc\"], \"4a04a2fc-2fbc-44b5-a3fd-3173df39cb92\": [\"8ab3e423-877b-4b33-957e-b04fed0e13f1\"], \"e4ce1405-8228-4413-ace1-7ce4e93a0ee3\": [], \"b928f700-f154-4c78-8fc2-e846646bfe1b\": [\"3b8eaa4c-160c-42a6-b706-0161fa8e02dc\", \"8ab3e423-877b-4b33-957e-b04fed0e13f1\"]}, \"num_elements\": 4}, \"ir\": {\"chunks\": [{\"type\": \"TextChunk\", \"text\": \"Task: \", \"element_id\": \"cf08b113-49fa-49fa-8139-17d6dde2bc7b\", \"id\": \"3b8eaa4c-160c-42a6-b706-0161fa8e02dc\", \"metadata\": {}}, {\"type\": \"TextChunk\", \"text\": \"This is a very long piece of text that should definitely wrap when displayed in the widget viewer because it exceeds the typical character width.\", \"element_id\": \"4a04a2fc-2fbc-44b5-a3fd-3173df39cb92\", \"id\": \"8ab3e423-877b-4b33-957e-b04fed0e13f1\", \"metadata\": {}}], \"source_prompt_id\": \"b928f700-f154-4c78-8fc2-e846646bfe1b\", \"id\": \"cda02fea-eaeb-45f3-97d4-dea2ec4bae9a\", \"metadata\": {}}, \"source_prompt\": {\"prompt_id\": \"b928f700-f154-4c78-8fc2-e846646bfe1b\", \"children\": [{\"type\": \"static\", \"id\": \"cf08b113-49fa-49fa-8139-17d6dde2bc7b\", \"parent_id\": \"b928f700-f154-4c78-8fc2-e846646bfe1b\", \"key\": 0, \"index\": 0, \"source_location\": {\"filename\": \"988656756.py\", \"filepath\": \"/private/var/folders/wr/5n6v6bvj6mxdxjcg5_5ss1ph0000gn/T/ipykernel_26234/988656756.py\", \"line\": 6}, \"value\": \"Task: \"}, {\"type\": \"interpolation\", \"id\": \"4a04a2fc-2fbc-44b5-a3fd-3173df39cb92\", \"parent_id\": \"b928f700-f154-4c78-8fc2-e846646bfe1b\", \"key\": \"task\", \"index\": 1, \"source_location\": {\"filename\": \"988656756.py\", \"filepath\": \"/private/var/folders/wr/5n6v6bvj6mxdxjcg5_5ss1ph0000gn/T/ipykernel_26234/988656756.py\", \"line\": 6}, \"expression\": \"long_text\", \"conversion\": null, \"format_spec\": \"task\", \"render_hints\": \"\", \"value\": \"This is a very long piece of text that should definitely wrap when displayed in the widget viewer because it exceeds the typical character width.\"}, {\"type\": \"static\", \"id\": \"e4ce1405-8228-4413-ace1-7ce4e93a0ee3\", \"parent_id\": \"b928f700-f154-4c78-8fc2-e846646bfe1b\", \"key\": 1, \"index\": 2, \"source_location\": {\"filename\": \"988656756.py\", \"filepath\": \"/private/var/folders/wr/5n6v6bvj6mxdxjcg5_5ss1ph0000gn/T/ipykernel_26234/988656756.py\", \"line\": 6}, \"value\": \"\"}]}, \"config\": {\"wrapping\": true, \"sourcePrefix\": \"/Users/nehal/src/structured-prompts/docs/demos\"}}</script>\n",
       "    <div class=\"tp-widget-mount\"></div>\n",
       "</div>\n"
      ],
      "text/plain": [
       "StructuredPrompt(keys=['task'], num_interpolations=1)"
      ]
     },
     "execution_count": 2,
     "metadata": {},
     "output_type": "execute_result"
    }
   ],
   "source": [
    "long_text = (\n",
    "    \"This is a very long piece of text that should definitely wrap when displayed \"\n",
    "    \"in the widget viewer because it exceeds the typical character width.\"\n",
    ")\n",
    "\n",
    "p1 = prompt(t\"Task: {long_text:task}\")\n",
    "p1"
   ]
  },
  {
   "cell_type": "markdown",
   "metadata": {},
   "source": [
    "## Test 2: Lists with Default Separator"
   ]
  },
  {
   "cell_type": "code",
   "execution_count": 3,
   "metadata": {
    "execution": {
     "iopub.execute_input": "2025-10-16T01:59:16.710766Z",
     "iopub.status.busy": "2025-10-16T01:59:16.710636Z",
     "iopub.status.idle": "2025-10-16T01:59:16.714496Z",
     "shell.execute_reply": "2025-10-16T01:59:16.714161Z"
    }
   },
   "outputs": [
    {
     "data": {
      "text/html": [
       "\n",
       "<div class=\"tp-widget-root\" data-tp-widget>\n",
       "    <script data-role=\"tp-widget-data\" type=\"application/json\">{\"compiled_ir\": {\"ir_id\": \"52632e62-ac11-4cd7-a1f9-d4c8c6c026c3\", \"subtree_map\": {\"7221d932-8eda-4a5a-8fd2-530035fbef5f\": [\"c377a6f6-d897-424b-b284-608ac1260e60\"], \"8624f099-0173-4c8c-a3e8-428f3af5274b\": [\"52023521-6475-4f5c-ae89-038ca60f8ef3\"], \"191261d0-e72c-45c9-8b5f-498640ac6d70\": [\"bdead494-bad1-4941-9f2a-cf23a53bcf61\"], \"21086e1f-34e8-421a-a484-38edcc891474\": [], \"63b9a5be-7221-4c8c-9e30-4dacc124ed04\": [\"52023521-6475-4f5c-ae89-038ca60f8ef3\", \"bdead494-bad1-4941-9f2a-cf23a53bcf61\"], \"d237efee-965f-4940-b11a-10dd84cfb544\": [\"40ddc24a-b0c6-482c-a644-60ee33a80d87\"], \"76e83b3c-be20-4ca6-b544-d69546718e66\": [\"de63856a-f41a-43f0-acbe-d6510e561595\"], \"3ac2d60e-ffbc-47d6-a3ff-27ac520523d9\": [], \"a3fc02b9-04b6-4ecf-a1a7-eb124a368b09\": [\"40ddc24a-b0c6-482c-a644-60ee33a80d87\", \"de63856a-f41a-43f0-acbe-d6510e561595\"], \"d7bfa3a7-5a21-4c2a-9242-bb2155f9076e\": [\"29c22602-e980-41e8-a606-4970268aa2f9\"], \"bd934e9b-5ec5-44ab-8088-685b08f58b76\": [\"1c877f37-3fc0-4699-aa93-00294765c094\"], \"5edb44ae-e119-437f-a057-3ea3f7ba4ba1\": [], \"b76fcb9e-641d-4161-b306-f02b96869f2d\": [\"29c22602-e980-41e8-a606-4970268aa2f9\", \"1c877f37-3fc0-4699-aa93-00294765c094\"], \"38f493eb-3f54-4c05-b0c5-5b758db39f74\": [\"c56976fa-2ba9-477d-938c-529b541f19d8\"], \"83ba5cc4-60e9-4f7c-8e2d-9da446227d59\": [\"0c26b821-caa4-4044-bfac-8cdc40a89d88\"], \"3d74036c-5c4a-4426-ba35-eae806af886c\": [], \"d3b7a98b-0f0c-4d23-8326-84ab00423497\": [\"c56976fa-2ba9-477d-938c-529b541f19d8\", \"0c26b821-caa4-4044-bfac-8cdc40a89d88\"], \"8ec03efe-835a-4077-a1fe-f18437b2eb55\": [\"7f84a646-f1a1-442b-b7b0-a44a363f7b59\"], \"49f5ebf1-2435-4486-b5b1-0510a85b06d9\": [\"5346ef6d-efb0-410d-ab3d-eeaf6da3315a\"], \"7ac9518d-d0d7-4ceb-a838-b1c734fbe2ed\": [], \"5ea59f2e-3b37-4f79-8773-21bd9c90f512\": [\"7f84a646-f1a1-442b-b7b0-a44a363f7b59\", \"5346ef6d-efb0-410d-ab3d-eeaf6da3315a\"], \"dd66bcd2-1338-471e-b746-5a1493d4af97\": [\"52023521-6475-4f5c-ae89-038ca60f8ef3\", \"bdead494-bad1-4941-9f2a-cf23a53bcf61\", \"337205c7-f9dc-4dc2-81f4-2d67d0f37c3c\", \"40ddc24a-b0c6-482c-a644-60ee33a80d87\", \"de63856a-f41a-43f0-acbe-d6510e561595\", \"05baca7a-c658-43ed-b548-560745ac4b08\", \"29c22602-e980-41e8-a606-4970268aa2f9\", \"1c877f37-3fc0-4699-aa93-00294765c094\", \"ada8992e-3b7d-4ede-b449-dd62f868727a\", \"c56976fa-2ba9-477d-938c-529b541f19d8\", \"0c26b821-caa4-4044-bfac-8cdc40a89d88\", \"74592571-448a-4b6c-a853-300273aacc1c\", \"7f84a646-f1a1-442b-b7b0-a44a363f7b59\", \"5346ef6d-efb0-410d-ab3d-eeaf6da3315a\"], \"a48cb481-b603-4a36-bf33-df25c4059007\": [], \"a087c2be-65e3-45c2-aabf-a8023db19026\": [\"c377a6f6-d897-424b-b284-608ac1260e60\", \"52023521-6475-4f5c-ae89-038ca60f8ef3\", \"bdead494-bad1-4941-9f2a-cf23a53bcf61\", \"337205c7-f9dc-4dc2-81f4-2d67d0f37c3c\", \"40ddc24a-b0c6-482c-a644-60ee33a80d87\", \"de63856a-f41a-43f0-acbe-d6510e561595\", \"05baca7a-c658-43ed-b548-560745ac4b08\", \"29c22602-e980-41e8-a606-4970268aa2f9\", \"1c877f37-3fc0-4699-aa93-00294765c094\", \"ada8992e-3b7d-4ede-b449-dd62f868727a\", \"c56976fa-2ba9-477d-938c-529b541f19d8\", \"0c26b821-caa4-4044-bfac-8cdc40a89d88\", \"74592571-448a-4b6c-a853-300273aacc1c\", \"7f84a646-f1a1-442b-b7b0-a44a363f7b59\", \"5346ef6d-efb0-410d-ab3d-eeaf6da3315a\"]}, \"num_elements\": 24}, \"ir\": {\"chunks\": [{\"type\": \"TextChunk\", \"text\": \"List:\\n\", \"element_id\": \"7221d932-8eda-4a5a-8fd2-530035fbef5f\", \"id\": \"c377a6f6-d897-424b-b284-608ac1260e60\", \"metadata\": {}}, {\"type\": \"TextChunk\", \"text\": \"Item \", \"element_id\": \"8624f099-0173-4c8c-a3e8-428f3af5274b\", \"id\": \"52023521-6475-4f5c-ae89-038ca60f8ef3\", \"metadata\": {}}, {\"type\": \"TextChunk\", \"text\": \"0\", \"element_id\": \"191261d0-e72c-45c9-8b5f-498640ac6d70\", \"id\": \"bdead494-bad1-4941-9f2a-cf23a53bcf61\", \"metadata\": {}}, {\"type\": \"TextChunk\", \"text\": \"\\n\", \"element_id\": \"dd66bcd2-1338-471e-b746-5a1493d4af97\", \"id\": \"337205c7-f9dc-4dc2-81f4-2d67d0f37c3c\", \"metadata\": {}}, {\"type\": \"TextChunk\", \"text\": \"Item \", \"element_id\": \"d237efee-965f-4940-b11a-10dd84cfb544\", \"id\": \"40ddc24a-b0c6-482c-a644-60ee33a80d87\", \"metadata\": {}}, {\"type\": \"TextChunk\", \"text\": \"1\", \"element_id\": \"76e83b3c-be20-4ca6-b544-d69546718e66\", \"id\": \"de63856a-f41a-43f0-acbe-d6510e561595\", \"metadata\": {}}, {\"type\": \"TextChunk\", \"text\": \"\\n\", \"element_id\": \"dd66bcd2-1338-471e-b746-5a1493d4af97\", \"id\": \"05baca7a-c658-43ed-b548-560745ac4b08\", \"metadata\": {}}, {\"type\": \"TextChunk\", \"text\": \"Item \", \"element_id\": \"d7bfa3a7-5a21-4c2a-9242-bb2155f9076e\", \"id\": \"29c22602-e980-41e8-a606-4970268aa2f9\", \"metadata\": {}}, {\"type\": \"TextChunk\", \"text\": \"2\", \"element_id\": \"bd934e9b-5ec5-44ab-8088-685b08f58b76\", \"id\": \"1c877f37-3fc0-4699-aa93-00294765c094\", \"metadata\": {}}, {\"type\": \"TextChunk\", \"text\": \"\\n\", \"element_id\": \"dd66bcd2-1338-471e-b746-5a1493d4af97\", \"id\": \"ada8992e-3b7d-4ede-b449-dd62f868727a\", \"metadata\": {}}, {\"type\": \"TextChunk\", \"text\": \"Item \", \"element_id\": \"38f493eb-3f54-4c05-b0c5-5b758db39f74\", \"id\": \"c56976fa-2ba9-477d-938c-529b541f19d8\", \"metadata\": {}}, {\"type\": \"TextChunk\", \"text\": \"3\", \"element_id\": \"83ba5cc4-60e9-4f7c-8e2d-9da446227d59\", \"id\": \"0c26b821-caa4-4044-bfac-8cdc40a89d88\", \"metadata\": {}}, {\"type\": \"TextChunk\", \"text\": \"\\n\", \"element_id\": \"dd66bcd2-1338-471e-b746-5a1493d4af97\", \"id\": \"74592571-448a-4b6c-a853-300273aacc1c\", \"metadata\": {}}, {\"type\": \"TextChunk\", \"text\": \"Item \", \"element_id\": \"8ec03efe-835a-4077-a1fe-f18437b2eb55\", \"id\": \"7f84a646-f1a1-442b-b7b0-a44a363f7b59\", \"metadata\": {}}, {\"type\": \"TextChunk\", \"text\": \"4\", \"element_id\": \"49f5ebf1-2435-4486-b5b1-0510a85b06d9\", \"id\": \"5346ef6d-efb0-410d-ab3d-eeaf6da3315a\", \"metadata\": {}}], \"source_prompt_id\": \"a087c2be-65e3-45c2-aabf-a8023db19026\", \"id\": \"52632e62-ac11-4cd7-a1f9-d4c8c6c026c3\", \"metadata\": {}}, \"source_prompt\": {\"prompt_id\": \"a087c2be-65e3-45c2-aabf-a8023db19026\", \"children\": [{\"type\": \"static\", \"id\": \"7221d932-8eda-4a5a-8fd2-530035fbef5f\", \"parent_id\": \"a087c2be-65e3-45c2-aabf-a8023db19026\", \"key\": 0, \"index\": 0, \"source_location\": {\"filename\": \"2688634424.py\", \"filepath\": \"/private/var/folders/wr/5n6v6bvj6mxdxjcg5_5ss1ph0000gn/T/ipykernel_26234/2688634424.py\", \"line\": 3}, \"value\": \"List:\\n\"}, {\"type\": \"list\", \"id\": \"dd66bcd2-1338-471e-b746-5a1493d4af97\", \"parent_id\": \"a087c2be-65e3-45c2-aabf-a8023db19026\", \"key\": \"items\", \"index\": 1, \"source_location\": {\"filename\": \"2688634424.py\", \"filepath\": \"/private/var/folders/wr/5n6v6bvj6mxdxjcg5_5ss1ph0000gn/T/ipykernel_26234/2688634424.py\", \"line\": 3}, \"expression\": \"items\", \"conversion\": null, \"format_spec\": \"items\", \"render_hints\": \"\", \"separator\": \"\\n\", \"children\": [{\"type\": \"nested_prompt\", \"id\": \"63b9a5be-7221-4c8c-9e30-4dacc124ed04\", \"parent_id\": \"dd66bcd2-1338-471e-b746-5a1493d4af97\", \"key\": 0, \"index\": 1, \"source_location\": {\"filename\": \"2688634424.py\", \"filepath\": \"/private/var/folders/wr/5n6v6bvj6mxdxjcg5_5ss1ph0000gn/T/ipykernel_26234/2688634424.py\", \"line\": 3}, \"expression\": \"[0]\", \"conversion\": null, \"format_spec\": \"\", \"render_hints\": \"\", \"prompt_id\": \"63b9a5be-7221-4c8c-9e30-4dacc124ed04\", \"creation_location\": {\"filename\": \"2688634424.py\", \"filepath\": \"/private/var/folders/wr/5n6v6bvj6mxdxjcg5_5ss1ph0000gn/T/ipykernel_26234/2688634424.py\", \"line\": 2}, \"children\": [{\"type\": \"static\", \"id\": \"8624f099-0173-4c8c-a3e8-428f3af5274b\", \"parent_id\": \"63b9a5be-7221-4c8c-9e30-4dacc124ed04\", \"key\": 0, \"index\": 0, \"source_location\": {\"filename\": \"2688634424.py\", \"filepath\": \"/private/var/folders/wr/5n6v6bvj6mxdxjcg5_5ss1ph0000gn/T/ipykernel_26234/2688634424.py\", \"line\": 2}, \"value\": \"Item \"}, {\"type\": \"interpolation\", \"id\": \"191261d0-e72c-45c9-8b5f-498640ac6d70\", \"parent_id\": \"63b9a5be-7221-4c8c-9e30-4dacc124ed04\", \"key\": \"0\", \"index\": 1, \"source_location\": {\"filename\": \"2688634424.py\", \"filepath\": \"/private/var/folders/wr/5n6v6bvj6mxdxjcg5_5ss1ph0000gn/T/ipykernel_26234/2688634424.py\", \"line\": 2}, \"expression\": \"str(i)\", \"conversion\": null, \"format_spec\": \"0\", \"render_hints\": \"\", \"value\": \"0\"}, {\"type\": \"static\", \"id\": \"21086e1f-34e8-421a-a484-38edcc891474\", \"parent_id\": \"63b9a5be-7221-4c8c-9e30-4dacc124ed04\", \"key\": 1, \"index\": 2, \"source_location\": {\"filename\": \"2688634424.py\", \"filepath\": \"/private/var/folders/wr/5n6v6bvj6mxdxjcg5_5ss1ph0000gn/T/ipykernel_26234/2688634424.py\", \"line\": 2}, \"value\": \"\"}]}, {\"type\": \"nested_prompt\", \"id\": \"a3fc02b9-04b6-4ecf-a1a7-eb124a368b09\", \"parent_id\": \"dd66bcd2-1338-471e-b746-5a1493d4af97\", \"key\": 1, \"index\": 1, \"source_location\": {\"filename\": \"2688634424.py\", \"filepath\": \"/private/var/folders/wr/5n6v6bvj6mxdxjcg5_5ss1ph0000gn/T/ipykernel_26234/2688634424.py\", \"line\": 3}, \"expression\": \"[1]\", \"conversion\": null, \"format_spec\": \"\", \"render_hints\": \"\", \"prompt_id\": \"a3fc02b9-04b6-4ecf-a1a7-eb124a368b09\", \"creation_location\": {\"filename\": \"2688634424.py\", \"filepath\": \"/private/var/folders/wr/5n6v6bvj6mxdxjcg5_5ss1ph0000gn/T/ipykernel_26234/2688634424.py\", \"line\": 2}, \"children\": [{\"type\": \"static\", \"id\": \"d237efee-965f-4940-b11a-10dd84cfb544\", \"parent_id\": \"a3fc02b9-04b6-4ecf-a1a7-eb124a368b09\", \"key\": 0, \"index\": 0, \"source_location\": {\"filename\": \"2688634424.py\", \"filepath\": \"/private/var/folders/wr/5n6v6bvj6mxdxjcg5_5ss1ph0000gn/T/ipykernel_26234/2688634424.py\", \"line\": 2}, \"value\": \"Item \"}, {\"type\": \"interpolation\", \"id\": \"76e83b3c-be20-4ca6-b544-d69546718e66\", \"parent_id\": \"a3fc02b9-04b6-4ecf-a1a7-eb124a368b09\", \"key\": \"1\", \"index\": 1, \"source_location\": {\"filename\": \"2688634424.py\", \"filepath\": \"/private/var/folders/wr/5n6v6bvj6mxdxjcg5_5ss1ph0000gn/T/ipykernel_26234/2688634424.py\", \"line\": 2}, \"expression\": \"str(i)\", \"conversion\": null, \"format_spec\": \"1\", \"render_hints\": \"\", \"value\": \"1\"}, {\"type\": \"static\", \"id\": \"3ac2d60e-ffbc-47d6-a3ff-27ac520523d9\", \"parent_id\": \"a3fc02b9-04b6-4ecf-a1a7-eb124a368b09\", \"key\": 1, \"index\": 2, \"source_location\": {\"filename\": \"2688634424.py\", \"filepath\": \"/private/var/folders/wr/5n6v6bvj6mxdxjcg5_5ss1ph0000gn/T/ipykernel_26234/2688634424.py\", \"line\": 2}, \"value\": \"\"}]}, {\"type\": \"nested_prompt\", \"id\": \"b76fcb9e-641d-4161-b306-f02b96869f2d\", \"parent_id\": \"dd66bcd2-1338-471e-b746-5a1493d4af97\", \"key\": 2, \"index\": 1, \"source_location\": {\"filename\": \"2688634424.py\", \"filepath\": \"/private/var/folders/wr/5n6v6bvj6mxdxjcg5_5ss1ph0000gn/T/ipykernel_26234/2688634424.py\", \"line\": 3}, \"expression\": \"[2]\", \"conversion\": null, \"format_spec\": \"\", \"render_hints\": \"\", \"prompt_id\": \"b76fcb9e-641d-4161-b306-f02b96869f2d\", \"creation_location\": {\"filename\": \"2688634424.py\", \"filepath\": \"/private/var/folders/wr/5n6v6bvj6mxdxjcg5_5ss1ph0000gn/T/ipykernel_26234/2688634424.py\", \"line\": 2}, \"children\": [{\"type\": \"static\", \"id\": \"d7bfa3a7-5a21-4c2a-9242-bb2155f9076e\", \"parent_id\": \"b76fcb9e-641d-4161-b306-f02b96869f2d\", \"key\": 0, \"index\": 0, \"source_location\": {\"filename\": \"2688634424.py\", \"filepath\": \"/private/var/folders/wr/5n6v6bvj6mxdxjcg5_5ss1ph0000gn/T/ipykernel_26234/2688634424.py\", \"line\": 2}, \"value\": \"Item \"}, {\"type\": \"interpolation\", \"id\": \"bd934e9b-5ec5-44ab-8088-685b08f58b76\", \"parent_id\": \"b76fcb9e-641d-4161-b306-f02b96869f2d\", \"key\": \"2\", \"index\": 1, \"source_location\": {\"filename\": \"2688634424.py\", \"filepath\": \"/private/var/folders/wr/5n6v6bvj6mxdxjcg5_5ss1ph0000gn/T/ipykernel_26234/2688634424.py\", \"line\": 2}, \"expression\": \"str(i)\", \"conversion\": null, \"format_spec\": \"2\", \"render_hints\": \"\", \"value\": \"2\"}, {\"type\": \"static\", \"id\": \"5edb44ae-e119-437f-a057-3ea3f7ba4ba1\", \"parent_id\": \"b76fcb9e-641d-4161-b306-f02b96869f2d\", \"key\": 1, \"index\": 2, \"source_location\": {\"filename\": \"2688634424.py\", \"filepath\": \"/private/var/folders/wr/5n6v6bvj6mxdxjcg5_5ss1ph0000gn/T/ipykernel_26234/2688634424.py\", \"line\": 2}, \"value\": \"\"}]}, {\"type\": \"nested_prompt\", \"id\": \"d3b7a98b-0f0c-4d23-8326-84ab00423497\", \"parent_id\": \"dd66bcd2-1338-471e-b746-5a1493d4af97\", \"key\": 3, \"index\": 1, \"source_location\": {\"filename\": \"2688634424.py\", \"filepath\": \"/private/var/folders/wr/5n6v6bvj6mxdxjcg5_5ss1ph0000gn/T/ipykernel_26234/2688634424.py\", \"line\": 3}, \"expression\": \"[3]\", \"conversion\": null, \"format_spec\": \"\", \"render_hints\": \"\", \"prompt_id\": \"d3b7a98b-0f0c-4d23-8326-84ab00423497\", \"creation_location\": {\"filename\": \"2688634424.py\", \"filepath\": \"/private/var/folders/wr/5n6v6bvj6mxdxjcg5_5ss1ph0000gn/T/ipykernel_26234/2688634424.py\", \"line\": 2}, \"children\": [{\"type\": \"static\", \"id\": \"38f493eb-3f54-4c05-b0c5-5b758db39f74\", \"parent_id\": \"d3b7a98b-0f0c-4d23-8326-84ab00423497\", \"key\": 0, \"index\": 0, \"source_location\": {\"filename\": \"2688634424.py\", \"filepath\": \"/private/var/folders/wr/5n6v6bvj6mxdxjcg5_5ss1ph0000gn/T/ipykernel_26234/2688634424.py\", \"line\": 2}, \"value\": \"Item \"}, {\"type\": \"interpolation\", \"id\": \"83ba5cc4-60e9-4f7c-8e2d-9da446227d59\", \"parent_id\": \"d3b7a98b-0f0c-4d23-8326-84ab00423497\", \"key\": \"3\", \"index\": 1, \"source_location\": {\"filename\": \"2688634424.py\", \"filepath\": \"/private/var/folders/wr/5n6v6bvj6mxdxjcg5_5ss1ph0000gn/T/ipykernel_26234/2688634424.py\", \"line\": 2}, \"expression\": \"str(i)\", \"conversion\": null, \"format_spec\": \"3\", \"render_hints\": \"\", \"value\": \"3\"}, {\"type\": \"static\", \"id\": \"3d74036c-5c4a-4426-ba35-eae806af886c\", \"parent_id\": \"d3b7a98b-0f0c-4d23-8326-84ab00423497\", \"key\": 1, \"index\": 2, \"source_location\": {\"filename\": \"2688634424.py\", \"filepath\": \"/private/var/folders/wr/5n6v6bvj6mxdxjcg5_5ss1ph0000gn/T/ipykernel_26234/2688634424.py\", \"line\": 2}, \"value\": \"\"}]}, {\"type\": \"nested_prompt\", \"id\": \"5ea59f2e-3b37-4f79-8773-21bd9c90f512\", \"parent_id\": \"dd66bcd2-1338-471e-b746-5a1493d4af97\", \"key\": 4, \"index\": 1, \"source_location\": {\"filename\": \"2688634424.py\", \"filepath\": \"/private/var/folders/wr/5n6v6bvj6mxdxjcg5_5ss1ph0000gn/T/ipykernel_26234/2688634424.py\", \"line\": 3}, \"expression\": \"[4]\", \"conversion\": null, \"format_spec\": \"\", \"render_hints\": \"\", \"prompt_id\": \"5ea59f2e-3b37-4f79-8773-21bd9c90f512\", \"creation_location\": {\"filename\": \"2688634424.py\", \"filepath\": \"/private/var/folders/wr/5n6v6bvj6mxdxjcg5_5ss1ph0000gn/T/ipykernel_26234/2688634424.py\", \"line\": 2}, \"children\": [{\"type\": \"static\", \"id\": \"8ec03efe-835a-4077-a1fe-f18437b2eb55\", \"parent_id\": \"5ea59f2e-3b37-4f79-8773-21bd9c90f512\", \"key\": 0, \"index\": 0, \"source_location\": {\"filename\": \"2688634424.py\", \"filepath\": \"/private/var/folders/wr/5n6v6bvj6mxdxjcg5_5ss1ph0000gn/T/ipykernel_26234/2688634424.py\", \"line\": 2}, \"value\": \"Item \"}, {\"type\": \"interpolation\", \"id\": \"49f5ebf1-2435-4486-b5b1-0510a85b06d9\", \"parent_id\": \"5ea59f2e-3b37-4f79-8773-21bd9c90f512\", \"key\": \"4\", \"index\": 1, \"source_location\": {\"filename\": \"2688634424.py\", \"filepath\": \"/private/var/folders/wr/5n6v6bvj6mxdxjcg5_5ss1ph0000gn/T/ipykernel_26234/2688634424.py\", \"line\": 2}, \"expression\": \"str(i)\", \"conversion\": null, \"format_spec\": \"4\", \"render_hints\": \"\", \"value\": \"4\"}, {\"type\": \"static\", \"id\": \"7ac9518d-d0d7-4ceb-a838-b1c734fbe2ed\", \"parent_id\": \"5ea59f2e-3b37-4f79-8773-21bd9c90f512\", \"key\": 1, \"index\": 2, \"source_location\": {\"filename\": \"2688634424.py\", \"filepath\": \"/private/var/folders/wr/5n6v6bvj6mxdxjcg5_5ss1ph0000gn/T/ipykernel_26234/2688634424.py\", \"line\": 2}, \"value\": \"\"}]}]}, {\"type\": \"static\", \"id\": \"a48cb481-b603-4a36-bf33-df25c4059007\", \"parent_id\": \"a087c2be-65e3-45c2-aabf-a8023db19026\", \"key\": 1, \"index\": 2, \"source_location\": {\"filename\": \"2688634424.py\", \"filepath\": \"/private/var/folders/wr/5n6v6bvj6mxdxjcg5_5ss1ph0000gn/T/ipykernel_26234/2688634424.py\", \"line\": 3}, \"value\": \"\"}]}, \"config\": {\"wrapping\": true, \"sourcePrefix\": \"/Users/nehal/src/structured-prompts/docs/demos\"}}</script>\n",
       "    <div class=\"tp-widget-mount\"></div>\n",
       "</div>\n"
      ],
      "text/plain": [
       "StructuredPrompt(keys=['items'], num_interpolations=1)"
      ]
     },
     "execution_count": 3,
     "metadata": {},
     "output_type": "execute_result"
    }
   ],
   "source": [
    "# Default separator (newline)\n",
    "items = [prompt(t\"Item {str(i):{i}}\") for i in range(5)]\n",
    "p2 = prompt(t\"List:\\n{items:items}\")\n",
    "p2"
   ]
  },
  {
   "cell_type": "markdown",
   "metadata": {},
   "source": [
    "## Test 3: Lists with Custom Separator"
   ]
  },
  {
   "cell_type": "code",
   "execution_count": 4,
   "metadata": {
    "execution": {
     "iopub.execute_input": "2025-10-16T01:59:16.715690Z",
     "iopub.status.busy": "2025-10-16T01:59:16.715612Z",
     "iopub.status.idle": "2025-10-16T01:59:16.718845Z",
     "shell.execute_reply": "2025-10-16T01:59:16.718623Z"
    }
   },
   "outputs": [
    {
     "data": {
      "text/html": [
       "\n",
       "<div class=\"tp-widget-root\" data-tp-widget>\n",
       "    <script data-role=\"tp-widget-data\" type=\"application/json\">{\"compiled_ir\": {\"ir_id\": \"a686b9fb-4b03-4f18-8f2c-6bb7a62fe3ec\", \"subtree_map\": {\"f3454484-d0f6-4273-8f5f-ddbf6ef9a502\": [\"e9ccbb3d-3cba-412a-b358-e2639bc7cf82\"], \"d201ea98-5ae3-461a-b001-deea29858a08\": [\"a69780a6-2887-4379-968d-62165acf8863\"], \"e8058a95-b4b5-4911-803d-5a3b5d79727d\": [\"5527254c-5a8a-4436-8552-f4a62456d0cf\"], \"d10500ae-e37b-4a4c-a8b1-f6498a2fa2b4\": [], \"1a10d840-9ca6-42ec-932b-1f98bb0b7dc5\": [\"a69780a6-2887-4379-968d-62165acf8863\", \"5527254c-5a8a-4436-8552-f4a62456d0cf\"], \"5317ad38-f937-4f64-9e92-2e4ed4a824f2\": [\"90f8ce8c-53d6-4a52-8d44-dd1fba662004\"], \"24b15e62-a3de-44ef-8353-e43806836770\": [\"09a13d7d-5f52-466d-b009-0102052c69ae\"], \"7e2f3e06-ffe9-413a-963f-10ce960b0398\": [], \"238525e0-7e4b-404b-8420-0dc583168f89\": [\"90f8ce8c-53d6-4a52-8d44-dd1fba662004\", \"09a13d7d-5f52-466d-b009-0102052c69ae\"], \"e6586262-685d-4ff6-9af7-6ef50b0178f0\": [\"ec8f261c-50a9-4d38-a37c-dcc2d9d24a8e\"], \"07dfc000-1ae9-45f0-b523-f14de2d5e00f\": [\"b9bcf28c-dd9a-4ddb-b90f-72dc3da98716\"], \"992eec2d-4448-4d1b-951b-156a408c233e\": [], \"26096553-9acc-4818-9c53-3b9ee3995b59\": [\"ec8f261c-50a9-4d38-a37c-dcc2d9d24a8e\", \"b9bcf28c-dd9a-4ddb-b90f-72dc3da98716\"], \"7c95d066-179b-4513-b1ff-317009bc8cd3\": [\"fff629ed-5b3e-4779-ba5d-16e30942bcd3\"], \"3d81e98a-843e-45e1-8728-063f1cb47c82\": [\"eabef18f-b250-4201-8e40-c2437172510b\"], \"2b9e6b4d-1bff-43a5-a9a3-d0af1d35d79f\": [], \"7b508f49-687a-4344-b5ee-04238cf44606\": [\"fff629ed-5b3e-4779-ba5d-16e30942bcd3\", \"eabef18f-b250-4201-8e40-c2437172510b\"], \"3ce69185-6ab6-41af-ae4a-0ec734bf085c\": [\"81590d40-423a-47ea-9e84-8f3663e34e9a\"], \"5bd9c872-6d0f-4c20-8cb7-52202b055781\": [\"80b09e8e-cad1-4cff-9e4e-8ce211a35045\"], \"fa7ddc05-ee39-4c71-b3ca-277ba58ea9ee\": [], \"6168820a-95c3-4789-b36a-f2798896d0fc\": [\"81590d40-423a-47ea-9e84-8f3663e34e9a\", \"80b09e8e-cad1-4cff-9e4e-8ce211a35045\"], \"31d6bb57-2cac-45cc-994a-23b1d26eb5f1\": [\"a69780a6-2887-4379-968d-62165acf8863\", \"5527254c-5a8a-4436-8552-f4a62456d0cf\", \"419c0671-67cf-4896-b86e-c8c20dcd29de\", \"90f8ce8c-53d6-4a52-8d44-dd1fba662004\", \"09a13d7d-5f52-466d-b009-0102052c69ae\", \"ff6d7d75-c91c-44be-96b9-1ef6880216b0\", \"ec8f261c-50a9-4d38-a37c-dcc2d9d24a8e\", \"b9bcf28c-dd9a-4ddb-b90f-72dc3da98716\", \"ffac5506-e7d8-4089-bb31-3e6c45522516\", \"fff629ed-5b3e-4779-ba5d-16e30942bcd3\", \"eabef18f-b250-4201-8e40-c2437172510b\", \"445d50d8-3a82-4ff4-b4af-b64e0de494de\", \"81590d40-423a-47ea-9e84-8f3663e34e9a\", \"80b09e8e-cad1-4cff-9e4e-8ce211a35045\"], \"d6074166-f9bc-48d2-b730-5addbee8ed31\": [], \"b1404b13-e25a-4336-8c91-ab890c29a391\": [\"e9ccbb3d-3cba-412a-b358-e2639bc7cf82\", \"a69780a6-2887-4379-968d-62165acf8863\", \"5527254c-5a8a-4436-8552-f4a62456d0cf\", \"419c0671-67cf-4896-b86e-c8c20dcd29de\", \"90f8ce8c-53d6-4a52-8d44-dd1fba662004\", \"09a13d7d-5f52-466d-b009-0102052c69ae\", \"ff6d7d75-c91c-44be-96b9-1ef6880216b0\", \"ec8f261c-50a9-4d38-a37c-dcc2d9d24a8e\", \"b9bcf28c-dd9a-4ddb-b90f-72dc3da98716\", \"ffac5506-e7d8-4089-bb31-3e6c45522516\", \"fff629ed-5b3e-4779-ba5d-16e30942bcd3\", \"eabef18f-b250-4201-8e40-c2437172510b\", \"445d50d8-3a82-4ff4-b4af-b64e0de494de\", \"81590d40-423a-47ea-9e84-8f3663e34e9a\", \"80b09e8e-cad1-4cff-9e4e-8ce211a35045\"]}, \"num_elements\": 24}, \"ir\": {\"chunks\": [{\"type\": \"TextChunk\", \"text\": \"Inline list: \", \"element_id\": \"f3454484-d0f6-4273-8f5f-ddbf6ef9a502\", \"id\": \"e9ccbb3d-3cba-412a-b358-e2639bc7cf82\", \"metadata\": {}}, {\"type\": \"TextChunk\", \"text\": \"Item \", \"element_id\": \"d201ea98-5ae3-461a-b001-deea29858a08\", \"id\": \"a69780a6-2887-4379-968d-62165acf8863\", \"metadata\": {}}, {\"type\": \"TextChunk\", \"text\": \"0\", \"element_id\": \"e8058a95-b4b5-4911-803d-5a3b5d79727d\", \"id\": \"5527254c-5a8a-4436-8552-f4a62456d0cf\", \"metadata\": {}}, {\"type\": \"TextChunk\", \"text\": \", \", \"element_id\": \"31d6bb57-2cac-45cc-994a-23b1d26eb5f1\", \"id\": \"419c0671-67cf-4896-b86e-c8c20dcd29de\", \"metadata\": {}}, {\"type\": \"TextChunk\", \"text\": \"Item \", \"element_id\": \"5317ad38-f937-4f64-9e92-2e4ed4a824f2\", \"id\": \"90f8ce8c-53d6-4a52-8d44-dd1fba662004\", \"metadata\": {}}, {\"type\": \"TextChunk\", \"text\": \"1\", \"element_id\": \"24b15e62-a3de-44ef-8353-e43806836770\", \"id\": \"09a13d7d-5f52-466d-b009-0102052c69ae\", \"metadata\": {}}, {\"type\": \"TextChunk\", \"text\": \", \", \"element_id\": \"31d6bb57-2cac-45cc-994a-23b1d26eb5f1\", \"id\": \"ff6d7d75-c91c-44be-96b9-1ef6880216b0\", \"metadata\": {}}, {\"type\": \"TextChunk\", \"text\": \"Item \", \"element_id\": \"e6586262-685d-4ff6-9af7-6ef50b0178f0\", \"id\": \"ec8f261c-50a9-4d38-a37c-dcc2d9d24a8e\", \"metadata\": {}}, {\"type\": \"TextChunk\", \"text\": \"2\", \"element_id\": \"07dfc000-1ae9-45f0-b523-f14de2d5e00f\", \"id\": \"b9bcf28c-dd9a-4ddb-b90f-72dc3da98716\", \"metadata\": {}}, {\"type\": \"TextChunk\", \"text\": \", \", \"element_id\": \"31d6bb57-2cac-45cc-994a-23b1d26eb5f1\", \"id\": \"ffac5506-e7d8-4089-bb31-3e6c45522516\", \"metadata\": {}}, {\"type\": \"TextChunk\", \"text\": \"Item \", \"element_id\": \"7c95d066-179b-4513-b1ff-317009bc8cd3\", \"id\": \"fff629ed-5b3e-4779-ba5d-16e30942bcd3\", \"metadata\": {}}, {\"type\": \"TextChunk\", \"text\": \"3\", \"element_id\": \"3d81e98a-843e-45e1-8728-063f1cb47c82\", \"id\": \"eabef18f-b250-4201-8e40-c2437172510b\", \"metadata\": {}}, {\"type\": \"TextChunk\", \"text\": \", \", \"element_id\": \"31d6bb57-2cac-45cc-994a-23b1d26eb5f1\", \"id\": \"445d50d8-3a82-4ff4-b4af-b64e0de494de\", \"metadata\": {}}, {\"type\": \"TextChunk\", \"text\": \"Item \", \"element_id\": \"3ce69185-6ab6-41af-ae4a-0ec734bf085c\", \"id\": \"81590d40-423a-47ea-9e84-8f3663e34e9a\", \"metadata\": {}}, {\"type\": \"TextChunk\", \"text\": \"4\", \"element_id\": \"5bd9c872-6d0f-4c20-8cb7-52202b055781\", \"id\": \"80b09e8e-cad1-4cff-9e4e-8ce211a35045\", \"metadata\": {}}], \"source_prompt_id\": \"b1404b13-e25a-4336-8c91-ab890c29a391\", \"id\": \"a686b9fb-4b03-4f18-8f2c-6bb7a62fe3ec\", \"metadata\": {}}, \"source_prompt\": {\"prompt_id\": \"b1404b13-e25a-4336-8c91-ab890c29a391\", \"children\": [{\"type\": \"static\", \"id\": \"f3454484-d0f6-4273-8f5f-ddbf6ef9a502\", \"parent_id\": \"b1404b13-e25a-4336-8c91-ab890c29a391\", \"key\": 0, \"index\": 0, \"source_location\": {\"filename\": \"2449973079.py\", \"filepath\": \"/private/var/folders/wr/5n6v6bvj6mxdxjcg5_5ss1ph0000gn/T/ipykernel_26234/2449973079.py\", \"line\": 3}, \"value\": \"Inline list: \"}, {\"type\": \"list\", \"id\": \"31d6bb57-2cac-45cc-994a-23b1d26eb5f1\", \"parent_id\": \"b1404b13-e25a-4336-8c91-ab890c29a391\", \"key\": \"items\", \"index\": 1, \"source_location\": {\"filename\": \"2449973079.py\", \"filepath\": \"/private/var/folders/wr/5n6v6bvj6mxdxjcg5_5ss1ph0000gn/T/ipykernel_26234/2449973079.py\", \"line\": 3}, \"expression\": \"items2\", \"conversion\": null, \"format_spec\": \"items:sep=, \", \"render_hints\": \"sep=, \", \"separator\": \", \", \"children\": [{\"type\": \"nested_prompt\", \"id\": \"1a10d840-9ca6-42ec-932b-1f98bb0b7dc5\", \"parent_id\": \"31d6bb57-2cac-45cc-994a-23b1d26eb5f1\", \"key\": 0, \"index\": 1, \"source_location\": {\"filename\": \"2449973079.py\", \"filepath\": \"/private/var/folders/wr/5n6v6bvj6mxdxjcg5_5ss1ph0000gn/T/ipykernel_26234/2449973079.py\", \"line\": 3}, \"expression\": \"[0]\", \"conversion\": null, \"format_spec\": \"\", \"render_hints\": \"\", \"prompt_id\": \"1a10d840-9ca6-42ec-932b-1f98bb0b7dc5\", \"creation_location\": {\"filename\": \"2449973079.py\", \"filepath\": \"/private/var/folders/wr/5n6v6bvj6mxdxjcg5_5ss1ph0000gn/T/ipykernel_26234/2449973079.py\", \"line\": 2}, \"children\": [{\"type\": \"static\", \"id\": \"d201ea98-5ae3-461a-b001-deea29858a08\", \"parent_id\": \"1a10d840-9ca6-42ec-932b-1f98bb0b7dc5\", \"key\": 0, \"index\": 0, \"source_location\": {\"filename\": \"2449973079.py\", \"filepath\": \"/private/var/folders/wr/5n6v6bvj6mxdxjcg5_5ss1ph0000gn/T/ipykernel_26234/2449973079.py\", \"line\": 2}, \"value\": \"Item \"}, {\"type\": \"interpolation\", \"id\": \"e8058a95-b4b5-4911-803d-5a3b5d79727d\", \"parent_id\": \"1a10d840-9ca6-42ec-932b-1f98bb0b7dc5\", \"key\": \"0\", \"index\": 1, \"source_location\": {\"filename\": \"2449973079.py\", \"filepath\": \"/private/var/folders/wr/5n6v6bvj6mxdxjcg5_5ss1ph0000gn/T/ipykernel_26234/2449973079.py\", \"line\": 2}, \"expression\": \"str(i)\", \"conversion\": null, \"format_spec\": \"0\", \"render_hints\": \"\", \"value\": \"0\"}, {\"type\": \"static\", \"id\": \"d10500ae-e37b-4a4c-a8b1-f6498a2fa2b4\", \"parent_id\": \"1a10d840-9ca6-42ec-932b-1f98bb0b7dc5\", \"key\": 1, \"index\": 2, \"source_location\": {\"filename\": \"2449973079.py\", \"filepath\": \"/private/var/folders/wr/5n6v6bvj6mxdxjcg5_5ss1ph0000gn/T/ipykernel_26234/2449973079.py\", \"line\": 2}, \"value\": \"\"}]}, {\"type\": \"nested_prompt\", \"id\": \"238525e0-7e4b-404b-8420-0dc583168f89\", \"parent_id\": \"31d6bb57-2cac-45cc-994a-23b1d26eb5f1\", \"key\": 1, \"index\": 1, \"source_location\": {\"filename\": \"2449973079.py\", \"filepath\": \"/private/var/folders/wr/5n6v6bvj6mxdxjcg5_5ss1ph0000gn/T/ipykernel_26234/2449973079.py\", \"line\": 3}, \"expression\": \"[1]\", \"conversion\": null, \"format_spec\": \"\", \"render_hints\": \"\", \"prompt_id\": \"238525e0-7e4b-404b-8420-0dc583168f89\", \"creation_location\": {\"filename\": \"2449973079.py\", \"filepath\": \"/private/var/folders/wr/5n6v6bvj6mxdxjcg5_5ss1ph0000gn/T/ipykernel_26234/2449973079.py\", \"line\": 2}, \"children\": [{\"type\": \"static\", \"id\": \"5317ad38-f937-4f64-9e92-2e4ed4a824f2\", \"parent_id\": \"238525e0-7e4b-404b-8420-0dc583168f89\", \"key\": 0, \"index\": 0, \"source_location\": {\"filename\": \"2449973079.py\", \"filepath\": \"/private/var/folders/wr/5n6v6bvj6mxdxjcg5_5ss1ph0000gn/T/ipykernel_26234/2449973079.py\", \"line\": 2}, \"value\": \"Item \"}, {\"type\": \"interpolation\", \"id\": \"24b15e62-a3de-44ef-8353-e43806836770\", \"parent_id\": \"238525e0-7e4b-404b-8420-0dc583168f89\", \"key\": \"1\", \"index\": 1, \"source_location\": {\"filename\": \"2449973079.py\", \"filepath\": \"/private/var/folders/wr/5n6v6bvj6mxdxjcg5_5ss1ph0000gn/T/ipykernel_26234/2449973079.py\", \"line\": 2}, \"expression\": \"str(i)\", \"conversion\": null, \"format_spec\": \"1\", \"render_hints\": \"\", \"value\": \"1\"}, {\"type\": \"static\", \"id\": \"7e2f3e06-ffe9-413a-963f-10ce960b0398\", \"parent_id\": \"238525e0-7e4b-404b-8420-0dc583168f89\", \"key\": 1, \"index\": 2, \"source_location\": {\"filename\": \"2449973079.py\", \"filepath\": \"/private/var/folders/wr/5n6v6bvj6mxdxjcg5_5ss1ph0000gn/T/ipykernel_26234/2449973079.py\", \"line\": 2}, \"value\": \"\"}]}, {\"type\": \"nested_prompt\", \"id\": \"26096553-9acc-4818-9c53-3b9ee3995b59\", \"parent_id\": \"31d6bb57-2cac-45cc-994a-23b1d26eb5f1\", \"key\": 2, \"index\": 1, \"source_location\": {\"filename\": \"2449973079.py\", \"filepath\": \"/private/var/folders/wr/5n6v6bvj6mxdxjcg5_5ss1ph0000gn/T/ipykernel_26234/2449973079.py\", \"line\": 3}, \"expression\": \"[2]\", \"conversion\": null, \"format_spec\": \"\", \"render_hints\": \"\", \"prompt_id\": \"26096553-9acc-4818-9c53-3b9ee3995b59\", \"creation_location\": {\"filename\": \"2449973079.py\", \"filepath\": \"/private/var/folders/wr/5n6v6bvj6mxdxjcg5_5ss1ph0000gn/T/ipykernel_26234/2449973079.py\", \"line\": 2}, \"children\": [{\"type\": \"static\", \"id\": \"e6586262-685d-4ff6-9af7-6ef50b0178f0\", \"parent_id\": \"26096553-9acc-4818-9c53-3b9ee3995b59\", \"key\": 0, \"index\": 0, \"source_location\": {\"filename\": \"2449973079.py\", \"filepath\": \"/private/var/folders/wr/5n6v6bvj6mxdxjcg5_5ss1ph0000gn/T/ipykernel_26234/2449973079.py\", \"line\": 2}, \"value\": \"Item \"}, {\"type\": \"interpolation\", \"id\": \"07dfc000-1ae9-45f0-b523-f14de2d5e00f\", \"parent_id\": \"26096553-9acc-4818-9c53-3b9ee3995b59\", \"key\": \"2\", \"index\": 1, \"source_location\": {\"filename\": \"2449973079.py\", \"filepath\": \"/private/var/folders/wr/5n6v6bvj6mxdxjcg5_5ss1ph0000gn/T/ipykernel_26234/2449973079.py\", \"line\": 2}, \"expression\": \"str(i)\", \"conversion\": null, \"format_spec\": \"2\", \"render_hints\": \"\", \"value\": \"2\"}, {\"type\": \"static\", \"id\": \"992eec2d-4448-4d1b-951b-156a408c233e\", \"parent_id\": \"26096553-9acc-4818-9c53-3b9ee3995b59\", \"key\": 1, \"index\": 2, \"source_location\": {\"filename\": \"2449973079.py\", \"filepath\": \"/private/var/folders/wr/5n6v6bvj6mxdxjcg5_5ss1ph0000gn/T/ipykernel_26234/2449973079.py\", \"line\": 2}, \"value\": \"\"}]}, {\"type\": \"nested_prompt\", \"id\": \"7b508f49-687a-4344-b5ee-04238cf44606\", \"parent_id\": \"31d6bb57-2cac-45cc-994a-23b1d26eb5f1\", \"key\": 3, \"index\": 1, \"source_location\": {\"filename\": \"2449973079.py\", \"filepath\": \"/private/var/folders/wr/5n6v6bvj6mxdxjcg5_5ss1ph0000gn/T/ipykernel_26234/2449973079.py\", \"line\": 3}, \"expression\": \"[3]\", \"conversion\": null, \"format_spec\": \"\", \"render_hints\": \"\", \"prompt_id\": \"7b508f49-687a-4344-b5ee-04238cf44606\", \"creation_location\": {\"filename\": \"2449973079.py\", \"filepath\": \"/private/var/folders/wr/5n6v6bvj6mxdxjcg5_5ss1ph0000gn/T/ipykernel_26234/2449973079.py\", \"line\": 2}, \"children\": [{\"type\": \"static\", \"id\": \"7c95d066-179b-4513-b1ff-317009bc8cd3\", \"parent_id\": \"7b508f49-687a-4344-b5ee-04238cf44606\", \"key\": 0, \"index\": 0, \"source_location\": {\"filename\": \"2449973079.py\", \"filepath\": \"/private/var/folders/wr/5n6v6bvj6mxdxjcg5_5ss1ph0000gn/T/ipykernel_26234/2449973079.py\", \"line\": 2}, \"value\": \"Item \"}, {\"type\": \"interpolation\", \"id\": \"3d81e98a-843e-45e1-8728-063f1cb47c82\", \"parent_id\": \"7b508f49-687a-4344-b5ee-04238cf44606\", \"key\": \"3\", \"index\": 1, \"source_location\": {\"filename\": \"2449973079.py\", \"filepath\": \"/private/var/folders/wr/5n6v6bvj6mxdxjcg5_5ss1ph0000gn/T/ipykernel_26234/2449973079.py\", \"line\": 2}, \"expression\": \"str(i)\", \"conversion\": null, \"format_spec\": \"3\", \"render_hints\": \"\", \"value\": \"3\"}, {\"type\": \"static\", \"id\": \"2b9e6b4d-1bff-43a5-a9a3-d0af1d35d79f\", \"parent_id\": \"7b508f49-687a-4344-b5ee-04238cf44606\", \"key\": 1, \"index\": 2, \"source_location\": {\"filename\": \"2449973079.py\", \"filepath\": \"/private/var/folders/wr/5n6v6bvj6mxdxjcg5_5ss1ph0000gn/T/ipykernel_26234/2449973079.py\", \"line\": 2}, \"value\": \"\"}]}, {\"type\": \"nested_prompt\", \"id\": \"6168820a-95c3-4789-b36a-f2798896d0fc\", \"parent_id\": \"31d6bb57-2cac-45cc-994a-23b1d26eb5f1\", \"key\": 4, \"index\": 1, \"source_location\": {\"filename\": \"2449973079.py\", \"filepath\": \"/private/var/folders/wr/5n6v6bvj6mxdxjcg5_5ss1ph0000gn/T/ipykernel_26234/2449973079.py\", \"line\": 3}, \"expression\": \"[4]\", \"conversion\": null, \"format_spec\": \"\", \"render_hints\": \"\", \"prompt_id\": \"6168820a-95c3-4789-b36a-f2798896d0fc\", \"creation_location\": {\"filename\": \"2449973079.py\", \"filepath\": \"/private/var/folders/wr/5n6v6bvj6mxdxjcg5_5ss1ph0000gn/T/ipykernel_26234/2449973079.py\", \"line\": 2}, \"children\": [{\"type\": \"static\", \"id\": \"3ce69185-6ab6-41af-ae4a-0ec734bf085c\", \"parent_id\": \"6168820a-95c3-4789-b36a-f2798896d0fc\", \"key\": 0, \"index\": 0, \"source_location\": {\"filename\": \"2449973079.py\", \"filepath\": \"/private/var/folders/wr/5n6v6bvj6mxdxjcg5_5ss1ph0000gn/T/ipykernel_26234/2449973079.py\", \"line\": 2}, \"value\": \"Item \"}, {\"type\": \"interpolation\", \"id\": \"5bd9c872-6d0f-4c20-8cb7-52202b055781\", \"parent_id\": \"6168820a-95c3-4789-b36a-f2798896d0fc\", \"key\": \"4\", \"index\": 1, \"source_location\": {\"filename\": \"2449973079.py\", \"filepath\": \"/private/var/folders/wr/5n6v6bvj6mxdxjcg5_5ss1ph0000gn/T/ipykernel_26234/2449973079.py\", \"line\": 2}, \"expression\": \"str(i)\", \"conversion\": null, \"format_spec\": \"4\", \"render_hints\": \"\", \"value\": \"4\"}, {\"type\": \"static\", \"id\": \"fa7ddc05-ee39-4c71-b3ca-277ba58ea9ee\", \"parent_id\": \"6168820a-95c3-4789-b36a-f2798896d0fc\", \"key\": 1, \"index\": 2, \"source_location\": {\"filename\": \"2449973079.py\", \"filepath\": \"/private/var/folders/wr/5n6v6bvj6mxdxjcg5_5ss1ph0000gn/T/ipykernel_26234/2449973079.py\", \"line\": 2}, \"value\": \"\"}]}]}, {\"type\": \"static\", \"id\": \"d6074166-f9bc-48d2-b730-5addbee8ed31\", \"parent_id\": \"b1404b13-e25a-4336-8c91-ab890c29a391\", \"key\": 1, \"index\": 2, \"source_location\": {\"filename\": \"2449973079.py\", \"filepath\": \"/private/var/folders/wr/5n6v6bvj6mxdxjcg5_5ss1ph0000gn/T/ipykernel_26234/2449973079.py\", \"line\": 3}, \"value\": \"\"}]}, \"config\": {\"wrapping\": true, \"sourcePrefix\": \"/Users/nehal/src/structured-prompts/docs/demos\"}}</script>\n",
       "    <div class=\"tp-widget-mount\"></div>\n",
       "</div>\n"
      ],
      "text/plain": [
       "StructuredPrompt(keys=['items'], num_interpolations=1)"
      ]
     },
     "execution_count": 4,
     "metadata": {},
     "output_type": "execute_result"
    }
   ],
   "source": [
    "# Inline with comma separator\n",
    "items2 = [prompt(t\"Item {str(i):{i}}\") for i in range(5)]\n",
    "p3 = prompt(t\"Inline list: {items2:items:sep=, }\")\n",
    "p3"
   ]
  },
  {
   "cell_type": "markdown",
   "metadata": {},
   "source": [
    "## Test 4: Nested Prompts"
   ]
  },
  {
   "cell_type": "code",
   "execution_count": 5,
   "metadata": {
    "execution": {
     "iopub.execute_input": "2025-10-16T01:59:16.719980Z",
     "iopub.status.busy": "2025-10-16T01:59:16.719908Z",
     "iopub.status.idle": "2025-10-16T01:59:16.722592Z",
     "shell.execute_reply": "2025-10-16T01:59:16.722357Z"
    }
   },
   "outputs": [
    {
     "data": {
      "text/html": [
       "\n",
       "<div class=\"tp-widget-root\" data-tp-widget>\n",
       "    <script data-role=\"tp-widget-data\" type=\"application/json\">{\"compiled_ir\": {\"ir_id\": \"e85da09a-3976-41be-b6b1-32e8095b2a91\", \"subtree_map\": {\"7f1b73d1-1c0c-4c1d-96ef-b6ae3ee6b3b8\": [], \"b4ad757d-08a2-4609-9bcc-37dd80ed9bee\": [], \"70e26152-41ac-4319-9f63-6492b9e123ac\": [\"b4ea7ca2-bb4a-4b26-893d-8ec4fd49ec21\"], \"1dd98e84-f43d-4128-8c46-9d24352a008f\": [], \"b63cd3b5-505e-4fcc-883f-ae3982b67d26\": [\"b4ea7ca2-bb4a-4b26-893d-8ec4fd49ec21\"], \"bb294b6c-22e3-4ebf-b303-6f411575a89d\": [\"0bed3b27-cef6-48f9-a2a7-3caaf65c091e\"], \"b5d9dc58-e096-4d25-a775-bdfb10149c14\": [\"49d3bef3-900a-44cd-8e88-7b8896ed33ca\"], \"dcabc25b-83c6-41b3-a95e-e11046300862\": [\"15b3958a-7dd0-4bed-872e-ff3960a38cc4\"], \"5521a615-d48a-4d6b-92ca-c36b43099fef\": [\"b4ea7ca2-bb4a-4b26-893d-8ec4fd49ec21\", \"0bed3b27-cef6-48f9-a2a7-3caaf65c091e\", \"49d3bef3-900a-44cd-8e88-7b8896ed33ca\", \"15b3958a-7dd0-4bed-872e-ff3960a38cc4\"]}, \"num_elements\": 9}, \"ir\": {\"chunks\": [{\"type\": \"TextChunk\", \"text\": \"You are a helpful AI assistant.\", \"element_id\": \"70e26152-41ac-4319-9f63-6492b9e123ac\", \"id\": \"b4ea7ca2-bb4a-4b26-893d-8ec4fd49ec21\", \"metadata\": {}}, {\"type\": \"TextChunk\", \"text\": \"\\n\\nTask: \", \"element_id\": \"bb294b6c-22e3-4ebf-b303-6f411575a89d\", \"id\": \"0bed3b27-cef6-48f9-a2a7-3caaf65c091e\", \"metadata\": {}}, {\"type\": \"TextChunk\", \"text\": \"analyze this data\", \"element_id\": \"b5d9dc58-e096-4d25-a775-bdfb10149c14\", \"id\": \"49d3bef3-900a-44cd-8e88-7b8896ed33ca\", \"metadata\": {}}, {\"type\": \"TextChunk\", \"text\": \"\\n\\nPlease provide a detailed analysis.\", \"element_id\": \"dcabc25b-83c6-41b3-a95e-e11046300862\", \"id\": \"15b3958a-7dd0-4bed-872e-ff3960a38cc4\", \"metadata\": {}}], \"source_prompt_id\": \"5521a615-d48a-4d6b-92ca-c36b43099fef\", \"id\": \"e85da09a-3976-41be-b6b1-32e8095b2a91\", \"metadata\": {}}, \"source_prompt\": {\"prompt_id\": \"5521a615-d48a-4d6b-92ca-c36b43099fef\", \"children\": [{\"type\": \"static\", \"id\": \"7f1b73d1-1c0c-4c1d-96ef-b6ae3ee6b3b8\", \"parent_id\": \"5521a615-d48a-4d6b-92ca-c36b43099fef\", \"key\": 0, \"index\": 0, \"source_location\": {\"filename\": \"3042072703.py\", \"filepath\": \"/private/var/folders/wr/5n6v6bvj6mxdxjcg5_5ss1ph0000gn/T/ipykernel_26234/3042072703.py\", \"line\": 4}, \"value\": \"\"}, {\"type\": \"nested_prompt\", \"id\": \"b63cd3b5-505e-4fcc-883f-ae3982b67d26\", \"parent_id\": \"5521a615-d48a-4d6b-92ca-c36b43099fef\", \"key\": \"system\", \"index\": 1, \"source_location\": {\"filename\": \"3042072703.py\", \"filepath\": \"/private/var/folders/wr/5n6v6bvj6mxdxjcg5_5ss1ph0000gn/T/ipykernel_26234/3042072703.py\", \"line\": 4}, \"expression\": \"system\", \"conversion\": null, \"format_spec\": \"system\", \"render_hints\": \"\", \"prompt_id\": \"b63cd3b5-505e-4fcc-883f-ae3982b67d26\", \"creation_location\": {\"filename\": \"3042072703.py\", \"filepath\": \"/private/var/folders/wr/5n6v6bvj6mxdxjcg5_5ss1ph0000gn/T/ipykernel_26234/3042072703.py\", \"line\": 1}, \"children\": [{\"type\": \"static\", \"id\": \"b4ad757d-08a2-4609-9bcc-37dd80ed9bee\", \"parent_id\": \"b63cd3b5-505e-4fcc-883f-ae3982b67d26\", \"key\": 0, \"index\": 0, \"source_location\": {\"filename\": \"3042072703.py\", \"filepath\": \"/private/var/folders/wr/5n6v6bvj6mxdxjcg5_5ss1ph0000gn/T/ipykernel_26234/3042072703.py\", \"line\": 1}, \"value\": \"\"}, {\"type\": \"interpolation\", \"id\": \"70e26152-41ac-4319-9f63-6492b9e123ac\", \"parent_id\": \"b63cd3b5-505e-4fcc-883f-ae3982b67d26\", \"key\": \"sys\", \"index\": 1, \"source_location\": {\"filename\": \"3042072703.py\", \"filepath\": \"/private/var/folders/wr/5n6v6bvj6mxdxjcg5_5ss1ph0000gn/T/ipykernel_26234/3042072703.py\", \"line\": 1}, \"expression\": \"'You are a helpful AI assistant.'\", \"conversion\": null, \"format_spec\": \"sys\", \"render_hints\": \"\", \"value\": \"You are a helpful AI assistant.\"}, {\"type\": \"static\", \"id\": \"1dd98e84-f43d-4128-8c46-9d24352a008f\", \"parent_id\": \"b63cd3b5-505e-4fcc-883f-ae3982b67d26\", \"key\": 1, \"index\": 2, \"source_location\": {\"filename\": \"3042072703.py\", \"filepath\": \"/private/var/folders/wr/5n6v6bvj6mxdxjcg5_5ss1ph0000gn/T/ipykernel_26234/3042072703.py\", \"line\": 1}, \"value\": \"\"}]}, {\"type\": \"static\", \"id\": \"bb294b6c-22e3-4ebf-b303-6f411575a89d\", \"parent_id\": \"5521a615-d48a-4d6b-92ca-c36b43099fef\", \"key\": 1, \"index\": 2, \"source_location\": {\"filename\": \"3042072703.py\", \"filepath\": \"/private/var/folders/wr/5n6v6bvj6mxdxjcg5_5ss1ph0000gn/T/ipykernel_26234/3042072703.py\", \"line\": 4}, \"value\": \"\\n\\nTask: \"}, {\"type\": \"interpolation\", \"id\": \"b5d9dc58-e096-4d25-a775-bdfb10149c14\", \"parent_id\": \"5521a615-d48a-4d6b-92ca-c36b43099fef\", \"key\": \"t\", \"index\": 3, \"source_location\": {\"filename\": \"3042072703.py\", \"filepath\": \"/private/var/folders/wr/5n6v6bvj6mxdxjcg5_5ss1ph0000gn/T/ipykernel_26234/3042072703.py\", \"line\": 4}, \"expression\": \"task\", \"conversion\": null, \"format_spec\": \"t\", \"render_hints\": \"\", \"value\": \"analyze this data\"}, {\"type\": \"static\", \"id\": \"dcabc25b-83c6-41b3-a95e-e11046300862\", \"parent_id\": \"5521a615-d48a-4d6b-92ca-c36b43099fef\", \"key\": 2, \"index\": 4, \"source_location\": {\"filename\": \"3042072703.py\", \"filepath\": \"/private/var/folders/wr/5n6v6bvj6mxdxjcg5_5ss1ph0000gn/T/ipykernel_26234/3042072703.py\", \"line\": 4}, \"value\": \"\\n\\nPlease provide a detailed analysis.\"}]}, \"config\": {\"wrapping\": true, \"sourcePrefix\": \"/Users/nehal/src/structured-prompts/docs/demos\"}}</script>\n",
       "    <div class=\"tp-widget-mount\"></div>\n",
       "</div>\n"
      ],
      "text/plain": [
       "StructuredPrompt(keys=['system', 't'], num_interpolations=2)"
      ]
     },
     "execution_count": 5,
     "metadata": {},
     "output_type": "execute_result"
    }
   ],
   "source": [
    "system = prompt(t\"{'You are a helpful AI assistant.':sys}\")\n",
    "task = \"analyze this data\"\n",
    "\n",
    "p4 = dedent(t\"\"\"\n",
    "    {system:system}\n",
    "\n",
    "    Task: {task:t}\n",
    "\n",
    "    Please provide a detailed analysis.\n",
    "    \"\"\")\n",
    "\n",
    "p4"
   ]
  },
  {
   "cell_type": "markdown",
   "metadata": {},
   "source": [
    "## Test 5: Images"
   ]
  },
  {
   "cell_type": "code",
   "execution_count": 6,
   "metadata": {
    "execution": {
     "iopub.execute_input": "2025-10-16T01:59:16.723802Z",
     "iopub.status.busy": "2025-10-16T01:59:16.723719Z",
     "iopub.status.idle": "2025-10-16T01:59:16.733660Z",
     "shell.execute_reply": "2025-10-16T01:59:16.733450Z"
    }
   },
   "outputs": [
    {
     "data": {
      "text/html": [
       "\n",
       "<div class=\"tp-widget-root\" data-tp-widget>\n",
       "    <script data-role=\"tp-widget-data\" type=\"application/json\">{\"compiled_ir\": {\"ir_id\": \"6c8c04d2-7dc2-4e7b-80ff-e706a792e162\", \"subtree_map\": {\"39f85bd6-011b-49c8-a655-8acdc0e8dee5\": [], \"0582dd05-f9e2-450a-86b7-c06941925b48\": [\"ddfd0399-bb39-499a-944f-f9cebdcf55af\"], \"4d3b427d-cac7-4792-970a-75e252515f44\": [\"217c2dec-9fc8-4172-9851-4c0915c7a421\"], \"1016df86-93d7-403f-8ac2-e45de7328068\": [\"e46033dd-b859-4fdf-a2c2-0da835a52ce6\"], \"06c9027e-73b0-4923-9a02-611a92ec0faf\": [\"361f6abe-ad50-45fb-8db8-13c422049e58\"], \"a01d9347-c72c-4faa-a0d4-9ee96e5743a3\": [\"ddfd0399-bb39-499a-944f-f9cebdcf55af\", \"217c2dec-9fc8-4172-9851-4c0915c7a421\", \"e46033dd-b859-4fdf-a2c2-0da835a52ce6\", \"361f6abe-ad50-45fb-8db8-13c422049e58\"]}, \"num_elements\": 6}, \"ir\": {\"chunks\": [{\"type\": \"TextChunk\", \"text\": \"Here is a test image\", \"element_id\": \"0582dd05-f9e2-450a-86b7-c06941925b48\", \"id\": \"ddfd0399-bb39-499a-944f-f9cebdcf55af\", \"metadata\": {}}, {\"type\": \"TextChunk\", \"text\": \"\\n\\nImage: \", \"element_id\": \"4d3b427d-cac7-4792-970a-75e252515f44\", \"id\": \"217c2dec-9fc8-4172-9851-4c0915c7a421\", \"metadata\": {}}, {\"type\": \"ImageChunk\", \"image\": {\"base64_data\": \"iVBORw0KGgoAAAANSUhEUgAAAGQAAABkCAIAAAD/gAIDAAAA5ElEQVR4nO3QsQEAIAyAsOr/P+sLZU9mJs7MG3bussOsxqzArMCswKzArMCswKzArMCswKzArMCswKzArMCswKzArMCswKzArMCswKzArMCswKzArMCswKzArMCswKzArMCswKzArMCswKzArMCswKzArMCswKzArMCswKzArMCswKzArMCswKzArMCswKzArMCswKzArMCswKzArMCswKzArMCswKzArMCswKzArMCswKzArMCswKzArMCswKzArMCswKzArMCswKzArMCswKzArMCswKzArMCswKzArMCswKzZ+4hgAcfQoJZsAAAAAElFTkSuQmCC\", \"format\": \"PNG\", \"width\": 100, \"height\": 100, \"mode\": \"RGB\"}, \"element_id\": \"1016df86-93d7-403f-8ac2-e45de7328068\", \"id\": \"e46033dd-b859-4fdf-a2c2-0da835a52ce6\", \"metadata\": {}}, {\"type\": \"TextChunk\", \"text\": \"\\n\\nThe image should show a blue square.\", \"element_id\": \"06c9027e-73b0-4923-9a02-611a92ec0faf\", \"id\": \"361f6abe-ad50-45fb-8db8-13c422049e58\", \"metadata\": {}}], \"source_prompt_id\": \"a01d9347-c72c-4faa-a0d4-9ee96e5743a3\", \"id\": \"6c8c04d2-7dc2-4e7b-80ff-e706a792e162\", \"metadata\": {}}, \"source_prompt\": {\"prompt_id\": \"a01d9347-c72c-4faa-a0d4-9ee96e5743a3\", \"children\": [{\"type\": \"static\", \"id\": \"39f85bd6-011b-49c8-a655-8acdc0e8dee5\", \"parent_id\": \"a01d9347-c72c-4faa-a0d4-9ee96e5743a3\", \"key\": 0, \"index\": 0, \"source_location\": {\"filename\": \"95125997.py\", \"filepath\": \"/private/var/folders/wr/5n6v6bvj6mxdxjcg5_5ss1ph0000gn/T/ipykernel_26234/95125997.py\", \"line\": 5}, \"value\": \"\"}, {\"type\": \"interpolation\", \"id\": \"0582dd05-f9e2-450a-86b7-c06941925b48\", \"parent_id\": \"a01d9347-c72c-4faa-a0d4-9ee96e5743a3\", \"key\": \"desc\", \"index\": 1, \"source_location\": {\"filename\": \"95125997.py\", \"filepath\": \"/private/var/folders/wr/5n6v6bvj6mxdxjcg5_5ss1ph0000gn/T/ipykernel_26234/95125997.py\", \"line\": 5}, \"expression\": \"description\", \"conversion\": null, \"format_spec\": \"desc\", \"render_hints\": \"\", \"value\": \"Here is a test image\"}, {\"type\": \"static\", \"id\": \"4d3b427d-cac7-4792-970a-75e252515f44\", \"parent_id\": \"a01d9347-c72c-4faa-a0d4-9ee96e5743a3\", \"key\": 1, \"index\": 2, \"source_location\": {\"filename\": \"95125997.py\", \"filepath\": \"/private/var/folders/wr/5n6v6bvj6mxdxjcg5_5ss1ph0000gn/T/ipykernel_26234/95125997.py\", \"line\": 5}, \"value\": \"\\n\\nImage: \"}, {\"type\": \"image\", \"id\": \"1016df86-93d7-403f-8ac2-e45de7328068\", \"parent_id\": \"a01d9347-c72c-4faa-a0d4-9ee96e5743a3\", \"key\": \"image\", \"index\": 3, \"source_location\": {\"filename\": \"95125997.py\", \"filepath\": \"/private/var/folders/wr/5n6v6bvj6mxdxjcg5_5ss1ph0000gn/T/ipykernel_26234/95125997.py\", \"line\": 5}, \"expression\": \"img\", \"conversion\": null, \"format_spec\": \"image\", \"render_hints\": \"\", \"image_data\": {\"base64_data\": \"iVBORw0KGgoAAAANSUhEUgAAAGQAAABkCAIAAAD/gAIDAAAA5ElEQVR4nO3QsQEAIAyAsOr/P+sLZU9mJs7MG3bussOsxqzArMCswKzArMCswKzArMCswKzArMCswKzArMCswKzArMCswKzArMCswKzArMCswKzArMCswKzArMCswKzArMCswKzArMCswKzArMCswKzArMCswKzArMCswKzArMCswKzArMCswKzArMCswKzArMCswKzArMCswKzArMCswKzArMCswKzArMCswKzArMCswKzArMCswKzArMCswKzArMCswKzArMCswKzArMCswKzArMCswKzArMCswKzArMCswKzZ+4hgAcfQoJZsAAAAAElFTkSuQmCC\", \"format\": \"PNG\", \"width\": 100, \"height\": 100, \"mode\": \"RGB\"}}, {\"type\": \"static\", \"id\": \"06c9027e-73b0-4923-9a02-611a92ec0faf\", \"parent_id\": \"a01d9347-c72c-4faa-a0d4-9ee96e5743a3\", \"key\": 2, \"index\": 4, \"source_location\": {\"filename\": \"95125997.py\", \"filepath\": \"/private/var/folders/wr/5n6v6bvj6mxdxjcg5_5ss1ph0000gn/T/ipykernel_26234/95125997.py\", \"line\": 5}, \"value\": \"\\n\\nThe image should show a blue square.\"}]}, \"config\": {\"wrapping\": true, \"sourcePrefix\": \"/Users/nehal/src/structured-prompts/docs/demos\"}}</script>\n",
       "    <div class=\"tp-widget-mount\"></div>\n",
       "</div>\n"
      ],
      "text/plain": [
       "StructuredPrompt(keys=['desc', 'image'], num_interpolations=2)"
      ]
     },
     "execution_count": 6,
     "metadata": {},
     "output_type": "execute_result"
    }
   ],
   "source": [
    "# Create a test image\n",
    "img = Image.new('RGB', (100, 100), color='blue')\n",
    "\n",
    "description = \"Here is a test image\"\n",
    "p5 = dedent(t\"\"\"\n",
    "    {description:desc}\n",
    "\n",
    "    Image: {img:image}\n",
    "\n",
    "    The image should show a blue square.\n",
    "    \"\"\")\n",
    "\n",
    "p5"
   ]
  },
  {
   "cell_type": "markdown",
   "metadata": {},
   "source": [
    "## Test 6: Complex Mixed Content"
   ]
  },
  {
   "cell_type": "code",
   "execution_count": 7,
   "metadata": {
    "execution": {
     "iopub.execute_input": "2025-10-16T01:59:16.734744Z",
     "iopub.status.busy": "2025-10-16T01:59:16.734665Z",
     "iopub.status.idle": "2025-10-16T01:59:16.737928Z",
     "shell.execute_reply": "2025-10-16T01:59:16.737723Z"
    }
   },
   "outputs": [
    {
     "data": {
      "text/html": [
       "\n",
       "<div class=\"tp-widget-root\" data-tp-widget>\n",
       "    <script data-role=\"tp-widget-data\" type=\"application/json\">{\"compiled_ir\": {\"ir_id\": \"09676e7f-2f2b-4846-af5c-0ca1e72f3558\", \"subtree_map\": {\"acf6d75c-418e-46a0-a3f7-6b545e2c62db\": [\"4e6ad9e2-7b71-43f6-af72-19de1e4c7b8a\"], \"7861ab22-829c-4099-bcb5-e85edffb74ce\": [\"a1695679-1f32-473a-a011-b75e1179d333\"], \"ecb2d235-1db4-46c3-9f8c-51e01ec11482\": [\"fe956e8f-cb00-41d2-836f-7980ea359aac\"], \"ae6b3804-872e-4cb7-beb6-2f412295e6c9\": [\"37308492-1f7d-4edf-852b-bf560668f546\"], \"f2b8bd72-6af4-4763-9912-3b2f9526f468\": [\"d2877348-5f42-47b0-a49e-211896c61daa\"], \"a3142ff6-a36e-4780-9c45-82b87b52d774\": [], \"d6ffb6a0-eb1e-4016-880c-f02cf2fda3d7\": [\"37308492-1f7d-4edf-852b-bf560668f546\", \"d2877348-5f42-47b0-a49e-211896c61daa\"], \"d43250fe-ba95-42f3-ac3c-e55f8a347914\": [\"88950e20-721b-416b-97e4-2227c6fb95f7\"], \"50cd7d49-1610-4d50-b0bc-6b959976e08b\": [\"bc351f53-90e4-4072-bd9f-3e8a119cd10b\"], \"a54c78a2-f272-4202-a3e7-cfe0abf2d9db\": [], \"3555f3e7-395e-4a66-90cc-a78e796503f8\": [\"88950e20-721b-416b-97e4-2227c6fb95f7\", \"bc351f53-90e4-4072-bd9f-3e8a119cd10b\"], \"39bdae7c-ca4e-41ae-a6dc-7da46552dfc4\": [\"8a6f370a-ac72-4a34-9863-f83d89cd0aeb\"], \"9c88d4fa-b9d6-474c-87cf-840fc5c98044\": [\"d5d5841b-01ec-452d-be02-8e03871e4fbd\"], \"697cfd04-fa43-4851-af6d-87eb7b43137c\": [], \"83dc916a-877a-4439-9200-6f2dff84b1f3\": [\"8a6f370a-ac72-4a34-9863-f83d89cd0aeb\", \"d5d5841b-01ec-452d-be02-8e03871e4fbd\"], \"86f4758d-86ac-4b37-a3b0-dd3f08c01e4a\": [\"37308492-1f7d-4edf-852b-bf560668f546\", \"d2877348-5f42-47b0-a49e-211896c61daa\", \"7fbf2b8b-9917-4926-bce2-fec554660197\", \"88950e20-721b-416b-97e4-2227c6fb95f7\", \"bc351f53-90e4-4072-bd9f-3e8a119cd10b\", \"003e8d0c-6a4e-4f3c-a4c7-4570c117adda\", \"8a6f370a-ac72-4a34-9863-f83d89cd0aeb\", \"d5d5841b-01ec-452d-be02-8e03871e4fbd\"], \"2dd6130f-13e8-41db-a918-11955a43dc88\": [\"2fa27f27-ed8a-4546-950b-0e2ce72bd7ff\"], \"91e9c005-c7ec-4724-8492-00553f54bb10\": [\"a612994a-3a4a-4996-b7ad-718da9caa771\"], \"02c84ca3-843b-4653-99cd-0d2e0c2c66a0\": [\"45cc3b3a-c86f-48a3-ba5e-4d32831bf85d\"], \"5f68c428-d00e-4595-b6e6-2459af435632\": [\"4e6ad9e2-7b71-43f6-af72-19de1e4c7b8a\", \"a1695679-1f32-473a-a011-b75e1179d333\", \"fe956e8f-cb00-41d2-836f-7980ea359aac\", \"37308492-1f7d-4edf-852b-bf560668f546\", \"d2877348-5f42-47b0-a49e-211896c61daa\", \"7fbf2b8b-9917-4926-bce2-fec554660197\", \"88950e20-721b-416b-97e4-2227c6fb95f7\", \"bc351f53-90e4-4072-bd9f-3e8a119cd10b\", \"003e8d0c-6a4e-4f3c-a4c7-4570c117adda\", \"8a6f370a-ac72-4a34-9863-f83d89cd0aeb\", \"d5d5841b-01ec-452d-be02-8e03871e4fbd\", \"2fa27f27-ed8a-4546-950b-0e2ce72bd7ff\", \"a612994a-3a4a-4996-b7ad-718da9caa771\", \"45cc3b3a-c86f-48a3-ba5e-4d32831bf85d\"]}, \"num_elements\": 20}, \"ir\": {\"chunks\": [{\"type\": \"TextChunk\", \"text\": \"Introduction: \", \"element_id\": \"acf6d75c-418e-46a0-a3f7-6b545e2c62db\", \"id\": \"4e6ad9e2-7b71-43f6-af72-19de1e4c7b8a\", \"metadata\": {}}, {\"type\": \"TextChunk\", \"text\": \"This is a comprehensive test\", \"element_id\": \"7861ab22-829c-4099-bcb5-e85edffb74ce\", \"id\": \"a1695679-1f32-473a-a011-b75e1179d333\", \"metadata\": {}}, {\"type\": \"TextChunk\", \"text\": \"\\n\\nExamples:\\n\", \"element_id\": \"ecb2d235-1db4-46c3-9f8c-51e01ec11482\", \"id\": \"fe956e8f-cb00-41d2-836f-7980ea359aac\", \"metadata\": {}}, {\"type\": \"TextChunk\", \"text\": \"Example \", \"element_id\": \"ae6b3804-872e-4cb7-beb6-2f412295e6c9\", \"id\": \"37308492-1f7d-4edf-852b-bf560668f546\", \"metadata\": {}}, {\"type\": \"TextChunk\", \"text\": \"0\", \"element_id\": \"f2b8bd72-6af4-4763-9912-3b2f9526f468\", \"id\": \"d2877348-5f42-47b0-a49e-211896c61daa\", \"metadata\": {}}, {\"type\": \"TextChunk\", \"text\": \"\\n\", \"element_id\": \"86f4758d-86ac-4b37-a3b0-dd3f08c01e4a\", \"id\": \"7fbf2b8b-9917-4926-bce2-fec554660197\", \"metadata\": {}}, {\"type\": \"TextChunk\", \"text\": \"Example \", \"element_id\": \"d43250fe-ba95-42f3-ac3c-e55f8a347914\", \"id\": \"88950e20-721b-416b-97e4-2227c6fb95f7\", \"metadata\": {}}, {\"type\": \"TextChunk\", \"text\": \"1\", \"element_id\": \"50cd7d49-1610-4d50-b0bc-6b959976e08b\", \"id\": \"bc351f53-90e4-4072-bd9f-3e8a119cd10b\", \"metadata\": {}}, {\"type\": \"TextChunk\", \"text\": \"\\n\", \"element_id\": \"86f4758d-86ac-4b37-a3b0-dd3f08c01e4a\", \"id\": \"003e8d0c-6a4e-4f3c-a4c7-4570c117adda\", \"metadata\": {}}, {\"type\": \"TextChunk\", \"text\": \"Example \", \"element_id\": \"39bdae7c-ca4e-41ae-a6dc-7da46552dfc4\", \"id\": \"8a6f370a-ac72-4a34-9863-f83d89cd0aeb\", \"metadata\": {}}, {\"type\": \"TextChunk\", \"text\": \"2\", \"element_id\": \"9c88d4fa-b9d6-474c-87cf-840fc5c98044\", \"id\": \"d5d5841b-01ec-452d-be02-8e03871e4fbd\", \"metadata\": {}}, {\"type\": \"TextChunk\", \"text\": \"\\n\\nImage reference: \", \"element_id\": \"2dd6130f-13e8-41db-a918-11955a43dc88\", \"id\": \"2fa27f27-ed8a-4546-950b-0e2ce72bd7ff\", \"metadata\": {}}, {\"type\": \"ImageChunk\", \"image\": {\"base64_data\": \"iVBORw0KGgoAAAANSUhEUgAAADIAAAAyCAIAAACRXR/mAAAAZklEQVR4nM3OMQEAMAyAMIZ/z52B/iUK8oYiSZIkSZIkSZIkSZIkSZIkSZIkSZIkSZIkSZIkSZIkSZIkSZIkSZIkSZIkSZIkSZIkSZIkSZIkSZIkSZIkSZIkSZIkSZIkSZIkrwO7D0GqAWPcq78HAAAAAElFTkSuQmCC\", \"format\": \"PNG\", \"width\": 50, \"height\": 50, \"mode\": \"RGB\"}, \"element_id\": \"91e9c005-c7ec-4724-8492-00553f54bb10\", \"id\": \"a612994a-3a4a-4996-b7ad-718da9caa771\", \"metadata\": {}}, {\"type\": \"TextChunk\", \"text\": \"\\n\\nConclusion: This demonstrates all widget features working together.\", \"element_id\": \"02c84ca3-843b-4653-99cd-0d2e0c2c66a0\", \"id\": \"45cc3b3a-c86f-48a3-ba5e-4d32831bf85d\", \"metadata\": {}}], \"source_prompt_id\": \"5f68c428-d00e-4595-b6e6-2459af435632\", \"id\": \"09676e7f-2f2b-4846-af5c-0ca1e72f3558\", \"metadata\": {}}, \"source_prompt\": {\"prompt_id\": \"5f68c428-d00e-4595-b6e6-2459af435632\", \"children\": [{\"type\": \"static\", \"id\": \"acf6d75c-418e-46a0-a3f7-6b545e2c62db\", \"parent_id\": \"5f68c428-d00e-4595-b6e6-2459af435632\", \"key\": 0, \"index\": 0, \"source_location\": {\"filename\": \"36135330.py\", \"filepath\": \"/private/var/folders/wr/5n6v6bvj6mxdxjcg5_5ss1ph0000gn/T/ipykernel_26234/36135330.py\", \"line\": 6}, \"value\": \"Introduction: \"}, {\"type\": \"interpolation\", \"id\": \"7861ab22-829c-4099-bcb5-e85edffb74ce\", \"parent_id\": \"5f68c428-d00e-4595-b6e6-2459af435632\", \"key\": \"intro\", \"index\": 1, \"source_location\": {\"filename\": \"36135330.py\", \"filepath\": \"/private/var/folders/wr/5n6v6bvj6mxdxjcg5_5ss1ph0000gn/T/ipykernel_26234/36135330.py\", \"line\": 6}, \"expression\": \"intro\", \"conversion\": null, \"format_spec\": \"intro\", \"render_hints\": \"\", \"value\": \"This is a comprehensive test\"}, {\"type\": \"static\", \"id\": \"ecb2d235-1db4-46c3-9f8c-51e01ec11482\", \"parent_id\": \"5f68c428-d00e-4595-b6e6-2459af435632\", \"key\": 1, \"index\": 2, \"source_location\": {\"filename\": \"36135330.py\", \"filepath\": \"/private/var/folders/wr/5n6v6bvj6mxdxjcg5_5ss1ph0000gn/T/ipykernel_26234/36135330.py\", \"line\": 6}, \"value\": \"\\n\\nExamples:\\n\"}, {\"type\": \"list\", \"id\": \"86f4758d-86ac-4b37-a3b0-dd3f08c01e4a\", \"parent_id\": \"5f68c428-d00e-4595-b6e6-2459af435632\", \"key\": \"examples\", \"index\": 3, \"source_location\": {\"filename\": \"36135330.py\", \"filepath\": \"/private/var/folders/wr/5n6v6bvj6mxdxjcg5_5ss1ph0000gn/T/ipykernel_26234/36135330.py\", \"line\": 6}, \"expression\": \"examples\", \"conversion\": null, \"format_spec\": \"examples\", \"render_hints\": \"\", \"separator\": \"\\n\", \"children\": [{\"type\": \"nested_prompt\", \"id\": \"d6ffb6a0-eb1e-4016-880c-f02cf2fda3d7\", \"parent_id\": \"86f4758d-86ac-4b37-a3b0-dd3f08c01e4a\", \"key\": 0, \"index\": 3, \"source_location\": {\"filename\": \"36135330.py\", \"filepath\": \"/private/var/folders/wr/5n6v6bvj6mxdxjcg5_5ss1ph0000gn/T/ipykernel_26234/36135330.py\", \"line\": 6}, \"expression\": \"[0]\", \"conversion\": null, \"format_spec\": \"\", \"render_hints\": \"\", \"prompt_id\": \"d6ffb6a0-eb1e-4016-880c-f02cf2fda3d7\", \"creation_location\": {\"filename\": \"36135330.py\", \"filepath\": \"/private/var/folders/wr/5n6v6bvj6mxdxjcg5_5ss1ph0000gn/T/ipykernel_26234/36135330.py\", \"line\": 3}, \"children\": [{\"type\": \"static\", \"id\": \"ae6b3804-872e-4cb7-beb6-2f412295e6c9\", \"parent_id\": \"d6ffb6a0-eb1e-4016-880c-f02cf2fda3d7\", \"key\": 0, \"index\": 0, \"source_location\": {\"filename\": \"36135330.py\", \"filepath\": \"/private/var/folders/wr/5n6v6bvj6mxdxjcg5_5ss1ph0000gn/T/ipykernel_26234/36135330.py\", \"line\": 3}, \"value\": \"Example \"}, {\"type\": \"interpolation\", \"id\": \"f2b8bd72-6af4-4763-9912-3b2f9526f468\", \"parent_id\": \"d6ffb6a0-eb1e-4016-880c-f02cf2fda3d7\", \"key\": \"0\", \"index\": 1, \"source_location\": {\"filename\": \"36135330.py\", \"filepath\": \"/private/var/folders/wr/5n6v6bvj6mxdxjcg5_5ss1ph0000gn/T/ipykernel_26234/36135330.py\", \"line\": 3}, \"expression\": \"str(i)\", \"conversion\": null, \"format_spec\": \"0\", \"render_hints\": \"\", \"value\": \"0\"}, {\"type\": \"static\", \"id\": \"a3142ff6-a36e-4780-9c45-82b87b52d774\", \"parent_id\": \"d6ffb6a0-eb1e-4016-880c-f02cf2fda3d7\", \"key\": 1, \"index\": 2, \"source_location\": {\"filename\": \"36135330.py\", \"filepath\": \"/private/var/folders/wr/5n6v6bvj6mxdxjcg5_5ss1ph0000gn/T/ipykernel_26234/36135330.py\", \"line\": 3}, \"value\": \"\"}]}, {\"type\": \"nested_prompt\", \"id\": \"3555f3e7-395e-4a66-90cc-a78e796503f8\", \"parent_id\": \"86f4758d-86ac-4b37-a3b0-dd3f08c01e4a\", \"key\": 1, \"index\": 3, \"source_location\": {\"filename\": \"36135330.py\", \"filepath\": \"/private/var/folders/wr/5n6v6bvj6mxdxjcg5_5ss1ph0000gn/T/ipykernel_26234/36135330.py\", \"line\": 6}, \"expression\": \"[1]\", \"conversion\": null, \"format_spec\": \"\", \"render_hints\": \"\", \"prompt_id\": \"3555f3e7-395e-4a66-90cc-a78e796503f8\", \"creation_location\": {\"filename\": \"36135330.py\", \"filepath\": \"/private/var/folders/wr/5n6v6bvj6mxdxjcg5_5ss1ph0000gn/T/ipykernel_26234/36135330.py\", \"line\": 3}, \"children\": [{\"type\": \"static\", \"id\": \"d43250fe-ba95-42f3-ac3c-e55f8a347914\", \"parent_id\": \"3555f3e7-395e-4a66-90cc-a78e796503f8\", \"key\": 0, \"index\": 0, \"source_location\": {\"filename\": \"36135330.py\", \"filepath\": \"/private/var/folders/wr/5n6v6bvj6mxdxjcg5_5ss1ph0000gn/T/ipykernel_26234/36135330.py\", \"line\": 3}, \"value\": \"Example \"}, {\"type\": \"interpolation\", \"id\": \"50cd7d49-1610-4d50-b0bc-6b959976e08b\", \"parent_id\": \"3555f3e7-395e-4a66-90cc-a78e796503f8\", \"key\": \"1\", \"index\": 1, \"source_location\": {\"filename\": \"36135330.py\", \"filepath\": \"/private/var/folders/wr/5n6v6bvj6mxdxjcg5_5ss1ph0000gn/T/ipykernel_26234/36135330.py\", \"line\": 3}, \"expression\": \"str(i)\", \"conversion\": null, \"format_spec\": \"1\", \"render_hints\": \"\", \"value\": \"1\"}, {\"type\": \"static\", \"id\": \"a54c78a2-f272-4202-a3e7-cfe0abf2d9db\", \"parent_id\": \"3555f3e7-395e-4a66-90cc-a78e796503f8\", \"key\": 1, \"index\": 2, \"source_location\": {\"filename\": \"36135330.py\", \"filepath\": \"/private/var/folders/wr/5n6v6bvj6mxdxjcg5_5ss1ph0000gn/T/ipykernel_26234/36135330.py\", \"line\": 3}, \"value\": \"\"}]}, {\"type\": \"nested_prompt\", \"id\": \"83dc916a-877a-4439-9200-6f2dff84b1f3\", \"parent_id\": \"86f4758d-86ac-4b37-a3b0-dd3f08c01e4a\", \"key\": 2, \"index\": 3, \"source_location\": {\"filename\": \"36135330.py\", \"filepath\": \"/private/var/folders/wr/5n6v6bvj6mxdxjcg5_5ss1ph0000gn/T/ipykernel_26234/36135330.py\", \"line\": 6}, \"expression\": \"[2]\", \"conversion\": null, \"format_spec\": \"\", \"render_hints\": \"\", \"prompt_id\": \"83dc916a-877a-4439-9200-6f2dff84b1f3\", \"creation_location\": {\"filename\": \"36135330.py\", \"filepath\": \"/private/var/folders/wr/5n6v6bvj6mxdxjcg5_5ss1ph0000gn/T/ipykernel_26234/36135330.py\", \"line\": 3}, \"children\": [{\"type\": \"static\", \"id\": \"39bdae7c-ca4e-41ae-a6dc-7da46552dfc4\", \"parent_id\": \"83dc916a-877a-4439-9200-6f2dff84b1f3\", \"key\": 0, \"index\": 0, \"source_location\": {\"filename\": \"36135330.py\", \"filepath\": \"/private/var/folders/wr/5n6v6bvj6mxdxjcg5_5ss1ph0000gn/T/ipykernel_26234/36135330.py\", \"line\": 3}, \"value\": \"Example \"}, {\"type\": \"interpolation\", \"id\": \"9c88d4fa-b9d6-474c-87cf-840fc5c98044\", \"parent_id\": \"83dc916a-877a-4439-9200-6f2dff84b1f3\", \"key\": \"2\", \"index\": 1, \"source_location\": {\"filename\": \"36135330.py\", \"filepath\": \"/private/var/folders/wr/5n6v6bvj6mxdxjcg5_5ss1ph0000gn/T/ipykernel_26234/36135330.py\", \"line\": 3}, \"expression\": \"str(i)\", \"conversion\": null, \"format_spec\": \"2\", \"render_hints\": \"\", \"value\": \"2\"}, {\"type\": \"static\", \"id\": \"697cfd04-fa43-4851-af6d-87eb7b43137c\", \"parent_id\": \"83dc916a-877a-4439-9200-6f2dff84b1f3\", \"key\": 1, \"index\": 2, \"source_location\": {\"filename\": \"36135330.py\", \"filepath\": \"/private/var/folders/wr/5n6v6bvj6mxdxjcg5_5ss1ph0000gn/T/ipykernel_26234/36135330.py\", \"line\": 3}, \"value\": \"\"}]}]}, {\"type\": \"static\", \"id\": \"2dd6130f-13e8-41db-a918-11955a43dc88\", \"parent_id\": \"5f68c428-d00e-4595-b6e6-2459af435632\", \"key\": 2, \"index\": 4, \"source_location\": {\"filename\": \"36135330.py\", \"filepath\": \"/private/var/folders/wr/5n6v6bvj6mxdxjcg5_5ss1ph0000gn/T/ipykernel_26234/36135330.py\", \"line\": 6}, \"value\": \"\\n\\nImage reference: \"}, {\"type\": \"image\", \"id\": \"91e9c005-c7ec-4724-8492-00553f54bb10\", \"parent_id\": \"5f68c428-d00e-4595-b6e6-2459af435632\", \"key\": \"img\", \"index\": 5, \"source_location\": {\"filename\": \"36135330.py\", \"filepath\": \"/private/var/folders/wr/5n6v6bvj6mxdxjcg5_5ss1ph0000gn/T/ipykernel_26234/36135330.py\", \"line\": 6}, \"expression\": \"img2\", \"conversion\": null, \"format_spec\": \"img\", \"render_hints\": \"\", \"image_data\": {\"base64_data\": \"iVBORw0KGgoAAAANSUhEUgAAADIAAAAyCAIAAACRXR/mAAAAZklEQVR4nM3OMQEAMAyAMIZ/z52B/iUK8oYiSZIkSZIkSZIkSZIkSZIkSZIkSZIkSZIkSZIkSZIkSZIkSZIkSZIkSZIkSZIkSZIkSZIkSZIkSZIkSZIkSZIkSZIkSZIkSZIkrwO7D0GqAWPcq78HAAAAAElFTkSuQmCC\", \"format\": \"PNG\", \"width\": 50, \"height\": 50, \"mode\": \"RGB\"}}, {\"type\": \"static\", \"id\": \"02c84ca3-843b-4653-99cd-0d2e0c2c66a0\", \"parent_id\": \"5f68c428-d00e-4595-b6e6-2459af435632\", \"key\": 3, \"index\": 6, \"source_location\": {\"filename\": \"36135330.py\", \"filepath\": \"/private/var/folders/wr/5n6v6bvj6mxdxjcg5_5ss1ph0000gn/T/ipykernel_26234/36135330.py\", \"line\": 6}, \"value\": \"\\n\\nConclusion: This demonstrates all widget features working together.\"}]}, \"config\": {\"wrapping\": true, \"sourcePrefix\": \"/Users/nehal/src/structured-prompts/docs/demos\"}}</script>\n",
       "    <div class=\"tp-widget-mount\"></div>\n",
       "</div>\n"
      ],
      "text/plain": [
       "StructuredPrompt(keys=['intro', 'examples', 'img'], num_interpolations=3)"
      ]
     },
     "execution_count": 7,
     "metadata": {},
     "output_type": "execute_result"
    }
   ],
   "source": [
    "# Combine everything\n",
    "intro = \"This is a comprehensive test\"\n",
    "examples = [prompt(t\"Example {str(i):{i}}\") for i in range(3)]\n",
    "img2 = Image.new('RGB', (50, 50), color='red')\n",
    "\n",
    "p6 = dedent(t\"\"\"\n",
    "    Introduction: {intro:intro}\n",
    "\n",
    "    Examples:\n",
    "    {examples:examples}\n",
    "\n",
    "    Image reference: {img2:img}\n",
    "\n",
    "    Conclusion: This demonstrates all widget features working together.\n",
    "    \"\"\")\n",
    "\n",
    "p6"
   ]
  }
 ],
 "metadata": {
  "kernelspec": {
   "display_name": "structured-prompts",
   "language": "python",
   "name": "python3"
  },
  "language_info": {
   "codemirror_mode": {
    "name": "ipython",
    "version": 3
   },
   "file_extension": ".py",
   "mimetype": "text/x-python",
   "name": "python",
   "nbconvert_exporter": "python",
   "pygments_lexer": "ipython3",
   "version": "3.14.0"
  }
 },
 "nbformat": 4,
 "nbformat_minor": 4
}
