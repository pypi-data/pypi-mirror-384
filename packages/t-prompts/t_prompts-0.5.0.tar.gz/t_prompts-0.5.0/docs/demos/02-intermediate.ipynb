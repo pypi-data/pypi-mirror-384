{
 "cells": [
  {
   "cell_type": "markdown",
   "metadata": {},
   "source": [
    "# Intermediate Tutorial: Composition and Navigation\n",
    "\n",
    "This tutorial covers composing prompts from smaller pieces, navigating nested structures, and exporting provenance data."
   ]
  },
  {
   "cell_type": "code",
   "execution_count": 1,
   "metadata": {
    "execution": {
     "iopub.execute_input": "2025-10-14T11:52:01.365317Z",
     "iopub.status.busy": "2025-10-14T11:52:01.365224Z",
     "iopub.status.idle": "2025-10-14T11:52:01.384075Z",
     "shell.execute_reply": "2025-10-14T11:52:01.383758Z"
    }
   },
   "outputs": [],
   "source": [
    "from t_prompts import prompt"
   ]
  },
  {
   "cell_type": "markdown",
   "metadata": {},
   "source": [
    "## Nested Prompts\n",
    "\n",
    "You can build larger prompts by composing smaller `StructuredPrompt` objects together."
   ]
  },
  {
   "cell_type": "code",
   "execution_count": 2,
   "metadata": {
    "execution": {
     "iopub.execute_input": "2025-10-14T11:52:01.385810Z",
     "iopub.status.busy": "2025-10-14T11:52:01.385700Z",
     "iopub.status.idle": "2025-10-14T11:52:01.388791Z",
     "shell.execute_reply": "2025-10-14T11:52:01.388323Z"
    }
   },
   "outputs": [
    {
     "name": "stdout",
     "output_type": "stream",
     "text": [
      "You are a helpful assistant. User: What is Python?\n"
     ]
    }
   ],
   "source": [
    "# Build prompts from smaller pieces\n",
    "system_msg = \"You are a helpful assistant.\"\n",
    "user_query = \"What is Python?\"\n",
    "\n",
    "p_system = prompt(t\"{system_msg:system}\")\n",
    "p_user = prompt(t\"User: {user_query:query}\")\n",
    "\n",
    "# Compose into larger prompt\n",
    "p_full = prompt(t\"{p_system:sys} {p_user:usr}\")\n",
    "\n",
    "# Renders correctly\n",
    "print(str(p_full))"
   ]
  },
  {
   "cell_type": "markdown",
   "metadata": {},
   "source": [
    "## Navigating Nested Structures\n",
    "\n",
    "Access nested interpolations using chained subscript operations."
   ]
  },
  {
   "cell_type": "code",
   "execution_count": 3,
   "metadata": {
    "execution": {
     "iopub.execute_input": "2025-10-14T11:52:01.414227Z",
     "iopub.status.busy": "2025-10-14T11:52:01.414103Z",
     "iopub.status.idle": "2025-10-14T11:52:01.416178Z",
     "shell.execute_reply": "2025-10-14T11:52:01.415934Z"
    }
   },
   "outputs": [
    {
     "name": "stdout",
     "output_type": "stream",
     "text": [
      "System message: You are a helpful assistant.\n",
      "User query: What is Python?\n",
      "\n",
      "Nested prompt type: <class 't_prompts.core.StructuredPrompt'>\n",
      "Nested prompt text: You are a helpful assistant.\n"
     ]
    }
   ],
   "source": [
    "# Navigate the tree\n",
    "print(f\"System message: {p_full['sys']['system'].value}\")\n",
    "print(f\"User query: {p_full['usr']['query'].value}\")\n",
    "\n",
    "# Get the nested prompt itself\n",
    "nested = p_full['sys'].value\n",
    "print(f\"\\nNested prompt type: {type(nested)}\")\n",
    "print(f\"Nested prompt text: {str(nested)}\")"
   ]
  },
  {
   "cell_type": "markdown",
   "metadata": {},
   "source": [
    "## Conversions: !s, !r, !a\n",
    "\n",
    "t-strings support conversion flags from Python's string formatting."
   ]
  },
  {
   "cell_type": "code",
   "execution_count": 4,
   "metadata": {
    "execution": {
     "iopub.execute_input": "2025-10-14T11:52:01.417454Z",
     "iopub.status.busy": "2025-10-14T11:52:01.417359Z",
     "iopub.status.idle": "2025-10-14T11:52:01.420406Z",
     "shell.execute_reply": "2025-10-14T11:52:01.420153Z"
    }
   },
   "outputs": [
    {
     "name": "stdout",
     "output_type": "stream",
     "text": [
      "!s: Hello\n",
      "World\n",
      "!r: 'Hello\\nWorld'\n",
      "!a: 'Hello \\U0001f44b'\n",
      "\n",
      "Conversion for 'r': r\n"
     ]
    }
   ],
   "source": [
    "text = \"Hello\\nWorld\"\n",
    "\n",
    "# !s: str() conversion (default)\n",
    "p_s = prompt(t\"{text!s:s}\")\n",
    "print(f\"!s: {str(p_s)}\")\n",
    "\n",
    "# !r: repr() conversion\n",
    "p_r = prompt(t\"{text!r:r}\")\n",
    "print(f\"!r: {str(p_r)}\")\n",
    "\n",
    "# !a: ascii() conversion\n",
    "emoji = \"Hello 👋\"\n",
    "p_a = prompt(t\"{emoji!a:a}\")\n",
    "print(f\"!a: {str(p_a)}\")\n",
    "\n",
    "# Conversion is preserved in metadata\n",
    "print(f\"\\nConversion for 'r': {p_r['r'].conversion}\")"
   ]
  },
  {
   "cell_type": "markdown",
   "metadata": {},
   "source": [
    "## Mapping Protocol\n",
    "\n",
    "`StructuredPrompt` implements the mapping protocol: `keys()`, `values()`, `items()`, `get()`, etc."
   ]
  },
  {
   "cell_type": "code",
   "execution_count": 5,
   "metadata": {
    "execution": {
     "iopub.execute_input": "2025-10-14T11:52:01.421680Z",
     "iopub.status.busy": "2025-10-14T11:52:01.421585Z",
     "iopub.status.idle": "2025-10-14T11:52:01.424293Z",
     "shell.execute_reply": "2025-10-14T11:52:01.424003Z"
    }
   },
   "outputs": [
    {
     "name": "stdout",
     "output_type": "stream",
     "text": [
      "Keys: ['n', 'a', 'c']\n",
      "\n",
      "Values:\n",
      "  n: Alice\n",
      "  a: 30\n",
      "  c: NYC\n",
      "\n",
      "Items:\n",
      "  n -> name = Alice\n",
      "  a -> age = 30\n",
      "  c -> city = NYC\n",
      "\n",
      "get('n'): Alice\n",
      "get('missing'): None\n"
     ]
    }
   ],
   "source": [
    "name = \"Alice\"\n",
    "age = \"30\"\n",
    "city = \"NYC\"\n",
    "\n",
    "p = prompt(t\"Name: {name:n}, Age: {age:a}, City: {city:c}\")\n",
    "\n",
    "# Keys\n",
    "print(f\"Keys: {list(p.keys())}\")\n",
    "\n",
    "# Values (returns StructuredInterpolation nodes)\n",
    "print(\"\\nValues:\")\n",
    "for node in p.values():\n",
    "    print(f\"  {node.key}: {node.value}\")\n",
    "\n",
    "# Items\n",
    "print(\"\\nItems:\")\n",
    "for key, node in p.items():\n",
    "    print(f\"  {key} -> {node.expression} = {node.value}\")\n",
    "\n",
    "# get() with default\n",
    "print(f\"\\nget('n'): {p.get('n').value}\")\n",
    "print(f\"get('missing'): {p.get('missing')}\")"
   ]
  },
  {
   "cell_type": "markdown",
   "metadata": {},
   "source": [
    "## Exporting to Values\n",
    "\n",
    "Use `to_values()` to export just the key-value pairs (useful for logging or serialization)."
   ]
  },
  {
   "cell_type": "code",
   "execution_count": 6,
   "metadata": {
    "execution": {
     "iopub.execute_input": "2025-10-14T11:52:01.425452Z",
     "iopub.status.busy": "2025-10-14T11:52:01.425377Z",
     "iopub.status.idle": "2025-10-14T11:52:01.427123Z",
     "shell.execute_reply": "2025-10-14T11:52:01.426917Z"
    }
   },
   "outputs": [
    {
     "name": "stdout",
     "output_type": "stream",
     "text": [
      "{\n",
      "  \"ctx\": \"User is Alice\",\n",
      "  \"inst\": \"Be concise\"\n",
      "}\n"
     ]
    }
   ],
   "source": [
    "import json\n",
    "\n",
    "context = \"User is Alice\"\n",
    "instructions = \"Be concise\"\n",
    "\n",
    "p = prompt(t\"Context: {context:ctx}. {instructions:inst}\")\n",
    "\n",
    "# Export to dictionary\n",
    "values = p.to_values()\n",
    "print(json.dumps(values, indent=2))"
   ]
  },
  {
   "cell_type": "markdown",
   "metadata": {},
   "source": [
    "## Exporting Full Provenance\n",
    "\n",
    "Use `to_provenance()` to export complete metadata including expressions, conversions, and format specs."
   ]
  },
  {
   "cell_type": "code",
   "execution_count": 7,
   "metadata": {
    "execution": {
     "iopub.execute_input": "2025-10-14T11:52:01.428528Z",
     "iopub.status.busy": "2025-10-14T11:52:01.428457Z",
     "iopub.status.idle": "2025-10-14T11:52:01.430065Z",
     "shell.execute_reply": "2025-10-14T11:52:01.429792Z"
    }
   },
   "outputs": [
    {
     "name": "stdout",
     "output_type": "stream",
     "text": [
      "{\n",
      "  \"strings\": [\n",
      "    \"Context: \",\n",
      "    \". \",\n",
      "    \"\"\n",
      "  ],\n",
      "  \"nodes\": [\n",
      "    {\n",
      "      \"key\": \"ctx\",\n",
      "      \"expression\": \"context\",\n",
      "      \"conversion\": null,\n",
      "      \"format_spec\": \"ctx\",\n",
      "      \"render_hints\": \"\",\n",
      "      \"index\": 1,\n",
      "      \"value\": \"User is Alice\"\n",
      "    },\n",
      "    {\n",
      "      \"key\": \"inst\",\n",
      "      \"expression\": \"instructions\",\n",
      "      \"conversion\": null,\n",
      "      \"format_spec\": \"inst\",\n",
      "      \"render_hints\": \"\",\n",
      "      \"index\": 3,\n",
      "      \"value\": \"Be concise\"\n",
      "    }\n",
      "  ]\n",
      "}\n"
     ]
    }
   ],
   "source": [
    "# Export full provenance\n",
    "provenance = p.to_provenance()\n",
    "print(json.dumps(provenance, indent=2))"
   ]
  },
  {
   "cell_type": "markdown",
   "metadata": {},
   "source": [
    "## Nested Provenance\n",
    "\n",
    "Provenance export works recursively for nested prompts."
   ]
  },
  {
   "cell_type": "code",
   "execution_count": 8,
   "metadata": {
    "execution": {
     "iopub.execute_input": "2025-10-14T11:52:01.431257Z",
     "iopub.status.busy": "2025-10-14T11:52:01.431163Z",
     "iopub.status.idle": "2025-10-14T11:52:01.433026Z",
     "shell.execute_reply": "2025-10-14T11:52:01.432791Z"
    }
   },
   "outputs": [
    {
     "name": "stdout",
     "output_type": "stream",
     "text": [
      "{\n",
      "  \"strings\": [\n",
      "    \"Outer: \",\n",
      "    \". \",\n",
      "    \"\"\n",
      "  ],\n",
      "  \"nodes\": [\n",
      "    {\n",
      "      \"key\": \"in\",\n",
      "      \"expression\": \"inner\",\n",
      "      \"conversion\": null,\n",
      "      \"format_spec\": \"in\",\n",
      "      \"render_hints\": \"\",\n",
      "      \"index\": 1,\n",
      "      \"value\": {\n",
      "        \"strings\": [\n",
      "          \"\",\n",
      "          \"\"\n",
      "        ],\n",
      "        \"nodes\": [\n",
      "          {\n",
      "            \"key\": \"ctx\",\n",
      "            \"expression\": \"context\",\n",
      "            \"conversion\": null,\n",
      "            \"format_spec\": \"ctx\",\n",
      "            \"render_hints\": \"\",\n",
      "            \"index\": 1,\n",
      "            \"value\": \"User is Alice\"\n",
      "          }\n",
      "        ]\n",
      "      }\n",
      "    },\n",
      "    {\n",
      "      \"key\": \"inst\",\n",
      "      \"expression\": \"instructions\",\n",
      "      \"conversion\": null,\n",
      "      \"format_spec\": \"inst\",\n",
      "      \"render_hints\": \"\",\n",
      "      \"index\": 3,\n",
      "      \"value\": \"Be concise\"\n",
      "    }\n",
      "  ]\n",
      "}\n"
     ]
    }
   ],
   "source": [
    "# Create nested structure\n",
    "inner = prompt(t\"{context:ctx}\")\n",
    "outer = prompt(t\"Outer: {inner:in}. {instructions:inst}\")\n",
    "\n",
    "# Export nested provenance\n",
    "nested_prov = outer.to_provenance()\n",
    "print(json.dumps(nested_prov, indent=2))"
   ]
  },
  {
   "cell_type": "markdown",
   "metadata": {},
   "source": [
    "## Introspection\n",
    "\n",
    "You can inspect the structure of a prompt to understand its composition."
   ]
  },
  {
   "cell_type": "code",
   "execution_count": 9,
   "metadata": {
    "execution": {
     "iopub.execute_input": "2025-10-14T11:52:01.434101Z",
     "iopub.status.busy": "2025-10-14T11:52:01.434035Z",
     "iopub.status.idle": "2025-10-14T11:52:01.436289Z",
     "shell.execute_reply": "2025-10-14T11:52:01.435995Z"
    }
   },
   "outputs": [
    {
     "name": "stdout",
     "output_type": "stream",
     "text": [
      "in: inner (nested)\n",
      "  ctx: context = \"User is Alice\"\n",
      "inst: instructions = \"Be concise\"\n"
     ]
    }
   ],
   "source": [
    "def inspect_prompt(p, indent=0):\n",
    "    \"\"\"Recursively inspect a structured prompt.\"\"\"\n",
    "    prefix = \"  \" * indent\n",
    "    for key, node in p.items():\n",
    "        if isinstance(node.value, str):\n",
    "            print(f\"{prefix}{key}: {node.expression} = \\\"{node.value}\\\"\")\n",
    "        else:  # Nested StructuredPrompt\n",
    "            print(f\"{prefix}{key}: {node.expression} (nested)\")\n",
    "            inspect_prompt(node.value, indent + 1)\n",
    "\n",
    "inspect_prompt(outer)"
   ]
  },
  {
   "cell_type": "markdown",
   "metadata": {},
   "source": [
    "## Next Steps\n",
    "\n",
    "Explore the topic notebooks for deep dives:\n",
    "\n",
    "- **Few-Shot Prompts**: Building lists of examples with dynamic keys\n",
    "- **Source Mapping**: Bidirectional text ↔ structure mapping\n",
    "- **Format Spec Mini-Language**: Custom keys and render hints\n",
    "- **Advanced Composition**: Complex nested structures and patterns"
   ]
  }
 ],
 "metadata": {
  "kernelspec": {
   "display_name": "Python 3",
   "language": "python",
   "name": "python3"
  },
  "language_info": {
   "codemirror_mode": {
    "name": "ipython",
    "version": 3
   },
   "file_extension": ".py",
   "mimetype": "text/x-python",
   "name": "python",
   "nbconvert_exporter": "python",
   "pygments_lexer": "ipython3",
   "version": "3.14.0"
  }
 },
 "nbformat": 4,
 "nbformat_minor": 2
}
