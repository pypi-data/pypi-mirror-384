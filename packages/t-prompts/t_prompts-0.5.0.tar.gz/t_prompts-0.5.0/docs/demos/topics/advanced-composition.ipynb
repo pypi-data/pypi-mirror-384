{
 "cells": [
  {
   "cell_type": "markdown",
   "metadata": {},
   "source": [
    "# Advanced Composition\n",
    "\n",
    "Learn advanced patterns for composing complex prompts from modular pieces."
   ]
  },
  {
   "cell_type": "code",
   "execution_count": 1,
   "metadata": {
    "execution": {
     "iopub.execute_input": "2025-10-14T11:52:12.945320Z",
     "iopub.status.busy": "2025-10-14T11:52:12.945092Z",
     "iopub.status.idle": "2025-10-14T11:52:12.969754Z",
     "shell.execute_reply": "2025-10-14T11:52:12.969432Z"
    }
   },
   "outputs": [],
   "source": [
    "import json\n",
    "\n",
    "from t_prompts import prompt"
   ]
  },
  {
   "cell_type": "markdown",
   "metadata": {},
   "source": [
    "## Building Prompt Libraries\n",
    "\n",
    "Create reusable prompt components that can be composed together."
   ]
  },
  {
   "cell_type": "code",
   "execution_count": 2,
   "metadata": {
    "execution": {
     "iopub.execute_input": "2025-10-14T11:52:12.971487Z",
     "iopub.status.busy": "2025-10-14T11:52:12.971388Z",
     "iopub.status.idle": "2025-10-14T11:52:12.973946Z",
     "shell.execute_reply": "2025-10-14T11:52:12.973689Z"
    }
   },
   "outputs": [
    {
     "name": "stdout",
     "output_type": "stream",
     "text": [
      "You are a helpful assistant.\n",
      "\n",
      "User: What is Python?\n"
     ]
    }
   ],
   "source": [
    "# Create a library of system prompts\n",
    "SYSTEM_PROMPTS = {\n",
    "    'helpful': prompt(t\"{'You are a helpful assistant.':system}\"),\n",
    "    'concise': prompt(t\"{'Be concise and direct.':system}\"),\n",
    "    'polite': prompt(t\"{'Always be polite and respectful.':system}\")\n",
    "}\n",
    "\n",
    "# Use them\n",
    "query = \"What is Python?\"\n",
    "full = prompt(t\"{SYSTEM_PROMPTS['helpful']:sys}\\n\\nUser: {query:q}\")\n",
    "print(str(full))"
   ]
  },
  {
   "cell_type": "markdown",
   "metadata": {},
   "source": [
    "## Multi-Level Nesting\n",
    "\n",
    "Build deeply nested structures for complex prompts."
   ]
  },
  {
   "cell_type": "code",
   "execution_count": 3,
   "metadata": {
    "execution": {
     "iopub.execute_input": "2025-10-14T11:52:12.998553Z",
     "iopub.status.busy": "2025-10-14T11:52:12.998414Z",
     "iopub.status.idle": "2025-10-14T11:52:13.001402Z",
     "shell.execute_reply": "2025-10-14T11:52:13.001102Z"
    }
   },
   "outputs": [
    {
     "name": "stdout",
     "output_type": "stream",
     "text": [
      "Task: Write a short bio\n",
      "Context: Name: Alice, Age: 30 lives in Paris\n",
      "\n",
      "Navigate nested structure:\n",
      "  Name: Alice\n",
      "  Age: 30\n",
      "  City: Paris\n"
     ]
    }
   ],
   "source": [
    "# Level 1: Basic facts\n",
    "name = \"Alice\"\n",
    "age = \"30\"\n",
    "person = prompt(t\"Name: {name:n}, Age: {age:a}\")\n",
    "\n",
    "# Level 2: Context\n",
    "city = \"Paris\"\n",
    "context = prompt(t\"{person:person} lives in {city:c}\")\n",
    "\n",
    "# Level 3: Full prompt\n",
    "task = \"Write a short bio\"\n",
    "full = prompt(t\"Task: {task:t}\\nContext: {context:ctx}\")\n",
    "\n",
    "print(str(full))\n",
    "print(\"\\nNavigate nested structure:\")\n",
    "print(f\"  Name: {full['ctx']['person']['n'].value}\")\n",
    "print(f\"  Age: {full['ctx']['person']['a'].value}\")\n",
    "print(f\"  City: {full['ctx']['c'].value}\")"
   ]
  },
  {
   "cell_type": "markdown",
   "metadata": {},
   "source": [
    "## Conditional Composition\n",
    "\n",
    "Build prompts conditionally based on runtime data."
   ]
  },
  {
   "cell_type": "code",
   "execution_count": 4,
   "metadata": {
    "execution": {
     "iopub.execute_input": "2025-10-14T11:52:13.002733Z",
     "iopub.status.busy": "2025-10-14T11:52:13.002633Z",
     "iopub.status.idle": "2025-10-14T11:52:13.005220Z",
     "shell.execute_reply": "2025-10-14T11:52:13.004969Z"
    }
   },
   "outputs": [
    {
     "name": "stdout",
     "output_type": "stream",
     "text": [
      "Minimal:\n",
      "Query: What is 5+3?\n",
      "\n",
      "With everything:\n",
      "Query: What is 5+3?Example: 2+2=4Keep response under 50 words\n"
     ]
    }
   ],
   "source": [
    "def build_prompt_with_context(query, include_examples=False, include_constraints=False):\n",
    "    \"\"\"Build a prompt with optional sections.\"\"\"\n",
    "    parts = []\n",
    "\n",
    "    # Always include the query\n",
    "    parts.append(prompt(t\"Query: {query:q}\"))\n",
    "\n",
    "    # Optionally include examples\n",
    "    if include_examples:\n",
    "        examples = \"Example: 2+2=4\"\n",
    "        parts.append(prompt(t\"\\n{examples:ex}\"))\n",
    "\n",
    "    # Optionally include constraints\n",
    "    if include_constraints:\n",
    "        constraints = \"Keep response under 50 words\"\n",
    "        parts.append(prompt(t\"\\n{constraints:constraints}\"))\n",
    "\n",
    "    # Combine all parts into a list and interpolate\n",
    "    return prompt(t\"{parts:parts:sep=}\")\n",
    "\n",
    "# Try different combinations\n",
    "p1 = build_prompt_with_context(\"What is 5+3?\")\n",
    "print(\"Minimal:\")\n",
    "print(str(p1))\n",
    "\n",
    "p2 = build_prompt_with_context(\"What is 5+3?\", include_examples=True, include_constraints=True)\n",
    "print(\"\\nWith everything:\")\n",
    "print(str(p2))"
   ]
  },
  {
   "cell_type": "markdown",
   "metadata": {},
   "source": [
    "## Prompt Templates with Slots\n",
    "\n",
    "Create templates that can be filled in with specific values."
   ]
  },
  {
   "cell_type": "code",
   "execution_count": 5,
   "metadata": {
    "execution": {
     "iopub.execute_input": "2025-10-14T11:52:13.006441Z",
     "iopub.status.busy": "2025-10-14T11:52:13.006346Z",
     "iopub.status.idle": "2025-10-14T11:52:13.008728Z",
     "shell.execute_reply": "2025-10-14T11:52:13.008498Z"
    }
   },
   "outputs": [
    {
     "name": "stdout",
     "output_type": "stream",
     "text": [
      "Translate to French\n",
      "Context: Maintain the original tone and style.\n",
      "Text: Hello, world!\n",
      "\n",
      "Keys: ['t', 'c', 'txt']\n"
     ]
    }
   ],
   "source": [
    "def create_translation_prompt(text, target_lang, include_context=True):\n",
    "    \"\"\"Template for translation prompts.\"\"\"\n",
    "    task = f\"Translate to {target_lang}\"\n",
    "    p_task = prompt(t\"{task:task}\")\n",
    "    p_text = prompt(t\"Text: {text:text}\")\n",
    "\n",
    "    if include_context:\n",
    "        context = \"Maintain the original tone and style.\"\n",
    "        p_context = prompt(t\"Context: {context:ctx}\")\n",
    "        return prompt(t\"{p_task:t}\\n{p_context:c}\\n{p_text:txt}\")\n",
    "    else:\n",
    "        return prompt(t\"{p_task:t}\\n{p_text:txt}\")\n",
    "\n",
    "# Use the template\n",
    "p = create_translation_prompt(\"Hello, world!\", \"French\")\n",
    "print(str(p))\n",
    "print(\"\\nKeys:\", list(p.keys()))"
   ]
  },
  {
   "cell_type": "markdown",
   "metadata": {},
   "source": [
    "## Combining Lists and Nesting\n",
    "\n",
    "Use lists within nested prompts for maximum flexibility."
   ]
  },
  {
   "cell_type": "code",
   "execution_count": 6,
   "metadata": {
    "execution": {
     "iopub.execute_input": "2025-10-14T11:52:13.009914Z",
     "iopub.status.busy": "2025-10-14T11:52:13.009830Z",
     "iopub.status.idle": "2025-10-14T11:52:13.012223Z",
     "shell.execute_reply": "2025-10-14T11:52:13.011921Z"
    }
   },
   "outputs": [
    {
     "name": "stdout",
     "output_type": "stream",
     "text": [
      "Based on these examples, describe programming languages briefly.\n",
      "\n",
      "Examples:\n",
      "Python is a language\n",
      "JavaScript runs in browsers\n",
      "Rust is memory-safe\n",
      "\n",
      "Access nested list:\n",
      "Number of examples: 3\n",
      "First example: Python is a language\n"
     ]
    }
   ],
   "source": [
    "# Create a list of examples\n",
    "examples = [\n",
    "    prompt(t\"{ex:ex}\")\n",
    "    for ex in [\"Python is a language\", \"JavaScript runs in browsers\", \"Rust is memory-safe\"]\n",
    "]\n",
    "\n",
    "# Wrap the examples in a section\n",
    "examples_section = prompt(t\"Examples:\\n{examples:examples}\")\n",
    "\n",
    "# Create the full prompt with the nested section\n",
    "instruction = \"Based on these examples, describe programming languages briefly.\"\n",
    "full = prompt(t\"{instruction:inst}\\n\\n{examples_section:ex_section}\")\n",
    "\n",
    "print(str(full))\n",
    "print(\"\\nAccess nested list:\")\n",
    "examples_node = full['ex_section']['examples']\n",
    "print(f\"Number of examples: {len(examples_node)}\")\n",
    "print(f\"First example: {examples_node[0]['ex'].value}\")"
   ]
  },
  {
   "cell_type": "markdown",
   "metadata": {},
   "source": [
    "## Exporting Complex Structures\n",
    "\n",
    "Use `to_provenance()` to export the full structure of complex nested prompts."
   ]
  },
  {
   "cell_type": "code",
   "execution_count": 7,
   "metadata": {
    "execution": {
     "iopub.execute_input": "2025-10-14T11:52:13.013522Z",
     "iopub.status.busy": "2025-10-14T11:52:13.013433Z",
     "iopub.status.idle": "2025-10-14T11:52:13.015252Z",
     "shell.execute_reply": "2025-10-14T11:52:13.015036Z"
    }
   },
   "outputs": [
    {
     "name": "stdout",
     "output_type": "stream",
     "text": [
      "{\n",
      "  \"strings\": [\n",
      "    \"\",\n",
      "    \"\\n\\n\",\n",
      "    \"\"\n",
      "  ],\n",
      "  \"nodes\": [\n",
      "    {\n",
      "      \"key\": \"inst\",\n",
      "      \"expression\": \"instruction\",\n",
      "      \"conversion\": null,\n",
      "      \"format_spec\": \"inst\",\n",
      "      \"render_hints\": \"\",\n",
      "      \"index\": 1,\n",
      "      \"value\": \"Based on these examples, describe programming languages briefly.\"\n",
      "    },\n",
      "    {\n",
      "      \"key\": \"ex_section\",\n",
      "      \"expression\": \"examples_section\",\n",
      "      \"conversion\": null,\n",
      "      \"format_spec\": \"ex_section\",\n",
      "      \"render_hints\": \"\",\n",
      "      \"index\": 3,\n",
      "      \"value\": {\n",
      "        \"strings\": [\n",
      "          \"Examples:\\n\",\n",
      "          \"\"\n",
      "        ],\n",
      "        \"nodes\": [\n",
      "          {\n",
      "            \"key\": \"examples\",\n",
      "            \"expression\": \"examples\",\n",
      "            \"conversion\": null,\n",
      "            \"format_spec\": \"examples\",\n",
      "            \"render_hints\": \"\",\n",
      "            \"index\": 1,\n",
      "            \"value\": [\n",
      "              {\n",
      "                \"strings\": [\n",
      "                  \"\",\n",
      "                  \"\"\n",
      "                ],\n",
      "                \"nodes\": [\n",
      "                  {\n",
      "                    \"key\": \"ex\",\n",
      "                    \"expression\": \"ex\",\n",
      "                    \"conversion\": null,\n",
      "                    \"format_spec\": \"ex\",\n",
      "                    \"render_hints\": \"\",\n",
      "                    \"index\": 1,\n",
      "                    \"value\": \"Python is a language\"\n",
      "                  }\n",
      "                ]\n",
      "              },\n",
      "              {\n",
      "                \"strings\": [\n",
      "                  \"\",\n",
      "                  \"\"\n",
      "                ],\n",
      "                \"nodes\": [\n",
      "                  {\n",
      "                    \"key\": \"ex\",\n",
      "                    \"expression\": \"ex\",\n",
      "                    \"conversion\": null,\n",
      "                    \"format_spec\": \"ex\",\n",
      "                    \"render_hints\": \"\",\n",
      "                    \"index\": 1,\n",
      "                    \"value\": \"JavaScript runs in browsers\"\n",
      "                  }\n",
      "                ]\n",
      "              },\n",
      "              {\n",
      "                \"strings\": [\n",
      "                  \"\",\n",
      "                  \"\"\n",
      "                ],\n",
      "                \"nodes\": [\n",
      "                  {\n",
      "                    \"key\": \"ex\",\n",
      "                    \"expression\": \"ex\",\n",
      "                    \"conversion\": null,\n",
      "                    \"format_spec\": \"ex\",\n",
      "                    \"render_hints\": \"\",\n",
      "                    \"index\": 1,\n",
      "                    \"value\": \"Rust is memory-safe\"\n",
      "                  }\n",
      "                ]\n",
      "              }\n",
      "            ]\n",
      "          }\n",
      "        ]\n",
      "      }\n",
      "    }\n",
      "  ]\n",
      "}\n"
     ]
    }
   ],
   "source": [
    "# Export the complex structure\n",
    "provenance = full.to_provenance()\n",
    "print(json.dumps(provenance, indent=2))"
   ]
  },
  {
   "cell_type": "markdown",
   "metadata": {},
   "source": [
    "## Pattern: Conversation History\n",
    "\n",
    "Build conversation history from a list of messages."
   ]
  },
  {
   "cell_type": "code",
   "execution_count": 8,
   "metadata": {
    "execution": {
     "iopub.execute_input": "2025-10-14T11:52:13.016376Z",
     "iopub.status.busy": "2025-10-14T11:52:13.016308Z",
     "iopub.status.idle": "2025-10-14T11:52:13.018599Z",
     "shell.execute_reply": "2025-10-14T11:52:13.018373Z"
    }
   },
   "outputs": [
    {
     "name": "stdout",
     "output_type": "stream",
     "text": [
      "User: Hello!\n",
      "Assistant: Hi! How can I help?\n",
      "User: What is Python?\n",
      "Assistant: Python is a programming language.\n",
      "\n",
      "Message count: 4\n"
     ]
    }
   ],
   "source": [
    "def build_conversation(messages):\n",
    "    \"\"\"Build a conversation prompt from a list of (role, content) tuples.\"\"\"\n",
    "    message_prompts = []\n",
    "    for i, (role, content) in enumerate(messages):\n",
    "        msg = prompt(t\"{role}: {content: msg_{i} }\")\n",
    "        message_prompts.append(msg)\n",
    "\n",
    "    return prompt(t\"{message_prompts:messages:sep=\\n}\")\n",
    "\n",
    "# Build a conversation\n",
    "conversation = build_conversation([\n",
    "    (\"User\", \"Hello!\"),\n",
    "    (\"Assistant\", \"Hi! How can I help?\"),\n",
    "    (\"User\", \"What is Python?\"),\n",
    "    (\"Assistant\", \"Python is a programming language.\")\n",
    "])\n",
    "\n",
    "print(str(conversation))\n",
    "print(\"\\nMessage count:\", len(conversation['messages']))"
   ]
  }
 ],
 "metadata": {
  "kernelspec": {
   "display_name": "Python 3",
   "language": "python",
   "name": "python3"
  },
  "language_info": {
   "codemirror_mode": {
    "name": "ipython",
    "version": 3
   },
   "file_extension": ".py",
   "mimetype": "text/x-python",
   "name": "python",
   "nbconvert_exporter": "python",
   "pygments_lexer": "ipython3",
   "version": "3.14.0"
  }
 },
 "nbformat": 4,
 "nbformat_minor": 2
}
