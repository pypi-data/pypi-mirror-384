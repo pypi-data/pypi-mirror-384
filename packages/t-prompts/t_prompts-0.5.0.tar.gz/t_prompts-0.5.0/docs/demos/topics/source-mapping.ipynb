{
 "cells": [
  {
   "cell_type": "markdown",
   "metadata": {},
   "source": [
    "# Source Mapping\n",
    "\n",
    "Learn how to use bidirectional text ↔ structure mapping with `IntermediateRepresentation`."
   ]
  },
  {
   "cell_type": "code",
   "execution_count": 1,
   "metadata": {
    "execution": {
     "iopub.execute_input": "2025-10-14T11:52:05.997739Z",
     "iopub.status.busy": "2025-10-14T11:52:05.997637Z",
     "iopub.status.idle": "2025-10-14T11:52:06.013890Z",
     "shell.execute_reply": "2025-10-14T11:52:06.013599Z"
    }
   },
   "outputs": [],
   "source": [
    "from t_prompts import prompt"
   ]
  },
  {
   "cell_type": "markdown",
   "metadata": {},
   "source": [
    "## Rendering and Source Maps\n",
    "\n",
    "The `render()` method returns an `IntermediateRepresentation` with the final text and a source map that tracks which parts of the text came from which elements (both static and interpolated).\n",
    "\n",
    "The `IntermediateRepresentation` serves as a bridge between structured prompts and their final output, enabling structured optimization and debugging."
   ]
  },
  {
   "cell_type": "code",
   "execution_count": 2,
   "metadata": {
    "execution": {
     "iopub.execute_input": "2025-10-14T11:52:06.015347Z",
     "iopub.status.busy": "2025-10-14T11:52:06.015252Z",
     "iopub.status.idle": "2025-10-14T11:52:06.018200Z",
     "shell.execute_reply": "2025-10-14T11:52:06.017921Z"
    }
   },
   "outputs": [
    {
     "name": "stdout",
     "output_type": "stream",
     "text": [
      "Text: Name: Alice, Age: 30\n",
      "\n",
      "Source map (4 spans):\n",
      "  [0:6] key='0' -> \"Name: \"\n",
      "  [6:11] key='n' -> \"Alice\"\n",
      "  [11:18] key='1' -> \", Age: \"\n",
      "  [18:20] key='a' -> \"30\"\n"
     ]
    }
   ],
   "source": [
    "name = \"Alice\"\n",
    "age = \"30\"\n",
    "p = prompt(t\"Name: {name:n}, Age: {age:a}\")\n",
    "\n",
    "rendered = p.render()\n",
    "\n",
    "print(f\"Text: {rendered.text}\")\n",
    "print(f\"\\nSource map ({len(rendered.source_map)} spans):\")\n",
    "for span in rendered.source_map:\n",
    "    print(f\"  [{span.start}:{span.end}] key='{span.key}' -> \\\"{rendered.text[span.start:span.end]}\\\"\")"
   ]
  },
  {
   "cell_type": "markdown",
   "metadata": {},
   "source": [
    "## Finding Source by Position\n",
    "\n",
    "Use `get_span_at(pos)` to find which interpolation produced a specific position in the rendered text."
   ]
  },
  {
   "cell_type": "code",
   "execution_count": 3,
   "metadata": {
    "execution": {
     "iopub.execute_input": "2025-10-14T11:52:06.040065Z",
     "iopub.status.busy": "2025-10-14T11:52:06.039933Z",
     "iopub.status.idle": "2025-10-14T11:52:06.042407Z",
     "shell.execute_reply": "2025-10-14T11:52:06.042143Z"
    }
   },
   "outputs": [
    {
     "name": "stdout",
     "output_type": "stream",
     "text": [
      "Position 6:\n",
      "  Key: n\n",
      "  Span: [6:11]\n",
      "  Text: \"Alice\"\n",
      "\n",
      "Position 18:\n",
      "  Key: a\n",
      "  Span: [18:20]\n",
      "  Text: \"30\"\n"
     ]
    }
   ],
   "source": [
    "# Position 6 is in \"Alice\"\n",
    "span = rendered.get_span_at(6)\n",
    "print(\"Position 6:\")\n",
    "print(f\"  Key: {span.key}\")\n",
    "print(f\"  Span: [{span.start}:{span.end}]\")\n",
    "print(f\"  Text: \\\"{rendered.text[span.start:span.end]}\\\"\")\n",
    "\n",
    "# Position 18 is in \"30\"\n",
    "span = rendered.get_span_at(18)\n",
    "print(\"\\nPosition 18:\")\n",
    "print(f\"  Key: {span.key}\")\n",
    "print(f\"  Span: [{span.start}:{span.end}]\")\n",
    "print(f\"  Text: \\\"{rendered.text[span.start:span.end]}\\\"\")"
   ]
  },
  {
   "cell_type": "markdown",
   "metadata": {},
   "source": [
    "## Finding Position by Key\n",
    "\n",
    "Use `get_span_for_key(key)` to find where a specific key was rendered in the text."
   ]
  },
  {
   "cell_type": "code",
   "execution_count": 4,
   "metadata": {
    "execution": {
     "iopub.execute_input": "2025-10-14T11:52:06.043708Z",
     "iopub.status.busy": "2025-10-14T11:52:06.043623Z",
     "iopub.status.idle": "2025-10-14T11:52:06.045842Z",
     "shell.execute_reply": "2025-10-14T11:52:06.045594Z"
    }
   },
   "outputs": [
    {
     "name": "stdout",
     "output_type": "stream",
     "text": [
      "Key 'n':\n",
      "  Span: [6:11]\n",
      "  Text: \"Alice\"\n",
      "\n",
      "Key 'a':\n",
      "  Span: [18:20]\n",
      "  Text: \"30\"\n"
     ]
    }
   ],
   "source": [
    "# Find where 'n' (name) was rendered\n",
    "span_n = rendered.get_span_for_key('n')\n",
    "print(\"Key 'n':\")\n",
    "print(f\"  Span: [{span_n.start}:{span_n.end}]\")\n",
    "print(f\"  Text: \\\"{rendered.text[span_n.start:span_n.end]}\\\"\")\n",
    "\n",
    "# Find where 'a' (age) was rendered\n",
    "span_a = rendered.get_span_for_key('a')\n",
    "print(\"\\nKey 'a':\")\n",
    "print(f\"  Span: [{span_a.start}:{span_a.end}]\")\n",
    "print(f\"  Text: \\\"{rendered.text[span_a.start:span_a.end]}\\\"\")"
   ]
  },
  {
   "cell_type": "markdown",
   "metadata": {},
   "source": [
    "## Source Mapping for Nested Prompts\n",
    "\n",
    "Source maps work recursively for nested prompts. Each span includes a `path` tuple showing the nesting hierarchy."
   ]
  },
  {
   "cell_type": "code",
   "execution_count": 5,
   "metadata": {
    "execution": {
     "iopub.execute_input": "2025-10-14T11:52:06.047108Z",
     "iopub.status.busy": "2025-10-14T11:52:06.047016Z",
     "iopub.status.idle": "2025-10-14T11:52:06.049183Z",
     "shell.execute_reply": "2025-10-14T11:52:06.048958Z"
    }
   },
   "outputs": [
    {
     "name": "stdout",
     "output_type": "stream",
     "text": [
      "Text: Message: Hello, Alice!\n",
      "\n",
      "Source map with paths:\n",
      "  path=() key='0' -> \"Message: \"\n",
      "  path=('msg',) key='g' -> \"Hello\"\n",
      "  path=('msg',) key='1' -> \", \"\n",
      "  path=('msg',) key='n' -> \"Alice\"\n",
      "  path=('msg',) key='2' -> \"!\"\n"
     ]
    }
   ],
   "source": [
    "greeting = \"Hello\"\n",
    "name = \"Alice\"  # Re-use from earlier example\n",
    "inner = prompt(t\"{greeting:g}, {name:n}!\")\n",
    "outer = prompt(t\"Message: {inner:msg}\")\n",
    "\n",
    "rendered_nested = outer.render()\n",
    "\n",
    "print(f\"Text: {rendered_nested.text}\")\n",
    "print(\"\\nSource map with paths:\")\n",
    "for span in rendered_nested.source_map:\n",
    "    print(f\"  path={span.path} key='{span.key}' -> \\\"{rendered_nested.text[span.start:span.end]}\\\"\")"
   ]
  },
  {
   "cell_type": "code",
   "execution_count": 6,
   "metadata": {
    "execution": {
     "iopub.execute_input": "2025-10-14T11:52:06.050267Z",
     "iopub.status.busy": "2025-10-14T11:52:06.050185Z",
     "iopub.status.idle": "2025-10-14T11:52:06.052377Z",
     "shell.execute_reply": "2025-10-14T11:52:06.052178Z"
    }
   },
   "outputs": [
    {
     "name": "stdout",
     "output_type": "stream",
     "text": [
      "Prompt has 3 elements:\n",
      "\n",
      "0. Static(key=0, index=0, value='prefix ')\n",
      "1. Interpolation(key='v', index=1, value='test')\n",
      "2. Static(key=1, index=2, value=' suffix')\n"
     ]
    }
   ],
   "source": [
    "from t_prompts import Element, Static, StructuredInterpolation\n",
    "\n",
    "value = \"test\"\n",
    "p = prompt(t\"prefix {value:v} suffix\")\n",
    "\n",
    "print(f\"Prompt has {len(p.elements)} elements:\\n\")\n",
    "for i, elem in enumerate(p.elements):\n",
    "    if isinstance(elem, Static):\n",
    "        print(f\"{i}. Static(key={elem.key}, index={elem.index}, value={elem.value!r})\")\n",
    "    elif isinstance(elem, StructuredInterpolation):\n",
    "        print(f\"{i}. Interpolation(key={elem.key!r}, index={elem.index}, value={elem.value!r})\")\n",
    "\n",
    "    # Both are Elements\n",
    "    assert isinstance(elem, Element)"
   ]
  },
  {
   "cell_type": "markdown",
   "metadata": {},
   "source": [
    "### Elements: Unified Access to Structure\n",
    "\n",
    "The `elements` property provides unified access to **all** components of a prompt (both static and interpolations):"
   ]
  },
  {
   "cell_type": "code",
   "execution_count": 7,
   "metadata": {
    "execution": {
     "iopub.execute_input": "2025-10-14T11:52:06.053612Z",
     "iopub.status.busy": "2025-10-14T11:52:06.053520Z",
     "iopub.status.idle": "2025-10-14T11:52:06.055965Z",
     "shell.execute_reply": "2025-10-14T11:52:06.055682Z"
    }
   },
   "outputs": [
    {
     "name": "stdout",
     "output_type": "stream",
     "text": [
      "Static segment 0:\n",
      "  Text: \"Name: \"\n",
      "  Span: [0:6]\n",
      "\n",
      "Interpolation 'n':\n",
      "  Text: \"Alice\"\n",
      "  Span: [6:11]\n",
      "\n",
      "Static segment 1:\n",
      "  Text: \", Age: \"\n",
      "  Span: [11:18]\n"
     ]
    }
   ],
   "source": [
    "# Get static text span by its index (position in template strings)\n",
    "static_span = rendered.get_static_span(0)  # First static segment \"Hello \"\n",
    "print(\"Static segment 0:\")\n",
    "print(f\"  Text: \\\"{rendered.text[static_span.start:static_span.end]}\\\"\")\n",
    "print(f\"  Span: [{static_span.start}:{static_span.end}]\")\n",
    "\n",
    "# Get interpolation span by its key\n",
    "interp_span = rendered.get_interpolation_span('n')\n",
    "print(\"\\nInterpolation 'n':\")\n",
    "print(f\"  Text: \\\"{rendered.text[interp_span.start:interp_span.end]}\\\"\")\n",
    "print(f\"  Span: [{interp_span.start}:{interp_span.end}]\")\n",
    "\n",
    "# Get second static segment \"!\"\n",
    "static_span2 = rendered.get_static_span(1)\n",
    "print(\"\\nStatic segment 1:\")\n",
    "print(f\"  Text: \\\"{rendered.text[static_span2.start:static_span2.end]}\\\"\")\n",
    "print(f\"  Span: [{static_span2.start}:{static_span2.end}]\")"
   ]
  },
  {
   "cell_type": "markdown",
   "metadata": {},
   "source": [
    "### Helper Methods for Static Text\n",
    "\n",
    "Use `get_static_span()` and `get_interpolation_span()` to specifically query static or interpolation spans:"
   ]
  },
  {
   "cell_type": "markdown",
   "metadata": {},
   "source": [
    "Notice how **all** parts of the text are now mapped:\n",
    "- Static text segments have `element_type=\"static\"` and integer keys (their position in the template)\n",
    "- Interpolations have `element_type=\"interpolation\"` and string keys (from format specs)\n",
    "\n",
    "This enables complete bidirectional mapping for the entire rendered text!"
   ]
  },
  {
   "cell_type": "code",
   "execution_count": 8,
   "metadata": {
    "execution": {
     "iopub.execute_input": "2025-10-14T11:52:06.057221Z",
     "iopub.status.busy": "2025-10-14T11:52:06.057138Z",
     "iopub.status.idle": "2025-10-14T11:52:06.059045Z",
     "shell.execute_reply": "2025-10-14T11:52:06.058815Z"
    }
   },
   "outputs": [
    {
     "name": "stdout",
     "output_type": "stream",
     "text": [
      "Text: Hello Alice!\n",
      "\n",
      "Complete source map (including static text):\n",
      "  [0:6] static        key=0     -> \"Hello \"\n",
      "  [6:11] interpolation key='n'   -> \"Alice\"\n",
      "  [11:12] static        key=1     -> \"!\"\n"
     ]
    }
   ],
   "source": [
    "name = \"Alice\"\n",
    "p = prompt(t\"Hello {name:n}!\")\n",
    "\n",
    "rendered = p.render()\n",
    "\n",
    "print(f\"Text: {rendered.text}\")\n",
    "print(\"\\nComplete source map (including static text):\")\n",
    "for span in rendered.source_map:\n",
    "    text_slice = rendered.text[span.start:span.end]\n",
    "    print(f\"  [{span.start}:{span.end}] {span.element_type:13s} key={span.key!r:5s} -> \\\"{text_slice}\\\"\")"
   ]
  },
  {
   "cell_type": "markdown",
   "metadata": {},
   "source": [
    "## Source Mapping for Static Text (New in 0.4.0)\n",
    "\n",
    "As of version 0.4.0, source maps include **all** text in the rendered output, not just interpolations. This includes the static literal text between interpolations.\n",
    "\n",
    "Each span now has an `element_type` field that distinguishes between `\"static\"` and `\"interpolation\"` spans."
   ]
  },
  {
   "cell_type": "markdown",
   "metadata": {},
   "source": [
    "## Accessing the Original Prompt\n",
    "\n",
    "The `IntermediateRepresentation` keeps a reference to the original `StructuredPrompt`."
   ]
  },
  {
   "cell_type": "code",
   "execution_count": 9,
   "metadata": {
    "execution": {
     "iopub.execute_input": "2025-10-14T11:52:06.060182Z",
     "iopub.status.busy": "2025-10-14T11:52:06.060110Z",
     "iopub.status.idle": "2025-10-14T11:52:06.061954Z",
     "shell.execute_reply": "2025-10-14T11:52:06.061749Z"
    }
   },
   "outputs": [
    {
     "name": "stdout",
     "output_type": "stream",
     "text": [
      "Key 'msg':\n",
      "  Expression: inner\n",
      "  Type: StructuredPrompt\n"
     ]
    }
   ],
   "source": [
    "# Access the source prompt\n",
    "assert rendered_nested.source_prompt is outer\n",
    "\n",
    "# Use it to get metadata\n",
    "span = rendered_nested.get_span_for_key('msg')\n",
    "node = rendered_nested.source_prompt['msg']\n",
    "print(\"Key 'msg':\")\n",
    "print(f\"  Expression: {node.expression}\")\n",
    "print(f\"  Type: {type(node.value).__name__}\")"
   ]
  },
  {
   "cell_type": "markdown",
   "metadata": {},
   "source": [
    "## Use Case: Highlighting in a UI\n",
    "\n",
    "Source maps enable building UIs that highlight which parts of a rendered prompt came from which variables."
   ]
  },
  {
   "cell_type": "code",
   "execution_count": 10,
   "metadata": {
    "execution": {
     "iopub.execute_input": "2025-10-14T11:52:06.063224Z",
     "iopub.status.busy": "2025-10-14T11:52:06.063134Z",
     "iopub.status.idle": "2025-10-14T11:52:06.065617Z",
     "shell.execute_reply": "2025-10-14T11:52:06.065390Z"
    }
   },
   "outputs": [
    {
     "name": "stdout",
     "output_type": "stream",
     "text": [
      "Original:\n",
      "Paris is the capital of France.\n",
      "\n",
      "Highlight 'c':\n",
      "**Paris** is the capital of France.\n",
      "\n",
      "Highlight 'co':\n",
      "Paris is the capital of **France**.\n"
     ]
    }
   ],
   "source": [
    "def highlight_key(rendered, key, marker='**'):\n",
    "    \"\"\"Highlight a specific key in the rendered text.\"\"\"\n",
    "    span = rendered.get_span_for_key(key)\n",
    "    text = rendered.text\n",
    "    return text[:span.start] + marker + text[span.start:span.end] + marker + text[span.end:]\n",
    "\n",
    "city = \"Paris\"\n",
    "country = \"France\"\n",
    "p = prompt(t\"{city:c} is the capital of {country:co}.\")\n",
    "r = p.render()\n",
    "\n",
    "print(\"Original:\")\n",
    "print(r.text)\n",
    "print(\"\\nHighlight 'c':\")\n",
    "print(highlight_key(r, 'c'))\n",
    "print(\"\\nHighlight 'co':\")\n",
    "print(highlight_key(r, 'co'))"
   ]
  },
  {
   "cell_type": "markdown",
   "metadata": {},
   "source": [
    "## Use Case: Error Attribution\n",
    "\n",
    "If an LLM returns an error pointing to a character position, you can trace it back to the source variable."
   ]
  },
  {
   "cell_type": "code",
   "execution_count": 11,
   "metadata": {
    "execution": {
     "iopub.execute_input": "2025-10-14T11:52:06.066868Z",
     "iopub.status.busy": "2025-10-14T11:52:06.066788Z",
     "iopub.status.idle": "2025-10-14T11:52:06.069336Z",
     "shell.execute_reply": "2025-10-14T11:52:06.069042Z"
    }
   },
   "outputs": [
    {
     "name": "stdout",
     "output_type": "stream",
     "text": [
      "Position is not in an interpolation.\n"
     ]
    }
   ],
   "source": [
    "def trace_error_to_source(rendered, error_pos):\n",
    "    \"\"\"Trace an error position back to its source variable.\"\"\"\n",
    "    try:\n",
    "        span = rendered.get_span_at(error_pos)\n",
    "        if span is None:\n",
    "            # Position is in a literal string, not an interpolation\n",
    "            return None\n",
    "        node = rendered.source_prompt[span.key]\n",
    "        return {\n",
    "            'key': span.key,\n",
    "            'expression': node.expression,\n",
    "            'value': node.value,\n",
    "            'text_span': rendered.text[span.start:span.end]\n",
    "        }\n",
    "    except (KeyError, AttributeError):\n",
    "        return None\n",
    "\n",
    "# Simulate an error at position 18 (in \"30\")\n",
    "error_info = trace_error_to_source(rendered, 18)\n",
    "if error_info:\n",
    "    print(\"Error at position 18 traced to:\")\n",
    "    print(f\"  Key: {error_info['key']}\")\n",
    "    print(f\"  Expression: {error_info['expression']}\")\n",
    "    print(f\"  Value: {error_info['value']}\")\n",
    "    print(f\"  Text: \\\"{error_info['text_span']}\\\"\")\n",
    "else:\n",
    "    print(\"Position is not in an interpolation.\")"
   ]
  }
 ],
 "metadata": {
  "kernelspec": {
   "display_name": "Python 3",
   "language": "python",
   "name": "python3"
  },
  "language_info": {
   "codemirror_mode": {
    "name": "ipython",
    "version": 3
   },
   "file_extension": ".py",
   "mimetype": "text/x-python",
   "name": "python",
   "nbconvert_exporter": "python",
   "pygments_lexer": "ipython3",
   "version": "3.14.0"
  }
 },
 "nbformat": 4,
 "nbformat_minor": 2
}
