{
 "cells": [
  {
   "cell_type": "markdown",
   "metadata": {},
   "source": [
    "# Format Spec Mini-Language\n",
    "\n",
    "Deep dive into the format spec syntax: custom keys, render hints, and advanced patterns."
   ]
  },
  {
   "cell_type": "code",
   "execution_count": 1,
   "metadata": {
    "execution": {
     "iopub.execute_input": "2025-10-14T19:53:57.017615Z",
     "iopub.status.busy": "2025-10-14T19:53:57.017515Z",
     "iopub.status.idle": "2025-10-14T19:53:57.037192Z",
     "shell.execute_reply": "2025-10-14T19:53:57.036817Z"
    }
   },
   "outputs": [],
   "source": [
    "from t_prompts import prompt"
   ]
  },
  {
   "cell_type": "markdown",
   "metadata": {},
   "source": [
    "## Format Spec Syntax\n",
    "\n",
    "The format spec follows the pattern: `{expression:key:render_hints}`\n",
    "\n",
    "- `expression`: The Python expression to interpolate\n",
    "- `key`: The key for accessing this interpolation (defaults to expression)\n",
    "- `render_hints`: Optional metadata for custom renderers (everything after the second `:`)"
   ]
  },
  {
   "cell_type": "code",
   "execution_count": 2,
   "metadata": {
    "execution": {
     "iopub.execute_input": "2025-10-14T19:53:57.038744Z",
     "iopub.status.busy": "2025-10-14T19:53:57.038651Z",
     "iopub.status.idle": "2025-10-14T19:53:57.041803Z",
     "shell.execute_reply": "2025-10-14T19:53:57.041570Z"
    }
   },
   "outputs": [
    {
     "name": "stdout",
     "output_type": "stream",
     "text": [
      "No format spec - Key: user_query\n",
      "With key - Key: query\n",
      "With hints - Key: query\n",
      "With hints - Render hints: format=json\n"
     ]
    }
   ],
   "source": [
    "# No format spec: key is the expression\n",
    "user_query = \"What is Python?\"\n",
    "p1 = prompt(t\"{user_query}\")\n",
    "print(f\"No format spec - Key: {list(p1.keys())[0]}\")\n",
    "\n",
    "# With key only\n",
    "p2 = prompt(t\"{user_query:query}\")\n",
    "print(f\"With key - Key: {list(p2.keys())[0]}\")\n",
    "\n",
    "# With key and render hints\n",
    "p3 = prompt(t\"{user_query:query:format=json}\")\n",
    "print(f\"With hints - Key: {list(p3.keys())[0]}\")\n",
    "print(f\"With hints - Render hints: {p3['query'].render_hints}\")"
   ]
  },
  {
   "cell_type": "markdown",
   "metadata": {},
   "source": [
    "## Using Underscore for Expression as Key\n",
    "\n",
    "Use `_` to explicitly use the expression as the key (useful when you want to add render hints without changing the key)."
   ]
  },
  {
   "cell_type": "code",
   "execution_count": 3,
   "metadata": {
    "execution": {
     "iopub.execute_input": "2025-10-14T19:53:57.063311Z",
     "iopub.status.busy": "2025-10-14T19:53:57.063180Z",
     "iopub.status.idle": "2025-10-14T19:53:57.066124Z",
     "shell.execute_reply": "2025-10-14T19:53:57.065802Z"
    }
   },
   "outputs": [
    {
     "name": "stdout",
     "output_type": "stream",
     "text": [
      "Key: value\n",
      "\n",
      "Key with hints: value\n",
      "Render hints: uppercase\n"
     ]
    }
   ],
   "source": [
    "# Underscore: use expression as key\n",
    "value = \"test\"\n",
    "p = prompt(t\"{value:_}\")\n",
    "print(f\"Key: {list(p.keys())[0]}\")\n",
    "assert 'value' in p\n",
    "\n",
    "# Note: When using render hints, you need to specify the key explicitly\n",
    "# The underscore only works when it's the only thing in the format spec\n",
    "p2 = prompt(t\"{value:value:uppercase}\")\n",
    "print(f\"\\nKey with hints: {list(p2.keys())[0]}\")\n",
    "print(f\"Render hints: {p2['value'].render_hints}\")"
   ]
  },
  {
   "cell_type": "markdown",
   "metadata": {},
   "source": [
    "## Render Hints for Custom Behavior\n",
    "\n",
    "Render hints are stored in the `render_hints` field and can be parsed by custom renderers. They're not used by the default renderer."
   ]
  },
  {
   "cell_type": "code",
   "execution_count": 4,
   "metadata": {
    "execution": {
     "iopub.execute_input": "2025-10-14T19:53:57.067374Z",
     "iopub.status.busy": "2025-10-14T19:53:57.067282Z",
     "iopub.status.idle": "2025-10-14T19:53:57.069462Z",
     "shell.execute_reply": "2025-10-14T19:53:57.069235Z"
    }
   },
   "outputs": [
    {
     "name": "stdout",
     "output_type": "stream",
     "text": [
      "Key: user_data\n",
      "Render hints: format=json,indent=2\n",
      "Value: {\"name\": \"Alice\"}\n"
     ]
    }
   ],
   "source": [
    "data = '{\"name\": \"Alice\"}'\n",
    "p = prompt(t\"{data:user_data:format=json,indent=2}\")\n",
    "\n",
    "node = p['user_data']\n",
    "print(f\"Key: {node.key}\")\n",
    "print(f\"Render hints: {node.render_hints}\")\n",
    "print(f\"Value: {node.value}\")"
   ]
  },
  {
   "cell_type": "markdown",
   "metadata": {},
   "source": [
    "## Parsing Render Hints\n",
    "\n",
    "You can parse render hints however you like. Here's an example of parsing key-value pairs."
   ]
  },
  {
   "cell_type": "code",
   "execution_count": 5,
   "metadata": {
    "execution": {
     "iopub.execute_input": "2025-10-14T19:53:57.070903Z",
     "iopub.status.busy": "2025-10-14T19:53:57.070799Z",
     "iopub.status.idle": "2025-10-14T19:53:57.073455Z",
     "shell.execute_reply": "2025-10-14T19:53:57.073206Z"
    }
   },
   "outputs": [
    {
     "name": "stdout",
     "output_type": "stream",
     "text": [
      "Parsed hints:\n",
      "  format: xml\n",
      "  indent: 4\n",
      "  preserve_whitespace: true\n"
     ]
    }
   ],
   "source": [
    "def parse_hints(hints):\n",
    "    \"\"\"Parse render hints as comma-separated key=value pairs.\"\"\"\n",
    "    if not hints:\n",
    "        return {}\n",
    "    result = {}\n",
    "    for pair in hints.split(','):\n",
    "        if '=' in pair:\n",
    "            key, value = pair.split('=', 1)\n",
    "            result[key.strip()] = value.strip()\n",
    "    return result\n",
    "\n",
    "# Example with multiple hints\n",
    "content = \"<html><body>Hello</body></html>\"\n",
    "p = prompt(t\"{content:html:format=xml,indent=4,preserve_whitespace=true}\")\n",
    "\n",
    "hints = parse_hints(p['html'].render_hints)\n",
    "print(\"Parsed hints:\")\n",
    "for key, value in hints.items():\n",
    "    print(f\"  {key}: {value}\")"
   ]
  },
  {
   "cell_type": "markdown",
   "metadata": {},
   "source": [
    "## List Separator Hint\n",
    "\n",
    "The `sep=<value>` render hint is recognized by the default renderer for list interpolations."
   ]
  },
  {
   "cell_type": "code",
   "execution_count": 6,
   "metadata": {
    "execution": {
     "iopub.execute_input": "2025-10-14T19:53:57.074841Z",
     "iopub.status.busy": "2025-10-14T19:53:57.074725Z",
     "iopub.status.idle": "2025-10-14T19:53:57.077963Z",
     "shell.execute_reply": "2025-10-14T19:53:57.077635Z"
    }
   },
   "outputs": [
    {
     "name": "stdout",
     "output_type": "stream",
     "text": [
      "Default separator:\n",
      "apple\n",
      "banana\n",
      "cherry\n",
      "\n",
      "Custom separator ', ':\n",
      "apple, banana, cherry\n"
     ]
    }
   ],
   "source": [
    "items = [\n",
    "    prompt(t\"{item:item}\")\n",
    "    for item in [\"apple\", \"banana\", \"cherry\"]\n",
    "]\n",
    "\n",
    "# Default separator (newline)\n",
    "p1 = prompt(t\"{items:items}\")\n",
    "print(\"Default separator:\")\n",
    "print(str(p1))\n",
    "\n",
    "# Custom separator\n",
    "p2 = prompt(t\"{items:items:sep=, }\")\n",
    "print(\"\\nCustom separator ', ':\")\n",
    "print(str(p2))"
   ]
  },
  {
   "cell_type": "markdown",
   "metadata": {},
   "source": [
    "## Dynamic Format Specs (Advanced)\n",
    "\n",
    "Format specs can contain interpolated values, enabling programmatic key generation."
   ]
  },
  {
   "cell_type": "code",
   "execution_count": 7,
   "metadata": {
    "execution": {
     "iopub.execute_input": "2025-10-14T19:53:57.079368Z",
     "iopub.status.busy": "2025-10-14T19:53:57.079278Z",
     "iopub.status.idle": "2025-10-14T19:53:57.081536Z",
     "shell.execute_reply": "2025-10-14T19:53:57.081268Z"
    }
   },
   "outputs": [
    {
     "name": "stdout",
     "output_type": "stream",
     "text": [
      "Generated key: config_database\n",
      "Value: postgresql://localhost\n"
     ]
    }
   ],
   "source": [
    "# Generate keys programmatically\n",
    "prefix = \"config\"\n",
    "section = \"database\"\n",
    "value = \"postgresql://localhost\"\n",
    "\n",
    "p = prompt(t\"{value: {prefix}_{section} }\")\n",
    "print(f\"Generated key: {list(p.keys())[0]}\")\n",
    "print(f\"Value: {p['config_database'].value}\")"
   ]
  },
  {
   "cell_type": "markdown",
   "metadata": {},
   "source": [
    "## Complex Format Spec Example\n",
    "\n",
    "Combine dynamic keys with render hints for maximum flexibility."
   ]
  },
  {
   "cell_type": "code",
   "execution_count": 8,
   "metadata": {
    "execution": {
     "iopub.execute_input": "2025-10-14T19:53:57.082800Z",
     "iopub.status.busy": "2025-10-14T19:53:57.082722Z",
     "iopub.status.idle": "2025-10-14T19:53:57.086022Z",
     "shell.execute_reply": "2025-10-14T19:53:57.085689Z"
    }
   },
   "outputs": [
    {
     "name": "stdout",
     "output_type": "stream",
     "text": [
      "Key: user_profile_bio\n",
      "Render hints: max_length=100,truncate=true\n",
      "Value: Software engineer interested in AI.\n",
      "\n",
      "Parsed hints:\n",
      "  max_length: 100\n",
      "  truncate: true\n"
     ]
    }
   ],
   "source": [
    "# Build a prompt with dynamic keys and render hints\n",
    "section = \"user_profile\"\n",
    "field = \"bio\"\n",
    "content = \"Software engineer interested in AI.\"\n",
    "\n",
    "p = prompt(t\"{content: {section}_{field} :max_length=100,truncate=true}\")\n",
    "\n",
    "node = list(p.values())[0]\n",
    "print(f\"Key: {node.key}\")\n",
    "print(f\"Render hints: {node.render_hints}\")\n",
    "print(f\"Value: {node.value}\")\n",
    "\n",
    "# Parse the hints\n",
    "hints = parse_hints(node.render_hints)\n",
    "print(\"\\nParsed hints:\")\n",
    "for k, v in hints.items():\n",
    "    print(f\"  {k}: {v}\")"
   ]
  }
 ],
 "metadata": {
  "kernelspec": {
   "display_name": "Python 3",
   "language": "python",
   "name": "python3"
  },
  "language_info": {
   "codemirror_mode": {
    "name": "ipython",
    "version": 3
   },
   "file_extension": ".py",
   "mimetype": "text/x-python",
   "name": "python",
   "nbconvert_exporter": "python",
   "pygments_lexer": "ipython3",
   "version": "3.14.0"
  }
 },
 "nbformat": 4,
 "nbformat_minor": 2
}
