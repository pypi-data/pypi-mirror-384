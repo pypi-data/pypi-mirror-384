{
 "cells": [
  {
   "cell_type": "markdown",
   "id": "cell-0",
   "metadata": {},
   "source": [
    "# Source Location Tracking\n",
    "\n",
    "Learn how to track where prompts are defined in your source code for better debugging and provenance."
   ]
  },
  {
   "cell_type": "code",
   "execution_count": 1,
   "id": "cell-1",
   "metadata": {
    "execution": {
     "iopub.execute_input": "2025-10-14T19:53:54.704255Z",
     "iopub.status.busy": "2025-10-14T19:53:54.704114Z",
     "iopub.status.idle": "2025-10-14T19:53:54.726854Z",
     "shell.execute_reply": "2025-10-14T19:53:54.726515Z"
    }
   },
   "outputs": [],
   "source": [
    "from t_prompts import prompt"
   ]
  },
  {
   "cell_type": "markdown",
   "id": "cell-2",
   "metadata": {},
   "source": [
    "## What is Source Location Tracking?\n",
    "\n",
    "Source location tracking captures **where in your source code** each prompt was created. This is different from source mapping (which tracks where text comes from in the rendered output).\n",
    "\n",
    "By default, every prompt automatically captures:\n",
    "- **Filename** and **filepath** - which file the prompt was created in\n",
    "- **Line number** - the line in the file where the prompt was created\n",
    "\n",
    "This information is stored in a `SourceLocation` object attached to every element (both static text and interpolations).\n",
    "\n",
    "The implementation is lightweight - it only uses information directly available from Python's stack frames without reading any source files."
   ]
  },
  {
   "cell_type": "markdown",
   "id": "cell-3",
   "metadata": {},
   "source": [
    "## Basic Usage\n",
    "\n",
    "Source location is captured automatically - no configuration needed!"
   ]
  },
  {
   "cell_type": "code",
   "execution_count": 2,
   "id": "cell-4",
   "metadata": {
    "execution": {
     "iopub.execute_input": "2025-10-14T19:53:54.728510Z",
     "iopub.status.busy": "2025-10-14T19:53:54.728413Z",
     "iopub.status.idle": "2025-10-14T19:53:54.731257Z",
     "shell.execute_reply": "2025-10-14T19:53:54.731037Z"
    }
   },
   "outputs": [
    {
     "name": "stdout",
     "output_type": "stream",
     "text": [
      "This prompt was created at:\n",
      "  File: 1658211292.py\n",
      "  Line: 2\n",
      "\n",
      "Formatted: 1658211292.py:2\n"
     ]
    }
   ],
   "source": [
    "task = \"translate to French\"\n",
    "p = prompt(t\"Task: {task}\")\n",
    "\n",
    "# Access source location from an interpolation\n",
    "loc = p['task'].source_location\n",
    "\n",
    "print(\"This prompt was created at:\")\n",
    "print(f\"  File: {loc.filename}\")\n",
    "print(f\"  Line: {loc.line}\")\n",
    "print(f\"\\nFormatted: {loc.format_location()}\")"
   ]
  },
  {
   "cell_type": "markdown",
   "id": "cell-5",
   "metadata": {},
   "source": [
    "## Checking Availability\n",
    "\n",
    "Source location might not be available in some contexts (REPL, eval, etc.). Use the `is_available` property to check:"
   ]
  },
  {
   "cell_type": "code",
   "execution_count": 3,
   "id": "cell-6",
   "metadata": {
    "execution": {
     "iopub.execute_input": "2025-10-14T19:53:54.732575Z",
     "iopub.status.busy": "2025-10-14T19:53:54.732486Z",
     "iopub.status.idle": "2025-10-14T19:53:54.734299Z",
     "shell.execute_reply": "2025-10-14T19:53:54.734041Z"
    }
   },
   "outputs": [
    {
     "name": "stdout",
     "output_type": "stream",
     "text": [
      "Location: 1658211292.py:2\n"
     ]
    }
   ],
   "source": [
    "loc = p['task'].source_location\n",
    "\n",
    "if loc.is_available:\n",
    "    print(f\"Location: {loc.format_location()}\")\n",
    "else:\n",
    "    print(\"Source location not available\")"
   ]
  },
  {
   "cell_type": "markdown",
   "id": "cell-7",
   "metadata": {},
   "source": [
    "## Source Location for All Elements\n",
    "\n",
    "Both **static text** and **interpolations** have source location information:"
   ]
  },
  {
   "cell_type": "code",
   "execution_count": 4,
   "id": "cell-8",
   "metadata": {
    "execution": {
     "iopub.execute_input": "2025-10-14T19:53:54.735652Z",
     "iopub.status.busy": "2025-10-14T19:53:54.735541Z",
     "iopub.status.idle": "2025-10-14T19:53:54.738286Z",
     "shell.execute_reply": "2025-10-14T19:53:54.738061Z"
    }
   },
   "outputs": [
    {
     "name": "stdout",
     "output_type": "stream",
     "text": [
      "All elements with their source locations:\n",
      "\n",
      "Static text: 'Hello '\n",
      "  → Created at 4066850082.py:4\n",
      "\n",
      "Interpolation 'name': 'Alice'\n",
      "  → Created at 4066850082.py:4\n",
      "\n",
      "Static text: '!'\n",
      "  → Created at 4066850082.py:4\n",
      "\n"
     ]
    }
   ],
   "source": [
    "from t_prompts import Static, StructuredInterpolation\n",
    "\n",
    "name = \"Alice\"\n",
    "p = prompt(t\"Hello {name}!\")\n",
    "\n",
    "print(\"All elements with their source locations:\\n\")\n",
    "for elem in p.elements:\n",
    "    loc = elem.source_location\n",
    "    if isinstance(elem, Static):\n",
    "        print(f\"Static text: {elem.value!r}\")\n",
    "    elif isinstance(elem, StructuredInterpolation):\n",
    "        print(f\"Interpolation '{elem.key}': {elem.value!r}\")\n",
    "\n",
    "    if loc and loc.is_available:\n",
    "        print(f\"  → Created at {loc.format_location()}\")\n",
    "    print()"
   ]
  },
  {
   "cell_type": "markdown",
   "id": "cell-9",
   "metadata": {},
   "source": [
    "## Nested Prompts Have Separate Locations\n",
    "\n",
    "Each prompt (including nested ones) captures its own creation location:"
   ]
  },
  {
   "cell_type": "code",
   "execution_count": 5,
   "id": "cell-10",
   "metadata": {
    "execution": {
     "iopub.execute_input": "2025-10-14T19:53:54.739610Z",
     "iopub.status.busy": "2025-10-14T19:53:54.739503Z",
     "iopub.status.idle": "2025-10-14T19:53:54.742289Z",
     "shell.execute_reply": "2025-10-14T19:53:54.741982Z"
    }
   },
   "outputs": [
    {
     "name": "stdout",
     "output_type": "stream",
     "text": [
      "Outer prompt created at line 6\n",
      "Inner prompt created at line 3\n",
      "\n",
      "They're on different lines: True\n"
     ]
    }
   ],
   "source": [
    "# Create inner prompt on one line\n",
    "greeting = \"Hello\"\n",
    "inner = prompt(t\"{greeting}, world!\")\n",
    "\n",
    "# Create outer prompt on another line\n",
    "outer = prompt(t\"Message: {inner:msg}\")\n",
    "\n",
    "# They have different source locations\n",
    "outer_loc = outer['msg'].source_location\n",
    "inner_loc = inner['greeting'].source_location\n",
    "\n",
    "print(f\"Outer prompt created at line {outer_loc.line}\")\n",
    "print(f\"Inner prompt created at line {inner_loc.line}\")\n",
    "print(f\"\\nThey're on different lines: {outer_loc.line != inner_loc.line}\")"
   ]
  },
  {
   "cell_type": "markdown",
   "id": "cell-11",
   "metadata": {},
   "source": [
    "## Exporting Source Location in Provenance\n",
    "\n",
    "Source location is automatically included when you export provenance:"
   ]
  },
  {
   "cell_type": "code",
   "execution_count": 6,
   "id": "cell-12",
   "metadata": {
    "execution": {
     "iopub.execute_input": "2025-10-14T19:53:54.743655Z",
     "iopub.status.busy": "2025-10-14T19:53:54.743548Z",
     "iopub.status.idle": "2025-10-14T19:53:54.745962Z",
     "shell.execute_reply": "2025-10-14T19:53:54.745722Z"
    }
   },
   "outputs": [
    {
     "name": "stdout",
     "output_type": "stream",
     "text": [
      "Provenance for interpolation 'task':\n",
      "  Key: task\n",
      "  Expression: task\n",
      "  Source location: {'filename': '2810673975.py', 'filepath': '/private/var/folders/wr/5n6v6bvj6mxdxjcg5_5ss1ph0000gn/T/ipykernel_49669/2810673975.py', 'line': 2}\n"
     ]
    }
   ],
   "source": [
    "task = \"analyze sentiment\"\n",
    "p = prompt(t\"Task: {task}\")\n",
    "\n",
    "prov = p.to_provenance()\n",
    "\n",
    "# Source location is in the provenance\n",
    "node = prov['nodes'][0]\n",
    "print(\"Provenance for interpolation 'task':\")\n",
    "print(f\"  Key: {node['key']}\")\n",
    "print(f\"  Expression: {node['expression']}\")\n",
    "print(f\"  Source location: {node.get('source_location', 'not available')}\")"
   ]
  },
  {
   "cell_type": "markdown",
   "id": "cell-13",
   "metadata": {},
   "source": [
    "## Performance: Disabling Source Location\n",
    "\n",
    "Source location capture uses Python's `inspect` module to walk the stack. While lightweight (no file I/O), you can disable it if needed:"
   ]
  },
  {
   "cell_type": "code",
   "execution_count": 7,
   "id": "cell-14",
   "metadata": {
    "execution": {
     "iopub.execute_input": "2025-10-14T19:53:54.747534Z",
     "iopub.status.busy": "2025-10-14T19:53:54.747431Z",
     "iopub.status.idle": "2025-10-14T19:53:54.749591Z",
     "shell.execute_reply": "2025-10-14T19:53:54.749347Z"
    }
   },
   "outputs": [
    {
     "name": "stdout",
     "output_type": "stream",
     "text": [
      "Source location: None\n"
     ]
    }
   ],
   "source": [
    "task = \"translate\"\n",
    "p = prompt(t\"Task: {task}\", capture_source_location=False)\n",
    "\n",
    "# Source location is None when disabled\n",
    "print(f\"Source location: {p['task'].source_location}\")"
   ]
  },
  {
   "cell_type": "markdown",
   "id": "cell-15",
   "metadata": {},
   "source": [
    "## Use Case: Debugging Complex Prompt Hierarchies\n",
    "\n",
    "When building large prompt systems with many nested prompts, source location helps you quickly find where each piece was defined:"
   ]
  },
  {
   "cell_type": "code",
   "execution_count": 8,
   "id": "cell-16",
   "metadata": {
    "execution": {
     "iopub.execute_input": "2025-10-14T19:53:54.750883Z",
     "iopub.status.busy": "2025-10-14T19:53:54.750770Z",
     "iopub.status.idle": "2025-10-14T19:53:54.754081Z",
     "shell.execute_reply": "2025-10-14T19:53:54.753769Z"
    }
   },
   "outputs": [
    {
     "name": "stdout",
     "output_type": "stream",
     "text": [
      "Prompt component origins:\n",
      "\n",
      "sys: 1883045048.py:11\n",
      "usr: 1883045048.py:11\n"
     ]
    }
   ],
   "source": [
    "def create_system_prompt():\n",
    "    role = \"helpful assistant\"\n",
    "    return prompt(t\"You are a {role}.\")\n",
    "\n",
    "def create_user_message(task):\n",
    "    return prompt(t\"Task: {task}\")\n",
    "\n",
    "def build_conversation(task):\n",
    "    system = create_system_prompt()\n",
    "    user = create_user_message(task)\n",
    "    return prompt(t\"System: {system:sys}\\nUser: {user:usr}\")\n",
    "\n",
    "# Build the conversation\n",
    "conv = build_conversation(\"translate to French\")\n",
    "\n",
    "# Trace where each part was created\n",
    "print(\"Prompt component origins:\\n\")\n",
    "for key in ['sys', 'usr']:\n",
    "    loc = conv[key].source_location\n",
    "    if loc and loc.is_available:\n",
    "        print(f\"{key}: {loc.filename}:{loc.line}\")"
   ]
  },
  {
   "cell_type": "markdown",
   "id": "cell-17",
   "metadata": {},
   "source": [
    "## Use Case: Audit Logging\n",
    "\n",
    "Track which code paths generated specific prompts for compliance and debugging:"
   ]
  },
  {
   "cell_type": "code",
   "execution_count": 9,
   "id": "cell-18",
   "metadata": {
    "execution": {
     "iopub.execute_input": "2025-10-14T19:53:54.755279Z",
     "iopub.status.busy": "2025-10-14T19:53:54.755198Z",
     "iopub.status.idle": "2025-10-14T19:53:54.757719Z",
     "shell.execute_reply": "2025-10-14T19:53:54.757467Z"
    }
   },
   "outputs": [
    {
     "name": "stdout",
     "output_type": "stream",
     "text": [
      "[AUDIT] Prompt 'user_email_prompt' created at /private/var/folders/wr/5n6v6bvj6mxdxjcg5_5ss1ph0000gn/T/ipykernel_49669/973597698.py:13\n"
     ]
    }
   ],
   "source": [
    "def log_prompt_creation(p, name):\n",
    "    \"\"\"Log where a prompt was created.\"\"\"\n",
    "    # Get location from first interpolation (if any)\n",
    "    if p.interpolations:\n",
    "        loc = p.interpolations[0].source_location\n",
    "        if loc and loc.is_available:\n",
    "            print(f\"[AUDIT] Prompt '{name}' created at {loc.filepath}:{loc.line}\")\n",
    "        else:\n",
    "            print(f\"[AUDIT] Prompt '{name}' created (location unavailable)\")\n",
    "\n",
    "# Example usage\n",
    "sensitive_data = \"user@example.com\"\n",
    "p = prompt(t\"Email: {sensitive_data:email}\")\n",
    "log_prompt_creation(p, \"user_email_prompt\")"
   ]
  },
  {
   "cell_type": "markdown",
   "id": "cell-19",
   "metadata": {},
   "source": [
    "## SourceLocation API Reference\n",
    "\n",
    "The `SourceLocation` dataclass has the following fields:\n",
    "\n",
    "- **`filename`**: Short filename (e.g., `'script.py'`)\n",
    "- **`filepath`**: Full absolute path to the file\n",
    "- **`line`**: Line number where prompt was created (1-indexed)\n",
    "\n",
    "All fields are optional (may be `None` if source is unavailable).\n",
    "\n",
    "### Methods\n",
    "\n",
    "- **`is_available`**: Property that returns `True` if location info is present\n",
    "- **`format_location()`**: Returns a formatted string like `\"script.py:42\"`"
   ]
  },
  {
   "cell_type": "markdown",
   "id": "cell-20",
   "metadata": {},
   "source": [
    "## Summary\n",
    "\n",
    "Source location tracking provides automatic provenance for your prompts:\n",
    "\n",
    "✅ **Enabled by default** - no configuration needed  \n",
    "✅ **Lightweight** - uses only stack frame info, no file I/O  \n",
    "✅ **Works everywhere** - static text, interpolations, and nested prompts  \n",
    "✅ **Exported in provenance** - included in `to_provenance()` output  \n",
    "✅ **Opt-out available** - disable for performance with `capture_source_location=False`  \n",
    "\n",
    "This makes debugging complex prompt systems much easier!"
   ]
  }
 ],
 "metadata": {
  "kernelspec": {
   "display_name": "Python 3",
   "language": "python",
   "name": "python3"
  },
  "language_info": {
   "codemirror_mode": {
    "name": "ipython",
    "version": 3
   },
   "file_extension": ".py",
   "mimetype": "text/x-python",
   "name": "python",
   "nbconvert_exporter": "python",
   "pygments_lexer": "ipython3",
   "version": "3.14.0"
  }
 },
 "nbformat": 4,
 "nbformat_minor": 5
}
