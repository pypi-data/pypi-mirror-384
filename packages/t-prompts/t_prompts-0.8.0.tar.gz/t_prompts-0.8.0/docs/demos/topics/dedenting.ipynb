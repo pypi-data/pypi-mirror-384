{
 "cells": [
  {
   "cell_type": "markdown",
   "id": "intro",
   "metadata": {},
   "source": [
    "# Dedenting for Readable Source Code\n",
    "\n",
    "Learn how to write indented multi-line prompts that render without indentation."
   ]
  },
  {
   "cell_type": "code",
   "execution_count": 1,
   "id": "imports",
   "metadata": {
    "execution": {
     "iopub.execute_input": "2025-10-14T19:54:04.219679Z",
     "iopub.status.busy": "2025-10-14T19:54:04.219482Z",
     "iopub.status.idle": "2025-10-14T19:54:04.251329Z",
     "shell.execute_reply": "2025-10-14T19:54:04.250985Z"
    }
   },
   "outputs": [],
   "source": [
    "from t_prompts import dedent, prompt"
   ]
  },
  {
   "cell_type": "markdown",
   "id": "problem",
   "metadata": {},
   "source": [
    "## The Problem: Indentation in Source vs. Output\n",
    "\n",
    "When writing multi-line prompts, you want your source code to be readable with proper indentation. But you don't want that indentation in the final prompt."
   ]
  },
  {
   "cell_type": "code",
   "execution_count": 2,
   "id": "problem-demo",
   "metadata": {
    "execution": {
     "iopub.execute_input": "2025-10-14T19:54:04.253308Z",
     "iopub.status.busy": "2025-10-14T19:54:04.253161Z",
     "iopub.status.idle": "2025-10-14T19:54:04.255997Z",
     "shell.execute_reply": "2025-10-14T19:54:04.255772Z"
    }
   },
   "outputs": [
    {
     "name": "stdout",
     "output_type": "stream",
     "text": [
      "You are a helpful assistant.\n",
      "Task: translate to French\n",
      "Please respond.\n"
     ]
    }
   ],
   "source": [
    "def create_prompt_awkward(task):\n",
    "    # Without dedent: awkward to write\n",
    "    p = prompt(t\"\"\"You are a helpful assistant.\n",
    "Task: {task:t}\n",
    "Please respond.\"\"\")\n",
    "    return p\n",
    "\n",
    "task = \"translate to French\"\n",
    "p = create_prompt_awkward(task)\n",
    "print(str(p))"
   ]
  },
  {
   "cell_type": "markdown",
   "id": "solution",
   "metadata": {},
   "source": [
    "## The Solution: Dedenting\n",
    "\n",
    "Use `dedent()` (or `prompt(..., dedent=True)`) to write indented source code that renders without indentation."
   ]
  },
  {
   "cell_type": "code",
   "execution_count": 3,
   "id": "solution-demo",
   "metadata": {
    "execution": {
     "iopub.execute_input": "2025-10-14T19:54:04.257336Z",
     "iopub.status.busy": "2025-10-14T19:54:04.257250Z",
     "iopub.status.idle": "2025-10-14T19:54:04.259981Z",
     "shell.execute_reply": "2025-10-14T19:54:04.259659Z"
    }
   },
   "outputs": [
    {
     "name": "stdout",
     "output_type": "stream",
     "text": [
      "You are a helpful assistant.\n",
      "Task: translate to French\n",
      "Please respond.\n"
     ]
    }
   ],
   "source": [
    "def create_prompt_clean(task):\n",
    "    # With dedent: clean and readable\n",
    "    p = dedent(t\"\"\"\n",
    "        You are a helpful assistant.\n",
    "        Task: {task:t}\n",
    "        Please respond.\n",
    "        \"\"\")\n",
    "    return p\n",
    "\n",
    "task = \"translate to French\"\n",
    "p = create_prompt_clean(task)\n",
    "print(str(p))"
   ]
  },
  {
   "cell_type": "markdown",
   "id": "options",
   "metadata": {},
   "source": [
    "## Dedenting Options\n",
    "\n",
    "Four keyword-only parameters control dedenting behavior:\n",
    "\n",
    "- `dedent=False` (default): No dedenting\n",
    "- `trim_leading=True` (default): Remove first line if whitespace-only\n",
    "- `trim_empty_leading=True` (default): Remove empty lines after first\n",
    "- `trim_trailing=True` (default): Remove trailing whitespace lines"
   ]
  },
  {
   "cell_type": "code",
   "execution_count": 4,
   "id": "options-demo",
   "metadata": {
    "execution": {
     "iopub.execute_input": "2025-10-14T19:54:04.261346Z",
     "iopub.status.busy": "2025-10-14T19:54:04.261241Z",
     "iopub.status.idle": "2025-10-14T19:54:04.263857Z",
     "shell.execute_reply": "2025-10-14T19:54:04.263603Z"
    }
   },
   "outputs": [
    {
     "name": "stdout",
     "output_type": "stream",
     "text": [
      "With trims only:\n",
      "'    Hello'\n",
      "\n",
      "With dedenting:\n",
      "'Hello'\n"
     ]
    }
   ],
   "source": [
    "# Default: trims only (no dedenting)\n",
    "p1 = prompt(t\"\"\"\n",
    "    Hello\n",
    "    \"\"\")\n",
    "print(\"With trims only:\")\n",
    "print(repr(str(p1)))  # Still has indentation\n",
    "\n",
    "# With dedenting\n",
    "p2 = dedent(t\"\"\"\n",
    "    Hello\n",
    "    \"\"\")\n",
    "print(\"\\nWith dedenting:\")\n",
    "print(repr(str(p2)))  # No indentation"
   ]
  },
  {
   "cell_type": "markdown",
   "id": "36hddberzf",
   "metadata": {},
   "source": [
    "## Using the Verbose Form\n",
    "\n",
    "If you need to customize dedenting behavior, use `prompt(..., dedent=True)` with optional parameters."
   ]
  },
  {
   "cell_type": "code",
   "execution_count": 5,
   "id": "4cbad7cn4ab",
   "metadata": {
    "execution": {
     "iopub.execute_input": "2025-10-14T19:54:04.265096Z",
     "iopub.status.busy": "2025-10-14T19:54:04.265000Z",
     "iopub.status.idle": "2025-10-14T19:54:04.267396Z",
     "shell.execute_reply": "2025-10-14T19:54:04.267158Z"
    }
   },
   "outputs": [
    {
     "name": "stdout",
     "output_type": "stream",
     "text": [
      "Using prompt(..., dedent=True):\n",
      "'Task: test'\n",
      "\n",
      "With trim_trailing=False:\n",
      "'Task: test\\n'\n"
     ]
    }
   ],
   "source": [
    "# Equivalent to dedent() but with explicit control\n",
    "task = \"test\"\n",
    "p = prompt(t\"\"\"\n",
    "    Task: {task:t}\n",
    "    \"\"\", dedent=True)\n",
    "print(\"Using prompt(..., dedent=True):\")\n",
    "print(repr(str(p)))\n",
    "\n",
    "# You can also disable specific trims if needed\n",
    "p2 = prompt(t\"\"\"\n",
    "    Task: {task:t}\n",
    "    \"\"\", dedent=True, trim_trailing=False)\n",
    "print(\"\\nWith trim_trailing=False:\")\n",
    "print(repr(str(p2)))"
   ]
  },
  {
   "cell_type": "markdown",
   "id": "realistic",
   "metadata": {},
   "source": [
    "## Realistic Example: LLM Prompt with Context\n",
    "\n",
    "Build a well-formatted prompt with multiple sections."
   ]
  },
  {
   "cell_type": "code",
   "execution_count": 6,
   "id": "realistic-demo",
   "metadata": {
    "execution": {
     "iopub.execute_input": "2025-10-14T19:54:04.268850Z",
     "iopub.status.busy": "2025-10-14T19:54:04.268727Z",
     "iopub.status.idle": "2025-10-14T19:54:04.271130Z",
     "shell.execute_reply": "2025-10-14T19:54:04.270890Z"
    }
   },
   "outputs": [
    {
     "name": "stdout",
     "output_type": "stream",
     "text": [
      "You are a helpful programming assistant.\n",
      "\n",
      "Context: User is a Python developer learning AI\n",
      "\n",
      "Question: How do I use transformers?\n",
      "\n",
      "Please provide a clear answer with code examples.\n"
     ]
    }
   ],
   "source": [
    "context = \"User is a Python developer learning AI\"\n",
    "question = \"How do I use transformers?\"\n",
    "\n",
    "p = dedent(t\"\"\"\n",
    "    You are a helpful programming assistant.\n",
    "\n",
    "    Context: {context:ctx}\n",
    "\n",
    "    Question: {question:q}\n",
    "\n",
    "    Please provide a clear answer with code examples.\n",
    "    \"\"\")\n",
    "\n",
    "print(str(p))"
   ]
  },
  {
   "cell_type": "markdown",
   "id": "with-lists",
   "metadata": {},
   "source": [
    "## Dedenting with List Interpolations\n",
    "\n",
    "Combine dedenting with list interpolations for clean, readable code."
   ]
  },
  {
   "cell_type": "code",
   "execution_count": 7,
   "id": "lists-demo",
   "metadata": {
    "execution": {
     "iopub.execute_input": "2025-10-14T19:54:04.272568Z",
     "iopub.status.busy": "2025-10-14T19:54:04.272457Z",
     "iopub.status.idle": "2025-10-14T19:54:04.275531Z",
     "shell.execute_reply": "2025-10-14T19:54:04.275274Z"
    }
   },
   "outputs": [
    {
     "name": "stdout",
     "output_type": "stream",
     "text": [
      "Task: translate to French\n",
      "\n",
      "Examples:\n",
      "English: hello -> French: bonjour\n",
      "English: goodbye -> French: au revoir\n",
      "English: thank you -> French: merci\n",
      "\n",
      "Now translate:\n"
     ]
    }
   ],
   "source": [
    "task = \"translate to French\"\n",
    "examples = [\n",
    "    prompt(t\"English: {eng:eng} -> French: {fr:fr}\")\n",
    "    for eng, fr in [(\"hello\", \"bonjour\"), (\"goodbye\", \"au revoir\"), (\"thank you\", \"merci\")]\n",
    "]\n",
    "\n",
    "p = dedent(t\"\"\"\n",
    "    Task: {task:t}\n",
    "\n",
    "    Examples:\n",
    "    {examples:ex}\n",
    "\n",
    "    Now translate:\n",
    "    \"\"\")\n",
    "\n",
    "print(str(p))"
   ]
  },
  {
   "cell_type": "markdown",
   "id": "nested",
   "metadata": {},
   "source": [
    "## Dedenting with Nested Prompts\n",
    "\n",
    "Each prompt is dedented independently at construction time."
   ]
  },
  {
   "cell_type": "code",
   "execution_count": 8,
   "id": "nested-demo",
   "metadata": {
    "execution": {
     "iopub.execute_input": "2025-10-14T19:54:04.277424Z",
     "iopub.status.busy": "2025-10-14T19:54:04.277343Z",
     "iopub.status.idle": "2025-10-14T19:54:04.279849Z",
     "shell.execute_reply": "2025-10-14T19:54:04.279554Z"
    }
   },
   "outputs": [
    {
     "name": "stdout",
     "output_type": "stream",
     "text": [
      "System: You are a helpful assistant.\n",
      "Always be polite and concise.\n",
      "\n",
      "User: What is Python?\n"
     ]
    }
   ],
   "source": [
    "system = dedent(t\"\"\"\n",
    "    You are a helpful assistant.\n",
    "    Always be polite and concise.\n",
    "    \"\"\")\n",
    "\n",
    "user_query = \"What is Python?\"\n",
    "\n",
    "conversation = dedent(t\"\"\"\n",
    "    System: {system:sys}\n",
    "\n",
    "    User: {user_query:user}\n",
    "    \"\"\")\n",
    "\n",
    "print(str(conversation))"
   ]
  },
  {
   "cell_type": "markdown",
   "id": "preserving",
   "metadata": {},
   "source": [
    "## Preserving Original Strings\n",
    "\n",
    "The original template strings are preserved for provenance, even after dedenting."
   ]
  },
  {
   "cell_type": "code",
   "execution_count": 9,
   "id": "preserving-demo",
   "metadata": {
    "execution": {
     "iopub.execute_input": "2025-10-14T19:54:04.281335Z",
     "iopub.status.busy": "2025-10-14T19:54:04.281233Z",
     "iopub.status.idle": "2025-10-14T19:54:04.283678Z",
     "shell.execute_reply": "2025-10-14T19:54:04.283440Z"
    }
   },
   "outputs": [
    {
     "name": "stdout",
     "output_type": "stream",
     "text": [
      "Original strings:\n",
      "('\\n    Hello ', '\\n    ')\n",
      "\n",
      "Rendered text:\n",
      "'Hello world'\n"
     ]
    }
   ],
   "source": [
    "text = \"world\"\n",
    "p = dedent(t\"\"\"\n",
    "    Hello {text:t}\n",
    "    \"\"\")\n",
    "\n",
    "# Original strings preserved in template\n",
    "print(\"Original strings:\")\n",
    "print(repr(p.template.strings))\n",
    "\n",
    "# But rendered text uses dedented version\n",
    "print(\"\\nRendered text:\")\n",
    "print(repr(str(p)))"
   ]
  },
  {
   "cell_type": "markdown",
   "id": "how-it-works",
   "metadata": {},
   "source": [
    "## How Dedenting Works\n",
    "\n",
    "1. **Trim leading**: Remove first line if it's just whitespace + newline\n",
    "2. **Trim empty leading**: Remove empty lines after first line  \n",
    "3. **Dedent**: Find first non-empty line's indent, remove that from all lines\n",
    "4. **Trim trailing**: Remove trailing whitespace lines\n",
    "\n",
    "Processing happens at construction time, modifying static segments before creating elements."
   ]
  },
  {
   "cell_type": "code",
   "execution_count": 10,
   "id": "steps-demo",
   "metadata": {
    "execution": {
     "iopub.execute_input": "2025-10-14T19:54:04.284865Z",
     "iopub.status.busy": "2025-10-14T19:54:04.284777Z",
     "iopub.status.idle": "2025-10-14T19:54:04.286783Z",
     "shell.execute_reply": "2025-10-14T19:54:04.286572Z"
    }
   },
   "outputs": [
    {
     "name": "stdout",
     "output_type": "stream",
     "text": [
      "Original (in source):\n",
      "'\\n    Line 1: {text}\\n    Line 2\\n    '\n",
      "\n",
      "After trim_leading (remove first \\n):\n",
      "'    Line 1: {text}\\n    Line 2\\n    '\n",
      "\n",
      "After dedent (remove 4 spaces from each line):\n",
      "'Line 1: {text}\\nLine 2\\n    '\n",
      "\n",
      "After trim_trailing (remove final whitespace):\n",
      "'Line 1: {text}\\nLine 2'\n"
     ]
    }
   ],
   "source": [
    "# See each step\n",
    "text = \"content\"\n",
    "\n",
    "# Step by step\n",
    "print(\"Original (in source):\")\n",
    "print(repr(\"\"\"\n",
    "    Line 1: {text}\n",
    "    Line 2\n",
    "    \"\"\"))\n",
    "\n",
    "print(\"\\nAfter trim_leading (remove first \\\\n):\")\n",
    "print(repr(\"\"\"    Line 1: {text}\n",
    "    Line 2\n",
    "    \"\"\"))\n",
    "\n",
    "print(\"\\nAfter dedent (remove 4 spaces from each line):\")\n",
    "print(repr(\"\"\"Line 1: {text}\n",
    "Line 2\n",
    "    \"\"\"))\n",
    "\n",
    "print(\"\\nAfter trim_trailing (remove final whitespace):\")\n",
    "print(repr(\"\"\"Line 1: {text}\n",
    "Line 2\"\"\"))"
   ]
  },
  {
   "cell_type": "markdown",
   "id": "best-practices",
   "metadata": {},
   "source": [
    "## Best Practices\n",
    "\n",
    "1. **Use dedenting for multi-line prompts** in functions/classes to keep code readable\n",
    "2. **Default trims are usually what you want** - they clean up leading/trailing lines\n",
    "3. **Dedent is opt-in** - only use when you need to remove indentation\n",
    "4. **Each prompt dedents independently** - nested prompts don't inherit dedenting"
   ]
  }
 ],
 "metadata": {
  "kernelspec": {
   "display_name": "Python 3",
   "language": "python",
   "name": "python3"
  },
  "language_info": {
   "codemirror_mode": {
    "name": "ipython",
    "version": 3
   },
   "file_extension": ".py",
   "mimetype": "text/x-python",
   "name": "python",
   "nbconvert_exporter": "python",
   "pygments_lexer": "ipython3",
   "version": "3.14.0"
  }
 },
 "nbformat": 4,
 "nbformat_minor": 5
}
