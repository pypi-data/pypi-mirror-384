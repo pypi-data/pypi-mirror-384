{
 "cells": [
  {
   "cell_type": "markdown",
   "metadata": {},
   "source": [
    "# Few-Shot Prompts\n",
    "\n",
    "Learn how to build few-shot prompts using dynamic format specs and list interpolation."
   ]
  },
  {
   "cell_type": "code",
   "execution_count": 1,
   "metadata": {
    "execution": {
     "iopub.execute_input": "2025-10-14T13:17:04.798509Z",
     "iopub.status.busy": "2025-10-14T13:17:04.798298Z",
     "iopub.status.idle": "2025-10-14T13:17:04.824211Z",
     "shell.execute_reply": "2025-10-14T13:17:04.823555Z"
    }
   },
   "outputs": [],
   "source": [
    "from t_prompts import prompt"
   ]
  },
  {
   "cell_type": "markdown",
   "metadata": {},
   "source": [
    "## Dynamic Format Specs\n",
    "\n",
    "Format specs can interpolate values just like f-strings. This is useful for creating programmatically-generated keys."
   ]
  },
  {
   "cell_type": "code",
   "execution_count": 2,
   "metadata": {
    "execution": {
     "iopub.execute_input": "2025-10-14T13:17:04.827343Z",
     "iopub.status.busy": "2025-10-14T13:17:04.827201Z",
     "iopub.status.idle": "2025-10-14T13:17:04.831181Z",
     "shell.execute_reply": "2025-10-14T13:17:04.830878Z"
    }
   },
   "outputs": [
    {
     "name": "stdout",
     "output_type": "stream",
     "text": [
      "Rendered: Translate this to French\n",
      "Key: translation_user_input\n",
      "Value: Translate this to French\n"
     ]
    }
   ],
   "source": [
    "# Format specs can contain interpolated values\n",
    "task = \"translation\"\n",
    "key_name = \"user_input\"\n",
    "user_msg = \"Translate this to French\"\n",
    "\n",
    "p = prompt(t\"{user_msg: {task}_{key_name} }\")\n",
    "\n",
    "print(f\"Rendered: {str(p)}\")\n",
    "print(f\"Key: {list(p.keys())[0]}\")\n",
    "print(f\"Value: {list(p.values())[0].value}\")"
   ]
  },
  {
   "cell_type": "markdown",
   "metadata": {},
   "source": [
    "## Building Few-Shot Examples with Numbered Keys\n",
    "\n",
    "Use dynamic format specs to create numbered example keys programmatically."
   ]
  },
  {
   "cell_type": "code",
   "execution_count": 3,
   "metadata": {
    "execution": {
     "iopub.execute_input": "2025-10-14T13:17:04.857412Z",
     "iopub.status.busy": "2025-10-14T13:17:04.857280Z",
     "iopub.status.idle": "2025-10-14T13:17:04.860235Z",
     "shell.execute_reply": "2025-10-14T13:17:04.859965Z"
    }
   },
   "outputs": [
    {
     "name": "stdout",
     "output_type": "stream",
     "text": [
      "Key: example_0, Value: The cat sat on the mat.\n",
      "Key: example_1, Value: Python is a programming language.\n",
      "Key: example_2, Value: Machine learning is fascinating.\n"
     ]
    }
   ],
   "source": [
    "examples = [\n",
    "    \"The cat sat on the mat.\",\n",
    "    \"Python is a programming language.\",\n",
    "    \"Machine learning is fascinating.\"\n",
    "]\n",
    "\n",
    "# Build prompts with dynamic keys like \"example_0\", \"example_1\", etc.\n",
    "example_prompts = []\n",
    "for i, ex in enumerate(examples):\n",
    "    p = prompt(t\"{ex: example_{i} }\")\n",
    "    example_prompts.append(p)\n",
    "    print(f\"Key: {list(p.keys())[0]}, Value: {ex}\")"
   ]
  },
  {
   "cell_type": "markdown",
   "metadata": {},
   "source": [
    "## List Interpolation with Default Separator\n",
    "\n",
    "Interpolate a list of `StructuredPrompt` objects. The default separator is a newline."
   ]
  },
  {
   "cell_type": "code",
   "execution_count": 4,
   "metadata": {
    "execution": {
     "iopub.execute_input": "2025-10-14T13:17:04.861565Z",
     "iopub.status.busy": "2025-10-14T13:17:04.861466Z",
     "iopub.status.idle": "2025-10-14T13:17:04.863674Z",
     "shell.execute_reply": "2025-10-14T13:17:04.863421Z"
    }
   },
   "outputs": [
    {
     "name": "stdout",
     "output_type": "stream",
     "text": [
      "Rendered with default separator (newline):\n",
      "Examples:\n",
      "The cat sat on the mat.\n",
      "Python is a programming language.\n",
      "Machine learning is fascinating.\n"
     ]
    }
   ],
   "source": [
    "# Interpolate the entire list\n",
    "few_shot = prompt(t\"Examples:\\n{example_prompts:examples}\")\n",
    "\n",
    "print(\"Rendered with default separator (newline):\")\n",
    "print(str(few_shot))"
   ]
  },
  {
   "cell_type": "markdown",
   "metadata": {},
   "source": [
    "## Custom Separators\n",
    "\n",
    "Use `sep=<value>` in render hints to specify a custom separator."
   ]
  },
  {
   "cell_type": "code",
   "execution_count": 5,
   "metadata": {
    "execution": {
     "iopub.execute_input": "2025-10-14T13:17:04.864959Z",
     "iopub.status.busy": "2025-10-14T13:17:04.864855Z",
     "iopub.status.idle": "2025-10-14T13:17:04.867093Z",
     "shell.execute_reply": "2025-10-14T13:17:04.866877Z"
    }
   },
   "outputs": [
    {
     "name": "stdout",
     "output_type": "stream",
     "text": [
      "With ' | ' separator:\n",
      "Examples: The cat sat on the mat. | Python is a programming language. | Machine learning is fascinating.\n",
      "\n",
      "With ', ' separator:\n",
      "Examples: The cat sat on the mat., Python is a programming language., Machine learning is fascinating.\n"
     ]
    }
   ],
   "source": [
    "# Use a pipe separator\n",
    "few_shot_pipes = prompt(t\"Examples: {example_prompts:examples:sep= | }\")\n",
    "print(\"With ' | ' separator:\")\n",
    "print(str(few_shot_pipes))\n",
    "\n",
    "# Use a comma separator\n",
    "few_shot_commas = prompt(t\"Examples: {example_prompts:examples:sep=, }\")\n",
    "print(\"\\nWith ', ' separator:\")\n",
    "print(str(few_shot_commas))"
   ]
  },
  {
   "cell_type": "markdown",
   "metadata": {},
   "source": [
    "## Navigating List Items\n",
    "\n",
    "Access individual items in the list through the nested structure."
   ]
  },
  {
   "cell_type": "code",
   "execution_count": 6,
   "metadata": {
    "execution": {
     "iopub.execute_input": "2025-10-14T13:17:04.868373Z",
     "iopub.status.busy": "2025-10-14T13:17:04.868279Z",
     "iopub.status.idle": "2025-10-14T13:17:04.870389Z",
     "shell.execute_reply": "2025-10-14T13:17:04.869956Z"
    }
   },
   "outputs": [
    {
     "name": "stdout",
     "output_type": "stream",
     "text": [
      "List length: 3\n",
      "\n",
      "First example key: example_0\n",
      "First example value: The cat sat on the mat.\n"
     ]
    }
   ],
   "source": [
    "# Get the list value\n",
    "examples_node = few_shot['examples']\n",
    "print(f\"List length: {len(examples_node)}\")\n",
    "\n",
    "# Access individual items\n",
    "first_example = examples_node[0]\n",
    "print(f\"\\nFirst example key: {list(first_example.keys())[0]}\")\n",
    "print(f\"First example value: {list(first_example.values())[0].value}\")"
   ]
  },
  {
   "cell_type": "markdown",
   "metadata": {},
   "source": [
    "## Complete Few-Shot Prompt Example\n",
    "\n",
    "Put it all together for a complete few-shot prompt."
   ]
  },
  {
   "cell_type": "code",
   "execution_count": 7,
   "metadata": {
    "execution": {
     "iopub.execute_input": "2025-10-14T13:17:04.871885Z",
     "iopub.status.busy": "2025-10-14T13:17:04.871741Z",
     "iopub.status.idle": "2025-10-14T13:17:04.874588Z",
     "shell.execute_reply": "2025-10-14T13:17:04.874356Z"
    }
   },
   "outputs": [
    {
     "name": "stdout",
     "output_type": "stream",
     "text": [
      "Answer the following question based on these examples:\n",
      "\n",
      "Q: What is 2+2?\n",
      "A: 4\n",
      "\n",
      "Q: What is the capital of France?\n",
      "A: Paris\n",
      "\n",
      "Q: What is Python?\n",
      "A: A programming language\n",
      "\n",
      "Q: What is 5+3?\n",
      "A:\n"
     ]
    }
   ],
   "source": [
    "# Create examples with context\n",
    "examples_with_labels = [\n",
    "    (\"What is 2+2?\", \"4\"),\n",
    "    (\"What is the capital of France?\", \"Paris\"),\n",
    "    (\"What is Python?\", \"A programming language\"),\n",
    "]\n",
    "\n",
    "# Build structured examples\n",
    "structured_examples = []\n",
    "for i, (question, answer) in enumerate(examples_with_labels):\n",
    "    ex_prompt = prompt(t\"Q: {question: q_{i} }\\nA: {answer: a_{i} }\")\n",
    "    structured_examples.append(ex_prompt)\n",
    "\n",
    "# Create the full few-shot prompt\n",
    "task_instruction = \"Answer the following question based on these examples:\"\n",
    "new_question = \"What is 5+3?\"\n",
    "\n",
    "# Build prompt with list separator\n",
    "full_prompt = prompt(\n",
    "    t\"{task_instruction:instruction}\\n\\n{structured_examples:examples:sep=\\n\\n}\\n\\nQ: {new_question:new_q}\\nA:\"\n",
    ")\n",
    "\n",
    "print(str(full_prompt))"
   ]
  }
 ],
 "metadata": {
  "kernelspec": {
   "display_name": "Python 3",
   "language": "python",
   "name": "python3"
  },
  "language_info": {
   "codemirror_mode": {
    "name": "ipython",
    "version": 3
   },
   "file_extension": ".py",
   "mimetype": "text/x-python",
   "name": "python",
   "nbconvert_exporter": "python",
   "pygments_lexer": "ipython3",
   "version": "3.14.0"
  }
 },
 "nbformat": 4,
 "nbformat_minor": 2
}
