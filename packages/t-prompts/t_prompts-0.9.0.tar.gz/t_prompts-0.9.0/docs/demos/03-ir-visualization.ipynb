{
 "cells": [
  {
   "cell_type": "markdown",
   "metadata": {},
   "source": [
    "# IntermediateRepresentation Visualization Demo\n",
    "\n",
    "This notebook demonstrates the HTML visualization of `IntermediateRepresentation` objects in Jupyter notebooks.\n",
    "\n",
    "The `IntermediateRepresentation` (IR) is the bridge between structured prompts and their final output. It includes:\n",
    "- **Chunks**: Text and image chunks in the rendered output\n",
    "- **Source mapping**: Bidirectional mapping between output positions and source elements\n",
    "- **JSON serialization**: For logging and debugging"
   ]
  },
  {
   "cell_type": "code",
   "execution_count": 1,
   "metadata": {},
   "outputs": [],
   "source": [
    "from t_prompts import prompt"
   ]
  },
  {
   "cell_type": "markdown",
   "metadata": {},
   "source": [
    "## Example 1: Simple Text Prompt\n",
    "\n",
    "A basic prompt with two interpolations."
   ]
  },
  {
   "cell_type": "code",
   "execution_count": 2,
   "metadata": {},
   "outputs": [
    {
     "name": "stdout",
     "output_type": "stream",
     "text": [
      "Text output:\n",
      "Task: translate to French\n",
      "Context: User is a beginner\n",
      "\n",
      "HTML visualization:\n"
     ]
    },
    {
     "data": {
      "text/html": [
       "<div style=\"font-family: monospace; border: 1px solid #ccc; padding: 10px; margin: 10px 0;\"><pre style=\"background-color: #f5f5f5; padding: 10px; margin: 5px 0; border-radius: 4px; overflow-x: auto;\">Task: translate to French\n",
       "Context: User is a beginner</pre></div>"
      ],
      "text/plain": [
       "IntermediateRepresentation(chunks=1, spans=4)"
      ]
     },
     "execution_count": 2,
     "metadata": {},
     "output_type": "execute_result"
    }
   ],
   "source": [
    "task = \"translate to French\"\n",
    "context = \"User is a beginner\"\n",
    "\n",
    "p1 = prompt(t\"Task: {task:t}\\nContext: {context:c}\")\n",
    "ir1 = p1.render()\n",
    "\n",
    "print(\"Text output:\")\n",
    "print(ir1.text)\n",
    "print(\"\\nHTML visualization:\")\n",
    "ir1"
   ]
  },
  {
   "cell_type": "markdown",
   "metadata": {},
   "source": [
    "## Example 2: Nested Prompts\n",
    "\n",
    "Building a conversation with nested prompts."
   ]
  },
  {
   "cell_type": "code",
   "execution_count": 3,
   "metadata": {},
   "outputs": [
    {
     "name": "stdout",
     "output_type": "stream",
     "text": [
      "Nested prompt structure:\n",
      "- System: You are a helpful assistant\n",
      "- User query: What is Python?\n",
      "- Assistant response: Python is a high-level programming language.\n",
      "\n",
      "HTML visualization:\n"
     ]
    },
    {
     "data": {
      "text/html": [
       "<div style=\"font-family: monospace; border: 1px solid #ccc; padding: 10px; margin: 10px 0;\"><pre style=\"background-color: #f5f5f5; padding: 10px; margin: 5px 0; border-radius: 4px; overflow-x: auto;\">You are a helpful assistant\n",
       "\n",
       "User: What is Python?\n",
       "\n",
       "Assistant: Python is a high-level programming language.</pre></div>"
      ],
      "text/plain": [
       "IntermediateRepresentation(chunks=1, spans=7)"
      ]
     },
     "execution_count": 3,
     "metadata": {},
     "output_type": "execute_result"
    }
   ],
   "source": [
    "system = \"You are a helpful assistant\"\n",
    "user_query = \"What is Python?\"\n",
    "assistant_response = \"Python is a high-level programming language.\"\n",
    "\n",
    "p_system = prompt(t\"{system:sys}\")\n",
    "p_user = prompt(t\"User: {user_query:query}\")\n",
    "p_assistant = prompt(t\"Assistant: {assistant_response:response}\")\n",
    "\n",
    "p2 = prompt(t\"{p_system:system}\\n\\n{p_user:user}\\n\\n{p_assistant:assistant}\")\n",
    "ir2 = p2.render()\n",
    "\n",
    "print(\"Nested prompt structure:\")\n",
    "print(f\"- System: {p2['system']['sys'].value}\")\n",
    "print(f\"- User query: {p2['user']['query'].value}\")\n",
    "print(f\"- Assistant response: {p2['assistant']['response'].value}\")\n",
    "print(\"\\nHTML visualization:\")\n",
    "ir2"
   ]
  },
  {
   "cell_type": "markdown",
   "metadata": {},
   "source": [
    "## Example 3: Dedented Multi-line Prompt\n",
    "\n",
    "Using dedenting for readable source code."
   ]
  },
  {
   "cell_type": "code",
   "execution_count": 4,
   "metadata": {},
   "outputs": [
    {
     "name": "stdout",
     "output_type": "stream",
     "text": [
      "HTML visualization:\n"
     ]
    },
    {
     "data": {
      "text/html": [
       "<div style=\"font-family: monospace; border: 1px solid #ccc; padding: 10px; margin: 10px 0;\"><pre style=\"background-color: #f5f5f5; padding: 10px; margin: 5px 0; border-radius: 4px; overflow-x: auto;\">Instructions: Be concise and clear\n",
       "\n",
       "Examples:\n",
       "Example 1: Hello -&gt; Bonjour\n",
       "Example 2: Goodbye -&gt; Au revoir\n",
       "\n",
       "Question: How do you say &#x27;Good morning&#x27; in French?</pre></div>"
      ],
      "text/plain": [
       "IntermediateRepresentation(chunks=1, spans=6)"
      ]
     },
     "execution_count": 4,
     "metadata": {},
     "output_type": "execute_result"
    }
   ],
   "source": [
    "instructions = \"Be concise and clear\"\n",
    "examples = \"Example 1: Hello -> Bonjour\\nExample 2: Goodbye -> Au revoir\"\n",
    "question = \"How do you say 'Good morning' in French?\"\n",
    "\n",
    "p3 = prompt(t\"\"\"\n",
    "    Instructions: {instructions:inst}\n",
    "\n",
    "    Examples:\n",
    "    {examples:ex}\n",
    "\n",
    "    Question: {question:q}\n",
    "    \"\"\", dedent=True)\n",
    "\n",
    "ir3 = p3.render()\n",
    "print(\"HTML visualization:\")\n",
    "ir3"
   ]
  },
  {
   "cell_type": "markdown",
   "metadata": {},
   "source": [
    "## Example 4: List of Prompts\n",
    "\n",
    "Demonstrating list interpolation with custom separators."
   ]
  },
  {
   "cell_type": "code",
   "execution_count": 5,
   "metadata": {},
   "outputs": [
    {
     "name": "stdout",
     "output_type": "stream",
     "text": [
      "HTML visualization:\n"
     ]
    },
    {
     "data": {
      "text/html": [
       "<div style=\"font-family: monospace; border: 1px solid #ccc; padding: 10px; margin: 10px 0;\"><pre style=\"background-color: #f5f5f5; padding: 10px; margin: 5px 0; border-radius: 4px; overflow-x: auto;\">Translation Examples:\n",
       "English: hello -&gt; French: bonjour\n",
       "English: goodbye -&gt; French: au revoir\n",
       "English: thank you -&gt; French: merci\n",
       "\n",
       "Now translate:</pre></div>"
      ],
      "text/plain": [
       "IntermediateRepresentation(chunks=1, spans=14)"
      ]
     },
     "execution_count": 5,
     "metadata": {},
     "output_type": "execute_result"
    }
   ],
   "source": [
    "# Create a list of example prompts\n",
    "examples = [\n",
    "    prompt(t\"English: {eng:eng} -> French: {fr:fr}\")\n",
    "    for eng, fr in [\n",
    "        (\"hello\", \"bonjour\"),\n",
    "        (\"goodbye\", \"au revoir\"),\n",
    "        (\"thank you\", \"merci\")\n",
    "    ]\n",
    "]\n",
    "\n",
    "p4 = prompt(t\"\"\"\n",
    "    Translation Examples:\n",
    "    {examples:examples}\n",
    "\n",
    "    Now translate:\n",
    "    \"\"\", dedent=True)\n",
    "\n",
    "ir4 = p4.render()\n",
    "print(\"HTML visualization:\")\n",
    "ir4"
   ]
  },
  {
   "cell_type": "markdown",
   "metadata": {},
   "source": [
    "## Example 5: Complex Nested Structure\n",
    "\n",
    "A more complex example with multiple levels of nesting."
   ]
  },
  {
   "cell_type": "code",
   "execution_count": 8,
   "metadata": {},
   "outputs": [
    {
     "name": "stdout",
     "output_type": "stream",
     "text": [
      "Complex nested structure:\n"
     ]
    },
    {
     "ename": "TypeError",
     "evalue": "object of type 'StructuredInterpolation' has no len()",
     "output_type": "error",
     "traceback": [
      "\u001b[31m---------------------------------------------------------------------------\u001b[39m",
      "\u001b[31mTypeError\u001b[39m                                 Traceback (most recent call last)",
      "\u001b[36mCell\u001b[39m\u001b[36m \u001b[39m\u001b[32mIn[8]\u001b[39m\u001b[32m, line 36\u001b[39m\n\u001b[32m     34\u001b[39m ir5 = p5.render()\n\u001b[32m     35\u001b[39m \u001b[38;5;28mprint\u001b[39m(\u001b[33m\"\u001b[39m\u001b[33mComplex nested structure:\u001b[39m\u001b[33m\"\u001b[39m)\n\u001b[32m---> \u001b[39m\u001b[32m36\u001b[39m \u001b[38;5;28mprint\u001b[39m(\u001b[33mf\u001b[39m\u001b[33m\"\u001b[39m\u001b[33m- Metadata has \u001b[39m\u001b[38;5;132;01m{\u001b[39;00m\u001b[38;5;28;43mlen\u001b[39;49m\u001b[43m(\u001b[49m\u001b[43mp5\u001b[49m\u001b[43m[\u001b[49m\u001b[33;43m'\u001b[39;49m\u001b[33;43mmetadata\u001b[39;49m\u001b[33;43m'\u001b[39;49m\u001b[43m]\u001b[49m\u001b[43m)\u001b[49m\u001b[38;5;132;01m}\u001b[39;00m\u001b[33m interpolations\u001b[39m\u001b[33m\"\u001b[39m)\n\u001b[32m     37\u001b[39m \u001b[38;5;28mprint\u001b[39m(\u001b[33mf\u001b[39m\u001b[33m\"\u001b[39m\u001b[33m- Total characters: \u001b[39m\u001b[38;5;132;01m{\u001b[39;00m\u001b[38;5;28mlen\u001b[39m(ir5.text)\u001b[38;5;132;01m}\u001b[39;00m\u001b[33m\"\u001b[39m)\n\u001b[32m     38\u001b[39m \u001b[38;5;28mprint\u001b[39m(\u001b[33m\"\u001b[39m\u001b[38;5;130;01m\\n\u001b[39;00m\u001b[33mHTML visualization:\u001b[39m\u001b[33m\"\u001b[39m)\n",
      "\u001b[31mTypeError\u001b[39m: object of type 'StructuredInterpolation' has no len()"
     ]
    }
   ],
   "source": [
    "# Build a complex prompt structure\n",
    "role = \"expert translator\"\n",
    "language_pair = \"English to French\"\n",
    "task_type = \"technical translation\"\n",
    "\n",
    "# Metadata section\n",
    "p_metadata = prompt(t\"\"\"\n",
    "    Role: {role:role}\n",
    "    Language Pair: {language_pair:lang_pair}\n",
    "    Task Type: {task_type:task_type}\n",
    "    \"\"\", dedent=True)\n",
    "\n",
    "# Instructions section\n",
    "instruction_text = \"Translate the following technical document while preserving technical terms.\"\n",
    "p_instructions = prompt(t\"{instruction_text:text}\")\n",
    "\n",
    "# Document to translate\n",
    "doc_text = \"\"\"The algorithm utilizes a binary search tree\n",
    "to optimize query performance.\"\"\"\n",
    "p_document = prompt(t\"Document:\\n{doc_text:doc}\")\n",
    "\n",
    "# Combine everything\n",
    "p5 = prompt(t\"\"\"\n",
    "    === Translation Task ===\n",
    "\n",
    "    {p_metadata:metadata}\n",
    "\n",
    "    Instructions:\n",
    "    {p_instructions:instructions}\n",
    "\n",
    "    {p_document:document}\n",
    "    \"\"\", dedent=True)\n",
    "\n",
    "ir5 = p5.render()\n",
    "print(\"Complex nested structure:\")\n",
    "print(f\"- Metadata has {len(p5['metadata'])} interpolations\")\n",
    "print(f\"- Total characters: {len(ir5.text)}\")\n",
    "print(\"\\nHTML visualization:\")\n",
    "ir5"
   ]
  },
  {
   "cell_type": "code",
   "execution_count": 9,
   "metadata": {},
   "outputs": [
    {
     "name": "stdout",
     "output_type": "stream",
     "text": [
      "Multi-modal prompt structure:\n",
      "- Total interpolations: 3\n",
      "- Description: Here are two colored squares for demonstration\n",
      "- Red image: ImageInterpolation(key='red_img', expression='img', value=<PIL.Image>, index=3)\n",
      "- Blue image: ImageInterpolation(key='blue_img', expression='img2', value=<PIL.Image>, index=5)\n"
     ]
    }
   ],
   "source": [
    "from PIL import Image\n",
    "\n",
    "# Create a simple test image (red square)\n",
    "img = Image.new('RGB', (100, 100), color='red')\n",
    "\n",
    "# Create another test image (blue square)\n",
    "img2 = Image.new('RGB', (100, 100), color='blue')\n",
    "\n",
    "description = \"Here are two colored squares for demonstration\"\n",
    "\n",
    "# Create a prompt with images\n",
    "p6 = prompt(t\"\"\"\n",
    "    {description:desc}\n",
    "\n",
    "    Red square: {img:red_img}\n",
    "    Blue square: {img2:blue_img}\n",
    "    \"\"\", dedent=True)\n",
    "\n",
    "print(\"Multi-modal prompt structure:\")\n",
    "print(f\"- Total interpolations: {len(p6)}\")\n",
    "print(f\"- Description: {p6['desc'].value}\")\n",
    "print(f\"- Red image: {p6['red_img']}\")\n",
    "print(f\"- Blue image: {p6['blue_img']}\")\n",
    "\n",
    "# Note: render() would raise ImageRenderError\n",
    "# ir6 = p6.render()  # This would fail"
   ]
  },
  {
   "cell_type": "markdown",
   "metadata": {},
   "source": [
    "## Example 6: Multi-modal Prompt with Images\n",
    "\n",
    "**Note**: Multi-modal rendering (combining text and images in the IR) is not yet implemented. Currently, prompts with images cannot be rendered to IR, but you can still access the image interpolations through the prompt structure."
   ]
  },
  {
   "cell_type": "markdown",
   "metadata": {},
   "source": [
    "## JSON Serialization\n",
    "\n",
    "The IR can also be serialized to JSON for logging and debugging."
   ]
  },
  {
   "cell_type": "code",
   "execution_count": 10,
   "metadata": {},
   "outputs": [
    {
     "name": "stdout",
     "output_type": "stream",
     "text": [
      "JSON structure:\n",
      "{\n",
      "  \"chunks\": [\n",
      "    {\n",
      "      \"type\": \"text\",\n",
      "      \"id\": \"a333c793-39fa-4f53-b240-bd3e11d42eee\",\n",
      "      \"chunk_index\": 0,\n",
      "      \"text\": \"Task: translate to French\\nContext: User is a beginner\"\n",
      "    }\n",
      "  ],\n",
      "  \"source_map\": [\n",
      "    {\n",
      "      \"start\": 0,\n",
      "      \"end\": 6,\n",
      "      \"key\": 0,\n",
      "      \"path\": [],\n",
      "      \"element_type\": \"static\",\n",
      "      \"chunk_index\": 0,\n",
      "      \"element_id\": \"1c9b356d-28fb-4a77-b8a2-8d581891f542\"\n",
      "    },\n",
      "    {\n",
      "      \"start\": 6,\n",
      "      \"end\": 25,\n",
      "      \"key\": \"t\",\n",
      "      \"path\": [],\n",
      "      \"element_type\": \"interpolation\",\n",
      "      \"chunk_index\": 0,\n",
      "      \"element_id\": \"3c5439be-f4b2-421f-b077-e7091dcd2551\"\n",
      "    },\n",
      "    {\n",
      "      \"start\": 25,\n",
      "      \"end\": 35,\n",
      "      \"key\": 1,\n",
      "      \"path\": [],\n",
      "      \"element_type\": \"static\",\n",
      "      \"chunk_index\": 0,\n",
      "      \"element_id\": \"197ea5b1-0782-4475-b19e-950b914b8b84\"\n",
      "    },\n",
      "    {\n",
      "      \"start\": 35,\n",
      "      \"end\": 53,\n",
      "      \"key\": \"c\",\n",
      "      \"path\": [],\n",
      "      \"element_type\": \"interpolation\",\n",
      "      \"chunk_index\": 0,\n",
      "      \"element_id\": \"984e7d96-7a67-49ed-b637-707e24b3ad3b\"\n",
      "    }\n",
      "  ],\n",
      "  \"source_prompt\": {\n",
      "    \"strings\": [\n",
      "      \"Task: \",\n",
      "      \"\\nContext: \",\n",
      "      \"\"\n",
      "    ],\n",
      "    \"nodes\": [\n",
      "      {\n",
      "        \"key\": \"t\",\n",
      "        \"expression\": \"task\",\n",
      "        \"conversion\": null,\n",
      "        \"format_spec\": \"t\",\n",
      "        \"render_hints\": \"\",\n",
      "        \"index\": 1,\n",
      "        \"source_location\": {\n",
      "          \"filename\": \"1661577951.py\",\n",
      "          \"filepath\": \"/private/var/folders/vw/tdwty7n902d81s2lj6nz2y9w0000gn/T/ipykernel_68546/1661577951.py\",\n",
      "          \"line\": 4\n",
      "        },\n",
      "        \"value\": \"translate to French\"\n",
      "      },\n",
      "      {\n",
      "        \"key\": \"c\",\n",
      "        \"expression\": \"context\",\n",
      "        \"conversion\": null,\n",
      "        \"format_spec\": \"c\",\n",
      "        \"render_hints\": \"\",\n",
      "        \"index\": 3,\n",
      "        \"source_location\": {\n",
      "          \"filename\": \"1661577951.py\",\n",
      "          \"filepath\": \"/private/var/folders/vw/tdwty7n902d81s2lj6nz2y9w0000gn/T/ipykernel_68546/1661577951.py\",\n",
      "          \"line\": 4\n",
      "        },\n",
      "        \"value\": \"User is a beginner\"\n",
      "      }\n",
      "    ]\n",
      "  },\n",
      "  \"source_prompt_id\": \"81057887-0ebb-4fc5-a203-73d535450722\"\n",
      "}\n"
     ]
    }
   ],
   "source": [
    "import json\n",
    "\n",
    "# Serialize the first example to JSON\n",
    "json_data = ir1.to_json()\n",
    "\n",
    "print(\"JSON structure:\")\n",
    "print(json.dumps(json_data, indent=2))"
   ]
  },
  {
   "cell_type": "markdown",
   "metadata": {},
   "source": [
    "## Source Mapping\n",
    "\n",
    "The IR maintains bidirectional mapping between output and source elements."
   ]
  },
  {
   "cell_type": "code",
   "execution_count": 11,
   "metadata": {},
   "outputs": [
    {
     "name": "stdout",
     "output_type": "stream",
     "text": [
      "Position 6:\n",
      "  - Key: t\n",
      "  - Element type: interpolation\n",
      "  - Text: 'translate to French'\n",
      "\n",
      "Key 'c' (context):\n",
      "  - Position: 35-53\n",
      "  - Text: 'User is a beginner'\n"
     ]
    }
   ],
   "source": [
    "# Find what produced a position in the text\n",
    "position = 6  # Position of 't' in \"translate\"\n",
    "span = ir1.get_span_at(position)\n",
    "\n",
    "print(f\"Position {position}:\")\n",
    "print(f\"  - Key: {span.key}\")\n",
    "print(f\"  - Element type: {span.element_type}\")\n",
    "print(f\"  - Text: {ir1.text[span.start:span.end]!r}\")\n",
    "\n",
    "# Find where a key was rendered\n",
    "span_for_context = ir1.get_span_for_key('c')\n",
    "print(\"\\nKey 'c' (context):\")\n",
    "print(f\"  - Position: {span_for_context.start}-{span_for_context.end}\")\n",
    "print(f\"  - Text: {ir1.text[span_for_context.start:span_for_context.end]!r}\")"
   ]
  },
  {
   "cell_type": "code",
   "execution_count": null,
   "metadata": {},
   "outputs": [],
   "source": []
  }
 ],
 "metadata": {
  "kernelspec": {
   "display_name": "t-prompts",
   "language": "python",
   "name": "python3"
  },
  "language_info": {
   "codemirror_mode": {
    "name": "ipython",
    "version": 3
   },
   "file_extension": ".py",
   "mimetype": "text/x-python",
   "name": "python",
   "nbconvert_exporter": "python",
   "pygments_lexer": "ipython3",
   "version": "3.14.0b3"
  }
 },
 "nbformat": 4,
 "nbformat_minor": 4
}
