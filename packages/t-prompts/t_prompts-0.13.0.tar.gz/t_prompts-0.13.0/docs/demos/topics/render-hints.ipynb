{
 "cells": [
  {
   "cell_type": "markdown",
   "metadata": {},
   "source": [
    "# Render Hints: XML and Header Formatting\n",
    "\n",
    "This tutorial shows how to use render hints to add XML wrappers and Markdown headers to your prompts.\n",
    "\n",
    "Render hints are specified in the format spec after the key:\n",
    "- `{value:key:xml=tag}` - Wrap in XML tags\n",
    "- `{value:key:header=text}` or `{value:key:header}` - Add Markdown header\n",
    "- Both can be combined: `{value:key:header=Title:xml=tag}`"
   ]
  },
  {
   "cell_type": "code",
   "execution_count": 1,
   "metadata": {
    "execution": {
     "iopub.execute_input": "2025-10-17T13:13:15.932318Z",
     "iopub.status.busy": "2025-10-17T13:13:15.931951Z",
     "iopub.status.idle": "2025-10-17T13:13:15.978631Z",
     "shell.execute_reply": "2025-10-17T13:13:15.978199Z"
    }
   },
   "outputs": [],
   "source": [
    "from t_prompts import dedent, prompt"
   ]
  },
  {
   "cell_type": "markdown",
   "metadata": {},
   "source": [
    "## XML Hint: Wrapping Content in Tags\n",
    "\n",
    "The `xml=<tag>` render hint wraps interpolated content in XML-style tags."
   ]
  },
  {
   "cell_type": "code",
   "execution_count": 2,
   "metadata": {
    "execution": {
     "iopub.execute_input": "2025-10-17T13:13:15.980843Z",
     "iopub.status.busy": "2025-10-17T13:13:15.980686Z",
     "iopub.status.idle": "2025-10-17T13:13:15.983935Z",
     "shell.execute_reply": "2025-10-17T13:13:15.983446Z"
    }
   },
   "outputs": [
    {
     "name": "stdout",
     "output_type": "stream",
     "text": [
      "<thinking>\n",
      "This is my reasoning process for solving the problem.\n",
      "</thinking>\n"
     ]
    }
   ],
   "source": [
    "# Basic XML wrapping\n",
    "content = \"This is my reasoning process for solving the problem.\"\n",
    "p = prompt(t\"{content:reasoning:xml=thinking}\")\n",
    "\n",
    "print(str(p))"
   ]
  },
  {
   "cell_type": "markdown",
   "metadata": {},
   "source": [
    "## XML with Multiline Content\n",
    "\n",
    "XML wrapping works seamlessly with multiline text."
   ]
  },
  {
   "cell_type": "code",
   "execution_count": 3,
   "metadata": {
    "execution": {
     "iopub.execute_input": "2025-10-17T13:13:16.009030Z",
     "iopub.status.busy": "2025-10-17T13:13:16.008911Z",
     "iopub.status.idle": "2025-10-17T13:13:16.011240Z",
     "shell.execute_reply": "2025-10-17T13:13:16.010988Z"
    }
   },
   "outputs": [
    {
     "name": "stdout",
     "output_type": "stream",
     "text": [
      "<analysis>\n",
      "Step 1: Understand the problem\n",
      "Step 2: Break it down\n",
      "Step 3: Solve each part\n",
      "</analysis>\n"
     ]
    }
   ],
   "source": [
    "# XML wrapping with multiline content\n",
    "analysis = \"\"\"Step 1: Understand the problem\n",
    "Step 2: Break it down\n",
    "Step 3: Solve each part\"\"\"\n",
    "\n",
    "p = prompt(t\"{analysis:steps:xml=analysis}\")\n",
    "print(str(p))"
   ]
  },
  {
   "cell_type": "markdown",
   "metadata": {},
   "source": [
    "## Nested XML Tags\n",
    "\n",
    "When prompts with XML hints are nested, the tags nest correctly."
   ]
  },
  {
   "cell_type": "code",
   "execution_count": 4,
   "metadata": {
    "execution": {
     "iopub.execute_input": "2025-10-17T13:13:16.012416Z",
     "iopub.status.busy": "2025-10-17T13:13:16.012333Z",
     "iopub.status.idle": "2025-10-17T13:13:16.014588Z",
     "shell.execute_reply": "2025-10-17T13:13:16.014338Z"
    }
   },
   "outputs": [
    {
     "name": "stdout",
     "output_type": "stream",
     "text": [
      "Outer context\n",
      "<process>\n",
      "<step>\n",
      "Inner reasoning\n",
      "</step>\n",
      "</process>\n"
     ]
    }
   ],
   "source": [
    "# XML wrapping with nested prompts\n",
    "inner_content = \"Inner reasoning\"\n",
    "inner = prompt(t\"{inner_content:ic:xml=step}\")\n",
    "\n",
    "outer_content = \"Outer context\"\n",
    "outer = prompt(t\"{outer_content:oc}\\n{inner:inner:xml=process}\")\n",
    "\n",
    "print(str(outer))"
   ]
  },
  {
   "cell_type": "markdown",
   "metadata": {},
   "source": [
    "## Header Hint: Adding Markdown Headers\n",
    "\n",
    "The `header=<heading>` or `header` render hint adds Markdown-style headers."
   ]
  },
  {
   "cell_type": "code",
   "execution_count": 5,
   "metadata": {
    "execution": {
     "iopub.execute_input": "2025-10-17T13:13:16.015753Z",
     "iopub.status.busy": "2025-10-17T13:13:16.015670Z",
     "iopub.status.idle": "2025-10-17T13:13:16.017601Z",
     "shell.execute_reply": "2025-10-17T13:13:16.017362Z"
    }
   },
   "outputs": [
    {
     "name": "stdout",
     "output_type": "stream",
     "text": [
      "# Task Description\n",
      "Translate the following text to French\n"
     ]
    }
   ],
   "source": [
    "# Basic header with explicit text\n",
    "task = \"Translate the following text to French\"\n",
    "p = prompt(t\"{task:t:header=Task Description}\")\n",
    "\n",
    "print(str(p))"
   ]
  },
  {
   "cell_type": "markdown",
   "metadata": {},
   "source": [
    "## Header Using Key as Heading\n",
    "\n",
    "When you use `header` without specifying text, it uses the key name as the heading."
   ]
  },
  {
   "cell_type": "code",
   "execution_count": 6,
   "metadata": {
    "execution": {
     "iopub.execute_input": "2025-10-17T13:13:16.018694Z",
     "iopub.status.busy": "2025-10-17T13:13:16.018622Z",
     "iopub.status.idle": "2025-10-17T13:13:16.020592Z",
     "shell.execute_reply": "2025-10-17T13:13:16.020387Z"
    }
   },
   "outputs": [
    {
     "name": "stdout",
     "output_type": "stream",
     "text": [
      "# Instructions\n",
      "Follow these guidelines carefully\n"
     ]
    }
   ],
   "source": [
    "# Header using key as heading\n",
    "instructions = \"Follow these guidelines carefully\"\n",
    "p = prompt(t\"{instructions:Instructions:header}\")\n",
    "\n",
    "print(str(p))"
   ]
  },
  {
   "cell_type": "markdown",
   "metadata": {},
   "source": [
    "## Header Level Nesting\n",
    "\n",
    "Headers automatically increment their level when nested through prompts with the `header` hint."
   ]
  },
  {
   "cell_type": "code",
   "execution_count": 7,
   "metadata": {
    "execution": {
     "iopub.execute_input": "2025-10-17T13:13:16.021684Z",
     "iopub.status.busy": "2025-10-17T13:13:16.021619Z",
     "iopub.status.idle": "2025-10-17T13:13:16.023769Z",
     "shell.execute_reply": "2025-10-17T13:13:16.023563Z"
    }
   },
   "outputs": [
    {
     "name": "stdout",
     "output_type": "stream",
     "text": [
      "# Main Section\n",
      "This is the section introduction\n",
      "# sub\n",
      "## Subsection\n",
      "This is the subsection content\n"
     ]
    }
   ],
   "source": [
    "# Create nested structure with headers\n",
    "subsection_content = \"This is the subsection content\"\n",
    "subsection = prompt(t\"{subsection_content:content:header=Subsection}\")\n",
    "\n",
    "section_content = \"This is the section introduction\"\n",
    "section = prompt(t\"{section_content:intro:header=Main Section}\\n{subsection:sub:header}\")\n",
    "\n",
    "print(str(section))"
   ]
  },
  {
   "cell_type": "markdown",
   "metadata": {},
   "source": [
    "## Deep Nesting with Multiple Levels\n",
    "\n",
    "Headers continue to increment with deeper nesting."
   ]
  },
  {
   "cell_type": "code",
   "execution_count": 8,
   "metadata": {
    "execution": {
     "iopub.execute_input": "2025-10-17T13:13:16.024903Z",
     "iopub.status.busy": "2025-10-17T13:13:16.024835Z",
     "iopub.status.idle": "2025-10-17T13:13:16.027177Z",
     "shell.execute_reply": "2025-10-17T13:13:16.026947Z"
    }
   },
   "outputs": [
    {
     "name": "stdout",
     "output_type": "stream",
     "text": [
      "# Top Section\n",
      "## Middle Section\n",
      "### Deep Section\n",
      "Level 3 content\n"
     ]
    }
   ],
   "source": [
    "# Deep nesting with max level capping\n",
    "level3_content = \"Level 3 content\"\n",
    "level3 = prompt(t\"{level3_content:c:header=Deep Section}\")\n",
    "\n",
    "level2 = prompt(t\"{level3:l3:header=Middle Section}\")\n",
    "level1 = prompt(t\"{level2:l2:header=Top Section}\")\n",
    "\n",
    "print(str(level1))"
   ]
  },
  {
   "cell_type": "markdown",
   "metadata": {},
   "source": [
    "## Combining XML and Header Hints\n",
    "\n",
    "You can use both hints together. The header will be rendered outside the XML wrapper."
   ]
  },
  {
   "cell_type": "code",
   "execution_count": 9,
   "metadata": {
    "execution": {
     "iopub.execute_input": "2025-10-17T13:13:16.028261Z",
     "iopub.status.busy": "2025-10-17T13:13:16.028193Z",
     "iopub.status.idle": "2025-10-17T13:13:16.030177Z",
     "shell.execute_reply": "2025-10-17T13:13:16.029938Z"
    }
   },
   "outputs": [
    {
     "name": "stdout",
     "output_type": "stream",
     "text": [
      "# Analysis\n",
      "<thinking>\n",
      "First, I'll analyze the problem. Then I'll propose a solution.\n",
      "</thinking>\n"
     ]
    }
   ],
   "source": [
    "# Combine header and XML\n",
    "reasoning = \"First, I'll analyze the problem. Then I'll propose a solution.\"\n",
    "p = prompt(t\"{reasoning:r:header=Analysis:xml=thinking}\")\n",
    "\n",
    "print(str(p))"
   ]
  },
  {
   "cell_type": "markdown",
   "metadata": {},
   "source": [
    "## Complex Nesting with Both Hints\n",
    "\n",
    "Headers and XML tags work together in nested structures."
   ]
  },
  {
   "cell_type": "code",
   "execution_count": 10,
   "metadata": {
    "execution": {
     "iopub.execute_input": "2025-10-17T13:13:16.031336Z",
     "iopub.status.busy": "2025-10-17T13:13:16.031245Z",
     "iopub.status.idle": "2025-10-17T13:13:16.033575Z",
     "shell.execute_reply": "2025-10-17T13:13:16.033326Z"
    }
   },
   "outputs": [
    {
     "name": "stdout",
     "output_type": "stream",
     "text": [
      "# Main Analysis\n",
      "Overall approach to the problem\n",
      "# inner\n",
      "<process>\n",
      "## Sub-Analysis\n",
      "<step>\n",
      "Detailed analysis of the sub-problem\n",
      "</step>\n",
      "</process>\n"
     ]
    }
   ],
   "source": [
    "# Complex nested example with both hints\n",
    "inner_reasoning = \"Detailed analysis of the sub-problem\"\n",
    "inner = prompt(t\"{inner_reasoning:ir:header=Sub-Analysis:xml=step}\")\n",
    "\n",
    "outer_reasoning = \"Overall approach to the problem\"\n",
    "outer = prompt(t\"{outer_reasoning:or:header=Main Analysis}\\n{inner:inner:header:xml=process}\")\n",
    "\n",
    "print(str(outer))"
   ]
  },
  {
   "cell_type": "markdown",
   "metadata": {},
   "source": [
    "## Using Hints with Lists\n",
    "\n",
    "Render hints can wrap entire list interpolations."
   ]
  },
  {
   "cell_type": "code",
   "execution_count": 11,
   "metadata": {
    "execution": {
     "iopub.execute_input": "2025-10-17T13:13:16.034777Z",
     "iopub.status.busy": "2025-10-17T13:13:16.034701Z",
     "iopub.status.idle": "2025-10-17T13:13:16.037277Z",
     "shell.execute_reply": "2025-10-17T13:13:16.037064Z"
    }
   },
   "outputs": [
    {
     "name": "stdout",
     "output_type": "stream",
     "text": [
      "<examples>\n",
      "<example>\n",
      "Example 1: Basic case\n",
      "</example>\n",
      "<example>\n",
      "Example 2: Edge case\n",
      "</example>\n",
      "<example>\n",
      "Example 3: Complex case\n",
      "</example>\n",
      "</examples>\n"
     ]
    }
   ],
   "source": [
    "# XML wrapping a list - create separate instances\n",
    "example_texts = [\"Example 1: Basic case\", \"Example 2: Edge case\", \"Example 3: Complex case\"]\n",
    "examples = [\n",
    "    prompt(t\"{example_texts[i]:example:xml=example}\")\n",
    "    for i in range(len(example_texts))\n",
    "]\n",
    "\n",
    "p = prompt(t\"{examples:exs:xml=examples}\")\n",
    "print(str(p))"
   ]
  },
  {
   "cell_type": "markdown",
   "metadata": {},
   "source": [
    "## Header for List Sections\n",
    "\n",
    "Add headers to list sections for better organization."
   ]
  },
  {
   "cell_type": "code",
   "execution_count": 12,
   "metadata": {
    "execution": {
     "iopub.execute_input": "2025-10-17T13:13:16.038438Z",
     "iopub.status.busy": "2025-10-17T13:13:16.038370Z",
     "iopub.status.idle": "2025-10-17T13:13:16.040840Z",
     "shell.execute_reply": "2025-10-17T13:13:16.040629Z"
    }
   },
   "outputs": [
    {
     "name": "stdout",
     "output_type": "stream",
     "text": [
      "# Implementation Steps\n",
      "Initialize variables\n",
      "Process data\n",
      "Return results\n"
     ]
    }
   ],
   "source": [
    "# Header for a list section\n",
    "step_texts = [\"Initialize variables\", \"Process data\", \"Return results\"]\n",
    "steps = [\n",
    "    prompt(t\"{step_texts[i]:s}\")\n",
    "    for i in range(len(step_texts))\n",
    "]\n",
    "\n",
    "p = prompt(t\"{steps:steps:header=Implementation Steps}\")\n",
    "print(str(p))"
   ]
  },
  {
   "cell_type": "markdown",
   "metadata": {},
   "source": [
    "## Both Hints on Lists\n",
    "\n",
    "Combine both hints to create structured, sectioned lists."
   ]
  },
  {
   "cell_type": "code",
   "execution_count": 13,
   "metadata": {
    "execution": {
     "iopub.execute_input": "2025-10-17T13:13:16.041983Z",
     "iopub.status.busy": "2025-10-17T13:13:16.041918Z",
     "iopub.status.idle": "2025-10-17T13:13:16.044436Z",
     "shell.execute_reply": "2025-10-17T13:13:16.044176Z"
    }
   },
   "outputs": [
    {
     "name": "stdout",
     "output_type": "stream",
     "text": [
      "# Items\n",
      "<list>\n",
      "First item\n",
      "Second item\n",
      "Third item\n",
      "</list>\n"
     ]
    }
   ],
   "source": [
    "# Both hints on a list\n",
    "item_texts = [\"First item\", \"Second item\", \"Third item\"]\n",
    "items = [\n",
    "    prompt(t\"{item_texts[i]:i}\")\n",
    "    for i in range(len(item_texts))\n",
    "]\n",
    "\n",
    "p = prompt(t\"{items:items:header=Items:xml=list}\")\n",
    "print(str(p))"
   ]
  },
  {
   "cell_type": "markdown",
   "metadata": {},
   "source": [
    "## Combining with Separator Hints\n",
    "\n",
    "Use `sep=` along with `xml=` and `header=` hints to control list formatting."
   ]
  },
  {
   "cell_type": "code",
   "execution_count": 14,
   "metadata": {
    "execution": {
     "iopub.execute_input": "2025-10-17T13:13:16.045499Z",
     "iopub.status.busy": "2025-10-17T13:13:16.045437Z",
     "iopub.status.idle": "2025-10-17T13:13:16.047937Z",
     "shell.execute_reply": "2025-10-17T13:13:16.047709Z"
    }
   },
   "outputs": [
    {
     "name": "stdout",
     "output_type": "stream",
     "text": [
      "<fruits>\n",
      "apple, banana, cherry\n",
      "</fruits>\n"
     ]
    }
   ],
   "source": [
    "# Custom separator with XML wrapper\n",
    "fruit_names = [\"apple\", \"banana\", \"cherry\"]\n",
    "fruits = [\n",
    "    prompt(t\"{fruit_names[i]:i}\")\n",
    "    for i in range(len(fruit_names))\n",
    "]\n",
    "\n",
    "p = prompt(t\"{fruits:fruits:xml=fruits:sep=, }\")\n",
    "print(str(p))"
   ]
  },
  {
   "cell_type": "markdown",
   "metadata": {},
   "source": [
    "## All Three Hints Together\n",
    "\n",
    "Combine header, XML, and separator hints for maximum control."
   ]
  },
  {
   "cell_type": "code",
   "execution_count": 15,
   "metadata": {
    "execution": {
     "iopub.execute_input": "2025-10-17T13:13:16.049036Z",
     "iopub.status.busy": "2025-10-17T13:13:16.048962Z",
     "iopub.status.idle": "2025-10-17T13:13:16.051377Z",
     "shell.execute_reply": "2025-10-17T13:13:16.051166Z"
    }
   },
   "outputs": [
    {
     "name": "stdout",
     "output_type": "stream",
     "text": [
      "# Key Points\n",
      "<list>\n",
      "Point A | Point B | Point C\n",
      "</list>\n"
     ]
    }
   ],
   "source": [
    "# All three hints together\n",
    "point_names = [\"Point A\", \"Point B\", \"Point C\"]\n",
    "points = [\n",
    "    prompt(t\"{point_names[i]:p}\")\n",
    "    for i in range(len(point_names))\n",
    "]\n",
    "\n",
    "p = prompt(t\"{points:points:header=Key Points:xml=list:sep= | }\")\n",
    "print(str(p))"
   ]
  },
  {
   "cell_type": "markdown",
   "metadata": {},
   "source": [
    "## Integration with Dedenting\n",
    "\n",
    "Render hints work seamlessly with dedented prompts for clean source code."
   ]
  },
  {
   "cell_type": "code",
   "execution_count": 16,
   "metadata": {
    "execution": {
     "iopub.execute_input": "2025-10-17T13:13:16.052483Z",
     "iopub.status.busy": "2025-10-17T13:13:16.052413Z",
     "iopub.status.idle": "2025-10-17T13:13:16.054337Z",
     "shell.execute_reply": "2025-10-17T13:13:16.054132Z"
    }
   },
   "outputs": [
    {
     "name": "stdout",
     "output_type": "stream",
     "text": [
      "# Task\n",
      "Analyze the code for potential bugs\n",
      "\n",
      "Please provide a detailed analysis.\n"
     ]
    }
   ],
   "source": [
    "# Header with dedenting\n",
    "task = \"Analyze the code for potential bugs\"\n",
    "p = dedent(t\"\"\"\n",
    "    {task:task:header=Task}\n",
    "\n",
    "    Please provide a detailed analysis.\n",
    "    \"\"\")\n",
    "\n",
    "print(str(p))"
   ]
  },
  {
   "cell_type": "markdown",
   "metadata": {},
   "source": [
    "## XML with Dedenting\n",
    "\n",
    "XML tags integrate well with dedented multi-line prompts."
   ]
  },
  {
   "cell_type": "code",
   "execution_count": 17,
   "metadata": {
    "execution": {
     "iopub.execute_input": "2025-10-17T13:13:16.055404Z",
     "iopub.status.busy": "2025-10-17T13:13:16.055334Z",
     "iopub.status.idle": "2025-10-17T13:13:16.057389Z",
     "shell.execute_reply": "2025-10-17T13:13:16.057175Z"
    }
   },
   "outputs": [
    {
     "name": "stdout",
     "output_type": "stream",
     "text": [
      "First, let me think:\n",
      "\n",
      "<thinking>\n",
      "This is my thought process\n",
      "</thinking>\n",
      "\n",
      "Now I'll provide my answer.\n"
     ]
    }
   ],
   "source": [
    "# XML with dedenting\n",
    "reasoning = \"This is my thought process\"\n",
    "p = dedent(t\"\"\"\n",
    "    First, let me think:\n",
    "\n",
    "    {reasoning:r:xml=thinking}\n",
    "\n",
    "    Now I'll provide my answer.\n",
    "    \"\"\")\n",
    "\n",
    "print(str(p))"
   ]
  },
  {
   "cell_type": "markdown",
   "metadata": {},
   "source": [
    "## Both Hints with Dedenting\n",
    "\n",
    "Combine all features for clean, readable, structured prompts."
   ]
  },
  {
   "cell_type": "code",
   "execution_count": 18,
   "metadata": {
    "execution": {
     "iopub.execute_input": "2025-10-17T13:13:16.058423Z",
     "iopub.status.busy": "2025-10-17T13:13:16.058354Z",
     "iopub.status.idle": "2025-10-17T13:13:16.060165Z",
     "shell.execute_reply": "2025-10-17T13:13:16.059956Z"
    }
   },
   "outputs": [
    {
     "name": "stdout",
     "output_type": "stream",
     "text": [
      "# Analysis\n",
      "<process>\n",
      "Step 1: Identify the problem\n",
      "Step 2: Propose solutions\n",
      "</process>\n",
      "\n",
      "Conclusion: The problem is now clear.\n"
     ]
    }
   ],
   "source": [
    "# Both hints with dedenting\n",
    "analysis = \"Step 1: Identify the problem\\nStep 2: Propose solutions\"\n",
    "p = dedent(t\"\"\"\n",
    "    {analysis:a:header=Analysis:xml=process}\n",
    "\n",
    "    Conclusion: The problem is now clear.\n",
    "    \"\"\")\n",
    "\n",
    "print(str(p))"
   ]
  },
  {
   "cell_type": "markdown",
   "metadata": {},
   "source": [
    "## Realistic Example: Structured LLM Prompt\n",
    "\n",
    "Build a well-structured prompt for Claude with multiple sections using headers and XML."
   ]
  },
  {
   "cell_type": "code",
   "execution_count": 19,
   "metadata": {
    "execution": {
     "iopub.execute_input": "2025-10-17T13:13:16.061250Z",
     "iopub.status.busy": "2025-10-17T13:13:16.061184Z",
     "iopub.status.idle": "2025-10-17T13:13:16.064198Z",
     "shell.execute_reply": "2025-10-17T13:13:16.064002Z"
    }
   },
   "outputs": [
    {
     "name": "stdout",
     "output_type": "stream",
     "text": [
      "# System\n",
      "You are an expert Python developer.\n",
      "Provide clear, well-commented code.\n",
      "\n",
      "# Task\n",
      "Write a function to validate email addresses using regex\n",
      "\n",
      "# Examples\n",
      "<examples>\n",
      "Input: user@example.com\n",
      "Expected: Valid\n",
      "Input: invalid.email\n",
      "Expected: Invalid\n",
      "Input: test@domain.co.uk\n",
      "Expected: Valid\n",
      "</examples>\n",
      "\n",
      "# Constraints\n",
      "<requirements>\n",
      "Must handle international domains and subdomains\n",
      "</requirements>\n",
      "\n",
      "Please provide your implementation below.\n"
     ]
    }
   ],
   "source": [
    "# Create structured sections\n",
    "system_instructions = dedent(t\"\"\"\n",
    "    You are an expert Python developer.\n",
    "    Provide clear, well-commented code.\n",
    "    \"\"\")\n",
    "\n",
    "task_description = \"Write a function to validate email addresses using regex\"\n",
    "\n",
    "example_data = [\n",
    "    (\"user@example.com\", \"Valid\"),\n",
    "    (\"invalid.email\", \"Invalid\"),\n",
    "    (\"test@domain.co.uk\", \"Valid\")\n",
    "]\n",
    "\n",
    "examples = [\n",
    "    prompt(t\"Input: {example_data[i][0]:i}\\nExpected: {example_data[i][1]:o}\")\n",
    "    for i in range(len(example_data))\n",
    "]\n",
    "\n",
    "constraints = \"Must handle international domains and subdomains\"\n",
    "\n",
    "# Assemble the full prompt\n",
    "full_prompt = dedent(t\"\"\"\n",
    "    {system_instructions:sys:header=System}\n",
    "\n",
    "    {task_description:task:header=Task}\n",
    "\n",
    "    {examples:exs:header=Examples:xml=examples}\n",
    "\n",
    "    {constraints:constraints:header=Constraints:xml=requirements}\n",
    "\n",
    "    Please provide your implementation below.\n",
    "    \"\"\")\n",
    "\n",
    "print(str(full_prompt))"
   ]
  },
  {
   "cell_type": "markdown",
   "metadata": {},
   "source": [
    "## Controlling Max Header Level\n",
    "\n",
    "Use the `max_header_level` parameter in `ir()` to control header depth."
   ]
  },
  {
   "cell_type": "code",
   "execution_count": 20,
   "metadata": {
    "execution": {
     "iopub.execute_input": "2025-10-17T13:13:16.065250Z",
     "iopub.status.busy": "2025-10-17T13:13:16.065187Z",
     "iopub.status.idle": "2025-10-17T13:13:16.067806Z",
     "shell.execute_reply": "2025-10-17T13:13:16.067596Z"
    }
   },
   "outputs": [
    {
     "name": "stdout",
     "output_type": "stream",
     "text": [
      "Default max_header_level=4:\n",
      "# Level 1\n",
      "## Level 2\n",
      "### Level 3\n",
      "#### Level 4\n",
      "Content 4\n",
      "\n",
      "Custom max_header_level=2:\n",
      "# Level 1\n",
      "## Level 2\n",
      "## Level 3\n",
      "## Level 4\n",
      "Content 4\n"
     ]
    }
   ],
   "source": [
    "# Create deeply nested headers\n",
    "level4_content = \"Content 4\"\n",
    "level4 = prompt(t\"{level4_content:c:header=Level 4}\")\n",
    "level3 = prompt(t\"{level4:l4:header=Level 3}\")\n",
    "level2 = prompt(t\"{level3:l3:header=Level 2}\")\n",
    "level1 = prompt(t\"{level2:l2:header=Level 1}\")\n",
    "\n",
    "# Default max level (4)\n",
    "print(\"Default max_header_level=4:\")\n",
    "print(str(level1))\n",
    "print()\n",
    "\n",
    "# Custom max level (2)\n",
    "print(\"Custom max_header_level=2:\")\n",
    "ir_custom = level1.ir(max_header_level=2)\n",
    "print(ir_custom.text)"
   ]
  },
  {
   "cell_type": "markdown",
   "metadata": {},
   "source": [
    "## Summary\n",
    "\n",
    "Render hints provide powerful formatting control:\n",
    "\n",
    "✅ **XML tags** - Wrap content in semantic XML tags  \n",
    "✅ **Headers** - Add Markdown headers that auto-increment when nested  \n",
    "✅ **Combination** - Use both hints together for structured sections  \n",
    "✅ **Lists** - Apply hints to entire list interpolations  \n",
    "✅ **Separators** - Combine with sep= for complete formatting control  \n",
    "✅ **Dedenting** - Integrate seamlessly with dedent() for readable code  \n",
    "✅ **Max level** - Control header depth with max_header_level  \n",
    "\n",
    "**Best Practices:**\n",
    "- Use XML for structured content like `<thinking>`, `<analysis>`, `<examples>`\n",
    "- Use headers for major sections in complex prompts\n",
    "- Keep nesting reasonable (default max level of 4 works well)\n",
    "- Combine with dedenting for clean, maintainable source code"
   ]
  }
 ],
 "metadata": {
  "kernelspec": {
   "display_name": "structured-prompts",
   "language": "python",
   "name": "python3"
  },
  "language_info": {
   "codemirror_mode": {
    "name": "ipython",
    "version": 3
   },
   "file_extension": ".py",
   "mimetype": "text/x-python",
   "name": "python",
   "nbconvert_exporter": "python",
   "pygments_lexer": "ipython3",
   "version": "3.14.0"
  }
 },
 "nbformat": 4,
 "nbformat_minor": 2
}
