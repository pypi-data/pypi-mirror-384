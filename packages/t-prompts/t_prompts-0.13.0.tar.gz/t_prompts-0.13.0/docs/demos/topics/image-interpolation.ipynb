{
 "cells": [
  {
   "cell_type": "markdown",
   "metadata": {},
   "source": [
    "# Image Interpolation\n",
    "\n",
    "This tutorial shows how to interpolate PIL Image objects in t-prompts for multi-modal applications.\n",
    "\n",
    "When you include images in your prompts, they cannot be rendered to plain text. Instead, you access them directly through the prompt structure or via IntermediateRepresentation."
   ]
  },
  {
   "cell_type": "code",
   "execution_count": 1,
   "metadata": {
    "execution": {
     "iopub.execute_input": "2025-10-17T13:13:18.195897Z",
     "iopub.status.busy": "2025-10-17T13:13:18.195543Z",
     "iopub.status.idle": "2025-10-17T13:13:18.253397Z",
     "shell.execute_reply": "2025-10-17T13:13:18.252979Z"
    }
   },
   "outputs": [],
   "source": [
    "from PIL import Image\n",
    "\n",
    "from t_prompts import ImageInterpolation, ImageRenderError, dedent, prompt"
   ]
  },
  {
   "cell_type": "markdown",
   "metadata": {},
   "source": [
    "## Creating a Simple Image\n",
    "\n",
    "Let's start by creating a simple colored image for demonstration."
   ]
  },
  {
   "cell_type": "code",
   "execution_count": 2,
   "metadata": {
    "execution": {
     "iopub.execute_input": "2025-10-17T13:13:18.255837Z",
     "iopub.status.busy": "2025-10-17T13:13:18.255682Z",
     "iopub.status.idle": "2025-10-17T13:13:18.268707Z",
     "shell.execute_reply": "2025-10-17T13:13:18.268473Z"
    }
   },
   "outputs": [
    {
     "name": "stdout",
     "output_type": "stream",
     "text": [
      "Created image: (100, 100) pixels, mode: RGB\n"
     ]
    },
    {
     "data": {
      "image/jpeg": "[encoded data removed]",
      "image/png": "[encoded data removed]",
      "text/plain": [
       "<PIL.Image.Image image mode=RGB size=100x100>"
      ]
     },
     "execution_count": 2,
     "metadata": {},
     "output_type": "execute_result"
    }
   ],
   "source": [
    "# Create a simple blue square\n",
    "img = Image.new('RGB', (100, 100), color='blue')\n",
    "\n",
    "print(f\"Created image: {img.size} pixels, mode: {img.mode}\")\n",
    "img"
   ]
  },
  {
   "cell_type": "markdown",
   "metadata": {},
   "source": [
    "## Creating a Prompt with an Image\n",
    "\n",
    "Interpolate PIL Image objects just like any other value."
   ]
  },
  {
   "cell_type": "code",
   "execution_count": 3,
   "metadata": {
    "execution": {
     "iopub.execute_input": "2025-10-17T13:13:18.290519Z",
     "iopub.status.busy": "2025-10-17T13:13:18.290422Z",
     "iopub.status.idle": "2025-10-17T13:13:18.293044Z",
     "shell.execute_reply": "2025-10-17T13:13:18.292826Z"
    }
   },
   "outputs": [
    {
     "name": "stdout",
     "output_type": "stream",
     "text": [
      "Prompt has 2 interpolations\n",
      "Keys: ['inst', 'image']\n"
     ]
    }
   ],
   "source": [
    "# Create a prompt with an image interpolation\n",
    "instructions = \"Describe what you see in this image\"\n",
    "p = prompt(t\"{instructions:inst}\\nImage: {img:image}\")\n",
    "\n",
    "print(f\"Prompt has {len(list(p.keys()))} interpolations\")\n",
    "print(f\"Keys: {list(p.keys())}\")"
   ]
  },
  {
   "cell_type": "markdown",
   "metadata": {},
   "source": [
    "## Accessing the Image\n",
    "\n",
    "Access the image through the prompt structure using the key."
   ]
  },
  {
   "cell_type": "code",
   "execution_count": 4,
   "metadata": {
    "execution": {
     "iopub.execute_input": "2025-10-17T13:13:18.294144Z",
     "iopub.status.busy": "2025-10-17T13:13:18.294068Z",
     "iopub.status.idle": "2025-10-17T13:13:18.296536Z",
     "shell.execute_reply": "2025-10-17T13:13:18.296306Z"
    }
   },
   "outputs": [
    {
     "name": "stdout",
     "output_type": "stream",
     "text": [
      "Node type: ImageInterpolation\n",
      "Is ImageInterpolation: True\n",
      "\n",
      "Image size: (100, 100)\n",
      "Image mode: RGB\n"
     ]
    },
    {
     "data": {
      "image/jpeg": "[encoded data removed]",
      "image/png": "[encoded data removed]",
      "text/plain": [
       "<PIL.Image.Image image mode=RGB size=100x100>"
      ]
     },
     "execution_count": 4,
     "metadata": {},
     "output_type": "execute_result"
    }
   ],
   "source": [
    "# Access the image interpolation node\n",
    "image_node = p['image']\n",
    "\n",
    "print(f\"Node type: {type(image_node).__name__}\")\n",
    "print(f\"Is ImageInterpolation: {isinstance(image_node, ImageInterpolation)}\")\n",
    "\n",
    "# Access the image value\n",
    "retrieved_img = image_node.value\n",
    "print(f\"\\nImage size: {retrieved_img.size}\")\n",
    "print(f\"Image mode: {retrieved_img.mode}\")\n",
    "\n",
    "# Display the retrieved image\n",
    "retrieved_img"
   ]
  },
  {
   "cell_type": "markdown",
   "metadata": {},
   "source": [
    "## Rendering to Text Raises an Error\n",
    "\n",
    "Attempting to render a prompt containing images to text will raise an `ImageRenderError`."
   ]
  },
  {
   "cell_type": "code",
   "execution_count": 5,
   "metadata": {
    "execution": {
     "iopub.execute_input": "2025-10-17T13:13:18.297624Z",
     "iopub.status.busy": "2025-10-17T13:13:18.297540Z",
     "iopub.status.idle": "2025-10-17T13:13:18.299328Z",
     "shell.execute_reply": "2025-10-17T13:13:18.299094Z"
    }
   },
   "outputs": [
    {
     "name": "stdout",
     "output_type": "stream",
     "text": [
      "Unexpected success: Describe what you see in this image\n",
      "Image: [Image: Unknown 100x100 RGB]\n"
     ]
    }
   ],
   "source": [
    "# Try to render to text\n",
    "try:\n",
    "    rendered = str(p)\n",
    "    print(f\"Unexpected success: {rendered}\")\n",
    "except ImageRenderError as e:\n",
    "    print(\"Expected ImageRenderError:\")\n",
    "    print(f\"  {str(e)}\")"
   ]
  },
  {
   "cell_type": "markdown",
   "metadata": {},
   "source": [
    "## Provenance and Metadata\n",
    "\n",
    "Image interpolations preserve full provenance information."
   ]
  },
  {
   "cell_type": "code",
   "execution_count": 6,
   "metadata": {
    "execution": {
     "iopub.execute_input": "2025-10-17T13:13:18.300474Z",
     "iopub.status.busy": "2025-10-17T13:13:18.300403Z",
     "iopub.status.idle": "2025-10-17T13:13:18.302446Z",
     "shell.execute_reply": "2025-10-17T13:13:18.302247Z"
    }
   },
   "outputs": [
    {
     "name": "stdout",
     "output_type": "stream",
     "text": [
      "Metadata for image interpolation:\n",
      "  Expression: img\n",
      "  Key: image\n",
      "  Format spec: image\n",
      "  Index: 3\n",
      "  Parent: Describe what you see in this image\n",
      "Image: [Image: Unknown 100x100 RGB]\n"
     ]
    }
   ],
   "source": [
    "# Access metadata\n",
    "print(\"Metadata for image interpolation:\")\n",
    "print(f\"  Expression: {image_node.expression}\")\n",
    "print(f\"  Key: {image_node.key}\")\n",
    "print(f\"  Format spec: {image_node.format_spec}\")\n",
    "print(f\"  Index: {image_node.index}\")\n",
    "print(f\"  Parent: {image_node.parent}\")"
   ]
  },
  {
   "cell_type": "markdown",
   "metadata": {},
   "source": [
    "## Using IntermediateRepresentation with Images\n",
    "\n",
    "The IR provides a text placeholder for images when you need to inspect the structure."
   ]
  },
  {
   "cell_type": "code",
   "execution_count": 7,
   "metadata": {
    "execution": {
     "iopub.execute_input": "2025-10-17T13:13:18.303534Z",
     "iopub.status.busy": "2025-10-17T13:13:18.303467Z",
     "iopub.status.idle": "2025-10-17T13:13:18.305544Z",
     "shell.execute_reply": "2025-10-17T13:13:18.305334Z"
    }
   },
   "outputs": [
    {
     "name": "stdout",
     "output_type": "stream",
     "text": [
      "IR has 3 chunks:\n",
      "\n",
      "  0. TextChunk: 'Describe what you see in this image'\n",
      "  1. TextChunk: '\\nImage: '\n",
      "  2. ImageChunk: [Image: Unknown 100x100 RGB]\n",
      "\n",
      "IR text representation:\n",
      "Describe what you see in this image\n",
      "Image: [Image: Unknown 100x100 RGB]\n"
     ]
    }
   ],
   "source": [
    "# Get the IntermediateRepresentation\n",
    "ir = p.ir()\n",
    "\n",
    "# The IR includes ImageChunk objects\n",
    "print(f\"IR has {len(ir.chunks)} chunks:\\n\")\n",
    "for i, chunk in enumerate(ir.chunks):\n",
    "    chunk_type = type(chunk).__name__\n",
    "    if chunk_type == 'TextChunk':\n",
    "        print(f\"  {i}. TextChunk: {chunk.text!r}\")\n",
    "    else:\n",
    "        print(f\"  {i}. ImageChunk: {chunk.text}\")\n",
    "\n",
    "# The text property provides a placeholder\n",
    "print(f\"\\nIR text representation:\\n{ir.text}\")"
   ]
  },
  {
   "cell_type": "markdown",
   "metadata": {},
   "source": [
    "## Mixed Content Prompts\n",
    "\n",
    "You can freely mix text and images in your prompts."
   ]
  },
  {
   "cell_type": "code",
   "execution_count": 8,
   "metadata": {
    "execution": {
     "iopub.execute_input": "2025-10-17T13:13:18.306644Z",
     "iopub.status.busy": "2025-10-17T13:13:18.306575Z",
     "iopub.status.idle": "2025-10-17T13:13:18.308981Z",
     "shell.execute_reply": "2025-10-17T13:13:18.308783Z"
    }
   },
   "outputs": [
    {
     "name": "stdout",
     "output_type": "stream",
     "text": [
      "Total interpolations: 3\n",
      "\n",
      "  ctx: Text\n",
      "  color_a: Image ((100, 100))\n",
      "  color_b: Image ((100, 100))\n"
     ]
    }
   ],
   "source": [
    "# Create multiple images\n",
    "img_red = Image.new('RGB', (100, 100), color='red')\n",
    "img_green = Image.new('RGB', (100, 100), color='green')\n",
    "\n",
    "context = \"Color comparison task\"\n",
    "\n",
    "p_mixed = dedent(t\"\"\"\n",
    "    Context: {context:ctx}\n",
    "\n",
    "    Compare these two colors:\n",
    "    Color A: {img_red:color_a}\n",
    "    Color B: {img_green:color_b}\n",
    "\n",
    "    Provide a detailed comparison.\n",
    "    \"\"\")\n",
    "\n",
    "# Inspect the interpolations\n",
    "print(f\"Total interpolations: {len(list(p_mixed.keys()))}\\n\")\n",
    "for key in p_mixed.keys():\n",
    "    node = p_mixed[key]\n",
    "    if isinstance(node, ImageInterpolation):\n",
    "        print(f\"  {key}: Image ({node.value.size})\")\n",
    "    else:\n",
    "        print(f\"  {key}: Text\")"
   ]
  },
  {
   "cell_type": "markdown",
   "metadata": {},
   "source": [
    "## Practical Use Case: Multi-Modal LLM API\n",
    "\n",
    "Here's how you might use image interpolation with a multi-modal LLM API."
   ]
  },
  {
   "cell_type": "code",
   "execution_count": 9,
   "metadata": {
    "execution": {
     "iopub.execute_input": "2025-10-17T13:13:18.310120Z",
     "iopub.status.busy": "2025-10-17T13:13:18.310049Z",
     "iopub.status.idle": "2025-10-17T13:13:18.313123Z",
     "shell.execute_reply": "2025-10-17T13:13:18.312894Z"
    }
   },
   "outputs": [
    {
     "name": "stdout",
     "output_type": "stream",
     "text": [
      "Content blocks for API:\n",
      "  0. Text: 'You are a helpful assistant that analyzes images.'\n",
      "  1. Text: '\\n\\nTask: '\n",
      "  2. Text: 'What color is this square?'\n",
      "  3. Text: '\\n\\nImage to analyze:\\n'\n",
      "  4. Image: (100, 100)\n"
     ]
    }
   ],
   "source": [
    "def prepare_multimodal_message(p):\n",
    "    \"\"\"Convert a StructuredPrompt to a multi-modal API format.\n",
    "\n",
    "    This demonstrates how you might extract text and images\n",
    "    for a typical vision API that expects separate content blocks.\n",
    "    \"\"\"\n",
    "    content_blocks = []\n",
    "\n",
    "    # Get the IR to access chunks in order\n",
    "    ir = p.ir()\n",
    "\n",
    "    for chunk in ir.chunks:\n",
    "        chunk_type = type(chunk).__name__\n",
    "        if chunk_type == 'TextChunk':\n",
    "            content_blocks.append({\n",
    "                'type': 'text',\n",
    "                'text': chunk.text\n",
    "            })\n",
    "        elif chunk_type == 'ImageChunk':\n",
    "            content_blocks.append({\n",
    "                'type': 'image',\n",
    "                'image': chunk.image,  # PIL Image object\n",
    "                'element_id': chunk.element_id\n",
    "            })\n",
    "\n",
    "    return content_blocks\n",
    "\n",
    "# Example usage\n",
    "system_msg = \"You are a helpful assistant that analyzes images.\"\n",
    "task = \"What color is this square?\"\n",
    "\n",
    "p_api = dedent(t\"\"\"\n",
    "    {system_msg:system}\n",
    "\n",
    "    Task: {task:task}\n",
    "\n",
    "    Image to analyze:\n",
    "    {img:target_image}\n",
    "    \"\"\")\n",
    "\n",
    "# Convert to API format\n",
    "content = prepare_multimodal_message(p_api)\n",
    "\n",
    "print(\"Content blocks for API:\")\n",
    "for i, block in enumerate(content):\n",
    "    if block['type'] == 'text':\n",
    "        text_preview = block['text'][:50] + '...' if len(block['text']) > 50 else block['text']\n",
    "        print(f\"  {i}. Text: {text_preview!r}\")\n",
    "    else:\n",
    "        print(f\"  {i}. Image: {block['image'].size}\")"
   ]
  },
  {
   "cell_type": "markdown",
   "metadata": {},
   "source": [
    "## Working with Real Images\n",
    "\n",
    "Let's load a real image file and use it in a prompt."
   ]
  },
  {
   "cell_type": "code",
   "execution_count": 10,
   "metadata": {
    "execution": {
     "iopub.execute_input": "2025-10-17T13:13:18.314269Z",
     "iopub.status.busy": "2025-10-17T13:13:18.314198Z",
     "iopub.status.idle": "2025-10-17T13:13:18.316904Z",
     "shell.execute_reply": "2025-10-17T13:13:18.316714Z"
    }
   },
   "outputs": [
    {
     "name": "stdout",
     "output_type": "stream",
     "text": [
      "Loaded image: (536, 536) pixels, mode: RGB\n",
      "\n",
      "Image in prompt: (536, 536)\n"
     ]
    }
   ],
   "source": [
    "# Try to load an image from the assets folder\n",
    "import os\n",
    "\n",
    "asset_path = \"../assets/warps-and-wefts.png\"\n",
    "if os.path.exists(asset_path):\n",
    "    real_img = Image.open(asset_path)\n",
    "    print(f\"Loaded image: {real_img.size} pixels, mode: {real_img.mode}\")\n",
    "\n",
    "    # Create a prompt with the real image\n",
    "    analysis_prompt = dedent(t\"\"\"\n",
    "        Analyze this textile pattern:\n",
    "\n",
    "        {real_img:pattern}\n",
    "\n",
    "        Describe:\n",
    "        1. The weave structure\n",
    "        2. Color palette\n",
    "        3. Overall aesthetic\n",
    "        \"\"\")\n",
    "\n",
    "    # Access the image\n",
    "    pattern_node = analysis_prompt['pattern']\n",
    "    print(f\"\\nImage in prompt: {pattern_node.value.size}\")\n",
    "\n",
    "    # Display\n",
    "    pattern_node.value\n",
    "else:\n",
    "    print(f\"Image file not found at {asset_path}\")\n",
    "    print(\"Using the blue square from earlier instead.\")\n",
    "    real_img = img"
   ]
  },
  {
   "cell_type": "markdown",
   "metadata": {},
   "source": [
    "## Summary\n",
    "\n",
    "Image interpolation enables multi-modal prompts:\n",
    "\n",
    "✅ **Installation** - Requires `pip install t-prompts[image]` (PIL/Pillow)  \n",
    "✅ **Interpolation** - Interpolate PIL Image objects like any value  \n",
    "✅ **Access** - Use `p['key'].value` to retrieve images  \n",
    "✅ **No text rendering** - `str(p)` raises `ImageRenderError`  \n",
    "✅ **IR support** - Images become `ImageChunk` objects with text placeholders  \n",
    "✅ **Type checking** - Use `isinstance(node, ImageInterpolation)`  \n",
    "✅ **Provenance** - Full metadata preserved (expression, key, format_spec)  \n",
    "✅ **Mixed content** - Freely mix text and images  \n",
    "\n",
    "**Key Pattern:**\n",
    "```python\n",
    "# Create prompt with image\n",
    "img = Image.open('photo.jpg')\n",
    "p = prompt(t\"Describe: {img:photo}\")\n",
    "\n",
    "# Access image\n",
    "image_obj = p['photo'].value\n",
    "\n",
    "# Check if node is an image\n",
    "if isinstance(p['photo'], ImageInterpolation):\n",
    "    print(\"It's an image!\")\n",
    "```"
   ]
  }
 ],
 "metadata": {
  "kernelspec": {
   "display_name": "structured-prompts",
   "language": "python",
   "name": "python3"
  },
  "language_info": {
   "codemirror_mode": {
    "name": "ipython",
    "version": 3
   },
   "file_extension": ".py",
   "mimetype": "text/x-python",
   "name": "python",
   "nbconvert_exporter": "python",
   "pygments_lexer": "ipython3",
   "version": "3.14.0"
  }
 },
 "nbformat": 4,
 "nbformat_minor": 2
}
