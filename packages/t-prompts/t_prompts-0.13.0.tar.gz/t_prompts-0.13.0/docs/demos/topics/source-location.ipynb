{
 "cells": [
  {
   "cell_type": "markdown",
   "metadata": {},
   "source": [
    "# Source Location Tracking\n",
    "\n",
    "This tutorial shows how t-prompts automatically tracks where each prompt was created in your source code.\n",
    "\n",
    "Source location tracking captures:\n",
    "- **Filename** - which file the prompt was created in\n",
    "- **File path** - the full absolute path\n",
    "- **Line number** - which line in the file\n",
    "\n",
    "This is invaluable for debugging complex prompt hierarchies and maintaining provenance."
   ]
  },
  {
   "cell_type": "code",
   "execution_count": 1,
   "metadata": {
    "execution": {
     "iopub.execute_input": "2025-10-17T13:13:11.449310Z",
     "iopub.status.busy": "2025-10-17T13:13:11.448909Z",
     "iopub.status.idle": "2025-10-17T13:13:11.494153Z",
     "shell.execute_reply": "2025-10-17T13:13:11.493787Z"
    }
   },
   "outputs": [],
   "source": [
    "from t_prompts import prompt"
   ]
  },
  {
   "cell_type": "markdown",
   "metadata": {},
   "source": [
    "## Automatic Source Location Capture\n",
    "\n",
    "Every prompt automatically captures its source location - no configuration needed!"
   ]
  },
  {
   "cell_type": "code",
   "execution_count": 2,
   "metadata": {
    "execution": {
     "iopub.execute_input": "2025-10-17T13:13:11.496261Z",
     "iopub.status.busy": "2025-10-17T13:13:11.496117Z",
     "iopub.status.idle": "2025-10-17T13:13:11.499645Z",
     "shell.execute_reply": "2025-10-17T13:13:11.499324Z"
    }
   },
   "outputs": [
    {
     "name": "stdout",
     "output_type": "stream",
     "text": [
      "This prompt was created at:\n",
      "  File: 3863425204.py\n",
      "  Path: /private/var/folders/wr/5n6v6bvj6mxdxjcg5_5ss1ph0000gn/T/ipykernel_26667/3863425204.py\n",
      "  Line: 3\n",
      "\n",
      "Formatted: 3863425204.py:3\n"
     ]
    }
   ],
   "source": [
    "# This prompt will remember it was created on this specific line\n",
    "task = \"translate to French\"\n",
    "p = prompt(t\"Task: {task:t}\")\n",
    "\n",
    "# Access source location from the interpolation\n",
    "loc = p['t'].source_location\n",
    "\n",
    "print(\"This prompt was created at:\")\n",
    "print(f\"  File: {loc.filename}\")\n",
    "print(f\"  Path: {loc.filepath}\")\n",
    "print(f\"  Line: {loc.line}\")\n",
    "print(f\"\\nFormatted: {loc.format_location()}\")"
   ]
  },
  {
   "cell_type": "markdown",
   "metadata": {},
   "source": [
    "## Checking Availability\n",
    "\n",
    "Source location might not always be available (e.g., in some REPL contexts). Check before using:"
   ]
  },
  {
   "cell_type": "code",
   "execution_count": 3,
   "metadata": {
    "execution": {
     "iopub.execute_input": "2025-10-17T13:13:11.524666Z",
     "iopub.status.busy": "2025-10-17T13:13:11.524549Z",
     "iopub.status.idle": "2025-10-17T13:13:11.526977Z",
     "shell.execute_reply": "2025-10-17T13:13:11.526733Z"
    }
   },
   "outputs": [
    {
     "name": "stdout",
     "output_type": "stream",
     "text": [
      "✓ Location available: 163145370.py:2\n"
     ]
    }
   ],
   "source": [
    "context = \"User is a beginner\"\n",
    "p = prompt(t\"Context: {context:ctx}\")\n",
    "\n",
    "loc = p['ctx'].source_location\n",
    "\n",
    "if loc and loc.is_available:\n",
    "    print(f\"✓ Location available: {loc.format_location()}\")\n",
    "else:\n",
    "    print(\"✗ Source location not available\")"
   ]
  },
  {
   "cell_type": "markdown",
   "metadata": {},
   "source": [
    "## Source Location for All Elements\n",
    "\n",
    "Both static text and interpolations capture source location information."
   ]
  },
  {
   "cell_type": "code",
   "execution_count": 4,
   "metadata": {
    "execution": {
     "iopub.execute_input": "2025-10-17T13:13:11.528189Z",
     "iopub.status.busy": "2025-10-17T13:13:11.528097Z",
     "iopub.status.idle": "2025-10-17T13:13:11.530775Z",
     "shell.execute_reply": "2025-10-17T13:13:11.530532Z"
    }
   },
   "outputs": [
    {
     "name": "stdout",
     "output_type": "stream",
     "text": [
      "Source locations for all elements:\n",
      "\n",
      "Static: 'Hello '\n",
      "  → 3995065992.py:4\n",
      "\n",
      "Interpolation 'n': 'Alice'\n",
      "  → 3995065992.py:4\n",
      "\n",
      "Static: '!'\n",
      "  → 3995065992.py:4\n",
      "\n"
     ]
    }
   ],
   "source": [
    "from t_prompts import Static, TextInterpolation\n",
    "\n",
    "name = \"Alice\"\n",
    "p = prompt(t\"Hello {name:n}!\")\n",
    "\n",
    "print(\"Source locations for all elements:\\n\")\n",
    "for i, elem in enumerate(p.children):\n",
    "    loc = elem.source_location\n",
    "\n",
    "    if isinstance(elem, Static):\n",
    "        content = f\"Static: {elem.value!r}\"\n",
    "    elif isinstance(elem, TextInterpolation):\n",
    "        content = f\"Interpolation '{elem.key}': {elem.value!r}\"\n",
    "    else:\n",
    "        content = f\"Element {i}\"\n",
    "\n",
    "    print(content)\n",
    "    if loc and loc.is_available:\n",
    "        print(f\"  → {loc.format_location()}\")\n",
    "    print()"
   ]
  },
  {
   "cell_type": "markdown",
   "metadata": {},
   "source": [
    "## Nested Prompts Have Independent Locations\n",
    "\n",
    "Each prompt remembers where it was created, even when nested inside other prompts."
   ]
  },
  {
   "cell_type": "code",
   "execution_count": 5,
   "metadata": {
    "execution": {
     "iopub.execute_input": "2025-10-17T13:13:11.531931Z",
     "iopub.status.busy": "2025-10-17T13:13:11.531841Z",
     "iopub.status.idle": "2025-10-17T13:13:11.534511Z",
     "shell.execute_reply": "2025-10-17T13:13:11.534280Z"
    }
   },
   "outputs": [
    {
     "name": "stdout",
     "output_type": "stream",
     "text": [
      "Inner prompt created at line 3\n",
      "Outer prompt created at line 7\n",
      "\n",
      "✓ Different lines: True\n"
     ]
    }
   ],
   "source": [
    "# Create inner prompt on this line\n",
    "greeting = \"Hello\"\n",
    "inner = prompt(t\"{greeting:greet}, world!\")\n",
    "inner_line = inner['greet'].source_location.line if inner['greet'].source_location else None\n",
    "\n",
    "# Create outer prompt on a different line\n",
    "outer = prompt(t\"Message: {inner:msg}\")\n",
    "outer_line = outer['msg'].source_location.line if outer['msg'].source_location else None\n",
    "\n",
    "print(f\"Inner prompt created at line {inner_line}\")\n",
    "print(f\"Outer prompt created at line {outer_line}\")\n",
    "if inner_line and outer_line:\n",
    "    print(f\"\\n✓ Different lines: {inner_line != outer_line}\")"
   ]
  },
  {
   "cell_type": "markdown",
   "metadata": {},
   "source": [
    "## Accessing Location from Static Elements\n",
    "\n",
    "Static text elements also have source location tracking."
   ]
  },
  {
   "cell_type": "code",
   "execution_count": 6,
   "metadata": {
    "execution": {
     "iopub.execute_input": "2025-10-17T13:13:11.535608Z",
     "iopub.status.busy": "2025-10-17T13:13:11.535519Z",
     "iopub.status.idle": "2025-10-17T13:13:11.537733Z",
     "shell.execute_reply": "2025-10-17T13:13:11.537501Z"
    }
   },
   "outputs": [
    {
     "name": "stdout",
     "output_type": "stream",
     "text": [
      "Element type: Static\n",
      "Content: 'Static text only'\n",
      "Created at: 1102225522.py:1\n"
     ]
    }
   ],
   "source": [
    "p = prompt(t\"Static text only\")\n",
    "\n",
    "# Get the first static element\n",
    "first_elem = p.children[0]\n",
    "loc = first_elem.source_location\n",
    "\n",
    "print(f\"Element type: {type(first_elem).__name__}\")\n",
    "print(f\"Content: {first_elem.value!r}\")\n",
    "if loc and loc.is_available:\n",
    "    print(f\"Created at: {loc.format_location()}\")"
   ]
  },
  {
   "cell_type": "markdown",
   "metadata": {},
   "source": [
    "## Source Location in JSON Export\n",
    "\n",
    "Source location information is included when exporting prompts to JSON."
   ]
  },
  {
   "cell_type": "code",
   "execution_count": 7,
   "metadata": {
    "execution": {
     "iopub.execute_input": "2025-10-17T13:13:11.538850Z",
     "iopub.status.busy": "2025-10-17T13:13:11.538763Z",
     "iopub.status.idle": "2025-10-17T13:13:11.540960Z",
     "shell.execute_reply": "2025-10-17T13:13:11.540734Z"
    }
   },
   "outputs": [
    {
     "name": "stdout",
     "output_type": "stream",
     "text": [
      "JSON export includes source location:\n",
      "{\n",
      "  \"prompt_id\": \"db4e4a05-6cc4-4522-90b4-933572431787\",\n",
      "  \"children\": [\n",
      "    {\n",
      "      \"type\": \"static\",\n",
      "      \"id\": \"49719d5d-77f1-4276-a03e-a92fb1890bb8\",\n",
      "      \"parent_id\": \"db4e4a05-6cc4-4522-90b4-933572431787\",\n",
      "      \"key\": 0,\n",
      "      \"index\": 0,\n",
      "      \"source_location\": {\n",
      "        \"filename\": \"3408044115.py\",\n",
      "        \"filepath\": \"/private/var/folders/wr/5n6v6bvj6mxdxjcg5_5ss1ph0000gn/T/ipykernel_26667/3408044115.py\",\n",
      "        \"line\": 4\n",
      "      },\n",
      "      \"value\": \"Task: \"\n",
      "    },\n",
      "    {\n",
      "      \"type\": \"interpolation\",\n",
      "      \"id\": \"e3b74ae2-02c7-4008-872a-06dd577275c8\",\n",
      "      \"parent_id\": \"db4e4a05-6cc4-4522-90b4-933572431787\",\n",
      "      \"key\": \"t\",\n",
      "      \"index\": 1,\n",
      "      \"source_location\": {\n",
      "        \"filename\": \"3408044115.py\",\n",
      "        \"filepath\": \"/private/var/folders/wr/5n6v6bvj6mxdxjcg5_5ss1ph0000gn/T/ipykernel_26667/3408044115.py\",\n",
      "        \"line\": 4\n",
      "      },\n",
      "      \"expression\": \"task\",\n",
      "      \"conversion\": null,\n",
      "      \"format_spec\": \"t\",\n",
      "      \"render_hints\": \"\",\n",
      "      \"value\": \"analyze sentiment\"\n",
      "    },\n",
      "    {\n",
      "      \"type\": \"static\",\n",
      "      \"id\": \"e5df5b4e-395b-4673-87fc-337e4698d37d\",\n",
      "      \"parent_id\": \"db4e4a05-6cc4-4522-90b4-933572431787\",\n",
      "      \"key\": 1,\n",
      "      \"index\": 2,\n",
      "      \"source_location\": {\n",
      "        \"filename\": \"3408044115.py\",\n",
      "        \"filepath\": \"/private/var/folders/wr/5n6v6bvj6mxdxjcg5_5ss1ph0000gn/T/ipykernel_26667/3408044115.py\",\n",
      "        \"line\": 4\n",
      "      },\n",
      "      \"value\": \"\"\n",
      "    }\n",
      "  ]\n",
      "}\n"
     ]
    }
   ],
   "source": [
    "import json\n",
    "\n",
    "task = \"analyze sentiment\"\n",
    "p = prompt(t\"Task: {task:t}\")\n",
    "\n",
    "# Export to JSON\n",
    "json_data = p.toJSON()\n",
    "\n",
    "# Pretty print the JSON to see source location\n",
    "print(\"JSON export includes source location:\")\n",
    "print(json.dumps(json_data, indent=2))"
   ]
  },
  {
   "cell_type": "markdown",
   "metadata": {},
   "source": [
    "## Disabling Source Location Tracking\n",
    "\n",
    "You can disable source location capture for performance-critical code."
   ]
  },
  {
   "cell_type": "code",
   "execution_count": 8,
   "metadata": {
    "execution": {
     "iopub.execute_input": "2025-10-17T13:13:11.542114Z",
     "iopub.status.busy": "2025-10-17T13:13:11.542028Z",
     "iopub.status.idle": "2025-10-17T13:13:11.543956Z",
     "shell.execute_reply": "2025-10-17T13:13:11.543749Z"
    }
   },
   "outputs": [
    {
     "name": "stdout",
     "output_type": "stream",
     "text": [
      "Source location when disabled: None\n",
      "Is available: False\n"
     ]
    }
   ],
   "source": [
    "# Disable source location tracking\n",
    "data = \"some value\"\n",
    "p = prompt(t\"Data: {data:d}\", capture_source_location=False)\n",
    "\n",
    "loc = p['d'].source_location\n",
    "print(f\"Source location when disabled: {loc}\")\n",
    "print(f\"Is available: {loc.is_available if loc else False}\")"
   ]
  },
  {
   "cell_type": "markdown",
   "metadata": {},
   "source": [
    "## Use Case: Debugging Complex Prompt Hierarchies\n",
    "\n",
    "Source location helps you trace where each component of a complex prompt was created."
   ]
  },
  {
   "cell_type": "code",
   "execution_count": 9,
   "metadata": {
    "execution": {
     "iopub.execute_input": "2025-10-17T13:13:11.545031Z",
     "iopub.status.busy": "2025-10-17T13:13:11.544966Z",
     "iopub.status.idle": "2025-10-17T13:13:11.548036Z",
     "shell.execute_reply": "2025-10-17T13:13:11.547857Z"
    }
   },
   "outputs": [
    {
     "name": "stdout",
     "output_type": "stream",
     "text": [
      "Prompt component origins:\n",
      "\n",
      "System prompt: 2151340285.py:14\n",
      "User message: 2151340285.py:14\n"
     ]
    }
   ],
   "source": [
    "def create_system_prompt():\n",
    "    \"\"\"Creates a system prompt.\"\"\"\n",
    "    role = \"helpful assistant\"\n",
    "    return prompt(t\"You are a {role:role}.\")\n",
    "\n",
    "def create_user_message(task):\n",
    "    \"\"\"Creates a user message.\"\"\"\n",
    "    return prompt(t\"Task: {task:task}\")\n",
    "\n",
    "def build_conversation(task_description):\n",
    "    \"\"\"Builds a complete conversation prompt.\"\"\"\n",
    "    system = create_system_prompt()\n",
    "    user = create_user_message(task_description)\n",
    "    return prompt(t\"System: {system:sys}\\nUser: {user:usr}\")\n",
    "\n",
    "# Build a conversation\n",
    "conv = build_conversation(\"translate to French\")\n",
    "\n",
    "# Trace where each component originated\n",
    "print(\"Prompt component origins:\\n\")\n",
    "\n",
    "sys_loc = conv['sys'].source_location\n",
    "if sys_loc and sys_loc.is_available:\n",
    "    print(f\"System prompt: {sys_loc.filename}:{sys_loc.line}\")\n",
    "\n",
    "usr_loc = conv['usr'].source_location\n",
    "if usr_loc and usr_loc.is_available:\n",
    "    print(f\"User message: {usr_loc.filename}:{usr_loc.line}\")"
   ]
  },
  {
   "cell_type": "markdown",
   "metadata": {},
   "source": [
    "## Use Case: Audit Logging\n",
    "\n",
    "Track where prompts were created for compliance and debugging purposes."
   ]
  },
  {
   "cell_type": "code",
   "execution_count": 10,
   "metadata": {
    "execution": {
     "iopub.execute_input": "2025-10-17T13:13:11.549200Z",
     "iopub.status.busy": "2025-10-17T13:13:11.549101Z",
     "iopub.status.idle": "2025-10-17T13:13:11.551670Z",
     "shell.execute_reply": "2025-10-17T13:13:11.551456Z"
    }
   },
   "outputs": [
    {
     "name": "stdout",
     "output_type": "stream",
     "text": [
      "[AUDIT] Prompt 'user_email_prompt' created at /private/var/folders/wr/5n6v6bvj6mxdxjcg5_5ss1ph0000gn/T/ipykernel_26667/2422407808.py:13\n",
      "[AUDIT] Prompt 'api_key_prompt' created at /private/var/folders/wr/5n6v6bvj6mxdxjcg5_5ss1ph0000gn/T/ipykernel_26667/2422407808.py:18\n"
     ]
    }
   ],
   "source": [
    "def log_prompt_creation(p, prompt_name):\n",
    "    \"\"\"Log where a prompt was created for audit purposes.\"\"\"\n",
    "    # Get location from the prompt's first element\n",
    "    if p.children:\n",
    "        loc = p.children[0].source_location\n",
    "        if loc and loc.is_available:\n",
    "            print(f\"[AUDIT] Prompt '{prompt_name}' created at {loc.filepath}:{loc.line}\")\n",
    "            return\n",
    "    print(f\"[AUDIT] Prompt '{prompt_name}' created (location unavailable)\")\n",
    "\n",
    "# Example: logging creation of a sensitive prompt\n",
    "user_email = \"user@example.com\"\n",
    "p = prompt(t\"Email: {user_email:email}\")\n",
    "log_prompt_creation(p, \"user_email_prompt\")\n",
    "\n",
    "# Another example\n",
    "api_key = \"sk-abc123\"\n",
    "p2 = prompt(t\"API Key: {api_key:key}\")\n",
    "log_prompt_creation(p2, \"api_key_prompt\")"
   ]
  },
  {
   "cell_type": "markdown",
   "metadata": {},
   "source": [
    "## Use Case: Error Messages with Context\n",
    "\n",
    "Provide better error messages by showing where prompts were created."
   ]
  },
  {
   "cell_type": "code",
   "execution_count": 11,
   "metadata": {
    "execution": {
     "iopub.execute_input": "2025-10-17T13:13:11.552861Z",
     "iopub.status.busy": "2025-10-17T13:13:11.552777Z",
     "iopub.status.idle": "2025-10-17T13:13:11.556958Z",
     "shell.execute_reply": "2025-10-17T13:13:11.556746Z"
    }
   },
   "outputs": [
    {
     "name": "stdout",
     "output_type": "stream",
     "text": [
      "ERROR: Prompt 'long_prompt' exceeds max length of 50 (created at 2289560413.py:26)\n",
      "  Actual length: 94\n"
     ]
    },
    {
     "data": {
      "text/plain": [
       "False"
      ]
     },
     "execution_count": 11,
     "metadata": {},
     "output_type": "execute_result"
    }
   ],
   "source": [
    "def validate_prompt_length(p, max_length, name):\n",
    "    \"\"\"Validate prompt length and show source location on error.\"\"\"\n",
    "    text = str(p)\n",
    "    if len(text) > max_length:\n",
    "        # Get source location for better error message\n",
    "        if p.children:\n",
    "            loc = p.children[0].source_location\n",
    "            if loc and loc.is_available:\n",
    "                location_info = f\" (created at {loc.format_location()})\"\n",
    "            else:\n",
    "                location_info = \"\"\n",
    "        else:\n",
    "            location_info = \"\"\n",
    "\n",
    "        print(f\"ERROR: Prompt '{name}' exceeds max length of {max_length}{location_info}\")\n",
    "        print(f\"  Actual length: {len(text)}\")\n",
    "        return False\n",
    "    return True\n",
    "\n",
    "# Test with a short prompt\n",
    "short = prompt(t\"Short message\")\n",
    "validate_prompt_length(short, max_length=100, name=\"short_prompt\")\n",
    "\n",
    "# Test with a long prompt\n",
    "long_text = \"This is a very long prompt that exceeds our maximum allowed length for demonstration purposes.\"\n",
    "long = prompt(t\"{long_text:text}\")\n",
    "validate_prompt_length(long, max_length=50, name=\"long_prompt\")"
   ]
  },
  {
   "cell_type": "markdown",
   "metadata": {},
   "source": [
    "## SourceLocation API Reference\n",
    "\n",
    "The `SourceLocation` dataclass provides the following:\n",
    "\n",
    "### Fields\n",
    "\n",
    "- **`filename`** (str | None): Short filename (e.g., `'script.py'`)\n",
    "- **`filepath`** (str | None): Full absolute path to the file\n",
    "- **`line`** (int | None): Line number where prompt was created (1-indexed)\n",
    "\n",
    "### Properties\n",
    "\n",
    "- **`is_available`**: Returns `True` if location information is present\n",
    "\n",
    "### Methods\n",
    "\n",
    "- **`format_location()`**: Returns formatted string like `\"script.py:42\"`"
   ]
  },
  {
   "cell_type": "code",
   "execution_count": 12,
   "metadata": {
    "execution": {
     "iopub.execute_input": "2025-10-17T13:13:11.558053Z",
     "iopub.status.busy": "2025-10-17T13:13:11.557983Z",
     "iopub.status.idle": "2025-10-17T13:13:11.560388Z",
     "shell.execute_reply": "2025-10-17T13:13:11.560122Z"
    }
   },
   "outputs": [
    {
     "name": "stdout",
     "output_type": "stream",
     "text": [
      "SourceLocation fields:\n",
      "  filename: 1708099841.py\n",
      "  filepath: /private/var/folders/wr/5n6v6bvj6mxdxjcg5_5ss1ph0000gn/T/ipykernel_26667/1708099841.py\n",
      "  line: 3\n",
      "\n",
      "Properties:\n",
      "  is_available: True\n",
      "\n",
      "Methods:\n",
      "  format_location(): 1708099841.py:3\n"
     ]
    }
   ],
   "source": [
    "# Demonstrate the API\n",
    "msg = \"test\"\n",
    "p = prompt(t\"Message: {msg:m}\")\n",
    "loc = p['m'].source_location\n",
    "\n",
    "print(\"SourceLocation fields:\")\n",
    "print(f\"  filename: {loc.filename}\")\n",
    "print(f\"  filepath: {loc.filepath}\")\n",
    "print(f\"  line: {loc.line}\")\n",
    "print(\"\\nProperties:\")\n",
    "print(f\"  is_available: {loc.is_available}\")\n",
    "print(\"\\nMethods:\")\n",
    "print(f\"  format_location(): {loc.format_location()}\")"
   ]
  },
  {
   "cell_type": "markdown",
   "metadata": {},
   "source": [
    "## Summary\n",
    "\n",
    "Source location tracking provides automatic provenance for debugging and auditing:\n",
    "\n",
    "✅ **Automatic** - Captured by default for all prompts  \n",
    "✅ **Lightweight** - Uses only stack frame info, no file I/O  \n",
    "✅ **Comprehensive** - Tracks static text, interpolations, and nested prompts  \n",
    "✅ **Exportable** - Included in `toJSON()` output  \n",
    "✅ **Optional** - Can be disabled with `capture_source_location=False`  \n",
    "\n",
    "This feature makes debugging complex prompt systems significantly easier by showing you exactly where each component was created."
   ]
  }
 ],
 "metadata": {
  "kernelspec": {
   "display_name": "Python 3",
   "language": "python",
   "name": "python3"
  },
  "language_info": {
   "codemirror_mode": {
    "name": "ipython",
    "version": 3
   },
   "file_extension": ".py",
   "mimetype": "text/x-python",
   "name": "python",
   "nbconvert_exporter": "python",
   "pygments_lexer": "ipython3",
   "version": "3.14.0"
  }
 },
 "nbformat": 4,
 "nbformat_minor": 2
}
