{
 "cells": [
  {
   "cell_type": "markdown",
   "metadata": {},
   "source": [
    "# Intermediate Representation and Chunk Mapping\n",
    "\n",
    "This tutorial shows how to work with the IntermediateRepresentation (IR) to understand the relationship between structured prompts and their rendered text.\n",
    "\n",
    "The IR is the bridge between structure and output:\n",
    "- **Structure**: StructuredPrompt with elements and hierarchy\n",
    "- **IR**: Chunks that map back to elements\n",
    "- **Output**: Final text or multi-modal content\n",
    "\n",
    "This enables structured optimization, debugging, and analysis."
   ]
  },
  {
   "cell_type": "code",
   "execution_count": 1,
   "metadata": {
    "execution": {
     "iopub.execute_input": "2025-10-17T13:13:09.419180Z",
     "iopub.status.busy": "2025-10-17T13:13:09.418769Z",
     "iopub.status.idle": "2025-10-17T13:13:09.466952Z",
     "shell.execute_reply": "2025-10-17T13:13:09.466543Z"
    }
   },
   "outputs": [],
   "source": [
    "from t_prompts import dedent, prompt"
   ]
  },
  {
   "cell_type": "markdown",
   "metadata": {},
   "source": [
    "## Creating an IntermediateRepresentation\n",
    "\n",
    "Call `.ir()` on a StructuredPrompt to get its IntermediateRepresentation."
   ]
  },
  {
   "cell_type": "code",
   "execution_count": 2,
   "metadata": {
    "execution": {
     "iopub.execute_input": "2025-10-17T13:13:09.469108Z",
     "iopub.status.busy": "2025-10-17T13:13:09.468961Z",
     "iopub.status.idle": "2025-10-17T13:13:09.472950Z",
     "shell.execute_reply": "2025-10-17T13:13:09.472580Z"
    }
   },
   "outputs": [
    {
     "name": "stdout",
     "output_type": "stream",
     "text": [
      "IR type: IntermediateRepresentation\n",
      "Text: Name: Alice, Age: 30\n",
      "Number of chunks: 4\n"
     ]
    }
   ],
   "source": [
    "name = \"Alice\"\n",
    "age = \"30\"\n",
    "p = prompt(t\"Name: {name:n}, Age: {age:a}\")\n",
    "\n",
    "# Get the IntermediateRepresentation\n",
    "ir = p.ir()\n",
    "\n",
    "print(f\"IR type: {type(ir).__name__}\")\n",
    "print(f\"Text: {ir.text}\")\n",
    "print(f\"Number of chunks: {len(ir.chunks)}\")"
   ]
  },
  {
   "cell_type": "markdown",
   "metadata": {},
   "source": [
    "## Understanding Chunks\n",
    "\n",
    "The IR contains chunks - each chunk maps to exactly one source element."
   ]
  },
  {
   "cell_type": "code",
   "execution_count": 3,
   "metadata": {
    "execution": {
     "iopub.execute_input": "2025-10-17T13:13:09.496990Z",
     "iopub.status.busy": "2025-10-17T13:13:09.496872Z",
     "iopub.status.idle": "2025-10-17T13:13:09.498861Z",
     "shell.execute_reply": "2025-10-17T13:13:09.498640Z"
    }
   },
   "outputs": [
    {
     "name": "stdout",
     "output_type": "stream",
     "text": [
      "Chunks in the IR:\n",
      "\n",
      "Chunk 0:\n",
      "  Type: TextChunk\n",
      "  Text: 'Name: '\n",
      "  Element ID: f60923ad-309b-468f-b32b-18376b784699\n",
      "\n",
      "Chunk 1:\n",
      "  Type: TextChunk\n",
      "  Text: 'Alice'\n",
      "  Element ID: fb4736bb-ad88-4d18-b1f8-dc22d05e2a58\n",
      "\n",
      "Chunk 2:\n",
      "  Type: TextChunk\n",
      "  Text: ', Age: '\n",
      "  Element ID: 808704b4-a42f-44bc-ac13-e75112713148\n",
      "\n",
      "Chunk 3:\n",
      "  Type: TextChunk\n",
      "  Text: '30'\n",
      "  Element ID: bb68a556-3b0d-483c-92d8-9a34659c3093\n",
      "\n"
     ]
    }
   ],
   "source": [
    "# Examine each chunk\n",
    "print(\"Chunks in the IR:\\n\")\n",
    "for i, chunk in enumerate(ir.chunks):\n",
    "    print(f\"Chunk {i}:\")\n",
    "    print(f\"  Type: {type(chunk).__name__}\")\n",
    "    print(f\"  Text: {chunk.text!r}\")\n",
    "    print(f\"  Element ID: {chunk.element_id}\")\n",
    "    print()"
   ]
  },
  {
   "cell_type": "markdown",
   "metadata": {},
   "source": [
    "## Mapping Chunks to Elements\n",
    "\n",
    "Each chunk's `element_id` maps back to a specific element in the structured prompt."
   ]
  },
  {
   "cell_type": "code",
   "execution_count": 4,
   "metadata": {
    "execution": {
     "iopub.execute_input": "2025-10-17T13:13:09.500027Z",
     "iopub.status.busy": "2025-10-17T13:13:09.499933Z",
     "iopub.status.idle": "2025-10-17T13:13:09.502327Z",
     "shell.execute_reply": "2025-10-17T13:13:09.502102Z"
    }
   },
   "outputs": [
    {
     "name": "stdout",
     "output_type": "stream",
     "text": [
      "Chunk → Element mapping:\n",
      "\n",
      "Chunk 0 ('Name: ') → Static(key=0)\n",
      "Chunk 1 ('Alice') → TextInterpolation(key='n')\n",
      "Chunk 2 (', Age: ') → Static(key=1)\n",
      "Chunk 3 ('30') → TextInterpolation(key='a')\n"
     ]
    }
   ],
   "source": [
    "from t_prompts import Static, TextInterpolation\n",
    "\n",
    "# Show the correspondence between chunks and elements\n",
    "print(\"Chunk → Element mapping:\\n\")\n",
    "\n",
    "for i, chunk in enumerate(ir.chunks):\n",
    "    # Find the element with this ID\n",
    "    matching_elem = None\n",
    "    for elem in p.children:\n",
    "        if elem.id == chunk.element_id:\n",
    "            matching_elem = elem\n",
    "            break\n",
    "\n",
    "    if matching_elem:\n",
    "        elem_type = type(matching_elem).__name__\n",
    "        if isinstance(matching_elem, Static):\n",
    "            elem_desc = f\"Static(key={matching_elem.key})\"\n",
    "        elif isinstance(matching_elem, TextInterpolation):\n",
    "            elem_desc = f\"TextInterpolation(key='{matching_elem.key}')\"\n",
    "        else:\n",
    "            elem_desc = elem_type\n",
    "\n",
    "        print(f\"Chunk {i} ({chunk.text!r}) → {elem_desc}\")"
   ]
  },
  {
   "cell_type": "markdown",
   "metadata": {},
   "source": [
    "## Nested Prompts and Chunks\n",
    "\n",
    "When prompts are nested, each element still produces its own chunks."
   ]
  },
  {
   "cell_type": "code",
   "execution_count": 5,
   "metadata": {
    "execution": {
     "iopub.execute_input": "2025-10-17T13:13:09.503451Z",
     "iopub.status.busy": "2025-10-17T13:13:09.503368Z",
     "iopub.status.idle": "2025-10-17T13:13:09.505928Z",
     "shell.execute_reply": "2025-10-17T13:13:09.505715Z"
    }
   },
   "outputs": [
    {
     "name": "stdout",
     "output_type": "stream",
     "text": [
      "Text: Message: Hello, world!\n",
      "\n",
      "Number of chunks: 3\n",
      "\n",
      "Chunks:\n",
      "  0. 'Message: '\n",
      "  1. 'Hello'\n",
      "  2. ', world!'\n"
     ]
    }
   ],
   "source": [
    "greeting = \"Hello\"\n",
    "inner = prompt(t\"{greeting:g}, world!\")\n",
    "outer = prompt(t\"Message: {inner:msg}\")\n",
    "\n",
    "# Get IR for the outer prompt\n",
    "ir_nested = outer.ir()\n",
    "\n",
    "print(f\"Text: {ir_nested.text}\")\n",
    "print(f\"\\nNumber of chunks: {len(ir_nested.chunks)}\")\n",
    "print(\"\\nChunks:\")\n",
    "for i, chunk in enumerate(ir_nested.chunks):\n",
    "    print(f\"  {i}. {chunk.text!r}\")"
   ]
  },
  {
   "cell_type": "markdown",
   "metadata": {},
   "source": [
    "## CompiledIR for Efficient Queries\n",
    "\n",
    "Call `.compile()` on an IR to build indexes for efficient element-to-chunks queries."
   ]
  },
  {
   "cell_type": "code",
   "execution_count": 6,
   "metadata": {
    "execution": {
     "iopub.execute_input": "2025-10-17T13:13:09.507159Z",
     "iopub.status.busy": "2025-10-17T13:13:09.507079Z",
     "iopub.status.idle": "2025-10-17T13:13:09.508755Z",
     "shell.execute_reply": "2025-10-17T13:13:09.508507Z"
    }
   },
   "outputs": [
    {
     "name": "stdout",
     "output_type": "stream",
     "text": [
      "Compiled IR type: CompiledIR\n",
      "Number of chunks: 3\n"
     ]
    }
   ],
   "source": [
    "# Compile the IR\n",
    "compiled = ir_nested.compile()\n",
    "\n",
    "print(f\"Compiled IR type: {type(compiled).__name__}\")\n",
    "print(f\"Number of chunks: {len(compiled.ir.chunks)}\")"
   ]
  },
  {
   "cell_type": "markdown",
   "metadata": {},
   "source": [
    "## Querying Chunks for a Subtree\n",
    "\n",
    "Use `get_chunks_for_subtree(element_id)` to get all chunks from an element and its descendants."
   ]
  },
  {
   "cell_type": "code",
   "execution_count": 7,
   "metadata": {
    "execution": {
     "iopub.execute_input": "2025-10-17T13:13:09.509885Z",
     "iopub.status.busy": "2025-10-17T13:13:09.509820Z",
     "iopub.status.idle": "2025-10-17T13:13:09.512035Z",
     "shell.execute_reply": "2025-10-17T13:13:09.511796Z"
    }
   },
   "outputs": [
    {
     "name": "stdout",
     "output_type": "stream",
     "text": [
      "All chunks for outer prompt:\n",
      "  'Message: '\n",
      "  'Hello'\n",
      "  ', world!'\n",
      "\n",
      "Chunks for nested 'msg' prompt:\n",
      "  'Hello'\n",
      "  ', world!'\n",
      "\n",
      "Reconstructed text from nested chunks: 'Hello, world!'\n"
     ]
    }
   ],
   "source": [
    "# Get chunks for the entire outer prompt\n",
    "all_chunks = compiled.get_chunks_for_subtree(outer.id)\n",
    "print(\"All chunks for outer prompt:\")\n",
    "for chunk in all_chunks:\n",
    "    print(f\"  {chunk.text!r}\")\n",
    "\n",
    "# Get chunks for just the nested inner prompt\n",
    "nested_chunks = compiled.get_chunks_for_subtree(outer['msg'].id)\n",
    "print(\"\\nChunks for nested 'msg' prompt:\")\n",
    "for chunk in nested_chunks:\n",
    "    print(f\"  {chunk.text!r}\")\n",
    "\n",
    "# Reconstruct text from chunks\n",
    "nested_text = \"\".join(chunk.text for chunk in nested_chunks)\n",
    "print(f\"\\nReconstructed text from nested chunks: {nested_text!r}\")"
   ]
  },
  {
   "cell_type": "markdown",
   "metadata": {},
   "source": [
    "## Use Case: Analyzing Chunk Sizes\n",
    "\n",
    "Understanding chunk sizes helps with optimization and debugging."
   ]
  },
  {
   "cell_type": "code",
   "execution_count": 8,
   "metadata": {
    "execution": {
     "iopub.execute_input": "2025-10-17T13:13:09.513321Z",
     "iopub.status.busy": "2025-10-17T13:13:09.513225Z",
     "iopub.status.idle": "2025-10-17T13:13:09.516504Z",
     "shell.execute_reply": "2025-10-17T13:13:09.516273Z"
    }
   },
   "outputs": [
    {
     "name": "stdout",
     "output_type": "stream",
     "text": [
      "Chunk size analysis:\n",
      "\n",
      "Chunk 0:   8 chars - 'System: '\n",
      "Chunk 1:  28 chars - 'You are a helpful assistant.'\n",
      "Chunk 2:  12 chars - '\\n\\nExamples:\\n'\n",
      "Chunk 3:  59 chars - 'Example 1: Hello -> Bonjour\\nEx'...\n",
      "Chunk 4:   8 chars - '\\n\\nUser: '\n",
      "Chunk 5:  15 chars - 'What is Python?'\n",
      "\n",
      "Total size: 130 characters\n",
      "Text length: 130 characters\n",
      "Match: True\n"
     ]
    }
   ],
   "source": [
    "system_msg = \"You are a helpful assistant.\"\n",
    "user_query = \"What is Python?\"\n",
    "examples = \"Example 1: Hello -> Bonjour\\nExample 2: Goodbye -> Au revoir\"\n",
    "\n",
    "p = dedent(t\"\"\"\n",
    "    System: {system_msg:sys}\n",
    "\n",
    "    Examples:\n",
    "    {examples:ex}\n",
    "\n",
    "    User: {user_query:user}\n",
    "    \"\"\")\n",
    "\n",
    "ir_analysis = p.ir()\n",
    "\n",
    "print(\"Chunk size analysis:\\n\")\n",
    "total_size = 0\n",
    "for i, chunk in enumerate(ir_analysis.chunks):\n",
    "    size = len(chunk.text)\n",
    "    total_size += size\n",
    "    print(f\"Chunk {i}: {size:3d} chars - {chunk.text[:30]!r}...\" if size > 30 else\n",
    "          f\"Chunk {i}: {size:3d} chars - {chunk.text!r}\")\n",
    "\n",
    "print(f\"\\nTotal size: {total_size} characters\")\n",
    "print(f\"Text length: {len(ir_analysis.text)} characters\")\n",
    "print(f\"Match: {total_size == len(ir_analysis.text)}\")"
   ]
  },
  {
   "cell_type": "markdown",
   "metadata": {},
   "source": [
    "## Use Case: Finding Elements by ID\n",
    "\n",
    "Given a chunk's element_id, you can navigate back to the element in the tree."
   ]
  },
  {
   "cell_type": "code",
   "execution_count": 9,
   "metadata": {
    "execution": {
     "iopub.execute_input": "2025-10-17T13:13:09.517727Z",
     "iopub.status.busy": "2025-10-17T13:13:09.517647Z",
     "iopub.status.idle": "2025-10-17T13:13:09.520215Z",
     "shell.execute_reply": "2025-10-17T13:13:09.519934Z"
    }
   },
   "outputs": [
    {
     "name": "stdout",
     "output_type": "stream",
     "text": [
      "Chunk text: 'You are a helpful assistant.'\n",
      "Element type: TextInterpolation\n",
      "Element key: sys\n",
      "Element expression: system_msg\n"
     ]
    }
   ],
   "source": [
    "def find_element_by_id(prompt, element_id):\n",
    "    \"\"\"Recursively search for an element by its ID.\"\"\"\n",
    "    from t_prompts import StructuredPrompt\n",
    "\n",
    "    # Check each child\n",
    "    for elem in prompt.children:\n",
    "        if elem.id == element_id:\n",
    "            return elem\n",
    "\n",
    "        # If element is a nested StructuredPrompt, recurse\n",
    "        if isinstance(elem, StructuredPrompt):\n",
    "            result = find_element_by_id(elem, element_id)\n",
    "            if result:\n",
    "                return result\n",
    "\n",
    "    return None\n",
    "\n",
    "# Pick a chunk and find its element\n",
    "first_chunk = ir_analysis.chunks[1]  # Get a non-static chunk\n",
    "element = find_element_by_id(p, first_chunk.element_id)\n",
    "\n",
    "if element:\n",
    "    print(f\"Chunk text: {first_chunk.text!r}\")\n",
    "    print(f\"Element type: {type(element).__name__}\")\n",
    "    print(f\"Element key: {element.key}\")\n",
    "    if hasattr(element, 'expression'):\n",
    "        print(f\"Element expression: {element.expression}\")"
   ]
  },
  {
   "cell_type": "markdown",
   "metadata": {},
   "source": [
    "## Use Case: Selective Text Extraction\n",
    "\n",
    "Extract text from specific parts of the prompt by querying chunks."
   ]
  },
  {
   "cell_type": "code",
   "execution_count": 10,
   "metadata": {
    "execution": {
     "iopub.execute_input": "2025-10-17T13:13:09.521611Z",
     "iopub.status.busy": "2025-10-17T13:13:09.521532Z",
     "iopub.status.idle": "2025-10-17T13:13:09.524615Z",
     "shell.execute_reply": "2025-10-17T13:13:09.524384Z"
    }
   },
   "outputs": [
    {
     "name": "stdout",
     "output_type": "stream",
     "text": [
      "Full text:\n",
      "=== Task Overview===\n",
      "\n",
      "Please analyze the following data and provide insights.\n",
      "\n",
      "---\n",
      "Thank you for your help!\n",
      "\n",
      "Extracted body text:\n",
      "Please analyze the following data and provide insights.\n",
      "\n",
      "Body is 55 of 107 total characters\n"
     ]
    }
   ],
   "source": [
    "# Create a prompt with identifiable sections\n",
    "header = \"Task Overview\"\n",
    "body = \"Please analyze the following data and provide insights.\"\n",
    "footer = \"Thank you for your help!\"\n",
    "\n",
    "section_prompt = dedent(t\"\"\"\n",
    "    === {header:header} ===\n",
    "\n",
    "    {body:body}\n",
    "\n",
    "    ---\n",
    "    {footer:footer}\n",
    "    \"\"\")\n",
    "\n",
    "section_ir = section_prompt.ir()\n",
    "section_compiled = section_ir.compile()\n",
    "\n",
    "# Extract text from just the body section\n",
    "body_chunks = section_compiled.get_chunks_for_subtree(section_prompt['body'].id)\n",
    "body_text = \"\".join(chunk.text for chunk in body_chunks)\n",
    "\n",
    "print(\"Full text:\")\n",
    "print(section_ir.text)\n",
    "print(\"\\nExtracted body text:\")\n",
    "print(body_text)\n",
    "print(f\"\\nBody is {len(body_text)} of {len(section_ir.text)} total characters\")"
   ]
  },
  {
   "cell_type": "markdown",
   "metadata": {},
   "source": [
    "## Use Case: Token Budget Analysis\n",
    "\n",
    "Analyze which parts of a prompt consume the most tokens (simulated with character counts)."
   ]
  },
  {
   "cell_type": "code",
   "execution_count": 11,
   "metadata": {
    "execution": {
     "iopub.execute_input": "2025-10-17T13:13:09.526008Z",
     "iopub.status.busy": "2025-10-17T13:13:09.525925Z",
     "iopub.status.idle": "2025-10-17T13:13:09.529063Z",
     "shell.execute_reply": "2025-10-17T13:13:09.528504Z"
    }
   },
   "outputs": [
    {
     "name": "stdout",
     "output_type": "stream",
     "text": [
      "Token budget analysis (character counts as proxy):\n",
      "\n",
      "inst        :   29 chars (  6.7%)\n",
      "ctx         :   44 chars ( 10.1%)\n",
      "examples    :  309 chars ( 71.0%)\n",
      "\n",
      "Total: 435 characters\n"
     ]
    }
   ],
   "source": [
    "# Create a complex prompt\n",
    "instruction = \"You are an expert translator.\"\n",
    "context = \"The user wants formal business translations.\"\n",
    "examples_text = \"\\n\".join([f\"EN: Example {i} -> FR: Exemple {i}\" for i in range(10)])\n",
    "\n",
    "budget_prompt = dedent(t\"\"\"\n",
    "    {instruction:inst}\n",
    "\n",
    "    Context: {context:ctx}\n",
    "\n",
    "    Examples:\n",
    "    {examples_text:examples}\n",
    "\n",
    "    Now translate the following:\n",
    "    \"\"\")\n",
    "\n",
    "budget_ir = budget_prompt.ir()\n",
    "budget_compiled = budget_ir.compile()\n",
    "\n",
    "# Analyze size by interpolation key\n",
    "print(\"Token budget analysis (character counts as proxy):\\n\")\n",
    "\n",
    "for key in budget_prompt.keys():\n",
    "    elem = budget_prompt[key]\n",
    "    chunks = budget_compiled.get_chunks_for_subtree(elem.id)\n",
    "    size = sum(len(chunk.text) for chunk in chunks)\n",
    "    percentage = (size / len(budget_ir.text)) * 100\n",
    "\n",
    "    print(f\"{key:12s}: {size:4d} chars ({percentage:5.1f}%)\")\n",
    "\n",
    "print(f\"\\nTotal: {len(budget_ir.text)} characters\")"
   ]
  },
  {
   "cell_type": "markdown",
   "metadata": {},
   "source": [
    "## Multi-modal Chunks with Images\n",
    "\n",
    "IntermediateRepresentation supports both TextChunk and ImageChunk."
   ]
  },
  {
   "cell_type": "code",
   "execution_count": 12,
   "metadata": {
    "execution": {
     "iopub.execute_input": "2025-10-17T13:13:09.530491Z",
     "iopub.status.busy": "2025-10-17T13:13:09.530386Z",
     "iopub.status.idle": "2025-10-17T13:13:09.533675Z",
     "shell.execute_reply": "2025-10-17T13:13:09.533351Z"
    }
   },
   "outputs": [
    {
     "name": "stdout",
     "output_type": "stream",
     "text": [
      "Chunks in multi-modal IR:\n",
      "\n",
      "  0. TextChunk: 'Here is a blue square'\n",
      "  1. TextChunk: '\\n\\nImage: '\n",
      "  2. ImageChunk: [Image: Unknown 100x100 RGB]\n",
      "\n",
      "Text representation:\n",
      "Here is a blue square\n",
      "\n",
      "Image: [Image: Unknown 100x100 RGB]\n"
     ]
    }
   ],
   "source": [
    "from PIL import Image\n",
    "\n",
    "# Create a simple image\n",
    "img = Image.new('RGB', (100, 100), color='blue')\n",
    "\n",
    "description = \"Here is a blue square\"\n",
    "img_prompt = dedent(t\"\"\"\n",
    "    {description:desc}\n",
    "\n",
    "    Image: {img:image}\n",
    "    \"\"\")\n",
    "\n",
    "img_ir = img_prompt.ir()\n",
    "\n",
    "print(\"Chunks in multi-modal IR:\\n\")\n",
    "for i, chunk in enumerate(img_ir.chunks):\n",
    "    chunk_type = type(chunk).__name__\n",
    "    if chunk_type == \"TextChunk\":\n",
    "        print(f\"  {i}. {chunk_type}: {chunk.text!r}\")\n",
    "    else:\n",
    "        print(f\"  {i}. {chunk_type}: {chunk.text}\")\n",
    "\n",
    "# Text representation includes image placeholders\n",
    "print(f\"\\nText representation:\\n{img_ir.text}\")"
   ]
  },
  {
   "cell_type": "markdown",
   "metadata": {},
   "source": [
    "## Summary\n",
    "\n",
    "IntermediateRepresentation provides the bridge between structured prompts and rendered output:\n",
    "\n",
    "✅ **Chunks** - Each chunk maps to exactly one source element  \n",
    "✅ **Element IDs** - Track provenance from output back to structure  \n",
    "✅ **CompiledIR** - Efficient queries for element subtrees  \n",
    "✅ **Multi-modal** - Supports both text and image chunks  \n",
    "✅ **Analysis** - Enable size analysis, optimization, and debugging  \n",
    "\n",
    "This makes it possible to:\n",
    "- Trace rendered text back to source variables\n",
    "- Extract specific sections of complex prompts\n",
    "- Analyze token budgets by component\n",
    "- Implement structured optimization strategies"
   ]
  }
 ],
 "metadata": {
  "kernelspec": {
   "display_name": "Python 3",
   "language": "python",
   "name": "python3"
  },
  "language_info": {
   "codemirror_mode": {
    "name": "ipython",
    "version": 3
   },
   "file_extension": ".py",
   "mimetype": "text/x-python",
   "name": "python",
   "nbconvert_exporter": "python",
   "pygments_lexer": "ipython3",
   "version": "3.14.0"
  }
 },
 "nbformat": 4,
 "nbformat_minor": 2
}
