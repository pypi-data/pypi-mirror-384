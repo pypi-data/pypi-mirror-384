{
 "cells": [
  {
   "cell_type": "markdown",
   "metadata": {},
   "source": [
    "# Intermediate Tutorial: Composition and Navigation\n",
    "\n",
    "This tutorial covers composing prompts from smaller pieces, navigating nested structures, and exporting data."
   ]
  },
  {
   "cell_type": "code",
   "execution_count": 1,
   "metadata": {
    "execution": {
     "iopub.execute_input": "2025-10-17T13:13:00.423367Z",
     "iopub.status.busy": "2025-10-17T13:13:00.423001Z",
     "iopub.status.idle": "2025-10-17T13:13:00.471437Z",
     "shell.execute_reply": "2025-10-17T13:13:00.470999Z"
    }
   },
   "outputs": [],
   "source": [
    "from t_prompts import prompt"
   ]
  },
  {
   "cell_type": "markdown",
   "metadata": {},
   "source": [
    "## Nested Prompts\n",
    "\n",
    "You can build larger prompts by composing smaller `StructuredPrompt` objects together."
   ]
  },
  {
   "cell_type": "code",
   "execution_count": 2,
   "metadata": {
    "execution": {
     "iopub.execute_input": "2025-10-17T13:13:00.473920Z",
     "iopub.status.busy": "2025-10-17T13:13:00.473756Z",
     "iopub.status.idle": "2025-10-17T13:13:00.477529Z",
     "shell.execute_reply": "2025-10-17T13:13:00.477227Z"
    }
   },
   "outputs": [
    {
     "name": "stdout",
     "output_type": "stream",
     "text": [
      "You are a helpful assistant. User: What is Python?\n"
     ]
    }
   ],
   "source": [
    "# Build prompts from smaller pieces\n",
    "system_msg = \"You are a helpful assistant.\"\n",
    "user_query = \"What is Python?\"\n",
    "\n",
    "p_system = prompt(t\"{system_msg:system}\")\n",
    "p_user = prompt(t\"User: {user_query:query}\")\n",
    "\n",
    "# Compose into larger prompt\n",
    "p_full = prompt(t\"{p_system:sys} {p_user:usr}\")\n",
    "\n",
    "# Renders correctly\n",
    "print(str(p_full))"
   ]
  },
  {
   "cell_type": "markdown",
   "metadata": {},
   "source": [
    "## Navigating Nested Structures\n",
    "\n",
    "Access nested interpolations using chained subscript operations."
   ]
  },
  {
   "cell_type": "code",
   "execution_count": 3,
   "metadata": {
    "execution": {
     "iopub.execute_input": "2025-10-17T13:13:00.502459Z",
     "iopub.status.busy": "2025-10-17T13:13:00.502342Z",
     "iopub.status.idle": "2025-10-17T13:13:00.504453Z",
     "shell.execute_reply": "2025-10-17T13:13:00.504229Z"
    }
   },
   "outputs": [
    {
     "name": "stdout",
     "output_type": "stream",
     "text": [
      "System message: You are a helpful assistant.\n",
      "User query: What is Python?\n",
      "\n",
      "Nested node type: StructuredPrompt\n",
      "Has 'system' key: True\n",
      "Rendered: You are a helpful assistant.\n"
     ]
    }
   ],
   "source": [
    "# Navigate the tree\n",
    "print(f\"System message: {p_full['sys']['system'].value}\")\n",
    "print(f\"User query: {p_full['usr']['query'].value}\")\n",
    "\n",
    "# When accessing a nested prompt node, it returns a StructuredPrompt\n",
    "nested_node = p_full['sys']\n",
    "print(f\"\\nNested node type: {type(nested_node).__name__}\")\n",
    "print(f\"Has 'system' key: {'system' in nested_node}\")\n",
    "print(f\"Rendered: {str(nested_node)}\")"
   ]
  },
  {
   "cell_type": "markdown",
   "metadata": {},
   "source": [
    "## Conversions: !s, !r, !a\n",
    "\n",
    "t-strings support conversion flags from Python's string formatting."
   ]
  },
  {
   "cell_type": "code",
   "execution_count": 4,
   "metadata": {
    "execution": {
     "iopub.execute_input": "2025-10-17T13:13:00.505695Z",
     "iopub.status.busy": "2025-10-17T13:13:00.505595Z",
     "iopub.status.idle": "2025-10-17T13:13:00.508404Z",
     "shell.execute_reply": "2025-10-17T13:13:00.508200Z"
    }
   },
   "outputs": [
    {
     "name": "stdout",
     "output_type": "stream",
     "text": [
      "!s: Hello\n",
      "World\n",
      "!r: 'Hello\\nWorld'\n",
      "!a: 'Hello \\U0001f44b'\n",
      "\n",
      "Conversion for 'r': r\n"
     ]
    }
   ],
   "source": [
    "text = \"Hello\\nWorld\"\n",
    "\n",
    "# !s: str() conversion (default)\n",
    "p_s = prompt(t\"{text!s:s}\")\n",
    "print(f\"!s: {str(p_s)}\")\n",
    "\n",
    "# !r: repr() conversion\n",
    "p_r = prompt(t\"{text!r:r}\")\n",
    "print(f\"!r: {str(p_r)}\")\n",
    "\n",
    "# !a: ascii() conversion\n",
    "emoji = \"Hello 👋\"\n",
    "p_a = prompt(t\"{emoji!a:a}\")\n",
    "print(f\"!a: {str(p_a)}\")\n",
    "\n",
    "# Conversion is preserved in metadata\n",
    "print(f\"\\nConversion for 'r': {p_r['r'].conversion}\")"
   ]
  },
  {
   "cell_type": "markdown",
   "metadata": {},
   "source": [
    "## Mapping Protocol\n",
    "\n",
    "`StructuredPrompt` implements the mapping protocol: `keys()`, `values()`, `items()`, `get()`, etc."
   ]
  },
  {
   "cell_type": "code",
   "execution_count": 5,
   "metadata": {
    "execution": {
     "iopub.execute_input": "2025-10-17T13:13:00.509529Z",
     "iopub.status.busy": "2025-10-17T13:13:00.509448Z",
     "iopub.status.idle": "2025-10-17T13:13:00.512062Z",
     "shell.execute_reply": "2025-10-17T13:13:00.511842Z"
    }
   },
   "outputs": [
    {
     "name": "stdout",
     "output_type": "stream",
     "text": [
      "Keys: ['n', 'a', 'c']\n",
      "\n",
      "Values:\n",
      "  n: Alice\n",
      "  a: 30\n",
      "  c: NYC\n",
      "\n",
      "Items:\n",
      "  n -> name = Alice\n",
      "  a -> age = 30\n",
      "  c -> city = NYC\n",
      "\n",
      "get('n'): Alice\n",
      "get('missing'): None\n"
     ]
    }
   ],
   "source": [
    "name = \"Alice\"\n",
    "age = \"30\"\n",
    "city = \"NYC\"\n",
    "\n",
    "p = prompt(t\"Name: {name:n}, Age: {age:a}, City: {city:c}\")\n",
    "\n",
    "# Keys\n",
    "print(f\"Keys: {list(p.keys())}\")\n",
    "\n",
    "# Values (returns interpolation nodes)\n",
    "print(\"\\nValues:\")\n",
    "for node in p.values():\n",
    "    print(f\"  {node.key}: {node.value}\")\n",
    "\n",
    "# Items\n",
    "print(\"\\nItems:\")\n",
    "for key, node in p.items():\n",
    "    print(f\"  {key} -> {node.expression} = {node.value}\")\n",
    "\n",
    "# get() with default\n",
    "print(f\"\\nget('n'): {p.get('n').value}\")\n",
    "print(f\"get('missing'): {p.get('missing')}\")"
   ]
  },
  {
   "cell_type": "markdown",
   "metadata": {},
   "source": [
    "## Exporting to JSON\n",
    "\n",
    "Use `toJSON()` to export the prompt structure as JSON."
   ]
  },
  {
   "cell_type": "code",
   "execution_count": 6,
   "metadata": {
    "execution": {
     "iopub.execute_input": "2025-10-17T13:13:00.513372Z",
     "iopub.status.busy": "2025-10-17T13:13:00.513283Z",
     "iopub.status.idle": "2025-10-17T13:13:00.515360Z",
     "shell.execute_reply": "2025-10-17T13:13:00.515134Z"
    }
   },
   "outputs": [
    {
     "name": "stdout",
     "output_type": "stream",
     "text": [
      "{\n",
      "  \"prompt_id\": \"6f9adf3a-96c7-43c3-a02f-b7a30186f9ec\",\n",
      "  \"children\": [\n",
      "    {\n",
      "      \"type\": \"static\",\n",
      "      \"id\": \"9fdd81de-ca8a-4708-aab3-cfcda9910ff1\",\n",
      "      \"parent_id\": \"6f9adf3a-96c7-43c3-a02f-b7a30186f9ec\",\n",
      "      \"key\": 0,\n",
      "      \"index\": 0,\n",
      "      \"source_location\": {\n",
      "        \"filename\": \"882574176.py\",\n",
      "        \"filepath\": \"/private/var/folders/wr/5n6v6bvj6mxdxjcg5_5ss1ph0000gn/T/ipykernel_26567/882574176.py\",\n",
      "        \"line\": 6\n",
      "      },\n",
      "      \"value\": \"Context: \"\n",
      "    },\n",
      "    {\n",
      "      \"type\": \"interpolation\",\n",
      "      \"id\": \"3d1d60e3-fdc4-4b7d-bd13-9e4340feee8f\",\n",
      "      \"parent_id\": \"6f9adf3a-96c7-43c3-a02f-b7a30186f9ec\",\n",
      "      \"key\": \"ctx\",\n",
      "      \"index\": 1,\n",
      "      \"source_location\": {\n",
      "        \"filename\": \"882574176.py\",\n",
      "        \"filepath\": \"/private/var/folders/wr/5n6v6bvj6mxdxjcg5_5ss1ph0000gn/T/ipykernel_26567/882574176.py\",\n",
      "        \"line\": 6\n",
      "      },\n",
      "      \"expression\": \"context\",\n",
      "      \"conversion\": null,\n",
      "      \"format_spec\": \"ctx\",\n",
      "      \"render_hints\": \"\",\n",
      "      \"value\": \"User is Alice\"\n",
      "    },\n",
      "    {\n",
      "      \"type\": \"static\",\n",
      "      \"id\": \"690337d6-5345-4c53-85c5-f50ff76cfec8\",\n",
      "      \"parent_id\": \"6f9adf3a-96c7-43c3-a02f-b7a30186f9ec\",\n",
      "      \"key\": 1,\n",
      "      \"index\": 2,\n",
      "      \"source_location\": {\n",
      "        \"filename\": \"882574176.py\",\n",
      "        \"filepath\": \"/private/var/folders/wr/5n6v6bvj6mxdxjcg5_5ss1ph0000gn/T/ipykernel_26567/882574176.py\",\n",
      "        \"line\": 6\n",
      "      },\n",
      "      \"value\": \". \"\n",
      "    },\n",
      "    {\n",
      "      \"type\": \"interpolation\",\n",
      "      \"id\": \"055f8eba-9983-466b-91d5-f5f9d4758d25\",\n",
      "      \"parent_id\": \"6f9adf3a-96c7-43c3-a02f-b7a30186f9ec\",\n",
      "      \"key\": \"inst\",\n",
      "      \"index\": 3,\n",
      "      \"source_location\": {\n",
      "        \"filename\": \"882574176.py\",\n",
      "        \"filepath\": \"/private/var/folders/wr/5n6v6bvj6mxdxjcg5_5ss1ph0000gn/T/ipykernel_26567/882574176.py\",\n",
      "        \"line\": 6\n",
      "      },\n",
      "      \"expression\": \"instructions\",\n",
      "      \"conversion\": null,\n",
      "      \"format_spec\": \"inst\",\n",
      "      \"render_hints\": \"\",\n",
      "      \"value\": \"Be concise\"\n",
      "    },\n",
      "    {\n",
      "      \"type\": \"static\",\n",
      "      \"id\": \"b0f65708-5bc9-4b9f-aa1b-78f0888fd894\",\n",
      "      \"parent_id\": \"6f9adf3a-96c7-43c3-a02f-b7a30186f9ec\",\n",
      "      \"key\": 2,\n",
      "      \"index\": 4,\n",
      "      \"source_location\": {\n",
      "        \"filename\": \"882574176.py\",\n",
      "        \"filepath\": \"/private/var/folders/wr/5n6v6bvj6mxdxjcg5_5ss1ph0000gn/T/ipykernel_26567/882574176.py\",\n",
      "        \"line\": 6\n",
      "      },\n",
      "      \"value\": \"\"\n",
      "    }\n",
      "  ]\n",
      "}\n"
     ]
    }
   ],
   "source": [
    "import json\n",
    "\n",
    "context = \"User is Alice\"\n",
    "instructions = \"Be concise\"\n",
    "\n",
    "p = prompt(t\"Context: {context:ctx}. {instructions:inst}\")\n",
    "\n",
    "# Export to JSON\n",
    "json_data = p.toJSON()\n",
    "print(json.dumps(json_data, indent=2))"
   ]
  },
  {
   "cell_type": "markdown",
   "metadata": {},
   "source": [
    "## Nested JSON Export\n",
    "\n",
    "JSON export works recursively for nested prompts."
   ]
  },
  {
   "cell_type": "code",
   "execution_count": 7,
   "metadata": {
    "execution": {
     "iopub.execute_input": "2025-10-17T13:13:00.516521Z",
     "iopub.status.busy": "2025-10-17T13:13:00.516426Z",
     "iopub.status.idle": "2025-10-17T13:13:00.518529Z",
     "shell.execute_reply": "2025-10-17T13:13:00.518313Z"
    }
   },
   "outputs": [
    {
     "name": "stdout",
     "output_type": "stream",
     "text": [
      "{\n",
      "  \"prompt_id\": \"01dbd539-02ff-4c5e-acc3-1667a16ec0c8\",\n",
      "  \"children\": [\n",
      "    {\n",
      "      \"type\": \"static\",\n",
      "      \"id\": \"563f790e-8db7-4af8-9eb5-e3cde95e6a3c\",\n",
      "      \"parent_id\": \"01dbd539-02ff-4c5e-acc3-1667a16ec0c8\",\n",
      "      \"key\": 0,\n",
      "      \"index\": 0,\n",
      "      \"source_location\": {\n",
      "        \"filename\": \"3458326394.py\",\n",
      "        \"filepath\": \"/private/var/folders/wr/5n6v6bvj6mxdxjcg5_5ss1ph0000gn/T/ipykernel_26567/3458326394.py\",\n",
      "        \"line\": 3\n",
      "      },\n",
      "      \"value\": \"Outer: \"\n",
      "    },\n",
      "    {\n",
      "      \"type\": \"nested_prompt\",\n",
      "      \"id\": \"c73a779a-e9de-4d7f-9ad3-95fa7a6437f9\",\n",
      "      \"parent_id\": \"01dbd539-02ff-4c5e-acc3-1667a16ec0c8\",\n",
      "      \"key\": \"in\",\n",
      "      \"index\": 1,\n",
      "      \"source_location\": {\n",
      "        \"filename\": \"3458326394.py\",\n",
      "        \"filepath\": \"/private/var/folders/wr/5n6v6bvj6mxdxjcg5_5ss1ph0000gn/T/ipykernel_26567/3458326394.py\",\n",
      "        \"line\": 3\n",
      "      },\n",
      "      \"expression\": \"inner\",\n",
      "      \"conversion\": null,\n",
      "      \"format_spec\": \"in\",\n",
      "      \"render_hints\": \"\",\n",
      "      \"prompt_id\": \"c73a779a-e9de-4d7f-9ad3-95fa7a6437f9\",\n",
      "      \"creation_location\": {\n",
      "        \"filename\": \"3458326394.py\",\n",
      "        \"filepath\": \"/private/var/folders/wr/5n6v6bvj6mxdxjcg5_5ss1ph0000gn/T/ipykernel_26567/3458326394.py\",\n",
      "        \"line\": 2\n",
      "      },\n",
      "      \"children\": [\n",
      "        {\n",
      "          \"type\": \"static\",\n",
      "          \"id\": \"bf649e59-a74e-40a4-ac11-de909148e646\",\n",
      "          \"parent_id\": \"c73a779a-e9de-4d7f-9ad3-95fa7a6437f9\",\n",
      "          \"key\": 0,\n",
      "          \"index\": 0,\n",
      "          \"source_location\": {\n",
      "            \"filename\": \"3458326394.py\",\n",
      "            \"filepath\": \"/private/var/folders/wr/5n6v6bvj6mxdxjcg5_5ss1ph0000gn/T/ipykernel_26567/3458326394.py\",\n",
      "            \"line\": 2\n",
      "          },\n",
      "          \"value\": \"\"\n",
      "        },\n",
      "        {\n",
      "          \"type\": \"interpolation\",\n",
      "          \"id\": \"20a2a532-22aa-4a14-b961-8b6d35d53fd5\",\n",
      "          \"parent_id\": \"c73a779a-e9de-4d7f-9ad3-95fa7a6437f9\",\n",
      "          \"key\": \"ctx\",\n",
      "          \"index\": 1,\n",
      "          \"source_location\": {\n",
      "            \"filename\": \"3458326394.py\",\n",
      "            \"filepath\": \"/private/var/folders/wr/5n6v6bvj6mxdxjcg5_5ss1ph0000gn/T/ipykernel_26567/3458326394.py\",\n",
      "            \"line\": 2\n",
      "          },\n",
      "          \"expression\": \"context\",\n",
      "          \"conversion\": null,\n",
      "          \"format_spec\": \"ctx\",\n",
      "          \"render_hints\": \"\",\n",
      "          \"value\": \"User is Alice\"\n",
      "        },\n",
      "        {\n",
      "          \"type\": \"static\",\n",
      "          \"id\": \"a58a51b9-32d8-42d2-b6a9-de69f3334488\",\n",
      "          \"parent_id\": \"c73a779a-e9de-4d7f-9ad3-95fa7a6437f9\",\n",
      "          \"key\": 1,\n",
      "          \"index\": 2,\n",
      "          \"source_location\": {\n",
      "            \"filename\": \"3458326394.py\",\n",
      "            \"filepath\": \"/private/var/folders/wr/5n6v6bvj6mxdxjcg5_5ss1ph0000gn/T/ipykernel_26567/3458326394.py\",\n",
      "            \"line\": 2\n",
      "          },\n",
      "          \"value\": \"\"\n",
      "        }\n",
      "      ]\n",
      "    },\n",
      "    {\n",
      "      \"type\": \"static\",\n",
      "      \"id\": \"d9160861-66c7-4243-a230-872e82282c81\",\n",
      "      \"parent_id\": \"01dbd539-02ff-4c5e-acc3-1667a16ec0c8\",\n",
      "      \"key\": 1,\n",
      "      \"index\": 2,\n",
      "      \"source_location\": {\n",
      "        \"filename\": \"3458326394.py\",\n",
      "        \"filepath\": \"/private/var/folders/wr/5n6v6bvj6mxdxjcg5_5ss1ph0000gn/T/ipykernel_26567/3458326394.py\",\n",
      "        \"line\": 3\n",
      "      },\n",
      "      \"value\": \". \"\n",
      "    },\n",
      "    {\n",
      "      \"type\": \"interpolation\",\n",
      "      \"id\": \"85f9b36e-e6ed-4311-a9fd-f31f79a7cc2e\",\n",
      "      \"parent_id\": \"01dbd539-02ff-4c5e-acc3-1667a16ec0c8\",\n",
      "      \"key\": \"inst\",\n",
      "      \"index\": 3,\n",
      "      \"source_location\": {\n",
      "        \"filename\": \"3458326394.py\",\n",
      "        \"filepath\": \"/private/var/folders/wr/5n6v6bvj6mxdxjcg5_5ss1ph0000gn/T/ipykernel_26567/3458326394.py\",\n",
      "        \"line\": 3\n",
      "      },\n",
      "      \"expression\": \"instructions\",\n",
      "      \"conversion\": null,\n",
      "      \"format_spec\": \"inst\",\n",
      "      \"render_hints\": \"\",\n",
      "      \"value\": \"Be concise\"\n",
      "    },\n",
      "    {\n",
      "      \"type\": \"static\",\n",
      "      \"id\": \"7e5b4195-96ce-4ac1-be4c-b317ff3c94f1\",\n",
      "      \"parent_id\": \"01dbd539-02ff-4c5e-acc3-1667a16ec0c8\",\n",
      "      \"key\": 2,\n",
      "      \"index\": 4,\n",
      "      \"source_location\": {\n",
      "        \"filename\": \"3458326394.py\",\n",
      "        \"filepath\": \"/private/var/folders/wr/5n6v6bvj6mxdxjcg5_5ss1ph0000gn/T/ipykernel_26567/3458326394.py\",\n",
      "        \"line\": 3\n",
      "      },\n",
      "      \"value\": \"\"\n",
      "    }\n",
      "  ]\n",
      "}\n"
     ]
    }
   ],
   "source": [
    "# Create nested structure\n",
    "inner = prompt(t\"{context:ctx}\")\n",
    "outer = prompt(t\"Outer: {inner:in}. {instructions:inst}\")\n",
    "\n",
    "# Export nested structure\n",
    "nested_json = outer.toJSON()\n",
    "print(json.dumps(nested_json, indent=2))"
   ]
  },
  {
   "cell_type": "markdown",
   "metadata": {},
   "source": [
    "## Inspecting Prompt Structure\n",
    "\n",
    "You can recursively inspect nested prompt structures."
   ]
  },
  {
   "cell_type": "code",
   "execution_count": 8,
   "metadata": {
    "execution": {
     "iopub.execute_input": "2025-10-17T13:13:00.519626Z",
     "iopub.status.busy": "2025-10-17T13:13:00.519545Z",
     "iopub.status.idle": "2025-10-17T13:13:00.521464Z",
     "shell.execute_reply": "2025-10-17T13:13:00.521266Z"
    }
   },
   "outputs": [
    {
     "name": "stdout",
     "output_type": "stream",
     "text": [
      "in: (nested prompt)\n",
      "  ctx: context = \"User is Alice\"\n",
      "inst: instructions = \"Be concise\"\n"
     ]
    }
   ],
   "source": [
    "from t_prompts import StructuredPrompt\n",
    "\n",
    "\n",
    "def inspect_prompt(p, indent=0):\n",
    "    \"\"\"Recursively inspect a structured prompt.\"\"\"\n",
    "    prefix = \"  \" * indent\n",
    "    for key, node in p.items():\n",
    "        if isinstance(node, StructuredPrompt):\n",
    "            # Node is a nested prompt\n",
    "            print(f\"{prefix}{key}: (nested prompt)\")\n",
    "            inspect_prompt(node, indent + 1)\n",
    "        else:\n",
    "            # Node is an interpolation with a string value\n",
    "            print(f\"{prefix}{key}: {node.expression} = \\\"{node.value}\\\"\")\n",
    "\n",
    "inspect_prompt(outer)"
   ]
  },
  {
   "cell_type": "markdown",
   "metadata": {},
   "source": [
    "## Next Steps\n",
    "\n",
    "Continue learning:\n",
    "\n",
    "- **03-ir-visualization.ipynb**: See the widget visualization for IntermediateRepresentation\n",
    "- **topics/few-shot-prompts.ipynb**: Build few-shot prompts with dynamic keys and lists\n",
    "- **topics/source-mapping.ipynb**: Bidirectional text ↔ structure mapping\n",
    "- **topics/dedenting.ipynb**: Write readable multi-line prompts"
   ]
  }
 ],
 "metadata": {
  "kernelspec": {
   "display_name": "Python 3",
   "language": "python",
   "name": "python3"
  },
  "language_info": {
   "codemirror_mode": {
    "name": "ipython",
    "version": 3
   },
   "file_extension": ".py",
   "mimetype": "text/x-python",
   "name": "python",
   "nbconvert_exporter": "python",
   "pygments_lexer": "ipython3",
   "version": "3.14.0"
  }
 },
 "nbformat": 4,
 "nbformat_minor": 4
}
