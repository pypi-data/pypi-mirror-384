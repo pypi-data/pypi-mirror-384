{
 "cells": [
  {
   "cell_type": "markdown",
   "metadata": {},
   "source": [
    "# Example for using the Igor reader\n",
    "The igor reader allows reading data from Wavemetrics Igor Pro .ibw \"binary wave\" files and .pxp \"packed experiment\" files. These two modes of operation are mutually exclusive, i.e. you can either pass one or multiple ibw files, or one pxp file. The behavior of the reader is controlled via two config files: ``config.json`` defines the assignment to nexus class paths, whereas ``entries.yaml.entry`` defines which data to read from the source file(s). This notebook showcases several examples how to use the reader. A more complete example and template how to convert complete datasets can be found in another example notebook. These examples convert to the nexus class ``NXroot``, the most generic Nexus class."
   ]
  },
  {
   "cell_type": "code",
   "execution_count": null,
   "metadata": {},
   "outputs": [],
   "source": [
    "%load_ext autoreload\n",
    "%autoreload 2\n",
    "from pynxtools.dataconverter.convert import convert\n",
    "import yaml"
   ]
  },
  {
   "cell_type": "markdown",
   "metadata": {},
   "source": [
    "## Convert from ``.ibw`` Igor binary wave files"
   ]
  },
  {
   "cell_type": "markdown",
   "metadata": {},
   "source": [
    "### Conversion without entry definition\n",
    "The conversion from ``.ibw`` files does not require the definition of an entry file. In that case, each ibw file generates an entry with the filename (excluding \".ibw\") as entry name. Axis data as well as units are read from the ibw wave information (internal wave scaling), and named ``axis0`` to ``axis3``. These are available via the ``@data`` mechanism. Wave notes are parsed and split according to a ``key=value\\\\n`` schema, and are available vie the ``@attrs`` mechanism."
   ]
  },
  {
   "cell_type": "code",
   "execution_count": null,
   "metadata": {},
   "outputs": [],
   "source": [
    "convert(\n",
    "    input_file=[\"config_file.json\", \"Norm_0057.ibw\", \"Norm_0059.ibw\"],\n",
    "    reader=\"igor\",\n",
    "    nxdl=\"NXroot\",\n",
    "    output=\"example_ibw.nxs\",\n",
    ")"
   ]
  },
  {
   "cell_type": "markdown",
   "metadata": {},
   "source": [
    "### Conversion with entry definition\n",
    "Alternatively, an entry definition can be passed in addition, which contains a dictionary of entries, where each entry key generates an entry of that name. The dict entries are expected to be dicts as well, containing at least the key ``data`` with the filename of the respective ibw file to use as data for this entry. Additionally, ``axisN_name`` keys can be passed to rename the axis entries from the default ``axis0`` to ``axis3``. Similarly, ``axisN_units`` and ``data_units`` can be passed to overwrite respective information read from the ibw files. ibw files for which no entry has been defined will generate an entry according to their filename as before. Additionally, each entry can contain a ``metadata`` dict with additional metadata specific to this entry.\n",
    "\n",
    "This entry dict can be passed as an object, in which case it is expected as sole and single object in the objects tuple."
   ]
  },
  {
   "cell_type": "code",
   "execution_count": null,
   "metadata": {},
   "outputs": [],
   "source": [
    "entry_dict = {\n",
    "    \"Scan57\": {\n",
    "        \"data\": \"Norm_0057.ibw\",\n",
    "        \"data_units\": \"counts/monitor\",\n",
    "        \"axis0_name\": \"theta\",\n",
    "        \"axis0_units\": \"degree\",\n",
    "    },\n",
    "}\n",
    "convert(\n",
    "    input_file=[\"config_file.json\", \"Norm_0057.ibw\", \"Norm_0059.ibw\"],\n",
    "    reader=\"igor\",\n",
    "    nxdl=\"NXroot\",\n",
    "    output=\"example_ibw_entry.nxs\",\n",
    "    objects=(entry_dict,),\n",
    ")"
   ]
  },
  {
   "cell_type": "markdown",
   "metadata": {},
   "source": [
    "The ``entry`` dict can also be passed as yaml file with extension ``.entry``"
   ]
  },
  {
   "cell_type": "code",
   "execution_count": null,
   "metadata": {},
   "outputs": [],
   "source": [
    "with open(\"Norm57.yaml.entry\", \"w\") as f:\n",
    "    yaml.dump(entry_dict, f)\n",
    "convert(\n",
    "    input_file=[\n",
    "        \"config_file.json\",\n",
    "        \"Norm_0057.ibw\",\n",
    "        \"Norm_0059.ibw\",\n",
    "        \"Norm57.yaml.entry\",\n",
    "    ],\n",
    "    reader=\"igor\",\n",
    "    nxdl=\"NXroot\",\n",
    "    output=\"example_ibw_entry.nxs\",\n",
    ")"
   ]
  },
  {
   "cell_type": "markdown",
   "metadata": {},
   "source": [
    "## Conversion from Igor packed experiment files\n",
    "Conversion from ``.pxp`` files requires definition of an entry dict. Here also, each key/value defines one entry to generate in the Nexus file. the ``data`` entry contains here the ibw-path to the wave to use as main data entry. Axis information can be either read from the wave scaling, or be provided via an ``axisN`` entry, pointing to a wave containing axis information. Similarly, a ``data_errors`` key can be defined, pointing to a wave containing data uncertainties."
   ]
  },
  {
   "cell_type": "code",
   "execution_count": null,
   "metadata": {},
   "outputs": [],
   "source": [
    "# pxp test\n",
    "entry_dict = {\n",
    "    \"Scan57\": {\n",
    "        \"data\": \"root/Norm_0057\",\n",
    "        \"data_units\": \"counts/monitor\",\n",
    "        \"axis0\": \"root/Raw/SPECScan_0057/QWave\",\n",
    "        \"axis0_name\": \"l\",\n",
    "        \"axis0_units\": \"r.l.u.\",\n",
    "        \"metadata\": {\"entry_title\": \"Scan at 16 K\"},\n",
    "    },\n",
    "    \"Scan59\": {\n",
    "        \"data\": \"root/Norm_0059\",\n",
    "        \"data_units\": \"counts/monitor\",\n",
    "        \"axis0\": \"root/Raw/SPECScan_0059/QWave\",\n",
    "        \"axis0_name\": \"l\",\n",
    "        \"axis0_units\": \"r.l.u.\",\n",
    "        \"metadata\": {\"entry_title\": \"Scan at 18 K\"},\n",
    "    },\n",
    "}\n",
    "convert(\n",
    "    input_file=[\"config_file.json\", \"Fig2a.pxp\"],\n",
    "    reader=\"igor\",\n",
    "    nxdl=\"NXroot\",\n",
    "    output=\"example_pxp.nxs\",\n",
    "    objects=(entry_dict,),\n",
    ")"
   ]
  },
  {
   "cell_type": "markdown",
   "metadata": {},
   "source": [
    "This method also can be invoked using a ``.entry`` yaml file"
   ]
  },
  {
   "cell_type": "code",
   "execution_count": null,
   "metadata": {},
   "outputs": [],
   "source": [
    "with open(\"Scan57_59.yaml.entry\", \"w\") as f:\n",
    "    yaml.dump(entry_dict, f)\n",
    "convert(\n",
    "    input_file=[\"config_file.json\", \"Fig2a.pxp\", \"Scan57_59.yaml.entry\"],\n",
    "    reader=\"igor\",\n",
    "    nxdl=\"NXroot\",\n",
    "    output=\"example_pxp.nxs\",\n",
    ")"
   ]
  },
  {
   "cell_type": "markdown",
   "metadata": {},
   "source": [
    "## Invoking from command line\n",
    "Off course, the dataconverter can also be called from the command line"
   ]
  },
  {
   "cell_type": "code",
   "execution_count": null,
   "metadata": {},
   "outputs": [],
   "source": [
    "!dataconverter --reader igor --nxdl NXroot --output example_pxp.nxs config_file.json Fig2a.pxp Scan57_59.yaml.entry"
   ]
  },
  {
   "cell_type": "code",
   "execution_count": null,
   "metadata": {},
   "outputs": [],
   "source": []
  }
 ],
 "metadata": {
  "kernelspec": {
   "display_name": ".pyenv",
   "language": "python",
   "name": "python3"
  },
  "language_info": {
   "codemirror_mode": {
    "name": "ipython",
    "version": 3
   },
   "file_extension": ".py",
   "mimetype": "text/x-python",
   "name": "python",
   "nbconvert_exporter": "python",
   "pygments_lexer": "ipython3",
   "version": "3.8.0"
  }
 },
 "nbformat": 4,
 "nbformat_minor": 2
}
