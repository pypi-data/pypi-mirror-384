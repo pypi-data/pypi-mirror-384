{
 "cells": [
  {
   "cell_type": "markdown",
   "id": "7f26a335-cf1c-4e69-be3b-0c26b154606a",
   "metadata": {},
   "source": [
    "# Quickstart"
   ]
  },
  {
   "cell_type": "code",
   "execution_count": null,
   "id": "a51faaf3-ee27-43c6-b48d-13be1adb5c46",
   "metadata": {},
   "outputs": [],
   "source": [
    "import githubcontribs\n",
    "\n",
    "fetcher = githubcontribs.Fetcher(\"laminlabs\")\n",
    "df = fetcher.fetch_contribs(\"lamindb\")\n",
    "df.head()"
   ]
  },
  {
   "cell_type": "code",
   "execution_count": null,
   "id": "57b6dd2e",
   "metadata": {},
   "outputs": [],
   "source": [
    "plotter = githubcontribs.Plotter(df)\n",
    "plotter.plot_total_number_by_author_by_type()\n",
    "plotter.plot_number_by_month_by_author()"
   ]
  },
  {
   "cell_type": "code",
   "execution_count": null,
   "id": "63424e9a",
   "metadata": {},
   "outputs": [],
   "source": [
    "fetcher.fetch_repos(2025)"
   ]
  }
 ],
 "metadata": {
  "kernelspec": {
   "display_name": "py312",
   "language": "python",
   "name": "python3"
  },
  "language_info": {
   "codemirror_mode": {
    "name": "ipython",
    "version": 3
   },
   "file_extension": ".py",
   "mimetype": "text/x-python",
   "name": "python",
   "nbconvert_exporter": "python",
   "pygments_lexer": "ipython3",
   "version": "3.12.8"
  }
 },
 "nbformat": 4,
 "nbformat_minor": 5
}
