{
 "cells": [
  {
   "cell_type": "markdown",
   "metadata": {},
   "source": [
    "# Agile Earth-Observing Satellite Environment\n",
    "\n",
    "This example demonstrates the environment configuration for a power-free and power-constrained agile Earth-observing satellite. These environments reflect the configuration and values from an upcoming journal paper."
   ]
  },
  {
   "cell_type": "code",
   "execution_count": 1,
   "metadata": {},
   "outputs": [],
   "source": [
    "import numpy as np\n",
    "from Basilisk.architecture import bskLogging\n",
    "from Basilisk.utilities import orbitalMotion\n",
    "\n",
    "from bsk_rl import SatelliteTasking, act, data, obs, sats, scene\n",
    "from bsk_rl.sim import fsw\n",
    "from bsk_rl.utils.orbital import random_orbit, rv2HN\n",
    "\n",
    "bskLogging.setDefaultLogLevel(bskLogging.BSK_WARNING)"
   ]
  },
  {
   "cell_type": "markdown",
   "metadata": {},
   "source": [
    "## Power-Free Environment\n",
    "\n",
    "First, a function for generating satellite types is introduced. This function can generate one of three different observation types, and can choose to include the time through episode in the observation."
   ]
  },
  {
   "cell_type": "code",
   "execution_count": 2,
   "metadata": {},
   "outputs": [],
   "source": [
    "def satellite_generator(observation, n_ahead=32, include_time=False):\n",
    "    \"\"\"_summary_\n",
    "\n",
    "    Args:\n",
    "        observation: Pick from \"S1\", \"S2\", \"S3\"\n",
    "        n_ahead: Number of requests to include in the observation and action spaces\n",
    "        include_time: Whether to include time through episode in the observation\n",
    "    \"\"\"\n",
    "\n",
    "    assert observation in [\"S1\", \"S2\", \"S3\"]\n",
    "\n",
    "    class CustomSatellite(sats.ImagingSatellite):\n",
    "        action_spec = [act.Image(n_ahead_image=n_ahead)]\n",
    "        if observation == \"S1\":\n",
    "            observation_spec = [\n",
    "                obs.SatProperties(\n",
    "                    dict(prop=\"omega_BP_P\", norm=0.03),\n",
    "                    dict(prop=\"c_hat_P\"),\n",
    "                    dict(prop=\"r_BN_P\", norm=orbitalMotion.REQ_EARTH * 1e3),\n",
    "                    dict(prop=\"v_BN_P\", norm=7616.5),\n",
    "                ),\n",
    "                obs.OpportunityProperties(\n",
    "                    dict(prop=\"priority\"),\n",
    "                    dict(prop=\"r_LP_P\", norm=orbitalMotion.REQ_EARTH * 1e3),\n",
    "                    type=\"target\",\n",
    "                    n_ahead_observe=n_ahead,\n",
    "                ),\n",
    "            ]\n",
    "        elif observation == \"S2\":\n",
    "            observation_spec = [\n",
    "                obs.SatProperties(\n",
    "                    dict(prop=\"omega_BH_H\", norm=0.03),\n",
    "                    dict(prop=\"c_hat_H\"),\n",
    "                    dict(prop=\"r_BN_P\", norm=orbitalMotion.REQ_EARTH * 1e3),\n",
    "                    dict(prop=\"v_BN_P\", norm=7616.5),\n",
    "                ),\n",
    "                obs.OpportunityProperties(\n",
    "                    dict(prop=\"priority\"),\n",
    "                    dict(prop=\"r_LB_H\", norm=orbitalMotion.REQ_EARTH * 1e3),\n",
    "                    type=\"target\",\n",
    "                    n_ahead_observe=n_ahead,\n",
    "                ),\n",
    "            ]\n",
    "        elif observation == \"S3\":\n",
    "            observation_spec = [\n",
    "                obs.SatProperties(\n",
    "                    dict(prop=\"omega_BH_H\", norm=0.03),\n",
    "                    dict(prop=\"c_hat_H\"),\n",
    "                    dict(prop=\"r_BN_P\", norm=orbitalMotion.REQ_EARTH * 1e3),\n",
    "                    dict(prop=\"v_BN_P\", norm=7616.5),\n",
    "                ),\n",
    "                obs.OpportunityProperties(\n",
    "                    dict(prop=\"priority\"),\n",
    "                    dict(prop=\"r_LB_H\", norm=800 * 1e3),\n",
    "                    dict(prop=\"target_angle\", norm=np.pi / 2),\n",
    "                    dict(prop=\"target_angle_rate\", norm=0.03),\n",
    "                    dict(prop=\"opportunity_open\", norm=300.0),\n",
    "                    dict(prop=\"opportunity_close\", norm=300.0),\n",
    "                    type=\"target\",\n",
    "                    n_ahead_observe=n_ahead,\n",
    "                ),\n",
    "            ]\n",
    "\n",
    "        if include_time:\n",
    "            observation_spec.append(obs.Time())\n",
    "        fsw_type = fsw.SteeringImagerFSWModel\n",
    "\n",
    "    return CustomSatellite"
   ]
  },
  {
   "cell_type": "markdown",
   "metadata": {},
   "source": [
    "Next, the parameters for the satellite are defined."
   ]
  },
  {
   "cell_type": "code",
   "execution_count": 3,
   "metadata": {},
   "outputs": [],
   "source": [
    "SAT_ARGS = dict(\n",
    "    imageAttErrorRequirement=0.01,\n",
    "    imageRateErrorRequirement=0.01,\n",
    "    batteryStorageCapacity=80.0 * 3600 * 100,\n",
    "    storedCharge_Init=80.0 * 3600 * 100.0,\n",
    "    dataStorageCapacity=200 * 8e6 * 100,\n",
    "    u_max=0.4,\n",
    "    imageTargetMinimumElevation=np.arctan(800 / 500),\n",
    "    K1=0.25,\n",
    "    K3=3.0,\n",
    "    omega_max=np.radians(5),\n",
    "    servo_Ki=5.0,\n",
    "    servo_P=150 / 5,\n",
    "    oe=lambda: random_orbit(alt=800),\n",
    ")"
   ]
  },
  {
   "cell_type": "markdown",
   "metadata": {},
   "source": [
    "Finally, the environment can be initialized."
   ]
  },
  {
   "cell_type": "code",
   "execution_count": null,
   "metadata": {},
   "outputs": [],
   "source": [
    "duration = 5700.0 * 5  # 5 orbits\n",
    "target_distribution = \"uniform\"\n",
    "n_targets = 3000\n",
    "n_ahead = 32\n",
    "\n",
    "if target_distribution == \"uniform\":\n",
    "    targets = scene.UniformTargets(n_targets)\n",
    "elif target_distribution == \"cities\":\n",
    "    targets = scene.CityTargets(n_targets)\n",
    "\n",
    "env = SatelliteTasking(\n",
    "    satellite=satellite_generator(observation=\"S3\", n_ahead=32, include_time=False)(\n",
    "        name=\"EO1\",\n",
    "        sat_args=SAT_ARGS,\n",
    "    ),\n",
    "    scenario=targets,\n",
    "    rewarder=data.UniqueImageReward(),\n",
    "    sim_rate=0.5,\n",
    "    max_step_duration=300.0,\n",
    "    time_limit=duration,\n",
    "    failure_penalty=0.0,\n",
    "    terminate_on_time_limit=True,\n",
    "    log_level=\"INFO\",\n",
    ")\n",
    "_ = env.reset()\n",
    "for i in range(5):\n",
    "    env.step(env.action_space.sample())"
   ]
  },
  {
   "cell_type": "markdown",
   "metadata": {},
   "source": [
    "## Power-Constrained Environment\n",
    "\n",
    "The power-constrained environment is like the power-free environment, but with an additional battery management requirement. The satellite has additional observation elements to be able to account for power.\n",
    "\n",
    "First, the upcoming reward density observation is defined."
   ]
  },
  {
   "cell_type": "code",
   "execution_count": 5,
   "metadata": {},
   "outputs": [],
   "source": [
    "class Density(obs.Observation):\n",
    "    def __init__(\n",
    "        self,\n",
    "        interval_duration=60 * 3,\n",
    "        intervals=10,\n",
    "        norm=3,\n",
    "    ):\n",
    "        self.satellite: \"sats.AccessSatellite\"\n",
    "        super().__init__()\n",
    "        self.interval_duration = interval_duration\n",
    "        self.intervals = intervals\n",
    "        self.norm = norm\n",
    "\n",
    "    def get_obs(self):\n",
    "        if self.intervals == 0:\n",
    "            return []\n",
    "\n",
    "        self.satellite.calculate_additional_windows(\n",
    "            self.simulator.sim_time\n",
    "            + (self.intervals + 1) * self.interval_duration\n",
    "            - self.satellite.window_calculation_time\n",
    "        )\n",
    "        soonest = self.satellite.upcoming_opportunities_dict(types=\"target\")\n",
    "        rewards = np.array([opportunity.priority for opportunity in soonest])\n",
    "        times = np.array([opportunities[0][1] for opportunities in soonest.values()])\n",
    "        time_bins = np.floor((times - self.simulator.sim_time) / self.interval_duration)\n",
    "        densities = [sum(rewards[time_bins == i]) for i in range(self.intervals)]\n",
    "        return np.array(densities) / self.norm"
   ]
  },
  {
   "cell_type": "markdown",
   "metadata": {},
   "source": [
    "The satellite generator function is then defined, along with some additional observations."
   ]
  },
  {
   "cell_type": "code",
   "execution_count": 6,
   "metadata": {},
   "outputs": [],
   "source": [
    "def wheel_speed_3(sat):\n",
    "    return np.array(sat.dynamics.wheel_speeds[0:3]) / 630\n",
    "\n",
    "\n",
    "def s_hat_H(sat):\n",
    "    r_SN_N = (\n",
    "        sat.simulator.world.gravFactory.spiceObject.planetStateOutMsgs[\n",
    "            sat.simulator.world.sun_index\n",
    "        ]\n",
    "        .read()\n",
    "        .PositionVector\n",
    "    )\n",
    "    r_BN_N = sat.dynamics.r_BN_N\n",
    "    r_SB_N = np.array(r_SN_N) - np.array(r_BN_N)\n",
    "    r_SB_H = rv2HN(r_BN_N, sat.dynamics.v_BN_N) @ r_SB_N\n",
    "    return r_SB_H / np.linalg.norm(r_SB_H)\n",
    "\n",
    "\n",
    "def power_sat_generator(n_ahead=32, include_time=False):\n",
    "    class PowerSat(sats.ImagingSatellite):\n",
    "        action_spec = [act.Image(n_ahead_image=n_ahead), act.Charge()]\n",
    "        observation_spec = [\n",
    "            obs.SatProperties(\n",
    "                dict(prop=\"omega_BH_H\", norm=0.03),\n",
    "                dict(prop=\"c_hat_H\"),\n",
    "                dict(prop=\"r_BN_P\", norm=orbitalMotion.REQ_EARTH * 1e3),\n",
    "                dict(prop=\"v_BN_P\", norm=7616.5),\n",
    "                dict(prop=\"battery_charge_fraction\"),\n",
    "                dict(prop=\"wheel_speed_3\", fn=wheel_speed_3),\n",
    "                dict(prop=\"s_hat_H\", fn=s_hat_H),\n",
    "            ),\n",
    "            obs.OpportunityProperties(\n",
    "                dict(prop=\"priority\"),\n",
    "                dict(prop=\"r_LB_H\", norm=800 * 1e3),\n",
    "                dict(prop=\"target_angle\", norm=np.pi / 2),\n",
    "                dict(prop=\"target_angle_rate\", norm=0.03),\n",
    "                dict(prop=\"opportunity_open\", norm=300.0),\n",
    "                dict(prop=\"opportunity_close\", norm=300.0),\n",
    "                type=\"target\",\n",
    "                n_ahead_observe=n_ahead,\n",
    "            ),\n",
    "            obs.Eclipse(norm=5700),\n",
    "            Density(intervals=20, norm=5),\n",
    "        ]\n",
    "\n",
    "        if include_time:\n",
    "            observation_spec.append(obs.Time())\n",
    "\n",
    "        fsw_type = fsw.SteeringImagerFSWModel\n",
    "\n",
    "    return PowerSat"
   ]
  },
  {
   "cell_type": "markdown",
   "metadata": {},
   "source": [
    "Satellite parameters are also modified for the power-constrained environment."
   ]
  },
  {
   "cell_type": "code",
   "execution_count": 7,
   "metadata": {},
   "outputs": [],
   "source": [
    "SAT_ARGS_POWER = {}\n",
    "SAT_ARGS_POWER.update(SAT_ARGS)\n",
    "SAT_ARGS_POWER.update(\n",
    "    dict(\n",
    "        batteryStorageCapacity=120.0 * 3600,\n",
    "        storedCharge_Init=lambda: 120.0 * 3600 * np.random.uniform(0.4, 1.0),\n",
    "        rwBasePower=20.4,\n",
    "        instrumentPowerDraw=-10,\n",
    "        thrusterPowerDraw=-30,\n",
    "        nHat_B=np.array([0, 0, -1]),\n",
    "        wheelSpeeds=lambda: np.random.uniform(-2000, 2000, 3),\n",
    "        desatAttitude=\"nadir\",\n",
    "    )\n",
    ")"
   ]
  },
  {
   "cell_type": "markdown",
   "metadata": {},
   "source": [
    "Finally, the environment can be initialized."
   ]
  },
  {
   "cell_type": "code",
   "execution_count": null,
   "metadata": {},
   "outputs": [],
   "source": [
    "duration = 5700.0 * 5  # 5 orbits\n",
    "target_distribution = \"uniform\"\n",
    "n_targets = 3000\n",
    "n_ahead = 32\n",
    "\n",
    "if target_distribution == \"uniform\":\n",
    "    targets = scene.UniformTargets(n_targets)\n",
    "elif target_distribution == \"cities\":\n",
    "    targets = scene.CityTargets(n_targets)\n",
    "\n",
    "env = SatelliteTasking(\n",
    "    satellite=power_sat_generator(n_ahead=32, include_time=False)(\n",
    "        name=\"EO1-power\",\n",
    "        sat_args=SAT_ARGS_POWER,\n",
    "    ),\n",
    "    scenario=targets,\n",
    "    rewarder=data.UniqueImageReward(),\n",
    "    sim_rate=0.5,\n",
    "    max_step_duration=300.0,\n",
    "    time_limit=duration,\n",
    "    failure_penalty=0.0,\n",
    "    terminate_on_time_limit=True,\n",
    "    log_level=\"INFO\",\n",
    ")\n",
    "_ = env.reset()\n",
    "for i in range(5):\n",
    "    env.step(env.action_space.sample())"
   ]
  },
  {
   "cell_type": "markdown",
   "metadata": {},
   "source": [
    "## Enabling Vizard\n",
    "\n",
    "Vizard visualization can be enabled by setting the ``vizard_dir`` to save the Vizard binary to. Here, it is saved to ``/tmp/vizard``, but this can be modified. Scripting settings can also be passed to Vizard."
   ]
  },
  {
   "cell_type": "code",
   "execution_count": null,
   "metadata": {},
   "outputs": [],
   "source": [
    "env = SatelliteTasking(\n",
    "    satellite=satellite_generator(observation=\"S3\", n_ahead=32, include_time=False)(\n",
    "        name=\"EO1\",\n",
    "        sat_args=SAT_ARGS,\n",
    "    ),\n",
    "    scenario=scene.CityTargets(100),\n",
    "    rewarder=data.UniqueImageReward(),\n",
    "    sim_rate=0.5,\n",
    "    max_step_duration=300.0,\n",
    "    time_limit=duration,\n",
    "    failure_penalty=0.0,\n",
    "    terminate_on_time_limit=True,\n",
    "    log_level=\"INFO\",\n",
    "    vizard_dir=\"/tmp/vizard\",\n",
    "    vizard_settings=dict(showLocationLabels=1),\n",
    ")\n",
    "_ = env.reset()\n",
    "for i in range(5):\n",
    "    env.step(env.action_space.sample())"
   ]
  }
 ],
 "metadata": {
  "kernelspec": {
   "display_name": ".venv",
   "language": "python",
   "name": "python3"
  },
  "language_info": {
   "codemirror_mode": {
    "name": "ipython",
    "version": 3
   },
   "file_extension": ".py",
   "mimetype": "text/x-python",
   "name": "python",
   "nbconvert_exporter": "python",
   "pygments_lexer": "ipython3",
   "version": "3.10.11"
  }
 },
 "nbformat": 4,
 "nbformat_minor": 2
}
