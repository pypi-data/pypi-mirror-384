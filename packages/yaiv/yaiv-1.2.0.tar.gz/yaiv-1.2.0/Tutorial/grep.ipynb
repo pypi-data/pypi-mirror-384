{
 "cells": [
  {
   "cell_type": "markdown",
   "id": "ddad11a7-99d8-44fe-b52d-be6633c90e08",
   "metadata": {},
   "source": [
    "# **Grep module**"
   ]
  },
  {
   "cell_type": "code",
   "execution_count": 101,
   "id": "096cff1d",
   "metadata": {},
   "outputs": [
    {
     "name": "stdout",
     "output_type": "stream",
     "text": [
      "\n",
      "YAIV | yaiv.grep\n",
      "================\n",
      "\n",
      "This module provides text-scraping utilities for extracting (grepping) structural and spectral\n",
      "information from first-principles calculation outputs. It supports common DFT packages\n",
      "such as Quantum ESPRESSO and VASP.\n",
      "\n",
      "The functions in this module perform low-level parsing (i.e., grepping) of data such as:\n",
      "\n",
      "- Electronic eigenvalues and k-points\n",
      "- Phonon frequencies and paths\n",
      "- Lattice vectors and stress tensors\n",
      "- Number of electrons and total energies\n",
      "- Fermi level and reciprocal space paths\n",
      "\n",
      "Supported formats include:\n",
      "- Quantum ESPRESSO output/input: `pw.x`, `ph.x`, `bands.in`, `projwfc.x`, `matdyn.x`, `.xml`\n",
      "- VASP output: `OUTCAR`, `EIGENVAL`, `KPOINTS`, `PROCAR`\n",
      "\n",
      "Functions\n",
      "---------\n",
      "electron_num(file)\n",
      "    Greps the number of electrons from a QE or VASP output file.\n",
      "\n",
      "lattice(file, alat=False)\n",
      "    Extracts the lattice vectors from outputs. Optionally in internal units (alat).\n",
      "\n",
      "fermi(file)\n",
      "    Extracts the Fermi energy from an output file.\n",
      "\n",
      "total_energy(file, decomposition=False)\n",
      "    Extracts the total free energy, optionally returning its internal decomposition (QE).\n",
      "\n",
      "stress_tensor(file)\n",
      "    Extracts the total stress tensor from a QE or VASP output file.\n",
      "\n",
      "kpath(file, labels=True)\n",
      "    Extracts the k-point path in reciprocal space, optionally with high-symmetry labels.\n",
      "\n",
      "pointsEnergies(file)\n",
      "    Greps the k-points, energies, kpoint-weights  and orbital projections (if available) for different file kinds.\n",
      "\n",
      "kpointsFrequencies(file)\n",
      "    Extracts k-points and phonon frequencies from Quantum ESPRESSO phonon outputs.\n",
      "\n",
      "dyn_file(file)\n",
      "    Reads a QE `.dyn` file and returns vibrational data (q-point (2π/Å), lattice (Å), frequencies, ...)\n",
      "\n",
      "dyn_q(q_cryst, results_ph_path, qe_format=True)\n",
      "    Locates and reads `.dyn*` file for a given q-point, returning the full dynamical matrix (3Nx3N).\n",
      "\n",
      "Private Utilities\n",
      "-----------------\n",
      "_filetype(file)\n",
      "    Heuristically determines the type of simulation output file (QE, VASP, etc.).\n",
      "\n",
      "_OrbitalProjectionContainer:\n",
      "    Container for orbital-resolved projection matrices.\n",
      "\n",
      "class _Qe_xml:\n",
      "    Minimal reader for Quantum ESPRESSO XML output files.\n",
      "\n",
      "_find_dyn_file(q_cryst, results_ph_path)\n",
      "    Internal helper that searches `.dyn*` files matching the specified q-point.\n",
      "\n",
      "Examples\n",
      "--------\n",
      ">>> from yaiv grep import grep\n",
      ">>> spectrum = grep.kpointsEnergies(\"OUTCAR\")\n",
      ">>> spectrum.eigenvalues.shape\n",
      "(100, 32)\n",
      "\n",
      ">>> from yaiv grep import grep\n",
      ">>> a = grep.lattice(\"qe.out\")\n",
      ">>> a.shape\n",
      "(3, 3)\n",
      "\n",
      "See Also\n",
      "--------\n",
      "yaiv.spectrum : Data container and plotter for eigenvalue spectra\n",
      "yaiv.utils    : Basis universal utilities\n",
      "\n"
     ]
    }
   ],
   "source": [
    "from yaiv import grep\n",
    "print(grep.__doc__)"
   ]
  },
  {
   "cell_type": "markdown",
   "id": "4f735a13-f2a2-4330-9ae5-623f8f829652",
   "metadata": {
    "tags": []
   },
   "source": [
    "---\n",
    ">*The **documentation** of every function is accesible with the usual **shift + tab** shortcut.*\n",
    "---"
   ]
  },
  {
   "cell_type": "markdown",
   "id": "3bdf09e3-c9c8-4978-a121-fb4effed95b4",
   "metadata": {},
   "source": [
    "# Examples"
   ]
  },
  {
   "cell_type": "code",
   "execution_count": 102,
   "id": "287e0ae9",
   "metadata": {},
   "outputs": [],
   "source": [
    "from yaiv import grep"
   ]
  },
  {
   "cell_type": "markdown",
   "id": "5ecfe704-68f0-4039-a08b-ece13a9e2424",
   "metadata": {},
   "source": [
    "### Electrons"
   ]
  },
  {
   "cell_type": "code",
   "execution_count": 51,
   "id": "1be5e2fc-c1b3-4e18-9387-3dc8e66e2e67",
   "metadata": {},
   "outputs": [
    {
     "name": "stdout",
     "output_type": "stream",
     "text": [
      "Quantum espreesso used 8 electrons.\n",
      "VASP used 8 electrons.\n"
     ]
    }
   ],
   "source": [
    "nElectrons=grep.electron_num('data/qe/results_scf/Si.scf.pwo')\n",
    "print(f'Quantum espreesso used {nElectrons} electrons.')\n",
    "nElectrons=grep.electron_num('data/vasp/RESULTS/OUTCAR_BS')\n",
    "print(f'VASP used {nElectrons} electrons.')"
   ]
  },
  {
   "cell_type": "markdown",
   "id": "c7a0326e",
   "metadata": {},
   "source": [
    "### Lattice"
   ]
  },
  {
   "cell_type": "code",
   "execution_count": 52,
   "id": "1d2dfbaa",
   "metadata": {},
   "outputs": [
    {
     "name": "stdout",
     "output_type": "stream",
     "text": [
      "Basis used by Quantum espresso\n",
      "[[0.0 2.7343648234158016 2.7343648234158016] [2.7343648234158016 0.0 2.7343648234158016] [2.7343648234158016 2.7343648234158016 0.0]] angstrom\n",
      "Basis used by VASP\n",
      "[[0.0 2.734363998 2.734363998] [2.734363998 0.0 2.734363998] [2.734363998 2.734363998 0.0]] angstrom\n"
     ]
    }
   ],
   "source": [
    "print('Basis used by Quantum espresso')\n",
    "print(grep.lattice('data/qe/results_scf/Si.scf.pwo'))\n",
    "print('Basis used by VASP')\n",
    "print(grep.lattice('data/vasp/RESULTS/OUTCAR'))"
   ]
  },
  {
   "cell_type": "markdown",
   "id": "30d77d4c-3301-4109-a7d6-79f2731aae2e",
   "metadata": {},
   "source": [
    "### Fermi level"
   ]
  },
  {
   "cell_type": "code",
   "execution_count": 53,
   "id": "3689a1d2-e4c0-453f-a46f-e804495ff12b",
   "metadata": {},
   "outputs": [
    {
     "name": "stdout",
     "output_type": "stream",
     "text": [
      "Quantum espreesso's fermi level is 6.3627 electron_volt\n",
      "VASP's fermi level is 6.1723 electron_volt\n"
     ]
    }
   ],
   "source": [
    "fermi=grep.fermi('data/qe/results_scf/Si.scf.pwo')\n",
    "print(f'Quantum espreesso\\'s fermi level is {fermi}')\n",
    "fermi=grep.fermi('data/vasp/RESULTS/OUTCAR_SCC')\n",
    "print(f'VASP\\'s fermi level is {fermi}')"
   ]
  },
  {
   "cell_type": "markdown",
   "id": "fab5e576-7744-4f24-b71e-4a016519613f",
   "metadata": {},
   "source": [
    "### Total energy (and energy decomposition)"
   ]
  },
  {
   "cell_type": "code",
   "execution_count": 54,
   "id": "afb554a9-0c20-46cd-8e7d-3cd937e0a4ed",
   "metadata": {},
   "outputs": [
    {
     "name": "stdout",
     "output_type": "stream",
     "text": [
      "Total energy in QE: {energy}\n",
      "Total energy in VASP: {energy}\n"
     ]
    }
   ],
   "source": [
    "energy=grep.total_energy('data/qe/results_scf/Si.scf.pwo')\n",
    "print('Total energy in QE: {energy}')\n",
    "energy=grep.total_energy('data/vasp/RESULTS/OUTCAR')\n",
    "print('Total energy in VASP: {energy}')"
   ]
  },
  {
   "cell_type": "code",
   "execution_count": 55,
   "id": "afe8b4c1-56ef-4218-aa5b-e797d8f7b288",
   "metadata": {},
   "outputs": [
    {
     "name": "stdout",
     "output_type": "stream",
     "text": [
      "Free energy= -93.77214097 rydberg\n",
      "Internal energy= -93.76999657 rydberg\n",
      "Entropy contribution= -0.0021444 rydberg\n",
      "Single electron energy= 5.73621994 rydberg\n",
      "Hartree energy= 1.13562264 rydberg\n",
      "Exchange-correlation energy= -12.81773185 rydberg\n",
      "Ewald energy= -16.67997833 rydberg\n"
     ]
    }
   ],
   "source": [
    "energy=grep.total_energy('data/qe/results_scf/Si.scf.pwo',decomposition=True)\n",
    "print(f'Free energy= {energy.F}')\n",
    "print(f'Internal energy= {energy.U}')\n",
    "print(f'Entropy contribution= {energy.TS}')\n",
    "print(f'Single electron energy= {energy.U_one_electron}')\n",
    "print(f'Hartree energy= {energy.U_hartree}')\n",
    "print(f'Exchange-correlation energy= {energy.U_xc}')\n",
    "print(f'Ewald energy= {energy.U_ewald}')"
   ]
  },
  {
   "cell_type": "markdown",
   "id": "d1819f4e-5d16-4fde-8f3c-e06ee68d0477",
   "metadata": {},
   "source": [
    "### Stress tensor"
   ]
  },
  {
   "cell_type": "code",
   "execution_count": 56,
   "id": "53cdf3ac-f2f7-4166-8ca3-328f731c4262",
   "metadata": {},
   "outputs": [
    {
     "name": "stdout",
     "output_type": "stream",
     "text": [
      "Stress tensor in QE\n",
      "[[376.7405191442384 0.0 0.0] [0.0 376.7405191442384 0.0] [0.0 0.0 376.7405191442384]] kilobar\n",
      "\n",
      "Stress tensor in VASP\n",
      "[[34.82684 0.0 0.0] [0.0 34.82684 0.0] [0.0 0.0 34.82684]] kilobar\n"
     ]
    },
    {
     "name": "stderr",
     "output_type": "stream",
     "text": [
      "/u/51/gutierm2/unix/Software/YAIV/build/__editable__.yaiv-1.0.8-py3-none-any/yaiv/grep.py:772: UserWarning: According to VASP this is kB units, but when comparing to QE it appears to be GPa.\n",
      "  warnings.warn(\n"
     ]
    }
   ],
   "source": [
    "print('Stress tensor in QE')\n",
    "print(grep.stress_tensor('data/qe/results_scf/Si.scf.pwo'))\n",
    "print()\n",
    "print('Stress tensor in VASP')\n",
    "print(grep.stress_tensor('data/vasp/RESULTS/OUTCAR'))"
   ]
  },
  {
   "cell_type": "markdown",
   "id": "e0abbe9a",
   "metadata": {},
   "source": [
    "### K-paths"
   ]
  },
  {
   "cell_type": "code",
   "execution_count": 57,
   "id": "bbc572b3",
   "metadata": {},
   "outputs": [
    {
     "name": "stdout",
     "output_type": "stream",
     "text": [
      "QE path: ['X', 'W', 'L', 'Gamma', 'X', 'X_1', 'K', 'U', 'Gamma']\n",
      "[[0.5 0.0 0.5 20.0] [0.5 0.25 0.75 20.0] [0.5 0.5 0.5 20.0] [0.0 0.0 0.0 20.0] [0.5 0.0 0.5 1.0] [0.5 0.5 1.0 20.0] [0.375 0.375 0.75 20.0] [0.125 0.125 0.25 20.0] [0.0 0.0 0.0 1.0]] _2pi / crystal\n",
      "\n",
      "VASP: ['X', 'W', 'L', 'Gamma', 'X', 'X_1', 'K', 'U', 'Gamma']\n",
      "[[0.5 0.0 0.5 20.0] [0.5 0.25 0.75 20.0] [0.5 0.5 0.5 20.0] [0.0 0.0 0.0 20.0] [0.5 0.0 0.5 1.0] [0.5 0.5 1.0 20.0] [0.375 0.375 0.75 20.0] [0.125 0.125 0.25 20.0] [0.0 0.0 0.0 1.0]] _2pi / crystal\n",
      "\n"
     ]
    }
   ],
   "source": [
    "kpath=grep.kpath('data/qe/results_bands/Si.bands.pwi')\n",
    "print('QE path:', kpath.labels)\n",
    "print(kpath.path)\n",
    "print()\n",
    "kpath=grep.kpath('data/vasp/RESULTS/KPATH')\n",
    "print('VASP:', kpath.labels)\n",
    "print(kpath.path)\n",
    "print()"
   ]
  },
  {
   "cell_type": "markdown",
   "id": "26638a55",
   "metadata": {},
   "source": [
    "### Electronic Spectrum"
   ]
  },
  {
   "cell_type": "code",
   "execution_count": 58,
   "id": "48519c9f",
   "metadata": {},
   "outputs": [
    {
     "name": "stdout",
     "output_type": "stream",
     "text": [
      "Quantum Espresso example:\n",
      "Energies, (electron_volt):\n",
      "[[-1.5082 -1.5082 -1.5082 -1.5082]\n",
      " [-1.5071 -1.5071 -1.5071 -1.5071]\n",
      " [-1.5038 -1.5038 -1.5038 -1.5038]]...\n",
      "Kpoints, (_2pi / crystal):\n",
      "[[0.50000001 0.         0.50000001]\n",
      " [0.50000001 0.01250002 0.51250003]\n",
      " [0.50000001 0.02499997 0.52499999]\n",
      " [0.50000001 0.03749999 0.53750001]\n",
      " [0.50000001 0.05000002 0.55000003]]...\n",
      "Weights:\n",
      "[0.0070423 0.0070423 0.0070423 0.0070423 0.0070423]...\n"
     ]
    }
   ],
   "source": [
    "print('Quantum Espresso example:')\n",
    "E=grep.kpointsEnergies('data/qe/results_bands/Si.bands.pwo')\n",
    "print(f\"Energies, ({E.energies.units}):\")\n",
    "print(f\"{E.energies[:3,:4].magnitude}...\")\n",
    "print(f\"Kpoints, ({E.kpoints.units}):\")\n",
    "print(f\"{E.kpoints[:5].magnitude}...\")\n",
    "print('Weights:')\n",
    "print(f\"{E.weights[:5]}...\")"
   ]
  },
  {
   "cell_type": "code",
   "execution_count": 59,
   "id": "fea544bd",
   "metadata": {},
   "outputs": [
    {
     "name": "stdout",
     "output_type": "stream",
     "text": [
      "VASP EIGENVAL example:\n",
      "Energies, (electron_volt):\n",
      "[[-1.86626  -1.866259  3.089611  3.089627]\n",
      " [-1.865252 -1.865251  3.08052   3.080536]\n",
      " [-1.862249 -1.862248  3.053846  3.053862]]...\n",
      "Kpoints, (_2pi / crystal):\n",
      "[[0.5        0.         0.5       ]\n",
      " [0.5        0.01315789 0.5131579 ]\n",
      " [0.5        0.02631579 0.5263158 ]\n",
      " [0.5        0.03947368 0.5394737 ]\n",
      " [0.5        0.05263158 0.5526316 ]]...\n",
      "Weights:\n",
      "[0.00714286 0.00714286 0.00714286 0.00714286 0.00714286]...\n"
     ]
    }
   ],
   "source": [
    "print('VASP EIGENVAL example:')\n",
    "E=grep.kpointsEnergies('data/vasp/RESULTS/EIGENVAL')\n",
    "print(f\"Energies, ({E.energies.units}):\")\n",
    "print(f\"{E.energies[:3,:4].magnitude}...\")\n",
    "print(f\"Kpoints, ({E.kpoints.units}):\")\n",
    "print(f\"{E.kpoints[:5].magnitude}...\")\n",
    "print('Weights:')\n",
    "print(f\"{E.weights[:5]}...\")"
   ]
  },
  {
   "cell_type": "code",
   "execution_count": 60,
   "id": "c8e946a0",
   "metadata": {},
   "outputs": [
    {
     "name": "stdout",
     "output_type": "stream",
     "text": [
      "VASP OUTCAR example:\n",
      "Energies, (electron_volt):\n",
      "[[-1.8663 -1.8663  3.0896  3.0896]\n",
      " [-1.8653 -1.8653  3.0805  3.0805]\n",
      " [-1.8622 -1.8622  3.0538  3.0539]]...\n",
      "Kpoints, (_2pi / crystal):\n",
      "[[0.5      0.       0.5     ]\n",
      " [0.5      0.013158 0.513158]\n",
      " [0.5      0.026316 0.526316]\n",
      " [0.5      0.039474 0.539474]\n",
      " [0.5      0.052632 0.552632]]...\n",
      "Weights:\n",
      "[0.007143 0.007143 0.007143 0.007143 0.007143]...\n"
     ]
    }
   ],
   "source": [
    "print('VASP OUTCAR example:')\n",
    "E=grep.kpointsEnergies('data/vasp/RESULTS/OUTCAR')\n",
    "print(f\"Energies, ({E.energies.units}):\")\n",
    "print(f\"{E.energies[:3,:4].magnitude}...\")\n",
    "print(f\"Kpoints, ({E.kpoints.units}):\")\n",
    "print(f\"{E.kpoints[:5].magnitude}...\")\n",
    "print('Weights:')\n",
    "print(f\"{E.weights[:5]}...\")"
   ]
  },
  {
   "cell_type": "markdown",
   "id": "b48efd07",
   "metadata": {},
   "source": [
    "### Phononic spectrum"
   ]
  },
  {
   "cell_type": "code",
   "execution_count": 61,
   "id": "30cae82e",
   "metadata": {},
   "outputs": [
    {
     "name": "stdout",
     "output_type": "stream",
     "text": [
      "Quantum Espresso example:\n",
      "Frequencies (speed_of_light / centimeter):\n",
      "[[689.1662 689.1662 897.3373 897.3373]\n",
      " [689.4236 689.4236 897.1973 897.1973]\n",
      " [690.1902 690.1902 896.7837 896.7837]]...\n",
      "Kpoints (_2pi / alat):\n",
      "[[0.       0.707107 0.      ]\n",
      " [0.017678 0.707107 0.      ]\n",
      " [0.035355 0.707107 0.      ]\n",
      " [0.053033 0.707107 0.      ]\n",
      " [0.070711 0.707107 0.      ]]...\n"
     ]
    }
   ],
   "source": [
    "print('Quantum Espresso example:')\n",
    "F=grep.kpointsFrequencies('data/qe/results_matdyn/Si.freq')\n",
    "print(f\"Frequencies ({F.frequencies.units}):\")\n",
    "print(f\"{F.frequencies[:3,:4].magnitude}...\")\n",
    "print(f\"Kpoints ({F.kpoints.units}):\")\n",
    "print(f\"{F.kpoints[:5].magnitude}...\")"
   ]
  },
  {
   "cell_type": "markdown",
   "id": "4fcc6159",
   "metadata": {},
   "source": [
    "### Projections"
   ]
  },
  {
   "cell_type": "code",
   "execution_count": 62,
   "id": "90a2943d",
   "metadata": {},
   "outputs": [
    {
     "name": "stdout",
     "output_type": "stream",
     "text": [
      "VASP PROCAR example:\n",
      "Projections:\n",
      "_OrbitalProjectionContainer(ions=2, l=[0, 1, 2], m=[-l,l], M=0)\n",
      "\n",
      "Projections over ion=0 with l=1. Same shape as energies ((140, 8))\n",
      "[[0.047 0.047 0.204 ... 0.038 0.256 0.256]\n",
      " [0.047 0.047 0.202 ... 0.038 0.254 0.254]\n",
      " [0.046 0.046 0.201 ... 0.041 0.246 0.247]\n",
      " ...\n",
      " [0.    0.22  0.224 ... 0.16  0.158 0.005]\n",
      " [0.    0.225 0.224 ... 0.16  0.159 0.002]\n",
      " [0.    0.225 0.225 ... 0.16  0.16  0.   ]]\n"
     ]
    }
   ],
   "source": [
    "print('VASP PROCAR example:')\n",
    "E=grep.kpointsEnergies('data/vasp/RESULTS/PROCAR')\n",
    "print('Projections:')\n",
    "print(E.projections)\n",
    "print()\n",
    "print(f'Projections over ion=0 with l=1. Same shape as energies ({E.projections(0,1).shape})')\n",
    "print(E.projections(ion=0,l=1))"
   ]
  },
  {
   "cell_type": "markdown",
   "id": "d506be52",
   "metadata": {},
   "source": [
    "### Dynamical matrix"
   ]
  },
  {
   "cell_type": "markdown",
   "id": "729dc609",
   "metadata": {},
   "source": [
    "#### Basic greping"
   ]
  },
  {
   "cell_type": "code",
   "execution_count": 77,
   "id": "96895a02",
   "metadata": {},
   "outputs": [
    {
     "name": "stdout",
     "output_type": "stream",
     "text": [
      "Basic reading of a dynamical matrix file\n",
      "---------\n",
      "q-point: [0.0 0.0 0.0] _2pi / angstrom\n",
      "Atomic elements: ['Si', 'Si']\n",
      "Atomic masses: [25598.36728982817 25598.36728982817] _2m_e\n",
      "Atomic positions: [[0.0 0.0 0.0] [1.3671819952501831 1.3671819952501831 1.3671819952501831]] angstrom\n",
      "Crystal lattice: [[0.0 2.734363989726971 2.734363989726971] [2.734363989726971 0.0 2.734363989726971] [2.734363989726971 2.734363989726971 0.0]] angstrom\n",
      "Phonon frequencies: [334.540452 334.540452 334.540452 975.219733 975.219733 975.219733] speed_of_light / centimeter\n",
      "Phonon displacements with shape (modes,nions,3) -> (6, 2, 3)\n",
      "[[[-0.354736+0.j  0.525236+0.j  0.313512+0.j]\n",
      "  [-0.354736+0.j  0.525236+0.j  0.313512+0.j]]\n",
      "\n",
      " [[-0.411101+0.j  0.06365 +0.j -0.571791+0.j]\n",
      "  [-0.411101+0.j  0.06365 +0.j -0.571791+0.j]]\n",
      "\n",
      " [[ 0.452945+0.j  0.469122-0.j -0.273432+0.j]\n",
      "  [ 0.452945+0.j  0.469122-0.j -0.273432+0.j]]\n",
      "\n",
      " [[-0.340761+0.j -0.57196 +0.j -0.23821 +0.j]\n",
      "  [ 0.340761-0.j  0.57196 -0.j  0.23821 -0.j]]\n",
      "\n",
      " [[ 0.607468+0.j -0.361916+0.j -0.      +0.j]\n",
      "  [-0.607468+0.j  0.361916+0.j  0.      +0.j]]\n",
      "\n",
      " [[-0.121922+0.j -0.204644+0.j  0.665775+0.j]\n",
      "  [ 0.121922+0.j  0.204644+0.j -0.665775+0.j]]]\n"
     ]
    }
   ],
   "source": [
    "print(\"Basic reading of a dynamical matrix file\")\n",
    "print(\"---------\")\n",
    "dyn=grep.dyn_file('data/qe/results_ph/Si.dyn1')\n",
    "print(f\"q-point: {dyn.q}\")\n",
    "print(f\"Atomic elements: {dyn.elements}\")\n",
    "print(f\"Atomic masses: {dyn.masses}\")\n",
    "print(f\"Atomic positions: {dyn.positions}\")\n",
    "print(f\"Crystal lattice: {dyn.lattice}\")\n",
    "print(f\"Phonon frequencies: {dyn.freqs}\")\n",
    "print(f\"Phonon displacements with shape (modes,nions,3) -> {dyn.displacements.shape}\")\n",
    "print(f\"{dyn.displacements}\")"
   ]
  },
  {
   "cell_type": "markdown",
   "id": "4b26ee2e",
   "metadata": {},
   "source": [
    "#### Full dynamical matrix greping"
   ]
  },
  {
   "cell_type": "code",
   "execution_count": 95,
   "id": "c254a0a7",
   "metadata": {},
   "outputs": [
    {
     "name": "stdout",
     "output_type": "stream",
     "text": [
      "\n",
      "    Reads the Quantum ESPRESSO `.dyn*` file corresponding to a given q-point.\n",
      "\n",
      "    This function locates the `.dyn*` file generated by `ph.x` that corresponds to a\n",
      "    desired q-point (in reduced crystalline coordinates), extracts the corresponding dynamical\n",
      "    matrix, and optionally converts it to the real physical dynamical matrix in units\n",
      "    of 1 / [time]².\n",
      "\n",
      "    Parameters\n",
      "    ----------\n",
      "    q_cryst : np.ndarray | ureg.Quantity\n",
      "        The q-point of interest, expressed in reduced crystalline coordinates (fractions of reciprocal lattice vectors).\n",
      "        If not a `Quantity`, it is assumed to be in `_2pi/crystal` units.\n",
      "\n",
      "    results_ph_path : str\n",
      "        Path to the directory containing the Quantum ESPRESSO `ph.x` output `.dyn*` files.\n",
      "\n",
      "    qe_format : bool, optional\n",
      "        If True (default), returns the raw QE dynamical matrix (includes sqrt(m_i m_j) mass factors).\n",
      "        If False, converts the dynamical matrix to true physical form in 1 / [time]² units (Ry/h)^2.\n",
      "\n",
      "    Returns\n",
      "    -------\n",
      "    system : SimpleNamespace\n",
      "        A container with the following fields:\n",
      "        - q : ureg.Quantity, shape (3,)\n",
      "            The q-point in where the calculation was performed.\n",
      "        - lattice : ureg.Quantity, shape (3, 3)\n",
      "            The lattice vectors of the unit cell.\n",
      "        - freqs : ureg.Quantity, shape (n_modes,)\n",
      "            Array of vibrational frequencies (in cm⁻¹).\n",
      "        - positions : ureg.Quantity, shape (n_atoms, 3)\n",
      "            Atomic positions.\n",
      "        - elements : list of str\n",
      "            Chemical symbol for each atom.\n",
      "        - masses : ureg.Quantity, shape (n_atoms,)\n",
      "            Atomic mass in atomic units for each atom.\n",
      "        - dyn: ureg.Quantity\n",
      "            The (3N × 3N) complex dynamical matrix (units depend on `qe_format`).\n",
      "\n",
      "    Notes\n",
      "    -----\n",
      "    - The dynamical matrix read from QE includes a sqrt(m_i m_j) prefactor for each (3×3) subblock.\n",
      "      This must be removed to obtain the physical matrix for diagonalization (ω² in Ry²/ħ²).\n",
      "    - The units of the returned matrix are `_2m_e * Ry^2 / planck_constant^2` in QE format.\n",
      "    \n"
     ]
    }
   ],
   "source": [
    "print(grep.dyn_q.__doc__)"
   ]
  },
  {
   "cell_type": "code",
   "execution_count": 96,
   "id": "c2b4d630",
   "metadata": {},
   "outputs": [
    {
     "name": "stdout",
     "output_type": "stream",
     "text": [
      "Detailed reading of a dynamical matrix file\n",
      "---------\n",
      "q-point: [0.5 0.0 0.0] _2pi / crystal\n",
      "Atomic elements: ['Si', 'Si']\n",
      "Atomic masses: [25598.36728982817 25598.36728982817] _2m_e\n",
      "Atomic positions: [[0.0 0.0 0.0] [1.3671819952501831 1.3671819952501831 1.3671819952501831]] angstrom\n",
      "Crystal lattice: [[0.0 2.734363989726971 2.734363989726971] [2.734363989726971 0.0 2.734363989726971] [2.734363989726971 2.734363989726971 0.0]] angstrom\n",
      "Full dynamical matrix (3*nions,3*nions) and (_2m_e * rydberg ** 2 / planck_constant ** 2) units\n",
      "[[ 1.58038486+0.j -0.14995245+0.j -0.14995245+0.j -0.49614779+0.j\n",
      "  -0.1800625 +0.j -0.1800625 +0.j]\n",
      " [-0.14995245+0.j  1.58038486+0.j  0.14995245+0.j -0.1800625 +0.j\n",
      "  -0.49614779+0.j  0.1800625 +0.j]\n",
      " [-0.14995245+0.j  0.14995245+0.j  1.58038486+0.j -0.1800625 +0.j\n",
      "   0.1800625 +0.j -0.49614779+0.j]\n",
      " [-0.49614779+0.j -0.1800625 +0.j -0.1800625 +0.j  1.58038486+0.j\n",
      "  -0.14995245+0.j -0.14995245+0.j]\n",
      " [-0.1800625 +0.j -0.49614779+0.j  0.1800625 +0.j -0.14995245+0.j\n",
      "   1.58038486+0.j  0.14995245+0.j]\n",
      " [-0.1800625 +0.j  0.1800625 +0.j -0.49614779+0.j -0.14995245+0.j\n",
      "   0.14995245+0.j  1.58038486+0.j]]\n"
     ]
    }
   ],
   "source": [
    "print(\"Detailed reading of a dynamical matrix file\")\n",
    "print(\"---------\")\n",
    "dyn=grep.dyn_q(q_cryst=[0.5,0,0],results_ph_path='data/qe/results_ph/')\n",
    "print(f\"q-point: {dyn.q}\")\n",
    "print(f\"Atomic elements: {dyn.elements}\")\n",
    "print(f\"Atomic masses: {dyn.masses}\")\n",
    "print(f\"Atomic positions: {dyn.positions}\")\n",
    "print(f\"Crystal lattice: {dyn.lattice}\")\n",
    "print(f\"Full dynamical matrix (3*nions,3*nions) and ({dyn.dyn.units}) units\")\n",
    "print(f\"{dyn.dyn.magnitude}\")"
   ]
  }
 ],
 "metadata": {
  "kernelspec": {
   "display_name": "yaiv-dev",
   "language": "python",
   "name": "python3"
  },
  "language_info": {
   "codemirror_mode": {
    "name": "ipython",
    "version": 3
   },
   "file_extension": ".py",
   "mimetype": "text/x-python",
   "name": "python",
   "nbconvert_exporter": "python",
   "pygments_lexer": "ipython3",
   "version": "3.10.16"
  }
 },
 "nbformat": 4,
 "nbformat_minor": 5
}
