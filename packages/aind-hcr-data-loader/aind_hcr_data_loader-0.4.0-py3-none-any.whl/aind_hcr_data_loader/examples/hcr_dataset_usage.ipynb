{
 "cells": [
  {
   "cell_type": "code",
   "execution_count": 2,
   "id": "256b253a",
   "metadata": {},
   "outputs": [],
   "source": [
    "from aind_hcr_data_loader.hcr_dataset import create_hcr_dataset_from_config, HCRDataset\n",
    "import pandas as pd\n",
    "from pathlib import Path\n",
    "import matplotlib.pyplot as plt\n",
    "\n",
    "# notebook reload\n",
    "%load_ext autoreload\n",
    "%autoreload 2"
   ]
  },
  {
   "cell_type": "markdown",
   "id": "0efcceff",
   "metadata": {},
   "source": [
    "# Create HCRDataset\n",
    "+ Have all datasets of interest attached to `\"..\\data\"`\n",
    "+ Specify path to config_file"
   ]
  },
  {
   "cell_type": "code",
   "execution_count": 3,
   "id": "04539bf3",
   "metadata": {},
   "outputs": [
    {
     "name": "stdout",
     "output_type": "stream",
     "text": [
      "Could not load metadata for mouse 747667\n"
     ]
    }
   ],
   "source": [
    "data_dir = Path(\"/root/capsule/data\")\n",
    "config_path = \"/src/aind-hcr-data-loader/src/aind_hcr_data_loader/examples/mouse_config_example.json\"\n",
    "\n",
    "mouse_id = \"747667\" # must be in config file\n",
    "dataset = create_hcr_dataset_from_config(mouse_id,\n",
    "                                         data_dir=data_dir,\n",
    "                                         config_path=config_path)"
   ]
  },
  {
   "cell_type": "code",
   "execution_count": 4,
   "id": "41a4f7b3",
   "metadata": {},
   "outputs": [
    {
     "name": "stdout",
     "output_type": "stream",
     "text": [
      "HCRDataset(mouse_id='747667', rounds=['R1', 'R2', 'R3', 'R4', 'R5'], total_channels=29)\n"
     ]
    }
   ],
   "source": [
    "print(dataset)"
   ]
  },
  {
   "cell_type": "code",
   "execution_count": 5,
   "id": "94cfbf6b",
   "metadata": {},
   "outputs": [
    {
     "name": "stdout",
     "output_type": "stream",
     "text": [
      "HCR Dataset Summary\n",
      "==================\n",
      "Mouse ID: 747667\n",
      "Rounds: R1, R2, R3, R4, R5\n",
      "\n",
      "Channels by round:\n",
      "  R1: 405, 488, 561, 514, 594\n",
      "  R2: 561, 594, 405, 514, 638, 488\n",
      "  R3: 405, 594, 638, 561, 488, 514\n",
      "  R4: 405, 594, 561, 638, 488, 514\n",
      "  R5: 488, 405, 514, 638, 594, 561\n",
      "\n",
      "Segmentation files by round:\n",
      "  R1: resolutions 0, 2, centroids: ✓\n",
      "  R2: resolutions 0, 2, centroids: ✗\n",
      "  R3: resolutions 0, 2, centroids: ✗\n",
      "  R4: resolutions 0, 2, centroids: ✗\n",
      "  R5: resolutions 0, 2, centroids: ✗\n",
      "\n",
      "Spot detection files by round:\n",
      "  R1: channels 514, 561, 488\n",
      "    514: spots ✓, stats files: 3\n",
      "    561: spots ✓, stats files: 3\n",
      "    488: spots ✓, stats files: 3\n",
      "  R2: channels 488, 514, 561, 594, 638\n",
      "    488: spots ✓, stats files: 5\n",
      "    514: spots ✓, stats files: 5\n",
      "    561: spots ✓, stats files: 5\n",
      "    594: spots ✓, stats files: 5\n",
      "    638: spots ✓, stats files: 5\n",
      "  R3: channels 514, 594, 638, 561, 488\n",
      "    514: spots ✓, stats files: 5\n",
      "    594: spots ✓, stats files: 5\n",
      "    514: spots ✓, stats files: 5\n",
      "    561: spots ✓, stats files: 5\n",
      "    594: spots ✓, stats files: 5\n",
      "    638: spots ✓, stats files: 5\n",
      "  R3: channels 514, 594, 638, 561, 488\n",
      "    514: spots ✓, stats files: 5\n",
      "    594: spots ✓, stats files: 5\n",
      "    638: spots ✓, stats files: 5\n",
      "    561: spots ✓, stats files: 5\n",
      "    488: spots ✓, stats files: 5\n",
      "  R4: channels 594, 561, 638, 488, 514\n",
      "    594: spots ✓, stats files: 5\n",
      "    561: spots ✓, stats files: 5\n",
      "    638: spots ✓, stats files: 5\n",
      "    488: spots ✓, stats files: 5\n",
      "    514: spots ✓, stats files: 5\n",
      "  R5: channels 638, 561, 488, 514, 594\n",
      "    638: spots ✓, stats files: 5\n",
      "    561: spots ✓, stats files: 5\n",
      "    488: spots ✓, stats files: 5\n",
      "    514: spots ✓, stats files: 5\n",
      "    594: spots ✓, stats files: 5\n",
      "\n",
      "File Status:\n",
      "  R1:\n",
      "    Spot files: 2 of 2 exist\n",
      "    Zarr files: 5 of 5 exist\n",
      "    Segmentation: 2 of 2 masks exist\n",
      "    Spot detection: 3 of 3 channels exist\n",
      "  R2:\n",
      "    Spot files: 2 of 2 exist\n",
      "    Zarr files: 6 of 6 exist\n",
      "    Segmentation: 2 of 2 masks exist\n",
      "    Spot detection: 5 of 5 channels exist\n",
      "  R3:\n",
      "    Spot files: 2 of 2 exist\n",
      "    Zarr files: 6 of 6 exist\n",
      "    Segmentation: 2 of 2 masks exist\n",
      "    Spot detection: 5 of 5 channels exist\n",
      "  R4:\n",
      "    Spot files: 2 of 2 exist\n",
      "    Zarr files: 6 of 6 exist\n",
      "    Segmentation: 2 of 2 masks exist\n",
      "    Spot detection: 5 of 5 channels exist\n",
      "  R5:\n",
      "    Spot files: 2 of 2 exist\n",
      "    Zarr files: 6 of 6 exist\n",
      "    Segmentation: 2 of 2 masks exist\n",
      "    Spot detection: 5 of 5 channels exist\n",
      "    638: spots ✓, stats files: 5\n",
      "    561: spots ✓, stats files: 5\n",
      "    488: spots ✓, stats files: 5\n",
      "  R4: channels 594, 561, 638, 488, 514\n",
      "    594: spots ✓, stats files: 5\n",
      "    561: spots ✓, stats files: 5\n",
      "    638: spots ✓, stats files: 5\n",
      "    488: spots ✓, stats files: 5\n",
      "    514: spots ✓, stats files: 5\n",
      "  R5: channels 638, 561, 488, 514, 594\n",
      "    638: spots ✓, stats files: 5\n",
      "    561: spots ✓, stats files: 5\n",
      "    488: spots ✓, stats files: 5\n",
      "    514: spots ✓, stats files: 5\n",
      "    594: spots ✓, stats files: 5\n",
      "\n",
      "File Status:\n",
      "  R1:\n",
      "    Spot files: 2 of 2 exist\n",
      "    Zarr files: 5 of 5 exist\n",
      "    Segmentation: 2 of 2 masks exist\n",
      "    Spot detection: 3 of 3 channels exist\n",
      "  R2:\n",
      "    Spot files: 2 of 2 exist\n",
      "    Zarr files: 6 of 6 exist\n",
      "    Segmentation: 2 of 2 masks exist\n",
      "    Spot detection: 5 of 5 channels exist\n",
      "  R3:\n",
      "    Spot files: 2 of 2 exist\n",
      "    Zarr files: 6 of 6 exist\n",
      "    Segmentation: 2 of 2 masks exist\n",
      "    Spot detection: 5 of 5 channels exist\n",
      "  R4:\n",
      "    Spot files: 2 of 2 exist\n",
      "    Zarr files: 6 of 6 exist\n",
      "    Segmentation: 2 of 2 masks exist\n",
      "    Spot detection: 5 of 5 channels exist\n",
      "  R5:\n",
      "    Spot files: 2 of 2 exist\n",
      "    Zarr files: 6 of 6 exist\n",
      "    Segmentation: 2 of 2 masks exist\n",
      "    Spot detection: 5 of 5 channels exist\n"
     ]
    }
   ],
   "source": [
    "dataset.summary()"
   ]
  },
  {
   "cell_type": "code",
   "execution_count": 14,
   "id": "8c978649",
   "metadata": {},
   "outputs": [
    {
     "data": {
      "text/plain": [
       "{'R1': HCRRound(round_key='R1', channels=['514', '561', '405', '488', '594'], segmentation_resolutions=['0', '2']),\n",
       " 'R2': HCRRound(round_key='R2', channels=['638', '561', '405', '514', '594', '488'], segmentation_resolutions=['0', '2']),\n",
       " 'R3': HCRRound(round_key='R3', channels=['405', '488', '514', '594', '561', '638'], segmentation_resolutions=['0', '2']),\n",
       " 'R4': HCRRound(round_key='R4', channels=['514', '594', '405', '488', '638', '561'], segmentation_resolutions=['0', '2']),\n",
       " 'R5': HCRRound(round_key='R5', channels=['488', '594', '514', '405', '561', '638'], segmentation_resolutions=['0', '2'])}"
      ]
     },
     "execution_count": 14,
     "metadata": {},
     "output_type": "execute_result"
    }
   ],
   "source": [
    "# where all rounds stored\n",
    "dataset.rounds"
   ]
  },
  {
   "cell_type": "code",
   "execution_count": 5,
   "id": "a07fe1f1",
   "metadata": {},
   "outputs": [
    {
     "name": "stdout",
     "output_type": "stream",
     "text": [
      "HCRRound attributes and methods (13 items):\n"
     ]
    },
    {
     "data": {
      "text/plain": [
       "['get_cell_info',\n",
       " 'get_channels',\n",
       " 'get_segmentation_resolutions',\n",
       " 'has_channel',\n",
       " 'load_cell_centroids',\n",
       " 'load_segmentation_mask',\n",
       " 'load_zarr_channel',\n",
       " 'processing_manifest',\n",
       " 'round_key',\n",
       " 'segmentation_files',\n",
       " 'spot_detection_files',\n",
       " 'spot_files',\n",
       " 'zarr_files']"
      ]
     },
     "execution_count": 5,
     "metadata": {},
     "output_type": "execute_result"
    }
   ],
   "source": [
    "# Check available attributes and methods (cleaned up - no dunder methods)\n",
    "round_dir = dir(dataset.rounds[\"R1\"])\n",
    "print(f\"HCRRound attributes and methods ({len(round_dir)} items):\")\n",
    "round_dir"
   ]
  },
  {
   "cell_type": "code",
   "execution_count": 6,
   "id": "178ea236",
   "metadata": {},
   "outputs": [
    {
     "name": "stdout",
     "output_type": "stream",
     "text": [
      "HCRDataset attributes and methods (15 items):\n"
     ]
    },
    {
     "data": {
      "text/plain": [
       "['create_cell_gene_matrix',\n",
       " 'create_channel_gene_table',\n",
       " 'dataset_names',\n",
       " 'get_cell_info',\n",
       " 'get_channels',\n",
       " 'get_rounds',\n",
       " 'get_segmentation_resolutions',\n",
       " 'has_round',\n",
       " 'load_cell_centroids',\n",
       " 'load_segmentation_mask',\n",
       " 'load_zarr_channel',\n",
       " 'metadata',\n",
       " 'mouse_id',\n",
       " 'rounds',\n",
       " 'summary']"
      ]
     },
     "execution_count": 6,
     "metadata": {},
     "output_type": "execute_result"
    }
   ],
   "source": [
    "# Check dataset attributes and methods\n",
    "dataset_dir = dir(dataset)\n",
    "print(f\"HCRDataset attributes and methods ({len(dataset_dir)} items):\")\n",
    "dataset_dir"
   ]
  },
  {
   "cell_type": "code",
   "execution_count": 4,
   "id": "273f3e71",
   "metadata": {},
   "outputs": [
    {
     "data": {
      "text/plain": [
       "{'segmentation_channels': {'background': '405', 'nuclear': '594'},\n",
       " 'spot_channels': ['488', '514', '561'],\n",
       " 'round': 1,\n",
       " 'stitching_channels': ['488', '514', '561'],\n",
       " 'gene_dict': {'405': {'gene': 'Rn28s',\n",
       "   'barcode': '',\n",
       "   'fluorophore': '',\n",
       "   'wavelength': 'dtype:',\n",
       "   'round': 1},\n",
       "  '488': {'gene': 'GFP',\n",
       "   'barcode': 'B1',\n",
       "   'fluorophore': '',\n",
       "   'wavelength': '488,',\n",
       "   'round': 1},\n",
       "  '514': {'gene': 'Slc17a7',\n",
       "   'barcode': 'B2',\n",
       "   'fluorophore': '',\n",
       "   'wavelength': '514,',\n",
       "   'round': 1},\n",
       "  '561': {'gene': 'Gad2',\n",
       "   'barcode': 'B3',\n",
       "   'fluorophore': '',\n",
       "   'wavelength': '561,',\n",
       "   'round': 1},\n",
       "  '594': {'gene': 'Syto59',\n",
       "   'barcode': '',\n",
       "   'fluorophore': '',\n",
       "   'wavelength': 'dtype:',\n",
       "   'round': 1}},\n",
       " 'tile_subset': ['Tile_X_0002_Y_0002_Z_0000_ch_405.zarr',\n",
       "  'Tile_X_0002_Y_0003_Z_0000_ch_405.zarr',\n",
       "  'Tile_X_0002_Y_0004_Z_0000_ch_405.zarr',\n",
       "  'Tile_X_0003_Y_0002_Z_0000_ch_405.zarr',\n",
       "  'Tile_X_0003_Y_0003_Z_0000_ch_405.zarr',\n",
       "  'Tile_X_0003_Y_0004_Z_0000_ch_405.zarr',\n",
       "  'Tile_X_0004_Y_0002_Z_0000_ch_405.zarr',\n",
       "  'Tile_X_0004_Y_0003_Z_0000_ch_405.zarr',\n",
       "  'Tile_X_0004_Y_0004_Z_0000_ch_405.zarr',\n",
       "  'Tile_X_0002_Y_0002_Z_0000_ch_488.zarr',\n",
       "  'Tile_X_0002_Y_0003_Z_0000_ch_488.zarr',\n",
       "  'Tile_X_0002_Y_0004_Z_0000_ch_488.zarr',\n",
       "  'Tile_X_0003_Y_0002_Z_0000_ch_488.zarr',\n",
       "  'Tile_X_0003_Y_0003_Z_0000_ch_488.zarr',\n",
       "  'Tile_X_0003_Y_0004_Z_0000_ch_488.zarr',\n",
       "  'Tile_X_0004_Y_0002_Z_0000_ch_488.zarr',\n",
       "  'Tile_X_0004_Y_0003_Z_0000_ch_488.zarr',\n",
       "  'Tile_X_0004_Y_0004_Z_0000_ch_488.zarr',\n",
       "  'Tile_X_0002_Y_0002_Z_0000_ch_514.zarr',\n",
       "  'Tile_X_0002_Y_0003_Z_0000_ch_514.zarr',\n",
       "  'Tile_X_0002_Y_0004_Z_0000_ch_514.zarr',\n",
       "  'Tile_X_0003_Y_0002_Z_0000_ch_514.zarr',\n",
       "  'Tile_X_0003_Y_0003_Z_0000_ch_514.zarr',\n",
       "  'Tile_X_0003_Y_0004_Z_0000_ch_514.zarr',\n",
       "  'Tile_X_0004_Y_0002_Z_0000_ch_514.zarr',\n",
       "  'Tile_X_0004_Y_0003_Z_0000_ch_514.zarr',\n",
       "  'Tile_X_0004_Y_0004_Z_0000_ch_514.zarr',\n",
       "  'Tile_X_0002_Y_0002_Z_0000_ch_561.zarr',\n",
       "  'Tile_X_0002_Y_0003_Z_0000_ch_561.zarr',\n",
       "  'Tile_X_0002_Y_0004_Z_0000_ch_561.zarr',\n",
       "  'Tile_X_0003_Y_0002_Z_0000_ch_561.zarr',\n",
       "  'Tile_X_0003_Y_0003_Z_0000_ch_561.zarr',\n",
       "  'Tile_X_0003_Y_0004_Z_0000_ch_561.zarr',\n",
       "  'Tile_X_0004_Y_0002_Z_0000_ch_561.zarr',\n",
       "  'Tile_X_0004_Y_0003_Z_0000_ch_561.zarr',\n",
       "  'Tile_X_0004_Y_0004_Z_0000_ch_561.zarr',\n",
       "  'Tile_X_0002_Y_0002_Z_0000_ch_594.zarr',\n",
       "  'Tile_X_0002_Y_0003_Z_0000_ch_594.zarr',\n",
       "  'Tile_X_0002_Y_0004_Z_0000_ch_594.zarr',\n",
       "  'Tile_X_0003_Y_0002_Z_0000_ch_594.zarr',\n",
       "  'Tile_X_0003_Y_0003_Z_0000_ch_594.zarr',\n",
       "  'Tile_X_0003_Y_0004_Z_0000_ch_594.zarr',\n",
       "  'Tile_X_0004_Y_0002_Z_0000_ch_594.zarr',\n",
       "  'Tile_X_0004_Y_0003_Z_0000_ch_594.zarr',\n",
       "  'Tile_X_0004_Y_0004_Z_0000_ch_594.zarr'],\n",
       " 's3_location': 's3://aind-open-data/HCR_747667_2025-04-18_13-00-00_processed_2025-05-13_23-21-01',\n",
       " 's3_location_tile-subset': 's3://aind-open-data/HCR_747667_2025-04-18_13-00-00_processed_2025-05-13_23-21-01/tile_subset/'}"
      ]
     },
     "execution_count": 4,
     "metadata": {},
     "output_type": "execute_result"
    }
   ],
   "source": [
    "# processing manifest\n",
    "dataset.rounds[\"R1\"].processing_manifest"
   ]
  },
  {
   "cell_type": "markdown",
   "id": "d07e575c",
   "metadata": {},
   "source": [
    "# All rounds cell x gene"
   ]
  },
  {
   "cell_type": "code",
   "execution_count": 7,
   "id": "d7b8ff71",
   "metadata": {},
   "outputs": [
    {
     "name": "stdout",
     "output_type": "stream",
     "text": [
      "Round R1 has these genes: ['Gad2' 'GFP' 'Slc17a7']\n",
      "Round R2 has these genes: ['Ndnf' 'Sncg' 'Cck' 'Calb2' 'Vip']\n",
      "Round R3 has these genes: ['Calb1' 'Tac2' 'Reln' 'Tac1' 'Npy']\n",
      "Round R4 has these genes: ['Crh' 'Sst' 'Penk' 'Pvalb' 'Ptprt']\n",
      "Round R5 has these genes: ['Nos1' 'Kirrel3' 'Pvalb' 'Pdyn' 'Sncg']\n",
      "Gene 'Pvalb' appears in rounds: R4, R5\n",
      "Gene 'Sncg' appears in rounds: R2, R5\n",
      "Total duplicate genes found: 2\n"
     ]
    }
   ],
   "source": [
    "# Create cell-gene matrix from all rounds\n",
    "# Note: This will print genes found in each round and identify any duplicates\n",
    "cxg = dataset.create_cell_gene_matrix(unmixed=True)"
   ]
  },
  {
   "cell_type": "code",
   "execution_count": 9,
   "id": "dada0a24",
   "metadata": {},
   "outputs": [
    {
     "data": {
      "image/png": "[encoded data removed]",
      "text/plain": [
       "<Figure size 640x480 with 1 Axes>"
      ]
     },
     "metadata": {},
     "output_type": "display_data"
    }
   ],
   "source": [
    "# invert colormap \n",
    "plt.imshow(cxg, aspect='auto', cmap='gray_r', interpolation='none')\n",
    "# add gene names from dataframe\n",
    "#plt.yticks(ticks=range(len(cxg.index)), labels=cxg.index)\n",
    "plt.xticks(ticks=range(len(cxg.columns)), labels=cxg.columns, rotation=90)\n",
    "plt.show()\n"
   ]
  },
  {
   "cell_type": "code",
   "execution_count": 10,
   "id": "94da459a",
   "metadata": {},
   "outputs": [
    {
     "name": "stdout",
     "output_type": "stream",
     "text": [
      "Round R1 has these genes: ['Gad2' 'Slc17a7' 'GFP']\n",
      "Round R2 has these genes: ['Calb2' 'Cck' 'Ndnf' 'Sncg' 'Vip']\n",
      "Round R3 has these genes: ['Calb1' 'Reln' 'Tac1' 'Tac2' 'Npy']\n",
      "Round R4 has these genes: ['Crh' 'Penk' 'Ptprt' 'Pvalb' 'Sst']\n",
      "Round R5 has these genes: ['Kirrel3' 'Nos1' 'Pdyn' 'Pvalb' 'Sncg']\n",
      "Gene 'Pvalb' appears in rounds: R4, R5\n",
      "Gene 'Sncg' appears in rounds: R2, R5\n",
      "Total duplicate genes found: 2\n"
     ]
    }
   ],
   "source": [
    "# Create cell-gene matrix using mixed (not unmixed) data\n",
    "cxg_mixed = dataset.create_cell_gene_matrix(unmixed=False)"
   ]
  },
  {
   "cell_type": "markdown",
   "id": "ff2ce034",
   "metadata": {},
   "source": [
    "# Cell info per round"
   ]
  },
  {
   "cell_type": "code",
   "execution_count": 9,
   "id": "1c0b0fed",
   "metadata": {},
   "outputs": [
    {
     "data": {
      "text/html": [
       "<div>\n",
       "<style scoped>\n",
       "    .dataframe tbody tr th:only-of-type {\n",
       "        vertical-align: middle;\n",
       "    }\n",
       "\n",
       "    .dataframe tbody tr th {\n",
       "        vertical-align: top;\n",
       "    }\n",
       "\n",
       "    .dataframe thead th {\n",
       "        text-align: right;\n",
       "    }\n",
       "</style>\n",
       "<table border=\"1\" class=\"dataframe\">\n",
       "  <thead>\n",
       "    <tr style=\"text-align: right;\">\n",
       "      <th></th>\n",
       "      <th>cell_id</th>\n",
       "      <th>volume</th>\n",
       "      <th>x_centroid</th>\n",
       "      <th>y_centroid</th>\n",
       "      <th>z_centroid</th>\n",
       "    </tr>\n",
       "  </thead>\n",
       "  <tbody>\n",
       "    <tr>\n",
       "      <th>0</th>\n",
       "      <td>1</td>\n",
       "      <td>99056.0</td>\n",
       "      <td>96</td>\n",
       "      <td>204</td>\n",
       "      <td>391</td>\n",
       "    </tr>\n",
       "    <tr>\n",
       "      <th>2</th>\n",
       "      <td>2</td>\n",
       "      <td>126640.0</td>\n",
       "      <td>138</td>\n",
       "      <td>932</td>\n",
       "      <td>394</td>\n",
       "    </tr>\n",
       "    <tr>\n",
       "      <th>5</th>\n",
       "      <td>3</td>\n",
       "      <td>176640.0</td>\n",
       "      <td>260</td>\n",
       "      <td>888</td>\n",
       "      <td>402</td>\n",
       "    </tr>\n",
       "    <tr>\n",
       "      <th>7</th>\n",
       "      <td>4</td>\n",
       "      <td>10816.0</td>\n",
       "      <td>456</td>\n",
       "      <td>816</td>\n",
       "      <td>400</td>\n",
       "    </tr>\n",
       "    <tr>\n",
       "      <th>8</th>\n",
       "      <td>5</td>\n",
       "      <td>263024.0</td>\n",
       "      <td>400</td>\n",
       "      <td>732</td>\n",
       "      <td>404</td>\n",
       "    </tr>\n",
       "    <tr>\n",
       "      <th>...</th>\n",
       "      <td>...</td>\n",
       "      <td>...</td>\n",
       "      <td>...</td>\n",
       "      <td>...</td>\n",
       "      <td>...</td>\n",
       "    </tr>\n",
       "    <tr>\n",
       "      <th>39823</th>\n",
       "      <td>23916</td>\n",
       "      <td>53088.0</td>\n",
       "      <td>5366</td>\n",
       "      <td>1546</td>\n",
       "      <td>1390</td>\n",
       "    </tr>\n",
       "    <tr>\n",
       "      <th>39824</th>\n",
       "      <td>23918</td>\n",
       "      <td>124320.0</td>\n",
       "      <td>5306</td>\n",
       "      <td>1266</td>\n",
       "      <td>1389</td>\n",
       "    </tr>\n",
       "    <tr>\n",
       "      <th>39825</th>\n",
       "      <td>23921</td>\n",
       "      <td>43072.0</td>\n",
       "      <td>5502</td>\n",
       "      <td>2682</td>\n",
       "      <td>1391</td>\n",
       "    </tr>\n",
       "    <tr>\n",
       "      <th>39826</th>\n",
       "      <td>23927</td>\n",
       "      <td>6720.0</td>\n",
       "      <td>5438</td>\n",
       "      <td>3180</td>\n",
       "      <td>1394</td>\n",
       "    </tr>\n",
       "    <tr>\n",
       "      <th>39827</th>\n",
       "      <td>23930</td>\n",
       "      <td>20624.0</td>\n",
       "      <td>5606</td>\n",
       "      <td>4122</td>\n",
       "      <td>1393</td>\n",
       "    </tr>\n",
       "  </tbody>\n",
       "</table>\n",
       "<p>18554 rows × 5 columns</p>\n",
       "</div>"
      ],
      "text/plain": [
       "       cell_id    volume  x_centroid  y_centroid  z_centroid\n",
       "0            1   99056.0          96         204         391\n",
       "2            2  126640.0         138         932         394\n",
       "5            3  176640.0         260         888         402\n",
       "7            4   10816.0         456         816         400\n",
       "8            5  263024.0         400         732         404\n",
       "...        ...       ...         ...         ...         ...\n",
       "39823    23916   53088.0        5366        1546        1390\n",
       "39824    23918  124320.0        5306        1266        1389\n",
       "39825    23921   43072.0        5502        2682        1391\n",
       "39826    23927    6720.0        5438        3180        1394\n",
       "39827    23930   20624.0        5606        4122        1393\n",
       "\n",
       "[18554 rows x 5 columns]"
      ]
     },
     "execution_count": 9,
     "metadata": {},
     "output_type": "execute_result"
    }
   ],
   "source": [
    "dataset.get_cell_info(round_key=\"R1\")"
   ]
  }
 ],
 "metadata": {
  "kernelspec": {
   "display_name": "base",
   "language": "python",
   "name": "python3"
  },
  "language_info": {
   "codemirror_mode": {
    "name": "ipython",
    "version": 3
   },
   "file_extension": ".py",
   "mimetype": "text/x-python",
   "name": "python",
   "nbconvert_exporter": "python",
   "pygments_lexer": "ipython3",
   "version": "3.10.12"
  }
 },
 "nbformat": 4,
 "nbformat_minor": 5
}
