{
 "cells": [
  {
   "cell_type": "markdown",
   "metadata": {},
   "source": [
    "This example opens a CZ CryoET Data Portal project dataset and creates an overlay in /tmp.\n",
    "\n",
    "We then visualize the multiscale segmentation from `segmentation_from_picks` to confirm that it is valid."
   ]
  },
  {
   "cell_type": "code",
   "execution_count": null,
   "metadata": {},
   "outputs": [
    {
     "name": "stdout",
     "output_type": "stream",
     "text": [
      "{'auto_mkdir': True}\n",
      "[CopickObject(name=membrane, is_particle=False, label=1, color=(0, 255, 0, 255), emdb_id=None, pdb_id=None, identifier=GO:0016020 threshold=None) at 0x13faa4580, CopickObject(name=ferritin-complex, is_particle=True, label=2, color=(255, 0, 255, 255), emdb_id=EMD-41923, pdb_id=None, identifier=GO:0070288 threshold=None) at 0x13faa4460, CopickObject(name=thyroglobulin, is_particle=True, label=3, color=(0, 127, 255, 255), emdb_id=EMD-24181, pdb_id=None, identifier=UniProtKB:P01267 threshold=None) at 0x141722ce0, CopickObject(name=virus-like-capsid, is_particle=True, label=4, color=(255, 127, 0, 255), emdb_id=EMD-41917, pdb_id=None, identifier=GO:0170047 threshold=None) at 0x1417231c0, CopickObject(name=beta-amylase, is_particle=True, label=5, color=(127, 191, 127, 255), emdb_id=EMD-30405, pdb_id=None, identifier=UniProtKB:P10537 threshold=None) at 0x141722e30, CopickObject(name=beta-galactosidase, is_particle=True, label=6, color=(94, 6, 164, 255), emdb_id=EMD-0153, pdb_id=None, identifier=UniProtKB:P00722 threshold=None) at 0x141722e60, CopickObject(name=cytosolic-ribosome, is_particle=True, label=7, color=(233, 1, 56, 255), emdb_id=EMD-3883, pdb_id=None, identifier=GO:0022626 threshold=None) at 0x141722e00]\n"
     ]
    }
   ],
   "source": [
    "import copick\n",
    "\n",
    "proj = copick.from_czcdp_datasets([10441], overlay_root=\"/tmp/test/\", output_path='test.config', user_id='icequeen', session_id='0', overlay_fs_args={\"auto_mkdir\": True})\n",
    "\n",
    "print(proj.pickable_objects)"
   ]
  },
  {
   "cell_type": "code",
   "execution_count": 2,
   "metadata": {},
   "outputs": [
    {
     "data": {
      "text/plain": [
       "CopickPicks(pickable_object_name=cytosolic-ribosome, user_id=data-portal, session_id=74238, len(points)=148) at 0x13f5f99c0"
      ]
     },
     "execution_count": 2,
     "metadata": {},
     "output_type": "execute_result"
    }
   ],
   "source": [
    "pickable_object = proj.pickable_objects[0]\n",
    "radius = pickable_object.radius\n",
    "painting_segmentation_name = \"ribosomeTest\"\n",
    "run = proj.runs[0]\n",
    "voxel_spacing = 10\n",
    "tomo_type = \"wbp\"\n",
    "pick_set = run.get_picks(object_name=\"cytosolic-ribosome\")[0]\n",
    "pick_set"
   ]
  },
  {
   "cell_type": "code",
   "execution_count": 3,
   "metadata": {},
   "outputs": [
    {
     "name": "stdout",
     "output_type": "stream",
     "text": [
      "segmentation keys /\n",
      " ├── 0 (200, 630, 630) uint16\n",
      " ├── 1 (100, 315, 315) uint16\n",
      " └── 2 (50, 158, 158) uint16\n"
     ]
    }
   ],
   "source": [
    "from copick_utils.segmentation.segmentation_from_picks import segmentation_from_picks\n",
    "\n",
    "\n",
    "seg = segmentation_from_picks(radius, painting_segmentation_name, run, voxel_spacing, tomo_type, pickable_object, pick_set, user_id=\"paintedPicks\", session_id=\"0\")\n",
    "\n"
   ]
  },
  {
   "cell_type": "code",
   "execution_count": 4,
   "metadata": {},
   "outputs": [
    {
     "name": "stdout",
     "output_type": "stream",
     "text": [
      "[(<zarr.core.Array '/0' (200, 630, 630) uint16 read-only>, 0, 1), (<zarr.core.Array '/1' (100, 315, 315) uint16 read-only>, 0, 1), (<zarr.core.Array '/2' (50, 158, 158) uint16 read-only>, 0, 1)]\n"
     ]
    }
   ],
   "source": [
    "import zarr\n",
    "\n",
    "import numpy as np\n",
    "\n",
    "z = zarr.open(seg.zarr().path, \"r\")\n",
    "\n",
    "print([(z[k], np.min(z[k][:]), np.max(z[k][:])) for k in [\"0\", \"1\", \"2\"]])"
   ]
  },
  {
   "cell_type": "code",
   "execution_count": 5,
   "metadata": {},
   "outputs": [
    {
     "data": {
      "text/plain": [
       "1"
      ]
     },
     "execution_count": 5,
     "metadata": {},
     "output_type": "execute_result"
    }
   ],
   "source": [
    "np.max(z[\"0\"][:])"
   ]
  },
  {
   "cell_type": "code",
   "execution_count": 6,
   "metadata": {},
   "outputs": [
    {
     "data": {
      "image/png": "[encoded data removed]",
      "text/plain": [
       "<Figure size 1500x500 with 3 Axes>"
      ]
     },
     "metadata": {},
     "output_type": "display_data"
    }
   ],
   "source": [
    "import numpy as np\n",
    "import matplotlib.pyplot as plt\n",
    "from skimage.transform import resize\n",
    "\n",
    "# Load the Zarr arrays\n",
    "zarr_arrays = [z[\"0\"][:], z[\"1\"][:], z[\"2\"][:]]\n",
    "\n",
    "# Define the dimensions of the highest resolution scale\n",
    "target_shape = zarr_arrays[0].shape\n",
    "\n",
    "# Fetch scale factors for each level\n",
    "scales = [1, 2, 4]# TODO manual hard coding, fix this\n",
    "\n",
    "# Calculate slice indices for the highest resolution\n",
    "slice_indices = [int(target_shape[0] * frac) for frac in [0.25, 0.5, 0.75]]\n",
    "scaled_slice_indices = [[int(slice_idx / scale) for slice_idx in slice_indices] for scale in scales]\n",
    "\n",
    "# Adjust contrast by scaling each slice to its min and max values\n",
    "def adjust_contrast(slice_data):\n",
    "    \"\"\"Normalize the contrast of a 2D slice.\"\"\"\n",
    "    min_val, max_val = slice_data.min(), slice_data.max()\n",
    "    if max_val > min_val:  # Avoid division by zero\n",
    "        return (slice_data - min_val) / (max_val - min_val)\n",
    "    else:\n",
    "        return slice_data\n",
    "\n",
    "# Rescale lower resolution arrays to match the highest resolution\n",
    "rescaled_arrays = [\n",
    "    resize(arr, target_shape, order=0, preserve_range=True).astype(np.float32)\n",
    "    for arr in zarr_arrays\n",
    "]\n",
    "\n",
    "# Plot the combined overlays for 25%, 50%, and 75% slices\n",
    "fig, axes = plt.subplots(1, 3, figsize=(15, 5))\n",
    "colors = [\"red\", \"green\", \"blue\"]  # Colors for each scale\n",
    "\n",
    "for i, slice_idx in enumerate(slice_indices):\n",
    "    # Initialize an RGB image with zeros\n",
    "    rgb_image = np.zeros((*target_shape[1:], 3), dtype=np.float32)\n",
    "    \n",
    "    # Combine slices from different scales into RGB channels\n",
    "    for j, (arr, color) in enumerate(zip(rescaled_arrays, colors)):\n",
    "        slice_data = arr[slice_idx]  # Use the same slice index since it's rescaled\n",
    "        adjusted_slice = adjust_contrast(slice_data)\n",
    "        \n",
    "        if color == \"red\":\n",
    "            rgb_image[..., 0] += adjusted_slice\n",
    "        elif color == \"green\":\n",
    "            rgb_image[..., 1] += adjusted_slice\n",
    "        elif color == \"blue\":\n",
    "            rgb_image[..., 2] += adjusted_slice\n",
    "    \n",
    "    # Normalize the RGB channels to keep the values in the range [0, 1]\n",
    "    rgb_image = np.clip(rgb_image, 0, 1)\n",
    "    \n",
    "    # Plot the resulting RGB overlay\n",
    "    axes[i].imshow(rgb_image)\n",
    "    axes[i].set_title(f\"Overlay at {slice_idx} (25%, 50%, 75%)\")\n",
    "    axes[i].axis(\"off\")\n",
    "\n",
    "plt.tight_layout()\n",
    "plt.show()\n",
    "\n"
   ]
  },
  {
   "cell_type": "code",
   "execution_count": null,
   "metadata": {},
   "outputs": [],
   "source": []
  }
 ],
 "metadata": {
  "kernelspec": {
   "display_name": "Python 3",
   "language": "python",
   "name": "python3"
  },
  "language_info": {
   "codemirror_mode": {
    "name": "ipython",
    "version": 3
   },
   "file_extension": ".py",
   "mimetype": "text/x-python",
   "name": "python",
   "nbconvert_exporter": "python",
   "pygments_lexer": "ipython3",
   "version": "3.10.8"
  }
 },
 "nbformat": 4,
 "nbformat_minor": 2
}
