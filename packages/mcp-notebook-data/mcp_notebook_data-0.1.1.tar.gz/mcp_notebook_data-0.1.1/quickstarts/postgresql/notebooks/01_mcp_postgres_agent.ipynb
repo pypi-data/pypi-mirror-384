{
 "cells": [
  {
   "cell_type": "code",
   "execution_count": null,
   "id": "3c0eac9f",
   "metadata": {},
   "outputs": [],
   "source": [
    "import logging\n",
    "import os\n",
    "import uuid\n",
    "\n",
    "from dapr_agents import OpenAIChatClient\n",
    "from dapr_agents.tool import AgentTool\n",
    "from dotenv import load_dotenv\n",
    "from mcp import ClientSession, StdioServerParameters\n",
    "from mcp.client.stdio import stdio_client"
   ]
  },
  {
   "cell_type": "code",
   "execution_count": null,
   "id": "39720f84",
   "metadata": {},
   "outputs": [],
   "source": [
    "logging.basicConfig(level=logging.INFO)\n",
    "load_dotenv()"
   ]
  },
  {
   "cell_type": "code",
   "execution_count": null,
   "id": "227adcc6",
   "metadata": {},
   "outputs": [],
   "source": [
    "llm = OpenAIChatClient(\n",
    "    api_key=os.getenv(\"AZURE_OPENAI_API_KEY\"),\n",
    "    azure_endpoint=os.getenv(\"AZURE_OPENAI_ENDPOINT\"),\n",
    "    azure_deployment=os.getenv(\"AZURE_OPENAI_DEPLOYMENT\"),\n",
    "    api_version=os.getenv(\"AZURE_OPENAI_API_VERSION\"),\n",
    ")"
   ]
  },
  {
   "cell_type": "code",
   "execution_count": null,
   "id": "862ab331",
   "metadata": {},
   "outputs": [],
   "source": [
    "NOTEBOOK_NAME = f\"mcp_{uuid.uuid4().hex[:8]}.ipynb\"\n",
    "\n",
    "raw_env = {\n",
    "    **os.environ,\n",
    "    \"MCP_JUPYTER_SESSION_MODE\": \"server\",\n",
    "    \"MCP_JUPYTER_BASE_URL\": os.getenv(\"JUPYTER_BASE_URL\"),\n",
    "    \"MCP_JUPYTER_TOKEN\": os.getenv(\"JUPYTER_TOKEN\"),\n",
    "    \"MCP_JUPYTER_KERNEL_NAME\": os.getenv(\"JUPYTER_KERNEL_NAME\", \"python3\"),\n",
    "    \"MCP_JUPYTER_NOTEBOOK_PATH\": os.getenv(\"JUPYTER_NOTEBOOK_PATH\", NOTEBOOK_NAME),\n",
    "    \"MCP_JUPYTER_TOOLSETS\": \"postgresql\",\n",
    "}\n",
    "\n",
    "ENV = {k: v for k, v in raw_env.items() if v is not None}\n"
   ]
  },
  {
   "cell_type": "code",
   "execution_count": null,
   "id": "c4bb939f",
   "metadata": {},
   "outputs": [],
   "source": [
    "# Adjust path to your MCP server entrypoint (where your server.py lives)\n",
    "server_params = StdioServerParameters(\n",
    "    command=\"uvx\",\n",
    "    #args=[ \"mcp-jupyter-notebook\", \"--transport\", \"stdio\"],\n",
    "    args = [\"--refresh\", \"mcp-jupyter-notebook\", \"--transport\", \"stdio\"],\n",
    "    #args=[\n",
    "    #    \"--refresh\",\n",
    "    #    \"--from\",\n",
    "    #    \"../../../\",\n",
    "    #    \"mcp-notebook-data\",\n",
    "    #    \"--transport\",\n",
    "    #    \"stdio\",\n",
    "    #],\n",
    "    env=ENV,\n",
    ")"
   ]
  },
  {
   "cell_type": "code",
   "execution_count": null,
   "id": "d0dab763",
   "metadata": {},
   "outputs": [],
   "source": [
    "async with stdio_client(server_params) as (read, write):\n",
    "    async with ClientSession(read, write) as s:\n",
    "        await s.initialize()\n",
    "\n",
    "        # Discover tools\n",
    "        tools = await AgentTool.from_mcp_session(s)\n",
    "\n",
    "        from dapr_agents import Agent\n",
    "\n",
    "        notebook_agent = Agent(\n",
    "            name=\"Jupyter Notebook Orchestrator\",\n",
    "            role=(\n",
    "                \"A notebook co-pilot that drives analysis inside a persistent Jupyter session, \"\n",
    "                \"with read-only access to a PostgreSQL database via MCP tools.\"\n",
    "            ),\n",
    "            goal=(\n",
    "                \"Use the active Jupyter notebook to complete tasks end-to-end: \"\n",
    "                \"add clear markdown, execute Python code, and, when necessary, install Python packages.\"\n",
    "                \"Reuse the same live session (kernel + document) so work builds on previous cells. \"\n",
    "                \"When data is needed, discover Postgres schemas/tables first, then load results into DataFrames via the provided tools.\"\n",
    "            ),\n",
    "            instructions=[\n",
    "                # Session & ordering\n",
    "                \"You are driving a live Jupyter notebook (persistent kernel + document).\",\n",
    "                \"Cell order matters. Issue exactly ONE tool call at a time and wait for its result before the next.\",\n",
    "                \"Append new cells; do not rewrite or reorder existing cells unless explicitly asked.\",\n",
    "\n",
    "                # PostgreSQL tools & workflow\n",
    "                \"Before querying data, inspect metadata using schema tools:\",\n",
    "                \"Prefer small, targeted SQL with an explicit LIMIT while exploring.\",\n",
    "                \"Never print or echo credentials/DSNs; do not read environment variables into the notebook output.\",\n",
    "\n",
    "                # Notebook hygiene\n",
    "                \"Before each task, add a short markdown heading describing what you'll do.\",\n",
    "                \"Keep code cells small and focused—one idea per cell.\",\n",
    "                \"When previewing data, show concise outputs (e.g., df.head(), shapes, key metrics).\",\n",
    "                \"For Matplotlib plots, include a title and axis labels; add a legend when helpful.\",\n",
    "\n",
    "                # Robustness\n",
    "                \"If an error occurs, add a brief markdown note explaining the fix, then run a corrected code cell.\",\n",
    "                \"Reuse variables and results created earlier; reference them directly rather than reloading the same data.\",\n",
    "\n",
    "                # Closure\n",
    "                \"End a logical section with a short markdown summary of what was produced and learned.\"\n",
    "            ],\n",
    "            llm=llm,\n",
    "            tools=tools,\n",
    "            max_iterations=20,\n",
    "        )\n",
    "\n",
    "        QUESTION = \"\"\"\n",
    "Connect to the Postgres database and start exploring.\n",
    "1. List a few available schemas and tables.\n",
    "2. Pick one small table that looks interesting.\n",
    "3. Load a limited sample of rows into a pandas DataFrame so it's easy to work with.\n",
    "4. Create a couple of simple visualizations (for example, a bar chart and a line chart) using Matplotlib.\n",
    "As you go, add short markdown headings to explain each step, and finish with a brief summary of what you discovered.\n",
    "\"\"\"\n",
    "        await notebook_agent.run(QUESTION)"
   ]
  },
  {
   "cell_type": "code",
   "execution_count": null,
   "id": "7b051d1b",
   "metadata": {},
   "outputs": [],
   "source": []
  }
 ],
 "metadata": {
  "kernelspec": {
   "display_name": ".venv",
   "language": "python",
   "name": "python3"
  },
  "language_info": {
   "codemirror_mode": {
    "name": "ipython",
    "version": 3
   },
   "file_extension": ".py",
   "mimetype": "text/x-python",
   "name": "python",
   "nbconvert_exporter": "python",
   "pygments_lexer": "ipython3",
   "version": "3.13.3"
  }
 },
 "nbformat": 4,
 "nbformat_minor": 5
}
