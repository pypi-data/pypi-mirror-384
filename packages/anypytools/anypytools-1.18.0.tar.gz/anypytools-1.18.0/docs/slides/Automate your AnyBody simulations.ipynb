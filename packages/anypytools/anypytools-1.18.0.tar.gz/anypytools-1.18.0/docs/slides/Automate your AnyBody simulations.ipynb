{
 "cells": [
  {
   "cell_type": "markdown",
   "metadata": {
    "collapsed": true,
    "slideshow": {
     "slide_type": "slide"
    }
   },
   "source": [
    "<img src=\"https://avatars.githubusercontent.com/u/1136538?s=70&v=4\" align=\"right\"><br><br>\n",
    "## Using AnyBody from Python\n",
    "\n",
    "We will use a small open source library to help us. \n",
    "**AnyPyTools**\n",
    "\n",
    " - Handle all interaction with the console application\n",
    " \n",
    " - Create macros programatically\n",
    " \n",
    " - Run simualtions in parallel\n",
    " ![alt text](https://github.com/AnyBody-Research-Group/AnyPyTools/raw/master/docs/_static/relax.png)"
   ]
  },
  {
   "cell_type": "markdown",
   "metadata": {
    "slideshow": {
     "slide_type": "slide"
    }
   },
   "source": [
    "# How to get started\n",
    "<br>"
   ]
  },
  {
   "cell_type": "markdown",
   "metadata": {
    "slideshow": {
     "slide_type": "subslide"
    }
   },
   "source": [
    "### Requirements:\n",
    "\n",
    " - A Python installation\n",
    " - The `AnyPyTools` library\n",
    "<br><br>"
   ]
  },
  {
   "attachments": {},
   "cell_type": "markdown",
   "metadata": {
    "slideshow": {
     "slide_type": "fragment"
    }
   },
   "source": [
    "<img src=\"anaconda_download.png\" alt=\"Download Anaconda\" width=\"30%\" align=\"right\" border=\"5\">\n",
    "\n",
    "### The easy way:\n",
    "\n",
    "Install the a Conda Python distribution.\n",
    "- https://www.anaconda.com/products/individual\n",
    "\n",
    "Has all the important scientific python packages"
   ]
  },
  {
   "cell_type": "markdown",
   "metadata": {
    "slideshow": {
     "slide_type": "subslide"
    }
   },
   "source": [
    "More stuff can be installed using the build-in package-manager (`conda`)\n",
    "\n",
    "    \n",
    ">``` \n",
    ">c:\\>conda config --add channels conda-forge\n",
    ">c:\\>conda install anypytools\n",
    ">```\n",
    "\n",
    "![install using conda](conda_install.png)\n",
    "\n"
   ]
  },
  {
   "cell_type": "markdown",
   "metadata": {
    "slideshow": {
     "slide_type": "slide"
    }
   },
   "source": [
    "# Running the console applicaiton from Python\n",
    "<br>"
   ]
  },
  {
   "cell_type": "markdown",
   "metadata": {
    "slideshow": {
     "slide_type": "subslide"
    }
   },
   "source": [
    "## A simple example\n",
    "<br>"
   ]
  },
  {
   "cell_type": "code",
   "execution_count": 8,
   "metadata": {
    "slideshow": {
     "slide_type": "-"
    }
   },
   "outputs": [],
   "source": [
    "from anypytools import AnyPyProcess \n",
    "app = AnyPyProcess( )"
   ]
  },
  {
   "cell_type": "code",
   "execution_count": 9,
   "metadata": {
    "slideshow": {
     "slide_type": "fragment"
    }
   },
   "outputs": [
    {
     "data": {
      "application/vnd.jupyter.widget-view+json": {
       "model_id": "5a88e73de8154d1ebd0210a4dad95d6d",
       "version_major": 2,
       "version_minor": 0
      },
      "text/plain": [
       "  0%|          | 0/1 [00:00<?, ?it/s]"
      ]
     },
     "metadata": {},
     "output_type": "display_data"
    },
    {
     "name": "stdout",
     "output_type": "stream",
     "text": [
      "Completed: 1\n"
     ]
    }
   ],
   "source": [
    "macrolist = [\n",
    "    'load \"Knee.any\"',\n",
    "    'classoperation Main.MyParameter \"Set Value\" --value=\"10\"',\n",
    "    'operation Main.MyStudy.Kinematics',\n",
    "    'run',\n",
    "    'exit'\n",
    "] \n",
    "\n",
    "app.start_macro(macrolist);"
   ]
  },
  {
   "cell_type": "markdown",
   "metadata": {
    "slideshow": {
     "slide_type": "subslide"
    }
   },
   "source": [
    "## Running multiple macros\n",
    "<br>"
   ]
  },
  {
   "cell_type": "code",
   "execution_count": 10,
   "metadata": {},
   "outputs": [
    {
     "data": {
      "application/vnd.jupyter.widget-view+json": {
       "model_id": "fe7e68936a9c4f2b98d64012726a10a9",
       "version_major": 2,
       "version_minor": 0
      },
      "text/plain": [
       "  0%|          | 0/2 [00:00<?, ?it/s]"
      ]
     },
     "metadata": {},
     "output_type": "display_data"
    },
    {
     "name": "stdout",
     "output_type": "stream",
     "text": [
      "Completed: 2\n"
     ]
    }
   ],
   "source": [
    "macrolist = [['load \"Knee.any\"',\n",
    "              'operation Main.MyStudy.Kinematics',\n",
    "              'run',\n",
    "              'exit'],\n",
    "             ['load \"Knee.any\"',\n",
    "              'operation Main.MyStudy.InverseDynamics',\n",
    "              'run',\n",
    "              'exit']]\n",
    "\n",
    "app.start_macro(macrolist); "
   ]
  },
  {
   "cell_type": "markdown",
   "metadata": {
    "slideshow": {
     "slide_type": "subslide"
    }
   },
   "source": [
    "## Better performance with parallelization"
   ]
  },
  {
   "cell_type": "code",
   "execution_count": 4,
   "metadata": {
    "collapsed": true
   },
   "outputs": [],
   "source": [
    "many_macros = [['load \"Knee.any\"',\n",
    "                'classoperation Main.MyParameter \"Set Value\" --value=\"10\"',\n",
    "                'operation Main.MyStudy.Kinematics',\n",
    "                'run',\n",
    "                'exit']]*40"
   ]
  },
  {
   "cell_type": "code",
   "execution_count": null,
   "metadata": {},
   "outputs": [],
   "source": [
    "many_macros"
   ]
  },
  {
   "cell_type": "markdown",
   "metadata": {
    "slideshow": {
     "slide_type": "subslide"
    }
   },
   "source": [
    "## Better performance with parallelization\n",
    "\n",
    "First sequentially"
   ]
  },
  {
   "cell_type": "code",
   "execution_count": 5,
   "metadata": {
    "slideshow": {
     "slide_type": "-"
    }
   },
   "outputs": [
    {
     "name": "stdout",
     "output_type": "stream",
     "text": [
      "[****************100%******************]  40 of 40 complete"
     ]
    },
    {
     "data": {
      "text/html": [
       "<pre>Total time: 21.4 seconds</pre>"
      ],
      "text/plain": [
       "<IPython.core.display.HTML object>"
      ]
     },
     "metadata": {},
     "output_type": "display_data"
    }
   ],
   "source": [
    "app = AnyPyProcess(num_processes = 1)\n",
    "app.start_macro(many_macros);"
   ]
  },
  {
   "cell_type": "markdown",
   "metadata": {
    "slideshow": {
     "slide_type": "fragment"
    }
   },
   "source": [
    "Then with parallelization"
   ]
  },
  {
   "cell_type": "code",
   "execution_count": 6,
   "metadata": {
    "slideshow": {
     "slide_type": "-"
    }
   },
   "outputs": [
    {
     "name": "stdout",
     "output_type": "stream",
     "text": [
      "[****************100%******************]  40 of 40 complete"
     ]
    },
    {
     "data": {
      "text/html": [
       "<pre>Total time: 3.7 seconds</pre>"
      ],
      "text/plain": [
       "<IPython.core.display.HTML object>"
      ]
     },
     "metadata": {},
     "output_type": "display_data"
    }
   ],
   "source": [
    "app = AnyPyProcess(num_processes = 10)\n",
    "app.start_macro(many_macros); "
   ]
  },
  {
   "cell_type": "markdown",
   "metadata": {
    "slideshow": {
     "slide_type": "slide"
    }
   },
   "source": [
    "# Getting data back from AnyBody\n",
    "<br>"
   ]
  },
  {
   "cell_type": "markdown",
   "metadata": {
    "slideshow": {
     "slide_type": "subslide"
    }
   },
   "source": [
    "Usual approach: **AnyOutputFile**, **Save all output data (HDF5 file)**\n",
    " - :( Difficult to concatenate data across simulations.\n",
    " - :( Impractical if we only need a few variables. \n",
    " \n",
    "\n",
    "> There must be a better way."
   ]
  },
  {
   "cell_type": "markdown",
   "metadata": {
    "slideshow": {
     "slide_type": "fragment"
    }
   },
   "source": [
    "**``...there is... ``**"
   ]
  },
  {
   "cell_type": "markdown",
   "metadata": {
    "slideshow": {
     "slide_type": "subslide"
    }
   },
   "source": [
    "The console application has a class operation we can use\n",
    "\n",
    "**``` classoperation <AnyScript_variable_name> \"Dump\"```**\n",
    "\n",
    "![Dump classoperation](classoperation_dump.png)"
   ]
  },
  {
   "cell_type": "markdown",
   "metadata": {
    "slideshow": {
     "slide_type": "-"
    }
   },
   "source": [
    "AnyPyTools will automatically grab any data or error from AnyBodyCon"
   ]
  },
  {
   "cell_type": "code",
   "execution_count": 7,
   "metadata": {
    "slideshow": {
     "slide_type": "subslide"
    }
   },
   "outputs": [],
   "source": [
    "from anypytools import AnyPyProcess \n",
    "app = AnyPyProcess( )\n",
    "\n",
    "macrolist = [['load \"Knee.any\"',\n",
    "             'operation Main.MyStudy.InverseDynamics',\n",
    "             'run',\n",
    "             'classoperation Main.MyStudy.Output.MaxMuscleActivity \"Dump\"',\n",
    "             'exit'], \n",
    "            ['load \"Knee.any\"',\n",
    "             'operation Main.MyStudy.InverseDynamics',\n",
    "             'run',\n",
    "             'classoperation Main.MyStudy.Output.MaxMuscleActivity \"Dump\"',\n",
    "             'exit']]"
   ]
  },
  {
   "cell_type": "code",
   "execution_count": 8,
   "metadata": {
    "slideshow": {
     "slide_type": "-"
    }
   },
   "outputs": [
    {
     "name": "stdout",
     "output_type": "stream",
     "text": [
      "[****************100%******************]  2 of 2 complete"
     ]
    },
    {
     "data": {
      "text/html": [
       "<pre>Total time: 0.6 seconds</pre>"
      ],
      "text/plain": [
       "<IPython.core.display.HTML object>"
      ]
     },
     "metadata": {},
     "output_type": "display_data"
    }
   ],
   "source": [
    "results = app.start_macro(macrolist)"
   ]
  },
  {
   "cell_type": "code",
   "execution_count": null,
   "metadata": {
    "collapsed": true
   },
   "outputs": [],
   "source": [
    "results  "
   ]
  },
  {
   "cell_type": "markdown",
   "metadata": {
    "slideshow": {
     "slide_type": "subslide"
    }
   },
   "source": [
    "## Plotting the data"
   ]
  },
  {
   "cell_type": "code",
   "execution_count": 9,
   "metadata": {
    "collapsed": true
   },
   "outputs": [],
   "source": [
    "%matplotlib inline\n",
    "from matplotlib.pyplot import plot "
   ]
  },
  {
   "cell_type": "code",
   "execution_count": 10,
   "metadata": {},
   "outputs": [
    {
     "data": {
      "image/png": "[encoded data removed]",
      "text/plain": [
       "<matplotlib.figure.Figure at 0x8139fd0>"
      ]
     },
     "metadata": {},
     "output_type": "display_data"
    }
   ],
   "source": [
    "max_muscle_activity = results[0]['Main.MyStudy.Output.MaxMuscleActivity']\n",
    "plot(max_muscle_activity); "
   ]
  },
  {
   "cell_type": "markdown",
   "metadata": {
    "slideshow": {
     "slide_type": "subslide"
    }
   },
   "source": [
    "Output behaves like default Python data types:\n",
    "\n",
    "- **`list`** and **`dictionary`** types.\n",
    "\n",
    "But with extra convenience functionality:\n"
   ]
  },
  {
   "cell_type": "code",
   "execution_count": 11,
   "metadata": {
    "slideshow": {
     "slide_type": "-"
    }
   },
   "outputs": [
    {
     "data": {
      "text/plain": [
       "(100,)"
      ]
     },
     "execution_count": 11,
     "metadata": {},
     "output_type": "execute_result"
    }
   ],
   "source": [
    "results[0]['Main.MyStudy.Output.MaxMuscleActivity'].shape"
   ]
  },
  {
   "cell_type": "code",
   "execution_count": 12,
   "metadata": {
    "slideshow": {
     "slide_type": "fragment"
    }
   },
   "outputs": [
    {
     "data": {
      "text/plain": [
       "(2, 100)"
      ]
     },
     "execution_count": 12,
     "metadata": {},
     "output_type": "execute_result"
    }
   ],
   "source": [
    "results['Main.MyStudy.Output.MaxMuscleActivity'].shape"
   ]
  },
  {
   "cell_type": "code",
   "execution_count": 13,
   "metadata": {
    "slideshow": {
     "slide_type": "fragment"
    }
   },
   "outputs": [
    {
     "data": {
      "text/plain": [
       "(2, 100)"
      ]
     },
     "execution_count": 13,
     "metadata": {},
     "output_type": "execute_result"
    }
   ],
   "source": [
    "results['MaxMuscleActivity'].shape"
   ]
  },
  {
   "cell_type": "markdown",
   "metadata": {
    "slideshow": {
     "slide_type": "slide"
    }
   },
   "source": [
    "# Handling Errors\n",
    "<br>"
   ]
  },
  {
   "cell_type": "markdown",
   "metadata": {
    "slideshow": {
     "slide_type": "subslide"
    }
   },
   "source": [
    "AnyPyTools will also catch Errors...\n",
    "\n",
    "Here is a macro with misspelled operation:"
   ]
  },
  {
   "cell_type": "code",
   "execution_count": 14,
   "metadata": {
    "collapsed": true
   },
   "outputs": [],
   "source": [
    "macrolist = ['load \"Knee.any\"',\n",
    "             'operation Main.MyStudy.Kinematic ',\n",
    "             'run', \n",
    "             'exit']  \n",
    " "
   ]
  },
  {
   "cell_type": "code",
   "execution_count": 15,
   "metadata": {
    "slideshow": {
     "slide_type": "subslide"
    }
   },
   "outputs": [
    {
     "name": "stdout",
     "output_type": "stream",
     "text": [
      "[****************100%******************]  1 of 1 complete (1 Error)"
     ]
    },
    {
     "data": {
      "text/html": [
       "<pre>Tasks with errors: 1</pre>"
      ],
      "text/plain": [
       "<IPython.core.display.HTML object>"
      ]
     },
     "metadata": {},
     "output_type": "display_data"
    },
    {
     "data": {
      "text/html": [
       "<pre>Failed 0.36227685484711003sec :webcast/live tutorial_0 n=0 : (<a href= \"file:///C:\\Users\\mel\\webcast\\live tutorial\\_j0zjldan.log\" target=\"_blank\">_j0zjldan.log</a> <a href= \"file:///C:\\Users\\mel\\webcast\\live tutorial\" target=\"_blank\">dir</a>)</pre>"
      ],
      "text/plain": [
       "<IPython.core.display.HTML object>"
      ]
     },
     "metadata": {},
     "output_type": "display_data"
    },
    {
     "data": {
      "text/html": [
       "<pre>Total time: 0.4 seconds</pre>"
      ],
      "text/plain": [
       "<IPython.core.display.HTML object>"
      ]
     },
     "metadata": {},
     "output_type": "display_data"
    }
   ],
   "source": [
    "from anypytools import AnyPyProcess \n",
    "app = AnyPyProcess( )\n",
    "\n",
    "result = app.start_macro(macrolist);"
   ]
  },
  {
   "cell_type": "code",
   "execution_count": 16,
   "metadata": {},
   "outputs": [
    {
     "data": {
      "text/plain": [
       "array([['Error : Main.MyStudy.Kinematic : Unresolved object.']], \n",
       "      dtype='<U51')"
      ]
     },
     "execution_count": 16,
     "metadata": {},
     "output_type": "execute_result"
    }
   ],
   "source": [
    "result['ERROR']  "
   ]
  },
  {
   "cell_type": "markdown",
   "metadata": {
    "slideshow": {
     "slide_type": "slide"
    }
   },
   "source": [
    "# Creating macro programmatically\n",
    "<br>"
   ]
  },
  {
   "cell_type": "markdown",
   "metadata": {
    "slideshow": {
     "slide_type": "subslide"
    }
   },
   "source": [
    "### Why would we want to generate macro commands?\n",
    "\n",
    "- Individual macros can be really long and complex\n",
    "\n",
    "- Parameter and sensitivity studies may require thoudsands of different macros"
   ]
  },
  {
   "cell_type": "code",
   "execution_count": 17,
   "metadata": {},
   "outputs": [],
   "source": [
    "%pycat \"large_macro.anymcr\""
   ]
  },
  {
   "cell_type": "code",
   "execution_count": null,
   "metadata": {
    "collapsed": true,
    "slideshow": {
     "slide_type": "subslide"
    }
   },
   "outputs": [],
   "source": [
    "from anypytools.macro_commands import Load, RunOperation, Export, SetValue"
   ]
  },
  {
   "cell_type": "code",
   "execution_count": 19,
   "metadata": {},
   "outputs": [
    {
     "data": {
      "text/plain": [
       "load \"Knee.any\""
      ]
     },
     "execution_count": 19,
     "metadata": {},
     "output_type": "execute_result"
    }
   ],
   "source": [
    "Load(\"Knee.any\") "
   ]
  },
  {
   "cell_type": "code",
   "execution_count": 20,
   "metadata": {},
   "outputs": [
    {
     "data": {
      "text/plain": [
       "classoperation Main.Model.Parameter1 \"Set Value\" --value=\"100.3\""
      ]
     },
     "execution_count": 20,
     "metadata": {},
     "output_type": "execute_result"
    }
   ],
   "source": [
    "SetValue('Main.Model.Parameter1', 100.3)"
   ]
  },
  {
   "cell_type": "code",
   "execution_count": null,
   "metadata": {
    "slideshow": {
     "slide_type": "subslide"
    }
   },
   "outputs": [
    {
     "data": {
      "text/plain": [
       "[load \"Knee.any\",\n",
       " classoperation Main.MyParameter \"Set Value\" --value=\"10\",\n",
       " operation Main.MyStudy.InverseDynamics\n",
       " run,\n",
       " classoperation Main.MyStudy.Output.MaxMuscleActivity \"Dump\"]"
      ]
     },
     "execution_count": 21,
     "metadata": {},
     "output_type": "execute_result"
    }
   ],
   "source": [
    "macrolist = [ Load('Knee.any'),\n",
    "              SetValue('Main.MyParameter', 10),\n",
    "              RunOperation('Main.MyStudy.InverseDynamics'),\n",
    "              Export('Main.MyStudy.Output.MaxMuscleActivity')] \n",
    "macrolist"
   ]
  },
  {
   "cell_type": "code",
   "execution_count": 22,
   "metadata": {
    "slideshow": {
     "slide_type": "-"
    }
   },
   "outputs": [
    {
     "name": "stdout",
     "output_type": "stream",
     "text": [
      "[****************100%******************]  1 of 1 complete"
     ]
    },
    {
     "data": {
      "text/html": [
       "<pre>Total time: 0.6 seconds</pre>"
      ],
      "text/plain": [
       "<IPython.core.display.HTML object>"
      ]
     },
     "metadata": {},
     "output_type": "display_data"
    }
   ],
   "source": [
    "from anypytools import AnyPyProcess\n",
    "app = AnyPyProcess()\n",
    "app.start_macro(macrolist);"
   ]
  },
  {
   "cell_type": "markdown",
   "metadata": {
    "slideshow": {
     "slide_type": "subslide"
    }
   },
   "source": [
    "### Creating many macros"
   ]
  },
  {
   "cell_type": "markdown",
   "metadata": {},
   "source": [
    "We need an small helper class `AnyMacro` to wrap our macro list."
   ]
  },
  {
   "cell_type": "code",
   "execution_count": 3,
   "metadata": {},
   "outputs": [
    {
     "data": {
      "text/plain": [
       "[['classoperation Main.MyModel.MyParameter \"Set Value\" --value=\"8\"'],\n",
       " ['classoperation Main.MyModel.MyParameter \"Set Value\" --value=\"8\"']]"
      ]
     },
     "execution_count": 3,
     "metadata": {},
     "output_type": "execute_result"
    }
   ],
   "source": [
    "from anypytools import AnyMacro\n",
    "\n",
    "macrolist = AnyMacro( [ SetValue('Main.MyModel.MyParameter',8)] )\n",
    "\n",
    "macrolist.number_of_macros = 2\n",
    "macrolist"
   ]
  },
  {
   "cell_type": "code",
   "execution_count": 4,
   "metadata": {},
   "outputs": [
    {
     "data": {
      "text/plain": [
       "[['classoperation Main.MyModel.MyParameter \"Set Value\" --value=\"2.2\"'],\n",
       " ['classoperation Main.MyModel.MyParameter \"Set Value\" --value=\"2.5\"'],\n",
       " ['classoperation Main.MyModel.MyParameter \"Set Value\" --value=\"2.7\"'],\n",
       " ['classoperation Main.MyModel.MyParameter \"Set Value\" --value=\"2.9\"'],\n",
       " ['classoperation Main.MyModel.MyParameter \"Set Value\" --value=\"3.1\"']]"
      ]
     },
     "execution_count": 4,
     "metadata": {},
     "output_type": "execute_result"
    }
   ],
   "source": [
    "parameter_list = [2.2, 2.5, 2.7, 2.9, 3.1]\n",
    "\n",
    "macrolist = [ SetValue('Main.MyModel.MyParameter',parameter_list)] \n",
    "\n",
    "AnyMacro(macrolist, number_of_macros=5) "
   ]
  },
  {
   "cell_type": "markdown",
   "metadata": {
    "slideshow": {
     "slide_type": "slide"
    }
   },
   "source": [
    "# A simple parameter study\n",
    "<br>"
   ]
  },
  {
   "cell_type": "markdown",
   "metadata": {
    "slideshow": {
     "slide_type": "subslide"
    }
   },
   "source": [
    "<img src=\"https://github.com/AnyBody-Research-Group/AnyPyTools/blob/master/docs/Tutorial/knee.gif?raw=true\" alt=\"Drawing\" align=\"Right\" \n",
    "width=160 />\n",
    "Combine everything in a parameter study\n",
    "- Vary patella tendon length in toy model (2 cm  to 8 cm)\n",
    "\n",
    "\n",
    "Observe the effect on maximum muscle activity."
   ]
  },
  {
   "cell_type": "code",
   "execution_count": 25,
   "metadata": {},
   "outputs": [],
   "source": [
    "patella_len = [0.02, 0.03, 0.04, 0.05, 0.06, 0.07, 0.08]"
   ]
  },
  {
   "cell_type": "code",
   "execution_count": null,
   "metadata": {
    "slideshow": {
     "slide_type": "subslide"
    }
   },
   "outputs": [],
   "source": [
    "macro = [Load('Knee.any'),\n",
    "         SetValue('Main.MyModel.PatellaLigament.DriverPos', patella_len ),\n",
    "         RunOperation('Main.MyStudy.InverseDynamics'),\n",
    "         Export('Main.MyStudy.Output.Abscissa.t'), \n",
    "         Export('Main.MyModel.PatellaLigament.DriverPos'),\n",
    "         Export('Main.MyStudy.Output.MaxMuscleActivity')]\n",
    "\n",
    "parameter_study_macro = AnyMacro(macro, number_of_macros= 7 )"
   ]
  },
  {
   "cell_type": "code",
   "execution_count": null,
   "metadata": {
    "collapsed": true
   },
   "outputs": [],
   "source": [
    "parameter_study_macro  "
   ]
  },
  {
   "cell_type": "code",
   "execution_count": 27,
   "metadata": {
    "slideshow": {
     "slide_type": "subslide"
    }
   },
   "outputs": [
    {
     "name": "stdout",
     "output_type": "stream",
     "text": [
      "[****************100%******************]  7 of 7 complete"
     ]
    },
    {
     "data": {
      "text/html": [
       "<pre>Total time: 1.7 seconds</pre>"
      ],
      "text/plain": [
       "<IPython.core.display.HTML object>"
      ]
     },
     "metadata": {},
     "output_type": "display_data"
    }
   ],
   "source": [
    "from anypytools import AnyPyProcess\n",
    "app = AnyPyProcess()\n",
    "\n",
    "output = app.start_macro(parameter_study_macro)"
   ]
  },
  {
   "cell_type": "code",
   "execution_count": 28,
   "metadata": {
    "collapsed": true,
    "slideshow": {
     "slide_type": "subslide"
    }
   },
   "outputs": [],
   "source": [
    "%matplotlib inline\n",
    "from matplotlib.pyplot import plot, title, xlabel, legend, ylabel"
   ]
  },
  {
   "cell_type": "code",
   "execution_count": 29,
   "metadata": {
    "slideshow": {
     "slide_type": "-"
    }
   },
   "outputs": [
    {
     "data": {
      "image/png": "[encoded data removed]",
      "text/plain": [
       "<matplotlib.figure.Figure at 0x8410908>"
      ]
     },
     "metadata": {},
     "output_type": "display_data"
    }
   ],
   "source": [
    "for data in output:\n",
    "    maxact = data['Main.MyStudy.Output.MaxMuscleActivity']\n",
    "    time = data['Main.MyStudy.Output.Abscissa.t']\n",
    "    ligament_len = data['Main.MyModel.PatellaLigament.DriverPos'][0]\n",
    "    plot(time, maxact, label = str(100* ligament_len)+' cm' )\n",
    "    \n",
    "title('Effect of changing patella tendon length')    \n",
    "xlabel('Time steps')\n",
    "ylabel('Max muscle activity')\n",
    "legend(bbox_to_anchor=(1.05, 1), loc=2);"
   ]
  },
  {
   "cell_type": "markdown",
   "metadata": {
    "slideshow": {
     "slide_type": "slide"
    }
   },
   "source": [
    "# Batch processing\n",
    "<br>"
   ]
  },
  {
   "cell_type": "markdown",
   "metadata": {
    "slideshow": {
     "slide_type": "subslide"
    }
   },
   "source": [
    "The approach depends on how the AnyBody model is structured.\n",
    "\n",
    " - Setup with a single main file:\n",
    "     - Load -> Modify parameters -> run -> save results\n",
    "     - Every macro is different\n",
    "     \n",
    " - Setup with multiple main files:\n",
    "      - Each main file defines its own parameters\n",
    "      - All macros are the same. Main files in Diffent folders\n",
    "\n"
   ]
  },
  {
   "cell_type": "markdown",
   "metadata": {
    "slideshow": {
     "slide_type": "subslide"
    }
   },
   "source": [
    "![Batch Process model](batch_process_folder.png)\n",
    "\n",
    "<img src=\"batch_process_folder_model.png\" alt=\"Drawing\" align=\"Left\" />\n",
    "<img src=\"batch_process_mainfile.png\" alt=\"Drawing\" align=\"Right\" />"
   ]
  },
  {
   "cell_type": "code",
   "execution_count": null,
   "metadata": {
    "slideshow": {
     "slide_type": "subslide"
    }
   },
   "outputs": [
    {
     "data": {
      "text/plain": [
       "[load \"main.any\", operation Main.Study.InverseDynamics\n",
       " run]"
      ]
     },
     "execution_count": 30,
     "metadata": {},
     "output_type": "execute_result"
    }
   ],
   "source": [
    "from anypytools import AnyPyProcess\n",
    "from anypytools.macro_commands import Load, RunOperation\n",
    "app = AnyPyProcess(num_processes = 3)\n",
    "\n",
    "macro = [Load(\"main.any\"),\n",
    "         RunOperation('Main.Study.InverseDynamics') ]\n",
    "macro    "
   ]
  },
  {
   "cell_type": "code",
   "execution_count": 31,
   "metadata": {},
   "outputs": [
    {
     "name": "stdout",
     "output_type": "stream",
     "text": [
      "[****************100%******************]  9 of 9 complete"
     ]
    },
    {
     "data": {
      "text/html": [
       "<pre>Total time: 2.3 seconds</pre>"
      ],
      "text/plain": [
       "<IPython.core.display.HTML object>"
      ]
     },
     "metadata": {},
     "output_type": "display_data"
    }
   ],
   "source": [
    "app.start_macro(macro, search_subdirs= \"model[1-9].*main.any\" );"
   ]
  },
  {
   "cell_type": "markdown",
   "metadata": {
    "slideshow": {
     "slide_type": "slide"
    }
   },
   "source": [
    "# Other possiblities \n",
    "<br>"
   ]
  },
  {
   "cell_type": "markdown",
   "metadata": {
    "slideshow": {
     "slide_type": "subslide"
    }
   },
   "source": [
    "<img src=\"MonteCarlo.svg\"\n",
    "     style=\"height: 250px; margin: 0px 20px 0px 0px; float: right; border: 2px solid gray;\"/> \n",
    "\n",
    "\n",
    "- Monte Carlo simulations\n",
    "\n",
    "- Latin hypercube sampling\n",
    "\n",
    "- Using external optimizers\n",
    "\n",
    "> Possible topics for a webcast in the fall."
   ]
  },
  {
   "cell_type": "markdown",
   "metadata": {
    "slideshow": {
     "slide_type": "subslide"
    }
   },
   "source": [
    "For now... read the tutorial:\n",
    "\n",
    "## **goo.gl/F6mCHC**\n",
    "\n",
    "<img src=\"https://dl.dropboxusercontent.com/u/1683635/store/tutorial.png\"\n",
    "     style=\"height: 250px; margin: 0px 20px 0px 0px; float: middle; border: 2px solid gray;\"/> "
   ]
  },
  {
   "cell_type": "markdown",
   "metadata": {
    "slideshow": {
     "slide_type": "skip"
    }
   },
   "source": [
    "from scipy.stats.distributions import norm\n",
    "\n",
    "from anypytools import AnyPyProcess, AnyMacro\n",
    "from anypytools.macro_commands import Load, SetValue_random, RunOperation\n",
    "\n",
    "\n",
    "app = AnyPyProcess( )\n",
    "macro = AnyMacro( \n",
    "          Load( \"Knee.any\"),\n",
    "          SetValue_random('Main.MyModel.MyParameter',\n",
    "                         norm(0.1, 0.04)),\n",
    "          RunOperation('Main.MyStudy.InverseDynamics') )\n",
    "   \n",
    "app.start_macro(macro.create_macros_MonteCarlo(1000));"
   ]
  },
  {
   "cell_type": "code",
   "execution_count": null,
   "metadata": {
    "slideshow": {
     "slide_type": "skip"
    }
   },
   "outputs": [],
   "source": [
    "import seaborn as sns\n",
    "sns.set_context('talk')\n",
    "sns.set_style('whitegrid');\n",
    "%matplotlib inline\n",
    "from matplotlib.pyplot import plot, title, xlabel, legend, ylabel"
   ]
  }
 ],
 "metadata": {
  "anaconda-cloud": {},
  "celltoolbar": "Slideshow",
  "kernelspec": {
   "display_name": "Python 3 (ipykernel)",
   "language": "python",
   "name": "python3"
  },
  "language_info": {
   "codemirror_mode": {
    "name": "ipython",
    "version": 3
   },
   "file_extension": ".py",
   "mimetype": "text/x-python",
   "name": "python",
   "nbconvert_exporter": "python",
   "pygments_lexer": "ipython3",
   "version": "3.9.6"
  }
 },
 "nbformat": 4,
 "nbformat_minor": 1
}
