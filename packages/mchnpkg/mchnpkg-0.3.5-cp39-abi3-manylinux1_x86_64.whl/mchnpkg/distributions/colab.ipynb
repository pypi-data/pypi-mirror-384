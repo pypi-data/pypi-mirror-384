{
 "cells": [
  {
   "cell_type": "code",
   "execution_count": 8,
   "id": "37034db4",
   "metadata": {},
   "outputs": [
    {
     "ename": "ModuleNotFoundError",
     "evalue": "No module named 'distributions'",
     "output_type": "error",
     "traceback": [
      "\u001b[31m---------------------------------------------------------------------------\u001b[39m",
      "\u001b[31mModuleNotFoundError\u001b[39m                       Traceback (most recent call last)",
      "\u001b[36mCell\u001b[39m\u001b[36m \u001b[39m\u001b[32mIn[8]\u001b[39m\u001b[32m, line 2\u001b[39m\n\u001b[32m      1\u001b[39m \u001b[38;5;28;01mimport\u001b[39;00m\u001b[38;5;250m \u001b[39m\u001b[34;01mmatplotlib\u001b[39;00m\u001b[34;01m.\u001b[39;00m\u001b[34;01mpyplot\u001b[39;00m\u001b[38;5;250m \u001b[39m\u001b[38;5;28;01mas\u001b[39;00m\u001b[38;5;250m \u001b[39m\u001b[34;01mplt\u001b[39;00m\n\u001b[32m----> \u001b[39m\u001b[32m2\u001b[39m \u001b[38;5;28;01mfrom\u001b[39;00m\u001b[38;5;250m \u001b[39m\u001b[34;01mdistributions\u001b[39;00m\u001b[34;01m.\u001b[39;00m\u001b[34;01mcvdistributions\u001b[39;00m\u001b[38;5;250m \u001b[39m\u001b[38;5;28;01mimport\u001b[39;00m uniform\n\u001b[32m      4\u001b[39m \u001b[38;5;66;03m# Generate 1000 random samples\u001b[39;00m\n\u001b[32m      5\u001b[39m samples_1000 = [uniform() \u001b[38;5;28;01mfor\u001b[39;00m _ \u001b[38;5;129;01min\u001b[39;00m \u001b[38;5;28mrange\u001b[39m(\u001b[32m1000\u001b[39m)]\n",
      "\u001b[31mModuleNotFoundError\u001b[39m: No module named 'distributions'"
     ]
    }
   ],
   "source": [
    "import matplotlib.pyplot as plt\n",
    "from distributions.cvdistributions import uniform\n",
    "\n",
    "# Generate 1000 random samples\n",
    "samples_1000 = [uniform() for _ in range(1000)]\n",
    "print(\"First 10 samples:\", samples_1000[:10])\n",
    "\n",
    "# Generate 100,000 samples and plot histogram\n",
    "samples_100k = [uniform() for _ in range(100000)]\n",
    "\n",
    "plt.hist(samples_100k, bins=50, density=True, alpha=0.7, color='skyblue')\n",
    "plt.title(\"Histogram of 100,000 Cryptographically Secure Uniform Samples\")\n",
    "plt.xlabel(\"Value\")\n",
    "plt.ylabel(\"Density\")\n",
    "plt.grid(True)\n",
    "plt.show()\n"
   ]
  },
  {
   "cell_type": "code",
   "execution_count": 9,
   "id": "cd50b04e",
   "metadata": {},
   "outputs": [],
   "source": [
    "import sys\n",
    "sys.path.append(\"path/to/project_root\")"
   ]
  },
  {
   "cell_type": "code",
   "execution_count": 10,
   "id": "fa338c0e",
   "metadata": {},
   "outputs": [],
   "source": [
    "import sys\n",
    "sys.path.append(\".\")"
   ]
  },
  {
   "cell_type": "code",
   "execution_count": 19,
   "id": "7e38170e",
   "metadata": {},
   "outputs": [
    {
     "name": "stdout",
     "output_type": "stream",
     "text": [
      "['/home/ayr0001/.local/share/uv/python/cpython-3.12.11-linux-x86_64-gnu/lib/python312.zip', '/home/ayr0001/.local/share/uv/python/cpython-3.12.11-linux-x86_64-gnu/lib/python3.12', '/home/ayr0001/.local/share/uv/python/cpython-3.12.11-linux-x86_64-gnu/lib/python3.12/lib-dynload', '', '/home/ayr0001/mchnpkg/.venv/lib/python3.12/site-packages', '/home/ayr0001/mchnpkg/src', 'path/to/project_root', '.']\n"
     ]
    },
    {
     "ename": "ModuleNotFoundError",
     "evalue": "No module named 'distributions'",
     "output_type": "error",
     "traceback": [
      "\u001b[31m---------------------------------------------------------------------------\u001b[39m",
      "\u001b[31mModuleNotFoundError\u001b[39m                       Traceback (most recent call last)",
      "\u001b[36mCell\u001b[39m\u001b[36m \u001b[39m\u001b[32mIn[19]\u001b[39m\u001b[32m, line 4\u001b[39m\n\u001b[32m      1\u001b[39m \u001b[38;5;28;01mimport\u001b[39;00m\u001b[38;5;250m \u001b[39m\u001b[34;01msys\u001b[39;00m\n\u001b[32m      2\u001b[39m \u001b[38;5;28mprint\u001b[39m(sys.path)   \u001b[38;5;66;03m# check if project_root is in the list\u001b[39;00m\n\u001b[32m----> \u001b[39m\u001b[32m4\u001b[39m \u001b[38;5;28;01mfrom\u001b[39;00m\u001b[38;5;250m \u001b[39m\u001b[34;01mdistributions\u001b[39;00m\u001b[34;01m.\u001b[39;00m\u001b[34;01mcvdistributions\u001b[39;00m\u001b[38;5;250m \u001b[39m\u001b[38;5;28;01mimport\u001b[39;00m uniform\n\u001b[32m      5\u001b[39m \u001b[38;5;28mprint\u001b[39m(uniform())\n",
      "\u001b[31mModuleNotFoundError\u001b[39m: No module named 'distributions'"
     ]
    }
   ],
   "source": [
    "import sys\n",
    "print(sys.path)   # check if project_root is in the list\n",
    "\n",
    "from distributions.cvdistributions import uniform\n",
    "print(uniform())"
   ]
  },
  {
   "cell_type": "code",
   "execution_count": 20,
   "id": "f2b3d5f1",
   "metadata": {},
   "outputs": [
    {
     "name": "stdout",
     "output_type": "stream",
     "text": [
      "Project root: /home/ayr0001/mchnpkg/src/mchnpkg/distributions\n"
     ]
    }
   ],
   "source": [
    "import sys\n",
    "import os\n",
    "\n",
    "# Add project root (the folder where \"distributions/\" lives) to sys.path\n",
    "project_root = os.path.abspath(\".\")\n",
    "print(\"Project root:\", project_root)\n",
    "sys.path.append(project_root)"
   ]
  },
  {
   "cell_type": "code",
   "execution_count": 21,
   "id": "0168cf12",
   "metadata": {},
   "outputs": [
    {
     "ename": "ModuleNotFoundError",
     "evalue": "No module named 'distributions'",
     "output_type": "error",
     "traceback": [
      "\u001b[31m---------------------------------------------------------------------------\u001b[39m",
      "\u001b[31mModuleNotFoundError\u001b[39m                       Traceback (most recent call last)",
      "\u001b[36mCell\u001b[39m\u001b[36m \u001b[39m\u001b[32mIn[21]\u001b[39m\u001b[32m, line 1\u001b[39m\n\u001b[32m----> \u001b[39m\u001b[32m1\u001b[39m \u001b[38;5;28;01mfrom\u001b[39;00m\u001b[38;5;250m \u001b[39m\u001b[34;01mdistributions\u001b[39;00m\u001b[34;01m.\u001b[39;00m\u001b[34;01mcvdistributions\u001b[39;00m\u001b[38;5;250m \u001b[39m\u001b[38;5;28;01mimport\u001b[39;00m uniform\n\u001b[32m      3\u001b[39m \u001b[38;5;28mprint\u001b[39m(uniform())\n",
      "\u001b[31mModuleNotFoundError\u001b[39m: No module named 'distributions'"
     ]
    }
   ],
   "source": [
    "from distributions.cvdistributions import uniform\n",
    "\n",
    "print(uniform())"
   ]
  },
  {
   "cell_type": "code",
   "execution_count": null,
   "id": "988d49b2",
   "metadata": {},
   "outputs": [],
   "source": []
  }
 ],
 "metadata": {
  "kernelspec": {
   "display_name": "mchnpkg",
   "language": "python",
   "name": "python3"
  },
  "language_info": {
   "codemirror_mode": {
    "name": "ipython",
    "version": 3
   },
   "file_extension": ".py",
   "mimetype": "text/x-python",
   "name": "python",
   "nbconvert_exporter": "python",
   "pygments_lexer": "ipython3",
   "version": "3.12.11"
  }
 },
 "nbformat": 4,
 "nbformat_minor": 5
}
