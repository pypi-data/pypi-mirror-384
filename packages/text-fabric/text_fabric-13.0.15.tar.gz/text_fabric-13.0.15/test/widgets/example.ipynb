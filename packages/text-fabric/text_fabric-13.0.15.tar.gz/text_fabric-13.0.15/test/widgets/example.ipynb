{
 "cells": [
  {
   "cell_type": "markdown",
   "id": "513a128f-b99a-42b2-8ccc-8ba77ba13450",
   "metadata": {
    "jp-MarkdownHeadingCollapsed": true,
    "tags": []
   },
   "source": [
    "# Pretty display with editable fields\n",
    "\n",
    "## Mockup\n",
    "\n",
    "We mock up a pretty display with editable fields: Genesis 1:1 in phonological transcription"
   ]
  },
  {
   "cell_type": "markdown",
   "id": "46c93b24-6d7f-4390-ae65-1a8793b3df18",
   "metadata": {
    "tags": []
   },
   "source": [
    "# Load the BHSA\n",
    "\n",
    "We load the BHSA and display the example in question."
   ]
  },
  {
   "cell_type": "code",
   "execution_count": 1,
   "id": "0e328851-cd10-42d4-80d9-d5d9999f9abd",
   "metadata": {},
   "outputs": [],
   "source": [
    "%load_ext autoreload\n",
    "%autoreload 2"
   ]
  },
  {
   "cell_type": "code",
   "execution_count": 2,
   "id": "56ab1abe-2cf5-4524-83c8-b58fb4850b83",
   "metadata": {},
   "outputs": [],
   "source": [
    "# pip3 install beautifulsoup4\n",
    "\n",
    "from bs4 import BeautifulSoup as bs\n",
    "\n",
    "from tf.app import use\n",
    "from tf.advanced.helpers import dh"
   ]
  },
  {
   "cell_type": "code",
   "execution_count": 3,
   "id": "d2b40487-0716-4d61-8ad7-0d0ea14254a9",
   "metadata": {},
   "outputs": [
    {
     "data": {
      "text/html": [
       "<b title=\"local release\">TF-app:</b> <span title=\"rv2.4.0=#571428c995d309c43ff592f885a5ebb42a87be6f offline under ~/text-fabric-data\">~/text-fabric-data/annotation/app-bhsa/code</span>"
      ],
      "text/plain": [
       "<IPython.core.display.HTML object>"
      ]
     },
     "metadata": {},
     "output_type": "display_data"
    },
    {
     "data": {
      "text/html": [
       "<b title=\"local release\">data:</b> <span title=\"rv1.7=#69f339de4eb38151e01ab56bc8cd85eca0bf78ba offline under ~/text-fabric-data\">~/text-fabric-data/etcbc/bhsa/tf/2021</span>"
      ],
      "text/plain": [
       "<IPython.core.display.HTML object>"
      ]
     },
     "metadata": {},
     "output_type": "display_data"
    },
    {
     "data": {
      "text/html": [
       "<b title=\"local release\">data:</b> <span title=\"rv2.0=#d74f7b52866927c316dfcaa2ac89eb51ea59c5dc offline under ~/text-fabric-data\">~/text-fabric-data/etcbc/phono/tf/2021</span>"
      ],
      "text/plain": [
       "<IPython.core.display.HTML object>"
      ]
     },
     "metadata": {},
     "output_type": "display_data"
    },
    {
     "data": {
      "text/html": [
       "<b title=\"local release\">data:</b> <span title=\"rv2.0=#2fb9e94de8ffc07e9e515e3efa36e502f95bdcea offline under ~/text-fabric-data\">~/text-fabric-data/etcbc/parallels/tf/2021</span>"
      ],
      "text/plain": [
       "<IPython.core.display.HTML object>"
      ]
     },
     "metadata": {},
     "output_type": "display_data"
    },
    {
     "name": "stdout",
     "output_type": "stream",
     "text": [
      "This is Text-Fabric 9.0.4\n",
      "Api reference : https://annotation.github.io/text-fabric/tf/cheatsheet.html\n",
      "\n",
      "121 features found and 0 ignored\n"
     ]
    },
    {
     "data": {
      "text/html": [
       "<b>Text-Fabric:</b> <a target=\"_blank\" href=\"https://annotation.github.io/text-fabric/tf/cheatsheet.html\" title=\"text-fabric-api\">Text-Fabric API 9.0.4</a>, <a target=\"_blank\" href=\"https://github.com/annotation/app-bhsa\" title=\"bhsa TF-app\">app-bhsa v3</a>, <a target=\"_blank\" href=\"https://annotation.github.io/text-fabric/tf/about/searchusage.html\" title=\"Search Templates Introduction and Reference\">Search Reference</a><br><b>Data:</b> <a target=\"_blank\" href=\"https://etcbc.github.io/bhsa/0_home\" title=\"provenance of BHSA = Biblia Hebraica Stuttgartensia Amstelodamensis\">BHSA</a>, <a target=\"_blank\" href=\"https://annotation.github.io/text-fabric/tf/writing/hebrew.html\" title=\"How TF features represent text\">Character table</a>, <a target=\"_blank\" href=\"https://etcbc.github.io/bhsa/features/0_home\" title=\"BHSA feature documentation\">Feature docs</a><br><b>Features:</b><br><details><summary><b>Parallel Passages</b></summary><b><i><a target=\"_blank\" href=\"https://nbviewer.jupyter.org/github/etcbc/parallels/blob/master/programs/parallels.ipynb\" title=\"~/text-fabric-data/etcbc/parallels/tf/2021/crossref.tf\">crossref</a></i></b><br></details><details><summary><b>BHSA = Biblia Hebraica Stuttgartensia Amstelodamensis</b></summary><a target=\"_blank\" href=\"https://etcbc.github.io/bhsa/features/book\" title=\"~/text-fabric-data/etcbc/bhsa/tf/2021/book.tf\">book</a><br><a target=\"_blank\" href=\"https://etcbc.github.io/bhsa/features/book@ll\" title=\"~/text-fabric-data/etcbc/bhsa/tf/2021/book@am.tf\">book@ll</a><br><a target=\"_blank\" href=\"https://etcbc.github.io/bhsa/features/chapter\" title=\"~/text-fabric-data/etcbc/bhsa/tf/2021/chapter.tf\">chapter</a><br><a target=\"_blank\" href=\"https://etcbc.github.io/bhsa/features/code\" title=\"~/text-fabric-data/etcbc/bhsa/tf/2021/code.tf\">code</a><br><a target=\"_blank\" href=\"https://etcbc.github.io/bhsa/features/det\" title=\"~/text-fabric-data/etcbc/bhsa/tf/2021/det.tf\">det</a><br><a target=\"_blank\" href=\"https://etcbc.github.io/bhsa/features/domain\" title=\"~/text-fabric-data/etcbc/bhsa/tf/2021/domain.tf\">domain</a><br><a target=\"_blank\" href=\"https://etcbc.github.io/bhsa/features/freq_lex\" title=\"~/text-fabric-data/etcbc/bhsa/tf/2021/freq_lex.tf\">freq_lex</a><br><a target=\"_blank\" href=\"https://etcbc.github.io/bhsa/features/function\" title=\"~/text-fabric-data/etcbc/bhsa/tf/2021/function.tf\">function</a><br><a target=\"_blank\" href=\"https://etcbc.github.io/bhsa/features/g_cons\" title=\"~/text-fabric-data/etcbc/bhsa/tf/2021/g_cons.tf\">g_cons</a><br><a target=\"_blank\" href=\"https://etcbc.github.io/bhsa/features/g_cons_utf8\" title=\"~/text-fabric-data/etcbc/bhsa/tf/2021/g_cons_utf8.tf\">g_cons_utf8</a><br><a target=\"_blank\" href=\"https://etcbc.github.io/bhsa/features/g_lex\" title=\"~/text-fabric-data/etcbc/bhsa/tf/2021/g_lex.tf\">g_lex</a><br><a target=\"_blank\" href=\"https://etcbc.github.io/bhsa/features/g_lex_utf8\" title=\"~/text-fabric-data/etcbc/bhsa/tf/2021/g_lex_utf8.tf\">g_lex_utf8</a><br><a target=\"_blank\" href=\"https://etcbc.github.io/bhsa/features/g_word\" title=\"~/text-fabric-data/etcbc/bhsa/tf/2021/g_word.tf\">g_word</a><br><a target=\"_blank\" href=\"https://etcbc.github.io/bhsa/features/g_word_utf8\" title=\"~/text-fabric-data/etcbc/bhsa/tf/2021/g_word_utf8.tf\">g_word_utf8</a><br><a target=\"_blank\" href=\"https://etcbc.github.io/bhsa/features/gloss\" title=\"~/text-fabric-data/etcbc/bhsa/tf/2021/gloss.tf\">gloss</a><br><a target=\"_blank\" href=\"https://etcbc.github.io/bhsa/features/gn\" title=\"~/text-fabric-data/etcbc/bhsa/tf/2021/gn.tf\">gn</a><br><a target=\"_blank\" href=\"https://etcbc.github.io/bhsa/features/label\" title=\"~/text-fabric-data/etcbc/bhsa/tf/2021/label.tf\">label</a><br><a target=\"_blank\" href=\"https://etcbc.github.io/bhsa/features/language\" title=\"~/text-fabric-data/etcbc/bhsa/tf/2021/language.tf\">language</a><br><a target=\"_blank\" href=\"https://etcbc.github.io/bhsa/features/lex\" title=\"~/text-fabric-data/etcbc/bhsa/tf/2021/lex.tf\">lex</a><br><a target=\"_blank\" href=\"https://etcbc.github.io/bhsa/features/lex_utf8\" title=\"~/text-fabric-data/etcbc/bhsa/tf/2021/lex_utf8.tf\">lex_utf8</a><br><a target=\"_blank\" href=\"https://etcbc.github.io/bhsa/features/ls\" title=\"~/text-fabric-data/etcbc/bhsa/tf/2021/ls.tf\">ls</a><br><a target=\"_blank\" href=\"https://etcbc.github.io/bhsa/features/nametype\" title=\"~/text-fabric-data/etcbc/bhsa/tf/2021/nametype.tf\">nametype</a><br><a target=\"_blank\" href=\"https://etcbc.github.io/bhsa/features/nme\" title=\"~/text-fabric-data/etcbc/bhsa/tf/2021/nme.tf\">nme</a><br><a target=\"_blank\" href=\"https://etcbc.github.io/bhsa/features/nu\" title=\"~/text-fabric-data/etcbc/bhsa/tf/2021/nu.tf\">nu</a><br><a target=\"_blank\" href=\"https://etcbc.github.io/bhsa/features/number\" title=\"~/text-fabric-data/etcbc/bhsa/tf/2021/number.tf\">number</a><br><a target=\"_blank\" href=\"https://etcbc.github.io/bhsa/features/otype\" title=\"~/text-fabric-data/etcbc/bhsa/tf/2021/otype.tf\">otype</a><br><a target=\"_blank\" href=\"https://etcbc.github.io/bhsa/features/pargr\" title=\"~/text-fabric-data/etcbc/bhsa/tf/2021/pargr.tf\">pargr</a><br><a target=\"_blank\" href=\"https://etcbc.github.io/bhsa/features/pdp\" title=\"~/text-fabric-data/etcbc/bhsa/tf/2021/pdp.tf\">pdp</a><br><a target=\"_blank\" href=\"https://etcbc.github.io/bhsa/features/pfm\" title=\"~/text-fabric-data/etcbc/bhsa/tf/2021/pfm.tf\">pfm</a><br><a target=\"_blank\" href=\"https://etcbc.github.io/bhsa/features/prs\" title=\"~/text-fabric-data/etcbc/bhsa/tf/2021/prs.tf\">prs</a><br><a target=\"_blank\" href=\"https://etcbc.github.io/bhsa/features/prs_gn\" title=\"~/text-fabric-data/etcbc/bhsa/tf/2021/prs_gn.tf\">prs_gn</a><br><a target=\"_blank\" href=\"https://etcbc.github.io/bhsa/features/prs_nu\" title=\"~/text-fabric-data/etcbc/bhsa/tf/2021/prs_nu.tf\">prs_nu</a><br><a target=\"_blank\" href=\"https://etcbc.github.io/bhsa/features/prs_ps\" title=\"~/text-fabric-data/etcbc/bhsa/tf/2021/prs_ps.tf\">prs_ps</a><br><a target=\"_blank\" href=\"https://etcbc.github.io/bhsa/features/ps\" title=\"~/text-fabric-data/etcbc/bhsa/tf/2021/ps.tf\">ps</a><br><a target=\"_blank\" href=\"https://etcbc.github.io/bhsa/features/qere\" title=\"~/text-fabric-data/etcbc/bhsa/tf/2021/qere.tf\">qere</a><br><a target=\"_blank\" href=\"https://etcbc.github.io/bhsa/features/qere_trailer\" title=\"~/text-fabric-data/etcbc/bhsa/tf/2021/qere_trailer.tf\">qere_trailer</a><br><a target=\"_blank\" href=\"https://etcbc.github.io/bhsa/features/qere_trailer_utf8\" title=\"~/text-fabric-data/etcbc/bhsa/tf/2021/qere_trailer_utf8.tf\">qere_trailer_utf8</a><br><a target=\"_blank\" href=\"https://etcbc.github.io/bhsa/features/qere_utf8\" title=\"~/text-fabric-data/etcbc/bhsa/tf/2021/qere_utf8.tf\">qere_utf8</a><br><a target=\"_blank\" href=\"https://etcbc.github.io/bhsa/features/rank_lex\" title=\"~/text-fabric-data/etcbc/bhsa/tf/2021/rank_lex.tf\">rank_lex</a><br><a target=\"_blank\" href=\"https://etcbc.github.io/bhsa/features/rela\" title=\"~/text-fabric-data/etcbc/bhsa/tf/2021/rela.tf\">rela</a><br><a target=\"_blank\" href=\"https://etcbc.github.io/bhsa/features/sp\" title=\"~/text-fabric-data/etcbc/bhsa/tf/2021/sp.tf\">sp</a><br><a target=\"_blank\" href=\"https://etcbc.github.io/bhsa/features/st\" title=\"~/text-fabric-data/etcbc/bhsa/tf/2021/st.tf\">st</a><br><a target=\"_blank\" href=\"https://etcbc.github.io/bhsa/features/tab\" title=\"~/text-fabric-data/etcbc/bhsa/tf/2021/tab.tf\">tab</a><br><a target=\"_blank\" href=\"https://etcbc.github.io/bhsa/features/trailer\" title=\"~/text-fabric-data/etcbc/bhsa/tf/2021/trailer.tf\">trailer</a><br><a target=\"_blank\" href=\"https://etcbc.github.io/bhsa/features/trailer_utf8\" title=\"~/text-fabric-data/etcbc/bhsa/tf/2021/trailer_utf8.tf\">trailer_utf8</a><br><a target=\"_blank\" href=\"https://etcbc.github.io/bhsa/features/txt\" title=\"~/text-fabric-data/etcbc/bhsa/tf/2021/txt.tf\">txt</a><br><a target=\"_blank\" href=\"https://etcbc.github.io/bhsa/features/typ\" title=\"~/text-fabric-data/etcbc/bhsa/tf/2021/typ.tf\">typ</a><br><a target=\"_blank\" href=\"https://etcbc.github.io/bhsa/features/uvf\" title=\"~/text-fabric-data/etcbc/bhsa/tf/2021/uvf.tf\">uvf</a><br><a target=\"_blank\" href=\"https://etcbc.github.io/bhsa/features/vbe\" title=\"~/text-fabric-data/etcbc/bhsa/tf/2021/vbe.tf\">vbe</a><br><a target=\"_blank\" href=\"https://etcbc.github.io/bhsa/features/vbs\" title=\"~/text-fabric-data/etcbc/bhsa/tf/2021/vbs.tf\">vbs</a><br><a target=\"_blank\" href=\"https://etcbc.github.io/bhsa/features/verse\" title=\"~/text-fabric-data/etcbc/bhsa/tf/2021/verse.tf\">verse</a><br><a target=\"_blank\" href=\"https://etcbc.github.io/bhsa/features/voc_lex\" title=\"~/text-fabric-data/etcbc/bhsa/tf/2021/voc_lex.tf\">voc_lex</a><br><a target=\"_blank\" href=\"https://etcbc.github.io/bhsa/features/voc_lex_utf8\" title=\"~/text-fabric-data/etcbc/bhsa/tf/2021/voc_lex_utf8.tf\">voc_lex_utf8</a><br><a target=\"_blank\" href=\"https://etcbc.github.io/bhsa/features/vs\" title=\"~/text-fabric-data/etcbc/bhsa/tf/2021/vs.tf\">vs</a><br><a target=\"_blank\" href=\"https://etcbc.github.io/bhsa/features/vt\" title=\"~/text-fabric-data/etcbc/bhsa/tf/2021/vt.tf\">vt</a><br><b><i><a target=\"_blank\" href=\"https://etcbc.github.io/bhsa/features/mother\" title=\"~/text-fabric-data/etcbc/bhsa/tf/2021/mother.tf\">mother</a></i></b><br><b><i><a target=\"_blank\" href=\"https://etcbc.github.io/bhsa/features/omap@ll\" title=\"~/text-fabric-data/etcbc/bhsa/tf/2021/omap@2017-2021.tf\">omap@ll</a></i></b><br><b><i><a target=\"_blank\" href=\"https://etcbc.github.io/bhsa/features/oslots\" title=\"~/text-fabric-data/etcbc/bhsa/tf/2021/oslots.tf\">oslots</a></i></b><br></details><details><summary><b>Phonetic Transcriptions</b></summary><a target=\"_blank\" href=\"https://nbviewer.jupyter.org/github/etcbc/phono/blob/master/programs/phono.ipynb\" title=\"~/text-fabric-data/etcbc/phono/tf/2021/phono.tf\">phono</a><br><a target=\"_blank\" href=\"https://nbviewer.jupyter.org/github/etcbc/phono/blob/master/programs/phono.ipynb\" title=\"~/text-fabric-data/etcbc/phono/tf/2021/phono_trailer.tf\">phono_trailer</a><br></details>"
      ],
      "text/plain": [
       "<IPython.core.display.HTML object>"
      ]
     },
     "metadata": {},
     "output_type": "display_data"
    },
    {
     "data": {
      "text/html": [
       "<style>tr.tf.ltr, td.tf.ltr, th.tf.ltr { text-align: left ! important;}\n",
       "tr.tf.rtl, td.tf.rtl, th.tf.rtl { text-align: right ! important;}\n",
       "@font-face {\n",
       "  font-family: \"Gentium Plus\";\n",
       "  src: local('Gentium Plus'), local('GentiumPlus'),\n",
       "    url('/server/static/fonts/GentiumPlus-R.woff') format('woff'),\n",
       "    url('https://github.com/annotation/text-fabric/blob/master/tf/server/static/fonts/GentiumPlus-R.woff?raw=true') format('woff');\n",
       "}\n",
       "\n",
       "@font-face {\n",
       "  font-family: \"Ezra SIL\";\n",
       "  src: local('Ezra SIL'), local('EzraSIL'),\n",
       "    url('/server/static/fonts/SILEOT.woff') format('woff'),\n",
       "    url('https://github.com/annotation/text-fabric/blob/master/tf/server/static/fonts/SILEOT.woff?raw=true') format('woff');\n",
       "}\n",
       "\n",
       "@font-face {\n",
       "  font-family: \"SBL Hebrew\";\n",
       "  src: local('SBL Hebrew'), local('SBLHebrew'),\n",
       "    url('/server/static/fonts/SBL_Hbrw.woff') format('woff'),\n",
       "    url('https://github.com/annotation/text-fabric/blob/master/tf/server/static/fonts/SBL_Hbrw.woff?raw=true') format('woff');\n",
       "}\n",
       "\n",
       "@font-face {\n",
       "  font-family: \"Estrangelo Edessa\";\n",
       "  src: local('Estrangelo Edessa'), local('EstrangeloEdessa');\n",
       "    url('/server/static/fonts/SyrCOMEdessa.woff') format('woff'),\n",
       "    url('https://github.com/annotation/text-fabric/blob/master/tf/server/static/fonts/SyrCOMEdessa.woff?raw=true') format('woff');\n",
       "}\n",
       "\n",
       "@font-face {\n",
       "  font-family: AmiriQuran;\n",
       "  font-style: normal;\n",
       "  font-weight: 400;\n",
       "  src: local('Amiri Quran'), local('AmiriQuran'),\n",
       "    url('/server/static/fonts/AmiriQuran.woff') format('woff'),\n",
       "    url('https://github.com/annotation/text-fabric/blob/master/tf/server/static/fonts/AmiriQuran.woff?raw=true') format('woff');\n",
       "}\n",
       "\n",
       "@font-face {\n",
       "  font-family: AmiriQuranColored;\n",
       "  font-style: normal;\n",
       "  font-weight: 400;\n",
       "  src: local('Amiri Quran Colored'), local('AmiriQuranColored'),\n",
       "    url('/server/static/fonts/AmiriQuranColored.woff') format('woff'),\n",
       "    url('https://github.com/annotation/text-fabric/blob/master/tf/server/static/fonts/AmiriQuranColored.woff?raw=true') format('woff');\n",
       "}\n",
       "\n",
       "@font-face {\n",
       "  font-family: \"Santakku\";\n",
       "  src: local('Santakku'),\n",
       "    url('/server/static/fonts/Santakku.woff') format('woff'),\n",
       "    url('https://github.com/annotation/text-fabric/blob/master/tf/server/static/fonts/Santakku.woff?raw=true') format('woff');\n",
       "}\n",
       "\n",
       "@font-face {\n",
       "  font-family: \"SantakkuM\";\n",
       "  src: local('SantakkuM'),\n",
       "    url('/server/static/fonts/SantakkuM.woff') format('woff'),\n",
       "    url('https://github.com/annotation/text-fabric/blob/master/tf/server/static/fonts/SantakkuM.woff?raw=true') format('woff');\n",
       "}\n",
       "/* bypassing some classical notebook settings */\n",
       "div#notebook {\n",
       "  line-height: unset;\n",
       "}\n",
       "/* neutral text */\n",
       ".txtn,.txtn a:visited,.txtn a:link {\n",
       "    font-family: sans-serif;\n",
       "    font-size: medium;\n",
       "    direction: ltr;\n",
       "    unicode-bidi: embed;\n",
       "    text-decoration: none;\n",
       "    color: var(--text-color);\n",
       "}\n",
       "/* transcription text */\n",
       ".txtt,.txtt a:visited,.txtt a:link {\n",
       "    font-family: monospace;\n",
       "    font-size: medium;\n",
       "    direction: ltr;\n",
       "    unicode-bidi: embed;\n",
       "    text-decoration: none;\n",
       "    color: var(--text-color);\n",
       "}\n",
       "/* source text */\n",
       ".txto,.txto a:visited,.txto a:link {\n",
       "    font-family: serif;\n",
       "    font-size: medium;\n",
       "    direction: ltr;\n",
       "    unicode-bidi: embed;\n",
       "    text-decoration: none;\n",
       "    color: var(--text-color);\n",
       "}\n",
       "/* phonetic text */\n",
       ".txtp,.txtp a:visited,.txtp a:link {\n",
       "    font-family: Gentium, sans-serif;\n",
       "    font-size: medium;\n",
       "    direction: ltr;\n",
       "    unicode-bidi: embed;\n",
       "    text-decoration: none;\n",
       "    color: var(--text-color);\n",
       "}\n",
       "/* original script text */\n",
       ".txtu,.txtu a:visited,.txtu a:link {\n",
       "    font-family: Gentium, sans-serif;\n",
       "    font-size: medium;\n",
       "    text-decoration: none;\n",
       "    color: var(--text-color);\n",
       "}\n",
       "/* hebrew */\n",
       ".txtu.hbo,.lex.hbo {\n",
       "    font-family: \"Ezra SIL\", \"SBL Hebrew\", sans-serif;\n",
       "    font-size: large;\n",
       "    direction: rtl ! important;\n",
       "    unicode-bidi: embed;\n",
       "}\n",
       "/* syriac */\n",
       ".txtu.syc,.lex.syc {\n",
       "    font-family: \"Estrangelo Edessa\", sans-serif;\n",
       "    font-size: medium;\n",
       "    direction: rtl ! important;\n",
       "    unicode-bidi: embed;\n",
       "}\n",
       "/* neo aramaic */\n",
       ".txtu.cld,.lex.cld {\n",
       "    font-family: \"CharisSIL-R\", sans-serif;\n",
       "    font-size: medium;\n",
       "    direction: ltr ! important;\n",
       "    unicode-bidi: embed;\n",
       "}\n",
       "/* standard arabic */\n",
       ".txtu.ara,.lex.ara {\n",
       "    font-family: \"AmiriQuran\", sans-serif;\n",
       "    font-size: large;\n",
       "    direction: rtl ! important;\n",
       "    unicode-bidi: embed;\n",
       "}\n",
       "/* cuneiform */\n",
       ".txtu.akk,.lex.akk {\n",
       "    font-family: Santakku, sans-serif;\n",
       "    font-size: large;\n",
       "    direction: ltr ! important;\n",
       "    unicode-bidi: embed;\n",
       "}\n",
       "/* greek */\n",
       ".txtu.grc,.lex.grc a:link {\n",
       "    font-family: Gentium, sans-serif;\n",
       "    font-size: medium;\n",
       "    direction: ltr ! important;\n",
       "    unicode-bidi: embed;\n",
       "}\n",
       "a:hover {\n",
       "    text-decoration: underline | important;\n",
       "    color: #0000ff | important;\n",
       "}\n",
       ".ltr {\n",
       "    direction: ltr ! important;\n",
       "    unicode-bidi: embed;\n",
       "}\n",
       ".rtl {\n",
       "    direction: rtl ! important;\n",
       "    unicode-bidi: embed;\n",
       "}\n",
       ".ubd {\n",
       "    unicode-bidi: embed;\n",
       "}\n",
       ".col {\n",
       "   display: inline-block;\n",
       "}\n",
       ".features {\n",
       "    font-family: monospace;\n",
       "    font-size: medium;\n",
       "    font-weight: bold;\n",
       "    color: var(--features);\n",
       "    display: flex;\n",
       "    flex-flow: column nowrap;\n",
       "    justify-content: flex-start;\n",
       "    align-items: flex-start;\n",
       "    align-content: flex-start;\n",
       "    padding: 2px;\n",
       "    margin: 2px;\n",
       "    direction: ltr;\n",
       "    unicode-bidi: embed;\n",
       "    border: var(--meta-width) solid var(--meta-color);\n",
       "    border-radius: var(--meta-width);\n",
       "}\n",
       ".features div,.features span {\n",
       "    padding: 0;\n",
       "    margin: -2px 0;\n",
       "}\n",
       ".features .f {\n",
       "    font-family: sans-serif;\n",
       "    font-size: small;\n",
       "    font-weight: normal;\n",
       "    color: #5555bb;\n",
       "}\n",
       ".features .xft {\n",
       "  color: #000000;\n",
       "  background-color: #eeeeee;\n",
       "  font-size: medium;\n",
       "  margin: 2px 0px;\n",
       "}\n",
       ".features .xft .f {\n",
       "  color: #000000;\n",
       "  background-color: #eeeeee;\n",
       "  font-size: small;\n",
       "  font-weight: normal;\n",
       "}\n",
       ".tfsechead {\n",
       "    font-family: sans-serif;\n",
       "    font-size: small;\n",
       "    font-weight: bold;\n",
       "    color: var(--tfsechead);\n",
       "    unicode-bidi: embed;\n",
       "    text-align: start;\n",
       "}\n",
       ".structure {\n",
       "    font-family: sans-serif;\n",
       "    font-size: small;\n",
       "    font-weight: bold;\n",
       "    color: var(--structure);\n",
       "    unicode-bidi: embed;\n",
       "    text-align: start;\n",
       "}\n",
       ".comments {\n",
       "    display: flex;\n",
       "    justify-content: flex-start;\n",
       "    align-items: flex-start;\n",
       "    align-content: flex-start;\n",
       "    flex-flow: column nowrap;\n",
       "}\n",
       ".nd, a:link.nd {\n",
       "    font-family: sans-serif;\n",
       "    font-size: small;\n",
       "    color: var(--node);\n",
       "    vertical-align: super;\n",
       "    direction: ltr ! important;\n",
       "    unicode-bidi: embed;\n",
       "}\n",
       ".lex {\n",
       "  color: var(--lex-color);;\n",
       "}\n",
       ".children,.children.ltr {\n",
       "    display: flex;\n",
       "    border: 0;\n",
       "    background-color: #ffffff;\n",
       "    justify-content: flex-start;\n",
       "    align-items: flex-start;\n",
       "    align-content: flex-start;\n",
       "}\n",
       ".children.stretch {\n",
       "    align-items: stretch;\n",
       "}\n",
       ".children.hor {\n",
       "    flex-flow: row nowrap;\n",
       "}\n",
       ".children.hor.wrap {\n",
       "    flex-flow: row wrap;\n",
       "}\n",
       ".children.ver {\n",
       "    flex-flow: column nowrap;\n",
       "}\n",
       ".children.ver.wrap {\n",
       "    flex-flow: column wrap;\n",
       "}\n",
       ".contnr {\n",
       "    width: fit-content;\n",
       "    display: flex;\n",
       "    justify-content: flex-start;\n",
       "    align-items: flex-start;\n",
       "    align-content: flex-start;\n",
       "    flex-flow: column nowrap;\n",
       "    background: #ffffff none repeat scroll 0 0;\n",
       "    padding:  10px 2px 2px 2px;\n",
       "    margin: 16px 2px 2px 2px;\n",
       "    border-style: solid;\n",
       "    font-size: small;\n",
       "}\n",
       ".contnr.trm {\n",
       "    background-attachment: local;\n",
       "}\n",
       ".contnr.cnul {\n",
       "    padding:  0;\n",
       "    margin: 0;\n",
       "    border-style: solid;\n",
       "    font-size: xx-small;\n",
       "}\n",
       ".contnr.cnul,.lbl.cnul {\n",
       "    border-color: var(--border-color-nul);\n",
       "    border-width: var(--border-width-nul);\n",
       "    border-radius: var(--border-width-nul);\n",
       "}\n",
       ".contnr.c0,.lbl.c0 {\n",
       "    border-color: var(--border-color0);\n",
       "    border-width: var(--border-width0);\n",
       "    border-radius: var(--border-width0);\n",
       "}\n",
       ".contnr.c1,.lbl.c1 {\n",
       "    border-color: var(--border-color1);\n",
       "    border-width: var(--border-width1);\n",
       "    border-radius: var(--border-width1);\n",
       "}\n",
       ".contnr.c2,.lbl.c2 {\n",
       "    border-color: var(--border-color2);\n",
       "    border-width: var(--border-width2);\n",
       "    border-radius: var(--border-width2);\n",
       "}\n",
       ".contnr.c3,.lbl.c3 {\n",
       "    border-color: var(--border-color3);\n",
       "    border-width: var(--border-width3);\n",
       "    border-radius: var(--border-width3);\n",
       "}\n",
       ".contnr.c4,.lbl.c4 {\n",
       "    border-color: var(--border-color4);\n",
       "    border-width: var(--border-width4);\n",
       "    border-radius: var(--border-width4);\n",
       "}\n",
       "span.plain {\n",
       "    display: inline-block;\n",
       "    white-space: pre-wrap;\n",
       "}\n",
       ".plain {\n",
       "    background-color: #ffffff;\n",
       "}\n",
       ".plain.l,.contnr.l,.contnr.l>.lbl {\n",
       "    border-left-style: dotted\n",
       "}\n",
       ".plain.r,.contnr.r,.contnr.r>.lbl {\n",
       "    border-right-style: dotted\n",
       "}\n",
       ".plain.lno,.contnr.lno,.contnr.lno>.lbl {\n",
       "    border-left-style: none\n",
       "}\n",
       ".plain.rno,.contnr.rno,.contnr.rno>.lbl {\n",
       "    border-right-style: none\n",
       "}\n",
       ".plain.l {\n",
       "    padding-left: 4px;\n",
       "    margin-left: 2px;\n",
       "    border-width: var(--border-width-plain);\n",
       "}\n",
       ".plain.r {\n",
       "    padding-right: 4px;\n",
       "    margin-right: 2px;\n",
       "    border-width: var(--border-width-plain);\n",
       "}\n",
       ".lbl {\n",
       "    font-family: monospace;\n",
       "    margin-top: -24px;\n",
       "    margin-left: 20px;\n",
       "    background: #ffffff none repeat scroll 0 0;\n",
       "    padding: 0 6px;\n",
       "    border-style: solid;\n",
       "    display: block;\n",
       "    color: var(--label)\n",
       "}\n",
       ".lbl.trm {\n",
       "    background-attachment: local;\n",
       "    margin-top: 2px;\n",
       "    margin-left: 2px;\n",
       "    padding: 2px 2px;\n",
       "    border-style: none;\n",
       "}\n",
       ".lbl.cnul {\n",
       "    font-size: xx-small;\n",
       "}\n",
       ".lbl.c0 {\n",
       "    font-size: small;\n",
       "}\n",
       ".lbl.c1 {\n",
       "    font-size: small;\n",
       "}\n",
       ".lbl.c2 {\n",
       "    font-size: medium;\n",
       "}\n",
       ".lbl.c3 {\n",
       "    font-size: medium;\n",
       "}\n",
       ".lbl.c4 {\n",
       "    font-size: large;\n",
       "}\n",
       ".occs, a:link.occs {\n",
       "    font-size: small;\n",
       "}\n",
       "\n",
       "/* PROVENANCE */\n",
       "\n",
       "div.prov {\n",
       "\tmargin: 40px;\n",
       "\tpadding: 20px;\n",
       "\tborder: 2px solid var(--fog-rim);\n",
       "}\n",
       "div.pline {\n",
       "\tdisplay: flex;\n",
       "\tflex-flow: row nowrap;\n",
       "\tjustify-content: stretch;\n",
       "\talign-items: baseline;\n",
       "}\n",
       "div.p2line {\n",
       "\tmargin-left: 2em;\n",
       "\tdisplay: flex;\n",
       "\tflex-flow: row nowrap;\n",
       "\tjustify-content: stretch;\n",
       "\talign-items: baseline;\n",
       "}\n",
       "div.psline {\n",
       "\tdisplay: flex;\n",
       "\tflex-flow: row nowrap;\n",
       "\tjustify-content: stretch;\n",
       "\talign-items: baseline;\n",
       "\tbackground-color: var(--gold-mist-back);\n",
       "}\n",
       "div.pname {\n",
       "\tflex: 0 0 5rem;\n",
       "\tfont-weight: bold;\n",
       "}\n",
       "div.pval {\n",
       "    flex: 1 1 auto;\n",
       "}\n",
       "\n",
       ":root {\n",
       "\t--node:               hsla(120, 100%,  20%, 1.0  );\n",
       "\t--label:              hsla(  0, 100%,  20%, 1.0  );\n",
       "\t--tfsechead:          hsla(  0, 100%,  25%, 1.0  );\n",
       "\t--structure:          hsla(120, 100%,  25%, 1.0  );\n",
       "\t--features:           hsla(  0,   0%,  30%, 1.0  );\n",
       "  --text-color:         hsla( 60,  80%,  10%, 1.0  );\n",
       "  --lex-color:          hsla(220,  90%,  60%, 1.0  );\n",
       "  --meta-color:         hsla(  0,   0%,  90%, 0.7  );\n",
       "  --meta-width:         3px;\n",
       "  --border-color-nul:   hsla(  0,   0%,  90%, 0.5  );\n",
       "  --border-color0:      hsla(  0,   0%,  90%, 0.9  );\n",
       "  --border-color1:      hsla(  0,   0%,  80%, 0.9  );\n",
       "  --border-color2:      hsla(  0,   0%,  70%, 0.9  );\n",
       "  --border-color3:      hsla(  0,   0%,  80%, 0.8  );\n",
       "  --border-color4:      hsla(  0,   0%,  60%, 0.9  );\n",
       "  --border-width-nul:   2px;\n",
       "  --border-width0:      2px;\n",
       "  --border-width1:      3px;\n",
       "  --border-width2:      4px;\n",
       "  --border-width3:      6px;\n",
       "  --border-width4:      5px;\n",
       "  --border-width-plain: 2px;\n",
       "}\n",
       ".hl {\n",
       "  background-color: var(--hl-strong);\n",
       "}\n",
       "span.hl {\n",
       "\tbackground-color: var(--hl-strong);\n",
       "\tborder-width: 0;\n",
       "\tborder-radius: 2px;\n",
       "\tborder-style: solid;\n",
       "}\n",
       "div.contnr.hl,div.lbl.hl {\n",
       "  background-color: var(--hl-strong);\n",
       "}\n",
       "div.contnr.hl {\n",
       "  border-color: var(--hl-rim) ! important;\n",
       "\tborder-width: 4px ! important;\n",
       "}\n",
       "\n",
       "span.hlbx {\n",
       "\tborder-color: var(--hl-rim);\n",
       "\tborder-width: 4px ! important;\n",
       "\tborder-style: solid;\n",
       "\tborder-radius: 6px;\n",
       "  padding: 4px;\n",
       "  margin: 4px;\n",
       "}\n",
       "\n",
       "span.plain {\n",
       "  display: inline-block;\n",
       "  white-space: pre-wrap;\n",
       "}\n",
       "\n",
       ":root {\n",
       "\t--hl-strong:        hsla( 60, 100%,  70%, 0.9  );\n",
       "\t--hl-rim:           hsla( 55,  80%,  50%, 1.0  );\n",
       "}\n",
       "</style>"
      ],
      "text/plain": [
       "<IPython.core.display.HTML object>"
      ]
     },
     "metadata": {},
     "output_type": "display_data"
    },
    {
     "data": {
      "text/html": [
       "<div><b>Text-Fabric API:</b> names <a target=\"_blank\" href=\"https://annotation.github.io/text-fabric/tf/cheatsheet.html\" title=\"doc\">N F E L T S C TF</a> directly usable</div><hr>"
      ],
      "text/plain": [
       "<IPython.core.display.HTML object>"
      ]
     },
     "metadata": {},
     "output_type": "display_data"
    }
   ],
   "source": [
    "A = use(\"bhsa\", hoist=globals())"
   ]
  },
  {
   "cell_type": "code",
   "execution_count": 4,
   "id": "b12a6ffa-c42a-44da-8a64-c61be93f4e7b",
   "metadata": {},
   "outputs": [],
   "source": [
    "from ipywidgets import Text, Layout, Box, HBox, VBox, Label, HTML, Button"
   ]
  },
  {
   "cell_type": "code",
   "execution_count": 5,
   "id": "d9bcfcb1-8277-4b86-a55f-53b444b9af27",
   "metadata": {},
   "outputs": [
    {
     "data": {
      "text/html": [
       "<div class=\"tfsechead ltr\"><span class=\"ltr\"><a target=\"_blank\" href=\"https://shebanq.ancient-data.org/hebrew/text?book=Genesis&amp;chapter=1&amp;verse=1&amp;version=2021&amp;mr=m&amp;qw=q&amp;tp=txt_p&amp;tr=hb&amp;wget=v&amp;qget=v&amp;nget=vt\" title=\"Show this on SHEBANQ\" sec=\"Genesis 1:1\">Genesis 1:1</a></span></div><div class=\"ltr children\"><div class=\"contnr c3  ltr  \" ><div class=\"lbl c3  \" ><span class=\"nd\">verse</span></div><div class=\"children hor wrap ltr\"><div class=\"contnr c2  ltr  \" ><div class=\"lbl c2  \" ><span class=\"nd\">sentence</span> <span class=\"\"><span title=\"number\">1</span></span></div><div class=\"children hor wrap ltr\"><div class=\"contnr c2  ltr  \" ><div class=\"lbl c2  \" ><span class=\"nd\">clause</span> <span class=\"\"><span title=\"typ\">xQtX</span> <span title=\"rela\">NA</span></span></div><div class=\"children hor wrap ltr\"><div class=\"contnr c1  ltr  \" ><div class=\"lbl c1  \" ><span class=\"nd\">phrase</span> <span class=\"\"><span title=\"typ\">PP</span> <span title=\"function\">Time</span></span></div><div class=\"children hor wrap ltr\"><div class=\"contnr c0 trm ltr  \" ><div class=\"lbl c0 trm \" ><a class=\" txtu hbo\" target=\"_blank\" href=\"https://shebanq.ancient-data.org/hebrew/word?version=2021&amp;id=1B\" title=\"Show this on SHEBANQ\"><span class=\"txtp\">bᵊ</span></a></div><div class='features'><span class=\"gloss \" title=\"gloss\">in</span><span class=\"pdp \" ><span class=\"f\">pdp=</span>prep</span></div></div><div class=\"contnr c0 trm ltr  \" ><div class=\"lbl c0 trm \" ><a class=\" txtu hbo\" target=\"_blank\" href=\"https://shebanq.ancient-data.org/hebrew/word?version=2021&amp;id=1RACJTn\" title=\"Show this on SHEBANQ\"><span class=\"txtp\">rēšˌîṯ </span></a></div><div class='features'><span class=\"gloss \" title=\"gloss\">beginning</span><span class=\"pdp \" ><span class=\"f\">pdp=</span>subs</span></div></div></div></div><div class=\"contnr c1  ltr  \" ><div class=\"lbl c1  \" ><span class=\"nd\">phrase</span> <span class=\"\"><span title=\"typ\">VP</span> <span title=\"function\">Pred</span></span></div><div class=\"children hor wrap ltr\"><div class=\"contnr c0 trm ltr  \" ><div class=\"lbl c0 trm \" ><a class=\" txtu hbo\" target=\"_blank\" href=\"https://shebanq.ancient-data.org/hebrew/word?version=2021&amp;id=1BRAv\" title=\"Show this on SHEBANQ\"><span class=\"txtp\">bārˈā </span></a></div><div class='features'><span class=\"gloss \" title=\"gloss\">create</span><span class=\"pdp \" ><span class=\"f\">pdp=</span>verb</span><span class=\"vs \" ><span class=\"f\">vs=</span>qal</span><span class=\"vt \" ><span class=\"f\">vt=</span>perf</span></div></div></div></div><div class=\"contnr c1  ltr  \" ><div class=\"lbl c1  \" ><span class=\"nd\">phrase</span> <span class=\"\"><span title=\"typ\">NP</span> <span title=\"function\">Subj</span></span></div><div class=\"children hor wrap ltr\"><div class=\"contnr c0 trm ltr  \" ><div class=\"lbl c0 trm \" ><a class=\" txtu hbo\" target=\"_blank\" href=\"https://shebanq.ancient-data.org/hebrew/word?version=2021&amp;id=1ALHJMn\" title=\"Show this on SHEBANQ\"><span class=\"txtp\">ʔᵉlōhˈîm </span></a></div><div class='features'><span class=\"gloss \" title=\"gloss\">god(s)</span><span class=\"pdp \" ><span class=\"f\">pdp=</span>subs</span></div></div></div></div><div class=\"contnr c1  ltr  \" ><div class=\"lbl c1  \" ><span class=\"nd\">phrase</span> <span class=\"\"><span title=\"typ\">PP</span> <span title=\"function\">Objc</span></span></div><div class=\"children hor wrap ltr\"><div class=\"contnr c0 trm ltr  \" ><div class=\"lbl c0 trm \" ><a class=\" txtu hbo\" target=\"_blank\" href=\"https://shebanq.ancient-data.org/hebrew/word?version=2021&amp;id=1AT\" title=\"Show this on SHEBANQ\"><span class=\"txtp\">ʔˌēṯ </span></a></div><div class='features'><span class=\"gloss \" title=\"gloss\">&lt;object marker></span><span class=\"pdp \" ><span class=\"f\">pdp=</span>prep</span></div></div><div class=\"contnr c0 trm ltr  \" ><div class=\"lbl c0 trm \" ><a class=\" txtu hbo\" target=\"_blank\" href=\"https://shebanq.ancient-data.org/hebrew/word?version=2021&amp;id=1H\" title=\"Show this on SHEBANQ\"><span class=\"txtp\">ha</span></a></div><div class='features'><span class=\"gloss \" title=\"gloss\">the</span><span class=\"pdp \" ><span class=\"f\">pdp=</span>art</span></div></div><div class=\"contnr c0 trm ltr  \" ><div class=\"lbl c0 trm \" ><a class=\" txtu hbo\" target=\"_blank\" href=\"https://shebanq.ancient-data.org/hebrew/word?version=2021&amp;id=1CMJMn\" title=\"Show this on SHEBANQ\"><span class=\"txtp\">ššāmˌayim </span></a></div><div class='features'><span class=\"gloss \" title=\"gloss\">heavens</span><span class=\"pdp \" ><span class=\"f\">pdp=</span>subs</span></div></div><div class=\"contnr c0 trm ltr  \" ><div class=\"lbl c0 trm \" ><a class=\" txtu hbo\" target=\"_blank\" href=\"https://shebanq.ancient-data.org/hebrew/word?version=2021&amp;id=1W\" title=\"Show this on SHEBANQ\"><span class=\"txtp\">wᵊ</span></a></div><div class='features'><span class=\"gloss \" title=\"gloss\">and</span><span class=\"pdp \" ><span class=\"f\">pdp=</span>conj</span></div></div><div class=\"contnr c0 trm ltr  \" ><div class=\"lbl c0 trm \" ><a class=\" txtu hbo\" target=\"_blank\" href=\"https://shebanq.ancient-data.org/hebrew/word?version=2021&amp;id=1AT\" title=\"Show this on SHEBANQ\"><span class=\"txtp\">ʔˌēṯ </span></a></div><div class='features'><span class=\"gloss \" title=\"gloss\">&lt;object marker></span><span class=\"pdp \" ><span class=\"f\">pdp=</span>prep</span></div></div><div class=\"contnr c0 trm ltr  \" ><div class=\"lbl c0 trm \" ><a class=\" txtu hbo\" target=\"_blank\" href=\"https://shebanq.ancient-data.org/hebrew/word?version=2021&amp;id=1H\" title=\"Show this on SHEBANQ\"><span class=\"txtp\">hā</span></a></div><div class='features'><span class=\"gloss \" title=\"gloss\">the</span><span class=\"pdp \" ><span class=\"f\">pdp=</span>art</span></div></div><div class=\"contnr c0 trm ltr  \" ><div class=\"lbl c0 trm \" ><a class=\" txtu hbo\" target=\"_blank\" href=\"https://shebanq.ancient-data.org/hebrew/word?version=2021&amp;id=1ARYn\" title=\"Show this on SHEBANQ\"><span class=\"txtp\">ʔˈāreṣ . </span></a></div><div class='features'><span class=\"gloss \" title=\"gloss\">earth</span><span class=\"pdp \" ><span class=\"f\">pdp=</span>subs</span></div></div></div></div></div></div></div></div></div></div></div>"
      ],
      "text/plain": [
       "<IPython.core.display.HTML object>"
      ]
     },
     "metadata": {},
     "output_type": "display_data"
    }
   ],
   "source": [
    "v1 = T.nodeFromSection((\"Genesis\", 1, 1))\n",
    "A.pretty(v1, standardFeatures=True, fmt=\"text-phono-full\")"
   ]
  },
  {
   "cell_type": "markdown",
   "id": "f0e9d530-fdd8-4395-87e3-72cac1e581f4",
   "metadata": {},
   "source": [
    "What we want is a display like this, but with the glosses (`in` `beginning` `create` etc) editable.\n",
    "Also all values after `pdp=` should be editable. And the information in the labels with clause and phrase as well\n",
    "(`xQtX`, `PP`, `Time`) etc. If you hover over them, you see they are values of features `typ`, `rela` and `function`.\n",
    "\n",
    "The task is to rebuild this from the\n",
    "[layout widgets of ipywidgets](https://ipywidgets.readthedocs.io/en/7.6.3/examples/Widget%20Styling.html),\n",
    "such as Box, HBox, VBox, HTML.\n",
    "\n",
    "We start with something simpler, the first phrase (`in beginning`), without the passage reference.\n",
    "We first generate the html, then display it\n"
   ]
  },
  {
   "cell_type": "code",
   "execution_count": 6,
   "id": "c53b0384-4ac5-42ba-902d-6daadbf6c958",
   "metadata": {},
   "outputs": [
    {
     "data": {
      "text/html": [
       "<div class=\"ltr children\"><div class=\"contnr c1  ltr  \" ><div class=\"lbl c1  \" ><span class=\"nd\">phrase</span> <span class=\"\"><span title=\"typ\">PP</span> <span title=\"function\">Time</span></span></div><div class=\"children hor wrap ltr\"><div class=\"contnr c0 trm ltr  \" ><div class=\"lbl c0 trm \" ><a class=\" txtu hbo\" target=\"_blank\" href=\"https://shebanq.ancient-data.org/hebrew/word?version=2021&amp;id=1B\" title=\"Show this on SHEBANQ\"><span class=\"txtp\">bᵊ</span></a></div><div class='features'><span class=\"gloss \" title=\"gloss\">in</span><span class=\"pdp \" ><span class=\"f\">pdp=</span>prep</span></div></div><div class=\"contnr c0 trm ltr  \" ><div class=\"lbl c0 trm \" ><a class=\" txtu hbo\" target=\"_blank\" href=\"https://shebanq.ancient-data.org/hebrew/word?version=2021&amp;id=1RACJTn\" title=\"Show this on SHEBANQ\"><span class=\"txtp\">rēšˌîṯ </span></a></div><div class='features'><span class=\"gloss \" title=\"gloss\">beginning</span><span class=\"pdp \" ><span class=\"f\">pdp=</span>subs</span></div></div></div></div></div>"
      ],
      "text/plain": [
       "<IPython.core.display.HTML object>"
      ]
     },
     "metadata": {},
     "output_type": "display_data"
    }
   ],
   "source": [
    "p1 = F.otype.s(\"phrase\")[0]\n",
    "html = A.pretty(p1, standardFeatures=True, fmt=\"text-phono-full\", withPassage=False, _asString=True)\n",
    "dh(html)"
   ]
  },
  {
   "cell_type": "markdown",
   "id": "ac7bc539-e5d0-4d51-ae5a-306b8005c9cc",
   "metadata": {},
   "source": [
    "We could also show the underlying HTML as a decently formatted string,\n",
    "using `beautifulsoup` and a convenience function:"
   ]
  },
  {
   "cell_type": "code",
   "execution_count": 7,
   "id": "7f0a410d-3e2b-4f75-94af-6e51900fa2c6",
   "metadata": {},
   "outputs": [],
   "source": [
    "def pdh(html):\n",
    "    print(bs(html).prettify())\n",
    "\n",
    "# pdh(html)"
   ]
  },
  {
   "cell_type": "markdown",
   "id": "a915fff8-3469-4c2b-9c94-a4742781c7a3",
   "metadata": {
    "tags": []
   },
   "source": [
    "# Displaying\n",
    "\n",
    "We have a (clumsy) shot at displaying this phrase with editable content."
   ]
  },
  {
   "cell_type": "code",
   "execution_count": 85,
   "id": "542efbf8-921e-4ea2-99e5-0f0994b286e0",
   "metadata": {},
   "outputs": [],
   "source": [
    "word1 = \"\"\"<a\n",
    "  class=\"txtu hbo\"\n",
    "  href=\"https://shebanq.ancient-data.org/hebrew/word?version=2021&amp;id=1B\"\n",
    "  target=\"_blank\"\n",
    "  title=\"Show this on SHEBANQ\">\n",
    "        <span class=\"txtp\">\n",
    "         bᵊ\n",
    "        </span>\n",
    "       </a>\"\"\"\n",
    "word2 = \"\"\"<a\n",
    "  class=\"txtu hbo\"\n",
    "  href=\"https://shebanq.ancient-data.org/hebrew/word?version=2021&amp;id=1RACJTn\"\n",
    "  target=\"_blank\"\n",
    "  title=\"Show this on SHEBANQ\">\n",
    "        <span class=\"txtp\">\n",
    "         rēšˌîṯ\n",
    "        </span>\n",
    "       </a>\"\"\"\n",
    "gloss1 = \"in\"\n",
    "gloss2 = \"beginning\"\n",
    "pdp1 = \"prep\"\n",
    "pdp2 = \"subs\""
   ]
  },
  {
   "cell_type": "code",
   "execution_count": 106,
   "id": "cd0d2cda-3b0e-4517-99a9-c04da757097c",
   "metadata": {},
   "outputs": [],
   "source": [
    "layout1 = Layout(flex=\"auto 1 1\")\n",
    "layout1a = Layout(\n",
    "    flex=\"auto 0 0\",\n",
    "    overflow=\"hidden\",\n",
    ")\n",
    "layout1b = Layout(\n",
    "    flex=\"auto 1 1\",\n",
    "    overflow=\"auto\",\n",
    ")\n",
    "layout2 = Layout(\n",
    "    display=\"inline-flex\",\n",
    "    flex_flow=\"column nowrap\",\n",
    "    border=\"2px solid gray\",\n",
    "    flex=\"auto 0 1\",\n",
    "    overflow=\"auto\",\n",
    ")\n",
    "layout2a = Layout(\n",
    "    display=\"inline-flex\",\n",
    "    flex_flow=\"column nowrap\",\n",
    "    border=\"2px solid gray\",\n",
    "    flex=\"auto 0 1\",\n",
    "    overflow=\"auto\",\n",
    ")\n",
    "layout2b = Layout(\n",
    "    display=\"inline-flex\",\n",
    "    flex_flow=\"row wrap\",\n",
    "    border=\"1px solid gray\",\n",
    "    flex=\"auto 0 1\",\n",
    "    overflow=\"auto\",\n",
    ")"
   ]
  },
  {
   "cell_type": "code",
   "execution_count": 107,
   "id": "a351b520-ea1a-4aac-b414-ea72bd2f0d1c",
   "metadata": {},
   "outputs": [],
   "source": [
    "w1 = Box(\n",
    "    [\n",
    "        HTML(value=word1, layout=layout1),\n",
    "        Text(value=gloss1, placeholder=\"gloss\", layout=layout1a),\n",
    "        Box([HTML(value=\"pdp=\"), Text(value=pdp1, placeholder=\"pdp\", layout=layout1a)], layout=layout1b),\n",
    "    ],\n",
    "    layout=layout2,\n",
    ")"
   ]
  },
  {
   "cell_type": "code",
   "execution_count": 108,
   "id": "a4284e7d-2c8c-4651-a980-6cfb3df70d4f",
   "metadata": {
    "tags": []
   },
   "outputs": [
    {
     "data": {
      "application/vnd.jupyter.widget-view+json": {
       "model_id": "c7583e55e9e84288900f75da4dd6be40",
       "version_major": 2,
       "version_minor": 0
      },
      "text/plain": [
       "Box(children=(HTML(value='<a\\n  class=\"txtu hbo\"\\n  href=\"https://shebanq.ancient-data.org/hebrew/word?version…"
      ]
     },
     "metadata": {},
     "output_type": "display_data"
    }
   ],
   "source": [
    "display(w1)"
   ]
  },
  {
   "cell_type": "code",
   "execution_count": 109,
   "id": "3bca15b5-4728-4e8d-ac04-917450681aff",
   "metadata": {},
   "outputs": [],
   "source": [
    "w2 = Box(\n",
    "    [\n",
    "        HTML(value=word2, layout=layout1),\n",
    "        Text(value=gloss2, placeholder=\"gloss\", layout=layout1a),\n",
    "        Text(value=pdp2, placeholder=\"pdp\", description=\"pdp=\", layout=layout1a),\n",
    "    ],\n",
    "    layout=layout2,\n",
    ")"
   ]
  },
  {
   "cell_type": "code",
   "execution_count": 110,
   "id": "c4ad79b9-6049-43c9-a158-6ca811f43bfe",
   "metadata": {
    "tags": []
   },
   "outputs": [
    {
     "data": {
      "application/vnd.jupyter.widget-view+json": {
       "model_id": "34453efaf7f047e2bfba26df5ed1a471",
       "version_major": 2,
       "version_minor": 0
      },
      "text/plain": [
       "Box(children=(HTML(value='<a\\n  class=\"txtu hbo\"\\n  href=\"https://shebanq.ancient-data.org/hebrew/word?version…"
      ]
     },
     "metadata": {},
     "output_type": "display_data"
    }
   ],
   "source": [
    "display(w2)"
   ]
  },
  {
   "cell_type": "code",
   "execution_count": 111,
   "id": "4a8379fa-69f6-40cc-a5b3-25c115600739",
   "metadata": {},
   "outputs": [],
   "source": [
    "layout3 = Layout(align_content=\"flex-start\")\n",
    "w12 = Box([w1, w2], layout=layout3)"
   ]
  },
  {
   "cell_type": "code",
   "execution_count": 112,
   "id": "a5ead64a-4a4b-4e73-a222-5e506b575a57",
   "metadata": {
    "tags": []
   },
   "outputs": [
    {
     "data": {
      "application/vnd.jupyter.widget-view+json": {
       "model_id": "3419b34e2dde4683b50f306ddfef6fd8",
       "version_major": 2,
       "version_minor": 0
      },
      "text/plain": [
       "Box(children=(Box(children=(HTML(value='<a\\n  class=\"txtu hbo\"\\n  href=\"https://shebanq.ancient-data.org/hebre…"
      ]
     },
     "metadata": {},
     "output_type": "display_data"
    }
   ],
   "source": [
    "display(w12)"
   ]
  },
  {
   "cell_type": "code",
   "execution_count": 113,
   "id": "436b1568-f3b7-4e5a-b821-cf70849139b7",
   "metadata": {},
   "outputs": [],
   "source": [
    "typ = \"PP\"\n",
    "function = \"Time\"\n",
    "\n",
    "w = Box(\n",
    "    [\n",
    "        Box(\n",
    "            [\n",
    "                HTML(value=\"phrase\", layout=layout1),\n",
    "                Text(value=typ, placeholder=\"typ\", layout=layout1a),\n",
    "                Text(value=function, placeholder=\"function\", layout=layout1a),\n",
    "            ],\n",
    "            layout=layout2b,\n",
    "        ),\n",
    "        w12,\n",
    "    ],\n",
    "    layout=layout2a,\n",
    ")"
   ]
  },
  {
   "cell_type": "code",
   "execution_count": 114,
   "id": "bfe48928-fe39-4de7-9023-fc764fbea546",
   "metadata": {},
   "outputs": [
    {
     "data": {
      "application/vnd.jupyter.widget-view+json": {
       "model_id": "c5b56b2c33af4d54a19f2cd37bf68566",
       "version_major": 2,
       "version_minor": 0
      },
      "text/plain": [
       "Box(children=(Box(children=(HTML(value='phrase', layout=Layout(flex='auto 1 1')), Text(value='PP', layout=Layo…"
      ]
     },
     "metadata": {},
     "output_type": "display_data"
    }
   ],
   "source": [
    "display(w)"
   ]
  },
  {
   "cell_type": "markdown",
   "id": "fe118bf1-bf1d-4425-b2bb-d7c8f13a0379",
   "metadata": {},
   "source": [
    "The styling and layout are far from optimal.\n",
    "But for the moment it will do."
   ]
  },
  {
   "cell_type": "markdown",
   "id": "b12e70c1-18b9-45d5-ac51-4c3b28592b95",
   "metadata": {
    "tags": []
   },
   "source": [
    "# Updating\n",
    "\n",
    "Now we want to change values and save them.\n",
    "\n",
    "For the moment, we store the data in dictionaries, keyed by feature name and then by node.\n",
    "\n",
    "We regenerate the display in a different way, but before we do that, we display the phrase with node numbers."
   ]
  },
  {
   "cell_type": "code",
   "execution_count": 18,
   "id": "04bc5f0d-4402-48b2-8988-0920784b1443",
   "metadata": {},
   "outputs": [
    {
     "data": {
      "text/html": [
       "<div class=\"ltr children\"><div class=\"contnr c1  ltr  \" ><div class=\"lbl c1  \" ><span class=\"nd\">phrase:651573</span> <span class=\"\"><span title=\"typ\">PP</span> <span title=\"function\">Time</span></span></div><div class=\"children hor wrap ltr\"><div class=\"contnr c0 trm ltr  \" ><div class=\"lbl c0 trm \" ><span class=\"nd\">1</span> <a class=\" txtu hbo\" target=\"_blank\" href=\"https://shebanq.ancient-data.org/hebrew/word?version=2021&amp;id=1B\" title=\"Show this on SHEBANQ\"><span class=\"txtp\">bᵊ</span></a></div><div class='features'><span class=\"gloss \" title=\"gloss\">in</span><span class=\"pdp \" ><span class=\"f\">pdp=</span>prep</span></div></div><div class=\"contnr c0 trm ltr  \" ><div class=\"lbl c0 trm \" ><span class=\"nd\">2</span> <a class=\" txtu hbo\" target=\"_blank\" href=\"https://shebanq.ancient-data.org/hebrew/word?version=2021&amp;id=1RACJTn\" title=\"Show this on SHEBANQ\"><span class=\"txtp\">rēšˌîṯ </span></a></div><div class='features'><span class=\"gloss \" title=\"gloss\">beginning</span><span class=\"pdp \" ><span class=\"f\">pdp=</span>subs</span></div></div></div></div></div>"
      ],
      "text/plain": [
       "<IPython.core.display.HTML object>"
      ]
     },
     "metadata": {},
     "output_type": "display_data"
    }
   ],
   "source": [
    "A.pretty(p1, standardFeatures=True, fmt=\"text-phono-full\", withPassage=False, withNodes=True)"
   ]
  },
  {
   "cell_type": "markdown",
   "id": "d0fb3119-d185-4f4d-a3f9-1a0e8d30c8d2",
   "metadata": {},
   "source": [
    "## Context\n",
    "\n",
    "Knowledge about the features."
   ]
  },
  {
   "cell_type": "code",
   "execution_count": 19,
   "id": "8046719b-66a8-4d84-a08b-99c43c83e982",
   "metadata": {},
   "outputs": [],
   "source": [
    "standardFeatures = {\"typ\", \"function\", \"gloss\"}\n",
    "\n",
    "featsFromType = dict(\n",
    "    phrase=[\"typ\", \"function\"],\n",
    "    word=[\"gloss\", \"pdp\"],\n",
    ")\n",
    "featOrder = (\"_\", \"typ\", \"function\", \"gloss\", \"pdp\")"
   ]
  },
  {
   "cell_type": "markdown",
   "id": "1b7e7f98-b7b8-4ebc-91be-eee8a13592a6",
   "metadata": {},
   "source": [
    "## Arguments\n",
    "\n",
    "Initial values of the features and structure of the data to display."
   ]
  },
  {
   "cell_type": "code",
   "execution_count": 20,
   "id": "4b59d469-40b3-4637-bb67-74317c8bd4b2",
   "metadata": {},
   "outputs": [],
   "source": [
    "features = dict(\n",
    "    typ={\n",
    "        651573: \"PP\",\n",
    "    },\n",
    "    function={\n",
    "        651573: \"Time\",\n",
    "    },\n",
    "    gloss={\n",
    "        1: \"in\",\n",
    "        2: \"beginning\",\n",
    "    },\n",
    "    pdp={\n",
    "        1: \"prep\",\n",
    "        2: \"subs\",\n",
    "    },\n",
    "    _= {\n",
    "        1: \"bᵊ\",\n",
    "        2: \"rēšˌîṯ\",\n",
    "    },\n",
    ")\n",
    "structure = [\n",
    "    (\"phrase\", 651573),\n",
    "    [(\"word\", 1)], \n",
    "    [(\"word\", 2)],\n",
    "]"
   ]
  },
  {
   "cell_type": "markdown",
   "id": "f1b6b3a5-74c1-4966-b07c-53a10b51ca82",
   "metadata": {},
   "source": [
    "When we create the display, we use the info in the dict `features` to provide the edit widgets with initial values.\n",
    "It also contains the texts to display with nodes, in the pseudo feature `_`.\n",
    "\n",
    "We write a function called `place` to place an editable representation of a node in an output cell.\n",
    "Its arguments are the structure and the initial values.\n",
    "\n",
    "We do not pass `standardFeatures` and `featsFromType`, we consider that part of the context that `place()` has access to.\n",
    "In it, \n",
    "we create a dictionary `widgets` with the same structure, but the values are now handles to the corresponding widgets.\n",
    "\n",
    "Finally we have to attach event handlers to all widgets whose values may change."
   ]
  },
  {
   "cell_type": "code",
   "execution_count": 205,
   "id": "66d3ab30-2557-4790-a5f6-972f0b735414",
   "metadata": {},
   "outputs": [],
   "source": [
    "layoutCommon = dict(\n",
    "    align_items=\"flex-start\",\n",
    "    align_content=\"flex-start\",\n",
    "    justify_content=\"flex-start\",\n",
    ")\n",
    "layoutA = Layout(\n",
    "    overflow=\"hidden\",\n",
    "    flex=\"auto 0 0\",\n",
    "    **layoutCommon\n",
    ")\n",
    "layoutV = Layout(\n",
    "    display=\"inline-flex\",\n",
    "    flex_flow=\"column nowrap\",\n",
    "    overflow=\"auto\",\n",
    "    border=\"1px solid gray\",\n",
    "    flex=\"auto 0 0\",\n",
    "    **layoutCommon\n",
    ")\n",
    "layoutV2 = Layout(\n",
    "    display=\"inline-flex\",\n",
    "    flex_flow=\"column nowrap\",\n",
    "    overflow=\"auto\",\n",
    "    border=\"3px solid gray\",\n",
    "    flex=\"auto 0 0\",\n",
    "    **layoutCommon\n",
    ")\n",
    "layoutV3 = Layout(\n",
    "    display=\"flex\",\n",
    "    flex_flow=\"column nowrap\",\n",
    "    align_items=\"flex-start\",\n",
    "    overflow=\"auto\",\n",
    "    border=\"2px solid #eeeeee\",\n",
    "    flex=\"auto 0 0\",\n",
    ")\n",
    "layoutH = Layout(\n",
    "    display=\"inline-flex\",\n",
    "    flex_flow=\"row wrap\",\n",
    "    overflow=\"auto\",\n",
    "    border=\"3px solid gray\",\n",
    "    flex=\"auto 0 0\",\n",
    "    **layoutCommon\n",
    ")\n",
    "layoutST = Layout(\n",
    "    # width=\"100%\",\n",
    "    # overflow=\"auto\",\n",
    "    flex=\"auto 1 1\",\n",
    ")\n",
    "layoutSV = Layout(\n",
    "    # width=\"100%\",\n",
    "    # overflow=\"auto\",\n",
    "    flex=\"auto 1 1\",\n",
    "    border=\"1px solid black\",\n",
    ")"
   ]
  },
  {
   "cell_type": "code",
   "execution_count": 206,
   "id": "d3bab036-8ce0-49ab-853b-f667709af659",
   "metadata": {},
   "outputs": [],
   "source": [
    "def place(structure, features):\n",
    "    widgets = {}\n",
    "    for (feat, values) in features.items():\n",
    "        for (node, value) in values.items():\n",
    "            if feat == \"_\":\n",
    "                w = HTML(value=value, layout=layoutA)\n",
    "            else:\n",
    "                params = dict(value=value, placeholder=\"feat\", layout=layoutA)\n",
    "                if feat not in standardFeatures:\n",
    "                    params[\"description\"] = f\"{feat}=\"\n",
    "                w = Text(**params)\n",
    "            widgets.setdefault(feat, {})[node] = w\n",
    "\n",
    "    def build(fragments):\n",
    "        result = []\n",
    "\n",
    "        for fragment in fragments:\n",
    "            (nType, node) = fragment[0]\n",
    "            children = fragment[1:]\n",
    "\n",
    "            ws = [HTML(value=nType, layout=layoutA)]\n",
    "            feats = featsFromType[nType]\n",
    "            for feat in featOrder:\n",
    "                if feat != \"_\" and feat not in feats:\n",
    "                    continue\n",
    "                wf = widgets.get(feat, {}).get(node, None)\n",
    "                if wf is not None:\n",
    "                    ws.append(wf)\n",
    "\n",
    "            nodeResult = Box(ws, layout=layoutV) if len(ws) > 1 else ws[0]\n",
    "            childrenResult = build(children)\n",
    "\n",
    "            if childrenResult:\n",
    "                thisResult = Box([nodeResult, childrenResult], layout=layoutV2)\n",
    "            else:\n",
    "                thisResult = nodeResult\n",
    "            result.append(thisResult)\n",
    "\n",
    "        if len(result) == 0:\n",
    "            return None\n",
    "        if len(result) == 1:\n",
    "            return result[0]\n",
    "        return Box(result, layout=layoutH)\n",
    "\n",
    "    def observe(widgets):\n",
    "        updates = {}\n",
    "\n",
    "        status = Label(value=\"Up to date\", layout=layoutST)\n",
    "        save = Button(description=\"Save\", layout=layoutSV, disabled=True)\n",
    "\n",
    "        def handleSave(b):\n",
    "            if updates:\n",
    "                for (feat, upds) in updates.items():\n",
    "                    for (node, value) in upds.items():\n",
    "                        features.setdefault(feat, {})[node] = value\n",
    "                updates.clear()\n",
    "            status.value = \"Up to date\"\n",
    "            save.disabled = True\n",
    "\n",
    "        save.on_click(handleSave)\n",
    "\n",
    "        def makeHandler(feat, node):\n",
    "            def handleChange(change):\n",
    "                updates.setdefault(feat, {})[node] = change.new\n",
    "                status.value = (\n",
    "                    f\"\"\"node {node} feature {feat} changed from '{change.old}' to '{change.new}'. \"\"\"\n",
    "                )\n",
    "                save.disabled = False\n",
    "\n",
    "            return handleChange\n",
    "\n",
    "        for (feat, ws) in widgets.items():\n",
    "            for (node, w) in ws.items():\n",
    "                if type(w) is not Text:\n",
    "                    continue\n",
    "                w.continuous_update = False\n",
    "                w.observe(makeHandler(feat, node), names=\"value\")\n",
    "        \n",
    "        return (status, save)\n",
    "\n",
    "    w = Box([build([structure]), *observe(widgets)], layout=layoutV3)\n",
    "    display(w)"
   ]
  },
  {
   "cell_type": "code",
   "execution_count": 207,
   "id": "ccb52877-be0d-467d-af01-53b453db50c8",
   "metadata": {},
   "outputs": [
    {
     "data": {
      "application/vnd.jupyter.widget-view+json": {
       "model_id": "7d85faf3d2874d3bb597827b3fa47fdb",
       "version_major": 2,
       "version_minor": 0
      },
      "text/plain": [
       "Box(children=(Box(children=(Box(children=(HTML(value='phrase', layout=Layout(align_content='flex-start', align…"
      ]
     },
     "metadata": {},
     "output_type": "display_data"
    }
   ],
   "source": [
    "place(structure, features)"
   ]
  },
  {
   "cell_type": "markdown",
   "id": "9050f7cc-51f2-44fd-ac44-d017cc43d3e8",
   "metadata": {},
   "source": [
    "Before we start doing anything, we inspect the current values of the first phrase feature (`typ`):"
   ]
  },
  {
   "cell_type": "code",
   "execution_count": 119,
   "id": "a142e817-e7ac-43be-b941-d43b92407814",
   "metadata": {},
   "outputs": [
    {
     "data": {
      "text/plain": [
       "{651573: 'PPxx'}"
      ]
     },
     "execution_count": 119,
     "metadata": {},
     "output_type": "execute_result"
    }
   ],
   "source": [
    "features[\"typ\"]"
   ]
  },
  {
   "cell_type": "markdown",
   "id": "f5d43e90-7860-428a-94ef-1bbf1a25c17e",
   "metadata": {},
   "source": [
    "Make a change to the PP value.\n",
    "The button that says Up-to-date will change and show the change, and you can click to save the change back to the\n",
    "`features` dictionary.\n",
    "\n",
    "Before that click, the button looks like this\n",
    "\n",
    "![button](images/button.png)"
   ]
  },
  {
   "cell_type": "markdown",
   "id": "cb731bc9-092f-48c6-8fea-57c13db58078",
   "metadata": {},
   "source": [
    "After saving a change, inspect the current value of the first phrase feature (`typ`)"
   ]
  },
  {
   "cell_type": "code",
   "execution_count": 26,
   "id": "7475fe4f-77be-4527-ba1d-a239ece4baba",
   "metadata": {},
   "outputs": [
    {
     "data": {
      "text/plain": [
       "{651573: 'PPxx'}"
      ]
     },
     "execution_count": 26,
     "metadata": {},
     "output_type": "execute_result"
    }
   ],
   "source": [
    "features[\"typ\"]"
   ]
  },
  {
   "cell_type": "markdown",
   "id": "8010e038-d2b8-40f4-b13c-12bbc34cc4f6",
   "metadata": {
    "jp-MarkdownHeadingCollapsed": true,
    "tags": []
   },
   "source": [
    "# Editable displays are possible\n",
    "\n",
    "Remarkable: your change has been saved!\n",
    "\n",
    "What does this really mean?\n",
    "\n",
    "Well, the widget gives you a user interface with which you can interact.\n",
    "This happens solely in the browser, through Javascript.\n",
    "\n",
    "However, through observing, we can make the Python kernel aware of the changes, and store them in a Python\n",
    "dictionary.\n",
    "\n",
    "In the end, we have changed Python data through Javascript.\n",
    "\n",
    "Put otherwise: we have changed Python data without running code cells, only by interacting with output cells.\n",
    "\n",
    "Users can now create/update annotations to a text inside a Jupyter notebook."
   ]
  },
  {
   "cell_type": "markdown",
   "id": "922ccef6-4204-4917-8adf-1c87cc8412cf",
   "metadata": {
    "tags": []
   },
   "source": [
    "# Further steps\n",
    "\n",
    "We can now write functions in Text-Fabric that let users edit feature data and save it back to other features\n",
    "or the same feature.\n",
    "\n",
    "Probably it is better to accommodate features in a local `edit` directory alongside the original features,\n",
    "so that the original features stay untouched.\n",
    "\n",
    "When loading features, we can ask Text-Fabric to use the features in `edit` to override existing features.\n",
    "\n",
    "When such edited features gain quality, the author can share them in his/her own github repo as a new\n",
    "data module.\n",
    "\n",
    "Imagine you can do a query and view its results while being able to change odd feature values and save it to a \n",
    "solid file on disk. Or comment on the query results one by one, storing the comments in a new, personal feature.\n",
    "\n",
    "See [data sharing](https://annotation.github.io/text-fabric/tf/about/datasharing.html).\n"
   ]
  },
  {
   "cell_type": "markdown",
   "id": "f7f015ce-0f2a-4ced-b3d9-ae7a45119586",
   "metadata": {},
   "source": [
    "# Low level experiments\n",
    "\n",
    "What follows are some intermediate bits and pieces where I try certain things out."
   ]
  },
  {
   "cell_type": "code",
   "execution_count": 121,
   "id": "6dbb617b-5003-4c00-8733-bda867d7d3a7",
   "metadata": {},
   "outputs": [
    {
     "data": {
      "text/html": [
       "\n",
       "<div style=\"\n",
       "    display: inline-flex;\n",
       "    flex-flow: row wrap;\n",
       "    align-items: flex-start;\n",
       "    align-content: flex-start;\n",
       "    justify-content: flex-start;\n",
       "    border: 3px solid red;\n",
       "    margin: 1em;\n",
       "    padding: 1em;\n",
       "    \"\n",
       ">\n",
       "<div style=\"\n",
       "    display: flex;\n",
       "    flex-flow: column nowrap;\n",
       "    align-items: flex-start;\n",
       "    align-content: flex-start;\n",
       "    justify-content: flex-start;\n",
       "    border: 3px solid blue;\n",
       "    margin: 1em;\n",
       "    padding: 1em;\n",
       "    \"\n",
       ">\n",
       "<div style=\"\n",
       "    flex: auto 0 0;\n",
       "    align-items: flex-start;\n",
       "    align-content: flex-start;\n",
       "    justify-content: flex-start;\n",
       "    border: 2px solid gray;\n",
       "    margin: 0.5em;\n",
       "    padding: 0.5em;\n",
       "    \"\n",
       ">A</div>\n",
       "\n",
       "<div style=\"\n",
       "    flex: auto 0 0;\n",
       "    align-items: flex-start;\n",
       "    align-content: flex-start;\n",
       "    justify-content: flex-start;\n",
       "    border: 2px solid gray;\n",
       "    margin: 0.5em;\n",
       "    padding: 0.5em;\n",
       "    \"\n",
       ">B</div>\n",
       "\n",
       "<div style=\"\n",
       "    flex: auto 0 0;\n",
       "    align-items: flex-start;\n",
       "    align-content: flex-start;\n",
       "    justify-content: flex-start;\n",
       "    border: 2px solid gray;\n",
       "    margin: 0.5em;\n",
       "    padding: 0.5em;\n",
       "    \"\n",
       ">C</div>\n",
       "</div>\n",
       "</div>\n"
      ],
      "text/plain": [
       "<IPython.core.display.HTML object>"
      ]
     },
     "metadata": {},
     "output_type": "display_data"
    }
   ],
   "source": [
    "def vbox(contents): \n",
    "    return f\"\"\"\n",
    "<div style=\"\n",
    "    display: flex;\n",
    "    flex-flow: column nowrap;\n",
    "    align-items: flex-start;\n",
    "    align-content: flex-start;\n",
    "    justify-content: flex-start;\n",
    "    border: 3px solid blue;\n",
    "    margin: 1em;\n",
    "    padding: 1em;\n",
    "    \"\n",
    ">{contents}</div>\n",
    "\"\"\"\n",
    "\n",
    "def hbox(contents): \n",
    "    return f\"\"\"\n",
    "<div style=\"\n",
    "    display: inline-flex;\n",
    "    flex-flow: row wrap;\n",
    "    align-items: flex-start;\n",
    "    align-content: flex-start;\n",
    "    justify-content: flex-start;\n",
    "    border: 3px solid red;\n",
    "    margin: 1em;\n",
    "    padding: 1em;\n",
    "    \"\n",
    ">{contents}</div>\n",
    "\"\"\"\n",
    "\n",
    "\n",
    "def abox(contents):\n",
    "    return f\"\"\"\n",
    "<div style=\"\n",
    "    flex: auto 0 0;\n",
    "    align-items: flex-start;\n",
    "    align-content: flex-start;\n",
    "    justify-content: flex-start;\n",
    "    border: 2px solid gray;\n",
    "    margin: 0.5em;\n",
    "    padding: 0.5em;\n",
    "    \"\n",
    ">{contents}</div>\n",
    "\"\"\"\n",
    "\n",
    "blocks = [\"A\", \"B\", \"C\"]\n",
    "html = hbox(vbox(\"\".join(abox(b) for b in blocks)))\n",
    "dh(html)"
   ]
  }
 ],
 "metadata": {
  "kernelspec": {
   "display_name": "Python 3 (ipykernel)",
   "language": "python",
   "name": "python3"
  },
  "language_info": {
   "codemirror_mode": {
    "name": "ipython",
    "version": 3
   },
   "file_extension": ".py",
   "mimetype": "text/x-python",
   "name": "python",
   "nbconvert_exporter": "python",
   "pygments_lexer": "ipython3",
   "version": "3.9.7"
  },
  "widgets": {
   "application/vnd.jupyter.widget-state+json": {
    "state": {},
    "version_major": 2,
    "version_minor": 0
   }
  }
 },
 "nbformat": 4,
 "nbformat_minor": 5
}
