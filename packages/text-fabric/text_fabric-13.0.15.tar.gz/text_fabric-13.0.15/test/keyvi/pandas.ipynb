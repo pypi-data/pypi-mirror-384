{
 "cells": [
  {
   "cell_type": "code",
   "execution_count": 1,
   "metadata": {},
   "outputs": [
    {
     "name": "stdout",
     "output_type": "stream",
     "text": [
      "Requirement already satisfied: keyvi in /Library/Frameworks/Python.framework/Versions/3.8/lib/python3.8/site-packages (0.4.2)\n",
      "Requirement already satisfied: msgpack>=1.0.0 in /Library/Frameworks/Python.framework/Versions/3.8/lib/python3.8/site-packages (from keyvi) (1.0.0)\n"
     ]
    }
   ],
   "source": [
    "%%sh\n",
    "\n",
    "pip3 install keyvi\n",
    "pip3 install memory_profiler"
   ]
  },
  {
   "cell_type": "code",
   "execution_count": 3,
   "metadata": {},
   "outputs": [],
   "source": [
    "import gzip\n",
    "from timeit import timeit\n",
    "from tf.core.data import Data\n",
    "from tf.core.timestamp import Timestamp\n",
    "from tf.parameters import PICKLE_PROTOCOL, GZIP_LEVEL\n",
    "from keyvi.compiler import StringDictionaryCompiler\n",
    "from keyvi.dictionary import Dictionary"
   ]
  },
  {
   "cell_type": "markdown",
   "metadata": {},
   "source": [
    "# Keyvi\n",
    "\n",
    "Sophisticated key-value store using shared memory.\n",
    "\n",
    "See [github](https://github.com/KeyviDev/keyvi)"
   ]
  },
  {
   "cell_type": "markdown",
   "metadata": {},
   "source": [
    "# First steps"
   ]
  },
  {
   "cell_type": "code",
   "execution_count": 4,
   "metadata": {},
   "outputs": [],
   "source": [
    "%%sh\n",
    "\n",
    "keyvi compile toy.txt toy.kv key-only\n",
    "keyvi dump toy.kv toy.kv.txt"
   ]
  },
  {
   "cell_type": "code",
   "execution_count": 5,
   "metadata": {},
   "outputs": [],
   "source": [
    "data = {\"1\": \"aap\", \"2\": \"noot\"}"
   ]
  },
  {
   "cell_type": "code",
   "execution_count": 6,
   "metadata": {},
   "outputs": [],
   "source": [
    "kv = StringDictionaryCompiler()"
   ]
  },
  {
   "cell_type": "code",
   "execution_count": 7,
   "metadata": {},
   "outputs": [],
   "source": [
    "for (k, v) in data.items():\n",
    "    kv.Add(k, v)"
   ]
  },
  {
   "cell_type": "code",
   "execution_count": 8,
   "metadata": {},
   "outputs": [],
   "source": [
    "kv.Compile()"
   ]
  },
  {
   "cell_type": "code",
   "execution_count": 9,
   "metadata": {},
   "outputs": [],
   "source": [
    "kv.WriteToFile(\"data.txt\")"
   ]
  },
  {
   "cell_type": "code",
   "execution_count": 10,
   "metadata": {},
   "outputs": [],
   "source": [
    "D = Dictionary(\"data.txt\")"
   ]
  },
  {
   "cell_type": "code",
   "execution_count": 11,
   "metadata": {},
   "outputs": [
    {
     "data": {
      "text/plain": [
       "True"
      ]
     },
     "execution_count": 11,
     "metadata": {},
     "output_type": "execute_result"
    }
   ],
   "source": [
    "\"1\" in D"
   ]
  },
  {
   "cell_type": "code",
   "execution_count": 12,
   "metadata": {},
   "outputs": [
    {
     "data": {
      "text/plain": [
       "True"
      ]
     },
     "execution_count": 12,
     "metadata": {},
     "output_type": "execute_result"
    }
   ],
   "source": [
    "\"2\" in D"
   ]
  },
  {
   "cell_type": "code",
   "execution_count": 13,
   "metadata": {},
   "outputs": [
    {
     "data": {
      "text/plain": [
       "False"
      ]
     },
     "execution_count": 13,
     "metadata": {},
     "output_type": "execute_result"
    }
   ],
   "source": [
    "\"3\" in D"
   ]
  },
  {
   "cell_type": "code",
   "execution_count": 14,
   "metadata": {},
   "outputs": [
    {
     "data": {
      "text/plain": [
       "'aap'"
      ]
     },
     "execution_count": 14,
     "metadata": {},
     "output_type": "execute_result"
    }
   ],
   "source": [
    "D[\"1\"].GetValueAsString()"
   ]
  },
  {
   "cell_type": "markdown",
   "metadata": {},
   "source": [
    "# Data preparation\n",
    "\n",
    "We load the feature `g_word_utf8` from the BHSA."
   ]
  },
  {
   "cell_type": "code",
   "execution_count": 15,
   "metadata": {},
   "outputs": [],
   "source": [
    "path = '_temp/g_word_utf8.tf'"
   ]
  },
  {
   "cell_type": "code",
   "execution_count": 16,
   "metadata": {},
   "outputs": [
    {
     "name": "stdout",
     "output_type": "stream",
     "text": [
      "426584\n"
     ]
    }
   ],
   "source": [
    "tmObj = Timestamp()\n",
    "F = Data(path, tmObj)\n",
    "F._readDataBin()\n",
    "print(len(F.data))"
   ]
  },
  {
   "cell_type": "markdown",
   "metadata": {},
   "source": [
    "We also compile this data as keyvi data:"
   ]
  },
  {
   "cell_type": "code",
   "execution_count": 17,
   "metadata": {},
   "outputs": [],
   "source": [
    "kv = StringDictionaryCompiler()\n",
    "for (k, v) in F.data.items():\n",
    "    kv.Add(str(k), v)\n",
    "kv.Compile()\n",
    "kv.WriteToFile(\"_temp/kv/g_word_utf8.txt\")\n",
    "with gzip.open(\"_temp/kv/g_word_utf8.txt.gz\", \"wb\", compresslevel=GZIP_LEVEL) as fout:\n",
    "    with open(\"_temp/kv/g_word_utf8.txt\", \"rb\") as fin:\n",
    "        fout.write(fin.read())"
   ]
  },
  {
   "cell_type": "code",
   "execution_count": 18,
   "metadata": {},
   "outputs": [],
   "source": [
    "D = Dictionary(\"_temp/kv/g_word_utf8.txt\")"
   ]
  },
  {
   "cell_type": "markdown",
   "metadata": {},
   "source": [
    "# Performance of accessing keys:"
   ]
  },
  {
   "cell_type": "code",
   "execution_count": 19,
   "metadata": {},
   "outputs": [
    {
     "data": {
      "text/plain": [
       "0.06972066900016216"
      ]
     },
     "execution_count": 19,
     "metadata": {},
     "output_type": "execute_result"
    }
   ],
   "source": [
    "def testPerformanceTf(data):\n",
    "    times = 1000000\n",
    "    key = 200000\n",
    "    return timeit(\"data[key]\", globals=locals(), number=times)\n",
    "\n",
    "testPerformanceTf(F.data)"
   ]
  },
  {
   "cell_type": "code",
   "execution_count": 20,
   "metadata": {},
   "outputs": [
    {
     "data": {
      "text/plain": [
       "0.6346312719997513"
      ]
     },
     "execution_count": 20,
     "metadata": {},
     "output_type": "execute_result"
    }
   ],
   "source": [
    "def testPerformanceKv(data):\n",
    "    times = 1000000\n",
    "    key = \"200000\"\n",
    "    return timeit(\"data[key].GetValueAsString()\", globals=locals(), number=times)\n",
    "testPerformanceKv(D)"
   ]
  },
  {
   "cell_type": "markdown",
   "metadata": {},
   "source": [
    "# Conclusion\n",
    "\n",
    "KeyVI is roughly **10 times as slow** as dictionary lookup.\n",
    "\n",
    "That makes it uninteresting for TF."
   ]
  },
  {
   "cell_type": "markdown",
   "metadata": {},
   "source": [
    "Measure the memory size of this data:"
   ]
  },
  {
   "cell_type": "markdown",
   "metadata": {},
   "source": [
    "# Measuring RAM\n",
    "\n",
    "Nevertheless, we measure the RAM needed.\n",
    "\n",
    "We cannot directly measure the size of D, because it is an object produced by custom C code.\n",
    "\n",
    "We do it in a roundabout way."
   ]
  },
  {
   "cell_type": "code",
   "execution_count": 21,
   "metadata": {},
   "outputs": [
    {
     "name": "stdout",
     "output_type": "stream",
     "text": [
      "<class 'tf.core.data.Data'>\n",
      "Filename: tfmem.py\n",
      "\n",
      "Line #    Mem usage    Increment   Line Contents\n",
      "================================================\n",
      "     5   40.434 MiB   40.434 MiB   @profile\n",
      "     6                             def mem():\n",
      "     7   40.434 MiB    0.000 MiB       path = '_temp/g_word_utf8.tf'\n",
      "     8   40.434 MiB    0.000 MiB       tmObj = Timestamp()\n",
      "     9   40.438 MiB    0.004 MiB       F = Data(path, tmObj)\n",
      "    10   96.426 MiB   55.988 MiB       F._readDataBin()\n",
      "    11   96.426 MiB    0.000 MiB       print(type(F))\n",
      "\n",
      "\n"
     ]
    }
   ],
   "source": [
    "%%sh\n",
    "\n",
    "python3 -m memory_profiler tfmem.py"
   ]
  },
  {
   "cell_type": "markdown",
   "metadata": {},
   "source": [
    "After reading the TF data, the memory usage has increased by 54 MB."
   ]
  },
  {
   "cell_type": "code",
   "execution_count": 22,
   "metadata": {},
   "outputs": [
    {
     "name": "stdout",
     "output_type": "stream",
     "text": [
      "<class '_core.Dictionary'>\n",
      "Filename: kvmem.py\n",
      "\n",
      "Line #    Mem usage    Increment   Line Contents\n",
      "================================================\n",
      "     4   40.727 MiB   40.727 MiB   @profile\n",
      "     5                             def mem():\n",
      "     6   40.809 MiB    0.082 MiB       D = Dictionary(\"_temp/kv/g_word_utf8.txt\")\n",
      "     7   40.809 MiB    0.000 MiB       print(type(D))\n",
      "\n",
      "\n"
     ]
    }
   ],
   "source": [
    "%%sh\n",
    "\n",
    "python3 -m memory_profiler kvmem.py"
   ]
  },
  {
   "cell_type": "markdown",
   "metadata": {},
   "source": [
    "After reading the KV data, the memory has increased by only **70 KB**.\n",
    "This is wonderful.\n",
    "Alas, the 10-fold performance drop is a huge price. We cannot afford that."
   ]
  },
  {
   "cell_type": "markdown",
   "metadata": {},
   "source": [
    "# Disk size"
   ]
  },
  {
   "cell_type": "markdown",
   "metadata": {},
   "source": [
    "TF: 5.4 MB in the plain text TF file, and 2.4 MB in the gzipped binary derived file."
   ]
  },
  {
   "cell_type": "markdown",
   "metadata": {},
   "source": [
    "KV: 4.6 MB in the compiled file, 2.1 MB in the gzipped file."
   ]
  },
  {
   "cell_type": "markdown",
   "metadata": {},
   "source": [
    "A bit strange: why cannot we store the contents of the RAM (70 KB) to disk, instead of the big file of 4.6 MB?"
   ]
  },
  {
   "cell_type": "code",
   "execution_count": null,
   "metadata": {},
   "outputs": [],
   "source": []
  }
 ],
 "metadata": {
  "kernelspec": {
   "display_name": "Python 3",
   "language": "python",
   "name": "python3"
  },
  "language_info": {
   "codemirror_mode": {
    "name": "ipython",
    "version": 3
   },
   "file_extension": ".py",
   "mimetype": "text/x-python",
   "name": "python",
   "nbconvert_exporter": "python",
   "pygments_lexer": "ipython3",
   "version": "3.8.3"
  }
 },
 "nbformat": 4,
 "nbformat_minor": 4
}
