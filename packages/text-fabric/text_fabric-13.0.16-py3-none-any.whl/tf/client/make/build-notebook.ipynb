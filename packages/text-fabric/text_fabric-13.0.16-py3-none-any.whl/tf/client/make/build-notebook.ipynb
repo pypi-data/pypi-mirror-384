{
 "cells": [
  {
   "cell_type": "code",
   "execution_count": null,
   "id": "bf591eef-9523-48d4-9117-35943ea86d09",
   "metadata": {},
   "outputs": [],
   "source": [
    "%load_ext autoreload\n",
    "%autoreload 2"
   ]
  },
  {
   "cell_type": "markdown",
   "id": "50db1166-c176-4589-b7dc-b46f7e7a8f2b",
   "metadata": {},
   "source": [
    "# Make a new data release of the current version of the NENA data\n",
    "\n",
    "The NENA data should reside locally on your system.\n",
    "\n",
    "By default, we assume it is under `~/github` and then under *org/repo/folder/version*\n",
    "where\n",
    "\n",
    "* *org* = `CambridgeSemiticsLab`\n",
    "* *repo* = `nena_tf`\n",
    "* *folder* = `tf`\n",
    "* *version* = `alpha`\n",
    "\n",
    "You pass *org*, *repo*, *folder*, *version* as parameters.\n",
    "You can replace the `~/github` by passing a `source` parameter.\n",
    "\n",
    "The data will be zipped into a file that will be attached to a new release on GitHub.\n",
    "This zip file is created by default in `~/Downloads`, but you can override this by passing a `dest` parameter.\n",
    "\n",
    "We assume the TF data resides under `~/local/data` and we use `~/local/zips` as landing directory for the zip file. "
   ]
  },
  {
   "cell_type": "markdown",
   "id": "426a59e3-d11d-4275-9434-8aa82b2ef778",
   "metadata": {},
   "source": [
    "Note the parameter `3` after `VERSION` in the call of `releaseData()` below.\n",
    "This indicates which part of the version number should be increased by one.\n",
    "The parts behind it will be deleted.\n",
    "\n",
    "Examples:\n",
    "\n",
    "old version | method | new version\n",
    "--- | --- | ---\n",
    "`v2.4.6` | 3 | `v2.4.7`\n",
    "`v2.4.6` | 2 | `v2.5`\n",
    "`v2.4.6` | 1 | `v3`\n",
    "`v2.4` | 3 | `v2.4.1`\n",
    "`v2` | 3 | `v2.0.1`\n",
    "`v2` | 2 | `v2.1`"
   ]
  },
  {
   "cell_type": "code",
   "execution_count": null,
   "id": "c66af332-0ee7-4bef-ad1e-125d616998f6",
   "metadata": {},
   "outputs": [],
   "source": [
    "from tf.parameters import GH\n",
    "from tf.advanced.repo import releaseData\n",
    "\n",
    "BACKEND = GH\n",
    "ORG = \"CambridgeSemiticsLab\"\n",
    "REPO = \"nena_tf\"\n",
    "FOLDER = \"tf\"\n",
    "VERSION = \"alpha\"\n",
    "DATA_IN = \"~/local/data\"\n",
    "DATA_ZIP = \"~/local/zips\"\n",
    "\n",
    "releaseData(GH, ORG, REPO, FOLDER, VERSION, 3, source=DATA_IN, dest=DATA_ZIP)"
   ]
  },
  {
   "cell_type": "markdown",
   "id": "b12a9f98-1566-40ee-83da-f59c9cb9fc91",
   "metadata": {},
   "source": [
    "# Make all search clients for the CambridgeSemiticsLab/nena dataset\n",
    "\n",
    "Suppose a new release has been made of the NENA corpus data.\n",
    "Now we want to regenerate its client search apps.\n",
    "\n",
    "We assume the configuration data for the apps is in a local directory on the system.\n",
    "\n",
    "`CONFIG_DIR` should have the same structure as\n",
    "[layeredsearch](https://github.com/CambridgeSemiticsLab/nena_tf-search/tree/master/layeredsearch).\n",
    "You can tweak it, but it should play nice with the client generation process.\n",
    "\n",
    "We generate the client search data in a local directory on the system."
   ]
  },
  {
   "cell_type": "code",
   "execution_count": null,
   "id": "40f28ca7-30c9-4309-a9ab-818ce03df36d",
   "metadata": {},
   "outputs": [],
   "source": [
    "import os\n",
    "from tf.client.make.build import makeSearchClients\n",
    "\n",
    "APP_DIR = os.path.expanduser(\"~/local/app-nena\")\n",
    "OUTPUT_DIR = os.path.expanduser(\"~/local/lsOut\")\n",
    "DATASET = \"nena\""
   ]
  },
  {
   "cell_type": "code",
   "execution_count": null,
   "id": "3c2ba66b-8701-41b4-893f-c830b959e8d8",
   "metadata": {},
   "outputs": [],
   "source": [
    "makeSearchClients(DATASET, OUTPUT_DIR, APP_DIR, dataDir=\"~/local/tfNew\")"
   ]
  },
  {
   "cell_type": "markdown",
   "id": "0ffb6de5-9284-4f74-8f01-c46b78eb8c13",
   "metadata": {},
   "source": [
    "# Ship all apps for all corpora\n",
    "\n",
    "From now on we work in a setting where we ship client apps to GitHub pages of *org*`/`*repo*`-search`."
   ]
  },
  {
   "cell_type": "code",
   "execution_count": null,
   "id": "52769da2-ed10-4eb1-a2fd-4fe0ea33ea48",
   "metadata": {},
   "outputs": [],
   "source": [
    "import collections\n",
    "import os\n",
    "\n",
    "from tf.client.make.build import Make"
   ]
  },
  {
   "cell_type": "code",
   "execution_count": null,
   "id": "ed6b504f-4430-44ac-b23f-e9853981e299",
   "metadata": {},
   "outputs": [],
   "source": [
    "APPS = (\n",
    "    (\"ETCBC/bhsa\", \"structure\"),\n",
    "    (\"CLARIAH/wp6-missieven\", \"text\"),\n",
    "    (\"CambridgeSemiticsLab/nena_tf\", \"phono\"),\n",
    "    (\"CambridgeSemiticsLab/nena_tf\", \"fuzzy\"),\n",
    ")"
   ]
  },
  {
   "cell_type": "code",
   "execution_count": null,
   "id": "97d2bc94-a639-4fc8-a7a0-5ef5d7824c91",
   "metadata": {},
   "outputs": [],
   "source": [
    "APPS_BY_DATASET = (\n",
    "    (\"CambridgeSemiticsLab/nena_tf\", (\"fuzzy\", \"phono\")),\n",
    "    (\"ETCBC/bhsa\", (\"structure\",)),\n",
    "    (\"CLARIAH/wp6-missieven\", (\"text\",)),\n",
    ")"
   ]
  },
  {
   "cell_type": "code",
   "execution_count": null,
   "id": "63ef0e87-9063-424e-ae88-338a05d7ac6f",
   "metadata": {},
   "outputs": [],
   "source": [
    "for (dataset, apps) in APPS_BY_DATASET:\n",
    "    nApps = len(apps)\n",
    "    for app in apps:\n",
    "        Mk = Make(dataset, app, debugState=\"off\")\n",
    "        Mk.ship(publish=nApps == 1)\n",
    "    if nApps > 1:\n",
    "        Mk = Make(dataset, None, debugState=\"off\")\n",
    "        Mk.publish()"
   ]
  },
  {
   "cell_type": "markdown",
   "id": "b2a6cc43-fb04-418a-9fd1-2daa0465b833",
   "metadata": {},
   "source": [
    "# Individual apps in debug mode"
   ]
  },
  {
   "cell_type": "code",
   "execution_count": null,
   "id": "9cbaa899-d591-40e8-8d62-dc5e1894f21e",
   "metadata": {},
   "outputs": [],
   "source": [
    "Mk = Make(*APPS[1], debugState=\"on\")"
   ]
  },
  {
   "cell_type": "markdown",
   "id": "877468af-7494-401d-be8c-722dcc6aa77a",
   "metadata": {},
   "source": [
    "# Load data\n",
    "\n",
    "The Text-Fabric dataset is loaded."
   ]
  },
  {
   "cell_type": "code",
   "execution_count": null,
   "id": "3718d76e-2b06-41cf-b9c2-6b275f9a859e",
   "metadata": {},
   "outputs": [],
   "source": [
    "Mk.loadTf()"
   ]
  },
  {
   "cell_type": "code",
   "execution_count": null,
   "id": "a1016764-7271-4aa4-bdae-efd84d1fc219",
   "metadata": {},
   "outputs": [],
   "source": [
    "A = Mk.A\n",
    "api = A.api\n",
    "Fs = api.Fs\n",
    "F = api.F\n",
    "L = api.L\n",
    "T = api.T"
   ]
  },
  {
   "cell_type": "code",
   "execution_count": null,
   "id": "1b4ae556-6522-48af-8123-7dc3f5e915df",
   "metadata": {},
   "outputs": [],
   "source": [
    "T.sectionTypes"
   ]
  },
  {
   "cell_type": "markdown",
   "id": "aeae0270-a137-4e52-a985-a6a538167cb7",
   "metadata": {},
   "source": [
    "# Configure\n",
    "\n",
    "If you changed critical files in the layered search app (`mkdata.py` or `config.yaml`),\n",
    "run this command to update the configuration inside the maker."
   ]
  },
  {
   "cell_type": "code",
   "execution_count": null,
   "id": "a8c3118b-eebc-4970-9954-0d1cae905542",
   "metadata": {
    "tags": []
   },
   "outputs": [],
   "source": [
    "# do this if you have changed `mkdata.py` or `config.yaml`\n",
    "\n",
    "Mk.config()"
   ]
  },
  {
   "cell_type": "markdown",
   "id": "db890030-67e5-46a5-b562-20105b904485",
   "metadata": {},
   "source": [
    "# Settings\n",
    "\n",
    "Generate the settings for the client app, but do not dump them yet to file.\n",
    "Also the legends are generated here, which might use the loaded data."
   ]
  },
  {
   "cell_type": "code",
   "execution_count": null,
   "id": "7ddca88b-d2e6-45f1-b346-6dfcc68ec693",
   "metadata": {},
   "outputs": [],
   "source": [
    "Mk.makeClientSettings()"
   ]
  },
  {
   "cell_type": "markdown",
   "id": "6702bedb-f0c8-42d3-8210-072de078afd8",
   "metadata": {},
   "source": [
    "# Links\n",
    "\n",
    "Generate links from section nodes to online locations of those sections.\n",
    "\n",
    "This is done by simply calling the Text-Fabric API."
   ]
  },
  {
   "cell_type": "code",
   "execution_count": null,
   "id": "1e91ceab-9268-40d5-aa78-caf5c764b453",
   "metadata": {},
   "outputs": [],
   "source": [
    "Mk.makeLinks()"
   ]
  },
  {
   "cell_type": "markdown",
   "id": "daf1247e-4b8a-4076-a477-08fb452c955b",
   "metadata": {},
   "source": [
    "# Record\n",
    "\n",
    "Here we call the app-dependent function `record()`, \n",
    "which records the corpus data in `recorders` and `accumulators`.\n",
    "\n",
    "Some layers can use the position data of other layers, and these layers are stored in accumulators.\n",
    "\n",
    "Layers with their own position data are stored in recorders, they remember the node positions within\n",
    "the stored material. This is a Text-Fabric device, see [Recorder](https://annotation.github.io/text-fabric/tf/convert/recorder.html)."
   ]
  },
  {
   "cell_type": "code",
   "execution_count": null,
   "id": "9c241325-b586-480b-89e1-77bcdd2bfb4e",
   "metadata": {},
   "outputs": [],
   "source": [
    "Mk.config()\n",
    "Mk.record()"
   ]
  },
  {
   "cell_type": "markdown",
   "id": "1b411566-2950-4ae5-8228-65ce06ca5a6b",
   "metadata": {},
   "source": [
    "# Dump data\n",
    "\n",
    "The corpus texts and positions are derived from the recorders and accumulators, and written to file."
   ]
  },
  {
   "cell_type": "code",
   "execution_count": null,
   "id": "b4660bd7-42b4-4f48-99f4-ae4b986e47f3",
   "metadata": {},
   "outputs": [],
   "source": [
    "Mk.config()\n",
    "Mk.dumpCorpus()"
   ]
  },
  {
   "cell_type": "markdown",
   "id": "acf1edda-5691-4336-b9a5-06559cc9b4b6",
   "metadata": {},
   "source": [
    "# Dump configuration\n",
    "\n",
    "The client settings, generated in an earlier step, are dumped to file, next to the corpus data."
   ]
  },
  {
   "cell_type": "code",
   "execution_count": null,
   "id": "414381df-a825-43bd-9eef-9de37c3cd895",
   "metadata": {},
   "outputs": [],
   "source": [
    "Mk.dumpConfig()"
   ]
  },
  {
   "cell_type": "markdown",
   "id": "f03ad772-d846-43cc-828a-861ba1d52612",
   "metadata": {},
   "source": [
    "# Make\n",
    "\n",
    "The client app is composed as an HTML page with CSS styles and a JavaScript program,\n",
    "and it is moved to the `site` directory of the repo.\n",
    "\n",
    "We also set the debug flag reflecting how we initialized the maker: debug is on."
   ]
  },
  {
   "cell_type": "code",
   "execution_count": null,
   "id": "11e2736e-b7cd-4b38-a96d-ac172a9b1e0d",
   "metadata": {},
   "outputs": [],
   "source": [
    "Mk.makeClient()\n",
    "Mk.adjustDebug()"
   ]
  },
  {
   "cell_type": "code",
   "execution_count": null,
   "id": "850bb865-ac64-4777-a92f-62112120eb05",
   "metadata": {},
   "outputs": [],
   "source": []
  }
 ],
 "metadata": {
  "kernelspec": {
   "display_name": "Python 3 (ipykernel)",
   "language": "python",
   "name": "python3"
  },
  "language_info": {
   "codemirror_mode": {
    "name": "ipython",
    "version": 3
   },
   "file_extension": ".py",
   "mimetype": "text/x-python",
   "name": "python",
   "nbconvert_exporter": "python",
   "pygments_lexer": "ipython3",
   "version": "3.10.4"
  },
  "widgets": {
   "application/vnd.jupyter.widget-state+json": {
    "state": {},
    "version_major": 2,
    "version_minor": 0
   }
  }
 },
 "nbformat": 4,
 "nbformat_minor": 5
}
