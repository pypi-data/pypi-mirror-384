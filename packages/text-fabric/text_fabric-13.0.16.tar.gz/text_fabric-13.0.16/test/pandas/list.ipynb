{
 "cells": [
  {
   "cell_type": "code",
   "execution_count": 1,
   "metadata": {},
   "outputs": [],
   "source": [
    "from timeit import timeit"
   ]
  },
  {
   "cell_type": "code",
   "execution_count": 2,
   "metadata": {},
   "outputs": [],
   "source": [
    "tmpList = []\n",
    "tmpDict = {}"
   ]
  },
  {
   "cell_type": "code",
   "execution_count": 3,
   "metadata": {},
   "outputs": [
    {
     "name": "stdout",
     "output_type": "stream",
     "text": [
      "0.08886219099999959\n"
     ]
    }
   ],
   "source": [
    "timeListAdd = timeit(\"\"\"\n",
    "for i in range(1000000):\n",
    "    tmpList.append(True)\n",
    "\"\"\", globals=locals(), number=1)\n",
    "print(timeListAdd)"
   ]
  },
  {
   "cell_type": "code",
   "execution_count": 4,
   "metadata": {},
   "outputs": [
    {
     "name": "stdout",
     "output_type": "stream",
     "text": [
      "0.1336365199999996\n"
     ]
    }
   ],
   "source": [
    "timeDictAdd = timeit(\"\"\"\n",
    "for i in range(1000000):\n",
    "    tmpDict[i]= True\n",
    "\"\"\", globals=locals(), number=1)\n",
    "print(timeDictAdd)"
   ]
  },
  {
   "cell_type": "code",
   "execution_count": 5,
   "metadata": {},
   "outputs": [
    {
     "name": "stdout",
     "output_type": "stream",
     "text": [
      "0.06501517400000001\n"
     ]
    }
   ],
   "source": [
    "timeListAccess = timeit(\"\"\"\n",
    "for i in range(1000000):\n",
    "    tmpList[i]\n",
    "\"\"\", globals=locals(), number=1)\n",
    "print(timeListAccess)"
   ]
  },
  {
   "cell_type": "code",
   "execution_count": 6,
   "metadata": {},
   "outputs": [
    {
     "name": "stdout",
     "output_type": "stream",
     "text": [
      "0.08099801200000023\n"
     ]
    }
   ],
   "source": [
    "timeDictAccess = timeit(\"\"\"\n",
    "for i in range(1000000):\n",
    "    tmpDict[i]\n",
    "\"\"\", globals=locals(), number=1)\n",
    "print(timeDictAccess)"
   ]
  },
  {
   "cell_type": "code",
   "execution_count": null,
   "metadata": {},
   "outputs": [],
   "source": []
  },
  {
   "cell_type": "code",
   "execution_count": 11,
   "metadata": {},
   "outputs": [
    {
     "name": "stdout",
     "output_type": "stream",
     "text": [
      "0.03953780500000903\n"
     ]
    }
   ],
   "source": [
    "timeListCreate = timeit(\"\"\"tmpList = [True for i in range(1000000)]\"\"\", globals=locals(), number=1)\n",
    "print(timeListCreate)"
   ]
  },
  {
   "cell_type": "code",
   "execution_count": 10,
   "metadata": {},
   "outputs": [
    {
     "name": "stdout",
     "output_type": "stream",
     "text": [
      "0.0972781530000475\n"
     ]
    }
   ],
   "source": [
    "timeDictCreate = timeit(\"\"\"tmpDict = {i: True for i in range(1000000)}\"\"\", globals=locals(), number=1)\n",
    "print(timeDictCreate)"
   ]
  },
  {
   "cell_type": "code",
   "execution_count": null,
   "metadata": {},
   "outputs": [],
   "source": []
  }
 ],
 "metadata": {
  "kernelspec": {
   "display_name": "Python3.9",
   "language": "python",
   "name": "python3"
  },
  "language_info": {
   "codemirror_mode": {
    "name": "ipython",
    "version": 3
   },
   "file_extension": ".py",
   "mimetype": "text/x-python",
   "name": "python",
   "nbconvert_exporter": "python",
   "pygments_lexer": "ipython3",
   "version": "3.9.0"
  }
 },
 "nbformat": 4,
 "nbformat_minor": 4
}
