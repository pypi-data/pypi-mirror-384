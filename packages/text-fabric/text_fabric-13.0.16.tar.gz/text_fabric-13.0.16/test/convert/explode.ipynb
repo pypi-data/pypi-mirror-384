{
 "cells": [
  {
   "cell_type": "code",
   "execution_count": 1,
   "metadata": {
    "ExecuteTime": {
     "end_time": "2018-10-18T10:40:34.922214Z",
     "start_time": "2018-10-18T10:40:34.901689Z"
    }
   },
   "outputs": [],
   "source": [
    "%load_ext autoreload\n",
    "%autoreload 2"
   ]
  },
  {
   "cell_type": "code",
   "execution_count": 2,
   "metadata": {},
   "outputs": [],
   "source": [
    "import os\n",
    "\n",
    "from tf.convert.tf import explode"
   ]
  },
  {
   "cell_type": "markdown",
   "metadata": {},
   "source": [
    "# Exploding\n",
    "\n",
    "This is rewriting a TF feature file in a more straightforward data file.\n",
    "\n",
    "It is still a text file, but each node-feature value pair occupies a single line,\n",
    "in which node and value are explicitly stated.\n",
    "\n",
    "For edge features, the node pair and feature value occupy a single line, with a tab\n",
    "separating the first node, second node, and the value.\n",
    "\n",
    "All metadata is lost.\n",
    "\n",
    "# Rationale\n",
    "\n",
    "When it comes to (big) data processing, the Text-Fabric library might easily get in the way.\n",
    "By converting the typical, optimized Text-Fabric feature files to explicit tab separated files\n",
    "with the same information context, the data can flow smoothly into other systems.\n",
    "\n",
    "We explode a bunch of small test features in one go."
   ]
  },
  {
   "cell_type": "code",
   "execution_count": 3,
   "metadata": {},
   "outputs": [
    {
     "name": "stdout",
     "output_type": "stream",
     "text": [
      "explode/in/otext.tf => explode/out/otext.tf:\n",
      "\t! This is a config feature. It has no data.\n"
     ]
    },
    {
     "data": {
      "text/plain": [
       "True"
      ]
     },
     "execution_count": 3,
     "metadata": {},
     "output_type": "execute_result"
    }
   ],
   "source": [
    "explode('explode/in', 'explode/out')"
   ]
  },
  {
   "cell_type": "markdown",
   "metadata": {},
   "source": [
    "## Config features"
   ]
  },
  {
   "cell_type": "code",
   "execution_count": 4,
   "metadata": {},
   "outputs": [
    {
     "name": "stdout",
     "output_type": "stream",
     "text": [
      "@config\n",
      "@fmt:text-orig-full={qere_utf8/g_word_utf8}{qere_trailer_utf8/trailer_utf8}\n",
      "@sectionFeatures=book,chapter,verse\n",
      "@sectionTypes=book,chapter,verse\n"
     ]
    }
   ],
   "source": [
    "!cat explode/in/otext.tf"
   ]
  },
  {
   "cell_type": "markdown",
   "metadata": {},
   "source": [
    "A config feature has no data, so there is no result file."
   ]
  },
  {
   "cell_type": "code",
   "execution_count": 5,
   "metadata": {},
   "outputs": [
    {
     "name": "stdout",
     "output_type": "stream",
     "text": [
      "cat: explode/out/otext.tf: No such file or directory\n"
     ]
    }
   ],
   "source": [
    "!cat explode/out/otext.tf"
   ]
  },
  {
   "cell_type": "markdown",
   "metadata": {},
   "source": [
    "## Node features"
   ]
  },
  {
   "cell_type": "markdown",
   "metadata": {},
   "source": [
    "### book"
   ]
  },
  {
   "cell_type": "code",
   "execution_count": 6,
   "metadata": {},
   "outputs": [
    {
     "name": "stdout",
     "output_type": "stream",
     "text": [
      "@node\n",
      "@valueType=str\n",
      "\n",
      "100\tGenesis\n",
      "Exodus\n",
      "Leviticus\n",
      "Numeri\n",
      "Deuteronomium\n",
      "200\tJosua\n",
      "Judices\n",
      "Samuel_I\n",
      "Samuel_II\n",
      "Reges_I\n",
      "Reges_II\n"
     ]
    }
   ],
   "source": [
    "!cat explode/in/book.tf"
   ]
  },
  {
   "cell_type": "markdown",
   "metadata": {},
   "source": [
    "watch how the gaps behave"
   ]
  },
  {
   "cell_type": "code",
   "execution_count": 7,
   "metadata": {},
   "outputs": [
    {
     "name": "stdout",
     "output_type": "stream",
     "text": [
      "100\tGenesis\n",
      "101\tExodus\n",
      "102\tLeviticus\n",
      "103\tNumeri\n",
      "104\tDeuteronomium\n",
      "200\tJosua\n",
      "201\tJudices\n",
      "202\tSamuel_I\n",
      "203\tSamuel_II\n",
      "204\tReges_I\n",
      "205\tReges_II\n"
     ]
    }
   ],
   "source": [
    "!cat explode/out/book.tf"
   ]
  },
  {
   "cell_type": "markdown",
   "metadata": {},
   "source": [
    "### otype\n",
    "\n",
    "Now a node feature with ranges:"
   ]
  },
  {
   "cell_type": "code",
   "execution_count": 8,
   "metadata": {},
   "outputs": [
    {
     "name": "stdout",
     "output_type": "stream",
     "text": [
      "@node\n",
      "@valueType=str\n",
      "\n",
      "1-3,5\tword\n",
      "6-8\tphrase\n",
      "9,10\tclause\n",
      "11\tsentence\n"
     ]
    }
   ],
   "source": [
    "!cat explode/in/otype.tf"
   ]
  },
  {
   "cell_type": "code",
   "execution_count": 9,
   "metadata": {},
   "outputs": [
    {
     "name": "stdout",
     "output_type": "stream",
     "text": [
      "1\tword\n",
      "2\tword\n",
      "3\tword\n",
      "5\tword\n",
      "6\tphrase\n",
      "7\tphrase\n",
      "8\tphrase\n",
      "9\tclause\n",
      "10\tclause\n",
      "11\tsentence\n"
     ]
    }
   ],
   "source": [
    "!cat explode/out/otype.tf"
   ]
  },
  {
   "cell_type": "markdown",
   "metadata": {},
   "source": [
    "## Edge features\n",
    "\n",
    "### oslots\n",
    "\n",
    "An edge feature without values."
   ]
  },
  {
   "cell_type": "code",
   "execution_count": 10,
   "metadata": {},
   "outputs": [
    {
     "name": "stdout",
     "output_type": "stream",
     "text": [
      "@edge\n",
      "@valueType=int\n",
      "\n",
      "1\t5-10\n",
      "5-7,8\n",
      "10\t12,14\n",
      "13,15\n"
     ]
    }
   ],
   "source": [
    "!cat explode/in/oslots.tf"
   ]
  },
  {
   "cell_type": "code",
   "execution_count": 11,
   "metadata": {},
   "outputs": [
    {
     "name": "stdout",
     "output_type": "stream",
     "text": [
      "1\t5\n",
      "1\t6\n",
      "1\t7\n",
      "1\t8\n",
      "1\t9\n",
      "1\t10\n",
      "2\t5\n",
      "2\t6\n",
      "2\t7\n",
      "2\t8\n",
      "10\t12\n",
      "10\t14\n",
      "11\t13\n",
      "11\t15\n"
     ]
    }
   ],
   "source": [
    "!cat explode/out/oslots.tf"
   ]
  },
  {
   "cell_type": "markdown",
   "metadata": {},
   "source": [
    "### `crossref`\n",
    "\n",
    "An edge feature with integer values."
   ]
  },
  {
   "cell_type": "code",
   "execution_count": 12,
   "metadata": {},
   "outputs": [
    {
     "name": "stdout",
     "output_type": "stream",
     "text": [
      "@edge\n",
      "@edgeValues\n",
      "@valueType=int\n",
      "\n",
      "1\t5-10\t10\n",
      "5-7,8\t20\n",
      "10\t12,14\t75\n",
      "13,15\t80\n"
     ]
    }
   ],
   "source": [
    "!cat explode/in/crossref.tf"
   ]
  },
  {
   "cell_type": "code",
   "execution_count": 13,
   "metadata": {},
   "outputs": [
    {
     "name": "stdout",
     "output_type": "stream",
     "text": [
      "1\t5\t10\n",
      "1\t6\t10\n",
      "1\t7\t10\n",
      "1\t8\t10\n",
      "1\t9\t10\n",
      "1\t10\t10\n",
      "2\t5\t20\n",
      "2\t6\t20\n",
      "2\t7\t20\n",
      "2\t8\t20\n",
      "10\t12\t75\n",
      "10\t14\t75\n",
      "11\t13\t80\n",
      "11\t15\t80\n"
     ]
    }
   ],
   "source": [
    "!cat explode/out/crossref.tf"
   ]
  },
  {
   "cell_type": "markdown",
   "metadata": {},
   "source": [
    "### mother\n",
    "\n",
    "An edge feature with string values."
   ]
  },
  {
   "cell_type": "code",
   "execution_count": 14,
   "metadata": {},
   "outputs": [
    {
     "name": "stdout",
     "output_type": "stream",
     "text": [
      "@edge\n",
      "@edgeValues\n",
      "@valueType=str\n",
      "\n",
      "1\t5-10\tapo\n",
      "5-7,8\tepi\n",
      "10\t12,14\tdia\n",
      "13,15\tpros\n"
     ]
    }
   ],
   "source": [
    "!cat explode/in/mother.tf"
   ]
  },
  {
   "cell_type": "code",
   "execution_count": 15,
   "metadata": {},
   "outputs": [
    {
     "name": "stdout",
     "output_type": "stream",
     "text": [
      "1\t5\tapo\n",
      "1\t6\tapo\n",
      "1\t7\tapo\n",
      "1\t8\tapo\n",
      "1\t9\tapo\n",
      "1\t10\tapo\n",
      "2\t5\tepi\n",
      "2\t6\tepi\n",
      "2\t7\tepi\n",
      "2\t8\tepi\n",
      "10\t12\tdia\n",
      "10\t14\tdia\n",
      "11\t13\tpros\n",
      "11\t15\tpros\n"
     ]
    }
   ],
   "source": [
    "!cat explode/out/mother.tf"
   ]
  },
  {
   "cell_type": "markdown",
   "metadata": {},
   "source": [
    "## Bigger features from the BHSA"
   ]
  },
  {
   "cell_type": "code",
   "execution_count": 16,
   "metadata": {},
   "outputs": [],
   "source": [
    "bhsaPath = os.path.expanduser('~/github/etcbc/bhsa')\n",
    "paraPath = os.path.expanduser('~/github/etcbc/parallels')\n",
    "bhsaTfIn = f'{bhsaPath}/tf/c'\n",
    "paraTfIn = f'{paraPath}/tf/c'\n",
    "bhsaTfOut = f'{bhsaPath}/_temp/tf/c'"
   ]
  },
  {
   "cell_type": "code",
   "execution_count": 17,
   "metadata": {},
   "outputs": [],
   "source": [
    "def example(feat):\n",
    "    tfIn = paraTfIn if feat == \"crossref\" else bhsaTfIn\n",
    "    explode(f\"{tfIn}/{feat}.tf\", f\"{bhsaTfOut}/{feat}.tf\")"
   ]
  },
  {
   "cell_type": "code",
   "execution_count": 18,
   "metadata": {},
   "outputs": [],
   "source": [
    "example('book')"
   ]
  },
  {
   "cell_type": "code",
   "execution_count": 19,
   "metadata": {},
   "outputs": [],
   "source": [
    "example('g_word_utf8')"
   ]
  },
  {
   "cell_type": "code",
   "execution_count": 20,
   "metadata": {},
   "outputs": [],
   "source": [
    "example('otype')"
   ]
  },
  {
   "cell_type": "code",
   "execution_count": 21,
   "metadata": {},
   "outputs": [
    {
     "name": "stdout",
     "output_type": "stream",
     "text": [
      "~/github/etcbc/bhsa/tf/c/otext.tf => ~/github/etcbc/bhsa/_temp/tf/c/otext.tf:\n",
      "\t! This is a config feature. It has no data.\n"
     ]
    }
   ],
   "source": [
    "example('otext')"
   ]
  },
  {
   "cell_type": "code",
   "execution_count": 22,
   "metadata": {},
   "outputs": [],
   "source": [
    "example('oslots')"
   ]
  },
  {
   "cell_type": "code",
   "execution_count": 23,
   "metadata": {},
   "outputs": [],
   "source": [
    "example('mother')"
   ]
  },
  {
   "cell_type": "code",
   "execution_count": 24,
   "metadata": {},
   "outputs": [],
   "source": [
    "example('crossref')"
   ]
  },
  {
   "cell_type": "code",
   "execution_count": 25,
   "metadata": {},
   "outputs": [
    {
     "name": "stdout",
     "output_type": "stream",
     "text": [
      "~/github/etcbc/bhsa/tf/c/otext.tf => ~/github/etcbc/bhsa/_temp/tf/c/otext.tf:\n",
      "\t! This is a config feature. It has no data.\n"
     ]
    },
    {
     "data": {
      "text/plain": [
       "True"
      ]
     },
     "execution_count": 25,
     "metadata": {},
     "output_type": "execute_result"
    }
   ],
   "source": [
    "explode(bhsaTfIn, bhsaTfOut)"
   ]
  },
  {
   "cell_type": "markdown",
   "metadata": {},
   "source": [
    "### Size\n",
    "\n",
    "The compact TF files occupy 155 MB on disk, the exploded ones take 453 MB."
   ]
  },
  {
   "cell_type": "code",
   "execution_count": 29,
   "metadata": {},
   "outputs": [
    {
     "name": "stdout",
     "output_type": "stream",
     "text": [
      "total 302488\n",
      "-rw-r--r--  1 dirk  staff    199847 Oct  8  2018 book.tf\n",
      "-rw-r--r--  1 dirk  staff      1573 Oct  8  2018 book@am.tf\n",
      "-rw-r--r--  1 dirk  staff       894 Oct  8  2018 book@ar.tf\n",
      "-rw-r--r--  1 dirk  staff      1366 Oct  8  2018 book@bn.tf\n",
      "-rw-r--r--  1 dirk  staff       768 Oct  8  2018 book@da.tf\n",
      "-rw-r--r--  1 dirk  staff       747 Oct  8  2018 book@de.tf\n",
      "-rw-r--r--  1 dirk  staff      1039 Oct  8  2018 book@el.tf\n",
      "-rw-r--r--  1 dirk  staff       760 Oct  8  2018 book@en.tf\n",
      "-rw-r--r--  1 dirk  staff       770 Oct  8  2018 book@es.tf\n",
      "-rw-r--r--  1 dirk  staff       970 Oct  8  2018 book@fa.tf\n",
      "-rw-r--r--  1 dirk  staff       778 Oct  8  2018 book@fr.tf\n",
      "-rw-r--r--  1 dirk  staff       894 Oct  8  2018 book@he.tf\n",
      "-rw-r--r--  1 dirk  staff      1255 Oct  8  2018 book@hi.tf\n",
      "-rw-r--r--  1 dirk  staff       760 Oct  8  2018 book@id.tf\n",
      "-rw-r--r--  1 dirk  staff       969 Oct  8  2018 book@ja.tf\n",
      "-rw-r--r--  1 dirk  staff       832 Oct  8  2018 book@ko.tf\n",
      "-rw-r--r--  1 dirk  staff       742 Oct  8  2018 book@la.tf\n",
      "-rw-r--r--  1 dirk  staff       757 Oct  8  2018 book@nl.tf\n",
      "-rw-r--r--  1 dirk  staff      1212 Oct  8  2018 book@pa.tf\n",
      "-rw-r--r--  1 dirk  staff       783 Oct  8  2018 book@pt.tf\n",
      "-rw-r--r--  1 dirk  staff      1040 Oct  8  2018 book@ru.tf\n",
      "-rw-r--r--  1 dirk  staff       782 Oct  8  2018 book@sw.tf\n",
      "-rw-r--r--  1 dirk  staff       952 Oct  8  2018 book@syc.tf\n",
      "-rw-r--r--  1 dirk  staff       800 Oct  8  2018 book@tr.tf\n",
      "-rw-r--r--  1 dirk  staff       950 Oct  8  2018 book@ur.tf\n",
      "-rw-r--r--  1 dirk  staff       803 Oct  8  2018 book@yo.tf\n",
      "-rw-r--r--  1 dirk  staff       902 Oct  8  2018 book@zh.tf\n",
      "-rw-r--r--  1 dirk  staff     66329 Oct  8  2018 chapter.tf\n",
      "-rw-r--r--  1 dirk  staff    348920 Oct  8  2018 code.tf\n",
      "-rw-r--r--  1 dirk  staff   1803148 Oct  8  2018 det.tf\n",
      "-rw-r--r--  1 dirk  staff   1812333 Oct  8  2018 dist.tf\n",
      "-rw-r--r--@ 1 dirk  staff   7891814 Oct  8  2018 dist_unit.tf\n",
      "-rw-r--r--  1 dirk  staff   5854292 Oct  8  2018 distributional_parent.tf\n",
      "-rw-r--r--  1 dirk  staff    176615 Oct  8  2018 domain.tf\n",
      "-rw-r--r--  1 dirk  staff   2000220 Oct  8  2018 freq_lex.tf\n",
      "-rw-r--r--  1 dirk  staff   1832491 Oct  8  2018 freq_occ.tf\n",
      "-rw-r--r--@ 1 dirk  staff   1266408 Oct  8  2018 function.tf\n",
      "-rw-r--r--  1 dirk  staff   8487696 Oct  8  2018 functional_parent.tf\n",
      "-rw-r--r--  1 dirk  staff   1624715 Oct  8  2018 g_cons.tf\n",
      "-rw-r--r--  1 dirk  staff   2938153 Oct  8  2018 g_cons_utf8.tf\n",
      "-rw-r--r--  1 dirk  staff   2304800 Oct  8  2018 g_lex.tf\n",
      "-rw-r--r--  1 dirk  staff   3995252 Oct  8  2018 g_lex_utf8.tf\n",
      "-rw-r--r--  1 dirk  staff    749721 Oct  8  2018 g_nme.tf\n",
      "-rw-r--r--  1 dirk  staff   1072447 Oct  8  2018 g_nme_utf8.tf\n",
      "-rw-r--r--  1 dirk  staff    599904 Oct  8  2018 g_pfm.tf\n",
      "-rw-r--r--  1 dirk  staff    591926 Oct  8  2018 g_pfm_utf8.tf\n",
      "-rw-r--r--  1 dirk  staff    575900 Oct  8  2018 g_prs.tf\n",
      "-rw-r--r--  1 dirk  staff    634190 Oct  8  2018 g_prs_utf8.tf\n",
      "-rw-r--r--  1 dirk  staff    437982 Oct  8  2018 g_uvf.tf\n",
      "-rw-r--r--  1 dirk  staff    441920 Oct  8  2018 g_uvf_utf8.tf\n",
      "-rw-r--r--  1 dirk  staff    556313 Oct  8  2018 g_vbe.tf\n",
      "-rw-r--r--  1 dirk  staff    538218 Oct  8  2018 g_vbe_utf8.tf\n",
      "-rw-r--r--  1 dirk  staff    476466 Oct  8  2018 g_vbs.tf\n",
      "-rw-r--r--  1 dirk  staff    464148 Oct  8  2018 g_vbs_utf8.tf\n",
      "-rw-r--r--  1 dirk  staff   3294928 Oct  8  2018 g_word.tf\n",
      "-rw-r--r--@ 1 dirk  staff   5392254 Oct  8  2018 g_word_utf8.tf\n",
      "-rw-r--r--  1 dirk  staff   2572541 Jan 31  2019 gloss.tf\n",
      "-rw-r--r--  1 dirk  staff   1306820 Oct  8  2018 gn.tf\n",
      "-rw-r--r--  1 dirk  staff    273151 Oct  8  2018 instruction.tf\n",
      "-rw-r--r--  1 dirk  staff    543412 Oct  8  2018 is_root.tf\n",
      "-rw-r--r--  1 dirk  staff    264736 Oct  8  2018 kind.tf\n",
      "-rw-r--r--  1 dirk  staff    441971 Oct  8  2018 kq_hybrid.tf\n",
      "-rw-r--r--  1 dirk  staff    452822 Oct  8  2018 kq_hybrid_utf8.tf\n",
      "-rw-r--r--  1 dirk  staff    346084 Oct  8  2018 label.tf\n",
      "-rw-r--r--  1 dirk  staff   3057886 Oct  8  2018 language.tf\n",
      "-rw-r--r--  1 dirk  staff   1706681 Oct  8  2018 languageISO.tf\n",
      "-rw-r--r--  1 dirk  staff   1792839 Oct  8  2018 lex.tf\n",
      "-rw-r--r--  1 dirk  staff   1477385 Oct  8  2018 lex0.tf\n",
      "-rw-r--r--  1 dirk  staff   2643142 Oct  8  2018 lex_utf8.tf\n",
      "-rw-r--r--  1 dirk  staff    853534 Oct  8  2018 lexeme_count.tf\n",
      "-rw-r--r--  1 dirk  staff   2137318 Oct  8  2018 ls.tf\n",
      "-rw-r--r--  1 dirk  staff   1855869 Oct  8  2018 mother.tf\n",
      "-rw-r--r--  1 dirk  staff   1179072 Oct  8  2018 mother_object_type.tf\n",
      "-rw-r--r--  1 dirk  staff    471922 Jan 31  2019 nametype.tf\n",
      "-rw-r--r--  1 dirk  staff   1420168 Oct  8  2018 nme.tf\n",
      "-rw-r--r--  1 dirk  staff   1322728 Oct  8  2018 nu.tf\n",
      "-rw-r--r--@ 1 dirk  staff   5206493 Oct  8  2018 number.tf\n",
      "-rw-r--r--@ 1 dirk  staff  13526590 Oct  8  2018 oslots.tf\n",
      "-rw-r--r--@ 1 dirk  staff       955 Oct  8  2018 otext.tf\n",
      "-rw-r--r--  1 dirk  staff       643 Oct  8  2018 otype.tf\n",
      "-rw-r--r--  1 dirk  staff    491049 Oct  8  2018 pargr.tf\n",
      "-rw-r--r--  1 dirk  staff   2104205 Oct  8  2018 pdp.tf\n",
      "-rw-r--r--  1 dirk  staff   1694107 Oct  8  2018 pfm.tf\n",
      "-rw-r--r--  1 dirk  staff   2336489 Oct  8  2018 prs.tf\n",
      "-rw-r--r--  1 dirk  staff   2471862 Oct  8  2018 prs_gn.tf\n",
      "-rw-r--r--  1 dirk  staff   2459828 Oct  8  2018 prs_nu.tf\n",
      "-rw-r--r--  1 dirk  staff   2459828 Oct  8  2018 prs_ps.tf\n",
      "-rw-r--r--  1 dirk  staff   1366128 Oct  8  2018 ps.tf\n",
      "-rw-r--r--  1 dirk  staff     25209 Oct  8  2018 qere.tf\n",
      "-rw-r--r--  1 dirk  staff     12504 Oct  8  2018 qere_trailer.tf\n",
      "-rw-r--r--  1 dirk  staff     12566 Oct  8  2018 qere_trailer_utf8.tf\n",
      "-rw-r--r--  1 dirk  staff     36405 Oct  8  2018 qere_utf8.tf\n",
      "-rw-r--r--  1 dirk  staff   1348594 Oct  8  2018 rank_lex.tf\n",
      "-rw-r--r--  1 dirk  staff   1422464 Oct  8  2018 rank_occ.tf\n",
      "-rw-r--r--  1 dirk  staff   2296675 Oct  8  2018 rela.tf\n",
      "-rw-r--r--  1 dirk  staff     12590 Oct  8  2018 root.tf\n",
      "-rw-r--r--@ 1 dirk  staff   2149051 Oct  8  2018 sp.tf\n",
      "-rw-r--r--  1 dirk  staff   1098888 Oct  8  2018 st.tf\n",
      "-rw-r--r--  1 dirk  staff   2471862 Oct  8  2018 suffix_gender.tf\n",
      "-rw-r--r--  1 dirk  staff   2459828 Oct  8  2018 suffix_number.tf\n",
      "-rw-r--r--  1 dirk  staff   2459828 Oct  8  2018 suffix_person.tf\n",
      "-rw-r--r--  1 dirk  staff    203139 Oct  8  2018 tab.tf\n",
      "-rw-r--r--  1 dirk  staff    788785 Oct  8  2018 trailer.tf\n",
      "-rw-r--r--  1 dirk  staff    834217 Oct  8  2018 trailer_utf8.tf\n",
      "-rw-r--r--  1 dirk  staff    250964 Oct  8  2018 txt.tf\n",
      "-rw-r--r--  1 dirk  staff   2592689 Oct  8  2018 typ.tf\n",
      "-rw-r--r--  1 dirk  staff   2968724 Oct  8  2018 uvf.tf\n",
      "-rw-r--r--  1 dirk  staff   1514896 Oct  8  2018 vbe.tf\n",
      "-rw-r--r--  1 dirk  staff   1852214 Oct  8  2018 vbs.tf\n",
      "-rw-r--r--  1 dirk  staff     61864 Oct  8  2018 verse.tf\n",
      "-rw-r--r--  1 dirk  staff   2201766 Jan 31  2019 voc_lex.tf\n",
      "-rw-r--r--  1 dirk  staff   4049029 Jan 31  2019 voc_lex_utf8.tf\n",
      "-rw-r--r--  1 dirk  staff   1362223 Oct  8  2018 vs.tf\n",
      "-rw-r--r--  1 dirk  staff   1427538 Oct  8  2018 vt.tf\n"
     ]
    }
   ],
   "source": [
    "!ls -l ~/github/etcbc/bhsa/tf/c"
   ]
  },
  {
   "cell_type": "code",
   "execution_count": 27,
   "metadata": {},
   "outputs": [
    {
     "name": "stdout",
     "output_type": "stream",
     "text": [
      "total 916000\n",
      "-rw-r--r--  1 dirk  staff    391946 Jul  9 16:03 book.tf\n",
      "-rw-r--r--  1 dirk  staff      1403 Jul  9 16:03 book@am.tf\n",
      "-rw-r--r--  1 dirk  staff       717 Jul  9 16:03 book@ar.tf\n",
      "-rw-r--r--  1 dirk  staff      1193 Jul  9 16:03 book@bn.tf\n",
      "-rw-r--r--  1 dirk  staff       606 Jul  9 16:03 book@da.tf\n",
      "-rw-r--r--  1 dirk  staff       583 Jul  9 16:03 book@de.tf\n",
      "-rw-r--r--  1 dirk  staff       867 Jul  9 16:03 book@el.tf\n",
      "-rw-r--r--  1 dirk  staff       595 Jul  9 16:03 book@en.tf\n",
      "-rw-r--r--  1 dirk  staff       604 Jul  9 16:03 book@es.tf\n",
      "-rw-r--r--  1 dirk  staff       804 Jul  9 16:03 book@fa.tf\n",
      "-rw-r--r--  1 dirk  staff       612 Jul  9 16:03 book@fr.tf\n",
      "-rw-r--r--  1 dirk  staff       727 Jul  9 16:03 book@he.tf\n",
      "-rw-r--r--  1 dirk  staff      1081 Jul  9 16:03 book@hi.tf\n",
      "-rw-r--r--  1 dirk  staff       583 Jul  9 16:03 book@id.tf\n",
      "-rw-r--r--  1 dirk  staff       801 Jul  9 16:03 book@ja.tf\n",
      "-rw-r--r--  1 dirk  staff       666 Jul  9 16:03 book@ko.tf\n",
      "-rw-r--r--  1 dirk  staff       580 Jul  9 16:03 book@la.tf\n",
      "-rw-r--r--  1 dirk  staff       591 Jul  9 16:03 book@nl.tf\n",
      "-rw-r--r--  1 dirk  staff      1036 Jul  9 16:03 book@pa.tf\n",
      "-rw-r--r--  1 dirk  staff       612 Jul  9 16:03 book@pt.tf\n",
      "-rw-r--r--  1 dirk  staff       868 Jul  9 16:03 book@ru.tf\n",
      "-rw-r--r--  1 dirk  staff       615 Jul  9 16:03 book@sw.tf\n",
      "-rw-r--r--  1 dirk  staff       773 Jul  9 16:03 book@syc.tf\n",
      "-rw-r--r--  1 dirk  staff       634 Jul  9 16:03 book@tr.tf\n",
      "-rw-r--r--  1 dirk  staff       783 Jul  9 16:03 book@ur.tf\n",
      "-rw-r--r--  1 dirk  staff       632 Jul  9 16:03 book@yo.tf\n",
      "-rw-r--r--  1 dirk  staff       738 Jul  9 16:03 book@zh.tf\n",
      "-rw-r--r--  1 dirk  staff    258155 Jul  9 16:03 chapter.tf\n",
      "-rw-r--r--  1 dirk  staff    983363 Jul  9 16:03 code.tf\n",
      "-rw-r--r--  1 dirk  staff    611554 Jul  9 16:03 crossref.tf\n",
      "-rw-r--r--  1 dirk  staff   5620301 Jul  9 16:03 det.tf\n",
      "-rw-r--r--  1 dirk  staff   7791630 Jul  9 16:03 dist.tf\n",
      "-rw-r--r--  1 dirk  staff  12325807 Jul  9 16:03 dist_unit.tf\n",
      "-rw-r--r--  1 dirk  staff  11408788 Jul  9 16:03 distributional_parent.tf\n",
      "-rw-r--r--  1 dirk  staff    793089 Jul  9 16:03 domain.tf\n",
      "-rw-r--r--  1 dirk  staff   4948690 Jul  9 16:03 freq_lex.tf\n",
      "-rw-r--r--  1 dirk  staff   4707105 Jul  9 16:03 freq_occ.tf\n",
      "-rw-r--r--  1 dirk  staff   3038484 Jul  9 16:03 function.tf\n",
      "-rw-r--r--  1 dirk  staff  16947680 Jul  9 16:04 functional_parent.tf\n",
      "-rw-r--r--  1 dirk  staff   4499332 Jul  9 16:04 g_cons.tf\n",
      "-rw-r--r--  1 dirk  staff   5812770 Jul  9 16:04 g_cons_utf8.tf\n",
      "-rw-r--r--  1 dirk  staff   5179417 Jul  9 16:04 g_lex.tf\n",
      "-rw-r--r--  1 dirk  staff   6869869 Jul  9 16:04 g_lex_utf8.tf\n",
      "-rw-r--r--  1 dirk  staff   3624338 Jul  9 16:04 g_nme.tf\n",
      "-rw-r--r--  1 dirk  staff   3947064 Jul  9 16:04 g_nme_utf8.tf\n",
      "-rw-r--r--  1 dirk  staff   3474521 Jul  9 16:04 g_pfm.tf\n",
      "-rw-r--r--  1 dirk  staff   3466543 Jul  9 16:04 g_pfm_utf8.tf\n",
      "-rw-r--r--  1 dirk  staff   3450517 Jul  9 16:04 g_prs.tf\n",
      "-rw-r--r--  1 dirk  staff   3508807 Jul  9 16:04 g_prs_utf8.tf\n",
      "-rw-r--r--  1 dirk  staff   3312599 Jul  9 16:04 g_uvf.tf\n",
      "-rw-r--r--  1 dirk  staff   3316537 Jul  9 16:04 g_uvf_utf8.tf\n",
      "-rw-r--r--  1 dirk  staff   3430930 Jul  9 16:04 g_vbe.tf\n",
      "-rw-r--r--  1 dirk  staff   3412835 Jul  9 16:04 g_vbe_utf8.tf\n",
      "-rw-r--r--  1 dirk  staff   3351083 Jul  9 16:04 g_vbs.tf\n",
      "-rw-r--r--  1 dirk  staff   3338765 Jul  9 16:04 g_vbs_utf8.tf\n",
      "-rw-r--r--  1 dirk  staff   6169545 Jul  9 16:04 g_word.tf\n",
      "-rw-r--r--  1 dirk  staff   8266871 Jul  9 16:04 g_word_utf8.tf\n",
      "-rw-r--r--  1 dirk  staff   5521035 Jul  9 16:04 gloss.tf\n",
      "-rw-r--r--  1 dirk  staff   4181437 Jul  9 16:04 gn.tf\n",
      "-rw-r--r--  1 dirk  staff    906880 Jul  9 16:04 instruction.tf\n",
      "-rw-r--r--  1 dirk  staff   1177855 Jul  9 16:04 is_root.tf\n",
      "-rw-r--r--  1 dirk  staff    881210 Jul  9 16:04 kind.tf\n",
      "-rw-r--r--  1 dirk  staff   3316588 Jul  9 16:04 kq_hybrid.tf\n",
      "-rw-r--r--  1 dirk  staff   3327439 Jul  9 16:04 kq_hybrid_utf8.tf\n",
      "-rw-r--r--  1 dirk  staff    847667 Jul  9 16:04 label.tf\n",
      "-rw-r--r--  1 dirk  staff   6006380 Jul  9 16:04 language.tf\n",
      "-rw-r--r--  1 dirk  staff   4581319 Jul  9 16:04 languageISO.tf\n",
      "-rw-r--r--  1 dirk  staff   4741333 Jul  9 16:04 lex.tf\n",
      "-rw-r--r--  1 dirk  staff   4352023 Jul  9 16:04 lex0.tf\n",
      "-rw-r--r--  1 dirk  staff   5517780 Jul  9 16:04 lex_utf8.tf\n",
      "-rw-r--r--  1 dirk  staff   3728151 Jul  9 16:04 lexeme_count.tf\n",
      "-rw-r--r--  1 dirk  staff   5012804 Jul  9 16:04 ls.tf\n",
      "-rw-r--r--  1 dirk  staff   2636124 Jul  9 16:04 mother.tf\n",
      "-rw-r--r--  1 dirk  staff   2706034 Jul  9 16:04 mother_object_type.tf\n",
      "-rw-r--r--  1 dirk  staff    499469 Jul  9 16:04 nametype.tf\n",
      "-rw-r--r--  1 dirk  staff   4294785 Jul  9 16:04 nme.tf\n",
      "-rw-r--r--  1 dirk  staff   4197345 Jul  9 16:04 nu.tf\n",
      "-rw-r--r--  1 dirk  staff  14176301 Jul  9 16:04 number.tf\n",
      "-rw-r--r--  1 dirk  staff  68829583 Jul  9 16:04 oslots.tf\n",
      "-rw-r--r--  1 dirk  staff  22580082 Jul  9 16:04 otype.tf\n",
      "-rw-r--r--  1 dirk  staff   1125513 Jul  9 16:04 pargr.tf\n",
      "-rw-r--r--  1 dirk  staff   4978822 Jul  9 16:04 pdp.tf\n",
      "-rw-r--r--  1 dirk  staff   4568724 Jul  9 16:04 pfm.tf\n",
      "-rw-r--r--  1 dirk  staff   5211106 Jul  9 16:04 prs.tf\n",
      "-rw-r--r--  1 dirk  staff   5346479 Jul  9 16:04 prs_gn.tf\n",
      "-rw-r--r--  1 dirk  staff   5334445 Jul  9 16:04 prs_nu.tf\n",
      "-rw-r--r--  1 dirk  staff   5334445 Jul  9 16:04 prs_ps.tf\n",
      "-rw-r--r--  1 dirk  staff   4240745 Jul  9 16:04 ps.tf\n",
      "-rw-r--r--  1 dirk  staff     29260 Jul  9 16:04 qere.tf\n",
      "-rw-r--r--  1 dirk  staff     16555 Jul  9 16:04 qere_trailer.tf\n",
      "-rw-r--r--  1 dirk  staff     16617 Jul  9 16:04 qere_trailer_utf8.tf\n",
      "-rw-r--r--  1 dirk  staff     40456 Jul  9 16:04 qere_utf8.tf\n",
      "-rw-r--r--  1 dirk  staff   4297064 Jul  9 16:04 rank_lex.tf\n",
      "-rw-r--r--  1 dirk  staff   4297078 Jul  9 16:04 rank_occ.tf\n",
      "-rw-r--r--  1 dirk  staff   7641156 Jul  9 16:04 rela.tf\n",
      "-rw-r--r--  1 dirk  staff     13909 Jul  9 16:04 root.tf\n",
      "-rw-r--r--  1 dirk  staff   5097545 Jul  9 16:04 sp.tf\n",
      "-rw-r--r--  1 dirk  staff   3973505 Jul  9 16:04 st.tf\n",
      "-rw-r--r--  1 dirk  staff   5346479 Jul  9 16:04 suffix_gender.tf\n",
      "-rw-r--r--  1 dirk  staff   5334445 Jul  9 16:05 suffix_number.tf\n",
      "-rw-r--r--  1 dirk  staff   5334445 Jul  9 16:05 suffix_person.tf\n",
      "-rw-r--r--  1 dirk  staff    837582 Jul  9 16:05 tab.tf\n",
      "-rw-r--r--  1 dirk  staff   3663402 Jul  9 16:05 trailer.tf\n",
      "-rw-r--r--  1 dirk  staff   3708834 Jul  9 16:05 trailer_utf8.tf\n",
      "-rw-r--r--  1 dirk  staff    867438 Jul  9 16:05 txt.tf\n",
      "-rw-r--r--  1 dirk  staff   7661498 Jul  9 16:05 typ.tf\n",
      "-rw-r--r--  1 dirk  staff   5843341 Jul  9 16:05 uvf.tf\n",
      "-rw-r--r--  1 dirk  staff   4389513 Jul  9 16:05 vbe.tf\n",
      "-rw-r--r--  1 dirk  staff   4726831 Jul  9 16:05 vbs.tf\n",
      "-rw-r--r--  1 dirk  staff    247194 Jul  9 16:05 verse.tf\n",
      "-rw-r--r--  1 dirk  staff   5150260 Jul  9 16:05 voc_lex.tf\n",
      "-rw-r--r--  1 dirk  staff   6997523 Jul  9 16:05 voc_lex_utf8.tf\n",
      "-rw-r--r--  1 dirk  staff   4236840 Jul  9 16:05 vs.tf\n",
      "-rw-r--r--  1 dirk  staff   4302155 Jul  9 16:05 vt.tf\n"
     ]
    }
   ],
   "source": [
    "!ls -l ~/github/etcbc/bhsa/_temp/tf/c"
   ]
  },
  {
   "cell_type": "code",
   "execution_count": null,
   "metadata": {},
   "outputs": [],
   "source": []
  }
 ],
 "metadata": {
  "kernelspec": {
   "display_name": "Python 3",
   "language": "python",
   "name": "python3"
  },
  "language_info": {
   "codemirror_mode": {
    "name": "ipython",
    "version": 3
   },
   "file_extension": ".py",
   "mimetype": "text/x-python",
   "name": "python",
   "nbconvert_exporter": "python",
   "pygments_lexer": "ipython3",
   "version": "3.8.3"
  }
 },
 "nbformat": 4,
 "nbformat_minor": 4
}
