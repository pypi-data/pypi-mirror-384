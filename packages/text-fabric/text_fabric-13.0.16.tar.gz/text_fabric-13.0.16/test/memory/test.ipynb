{
 "cells": [
  {
   "cell_type": "code",
   "execution_count": 2,
   "metadata": {},
   "outputs": [],
   "source": [
    "%load_ext autoreload\n",
    "%autoreload 2"
   ]
  },
  {
   "cell_type": "code",
   "execution_count": 3,
   "metadata": {},
   "outputs": [],
   "source": [
    "import os\n",
    "from tf.app import use\n",
    "from tf.fabric import Fabric"
   ]
  },
  {
   "cell_type": "code",
   "execution_count": 4,
   "metadata": {},
   "outputs": [],
   "source": [
    "from tf.clean import clean"
   ]
  },
  {
   "cell_type": "code",
   "execution_count": 5,
   "metadata": {},
   "outputs": [
    {
     "name": "stdout",
     "output_type": "stream",
     "text": [
      "/Users/dirk/text-fabric-data/annotation/banks/sim/tf/0.2/.tf/2 version 2: keep\n",
      "/Users/dirk/text-fabric-data/annotation/banks/tf/0.2/.tf/2 version 2: keep\n",
      "/Users/dirk/text-fabric-data/etcbc/lingo/heads/tf/2017/.tf/2 version 2: keep\n",
      "/Users/dirk/text-fabric-data/etcbc/bhsa/tf/2017/.tf/2 version 2: keep\n",
      "/Users/dirk/text-fabric-data/etcbc/bhsa/tf/c/.tf/2 version 2: keep\n",
      "/Users/dirk/text-fabric-data/etcbc/phono/tf/2017/.tf/2 version 2: keep\n",
      "/Users/dirk/text-fabric-data/etcbc/phono/tf/c/.tf/2 version 2: keep\n",
      "/Users/dirk/text-fabric-data/etcbc/dss/parallels/tf/0.4/.tf/2 version 2: keep\n",
      "/Users/dirk/text-fabric-data/etcbc/dss/parallels/tf/0.5/.tf/2 version 2: keep\n",
      "/Users/dirk/text-fabric-data/etcbc/dss/tf/0.4/.tf/2 version 2: keep\n",
      "/Users/dirk/text-fabric-data/etcbc/dss/tf/0.5/.tf/2 version 2: keep\n",
      "/Users/dirk/text-fabric-data/etcbc/parallels/tf/2017/.tf/2 version 2: keep\n",
      "/Users/dirk/text-fabric-data/etcbc/parallels/tf/c/.tf/2 version 2: keep\n",
      "/Users/dirk/text-fabric-data/cmerwich/bh-reference-system/tf/2017/.tf/2 version 2: keep\n",
      "/Users/dirk/github/annotation/text-fabric/test/generic/tf/.tf/2 version 2: keep\n",
      "/Users/dirk/github/etcbc/bhsa/tf/c/.tf/2 version 2: keep\n",
      "/Users/dirk/github/etcbc/phono/tf/c/.tf/2 version 2: keep\n",
      "/Users/dirk/github/etcbc/dss/parallels/tf/0.4.1/.tf/2 version 2: keep\n",
      "/Users/dirk/github/etcbc/dss/parallels/tf/0.5/.tf/2 version 2: keep\n",
      "/Users/dirk/github/etcbc/dss/exercises/tf/0.5/.tf/2 version 2: keep\n",
      "/Users/dirk/github/etcbc/dss/tf/0.5/.tf/2 version 2: keep\n",
      "/Users/dirk/github/etcbc/parallels/tf/c/.tf/2 version 2: keep\n"
     ]
    }
   ],
   "source": [
    "clean(tfd=True, gh=True, dry=False)"
   ]
  },
  {
   "cell_type": "code",
   "execution_count": 6,
   "metadata": {},
   "outputs": [
    {
     "name": "stdout",
     "output_type": "stream",
     "text": [
      "This is Text-Fabric 7.7.8\n",
      "Api reference : https://annotation.github.io/text-fabric/Api/Fabric/\n",
      "\n",
      "114 features found and 0 ignored\n"
     ]
    }
   ],
   "source": [
    "TF = Fabric(locations=os.path.expanduser('~/github/etcbc/bhsa/tf'), modules='c') \n",
    "TF.clearCache()"
   ]
  }
 ],
 "metadata": {
  "kernelspec": {
   "display_name": "Python 3 (ipykernel)",
   "language": "python",
   "name": "python3"
  },
  "language_info": {
   "codemirror_mode": {
    "name": "ipython",
    "version": 3
   },
   "file_extension": ".py",
   "mimetype": "text/x-python",
   "name": "python",
   "nbconvert_exporter": "python",
   "pygments_lexer": "ipython3",
   "version": "3.11.1"
  }
 },
 "nbformat": 4,
 "nbformat_minor": 4
}
