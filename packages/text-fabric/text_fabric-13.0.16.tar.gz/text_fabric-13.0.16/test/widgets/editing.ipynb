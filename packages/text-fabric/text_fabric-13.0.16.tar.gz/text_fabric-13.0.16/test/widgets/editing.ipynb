{
 "cells": [
  {
   "cell_type": "code",
   "execution_count": 4,
   "id": "58e3313b-a246-4d5e-b2fa-4765e4ebb67e",
   "metadata": {},
   "outputs": [],
   "source": [
    "import datetime\n",
    "import ipywidgets as widgets\n",
    "\n",
    "\n",
    "from IPython.display import display, clear_output"
   ]
  },
  {
   "cell_type": "markdown",
   "id": "b44ce99f-db23-4c8d-beb6-e381440e04ff",
   "metadata": {},
   "source": [
    "Exploring the [widgets introduction](https://ipywidgets.readthedocs.io/en/latest/examples/Widget%20List.html) ..."
   ]
  },
  {
   "cell_type": "code",
   "execution_count": 5,
   "id": "d6c2faef-ab1c-4061-82e6-f0aead46df4e",
   "metadata": {},
   "outputs": [
    {
     "data": {
      "application/vnd.jupyter.widget-view+json": {
       "model_id": "",
       "version_major": 2,
       "version_minor": 0
      },
      "text/plain": [
       "IntSlider(value=0)"
      ]
     },
     "metadata": {},
     "output_type": "display_data"
    },
    {
     "data": {
      "application/vnd.jupyter.widget-view+json": {
       "model_id": "",
       "version_major": 2,
       "version_minor": 0
      },
      "text/plain": [
       "IntSlider(value=0)"
      ]
     },
     "metadata": {},
     "output_type": "display_data"
    },
    {
     "data": {
      "application/vnd.jupyter.widget-view+json": {
       "model_id": "",
       "version_major": 2,
       "version_minor": 0
      },
      "text/plain": [
       "IntSlider(value=0)"
      ]
     },
     "metadata": {},
     "output_type": "display_data"
    }
   ],
   "source": [
    "w = widgets.IntSlider()\n",
    "for i in range(3):\n",
    "    display(w)"
   ]
  },
  {
   "cell_type": "code",
   "execution_count": 6,
   "id": "9f141473-623e-4f33-89e5-7e2cc0dc370e",
   "metadata": {},
   "outputs": [],
   "source": [
    "w.close()"
   ]
  },
  {
   "cell_type": "code",
   "execution_count": 7,
   "id": "aff6431e-aa1c-46aa-a40a-25e9c69ac3fe",
   "metadata": {},
   "outputs": [
    {
     "data": {
      "text/plain": [
       "0"
      ]
     },
     "execution_count": 7,
     "metadata": {},
     "output_type": "execute_result"
    }
   ],
   "source": [
    "w.value"
   ]
  },
  {
   "cell_type": "code",
   "execution_count": 8,
   "id": "61eb64f1-9a76-49aa-aa40-2d54810e3200",
   "metadata": {},
   "outputs": [],
   "source": [
    "w.value = 13"
   ]
  },
  {
   "cell_type": "code",
   "execution_count": 9,
   "id": "84215b86-85c3-41b6-bd25-76b003887e66",
   "metadata": {},
   "outputs": [
    {
     "data": {
      "text/plain": [
       "['_dom_classes',\n",
       " '_model_module',\n",
       " '_model_module_version',\n",
       " '_model_name',\n",
       " '_view_count',\n",
       " '_view_module',\n",
       " '_view_module_version',\n",
       " '_view_name',\n",
       " 'continuous_update',\n",
       " 'description',\n",
       " 'description_tooltip',\n",
       " 'disabled',\n",
       " 'layout',\n",
       " 'max',\n",
       " 'min',\n",
       " 'orientation',\n",
       " 'readout',\n",
       " 'readout_format',\n",
       " 'step',\n",
       " 'style',\n",
       " 'value']"
      ]
     },
     "execution_count": 9,
     "metadata": {},
     "output_type": "execute_result"
    }
   ],
   "source": [
    "w.keys"
   ]
  },
  {
   "cell_type": "code",
   "execution_count": 10,
   "id": "bb52e2fb-347c-4d99-ae9a-41f441ec66b6",
   "metadata": {},
   "outputs": [],
   "source": [
    "w._view_count"
   ]
  },
  {
   "cell_type": "code",
   "execution_count": 11,
   "id": "54deaef1-772b-4dd6-bc6a-1c81e950faf5",
   "metadata": {},
   "outputs": [
    {
     "name": "stdout",
     "output_type": "stream",
     "text": [
      "_dom_classes                   = ()\n",
      "_model_module                  = @jupyter-widgets/controls\n",
      "_model_module_version          = 1.5.0\n",
      "_model_name                    = IntSliderModel\n",
      "_view_count                    = None\n",
      "_view_module                   = @jupyter-widgets/controls\n",
      "_view_module_version           = 1.5.0\n",
      "_view_name                     = IntSliderView\n",
      "continuous_update              = True\n",
      "description                    = \n",
      "description_tooltip            = None\n",
      "disabled                       = False\n",
      "layout                         = Layout()\n",
      "max                            = 100\n",
      "min                            = 0\n",
      "orientation                    = horizontal\n",
      "readout                        = True\n",
      "readout_format                 = d\n",
      "step                           = 1\n",
      "style                          = SliderStyle()\n",
      "value                          = 13\n"
     ]
    }
   ],
   "source": [
    "for k in w.keys:\n",
    "    print(f\"{k:<30} = {getattr(w, k)}\")"
   ]
  },
  {
   "cell_type": "code",
   "execution_count": 12,
   "id": "de826243-050b-48b2-9d55-2490493d6bb9",
   "metadata": {},
   "outputs": [],
   "source": [
    "w.orientation = \"vertical\"\n",
    "w.orientation = \"horizontal\""
   ]
  },
  {
   "cell_type": "code",
   "execution_count": 13,
   "id": "ca2c3ea6-dd34-4d2a-821f-a1902492ac66",
   "metadata": {},
   "outputs": [],
   "source": [
    "w.max = 1000"
   ]
  },
  {
   "cell_type": "code",
   "execution_count": 14,
   "id": "d76167ad-0c12-48e5-ae70-f7d94070117d",
   "metadata": {},
   "outputs": [],
   "source": [
    "w.value = 250"
   ]
  },
  {
   "cell_type": "code",
   "execution_count": 15,
   "id": "68fa8fb4-300f-4e27-a77f-f39398576b31",
   "metadata": {},
   "outputs": [
    {
     "data": {
      "application/vnd.jupyter.widget-view+json": {
       "model_id": "5160efc248b740fb93203b3fe0f3bd9e",
       "version_major": 2,
       "version_minor": 0
      },
      "text/plain": [
       "Text(value='Hello Text-Fabric', disabled=True)"
      ]
     },
     "metadata": {},
     "output_type": "display_data"
    }
   ],
   "source": [
    "t = widgets.Text(value=\"Hello Text-Fabric\", disabled=True)\n",
    "display(t)"
   ]
  },
  {
   "cell_type": "code",
   "execution_count": 16,
   "id": "a44c2574-02eb-4a17-b87c-1d1b05cac125",
   "metadata": {},
   "outputs": [],
   "source": [
    "t.disabled = False"
   ]
  },
  {
   "cell_type": "code",
   "execution_count": 17,
   "id": "5d0543fc-1462-4b1e-b8f3-c826cee08f41",
   "metadata": {},
   "outputs": [
    {
     "data": {
      "text/plain": [
       "'Hello Text-Fabric'"
      ]
     },
     "execution_count": 17,
     "metadata": {},
     "output_type": "execute_result"
    }
   ],
   "source": [
    "t.value"
   ]
  },
  {
   "cell_type": "code",
   "execution_count": 18,
   "id": "58aa6883-c0ec-4fe5-b022-e072c95abe8b",
   "metadata": {},
   "outputs": [
    {
     "data": {
      "application/vnd.jupyter.widget-view+json": {
       "model_id": "c0680f2b4e1c4c5ca37f1ef94e7b6c11",
       "version_major": 2,
       "version_minor": 0
      },
      "text/plain": [
       "IntProgress(value=7, description='Loading:', max=10, style=ProgressStyle(bar_color='maroon'))"
      ]
     },
     "metadata": {},
     "output_type": "display_data"
    }
   ],
   "source": [
    "widgets.IntProgress(\n",
    "    value=7,\n",
    "    min=0,\n",
    "    max=10,\n",
    "    description='Loading:',\n",
    "    bar_style='', # 'success', 'info', 'warning', 'danger' or ''\n",
    "    style={'bar_color': 'maroon'},\n",
    "    orientation='horizontal'\n",
    ")"
   ]
  },
  {
   "cell_type": "code",
   "execution_count": 19,
   "id": "332d2e3c-618d-4847-a295-21dd8f9bc6fb",
   "metadata": {},
   "outputs": [
    {
     "data": {
      "application/vnd.jupyter.widget-view+json": {
       "model_id": "fa0ee39df1154bd6ad6a562430862934",
       "version_major": 2,
       "version_minor": 0
      },
      "text/plain": [
       "BoundedIntText(value=7, description='Text:', max=10)"
      ]
     },
     "metadata": {},
     "output_type": "display_data"
    }
   ],
   "source": [
    "widgets.BoundedIntText(\n",
    "    value=7,\n",
    "    min=0,\n",
    "    max=10,\n",
    "    step=1,\n",
    "    description='Text:',\n",
    "    disabled=False\n",
    ")"
   ]
  },
  {
   "cell_type": "code",
   "execution_count": 20,
   "id": "a1e5f717-c250-4657-bbe2-2b02202d90f4",
   "metadata": {},
   "outputs": [
    {
     "data": {
      "application/vnd.jupyter.widget-view+json": {
       "model_id": "7b8fb967338847dca14727ce9fe6cdfc",
       "version_major": 2,
       "version_minor": 0
      },
      "text/plain": [
       "IntText(value=7, description='Any:')"
      ]
     },
     "metadata": {},
     "output_type": "display_data"
    }
   ],
   "source": [
    "widgets.IntText(\n",
    "    value=7,\n",
    "    description='Any:',\n",
    "    disabled=False\n",
    ")"
   ]
  },
  {
   "cell_type": "code",
   "execution_count": 21,
   "id": "e4babc70-d662-492c-b977-f99d767df9b8",
   "metadata": {},
   "outputs": [
    {
     "data": {
      "application/vnd.jupyter.widget-view+json": {
       "model_id": "a50d628dd76b409a8ea667e96deeb618",
       "version_major": 2,
       "version_minor": 0
      },
      "text/plain": [
       "ToggleButton(value=False, description='Click me', icon='check', tooltip='Description')"
      ]
     },
     "metadata": {},
     "output_type": "display_data"
    }
   ],
   "source": [
    "b1 = widgets.ToggleButton(\n",
    "    value=False,\n",
    "    description='Click me',\n",
    "    disabled=False,\n",
    "    button_style='', # 'success', 'info', 'warning', 'danger' or ''\n",
    "    tooltip='Description',\n",
    "    icon='check' # (FontAwesome names without the `fa-` prefix)\n",
    ")\n",
    "display(b1)"
   ]
  },
  {
   "cell_type": "code",
   "execution_count": 22,
   "id": "78240853-2595-4b8c-9f66-e9b6f9b99e89",
   "metadata": {},
   "outputs": [
    {
     "data": {
      "text/plain": [
       "False"
      ]
     },
     "execution_count": 22,
     "metadata": {},
     "output_type": "execute_result"
    }
   ],
   "source": [
    "b1.value"
   ]
  },
  {
   "cell_type": "code",
   "execution_count": 23,
   "id": "2d29a6e9-9bb6-4329-981a-854fcae05a53",
   "metadata": {},
   "outputs": [
    {
     "data": {
      "application/vnd.jupyter.widget-view+json": {
       "model_id": "b56b90b6a92e4baab139e6530b129a4a",
       "version_major": 2,
       "version_minor": 0
      },
      "text/plain": [
       "Checkbox(value=False, description='Check me', indent=False)"
      ]
     },
     "metadata": {},
     "output_type": "display_data"
    }
   ],
   "source": [
    "b2 = widgets.Checkbox(\n",
    "    value=False,\n",
    "    description='Check me',\n",
    "    disabled=False,\n",
    "    indent=False\n",
    ")\n",
    "display(b2)"
   ]
  },
  {
   "cell_type": "code",
   "execution_count": 24,
   "id": "e3d918e4-82d4-4581-b85d-e2c52da045db",
   "metadata": {},
   "outputs": [
    {
     "data": {
      "text/plain": [
       "False"
      ]
     },
     "execution_count": 24,
     "metadata": {},
     "output_type": "execute_result"
    }
   ],
   "source": [
    "b2.value"
   ]
  },
  {
   "cell_type": "code",
   "execution_count": 25,
   "id": "d299ce2f-5075-4175-a8e4-332e057e582f",
   "metadata": {},
   "outputs": [
    {
     "data": {
      "application/vnd.jupyter.widget-view+json": {
       "model_id": "6a53762605e34eb5ba319760a6a67133",
       "version_major": 2,
       "version_minor": 0
      },
      "text/plain": [
       "Valid(value=False, description='Valid!')"
      ]
     },
     "metadata": {},
     "output_type": "display_data"
    }
   ],
   "source": [
    "b3 = widgets.Valid(\n",
    "    value=False,\n",
    "    description='Valid!',\n",
    ")\n",
    "display(b3)"
   ]
  },
  {
   "cell_type": "code",
   "execution_count": 26,
   "id": "84777c5b-4e58-4e8e-8603-667fc38aedbf",
   "metadata": {},
   "outputs": [
    {
     "data": {
      "application/vnd.jupyter.widget-view+json": {
       "model_id": "1ae5ecd19b6b477f9dfaff6468261cfe",
       "version_major": 2,
       "version_minor": 0
      },
      "text/plain": [
       "Dropdown(description='Number:', index=1, options=('1', '2', '3'), value='2')"
      ]
     },
     "metadata": {},
     "output_type": "display_data"
    }
   ],
   "source": [
    "s1 = widgets.Dropdown(\n",
    "    options=['1', '2', '3'],\n",
    "    value='2',\n",
    "    description='Number:',\n",
    "    disabled=False,\n",
    ")\n",
    "display(s1)"
   ]
  },
  {
   "cell_type": "code",
   "execution_count": 27,
   "id": "344312ec-bdcb-4410-aecf-aafa8c2398da",
   "metadata": {},
   "outputs": [
    {
     "data": {
      "application/vnd.jupyter.widget-view+json": {
       "model_id": "a75d62de1e674128826f05a6c724b3ed",
       "version_major": 2,
       "version_minor": 0
      },
      "text/plain": [
       "Dropdown(description='Number:', index=1, options=(('One', (1, 2)), ('Two', [3, 4]), ('Three', (5, 6))), value=…"
      ]
     },
     "metadata": {},
     "output_type": "display_data"
    }
   ],
   "source": [
    "s2 = widgets.Dropdown(\n",
    "    options=[('One', (1,2)), ('Two', [3,4]), ('Three', (5,6))],\n",
    "    value=[3,4],\n",
    "    description='Number:',\n",
    ")\n",
    "display(s2)"
   ]
  },
  {
   "cell_type": "code",
   "execution_count": 28,
   "id": "32413568-650f-458d-abf5-909c7a37b383",
   "metadata": {},
   "outputs": [
    {
     "data": {
      "text/plain": [
       "[3, 4]"
      ]
     },
     "execution_count": 28,
     "metadata": {},
     "output_type": "execute_result"
    }
   ],
   "source": [
    "s2.value"
   ]
  },
  {
   "cell_type": "code",
   "execution_count": 29,
   "id": "a8188ed1-fcad-4f7e-ae05-142378b423c1",
   "metadata": {},
   "outputs": [
    {
     "data": {
      "application/vnd.jupyter.widget-view+json": {
       "model_id": "84b004c01e7d4c4f958caf025e1bab3a",
       "version_major": 2,
       "version_minor": 0
      },
      "text/plain": [
       "RadioButtons(description='Pizza topping:', options=('pepperoni', 'pineapple', 'anchovies'), value='pepperoni')"
      ]
     },
     "metadata": {},
     "output_type": "display_data"
    }
   ],
   "source": [
    "s3 = widgets.RadioButtons(\n",
    "    options=['pepperoni', 'pineapple', 'anchovies'],\n",
    "#    value='pineapple', # Defaults to 'pineapple'\n",
    "#    layout={'width': 'max-content'}, # If the items' names are long\n",
    "    description='Pizza topping:',\n",
    "    disabled=False\n",
    ")\n",
    "display(s3)"
   ]
  },
  {
   "cell_type": "code",
   "execution_count": 30,
   "id": "d953d70c-3709-4a24-b27f-ca780f940264",
   "metadata": {},
   "outputs": [
    {
     "data": {
      "application/vnd.jupyter.widget-view+json": {
       "model_id": "26104cecef2a469a9fce8f5bacfc6257",
       "version_major": 2,
       "version_minor": 0
      },
      "text/plain": [
       "Box(children=(Label(value='Pizza topping with a very long label:'), RadioButtons(layout=Layout(width='max-cont…"
      ]
     },
     "metadata": {},
     "output_type": "display_data"
    }
   ],
   "source": [
    "s4 = widgets.Box(\n",
    "    [\n",
    "        widgets.Label(value='Pizza topping with a very long label:'),\n",
    "        widgets.RadioButtons(\n",
    "            options=[\n",
    "                'pepperoni',\n",
    "                'pineapple',\n",
    "                'anchovies',\n",
    "                'and the long name that will fit fine and the long name that will fit fine and the long name that will fit fine '\n",
    "            ],\n",
    "            layout={'width': 'max-content'}\n",
    "        )\n",
    "    ]\n",
    ")\n",
    "display(s4)"
   ]
  },
  {
   "cell_type": "code",
   "execution_count": 31,
   "id": "3b06c333-46ee-451f-95a5-76a0ec472a3b",
   "metadata": {},
   "outputs": [
    {
     "data": {
      "application/vnd.jupyter.widget-view+json": {
       "model_id": "6a04d353cdf34c63b5fa87155160dfc7",
       "version_major": 2,
       "version_minor": 0
      },
      "text/plain": [
       "Select(description='OS:', index=2, options=('Linux', 'Windows', 'macOS'), value='macOS')"
      ]
     },
     "metadata": {},
     "output_type": "display_data"
    }
   ],
   "source": [
    "s5 = widgets.Select(\n",
    "    options=['Linux', 'Windows', 'macOS'],\n",
    "    value='macOS',\n",
    "    # rows=10,\n",
    "    description='OS:',\n",
    "    disabled=False\n",
    ")\n",
    "display(s5)"
   ]
  },
  {
   "cell_type": "code",
   "execution_count": 32,
   "id": "e153dd8a-4b81-4ff6-b842-750e28b93bcc",
   "metadata": {},
   "outputs": [
    {
     "data": {
      "text/plain": [
       "'macOS'"
      ]
     },
     "execution_count": 32,
     "metadata": {},
     "output_type": "execute_result"
    }
   ],
   "source": [
    "s5.value"
   ]
  },
  {
   "cell_type": "code",
   "execution_count": 33,
   "id": "eec80365-e0a6-4183-8f5b-0844b7b677b8",
   "metadata": {},
   "outputs": [
    {
     "data": {
      "application/vnd.jupyter.widget-view+json": {
       "model_id": "bb9480e35d794454a506be4bb8187598",
       "version_major": 2,
       "version_minor": 0
      },
      "text/plain": [
       "SelectionSlider(continuous_update=False, description='I like my eggs ...', index=1, options=('scrambled', 'sun…"
      ]
     },
     "metadata": {},
     "output_type": "display_data"
    }
   ],
   "source": [
    "s6 = widgets.SelectionSlider(\n",
    "    options=['scrambled', 'sunny side up', 'poached', 'over easy'],\n",
    "    value='sunny side up',\n",
    "    description='I like my eggs ...',\n",
    "    disabled=False,\n",
    "    continuous_update=False,\n",
    "    orientation='horizontal',\n",
    "    readout=True\n",
    ")\n",
    "display(s6)"
   ]
  },
  {
   "cell_type": "code",
   "execution_count": 34,
   "id": "eae35a66-84cf-4d5f-93a3-8eee27c182ca",
   "metadata": {},
   "outputs": [
    {
     "data": {
      "application/vnd.jupyter.widget-view+json": {
       "model_id": "f9f7865d05b84deb94603ed201194484",
       "version_major": 2,
       "version_minor": 0
      },
      "text/plain": [
       "SelectionRangeSlider(description='Months (2015)', index=(0, 11), options=(('Jan', datetime.date(2015, 1, 1)), …"
      ]
     },
     "metadata": {},
     "output_type": "display_data"
    }
   ],
   "source": [
    "dates = [datetime.date(2015, i, 1) for i in range(1, 13)]\n",
    "options = [(i.strftime('%b'), i) for i in dates]\n",
    "s7 = widgets.SelectionRangeSlider(\n",
    "    options=options,\n",
    "    index=(0, 11),\n",
    "    description='Months (2015)',\n",
    "    disabled=False\n",
    ")\n",
    "display(s7)"
   ]
  },
  {
   "cell_type": "code",
   "execution_count": 35,
   "id": "4c19bd7e-e64f-4c8e-8503-f44946b5f397",
   "metadata": {},
   "outputs": [
    {
     "data": {
      "application/vnd.jupyter.widget-view+json": {
       "model_id": "67e68bbcfd5f4e6fb473bd4feff3750f",
       "version_major": 2,
       "version_minor": 0
      },
      "text/plain": [
       "ToggleButtons(description='Speed:', options=('Slow', 'Regular', 'Fast'), tooltips=('Description of slow', 'Des…"
      ]
     },
     "metadata": {},
     "output_type": "display_data"
    }
   ],
   "source": [
    "s8 = widgets.ToggleButtons(\n",
    "    options=['Slow', 'Regular', 'Fast'],\n",
    "    description='Speed:',\n",
    "    disabled=False,\n",
    "    button_style='', # 'success', 'info', 'warning', 'danger' or ''\n",
    "    tooltips=['Description of slow', 'Description of regular', 'Description of fast'],\n",
    "#     icons=['check'] * 3\n",
    ")\n",
    "display(s8)"
   ]
  },
  {
   "cell_type": "code",
   "execution_count": 36,
   "id": "9367c384-8e3c-47d1-a45d-4caab6fc0654",
   "metadata": {},
   "outputs": [
    {
     "data": {
      "application/vnd.jupyter.widget-view+json": {
       "model_id": "16bebfea50784656b5e82ccda6f55891",
       "version_major": 2,
       "version_minor": 0
      },
      "text/plain": [
       "SelectMultiple(description='Fruits', index=(1,), options=('Apples', 'Oranges', 'Pears'), value=('Oranges',))"
      ]
     },
     "metadata": {},
     "output_type": "display_data"
    }
   ],
   "source": [
    "s9 = widgets.SelectMultiple(\n",
    "    options=['Apples', 'Oranges', 'Pears'],\n",
    "    value=['Oranges'],\n",
    "    #rows=10,\n",
    "    description='Fruits',\n",
    "    disabled=False\n",
    ")\n",
    "display(s9)"
   ]
  },
  {
   "cell_type": "code",
   "execution_count": 56,
   "id": "82d310ed-4c14-411e-8268-05b6e57eca78",
   "metadata": {},
   "outputs": [],
   "source": [
    "lv = widgets.FloatSlider(layout=dict(flex='1 1 auto', width='auto'))\n",
    "ll = widgets.Label(value=\"The $m$ in $E=mc^2$:\", layout=dict(flex='1 1 auto', width='auto'))\n",
    "lb = widgets.HBox((ll, lv))"
   ]
  },
  {
   "cell_type": "code",
   "execution_count": 57,
   "id": "e0a97476-295f-4aab-8545-fec219946c81",
   "metadata": {},
   "outputs": [
    {
     "data": {
      "application/vnd.jupyter.widget-view+json": {
       "model_id": "5602ba1609f0426c867e3854455d3ba3",
       "version_major": 2,
       "version_minor": 0
      },
      "text/plain": [
       "Label(value='The $m$ in $E=mc^2$:', layout=Layout(flex='1 1 auto', width='auto'))"
      ]
     },
     "metadata": {},
     "output_type": "display_data"
    }
   ],
   "source": [
    "display(ll)"
   ]
  },
  {
   "cell_type": "code",
   "execution_count": 58,
   "id": "65460c0b-b0a7-464f-9a09-344d11c65d9f",
   "metadata": {},
   "outputs": [
    {
     "data": {
      "application/vnd.jupyter.widget-view+json": {
       "model_id": "3148459a36884af09519015f2f640137",
       "version_major": 2,
       "version_minor": 0
      },
      "text/plain": [
       "FloatSlider(value=0.0, layout=Layout(flex='1 1 auto', width='auto'))"
      ]
     },
     "metadata": {},
     "output_type": "display_data"
    }
   ],
   "source": [
    "display(lv)"
   ]
  },
  {
   "cell_type": "code",
   "execution_count": 59,
   "id": "a8265065-175a-485c-bd96-c02253771d54",
   "metadata": {},
   "outputs": [
    {
     "data": {
      "application/vnd.jupyter.widget-view+json": {
       "model_id": "2dbdaaaf35df45e5a0f7041c0cc7bce3",
       "version_major": 2,
       "version_minor": 0
      },
      "text/plain": [
       "HBox(children=(Label(value='The $m$ in $E=mc^2$:', layout=Layout(flex='1 1 auto', width='auto')), FloatSlider(…"
      ]
     },
     "metadata": {},
     "output_type": "display_data"
    }
   ],
   "source": [
    "display(lb)"
   ]
  },
  {
   "cell_type": "code",
   "execution_count": 37,
   "id": "428d952e-3c66-4fa3-be48-ef71c21b4682",
   "metadata": {},
   "outputs": [
    {
     "data": {
      "application/vnd.jupyter.widget-view+json": {
       "model_id": "e10bb88f2f4944c7b896ecae2bc1ef8a",
       "version_major": 2,
       "version_minor": 0
      },
      "text/plain": [
       "Image(value=b'\\x89PNG\\r\\n\\x1a\\n\\x00\\x00\\x00\\rIHDR\\x00\\x00\\x00\\x80\\x00\\x00\\x00\\x80\\x08\\x06\\x00\\x00\\x00\\xc3>a\\xc…"
      ]
     },
     "metadata": {},
     "output_type": "display_data"
    }
   ],
   "source": [
    "file = open(\"images/tf-small.png\", \"rb\")\n",
    "image = file.read()\n",
    "widgets.Image(\n",
    "    value=image,\n",
    "    format='png',\n",
    "    width=300,\n",
    "    height=400,\n",
    ")"
   ]
  },
  {
   "cell_type": "code",
   "execution_count": 38,
   "id": "c2b558af-0f4f-4a72-821d-2d8158ba15ce",
   "metadata": {},
   "outputs": [
    {
     "data": {
      "application/vnd.jupyter.widget-view+json": {
       "model_id": "b069a9f8e9944166bfee7e7b9760ceee",
       "version_major": 2,
       "version_minor": 0
      },
      "text/plain": [
       "Button(description='on', icon='check', style=ButtonStyle(), tooltip='Click me')"
      ]
     },
     "metadata": {},
     "output_type": "display_data"
    },
    {
     "data": {
      "application/vnd.jupyter.widget-view+json": {
       "model_id": "fce29677fcc0467bbbacf2703aee370c",
       "version_major": 2,
       "version_minor": 0
      },
      "text/plain": [
       "Output(layout=Layout(border='1px solid black'))"
      ]
     },
     "metadata": {},
     "output_type": "display_data"
    }
   ],
   "source": [
    "button = widgets.Button(\n",
    "    description='on',\n",
    "    disabled=False,\n",
    "    button_style='', # 'success', 'info', 'warning', 'danger' or ''\n",
    "    tooltip='Click me',\n",
    "    icon='check', # (FontAwesome names without the `fa-` prefix)\n",
    ")\n",
    "output = widgets.Output(layout={'border': '1px solid black'})\n",
    "with output:\n",
    "    print(\"waiting to be clicked ...\")\n",
    "\n",
    "display(button, output)\n",
    "\n",
    "def action(b):\n",
    "    with output:\n",
    "        clear_output(wait=True)\n",
    "        if b.icon == \"check\":\n",
    "            b.icon = \"times\"\n",
    "            b.description = \"off\"\n",
    "            print(\"button switched off\")\n",
    "        else:\n",
    "            b.icon = \"check\"\n",
    "            b.description = \"on\"\n",
    "            print(\"button switched on\")\n",
    "    \n",
    "button.on_click(action)"
   ]
  },
  {
   "cell_type": "code",
   "execution_count": 39,
   "id": "525c6980-3e10-4014-b472-734abb5135ff",
   "metadata": {},
   "outputs": [
    {
     "data": {
      "application/vnd.jupyter.widget-view+json": {
       "model_id": "5807a0928841459c8c7d8ab0463ae083",
       "version_major": 2,
       "version_minor": 0
      },
      "text/plain": [
       "IntSlider(value=0)"
      ]
     },
     "metadata": {},
     "output_type": "display_data"
    },
    {
     "data": {
      "application/vnd.jupyter.widget-view+json": {
       "model_id": "dcc1de59a5d04d1eb2b66d02df69b146",
       "version_major": 2,
       "version_minor": 0
      },
      "text/plain": [
       "Output()"
      ]
     },
     "metadata": {},
     "output_type": "display_data"
    }
   ],
   "source": [
    "int_range = widgets.IntSlider()\n",
    "output2 = widgets.Output()\n",
    "\n",
    "display(int_range, output2)\n",
    "\n",
    "def on_value_change(change):\n",
    "    with output2:\n",
    "        clear_output(wait=True)\n",
    "        print(f\"{change['old']} => {change['new']}\")\n",
    "\n",
    "int_range.observe(on_value_change, names='value')"
   ]
  },
  {
   "cell_type": "code",
   "execution_count": 40,
   "id": "3e3572f2-4fb3-4004-b3b5-0a3d6a98d609",
   "metadata": {},
   "outputs": [
    {
     "data": {
      "application/vnd.jupyter.widget-view+json": {
       "model_id": "a4389aa45f0844d48aa2701675adef12",
       "version_major": 2,
       "version_minor": 0
      },
      "text/plain": [
       "HBox(children=(VBox(children=(IntSlider(value=0, description='a'), IntSlider(value=0, description='b'), IntSli…"
      ]
     },
     "metadata": {},
     "output_type": "display_data"
    }
   ],
   "source": [
    "a = widgets.IntSlider(description='a')\n",
    "b = widgets.IntSlider(description='b')\n",
    "c = widgets.IntSlider(description='c')\n",
    "def f(a, b, c):\n",
    "    print('{}*{}*{}={}'.format(a, b, c, a*b*c))\n",
    "\n",
    "out = widgets.interactive_output(f, {'a': a, 'b': b, 'c': c})\n",
    "\n",
    "widgets.HBox([widgets.VBox([a, b, c]), out])"
   ]
  },
  {
   "cell_type": "code",
   "execution_count": 41,
   "id": "6c25e712-6920-499a-9882-5e29d0bb1137",
   "metadata": {},
   "outputs": [
    {
     "data": {
      "application/vnd.jupyter.widget-view+json": {
       "model_id": "8b753c88395d4d89bb25138193b7c9fa",
       "version_major": 2,
       "version_minor": 0
      },
      "text/plain": [
       "DatePicker(value=None, description='Pick a Date')"
      ]
     },
     "metadata": {},
     "output_type": "display_data"
    }
   ],
   "source": [
    "d = widgets.DatePicker(\n",
    "    description='Pick a Date',\n",
    "    disabled=False\n",
    ")\n",
    "display(d)"
   ]
  },
  {
   "cell_type": "code",
   "execution_count": 42,
   "id": "7e29180e-ba55-49da-a30c-a2dc1d0c156d",
   "metadata": {},
   "outputs": [
    {
     "data": {
      "application/vnd.jupyter.widget-view+json": {
       "model_id": "7799e84ecccd4f88920ad6a29a8f9263",
       "version_major": 2,
       "version_minor": 0
      },
      "text/plain": [
       "ColorPicker(value='blue', description='Pick a color')"
      ]
     },
     "metadata": {},
     "output_type": "display_data"
    }
   ],
   "source": [
    "c = widgets.ColorPicker(\n",
    "    concise=False,\n",
    "    description='Pick a color',\n",
    "    value='blue',\n",
    "    disabled=False\n",
    ")\n",
    "display(c)"
   ]
  },
  {
   "cell_type": "code",
   "execution_count": 43,
   "id": "3a38a0e6-100f-4f60-9f32-c22758f1804a",
   "metadata": {},
   "outputs": [
    {
     "data": {
      "text/plain": [
       "'blue'"
      ]
     },
     "execution_count": 43,
     "metadata": {},
     "output_type": "execute_result"
    }
   ],
   "source": [
    "c.value"
   ]
  },
  {
   "cell_type": "code",
   "execution_count": 44,
   "id": "df1f02f9-14cd-4c53-b6cc-2351036366ea",
   "metadata": {},
   "outputs": [
    {
     "data": {
      "application/vnd.jupyter.widget-view+json": {
       "model_id": "d4934d47c3fa466d907ae94edd372de0",
       "version_major": 2,
       "version_minor": 0
      },
      "text/plain": [
       "Button(description='click me to raise an exception', layout=Layout(width='300px'), style=ButtonStyle())"
      ]
     },
     "metadata": {},
     "output_type": "display_data"
    }
   ],
   "source": [
    "debug_view = widgets.Output(layout={'border': '1px solid black'})\n",
    "\n",
    "@debug_view.capture(clear_output=True)\n",
    "def bad_callback(event):\n",
    "    print('This is about to explode')\n",
    "    return 1.0 / 0.0\n",
    "\n",
    "button = widgets.Button(\n",
    "    description='click me to raise an exception',\n",
    "    layout={'width': '300px'}\n",
    ")\n",
    "button.on_click(bad_callback)\n",
    "button"
   ]
  },
  {
   "cell_type": "code",
   "execution_count": 45,
   "id": "c433dbb8-017f-4299-b5ba-eec034db7d3d",
   "metadata": {},
   "outputs": [
    {
     "data": {
      "application/vnd.jupyter.widget-view+json": {
       "model_id": "db17807d44ee4a49aa4a72238580cb67",
       "version_major": 2,
       "version_minor": 0
      },
      "text/plain": [
       "Output(layout=Layout(border='1px solid black'))"
      ]
     },
     "metadata": {},
     "output_type": "display_data"
    }
   ],
   "source": [
    "debug_view"
   ]
  },
  {
   "cell_type": "code",
   "execution_count": 46,
   "id": "01a062fd-b8ce-49e0-815f-3d1d1c14f98e",
   "metadata": {},
   "outputs": [
    {
     "data": {
      "application/vnd.jupyter.widget-view+json": {
       "model_id": "53fcd8c78421487a8aea4ba9646f218e",
       "version_major": 2,
       "version_minor": 0
      },
      "text/plain": [
       "Accordion(children=(IntSlider(value=0), Text(value='')))"
      ]
     },
     "metadata": {},
     "output_type": "display_data"
    }
   ],
   "source": [
    "accordion = widgets.Accordion(children=[widgets.IntSlider(), widgets.Text()], titles=('Slider', 'Text'))\n",
    "accordion"
   ]
  },
  {
   "cell_type": "code",
   "execution_count": 50,
   "id": "5adb70dd-7f7f-4a5e-9b5a-21c93c55d12a",
   "metadata": {},
   "outputs": [
    {
     "data": {
      "application/vnd.jupyter.widget-view+json": {
       "model_id": "6af0db5d80494c48a065a663e7bdcfb7",
       "version_major": 2,
       "version_minor": 0
      },
      "text/plain": [
       "Tab(children=(Text(value='', description='P0'), Text(value='', description='P1'), Text(value='', description='…"
      ]
     },
     "metadata": {},
     "output_type": "display_data"
    }
   ],
   "source": [
    "tab_contents = ['P0', 'P1', 'P2', 'P3', 'P4']\n",
    "children = [widgets.Text(description=name) for name in tab_contents]\n",
    "tab = widgets.Tab()\n",
    "tab.children = children\n",
    "# tab.titles = [str(i) for i in range(len(children))]\n",
    "for i in range(len(children)):\n",
    "    tab.set_title(i, str(i))\n",
    "tab"
   ]
  },
  {
   "cell_type": "code",
   "execution_count": null,
   "id": "99d3ac9b-7a86-4fbe-ac18-02a144e23e79",
   "metadata": {},
   "outputs": [],
   "source": [
    "tree = widgets.HBox"
   ]
  }
 ],
 "metadata": {
  "kernelspec": {
   "display_name": "Python 3 (ipykernel)",
   "language": "python",
   "name": "python3"
  },
  "language_info": {
   "codemirror_mode": {
    "name": "ipython",
    "version": 3
   },
   "file_extension": ".py",
   "mimetype": "text/x-python",
   "name": "python",
   "nbconvert_exporter": "python",
   "pygments_lexer": "ipython3",
   "version": "3.9.7"
  },
  "widgets": {
   "application/vnd.jupyter.widget-state+json": {
    "state": {
     "01044d2cd8624ba7911b7b5c2ce42b39": {
      "model_module": "@jupyter-widgets/controls",
      "model_module_version": "1.5.0",
      "model_name": "DescriptionStyleModel",
      "state": {
       "description_width": ""
      }
     },
     "0202c7967b5c49af9c5c393b6ed69afb": {
      "model_module": "@jupyter-widgets/base",
      "model_module_version": "1.2.0",
      "model_name": "LayoutModel",
      "state": {}
     },
     "02f88cd2ecb94ae2a2d697a663ea5edf": {
      "model_module": "@jupyter-widgets/base",
      "model_module_version": "1.2.0",
      "model_name": "LayoutModel",
      "state": {}
     },
     "04b1d9adc76d4879b5b9a62fb81c9ef0": {
      "model_module": "@jupyter-widgets/base",
      "model_module_version": "1.2.0",
      "model_name": "LayoutModel",
      "state": {}
     },
     "0542cff428d749028dce9dd6e17cedc5": {
      "model_module": "@jupyter-widgets/controls",
      "model_module_version": "1.5.0",
      "model_name": "DescriptionStyleModel",
      "state": {
       "description_width": ""
      }
     },
     "0552b15a3cfc4a139478cb5f8b74d420": {
      "model_module": "@jupyter-widgets/base",
      "model_module_version": "1.2.0",
      "model_name": "LayoutModel",
      "state": {}
     },
     "06743b9c597c46748a2902b60d0b2da9": {
      "model_module": "@jupyter-widgets/base",
      "model_module_version": "1.2.0",
      "model_name": "LayoutModel",
      "state": {
       "flex": "1 1 auto",
       "width": "auto"
      }
     },
     "073cfbe1390347dd9c4dd5b3d449b438": {
      "model_module": "@jupyter-widgets/base",
      "model_module_version": "1.2.0",
      "model_name": "LayoutModel",
      "state": {}
     },
     "0b6f5f2522274ec89eb2afd1e2b97876": {
      "model_module": "@jupyter-widgets/base",
      "model_module_version": "1.2.0",
      "model_name": "LayoutModel",
      "state": {}
     },
     "0f5f3ca1af504a04b02375b9f7f761f7": {
      "model_module": "@jupyter-widgets/base",
      "model_module_version": "1.2.0",
      "model_name": "LayoutModel",
      "state": {}
     },
     "11975ac731b84316a29db1a5f1d3d1e9": {
      "model_module": "@jupyter-widgets/controls",
      "model_module_version": "1.5.0",
      "model_name": "DescriptionStyleModel",
      "state": {
       "description_width": ""
      }
     },
     "120aab11b4c64d44a1fc086098a6f8d5": {
      "model_module": "@jupyter-widgets/base",
      "model_module_version": "1.2.0",
      "model_name": "LayoutModel",
      "state": {}
     },
     "12e2b97abcd64e588939ab552600e8c9": {
      "model_module": "@jupyter-widgets/base",
      "model_module_version": "1.2.0",
      "model_name": "LayoutModel",
      "state": {}
     },
     "16bebfea50784656b5e82ccda6f55891": {
      "model_module": "@jupyter-widgets/controls",
      "model_module_version": "1.5.0",
      "model_name": "SelectMultipleModel",
      "state": {
       "_options_labels": [
        "Apples",
        "Oranges",
        "Pears"
       ],
       "description": "Fruits",
       "index": [
        1
       ],
       "layout": "IPY_MODEL_6755328d235a4943b6dfb30c9bd1746f",
       "rows": 5,
       "style": "IPY_MODEL_3b534cde7afa4964bb6e1cc9d0fb1ee0"
      }
     },
     "1ac88d8f2d504e88b031661d3fed990a": {
      "model_module": "@jupyter-widgets/controls",
      "model_module_version": "1.5.0",
      "model_name": "TextModel",
      "state": {
       "description": "P3",
       "layout": "IPY_MODEL_8a2e5c8b1a0a474486dee11b43a7c909",
       "style": "IPY_MODEL_3dca424af3b14326b6f3bdcda3973fdb"
      }
     },
     "1ae5ecd19b6b477f9dfaff6468261cfe": {
      "model_module": "@jupyter-widgets/controls",
      "model_module_version": "1.5.0",
      "model_name": "DropdownModel",
      "state": {
       "_options_labels": [
        "1",
        "2",
        "3"
       ],
       "description": "Number:",
       "index": 1,
       "layout": "IPY_MODEL_d134dd9f518d495dbb86f306ab5e8974",
       "style": "IPY_MODEL_f2104d15c1dc4659a995a2c357f864be"
      }
     },
     "1cc29b892e7640acbb0413c39f363929": {
      "model_module": "@jupyter-widgets/controls",
      "model_module_version": "1.5.0",
      "model_name": "DescriptionStyleModel",
      "state": {
       "description_width": ""
      }
     },
     "1d99f5c3275b4364b744f8a98b0a7f11": {
      "model_module": "@jupyter-widgets/controls",
      "model_module_version": "1.5.0",
      "model_name": "ToggleButtonsStyleModel",
      "state": {
       "button_width": "",
       "description_width": ""
      }
     },
     "2253575207de4380b8252ffbabd2863e": {
      "model_module": "@jupyter-widgets/controls",
      "model_module_version": "1.5.0",
      "model_name": "SliderStyleModel",
      "state": {
       "description_width": ""
      }
     },
     "246eba5ce9cc45fbb7cbf1e689ec8fc4": {
      "model_module": "@jupyter-widgets/controls",
      "model_module_version": "1.5.0",
      "model_name": "VBoxModel",
      "state": {
       "children": [
        "IPY_MODEL_262abe14e9aa48a582639cc48164e5e1",
        "IPY_MODEL_36e4116f83d042ea9072029909f09dad"
       ],
       "layout": "IPY_MODEL_914504fc9d3b476d85168e0d2b76c0ea"
      }
     },
     "2555da3d10ea4a86adc65a97ab2e5744": {
      "model_module": "@jupyter-widgets/base",
      "model_module_version": "1.2.0",
      "model_name": "LayoutModel",
      "state": {}
     },
     "26104cecef2a469a9fce8f5bacfc6257": {
      "model_module": "@jupyter-widgets/controls",
      "model_module_version": "1.5.0",
      "model_name": "BoxModel",
      "state": {
       "children": [
        "IPY_MODEL_89c0f6338cd24fa5aaf26781e6115784",
        "IPY_MODEL_fd2b2a23d7414910a9f51099c33993dd"
       ],
       "layout": "IPY_MODEL_02f88cd2ecb94ae2a2d697a663ea5edf"
      }
     },
     "262abe14e9aa48a582639cc48164e5e1": {
      "model_module": "@jupyter-widgets/controls",
      "model_module_version": "1.5.0",
      "model_name": "LabelModel",
      "state": {
       "layout": "IPY_MODEL_833ca5d0f6704dc4a3d165b215914765",
       "style": "IPY_MODEL_3c2f2af51b1747c6af44dfa09c1473fb",
       "value": "The $m$ in $E=mc^2$:"
      }
     },
     "276bbb76aa66468d887f26140c50840d": {
      "model_module": "@jupyter-widgets/base",
      "model_module_version": "1.2.0",
      "model_name": "LayoutModel",
      "state": {}
     },
     "27e3ae49c75e42b49789a4f0c52f2290": {
      "model_module": "@jupyter-widgets/controls",
      "model_module_version": "1.5.0",
      "model_name": "DescriptionStyleModel",
      "state": {
       "description_width": ""
      }
     },
     "291459c0a0e14d80bbe5d42ce914f417": {
      "model_module": "@jupyter-widgets/controls",
      "model_module_version": "1.5.0",
      "model_name": "DescriptionStyleModel",
      "state": {
       "description_width": ""
      }
     },
     "2b0c239483384b66bbd806b08f5ca4bc": {
      "model_module": "@jupyter-widgets/base",
      "model_module_version": "1.2.0",
      "model_name": "LayoutModel",
      "state": {}
     },
     "2bda7fa5c9c546b9a4b05bc2d4f922f3": {
      "model_module": "@jupyter-widgets/controls",
      "model_module_version": "1.5.0",
      "model_name": "DescriptionStyleModel",
      "state": {
       "description_width": ""
      }
     },
     "2d592e824b054d6a9ed90dcf8feb2f96": {
      "model_module": "@jupyter-widgets/controls",
      "model_module_version": "1.5.0",
      "model_name": "DescriptionStyleModel",
      "state": {
       "description_width": ""
      }
     },
     "2dbdaaaf35df45e5a0f7041c0cc7bce3": {
      "model_module": "@jupyter-widgets/controls",
      "model_module_version": "1.5.0",
      "model_name": "HBoxModel",
      "state": {
       "children": [
        "IPY_MODEL_5602ba1609f0426c867e3854455d3ba3",
        "IPY_MODEL_3148459a36884af09519015f2f640137"
       ],
       "layout": "IPY_MODEL_6303928bca0c46a2a466ebf97b3f22c2"
      }
     },
     "3148459a36884af09519015f2f640137": {
      "model_module": "@jupyter-widgets/controls",
      "model_module_version": "1.5.0",
      "model_name": "FloatSliderModel",
      "state": {
       "layout": "IPY_MODEL_8a6b84fff7a54901a58878ce614f9cf5",
       "step": 0.1,
       "style": "IPY_MODEL_2253575207de4380b8252ffbabd2863e"
      }
     },
     "3240c7bfd9aa450ab15c92cf14cd4a87": {
      "model_module": "@jupyter-widgets/base",
      "model_module_version": "1.2.0",
      "model_name": "LayoutModel",
      "state": {}
     },
     "340e502467b440a89a4b57b0de29ad20": {
      "model_module": "@jupyter-widgets/controls",
      "model_module_version": "1.5.0",
      "model_name": "DescriptionStyleModel",
      "state": {
       "description_width": ""
      }
     },
     "36e4116f83d042ea9072029909f09dad": {
      "model_module": "@jupyter-widgets/controls",
      "model_module_version": "1.5.0",
      "model_name": "FloatSliderModel",
      "state": {
       "layout": "IPY_MODEL_ffee7b1ab0e14f09a665f2734e77277e",
       "step": 0.1,
       "style": "IPY_MODEL_7567bba1f0ff4abab14d6537ec5ba471"
      }
     },
     "3842d1976e484435bcdb0b4ccdf5b101": {
      "model_module": "@jupyter-widgets/controls",
      "model_module_version": "1.5.0",
      "model_name": "LabelModel",
      "state": {
       "layout": "IPY_MODEL_120aab11b4c64d44a1fc086098a6f8d5",
       "style": "IPY_MODEL_11975ac731b84316a29db1a5f1d3d1e9",
       "value": "The $m$ in $E=mc^2$:"
      }
     },
     "39d8457f6f484500b039ed761e54a087": {
      "model_module": "@jupyter-widgets/base",
      "model_module_version": "1.2.0",
      "model_name": "LayoutModel",
      "state": {}
     },
     "3b534cde7afa4964bb6e1cc9d0fb1ee0": {
      "model_module": "@jupyter-widgets/controls",
      "model_module_version": "1.5.0",
      "model_name": "DescriptionStyleModel",
      "state": {
       "description_width": ""
      }
     },
     "3c2f2af51b1747c6af44dfa09c1473fb": {
      "model_module": "@jupyter-widgets/controls",
      "model_module_version": "1.5.0",
      "model_name": "DescriptionStyleModel",
      "state": {
       "description_width": ""
      }
     },
     "3cbd4d0a21d04cd0a2d6177062cc0dac": {
      "model_module": "@jupyter-widgets/controls",
      "model_module_version": "1.5.0",
      "model_name": "TextModel",
      "state": {
       "description": "P4",
       "layout": "IPY_MODEL_9b5a02bbb3504adfbbee919b4a70e968",
       "style": "IPY_MODEL_8d6f6ca483854e83b08c23a4e2dce2b7"
      }
     },
     "3dca424af3b14326b6f3bdcda3973fdb": {
      "model_module": "@jupyter-widgets/controls",
      "model_module_version": "1.5.0",
      "model_name": "DescriptionStyleModel",
      "state": {
       "description_width": ""
      }
     },
     "3df8164a743a4be1b0586af727075c64": {
      "model_module": "@jupyter-widgets/base",
      "model_module_version": "1.2.0",
      "model_name": "LayoutModel",
      "state": {}
     },
     "412bc870378e46fea2bc13304b42141e": {
      "model_module": "@jupyter-widgets/controls",
      "model_module_version": "1.5.0",
      "model_name": "DescriptionStyleModel",
      "state": {
       "description_width": ""
      }
     },
     "47cad557e97049c5bee19e373596142b": {
      "model_module": "@jupyter-widgets/controls",
      "model_module_version": "1.5.0",
      "model_name": "HBoxModel",
      "state": {
       "children": [
        "IPY_MODEL_c7213100191240e380c68e827af4be54",
        "IPY_MODEL_d7cfbb52f76d43758db2d17141e3fa55"
       ],
       "layout": "IPY_MODEL_9b0ecad37086459b808dca90ed5576bd"
      }
     },
     "4a9fa91802534a72a5ac3d9882758def": {
      "model_module": "@jupyter-widgets/base",
      "model_module_version": "1.2.0",
      "model_name": "LayoutModel",
      "state": {}
     },
     "4abd89528c694410945be2e4c4ccc95b": {
      "model_module": "@jupyter-widgets/controls",
      "model_module_version": "1.5.0",
      "model_name": "SliderStyleModel",
      "state": {
       "description_width": ""
      }
     },
     "4c9f80e1331041ab9ad2520edb0a88ec": {
      "model_module": "@jupyter-widgets/controls",
      "model_module_version": "1.5.0",
      "model_name": "TextModel",
      "state": {
       "description": "P1",
       "layout": "IPY_MODEL_f2f729420aa8435b83899a8dada4c537",
       "style": "IPY_MODEL_c33ac3ecafa140099787d016266b2a46"
      }
     },
     "4dae414e5ea349b8bcf015ec413cf893": {
      "model_module": "@jupyter-widgets/controls",
      "model_module_version": "1.5.0",
      "model_name": "DescriptionStyleModel",
      "state": {
       "description_width": ""
      }
     },
     "509969dd7c954bad9595325d107afb2c": {
      "model_module": "@jupyter-widgets/base",
      "model_module_version": "1.2.0",
      "model_name": "LayoutModel",
      "state": {}
     },
     "5160efc248b740fb93203b3fe0f3bd9e": {
      "model_module": "@jupyter-widgets/controls",
      "model_module_version": "1.5.0",
      "model_name": "TextModel",
      "state": {
       "layout": "IPY_MODEL_bdd7e4870ae64e9da08531bdf64a3cc7",
       "style": "IPY_MODEL_5245546c558c4af4a93f3b6f6d07cbbe",
       "value": "Hello Text-Fabric"
      }
     },
     "517be321022f4958b93f156a5dcb1ef3": {
      "model_module": "@jupyter-widgets/controls",
      "model_module_version": "1.5.0",
      "model_name": "TextModel",
      "state": {
       "description": "P4",
       "layout": "IPY_MODEL_b1e403b393a2446d8fa5209d83492c28",
       "style": "IPY_MODEL_797953a7cce8472a8260fa4e3ae7c36a"
      }
     },
     "5245546c558c4af4a93f3b6f6d07cbbe": {
      "model_module": "@jupyter-widgets/controls",
      "model_module_version": "1.5.0",
      "model_name": "DescriptionStyleModel",
      "state": {
       "description_width": ""
      }
     },
     "53e9b9275bba4968b65cddb0e62ea315": {
      "model_module": "@jupyter-widgets/base",
      "model_module_version": "1.2.0",
      "model_name": "LayoutModel",
      "state": {}
     },
     "54fc3c7e4cf2466891c25024b656d05c": {
      "model_module": "@jupyter-widgets/base",
      "model_module_version": "1.2.0",
      "model_name": "LayoutModel",
      "state": {}
     },
     "5602ba1609f0426c867e3854455d3ba3": {
      "model_module": "@jupyter-widgets/controls",
      "model_module_version": "1.5.0",
      "model_name": "LabelModel",
      "state": {
       "layout": "IPY_MODEL_dd2f6fa5bc5b40e8b960d4c36ef3b24e",
       "style": "IPY_MODEL_965a114887884fa6824502f30646df40",
       "value": "The $m$ in $E=mc^2$:"
      }
     },
     "5732bb4f96ea4f02aaeb0c07a0889b33": {
      "model_module": "@jupyter-widgets/controls",
      "model_module_version": "1.5.0",
      "model_name": "TextModel",
      "state": {
       "description": "P2",
       "layout": "IPY_MODEL_7251447766254fde850f1894b34abf55",
       "style": "IPY_MODEL_942be0f2ef3f4f3ca21af97cdbeaf4cc"
      }
     },
     "5844e4716b1c4eeb8d91c9f0ae0661cd": {
      "model_module": "@jupyter-widgets/base",
      "model_module_version": "1.2.0",
      "model_name": "LayoutModel",
      "state": {}
     },
     "5853d70a054543798a78c5f1173860c6": {
      "model_module": "@jupyter-widgets/controls",
      "model_module_version": "1.5.0",
      "model_name": "HBoxModel",
      "state": {
       "children": [
        "IPY_MODEL_3842d1976e484435bcdb0b4ccdf5b101",
        "IPY_MODEL_cfb7c127a6df4f36bc8d2defd349159d"
       ],
       "layout": "IPY_MODEL_53e9b9275bba4968b65cddb0e62ea315"
      }
     },
     "5e57f649d83d489fa6d38ffa5ea96039": {
      "model_module": "@jupyter-widgets/base",
      "model_module_version": "1.2.0",
      "model_name": "LayoutModel",
      "state": {}
     },
     "5f37ba5de12e432d82b7d641f9cc0a9d": {
      "model_module": "@jupyter-widgets/base",
      "model_module_version": "1.2.0",
      "model_name": "LayoutModel",
      "state": {}
     },
     "5f62649a09c0486e93ff50b58b3d384b": {
      "model_module": "@jupyter-widgets/controls",
      "model_module_version": "1.5.0",
      "model_name": "DescriptionStyleModel",
      "state": {
       "description_width": ""
      }
     },
     "6055d8d7bfa5448096d535eb2f07900b": {
      "model_module": "@jupyter-widgets/base",
      "model_module_version": "1.2.0",
      "model_name": "LayoutModel",
      "state": {}
     },
     "6303928bca0c46a2a466ebf97b3f22c2": {
      "model_module": "@jupyter-widgets/base",
      "model_module_version": "1.2.0",
      "model_name": "LayoutModel",
      "state": {}
     },
     "63bc3df0d4be460dabd1d1d68ae8aaee": {
      "model_module": "@jupyter-widgets/controls",
      "model_module_version": "1.5.0",
      "model_name": "DescriptionStyleModel",
      "state": {
       "description_width": ""
      }
     },
     "6708e16bad074d828d98f51c14148e99": {
      "model_module": "@jupyter-widgets/base",
      "model_module_version": "1.2.0",
      "model_name": "LayoutModel",
      "state": {
       "width": "max-content"
      }
     },
     "6755328d235a4943b6dfb30c9bd1746f": {
      "model_module": "@jupyter-widgets/base",
      "model_module_version": "1.2.0",
      "model_name": "LayoutModel",
      "state": {}
     },
     "67e68bbcfd5f4e6fb473bd4feff3750f": {
      "model_module": "@jupyter-widgets/controls",
      "model_module_version": "1.5.0",
      "model_name": "ToggleButtonsModel",
      "state": {
       "_options_labels": [
        "Slow",
        "Regular",
        "Fast"
       ],
       "button_style": "",
       "description": "Speed:",
       "icons": [],
       "index": 0,
       "layout": "IPY_MODEL_0b6f5f2522274ec89eb2afd1e2b97876",
       "style": "IPY_MODEL_1d99f5c3275b4364b744f8a98b0a7f11",
       "tooltips": [
        "Description of slow",
        "Description of regular",
        "Description of fast"
       ]
      }
     },
     "67fbc60fc31a40308442bba096dc8a02": {
      "model_module": "@jupyter-widgets/controls",
      "model_module_version": "1.5.0",
      "model_name": "DescriptionStyleModel",
      "state": {
       "description_width": ""
      }
     },
     "682d74f5ba3b4005b99498adca06d61f": {
      "model_module": "@jupyter-widgets/base",
      "model_module_version": "1.2.0",
      "model_name": "LayoutModel",
      "state": {}
     },
     "6a04d353cdf34c63b5fa87155160dfc7": {
      "model_module": "@jupyter-widgets/controls",
      "model_module_version": "1.5.0",
      "model_name": "SelectModel",
      "state": {
       "_options_labels": [
        "Linux",
        "Windows",
        "macOS"
       ],
       "description": "OS:",
       "index": 2,
       "layout": "IPY_MODEL_5e57f649d83d489fa6d38ffa5ea96039",
       "style": "IPY_MODEL_340e502467b440a89a4b57b0de29ad20"
      }
     },
     "6a1e14e628d04a8f96b90f7ecaea89bd": {
      "model_module": "@jupyter-widgets/base",
      "model_module_version": "1.2.0",
      "model_name": "LayoutModel",
      "state": {}
     },
     "6a53762605e34eb5ba319760a6a67133": {
      "model_module": "@jupyter-widgets/controls",
      "model_module_version": "1.5.0",
      "model_name": "ValidModel",
      "state": {
       "description": "Valid!",
       "layout": "IPY_MODEL_12e2b97abcd64e588939ab552600e8c9",
       "style": "IPY_MODEL_2bda7fa5c9c546b9a4b05bc2d4f922f3"
      }
     },
     "6abab8a7d90940dab58dbe60810d112d": {
      "model_module": "@jupyter-widgets/controls",
      "model_module_version": "1.5.0",
      "model_name": "DescriptionStyleModel",
      "state": {
       "description_width": ""
      }
     },
     "6af0db5d80494c48a065a663e7bdcfb7": {
      "model_module": "@jupyter-widgets/controls",
      "model_module_version": "1.5.0",
      "model_name": "TabModel",
      "state": {
       "_titles": {
        "0": "0",
        "1": "1",
        "2": "2",
        "3": "3",
        "4": "4"
       },
       "children": [
        "IPY_MODEL_751e124f5df945b38dfabf833029e024",
        "IPY_MODEL_4c9f80e1331041ab9ad2520edb0a88ec",
        "IPY_MODEL_a3afa19c941c417a908181346db019c6",
        "IPY_MODEL_1ac88d8f2d504e88b031661d3fed990a",
        "IPY_MODEL_517be321022f4958b93f156a5dcb1ef3"
       ],
       "layout": "IPY_MODEL_3df8164a743a4be1b0586af727075c64"
      }
     },
     "6c6d386b681941589c7bdbfc15f14456": {
      "model_module": "@jupyter-widgets/base",
      "model_module_version": "1.2.0",
      "model_name": "LayoutModel",
      "state": {}
     },
     "6d2f108eaf7540b0b7b860d8a029bdfa": {
      "model_module": "@jupyter-widgets/controls",
      "model_module_version": "1.5.0",
      "model_name": "SliderStyleModel",
      "state": {
       "description_width": ""
      }
     },
     "7251447766254fde850f1894b34abf55": {
      "model_module": "@jupyter-widgets/base",
      "model_module_version": "1.2.0",
      "model_name": "LayoutModel",
      "state": {}
     },
     "72b26d69f935455b80eba0a8b89ee7f6": {
      "model_module": "@jupyter-widgets/controls",
      "model_module_version": "1.5.0",
      "model_name": "DescriptionStyleModel",
      "state": {
       "description_width": ""
      }
     },
     "751e124f5df945b38dfabf833029e024": {
      "model_module": "@jupyter-widgets/controls",
      "model_module_version": "1.5.0",
      "model_name": "TextModel",
      "state": {
       "description": "P0",
       "layout": "IPY_MODEL_276bbb76aa66468d887f26140c50840d",
       "style": "IPY_MODEL_412bc870378e46fea2bc13304b42141e"
      }
     },
     "755b411311d34305b50aced9881d849d": {
      "model_module": "@jupyter-widgets/controls",
      "model_module_version": "1.5.0",
      "model_name": "SliderStyleModel",
      "state": {
       "description_width": ""
      }
     },
     "7567bba1f0ff4abab14d6537ec5ba471": {
      "model_module": "@jupyter-widgets/controls",
      "model_module_version": "1.5.0",
      "model_name": "SliderStyleModel",
      "state": {
       "description_width": ""
      }
     },
     "769476addf864cf7993d97abbd52de29": {
      "model_module": "@jupyter-widgets/base",
      "model_module_version": "1.2.0",
      "model_name": "LayoutModel",
      "state": {}
     },
     "797953a7cce8472a8260fa4e3ae7c36a": {
      "model_module": "@jupyter-widgets/controls",
      "model_module_version": "1.5.0",
      "model_name": "DescriptionStyleModel",
      "state": {
       "description_width": ""
      }
     },
     "7a11fc34222c4783bf6c43c4848800d4": {
      "model_module": "@jupyter-widgets/controls",
      "model_module_version": "1.5.0",
      "model_name": "TabModel",
      "state": {
       "children": [
        "IPY_MODEL_870a5a65bbd24804b570cbaeb833203b",
        "IPY_MODEL_ebe387bba7c34714bb11e51960e1eba8",
        "IPY_MODEL_5732bb4f96ea4f02aaeb0c07a0889b33",
        "IPY_MODEL_bc54448a437946ca98317760100deb21",
        "IPY_MODEL_3cbd4d0a21d04cd0a2d6177062cc0dac"
       ],
       "layout": "IPY_MODEL_7d4be06f5f8b46e1ac5695a959c308bd"
      }
     },
     "7b8fb967338847dca14727ce9fe6cdfc": {
      "model_module": "@jupyter-widgets/controls",
      "model_module_version": "1.5.0",
      "model_name": "IntTextModel",
      "state": {
       "description": "Any:",
       "layout": "IPY_MODEL_682d74f5ba3b4005b99498adca06d61f",
       "step": 1,
       "style": "IPY_MODEL_0542cff428d749028dce9dd6e17cedc5",
       "value": 7
      }
     },
     "7d4be06f5f8b46e1ac5695a959c308bd": {
      "model_module": "@jupyter-widgets/base",
      "model_module_version": "1.2.0",
      "model_name": "LayoutModel",
      "state": {}
     },
     "83081b4f53e6451cb69b135404d7a3b4": {
      "model_module": "@jupyter-widgets/controls",
      "model_module_version": "1.5.0",
      "model_name": "SliderStyleModel",
      "state": {
       "description_width": ""
      }
     },
     "833ca5d0f6704dc4a3d165b215914765": {
      "model_module": "@jupyter-widgets/base",
      "model_module_version": "1.2.0",
      "model_name": "LayoutModel",
      "state": {}
     },
     "84b004c01e7d4c4f958caf025e1bab3a": {
      "model_module": "@jupyter-widgets/controls",
      "model_module_version": "1.5.0",
      "model_name": "RadioButtonsModel",
      "state": {
       "_options_labels": [
        "pepperoni",
        "pineapple",
        "anchovies"
       ],
       "description": "Pizza topping:",
       "index": 0,
       "layout": "IPY_MODEL_073cfbe1390347dd9c4dd5b3d449b438",
       "style": "IPY_MODEL_6abab8a7d90940dab58dbe60810d112d"
      }
     },
     "870a5a65bbd24804b570cbaeb833203b": {
      "model_module": "@jupyter-widgets/controls",
      "model_module_version": "1.5.0",
      "model_name": "TextModel",
      "state": {
       "description": "P0",
       "layout": "IPY_MODEL_509969dd7c954bad9595325d107afb2c",
       "style": "IPY_MODEL_c7585bab8754443f98975065a5d38ddf"
      }
     },
     "89158c5f05aa413a90b69a72b4f26051": {
      "model_module": "@jupyter-widgets/controls",
      "model_module_version": "1.5.0",
      "model_name": "TextModel",
      "state": {
       "description": "P0",
       "layout": "IPY_MODEL_6055d8d7bfa5448096d535eb2f07900b",
       "style": "IPY_MODEL_db97cc5260174a11aafd3c36e03b0e9d"
      }
     },
     "89c0f6338cd24fa5aaf26781e6115784": {
      "model_module": "@jupyter-widgets/controls",
      "model_module_version": "1.5.0",
      "model_name": "LabelModel",
      "state": {
       "layout": "IPY_MODEL_2b0c239483384b66bbd806b08f5ca4bc",
       "style": "IPY_MODEL_5f62649a09c0486e93ff50b58b3d384b",
       "value": "Pizza topping with a very long label:"
      }
     },
     "8a2e5c8b1a0a474486dee11b43a7c909": {
      "model_module": "@jupyter-widgets/base",
      "model_module_version": "1.2.0",
      "model_name": "LayoutModel",
      "state": {}
     },
     "8a6b84fff7a54901a58878ce614f9cf5": {
      "model_module": "@jupyter-widgets/base",
      "model_module_version": "1.2.0",
      "model_name": "LayoutModel",
      "state": {
       "flex": "1 1 auto",
       "width": "auto"
      }
     },
     "8d6f6ca483854e83b08c23a4e2dce2b7": {
      "model_module": "@jupyter-widgets/controls",
      "model_module_version": "1.5.0",
      "model_name": "DescriptionStyleModel",
      "state": {
       "description_width": ""
      }
     },
     "914504fc9d3b476d85168e0d2b76c0ea": {
      "model_module": "@jupyter-widgets/base",
      "model_module_version": "1.2.0",
      "model_name": "LayoutModel",
      "state": {}
     },
     "942be0f2ef3f4f3ca21af97cdbeaf4cc": {
      "model_module": "@jupyter-widgets/controls",
      "model_module_version": "1.5.0",
      "model_name": "DescriptionStyleModel",
      "state": {
       "description_width": ""
      }
     },
     "965a114887884fa6824502f30646df40": {
      "model_module": "@jupyter-widgets/controls",
      "model_module_version": "1.5.0",
      "model_name": "DescriptionStyleModel",
      "state": {
       "description_width": ""
      }
     },
     "9b0ecad37086459b808dca90ed5576bd": {
      "model_module": "@jupyter-widgets/base",
      "model_module_version": "1.2.0",
      "model_name": "LayoutModel",
      "state": {}
     },
     "9b5a02bbb3504adfbbee919b4a70e968": {
      "model_module": "@jupyter-widgets/base",
      "model_module_version": "1.2.0",
      "model_name": "LayoutModel",
      "state": {}
     },
     "9fe15e8d905e436f9e5b98e8515939df": {
      "model_module": "@jupyter-widgets/controls",
      "model_module_version": "1.5.0",
      "model_name": "TextModel",
      "state": {
       "description": "P3",
       "layout": "IPY_MODEL_0552b15a3cfc4a139478cb5f8b74d420",
       "style": "IPY_MODEL_b16dddfd058a4d168c09a44fe8fc5f97"
      }
     },
     "a3afa19c941c417a908181346db019c6": {
      "model_module": "@jupyter-widgets/controls",
      "model_module_version": "1.5.0",
      "model_name": "TextModel",
      "state": {
       "description": "P2",
       "layout": "IPY_MODEL_d7c0973a0bf0446e93e6642782ff18ed",
       "style": "IPY_MODEL_63bc3df0d4be460dabd1d1d68ae8aaee"
      }
     },
     "a4c336337de24278b64a1b4e84200636": {
      "model_module": "@jupyter-widgets/controls",
      "model_module_version": "1.5.0",
      "model_name": "TextModel",
      "state": {
       "description": "P2",
       "layout": "IPY_MODEL_5844e4716b1c4eeb8d91c9f0ae0661cd",
       "style": "IPY_MODEL_cd05786be0624fddb29748a0c5fc81a7"
      }
     },
     "a50d628dd76b409a8ea667e96deeb618": {
      "model_module": "@jupyter-widgets/controls",
      "model_module_version": "1.5.0",
      "model_name": "ToggleButtonModel",
      "state": {
       "description": "Click me",
       "icon": "check",
       "layout": "IPY_MODEL_39d8457f6f484500b039ed761e54a087",
       "style": "IPY_MODEL_4dae414e5ea349b8bcf015ec413cf893",
       "tooltip": "Description"
      }
     },
     "a6a73d6783b2422295baed3387cf613b": {
      "model_module": "@jupyter-widgets/controls",
      "model_module_version": "1.5.0",
      "model_name": "DescriptionStyleModel",
      "state": {
       "description_width": ""
      }
     },
     "a75d62de1e674128826f05a6c724b3ed": {
      "model_module": "@jupyter-widgets/controls",
      "model_module_version": "1.5.0",
      "model_name": "DropdownModel",
      "state": {
       "_options_labels": [
        "One",
        "Two",
        "Three"
       ],
       "description": "Number:",
       "index": 1,
       "layout": "IPY_MODEL_769476addf864cf7993d97abbd52de29",
       "style": "IPY_MODEL_a6a73d6783b2422295baed3387cf613b"
      }
     },
     "a9fbf52b08fd4fecb577ba77ac3dbc08": {
      "model_module": "@jupyter-widgets/controls",
      "model_module_version": "1.5.0",
      "model_name": "TabModel",
      "state": {
       "children": [
        "IPY_MODEL_89158c5f05aa413a90b69a72b4f26051",
        "IPY_MODEL_dab8ee1cf9144e0390ea827b35fc4fe1",
        "IPY_MODEL_a4c336337de24278b64a1b4e84200636",
        "IPY_MODEL_9fe15e8d905e436f9e5b98e8515939df",
        "IPY_MODEL_c60c4f7a201b4a188f2204858fce0a1c"
       ],
       "layout": "IPY_MODEL_54fc3c7e4cf2466891c25024b656d05c",
       "selected_index": 1
      }
     },
     "ac505141918145ffbdca6921007b4894": {
      "model_module": "@jupyter-widgets/controls",
      "model_module_version": "1.5.0",
      "model_name": "DescriptionStyleModel",
      "state": {
       "description_width": ""
      }
     },
     "ad808d20bc4e45f0adb63b2c372ca392": {
      "model_module": "@jupyter-widgets/base",
      "model_module_version": "1.2.0",
      "model_name": "LayoutModel",
      "state": {}
     },
     "adbbc16bad674a0fb5d4fc72cefb43db": {
      "model_module": "@jupyter-widgets/controls",
      "model_module_version": "1.5.0",
      "model_name": "LabelModel",
      "state": {
       "layout": "IPY_MODEL_6a1e14e628d04a8f96b90f7ecaea89bd",
       "style": "IPY_MODEL_2d592e824b054d6a9ed90dcf8feb2f96",
       "value": "The $m$ in $E=mc^2$:"
      }
     },
     "b16dddfd058a4d168c09a44fe8fc5f97": {
      "model_module": "@jupyter-widgets/controls",
      "model_module_version": "1.5.0",
      "model_name": "DescriptionStyleModel",
      "state": {
       "description_width": ""
      }
     },
     "b1e403b393a2446d8fa5209d83492c28": {
      "model_module": "@jupyter-widgets/base",
      "model_module_version": "1.2.0",
      "model_name": "LayoutModel",
      "state": {}
     },
     "b56b90b6a92e4baab139e6530b129a4a": {
      "model_module": "@jupyter-widgets/controls",
      "model_module_version": "1.5.0",
      "model_name": "CheckboxModel",
      "state": {
       "description": "Check me",
       "disabled": false,
       "indent": false,
       "layout": "IPY_MODEL_c3945ed87f4f46438e4f1e1e3ae6446f",
       "style": "IPY_MODEL_ac505141918145ffbdca6921007b4894",
       "value": false
      }
     },
     "b6674a530c8a4c55a076b8d0ce604cdf": {
      "model_module": "@jupyter-widgets/controls",
      "model_module_version": "1.5.0",
      "model_name": "DescriptionStyleModel",
      "state": {
       "description_width": ""
      }
     },
     "b89fd4abb52043e5b46da3f6e592c1ab": {
      "model_module": "@jupyter-widgets/base",
      "model_module_version": "1.2.0",
      "model_name": "LayoutModel",
      "state": {}
     },
     "bb8cc60ce5974fbc808f9b9bc380184e": {
      "model_module": "@jupyter-widgets/controls",
      "model_module_version": "1.5.0",
      "model_name": "VBoxModel",
      "state": {
       "children": [
        "IPY_MODEL_adbbc16bad674a0fb5d4fc72cefb43db",
        "IPY_MODEL_dcc85ce58d2348f68bd2118d3e555062"
       ],
       "layout": "IPY_MODEL_3240c7bfd9aa450ab15c92cf14cd4a87"
      }
     },
     "bb9480e35d794454a506be4bb8187598": {
      "model_module": "@jupyter-widgets/controls",
      "model_module_version": "1.5.0",
      "model_name": "SelectionSliderModel",
      "state": {
       "_options_labels": [
        "scrambled",
        "sunny side up",
        "poached",
        "over easy"
       ],
       "continuous_update": false,
       "description": "I like my eggs ...",
       "index": 1,
       "layout": "IPY_MODEL_04b1d9adc76d4879b5b9a62fb81c9ef0",
       "style": "IPY_MODEL_67fbc60fc31a40308442bba096dc8a02"
      }
     },
     "bc163b8e55f149b9a44c3f7fe22d3f11": {
      "model_module": "@jupyter-widgets/base",
      "model_module_version": "1.2.0",
      "model_name": "LayoutModel",
      "state": {}
     },
     "bc54448a437946ca98317760100deb21": {
      "model_module": "@jupyter-widgets/controls",
      "model_module_version": "1.5.0",
      "model_name": "TextModel",
      "state": {
       "description": "P3",
       "layout": "IPY_MODEL_bc163b8e55f149b9a44c3f7fe22d3f11",
       "style": "IPY_MODEL_01044d2cd8624ba7911b7b5c2ce42b39"
      }
     },
     "bdd7e4870ae64e9da08531bdf64a3cc7": {
      "model_module": "@jupyter-widgets/base",
      "model_module_version": "1.2.0",
      "model_name": "LayoutModel",
      "state": {}
     },
     "c0680f2b4e1c4c5ca37f1ef94e7b6c11": {
      "model_module": "@jupyter-widgets/controls",
      "model_module_version": "1.5.0",
      "model_name": "IntProgressModel",
      "state": {
       "description": "Loading:",
       "layout": "IPY_MODEL_0202c7967b5c49af9c5c393b6ed69afb",
       "max": 10,
       "style": "IPY_MODEL_daf93795e0594abebf27bbbf2d44a28b",
       "value": 7
      }
     },
     "c33ac3ecafa140099787d016266b2a46": {
      "model_module": "@jupyter-widgets/controls",
      "model_module_version": "1.5.0",
      "model_name": "DescriptionStyleModel",
      "state": {
       "description_width": ""
      }
     },
     "c3945ed87f4f46438e4f1e1e3ae6446f": {
      "model_module": "@jupyter-widgets/base",
      "model_module_version": "1.2.0",
      "model_name": "LayoutModel",
      "state": {}
     },
     "c60c4f7a201b4a188f2204858fce0a1c": {
      "model_module": "@jupyter-widgets/controls",
      "model_module_version": "1.5.0",
      "model_name": "TextModel",
      "state": {
       "description": "P4",
       "layout": "IPY_MODEL_b89fd4abb52043e5b46da3f6e592c1ab",
       "style": "IPY_MODEL_1cc29b892e7640acbb0413c39f363929"
      }
     },
     "c7213100191240e380c68e827af4be54": {
      "model_module": "@jupyter-widgets/controls",
      "model_module_version": "1.5.0",
      "model_name": "LabelModel",
      "state": {
       "layout": "IPY_MODEL_ad808d20bc4e45f0adb63b2c372ca392",
       "style": "IPY_MODEL_72b26d69f935455b80eba0a8b89ee7f6",
       "value": "The $m$ in $E=mc^2$:"
      }
     },
     "c7585bab8754443f98975065a5d38ddf": {
      "model_module": "@jupyter-widgets/controls",
      "model_module_version": "1.5.0",
      "model_name": "DescriptionStyleModel",
      "state": {
       "description_width": ""
      }
     },
     "cd05786be0624fddb29748a0c5fc81a7": {
      "model_module": "@jupyter-widgets/controls",
      "model_module_version": "1.5.0",
      "model_name": "DescriptionStyleModel",
      "state": {
       "description_width": ""
      }
     },
     "cfb7c127a6df4f36bc8d2defd349159d": {
      "model_module": "@jupyter-widgets/controls",
      "model_module_version": "1.5.0",
      "model_name": "FloatSliderModel",
      "state": {
       "layout": "IPY_MODEL_06743b9c597c46748a2902b60d0b2da9",
       "step": 0.1,
       "style": "IPY_MODEL_6d2f108eaf7540b0b7b860d8a029bdfa"
      }
     },
     "d134dd9f518d495dbb86f306ab5e8974": {
      "model_module": "@jupyter-widgets/base",
      "model_module_version": "1.2.0",
      "model_name": "LayoutModel",
      "state": {}
     },
     "d55c444172ed4d73b6d3899fe3d142a7": {
      "model_module": "@jupyter-widgets/base",
      "model_module_version": "1.2.0",
      "model_name": "LayoutModel",
      "state": {}
     },
     "d7c0973a0bf0446e93e6642782ff18ed": {
      "model_module": "@jupyter-widgets/base",
      "model_module_version": "1.2.0",
      "model_name": "LayoutModel",
      "state": {}
     },
     "d7cfbb52f76d43758db2d17141e3fa55": {
      "model_module": "@jupyter-widgets/controls",
      "model_module_version": "1.5.0",
      "model_name": "FloatSliderModel",
      "state": {
       "layout": "IPY_MODEL_6c6d386b681941589c7bdbfc15f14456",
       "step": 0.1,
       "style": "IPY_MODEL_83081b4f53e6451cb69b135404d7a3b4",
       "value": 100
      }
     },
     "dab8ee1cf9144e0390ea827b35fc4fe1": {
      "model_module": "@jupyter-widgets/controls",
      "model_module_version": "1.5.0",
      "model_name": "TextModel",
      "state": {
       "description": "P1",
       "layout": "IPY_MODEL_4a9fa91802534a72a5ac3d9882758def",
       "style": "IPY_MODEL_27e3ae49c75e42b49789a4f0c52f2290"
      }
     },
     "daf93795e0594abebf27bbbf2d44a28b": {
      "model_module": "@jupyter-widgets/controls",
      "model_module_version": "1.5.0",
      "model_name": "ProgressStyleModel",
      "state": {
       "bar_color": "maroon",
       "description_width": ""
      }
     },
     "db97cc5260174a11aafd3c36e03b0e9d": {
      "model_module": "@jupyter-widgets/controls",
      "model_module_version": "1.5.0",
      "model_name": "DescriptionStyleModel",
      "state": {
       "description_width": ""
      }
     },
     "dcc85ce58d2348f68bd2118d3e555062": {
      "model_module": "@jupyter-widgets/controls",
      "model_module_version": "1.5.0",
      "model_name": "FloatSliderModel",
      "state": {
       "layout": "IPY_MODEL_2555da3d10ea4a86adc65a97ab2e5744",
       "step": 0.1,
       "style": "IPY_MODEL_4abd89528c694410945be2e4c4ccc95b"
      }
     },
     "dd2f6fa5bc5b40e8b960d4c36ef3b24e": {
      "model_module": "@jupyter-widgets/base",
      "model_module_version": "1.2.0",
      "model_name": "LayoutModel",
      "state": {
       "flex": "1 1 auto",
       "width": "auto"
      }
     },
     "dedd1102d6b14b5e9e4235cc03911704": {
      "model_module": "@jupyter-widgets/controls",
      "model_module_version": "1.5.0",
      "model_name": "DescriptionStyleModel",
      "state": {
       "description_width": ""
      }
     },
     "df7141e8a7364b0e85c03306eacf6efa": {
      "model_module": "@jupyter-widgets/controls",
      "model_module_version": "1.5.0",
      "model_name": "DescriptionStyleModel",
      "state": {
       "description_width": ""
      }
     },
     "ebe387bba7c34714bb11e51960e1eba8": {
      "model_module": "@jupyter-widgets/controls",
      "model_module_version": "1.5.0",
      "model_name": "TextModel",
      "state": {
       "description": "P1",
       "layout": "IPY_MODEL_d55c444172ed4d73b6d3899fe3d142a7",
       "style": "IPY_MODEL_b6674a530c8a4c55a076b8d0ce604cdf"
      }
     },
     "f2104d15c1dc4659a995a2c357f864be": {
      "model_module": "@jupyter-widgets/controls",
      "model_module_version": "1.5.0",
      "model_name": "DescriptionStyleModel",
      "state": {
       "description_width": ""
      }
     },
     "f2f729420aa8435b83899a8dada4c537": {
      "model_module": "@jupyter-widgets/base",
      "model_module_version": "1.2.0",
      "model_name": "LayoutModel",
      "state": {}
     },
     "f3f4b4dbf690409c8045a756933c7902": {
      "model_module": "@jupyter-widgets/base",
      "model_module_version": "1.2.0",
      "model_name": "LayoutModel",
      "state": {}
     },
     "f9f7865d05b84deb94603ed201194484": {
      "model_module": "@jupyter-widgets/controls",
      "model_module_version": "1.5.0",
      "model_name": "SelectionRangeSliderModel",
      "state": {
       "_model_name": "SelectionRangeSliderModel",
       "_options_labels": [
        "Jan",
        "Feb",
        "Mar",
        "Apr",
        "May",
        "Jun",
        "Jul",
        "Aug",
        "Sep",
        "Oct",
        "Nov",
        "Dec"
       ],
       "_view_name": "SelectionRangeSliderView",
       "description": "Months (2015)",
       "index": [
        0,
        11
       ],
       "layout": "IPY_MODEL_f3f4b4dbf690409c8045a756933c7902",
       "style": "IPY_MODEL_dedd1102d6b14b5e9e4235cc03911704"
      }
     },
     "fa0ee39df1154bd6ad6a562430862934": {
      "model_module": "@jupyter-widgets/controls",
      "model_module_version": "1.5.0",
      "model_name": "BoundedIntTextModel",
      "state": {
       "description": "Text:",
       "layout": "IPY_MODEL_0f5f3ca1af504a04b02375b9f7f761f7",
       "max": 10,
       "style": "IPY_MODEL_291459c0a0e14d80bbe5d42ce914f417",
       "value": 7
      }
     },
     "fd2b2a23d7414910a9f51099c33993dd": {
      "model_module": "@jupyter-widgets/controls",
      "model_module_version": "1.5.0",
      "model_name": "RadioButtonsModel",
      "state": {
       "_options_labels": [
        "pepperoni",
        "pineapple",
        "anchovies",
        "and the long name that will fit fine and the long name that will fit fine and the long name that will fit fine "
       ],
       "index": 0,
       "layout": "IPY_MODEL_6708e16bad074d828d98f51c14148e99",
       "style": "IPY_MODEL_df7141e8a7364b0e85c03306eacf6efa"
      }
     },
     "ffee7b1ab0e14f09a665f2734e77277e": {
      "model_module": "@jupyter-widgets/base",
      "model_module_version": "1.2.0",
      "model_name": "LayoutModel",
      "state": {}
     }
    },
    "version_major": 2,
    "version_minor": 0
   }
  }
 },
 "nbformat": 4,
 "nbformat_minor": 5
}
