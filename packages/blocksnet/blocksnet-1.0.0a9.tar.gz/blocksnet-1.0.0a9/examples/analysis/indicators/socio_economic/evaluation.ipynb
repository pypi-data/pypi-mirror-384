{
 "cells": [
  {
   "cell_type": "markdown",
   "id": "a1836563",
   "metadata": {},
   "source": [
    "# Socio-economic indicators evaluation"
   ]
  },
  {
   "cell_type": "markdown",
   "id": "8e39339f",
   "metadata": {},
   "source": [
    "Read aggregated blocks spatial layer"
   ]
  },
  {
   "cell_type": "code",
   "execution_count": 1,
   "id": "faf5b7fc",
   "metadata": {},
   "outputs": [],
   "source": [
    "import pandas as pd\n",
    "\n",
    "blocks_gdf = pd.read_pickle('blocks.pickle').rename(columns={'territory_id':'parent'})"
   ]
  },
  {
   "cell_type": "code",
   "execution_count": 2,
   "id": "d484eb4c",
   "metadata": {},
   "outputs": [],
   "source": [
    "service_types_df = pd.read_pickle('service_types.pickle')"
   ]
  },
  {
   "cell_type": "code",
   "execution_count": 3,
   "id": "4db9ec50",
   "metadata": {},
   "outputs": [],
   "source": [
    "st_df = service_types_df[~service_types_df.blocksnet.isna()].copy()\n",
    "st_df['service_type_id'] = st_df.index\n",
    "agg_df = st_df.groupby('blocksnet').agg({'service_type_id': lambda s : list(s)})\n",
    "new_columns = {}\n",
    "for st_name, row in agg_df.iterrows():\n",
    "    st_ids = row['service_type_id']\n",
    "    for prefix in ['count', 'capacity']:\n",
    "        sum_df = blocks_gdf[[f'{prefix}_{st_id}' for st_id in st_ids]].sum(axis=1)\n",
    "        new_columns[f'{prefix}_{st_name}'] = sum_df\n",
    "new_columns_df = pd.DataFrame.from_dict(new_columns)\n",
    "blocks_gdf = pd.concat([blocks_gdf, new_columns_df], axis=1)"
   ]
  },
  {
   "cell_type": "markdown",
   "id": "36768bb2",
   "metadata": {},
   "source": [
    "Read drive graph"
   ]
  },
  {
   "cell_type": "code",
   "execution_count": 4,
   "id": "adc9d845",
   "metadata": {},
   "outputs": [
    {
     "name": "stderr",
     "output_type": "stream",
     "text": [
      "\u001b[32m2025-10-16 16:09:16.573\u001b[0m | \u001b[1mINFO    \u001b[0m | \u001b[36miduedu.modules.drive_walk_builder\u001b[0m:\u001b[36mget_drive_graph_by_poly\u001b[0m:\u001b[36m91\u001b[0m - \u001b[1mDownloading drive graph from OSM, it may take a while for large territory ...\u001b[0m\n"
     ]
    }
   ],
   "source": [
    "from blocksnet.relations import get_accessibility_graph\n",
    "\n",
    "graph = get_accessibility_graph(blocks_gdf, 'drive')"
   ]
  },
  {
   "cell_type": "markdown",
   "id": "75f35f0f",
   "metadata": {},
   "source": [
    "Read drive accessibility matrix"
   ]
  },
  {
   "cell_type": "code",
   "execution_count": 5,
   "id": "4debc78d",
   "metadata": {},
   "outputs": [],
   "source": [
    "acc_mx = pd.read_pickle('acc_mx.pickle')"
   ]
  },
  {
   "cell_type": "markdown",
   "id": "d571f52d",
   "metadata": {},
   "source": [
    "## General indicators"
   ]
  },
  {
   "cell_type": "code",
   "execution_count": 6,
   "id": "e5b76da2",
   "metadata": {},
   "outputs": [
    {
     "data": {
      "application/vnd.microsoft.datawrangler.viewer.v0+json": {
       "columns": [
        {
         "name": "index",
         "rawType": "object",
         "type": "unknown"
        },
        {
         "name": "117",
         "rawType": "float64",
         "type": "float"
        },
        {
         "name": "121",
         "rawType": "float64",
         "type": "float"
        },
        {
         "name": "total",
         "rawType": "float64",
         "type": "float"
        }
       ],
       "ref": "8bc8a147-d32e-478a-bba5-483504091f25",
       "rows": [
        [
         "GENERAL | Area (km2)",
         "708.4401703239722",
         "1088.2775229123965",
         "1796.7176932363686"
        ],
        [
         "GENERAL | Urbanization",
         "0.005647870683738194",
         "0.0",
         "0.0022269377566756544"
        ]
       ],
       "shape": {
        "columns": 3,
        "rows": 2
       }
      },
      "text/html": [
       "<div>\n",
       "<style scoped>\n",
       "    .dataframe tbody tr th:only-of-type {\n",
       "        vertical-align: middle;\n",
       "    }\n",
       "\n",
       "    .dataframe tbody tr th {\n",
       "        vertical-align: top;\n",
       "    }\n",
       "\n",
       "    .dataframe thead th {\n",
       "        text-align: right;\n",
       "    }\n",
       "</style>\n",
       "<table border=\"1\" class=\"dataframe\">\n",
       "  <thead>\n",
       "    <tr style=\"text-align: right;\">\n",
       "      <th></th>\n",
       "      <th>117</th>\n",
       "      <th>121</th>\n",
       "      <th>total</th>\n",
       "    </tr>\n",
       "  </thead>\n",
       "  <tbody>\n",
       "    <tr>\n",
       "      <th>GENERAL | Area (km2)</th>\n",
       "      <td>708.440170</td>\n",
       "      <td>1088.277523</td>\n",
       "      <td>1796.717693</td>\n",
       "    </tr>\n",
       "    <tr>\n",
       "      <th>GENERAL | Urbanization</th>\n",
       "      <td>0.005648</td>\n",
       "      <td>0.000000</td>\n",
       "      <td>0.002227</td>\n",
       "    </tr>\n",
       "  </tbody>\n",
       "</table>\n",
       "</div>"
      ],
      "text/plain": [
       "                               117          121        total\n",
       "GENERAL | Area (km2)    708.440170  1088.277523  1796.717693\n",
       "GENERAL | Urbanization    0.005648     0.000000     0.002227"
      ]
     },
     "execution_count": 6,
     "metadata": {},
     "output_type": "execute_result"
    }
   ],
   "source": [
    "from blocksnet.analysis.indicators.socio_economic import calculate_general_indicators\n",
    "\n",
    "general_indicators = calculate_general_indicators(blocks_gdf)\n",
    "general_indicators"
   ]
  },
  {
   "cell_type": "markdown",
   "id": "47fbd362",
   "metadata": {},
   "source": [
    "## Demographic indicators"
   ]
  },
  {
   "cell_type": "code",
   "execution_count": 7,
   "id": "63b25e30",
   "metadata": {},
   "outputs": [
    {
     "data": {
      "application/vnd.microsoft.datawrangler.viewer.v0+json": {
       "columns": [
        {
         "name": "index",
         "rawType": "object",
         "type": "unknown"
        },
        {
         "name": "117",
         "rawType": "float64",
         "type": "float"
        },
        {
         "name": "121",
         "rawType": "float64",
         "type": "float"
        },
        {
         "name": "total",
         "rawType": "float64",
         "type": "float"
        }
       ],
       "ref": "d6cdf268-ab43-4b72-b28a-7ff79d2df0ad",
       "rows": [
        [
         "DEMOGRAPHIC | Population",
         "14862.0",
         "279.0",
         "15141.0"
        ],
        [
         "DEMOGRAPHIC | Density (people/km2)",
         "20.978482901673342",
         "0.25636843004287496",
         "8.427033393725317"
        ]
       ],
       "shape": {
        "columns": 3,
        "rows": 2
       }
      },
      "text/html": [
       "<div>\n",
       "<style scoped>\n",
       "    .dataframe tbody tr th:only-of-type {\n",
       "        vertical-align: middle;\n",
       "    }\n",
       "\n",
       "    .dataframe tbody tr th {\n",
       "        vertical-align: top;\n",
       "    }\n",
       "\n",
       "    .dataframe thead th {\n",
       "        text-align: right;\n",
       "    }\n",
       "</style>\n",
       "<table border=\"1\" class=\"dataframe\">\n",
       "  <thead>\n",
       "    <tr style=\"text-align: right;\">\n",
       "      <th></th>\n",
       "      <th>117</th>\n",
       "      <th>121</th>\n",
       "      <th>total</th>\n",
       "    </tr>\n",
       "  </thead>\n",
       "  <tbody>\n",
       "    <tr>\n",
       "      <th>DEMOGRAPHIC | Population</th>\n",
       "      <td>14862.000000</td>\n",
       "      <td>279.000000</td>\n",
       "      <td>15141.000000</td>\n",
       "    </tr>\n",
       "    <tr>\n",
       "      <th>DEMOGRAPHIC | Density (people/km2)</th>\n",
       "      <td>20.978483</td>\n",
       "      <td>0.256368</td>\n",
       "      <td>8.427033</td>\n",
       "    </tr>\n",
       "  </tbody>\n",
       "</table>\n",
       "</div>"
      ],
      "text/plain": [
       "                                             117         121         total\n",
       "DEMOGRAPHIC | Population            14862.000000  279.000000  15141.000000\n",
       "DEMOGRAPHIC | Density (people/km2)     20.978483    0.256368      8.427033"
      ]
     },
     "execution_count": 7,
     "metadata": {},
     "output_type": "execute_result"
    }
   ],
   "source": [
    "from blocksnet.analysis.indicators.socio_economic import calculate_demographic_indicators\n",
    "\n",
    "demographic_indicators = calculate_demographic_indicators(blocks_gdf.fillna(0).rename(columns={'territory_id':'parent'}))\n",
    "demographic_indicators"
   ]
  },
  {
   "cell_type": "markdown",
   "id": "20f29f99",
   "metadata": {},
   "source": [
    "## Transport indicators"
   ]
  },
  {
   "cell_type": "code",
   "execution_count": 8,
   "id": "a8bb11d3",
   "metadata": {},
   "outputs": [
    {
     "data": {
      "application/vnd.microsoft.datawrangler.viewer.v0+json": {
       "columns": [
        {
         "name": "index",
         "rawType": "object",
         "type": "unknown"
        },
        {
         "name": "117",
         "rawType": "float64",
         "type": "float"
        },
        {
         "name": "121",
         "rawType": "float64",
         "type": "float"
        },
        {
         "name": "total",
         "rawType": "float64",
         "type": "float"
        }
       ],
       "ref": "b8ceac32-80c0-4619-8612-9d1639772cdf",
       "rows": [
        [
         "TRANSPORT | Road network density (km/km2)",
         "0.27063037300555565",
         "0.17811234577835794",
         "0.21459191472433645"
        ],
        [
         "TRANSPORT | Settlements connectivity",
         "0.25800901838362816",
         null,
         "0.25800901838362816"
        ],
        [
         "TRANSPORT | Road network length (km)",
         "191.72542754689596",
         "193.83566246378763",
         "385.5610900106853"
        ],
        [
         "TRANSPORT | Fuel stations count",
         "5.0",
         "0.0",
         "5.0"
        ],
        [
         "TRANSPORT | Average fuel station accessibility (min)",
         "36.193548387096776",
         null,
         "36.193548387096776"
        ],
        [
         "TRANSPORT | Railway stops count",
         "8.0",
         "4.0",
         "12.0"
        ],
        [
         "TRANSPORT | Average railway stop accessibility (min)",
         "38.619354838709675",
         null,
         "38.619354838709675"
        ],
        [
         "TRANSPORT | Airports count",
         "1.0",
         "0.0",
         "1.0"
        ],
        [
         "TRANSPORT | Average airport accessibility (min)",
         "24.412903225806453",
         null,
         "24.412903225806453"
        ]
       ],
       "shape": {
        "columns": 3,
        "rows": 9
       }
      },
      "text/html": [
       "<div>\n",
       "<style scoped>\n",
       "    .dataframe tbody tr th:only-of-type {\n",
       "        vertical-align: middle;\n",
       "    }\n",
       "\n",
       "    .dataframe tbody tr th {\n",
       "        vertical-align: top;\n",
       "    }\n",
       "\n",
       "    .dataframe thead th {\n",
       "        text-align: right;\n",
       "    }\n",
       "</style>\n",
       "<table border=\"1\" class=\"dataframe\">\n",
       "  <thead>\n",
       "    <tr style=\"text-align: right;\">\n",
       "      <th></th>\n",
       "      <th>117</th>\n",
       "      <th>121</th>\n",
       "      <th>total</th>\n",
       "    </tr>\n",
       "  </thead>\n",
       "  <tbody>\n",
       "    <tr>\n",
       "      <th>TRANSPORT | Road network density (km/km2)</th>\n",
       "      <td>0.270630</td>\n",
       "      <td>0.178112</td>\n",
       "      <td>0.214592</td>\n",
       "    </tr>\n",
       "    <tr>\n",
       "      <th>TRANSPORT | Settlements connectivity</th>\n",
       "      <td>0.258009</td>\n",
       "      <td>NaN</td>\n",
       "      <td>0.258009</td>\n",
       "    </tr>\n",
       "    <tr>\n",
       "      <th>TRANSPORT | Road network length (km)</th>\n",
       "      <td>191.725428</td>\n",
       "      <td>193.835662</td>\n",
       "      <td>385.561090</td>\n",
       "    </tr>\n",
       "    <tr>\n",
       "      <th>TRANSPORT | Fuel stations count</th>\n",
       "      <td>5.000000</td>\n",
       "      <td>0.000000</td>\n",
       "      <td>5.000000</td>\n",
       "    </tr>\n",
       "    <tr>\n",
       "      <th>TRANSPORT | Average fuel station accessibility (min)</th>\n",
       "      <td>36.193548</td>\n",
       "      <td>NaN</td>\n",
       "      <td>36.193548</td>\n",
       "    </tr>\n",
       "    <tr>\n",
       "      <th>TRANSPORT | Railway stops count</th>\n",
       "      <td>8.000000</td>\n",
       "      <td>4.000000</td>\n",
       "      <td>12.000000</td>\n",
       "    </tr>\n",
       "    <tr>\n",
       "      <th>TRANSPORT | Average railway stop accessibility (min)</th>\n",
       "      <td>38.619355</td>\n",
       "      <td>NaN</td>\n",
       "      <td>38.619355</td>\n",
       "    </tr>\n",
       "    <tr>\n",
       "      <th>TRANSPORT | Airports count</th>\n",
       "      <td>1.000000</td>\n",
       "      <td>0.000000</td>\n",
       "      <td>1.000000</td>\n",
       "    </tr>\n",
       "    <tr>\n",
       "      <th>TRANSPORT | Average airport accessibility (min)</th>\n",
       "      <td>24.412903</td>\n",
       "      <td>NaN</td>\n",
       "      <td>24.412903</td>\n",
       "    </tr>\n",
       "  </tbody>\n",
       "</table>\n",
       "</div>"
      ],
      "text/plain": [
       "                                                           117         121  \\\n",
       "TRANSPORT | Road network density (km/km2)             0.270630    0.178112   \n",
       "TRANSPORT | Settlements connectivity                  0.258009         NaN   \n",
       "TRANSPORT | Road network length (km)                191.725428  193.835662   \n",
       "TRANSPORT | Fuel stations count                       5.000000    0.000000   \n",
       "TRANSPORT | Average fuel station accessibility ...   36.193548         NaN   \n",
       "TRANSPORT | Railway stops count                       8.000000    4.000000   \n",
       "TRANSPORT | Average railway stop accessibility ...   38.619355         NaN   \n",
       "TRANSPORT | Airports count                            1.000000    0.000000   \n",
       "TRANSPORT | Average airport accessibility (min)      24.412903         NaN   \n",
       "\n",
       "                                                         total  \n",
       "TRANSPORT | Road network density (km/km2)             0.214592  \n",
       "TRANSPORT | Settlements connectivity                  0.258009  \n",
       "TRANSPORT | Road network length (km)                385.561090  \n",
       "TRANSPORT | Fuel stations count                       5.000000  \n",
       "TRANSPORT | Average fuel station accessibility ...   36.193548  \n",
       "TRANSPORT | Railway stops count                      12.000000  \n",
       "TRANSPORT | Average railway stop accessibility ...   38.619355  \n",
       "TRANSPORT | Airports count                            1.000000  \n",
       "TRANSPORT | Average airport accessibility (min)      24.412903  "
      ]
     },
     "execution_count": 8,
     "metadata": {},
     "output_type": "execute_result"
    }
   ],
   "source": [
    "from blocksnet.analysis.indicators.socio_economic import calculate_transport_indicators\n",
    "\n",
    "transport_indicators = calculate_transport_indicators(blocks_gdf, acc_mx, graph)\n",
    "transport_indicators"
   ]
  },
  {
   "cell_type": "markdown",
   "id": "d014b757",
   "metadata": {},
   "source": [
    "## Engineering indicators"
   ]
  },
  {
   "cell_type": "code",
   "execution_count": 9,
   "id": "6f5b45e8",
   "metadata": {},
   "outputs": [
    {
     "data": {
      "application/vnd.microsoft.datawrangler.viewer.v0+json": {
       "columns": [
        {
         "name": "index",
         "rawType": "object",
         "type": "unknown"
        },
        {
         "name": "117",
         "rawType": "float64",
         "type": "float"
        },
        {
         "name": "121",
         "rawType": "float64",
         "type": "float"
        },
        {
         "name": "total",
         "rawType": "float64",
         "type": "float"
        }
       ],
       "ref": "f6387591-6a33-42c4-a1a1-55155dae2815",
       "rows": [
        [
         "ENGINEERING | Substation",
         "0.0",
         "0.0",
         "0.0"
        ],
        [
         "ENGINEERING | Water works",
         "0.0",
         "0.0",
         "0.0"
        ],
        [
         "ENGINEERING | Wastewater plant",
         "0.0",
         "0.0",
         "0.0"
        ],
        [
         "ENGINEERING | Reservoir",
         null,
         null,
         null
        ],
        [
         "ENGINEERING | Gas distribution",
         null,
         null,
         null
        ],
        [
         "ENGINEERING | Infrastructure object",
         "0.0",
         "0.0",
         "0.0"
        ]
       ],
       "shape": {
        "columns": 3,
        "rows": 6
       }
      },
      "text/html": [
       "<div>\n",
       "<style scoped>\n",
       "    .dataframe tbody tr th:only-of-type {\n",
       "        vertical-align: middle;\n",
       "    }\n",
       "\n",
       "    .dataframe tbody tr th {\n",
       "        vertical-align: top;\n",
       "    }\n",
       "\n",
       "    .dataframe thead th {\n",
       "        text-align: right;\n",
       "    }\n",
       "</style>\n",
       "<table border=\"1\" class=\"dataframe\">\n",
       "  <thead>\n",
       "    <tr style=\"text-align: right;\">\n",
       "      <th></th>\n",
       "      <th>117</th>\n",
       "      <th>121</th>\n",
       "      <th>total</th>\n",
       "    </tr>\n",
       "  </thead>\n",
       "  <tbody>\n",
       "    <tr>\n",
       "      <th>ENGINEERING | Substation</th>\n",
       "      <td>0.0</td>\n",
       "      <td>0.0</td>\n",
       "      <td>0.0</td>\n",
       "    </tr>\n",
       "    <tr>\n",
       "      <th>ENGINEERING | Water works</th>\n",
       "      <td>0.0</td>\n",
       "      <td>0.0</td>\n",
       "      <td>0.0</td>\n",
       "    </tr>\n",
       "    <tr>\n",
       "      <th>ENGINEERING | Wastewater plant</th>\n",
       "      <td>0.0</td>\n",
       "      <td>0.0</td>\n",
       "      <td>0.0</td>\n",
       "    </tr>\n",
       "    <tr>\n",
       "      <th>ENGINEERING | Reservoir</th>\n",
       "      <td>NaN</td>\n",
       "      <td>NaN</td>\n",
       "      <td>NaN</td>\n",
       "    </tr>\n",
       "    <tr>\n",
       "      <th>ENGINEERING | Gas distribution</th>\n",
       "      <td>NaN</td>\n",
       "      <td>NaN</td>\n",
       "      <td>NaN</td>\n",
       "    </tr>\n",
       "    <tr>\n",
       "      <th>ENGINEERING | Infrastructure object</th>\n",
       "      <td>0.0</td>\n",
       "      <td>0.0</td>\n",
       "      <td>0.0</td>\n",
       "    </tr>\n",
       "  </tbody>\n",
       "</table>\n",
       "</div>"
      ],
      "text/plain": [
       "                                     117  121  total\n",
       "ENGINEERING | Substation             0.0  0.0    0.0\n",
       "ENGINEERING | Water works            0.0  0.0    0.0\n",
       "ENGINEERING | Wastewater plant       0.0  0.0    0.0\n",
       "ENGINEERING | Reservoir              NaN  NaN    NaN\n",
       "ENGINEERING | Gas distribution       NaN  NaN    NaN\n",
       "ENGINEERING | Infrastructure object  0.0  0.0    0.0"
      ]
     },
     "execution_count": 9,
     "metadata": {},
     "output_type": "execute_result"
    }
   ],
   "source": [
    "from blocksnet.analysis.indicators.socio_economic import calculate_engineering_indicators\n",
    "\n",
    "engineering_indicators = calculate_engineering_indicators(blocks_gdf)\n",
    "engineering_indicators"
   ]
  },
  {
   "cell_type": "markdown",
   "id": "7f66e763",
   "metadata": {},
   "source": [
    "## Social indicators"
   ]
  },
  {
   "cell_type": "code",
   "execution_count": 10,
   "id": "bf9a4df7",
   "metadata": {},
   "outputs": [
    {
     "data": {
      "text/plain": [
       "{23: SOCIAL | Extracurricular,\n",
       " 24: SOCIAL | Extracurricular,\n",
       " 39: SOCIAL | Ambulance,\n",
       " 40: SOCIAL | Ambulance,\n",
       " 41: SOCIAL | Special medical,\n",
       " 42: SOCIAL | Preventive medical,\n",
       " 68: SOCIAL | Gym,\n",
       " 46: SOCIAL | Orphanage,\n",
       " 43: SOCIAL | Social service center,\n",
       " 49: SOCIAL | Cultural center,\n",
       " 53: SOCIAL | Concert hall,\n",
       " 60: SOCIAL | Ice arena,\n",
       " 72: SOCIAL | Eco trail,\n",
       " 79: SOCIAL | Fire station,\n",
       " 112: SOCIAL | Tourist base}"
      ]
     },
     "execution_count": 10,
     "metadata": {},
     "output_type": "execute_result"
    }
   ],
   "source": [
    "from blocksnet.analysis.indicators.socio_economic import SocialIndicator\n",
    "\n",
    "SOCIAL_INDICATORS_MAPPING = {\n",
    "    SocialIndicator.EXTRACURRICULAR: [23, 24],\n",
    "    SocialIndicator.AMBULANCE: [39, 40],\n",
    "    SocialIndicator.SPECIAL_MEDICAL: [41],\n",
    "    SocialIndicator.PREVENTIVE_MEDICAL: [42],\n",
    "    SocialIndicator.GYM: [68],\n",
    "    SocialIndicator.ORPHANAGE: [46],\n",
    "    SocialIndicator.SOCIAL_SERVICE_CENTER: [43],\n",
    "    SocialIndicator.CULTURAL_CENTER: [49],\n",
    "    SocialIndicator.CONCERT_HALL: [53],\n",
    "    SocialIndicator.ICE_ARENA: [60],\n",
    "    SocialIndicator.ECO_TRAIL: [72],\n",
    "    SocialIndicator.FIRE_STATION: [79],\n",
    "    SocialIndicator.TOURIST_BASE: [112],\n",
    "}\n",
    "\n",
    "SERVICE_TYPES_IDS_MAPPING = {st_id:indicator for indicator, st_ids in SOCIAL_INDICATORS_MAPPING.items() for st_id in st_ids}\n",
    "\n",
    "SERVICE_TYPES_IDS_MAPPING"
   ]
  },
  {
   "cell_type": "code",
   "execution_count": 11,
   "id": "1444770f",
   "metadata": {},
   "outputs": [],
   "source": [
    "service_types_df['indicator'] = service_types_df.index.map(SERVICE_TYPES_IDS_MAPPING)\n",
    "service_types_df = service_types_df.rename(columns={\n",
    "    'radius_availability_meters': 'meters',\n",
    "    'time_availability_minutes': 'minutes',\n",
    "    'services_per_1000_normative': 'count',\n",
    "    'services_capacity_per_1000_normative': 'capacity'\n",
    "})"
   ]
  },
  {
   "cell_type": "code",
   "execution_count": 12,
   "id": "4c5be22d",
   "metadata": {},
   "outputs": [
    {
     "name": "stderr",
     "output_type": "stream",
     "text": [
      "100%|██████████| 39/39 [00:01<00:00, 23.63it/s]\n"
     ]
    }
   ],
   "source": [
    "from blocksnet.analysis.indicators.socio_economic import calculate_social_indicators\n",
    "\n",
    "sc_indicators, sp_indicators = calculate_social_indicators(blocks_gdf.fillna(0), acc_mx, acc_mx, service_types_df)"
   ]
  },
  {
   "cell_type": "code",
   "execution_count": 13,
   "id": "10b263b4",
   "metadata": {},
   "outputs": [
    {
     "data": {
      "application/vnd.microsoft.datawrangler.viewer.v0+json": {
       "columns": [
        {
         "name": "index",
         "rawType": "object",
         "type": "unknown"
        },
        {
         "name": "117",
         "rawType": "int64",
         "type": "integer"
        },
        {
         "name": "121",
         "rawType": "int64",
         "type": "integer"
        },
        {
         "name": "total",
         "rawType": "int64",
         "type": "integer"
        }
       ],
       "ref": "894d6e93-f0c8-4003-8d2c-a4a09a87ab05",
       "rows": [
        [
         "SOCIALCOUNT | Kindergarten",
         "7",
         "1",
         "8"
        ],
        [
         "SOCIALCOUNT | School",
         "4",
         "1",
         "5"
        ],
        [
         "SOCIALCOUNT | College",
         "1",
         "0",
         "1"
        ],
        [
         "SOCIALCOUNT | University",
         "0",
         "0",
         "0"
        ],
        [
         "SOCIALCOUNT | Extracurricular",
         "3",
         "0",
         "3"
        ],
        [
         "SOCIALCOUNT | Hospital",
         "1",
         "0",
         "1"
        ],
        [
         "SOCIALCOUNT | Polyclinic",
         "1",
         "0",
         "1"
        ],
        [
         "SOCIALCOUNT | Ambulance",
         "1",
         "0",
         "1"
        ],
        [
         "SOCIALCOUNT | Sanatorium",
         "0",
         "0",
         "0"
        ],
        [
         "SOCIALCOUNT | Special medical",
         "1",
         "0",
         "1"
        ],
        [
         "SOCIALCOUNT | Preventive medical",
         "0",
         "0",
         "0"
        ],
        [
         "SOCIALCOUNT | Pharmacy",
         "9",
         "0",
         "9"
        ],
        [
         "SOCIALCOUNT | Gym",
         "3",
         "0",
         "3"
        ],
        [
         "SOCIALCOUNT | Swimming pool",
         "1",
         "0",
         "1"
        ],
        [
         "SOCIALCOUNT | Pitch",
         "5",
         "1",
         "6"
        ],
        [
         "SOCIALCOUNT | Stadium",
         "1",
         "0",
         "1"
        ],
        [
         "SOCIALCOUNT | Orphanage",
         "0",
         "0",
         "0"
        ],
        [
         "SOCIALCOUNT | Social facility",
         "1",
         "0",
         "1"
        ],
        [
         "SOCIALCOUNT | Social service center",
         "0",
         "0",
         "0"
        ],
        [
         "SOCIALCOUNT | Post",
         "5",
         "1",
         "6"
        ],
        [
         "SOCIALCOUNT | Bank",
         "5",
         "0",
         "5"
        ],
        [
         "SOCIALCOUNT | Multifunctional center",
         "1",
         "1",
         "2"
        ],
        [
         "SOCIALCOUNT | Library",
         "5",
         "1",
         "6"
        ],
        [
         "SOCIALCOUNT | Museum",
         "2",
         "0",
         "2"
        ],
        [
         "SOCIALCOUNT | Theatre",
         "1",
         "0",
         "1"
        ],
        [
         "SOCIALCOUNT | Cultural center",
         "0",
         "0",
         "0"
        ],
        [
         "SOCIALCOUNT | Cinema",
         "0",
         "0",
         "0"
        ],
        [
         "SOCIALCOUNT | Concert hall",
         "0",
         "0",
         "0"
        ],
        [
         "SOCIALCOUNT | Ice arena",
         "0",
         "0",
         "0"
        ],
        [
         "SOCIALCOUNT | Mall",
         "5",
         "0",
         "5"
        ],
        [
         "SOCIALCOUNT | Park",
         "7",
         "0",
         "7"
        ],
        [
         "SOCIALCOUNT | Beach",
         "0",
         "0",
         "0"
        ],
        [
         "SOCIALCOUNT | Eco trail",
         "0",
         "0",
         "0"
        ],
        [
         "SOCIALCOUNT | Fire station",
         "1",
         "0",
         "1"
        ],
        [
         "SOCIALCOUNT | Police",
         "1",
         "0",
         "1"
        ],
        [
         "SOCIALCOUNT | Hotel",
         "4",
         "4",
         "8"
        ],
        [
         "SOCIALCOUNT | Hostel",
         "1",
         "1",
         "2"
        ],
        [
         "SOCIALCOUNT | Tourist base",
         "0",
         "0",
         "0"
        ],
        [
         "SOCIALCOUNT | Catering",
         "20",
         "4",
         "24"
        ]
       ],
       "shape": {
        "columns": 3,
        "rows": 39
       }
      },
      "text/html": [
       "<div>\n",
       "<style scoped>\n",
       "    .dataframe tbody tr th:only-of-type {\n",
       "        vertical-align: middle;\n",
       "    }\n",
       "\n",
       "    .dataframe tbody tr th {\n",
       "        vertical-align: top;\n",
       "    }\n",
       "\n",
       "    .dataframe thead th {\n",
       "        text-align: right;\n",
       "    }\n",
       "</style>\n",
       "<table border=\"1\" class=\"dataframe\">\n",
       "  <thead>\n",
       "    <tr style=\"text-align: right;\">\n",
       "      <th></th>\n",
       "      <th>117</th>\n",
       "      <th>121</th>\n",
       "      <th>total</th>\n",
       "    </tr>\n",
       "  </thead>\n",
       "  <tbody>\n",
       "    <tr>\n",
       "      <th>SOCIALCOUNT | Kindergarten</th>\n",
       "      <td>7</td>\n",
       "      <td>1</td>\n",
       "      <td>8</td>\n",
       "    </tr>\n",
       "    <tr>\n",
       "      <th>SOCIALCOUNT | School</th>\n",
       "      <td>4</td>\n",
       "      <td>1</td>\n",
       "      <td>5</td>\n",
       "    </tr>\n",
       "    <tr>\n",
       "      <th>SOCIALCOUNT | College</th>\n",
       "      <td>1</td>\n",
       "      <td>0</td>\n",
       "      <td>1</td>\n",
       "    </tr>\n",
       "    <tr>\n",
       "      <th>SOCIALCOUNT | University</th>\n",
       "      <td>0</td>\n",
       "      <td>0</td>\n",
       "      <td>0</td>\n",
       "    </tr>\n",
       "    <tr>\n",
       "      <th>SOCIALCOUNT | Extracurricular</th>\n",
       "      <td>3</td>\n",
       "      <td>0</td>\n",
       "      <td>3</td>\n",
       "    </tr>\n",
       "    <tr>\n",
       "      <th>SOCIALCOUNT | Hospital</th>\n",
       "      <td>1</td>\n",
       "      <td>0</td>\n",
       "      <td>1</td>\n",
       "    </tr>\n",
       "    <tr>\n",
       "      <th>SOCIALCOUNT | Polyclinic</th>\n",
       "      <td>1</td>\n",
       "      <td>0</td>\n",
       "      <td>1</td>\n",
       "    </tr>\n",
       "    <tr>\n",
       "      <th>SOCIALCOUNT | Ambulance</th>\n",
       "      <td>1</td>\n",
       "      <td>0</td>\n",
       "      <td>1</td>\n",
       "    </tr>\n",
       "    <tr>\n",
       "      <th>SOCIALCOUNT | Sanatorium</th>\n",
       "      <td>0</td>\n",
       "      <td>0</td>\n",
       "      <td>0</td>\n",
       "    </tr>\n",
       "    <tr>\n",
       "      <th>SOCIALCOUNT | Special medical</th>\n",
       "      <td>1</td>\n",
       "      <td>0</td>\n",
       "      <td>1</td>\n",
       "    </tr>\n",
       "    <tr>\n",
       "      <th>SOCIALCOUNT | Preventive medical</th>\n",
       "      <td>0</td>\n",
       "      <td>0</td>\n",
       "      <td>0</td>\n",
       "    </tr>\n",
       "    <tr>\n",
       "      <th>SOCIALCOUNT | Pharmacy</th>\n",
       "      <td>9</td>\n",
       "      <td>0</td>\n",
       "      <td>9</td>\n",
       "    </tr>\n",
       "    <tr>\n",
       "      <th>SOCIALCOUNT | Gym</th>\n",
       "      <td>3</td>\n",
       "      <td>0</td>\n",
       "      <td>3</td>\n",
       "    </tr>\n",
       "    <tr>\n",
       "      <th>SOCIALCOUNT | Swimming pool</th>\n",
       "      <td>1</td>\n",
       "      <td>0</td>\n",
       "      <td>1</td>\n",
       "    </tr>\n",
       "    <tr>\n",
       "      <th>SOCIALCOUNT | Pitch</th>\n",
       "      <td>5</td>\n",
       "      <td>1</td>\n",
       "      <td>6</td>\n",
       "    </tr>\n",
       "    <tr>\n",
       "      <th>SOCIALCOUNT | Stadium</th>\n",
       "      <td>1</td>\n",
       "      <td>0</td>\n",
       "      <td>1</td>\n",
       "    </tr>\n",
       "    <tr>\n",
       "      <th>SOCIALCOUNT | Orphanage</th>\n",
       "      <td>0</td>\n",
       "      <td>0</td>\n",
       "      <td>0</td>\n",
       "    </tr>\n",
       "    <tr>\n",
       "      <th>SOCIALCOUNT | Social facility</th>\n",
       "      <td>1</td>\n",
       "      <td>0</td>\n",
       "      <td>1</td>\n",
       "    </tr>\n",
       "    <tr>\n",
       "      <th>SOCIALCOUNT | Social service center</th>\n",
       "      <td>0</td>\n",
       "      <td>0</td>\n",
       "      <td>0</td>\n",
       "    </tr>\n",
       "    <tr>\n",
       "      <th>SOCIALCOUNT | Post</th>\n",
       "      <td>5</td>\n",
       "      <td>1</td>\n",
       "      <td>6</td>\n",
       "    </tr>\n",
       "    <tr>\n",
       "      <th>SOCIALCOUNT | Bank</th>\n",
       "      <td>5</td>\n",
       "      <td>0</td>\n",
       "      <td>5</td>\n",
       "    </tr>\n",
       "    <tr>\n",
       "      <th>SOCIALCOUNT | Multifunctional center</th>\n",
       "      <td>1</td>\n",
       "      <td>1</td>\n",
       "      <td>2</td>\n",
       "    </tr>\n",
       "    <tr>\n",
       "      <th>SOCIALCOUNT | Library</th>\n",
       "      <td>5</td>\n",
       "      <td>1</td>\n",
       "      <td>6</td>\n",
       "    </tr>\n",
       "    <tr>\n",
       "      <th>SOCIALCOUNT | Museum</th>\n",
       "      <td>2</td>\n",
       "      <td>0</td>\n",
       "      <td>2</td>\n",
       "    </tr>\n",
       "    <tr>\n",
       "      <th>SOCIALCOUNT | Theatre</th>\n",
       "      <td>1</td>\n",
       "      <td>0</td>\n",
       "      <td>1</td>\n",
       "    </tr>\n",
       "    <tr>\n",
       "      <th>SOCIALCOUNT | Cultural center</th>\n",
       "      <td>0</td>\n",
       "      <td>0</td>\n",
       "      <td>0</td>\n",
       "    </tr>\n",
       "    <tr>\n",
       "      <th>SOCIALCOUNT | Cinema</th>\n",
       "      <td>0</td>\n",
       "      <td>0</td>\n",
       "      <td>0</td>\n",
       "    </tr>\n",
       "    <tr>\n",
       "      <th>SOCIALCOUNT | Concert hall</th>\n",
       "      <td>0</td>\n",
       "      <td>0</td>\n",
       "      <td>0</td>\n",
       "    </tr>\n",
       "    <tr>\n",
       "      <th>SOCIALCOUNT | Ice arena</th>\n",
       "      <td>0</td>\n",
       "      <td>0</td>\n",
       "      <td>0</td>\n",
       "    </tr>\n",
       "    <tr>\n",
       "      <th>SOCIALCOUNT | Mall</th>\n",
       "      <td>5</td>\n",
       "      <td>0</td>\n",
       "      <td>5</td>\n",
       "    </tr>\n",
       "    <tr>\n",
       "      <th>SOCIALCOUNT | Park</th>\n",
       "      <td>7</td>\n",
       "      <td>0</td>\n",
       "      <td>7</td>\n",
       "    </tr>\n",
       "    <tr>\n",
       "      <th>SOCIALCOUNT | Beach</th>\n",
       "      <td>0</td>\n",
       "      <td>0</td>\n",
       "      <td>0</td>\n",
       "    </tr>\n",
       "    <tr>\n",
       "      <th>SOCIALCOUNT | Eco trail</th>\n",
       "      <td>0</td>\n",
       "      <td>0</td>\n",
       "      <td>0</td>\n",
       "    </tr>\n",
       "    <tr>\n",
       "      <th>SOCIALCOUNT | Fire station</th>\n",
       "      <td>1</td>\n",
       "      <td>0</td>\n",
       "      <td>1</td>\n",
       "    </tr>\n",
       "    <tr>\n",
       "      <th>SOCIALCOUNT | Police</th>\n",
       "      <td>1</td>\n",
       "      <td>0</td>\n",
       "      <td>1</td>\n",
       "    </tr>\n",
       "    <tr>\n",
       "      <th>SOCIALCOUNT | Hotel</th>\n",
       "      <td>4</td>\n",
       "      <td>4</td>\n",
       "      <td>8</td>\n",
       "    </tr>\n",
       "    <tr>\n",
       "      <th>SOCIALCOUNT | Hostel</th>\n",
       "      <td>1</td>\n",
       "      <td>1</td>\n",
       "      <td>2</td>\n",
       "    </tr>\n",
       "    <tr>\n",
       "      <th>SOCIALCOUNT | Tourist base</th>\n",
       "      <td>0</td>\n",
       "      <td>0</td>\n",
       "      <td>0</td>\n",
       "    </tr>\n",
       "    <tr>\n",
       "      <th>SOCIALCOUNT | Catering</th>\n",
       "      <td>20</td>\n",
       "      <td>4</td>\n",
       "      <td>24</td>\n",
       "    </tr>\n",
       "  </tbody>\n",
       "</table>\n",
       "</div>"
      ],
      "text/plain": [
       "                                      117  121  total\n",
       "SOCIALCOUNT | Kindergarten              7    1      8\n",
       "SOCIALCOUNT | School                    4    1      5\n",
       "SOCIALCOUNT | College                   1    0      1\n",
       "SOCIALCOUNT | University                0    0      0\n",
       "SOCIALCOUNT | Extracurricular           3    0      3\n",
       "SOCIALCOUNT | Hospital                  1    0      1\n",
       "SOCIALCOUNT | Polyclinic                1    0      1\n",
       "SOCIALCOUNT | Ambulance                 1    0      1\n",
       "SOCIALCOUNT | Sanatorium                0    0      0\n",
       "SOCIALCOUNT | Special medical           1    0      1\n",
       "SOCIALCOUNT | Preventive medical        0    0      0\n",
       "SOCIALCOUNT | Pharmacy                  9    0      9\n",
       "SOCIALCOUNT | Gym                       3    0      3\n",
       "SOCIALCOUNT | Swimming pool             1    0      1\n",
       "SOCIALCOUNT | Pitch                     5    1      6\n",
       "SOCIALCOUNT | Stadium                   1    0      1\n",
       "SOCIALCOUNT | Orphanage                 0    0      0\n",
       "SOCIALCOUNT | Social facility           1    0      1\n",
       "SOCIALCOUNT | Social service center     0    0      0\n",
       "SOCIALCOUNT | Post                      5    1      6\n",
       "SOCIALCOUNT | Bank                      5    0      5\n",
       "SOCIALCOUNT | Multifunctional center    1    1      2\n",
       "SOCIALCOUNT | Library                   5    1      6\n",
       "SOCIALCOUNT | Museum                    2    0      2\n",
       "SOCIALCOUNT | Theatre                   1    0      1\n",
       "SOCIALCOUNT | Cultural center           0    0      0\n",
       "SOCIALCOUNT | Cinema                    0    0      0\n",
       "SOCIALCOUNT | Concert hall              0    0      0\n",
       "SOCIALCOUNT | Ice arena                 0    0      0\n",
       "SOCIALCOUNT | Mall                      5    0      5\n",
       "SOCIALCOUNT | Park                      7    0      7\n",
       "SOCIALCOUNT | Beach                     0    0      0\n",
       "SOCIALCOUNT | Eco trail                 0    0      0\n",
       "SOCIALCOUNT | Fire station              1    0      1\n",
       "SOCIALCOUNT | Police                    1    0      1\n",
       "SOCIALCOUNT | Hotel                     4    4      8\n",
       "SOCIALCOUNT | Hostel                    1    1      2\n",
       "SOCIALCOUNT | Tourist base              0    0      0\n",
       "SOCIALCOUNT | Catering                 20    4     24"
      ]
     },
     "execution_count": 13,
     "metadata": {},
     "output_type": "execute_result"
    }
   ],
   "source": [
    "sc_indicators"
   ]
  },
  {
   "cell_type": "code",
   "execution_count": 14,
   "id": "e3131b7d",
   "metadata": {},
   "outputs": [
    {
     "data": {
      "application/vnd.microsoft.datawrangler.viewer.v0+json": {
       "columns": [
        {
         "name": "index",
         "rawType": "object",
         "type": "unknown"
        },
        {
         "name": "117",
         "rawType": "float64",
         "type": "float"
        },
        {
         "name": "121",
         "rawType": "float64",
         "type": "float"
        },
        {
         "name": "total",
         "rawType": "float64",
         "type": "float"
        }
       ],
       "ref": "ae1cdb72-ab62-40a8-889b-bfe348aaf15c",
       "rows": [
        [
         "SOCIALPROVISION | Kindergarten",
         "0.7972103004291845",
         "0.0",
         "0.7796432318992654"
        ],
        [
         "SOCIALPROVISION | School",
         "0.7538716814159292",
         "0.05405405405405406",
         "0.7398373983739838"
        ],
        [
         "SOCIALPROVISION | College",
         "0.9466666666666667",
         "0.0",
         "0.8987341772151899"
        ],
        [
         "SOCIALPROVISION | University",
         "0.0",
         "0.0",
         "0.0"
        ],
        [
         "SOCIALPROVISION | Extracurricular",
         null,
         null,
         null
        ],
        [
         "SOCIALPROVISION | Hospital",
         "0.0125",
         "0.0",
         "0.011904761904761904"
        ],
        [
         "SOCIALPROVISION | Polyclinic",
         "0.013392857142857142",
         "0.0",
         "0.012875536480686695"
        ],
        [
         "SOCIALPROVISION | Ambulance",
         null,
         null,
         null
        ],
        [
         "SOCIALPROVISION | Sanatorium",
         "0.0",
         "0.0",
         "0.0"
        ],
        [
         "SOCIALPROVISION | Special medical",
         null,
         null,
         null
        ],
        [
         "SOCIALPROVISION | Preventive medical",
         null,
         null,
         null
        ],
        [
         "SOCIALPROVISION | Pharmacy",
         "0.944",
         "0.0",
         "0.9111969111969112"
        ],
        [
         "SOCIALPROVISION | Gym",
         null,
         null,
         null
        ],
        [
         "SOCIALPROVISION | Swimming pool",
         "0.013333333333333334",
         "0.0",
         "0.012658227848101266"
        ],
        [
         "SOCIALPROVISION | Pitch",
         "0.9602272727272727",
         "0.25",
         "0.9293478260869565"
        ],
        [
         "SOCIALPROVISION | Stadium",
         "0.9426229508196722",
         "0.0",
         "0.8914728682170543"
        ],
        [
         "SOCIALPROVISION | Orphanage",
         null,
         null,
         null
        ],
        [
         "SOCIALPROVISION | Social facility",
         "0.06060606060606061",
         "0.0",
         "0.05555555555555555"
        ],
        [
         "SOCIALPROVISION | Social service center",
         null,
         null,
         null
        ],
        [
         "SOCIALPROVISION | Post",
         "0.9804347826086957",
         "0.047619047619047616",
         "0.9596174282678002"
        ],
        [
         "SOCIALPROVISION | Bank",
         "0.9478527607361963",
         "0.0",
         "0.9169139465875371"
        ],
        [
         "SOCIALPROVISION | Multifunctional center",
         "0.9471947194719472",
         "0.037037037037037035",
         "0.927360774818402"
        ],
        [
         "SOCIALPROVISION | Library",
         "0.9545454545454546",
         "0.3333333333333333",
         "0.9027777777777778"
        ],
        [
         "SOCIALPROVISION | Museum",
         "0.012658227848101266",
         "0.0",
         "0.011764705882352941"
        ],
        [
         "SOCIALPROVISION | Theatre",
         "0.9426229508196722",
         "0.0",
         "0.8914728682170543"
        ],
        [
         "SOCIALPROVISION | Cultural center",
         null,
         null,
         null
        ],
        [
         "SOCIALPROVISION | Cinema",
         "0.0",
         "0.0",
         "0.0"
        ],
        [
         "SOCIALPROVISION | Concert hall",
         null,
         null,
         null
        ],
        [
         "SOCIALPROVISION | Ice arena",
         null,
         null,
         null
        ],
        [
         "SOCIALPROVISION | Mall",
         "0.9466666666666667",
         "0.0",
         "0.8987341772151899"
        ],
        [
         "SOCIALPROVISION | Park",
         "0.9609756097560975",
         "0.0",
         "0.9425837320574163"
        ],
        [
         "SOCIALPROVISION | Beach",
         "0.0",
         "0.0",
         "0.0"
        ],
        [
         "SOCIALPROVISION | Eco trail",
         null,
         null,
         null
        ],
        [
         "SOCIALPROVISION | Fire station",
         null,
         null,
         null
        ],
        [
         "SOCIALPROVISION | Police",
         "0.8365384615384616",
         "0.0",
         "0.7837837837837838"
        ],
        [
         "SOCIALPROVISION | Hotel",
         "0.95",
         "0.875",
         "0.9464285714285714"
        ],
        [
         "SOCIALPROVISION | Hostel",
         "0.0125",
         "0.0",
         "0.011904761904761904"
        ],
        [
         "SOCIALPROVISION | Tourist base",
         "0.0",
         "0.0",
         "0.0"
        ],
        [
         "SOCIALPROVISION | Catering",
         "0.6669903926482874",
         "0.40489130434782605",
         "0.6553739542958152"
        ]
       ],
       "shape": {
        "columns": 3,
        "rows": 39
       }
      },
      "text/html": [
       "<div>\n",
       "<style scoped>\n",
       "    .dataframe tbody tr th:only-of-type {\n",
       "        vertical-align: middle;\n",
       "    }\n",
       "\n",
       "    .dataframe tbody tr th {\n",
       "        vertical-align: top;\n",
       "    }\n",
       "\n",
       "    .dataframe thead th {\n",
       "        text-align: right;\n",
       "    }\n",
       "</style>\n",
       "<table border=\"1\" class=\"dataframe\">\n",
       "  <thead>\n",
       "    <tr style=\"text-align: right;\">\n",
       "      <th></th>\n",
       "      <th>117</th>\n",
       "      <th>121</th>\n",
       "      <th>total</th>\n",
       "    </tr>\n",
       "  </thead>\n",
       "  <tbody>\n",
       "    <tr>\n",
       "      <th>SOCIALPROVISION | Kindergarten</th>\n",
       "      <td>0.797210</td>\n",
       "      <td>0.000000</td>\n",
       "      <td>0.779643</td>\n",
       "    </tr>\n",
       "    <tr>\n",
       "      <th>SOCIALPROVISION | School</th>\n",
       "      <td>0.753872</td>\n",
       "      <td>0.054054</td>\n",
       "      <td>0.739837</td>\n",
       "    </tr>\n",
       "    <tr>\n",
       "      <th>SOCIALPROVISION | College</th>\n",
       "      <td>0.946667</td>\n",
       "      <td>0.000000</td>\n",
       "      <td>0.898734</td>\n",
       "    </tr>\n",
       "    <tr>\n",
       "      <th>SOCIALPROVISION | University</th>\n",
       "      <td>0.000000</td>\n",
       "      <td>0.000000</td>\n",
       "      <td>0.000000</td>\n",
       "    </tr>\n",
       "    <tr>\n",
       "      <th>SOCIALPROVISION | Extracurricular</th>\n",
       "      <td>NaN</td>\n",
       "      <td>NaN</td>\n",
       "      <td>NaN</td>\n",
       "    </tr>\n",
       "    <tr>\n",
       "      <th>SOCIALPROVISION | Hospital</th>\n",
       "      <td>0.012500</td>\n",
       "      <td>0.000000</td>\n",
       "      <td>0.011905</td>\n",
       "    </tr>\n",
       "    <tr>\n",
       "      <th>SOCIALPROVISION | Polyclinic</th>\n",
       "      <td>0.013393</td>\n",
       "      <td>0.000000</td>\n",
       "      <td>0.012876</td>\n",
       "    </tr>\n",
       "    <tr>\n",
       "      <th>SOCIALPROVISION | Ambulance</th>\n",
       "      <td>NaN</td>\n",
       "      <td>NaN</td>\n",
       "      <td>NaN</td>\n",
       "    </tr>\n",
       "    <tr>\n",
       "      <th>SOCIALPROVISION | Sanatorium</th>\n",
       "      <td>0.000000</td>\n",
       "      <td>0.000000</td>\n",
       "      <td>0.000000</td>\n",
       "    </tr>\n",
       "    <tr>\n",
       "      <th>SOCIALPROVISION | Special medical</th>\n",
       "      <td>NaN</td>\n",
       "      <td>NaN</td>\n",
       "      <td>NaN</td>\n",
       "    </tr>\n",
       "    <tr>\n",
       "      <th>SOCIALPROVISION | Preventive medical</th>\n",
       "      <td>NaN</td>\n",
       "      <td>NaN</td>\n",
       "      <td>NaN</td>\n",
       "    </tr>\n",
       "    <tr>\n",
       "      <th>SOCIALPROVISION | Pharmacy</th>\n",
       "      <td>0.944000</td>\n",
       "      <td>0.000000</td>\n",
       "      <td>0.911197</td>\n",
       "    </tr>\n",
       "    <tr>\n",
       "      <th>SOCIALPROVISION | Gym</th>\n",
       "      <td>NaN</td>\n",
       "      <td>NaN</td>\n",
       "      <td>NaN</td>\n",
       "    </tr>\n",
       "    <tr>\n",
       "      <th>SOCIALPROVISION | Swimming pool</th>\n",
       "      <td>0.013333</td>\n",
       "      <td>0.000000</td>\n",
       "      <td>0.012658</td>\n",
       "    </tr>\n",
       "    <tr>\n",
       "      <th>SOCIALPROVISION | Pitch</th>\n",
       "      <td>0.960227</td>\n",
       "      <td>0.250000</td>\n",
       "      <td>0.929348</td>\n",
       "    </tr>\n",
       "    <tr>\n",
       "      <th>SOCIALPROVISION | Stadium</th>\n",
       "      <td>0.942623</td>\n",
       "      <td>0.000000</td>\n",
       "      <td>0.891473</td>\n",
       "    </tr>\n",
       "    <tr>\n",
       "      <th>SOCIALPROVISION | Orphanage</th>\n",
       "      <td>NaN</td>\n",
       "      <td>NaN</td>\n",
       "      <td>NaN</td>\n",
       "    </tr>\n",
       "    <tr>\n",
       "      <th>SOCIALPROVISION | Social facility</th>\n",
       "      <td>0.060606</td>\n",
       "      <td>0.000000</td>\n",
       "      <td>0.055556</td>\n",
       "    </tr>\n",
       "    <tr>\n",
       "      <th>SOCIALPROVISION | Social service center</th>\n",
       "      <td>NaN</td>\n",
       "      <td>NaN</td>\n",
       "      <td>NaN</td>\n",
       "    </tr>\n",
       "    <tr>\n",
       "      <th>SOCIALPROVISION | Post</th>\n",
       "      <td>0.980435</td>\n",
       "      <td>0.047619</td>\n",
       "      <td>0.959617</td>\n",
       "    </tr>\n",
       "    <tr>\n",
       "      <th>SOCIALPROVISION | Bank</th>\n",
       "      <td>0.947853</td>\n",
       "      <td>0.000000</td>\n",
       "      <td>0.916914</td>\n",
       "    </tr>\n",
       "    <tr>\n",
       "      <th>SOCIALPROVISION | Multifunctional center</th>\n",
       "      <td>0.947195</td>\n",
       "      <td>0.037037</td>\n",
       "      <td>0.927361</td>\n",
       "    </tr>\n",
       "    <tr>\n",
       "      <th>SOCIALPROVISION | Library</th>\n",
       "      <td>0.954545</td>\n",
       "      <td>0.333333</td>\n",
       "      <td>0.902778</td>\n",
       "    </tr>\n",
       "    <tr>\n",
       "      <th>SOCIALPROVISION | Museum</th>\n",
       "      <td>0.012658</td>\n",
       "      <td>0.000000</td>\n",
       "      <td>0.011765</td>\n",
       "    </tr>\n",
       "    <tr>\n",
       "      <th>SOCIALPROVISION | Theatre</th>\n",
       "      <td>0.942623</td>\n",
       "      <td>0.000000</td>\n",
       "      <td>0.891473</td>\n",
       "    </tr>\n",
       "    <tr>\n",
       "      <th>SOCIALPROVISION | Cultural center</th>\n",
       "      <td>NaN</td>\n",
       "      <td>NaN</td>\n",
       "      <td>NaN</td>\n",
       "    </tr>\n",
       "    <tr>\n",
       "      <th>SOCIALPROVISION | Cinema</th>\n",
       "      <td>0.000000</td>\n",
       "      <td>0.000000</td>\n",
       "      <td>0.000000</td>\n",
       "    </tr>\n",
       "    <tr>\n",
       "      <th>SOCIALPROVISION | Concert hall</th>\n",
       "      <td>NaN</td>\n",
       "      <td>NaN</td>\n",
       "      <td>NaN</td>\n",
       "    </tr>\n",
       "    <tr>\n",
       "      <th>SOCIALPROVISION | Ice arena</th>\n",
       "      <td>NaN</td>\n",
       "      <td>NaN</td>\n",
       "      <td>NaN</td>\n",
       "    </tr>\n",
       "    <tr>\n",
       "      <th>SOCIALPROVISION | Mall</th>\n",
       "      <td>0.946667</td>\n",
       "      <td>0.000000</td>\n",
       "      <td>0.898734</td>\n",
       "    </tr>\n",
       "    <tr>\n",
       "      <th>SOCIALPROVISION | Park</th>\n",
       "      <td>0.960976</td>\n",
       "      <td>0.000000</td>\n",
       "      <td>0.942584</td>\n",
       "    </tr>\n",
       "    <tr>\n",
       "      <th>SOCIALPROVISION | Beach</th>\n",
       "      <td>0.000000</td>\n",
       "      <td>0.000000</td>\n",
       "      <td>0.000000</td>\n",
       "    </tr>\n",
       "    <tr>\n",
       "      <th>SOCIALPROVISION | Eco trail</th>\n",
       "      <td>NaN</td>\n",
       "      <td>NaN</td>\n",
       "      <td>NaN</td>\n",
       "    </tr>\n",
       "    <tr>\n",
       "      <th>SOCIALPROVISION | Fire station</th>\n",
       "      <td>NaN</td>\n",
       "      <td>NaN</td>\n",
       "      <td>NaN</td>\n",
       "    </tr>\n",
       "    <tr>\n",
       "      <th>SOCIALPROVISION | Police</th>\n",
       "      <td>0.836538</td>\n",
       "      <td>0.000000</td>\n",
       "      <td>0.783784</td>\n",
       "    </tr>\n",
       "    <tr>\n",
       "      <th>SOCIALPROVISION | Hotel</th>\n",
       "      <td>0.950000</td>\n",
       "      <td>0.875000</td>\n",
       "      <td>0.946429</td>\n",
       "    </tr>\n",
       "    <tr>\n",
       "      <th>SOCIALPROVISION | Hostel</th>\n",
       "      <td>0.012500</td>\n",
       "      <td>0.000000</td>\n",
       "      <td>0.011905</td>\n",
       "    </tr>\n",
       "    <tr>\n",
       "      <th>SOCIALPROVISION | Tourist base</th>\n",
       "      <td>0.000000</td>\n",
       "      <td>0.000000</td>\n",
       "      <td>0.000000</td>\n",
       "    </tr>\n",
       "    <tr>\n",
       "      <th>SOCIALPROVISION | Catering</th>\n",
       "      <td>0.666990</td>\n",
       "      <td>0.404891</td>\n",
       "      <td>0.655374</td>\n",
       "    </tr>\n",
       "  </tbody>\n",
       "</table>\n",
       "</div>"
      ],
      "text/plain": [
       "                                               117       121     total\n",
       "SOCIALPROVISION | Kindergarten            0.797210  0.000000  0.779643\n",
       "SOCIALPROVISION | School                  0.753872  0.054054  0.739837\n",
       "SOCIALPROVISION | College                 0.946667  0.000000  0.898734\n",
       "SOCIALPROVISION | University              0.000000  0.000000  0.000000\n",
       "SOCIALPROVISION | Extracurricular              NaN       NaN       NaN\n",
       "SOCIALPROVISION | Hospital                0.012500  0.000000  0.011905\n",
       "SOCIALPROVISION | Polyclinic              0.013393  0.000000  0.012876\n",
       "SOCIALPROVISION | Ambulance                    NaN       NaN       NaN\n",
       "SOCIALPROVISION | Sanatorium              0.000000  0.000000  0.000000\n",
       "SOCIALPROVISION | Special medical              NaN       NaN       NaN\n",
       "SOCIALPROVISION | Preventive medical           NaN       NaN       NaN\n",
       "SOCIALPROVISION | Pharmacy                0.944000  0.000000  0.911197\n",
       "SOCIALPROVISION | Gym                          NaN       NaN       NaN\n",
       "SOCIALPROVISION | Swimming pool           0.013333  0.000000  0.012658\n",
       "SOCIALPROVISION | Pitch                   0.960227  0.250000  0.929348\n",
       "SOCIALPROVISION | Stadium                 0.942623  0.000000  0.891473\n",
       "SOCIALPROVISION | Orphanage                    NaN       NaN       NaN\n",
       "SOCIALPROVISION | Social facility         0.060606  0.000000  0.055556\n",
       "SOCIALPROVISION | Social service center        NaN       NaN       NaN\n",
       "SOCIALPROVISION | Post                    0.980435  0.047619  0.959617\n",
       "SOCIALPROVISION | Bank                    0.947853  0.000000  0.916914\n",
       "SOCIALPROVISION | Multifunctional center  0.947195  0.037037  0.927361\n",
       "SOCIALPROVISION | Library                 0.954545  0.333333  0.902778\n",
       "SOCIALPROVISION | Museum                  0.012658  0.000000  0.011765\n",
       "SOCIALPROVISION | Theatre                 0.942623  0.000000  0.891473\n",
       "SOCIALPROVISION | Cultural center              NaN       NaN       NaN\n",
       "SOCIALPROVISION | Cinema                  0.000000  0.000000  0.000000\n",
       "SOCIALPROVISION | Concert hall                 NaN       NaN       NaN\n",
       "SOCIALPROVISION | Ice arena                    NaN       NaN       NaN\n",
       "SOCIALPROVISION | Mall                    0.946667  0.000000  0.898734\n",
       "SOCIALPROVISION | Park                    0.960976  0.000000  0.942584\n",
       "SOCIALPROVISION | Beach                   0.000000  0.000000  0.000000\n",
       "SOCIALPROVISION | Eco trail                    NaN       NaN       NaN\n",
       "SOCIALPROVISION | Fire station                 NaN       NaN       NaN\n",
       "SOCIALPROVISION | Police                  0.836538  0.000000  0.783784\n",
       "SOCIALPROVISION | Hotel                   0.950000  0.875000  0.946429\n",
       "SOCIALPROVISION | Hostel                  0.012500  0.000000  0.011905\n",
       "SOCIALPROVISION | Tourist base            0.000000  0.000000  0.000000\n",
       "SOCIALPROVISION | Catering                0.666990  0.404891  0.655374"
      ]
     },
     "execution_count": 14,
     "metadata": {},
     "output_type": "execute_result"
    }
   ],
   "source": [
    "sp_indicators"
   ]
  },
  {
   "cell_type": "markdown",
   "id": "ce91754c",
   "metadata": {},
   "source": [
    "## Concat results"
   ]
  },
  {
   "cell_type": "code",
   "execution_count": 15,
   "id": "9c7e388b",
   "metadata": {},
   "outputs": [
    {
     "data": {
      "application/vnd.microsoft.datawrangler.viewer.v0+json": {
       "columns": [
        {
         "name": "index",
         "rawType": "object",
         "type": "unknown"
        },
        {
         "name": "117",
         "rawType": "float64",
         "type": "float"
        },
        {
         "name": "121",
         "rawType": "float64",
         "type": "float"
        },
        {
         "name": "total",
         "rawType": "float64",
         "type": "float"
        }
       ],
       "ref": "b21cb2f6-9a35-45c1-8a51-c1647a4515f6",
       "rows": [
        [
         "GENERAL | Area (km2)",
         "708.4401703239722",
         "1088.2775229123965",
         "1796.7176932363686"
        ],
        [
         "GENERAL | Urbanization",
         "0.005647870683738194",
         "0.0",
         "0.0022269377566756544"
        ],
        [
         "DEMOGRAPHIC | Population",
         "14862.0",
         "279.0",
         "15141.0"
        ],
        [
         "DEMOGRAPHIC | Density (people/km2)",
         "20.978482901673342",
         "0.25636843004287496",
         "8.427033393725317"
        ],
        [
         "TRANSPORT | Road network density (km/km2)",
         "0.27063037300555565",
         "0.17811234577835794",
         "0.21459191472433645"
        ],
        [
         "TRANSPORT | Settlements connectivity",
         "0.25800901838362816",
         null,
         "0.25800901838362816"
        ],
        [
         "TRANSPORT | Road network length (km)",
         "191.72542754689596",
         "193.83566246378763",
         "385.5610900106853"
        ],
        [
         "TRANSPORT | Fuel stations count",
         "5.0",
         "0.0",
         "5.0"
        ],
        [
         "TRANSPORT | Average fuel station accessibility (min)",
         "36.193548387096776",
         null,
         "36.193548387096776"
        ],
        [
         "TRANSPORT | Railway stops count",
         "8.0",
         "4.0",
         "12.0"
        ],
        [
         "TRANSPORT | Average railway stop accessibility (min)",
         "38.619354838709675",
         null,
         "38.619354838709675"
        ],
        [
         "TRANSPORT | Airports count",
         "1.0",
         "0.0",
         "1.0"
        ],
        [
         "TRANSPORT | Average airport accessibility (min)",
         "24.412903225806453",
         null,
         "24.412903225806453"
        ],
        [
         "ENGINEERING | Substation",
         "0.0",
         "0.0",
         "0.0"
        ],
        [
         "ENGINEERING | Water works",
         "0.0",
         "0.0",
         "0.0"
        ],
        [
         "ENGINEERING | Wastewater plant",
         "0.0",
         "0.0",
         "0.0"
        ],
        [
         "ENGINEERING | Reservoir",
         null,
         null,
         null
        ],
        [
         "ENGINEERING | Gas distribution",
         null,
         null,
         null
        ],
        [
         "ENGINEERING | Infrastructure object",
         "0.0",
         "0.0",
         "0.0"
        ],
        [
         "SOCIALCOUNT | Kindergarten",
         "7.0",
         "1.0",
         "8.0"
        ],
        [
         "SOCIALCOUNT | School",
         "4.0",
         "1.0",
         "5.0"
        ],
        [
         "SOCIALCOUNT | College",
         "1.0",
         "0.0",
         "1.0"
        ],
        [
         "SOCIALCOUNT | University",
         "0.0",
         "0.0",
         "0.0"
        ],
        [
         "SOCIALCOUNT | Extracurricular",
         "3.0",
         "0.0",
         "3.0"
        ],
        [
         "SOCIALCOUNT | Hospital",
         "1.0",
         "0.0",
         "1.0"
        ],
        [
         "SOCIALCOUNT | Polyclinic",
         "1.0",
         "0.0",
         "1.0"
        ],
        [
         "SOCIALCOUNT | Ambulance",
         "1.0",
         "0.0",
         "1.0"
        ],
        [
         "SOCIALCOUNT | Sanatorium",
         "0.0",
         "0.0",
         "0.0"
        ],
        [
         "SOCIALCOUNT | Special medical",
         "1.0",
         "0.0",
         "1.0"
        ],
        [
         "SOCIALCOUNT | Preventive medical",
         "0.0",
         "0.0",
         "0.0"
        ],
        [
         "SOCIALCOUNT | Pharmacy",
         "9.0",
         "0.0",
         "9.0"
        ],
        [
         "SOCIALCOUNT | Gym",
         "3.0",
         "0.0",
         "3.0"
        ],
        [
         "SOCIALCOUNT | Swimming pool",
         "1.0",
         "0.0",
         "1.0"
        ],
        [
         "SOCIALCOUNT | Pitch",
         "5.0",
         "1.0",
         "6.0"
        ],
        [
         "SOCIALCOUNT | Stadium",
         "1.0",
         "0.0",
         "1.0"
        ],
        [
         "SOCIALCOUNT | Orphanage",
         "0.0",
         "0.0",
         "0.0"
        ],
        [
         "SOCIALCOUNT | Social facility",
         "1.0",
         "0.0",
         "1.0"
        ],
        [
         "SOCIALCOUNT | Social service center",
         "0.0",
         "0.0",
         "0.0"
        ],
        [
         "SOCIALCOUNT | Post",
         "5.0",
         "1.0",
         "6.0"
        ],
        [
         "SOCIALCOUNT | Bank",
         "5.0",
         "0.0",
         "5.0"
        ],
        [
         "SOCIALCOUNT | Multifunctional center",
         "1.0",
         "1.0",
         "2.0"
        ],
        [
         "SOCIALCOUNT | Library",
         "5.0",
         "1.0",
         "6.0"
        ],
        [
         "SOCIALCOUNT | Museum",
         "2.0",
         "0.0",
         "2.0"
        ],
        [
         "SOCIALCOUNT | Theatre",
         "1.0",
         "0.0",
         "1.0"
        ],
        [
         "SOCIALCOUNT | Cultural center",
         "0.0",
         "0.0",
         "0.0"
        ],
        [
         "SOCIALCOUNT | Cinema",
         "0.0",
         "0.0",
         "0.0"
        ],
        [
         "SOCIALCOUNT | Concert hall",
         "0.0",
         "0.0",
         "0.0"
        ],
        [
         "SOCIALCOUNT | Ice arena",
         "0.0",
         "0.0",
         "0.0"
        ],
        [
         "SOCIALCOUNT | Mall",
         "5.0",
         "0.0",
         "5.0"
        ],
        [
         "SOCIALCOUNT | Park",
         "7.0",
         "0.0",
         "7.0"
        ]
       ],
       "shape": {
        "columns": 3,
        "rows": 97
       }
      },
      "text/html": [
       "<div>\n",
       "<style scoped>\n",
       "    .dataframe tbody tr th:only-of-type {\n",
       "        vertical-align: middle;\n",
       "    }\n",
       "\n",
       "    .dataframe tbody tr th {\n",
       "        vertical-align: top;\n",
       "    }\n",
       "\n",
       "    .dataframe thead th {\n",
       "        text-align: right;\n",
       "    }\n",
       "</style>\n",
       "<table border=\"1\" class=\"dataframe\">\n",
       "  <thead>\n",
       "    <tr style=\"text-align: right;\">\n",
       "      <th></th>\n",
       "      <th>117</th>\n",
       "      <th>121</th>\n",
       "      <th>total</th>\n",
       "    </tr>\n",
       "  </thead>\n",
       "  <tbody>\n",
       "    <tr>\n",
       "      <th>GENERAL | Area (km2)</th>\n",
       "      <td>708.440170</td>\n",
       "      <td>1088.277523</td>\n",
       "      <td>1796.717693</td>\n",
       "    </tr>\n",
       "    <tr>\n",
       "      <th>GENERAL | Urbanization</th>\n",
       "      <td>0.005648</td>\n",
       "      <td>0.000000</td>\n",
       "      <td>0.002227</td>\n",
       "    </tr>\n",
       "    <tr>\n",
       "      <th>DEMOGRAPHIC | Population</th>\n",
       "      <td>14862.000000</td>\n",
       "      <td>279.000000</td>\n",
       "      <td>15141.000000</td>\n",
       "    </tr>\n",
       "    <tr>\n",
       "      <th>DEMOGRAPHIC | Density (people/km2)</th>\n",
       "      <td>20.978483</td>\n",
       "      <td>0.256368</td>\n",
       "      <td>8.427033</td>\n",
       "    </tr>\n",
       "    <tr>\n",
       "      <th>TRANSPORT | Road network density (km/km2)</th>\n",
       "      <td>0.270630</td>\n",
       "      <td>0.178112</td>\n",
       "      <td>0.214592</td>\n",
       "    </tr>\n",
       "    <tr>\n",
       "      <th>...</th>\n",
       "      <td>...</td>\n",
       "      <td>...</td>\n",
       "      <td>...</td>\n",
       "    </tr>\n",
       "    <tr>\n",
       "      <th>SOCIALPROVISION | Police</th>\n",
       "      <td>0.836538</td>\n",
       "      <td>0.000000</td>\n",
       "      <td>0.783784</td>\n",
       "    </tr>\n",
       "    <tr>\n",
       "      <th>SOCIALPROVISION | Hotel</th>\n",
       "      <td>0.950000</td>\n",
       "      <td>0.875000</td>\n",
       "      <td>0.946429</td>\n",
       "    </tr>\n",
       "    <tr>\n",
       "      <th>SOCIALPROVISION | Hostel</th>\n",
       "      <td>0.012500</td>\n",
       "      <td>0.000000</td>\n",
       "      <td>0.011905</td>\n",
       "    </tr>\n",
       "    <tr>\n",
       "      <th>SOCIALPROVISION | Tourist base</th>\n",
       "      <td>0.000000</td>\n",
       "      <td>0.000000</td>\n",
       "      <td>0.000000</td>\n",
       "    </tr>\n",
       "    <tr>\n",
       "      <th>SOCIALPROVISION | Catering</th>\n",
       "      <td>0.666990</td>\n",
       "      <td>0.404891</td>\n",
       "      <td>0.655374</td>\n",
       "    </tr>\n",
       "  </tbody>\n",
       "</table>\n",
       "<p>97 rows × 3 columns</p>\n",
       "</div>"
      ],
      "text/plain": [
       "                                                    117          121  \\\n",
       "GENERAL | Area (km2)                         708.440170  1088.277523   \n",
       "GENERAL | Urbanization                         0.005648     0.000000   \n",
       "DEMOGRAPHIC | Population                   14862.000000   279.000000   \n",
       "DEMOGRAPHIC | Density (people/km2)            20.978483     0.256368   \n",
       "TRANSPORT | Road network density (km/km2)      0.270630     0.178112   \n",
       "...                                                 ...          ...   \n",
       "SOCIALPROVISION | Police                       0.836538     0.000000   \n",
       "SOCIALPROVISION | Hotel                        0.950000     0.875000   \n",
       "SOCIALPROVISION | Hostel                       0.012500     0.000000   \n",
       "SOCIALPROVISION | Tourist base                 0.000000     0.000000   \n",
       "SOCIALPROVISION | Catering                     0.666990     0.404891   \n",
       "\n",
       "                                                  total  \n",
       "GENERAL | Area (km2)                        1796.717693  \n",
       "GENERAL | Urbanization                         0.002227  \n",
       "DEMOGRAPHIC | Population                   15141.000000  \n",
       "DEMOGRAPHIC | Density (people/km2)             8.427033  \n",
       "TRANSPORT | Road network density (km/km2)      0.214592  \n",
       "...                                                 ...  \n",
       "SOCIALPROVISION | Police                       0.783784  \n",
       "SOCIALPROVISION | Hotel                        0.946429  \n",
       "SOCIALPROVISION | Hostel                       0.011905  \n",
       "SOCIALPROVISION | Tourist base                 0.000000  \n",
       "SOCIALPROVISION | Catering                     0.655374  \n",
       "\n",
       "[97 rows x 3 columns]"
      ]
     },
     "execution_count": 15,
     "metadata": {},
     "output_type": "execute_result"
    }
   ],
   "source": [
    "pd.concat([\n",
    "    general_indicators,\n",
    "    demographic_indicators,\n",
    "    transport_indicators,\n",
    "    engineering_indicators,\n",
    "    sc_indicators,\n",
    "    sp_indicators,\n",
    "])"
   ]
  }
 ],
 "metadata": {
  "kernelspec": {
   "display_name": ".venv",
   "language": "python",
   "name": "python3"
  },
  "language_info": {
   "codemirror_mode": {
    "name": "ipython",
    "version": 3
   },
   "file_extension": ".py",
   "mimetype": "text/x-python",
   "name": "python",
   "nbconvert_exporter": "python",
   "pygments_lexer": "ipython3",
   "version": "3.10.12"
  }
 },
 "nbformat": 4,
 "nbformat_minor": 5
}
