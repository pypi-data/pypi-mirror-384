{
 "cells": [
  {
   "cell_type": "code",
   "execution_count": 1,
   "metadata": {},
   "outputs": [],
   "source": [
    "from bw2calc.single_matrix import *\n",
    "s = SingleMatrixLCA({\"f\": 1}, \"sm-fixture.tar.bz2\")\n",
    "s.calculate()"
   ]
  },
  {
   "cell_type": "code",
   "execution_count": 2,
   "metadata": {},
   "outputs": [
    {
     "data": {
      "text/plain": [
       "{'foo': 2.2136449078579945}"
      ]
     },
     "execution_count": 2,
     "metadata": {},
     "output_type": "execute_result"
    }
   ],
   "source": [
    "s.scores"
   ]
  },
  {
   "cell_type": "code",
   "execution_count": 3,
   "metadata": {},
   "outputs": [],
   "source": [
    "rr, rc = s.reverse_dict()"
   ]
  },
  {
   "cell_type": "code",
   "execution_count": 4,
   "metadata": {},
   "outputs": [
    {
     "name": "stdout",
     "output_type": "stream",
     "text": [
      "a 1.7772306782190697\n",
      "b 1.1946185999098617\n",
      "c 0.5829304560926344\n",
      "d 0.7675674047355302\n",
      "e 0.4420576095581056\n",
      "f 1.0000000000000002\n",
      "g 0.0\n",
      "h 0.0\n",
      "1 -3.014776081286758\n",
      "2 -1.1574804568810333\n",
      "3 -1.2509597313552767\n",
      "4 -0.5963594988971035\n",
      "α 0.8481379383592647\n",
      "β 0.6118402109571791\n",
      "γ 0.48054130351108815\n",
      "δ 0.2731254550304624\n",
      "ε 0.0\n",
      "ζ 0.0\n",
      "η 0.0\n",
      "θ 0.0\n"
     ]
    }
   ],
   "source": [
    "for i, v in enumerate(s.supply_array):\n",
    "    print(rr[i], v)"
   ]
  },
  {
   "cell_type": "code",
   "execution_count": 5,
   "metadata": {},
   "outputs": [],
   "source": [
    "%matplotlib inline"
   ]
  },
  {
   "cell_type": "code",
   "execution_count": 6,
   "metadata": {},
   "outputs": [],
   "source": [
    "from matplotlib import pyplot as plt"
   ]
  },
  {
   "cell_type": "code",
   "execution_count": 7,
   "metadata": {},
   "outputs": [],
   "source": [
    "m = s.matrix.tocoo()"
   ]
  },
  {
   "cell_type": "code",
   "execution_count": 8,
   "metadata": {},
   "outputs": [
    {
     "name": "stdout",
     "output_type": "stream",
     "text": [
      "a a 1.0\n",
      "a b -0.15875966846942902\n",
      "a c -0.07783499360084534\n",
      "a d -0.6575725674629211\n",
      "a e -0.3313387334346771\n",
      "a f -0.8909989595413208\n",
      "a g -0.45032998919487\n",
      "a h -0.11410125344991684\n",
      "b b 1.0\n",
      "b c -0.7733734846115112\n",
      "b d -0.1522853821516037\n",
      "b e -0.5507182478904724\n",
      "b f -0.38345715403556824\n",
      "b g -0.22234876453876495\n",
      "b h -0.42207664251327515\n",
      "c c 1.0\n",
      "c d -0.3805234134197235\n",
      "c e -0.12428241968154907\n",
      "c f -0.23591309785842896\n",
      "c g -0.1798233985900879\n",
      "c h -0.3284483551979065\n",
      "d d 1.0\n",
      "d e -0.32029885053634644\n",
      "d f -0.6259768605232239\n",
      "d g -0.42775073647499084\n",
      "d h -0.24756036698818207\n",
      "e e 1.0\n",
      "e f -0.44205760955810547\n",
      "e g -0.6496731638908386\n",
      "e h -0.815680742263794\n",
      "f f 1.0\n",
      "f g -0.9775451421737671\n",
      "f h -0.7285186648368835\n",
      "g g 1.0\n",
      "g h -0.12447405606508255\n",
      "h h 1.0\n",
      "1 a 0.5544072389602661\n",
      "1 b 1.2243407368659973\n",
      "1 f 0.5668463110923767\n",
      "1 1 1.0\n",
      "2 c 0.3165927827358246\n",
      "2 f 0.9729288816452026\n",
      "2 2 1.0\n",
      "3 a 0.6669450402259827\n",
      "3 e 0.14849771559238434\n",
      "3 3 1.0\n",
      "4 b 0.49920493364334106\n",
      "4 4 1.0\n",
      "α 1 0.2813270092010498\n",
      "α α 1.0\n",
      "β 2 0.5285965800285339\n",
      "β β 1.0\n",
      "γ 3 0.3841381072998047\n",
      "γ γ 1.0\n",
      "δ 4 0.4579879343509674\n",
      "δ δ 1.0\n",
      "ε ε 1.0\n",
      "ζ ζ 1.0\n",
      "η η 1.0\n",
      "θ θ 1.0\n"
     ]
    }
   ],
   "source": [
    "for x, y, z in zip(m.row, m.col, m.data):\n",
    "    print(rr[x], rr[y], z)"
   ]
  },
  {
   "cell_type": "code",
   "execution_count": 9,
   "metadata": {},
   "outputs": [
    {
     "data": {
      "text/plain": [
       "[<matplotlib.lines.Line2D at 0x1a1c268b38>]"
      ]
     },
     "execution_count": 9,
     "metadata": {},
     "output_type": "execute_result"
    },
    {
     "data": {
      "image/png": "[encoded data removed]",
      "text/plain": [
       "<Figure size 576x432 with 1 Axes>"
      ]
     },
     "metadata": {},
     "output_type": "display_data"
    }
   ],
   "source": [
    "plt.figure(figsize=(8, 6))\n",
    "plt.plot(m.row, m.col, 'o')"
   ]
  },
  {
   "cell_type": "code",
   "execution_count": 8,
   "metadata": {},
   "outputs": [
    {
     "data": {
      "text/plain": [
       "{'1': 8,\n",
       " '2': 9,\n",
       " '3': 10,\n",
       " '4': 11,\n",
       " 'a': 0,\n",
       " 'b': 1,\n",
       " 'c': 2,\n",
       " 'd': 3,\n",
       " 'e': 4,\n",
       " 'f': 5,\n",
       " 'g': 6,\n",
       " 'h': 7,\n",
       " 'α': 12,\n",
       " 'β': 13,\n",
       " 'γ': 14,\n",
       " 'δ': 15,\n",
       " 'ε': 16,\n",
       " 'ζ': 17,\n",
       " 'η': 18,\n",
       " 'θ': 19}"
      ]
     },
     "execution_count": 8,
     "metadata": {},
     "output_type": "execute_result"
    }
   ],
   "source": [
    "s.row_dict"
   ]
  },
  {
   "cell_type": "code",
   "execution_count": null,
   "metadata": {},
   "outputs": [],
   "source": []
  }
 ],
 "metadata": {
  "kernelspec": {
   "display_name": "Python 3",
   "language": "python",
   "name": "python3"
  },
  "language_info": {
   "codemirror_mode": {
    "name": "ipython",
    "version": 3
   },
   "file_extension": ".py",
   "mimetype": "text/x-python",
   "name": "python",
   "nbconvert_exporter": "python",
   "pygments_lexer": "ipython3",
   "version": "3.6.4"
  }
 },
 "nbformat": 4,
 "nbformat_minor": 2
}
