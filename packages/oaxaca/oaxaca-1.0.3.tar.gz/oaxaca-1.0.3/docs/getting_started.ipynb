{
  "cells": [
    {
      "cell_type": "markdown",
      "metadata": {},
      "source": [
        "This notebook demonstrates a minimal example."
      ]
    },
    {
      "cell_type": "code",
      "execution_count": 1,
      "metadata": {},
      "outputs": [],
      "source": [
        "import pandas as pd\n",
        "\n",
        "from oaxaca import Oaxaca"
      ]
    },
    {
      "cell_type": "markdown",
      "metadata": {},
      "source": [
        "We load a sample dataset of Hispanic workers in the Chicago metropolitan area. The goal is to explain the wage gap between native and foreign-born workers. The data is taken from the [`oaxaca` R package](https://cran.r-project.org/web/packages/oaxaca/index.html)."
      ]
    },
    {
      "cell_type": "code",
      "execution_count": 2,
      "metadata": {},
      "outputs": [
        {
          "data": {
            "text/html": [
              "<div>\n",
              "<style scoped>\n",
              "    .dataframe tbody tr th:only-of-type {\n",
              "        vertical-align: middle;\n",
              "    }\n",
              "\n",
              "    .dataframe tbody tr th {\n",
              "        vertical-align: top;\n",
              "    }\n",
              "\n",
              "    .dataframe thead th {\n",
              "        text-align: right;\n",
              "    }\n",
              "</style>\n",
              "<table border=\"1\" class=\"dataframe\">\n",
              "  <thead>\n",
              "    <tr style=\"text-align: right;\">\n",
              "      <th></th>\n",
              "      <th>age</th>\n",
              "      <th>female</th>\n",
              "      <th>foreign_born</th>\n",
              "      <th>LTHS</th>\n",
              "      <th>high_school</th>\n",
              "      <th>some_college</th>\n",
              "      <th>college</th>\n",
              "      <th>advanced_degree</th>\n",
              "      <th>education_level</th>\n",
              "      <th>ln_real_wage</th>\n",
              "    </tr>\n",
              "  </thead>\n",
              "  <tbody>\n",
              "    <tr>\n",
              "      <th>0</th>\n",
              "      <td>52</td>\n",
              "      <td>0</td>\n",
              "      <td>1</td>\n",
              "      <td>0</td>\n",
              "      <td>1</td>\n",
              "      <td>0</td>\n",
              "      <td>0</td>\n",
              "      <td>0</td>\n",
              "      <td>high_school</td>\n",
              "      <td>2.140066</td>\n",
              "    </tr>\n",
              "    <tr>\n",
              "      <th>1</th>\n",
              "      <td>46</td>\n",
              "      <td>1</td>\n",
              "      <td>1</td>\n",
              "      <td>0</td>\n",
              "      <td>1</td>\n",
              "      <td>0</td>\n",
              "      <td>0</td>\n",
              "      <td>0</td>\n",
              "      <td>high_school</td>\n",
              "      <td>NaN</td>\n",
              "    </tr>\n",
              "    <tr>\n",
              "      <th>2</th>\n",
              "      <td>31</td>\n",
              "      <td>1</td>\n",
              "      <td>1</td>\n",
              "      <td>0</td>\n",
              "      <td>1</td>\n",
              "      <td>0</td>\n",
              "      <td>0</td>\n",
              "      <td>0</td>\n",
              "      <td>high_school</td>\n",
              "      <td>2.499795</td>\n",
              "    </tr>\n",
              "    <tr>\n",
              "      <th>3</th>\n",
              "      <td>35</td>\n",
              "      <td>0</td>\n",
              "      <td>1</td>\n",
              "      <td>0</td>\n",
              "      <td>1</td>\n",
              "      <td>0</td>\n",
              "      <td>0</td>\n",
              "      <td>0</td>\n",
              "      <td>high_school</td>\n",
              "      <td>2.708050</td>\n",
              "    </tr>\n",
              "    <tr>\n",
              "      <th>4</th>\n",
              "      <td>19</td>\n",
              "      <td>0</td>\n",
              "      <td>0</td>\n",
              "      <td>0</td>\n",
              "      <td>1</td>\n",
              "      <td>0</td>\n",
              "      <td>0</td>\n",
              "      <td>0</td>\n",
              "      <td>high_school</td>\n",
              "      <td>2.079442</td>\n",
              "    </tr>\n",
              "  </tbody>\n",
              "</table>\n",
              "</div>"
            ],
            "text/plain": [
              "   age  female  foreign_born  LTHS  high_school  some_college  college  \\\n",
              "0   52       0             1     0            1             0        0   \n",
              "1   46       1             1     0            1             0        0   \n",
              "2   31       1             1     0            1             0        0   \n",
              "3   35       0             1     0            1             0        0   \n",
              "4   19       0             0     0            1             0        0   \n",
              "\n",
              "   advanced_degree education_level  ln_real_wage  \n",
              "0                0     high_school      2.140066  \n",
              "1                0     high_school           NaN  \n",
              "2                0     high_school      2.499795  \n",
              "3                0     high_school      2.708050  \n",
              "4                0     high_school      2.079442  "
            ]
          },
          "execution_count": 2,
          "metadata": {},
          "output_type": "execute_result"
        }
      ],
      "source": [
        "df = pd.read_csv(\"sample_data.csv\")\n",
        "df.head()"
      ]
    },
    {
      "cell_type": "markdown",
      "metadata": {},
      "source": [
        "We fit the Oaxaca model, using [R-style formula](https://pypi.org/project/formulaic/) to describe the regression. "
      ]
    },
    {
      "cell_type": "code",
      "execution_count": 3,
      "metadata": {},
      "outputs": [],
      "source": [
        "model = Oaxaca().fit(\n",
        "    formula=\"exp(ln_real_wage) ~ -1 + age + female + C(education_level)\", data=df, group_variable=\"foreign_born\"\n",
        ")"
      ]
    },
    {
      "cell_type": "markdown",
      "metadata": {},
      "source": [
        "From the model fit, we can generate two-fold and three-fold decomposition results. \n",
        "\n",
        "## Two-fold decomposition\n",
        "\n",
        "This approach decomposes the wage difference into an *explained* part vs an *unexplained* part.\n",
        "\n",
        "The `weights` argument specifies which group is considered non-discriminated. Here, `weights={0: 1.0, 1: 0.0}` means that native workers (i.e. those with `foreign_born = 0`) are the non-discriminated group.\n",
        "\n",
        "We see that the difference in covariates can only explain 6% of the overall difference, suggesting strong evidence of discrimination."
      ]
    },
    {
      "cell_type": "code",
      "execution_count": 10,
      "metadata": {},
      "outputs": [
        {
          "data": {
            "text/html": [
              "\n",
              "        <div style=\"font-family: Arial, sans-serif; max-width: 1000px;\">\n",
              "            \n",
              "            <h3 style=\"color: #2c3e50; margin-bottom: 15px;\">Oaxaca-Blinder Decomposition Results</h3>\n",
              "\n",
              "            <div style=\"margin-bottom: 15px;\">\n",
              "                <p style=\"margin: 3px 0;\"><strong>Group Variable:</strong> foreign_born | <strong>Groups:</strong> 0 vs 1 | <strong>Direction:</strong> 0 - 1 | <strong>Weights:</strong> Group 0: 1.000, Group 1: 0.000</p>\n",
              "                <p style=\"margin: 3px 0;\"><strong>Mean Outcomes:</strong> Group 0: 17.5828 | Group 1: 14.5672 | <strong>Difference:</strong> 3.0156</p>\n",
              "            </div>\n",
              "        \n",
              "\n",
              "            \n",
              "\n",
              "            <h4 style=\"color: #2c3e50; margin-top: 20px; margin-bottom: 10px;\">Detailed Variable Contributions</h4>\n",
              "            <table style=\"border-collapse: collapse; width: 100%; font-size: 0.9em;\"><thead><tr style=\"background-color: #f0f0f0;\"><th style=\"border: 1px solid #ddd; padding: 8px; text-align: left; width: 35%;\">Variable</th><th style=\"border: 1px solid #ddd; padding: 8px; text-align: right; \">Explained</th><th style=\"border: 1px solid #ddd; padding: 8px; text-align: right; \">Explained%</th><th style=\"border: 1px solid #ddd; padding: 8px; text-align: right; \">Unexplained</th><th style=\"border: 1px solid #ddd; padding: 8px; text-align: right; \">Unexplained%</th><th style=\"border: 1px solid #ddd; padding: 8px; text-align: right; \">Total</th><th style=\"border: 1px solid #ddd; padding: 8px; text-align: right; \">Total%</th></tr></thead><tbody><tr style=\"font-weight: bold; background-color: #f8f9fa;\"><td style=\"border: 1px solid #ddd; padding: 8px;\">age</td><td style=\"border: 1px solid #ddd; padding: 8px; text-align: right;\">-1.7491</td><td style=\"border: 1px solid #ddd; padding: 8px; text-align: right;\">-58.0%</td><td style=\"border: 1px solid #ddd; padding: 8px; text-align: right;\">7.5585</td><td style=\"border: 1px solid #ddd; padding: 8px; text-align: right;\">250.6%</td><td style=\"border: 1px solid #ddd; padding: 8px; text-align: right;\">5.8094</td><td style=\"border: 1px solid #ddd; padding: 8px; text-align: right;\">192.6%</td></tr><tr style=\"font-weight: bold; background-color: #f8f9fa;\"><td style=\"border: 1px solid #ddd; padding: 8px;\">female</td><td style=\"border: 1px solid #ddd; padding: 8px; text-align: right;\">-0.5231</td><td style=\"border: 1px solid #ddd; padding: 8px; text-align: right;\">-17.3%</td><td style=\"border: 1px solid #ddd; padding: 8px; text-align: right;\">-1.1653</td><td style=\"border: 1px solid #ddd; padding: 8px; text-align: right;\">-38.6%</td><td style=\"border: 1px solid #ddd; padding: 8px; text-align: right;\">-1.6883</td><td style=\"border: 1px solid #ddd; padding: 8px; text-align: right;\">-56.0%</td></tr><tr style=\"font-weight: bold; background-color: #f8f9fa;\"><td style=\"border: 1px solid #ddd; padding: 8px;\">C(education_level)</td><td style=\"border: 1px solid #ddd; padding: 8px; text-align: right;\">2.4545</td><td style=\"border: 1px solid #ddd; padding: 8px; text-align: right;\">81.4%</td><td style=\"border: 1px solid #ddd; padding: 8px; text-align: right;\">-3.5599</td><td style=\"border: 1px solid #ddd; padding: 8px; text-align: right;\">-118.1%</td><td style=\"border: 1px solid #ddd; padding: 8px; text-align: right;\">-1.1055</td><td style=\"border: 1px solid #ddd; padding: 8px; text-align: right;\">-36.7%</td></tr><tr><td style=\"border: 1px solid #ddd; padding: 8px; padding-left: 24px; font-style: italic; color: #666;\">C(education_level)[LTHS]</td><td style=\"border: 1px solid #ddd; padding: 8px; text-align: right;\">-1.5272</td><td style=\"border: 1px solid #ddd; padding: 8px; text-align: right;\">-50.6%</td><td style=\"border: 1px solid #ddd; padding: 8px; text-align: right;\">-1.5892</td><td style=\"border: 1px solid #ddd; padding: 8px; text-align: right;\">-52.7%</td><td style=\"border: 1px solid #ddd; padding: 8px; text-align: right;\">-3.1163</td><td style=\"border: 1px solid #ddd; padding: 8px; text-align: right;\">-103.3%</td></tr><tr><td style=\"border: 1px solid #ddd; padding: 8px; padding-left: 24px; font-style: italic; color: #666;\">C(education_level)[advanced_degree]</td><td style=\"border: 1px solid #ddd; padding: 8px; text-align: right;\">0.8993</td><td style=\"border: 1px solid #ddd; padding: 8px; text-align: right;\">29.8%</td><td style=\"border: 1px solid #ddd; padding: 8px; text-align: right;\">-0.4043</td><td style=\"border: 1px solid #ddd; padding: 8px; text-align: right;\">-13.4%</td><td style=\"border: 1px solid #ddd; padding: 8px; text-align: right;\">0.4950</td><td style=\"border: 1px solid #ddd; padding: 8px; text-align: right;\">16.4%</td></tr><tr><td style=\"border: 1px solid #ddd; padding: 8px; padding-left: 24px; font-style: italic; color: #666;\">C(education_level)[college]</td><td style=\"border: 1px solid #ddd; padding: 8px; text-align: right;\">0.8965</td><td style=\"border: 1px solid #ddd; padding: 8px; text-align: right;\">29.7%</td><td style=\"border: 1px solid #ddd; padding: 8px; text-align: right;\">0.2337</td><td style=\"border: 1px solid #ddd; padding: 8px; text-align: right;\">7.8%</td><td style=\"border: 1px solid #ddd; padding: 8px; text-align: right;\">1.1303</td><td style=\"border: 1px solid #ddd; padding: 8px; text-align: right;\">37.5%</td></tr><tr><td style=\"border: 1px solid #ddd; padding: 8px; padding-left: 24px; font-style: italic; color: #666;\">C(education_level)[high_school]</td><td style=\"border: 1px solid #ddd; padding: 8px; text-align: right;\">-0.5832</td><td style=\"border: 1px solid #ddd; padding: 8px; text-align: right;\">-19.3%</td><td style=\"border: 1px solid #ddd; padding: 8px; text-align: right;\">-1.2954</td><td style=\"border: 1px solid #ddd; padding: 8px; text-align: right;\">-43.0%</td><td style=\"border: 1px solid #ddd; padding: 8px; text-align: right;\">-1.8786</td><td style=\"border: 1px solid #ddd; padding: 8px; text-align: right;\">-62.3%</td></tr><tr><td style=\"border: 1px solid #ddd; padding: 8px; padding-left: 24px; font-style: italic; color: #666;\">C(education_level)[some_college]</td><td style=\"border: 1px solid #ddd; padding: 8px; text-align: right;\">2.7690</td><td style=\"border: 1px solid #ddd; padding: 8px; text-align: right;\">91.8%</td><td style=\"border: 1px solid #ddd; padding: 8px; text-align: right;\">-0.5048</td><td style=\"border: 1px solid #ddd; padding: 8px; text-align: right;\">-16.7%</td><td style=\"border: 1px solid #ddd; padding: 8px; text-align: right;\">2.2642</td><td style=\"border: 1px solid #ddd; padding: 8px; text-align: right;\">75.1%</td></tr><tr style=\"font-weight: bold; background-color: #e6f3ff; border-top: 2px solid #007acc;\"><th style=\"border: 1px solid #ddd; padding: 8px; text-align: right; \">Total</th><td style=\"border: 1px solid #ddd; padding: 8px; text-align: right;\">0.1822</td><td style=\"border: 1px solid #ddd; padding: 8px; text-align: right;\">6.0%</td><td style=\"border: 1px solid #ddd; padding: 8px; text-align: right;\">2.8333</td><td style=\"border: 1px solid #ddd; padding: 8px; text-align: right;\">94.0%</td><td style=\"border: 1px solid #ddd; padding: 8px; text-align: right;\">3.0156</td><td style=\"border: 1px solid #ddd; padding: 8px; text-align: right;\">100.0%</td></tr></tbody></table>\n",
              "\n",
              "            <div style=\"margin-top: 15px; padding: 10px; background-color: #f8f9fa; border-radius: 4px;\">\n",
              "                <p style=\"margin: 0; font-size: 0.9em; color: #666;\">\n",
              "                    <strong>\ud83d\udca1 For programmatic access:</strong><br>\n",
              "                    \u2022 <code>contributions</code> - aggregated categorical variables<br>\n",
              "                    \u2022 <code>detailed_contributions</code> - individual categories with hierarchy<br>\n",
              "                    \u2022 <code>removal_info</code> - per-group removal impact details\n",
              "                </p>\n",
              "            </div>\n",
              "        </div>\n",
              "        "
            ],
            "text/plain": [
              "OaxacaResults(groups=[0, 1], group_variable='foreign_born')"
            ]
          },
          "execution_count": 10,
          "metadata": {},
          "output_type": "execute_result"
        }
      ],
      "source": [
        "twofold_decomposition = model.two_fold(weights={0: 1.0, 1: 0.0})\n",
        "twofold_decomposition"
      ]
    },
    {
      "cell_type": "markdown",
      "metadata": {},
      "source": [
        "It's worth noting that the `age` does explain a large portion of the difference. We can zoom into how `age` differs between native and foreign-born workers with `print_x()`, and the impact of `age` on `wage` with `print_ols()`"
      ]
    },
    {
      "cell_type": "code",
      "execution_count": 5,
      "metadata": {},
      "outputs": [
        {
          "name": "stdout",
          "output_type": "stream",
          "text": [
            "Difference in X (Predictor Variables) Between Groups\n",
            "================================================================================\n",
            "Group Variable: foreign_born\n",
            "Groups: 0 (Group 0) vs 1 (Group 1)\n",
            "Difference = Group 0 Mean - Group 1 Mean\n",
            "\n",
            "Variable                                          0 Mean          1 Mean      Difference\n",
            "----------------------------------------------------------------------------------------\n",
            "age                                              34.0105         40.6359         -6.6254\n",
            "female                                            0.4808          0.3958          0.0851\n",
            "C(education_level)[LTHS]                          0.1185          0.3879         -0.2694\n",
            "C(education_level)[advanced_degree]               0.0697          0.0317          0.0380\n",
            "C(education_level)[college]                       0.1289          0.0818          0.0471\n",
            "C(education_level)[high_school]                   0.2962          0.3641         -0.0679\n",
            "C(education_level)[some_college]                  0.3868          0.1346          0.2522\n"
          ]
        }
      ],
      "source": [
        "twofold_decomposition.print_x()"
      ]
    },
    {
      "cell_type": "code",
      "execution_count": 6,
      "metadata": {},
      "outputs": [
        {
          "name": "stdout",
          "output_type": "stream",
          "text": [
            "OLS Regression Results by Group\n",
            "============================================================\n",
            "\n",
            "Group: 0\n",
            "----------------------------------------\n",
            "Number of observations: 287\n",
            "R-squared: 0.3268\n",
            "Mean of dependent variable: 17.5828\n",
            "Std of dependent variable: 12.0486\n",
            "\n",
            "Coefficients:\n",
            "Variable                                      Coeff    Std Err        t    P>|t|\n",
            "-------------------------------------------------------------\n",
            "age                                          0.2640     0.0468    5.637    0.000\n",
            "female                                      -6.1497     1.1929   -5.155    0.000\n",
            "C(education_level)[LTHS]                     5.6689     2.3922    2.370    0.018\n",
            "C(education_level)[advanced_degree]         23.6506     2.9415    8.040    0.000\n",
            "C(education_level)[college]                 19.0245     2.4208    7.859    0.000\n",
            "C(education_level)[high_school]              8.5831     1.9820    4.331    0.000\n",
            "C(education_level)[some_college]            10.9798     1.9020    5.773    0.000\n",
            "\n",
            "Group: 1\n",
            "----------------------------------------\n",
            "Number of observations: 379\n",
            "R-squared: 0.3195\n",
            "Mean of dependent variable: 14.5672\n",
            "Std of dependent variable: 8.9085\n",
            "\n",
            "Coefficients:\n",
            "Variable                                      Coeff    Std Err        t    P>|t|\n",
            "-------------------------------------------------------------\n",
            "age                                          0.0780     0.0310    2.519    0.012\n",
            "female                                      -3.2055     0.7868   -4.074    0.000\n",
            "C(education_level)[LTHS]                     9.7661     1.4673    6.656    0.000\n",
            "C(education_level)[advanced_degree]         36.4205     2.4641   14.781    0.000\n",
            "C(education_level)[college]                 16.1671     1.9121    8.455    0.000\n",
            "C(education_level)[high_school]             12.1407     1.4121    8.598    0.000\n",
            "C(education_level)[some_college]            14.7311     1.7540    8.399    0.000\n",
            "Coefficient Comparison Between Groups\n",
            "================================================================================\n",
            "Direction: 0 - 1\n",
            "\n",
            "Variable                                      Group 0      Group 1   Difference\n",
            "-------------------------------------------------------------------------------\n",
            "age                                            0.2640       0.0780       0.1860\n",
            "female                                        -6.1497      -3.2055      -2.9442\n",
            "C(education_level)[LTHS]                       5.6689       9.7661      -4.0972\n",
            "C(education_level)[advanced_degree]           23.6506      36.4205     -12.7699\n",
            "C(education_level)[college]                   19.0245      16.1671       2.8573\n",
            "C(education_level)[high_school]                8.5831      12.1407      -3.5576\n",
            "C(education_level)[some_college]              10.9798      14.7311      -3.7514\n"
          ]
        }
      ],
      "source": [
        "twofold_decomposition.print_ols()"
      ]
    },
    {
      "cell_type": "markdown",
      "metadata": {},
      "source": [
        "## Three-fold decomposition\n",
        "\n",
        "This approach decomposes the wage gap into three parts: *Endowment*, *Coefficient*, and *Interaction*."
      ]
    },
    {
      "cell_type": "code",
      "execution_count": 7,
      "metadata": {},
      "outputs": [],
      "source": [
        "threefold_decomposition = model.three_fold()"
      ]
    },
    {
      "cell_type": "code",
      "execution_count": 8,
      "metadata": {},
      "outputs": [
        {
          "data": {
            "text/html": [
              "\n",
              "        <div style=\"font-family: Arial, sans-serif; max-width: 1000px;\">\n",
              "            \n",
              "            <h3 style=\"color: #2c3e50; margin-bottom: 15px;\">Oaxaca-Blinder Decomposition Results (Three-fold)</h3>\n",
              "\n",
              "            <div style=\"margin-bottom: 15px;\">\n",
              "                <p style=\"margin: 3px 0;\"><strong>Group Variable:</strong> foreign_born | <strong>Groups:</strong> 0 vs 1 | <strong>Direction:</strong> 0 - 1</p>\n",
              "                <p style=\"margin: 3px 0;\"><strong>Mean Outcomes:</strong> Group 0: 17.5828 | Group 1: 14.5672 | <strong>Difference:</strong> 3.0156</p>\n",
              "            </div>\n",
              "        \n",
              "\n",
              "            \n",
              "\n",
              "            <h4 style=\"color: #2c3e50; margin-top: 20px; margin-bottom: 10px;\">Detailed Variable Contributions</h4>\n",
              "            <table style=\"border-collapse: collapse; width: 100%; font-size: 0.9em;\"><thead><tr style=\"background-color: #f0f0f0;\"><th style=\"border: 1px solid #ddd; padding: 8px; text-align: left; width: 35%;\">Variable</th><th style=\"border: 1px solid #ddd; padding: 8px; text-align: right; \">Endowment</th><th style=\"border: 1px solid #ddd; padding: 8px; text-align: right; \">Endowment%</th><th style=\"border: 1px solid #ddd; padding: 8px; text-align: right; \">Coefficient</th><th style=\"border: 1px solid #ddd; padding: 8px; text-align: right; \">Coefficient%</th><th style=\"border: 1px solid #ddd; padding: 8px; text-align: right; \">Interaction</th><th style=\"border: 1px solid #ddd; padding: 8px; text-align: right; \">Interaction%</th><th style=\"border: 1px solid #ddd; padding: 8px; text-align: right; \">Total</th><th style=\"border: 1px solid #ddd; padding: 8px; text-align: right; \">Total%</th></tr></thead><tbody><tr style=\"font-weight: bold; background-color: #f8f9fa;\"><td style=\"border: 1px solid #ddd; padding: 8px;\">age</td><td style=\"border: 1px solid #ddd; padding: 8px; text-align: right;\">-0.5168</td><td style=\"border: 1px solid #ddd; padding: 8px; text-align: right;\">-17.1%</td><td style=\"border: 1px solid #ddd; padding: 8px; text-align: right;\">7.5585</td><td style=\"border: 1px solid #ddd; padding: 8px; text-align: right;\">250.6%</td><td style=\"border: 1px solid #ddd; padding: 8px; text-align: right;\">-1.2324</td><td style=\"border: 1px solid #ddd; padding: 8px; text-align: right;\">-40.9%</td><td style=\"border: 1px solid #ddd; padding: 8px; text-align: right;\">5.8094</td><td style=\"border: 1px solid #ddd; padding: 8px; text-align: right;\">192.6%</td></tr><tr style=\"font-weight: bold; background-color: #f8f9fa;\"><td style=\"border: 1px solid #ddd; padding: 8px;\">female</td><td style=\"border: 1px solid #ddd; padding: 8px; text-align: right;\">-0.2727</td><td style=\"border: 1px solid #ddd; padding: 8px; text-align: right;\">-9.0%</td><td style=\"border: 1px solid #ddd; padding: 8px; text-align: right;\">-1.1653</td><td style=\"border: 1px solid #ddd; padding: 8px; text-align: right;\">-38.6%</td><td style=\"border: 1px solid #ddd; padding: 8px; text-align: right;\">-0.2504</td><td style=\"border: 1px solid #ddd; padding: 8px; text-align: right;\">-8.3%</td><td style=\"border: 1px solid #ddd; padding: 8px; text-align: right;\">-1.6883</td><td style=\"border: 1px solid #ddd; padding: 8px; text-align: right;\">-56.0%</td></tr><tr style=\"font-weight: bold; background-color: #f8f9fa;\"><td style=\"border: 1px solid #ddd; padding: 8px;\">C(education_level)</td><td style=\"border: 1px solid #ddd; padding: 8px; text-align: right;\">2.4060</td><td style=\"border: 1px solid #ddd; padding: 8px; text-align: right;\">79.8%</td><td style=\"border: 1px solid #ddd; padding: 8px; text-align: right;\">-3.5599</td><td style=\"border: 1px solid #ddd; padding: 8px; text-align: right;\">-118.1%</td><td style=\"border: 1px solid #ddd; padding: 8px; text-align: right;\">0.0485</td><td style=\"border: 1px solid #ddd; padding: 8px; text-align: right;\">1.6%</td><td style=\"border: 1px solid #ddd; padding: 8px; text-align: right;\">-1.1055</td><td style=\"border: 1px solid #ddd; padding: 8px; text-align: right;\">-36.7%</td></tr><tr><td style=\"border: 1px solid #ddd; padding: 8px; padding-left: 24px; font-style: italic; color: #666;\">C(education_level)[LTHS]</td><td style=\"border: 1px solid #ddd; padding: 8px; text-align: right;\">-2.6310</td><td style=\"border: 1px solid #ddd; padding: 8px; text-align: right;\">-87.2%</td><td style=\"border: 1px solid #ddd; padding: 8px; text-align: right;\">-1.5892</td><td style=\"border: 1px solid #ddd; padding: 8px; text-align: right;\">-52.7%</td><td style=\"border: 1px solid #ddd; padding: 8px; text-align: right;\">1.1038</td><td style=\"border: 1px solid #ddd; padding: 8px; text-align: right;\">36.6%</td><td style=\"border: 1px solid #ddd; padding: 8px; text-align: right;\">-3.1163</td><td style=\"border: 1px solid #ddd; padding: 8px; text-align: right;\">-103.3%</td></tr><tr><td style=\"border: 1px solid #ddd; padding: 8px; padding-left: 24px; font-style: italic; color: #666;\">C(education_level)[advanced_degree]</td><td style=\"border: 1px solid #ddd; padding: 8px; text-align: right;\">1.3849</td><td style=\"border: 1px solid #ddd; padding: 8px; text-align: right;\">45.9%</td><td style=\"border: 1px solid #ddd; padding: 8px; text-align: right;\">-0.4043</td><td style=\"border: 1px solid #ddd; padding: 8px; text-align: right;\">-13.4%</td><td style=\"border: 1px solid #ddd; padding: 8px; text-align: right;\">-0.4856</td><td style=\"border: 1px solid #ddd; padding: 8px; text-align: right;\">-16.1%</td><td style=\"border: 1px solid #ddd; padding: 8px; text-align: right;\">0.4950</td><td style=\"border: 1px solid #ddd; padding: 8px; text-align: right;\">16.4%</td></tr><tr><td style=\"border: 1px solid #ddd; padding: 8px; padding-left: 24px; font-style: italic; color: #666;\">C(education_level)[college]</td><td style=\"border: 1px solid #ddd; padding: 8px; text-align: right;\">0.7619</td><td style=\"border: 1px solid #ddd; padding: 8px; text-align: right;\">25.3%</td><td style=\"border: 1px solid #ddd; padding: 8px; text-align: right;\">0.2337</td><td style=\"border: 1px solid #ddd; padding: 8px; text-align: right;\">7.8%</td><td style=\"border: 1px solid #ddd; padding: 8px; text-align: right;\">0.1347</td><td style=\"border: 1px solid #ddd; padding: 8px; text-align: right;\">4.5%</td><td style=\"border: 1px solid #ddd; padding: 8px; text-align: right;\">1.1303</td><td style=\"border: 1px solid #ddd; padding: 8px; text-align: right;\">37.5%</td></tr><tr><td style=\"border: 1px solid #ddd; padding: 8px; padding-left: 24px; font-style: italic; color: #666;\">C(education_level)[high_school]</td><td style=\"border: 1px solid #ddd; padding: 8px; text-align: right;\">-0.8249</td><td style=\"border: 1px solid #ddd; padding: 8px; text-align: right;\">-27.4%</td><td style=\"border: 1px solid #ddd; padding: 8px; text-align: right;\">-1.2954</td><td style=\"border: 1px solid #ddd; padding: 8px; text-align: right;\">-43.0%</td><td style=\"border: 1px solid #ddd; padding: 8px; text-align: right;\">0.2417</td><td style=\"border: 1px solid #ddd; padding: 8px; text-align: right;\">8.0%</td><td style=\"border: 1px solid #ddd; padding: 8px; text-align: right;\">-1.8786</td><td style=\"border: 1px solid #ddd; padding: 8px; text-align: right;\">-62.3%</td></tr><tr><td style=\"border: 1px solid #ddd; padding: 8px; padding-left: 24px; font-style: italic; color: #666;\">C(education_level)[some_college]</td><td style=\"border: 1px solid #ddd; padding: 8px; text-align: right;\">3.7151</td><td style=\"border: 1px solid #ddd; padding: 8px; text-align: right;\">123.2%</td><td style=\"border: 1px solid #ddd; padding: 8px; text-align: right;\">-0.5048</td><td style=\"border: 1px solid #ddd; padding: 8px; text-align: right;\">-16.7%</td><td style=\"border: 1px solid #ddd; padding: 8px; text-align: right;\">-0.9461</td><td style=\"border: 1px solid #ddd; padding: 8px; text-align: right;\">-31.4%</td><td style=\"border: 1px solid #ddd; padding: 8px; text-align: right;\">2.2642</td><td style=\"border: 1px solid #ddd; padding: 8px; text-align: right;\">75.1%</td></tr><tr style=\"font-weight: bold; background-color: #e6f3ff; border-top: 2px solid #007acc;\"><th style=\"border: 1px solid #ddd; padding: 8px; text-align: right; \">Total</th><td style=\"border: 1px solid #ddd; padding: 8px; text-align: right;\">1.6165</td><td style=\"border: 1px solid #ddd; padding: 8px; text-align: right;\">53.6%</td><td style=\"border: 1px solid #ddd; padding: 8px; text-align: right;\">2.8333</td><td style=\"border: 1px solid #ddd; padding: 8px; text-align: right;\">94.0%</td><td style=\"border: 1px solid #ddd; padding: 8px; text-align: right;\">-1.4343</td><td style=\"border: 1px solid #ddd; padding: 8px; text-align: right;\">-47.6%</td><td style=\"border: 1px solid #ddd; padding: 8px; text-align: right;\">3.0156</td><td style=\"border: 1px solid #ddd; padding: 8px; text-align: right;\">100.0%</td></tr></tbody></table>\n",
              "\n",
              "            <div style=\"margin-top: 15px; padding: 10px; background-color: #f8f9fa; border-radius: 4px;\">\n",
              "                <p style=\"margin: 0; font-size: 0.9em; color: #666;\">\n",
              "                    <strong>\ud83d\udca1 For programmatic access:</strong><br>\n",
              "                    \u2022 <code>contributions</code> - aggregated categorical variables<br>\n",
              "                    \u2022 <code>detailed_contributions</code> - individual categories with hierarchy<br>\n",
              "                    \u2022 <code>removal_info</code> - per-group removal impact details\n",
              "                </p>\n",
              "            </div>\n",
              "        </div>\n",
              "        "
            ],
            "text/plain": [
              "OaxacaResults(groups=[0, 1], group_variable='foreign_born')"
            ]
          },
          "execution_count": 8,
          "metadata": {},
          "output_type": "execute_result"
        }
      ],
      "source": [
        "threefold_decomposition"
      ]
    },
    {
      "cell_type": "code",
      "execution_count": null,
      "metadata": {},
      "outputs": [],
      "source": [
        "# Test direction argument by creating decompositions with different directions\n",
        "# First, let's check the current direction and total_difference\n",
        "print(\"Current twofold_decomposition:\")\n",
        "print(f\"Direction: {twofold_decomposition.direction}\")\n",
        "print(f\"Total difference: {twofold_decomposition.total_difference}\")\n",
        "print(f\"Groups: {model.groups_}\")\n",
        "print(f\"Group 0 mean_y: {model.group_stats_[model.groups_[0]]['mean_y']}\")\n",
        "print(f\"Group 1 mean_y: {model.group_stats_[model.groups_[1]]['mean_y']}\")\n",
        "\n",
        "# Calculate what the difference should be for each direction\n",
        "group_0_mean = model.group_stats_[model.groups_[0]][\"mean_y\"]\n",
        "group_1_mean = model.group_stats_[model.groups_[1]][\"mean_y\"]\n",
        "\n",
        "print(f\"\\nGroup 0 - Group 1: {group_0_mean - group_1_mean:.4f}\")\n",
        "print(f\"Group 1 - Group 0: {group_1_mean - group_0_mean:.4f}\")\n",
        "\n",
        "# Test threefold decomposition direction\n",
        "print(\"\\nThreefold decomposition:\")\n",
        "print(f\"Direction: {threefold_decomposition.direction}\")\n",
        "print(f\"Total difference: {threefold_decomposition.total_difference}\")"
      ]
    }
  ],
  "metadata": {
    "kernelspec": {
      "display_name": "oaxaca",
      "language": "python",
      "name": "python3"
    },
    "language_info": {
      "codemirror_mode": {
        "name": "ipython",
        "version": 3
      },
      "file_extension": ".py",
      "mimetype": "text/x-python",
      "name": "python",
      "nbconvert_exporter": "python",
      "pygments_lexer": "ipython3",
      "version": "3.12.3"
    }
  },
  "nbformat": 4,
  "nbformat_minor": 4
}
