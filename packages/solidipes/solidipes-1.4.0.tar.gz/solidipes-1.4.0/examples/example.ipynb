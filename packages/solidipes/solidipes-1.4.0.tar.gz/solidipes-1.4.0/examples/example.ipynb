{
 "cells": [
  {
   "cell_type": "code",
   "execution_count": null,
   "id": "e048da69",
   "metadata": {
    "tags": []
   },
   "outputs": [],
   "source": [
    "import solidipes as sp"
   ]
  },
  {
   "cell_type": "code",
   "execution_count": null,
   "id": "3383a9c7",
   "metadata": {
    "tags": []
   },
   "outputs": [],
   "source": [
    "print(f\"Using backend {sp.viewer_backends.current_backend}\")"
   ]
  },
  {
   "cell_type": "code",
   "execution_count": null,
   "id": "7d8fb464",
   "metadata": {},
   "outputs": [],
   "source": [
    "# Text\n",
    "text = sp.load_file(\"assets/text.md\")\n",
    "text.view()"
   ]
  },
  {
   "cell_type": "code",
   "execution_count": null,
   "id": "06c9fcfc",
   "metadata": {},
   "outputs": [],
   "source": [
    "# Image\n",
    "image = sp.load_file(\"assets/solidipes.jpg\")\n",
    "image.view()"
   ]
  },
  {
   "cell_type": "code",
   "execution_count": null,
   "id": "1a75c968",
   "metadata": {},
   "outputs": [],
   "source": [
    "# Table\n",
    "table = sp.load_file(\"assets/table.xlsx\")\n",
    "print(table.data_info)\n",
    "table.view()"
   ]
  },
  {
   "cell_type": "code",
   "execution_count": null,
   "id": "95a1e758",
   "metadata": {
    "tags": []
   },
   "outputs": [],
   "source": [
    "# Load mesh\n",
    "mesh = sp.load_file(\"assets/plate_hole.vtu\")\n",
    "print(mesh.data_info)"
   ]
  },
  {
   "cell_type": "code",
   "execution_count": null,
   "id": "d2804140",
   "metadata": {},
   "outputs": [],
   "source": [
    "# View bare mesh\n",
    "mesh.view(add_kwargs={\"show_edges\": True})"
   ]
  },
  {
   "cell_type": "code",
   "execution_count": null,
   "id": "669e7061",
   "metadata": {},
   "outputs": [],
   "source": [
    "# View warped mesh with colored data\n",
    "warped_mesh = mesh.get_warped(\"displacement\", factor=4e9)\n",
    "stress_xx = mesh.get_cell_data(\"stress\")[:, 0]\n",
    "warped_mesh.set_cell_values(stress_xx)\n",
    "viewer = warped_mesh.view()\n",
    "viewer.save(\"example.png\")"
   ]
  },
  {
   "cell_type": "code",
   "execution_count": null,
   "id": "b7373c56",
   "metadata": {
    "scrolled": true
   },
   "outputs": [],
   "source": [
    "# Manual plotting\n",
    "viewer = sp.viewers.PyvistaPlotter()\n",
    "viewer.add_mesh(warped_mesh, show_edges=True)\n",
    "viewer.add_points(mesh, color=\"red\", point_size=20)\n",
    "viewer.show()"
   ]
  }
 ],
 "metadata": {
  "kernelspec": {
   "display_name": "Python 3 (ipykernel)",
   "language": "python",
   "name": "python3"
  },
  "language_info": {
   "codemirror_mode": {
    "name": "ipython",
    "version": 3
   },
   "file_extension": ".py",
   "mimetype": "text/x-python",
   "name": "python",
   "nbconvert_exporter": "python",
   "pygments_lexer": "ipython3",
   "version": "3.10.6"
  }
 },
 "nbformat": 4,
 "nbformat_minor": 5
}
