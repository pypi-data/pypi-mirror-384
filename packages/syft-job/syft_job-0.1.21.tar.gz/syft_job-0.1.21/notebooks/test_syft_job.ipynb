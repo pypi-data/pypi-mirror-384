{
 "cells": [
  {
   "cell_type": "code",
   "execution_count": null,
   "id": "00ecdda1",
   "metadata": {},
   "outputs": [],
   "source": [
    "import syft_job as sj\n",
    "import syft_client as sc"
   ]
  },
  {
   "cell_type": "code",
   "execution_count": null,
   "id": "5fc74570",
   "metadata": {},
   "outputs": [],
   "source": [
    "client_email = input(\"Enter your email: \")\n",
    "client = sc.login(client_email)"
   ]
  },
  {
   "cell_type": "code",
   "execution_count": null,
   "id": "6ced959d",
   "metadata": {},
   "outputs": [],
   "source": [
    "SAMPLE_BASH_SCRIPT = \"\"\"\n",
    "#!/bin/bash\n",
    "\n",
    "# Colors\n",
    "RED='\\033[0;31m'\n",
    "GREEN='\\033[0;32m'\n",
    "YELLOW='\\033[1;33m'\n",
    "CYAN='\\033[0;36m'\n",
    "NC='\\033[0m' # No Color\n",
    "\n",
    "# Clear the screen\n",
    "clear\n",
    "\n",
    "# Print header with border\n",
    "echo -e \"${CYAN}==============================${NC}\"\n",
    "echo -e \"${GREEN}     🌟 Current Date 🌟     ${NC}\"\n",
    "echo -e \"${CYAN}==============================${NC}\"\n",
    "\n",
    "# Animate dots\n",
    "for i in {1..3}; do\n",
    "  echo -n \".\"\n",
    "  sleep 0.3\n",
    "done\n",
    "echo \"\"\n",
    "\n",
    "# Print date in yellow\n",
    "echo -e \"${YELLOW}$(date)${NC}\"\n",
    "\n",
    "# Footer\n",
    "echo -e \"${CYAN}==============================${NC}\"\n",
    "\"\"\""
   ]
  },
  {
   "cell_type": "code",
   "execution_count": null,
   "id": "425413d6",
   "metadata": {},
   "outputs": [],
   "source": [
    "job_client = sj.get_client(syftbox_folder_path=client.folder)"
   ]
  },
  {
   "cell_type": "code",
   "execution_count": null,
   "id": "2589dfdd",
   "metadata": {},
   "outputs": [],
   "source": [
    "job_client"
   ]
  },
  {
   "cell_type": "code",
   "execution_count": null,
   "id": "6a46f343",
   "metadata": {},
   "outputs": [],
   "source": [
    "job_client.jobs"
   ]
  },
  {
   "cell_type": "code",
   "execution_count": null,
   "id": "e7871c22",
   "metadata": {},
   "outputs": [],
   "source": [
    "from uuid import uuid4\n",
    "\n",
    "# Generate unique job ID and name\n",
    "RANDOM_ID = str(uuid4())[0:8]\n",
    "JOB_NAME = f\"Test Job - {RANDOM_ID}\"\n",
    "\n",
    "job = job_client.submit_bash_job(\n",
    "    user=\"rasswanth@openmined.org\", job_name=JOB_NAME, script=SAMPLE_BASH_SCRIPT\n",
    ")"
   ]
  },
  {
   "cell_type": "code",
   "execution_count": null,
   "id": "cf3195a6",
   "metadata": {},
   "outputs": [],
   "source": [
    "job_client.jobs"
   ]
  },
  {
   "cell_type": "code",
   "execution_count": null,
   "id": "6d5d5965",
   "metadata": {},
   "outputs": [],
   "source": [
    "job_client.jobs[0]"
   ]
  },
  {
   "cell_type": "code",
   "execution_count": null,
   "id": "443ade39",
   "metadata": {},
   "outputs": [],
   "source": [
    "%%writefile result.txt\n",
    "This is a sample result file."
   ]
  },
  {
   "cell_type": "code",
   "execution_count": null,
   "id": "e125707c",
   "metadata": {},
   "outputs": [],
   "source": [
    "job_client.jobs[0].accept_by_depositing_result(file_path=\"result.txt\")"
   ]
  },
  {
   "cell_type": "code",
   "execution_count": null,
   "id": "fca50d6b",
   "metadata": {},
   "outputs": [],
   "source": []
  }
 ],
 "metadata": {
  "kernelspec": {
   "display_name": "syft-job",
   "language": "python",
   "name": "python3"
  },
  "language_info": {
   "codemirror_mode": {
    "name": "ipython",
    "version": 3
   },
   "file_extension": ".py",
   "mimetype": "text/x-python",
   "name": "python",
   "nbconvert_exporter": "python",
   "pygments_lexer": "ipython3",
   "version": "3.12.8"
  }
 },
 "nbformat": 4,
 "nbformat_minor": 5
}
