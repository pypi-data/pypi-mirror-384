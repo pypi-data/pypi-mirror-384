{
 "cells": [
  {
   "cell_type": "code",
   "execution_count": null,
   "id": "7e63ef12",
   "metadata": {},
   "outputs": [],
   "source": [
    "import syft_job as sj"
   ]
  },
  {
   "cell_type": "code",
   "execution_count": null,
   "id": "79603b4c",
   "metadata": {},
   "outputs": [],
   "source": [
    "path = input(\"Enter Path: \")\n",
    "client = sj.get_client(syftbox_folder_path=path)"
   ]
  },
  {
   "cell_type": "code",
   "execution_count": null,
   "id": "29faca3d",
   "metadata": {},
   "outputs": [],
   "source": [
    "%%writefile main.py\n",
    "print(\"Hello World\")"
   ]
  },
  {
   "cell_type": "code",
   "execution_count": null,
   "id": "61d3bba0",
   "metadata": {},
   "outputs": [],
   "source": [
    "client.submit_python_job(\n",
    "    code_path=\"main.py\",\n",
    "    user=client.config.email,\n",
    ")"
   ]
  },
  {
   "cell_type": "code",
   "execution_count": null,
   "id": "74d77ad4",
   "metadata": {},
   "outputs": [],
   "source": [
    "client.jobs[3].approve()"
   ]
  },
  {
   "cell_type": "code",
   "execution_count": null,
   "id": "ba0e640b",
   "metadata": {},
   "outputs": [],
   "source": [
    "client.jobs[0].approve()"
   ]
  },
  {
   "cell_type": "code",
   "execution_count": null,
   "id": "e4fe9ee4",
   "metadata": {},
   "outputs": [],
   "source": [
    "client.jobs[3]"
   ]
  },
  {
   "cell_type": "code",
   "execution_count": null,
   "id": "0669245c",
   "metadata": {},
   "outputs": [],
   "source": []
  }
 ],
 "metadata": {
  "kernelspec": {
   "display_name": "syft-job",
   "language": "python",
   "name": "python3"
  },
  "language_info": {
   "codemirror_mode": {
    "name": "ipython",
    "version": 3
   },
   "file_extension": ".py",
   "mimetype": "text/x-python",
   "name": "python",
   "nbconvert_exporter": "python",
   "pygments_lexer": "ipython3",
   "version": "3.12.8"
  }
 },
 "nbformat": 4,
 "nbformat_minor": 5
}
