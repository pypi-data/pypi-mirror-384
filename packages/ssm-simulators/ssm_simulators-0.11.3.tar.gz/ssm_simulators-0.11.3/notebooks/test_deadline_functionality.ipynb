{
 "cells": [
  {
   "cell_type": "code",
   "execution_count": 1,
   "id": "afde1df2",
   "metadata": {},
   "outputs": [],
   "source": [
    "import ssms\n",
    "import pandas as pd\n",
    "import numpy as np"
   ]
  },
  {
   "cell_type": "code",
   "execution_count": 2,
   "id": "cdb0090c",
   "metadata": {},
   "outputs": [],
   "source": [
    "from ssms.basic_simulators.simulator import simulator"
   ]
  },
  {
   "cell_type": "code",
   "execution_count": null,
   "id": "52821732",
   "metadata": {},
   "outputs": [
    {
     "name": "stdout",
     "output_type": "stream",
     "text": [
      "7668\n",
      "0.8773\n",
      "8349\n",
      "0.8749\n",
      "1241\n",
      "0.8765\n",
      "5965\n",
      "0.8788\n",
      "802\n",
      "0.8742\n",
      "2888\n",
      "0.8746\n",
      "4434\n",
      "0.8788\n",
      "429\n",
      "0.8729\n",
      "5878\n",
      "0.8746\n",
      "9736\n",
      "0.879\n"
     ]
    }
   ],
   "source": [
    "params = {\"v\": 0, \"a\": 1.5, \"z\": 0.5, \"t\": 0.5}\n",
    "deadline = 1.5\n",
    "\n",
    "rng = np.random.default_rng(100)\n",
    "\n",
    "for i in range(10):\n",
    "    my_int = rng.integers(0, 10000)\n",
    "    print(my_int)\n",
    "\n",
    "    out = simulator(\n",
    "        model = \"ddm\",\n",
    "        theta = params,\n",
    "        n_samples = 10000,\n",
    "        smooth_unif = False,\n",
    "        random_state = my_int,\n",
    "    )\n",
    "\n",
    "\n",
    "    data_no_deadline = pd.DataFrame(np.stack([out['rts'].squeeze(), out['choices'].squeeze()]).T,\n",
    "                                columns = ['rt', \"response\"])\n",
    "\n",
    "    data_no_deadline.loc[data_no_deadline['rt'] > deadline, 'rt'] = -999\n",
    "    data_no_deadline.loc[data_no_deadline['response'] == -1.0, 'rt'] = -999\n",
    "\n",
    "    print(np.sum(data_no_deadline['rt'] == -999) / len(data_no_deadline))"
   ]
  },
  {
   "cell_type": "code",
   "execution_count": 9,
   "id": "82ef7630",
   "metadata": {},
   "outputs": [
    {
     "name": "stdout",
     "output_type": "stream",
     "text": [
      "7668\n",
      "0.8773\n",
      "8349\n",
      "0.8669\n",
      "1241\n",
      "0.8685\n",
      "5965\n",
      "0.8757\n",
      "802\n",
      "0.8658\n",
      "2888\n",
      "0.8722\n",
      "4434\n",
      "0.8748\n",
      "429\n",
      "0.865\n",
      "5878\n",
      "0.8694\n",
      "9736\n",
      "0.8728\n"
     ]
    }
   ],
   "source": [
    "params = {\"v\": 0, \"a\": 1.5, \"z\": 0.5, \"t\": 0.5, \"deadline\": deadline}\n",
    "\n",
    "# deepcopy(params).update(deadline=deadline)\n",
    "rng = np.random.default_rng(100)\n",
    "\n",
    "for i in range(10):\n",
    "    my_int = rng.integers(0, 10000)\n",
    "    print(my_int)\n",
    "\n",
    "    out_deadline = simulator(\n",
    "        model = \"ddm_deadline\",\n",
    "        theta = params,\n",
    "        n_samples = 10000,\n",
    "        smooth_unif = False,\n",
    "        random_state = my_int,\n",
    "    )\n",
    "\n",
    "    print(out_deadline['nogo_p'].squeeze())"
   ]
  },
  {
   "cell_type": "code",
   "execution_count": 65,
   "id": "e5671447",
   "metadata": {},
   "outputs": [],
   "source": [
    "import pandas as pd\n",
    "import numpy as np\n",
    "data_no_deadline = pd.DataFrame(np.stack([out['rts'].squeeze(), out['choices'].squeeze()]).T,\n",
    "                               columns = ['rt', \"response\"])"
   ]
  },
  {
   "cell_type": "code",
   "execution_count": null,
   "id": "921fd214",
   "metadata": {},
   "outputs": [
    {
     "data": {
      "text/plain": [
       "np.float64(0.8713)"
      ]
     },
     "execution_count": 66,
     "metadata": {},
     "output_type": "execute_result"
    }
   ],
   "source": [
    "deadline = 1.5\n",
    "\n",
    "data_no_deadline = pd.DataFrame(np.stack([out['rts'].squeeze(), out['choices'].squeeze()]).T,\n",
    "                               columns = ['rt', \"response\"])\n",
    "\n",
    "data_no_deadline.loc[data_no_deadline['rt'] > deadline, 'rt'] = -999.0\n",
    "data_no_deadline.loc[data_no_deadline['response'] == -1.0, 'rt'] = -999.0\n",
    "\n",
    "np.sum(data_no_deadline['rt'] == -999.0) / len(data_no_deadline)"
   ]
  },
  {
   "cell_type": "code",
   "execution_count": null,
   "id": "061d3ae3",
   "metadata": {},
   "outputs": [],
   "source": [
    "from copy import deepcopy\n",
    "params = {\"v\": 0, \"a\": 1.5, \"z\": 0.5, \"t\": 0.5, \"deadline\": deadline}\n",
    "\n",
    "# deepcopy(params).update(deadline=deadline)\n",
    "\n",
    "out_deadline = simulator(\n",
    "    model = \"ddm_deadline\",\n",
    "    theta = params,\n",
    "    n_samples = 10000,\n",
    "    random_state = 100,\n",
    ")\n",
    "\n",
    "out_deadline['nogo_p']"
   ]
  },
  {
   "cell_type": "code",
   "execution_count": null,
   "id": "c3ec8ff0",
   "metadata": {},
   "outputs": [
    {
     "data": {
      "text/plain": [
       "array([[0.8656]])"
      ]
     },
     "execution_count": 68,
     "metadata": {},
     "output_type": "execute_result"
    }
   ],
   "source": []
  },
  {
   "cell_type": "code",
   "execution_count": 53,
   "id": "674e896b",
   "metadata": {},
   "outputs": [
    {
     "data": {
      "text/plain": [
       "{'v': 0, 'a': 1.5, 'z': 0.5, 't': 0.5, 'deadline': 1.5}"
      ]
     },
     "execution_count": 53,
     "metadata": {},
     "output_type": "execute_result"
    }
   ],
   "source": [
    "params"
   ]
  },
  {
   "cell_type": "code",
   "execution_count": null,
   "id": "cdfb66fb",
   "metadata": {},
   "outputs": [],
   "source": []
  }
 ],
 "metadata": {
  "kernelspec": {
   "display_name": ".venv",
   "language": "python",
   "name": "python3"
  },
  "language_info": {
   "codemirror_mode": {
    "name": "ipython",
    "version": 3
   },
   "file_extension": ".py",
   "mimetype": "text/x-python",
   "name": "python",
   "nbconvert_exporter": "python",
   "pygments_lexer": "ipython3",
   "version": "3.12.10"
  }
 },
 "nbformat": 4,
 "nbformat_minor": 5
}
