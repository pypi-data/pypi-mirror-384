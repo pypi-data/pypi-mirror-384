{
 "cells": [
  {
   "cell_type": "code",
   "execution_count": 2,
   "id": "e597c69e-eeaa-49bc-a838-00983ef9c444",
   "metadata": {},
   "outputs": [],
   "source": [
    "import rohub\n",
    "from rocrate_validator import services, models"
   ]
  },
  {
   "cell_type": "code",
   "execution_count": 3,
   "id": "dcc443e3-f0ab-4a73-8ce9-4ce29d311403",
   "metadata": {},
   "outputs": [
    {
     "name": "stdout",
     "output_type": "stream",
     "text": [
      "Logged successfully as bjaniak@man.poznan.pl.\n"
     ]
    }
   ],
   "source": [
    "rohub.login(username=\"bjaniak@man.poznan.pl\", password=\"MFe7HqVjtfbk72b\")"
   ]
  },
  {
   "cell_type": "code",
   "execution_count": 4,
   "id": "8614840e-ebef-4ffc-88c3-65f9882a484c",
   "metadata": {},
   "outputs": [],
   "source": [
    "title = \"GAMAR_GLORYS_1h_inst\""
   ]
  },
  {
   "cell_type": "code",
   "execution_count": 5,
   "id": "e259b902-bcc2-4159-8247-352ab6ac3bed",
   "metadata": {},
   "outputs": [],
   "source": [
    "description = \"RiOMar dataset \" + title"
   ]
  },
  {
   "cell_type": "code",
   "execution_count": 6,
   "id": "1292e4fd-a8f9-4c16-a7a1-d83717526e0b",
   "metadata": {},
   "outputs": [
    {
     "data": {
      "text/plain": [
       "['Acoustics',\n",
       " 'Aerodynamics',\n",
       " 'Agronomy',\n",
       " 'Analytical chemistry',\n",
       " 'Applied sciences',\n",
       " 'Astronautics',\n",
       " 'Astronomy',\n",
       " 'Atom',\n",
       " 'Biochemistry',\n",
       " 'Biology',\n",
       " 'Biometrics',\n",
       " 'Botany',\n",
       " 'Cartography',\n",
       " 'Chemistry',\n",
       " 'Climatology',\n",
       " 'Cosmology',\n",
       " 'Cultural geography',\n",
       " 'Cybernetics',\n",
       " 'Cytology',\n",
       " 'Earth observation',\n",
       " 'Earth sciences',\n",
       " 'Ecology',\n",
       " 'Economic geography',\n",
       " 'Electrochemistry',\n",
       " 'Electronics',\n",
       " 'Electrotechnology',\n",
       " 'Embryo and foetus',\n",
       " 'Environmental research',\n",
       " 'Fundamental particle',\n",
       " 'Genetics',\n",
       " 'Geochemistry',\n",
       " 'Geographical information system',\n",
       " 'Geography',\n",
       " 'Geology',\n",
       " 'Geomorphology',\n",
       " 'Geophysics',\n",
       " 'Hazard science',\n",
       " 'Histology',\n",
       " 'Historical geography',\n",
       " 'Human geography',\n",
       " 'Hydrogeology',\n",
       " 'Hydrology',\n",
       " 'Industrial chemistry',\n",
       " 'Information science',\n",
       " 'Ionising radiation',\n",
       " 'Laser physics',\n",
       " 'Life sciences',\n",
       " 'Mathematics',\n",
       " 'Medical science',\n",
       " 'Meteorology',\n",
       " 'Metrology',\n",
       " 'Microorganism',\n",
       " 'Mineralogy',\n",
       " 'Neurobiology',\n",
       " 'Nuclear physics',\n",
       " 'Oceanography',\n",
       " 'Optics',\n",
       " 'Parasitology',\n",
       " 'Petrology',\n",
       " 'Pharmacology',\n",
       " 'Pharmacy',\n",
       " 'Photochemistry',\n",
       " 'Photographic industry',\n",
       " 'Physical sciences',\n",
       " 'Plasma physics',\n",
       " 'Political geography',\n",
       " 'Radiobiology',\n",
       " 'Regional geography',\n",
       " 'Sedimentology',\n",
       " 'Seismology',\n",
       " 'Social sciences',\n",
       " 'Soil analysis',\n",
       " 'Soil chemistry',\n",
       " 'Soil science',\n",
       " 'Soil type',\n",
       " 'Space science',\n",
       " 'Spectrometry',\n",
       " 'Stem cell',\n",
       " 'Thermodynamics',\n",
       " 'Volcanology',\n",
       " 'Zoology']"
      ]
     },
     "execution_count": 6,
     "metadata": {},
     "output_type": "execute_result"
    }
   ],
   "source": [
    "rohub.list_valid_research_areas()"
   ]
  },
  {
   "cell_type": "code",
   "execution_count": 7,
   "id": "c48715cd-6d6a-46a4-a5b1-c5fc7e56f22d",
   "metadata": {},
   "outputs": [],
   "source": [
    "research_areas = [\"Geology\", \"Environmental research\"]"
   ]
  },
  {
   "cell_type": "code",
   "execution_count": 8,
   "id": "7fb8b7a0-a98a-4f0d-93af-1371e3f11218",
   "metadata": {},
   "outputs": [
    {
     "name": "stdout",
     "output_type": "stream",
     "text": [
      "Research Object was successfully created with id = a87c113c-c584-4c79-a5ae-d36b8c110ed1\n"
     ]
    }
   ],
   "source": [
    "RO = rohub.ros_create(title=title, research_areas=research_areas, description=description)"
   ]
  },
  {
   "cell_type": "code",
   "execution_count": 9,
   "id": "26fa9e59-fd29-4f39-8657-b3855d9dbd8c",
   "metadata": {},
   "outputs": [
    {
     "data": {
      "text/plain": [
       "'GAMAR_GLORYS_1h_inst'"
      ]
     },
     "execution_count": 9,
     "metadata": {},
     "output_type": "execute_result"
    }
   ],
   "source": [
    "RO.title"
   ]
  },
  {
   "cell_type": "code",
   "execution_count": 10,
   "id": "71f25012-82b1-412d-ba5a-e80da77dc1c8",
   "metadata": {},
   "outputs": [
    {
     "data": {
      "text/plain": [
       "'RiOMar dataset GAMAR_GLORYS_1h_inst'"
      ]
     },
     "execution_count": 10,
     "metadata": {},
     "output_type": "execute_result"
    }
   ],
   "source": [
    "RO.description"
   ]
  },
  {
   "cell_type": "code",
   "execution_count": 11,
   "id": "232f4489-10d8-45e2-9733-21887b3d6727",
   "metadata": {},
   "outputs": [
    {
     "data": {
      "text/plain": [
       "['Environmental research', 'Geology']"
      ]
     },
     "execution_count": 11,
     "metadata": {},
     "output_type": "execute_result"
    }
   ],
   "source": [
    "RO.research_areas"
   ]
  },
  {
   "cell_type": "code",
   "execution_count": 12,
   "id": "86a2ae4d-f4f3-44a2-8168-fb20268ef980",
   "metadata": {},
   "outputs": [],
   "source": [
    "RO.load_full_metadata()"
   ]
  },
  {
   "cell_type": "code",
   "execution_count": 13,
   "id": "1ac4f702-e22d-4e7b-bbe6-dbfac864c161",
   "metadata": {},
   "outputs": [
    {
     "data": {
      "text/plain": [
       "'2025-04-02T14:31:36.083588+0000'"
      ]
     },
     "execution_count": 13,
     "metadata": {},
     "output_type": "execute_result"
    }
   ],
   "source": [
    "RO.created_on"
   ]
  },
  {
   "cell_type": "code",
   "execution_count": 14,
   "id": "54c2dc6f-a297-40a0-b9ef-c5a6cf0e7903",
   "metadata": {},
   "outputs": [
    {
     "data": {
      "text/plain": [
       "'bjaniak@man.poznan.pl'"
      ]
     },
     "execution_count": 14,
     "metadata": {},
     "output_type": "execute_result"
    }
   ],
   "source": [
    "RO.created_by"
   ]
  },
  {
   "cell_type": "code",
   "execution_count": 15,
   "id": "8054d5e9-7eb5-406a-b141-d4aa4c88c0f7",
   "metadata": {},
   "outputs": [],
   "source": [
    "keywords = [\"riomar\", \"croco\"]"
   ]
  },
  {
   "cell_type": "code",
   "execution_count": 16,
   "id": "f6037ef7-43e5-4dea-b2e9-1cd8d064a84d",
   "metadata": {},
   "outputs": [
    {
     "data": {
      "text/plain": [
       "{'identifier': 'bc4c0542-8efa-4b56-85b7-a2ef3ac7e894',\n",
       " 'shared_link': 'https://w3id.org/ro-id-dev/a87c113c-c584-4c79-a5ae-d36b8c110ed1/annotations/bc4c0542-8efa-4b56-85b7-a2ef3ac7e894',\n",
       " 'name': 'annotations/bc4c0542-8efa-4b56-85b7-a2ef3ac7e894',\n",
       " 'filename': '.ro/annotations/bc4c0542-8efa-4b56-85b7-a2ef3ac7e894.ttl',\n",
       " 'relation': False,\n",
       " 'read_only': False,\n",
       " 'target': 'a87c113c-c584-4c79-a5ae-d36b8c110ed1',\n",
       " 'ro': 'a87c113c-c584-4c79-a5ae-d36b8c110ed1',\n",
       " 'resources': [],\n",
       " 'created': '2025-04-02T14:32:04.038433+0000',\n",
       " 'creator': 'bjaniak@man.poznan.pl',\n",
       " 'modificator': None,\n",
       " 'modified': '2025-04-02T14:32:04.038338+0000',\n",
       " 'is_dmp': True,\n",
       " 'api_link': 'https://rohub2020-rohub.apps.paas-dev.psnc.pl/api/annotations/bc4c0542-8efa-4b56-85b7-a2ef3ac7e894/'}"
      ]
     },
     "execution_count": 16,
     "metadata": {},
     "output_type": "execute_result"
    }
   ],
   "source": [
    "RO.add_keywords(keywords=keywords)"
   ]
  },
  {
   "cell_type": "code",
   "execution_count": 17,
   "id": "559108cd-c074-4322-865a-194e1eafa55c",
   "metadata": {},
   "outputs": [
    {
     "data": {
      "text/plain": [
       "[{'identifier': 'bc4c0542-8efa-4b56-85b7-a2ef3ac7e894',\n",
       "  'ro': 'a87c113c-c584-4c79-a5ae-d36b8c110ed1',\n",
       "  'keywords': ['croco', 'riomar']}]"
      ]
     },
     "execution_count": 17,
     "metadata": {},
     "output_type": "execute_result"
    }
   ],
   "source": [
    "RO.list_keywords()"
   ]
  },
  {
   "cell_type": "code",
   "execution_count": 18,
   "id": "1d87b17f-09be-464f-89ae-ee9661c1c285",
   "metadata": {},
   "outputs": [
    {
     "data": {
      "text/plain": [
       "['0bsd',\n",
       " 'Test-license',\n",
       " 'Test-license_1',\n",
       " 'Test_license_2',\n",
       " 'aal',\n",
       " 'abstyles',\n",
       " 'adobe-2006',\n",
       " 'adobe-glyph',\n",
       " 'adsl',\n",
       " 'afl-1.1',\n",
       " 'afl-1.2',\n",
       " 'afl-2.0',\n",
       " 'afl-2.1',\n",
       " 'afl-3.0',\n",
       " 'afmparse',\n",
       " 'against-drm',\n",
       " 'agpl-1.0-only',\n",
       " 'agpl-1.0-or-later',\n",
       " 'agpl-3.0-only',\n",
       " 'agpl-3.0-or-later',\n",
       " 'aladdin',\n",
       " 'amdplpa',\n",
       " 'aml',\n",
       " 'ampas',\n",
       " 'antlr-pd',\n",
       " 'antlr-pd-fallback',\n",
       " 'apache-1.0',\n",
       " 'apache-1.1',\n",
       " 'apache-2.0',\n",
       " 'apafml',\n",
       " 'apl-1.0',\n",
       " 'apsl-1.0',\n",
       " 'apsl-1.1',\n",
       " 'apsl-1.2',\n",
       " 'apsl-2.0',\n",
       " 'artistic-1.0',\n",
       " 'artistic-1.0-cl8',\n",
       " 'artistic-1.0-perl',\n",
       " 'artistic-2.0',\n",
       " 'bahyph',\n",
       " 'barr',\n",
       " 'beerware',\n",
       " 'bittorrent-1.0',\n",
       " 'bittorrent-1.1',\n",
       " 'blessing',\n",
       " 'blueoak-1.0.0',\n",
       " 'bohdans_test_license',\n",
       " 'bohdans_test_license2',\n",
       " 'borceux',\n",
       " 'bsd-1-clause',\n",
       " 'bsd-2-clause',\n",
       " 'bsd-2-clause-patent',\n",
       " 'bsd-2-clause-views',\n",
       " 'bsd-3-clause',\n",
       " 'bsd-3-clause-attribution',\n",
       " 'bsd-3-clause-clear',\n",
       " 'bsd-3-clause-lbnl',\n",
       " 'bsd-3-clause-no-nuclear-license',\n",
       " 'bsd-3-clause-no-nuclear-license-2014',\n",
       " 'bsd-3-clause-no-nuclear-warranty',\n",
       " 'bsd-3-clause-open-mpi',\n",
       " 'bsd-4-clause',\n",
       " 'bsd-4-clause-uc',\n",
       " 'bsd-protection',\n",
       " 'bsd-source-code',\n",
       " 'bsl-1.0',\n",
       " 'busl-1.1',\n",
       " 'bzip2-1.0.5',\n",
       " 'bzip2-1.0.6',\n",
       " 'cal-1.0',\n",
       " 'cal-1.0-combined-work-exception',\n",
       " 'caldera',\n",
       " 'catosl-1.1',\n",
       " 'cc-by-1.0',\n",
       " 'cc-by-2.0',\n",
       " 'cc-by-2.5',\n",
       " 'cc-by-3.0',\n",
       " 'cc-by-3.0-at',\n",
       " 'cc-by-3.0-us',\n",
       " 'cc-by-4.0',\n",
       " 'cc-by-nc-1.0',\n",
       " 'cc-by-nc-2.0',\n",
       " 'cc-by-nc-2.5',\n",
       " 'cc-by-nc-3.0',\n",
       " 'cc-by-nc-4.0',\n",
       " 'cc-by-nc-nd-1.0',\n",
       " 'cc-by-nc-nd-2.0',\n",
       " 'cc-by-nc-nd-2.5',\n",
       " 'cc-by-nc-nd-3.0',\n",
       " 'cc-by-nc-nd-3.0-igo',\n",
       " 'cc-by-nc-nd-4.0',\n",
       " 'cc-by-nc-sa-1.0',\n",
       " 'cc-by-nc-sa-2.0',\n",
       " 'cc-by-nc-sa-2.5',\n",
       " 'cc-by-nc-sa-3.0',\n",
       " 'cc-by-nc-sa-4.0',\n",
       " 'cc-by-nd-1.0',\n",
       " 'cc-by-nd-2.0',\n",
       " 'cc-by-nd-2.5',\n",
       " 'cc-by-nd-3.0',\n",
       " 'cc-by-nd-4.0',\n",
       " 'cc-by-sa-1.0',\n",
       " 'cc-by-sa-2.0',\n",
       " 'cc-by-sa-2.0-uk',\n",
       " 'cc-by-sa-2.5',\n",
       " 'cc-by-sa-3.0',\n",
       " 'cc-by-sa-3.0-at',\n",
       " 'cc-by-sa-4.0',\n",
       " 'cc-pddc',\n",
       " 'cc0-1.0',\n",
       " 'cddl-1.0',\n",
       " 'cddl-1.1',\n",
       " 'cdla-permissive-1.0',\n",
       " 'cdla-sharing-1.0',\n",
       " 'cecill-1.0',\n",
       " 'cecill-1.1',\n",
       " 'cecill-2.0',\n",
       " 'cecill-2.1',\n",
       " 'cecill-b',\n",
       " 'cecill-c',\n",
       " 'cern-ohl-1.1',\n",
       " 'cern-ohl-1.2',\n",
       " 'cern-ohl-p-2.0',\n",
       " 'cern-ohl-s-2.0',\n",
       " 'cern-ohl-w-2.0',\n",
       " 'clartistic',\n",
       " 'cnri-jython',\n",
       " 'cnri-python',\n",
       " 'cnri-python-gpl-compatible',\n",
       " 'condor-1.1',\n",
       " 'copyleft-next-0.3.0',\n",
       " 'copyleft-next-0.3.1',\n",
       " 'cpal-1.0',\n",
       " 'cpl-1.0',\n",
       " 'cpol-1.02',\n",
       " 'crossword',\n",
       " 'crystalstacker',\n",
       " 'cua-opl-1.0',\n",
       " 'cube',\n",
       " 'curl',\n",
       " 'd-fsl-1.0',\n",
       " 'diffmark',\n",
       " 'dli-model-use',\n",
       " 'doc',\n",
       " 'dotseqn',\n",
       " 'dsdp',\n",
       " 'dsl',\n",
       " 'dvipdfm',\n",
       " 'ecl-1.0',\n",
       " 'ecl-2.0',\n",
       " 'efl-1.0',\n",
       " 'efl-2.0',\n",
       " 'egenix',\n",
       " 'entessa',\n",
       " 'epics',\n",
       " 'epl-1.0',\n",
       " 'epl-2.0',\n",
       " 'erlpl-1.1',\n",
       " 'etalab-2.0',\n",
       " 'eudatagrid',\n",
       " 'eupl-1.0',\n",
       " 'eupl-1.1',\n",
       " 'eupl-1.2',\n",
       " 'eurofound',\n",
       " 'eurosym',\n",
       " 'fair',\n",
       " 'frameworx-1.0',\n",
       " 'freeimage',\n",
       " 'fsfap',\n",
       " 'fsful',\n",
       " 'fsfullr',\n",
       " 'ftl',\n",
       " 'geo-no-fee-unrestricted',\n",
       " 'geogratis',\n",
       " 'gfdl-1.1-invariants-only',\n",
       " 'gfdl-1.1-invariants-or-later',\n",
       " 'gfdl-1.1-no-invariants-only',\n",
       " 'gfdl-1.1-no-invariants-or-later',\n",
       " 'gfdl-1.1-only',\n",
       " 'gfdl-1.1-or-later',\n",
       " 'gfdl-1.2-invariants-only',\n",
       " 'gfdl-1.2-invariants-or-later',\n",
       " 'gfdl-1.2-no-invariants-only',\n",
       " 'gfdl-1.2-no-invariants-or-later',\n",
       " 'gfdl-1.2-only',\n",
       " 'gfdl-1.2-or-later',\n",
       " 'gfdl-1.3-invariants-only',\n",
       " 'gfdl-1.3-invariants-or-later',\n",
       " 'gfdl-1.3-no-invariants-only',\n",
       " 'gfdl-1.3-no-invariants-or-later',\n",
       " 'gfdl-1.3-only',\n",
       " 'gfdl-1.3-or-later',\n",
       " 'giftware',\n",
       " 'gl2ps',\n",
       " 'glide',\n",
       " 'glulxe',\n",
       " 'glwtpl',\n",
       " 'gnuplot',\n",
       " 'gpl-1.0-only',\n",
       " 'gpl-1.0-or-later',\n",
       " 'gpl-2.0-only',\n",
       " 'gpl-2.0-or-later',\n",
       " 'gpl-3.0-only',\n",
       " 'gpl-3.0-or-later',\n",
       " 'gsoap-1.3b',\n",
       " 'haskellreport',\n",
       " 'hesa-withrights',\n",
       " 'hippocratic-2.1',\n",
       " 'hpnd',\n",
       " 'hpnd-sell-variant',\n",
       " 'htmltidy',\n",
       " 'ibm-pibs',\n",
       " 'icu',\n",
       " 'ijg',\n",
       " 'imagemagick',\n",
       " 'imatix',\n",
       " 'imlib2',\n",
       " 'info-zip',\n",
       " 'intel',\n",
       " 'intel-acpi',\n",
       " 'interbase-1.0',\n",
       " 'ipa',\n",
       " 'ipl-1.0',\n",
       " 'isc',\n",
       " 'jabber-osl',\n",
       " 'jasper-2.0',\n",
       " 'jpnic',\n",
       " 'json',\n",
       " 'lal-1.2',\n",
       " 'lal-1.3',\n",
       " 'latex2e',\n",
       " 'leptonica',\n",
       " 'lgpl-2.0-only',\n",
       " 'lgpl-2.0-or-later',\n",
       " 'lgpl-2.1-only',\n",
       " 'lgpl-2.1-or-later',\n",
       " 'lgpl-3.0-only',\n",
       " 'lgpl-3.0-or-later',\n",
       " 'lgpllr',\n",
       " 'libpng',\n",
       " 'libpng-2.0',\n",
       " 'libselinux-1.0',\n",
       " 'libtiff',\n",
       " 'liliq-p-1.1',\n",
       " 'liliq-r-1.1',\n",
       " 'liliq-rplus-1.1',\n",
       " 'linux-openib',\n",
       " 'localauth-withrights',\n",
       " 'lpl-1.0',\n",
       " 'lpl-1.02',\n",
       " 'lppl-1.0',\n",
       " 'lppl-1.1',\n",
       " 'lppl-1.2',\n",
       " 'lppl-1.3a',\n",
       " 'lppl-1.3c',\n",
       " 'lucent-plan9',\n",
       " 'makeindex',\n",
       " 'met-office-cp',\n",
       " 'miros',\n",
       " 'mit',\n",
       " 'mit-0',\n",
       " 'mit-advertising',\n",
       " 'mit-cmu',\n",
       " 'mit-enna',\n",
       " 'mit-feh',\n",
       " 'mit-open-group',\n",
       " 'mitnfa',\n",
       " 'mitre',\n",
       " 'motosoto',\n",
       " 'mpich2',\n",
       " 'mpl-1.0',\n",
       " 'mpl-1.1',\n",
       " 'mpl-2.0',\n",
       " 'mpl-2.0-no-copyleft-exception',\n",
       " 'ms-pl',\n",
       " 'ms-rl',\n",
       " 'mtll',\n",
       " 'mulanpsl-1.0',\n",
       " 'mulanpsl-2.0',\n",
       " 'multics',\n",
       " 'mup',\n",
       " 'nasa-1.3',\n",
       " 'naumen',\n",
       " 'nbpl-1.0',\n",
       " 'ncgl-uk-2.0',\n",
       " 'ncsa',\n",
       " 'net-snmp',\n",
       " 'netcdf',\n",
       " 'newsletr',\n",
       " 'ngpl',\n",
       " 'nist-pd',\n",
       " 'nist-pd-fallback',\n",
       " 'nlod-1.0',\n",
       " 'nlpl',\n",
       " 'nokia',\n",
       " 'nosl',\n",
       " 'notspecified',\n",
       " 'noweb',\n",
       " 'npl-1.0',\n",
       " 'npl-1.1',\n",
       " 'nposl-3.0',\n",
       " 'nrl',\n",
       " 'ntp',\n",
       " 'ntp-0',\n",
       " 'o-uda-1.0',\n",
       " 'occt-pl',\n",
       " 'oclc-2.0',\n",
       " 'odbl-1.0',\n",
       " 'odc-by-1.0',\n",
       " 'ofl-1.0',\n",
       " 'ofl-1.0-no-rfn',\n",
       " 'ofl-1.0-rfn',\n",
       " 'ofl-1.1',\n",
       " 'ofl-1.1-no-rfn',\n",
       " 'ofl-1.1-rfn',\n",
       " 'ogc-1.0',\n",
       " 'ogl-canada-2.0',\n",
       " 'ogl-uk-1.0',\n",
       " 'ogl-uk-2.0',\n",
       " 'ogl-uk-3.0',\n",
       " 'ogtsl',\n",
       " 'oldap-1.1',\n",
       " 'oldap-1.2',\n",
       " 'oldap-1.3',\n",
       " 'oldap-1.4',\n",
       " 'oldap-2.0',\n",
       " 'oldap-2.0.1',\n",
       " 'oldap-2.1',\n",
       " 'oldap-2.2',\n",
       " 'oldap-2.2.1',\n",
       " 'oldap-2.2.2',\n",
       " 'oldap-2.3',\n",
       " 'oldap-2.4',\n",
       " 'oldap-2.5',\n",
       " 'oldap-2.6',\n",
       " 'oldap-2.7',\n",
       " 'oldap-2.8',\n",
       " 'oml',\n",
       " 'openssl',\n",
       " 'opl-1.0',\n",
       " 'oset-pl-2.1',\n",
       " 'osl-1.0',\n",
       " 'osl-1.1',\n",
       " 'osl-2.0',\n",
       " 'osl-2.1',\n",
       " 'osl-3.0',\n",
       " 'other-at',\n",
       " 'other-closed',\n",
       " 'other-nc',\n",
       " 'other-open',\n",
       " 'other-pd',\n",
       " 'parity-6.0.0',\n",
       " 'parity-7.0.0',\n",
       " 'pddl-1.0',\n",
       " 'php-3.0',\n",
       " 'php-3.01',\n",
       " 'plexus',\n",
       " 'polyform-noncommercial-1.0.0',\n",
       " 'polyform-small-business-1.0.0',\n",
       " 'postgresql',\n",
       " 'psf-2.0',\n",
       " 'psfrag',\n",
       " 'psutils',\n",
       " 'python-2.0',\n",
       " 'qhull',\n",
       " 'qpl-1.0',\n",
       " 'qtpl',\n",
       " 'rdisc',\n",
       " 'rhecos-1.1',\n",
       " 'rpl-1.1',\n",
       " 'rpl-1.5',\n",
       " 'rpsl-1.0',\n",
       " 'rsa-md',\n",
       " 'rscpl',\n",
       " 'ruby',\n",
       " 'sax-pd',\n",
       " 'saxpath',\n",
       " 'scea',\n",
       " 'sendmail',\n",
       " 'sendmail-8.23',\n",
       " 'sgi-b-1.0',\n",
       " 'sgi-b-1.1',\n",
       " 'sgi-b-2.0',\n",
       " 'shl-0.5',\n",
       " 'shl-0.51',\n",
       " 'simpl-2.0',\n",
       " 'sissl',\n",
       " 'sissl-1.2',\n",
       " 'sleepycat',\n",
       " 'smlnj',\n",
       " 'smppl',\n",
       " 'snia',\n",
       " 'spencer-86',\n",
       " 'spencer-94',\n",
       " 'spencer-99',\n",
       " 'spl-1.0',\n",
       " 'ssh-openssh',\n",
       " 'ssh-short',\n",
       " 'sspl-1.0',\n",
       " 'sugarcrm-1.1.3',\n",
       " 'swl',\n",
       " 'tapr-ohl-1.0',\n",
       " 'tcl',\n",
       " 'tcp-wrappers',\n",
       " 'tesst_license_from_ui_bohdan',\n",
       " 'test_license_2025',\n",
       " 'test_license_from_ui',\n",
       " 'tmate',\n",
       " 'torque-1.1',\n",
       " 'tosl',\n",
       " 'tu-berlin-1.0',\n",
       " 'tu-berlin-2.0',\n",
       " 'ucl-1.0',\n",
       " 'ukclickusepsi',\n",
       " 'ukcrown',\n",
       " 'ukcrown-withrights',\n",
       " 'ukpsi',\n",
       " 'unicode-dfs-2015',\n",
       " 'unicode-dfs-2016',\n",
       " 'unicode-tou',\n",
       " 'unlicense',\n",
       " 'upl-1.0',\n",
       " 'user-jsim',\n",
       " 'vim',\n",
       " 'vostrom',\n",
       " 'vsl-1.0',\n",
       " 'w3c',\n",
       " 'w3c-19980720',\n",
       " 'w3c-20150513',\n",
       " 'watcom-1.0',\n",
       " 'wsuipa',\n",
       " 'wtfpl',\n",
       " 'wxwindows',\n",
       " 'x11',\n",
       " 'xerox',\n",
       " 'xfree86-1.1',\n",
       " 'xinetd',\n",
       " 'xnet',\n",
       " 'xpp',\n",
       " 'xskat',\n",
       " 'ypl-1.0',\n",
       " 'ypl-1.1',\n",
       " 'zed',\n",
       " 'zend-2.0',\n",
       " 'zenodo-freetoread-1.0',\n",
       " 'zimbra-1.3',\n",
       " 'zimbra-1.4',\n",
       " 'zlib',\n",
       " 'zlib-acknowledgement',\n",
       " 'zpl-1.1',\n",
       " 'zpl-2.0',\n",
       " 'zpl-2.1']"
      ]
     },
     "execution_count": 18,
     "metadata": {},
     "output_type": "execute_result"
    }
   ],
   "source": [
    "rohub.list_available_licenses()"
   ]
  },
  {
   "cell_type": "code",
   "execution_count": 20,
   "id": "ac835cac-a45d-4370-af89-f0de5b24d0bf",
   "metadata": {},
   "outputs": [],
   "source": [
    "RO_license_id = \"cc-by-4.0\""
   ]
  },
  {
   "cell_type": "code",
   "execution_count": 21,
   "id": "5f542a6f-ff68-4a80-80f7-0454018b50ba",
   "metadata": {},
   "outputs": [
    {
     "data": {
      "text/plain": [
       "{'identifier': 'cc-by-4.0',\n",
       " 'title': 'Creative Commons Attribution 4.0 International',\n",
       " 'description': 'Creative Commons Attribution 4.0 International',\n",
       " 'created': '2023-10-12T17:24:17.213122+00:00',\n",
       " 'updated': '2023-10-12T17:24:17.250742+00:00',\n",
       " 'creator': None,\n",
       " 'status': None,\n",
       " 'url': 'https://creativecommons.org/licenses/by/4.0/legalcode',\n",
       " 'custom': False}"
      ]
     },
     "execution_count": 21,
     "metadata": {},
     "output_type": "execute_result"
    }
   ],
   "source": [
    "RO.set_license(license_id=RO_license_id)"
   ]
  },
  {
   "cell_type": "code",
   "execution_count": 22,
   "id": "9fcd7f9d-6d0e-436a-b3d2-57e596c56ebb",
   "metadata": {},
   "outputs": [
    {
     "data": {
      "text/plain": [
       "{'identifier': 'cc-by-4.0',\n",
       " 'title': 'Creative Commons Attribution 4.0 International',\n",
       " 'description': 'Creative Commons Attribution 4.0 International',\n",
       " 'created': '2023-10-12T17:24:17.213122+00:00',\n",
       " 'updated': '2023-10-12T17:24:17.250742+00:00',\n",
       " 'creator': None,\n",
       " 'status': None,\n",
       " 'url': 'https://creativecommons.org/licenses/by/4.0/legalcode',\n",
       " 'custom': False}"
      ]
     },
     "execution_count": 22,
     "metadata": {},
     "output_type": "execute_result"
    }
   ],
   "source": [
    "RO.list_license()"
   ]
  },
  {
   "cell_type": "code",
   "execution_count": 23,
   "id": "20466e13-05c8-45bf-92b6-6a21124aae70",
   "metadata": {},
   "outputs": [],
   "source": [
    "#creator_1 = {\"agent_type\": \"user\", \"display_name\": \"Anne_Fouilloux\", \"email\":\"annef@simula.no\", \"orcid_id\": \"https://orcid.org/0000-0002-1784-2920\", \"affiliation\":\"https://ror.org/00vn06n10\"}\n",
    "creator_1 = \"annef@simula.no\""
   ]
  },
  {
   "cell_type": "code",
   "execution_count": 24,
   "id": "01361beb-6c49-4137-8507-55815c8c10fd",
   "metadata": {},
   "outputs": [],
   "source": [
    "#creator_2 = {\"agent_type\": \"user\", \"display_name\": \"Tina_Erica_Odaka\", \"email\":\"tina.odaka@ifremer.fr\", \"orcid_id\": \"https://orcid.org/0000-0002-1500-0156\", \"affiliation\":\"https://ror.org/044jxhp58\"}\n",
    "creator_2 = \"tina.odaka@ifremer.fr\""
   ]
  },
  {
   "cell_type": "code",
   "execution_count": 25,
   "id": "50771bfd-cab0-4157-ad19-ede3a8b7f039",
   "metadata": {},
   "outputs": [],
   "source": [
    "creators = [creator_1, creator_2]"
   ]
  },
  {
   "cell_type": "code",
   "execution_count": 26,
   "id": "b37c8dfb-18c8-4c7e-8fa6-c50392579317",
   "metadata": {},
   "outputs": [
    {
     "name": "stdout",
     "output_type": "stream",
     "text": [
      "Agent: annef@simula.no recognized in the system.\n",
      "Agent: tina.odaka@ifremer.fr recognized in the system.\n"
     ]
    },
    {
     "data": {
      "text/plain": [
       "[{'identifier': '9d35e0cc-0750-4d07-b03c-12780b290117',\n",
       "  'username': 'annef@simula.no',\n",
       "  'name': 'annef@simula.no',\n",
       "  'type': 'ExternalUser',\n",
       "  'order': 0,\n",
       "  'display_name': 'Anne_Fouilloux',\n",
       "  'affiliation': 'https://ror.org/00vn06n10'},\n",
       " {'identifier': 'b4253e76-f2e0-40f9-97f4-0671d70f6cd2',\n",
       "  'username': 'tina.odaka@ifremer.fr',\n",
       "  'name': 'tina.odaka@ifremer.fr',\n",
       "  'type': 'ExternalUser',\n",
       "  'order': 0,\n",
       "  'display_name': 'Tina_Erica_Odaka',\n",
       "  'affiliation': 'https://ror.org/044jxhp58'}]"
      ]
     },
     "execution_count": 26,
     "metadata": {},
     "output_type": "execute_result"
    }
   ],
   "source": [
    "RO.set_authors(agents=creators)"
   ]
  },
  {
   "cell_type": "code",
   "execution_count": 27,
   "id": "dafe1a3c-69eb-442f-98cb-92c3545b2ba1",
   "metadata": {},
   "outputs": [
    {
     "data": {
      "text/plain": [
       "[{'identifier': 'b4253e76-f2e0-40f9-97f4-0671d70f6cd2',\n",
       "  'username': 'tina.odaka@ifremer.fr',\n",
       "  'name': 'tina.odaka@ifremer.fr',\n",
       "  'type': 'ExternalUser',\n",
       "  'order': 0,\n",
       "  'display_name': 'Tina_Erica_Odaka',\n",
       "  'affiliation': 'https://ror.org/044jxhp58'},\n",
       " {'identifier': '9d35e0cc-0750-4d07-b03c-12780b290117',\n",
       "  'username': 'annef@simula.no',\n",
       "  'name': 'annef@simula.no',\n",
       "  'type': 'ExternalUser',\n",
       "  'order': 0,\n",
       "  'display_name': 'Anne_Fouilloux',\n",
       "  'affiliation': 'https://ror.org/00vn06n10'}]"
      ]
     },
     "execution_count": 27,
     "metadata": {},
     "output_type": "execute_result"
    }
   ],
   "source": [
    "RO.list_authors()"
   ]
  },
  {
   "cell_type": "code",
   "execution_count": 28,
   "id": "a1ba123b-2f28-4b48-a8a4-6d6e3059eedc",
   "metadata": {},
   "outputs": [],
   "source": [
    "#organisation_1 = {\"agent_type\": \"organization\", \"display_name\": \"Simula Research Laboratory\", \"organization_url\": \"https://www.simula.no\", \"ror_identifier\": \"00vn06n10\"}\n",
    "organisation_1 = \"00vn06n10\""
   ]
  },
  {
   "cell_type": "code",
   "execution_count": 29,
   "id": "8700835e-4e02-426f-9afb-9a07ae5cea87",
   "metadata": {},
   "outputs": [],
   "source": [
    "#organisation_2 = {\"agent_type\": \"organization\", \"display_name\": \"Ifremer\", \"organization_url\": \"https://www.ifremer.com\", \"ror_identifier\": \"044jxhp58\"}\n",
    "organisation_2 = \"044jxhp58\""
   ]
  },
  {
   "cell_type": "code",
   "execution_count": 30,
   "id": "2b526e9b-4205-4b86-8839-d9fc9ac6cf0a",
   "metadata": {},
   "outputs": [],
   "source": [
    "organisations = [organisation_1, organisation_2]"
   ]
  },
  {
   "cell_type": "code",
   "execution_count": 31,
   "id": "06459dea-eda3-46cd-8326-9106b1a61bbb",
   "metadata": {},
   "outputs": [
    {
     "name": "stdout",
     "output_type": "stream",
     "text": [
      "Agent: 00vn06n10 recognized in the system.\n",
      "Agent: 044jxhp58 recognized in the system.\n"
     ]
    },
    {
     "data": {
      "text/plain": [
       "[{'identifier': '853b4415-c8c2-4201-9ae1-42892ab9b1de',\n",
       "  'username': '00vn06n10',\n",
       "  'name': '00vn06n10',\n",
       "  'type': 'Organization',\n",
       "  'order': 0,\n",
       "  'display_name': 'Simula Research Laboratory'},\n",
       " {'identifier': '0e0f72ca-dda3-4008-8606-fa76855b4b00',\n",
       "  'username': '044jxhp58',\n",
       "  'name': '044jxhp58',\n",
       "  'type': 'Organization',\n",
       "  'order': 0,\n",
       "  'display_name': 'Ifremer'}]"
      ]
     },
     "execution_count": 31,
     "metadata": {},
     "output_type": "execute_result"
    }
   ],
   "source": [
    "RO.set_publishers(agents=organisations)"
   ]
  },
  {
   "cell_type": "code",
   "execution_count": 32,
   "id": "4ce8468d-9c44-4388-96d6-96dd2d18e5a0",
   "metadata": {},
   "outputs": [
    {
     "data": {
      "text/plain": [
       "'Janiak, Bogusz. \"GAMAR_GLORYS_1h_inst.\" ROHub. Apr 02 ,2025. https://w3id.org/ro-id-dev/a87c113c-c584-4c79-a5ae-d36b8c110ed1.'"
      ]
     },
     "execution_count": 32,
     "metadata": {},
     "output_type": "execute_result"
    }
   ],
   "source": [
    "RO.cite_as"
   ]
  },
  {
   "cell_type": "code",
   "execution_count": 144,
   "id": "3b28e607-b844-493b-a727-018ba4fced3a",
   "metadata": {},
   "outputs": [],
   "source": [
    "#study_subjects = [{'@id': 'http://inspire.ec.europa.eu/metadata-codelist/TopicCategory/environment'}]"
   ]
  },
  {
   "cell_type": "code",
   "execution_count": 145,
   "id": "896d9652-e4ff-4f9f-8a95-332858676d9b",
   "metadata": {},
   "outputs": [],
   "source": [
    "#study_subject_annotation = {'@id': './', 'about': study_subjects}\n",
    "#study_subject_annotation = [{\"property\": \"http://hasStudySubject.com\", \"value\": \"http://inspire.ec.europa.eu/metadata-codelist/TopicCategory/environment\"}]"
   ]
  },
  {
   "cell_type": "code",
   "execution_count": 146,
   "id": "8cc52618-27c8-4697-8753-ad510f2aa92e",
   "metadata": {},
   "outputs": [
    {
     "data": {
      "text/plain": [
       "{'identifier': 'acd99fae-e36b-40e0-add9-f331b5ab4d43',\n",
       " 'shared_link': 'https://w3id.org/ro-id-dev/682e75c4-e8ab-4fa1-9884-1ef4b0fd5adc/annotations/acd99fae-e36b-40e0-add9-f331b5ab4d43',\n",
       " 'name': 'annotations/acd99fae-e36b-40e0-add9-f331b5ab4d43',\n",
       " 'filename': '.ro/annotations/acd99fae-e36b-40e0-add9-f331b5ab4d43.ttl',\n",
       " 'relation': False,\n",
       " 'read_only': False,\n",
       " 'target': '682e75c4-e8ab-4fa1-9884-1ef4b0fd5adc',\n",
       " 'ro': '682e75c4-e8ab-4fa1-9884-1ef4b0fd5adc',\n",
       " 'resources': [],\n",
       " 'created': '2025-03-28T13:25:44.979030+0000',\n",
       " 'creator': 'bjaniak@man.poznan.pl',\n",
       " 'modificator': None,\n",
       " 'modified': '2025-03-28T13:25:44.978897+0000',\n",
       " 'is_dmp': True,\n",
       " 'api_link': 'https://rohub2020-rohub.apps.paas-dev.psnc.pl/api/annotations/acd99fae-e36b-40e0-add9-f331b5ab4d43/'}"
      ]
     },
     "execution_count": 146,
     "metadata": {},
     "output_type": "execute_result"
    }
   ],
   "source": [
    "#RO.add_annotations(body_specification_json=study_subject_annotation)"
   ]
  },
  {
   "cell_type": "code",
   "execution_count": 33,
   "id": "16206f9a-8d5a-48e5-9bfd-14f657b85e9e",
   "metadata": {},
   "outputs": [
    {
     "data": {
      "text/plain": [
       "{'identifier': '3c9ac22d-11ab-4128-b298-70a39f431b98',\n",
       " 'shared_link': 'https://w3id.org/ro-id-dev/a87c113c-c584-4c79-a5ae-d36b8c110ed1/annotations/3c9ac22d-11ab-4128-b298-70a39f431b98',\n",
       " 'name': 'annotations/3c9ac22d-11ab-4128-b298-70a39f431b98',\n",
       " 'filename': '.ro/annotations/3c9ac22d-11ab-4128-b298-70a39f431b98.ttl',\n",
       " 'relation': False,\n",
       " 'read_only': False,\n",
       " 'target': 'a87c113c-c584-4c79-a5ae-d36b8c110ed1',\n",
       " 'ro': 'a87c113c-c584-4c79-a5ae-d36b8c110ed1',\n",
       " 'resources': [],\n",
       " 'created': '2025-04-02T14:33:49.818599+0000',\n",
       " 'creator': 'bjaniak@man.poznan.pl',\n",
       " 'modificator': None,\n",
       " 'modified': '2025-04-02T14:33:49.818527+0000',\n",
       " 'is_dmp': True,\n",
       " 'api_link': 'https://rohub2020-rohub.apps.paas-dev.psnc.pl/api/annotations/3c9ac22d-11ab-4128-b298-70a39f431b98/'}"
      ]
     },
     "execution_count": 33,
     "metadata": {},
     "output_type": "execute_result"
    }
   ],
   "source": [
    "RO.add_geolocation(body_specification_json=\"test_files/geo2.json\")"
   ]
  },
  {
   "cell_type": "code",
   "execution_count": 34,
   "id": "9c6d7190-1568-49a3-812e-226b5aeaf56a",
   "metadata": {},
   "outputs": [
    {
     "name": "stdout",
     "output_type": "stream",
     "text": [
      "File was successfully downloaded.\n"
     ]
    }
   ],
   "source": [
    "RO.export_to_rocrate(filename=\"ro-crate/ro-crate-metadata.json\")"
   ]
  },
  {
   "cell_type": "code",
   "execution_count": 40,
   "id": "24f91afb-45bc-401f-95f8-3fca9c716200",
   "metadata": {},
   "outputs": [],
   "source": [
    "    config = services.ValidationSettings(\n",
    "        rocrate_uri=\"ro-crate\",\n",
    "        profile_identifier=\"ro-crate-1.1\",\n",
    "        requirement_severity=models.Severity.REQUIRED,\n",
    "    )"
   ]
  },
  {
   "cell_type": "code",
   "execution_count": 41,
   "id": "fb8356b9-b13b-46c9-bdaa-4027b577535f",
   "metadata": {},
   "outputs": [],
   "source": [
    "v = services.validate(config)"
   ]
  },
  {
   "cell_type": "code",
   "execution_count": 42,
   "id": "5680131b-15ad-4c22-900c-a731105e33a9",
   "metadata": {},
   "outputs": [
    {
     "data": {
      "text/plain": [
       "ValidationResult(passed=False,issues=[CheckIssue(severity=Severity.REQUIRED, check=<0_file_descriptor_format.FileDescriptorJsonLdFormat object at 0x112f77e30>, message=The The 1 occurrence of the \"http://www.opengis.net/ont/geosparql#hasGeometry\" URI cannot be used as a key \"because the compacted format requires simple terms as keys (see https://www.w3.org/TR/json-ld-api/#compaction for more details).)])"
      ]
     },
     "execution_count": 42,
     "metadata": {},
     "output_type": "execute_result"
    }
   ],
   "source": [
    "v"
   ]
  },
  {
   "cell_type": "code",
   "execution_count": 43,
   "id": "ae22ec36-66e8-4ab6-9182-8364fa5c5faa",
   "metadata": {},
   "outputs": [
    {
     "data": {
      "text/plain": [
       "True"
      ]
     },
     "execution_count": 43,
     "metadata": {},
     "output_type": "execute_result"
    }
   ],
   "source": [
    "v.has_issues()"
   ]
  },
  {
   "cell_type": "code",
   "execution_count": 7,
   "id": "e3748c0b-a871-4fb8-9154-1ef82c798b35",
   "metadata": {},
   "outputs": [],
   "source": []
  }
 ],
 "metadata": {
  "kernelspec": {
   "display_name": "rocrate-validator",
   "language": "python",
   "name": "rocrate-validator"
  },
  "language_info": {
   "codemirror_mode": {
    "name": "ipython",
    "version": 3
   },
   "file_extension": ".py",
   "mimetype": "text/x-python",
   "name": "python",
   "nbconvert_exporter": "python",
   "pygments_lexer": "ipython3",
   "version": "3.13.2"
  }
 },
 "nbformat": 4,
 "nbformat_minor": 5
}
