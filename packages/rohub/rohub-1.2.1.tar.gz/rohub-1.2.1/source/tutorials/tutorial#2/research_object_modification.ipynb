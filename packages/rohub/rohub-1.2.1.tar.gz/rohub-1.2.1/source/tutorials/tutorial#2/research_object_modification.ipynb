{
 "cells": [
  {
   "cell_type": "markdown",
   "id": "e6a2aa0e",
   "metadata": {},
   "source": [
    "## Modification of the Research Object\n",
    "The creation of the research object was explained in the previous tutorial. In this section, we will focus on the research object modification."
   ]
  },
  {
   "cell_type": "markdown",
   "id": "717d1d75",
   "metadata": {},
   "source": [
    "### Example 1\n",
    "To load an existing research object into the local scope, we will need only one piece of information - the research object's identifier.\n",
    "\n",
    "First, we will use our research object as an example. We can use a built-in function to list all research objects that belong to us."
   ]
  },
  {
   "cell_type": "code",
   "execution_count": 2,
   "id": "057dd2ef",
   "metadata": {},
   "outputs": [
    {
     "data": {
      "text/html": [
       "<div>\n",
       "<style scoped>\n",
       "    .dataframe tbody tr th:only-of-type {\n",
       "        vertical-align: middle;\n",
       "    }\n",
       "\n",
       "    .dataframe tbody tr th {\n",
       "        vertical-align: top;\n",
       "    }\n",
       "\n",
       "    .dataframe thead th {\n",
       "        text-align: right;\n",
       "    }\n",
       "</style>\n",
       "<table border=\"1\" class=\"dataframe\">\n",
       "  <thead>\n",
       "    <tr style=\"text-align: right;\">\n",
       "      <th></th>\n",
       "      <th>identifier</th>\n",
       "      <th>title</th>\n",
       "      <th>description</th>\n",
       "      <th>type</th>\n",
       "      <th>research_areas</th>\n",
       "      <th>status</th>\n",
       "      <th>created_on</th>\n",
       "      <th>created_by</th>\n",
       "      <th>modified_on</th>\n",
       "      <th>access_mode</th>\n",
       "      <th>owner</th>\n",
       "      <th>creation_mode</th>\n",
       "      <th>shared_link</th>\n",
       "    </tr>\n",
       "  </thead>\n",
       "  <tbody>\n",
       "    <tr>\n",
       "      <th>0</th>\n",
       "      <td>43833c23-2242-48ef-8f0a-d925c0e1d3e9</td>\n",
       "      <td>Shark research</td>\n",
       "      <td>None</td>\n",
       "      <td>Bibliography-centric Research Object</td>\n",
       "      <td>[Biology, Zoology]</td>\n",
       "      <td>LIVE</td>\n",
       "      <td>2022-02-27T13:32:54.305241+00:00</td>\n",
       "      <td>liza.poltavchenko00@gmail.com</td>\n",
       "      <td>2022-02-27T13:51:10.797175+00:00</td>\n",
       "      <td>PUBLIC</td>\n",
       "      <td>liza.poltavchenko00@gmail.com</td>\n",
       "      <td>MANUAL</td>\n",
       "      <td>https://w3id.org/ro-id-dev/43833c23-2242-48ef-...</td>\n",
       "    </tr>\n",
       "    <tr>\n",
       "      <th>1</th>\n",
       "      <td>94b3cb95-9434-4028-be78-c383e0a27a74</td>\n",
       "      <td>Shark research</td>\n",
       "      <td>None</td>\n",
       "      <td>Process-centric Research Object</td>\n",
       "      <td>[Biology, Zoology]</td>\n",
       "      <td>LIVE</td>\n",
       "      <td>2022-02-27T13:32:42.545444+00:00</td>\n",
       "      <td>liza.poltavchenko00@gmail.com</td>\n",
       "      <td>2022-02-27T13:47:43.767596+00:00</td>\n",
       "      <td>PUBLIC</td>\n",
       "      <td>liza.poltavchenko00@gmail.com</td>\n",
       "      <td>MANUAL</td>\n",
       "      <td>https://w3id.org/ro-id-dev/94b3cb95-9434-4028-...</td>\n",
       "    </tr>\n",
       "    <tr>\n",
       "      <th>2</th>\n",
       "      <td>33c5b983-c16d-41fa-b957-740cc84f0f1f</td>\n",
       "      <td>Shark research</td>\n",
       "      <td>None</td>\n",
       "      <td>Basic Research Object</td>\n",
       "      <td>[Biology, Zoology]</td>\n",
       "      <td>LIVE</td>\n",
       "      <td>2022-02-27T13:32:29.198896+00:00</td>\n",
       "      <td>liza.poltavchenko00@gmail.com</td>\n",
       "      <td>2022-02-27T13:44:22.992581+00:00</td>\n",
       "      <td>PUBLIC</td>\n",
       "      <td>liza.poltavchenko00@gmail.com</td>\n",
       "      <td>MANUAL</td>\n",
       "      <td>https://w3id.org/ro-id-dev/33c5b983-c16d-41fa-...</td>\n",
       "    </tr>\n",
       "    <tr>\n",
       "      <th>3</th>\n",
       "      <td>183b2253-3c95-432a-9308-98348ebba2b7</td>\n",
       "      <td>TestRO_2</td>\n",
       "      <td>None</td>\n",
       "      <td>Basic Research Object</td>\n",
       "      <td>[Biology, Zoology]</td>\n",
       "      <td>LIVE</td>\n",
       "      <td>2022-02-27T13:27:48.501184+00:00</td>\n",
       "      <td>liza.poltavchenko00@gmail.com</td>\n",
       "      <td>2022-02-27T13:27:48.765675+00:00</td>\n",
       "      <td>PUBLIC</td>\n",
       "      <td>liza.poltavchenko00@gmail.com</td>\n",
       "      <td>MANUAL</td>\n",
       "      <td>https://w3id.org/ro-id-dev/183b2253-3c95-432a-...</td>\n",
       "    </tr>\n",
       "    <tr>\n",
       "      <th>4</th>\n",
       "      <td>3f1d6ad7-8c16-4d7c-8aa4-060672957117</td>\n",
       "      <td>TestRO</td>\n",
       "      <td>None</td>\n",
       "      <td>Basic Research Object</td>\n",
       "      <td>[Acoustics, Aerodynamics, Agronomy]</td>\n",
       "      <td>LIVE</td>\n",
       "      <td>2022-02-27T13:22:23.670270+00:00</td>\n",
       "      <td>liza.poltavchenko00@gmail.com</td>\n",
       "      <td>2022-02-27T13:22:23.976822+00:00</td>\n",
       "      <td>PUBLIC</td>\n",
       "      <td>liza.poltavchenko00@gmail.com</td>\n",
       "      <td>MANUAL</td>\n",
       "      <td>https://w3id.org/ro-id-dev/3f1d6ad7-8c16-4d7c-...</td>\n",
       "    </tr>\n",
       "    <tr>\n",
       "      <th>5</th>\n",
       "      <td>f11dbb43-278a-4332-876e-f454d9fe71d6</td>\n",
       "      <td>The influence of eating habits on sleep</td>\n",
       "      <td>Description</td>\n",
       "      <td>Basic Research Object</td>\n",
       "      <td>[Medical science]</td>\n",
       "      <td>LIVE</td>\n",
       "      <td>2022-02-27T13:16:00.158198+00:00</td>\n",
       "      <td>liza.poltavchenko00@gmail.com</td>\n",
       "      <td>2022-02-28T15:18:45.166213+00:00</td>\n",
       "      <td>PUBLIC</td>\n",
       "      <td>liza.poltavchenko00@gmail.com</td>\n",
       "      <td>MANUAL</td>\n",
       "      <td>https://w3id.org/ro-id-dev/f11dbb43-278a-4332-...</td>\n",
       "    </tr>\n",
       "  </tbody>\n",
       "</table>\n",
       "</div>"
      ],
      "text/plain": [
       "                             identifier  \\\n",
       "0  43833c23-2242-48ef-8f0a-d925c0e1d3e9   \n",
       "1  94b3cb95-9434-4028-be78-c383e0a27a74   \n",
       "2  33c5b983-c16d-41fa-b957-740cc84f0f1f   \n",
       "3  183b2253-3c95-432a-9308-98348ebba2b7   \n",
       "4  3f1d6ad7-8c16-4d7c-8aa4-060672957117   \n",
       "5  f11dbb43-278a-4332-876e-f454d9fe71d6   \n",
       "\n",
       "                                     title  description  \\\n",
       "0                           Shark research         None   \n",
       "1                           Shark research         None   \n",
       "2                           Shark research         None   \n",
       "3                                 TestRO_2         None   \n",
       "4                                   TestRO         None   \n",
       "5  The influence of eating habits on sleep  Description   \n",
       "\n",
       "                                   type                       research_areas  \\\n",
       "0  Bibliography-centric Research Object                   [Biology, Zoology]   \n",
       "1       Process-centric Research Object                   [Biology, Zoology]   \n",
       "2                 Basic Research Object                   [Biology, Zoology]   \n",
       "3                 Basic Research Object                   [Biology, Zoology]   \n",
       "4                 Basic Research Object  [Acoustics, Aerodynamics, Agronomy]   \n",
       "5                 Basic Research Object                    [Medical science]   \n",
       "\n",
       "  status                        created_on                     created_by  \\\n",
       "0   LIVE  2022-02-27T13:32:54.305241+00:00  liza.poltavchenko00@gmail.com   \n",
       "1   LIVE  2022-02-27T13:32:42.545444+00:00  liza.poltavchenko00@gmail.com   \n",
       "2   LIVE  2022-02-27T13:32:29.198896+00:00  liza.poltavchenko00@gmail.com   \n",
       "3   LIVE  2022-02-27T13:27:48.501184+00:00  liza.poltavchenko00@gmail.com   \n",
       "4   LIVE  2022-02-27T13:22:23.670270+00:00  liza.poltavchenko00@gmail.com   \n",
       "5   LIVE  2022-02-27T13:16:00.158198+00:00  liza.poltavchenko00@gmail.com   \n",
       "\n",
       "                        modified_on access_mode  \\\n",
       "0  2022-02-27T13:51:10.797175+00:00      PUBLIC   \n",
       "1  2022-02-27T13:47:43.767596+00:00      PUBLIC   \n",
       "2  2022-02-27T13:44:22.992581+00:00      PUBLIC   \n",
       "3  2022-02-27T13:27:48.765675+00:00      PUBLIC   \n",
       "4  2022-02-27T13:22:23.976822+00:00      PUBLIC   \n",
       "5  2022-02-28T15:18:45.166213+00:00      PUBLIC   \n",
       "\n",
       "                           owner creation_mode  \\\n",
       "0  liza.poltavchenko00@gmail.com        MANUAL   \n",
       "1  liza.poltavchenko00@gmail.com        MANUAL   \n",
       "2  liza.poltavchenko00@gmail.com        MANUAL   \n",
       "3  liza.poltavchenko00@gmail.com        MANUAL   \n",
       "4  liza.poltavchenko00@gmail.com        MANUAL   \n",
       "5  liza.poltavchenko00@gmail.com        MANUAL   \n",
       "\n",
       "                                         shared_link  \n",
       "0  https://w3id.org/ro-id-dev/43833c23-2242-48ef-...  \n",
       "1  https://w3id.org/ro-id-dev/94b3cb95-9434-4028-...  \n",
       "2  https://w3id.org/ro-id-dev/33c5b983-c16d-41fa-...  \n",
       "3  https://w3id.org/ro-id-dev/183b2253-3c95-432a-...  \n",
       "4  https://w3id.org/ro-id-dev/3f1d6ad7-8c16-4d7c-...  \n",
       "5  https://w3id.org/ro-id-dev/f11dbb43-278a-4332-...  "
      ]
     },
     "execution_count": 2,
     "metadata": {},
     "output_type": "execute_result"
    }
   ],
   "source": [
    "my_ros = rohub.list_my_ros()\n",
    "my_ros"
   ]
  },
  {
   "cell_type": "code",
   "execution_count": 3,
   "id": "db475a49",
   "metadata": {},
   "outputs": [
    {
     "name": "stdout",
     "output_type": "stream",
     "text": [
      "Research Object was successfully loaded with id = 43833c23-2242-48ef-8f0a-d925c0e1d3e9\n"
     ]
    }
   ],
   "source": [
    "# using Panda's syntax to pick a specific row, column.\n",
    "ro_id = my_ros.loc[0, \"identifier\"]\n",
    "ro = rohub.ros_load(identifier = ro_id)"
   ]
  },
  {
   "cell_type": "code",
   "execution_count": 4,
   "id": "e9748081",
   "metadata": {},
   "outputs": [
    {
     "data": {
      "text/plain": [
       "{'identifier': '43833c23-2242-48ef-8f0a-d925c0e1d3e9',\n",
       " 'shared_link': 'https://w3id.org/ro-id-dev/43833c23-2242-48ef-8f0a-d925c0e1d3e9',\n",
       " 'title': 'Shark research',\n",
       " 'description': None,\n",
       " 'status': 'LIVE',\n",
       " 'access_mode': 'PUBLIC',\n",
       " 'type': 'Bibliography-centric Research Object',\n",
       " 'template': 'Bibliography Centric Research Object folders structure',\n",
       " 'created': '2022-02-27T13:32:54.305241Z',\n",
       " 'creator': 'liza.poltavchenko00@gmail.com',\n",
       " 'modificator': 'service-account-enrichment',\n",
       " 'modified': '2022-02-27T13:51:10.971472Z',\n",
       " 'importer': None,\n",
       " 'research_areas': ['Biology', 'Zoology'],\n",
       " 'owner': 'liza.poltavchenko00@gmail.com',\n",
       " 'editors': [],\n",
       " 'readers': [],\n",
       " 'rating': '0.00',\n",
       " 'number_of_ratings': 0,\n",
       " 'number_of_likes': 0,\n",
       " 'number_of_dislikes': 0,\n",
       " 'quality': 0,\n",
       " 'size': 2882,\n",
       " 'creation_mode': 'MANUAL',\n",
       " 'doi': None,\n",
       " 'api_link': 'https://rohub2020-rohub.apps.paas-dev.psnc.pl/api/ros/43833c23-2242-48ef-8f0a-d925c0e1d3e9/'}"
      ]
     },
     "execution_count": 4,
     "metadata": {},
     "output_type": "execute_result"
    }
   ],
   "source": [
    "ro.show_metadata()"
   ]
  },
  {
   "cell_type": "markdown",
   "id": "2fa76d98",
   "metadata": {},
   "source": [
    "There is no description associated with this research object when displaying metadata. We can aim at adding one.\n",
    "\n",
    "To confirm, we can access the description attribute directly."
   ]
  },
  {
   "cell_type": "code",
   "execution_count": 5,
   "id": "1a16f299",
   "metadata": {},
   "outputs": [
    {
     "name": "stdout",
     "output_type": "stream",
     "text": [
      "None\n"
     ]
    }
   ],
   "source": [
    "print(ro.description)"
   ]
  },
  {
   "cell_type": "markdown",
   "id": "1121191e",
   "metadata": {},
   "source": [
    " As expected, there is no description value."
   ]
  },
  {
   "cell_type": "markdown",
   "id": "9023a046",
   "metadata": {},
   "source": [
    "Now let's set a new value for the description."
   ]
  },
  {
   "cell_type": "code",
   "execution_count": 6,
   "id": "cdd5846c",
   "metadata": {},
   "outputs": [],
   "source": [
    "new_description = \"Similarities and differences in the life cycle of different sharks.\"\n",
    "ro.description = new_description"
   ]
  },
  {
   "cell_type": "markdown",
   "id": "127166b2",
   "metadata": {},
   "source": [
    "We have provided a new description for our `ro` object, however, if we take a look in the service, or through the API we can see that the changes we made locally didn't appear there!"
   ]
  },
  {
   "cell_type": "code",
   "execution_count": 7,
   "id": "786472e2",
   "metadata": {},
   "outputs": [
    {
     "data": {
      "text/plain": [
       "'Similarities and differences in the life cycle of different sharks.'"
      ]
     },
     "execution_count": 7,
     "metadata": {},
     "output_type": "execute_result"
    }
   ],
   "source": [
    "ro.description"
   ]
  },
  {
   "cell_type": "markdown",
   "id": "9dbcc31f",
   "metadata": {},
   "source": [
    "![desc_before_update](./screens/description_before_update.png)\n",
    "\n",
    "By design, changes we make locally have to be explicitly updated to appear in the API/Portal. That way, the user can play with an object locally and apply multiple changes without consequences.\n",
    "\n",
    "Updating your local object so that it becomes aligned with service data and visible in the API or Portal is simple with the `update()` function. It doesn't require any additional parameters."
   ]
  },
  {
   "cell_type": "code",
   "execution_count": 8,
   "id": "513d0ea2",
   "metadata": {},
   "outputs": [
    {
     "data": {
      "text/plain": [
       "{'identifier': '43833c23-2242-48ef-8f0a-d925c0e1d3e9',\n",
       " 'shared_link': 'https://w3id.org/ro-id-dev/43833c23-2242-48ef-8f0a-d925c0e1d3e9',\n",
       " 'title': 'Shark research',\n",
       " 'description': 'Similarities and differences in the life cycle of different sharks.',\n",
       " 'status': 'LIVE',\n",
       " 'access_mode': 'PUBLIC',\n",
       " 'type': 'Bibliography-centric Research Object',\n",
       " 'template': 'Bibliography Centric Research Object folders structure',\n",
       " 'created': '2022-02-27T13:32:54.305241Z',\n",
       " 'creator': 'liza.poltavchenko00@gmail.com',\n",
       " 'modificator': 'liza.poltavchenko00@gmail.com',\n",
       " 'modified': '2022-02-28T15:51:41.472933Z',\n",
       " 'importer': None,\n",
       " 'research_areas': ['Biology', 'Zoology'],\n",
       " 'owner': 'liza.poltavchenko00@gmail.com',\n",
       " 'editors': [],\n",
       " 'readers': [],\n",
       " 'rating': '0.00',\n",
       " 'number_of_ratings': 0,\n",
       " 'number_of_likes': 0,\n",
       " 'number_of_dislikes': 0,\n",
       " 'quality': 0,\n",
       " 'size': 2882,\n",
       " 'creation_mode': 'MANUAL',\n",
       " 'doi': None,\n",
       " 'api_link': 'https://rohub2020-rohub.apps.paas-dev.psnc.pl/api/ros/43833c23-2242-48ef-8f0a-d925c0e1d3e9/'}"
      ]
     },
     "execution_count": 8,
     "metadata": {},
     "output_type": "execute_result"
    }
   ],
   "source": [
    "ro.update()"
   ]
  },
  {
   "cell_type": "markdown",
   "id": "515e6e30",
   "metadata": {},
   "source": [
    "Now, we can see that changes are published in the portal.\n",
    "![des_after_update](./screens/description_after_update.png)"
   ]
  },
  {
   "cell_type": "markdown",
   "id": "1b0134e7",
   "metadata": {},
   "source": [
    "### Example 2\n",
    "In this example, we will find and load a research object that belongs to someone else. To do that we can use `ros_find()` method.\n",
    "\n",
    "First, we need to load a research object from all `PUBLIC` research objects."
   ]
  },
  {
   "cell_type": "code",
   "execution_count": 6,
   "id": "2971bcde",
   "metadata": {},
   "outputs": [
    {
     "name": "stdout",
     "output_type": "stream",
     "text": [
      "Research Object was successfully loaded with id = 222fa7a9-d2c4-45db-8191-ca724584c18d\n"
     ]
    }
   ],
   "source": [
    "all_ros = rohub.ros_find()\n",
    "bjaniak_ros = all_ros[all_ros.owner == 'bjaniak@man.poznan.pl']\n",
    "ro2_id = bjaniak_ros.loc[96, 'identifier']\n",
    "ro2 = rohub.ros_load(identifier = ro2_id)"
   ]
  },
  {
   "cell_type": "code",
   "execution_count": 7,
   "id": "84e9399d",
   "metadata": {},
   "outputs": [
    {
     "data": {
      "text/plain": [
       "{'identifier': '222fa7a9-d2c4-45db-8191-ca724584c18d',\n",
       " 'shared_link': 'https://w3id.org/ro-id-dev/222fa7a9-d2c4-45db-8191-ca724584c18d',\n",
       " 'title': 'bogusz_testing',\n",
       " 'description': None,\n",
       " 'status': 'LIVE',\n",
       " 'access_mode': 'PUBLIC',\n",
       " 'type': 'Bibliography-centric Research Object',\n",
       " 'template': 'Bibliography Centric Research Object folders structure',\n",
       " 'created': '2022-01-18T20:09:17.323895Z',\n",
       " 'creator': 'bjaniak@man.poznan.pl',\n",
       " 'modificator': 'bjaniak@man.poznan.pl',\n",
       " 'modified': '2022-02-13T20:52:03.474568Z',\n",
       " 'importer': None,\n",
       " 'research_areas': ['Acoustics', 'Aerodynamics', 'Agronomy', 'Soil science'],\n",
       " 'owner': 'bjaniak@man.poznan.pl',\n",
       " 'editors': [],\n",
       " 'readers': [],\n",
       " 'rating': '0.00',\n",
       " 'number_of_ratings': 0,\n",
       " 'number_of_likes': 0,\n",
       " 'number_of_dislikes': 0,\n",
       " 'quality': 43,\n",
       " 'size': 2466,\n",
       " 'creation_mode': 'MANUAL',\n",
       " 'doi': None,\n",
       " 'api_link': 'https://rohub2020-rohub.apps.paas-dev.psnc.pl/api/ros/222fa7a9-d2c4-45db-8191-ca724584c18d/'}"
      ]
     },
     "execution_count": 7,
     "metadata": {},
     "output_type": "execute_result"
    }
   ],
   "source": [
    "ro2.show_metadata()"
   ]
  },
  {
   "cell_type": "markdown",
   "id": "b2968c8b",
   "metadata": {},
   "source": [
    "We can see that the selected research object has no description."
   ]
  },
  {
   "cell_type": "code",
   "execution_count": 9,
   "id": "fe03ed63",
   "metadata": {},
   "outputs": [
    {
     "name": "stdout",
     "output_type": "stream",
     "text": [
      "None\n"
     ]
    }
   ],
   "source": [
    "print(ro2.description)"
   ]
  },
  {
   "cell_type": "markdown",
   "id": "18fc2cf9",
   "metadata": {},
   "source": [
    "Let's try to set a new value for the description."
   ]
  },
  {
   "cell_type": "code",
   "execution_count": 11,
   "id": "c17a7719",
   "metadata": {},
   "outputs": [
    {
     "data": {
      "text/plain": [
       "'A new description for the testing object.'"
      ]
     },
     "execution_count": 11,
     "metadata": {},
     "output_type": "execute_result"
    }
   ],
   "source": [
    "ro2.description = 'A new description for the testing object.'\n",
    "ro2.description"
   ]
  },
  {
   "cell_type": "markdown",
   "id": "a688273a",
   "metadata": {},
   "source": [
    "As we learned through the first example, locally changing the object doesn't mean that changes are posted in the service!"
   ]
  },
  {
   "cell_type": "code",
   "execution_count": 12,
   "id": "ce44c3b2",
   "metadata": {},
   "outputs": [
    {
     "data": {
      "text/html": [
       "<div>\n",
       "<style scoped>\n",
       "    .dataframe tbody tr th:only-of-type {\n",
       "        vertical-align: middle;\n",
       "    }\n",
       "\n",
       "    .dataframe tbody tr th {\n",
       "        vertical-align: top;\n",
       "    }\n",
       "\n",
       "    .dataframe thead th {\n",
       "        text-align: right;\n",
       "    }\n",
       "</style>\n",
       "<table border=\"1\" class=\"dataframe\">\n",
       "  <thead>\n",
       "    <tr style=\"text-align: right;\">\n",
       "      <th></th>\n",
       "      <th>identifier</th>\n",
       "      <th>title</th>\n",
       "      <th>description</th>\n",
       "      <th>type</th>\n",
       "      <th>research_areas</th>\n",
       "      <th>status</th>\n",
       "      <th>created_on</th>\n",
       "      <th>created_by</th>\n",
       "      <th>modified_on</th>\n",
       "      <th>access_mode</th>\n",
       "      <th>owner</th>\n",
       "      <th>creation_mode</th>\n",
       "      <th>shared_link</th>\n",
       "    </tr>\n",
       "  </thead>\n",
       "  <tbody>\n",
       "    <tr>\n",
       "      <th>96</th>\n",
       "      <td>222fa7a9-d2c4-45db-8191-ca724584c18d</td>\n",
       "      <td>bogusz_testing</td>\n",
       "      <td>None</td>\n",
       "      <td>Bibliography-centric Research Object</td>\n",
       "      <td>[Acoustics, Aerodynamics, Agronomy, Soil science]</td>\n",
       "      <td>LIVE</td>\n",
       "      <td>2022-01-18T20:09:17.323895+00:00</td>\n",
       "      <td>bjaniak@man.poznan.pl</td>\n",
       "      <td>2022-01-18T20:09:17.660487+00:00</td>\n",
       "      <td>PUBLIC</td>\n",
       "      <td>bjaniak@man.poznan.pl</td>\n",
       "      <td>MANUAL</td>\n",
       "      <td>https://w3id.org/ro-id-dev/222fa7a9-d2c4-45db-...</td>\n",
       "    </tr>\n",
       "  </tbody>\n",
       "</table>\n",
       "</div>"
      ],
      "text/plain": [
       "                              identifier           title description  \\\n",
       "96  222fa7a9-d2c4-45db-8191-ca724584c18d  bogusz_testing        None   \n",
       "\n",
       "                                    type  \\\n",
       "96  Bibliography-centric Research Object   \n",
       "\n",
       "                                       research_areas status  \\\n",
       "96  [Acoustics, Aerodynamics, Agronomy, Soil science]   LIVE   \n",
       "\n",
       "                          created_on             created_by  \\\n",
       "96  2022-01-18T20:09:17.323895+00:00  bjaniak@man.poznan.pl   \n",
       "\n",
       "                         modified_on access_mode                  owner  \\\n",
       "96  2022-01-18T20:09:17.660487+00:00      PUBLIC  bjaniak@man.poznan.pl   \n",
       "\n",
       "   creation_mode                                        shared_link  \n",
       "96        MANUAL  https://w3id.org/ro-id-dev/222fa7a9-d2c4-45db-...  "
      ]
     },
     "execution_count": 12,
     "metadata": {},
     "output_type": "execute_result"
    }
   ],
   "source": [
    "all_ros2 = rohub.ros_find()\n",
    "all_ros2[all_ros2.identifier == ro2.identifier]"
   ]
  },
  {
   "cell_type": "markdown",
   "id": "a4ca39eb",
   "metadata": {},
   "source": [
    "Now, let's use the `update` method."
   ]
  },
  {
   "cell_type": "code",
   "execution_count": null,
   "id": "f2d72957",
   "metadata": {},
   "outputs": [],
   "source": [
    "ro2.update()"
   ]
  },
  {
   "cell_type": "markdown",
   "id": "3839f177",
   "metadata": {},
   "source": [
    "An error has occurred: `SystemExit: {\"detail\":\"You do not have permission to perform this action.\"}`.\n",
    "\n",
    "The message is self-explanatory. We do not possess permission to modify this research object. Therefore we can play with it locally, but we can't publish changes until permissions were granted."
   ]
  },
  {
   "cell_type": "markdown",
   "id": "13c467c1",
   "metadata": {},
   "source": [
    "We can check the editors attribute of research object in order to check which users have permission to modify this object."
   ]
  },
  {
   "cell_type": "code",
   "execution_count": 14,
   "id": "bcd919eb",
   "metadata": {},
   "outputs": [
    {
     "name": "stdout",
     "output_type": "stream",
     "text": [
      "None\n"
     ]
    }
   ],
   "source": [
    "print(ro2.editors)"
   ]
  },
  {
   "cell_type": "markdown",
   "id": "6d7718e3",
   "metadata": {},
   "source": [
    "This research object has no users who can edit it."
   ]
  },
  {
   "cell_type": "markdown",
   "id": "69e6fd9e",
   "metadata": {},
   "source": [
    "### Adding editors to the Research Object\n",
    "\n",
    "Let's try to use our research object that was assigned to the `ro` variable and add users who can edit it.\n",
    "\n",
    "First, we can check who is the owner of our selected object and whether the research object has any editors."
   ]
  },
  {
   "cell_type": "code",
   "execution_count": 15,
   "id": "5fa07aff",
   "metadata": {},
   "outputs": [
    {
     "data": {
      "text/plain": [
       "'liza.poltavchenko00@gmail.com'"
      ]
     },
     "execution_count": 15,
     "metadata": {},
     "output_type": "execute_result"
    }
   ],
   "source": [
    "ro.owner"
   ]
  },
  {
   "cell_type": "code",
   "execution_count": 9,
   "id": "5972d7f5",
   "metadata": {},
   "outputs": [
    {
     "name": "stdout",
     "output_type": "stream",
     "text": [
      "None\n"
     ]
    }
   ],
   "source": [
    "print(ro.editors)"
   ]
  },
  {
   "cell_type": "code",
   "execution_count": 10,
   "id": "4a9ef6ae",
   "metadata": {},
   "outputs": [],
   "source": [
    "ro.editors = ['bjaniak@man.poznan.pl']"
   ]
  },
  {
   "cell_type": "markdown",
   "id": "812954f5",
   "metadata": {},
   "source": [
    "Now we have to update our research object."
   ]
  },
  {
   "cell_type": "code",
   "execution_count": 11,
   "id": "c4f50935",
   "metadata": {},
   "outputs": [
    {
     "data": {
      "text/plain": [
       "{'identifier': '43833c23-2242-48ef-8f0a-d925c0e1d3e9',\n",
       " 'shared_link': 'https://w3id.org/ro-id-dev/43833c23-2242-48ef-8f0a-d925c0e1d3e9',\n",
       " 'title': 'Shark research',\n",
       " 'description': 'Similarities and differences in the life cycle of different sharks.',\n",
       " 'status': 'LIVE',\n",
       " 'access_mode': 'PUBLIC',\n",
       " 'type': 'Bibliography-centric Research Object',\n",
       " 'template': 'Bibliography Centric Research Object folders structure',\n",
       " 'created': '2022-02-27T13:32:54.305241Z',\n",
       " 'creator': 'liza.poltavchenko00@gmail.com',\n",
       " 'modificator': 'liza.poltavchenko00@gmail.com',\n",
       " 'modified': '2022-02-28T15:54:05.072136Z',\n",
       " 'importer': None,\n",
       " 'research_areas': ['Biology', 'Zoology'],\n",
       " 'owner': 'liza.poltavchenko00@gmail.com',\n",
       " 'editors': ['bjaniak@man.poznan.pl'],\n",
       " 'readers': [],\n",
       " 'rating': '0.00',\n",
       " 'number_of_ratings': 0,\n",
       " 'number_of_likes': 0,\n",
       " 'number_of_dislikes': 0,\n",
       " 'quality': 0,\n",
       " 'size': 3204,\n",
       " 'creation_mode': 'MANUAL',\n",
       " 'doi': None,\n",
       " 'api_link': 'https://rohub2020-rohub.apps.paas-dev.psnc.pl/api/ros/43833c23-2242-48ef-8f0a-d925c0e1d3e9/'}"
      ]
     },
     "execution_count": 11,
     "metadata": {},
     "output_type": "execute_result"
    }
   ],
   "source": [
    "ro.update()"
   ]
  },
  {
   "cell_type": "code",
   "execution_count": 24,
   "id": "1c9ad733",
   "metadata": {},
   "outputs": [
    {
     "data": {
      "text/plain": [
       "['bjaniak@man.poznan.pl']"
      ]
     },
     "execution_count": 24,
     "metadata": {},
     "output_type": "execute_result"
    }
   ],
   "source": [
    "ro.editors"
   ]
  },
  {
   "cell_type": "markdown",
   "id": "b9f47dff-9fd6-4e91-b4ed-7e1dcf4b4fcf",
   "metadata": {},
   "source": [
    "### Adding/removing keywords\n",
    "\n",
    "Keywords can be easily added or removed from the research object using object-level functions presented below."
   ]
  },
  {
   "cell_type": "markdown",
   "id": "e3f08775-992b-4d43-821d-638c35fa0736",
   "metadata": {},
   "source": [
    "First, let's see if our research object of choice already has any associated keywords."
   ]
  },
  {
   "cell_type": "code",
   "execution_count": 7,
   "id": "29c08b65-89bd-4b10-88eb-67e4e368e0c5",
   "metadata": {},
   "outputs": [
    {
     "data": {
      "text/plain": [
       "[]"
      ]
     },
     "execution_count": 7,
     "metadata": {},
     "output_type": "execute_result"
    }
   ],
   "source": [
    "ro.list_keywords()"
   ]
  },
  {
   "cell_type": "markdown",
   "id": "4119d291-5f9e-4f75-b252-e1713a3799b5",
   "metadata": {},
   "source": [
    "We received an empty list which means no keywords associated with our research object. Now, let's add a few."
   ]
  },
  {
   "cell_type": "code",
   "execution_count": 8,
   "id": "7e590e65-c99c-454b-b7be-192b1da50ee8",
   "metadata": {},
   "outputs": [
    {
     "data": {
      "text/plain": [
       "{'identifier': '6fddfe82-5acf-4142-8c23-b318ff182eb8',\n",
       " 'ro': 'e9a312dd-9625-470f-b9c1-443a79d9ba9e',\n",
       " 'keywords': ['jupyter-notebook', 'python', 'rohub', 'tutorial']}"
      ]
     },
     "execution_count": 8,
     "metadata": {},
     "output_type": "execute_result"
    }
   ],
   "source": [
    "ro.add_keywords(keywords=[\"tutorial\", \"python\", \"rohub\", \"jupyter-notebook\"])"
   ]
  },
  {
   "cell_type": "markdown",
   "id": "b1944453-f0cb-43a0-bd19-46dcd00700bb",
   "metadata": {},
   "source": [
    "Keywords are automatically updated in the API, therefore we can see them visible in the portal.\n",
    "![keywords](./screens/keywords.png)"
   ]
  },
  {
   "cell_type": "markdown",
   "id": "645b9ce4-9672-4e15-8384-f458daa741e1",
   "metadata": {},
   "source": [
    "At this point, we can decide to add more keywords by using the *add_keywords* function again or replace the existing set of keywords with a completely new one. Let's explore both."
   ]
  },
  {
   "cell_type": "code",
   "execution_count": 9,
   "id": "6a702ac1-b4e0-4e4d-80e6-dc7fb32b399f",
   "metadata": {},
   "outputs": [
    {
     "data": {
      "text/plain": [
       "{'identifier': '6fddfe82-5acf-4142-8c23-b318ff182eb8',\n",
       " 'ro': 'e9a312dd-9625-470f-b9c1-443a79d9ba9e',\n",
       " 'keywords': ['glosis',\n",
       "  'jupyter-notebook',\n",
       "  'python',\n",
       "  'research',\n",
       "  'rohub',\n",
       "  'soil-science',\n",
       "  'tutorial']}"
      ]
     },
     "execution_count": 9,
     "metadata": {},
     "output_type": "execute_result"
    }
   ],
   "source": [
    "ro.add_keywords(keywords=[\"research\", \"soil-science\", \"glosis\"])"
   ]
  },
  {
   "cell_type": "markdown",
   "id": "c686e87d-0176-4458-abf0-864a9a67abb6",
   "metadata": {},
   "source": [
    "As expected, new keywords were added to the existing one. However, if we decide to replace them the output will display only a new set of keywords while existing keywords will be wiped out. "
   ]
  },
  {
   "cell_type": "code",
   "execution_count": 10,
   "id": "ddf9cf01-41b7-4b10-8ee6-71c50d285d50",
   "metadata": {},
   "outputs": [
    {
     "data": {
      "text/plain": [
       "{'identifier': '0692218b-d0e5-4d0c-bf1c-2b6adaa2a371',\n",
       " 'ro': 'e9a312dd-9625-470f-b9c1-443a79d9ba9e',\n",
       " 'keywords': ['classification', 'gpu', 'machine-learning', 'xgboost']}"
      ]
     },
     "execution_count": 10,
     "metadata": {},
     "output_type": "execute_result"
    }
   ],
   "source": [
    "ro.set_keywords(keywords=[\"machine-learning\", \"gpu\", \"xgboost\", \"classification\"])"
   ]
  },
  {
   "cell_type": "markdown",
   "id": "2430070b-aa9f-4f75-9d39-2ab945920d86",
   "metadata": {},
   "source": [
    "Finally, deleting existing keywords and leaving the research object keyword-less is straightforward."
   ]
  },
  {
   "cell_type": "code",
   "execution_count": 11,
   "id": "5b1be81c-0e1e-4e58-82b3-3c64f1064ad0",
   "metadata": {},
   "outputs": [
    {
     "name": "stdout",
     "output_type": "stream",
     "text": [
      "Keywords successfully deleted!\n"
     ]
    }
   ],
   "source": [
    "ro.delete_keywords()"
   ]
  },
  {
   "cell_type": "markdown",
   "id": "4e10bf7f",
   "metadata": {},
   "source": [
    "## Research Object Evolution\n",
    "### Fork\n",
    "Imagine a situation where we would like to modify a research object, but we do not have appropriate permissions. Evolution methods are a great way to solve this issue. Let's introduce them.\n",
    "\n",
    "The `fork()` method is used to copy the object for modification and reusability purposes without affecting the original one. It is an analogous concept to the fork in git.\n",
    "\n",
    "The fork method has two optional parameters: title and description."
   ]
  },
  {
   "cell_type": "code",
   "execution_count": 15,
   "id": "64e34136",
   "metadata": {},
   "outputs": [],
   "source": [
    "fork_title = \"(Forked) the testing object\"\n",
    "fork_description = \"The testing research object belonging to bjaniak\""
   ]
  },
  {
   "cell_type": "code",
   "execution_count": 17,
   "id": "4168b38b",
   "metadata": {},
   "outputs": [
    {
     "name": "stdout",
     "output_type": "stream",
     "text": [
      "Trying to confirm status of the job. It can take a while...\n"
     ]
    },
    {
     "data": {
      "text/plain": [
       "'2a1be483-00df-469e-b3c6-7cf13bfb3420'"
      ]
     },
     "execution_count": 17,
     "metadata": {},
     "output_type": "execute_result"
    }
   ],
   "source": [
    "forked_ro_id = ro2.fork(title = fork_title, description = fork_description)\n",
    "forked_ro_id"
   ]
  },
  {
   "cell_type": "markdown",
   "id": "8a829de8",
   "metadata": {},
   "source": [
    "Now we can check the list of our research objects and find our forked object. The status of it is `FORK`."
   ]
  },
  {
   "cell_type": "code",
   "execution_count": 31,
   "id": "80b06a92",
   "metadata": {},
   "outputs": [
    {
     "data": {
      "text/html": [
       "<div>\n",
       "<style scoped>\n",
       "    .dataframe tbody tr th:only-of-type {\n",
       "        vertical-align: middle;\n",
       "    }\n",
       "\n",
       "    .dataframe tbody tr th {\n",
       "        vertical-align: top;\n",
       "    }\n",
       "\n",
       "    .dataframe thead th {\n",
       "        text-align: right;\n",
       "    }\n",
       "</style>\n",
       "<table border=\"1\" class=\"dataframe\">\n",
       "  <thead>\n",
       "    <tr style=\"text-align: right;\">\n",
       "      <th></th>\n",
       "      <th>identifier</th>\n",
       "      <th>title</th>\n",
       "      <th>description</th>\n",
       "      <th>type</th>\n",
       "      <th>research_areas</th>\n",
       "      <th>status</th>\n",
       "      <th>created_on</th>\n",
       "      <th>created_by</th>\n",
       "      <th>modified_on</th>\n",
       "      <th>access_mode</th>\n",
       "      <th>owner</th>\n",
       "      <th>creation_mode</th>\n",
       "      <th>shared_link</th>\n",
       "    </tr>\n",
       "  </thead>\n",
       "  <tbody>\n",
       "    <tr>\n",
       "      <th>1</th>\n",
       "      <td>2a1be483-00df-469e-b3c6-7cf13bfb3420</td>\n",
       "      <td>(Forked) the testing object</td>\n",
       "      <td>The testing research object belonging to bjaniak</td>\n",
       "      <td>Bibliography-centric Research Object</td>\n",
       "      <td>[Acoustics, Aerodynamics, Agronomy, Soil science]</td>\n",
       "      <td>FORK</td>\n",
       "      <td>2022-03-01T15:32:48.998434+00:00</td>\n",
       "      <td>bjaniak@man.poznan.pl</td>\n",
       "      <td>2022-03-01T15:32:50.287109+00:00</td>\n",
       "      <td>PUBLIC</td>\n",
       "      <td>liza.poltavchenko00@gmail.com</td>\n",
       "      <td>MANUAL</td>\n",
       "      <td>https://w3id.org/ro-id-dev/2a1be483-00df-469e-...</td>\n",
       "    </tr>\n",
       "  </tbody>\n",
       "</table>\n",
       "</div>"
      ],
      "text/plain": [
       "                             identifier                        title  \\\n",
       "1  2a1be483-00df-469e-b3c6-7cf13bfb3420  (Forked) the testing object   \n",
       "\n",
       "                                        description  \\\n",
       "1  The testing research object belonging to bjaniak   \n",
       "\n",
       "                                   type  \\\n",
       "1  Bibliography-centric Research Object   \n",
       "\n",
       "                                      research_areas status  \\\n",
       "1  [Acoustics, Aerodynamics, Agronomy, Soil science]   FORK   \n",
       "\n",
       "                         created_on             created_by  \\\n",
       "1  2022-03-01T15:32:48.998434+00:00  bjaniak@man.poznan.pl   \n",
       "\n",
       "                        modified_on access_mode  \\\n",
       "1  2022-03-01T15:32:50.287109+00:00      PUBLIC   \n",
       "\n",
       "                           owner creation_mode  \\\n",
       "1  liza.poltavchenko00@gmail.com        MANUAL   \n",
       "\n",
       "                                         shared_link  \n",
       "1  https://w3id.org/ro-id-dev/2a1be483-00df-469e-...  "
      ]
     },
     "execution_count": 31,
     "metadata": {},
     "output_type": "execute_result"
    }
   ],
   "source": [
    "my_ros = rohub.list_my_ros()\n",
    "my_ros[my_ros.identifier == forked_ro_id]"
   ]
  },
  {
   "cell_type": "markdown",
   "id": "28ea92f1",
   "metadata": {},
   "source": [
    "By checking our forked object on the rohub portal, we can see the name of the creator of the original research object, and we also have access to all the resources associated with this object.\n",
    "![forked_object](./screens/forked_object.png)\n",
    "![forked_object_1](./screens/forked_object_author.png)"
   ]
  },
  {
   "cell_type": "markdown",
   "id": "548895df",
   "metadata": {},
   "source": [
    "Now, if we load this object, we can freely modify it."
   ]
  },
  {
   "cell_type": "markdown",
   "id": "0b6d0968",
   "metadata": {},
   "source": [
    "### Snapshot\n",
    "After creation, the research object has the state `LIVE`. Snapshots are immutable and reflect the state of the research object at a certain time. It can be handy if one would like to record past activity or do versioning.\n",
    "\n",
    "To create a simple snapshot, use the `.snapshot` method which creates a copy of the research object and returns the id of it.\n",
    "\n",
    "First, let's load an object from our list."
   ]
  },
  {
   "cell_type": "code",
   "execution_count": 28,
   "id": "129e14c6",
   "metadata": {},
   "outputs": [
    {
     "name": "stdout",
     "output_type": "stream",
     "text": [
      "Research Object was successfully loaded with id = 3f1d6ad7-8c16-4d7c-8aa4-060672957117\n"
     ]
    },
    {
     "data": {
      "text/plain": [
       "{'identifier': '3f1d6ad7-8c16-4d7c-8aa4-060672957117',\n",
       " 'shared_link': 'https://w3id.org/ro-id-dev/3f1d6ad7-8c16-4d7c-8aa4-060672957117',\n",
       " 'title': 'TestRO',\n",
       " 'description': None,\n",
       " 'status': 'LIVE',\n",
       " 'access_mode': 'PUBLIC',\n",
       " 'type': 'Basic Research Object',\n",
       " 'template': None,\n",
       " 'created': '2022-02-27T13:22:23.670270Z',\n",
       " 'creator': 'liza.poltavchenko00@gmail.com',\n",
       " 'modificator': 'liza.poltavchenko00@gmail.com',\n",
       " 'modified': '2022-02-27T13:22:23.767744Z',\n",
       " 'importer': None,\n",
       " 'research_areas': ['Acoustics', 'Aerodynamics', 'Agronomy'],\n",
       " 'owner': 'liza.poltavchenko00@gmail.com',\n",
       " 'editors': [],\n",
       " 'readers': [],\n",
       " 'rating': '0.00',\n",
       " 'number_of_ratings': 0,\n",
       " 'number_of_likes': 0,\n",
       " 'number_of_dislikes': 0,\n",
       " 'quality': 0,\n",
       " 'size': 1752,\n",
       " 'creation_mode': 'MANUAL',\n",
       " 'doi': None,\n",
       " 'api_link': 'https://rohub2020-rohub.apps.paas-dev.psnc.pl/api/ros/3f1d6ad7-8c16-4d7c-8aa4-060672957117/'}"
      ]
     },
     "execution_count": 28,
     "metadata": {},
     "output_type": "execute_result"
    }
   ],
   "source": [
    "my_ros = rohub.list_my_ros()\n",
    "ro_id = my_ros.loc[6, 'identifier']\n",
    "ro = rohub.ros_load(identifier = ro_id)\n",
    "ro.show_metadata()"
   ]
  },
  {
   "cell_type": "markdown",
   "id": "f384ecdb",
   "metadata": {},
   "source": [
    "Now, we can create a simple snapshot."
   ]
  },
  {
   "cell_type": "code",
   "execution_count": 29,
   "id": "84406de2",
   "metadata": {},
   "outputs": [
    {
     "name": "stdout",
     "output_type": "stream",
     "text": [
      "Trying to confirm status of the job. It can take a while...\n"
     ]
    },
    {
     "data": {
      "text/plain": [
       "'afecac37-bf87-48f8-955e-4cf465e4ded3'"
      ]
     },
     "execution_count": 29,
     "metadata": {},
     "output_type": "execute_result"
    }
   ],
   "source": [
    "snapshot_id = ro.snapshot()\n",
    "snapshot_id"
   ]
  },
  {
   "cell_type": "markdown",
   "id": "ae6d18cc",
   "metadata": {},
   "source": [
    "We can check the new copy (shapshot) that we have created in the list of our research objects. The object has status `SNAPSHOT`."
   ]
  },
  {
   "cell_type": "code",
   "execution_count": 30,
   "id": "216befb5",
   "metadata": {},
   "outputs": [
    {
     "data": {
      "text/html": [
       "<div>\n",
       "<style scoped>\n",
       "    .dataframe tbody tr th:only-of-type {\n",
       "        vertical-align: middle;\n",
       "    }\n",
       "\n",
       "    .dataframe tbody tr th {\n",
       "        vertical-align: top;\n",
       "    }\n",
       "\n",
       "    .dataframe thead th {\n",
       "        text-align: right;\n",
       "    }\n",
       "</style>\n",
       "<table border=\"1\" class=\"dataframe\">\n",
       "  <thead>\n",
       "    <tr style=\"text-align: right;\">\n",
       "      <th></th>\n",
       "      <th>identifier</th>\n",
       "      <th>title</th>\n",
       "      <th>description</th>\n",
       "      <th>type</th>\n",
       "      <th>research_areas</th>\n",
       "      <th>status</th>\n",
       "      <th>created_on</th>\n",
       "      <th>created_by</th>\n",
       "      <th>modified_on</th>\n",
       "      <th>access_mode</th>\n",
       "      <th>owner</th>\n",
       "      <th>creation_mode</th>\n",
       "      <th>shared_link</th>\n",
       "    </tr>\n",
       "  </thead>\n",
       "  <tbody>\n",
       "    <tr>\n",
       "      <th>0</th>\n",
       "      <td>afecac37-bf87-48f8-955e-4cf465e4ded3</td>\n",
       "      <td>TestRO - snapshot</td>\n",
       "      <td>None</td>\n",
       "      <td>Basic Research Object</td>\n",
       "      <td>[Acoustics, Aerodynamics, Agronomy]</td>\n",
       "      <td>SNAPSHOT</td>\n",
       "      <td>2022-03-01T15:51:49.493676+00:00</td>\n",
       "      <td>liza.poltavchenko00@gmail.com</td>\n",
       "      <td>2022-03-01T15:51:50.493731+00:00</td>\n",
       "      <td>PUBLIC</td>\n",
       "      <td>liza.poltavchenko00@gmail.com</td>\n",
       "      <td>MANUAL</td>\n",
       "      <td>https://w3id.org/ro-id-dev/afecac37-bf87-48f8-...</td>\n",
       "    </tr>\n",
       "  </tbody>\n",
       "</table>\n",
       "</div>"
      ],
      "text/plain": [
       "                             identifier              title description  \\\n",
       "0  afecac37-bf87-48f8-955e-4cf465e4ded3  TestRO - snapshot        None   \n",
       "\n",
       "                    type                       research_areas    status  \\\n",
       "0  Basic Research Object  [Acoustics, Aerodynamics, Agronomy]  SNAPSHOT   \n",
       "\n",
       "                         created_on                     created_by  \\\n",
       "0  2022-03-01T15:51:49.493676+00:00  liza.poltavchenko00@gmail.com   \n",
       "\n",
       "                        modified_on access_mode  \\\n",
       "0  2022-03-01T15:51:50.493731+00:00      PUBLIC   \n",
       "\n",
       "                           owner creation_mode  \\\n",
       "0  liza.poltavchenko00@gmail.com        MANUAL   \n",
       "\n",
       "                                         shared_link  \n",
       "0  https://w3id.org/ro-id-dev/afecac37-bf87-48f8-...  "
      ]
     },
     "execution_count": 30,
     "metadata": {},
     "output_type": "execute_result"
    }
   ],
   "source": [
    "my_ros = rohub.list_my_ros()\n",
    "my_ros[my_ros.identifier == snapshot_id]"
   ]
  },
  {
   "cell_type": "markdown",
   "id": "e7958692",
   "metadata": {},
   "source": [
    "#### Publication\n",
    "The method `.snapshot` allows publishing a snapshot on the Zenodo and B2Share portals. To do so, one should make use of optional parameters that are available through the snapshot method: create_doi, external_doi, publiction_services.\n",
    "\n",
    "1. If we have an existing doi that we would like to use, we could pass its value through the external_doi parameter.\n",
    "2. In case we don't, we can set the create_doi flag to `True` to ask the service to generate a new one for us.\n",
    "\n",
    "create_doi and external_doi are mutually exclusive!"
   ]
  },
  {
   "cell_type": "markdown",
   "id": "f79b6b51",
   "metadata": {},
   "source": [
    "Let's try to create a new snapshot that will be published on the Zenodo portal using the loaded research object `ro`."
   ]
  },
  {
   "cell_type": "code",
   "execution_count": null,
   "id": "c944fb08",
   "metadata": {},
   "outputs": [],
   "source": [
    "snapshot_id_pub = ro.snapshot(create_doi = True, publication_services = ['zenodo'])"
   ]
  },
  {
   "cell_type": "markdown",
   "id": "833b383b",
   "metadata": {},
   "source": [
    "An error has occurred: `SystemExit: {\"Error\":\"Zenodo credentials are missing.\"}`. The new snapshot was created. We can see it in the list of our research objects, but the publication failed. \n",
    "\n",
    "The reason for that being our rohub account is not connected to the target publication service. We can solve it by generating an appropriate token and updating our rohub profile."
   ]
  },
  {
   "cell_type": "markdown",
   "id": "3a7ed7b2",
   "metadata": {},
   "source": [
    "**How to generate and use a token from Zenodo?**\n",
    "1. After logging into the Zenodo portal, select the \"Application\" section in the settings list.\n",
    "2. Create a personal access token by clicking the \"New Token\" button.\n",
    "\n",
    "![new_token](./screens/create_new_token_zenodo.png)\n",
    "**Do not forget to select scopes: actions nad write**\n",
    "\n",
    "![scopes](./screens/scopes_zenodo.png)\n",
    "3. Copy the token.  \n",
    "4. After logging in to your account on the rohub portal find a \"Zenodo token\" field at the bottom of the \"Account\" settings section.\n",
    "5. Paste the copied token and click the \"Save\" buttom.\n",
    "\n",
    "![zenodo_rohub](./screens/zenodo_token_rohub.png)"
   ]
  },
  {
   "cell_type": "markdown",
   "id": "23cbf0b4",
   "metadata": {},
   "source": [
    "We can use the `show_my_user_profile_details()` function to check if we have a token. The value of the `zenodo_token` key is `True` if we set the token and `False` if we don't have the token."
   ]
  },
  {
   "cell_type": "code",
   "execution_count": 58,
   "id": "49f680d5",
   "metadata": {},
   "outputs": [
    {
     "data": {
      "text/plain": [
       "{'identifier': '98256346-9574-425f-9c19-4cf5e0e3b252',\n",
       " 'username': 'liza.poltavchenko00@gmail.com',\n",
       " 'first_name': 'Liza',\n",
       " 'last_name': 'Poltavchenko',\n",
       " 'email': 'liza.poltavchenko00@gmail.com',\n",
       " 'salutation': None,\n",
       " 'affiliation': None,\n",
       " 'description': None,\n",
       " 'areas_of_interest': None,\n",
       " 'photo_url': None,\n",
       " 'facebook_profile': None,\n",
       " 'google_profile': None,\n",
       " 'linkedin_profile': None,\n",
       " 'b2share_token': False,\n",
       " 'zenodo_token': False,\n",
       " 'orcid_identifier': None,\n",
       " 'is_service': False,\n",
       " 'is_staff': False,\n",
       " 'is_active': True,\n",
       " 'roles': ['access'],\n",
       " 'resource_storage': 'DEFAULT',\n",
       " 'b2drop_username': False,\n",
       " 'b2drop_password': False,\n",
       " 'api_link': 'https://rohub2020-rohub.apps.paas-dev.psnc.pl/api/users/98256346-9574-425f-9c19-4cf5e0e3b252/'}"
      ]
     },
     "execution_count": 58,
     "metadata": {},
     "output_type": "execute_result"
    }
   ],
   "source": [
    "rohub.show_my_user_profile_details()"
   ]
  },
  {
   "cell_type": "markdown",
   "id": "e4da83d6",
   "metadata": {},
   "source": [
    "We have added the Zenodo token to our profile, but the `zenodo_token` key is set to `False` in the function's output.\n",
    "This is because our profile metadata has not been updated.\n",
    "We must log in to your profile again using the `rohub.login()` function to update profile metadata."
   ]
  },
  {
   "cell_type": "code",
   "execution_count": 61,
   "id": "815d6705",
   "metadata": {},
   "outputs": [
    {
     "name": "stdout",
     "output_type": "stream",
     "text": [
      "Logged successfully as liza.poltavchenko00@gmail.com.\n"
     ]
    },
    {
     "data": {
      "text/plain": [
       "{'identifier': '98256346-9574-425f-9c19-4cf5e0e3b252',\n",
       " 'username': 'liza.poltavchenko00@gmail.com',\n",
       " 'first_name': 'Liza',\n",
       " 'last_name': 'Poltavchenko',\n",
       " 'email': 'liza.poltavchenko00@gmail.com',\n",
       " 'salutation': None,\n",
       " 'affiliation': None,\n",
       " 'description': None,\n",
       " 'areas_of_interest': None,\n",
       " 'photo_url': None,\n",
       " 'facebook_profile': None,\n",
       " 'google_profile': None,\n",
       " 'linkedin_profile': None,\n",
       " 'b2share_token': False,\n",
       " 'zenodo_token': True,\n",
       " 'orcid_identifier': None,\n",
       " 'is_service': False,\n",
       " 'is_staff': False,\n",
       " 'is_active': True,\n",
       " 'roles': ['access'],\n",
       " 'resource_storage': 'DEFAULT',\n",
       " 'b2drop_username': False,\n",
       " 'b2drop_password': False,\n",
       " 'api_link': 'https://rohub2020-rohub.apps.paas-dev.psnc.pl/api/users/98256346-9574-425f-9c19-4cf5e0e3b252/'}"
      ]
     },
     "execution_count": 61,
     "metadata": {},
     "output_type": "execute_result"
    }
   ],
   "source": [
    "login = open(\"user_email.txt\").read()\n",
    "pwd = open(\"user_pwd.txt\").read()\n",
    "rohub.login(username = login, password = pwd)\n",
    "\n",
    "rohub.show_my_user_profile_details()"
   ]
  },
  {
   "cell_type": "markdown",
   "id": "c655f3fb",
   "metadata": {},
   "source": [
    "Now we can try to create and publish a snapshot again."
   ]
  },
  {
   "cell_type": "code",
   "execution_count": 64,
   "id": "abbf1dba",
   "metadata": {},
   "outputs": [
    {
     "name": "stdout",
     "output_type": "stream",
     "text": [
      "Trying to confirm status of the job. It can take a while...\n"
     ]
    },
    {
     "data": {
      "text/plain": [
       "'9aaeb35c-1e86-4b0e-8deb-6dbc466221f3'"
      ]
     },
     "execution_count": 64,
     "metadata": {},
     "output_type": "execute_result"
    }
   ],
   "source": [
    "snapshot_id_pub = ro.snapshot(create_doi = True, publication_services = ['zenodo'])\n",
    "snapshot_id_pub"
   ]
  },
  {
   "cell_type": "markdown",
   "id": "fbdd7850",
   "metadata": {},
   "source": [
    "We can see now that snapshotted research object appears in our list."
   ]
  },
  {
   "cell_type": "code",
   "execution_count": 68,
   "id": "80e914d4",
   "metadata": {},
   "outputs": [
    {
     "data": {
      "text/html": [
       "<div>\n",
       "<style scoped>\n",
       "    .dataframe tbody tr th:only-of-type {\n",
       "        vertical-align: middle;\n",
       "    }\n",
       "\n",
       "    .dataframe tbody tr th {\n",
       "        vertical-align: top;\n",
       "    }\n",
       "\n",
       "    .dataframe thead th {\n",
       "        text-align: right;\n",
       "    }\n",
       "</style>\n",
       "<table border=\"1\" class=\"dataframe\">\n",
       "  <thead>\n",
       "    <tr style=\"text-align: right;\">\n",
       "      <th></th>\n",
       "      <th>identifier</th>\n",
       "      <th>title</th>\n",
       "      <th>description</th>\n",
       "      <th>type</th>\n",
       "      <th>research_areas</th>\n",
       "      <th>status</th>\n",
       "      <th>created_on</th>\n",
       "      <th>created_by</th>\n",
       "      <th>modified_on</th>\n",
       "      <th>access_mode</th>\n",
       "      <th>owner</th>\n",
       "      <th>creation_mode</th>\n",
       "      <th>shared_link</th>\n",
       "    </tr>\n",
       "  </thead>\n",
       "  <tbody>\n",
       "    <tr>\n",
       "      <th>0</th>\n",
       "      <td>9aaeb35c-1e86-4b0e-8deb-6dbc466221f3</td>\n",
       "      <td>TestRO - snapshot</td>\n",
       "      <td>None</td>\n",
       "      <td>Basic Research Object</td>\n",
       "      <td>[Acoustics, Aerodynamics, Agronomy]</td>\n",
       "      <td>SNAPSHOT</td>\n",
       "      <td>2022-03-03T16:04:00.925793+00:00</td>\n",
       "      <td>liza.poltavchenko00@gmail.com</td>\n",
       "      <td>2022-03-03T16:04:11.040767+00:00</td>\n",
       "      <td>PUBLIC</td>\n",
       "      <td>liza.poltavchenko00@gmail.com</td>\n",
       "      <td>MANUAL</td>\n",
       "      <td>https://w3id.org/ro-id-dev/9aaeb35c-1e86-4b0e-...</td>\n",
       "    </tr>\n",
       "    <tr>\n",
       "      <th>1</th>\n",
       "      <td>afecac37-bf87-48f8-955e-4cf465e4ded3</td>\n",
       "      <td>TestRO - snapshot</td>\n",
       "      <td>None</td>\n",
       "      <td>Basic Research Object</td>\n",
       "      <td>[Acoustics, Aerodynamics, Agronomy]</td>\n",
       "      <td>SNAPSHOT</td>\n",
       "      <td>2022-03-01T15:51:49.493676+00:00</td>\n",
       "      <td>liza.poltavchenko00@gmail.com</td>\n",
       "      <td>2022-03-01T16:08:04.632272+00:00</td>\n",
       "      <td>PUBLIC</td>\n",
       "      <td>liza.poltavchenko00@gmail.com</td>\n",
       "      <td>MANUAL</td>\n",
       "      <td>https://w3id.org/ro-id-dev/afecac37-bf87-48f8-...</td>\n",
       "    </tr>\n",
       "    <tr>\n",
       "      <th>2</th>\n",
       "      <td>2a1be483-00df-469e-b3c6-7cf13bfb3420</td>\n",
       "      <td>(Forked) the testing object</td>\n",
       "      <td>The testing research object belonging to bjaniak</td>\n",
       "      <td>Bibliography-centric Research Object</td>\n",
       "      <td>[Acoustics, Aerodynamics, Agronomy, Soil science]</td>\n",
       "      <td>FORK</td>\n",
       "      <td>2022-03-01T15:32:48.998434+00:00</td>\n",
       "      <td>bjaniak@man.poznan.pl</td>\n",
       "      <td>2022-03-01T16:01:16.620589+00:00</td>\n",
       "      <td>PUBLIC</td>\n",
       "      <td>liza.poltavchenko00@gmail.com</td>\n",
       "      <td>MANUAL</td>\n",
       "      <td>https://w3id.org/ro-id-dev/2a1be483-00df-469e-...</td>\n",
       "    </tr>\n",
       "  </tbody>\n",
       "</table>\n",
       "</div>"
      ],
      "text/plain": [
       "                             identifier                        title  \\\n",
       "0  9aaeb35c-1e86-4b0e-8deb-6dbc466221f3            TestRO - snapshot   \n",
       "1  afecac37-bf87-48f8-955e-4cf465e4ded3            TestRO - snapshot   \n",
       "2  2a1be483-00df-469e-b3c6-7cf13bfb3420  (Forked) the testing object   \n",
       "\n",
       "                                        description  \\\n",
       "0                                              None   \n",
       "1                                              None   \n",
       "2  The testing research object belonging to bjaniak   \n",
       "\n",
       "                                   type  \\\n",
       "0                 Basic Research Object   \n",
       "1                 Basic Research Object   \n",
       "2  Bibliography-centric Research Object   \n",
       "\n",
       "                                      research_areas    status  \\\n",
       "0                [Acoustics, Aerodynamics, Agronomy]  SNAPSHOT   \n",
       "1                [Acoustics, Aerodynamics, Agronomy]  SNAPSHOT   \n",
       "2  [Acoustics, Aerodynamics, Agronomy, Soil science]      FORK   \n",
       "\n",
       "                         created_on                     created_by  \\\n",
       "0  2022-03-03T16:04:00.925793+00:00  liza.poltavchenko00@gmail.com   \n",
       "1  2022-03-01T15:51:49.493676+00:00  liza.poltavchenko00@gmail.com   \n",
       "2  2022-03-01T15:32:48.998434+00:00          bjaniak@man.poznan.pl   \n",
       "\n",
       "                        modified_on access_mode  \\\n",
       "0  2022-03-03T16:04:11.040767+00:00      PUBLIC   \n",
       "1  2022-03-01T16:08:04.632272+00:00      PUBLIC   \n",
       "2  2022-03-01T16:01:16.620589+00:00      PUBLIC   \n",
       "\n",
       "                           owner creation_mode  \\\n",
       "0  liza.poltavchenko00@gmail.com        MANUAL   \n",
       "1  liza.poltavchenko00@gmail.com        MANUAL   \n",
       "2  liza.poltavchenko00@gmail.com        MANUAL   \n",
       "\n",
       "                                         shared_link  \n",
       "0  https://w3id.org/ro-id-dev/9aaeb35c-1e86-4b0e-...  \n",
       "1  https://w3id.org/ro-id-dev/afecac37-bf87-48f8-...  \n",
       "2  https://w3id.org/ro-id-dev/2a1be483-00df-469e-...  "
      ]
     },
     "execution_count": 68,
     "metadata": {},
     "output_type": "execute_result"
    }
   ],
   "source": [
    "rohub.list_my_ros()[:3]"
   ]
  },
  {
   "cell_type": "markdown",
   "id": "7632250e",
   "metadata": {},
   "source": [
    "We also can use the `ros_list_publications()` function to list publication details related to specific research object. The function has one argument - the identifier of the research object."
   ]
  },
  {
   "cell_type": "code",
   "execution_count": 67,
   "id": "8c010c30",
   "metadata": {},
   "outputs": [
    {
     "data": {
      "text/plain": [
       "[{'doi': 'https://doi.org/10.4124/ma97-0e27',\n",
       "  'storage': 'Zenodo',\n",
       "  'storage_record_id': '6325871'}]"
      ]
     },
     "execution_count": 67,
     "metadata": {},
     "output_type": "execute_result"
    }
   ],
   "source": [
    "rohub.ros_list_publications(identifier = snapshot_id_pub)"
   ]
  },
  {
   "cell_type": "markdown",
   "id": "4eaf3e23",
   "metadata": {},
   "source": [
    "We can see that our snapshot appeared in the upload section of the Zenodo service."
   ]
  },
  {
   "cell_type": "markdown",
   "id": "b11b2e6e",
   "metadata": {},
   "source": [
    "![zenodo_upload](./screens/zenodo_upload.png)"
   ]
  },
  {
   "cell_type": "markdown",
   "id": "b93a6ce1",
   "metadata": {},
   "source": [
    "### Archive\n",
    "The last evolution method that can be applied to the research object is an archive.\n",
    "\n",
    "The archive represents the final stage of the research object where it has either reached a version that the author prescribes to be stable and meaningful or has been deprecated. They are therefore immutable, with no further changes or versions allowed.\n",
    "\n",
    "In terms of usage `archive` method works very similar to the `snapshot` method."
   ]
  },
  {
   "cell_type": "markdown",
   "id": "04061d64",
   "metadata": {},
   "source": [
    "Let's create a simple archive using the research object that we used to test the `.snapshot` method."
   ]
  },
  {
   "cell_type": "code",
   "execution_count": 4,
   "id": "02872570",
   "metadata": {},
   "outputs": [
    {
     "name": "stdout",
     "output_type": "stream",
     "text": [
      "Trying to confirm status of the job. It can take a while...\n"
     ]
    },
    {
     "data": {
      "text/plain": [
       "'0f523dd8-851e-4446-8c6d-acaff2c1a6ad'"
      ]
     },
     "execution_count": 4,
     "metadata": {},
     "output_type": "execute_result"
    }
   ],
   "source": [
    "archive_id = ro.archive()\n",
    "archive_id"
   ]
  },
  {
   "cell_type": "markdown",
   "id": "43475678",
   "metadata": {},
   "source": [
    "We can check the new archive in the list of our research objects. The object has status `ARCHIVE`."
   ]
  },
  {
   "cell_type": "code",
   "execution_count": 5,
   "id": "781532c3",
   "metadata": {},
   "outputs": [
    {
     "data": {
      "text/html": [
       "<div>\n",
       "<style scoped>\n",
       "    .dataframe tbody tr th:only-of-type {\n",
       "        vertical-align: middle;\n",
       "    }\n",
       "\n",
       "    .dataframe tbody tr th {\n",
       "        vertical-align: top;\n",
       "    }\n",
       "\n",
       "    .dataframe thead th {\n",
       "        text-align: right;\n",
       "    }\n",
       "</style>\n",
       "<table border=\"1\" class=\"dataframe\">\n",
       "  <thead>\n",
       "    <tr style=\"text-align: right;\">\n",
       "      <th></th>\n",
       "      <th>identifier</th>\n",
       "      <th>title</th>\n",
       "      <th>description</th>\n",
       "      <th>type</th>\n",
       "      <th>research_areas</th>\n",
       "      <th>status</th>\n",
       "      <th>created_on</th>\n",
       "      <th>created_by</th>\n",
       "      <th>modified_on</th>\n",
       "      <th>access_mode</th>\n",
       "      <th>owner</th>\n",
       "      <th>creation_mode</th>\n",
       "      <th>shared_link</th>\n",
       "    </tr>\n",
       "  </thead>\n",
       "  <tbody>\n",
       "    <tr>\n",
       "      <th>0</th>\n",
       "      <td>0f523dd8-851e-4446-8c6d-acaff2c1a6ad</td>\n",
       "      <td>TestRO - archive</td>\n",
       "      <td>None</td>\n",
       "      <td>Basic Research Object</td>\n",
       "      <td>[Acoustics, Aerodynamics, Agronomy]</td>\n",
       "      <td>ARCHIVE</td>\n",
       "      <td>2022-03-07T21:12:14.190827+00:00</td>\n",
       "      <td>liza.poltavchenko00@gmail.com</td>\n",
       "      <td>2022-03-07T21:12:17.323104+00:00</td>\n",
       "      <td>PUBLIC</td>\n",
       "      <td>liza.poltavchenko00@gmail.com</td>\n",
       "      <td>MANUAL</td>\n",
       "      <td>https://w3id.org/ro-id-dev/0f523dd8-851e-4446-...</td>\n",
       "    </tr>\n",
       "  </tbody>\n",
       "</table>\n",
       "</div>"
      ],
      "text/plain": [
       "                             identifier             title description  \\\n",
       "0  0f523dd8-851e-4446-8c6d-acaff2c1a6ad  TestRO - archive        None   \n",
       "\n",
       "                    type                       research_areas   status  \\\n",
       "0  Basic Research Object  [Acoustics, Aerodynamics, Agronomy]  ARCHIVE   \n",
       "\n",
       "                         created_on                     created_by  \\\n",
       "0  2022-03-07T21:12:14.190827+00:00  liza.poltavchenko00@gmail.com   \n",
       "\n",
       "                        modified_on access_mode  \\\n",
       "0  2022-03-07T21:12:17.323104+00:00      PUBLIC   \n",
       "\n",
       "                           owner creation_mode  \\\n",
       "0  liza.poltavchenko00@gmail.com        MANUAL   \n",
       "\n",
       "                                         shared_link  \n",
       "0  https://w3id.org/ro-id-dev/0f523dd8-851e-4446-...  "
      ]
     },
     "execution_count": 5,
     "metadata": {},
     "output_type": "execute_result"
    }
   ],
   "source": [
    "my_ros = rohub.list_my_ros()\n",
    "my_ros[my_ros.identifier == archive_id]"
   ]
  },
  {
   "cell_type": "markdown",
   "id": "35cbd136",
   "metadata": {},
   "source": [
    "The method `.archive` also allows publishing an archive on the Zenodo and B2Share portals. It works analogously to the snapshot method."
   ]
  },
  {
   "cell_type": "markdown",
   "id": "96a842d9",
   "metadata": {},
   "source": [
    "*The procedure for creating and setting a token for the B2Share portal looks similar to the procedure for the Zenodo portal.*\n",
    "\n",
    "1. Logging into the B2Share portal, select the \"Profile\" section in the profile list.\n",
    "![profile_b2share](./screens/b2share_profile.png)\n",
    "2. Enter the token number and click the \"New Token\" button at the bottom of the page to create a personal access token.\n",
    "![new_token_b2share](./screens/create_token_b2share.png)\n",
    "3. Copy the token.\n",
    "4. After logging in to your account on the rohub portal find a \"B2Share token\" field at the bottom of the \"Account\" settings section.\n",
    "5. Paste the copied token and click the \"Save\" button.\n",
    "![b2share_rohub](./screens/b2share_token_rohub.png)"
   ]
  },
  {
   "cell_type": "markdown",
   "id": "d4267139",
   "metadata": {},
   "source": [
    "Let's check if we now also have a B2Share token."
   ]
  },
  {
   "cell_type": "code",
   "execution_count": 13,
   "id": "f69658d6",
   "metadata": {},
   "outputs": [
    {
     "name": "stdout",
     "output_type": "stream",
     "text": [
      "Logged successfully as liza.poltavchenko00@gmail.com.\n"
     ]
    },
    {
     "data": {
      "text/plain": [
       "{'identifier': '98256346-9574-425f-9c19-4cf5e0e3b252',\n",
       " 'username': 'liza.poltavchenko00@gmail.com',\n",
       " 'first_name': 'Liza',\n",
       " 'last_name': 'Poltavchenko',\n",
       " 'email': 'liza.poltavchenko00@gmail.com',\n",
       " 'salutation': None,\n",
       " 'affiliation': None,\n",
       " 'description': None,\n",
       " 'areas_of_interest': None,\n",
       " 'photo_url': None,\n",
       " 'facebook_profile': None,\n",
       " 'google_profile': None,\n",
       " 'linkedin_profile': None,\n",
       " 'b2share_token': True,\n",
       " 'zenodo_token': True,\n",
       " 'orcid_identifier': None,\n",
       " 'is_service': False,\n",
       " 'is_staff': False,\n",
       " 'is_active': True,\n",
       " 'roles': ['access'],\n",
       " 'resource_storage': 'DEFAULT',\n",
       " 'b2drop_username': False,\n",
       " 'b2drop_password': False,\n",
       " 'api_link': 'https://rohub2020-rohub.apps.paas-dev.psnc.pl/api/users/98256346-9574-425f-9c19-4cf5e0e3b252/'}"
      ]
     },
     "execution_count": 13,
     "metadata": {},
     "output_type": "execute_result"
    }
   ],
   "source": [
    "login = open(\"user_email.txt\").read()\n",
    "pwd = open(\"user_pwd.txt\").read()\n",
    "rohub.login(username = login, password = pwd)\n",
    "\n",
    "rohub.show_my_user_profile_details()"
   ]
  },
  {
   "cell_type": "markdown",
   "id": "a7e98a7e",
   "metadata": {},
   "source": [
    "Now we can try to create a new archive which will be published on the B2Share portal."
   ]
  },
  {
   "cell_type": "code",
   "execution_count": 14,
   "id": "66c47783",
   "metadata": {},
   "outputs": [
    {
     "name": "stdout",
     "output_type": "stream",
     "text": [
      "Trying to confirm status of the job. It can take a while...\n"
     ]
    },
    {
     "data": {
      "text/plain": [
       "'241c94b0-4df9-4e61-b345-eb4455d04031'"
      ]
     },
     "execution_count": 14,
     "metadata": {},
     "output_type": "execute_result"
    }
   ],
   "source": [
    "archive_id_pub = ro.archive(create_doi = True, publication_services = ['B2Share'])\n",
    "archive_id_pub"
   ]
  },
  {
   "cell_type": "code",
   "execution_count": 15,
   "id": "c03a9b6f",
   "metadata": {},
   "outputs": [
    {
     "data": {
      "text/plain": [
       "[{'doi': 'http://doi.org/XXXX/b2share.ea008002923744b3ac51896e65967bc9',\n",
       "  'storage': 'B2SHARE',\n",
       "  'storage_record_id': 'ea008002923744b3ac51896e65967bc9'}]"
      ]
     },
     "execution_count": 15,
     "metadata": {},
     "output_type": "execute_result"
    }
   ],
   "source": [
    "rohub.ros_list_publications(identifier = archive_id_pub)"
   ]
  },
  {
   "cell_type": "markdown",
   "id": "f9c8d4e0",
   "metadata": {},
   "source": [
    "We can check the new archive in the \"Own Records\" section of the B2Share portal.\n",
    "For that purpose, open the \"Profile\" section and find the link in the \"Own records\" section.\n",
    "![records_section](./screens/records_b2share.png)\n",
    "Here we can see the list of our published records.\n",
    "![list_records](./screens/list_records_b2share.png)"
   ]
  },
  {
   "cell_type": "markdown",
   "id": "c9a00816",
   "metadata": {},
   "source": [
    "## Deleting Research Object\n",
    "The `rohub.ros_delete()` function deletes the selected research object. This function has one parameter: the id of the specific research object.\n",
    "\n",
    "### Example 1\n",
    "Let's try to remove the first research object from the list of objects that belongs to us."
   ]
  },
  {
   "cell_type": "code",
   "execution_count": 26,
   "id": "9ce01992",
   "metadata": {},
   "outputs": [
    {
     "data": {
      "text/html": [
       "<div>\n",
       "<style scoped>\n",
       "    .dataframe tbody tr th:only-of-type {\n",
       "        vertical-align: middle;\n",
       "    }\n",
       "\n",
       "    .dataframe tbody tr th {\n",
       "        vertical-align: top;\n",
       "    }\n",
       "\n",
       "    .dataframe thead th {\n",
       "        text-align: right;\n",
       "    }\n",
       "</style>\n",
       "<table border=\"1\" class=\"dataframe\">\n",
       "  <thead>\n",
       "    <tr style=\"text-align: right;\">\n",
       "      <th></th>\n",
       "      <th>identifier</th>\n",
       "      <th>title</th>\n",
       "      <th>description</th>\n",
       "      <th>type</th>\n",
       "      <th>research_areas</th>\n",
       "      <th>status</th>\n",
       "      <th>created_on</th>\n",
       "      <th>created_by</th>\n",
       "      <th>modified_on</th>\n",
       "      <th>access_mode</th>\n",
       "      <th>owner</th>\n",
       "      <th>creation_mode</th>\n",
       "      <th>shared_link</th>\n",
       "    </tr>\n",
       "  </thead>\n",
       "  <tbody>\n",
       "    <tr>\n",
       "      <th>0</th>\n",
       "      <td>241c94b0-4df9-4e61-b345-eb4455d04031</td>\n",
       "      <td>TestRO - archive</td>\n",
       "      <td>None</td>\n",
       "      <td>Basic Research Object</td>\n",
       "      <td>[Acoustics, Aerodynamics, Agronomy]</td>\n",
       "      <td>ARCHIVE</td>\n",
       "      <td>2022-03-07T21:24:49.954450+00:00</td>\n",
       "      <td>liza.poltavchenko00@gmail.com</td>\n",
       "      <td>2022-03-07T21:25:02.618568+00:00</td>\n",
       "      <td>PUBLIC</td>\n",
       "      <td>liza.poltavchenko00@gmail.com</td>\n",
       "      <td>MANUAL</td>\n",
       "      <td>https://w3id.org/ro-id-dev/241c94b0-4df9-4e61-...</td>\n",
       "    </tr>\n",
       "    <tr>\n",
       "      <th>1</th>\n",
       "      <td>cc32c80e-bbca-46a6-bb98-1614362267b4</td>\n",
       "      <td>TestRO - snapshot</td>\n",
       "      <td>None</td>\n",
       "      <td>Basic Research Object</td>\n",
       "      <td>[Acoustics, Aerodynamics, Agronomy]</td>\n",
       "      <td>SNAPSHOT</td>\n",
       "      <td>2022-03-03T16:14:03.641971+00:00</td>\n",
       "      <td>liza.poltavchenko00@gmail.com</td>\n",
       "      <td>2022-03-03T16:14:06.008378+00:00</td>\n",
       "      <td>PUBLIC</td>\n",
       "      <td>liza.poltavchenko00@gmail.com</td>\n",
       "      <td>MANUAL</td>\n",
       "      <td>https://w3id.org/ro-id-dev/cc32c80e-bbca-46a6-...</td>\n",
       "    </tr>\n",
       "  </tbody>\n",
       "</table>\n",
       "</div>"
      ],
      "text/plain": [
       "                             identifier              title description  \\\n",
       "0  241c94b0-4df9-4e61-b345-eb4455d04031   TestRO - archive        None   \n",
       "1  cc32c80e-bbca-46a6-bb98-1614362267b4  TestRO - snapshot        None   \n",
       "\n",
       "                    type                       research_areas    status  \\\n",
       "0  Basic Research Object  [Acoustics, Aerodynamics, Agronomy]   ARCHIVE   \n",
       "1  Basic Research Object  [Acoustics, Aerodynamics, Agronomy]  SNAPSHOT   \n",
       "\n",
       "                         created_on                     created_by  \\\n",
       "0  2022-03-07T21:24:49.954450+00:00  liza.poltavchenko00@gmail.com   \n",
       "1  2022-03-03T16:14:03.641971+00:00  liza.poltavchenko00@gmail.com   \n",
       "\n",
       "                        modified_on access_mode  \\\n",
       "0  2022-03-07T21:25:02.618568+00:00      PUBLIC   \n",
       "1  2022-03-03T16:14:06.008378+00:00      PUBLIC   \n",
       "\n",
       "                           owner creation_mode  \\\n",
       "0  liza.poltavchenko00@gmail.com        MANUAL   \n",
       "1  liza.poltavchenko00@gmail.com        MANUAL   \n",
       "\n",
       "                                         shared_link  \n",
       "0  https://w3id.org/ro-id-dev/241c94b0-4df9-4e61-...  \n",
       "1  https://w3id.org/ro-id-dev/cc32c80e-bbca-46a6-...  "
      ]
     },
     "execution_count": 26,
     "metadata": {},
     "output_type": "execute_result"
    }
   ],
   "source": [
    "my_ros = rohub.list_my_ros()\n",
    "my_ros[:2]"
   ]
  },
  {
   "cell_type": "code",
   "execution_count": 17,
   "id": "b492e5d7",
   "metadata": {},
   "outputs": [
    {
     "data": {
      "text/plain": [
       "'241c94b0-4df9-4e61-b345-eb4455d04031'"
      ]
     },
     "execution_count": 17,
     "metadata": {},
     "output_type": "execute_result"
    }
   ],
   "source": [
    "deleted_ro_id = my_ros.loc[0, 'identifier']\n",
    "deleted_ro_id"
   ]
  },
  {
   "cell_type": "code",
   "execution_count": null,
   "id": "33957b28",
   "metadata": {},
   "outputs": [],
   "source": [
    "rohub.ros_delete(identifier = deleted_ro_id)"
   ]
  },
  {
   "cell_type": "markdown",
   "id": "388521b9",
   "metadata": {},
   "source": [
    "An error has occurred: `SystemExit: {\"detail\":\"You do not have permission to perform this action.\"}`. That's because this object was published, and it is forbidden to delete a previously published research object."
   ]
  },
  {
   "cell_type": "code",
   "execution_count": 24,
   "id": "25a111e3",
   "metadata": {},
   "outputs": [
    {
     "data": {
      "text/plain": [
       "[{'doi': 'http://doi.org/XXXX/b2share.ea008002923744b3ac51896e65967bc9',\n",
       "  'storage': 'B2SHARE',\n",
       "  'storage_record_id': 'ea008002923744b3ac51896e65967bc9'}]"
      ]
     },
     "execution_count": 24,
     "metadata": {},
     "output_type": "execute_result"
    }
   ],
   "source": [
    "rohub.ros_list_publications(identifier = deleted_ro_id)"
   ]
  },
  {
   "cell_type": "markdown",
   "id": "4bd12798",
   "metadata": {},
   "source": [
    "Let's try to delete an object that has not been previously published."
   ]
  },
  {
   "cell_type": "code",
   "execution_count": 27,
   "id": "28ee67ba",
   "metadata": {},
   "outputs": [
    {
     "data": {
      "text/plain": [
       "'cc32c80e-bbca-46a6-bb98-1614362267b4'"
      ]
     },
     "execution_count": 27,
     "metadata": {},
     "output_type": "execute_result"
    }
   ],
   "source": [
    "deleted_ro_id = my_ros.loc[1, 'identifier']\n",
    "deleted_ro_id"
   ]
  },
  {
   "cell_type": "code",
   "execution_count": 28,
   "id": "02175c38",
   "metadata": {},
   "outputs": [
    {
     "data": {
      "text/plain": [
       "[]"
      ]
     },
     "execution_count": 28,
     "metadata": {},
     "output_type": "execute_result"
    }
   ],
   "source": [
    "rohub.ros_list_publications(identifier = deleted_ro_id)"
   ]
  },
  {
   "cell_type": "code",
   "execution_count": 29,
   "id": "276d2144",
   "metadata": {},
   "outputs": [
    {
     "name": "stdout",
     "output_type": "stream",
     "text": [
      "Trying to confirm status of the job. It can take a while...\n"
     ]
    },
    {
     "data": {
      "text/plain": [
       "{'identifier': '3ed7d363-97b5-4fad-b803-9cfac001c149',\n",
       " 'created_by': 'liza.poltavchenko00@gmail.com',\n",
       " 'created_on': '2022-03-09T16:36:41.521516+0000',\n",
       " 'started_on': '2022-03-09T16:36:41.681562+0000',\n",
       " 'finished_on': '2022-03-09T16:36:42.715226+0000',\n",
       " 'operation': 'RO_DELETE',\n",
       " 'status': 'SUCCESS',\n",
       " 'input': 'RO identifier for remove: cc32c80e-bbca-46a6-bb98-1614362267b4',\n",
       " 'output': 'Task done successfully',\n",
       " 'results': 'cc32c80e-bbca-46a6-bb98-1614362267b4',\n",
       " 'warnings': None,\n",
       " 'execution': '1.033664',\n",
       " 'api_link': 'https://rohub2020-rohub.apps.paas-dev.psnc.pl/api/jobs/3ed7d363-97b5-4fad-b803-9cfac001c149/'}"
      ]
     },
     "execution_count": 29,
     "metadata": {},
     "output_type": "execute_result"
    }
   ],
   "source": [
    "rohub.ros_delete(identifier = deleted_ro_id)"
   ]
  },
  {
   "cell_type": "markdown",
   "id": "297fbbbb",
   "metadata": {},
   "source": [
    "Now, we can confirm that the object is no longer present in the service and API."
   ]
  },
  {
   "cell_type": "code",
   "execution_count": 30,
   "id": "b898a45d",
   "metadata": {},
   "outputs": [
    {
     "data": {
      "text/html": [
       "<div>\n",
       "<style scoped>\n",
       "    .dataframe tbody tr th:only-of-type {\n",
       "        vertical-align: middle;\n",
       "    }\n",
       "\n",
       "    .dataframe tbody tr th {\n",
       "        vertical-align: top;\n",
       "    }\n",
       "\n",
       "    .dataframe thead th {\n",
       "        text-align: right;\n",
       "    }\n",
       "</style>\n",
       "<table border=\"1\" class=\"dataframe\">\n",
       "  <thead>\n",
       "    <tr style=\"text-align: right;\">\n",
       "      <th></th>\n",
       "      <th>identifier</th>\n",
       "      <th>title</th>\n",
       "      <th>description</th>\n",
       "      <th>type</th>\n",
       "      <th>research_areas</th>\n",
       "      <th>status</th>\n",
       "      <th>created_on</th>\n",
       "      <th>created_by</th>\n",
       "      <th>modified_on</th>\n",
       "      <th>access_mode</th>\n",
       "      <th>owner</th>\n",
       "      <th>creation_mode</th>\n",
       "      <th>shared_link</th>\n",
       "    </tr>\n",
       "  </thead>\n",
       "  <tbody>\n",
       "  </tbody>\n",
       "</table>\n",
       "</div>"
      ],
      "text/plain": [
       "Empty DataFrame\n",
       "Columns: [identifier, title, description, type, research_areas, status, created_on, created_by, modified_on, access_mode, owner, creation_mode, shared_link]\n",
       "Index: []"
      ]
     },
     "execution_count": 30,
     "metadata": {},
     "output_type": "execute_result"
    }
   ],
   "source": [
    "my_ros = rohub.list_my_ros()\n",
    "my_ros[my_ros.identifier == deleted_ro_id]"
   ]
  },
  {
   "cell_type": "markdown",
   "id": "cab05698",
   "metadata": {},
   "source": [
    "### Example 2\n",
    "Let's try to delete a research object that belongs to another user. We can choose some random one,  for example, one with id = 12."
   ]
  },
  {
   "cell_type": "code",
   "execution_count": 20,
   "id": "80aa1ac4",
   "metadata": {},
   "outputs": [],
   "source": [
    "all_ros = rohub.ros_find()\n",
    "deleted_ro_id = all_ros.loc[12, 'identifier']"
   ]
  },
  {
   "cell_type": "markdown",
   "id": "658ab138",
   "metadata": {},
   "source": [
    "Before deleting, let's check who is the owner of the selected research object."
   ]
  },
  {
   "cell_type": "code",
   "execution_count": 21,
   "id": "ef5ecb11",
   "metadata": {},
   "outputs": [
    {
     "name": "stdout",
     "output_type": "stream",
     "text": [
      "Research Object was successfully loaded with id = b8cba10f-67e4-46f2-b164-78159ea9350c\n"
     ]
    },
    {
     "data": {
      "text/plain": [
       "'service-account-migration-service'"
      ]
     },
     "execution_count": 21,
     "metadata": {},
     "output_type": "execute_result"
    }
   ],
   "source": [
    "deleted_ro = rohub.ros_load(identifier = deleted_ro_id)\n",
    "deleted_ro.owner"
   ]
  },
  {
   "cell_type": "markdown",
   "id": "5758a88a",
   "metadata": {},
   "source": [
    "Now we can try to delete the object."
   ]
  },
  {
   "cell_type": "code",
   "execution_count": null,
   "id": "7989106a",
   "metadata": {},
   "outputs": [],
   "source": [
    "rohub.ros_delete(identifier = deleted_ro_id)"
   ]
  },
  {
   "cell_type": "markdown",
   "id": "f5a9ea73",
   "metadata": {},
   "source": [
    "An error has occurred: `SystemExit: {\"detail\":\"You do not have permission to perform this action.\"}`. A similar case, to the one where we were trying to modify an object that belongs to someone else. We need special permission to delete another user's object."
   ]
  }
 ],
 "metadata": {
  "kernelspec": {
   "display_name": "rohub",
   "language": "python",
   "name": "rohub"
  },
  "language_info": {
   "codemirror_mode": {
    "name": "ipython",
    "version": 3
   },
   "file_extension": ".py",
   "mimetype": "text/x-python",
   "name": "python",
   "nbconvert_exporter": "python",
   "pygments_lexer": "ipython3",
   "version": "3.9.12"
  }
 },
 "nbformat": 4,
 "nbformat_minor": 5
}
