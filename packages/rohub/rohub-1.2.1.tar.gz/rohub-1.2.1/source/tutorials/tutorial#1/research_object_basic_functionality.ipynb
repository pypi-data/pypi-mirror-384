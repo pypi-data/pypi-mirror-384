{
 "cells": [
  {
   "cell_type": "markdown",
   "metadata": {},
   "source": [
    "## Install and import the library\n",
    "The fastest and easiest way to install the rohub library is with a pip distribution system."
   ]
  },
  {
   "cell_type": "code",
   "execution_count": null,
   "metadata": {},
   "outputs": [],
   "source": [
    "pip install rohub -U"
   ]
  },
  {
   "cell_type": "markdown",
   "metadata": {},
   "source": [
    "First, load the rohub package"
   ]
  },
  {
   "cell_type": "code",
   "execution_count": null,
   "metadata": {},
   "outputs": [],
   "source": [
    "import rohub"
   ]
  },
  {
   "cell_type": "markdown",
   "metadata": {},
   "source": [
    "## Authentication\n",
    "Then, you need to authenticate yourself. If you already have an account in the rohub portal, you can use your credentials to directly log in using the library. In case you don't, you can sign up here: https://login.rohub.org/"
   ]
  },
  {
   "cell_type": "code",
   "execution_count": null,
   "metadata": {},
   "outputs": [],
   "source": [
    "rohub.login(username = 'example@mail.com', password = '1234')"
   ]
  },
  {
   "cell_type": "markdown",
   "metadata": {},
   "source": [
    "It is not required, but we would highly recommend storing your credentials in the text file or as an environment variable. Therefore, we can avoid leaving any sensitive information in the notebook."
   ]
  },
  {
   "cell_type": "code",
   "execution_count": null,
   "metadata": {},
   "outputs": [],
   "source": [
    "# loading credentials from external file\n",
    "user_email = open(\"user_email.txt\").read()\n",
    "user_pwd = open(\"user_pwd.txt\").read()\n",
    "rohub.login(username = user_email, password = user_pwd)"
   ]
  },
  {
   "cell_type": "markdown",
   "metadata": {},
   "source": [
    "Output: `Logged successfully as user_name`"
   ]
  },
  {
   "cell_type": "markdown",
   "metadata": {},
   "source": [
    "After receiving confirmation about successful login, you can start using the library. \n",
    "The essential structure for the rohub environment is a research object. Here is how one can be created using the library interface."
   ]
  },
  {
   "cell_type": "markdown",
   "metadata": {},
   "source": [
    "## Create a new Research Object\n",
    "A function `rohub.ros_create` requires two arguments: a title and a list of research areas."
   ]
  },
  {
   "cell_type": "markdown",
   "metadata": {},
   "source": [
    "### Example 1\n",
    "Here is an example of the Research Object that we named *The influence of eating habits on sleep* "
   ]
  },
  {
   "cell_type": "code",
   "execution_count": 4,
   "metadata": {},
   "outputs": [],
   "source": [
    "ro_title = \"The influence of eating habits on sleep\""
   ]
  },
  {
   "cell_type": "markdown",
   "metadata": {},
   "source": [
    "This study is related to **Nutrition** and **Medicine**. Therefore, we assign a variable that contains those for further re-usability."
   ]
  },
  {
   "cell_type": "code",
   "execution_count": 5,
   "metadata": {},
   "outputs": [],
   "source": [
    "ro_research_areas = ['Nutrition', 'Medicine']"
   ]
  },
  {
   "cell_type": "code",
   "execution_count": null,
   "metadata": {},
   "outputs": [],
   "source": [
    "rohub.ros_create(title = ro_title, research_areas = ro_research_areas)"
   ]
  },
  {
   "cell_type": "markdown",
   "metadata": {},
   "source": [
    "The function was executed with errors. Therefore, the research object was not created! The reason for that can be found in inspecting error details. "
   ]
  },
  {
   "cell_type": "markdown",
   "metadata": {},
   "source": [
    "![exception](./screens/create_ro/ros_create_exception.png)  "
   ]
  },
  {
   "cell_type": "markdown",
   "metadata": {},
   "source": [
    "Now, we can display an array of valid values for the research areas we would like to associate with the ro."
   ]
  },
  {
   "cell_type": "code",
   "execution_count": 7,
   "metadata": {},
   "outputs": [
    {
     "data": {
      "text/plain": [
       "['Acoustics',\n",
       " 'Aerodynamics',\n",
       " 'Agronomy',\n",
       " 'Analytical chemistry',\n",
       " 'Applied sciences']"
      ]
     },
     "execution_count": 7,
     "metadata": {},
     "output_type": "execute_result"
    }
   ],
   "source": [
    "list_valid_areas = rohub.list_valid_research_areas()\n",
    "# slicing the list just for display purposes\n",
    "list_valid_areas[:5] "
   ]
  },
  {
   "cell_type": "markdown",
   "metadata": {},
   "source": [
    "One could write a simple function to check multiple values at once before making a call."
   ]
  },
  {
   "cell_type": "code",
   "execution_count": 8,
   "metadata": {},
   "outputs": [
    {
     "data": {
      "text/plain": [
       "[]"
      ]
     },
     "execution_count": 8,
     "metadata": {},
     "output_type": "execute_result"
    }
   ],
   "source": [
    "def check_research_areas(my_research_areas):\n",
    "    list_valid_areas = rohub.list_valid_research_areas()\n",
    "    list_valid_ra = []\n",
    "    for r_area in my_research_areas:\n",
    "        if r_area in list_valid_areas:\n",
    "            list_valid_ra.append(r_area)\n",
    "    return list_valid_ra\n",
    "\n",
    "check_research_areas(['Nutrition', 'Medicine'])"
   ]
  },
  {
   "cell_type": "markdown",
   "metadata": {},
   "source": [
    "As expected, the list is empty. We have not passed a single research area that is accepted by the service. Let's try again with slightly modified input."
   ]
  },
  {
   "cell_type": "markdown",
   "metadata": {},
   "source": [
    "### Example 2\n",
    "Medical science is an accepted value. Therefore, changing **Medicine** to **Medical science** should be sufficient. Now we can re-run the function."
   ]
  },
  {
   "cell_type": "code",
   "execution_count": 9,
   "metadata": {},
   "outputs": [
    {
     "name": "stdout",
     "output_type": "stream",
     "text": [
      "Research Object was successfully created with id = 623a5e15-3a3e-437b-95d1-684dbb093b51\n"
     ]
    },
    {
     "data": {
      "text/plain": [
       "ResearchObject(identifier=623a5e15-3a3e-437b-95d1-684dbb093b51, post_request=False)"
      ]
     },
     "execution_count": 9,
     "metadata": {},
     "output_type": "execute_result"
    }
   ],
   "source": [
    "ro_research_areas = ['Nutrition', 'Medical science']\n",
    "rohub.ros_create(title = ro_title, research_areas = ro_research_areas)"
   ]
  },
  {
   "cell_type": "markdown",
   "metadata": {},
   "source": [
    "![ro_1](./screens/create_ro/only_one_ra.png)"
   ]
  },
  {
   "cell_type": "markdown",
   "metadata": {},
   "source": [
    "### Example 3\n",
    "As presented in the image above the research object was successfully created. It is worth noticing that only **Medical science** is a valid research area, therefore **Nutrition** was discarded by the library. Below you can find another example of that behavior."
   ]
  },
  {
   "cell_type": "code",
   "execution_count": 10,
   "metadata": {},
   "outputs": [
    {
     "name": "stdout",
     "output_type": "stream",
     "text": [
      "Research Object was successfully created with id = 4954ed97-b583-4eb1-b475-42864f80f683\n"
     ]
    },
    {
     "data": {
      "text/plain": [
       "ResearchObject(identifier=4954ed97-b583-4eb1-b475-42864f80f683, post_request=False)"
      ]
     },
     "execution_count": 10,
     "metadata": {},
     "output_type": "execute_result"
    }
   ],
   "source": [
    "ro_title = \"TestRO\"\n",
    "ro_research_areas = ['Acoustics', 'Aerodynamics', 'Agronomy', 'invalid_r_area_1', 'invalid_r_area_2']\n",
    "rohub.ros_create(title = ro_title, research_areas = ro_research_areas)"
   ]
  },
  {
   "cell_type": "markdown",
   "metadata": {},
   "source": [
    "![ro_2](./screens/create_ro/test_ro.png)"
   ]
  },
  {
   "cell_type": "markdown",
   "metadata": {},
   "source": [
    "### Example 4\n",
    "Let's create one more and assign it to a variable for further re-usability. It is crucial to understand that the ros_create function returns an accessible python object, **and at the same time, the object you get is being created in the service.**"
   ]
  },
  {
   "cell_type": "code",
   "execution_count": 11,
   "metadata": {},
   "outputs": [
    {
     "name": "stdout",
     "output_type": "stream",
     "text": [
      "Research Object was successfully created with id = 5d1d0f06-b7da-4a16-952b-e1c078283cf5\n"
     ]
    }
   ],
   "source": [
    "ro_title = \"TestRO_2\"\n",
    "ro_research_areas = ['Biology', 'Zoology']\n",
    "ro = rohub.ros_create(title = ro_title, research_areas = ro_research_areas)"
   ]
  },
  {
   "cell_type": "markdown",
   "metadata": {},
   "source": [
    "The `rohub.ros_create()` function creates a new Research Object which can be viewed in the **My ROs** section at the top menu bar of the portal.\n",
    "![my_ro](./screens/tutorial_ver3/my_ros.png)"
   ]
  },
  {
   "cell_type": "markdown",
   "metadata": {},
   "source": [
    "More details can be viewed by clicking the **Read more** button.\n",
    "![my_ro_info](./screens/tutorial_ver3/ro_info.png)"
   ]
  },
  {
   "cell_type": "markdown",
   "metadata": {},
   "source": [
    "This function also instantiates a Python object that can be reused and was assigned to the `ro` variable. \n",
    "Properties of the research object can be reached now by simply accessing the object's attribute."
   ]
  },
  {
   "cell_type": "code",
   "execution_count": 12,
   "metadata": {},
   "outputs": [
    {
     "data": {
      "text/plain": [
       "'TestRO_2'"
      ]
     },
     "execution_count": 12,
     "metadata": {},
     "output_type": "execute_result"
    }
   ],
   "source": [
    "ro.title"
   ]
  },
  {
   "cell_type": "code",
   "execution_count": 13,
   "metadata": {},
   "outputs": [
    {
     "data": {
      "text/plain": [
       "['Biology', 'Zoology']"
      ]
     },
     "execution_count": 13,
     "metadata": {},
     "output_type": "execute_result"
    }
   ],
   "source": [
    "ro.research_areas"
   ]
  },
  {
   "cell_type": "markdown",
   "metadata": {},
   "source": [
    "## Template usage for Research Object creation\n",
    "On top of the two required parameters, multiple optional parameters can help adjust the creation of research objects to one's needs. For more details, you can refer to [the documentation](https://reliance-eosc.github.io/ROHUB-API_documentation/html/rohub.html)."
   ]
  },
  {
   "cell_type": "markdown",
   "metadata": {},
   "source": [
    "A very useful one is a `use_template` flag. This parameter is set to False by default and does not affect the creation of the object. However, if the value of use_template is True, the created object will automatically receive the corresponding template."
   ]
  },
  {
   "cell_type": "code",
   "execution_count": 14,
   "metadata": {},
   "outputs": [
    {
     "name": "stdout",
     "output_type": "stream",
     "text": [
      "Research Object was successfully created with id = 565710be-d927-4d95-b1d7-703142a748e9\n"
     ]
    }
   ],
   "source": [
    "ro = rohub.ros_create(title = \"Shark research\", research_areas = [\"Biology\", \"Zoology\"], use_template = False)"
   ]
  },
  {
   "cell_type": "code",
   "execution_count": 15,
   "metadata": {},
   "outputs": [
    {
     "name": "stdout",
     "output_type": "stream",
     "text": [
      "None\n"
     ]
    }
   ],
   "source": [
    "print(ro.template)"
   ]
  },
  {
   "cell_type": "code",
   "execution_count": 17,
   "metadata": {},
   "outputs": [
    {
     "ename": "SystemExit",
     "evalue": "Aborting... ros type is mandatory when use_template=True. Please specify ro_type!",
     "output_type": "error",
     "traceback": [
      "An exception has occurred, use %tb to see the full traceback.\n",
      "\u001b[1;31mSystemExit\u001b[0m\u001b[1;31m:\u001b[0m Aborting... ros type is mandatory when use_template=True. Please specify ro_type!\n"
     ]
    }
   ],
   "source": [
    "ro = rohub.ros_create(title = \"Shark research\", research_areas = [\"Biology\", \"Zoology\"], use_template = True)"
   ]
  },
  {
   "cell_type": "markdown",
   "metadata": {},
   "source": [
    "As it turns out, specifying a `use_template` flag is not sufficient, since this parameter is dependent on the `ros_type`. "
   ]
  },
  {
   "cell_type": "markdown",
   "metadata": {},
   "source": [
    "Similar to `research_areas` the `ros_type` parameter has a limited set of valid values. To view all possible options one can use the `rohub.list_valid_ros_types()` function."
   ]
  },
  {
   "cell_type": "code",
   "execution_count": 18,
   "metadata": {},
   "outputs": [
    {
     "data": {
      "text/plain": [
       "['Basic Research Object',\n",
       " 'Bibliography-centric Research Object',\n",
       " 'Data-centric Research Object',\n",
       " 'Executable Research Object',\n",
       " 'Process-centric Research Object',\n",
       " 'Service-centric Research Object',\n",
       " 'Software-centric Research Object',\n",
       " 'Workflow-centric Research Object']"
      ]
     },
     "execution_count": 18,
     "metadata": {},
     "output_type": "execute_result"
    }
   ],
   "source": [
    "rohub.list_valid_ros_types()"
   ]
  },
  {
   "cell_type": "code",
   "execution_count": 19,
   "metadata": {},
   "outputs": [
    {
     "name": "stdout",
     "output_type": "stream",
     "text": [
      "Unfortunately there is no template associated with ros type that was chosen. The research object will be created without any template!\n",
      "Research Object was successfully created with id = ca36cfa7-3cd2-4c81-8b73-2e3d004d398d\n"
     ]
    }
   ],
   "source": [
    "ro = rohub.ros_create(title = \"Shark research\", research_areas = [\"Biology\", \"Zoology\"], ros_type = 'Process-centric Research Object', use_template = True)"
   ]
  },
  {
   "cell_type": "code",
   "execution_count": 20,
   "metadata": {},
   "outputs": [
    {
     "data": {
      "text/plain": [
       "'Process-centric Research Object'"
      ]
     },
     "execution_count": 20,
     "metadata": {},
     "output_type": "execute_result"
    }
   ],
   "source": [
    "ro.ros_type"
   ]
  },
  {
   "cell_type": "code",
   "execution_count": 21,
   "metadata": {},
   "outputs": [
    {
     "name": "stdout",
     "output_type": "stream",
     "text": [
      "None\n"
     ]
    }
   ],
   "source": [
    "print(ro.template)"
   ]
  },
  {
   "cell_type": "markdown",
   "metadata": {},
   "source": [
    "As we can see, the object was successfully created, but there is information that the library was unable to get a template for it. Unfortunately, not all research object types have an associated template to them. One can find it handy to check this relation before deciding how to initialize the research object. This can be done easily by executing `rohub.show_valid_type_matching_for_ros()`"
   ]
  },
  {
   "cell_type": "code",
   "execution_count": 22,
   "metadata": {},
   "outputs": [
    {
     "data": {
      "text/plain": [
       "{'Basic Research Object': None,\n",
       " 'Bibliography-centric Research Object': ['Bibliography Centric Research Object folders structure'],\n",
       " 'Data-centric Research Object': ['Data Centric Research Object folders structure'],\n",
       " 'Executable Research Object': ['Executable Research Object folders structure'],\n",
       " 'Process-centric Research Object': None,\n",
       " 'Service-centric Research Object': None,\n",
       " 'Software-centric Research Object': None,\n",
       " 'Workflow-centric Research Object': ['Workflow Centric Research Object folders structure']}"
      ]
     },
     "execution_count": 22,
     "metadata": {},
     "output_type": "execute_result"
    }
   ],
   "source": [
    "rohub.show_valid_type_matching_for_ros()"
   ]
  },
  {
   "cell_type": "markdown",
   "metadata": {},
   "source": [
    "The **Process-centric Research Object** doesn't have any associated templates! Let's try a different one to illustrate what it would look like to create a research object with the proper template."
   ]
  },
  {
   "cell_type": "code",
   "execution_count": 23,
   "metadata": {
    "scrolled": true
   },
   "outputs": [
    {
     "name": "stdout",
     "output_type": "stream",
     "text": [
      "Research Object was successfully created with id = 2907574d-d2d2-4945-baeb-7f67970dd6bf\n"
     ]
    }
   ],
   "source": [
    "ro = rohub.ros_create(title = \"Shark research\", research_areas = [\"Biology\", \"Zoology\"], ros_type = 'Bibliography-centric Research Object', use_template = True)"
   ]
  },
  {
   "cell_type": "code",
   "execution_count": 24,
   "metadata": {},
   "outputs": [
    {
     "data": {
      "text/plain": [
       "'Bibliography-centric Research Object'"
      ]
     },
     "execution_count": 24,
     "metadata": {},
     "output_type": "execute_result"
    }
   ],
   "source": [
    "ro.ros_type"
   ]
  },
  {
   "cell_type": "code",
   "execution_count": 25,
   "metadata": {},
   "outputs": [
    {
     "data": {
      "text/plain": [
       "'Bibliography Centric Research Object folders structure'"
      ]
     },
     "execution_count": 25,
     "metadata": {},
     "output_type": "execute_result"
    }
   ],
   "source": [
    "ro.template"
   ]
  },
  {
   "cell_type": "markdown",
   "metadata": {},
   "source": [
    "## Load an existing Research Object\n",
    "\n",
    "Before one can work with an existing research object, it has to be loaded using the `rohub.ros_load()` function, which expects exactly one argument - the research object's identifier. This will return a reusable python object, exactly as it was with creation."
   ]
  },
  {
   "cell_type": "markdown",
   "metadata": {},
   "source": [
    "### Example 1 - loading our own ROS\n",
    "Let's take and load the one which we already created in this tutorial. Its title is *The influence of eating habits on sleep*."
   ]
  },
  {
   "cell_type": "markdown",
   "metadata": {},
   "source": [
    "We could look up the id of this research object, but that is not always the case, so let's pretend we only remember the title, and we know that it was our research object. There are a couple of ways of getting an identifier of the research object we are looking for. \n",
    "\n",
    "Let's examine one of them using `list_my_ros()` function."
   ]
  },
  {
   "cell_type": "code",
   "execution_count": 4,
   "metadata": {},
   "outputs": [
    {
     "data": {
      "text/html": [
       "<div>\n",
       "<style scoped>\n",
       "    .dataframe tbody tr th:only-of-type {\n",
       "        vertical-align: middle;\n",
       "    }\n",
       "\n",
       "    .dataframe tbody tr th {\n",
       "        vertical-align: top;\n",
       "    }\n",
       "\n",
       "    .dataframe thead th {\n",
       "        text-align: right;\n",
       "    }\n",
       "</style>\n",
       "<table border=\"1\" class=\"dataframe\">\n",
       "  <thead>\n",
       "    <tr style=\"text-align: right;\">\n",
       "      <th></th>\n",
       "      <th>identifier</th>\n",
       "      <th>title</th>\n",
       "      <th>description</th>\n",
       "      <th>type</th>\n",
       "      <th>research_areas</th>\n",
       "      <th>status</th>\n",
       "      <th>created_on</th>\n",
       "      <th>created_by</th>\n",
       "      <th>modified_on</th>\n",
       "      <th>access_mode</th>\n",
       "      <th>owner</th>\n",
       "      <th>shared_link</th>\n",
       "    </tr>\n",
       "  </thead>\n",
       "  <tbody>\n",
       "    <tr>\n",
       "      <th>0</th>\n",
       "      <td>2907574d-d2d2-4945-baeb-7f67970dd6bf</td>\n",
       "      <td>Shark research</td>\n",
       "      <td>None</td>\n",
       "      <td>Bibliography-centric Research Object</td>\n",
       "      <td>[Biology, Zoology]</td>\n",
       "      <td>LIVE</td>\n",
       "      <td>2022-01-31T18:56:56.569095+00:00</td>\n",
       "      <td>liza.poltavchenko00@gmail.com</td>\n",
       "      <td>2022-01-31T18:56:56.911862+00:00</td>\n",
       "      <td>PUBLIC</td>\n",
       "      <td>liza.poltavchenko00@gmail.com</td>\n",
       "      <td>https://w3id.org/ro-id/2907574d-d2d2-4945-baeb...</td>\n",
       "    </tr>\n",
       "    <tr>\n",
       "      <th>1</th>\n",
       "      <td>ca36cfa7-3cd2-4c81-8b73-2e3d004d398d</td>\n",
       "      <td>Shark research</td>\n",
       "      <td>None</td>\n",
       "      <td>Process-centric Research Object</td>\n",
       "      <td>[Biology, Zoology]</td>\n",
       "      <td>LIVE</td>\n",
       "      <td>2022-01-31T18:56:40.803860+00:00</td>\n",
       "      <td>liza.poltavchenko00@gmail.com</td>\n",
       "      <td>2022-01-31T19:29:33.486981+00:00</td>\n",
       "      <td>PUBLIC</td>\n",
       "      <td>liza.poltavchenko00@gmail.com</td>\n",
       "      <td>https://w3id.org/ro-id/ca36cfa7-3cd2-4c81-8b73...</td>\n",
       "    </tr>\n",
       "    <tr>\n",
       "      <th>2</th>\n",
       "      <td>565710be-d927-4d95-b1d7-703142a748e9</td>\n",
       "      <td>Shark research</td>\n",
       "      <td>None</td>\n",
       "      <td>Basic Research Object</td>\n",
       "      <td>[Biology, Zoology]</td>\n",
       "      <td>LIVE</td>\n",
       "      <td>2022-01-31T18:56:13.645402+00:00</td>\n",
       "      <td>liza.poltavchenko00@gmail.com</td>\n",
       "      <td>2022-01-31T19:25:08.501855+00:00</td>\n",
       "      <td>PUBLIC</td>\n",
       "      <td>liza.poltavchenko00@gmail.com</td>\n",
       "      <td>https://w3id.org/ro-id/565710be-d927-4d95-b1d7...</td>\n",
       "    </tr>\n",
       "    <tr>\n",
       "      <th>3</th>\n",
       "      <td>5d1d0f06-b7da-4a16-952b-e1c078283cf5</td>\n",
       "      <td>TestRO_2</td>\n",
       "      <td>None</td>\n",
       "      <td>Basic Research Object</td>\n",
       "      <td>[Biology, Zoology]</td>\n",
       "      <td>LIVE</td>\n",
       "      <td>2022-01-31T18:56:00.994104+00:00</td>\n",
       "      <td>liza.poltavchenko00@gmail.com</td>\n",
       "      <td>2022-01-31T18:56:01.373351+00:00</td>\n",
       "      <td>PUBLIC</td>\n",
       "      <td>liza.poltavchenko00@gmail.com</td>\n",
       "      <td>https://w3id.org/ro-id/5d1d0f06-b7da-4a16-952b...</td>\n",
       "    </tr>\n",
       "    <tr>\n",
       "      <th>4</th>\n",
       "      <td>4954ed97-b583-4eb1-b475-42864f80f683</td>\n",
       "      <td>TestRO</td>\n",
       "      <td>None</td>\n",
       "      <td>Basic Research Object</td>\n",
       "      <td>[Acoustics, Aerodynamics, Agronomy]</td>\n",
       "      <td>LIVE</td>\n",
       "      <td>2022-01-31T18:55:55.244617+00:00</td>\n",
       "      <td>liza.poltavchenko00@gmail.com</td>\n",
       "      <td>2022-01-31T18:55:55.649435+00:00</td>\n",
       "      <td>PUBLIC</td>\n",
       "      <td>liza.poltavchenko00@gmail.com</td>\n",
       "      <td>https://w3id.org/ro-id/4954ed97-b583-4eb1-b475...</td>\n",
       "    </tr>\n",
       "    <tr>\n",
       "      <th>5</th>\n",
       "      <td>623a5e15-3a3e-437b-95d1-684dbb093b51</td>\n",
       "      <td>The influence of eating habits on sleep</td>\n",
       "      <td>None</td>\n",
       "      <td>Basic Research Object</td>\n",
       "      <td>[Medical science]</td>\n",
       "      <td>LIVE</td>\n",
       "      <td>2022-01-31T18:55:48.145155+00:00</td>\n",
       "      <td>liza.poltavchenko00@gmail.com</td>\n",
       "      <td>2022-01-31T18:55:48.463100+00:00</td>\n",
       "      <td>PUBLIC</td>\n",
       "      <td>liza.poltavchenko00@gmail.com</td>\n",
       "      <td>https://w3id.org/ro-id/623a5e15-3a3e-437b-95d1...</td>\n",
       "    </tr>\n",
       "  </tbody>\n",
       "</table>\n",
       "</div>"
      ],
      "text/plain": [
       "                             identifier  \\\n",
       "0  2907574d-d2d2-4945-baeb-7f67970dd6bf   \n",
       "1  ca36cfa7-3cd2-4c81-8b73-2e3d004d398d   \n",
       "2  565710be-d927-4d95-b1d7-703142a748e9   \n",
       "3  5d1d0f06-b7da-4a16-952b-e1c078283cf5   \n",
       "4  4954ed97-b583-4eb1-b475-42864f80f683   \n",
       "5  623a5e15-3a3e-437b-95d1-684dbb093b51   \n",
       "\n",
       "                                     title description  \\\n",
       "0                           Shark research        None   \n",
       "1                           Shark research        None   \n",
       "2                           Shark research        None   \n",
       "3                                 TestRO_2        None   \n",
       "4                                   TestRO        None   \n",
       "5  The influence of eating habits on sleep        None   \n",
       "\n",
       "                                   type                       research_areas  \\\n",
       "0  Bibliography-centric Research Object                   [Biology, Zoology]   \n",
       "1       Process-centric Research Object                   [Biology, Zoology]   \n",
       "2                 Basic Research Object                   [Biology, Zoology]   \n",
       "3                 Basic Research Object                   [Biology, Zoology]   \n",
       "4                 Basic Research Object  [Acoustics, Aerodynamics, Agronomy]   \n",
       "5                 Basic Research Object                    [Medical science]   \n",
       "\n",
       "  status                        created_on                     created_by  \\\n",
       "0   LIVE  2022-01-31T18:56:56.569095+00:00  liza.poltavchenko00@gmail.com   \n",
       "1   LIVE  2022-01-31T18:56:40.803860+00:00  liza.poltavchenko00@gmail.com   \n",
       "2   LIVE  2022-01-31T18:56:13.645402+00:00  liza.poltavchenko00@gmail.com   \n",
       "3   LIVE  2022-01-31T18:56:00.994104+00:00  liza.poltavchenko00@gmail.com   \n",
       "4   LIVE  2022-01-31T18:55:55.244617+00:00  liza.poltavchenko00@gmail.com   \n",
       "5   LIVE  2022-01-31T18:55:48.145155+00:00  liza.poltavchenko00@gmail.com   \n",
       "\n",
       "                        modified_on access_mode  \\\n",
       "0  2022-01-31T18:56:56.911862+00:00      PUBLIC   \n",
       "1  2022-01-31T19:29:33.486981+00:00      PUBLIC   \n",
       "2  2022-01-31T19:25:08.501855+00:00      PUBLIC   \n",
       "3  2022-01-31T18:56:01.373351+00:00      PUBLIC   \n",
       "4  2022-01-31T18:55:55.649435+00:00      PUBLIC   \n",
       "5  2022-01-31T18:55:48.463100+00:00      PUBLIC   \n",
       "\n",
       "                           owner  \\\n",
       "0  liza.poltavchenko00@gmail.com   \n",
       "1  liza.poltavchenko00@gmail.com   \n",
       "2  liza.poltavchenko00@gmail.com   \n",
       "3  liza.poltavchenko00@gmail.com   \n",
       "4  liza.poltavchenko00@gmail.com   \n",
       "5  liza.poltavchenko00@gmail.com   \n",
       "\n",
       "                                         shared_link  \n",
       "0  https://w3id.org/ro-id/2907574d-d2d2-4945-baeb...  \n",
       "1  https://w3id.org/ro-id/ca36cfa7-3cd2-4c81-8b73...  \n",
       "2  https://w3id.org/ro-id/565710be-d927-4d95-b1d7...  \n",
       "3  https://w3id.org/ro-id/5d1d0f06-b7da-4a16-952b...  \n",
       "4  https://w3id.org/ro-id/4954ed97-b583-4eb1-b475...  \n",
       "5  https://w3id.org/ro-id/623a5e15-3a3e-437b-95d1...  "
      ]
     },
     "execution_count": 4,
     "metadata": {},
     "output_type": "execute_result"
    }
   ],
   "source": [
    "my_ros = rohub.list_my_ros()\n",
    "my_ros"
   ]
  },
  {
   "cell_type": "markdown",
   "metadata": {},
   "source": [
    "The results are presented as Panda's DataFrame. The well-known and capable data structure in the scientific community. In the snippet below, we are referencing one particular research object by capturing its identifier. "
   ]
  },
  {
   "cell_type": "code",
   "execution_count": 6,
   "metadata": {},
   "outputs": [
    {
     "data": {
      "text/plain": [
       "'623a5e15-3a3e-437b-95d1-684dbb093b51'"
      ]
     },
     "execution_count": 6,
     "metadata": {},
     "output_type": "execute_result"
    }
   ],
   "source": [
    "loaded_ro_id = my_ros.loc[5, 'identifier']\n",
    "loaded_ro_id"
   ]
  },
  {
   "cell_type": "markdown",
   "metadata": {},
   "source": [
    "Now, let's load the research object."
   ]
  },
  {
   "cell_type": "code",
   "execution_count": 7,
   "metadata": {},
   "outputs": [
    {
     "name": "stdout",
     "output_type": "stream",
     "text": [
      "Research Object was successfully loaded with id = 623a5e15-3a3e-437b-95d1-684dbb093b51\n"
     ]
    }
   ],
   "source": [
    "loaded_ro = rohub.ros_load(identifier = loaded_ro_id)"
   ]
  },
  {
   "cell_type": "markdown",
   "metadata": {},
   "source": [
    "We can also inspect some of its attributes."
   ]
  },
  {
   "cell_type": "code",
   "execution_count": 27,
   "metadata": {},
   "outputs": [
    {
     "data": {
      "text/plain": [
       "'The influence of eating habits on sleep'"
      ]
     },
     "execution_count": 27,
     "metadata": {},
     "output_type": "execute_result"
    }
   ],
   "source": [
    "loaded_ro.title"
   ]
  },
  {
   "cell_type": "code",
   "execution_count": 28,
   "metadata": {},
   "outputs": [
    {
     "data": {
      "text/plain": [
       "['Medical science']"
      ]
     },
     "execution_count": 28,
     "metadata": {},
     "output_type": "execute_result"
    }
   ],
   "source": [
    "loaded_ro.research_areas"
   ]
  },
  {
   "cell_type": "markdown",
   "metadata": {},
   "source": [
    "### Example 2 - loading ROS that belongs to someone else\n",
    "We often work with our research objects, although that is not always the case. In the scenario where we would like to load a research object that belongs to someone else, we would need a different approach in finding the corresponding identifier. \n",
    "\n",
    "For that purpose, we could use a `ros_find` function that can display all `PUBLIC` research objects. "
   ]
  },
  {
   "cell_type": "code",
   "execution_count": 8,
   "metadata": {},
   "outputs": [
    {
     "data": {
      "text/html": [
       "<div>\n",
       "<style scoped>\n",
       "    .dataframe tbody tr th:only-of-type {\n",
       "        vertical-align: middle;\n",
       "    }\n",
       "\n",
       "    .dataframe tbody tr th {\n",
       "        vertical-align: top;\n",
       "    }\n",
       "\n",
       "    .dataframe thead th {\n",
       "        text-align: right;\n",
       "    }\n",
       "</style>\n",
       "<table border=\"1\" class=\"dataframe\">\n",
       "  <thead>\n",
       "    <tr style=\"text-align: right;\">\n",
       "      <th></th>\n",
       "      <th>identifier</th>\n",
       "      <th>title</th>\n",
       "      <th>description</th>\n",
       "      <th>type</th>\n",
       "      <th>research_areas</th>\n",
       "      <th>status</th>\n",
       "      <th>created_on</th>\n",
       "      <th>created_by</th>\n",
       "      <th>modified_on</th>\n",
       "      <th>access_mode</th>\n",
       "      <th>owner</th>\n",
       "      <th>shared_link</th>\n",
       "    </tr>\n",
       "  </thead>\n",
       "  <tbody>\n",
       "    <tr>\n",
       "      <th>0</th>\n",
       "      <td>6077e014-ded1-45e3-98a4-3b10ad8f8e59</td>\n",
       "      <td>Substrate and benthic habitat map of the south...</td>\n",
       "      <td>Data, workflow and results of the RSOBIA analy...</td>\n",
       "      <td>Basic Research Object</td>\n",
       "      <td>[Earth sciences]</td>\n",
       "      <td>LIVE</td>\n",
       "      <td>2022-02-03T12:56:54.674971+00:00</td>\n",
       "      <td>rpalma@man.poznan.pl</td>\n",
       "      <td>2022-02-03T16:08:50.433228+00:00</td>\n",
       "      <td>PUBLIC</td>\n",
       "      <td>rpalma@man.poznan.pl</td>\n",
       "      <td>https://w3id.org/ro-id/6077e014-ded1-45e3-98a4...</td>\n",
       "    </tr>\n",
       "    <tr>\n",
       "      <th>1</th>\n",
       "      <td>732f0254-b159-4526-b176-700bd06f5e20</td>\n",
       "      <td>Modelling of the 2011-2012 inflation at Santor...</td>\n",
       "      <td>This Research Object has been created by the R...</td>\n",
       "      <td>Workflow-centric Research Object</td>\n",
       "      <td>[Earth sciences]</td>\n",
       "      <td>LIVE</td>\n",
       "      <td>2022-02-02T18:29:05.488826+00:00</td>\n",
       "      <td>elisa.trasatti@ingv.it</td>\n",
       "      <td>2022-02-02T19:08:49.081203+00:00</td>\n",
       "      <td>PUBLIC</td>\n",
       "      <td>elisa.trasatti@ingv.it</td>\n",
       "      <td>https://w3id.org/ro-id/732f0254-b159-4526-b176...</td>\n",
       "    </tr>\n",
       "    <tr>\n",
       "      <th>2</th>\n",
       "      <td>ad7980bf-827a-4052-844e-fa21dacac56a</td>\n",
       "      <td>Mt. Etna (Italy) seismic activity from 2022-01...</td>\n",
       "      <td>This RO contains the seismicity occurring at M...</td>\n",
       "      <td>Bibliography-centric Research Object</td>\n",
       "      <td>[Earth sciences]</td>\n",
       "      <td>LIVE</td>\n",
       "      <td>2022-02-02T15:37:44.820189+00:00</td>\n",
       "      <td>service-account-generation-service</td>\n",
       "      <td>2022-02-02T17:48:52.648736+00:00</td>\n",
       "      <td>PUBLIC</td>\n",
       "      <td>service-account-generation-service</td>\n",
       "      <td>https://w3id.org/ro-id/ad7980bf-827a-4052-844e...</td>\n",
       "    </tr>\n",
       "    <tr>\n",
       "      <th>3</th>\n",
       "      <td>2f618744-fcc2-4cc7-8cf5-297ef245bdd3</td>\n",
       "      <td>Mt. Etna (Italy) seismic activity from 2021-12...</td>\n",
       "      <td>This RO contains the seismicity occurring at M...</td>\n",
       "      <td>Bibliography-centric Research Object</td>\n",
       "      <td>[Earth sciences]</td>\n",
       "      <td>LIVE</td>\n",
       "      <td>2022-02-02T15:36:51.064746+00:00</td>\n",
       "      <td>service-account-generation-service</td>\n",
       "      <td>2022-02-02T17:47:13.812853+00:00</td>\n",
       "      <td>PUBLIC</td>\n",
       "      <td>service-account-generation-service</td>\n",
       "      <td>https://w3id.org/ro-id/2f618744-fcc2-4cc7-8cf5...</td>\n",
       "    </tr>\n",
       "    <tr>\n",
       "      <th>4</th>\n",
       "      <td>f1515645-37a5-4186-bfa4-01d82efcde18</td>\n",
       "      <td>Mt. Etna (Italy) seismic activity from 2021-12...</td>\n",
       "      <td>This RO contains the seismicity occurring at M...</td>\n",
       "      <td>Bibliography-centric Research Object</td>\n",
       "      <td>[Earth sciences]</td>\n",
       "      <td>LIVE</td>\n",
       "      <td>2022-02-02T15:36:27.010770+00:00</td>\n",
       "      <td>service-account-generation-service</td>\n",
       "      <td>2022-02-02T17:47:03.250491+00:00</td>\n",
       "      <td>PUBLIC</td>\n",
       "      <td>service-account-generation-service</td>\n",
       "      <td>https://w3id.org/ro-id/f1515645-37a5-4186-bfa4...</td>\n",
       "    </tr>\n",
       "    <tr>\n",
       "      <th>...</th>\n",
       "      <td>...</td>\n",
       "      <td>...</td>\n",
       "      <td>...</td>\n",
       "      <td>...</td>\n",
       "      <td>...</td>\n",
       "      <td>...</td>\n",
       "      <td>...</td>\n",
       "      <td>...</td>\n",
       "      <td>...</td>\n",
       "      <td>...</td>\n",
       "      <td>...</td>\n",
       "      <td>...</td>\n",
       "    </tr>\n",
       "    <tr>\n",
       "      <th>1050</th>\n",
       "      <td>834fb808-6076-4794-9fa7-86751136506f</td>\n",
       "      <td>Etna Eruption Research Object TEST</td>\n",
       "      <td>None</td>\n",
       "      <td>Basic Research Object</td>\n",
       "      <td>[Earth sciences]</td>\n",
       "      <td>LIVE</td>\n",
       "      <td>2021-11-08T11:19:11.938684+00:00</td>\n",
       "      <td>dario.stelitano@ingv.it</td>\n",
       "      <td>2021-11-08T11:24:35.467546+00:00</td>\n",
       "      <td>PUBLIC</td>\n",
       "      <td>dario.stelitano@ingv.it</td>\n",
       "      <td>https://w3id.org/ro-id/834fb808-6076-4794-9fa7...</td>\n",
       "    </tr>\n",
       "    <tr>\n",
       "      <th>1051</th>\n",
       "      <td>b040c5de-3e8a-49be-9b63-1091dd284cb2</td>\n",
       "      <td>Volcano and Seismic source Modelling VSM</td>\n",
       "      <td>The VSM (Volcano and Seismic source Modelling)...</td>\n",
       "      <td>Workflow Research Object</td>\n",
       "      <td>[Earth sciences]</td>\n",
       "      <td>ARCHIVE</td>\n",
       "      <td>2021-10-22T10:59:17.978695+00:00</td>\n",
       "      <td>gosiaw@man.poznan.pl</td>\n",
       "      <td>2021-11-03T09:58:50.855738+00:00</td>\n",
       "      <td>PUBLIC</td>\n",
       "      <td>gosiaw@man.poznan.pl</td>\n",
       "      <td>https://w3id.org/ro-id/b040c5de-3e8a-49be-9b63...</td>\n",
       "    </tr>\n",
       "    <tr>\n",
       "      <th>1052</th>\n",
       "      <td>0c566809-670b-41f7-9999-ac913a934b5b</td>\n",
       "      <td>Volcano and Seismic source Modelling VSM</td>\n",
       "      <td>The VSM (Volcano and Seismic source Modelling)...</td>\n",
       "      <td>Workflow Research Object</td>\n",
       "      <td>[Earth sciences]</td>\n",
       "      <td>ARCHIVE</td>\n",
       "      <td>2021-10-22T10:57:16.765937+00:00</td>\n",
       "      <td>gosiaw@man.poznan.pl</td>\n",
       "      <td>2021-11-03T09:58:50.855738+00:00</td>\n",
       "      <td>PUBLIC</td>\n",
       "      <td>gosiaw@man.poznan.pl</td>\n",
       "      <td>https://w3id.org/ro-id/0c566809-670b-41f7-9999...</td>\n",
       "    </tr>\n",
       "    <tr>\n",
       "      <th>1053</th>\n",
       "      <td>bb02f6ca-183f-4a02-9c58-c3cb3129aa59</td>\n",
       "      <td>In My Backyard</td>\n",
       "      <td>The project aims to understand and map the use...</td>\n",
       "      <td>Basic Research Object</td>\n",
       "      <td>[]</td>\n",
       "      <td>LIVE</td>\n",
       "      <td>2021-10-22T10:36:34.684359+00:00</td>\n",
       "      <td>gosiaw@man.poznan.pl</td>\n",
       "      <td>2021-11-03T09:58:50.855738+00:00</td>\n",
       "      <td>PUBLIC</td>\n",
       "      <td>gosiaw@man.poznan.pl</td>\n",
       "      <td>https://w3id.org/ro-id/bb02f6ca-183f-4a02-9c58...</td>\n",
       "    </tr>\n",
       "    <tr>\n",
       "      <th>1054</th>\n",
       "      <td>68b7aa70-da01-4042-9fea-d6743381084c</td>\n",
       "      <td>Visualize 3 days forecast of Birch pollen</td>\n",
       "      <td>Retrieve Copernicus data from CAMS and visuali...</td>\n",
       "      <td>Basic Research Object</td>\n",
       "      <td>[]</td>\n",
       "      <td>LIVE</td>\n",
       "      <td>2021-10-22T10:34:45.276501+00:00</td>\n",
       "      <td>gosiaw@man.poznan.pl</td>\n",
       "      <td>2021-11-03T09:58:50.855738+00:00</td>\n",
       "      <td>PUBLIC</td>\n",
       "      <td>gosiaw@man.poznan.pl</td>\n",
       "      <td>https://w3id.org/ro-id/68b7aa70-da01-4042-9fea...</td>\n",
       "    </tr>\n",
       "  </tbody>\n",
       "</table>\n",
       "<p>1055 rows × 12 columns</p>\n",
       "</div>"
      ],
      "text/plain": [
       "                                identifier  \\\n",
       "0     6077e014-ded1-45e3-98a4-3b10ad8f8e59   \n",
       "1     732f0254-b159-4526-b176-700bd06f5e20   \n",
       "2     ad7980bf-827a-4052-844e-fa21dacac56a   \n",
       "3     2f618744-fcc2-4cc7-8cf5-297ef245bdd3   \n",
       "4     f1515645-37a5-4186-bfa4-01d82efcde18   \n",
       "...                                    ...   \n",
       "1050  834fb808-6076-4794-9fa7-86751136506f   \n",
       "1051  b040c5de-3e8a-49be-9b63-1091dd284cb2   \n",
       "1052  0c566809-670b-41f7-9999-ac913a934b5b   \n",
       "1053  bb02f6ca-183f-4a02-9c58-c3cb3129aa59   \n",
       "1054  68b7aa70-da01-4042-9fea-d6743381084c   \n",
       "\n",
       "                                                  title  \\\n",
       "0     Substrate and benthic habitat map of the south...   \n",
       "1     Modelling of the 2011-2012 inflation at Santor...   \n",
       "2     Mt. Etna (Italy) seismic activity from 2022-01...   \n",
       "3     Mt. Etna (Italy) seismic activity from 2021-12...   \n",
       "4     Mt. Etna (Italy) seismic activity from 2021-12...   \n",
       "...                                                 ...   \n",
       "1050                 Etna Eruption Research Object TEST   \n",
       "1051           Volcano and Seismic source Modelling VSM   \n",
       "1052           Volcano and Seismic source Modelling VSM   \n",
       "1053                                     In My Backyard   \n",
       "1054          Visualize 3 days forecast of Birch pollen   \n",
       "\n",
       "                                            description  \\\n",
       "0     Data, workflow and results of the RSOBIA analy...   \n",
       "1     This Research Object has been created by the R...   \n",
       "2     This RO contains the seismicity occurring at M...   \n",
       "3     This RO contains the seismicity occurring at M...   \n",
       "4     This RO contains the seismicity occurring at M...   \n",
       "...                                                 ...   \n",
       "1050                                               None   \n",
       "1051  The VSM (Volcano and Seismic source Modelling)...   \n",
       "1052  The VSM (Volcano and Seismic source Modelling)...   \n",
       "1053  The project aims to understand and map the use...   \n",
       "1054  Retrieve Copernicus data from CAMS and visuali...   \n",
       "\n",
       "                                      type    research_areas   status  \\\n",
       "0                    Basic Research Object  [Earth sciences]     LIVE   \n",
       "1         Workflow-centric Research Object  [Earth sciences]     LIVE   \n",
       "2     Bibliography-centric Research Object  [Earth sciences]     LIVE   \n",
       "3     Bibliography-centric Research Object  [Earth sciences]     LIVE   \n",
       "4     Bibliography-centric Research Object  [Earth sciences]     LIVE   \n",
       "...                                    ...               ...      ...   \n",
       "1050                 Basic Research Object  [Earth sciences]     LIVE   \n",
       "1051              Workflow Research Object  [Earth sciences]  ARCHIVE   \n",
       "1052              Workflow Research Object  [Earth sciences]  ARCHIVE   \n",
       "1053                 Basic Research Object                []     LIVE   \n",
       "1054                 Basic Research Object                []     LIVE   \n",
       "\n",
       "                            created_on                          created_by  \\\n",
       "0     2022-02-03T12:56:54.674971+00:00                rpalma@man.poznan.pl   \n",
       "1     2022-02-02T18:29:05.488826+00:00              elisa.trasatti@ingv.it   \n",
       "2     2022-02-02T15:37:44.820189+00:00  service-account-generation-service   \n",
       "3     2022-02-02T15:36:51.064746+00:00  service-account-generation-service   \n",
       "4     2022-02-02T15:36:27.010770+00:00  service-account-generation-service   \n",
       "...                                ...                                 ...   \n",
       "1050  2021-11-08T11:19:11.938684+00:00             dario.stelitano@ingv.it   \n",
       "1051  2021-10-22T10:59:17.978695+00:00                gosiaw@man.poznan.pl   \n",
       "1052  2021-10-22T10:57:16.765937+00:00                gosiaw@man.poznan.pl   \n",
       "1053  2021-10-22T10:36:34.684359+00:00                gosiaw@man.poznan.pl   \n",
       "1054  2021-10-22T10:34:45.276501+00:00                gosiaw@man.poznan.pl   \n",
       "\n",
       "                           modified_on access_mode  \\\n",
       "0     2022-02-03T16:08:50.433228+00:00      PUBLIC   \n",
       "1     2022-02-02T19:08:49.081203+00:00      PUBLIC   \n",
       "2     2022-02-02T17:48:52.648736+00:00      PUBLIC   \n",
       "3     2022-02-02T17:47:13.812853+00:00      PUBLIC   \n",
       "4     2022-02-02T17:47:03.250491+00:00      PUBLIC   \n",
       "...                                ...         ...   \n",
       "1050  2021-11-08T11:24:35.467546+00:00      PUBLIC   \n",
       "1051  2021-11-03T09:58:50.855738+00:00      PUBLIC   \n",
       "1052  2021-11-03T09:58:50.855738+00:00      PUBLIC   \n",
       "1053  2021-11-03T09:58:50.855738+00:00      PUBLIC   \n",
       "1054  2021-11-03T09:58:50.855738+00:00      PUBLIC   \n",
       "\n",
       "                                   owner  \\\n",
       "0                   rpalma@man.poznan.pl   \n",
       "1                 elisa.trasatti@ingv.it   \n",
       "2     service-account-generation-service   \n",
       "3     service-account-generation-service   \n",
       "4     service-account-generation-service   \n",
       "...                                  ...   \n",
       "1050             dario.stelitano@ingv.it   \n",
       "1051                gosiaw@man.poznan.pl   \n",
       "1052                gosiaw@man.poznan.pl   \n",
       "1053                gosiaw@man.poznan.pl   \n",
       "1054                gosiaw@man.poznan.pl   \n",
       "\n",
       "                                            shared_link  \n",
       "0     https://w3id.org/ro-id/6077e014-ded1-45e3-98a4...  \n",
       "1     https://w3id.org/ro-id/732f0254-b159-4526-b176...  \n",
       "2     https://w3id.org/ro-id/ad7980bf-827a-4052-844e...  \n",
       "3     https://w3id.org/ro-id/2f618744-fcc2-4cc7-8cf5...  \n",
       "4     https://w3id.org/ro-id/f1515645-37a5-4186-bfa4...  \n",
       "...                                                 ...  \n",
       "1050  https://w3id.org/ro-id/834fb808-6076-4794-9fa7...  \n",
       "1051  https://w3id.org/ro-id/b040c5de-3e8a-49be-9b63...  \n",
       "1052  https://w3id.org/ro-id/0c566809-670b-41f7-9999...  \n",
       "1053  https://w3id.org/ro-id/bb02f6ca-183f-4a02-9c58...  \n",
       "1054  https://w3id.org/ro-id/68b7aa70-da01-4042-9fea...  \n",
       "\n",
       "[1055 rows x 12 columns]"
      ]
     },
     "execution_count": 8,
     "metadata": {},
     "output_type": "execute_result"
    }
   ],
   "source": [
    "all_ros = rohub.ros_find()\n",
    "all_ros"
   ]
  },
  {
   "cell_type": "markdown",
   "metadata": {},
   "source": [
    "As a result, we are getting a Panda's DataFrame object. We can query our data on two different levels, either by specifying optional parameter search at the function level or by querying DataFrame directly. \n",
    "The latter is more robust, but the downside is that we are loading a significant amount of data into our local scope. The former approach will be presented in the next chapter. \n",
    "\n",
    "We are going to look for a specific author by querying based on the owner value."
   ]
  },
  {
   "cell_type": "code",
   "execution_count": 9,
   "metadata": {},
   "outputs": [
    {
     "data": {
      "text/html": [
       "<div>\n",
       "<style scoped>\n",
       "    .dataframe tbody tr th:only-of-type {\n",
       "        vertical-align: middle;\n",
       "    }\n",
       "\n",
       "    .dataframe tbody tr th {\n",
       "        vertical-align: top;\n",
       "    }\n",
       "\n",
       "    .dataframe thead th {\n",
       "        text-align: right;\n",
       "    }\n",
       "</style>\n",
       "<table border=\"1\" class=\"dataframe\">\n",
       "  <thead>\n",
       "    <tr style=\"text-align: right;\">\n",
       "      <th></th>\n",
       "      <th>identifier</th>\n",
       "      <th>title</th>\n",
       "      <th>description</th>\n",
       "      <th>type</th>\n",
       "      <th>research_areas</th>\n",
       "      <th>status</th>\n",
       "      <th>created_on</th>\n",
       "      <th>created_by</th>\n",
       "      <th>modified_on</th>\n",
       "      <th>access_mode</th>\n",
       "      <th>owner</th>\n",
       "      <th>shared_link</th>\n",
       "    </tr>\n",
       "  </thead>\n",
       "  <tbody>\n",
       "    <tr>\n",
       "      <th>1</th>\n",
       "      <td>732f0254-b159-4526-b176-700bd06f5e20</td>\n",
       "      <td>Modelling of the 2011-2012 inflation at Santor...</td>\n",
       "      <td>This Research Object has been created by the R...</td>\n",
       "      <td>Workflow-centric Research Object</td>\n",
       "      <td>[Earth sciences]</td>\n",
       "      <td>LIVE</td>\n",
       "      <td>2022-02-02T18:29:05.488826+00:00</td>\n",
       "      <td>elisa.trasatti@ingv.it</td>\n",
       "      <td>2022-02-02T19:08:49.081203+00:00</td>\n",
       "      <td>PUBLIC</td>\n",
       "      <td>elisa.trasatti@ingv.it</td>\n",
       "      <td>https://w3id.org/ro-id/732f0254-b159-4526-b176...</td>\n",
       "    </tr>\n",
       "    <tr>\n",
       "      <th>938</th>\n",
       "      <td>61bceafe-5b48-4548-8caf-4142153b1b1b</td>\n",
       "      <td>Mean ground velocities from ALOS-2 data at Cha...</td>\n",
       "      <td>This Research Object contains the raster file ...</td>\n",
       "      <td>Data-centric Research Object</td>\n",
       "      <td>[Earth sciences]</td>\n",
       "      <td>SNAPSHOT</td>\n",
       "      <td>2021-12-13T17:51:39.249280+00:00</td>\n",
       "      <td>elisa.trasatti@ingv.it</td>\n",
       "      <td>2021-12-13T17:51:56.118622+00:00</td>\n",
       "      <td>PUBLIC</td>\n",
       "      <td>elisa.trasatti@ingv.it</td>\n",
       "      <td>https://w3id.org/ro-id/61bceafe-5b48-4548-8caf...</td>\n",
       "    </tr>\n",
       "    <tr>\n",
       "      <th>1028</th>\n",
       "      <td>0938a79e-f5a6-4481-b01a-a82e17f7d51a</td>\n",
       "      <td>Surface deformation related to the eruption (2...</td>\n",
       "      <td>This Research Object has been created by the R...</td>\n",
       "      <td>Code Research Research Object</td>\n",
       "      <td>[Earth sciences]</td>\n",
       "      <td>LIVE</td>\n",
       "      <td>2021-11-10T18:55:24.946015+00:00</td>\n",
       "      <td>elisa.trasatti@ingv.it</td>\n",
       "      <td>2021-11-10T18:56:15.966137+00:00</td>\n",
       "      <td>PUBLIC</td>\n",
       "      <td>elisa.trasatti@ingv.it</td>\n",
       "      <td>https://w3id.org/ro-id/0938a79e-f5a6-4481-b01a...</td>\n",
       "    </tr>\n",
       "    <tr>\n",
       "      <th>1029</th>\n",
       "      <td>09d35670-c07e-41f2-94f9-c58119e33b60</td>\n",
       "      <td>Modelling of the 2011-2012 inflation at Santor...</td>\n",
       "      <td>This Research Object has been created by the R...</td>\n",
       "      <td>Code Research Research Object</td>\n",
       "      <td>[Earth sciences]</td>\n",
       "      <td>LIVE</td>\n",
       "      <td>2021-11-10T14:46:19.306390+00:00</td>\n",
       "      <td>elisa.trasatti@ingv.it</td>\n",
       "      <td>2021-11-10T14:47:25.624453+00:00</td>\n",
       "      <td>PUBLIC</td>\n",
       "      <td>elisa.trasatti@ingv.it</td>\n",
       "      <td>https://w3id.org/ro-id/09d35670-c07e-41f2-94f9...</td>\n",
       "    </tr>\n",
       "    <tr>\n",
       "      <th>1030</th>\n",
       "      <td>d86d66ff-c096-4e78-b02a-95cfeba21e35</td>\n",
       "      <td>Modelling of the 1993-1997 inflation at Mt Etn...</td>\n",
       "      <td>This Research Object has been created by the R...</td>\n",
       "      <td>Code Research Research Object</td>\n",
       "      <td>[Earth sciences]</td>\n",
       "      <td>LIVE</td>\n",
       "      <td>2021-11-10T14:08:28.357310+00:00</td>\n",
       "      <td>elisa.trasatti@ingv.it</td>\n",
       "      <td>2021-11-10T14:11:38.960665+00:00</td>\n",
       "      <td>PUBLIC</td>\n",
       "      <td>elisa.trasatti@ingv.it</td>\n",
       "      <td>https://w3id.org/ro-id/d86d66ff-c096-4e78-b02a...</td>\n",
       "    </tr>\n",
       "    <tr>\n",
       "      <th>1031</th>\n",
       "      <td>6d6e540b-1b52-4ad1-8906-33d3144fce68</td>\n",
       "      <td>Modelling of 27 years of subsidence at the vol...</td>\n",
       "      <td>This Research Object has been created by the R...</td>\n",
       "      <td>Code Research Research Object</td>\n",
       "      <td>[Earth sciences]</td>\n",
       "      <td>LIVE</td>\n",
       "      <td>2021-11-10T14:04:01.839381+00:00</td>\n",
       "      <td>elisa.trasatti@ingv.it</td>\n",
       "      <td>2021-11-10T14:05:24.258233+00:00</td>\n",
       "      <td>PUBLIC</td>\n",
       "      <td>elisa.trasatti@ingv.it</td>\n",
       "      <td>https://w3id.org/ro-id/6d6e540b-1b52-4ad1-8906...</td>\n",
       "    </tr>\n",
       "    <tr>\n",
       "      <th>1032</th>\n",
       "      <td>cdcd3c0a-f280-40de-93e6-9a4ba2be6f67</td>\n",
       "      <td>Campi Flegrei Caldera (Italy) 2011-2013 deform...</td>\n",
       "      <td>This Research Object has been created by the r...</td>\n",
       "      <td>Code Research Research Object</td>\n",
       "      <td>[Earth sciences]</td>\n",
       "      <td>LIVE</td>\n",
       "      <td>2021-11-10T13:18:11.714467+00:00</td>\n",
       "      <td>elisa.trasatti@ingv.it</td>\n",
       "      <td>2021-11-10T13:19:19.899629+00:00</td>\n",
       "      <td>PUBLIC</td>\n",
       "      <td>elisa.trasatti@ingv.it</td>\n",
       "      <td>https://w3id.org/ro-id/cdcd3c0a-f280-40de-93e6...</td>\n",
       "    </tr>\n",
       "    <tr>\n",
       "      <th>1044</th>\n",
       "      <td>7749bd2b-72f8-4a29-8565-20a04f419b3a</td>\n",
       "      <td>Campi Flegrei Caldera (Italy) 2011-2013 deform...</td>\n",
       "      <td>This Research Object has been created by the r...</td>\n",
       "      <td>Code Research Research Object</td>\n",
       "      <td>[Earth sciences]</td>\n",
       "      <td>LIVE</td>\n",
       "      <td>2021-11-09T21:43:28.116800+00:00</td>\n",
       "      <td>elisa.trasatti@ingv.it</td>\n",
       "      <td>2021-11-09T21:45:31.605420+00:00</td>\n",
       "      <td>PUBLIC</td>\n",
       "      <td>elisa.trasatti@ingv.it</td>\n",
       "      <td>https://w3id.org/ro-id/7749bd2b-72f8-4a29-8565...</td>\n",
       "    </tr>\n",
       "  </tbody>\n",
       "</table>\n",
       "</div>"
      ],
      "text/plain": [
       "                                identifier  \\\n",
       "1     732f0254-b159-4526-b176-700bd06f5e20   \n",
       "938   61bceafe-5b48-4548-8caf-4142153b1b1b   \n",
       "1028  0938a79e-f5a6-4481-b01a-a82e17f7d51a   \n",
       "1029  09d35670-c07e-41f2-94f9-c58119e33b60   \n",
       "1030  d86d66ff-c096-4e78-b02a-95cfeba21e35   \n",
       "1031  6d6e540b-1b52-4ad1-8906-33d3144fce68   \n",
       "1032  cdcd3c0a-f280-40de-93e6-9a4ba2be6f67   \n",
       "1044  7749bd2b-72f8-4a29-8565-20a04f419b3a   \n",
       "\n",
       "                                                  title  \\\n",
       "1     Modelling of the 2011-2012 inflation at Santor...   \n",
       "938   Mean ground velocities from ALOS-2 data at Cha...   \n",
       "1028  Surface deformation related to the eruption (2...   \n",
       "1029  Modelling of the 2011-2012 inflation at Santor...   \n",
       "1030  Modelling of the 1993-1997 inflation at Mt Etn...   \n",
       "1031  Modelling of 27 years of subsidence at the vol...   \n",
       "1032  Campi Flegrei Caldera (Italy) 2011-2013 deform...   \n",
       "1044  Campi Flegrei Caldera (Italy) 2011-2013 deform...   \n",
       "\n",
       "                                            description  \\\n",
       "1     This Research Object has been created by the R...   \n",
       "938   This Research Object contains the raster file ...   \n",
       "1028  This Research Object has been created by the R...   \n",
       "1029  This Research Object has been created by the R...   \n",
       "1030  This Research Object has been created by the R...   \n",
       "1031  This Research Object has been created by the R...   \n",
       "1032  This Research Object has been created by the r...   \n",
       "1044  This Research Object has been created by the r...   \n",
       "\n",
       "                                  type    research_areas    status  \\\n",
       "1     Workflow-centric Research Object  [Earth sciences]      LIVE   \n",
       "938       Data-centric Research Object  [Earth sciences]  SNAPSHOT   \n",
       "1028     Code Research Research Object  [Earth sciences]      LIVE   \n",
       "1029     Code Research Research Object  [Earth sciences]      LIVE   \n",
       "1030     Code Research Research Object  [Earth sciences]      LIVE   \n",
       "1031     Code Research Research Object  [Earth sciences]      LIVE   \n",
       "1032     Code Research Research Object  [Earth sciences]      LIVE   \n",
       "1044     Code Research Research Object  [Earth sciences]      LIVE   \n",
       "\n",
       "                            created_on              created_by  \\\n",
       "1     2022-02-02T18:29:05.488826+00:00  elisa.trasatti@ingv.it   \n",
       "938   2021-12-13T17:51:39.249280+00:00  elisa.trasatti@ingv.it   \n",
       "1028  2021-11-10T18:55:24.946015+00:00  elisa.trasatti@ingv.it   \n",
       "1029  2021-11-10T14:46:19.306390+00:00  elisa.trasatti@ingv.it   \n",
       "1030  2021-11-10T14:08:28.357310+00:00  elisa.trasatti@ingv.it   \n",
       "1031  2021-11-10T14:04:01.839381+00:00  elisa.trasatti@ingv.it   \n",
       "1032  2021-11-10T13:18:11.714467+00:00  elisa.trasatti@ingv.it   \n",
       "1044  2021-11-09T21:43:28.116800+00:00  elisa.trasatti@ingv.it   \n",
       "\n",
       "                           modified_on access_mode                   owner  \\\n",
       "1     2022-02-02T19:08:49.081203+00:00      PUBLIC  elisa.trasatti@ingv.it   \n",
       "938   2021-12-13T17:51:56.118622+00:00      PUBLIC  elisa.trasatti@ingv.it   \n",
       "1028  2021-11-10T18:56:15.966137+00:00      PUBLIC  elisa.trasatti@ingv.it   \n",
       "1029  2021-11-10T14:47:25.624453+00:00      PUBLIC  elisa.trasatti@ingv.it   \n",
       "1030  2021-11-10T14:11:38.960665+00:00      PUBLIC  elisa.trasatti@ingv.it   \n",
       "1031  2021-11-10T14:05:24.258233+00:00      PUBLIC  elisa.trasatti@ingv.it   \n",
       "1032  2021-11-10T13:19:19.899629+00:00      PUBLIC  elisa.trasatti@ingv.it   \n",
       "1044  2021-11-09T21:45:31.605420+00:00      PUBLIC  elisa.trasatti@ingv.it   \n",
       "\n",
       "                                            shared_link  \n",
       "1     https://w3id.org/ro-id/732f0254-b159-4526-b176...  \n",
       "938   https://w3id.org/ro-id/61bceafe-5b48-4548-8caf...  \n",
       "1028  https://w3id.org/ro-id/0938a79e-f5a6-4481-b01a...  \n",
       "1029  https://w3id.org/ro-id/09d35670-c07e-41f2-94f9...  \n",
       "1030  https://w3id.org/ro-id/d86d66ff-c096-4e78-b02a...  \n",
       "1031  https://w3id.org/ro-id/6d6e540b-1b52-4ad1-8906...  \n",
       "1032  https://w3id.org/ro-id/cdcd3c0a-f280-40de-93e6...  \n",
       "1044  https://w3id.org/ro-id/7749bd2b-72f8-4a29-8565...  "
      ]
     },
     "execution_count": 9,
     "metadata": {},
     "output_type": "execute_result"
    }
   ],
   "source": [
    "elisa_ros = all_ros[all_ros.owner == 'elisa.trasatti@ingv.it']\n",
    "elisa_ros"
   ]
  },
  {
   "cell_type": "markdown",
   "metadata": {},
   "source": [
    "We are picking one of them, based on its index from a slice of the DataFrame that was displayed above."
   ]
  },
  {
   "cell_type": "code",
   "execution_count": 10,
   "metadata": {},
   "outputs": [
    {
     "name": "stdout",
     "output_type": "stream",
     "text": [
      "Research Object was successfully loaded with id = d86d66ff-c096-4e78-b02a-95cfeba21e35\n"
     ]
    }
   ],
   "source": [
    "loaded_ro2_id = elisa_ros.loc[1030, 'identifier']\n",
    "loaded_ro2 = rohub.ros_load(identifier = loaded_ro2_id)"
   ]
  },
  {
   "cell_type": "code",
   "execution_count": 11,
   "metadata": {},
   "outputs": [
    {
     "data": {
      "text/plain": [
       "'Modelling of the 1993-1997 inflation at Mt Etna (Italy) detected by remote sensing and in situ data'"
      ]
     },
     "execution_count": 11,
     "metadata": {},
     "output_type": "execute_result"
    }
   ],
   "source": [
    "loaded_ro2.title"
   ]
  },
  {
   "cell_type": "code",
   "execution_count": 12,
   "metadata": {},
   "outputs": [
    {
     "data": {
      "text/plain": [
       "'elisa.trasatti@ingv.it'"
      ]
     },
     "execution_count": 12,
     "metadata": {},
     "output_type": "execute_result"
    }
   ],
   "source": [
    "loaded_ro2.creator"
   ]
  },
  {
   "cell_type": "markdown",
   "metadata": {},
   "source": [
    "### Show metadata\n",
    "Once the research object is loaded, it is possible to use the `.show_metadata()`  method that allows to quickly investigate basic metadata like title, description, research areas, etc., related to the object."
   ]
  },
  {
   "cell_type": "code",
   "execution_count": 13,
   "metadata": {},
   "outputs": [
    {
     "data": {
      "text/plain": [
       "{'identifier': '623a5e15-3a3e-437b-95d1-684dbb093b51',\n",
       " 'shared_link': 'https://w3id.org/ro-id/623a5e15-3a3e-437b-95d1-684dbb093b51',\n",
       " 'title': 'The influence of eating habits on sleep',\n",
       " 'description': None,\n",
       " 'status': 'LIVE',\n",
       " 'access_mode': 'PUBLIC',\n",
       " 'type': 'Basic Research Object',\n",
       " 'template': None,\n",
       " 'created': '2022-01-31T18:55:48.145155Z',\n",
       " 'creator': 'liza.poltavchenko00@gmail.com',\n",
       " 'modificator': 'liza.poltavchenko00@gmail.com',\n",
       " 'modified': '2022-01-31T18:55:48.257515Z',\n",
       " 'importer': None,\n",
       " 'research_areas': ['Medical science'],\n",
       " 'owner': 'liza.poltavchenko00@gmail.com',\n",
       " 'editors': [],\n",
       " 'readers': [],\n",
       " 'rating': '0.00',\n",
       " 'number_of_ratings': 0,\n",
       " 'number_of_likes': 0,\n",
       " 'number_of_dislikes': 0,\n",
       " 'quality': 0,\n",
       " 'size': 1748,\n",
       " 'creation_mode': 'MANUAL',\n",
       " 'doi': None,\n",
       " 'api_link': 'https://api.rohub.org/api/ros/623a5e15-3a3e-437b-95d1-684dbb093b51/'}"
      ]
     },
     "execution_count": 13,
     "metadata": {},
     "output_type": "execute_result"
    }
   ],
   "source": [
    "loaded_ro.show_metadata()"
   ]
  },
  {
   "cell_type": "code",
   "execution_count": 15,
   "metadata": {},
   "outputs": [
    {
     "data": {
      "text/plain": [
       "{'identifier': 'd86d66ff-c096-4e78-b02a-95cfeba21e35',\n",
       " 'shared_link': 'https://w3id.org/ro-id/d86d66ff-c096-4e78-b02a-95cfeba21e35',\n",
       " 'title': 'Modelling of the 1993-1997 inflation at Mt Etna (Italy) detected by remote sensing and in situ data',\n",
       " 'description': 'This Research Object has been created by the Reliance-Jupyter of the ADAM platform. It contains results from the run of the VSM code, related to the modelling of the inflation phase at Mt Etna during 1993-1997.',\n",
       " 'status': 'LIVE',\n",
       " 'access_mode': 'PUBLIC',\n",
       " 'type': 'Code Research Research Object',\n",
       " 'template': None,\n",
       " 'created': '2021-11-10T14:08:28.357310Z',\n",
       " 'creator': 'elisa.trasatti@ingv.it',\n",
       " 'modificator': 'elisa.trasatti@ingv.it',\n",
       " 'modified': '2021-11-10T14:11:38.970630Z',\n",
       " 'importer': None,\n",
       " 'research_areas': ['Earth sciences'],\n",
       " 'owner': 'elisa.trasatti@ingv.it',\n",
       " 'editors': [],\n",
       " 'readers': [],\n",
       " 'rating': '0.00',\n",
       " 'number_of_ratings': 0,\n",
       " 'number_of_likes': 0,\n",
       " 'number_of_dislikes': 0,\n",
       " 'quality': 0,\n",
       " 'size': 3286201,\n",
       " 'creation_mode': 'MANUAL',\n",
       " 'doi': None,\n",
       " 'api_link': 'https://api.rohub.org/api/ros/d86d66ff-c096-4e78-b02a-95cfeba21e35/'}"
      ]
     },
     "execution_count": 15,
     "metadata": {},
     "output_type": "execute_result"
    }
   ],
   "source": [
    "loaded_ro2.show_metadata()"
   ]
  }
 ],
 "metadata": {
  "kernelspec": {
   "display_name": "rohub_tut",
   "language": "python",
   "name": "rohub_tut"
  },
  "language_info": {
   "codemirror_mode": {
    "name": "ipython",
    "version": 3
   },
   "file_extension": ".py",
   "mimetype": "text/x-python",
   "name": "python",
   "nbconvert_exporter": "python",
   "pygments_lexer": "ipython3",
   "version": "3.9.7"
  }
 },
 "nbformat": 4,
 "nbformat_minor": 5
}
