{
 "cells": [
  {
   "cell_type": "markdown",
   "metadata": {},
   "source": [
    "# Resources\n",
    "A Research Object can possess many different resources such as documents, images, scripts, etc. In the rohub library, each resource is an actual Python object belonging to the Resource class. We can work with a Resource object similarly to Research Object."
   ]
  },
  {
   "cell_type": "markdown",
   "metadata": {},
   "source": [
    "## Adding Resource to a Research Object\n",
    "\n",
    "Let's start by creating a Resource. We need a Research Object that either belongs to us or to which we do have appropriate permissions."
   ]
  },
  {
   "cell_type": "markdown",
   "metadata": {},
   "source": [
    "We will pick one of our existing research objects."
   ]
  },
  {
   "cell_type": "code",
   "execution_count": 3,
   "metadata": {},
   "outputs": [
    {
     "data": {
      "text/html": [
       "<div>\n",
       "<style scoped>\n",
       "    .dataframe tbody tr th:only-of-type {\n",
       "        vertical-align: middle;\n",
       "    }\n",
       "\n",
       "    .dataframe tbody tr th {\n",
       "        vertical-align: top;\n",
       "    }\n",
       "\n",
       "    .dataframe thead th {\n",
       "        text-align: right;\n",
       "    }\n",
       "</style>\n",
       "<table border=\"1\" class=\"dataframe\">\n",
       "  <thead>\n",
       "    <tr style=\"text-align: right;\">\n",
       "      <th></th>\n",
       "      <th>identifier</th>\n",
       "      <th>title</th>\n",
       "      <th>description</th>\n",
       "      <th>type</th>\n",
       "      <th>research_areas</th>\n",
       "      <th>status</th>\n",
       "      <th>created_on</th>\n",
       "      <th>created_by</th>\n",
       "      <th>modified_on</th>\n",
       "      <th>access_mode</th>\n",
       "      <th>owner</th>\n",
       "      <th>creation_mode</th>\n",
       "      <th>shared_link</th>\n",
       "    </tr>\n",
       "  </thead>\n",
       "  <tbody>\n",
       "    <tr>\n",
       "      <th>0</th>\n",
       "      <td>43833c23-2242-48ef-8f0a-d925c0e1d3e9</td>\n",
       "      <td>Shark research</td>\n",
       "      <td>Similarities and differences in the life cycle...</td>\n",
       "      <td>Bibliography-centric Research Object</td>\n",
       "      <td>[Biology, Zoology]</td>\n",
       "      <td>LIVE</td>\n",
       "      <td>2022-02-27T13:32:54.305241+00:00</td>\n",
       "      <td>liza.poltavchenko00@gmail.com</td>\n",
       "      <td>2022-02-28T16:25:23.927623+00:00</td>\n",
       "      <td>PUBLIC</td>\n",
       "      <td>liza.poltavchenko00@gmail.com</td>\n",
       "      <td>MANUAL</td>\n",
       "      <td>https://w3id.org/ro-id-dev/43833c23-2242-48ef-...</td>\n",
       "    </tr>\n",
       "    <tr>\n",
       "      <th>1</th>\n",
       "      <td>94b3cb95-9434-4028-be78-c383e0a27a74</td>\n",
       "      <td>Shark research</td>\n",
       "      <td>None</td>\n",
       "      <td>Process-centric Research Object</td>\n",
       "      <td>[Biology, Zoology]</td>\n",
       "      <td>LIVE</td>\n",
       "      <td>2022-02-27T13:32:42.545444+00:00</td>\n",
       "      <td>liza.poltavchenko00@gmail.com</td>\n",
       "      <td>2022-02-28T17:25:35.195149+00:00</td>\n",
       "      <td>PUBLIC</td>\n",
       "      <td>liza.poltavchenko00@gmail.com</td>\n",
       "      <td>MANUAL</td>\n",
       "      <td>https://w3id.org/ro-id-dev/94b3cb95-9434-4028-...</td>\n",
       "    </tr>\n",
       "    <tr>\n",
       "      <th>2</th>\n",
       "      <td>33c5b983-c16d-41fa-b957-740cc84f0f1f</td>\n",
       "      <td>Shark research</td>\n",
       "      <td>None</td>\n",
       "      <td>Basic Research Object</td>\n",
       "      <td>[Biology, Zoology]</td>\n",
       "      <td>LIVE</td>\n",
       "      <td>2022-02-27T13:32:29.198896+00:00</td>\n",
       "      <td>liza.poltavchenko00@gmail.com</td>\n",
       "      <td>2022-02-27T13:44:22.992581+00:00</td>\n",
       "      <td>PUBLIC</td>\n",
       "      <td>liza.poltavchenko00@gmail.com</td>\n",
       "      <td>MANUAL</td>\n",
       "      <td>https://w3id.org/ro-id-dev/33c5b983-c16d-41fa-...</td>\n",
       "    </tr>\n",
       "  </tbody>\n",
       "</table>\n",
       "</div>"
      ],
      "text/plain": [
       "                             identifier           title  \\\n",
       "0  43833c23-2242-48ef-8f0a-d925c0e1d3e9  Shark research   \n",
       "1  94b3cb95-9434-4028-be78-c383e0a27a74  Shark research   \n",
       "2  33c5b983-c16d-41fa-b957-740cc84f0f1f  Shark research   \n",
       "\n",
       "                                         description  \\\n",
       "0  Similarities and differences in the life cycle...   \n",
       "1                                               None   \n",
       "2                                               None   \n",
       "\n",
       "                                   type      research_areas status  \\\n",
       "0  Bibliography-centric Research Object  [Biology, Zoology]   LIVE   \n",
       "1       Process-centric Research Object  [Biology, Zoology]   LIVE   \n",
       "2                 Basic Research Object  [Biology, Zoology]   LIVE   \n",
       "\n",
       "                         created_on                     created_by  \\\n",
       "0  2022-02-27T13:32:54.305241+00:00  liza.poltavchenko00@gmail.com   \n",
       "1  2022-02-27T13:32:42.545444+00:00  liza.poltavchenko00@gmail.com   \n",
       "2  2022-02-27T13:32:29.198896+00:00  liza.poltavchenko00@gmail.com   \n",
       "\n",
       "                        modified_on access_mode  \\\n",
       "0  2022-02-28T16:25:23.927623+00:00      PUBLIC   \n",
       "1  2022-02-28T17:25:35.195149+00:00      PUBLIC   \n",
       "2  2022-02-27T13:44:22.992581+00:00      PUBLIC   \n",
       "\n",
       "                           owner creation_mode  \\\n",
       "0  liza.poltavchenko00@gmail.com        MANUAL   \n",
       "1  liza.poltavchenko00@gmail.com        MANUAL   \n",
       "2  liza.poltavchenko00@gmail.com        MANUAL   \n",
       "\n",
       "                                         shared_link  \n",
       "0  https://w3id.org/ro-id-dev/43833c23-2242-48ef-...  \n",
       "1  https://w3id.org/ro-id-dev/94b3cb95-9434-4028-...  \n",
       "2  https://w3id.org/ro-id-dev/33c5b983-c16d-41fa-...  "
      ]
     },
     "execution_count": 3,
     "metadata": {},
     "output_type": "execute_result"
    }
   ],
   "source": [
    "my_ros = rohub.list_my_ros()\n",
    "my_ros[:3]"
   ]
  },
  {
   "cell_type": "code",
   "execution_count": 4,
   "metadata": {},
   "outputs": [
    {
     "name": "stdout",
     "output_type": "stream",
     "text": [
      "Research Object was successfully loaded with id = 43833c23-2242-48ef-8f0a-d925c0e1d3e9\n"
     ]
    },
    {
     "data": {
      "text/plain": [
       "{'identifier': '43833c23-2242-48ef-8f0a-d925c0e1d3e9',\n",
       " 'shared_link': 'https://w3id.org/ro-id-dev/43833c23-2242-48ef-8f0a-d925c0e1d3e9',\n",
       " 'title': 'Shark research',\n",
       " 'description': 'Similarities and differences in the life cycle of different sharks.',\n",
       " 'status': 'LIVE',\n",
       " 'access_mode': 'PUBLIC',\n",
       " 'type': 'Bibliography-centric Research Object',\n",
       " 'template': 'Bibliography Centric Research Object folders structure',\n",
       " 'created': '2022-02-27T13:32:54.305241Z',\n",
       " 'creator': 'liza.poltavchenko00@gmail.com',\n",
       " 'modificator': 'liza.poltavchenko00@gmail.com',\n",
       " 'modified': '2022-03-25T11:54:08.805007Z',\n",
       " 'importer': None,\n",
       " 'research_areas': ['Biology', 'Zoology'],\n",
       " 'owner': 'liza.poltavchenko00@gmail.com',\n",
       " 'editors': ['bjaniak@man.poznan.pl'],\n",
       " 'readers': [],\n",
       " 'rating': '0.00',\n",
       " 'number_of_ratings': 0,\n",
       " 'number_of_likes': 0,\n",
       " 'number_of_dislikes': 0,\n",
       " 'completness': 51,\n",
       " 'size': 4423,\n",
       " 'creation_mode': 'MANUAL',\n",
       " 'doi': None,\n",
       " 'api_link': 'https://rohub2020-rohub.apps.paas-dev.psnc.pl/api/ros/43833c23-2242-48ef-8f0a-d925c0e1d3e9/'}"
      ]
     },
     "execution_count": 4,
     "metadata": {},
     "output_type": "execute_result"
    }
   ],
   "source": [
    "ro_id = my_ros.loc[0, 'identifier']\n",
    "ro = rohub.ros_load(identifier = ro_id)\n",
    "ro.show_metadata()"
   ]
  },
  {
   "cell_type": "markdown",
   "metadata": {},
   "source": [
    "### Checking all existing resources associated with the Research Object\n",
    "To list resources associated with a specific research object, one can use Research Object's `list_resources()` method. "
   ]
  },
  {
   "cell_type": "code",
   "execution_count": 5,
   "metadata": {},
   "outputs": [
    {
     "data": {
      "text/html": [
       "<div>\n",
       "<style scoped>\n",
       "    .dataframe tbody tr th:only-of-type {\n",
       "        vertical-align: middle;\n",
       "    }\n",
       "\n",
       "    .dataframe tbody tr th {\n",
       "        vertical-align: top;\n",
       "    }\n",
       "\n",
       "    .dataframe thead th {\n",
       "        text-align: right;\n",
       "    }\n",
       "</style>\n",
       "<table border=\"1\" class=\"dataframe\">\n",
       "  <thead>\n",
       "    <tr style=\"text-align: right;\">\n",
       "      <th></th>\n",
       "    </tr>\n",
       "  </thead>\n",
       "  <tbody>\n",
       "  </tbody>\n",
       "</table>\n",
       "</div>"
      ],
      "text/plain": [
       "Empty DataFrame\n",
       "Columns: []\n",
       "Index: []"
      ]
     },
     "execution_count": 5,
     "metadata": {},
     "output_type": "execute_result"
    }
   ],
   "source": [
    "ro.list_resources()"
   ]
  },
  {
   "cell_type": "markdown",
   "metadata": {},
   "source": [
    "Great, our research object of choice doesn't have any resources. Let's add some!"
   ]
  },
  {
   "cell_type": "markdown",
   "metadata": {},
   "source": [
    "### Add internal resources\n",
    "\n",
    "The library provides separated functions for two main types of resources: **external** and **internal**. The internal one can be loaded as a file directly from your local storage, and the external one is for passing URLs.\n",
    "\n",
    "Let's play with internal resources first. `add_internal_resource()` function has two required parameters: resource type (*res_type*) and a path to your resource (*file_path*). "
   ]
  },
  {
   "cell_type": "markdown",
   "metadata": {},
   "source": [
    "### Example\n",
    "\n",
    "Below we have a text file that contains some information about the life cycle of the great white shark, let's associate this data with our Research Object."
   ]
  },
  {
   "cell_type": "code",
   "execution_count": 6,
   "metadata": {},
   "outputs": [
    {
     "ename": "SystemExit",
     "evalue": "Incorrect resource type. Must be one of: {'Sketch', 'SOAP Service', 'Creative work', 'Data Cube Product', 'Beanshell Script', 'Command Line Tool', 'Script', 'Document', 'Other', 'Software source code', 'Result Generation Run', 'Research Question', 'Course', 'Web Service', 'Meeting Minutes', 'Image', 'Hypothesis', 'Video', 'Dataset', 'Publication', 'Jupyter Notebook', 'Bibliographic Resource', 'Prospective Run', 'Workflow Definition', 'Paper', 'How to', 'Result', 'Presentation', 'Workflow Run', 'REST Service', 'File', 'Example Run', 'Conclusion', 'Computational workflow', 'Poster', 'R Script', 'Workflow', 'Audio', 'Physical object', 'Research Object', 'Python Script', 'Software', 'Data Cube Collection', 'PROCESS', 'Process Run'}",
     "output_type": "error",
     "traceback": [
      "An exception has occurred, use %tb to see the full traceback.\n",
      "\u001b[1;31mSystemExit\u001b[0m\u001b[1;31m:\u001b[0m Incorrect resource type. Must be one of: {'Sketch', 'SOAP Service', 'Creative work', 'Data Cube Product', 'Beanshell Script', 'Command Line Tool', 'Script', 'Document', 'Other', 'Software source code', 'Result Generation Run', 'Research Question', 'Course', 'Web Service', 'Meeting Minutes', 'Image', 'Hypothesis', 'Video', 'Dataset', 'Publication', 'Jupyter Notebook', 'Bibliographic Resource', 'Prospective Run', 'Workflow Definition', 'Paper', 'How to', 'Result', 'Presentation', 'Workflow Run', 'REST Service', 'File', 'Example Run', 'Conclusion', 'Computational workflow', 'Poster', 'R Script', 'Workflow', 'Audio', 'Physical object', 'Research Object', 'Python Script', 'Software', 'Data Cube Collection', 'PROCESS', 'Process Run'}\n"
     ]
    },
    {
     "name": "stderr",
     "output_type": "stream",
     "text": [
      "C:\\Users\\liza\\Desktop\\rohub\\rohub_api_enviroment\\lib\\site-packages\\IPython\\core\\interactiveshell.py:3259: UserWarning: To exit: use 'exit', 'quit', or Ctrl-D.\n",
      "  warn(\"To exit: use 'exit', 'quit', or Ctrl-D.\", stacklevel=1)\n"
     ]
    }
   ],
   "source": [
    "txt_res_type = \"Text\"\n",
    "txt_file_path = \"./life_cycle_of_great_white_shark.txt\"\n",
    "ro.add_internal_resource(res_type = txt_res_type, file_path = txt_file_path)"
   ]
  },
  {
   "cell_type": "markdown",
   "metadata": {},
   "source": [
    "The function was executed with error `SystemExit: Incorrect resource type`. Therefore, the resource was not added.\n",
    "\n",
    "As we can see by glossing over an error message, there is some restriction to the resource type parameter. There is a defined set of resource types that one can choose from. In case none of the options matches the resource, one can utilize \"*Other*\" to denote a resource type that is not included in the set.\n",
    "\n",
    "To display all possible options for resource type on-demand, one can use `list_valid_resource_types()` function."
   ]
  },
  {
   "cell_type": "code",
   "execution_count": 7,
   "metadata": {},
   "outputs": [
    {
     "data": {
      "text/plain": [
       "['Beanshell Script',\n",
       " 'Bibliographic Resource',\n",
       " 'Command Line Tool',\n",
       " 'Conclusion',\n",
       " 'Dataset',\n",
       " 'Document',\n",
       " 'Example Run']"
      ]
     },
     "execution_count": 7,
     "metadata": {},
     "output_type": "execute_result"
    }
   ],
   "source": [
    "list_valid_res_types = rohub.list_valid_resource_types()\n",
    "# slicing the list just for display purposes\n",
    "list_valid_res_types[:7]"
   ]
  },
  {
   "cell_type": "markdown",
   "metadata": {},
   "source": [
    "It looks like \"*Document*\" type is as close as it gets to what we need, let's pick it."
   ]
  },
  {
   "cell_type": "code",
   "execution_count": 8,
   "metadata": {},
   "outputs": [],
   "source": [
    "txt_res_type = \"Document\""
   ]
  },
  {
   "cell_type": "markdown",
   "metadata": {},
   "source": [
    "Now we can re-run the function."
   ]
  },
  {
   "cell_type": "code",
   "execution_count": 9,
   "metadata": {},
   "outputs": [
    {
     "name": "stdout",
     "output_type": "stream",
     "text": [
      "Resource was successfully created with id = 1872179f-6e5b-43db-a535-bbbe562e0263\n"
     ]
    }
   ],
   "source": [
    "txt_res = ro.add_internal_resource(res_type = txt_res_type, file_path = txt_file_path)"
   ]
  },
  {
   "cell_type": "markdown",
   "metadata": {},
   "source": [
    "The resource has been added successfully, and as expected, it now appears in the resource list for our Research Object."
   ]
  },
  {
   "cell_type": "code",
   "execution_count": 10,
   "metadata": {},
   "outputs": [
    {
     "data": {
      "text/html": [
       "<div>\n",
       "<style scoped>\n",
       "    .dataframe tbody tr th:only-of-type {\n",
       "        vertical-align: middle;\n",
       "    }\n",
       "\n",
       "    .dataframe tbody tr th {\n",
       "        vertical-align: top;\n",
       "    }\n",
       "\n",
       "    .dataframe thead th {\n",
       "        text-align: right;\n",
       "    }\n",
       "</style>\n",
       "<table border=\"1\" class=\"dataframe\">\n",
       "  <thead>\n",
       "    <tr style=\"text-align: right;\">\n",
       "      <th></th>\n",
       "      <th>identifier</th>\n",
       "      <th>type</th>\n",
       "      <th>source</th>\n",
       "      <th>title</th>\n",
       "      <th>description</th>\n",
       "      <th>url</th>\n",
       "      <th>name</th>\n",
       "      <th>path</th>\n",
       "      <th>size</th>\n",
       "      <th>creator</th>\n",
       "      <th>created_on</th>\n",
       "      <th>modified_on</th>\n",
       "      <th>download_url</th>\n",
       "    </tr>\n",
       "  </thead>\n",
       "  <tbody>\n",
       "    <tr>\n",
       "      <th>0</th>\n",
       "      <td>1872179f-6e5b-43db-a535-bbbe562e0263</td>\n",
       "      <td>Document</td>\n",
       "      <td>internal</td>\n",
       "      <td>None</td>\n",
       "      <td>None</td>\n",
       "      <td>None</td>\n",
       "      <td>life_cycle_of_great_white_shark.txt</td>\n",
       "      <td>life_cycle_of_great_white_shark.txt</td>\n",
       "      <td>1000</td>\n",
       "      <td>liza.poltavchenko00@gmail.com</td>\n",
       "      <td>2022-03-25T11:54:04.216070+0000</td>\n",
       "      <td>2022-03-25T11:54:08.773328+0000</td>\n",
       "      <td>https://rohub2020-rohub.apps.paas-dev.psnc.pl/...</td>\n",
       "    </tr>\n",
       "  </tbody>\n",
       "</table>\n",
       "</div>"
      ],
      "text/plain": [
       "                             identifier      type    source title description  \\\n",
       "0  1872179f-6e5b-43db-a535-bbbe562e0263  Document  internal  None        None   \n",
       "\n",
       "    url                                 name  \\\n",
       "0  None  life_cycle_of_great_white_shark.txt   \n",
       "\n",
       "                                  path  size                        creator  \\\n",
       "0  life_cycle_of_great_white_shark.txt  1000  liza.poltavchenko00@gmail.com   \n",
       "\n",
       "                        created_on                      modified_on  \\\n",
       "0  2022-03-25T11:54:04.216070+0000  2022-03-25T11:54:08.773328+0000   \n",
       "\n",
       "                                        download_url  \n",
       "0  https://rohub2020-rohub.apps.paas-dev.psnc.pl/...  "
      ]
     },
     "execution_count": 10,
     "metadata": {},
     "output_type": "execute_result"
    }
   ],
   "source": [
    "ro.list_resources()"
   ]
  },
  {
   "cell_type": "markdown",
   "metadata": {},
   "source": [
    "We can also see how this change is represented in the rohub portal.\n",
    "![txt_resource](./screens/txt_res.png)\n",
    "\n",
    "All resources are placed under the **Content** tab. \n",
    "![txt_resource_2](./screens/txt_res2.png)"
   ]
  },
  {
   "cell_type": "markdown",
   "metadata": {},
   "source": [
    "One important thing to pay attention to is that a result of adding a resource is the Resource Object itself. So now if we want to reuse it or keep exploring we can refer to the variable that it was assigned to. In our case this was a `txt_res`.\n",
    "\n",
    "First, let's take a look at its metadata."
   ]
  },
  {
   "cell_type": "code",
   "execution_count": 14,
   "metadata": {},
   "outputs": [
    {
     "data": {
      "text/plain": [
       "{'identifier': '1872179f-6e5b-43db-a535-bbbe562e0263',\n",
       " 'type': 'Document',\n",
       " 'source': 'internal',\n",
       " 'title': None,\n",
       " 'description': None,\n",
       " 'url': None,\n",
       " 'folder': None,\n",
       " 'path': 'life_cycle_of_great_white_shark.txt',\n",
       " 'size': 1000,\n",
       " 'creator': 'liza.poltavchenko00@gmail.com',\n",
       " 'created_on': '2022-03-25T11:54:04.216070+0000',\n",
       " 'modified_on': '2022-03-25T11:54:08.773328+0000',\n",
       " 'download_url': 'https://rohub2020-rohub.apps.paas-dev.psnc.pl/api/resources/1872179f-6e5b-43db-a535-bbbe562e0263/download/'}"
      ]
     },
     "execution_count": 14,
     "metadata": {},
     "output_type": "execute_result"
    }
   ],
   "source": [
    "txt_res.show_metadata()"
   ]
  },
  {
   "cell_type": "markdown",
   "metadata": {},
   "source": [
    "The resource object also has a `show_full_metadata` function, just like the research object, but unlike the research object, the resource object does not need to load additional metadata first. "
   ]
  },
  {
   "cell_type": "code",
   "execution_count": 15,
   "metadata": {},
   "outputs": [
    {
     "data": {
      "text/plain": [
       "{'identifier': '1872179f-6e5b-43db-a535-bbbe562e0263',\n",
       " 'shared_link': 'https://w3id.org/ro-id-dev/43833c23-2242-48ef-8f0a-d925c0e1d3e9/resources/1872179f-6e5b-43db-a535-bbbe562e0263',\n",
       " 'title': None,\n",
       " 'folder': None,\n",
       " 'ros': ['43833c23-2242-48ef-8f0a-d925c0e1d3e9'],\n",
       " 'description': None,\n",
       " 'url': None,\n",
       " 'name': 'life_cycle_of_great_white_shark.txt',\n",
       " 'filename': 'life_cycle_of_great_white_shark.txt',\n",
       " 'path': 'life_cycle_of_great_white_shark.txt',\n",
       " 'size': 1000,\n",
       " 'download_url': 'https://rohub2020-rohub.apps.paas-dev.psnc.pl/api/resources/1872179f-6e5b-43db-a535-bbbe562e0263/download/',\n",
       " 'type': 'Document',\n",
       " 'created': '2022-03-25T11:54:04.216070+0000',\n",
       " 'creator': 'liza.poltavchenko00@gmail.com',\n",
       " 'modificator': None,\n",
       " 'modified': '2022-03-25T11:54:08.773328+0000',\n",
       " 'created_on': '2022-03-25T11:54:04.216070+0000',\n",
       " 'created_by': 'liza.poltavchenko00@gmail.com',\n",
       " 'modified_on': '2022-03-25T11:54:08.773328+0000',\n",
       " 'modified_by': None,\n",
       " 'original_created_on': None,\n",
       " 'original_created_by': None,\n",
       " 'original_creator_name': None,\n",
       " 'authors_credits': ['liza.poltavchenko00@gmail.com'],\n",
       " 'contributors_credits': [],\n",
       " 'shared': False,\n",
       " 'doi': None,\n",
       " 'license': None,\n",
       " 'read_only': False,\n",
       " 'api_link': 'https://rohub2020-rohub.apps.paas-dev.psnc.pl/api/resources/1872179f-6e5b-43db-a535-bbbe562e0263/'}"
      ]
     },
     "execution_count": 15,
     "metadata": {},
     "output_type": "execute_result"
    }
   ],
   "source": [
    "txt_res.show_full_metadata()"
   ]
  },
  {
   "cell_type": "markdown",
   "metadata": {},
   "source": [
    "### Add external resources\n",
    "\n",
    "Now that we know how to add an internal resource, let's explore adding an external one. The process is almost identical.\n",
    "\n",
    "For example, let's take [this scientific publication](https://journals.asm.org/doi/epdf/10.1128/jcm.20.5.849-851.1984) about the bacteriology of teeth from a great white shark. We can set its type as a \"Paper\"."
   ]
  },
  {
   "cell_type": "code",
   "execution_count": 16,
   "metadata": {},
   "outputs": [],
   "source": [
    "article_res_type = \"Paper\""
   ]
  },
  {
   "cell_type": "markdown",
   "metadata": {},
   "source": [
    "Now, the second required parameter - input url."
   ]
  },
  {
   "cell_type": "code",
   "execution_count": 17,
   "metadata": {},
   "outputs": [],
   "source": [
    "article_url = \"https://journals.asm.org/doi/epdf/10.1128/jcm.20.5.849-851.1984\""
   ]
  },
  {
   "cell_type": "code",
   "execution_count": 18,
   "metadata": {},
   "outputs": [
    {
     "name": "stdout",
     "output_type": "stream",
     "text": [
      "Resource was successfully created with id = 0aa05d06-0ad5-4c89-b59e-1af5c17e7739\n"
     ]
    }
   ],
   "source": [
    "article_res = ro.add_external_resource(res_type = article_res_type, input_url = article_url)"
   ]
  },
  {
   "cell_type": "markdown",
   "metadata": {},
   "source": [
    "We can see that list of resources associated with our Research Object is now expanded by the article we just added."
   ]
  },
  {
   "cell_type": "code",
   "execution_count": 19,
   "metadata": {},
   "outputs": [
    {
     "data": {
      "text/html": [
       "<div>\n",
       "<style scoped>\n",
       "    .dataframe tbody tr th:only-of-type {\n",
       "        vertical-align: middle;\n",
       "    }\n",
       "\n",
       "    .dataframe tbody tr th {\n",
       "        vertical-align: top;\n",
       "    }\n",
       "\n",
       "    .dataframe thead th {\n",
       "        text-align: right;\n",
       "    }\n",
       "</style>\n",
       "<table border=\"1\" class=\"dataframe\">\n",
       "  <thead>\n",
       "    <tr style=\"text-align: right;\">\n",
       "      <th></th>\n",
       "      <th>identifier</th>\n",
       "      <th>type</th>\n",
       "      <th>source</th>\n",
       "      <th>title</th>\n",
       "      <th>description</th>\n",
       "      <th>url</th>\n",
       "      <th>name</th>\n",
       "      <th>path</th>\n",
       "      <th>size</th>\n",
       "      <th>creator</th>\n",
       "      <th>created_on</th>\n",
       "      <th>modified_on</th>\n",
       "      <th>download_url</th>\n",
       "    </tr>\n",
       "  </thead>\n",
       "  <tbody>\n",
       "    <tr>\n",
       "      <th>0</th>\n",
       "      <td>0aa05d06-0ad5-4c89-b59e-1af5c17e7739</td>\n",
       "      <td>Paper</td>\n",
       "      <td>external</td>\n",
       "      <td>None</td>\n",
       "      <td>None</td>\n",
       "      <td>https://journals.asm.org/doi/epdf/10.1128/jcm....</td>\n",
       "      <td>None</td>\n",
       "      <td>https://journals.asm.org/doi/epdf/10.1128/jcm....</td>\n",
       "      <td>NaN</td>\n",
       "      <td>liza.poltavchenko00@gmail.com</td>\n",
       "      <td>2022-03-25T12:12:18.548321+0000</td>\n",
       "      <td>2022-03-25T12:12:19.385625+0000</td>\n",
       "      <td>https://journals.asm.org/doi/epdf/10.1128/jcm....</td>\n",
       "    </tr>\n",
       "    <tr>\n",
       "      <th>1</th>\n",
       "      <td>1872179f-6e5b-43db-a535-bbbe562e0263</td>\n",
       "      <td>Document</td>\n",
       "      <td>internal</td>\n",
       "      <td>None</td>\n",
       "      <td>None</td>\n",
       "      <td>None</td>\n",
       "      <td>life_cycle_of_great_white_shark.txt</td>\n",
       "      <td>life_cycle_of_great_white_shark.txt</td>\n",
       "      <td>1000.0</td>\n",
       "      <td>liza.poltavchenko00@gmail.com</td>\n",
       "      <td>2022-03-25T11:54:04.216070+0000</td>\n",
       "      <td>2022-03-25T11:54:08.773328+0000</td>\n",
       "      <td>https://rohub2020-rohub.apps.paas-dev.psnc.pl/...</td>\n",
       "    </tr>\n",
       "  </tbody>\n",
       "</table>\n",
       "</div>"
      ],
      "text/plain": [
       "                             identifier      type    source title description  \\\n",
       "0  0aa05d06-0ad5-4c89-b59e-1af5c17e7739     Paper  external  None        None   \n",
       "1  1872179f-6e5b-43db-a535-bbbe562e0263  Document  internal  None        None   \n",
       "\n",
       "                                                 url  \\\n",
       "0  https://journals.asm.org/doi/epdf/10.1128/jcm....   \n",
       "1                                               None   \n",
       "\n",
       "                                  name  \\\n",
       "0                                 None   \n",
       "1  life_cycle_of_great_white_shark.txt   \n",
       "\n",
       "                                                path    size  \\\n",
       "0  https://journals.asm.org/doi/epdf/10.1128/jcm....     NaN   \n",
       "1                life_cycle_of_great_white_shark.txt  1000.0   \n",
       "\n",
       "                         creator                       created_on  \\\n",
       "0  liza.poltavchenko00@gmail.com  2022-03-25T12:12:18.548321+0000   \n",
       "1  liza.poltavchenko00@gmail.com  2022-03-25T11:54:04.216070+0000   \n",
       "\n",
       "                       modified_on  \\\n",
       "0  2022-03-25T12:12:19.385625+0000   \n",
       "1  2022-03-25T11:54:08.773328+0000   \n",
       "\n",
       "                                        download_url  \n",
       "0  https://journals.asm.org/doi/epdf/10.1128/jcm....  \n",
       "1  https://rohub2020-rohub.apps.paas-dev.psnc.pl/...  "
      ]
     },
     "execution_count": 19,
     "metadata": {},
     "output_type": "execute_result"
    }
   ],
   "source": [
    "ro.list_resources()"
   ]
  },
  {
   "cell_type": "markdown",
   "metadata": {},
   "source": [
    "We can also check the article in the rohub portal.\n",
    "\n",
    "![article_res](./screens/article_res.png)"
   ]
  },
  {
   "cell_type": "markdown",
   "metadata": {},
   "source": [
    "### Add resources from zip\n",
    "\n",
    "Imagine the situation where we got a bundle of resources that we would like to associate with the Research Object. Based on what we have seen so far, we could potentially use a for loop to iterate over resources and regularly add them. However, if we don't care about specifying any additional resource pieces of information, we can simply add them as one bundle from the zip package. To do that we can utilize `add_resource_from_zip()` function.\n",
    "\n",
    "In our next example, we got a zip file that contains two videos and one pdf file."
   ]
  },
  {
   "cell_type": "code",
   "execution_count": 20,
   "metadata": {},
   "outputs": [
    {
     "name": "stdout",
     "output_type": "stream",
     "text": [
      "Trying to confirm status of the job. It can take a while...\n"
     ]
    }
   ],
   "source": [
    "zip_path = \"./resources.zip\"\n",
    "resources_from_zip = ro.add_resource_from_zip(path_to_zip = zip_path)"
   ]
  },
  {
   "cell_type": "code",
   "execution_count": 21,
   "metadata": {},
   "outputs": [
    {
     "data": {
      "text/html": [
       "<div>\n",
       "<style scoped>\n",
       "    .dataframe tbody tr th:only-of-type {\n",
       "        vertical-align: middle;\n",
       "    }\n",
       "\n",
       "    .dataframe tbody tr th {\n",
       "        vertical-align: top;\n",
       "    }\n",
       "\n",
       "    .dataframe thead th {\n",
       "        text-align: right;\n",
       "    }\n",
       "</style>\n",
       "<table border=\"1\" class=\"dataframe\">\n",
       "  <thead>\n",
       "    <tr style=\"text-align: right;\">\n",
       "      <th></th>\n",
       "      <th>identifier</th>\n",
       "      <th>type</th>\n",
       "      <th>source</th>\n",
       "      <th>title</th>\n",
       "      <th>description</th>\n",
       "      <th>url</th>\n",
       "      <th>name</th>\n",
       "      <th>path</th>\n",
       "      <th>size</th>\n",
       "      <th>creator</th>\n",
       "      <th>created_on</th>\n",
       "      <th>modified_on</th>\n",
       "      <th>download_url</th>\n",
       "    </tr>\n",
       "  </thead>\n",
       "  <tbody>\n",
       "    <tr>\n",
       "      <th>0</th>\n",
       "      <td>0aa05d06-0ad5-4c89-b59e-1af5c17e7739</td>\n",
       "      <td>Paper</td>\n",
       "      <td>external</td>\n",
       "      <td>None</td>\n",
       "      <td>None</td>\n",
       "      <td>https://journals.asm.org/doi/epdf/10.1128/jcm....</td>\n",
       "      <td>None</td>\n",
       "      <td>https://journals.asm.org/doi/epdf/10.1128/jcm....</td>\n",
       "      <td>NaN</td>\n",
       "      <td>liza.poltavchenko00@gmail.com</td>\n",
       "      <td>2022-03-25T12:12:18.548321+0000</td>\n",
       "      <td>2022-03-25T12:12:19.385625+0000</td>\n",
       "      <td>https://journals.asm.org/doi/epdf/10.1128/jcm....</td>\n",
       "    </tr>\n",
       "    <tr>\n",
       "      <th>1</th>\n",
       "      <td>1872179f-6e5b-43db-a535-bbbe562e0263</td>\n",
       "      <td>Document</td>\n",
       "      <td>internal</td>\n",
       "      <td>None</td>\n",
       "      <td>None</td>\n",
       "      <td>None</td>\n",
       "      <td>life_cycle_of_great_white_shark.txt</td>\n",
       "      <td>life_cycle_of_great_white_shark.txt</td>\n",
       "      <td>1000.0</td>\n",
       "      <td>liza.poltavchenko00@gmail.com</td>\n",
       "      <td>2022-03-25T11:54:04.216070+0000</td>\n",
       "      <td>2022-03-25T11:54:08.773328+0000</td>\n",
       "      <td>https://rohub2020-rohub.apps.paas-dev.psnc.pl/...</td>\n",
       "    </tr>\n",
       "    <tr>\n",
       "      <th>2</th>\n",
       "      <td>5bb4fc3a-30b6-4551-9c3c-9bcdf0962394</td>\n",
       "      <td>File</td>\n",
       "      <td>internal</td>\n",
       "      <td>None</td>\n",
       "      <td>None</td>\n",
       "      <td>None</td>\n",
       "      <td>presentation.pdf</td>\n",
       "      <td>presentation.pdf</td>\n",
       "      <td>NaN</td>\n",
       "      <td>liza.poltavchenko00@gmail.com</td>\n",
       "      <td>2022-03-25T12:16:13.648398+0000</td>\n",
       "      <td>2022-03-25T12:16:16.374553+0000</td>\n",
       "      <td>https://rohub2020-rohub.apps.paas-dev.psnc.pl/...</td>\n",
       "    </tr>\n",
       "    <tr>\n",
       "      <th>3</th>\n",
       "      <td>f7f77553-200d-4120-a1d2-ff0a359ff488</td>\n",
       "      <td>File</td>\n",
       "      <td>internal</td>\n",
       "      <td>None</td>\n",
       "      <td>None</td>\n",
       "      <td>None</td>\n",
       "      <td>video_1.mp4</td>\n",
       "      <td>video_1.mp4</td>\n",
       "      <td>NaN</td>\n",
       "      <td>liza.poltavchenko00@gmail.com</td>\n",
       "      <td>2022-03-25T12:16:14.331689+0000</td>\n",
       "      <td>2022-03-25T12:16:16.657621+0000</td>\n",
       "      <td>https://rohub2020-rohub.apps.paas-dev.psnc.pl/...</td>\n",
       "    </tr>\n",
       "    <tr>\n",
       "      <th>4</th>\n",
       "      <td>2a161917-90fa-4b57-8121-df42d9d68f69</td>\n",
       "      <td>File</td>\n",
       "      <td>internal</td>\n",
       "      <td>None</td>\n",
       "      <td>None</td>\n",
       "      <td>None</td>\n",
       "      <td>video_2.mp4</td>\n",
       "      <td>video_2.mp4</td>\n",
       "      <td>NaN</td>\n",
       "      <td>liza.poltavchenko00@gmail.com</td>\n",
       "      <td>2022-03-25T12:16:15.120380+0000</td>\n",
       "      <td>2022-03-25T12:16:17.648394+0000</td>\n",
       "      <td>https://rohub2020-rohub.apps.paas-dev.psnc.pl/...</td>\n",
       "    </tr>\n",
       "  </tbody>\n",
       "</table>\n",
       "</div>"
      ],
      "text/plain": [
       "                             identifier      type    source title description  \\\n",
       "0  0aa05d06-0ad5-4c89-b59e-1af5c17e7739     Paper  external  None        None   \n",
       "1  1872179f-6e5b-43db-a535-bbbe562e0263  Document  internal  None        None   \n",
       "2  5bb4fc3a-30b6-4551-9c3c-9bcdf0962394      File  internal  None        None   \n",
       "3  f7f77553-200d-4120-a1d2-ff0a359ff488      File  internal  None        None   \n",
       "4  2a161917-90fa-4b57-8121-df42d9d68f69      File  internal  None        None   \n",
       "\n",
       "                                                 url  \\\n",
       "0  https://journals.asm.org/doi/epdf/10.1128/jcm....   \n",
       "1                                               None   \n",
       "2                                               None   \n",
       "3                                               None   \n",
       "4                                               None   \n",
       "\n",
       "                                  name  \\\n",
       "0                                 None   \n",
       "1  life_cycle_of_great_white_shark.txt   \n",
       "2                     presentation.pdf   \n",
       "3                          video_1.mp4   \n",
       "4                          video_2.mp4   \n",
       "\n",
       "                                                path    size  \\\n",
       "0  https://journals.asm.org/doi/epdf/10.1128/jcm....     NaN   \n",
       "1                life_cycle_of_great_white_shark.txt  1000.0   \n",
       "2                                   presentation.pdf     NaN   \n",
       "3                                        video_1.mp4     NaN   \n",
       "4                                        video_2.mp4     NaN   \n",
       "\n",
       "                         creator                       created_on  \\\n",
       "0  liza.poltavchenko00@gmail.com  2022-03-25T12:12:18.548321+0000   \n",
       "1  liza.poltavchenko00@gmail.com  2022-03-25T11:54:04.216070+0000   \n",
       "2  liza.poltavchenko00@gmail.com  2022-03-25T12:16:13.648398+0000   \n",
       "3  liza.poltavchenko00@gmail.com  2022-03-25T12:16:14.331689+0000   \n",
       "4  liza.poltavchenko00@gmail.com  2022-03-25T12:16:15.120380+0000   \n",
       "\n",
       "                       modified_on  \\\n",
       "0  2022-03-25T12:12:19.385625+0000   \n",
       "1  2022-03-25T11:54:08.773328+0000   \n",
       "2  2022-03-25T12:16:16.374553+0000   \n",
       "3  2022-03-25T12:16:16.657621+0000   \n",
       "4  2022-03-25T12:16:17.648394+0000   \n",
       "\n",
       "                                        download_url  \n",
       "0  https://journals.asm.org/doi/epdf/10.1128/jcm....  \n",
       "1  https://rohub2020-rohub.apps.paas-dev.psnc.pl/...  \n",
       "2  https://rohub2020-rohub.apps.paas-dev.psnc.pl/...  \n",
       "3  https://rohub2020-rohub.apps.paas-dev.psnc.pl/...  \n",
       "4  https://rohub2020-rohub.apps.paas-dev.psnc.pl/...  "
      ]
     },
     "execution_count": 21,
     "metadata": {},
     "output_type": "execute_result"
    }
   ],
   "source": [
    "ro.list_resources()"
   ]
  },
  {
   "cell_type": "markdown",
   "metadata": {},
   "source": [
    "As we can see by default, the content of our zip file was loaded as a \"*File*\". At this point, each resource from our zip package is represented as a Resource with its unique id. It is possible to modify them to our needs by changing metadata or even content.\n",
    "![zip_res](./screens/zip_res.png)"
   ]
  },
  {
   "cell_type": "markdown",
   "metadata": {},
   "source": [
    "One important note is that this function will **not** return a Resource object as two others did. It will give us job details, though. Depending on the number and size of files inside the zip package, loading those resources may take a while. That is where job identifiers can become handy. If the job is still pending, one can decide to check the status again using the `is_job_success()` function."
   ]
  },
  {
   "cell_type": "code",
   "execution_count": 22,
   "metadata": {},
   "outputs": [
    {
     "data": {
      "text/plain": [
       "{'identifier': '3db9a106-2638-4800-9560-9290ed869153',\n",
       " 'created_by': 'liza.poltavchenko00@gmail.com',\n",
       " 'created_on': '2022-03-25T12:16:11.511962+0000',\n",
       " 'started_on': '2022-03-25T12:16:12.505780+0000',\n",
       " 'finished_on': '2022-03-25T12:16:22.748033+0000',\n",
       " 'operation': 'RO_RESOURCES_ZIP_UPLOAD',\n",
       " 'status': 'SUCCESS',\n",
       " 'input': 'resources.zip',\n",
       " 'output': 'Task done successfully',\n",
       " 'results': 'https://rohub2020-rohub.apps.paas-dev.psnc.pl/api/ros/43833c23-2242-48ef-8f0a-d925c0e1d3e9/',\n",
       " 'warnings': None,\n",
       " 'execution': '10.242253',\n",
       " 'api_link': 'https://rohub2020-rohub.apps.paas-dev.psnc.pl/api/jobs/3db9a106-2638-4800-9560-9290ed869153/'}"
      ]
     },
     "execution_count": 22,
     "metadata": {},
     "output_type": "execute_result"
    }
   ],
   "source": [
    "resources_from_zip"
   ]
  },
  {
   "cell_type": "markdown",
   "metadata": {},
   "source": [
    "One shouldn't confuse using a zip archive as a literal Resource with the process of uploading a zip package that was treated as a bundle of resources. The former will result in one resource, namely a zip archive, and the latter will result in multiple resources (its number will be equal to the number of files in the zip bundle).\n",
    "\n",
    "Let's try to add a literal zip file as a Resource to make it all clear."
   ]
  },
  {
   "cell_type": "code",
   "execution_count": 23,
   "metadata": {},
   "outputs": [
    {
     "name": "stdout",
     "output_type": "stream",
     "text": [
      "Resource was successfully created with id = 29690986-efc0-4dec-a7aa-0966f6daa1c9\n"
     ]
    }
   ],
   "source": [
    "res_zip = ro.add_internal_resource(res_type = 'Other', file_path = zip_path)"
   ]
  },
  {
   "cell_type": "code",
   "execution_count": 24,
   "metadata": {},
   "outputs": [
    {
     "data": {
      "text/html": [
       "<div>\n",
       "<style scoped>\n",
       "    .dataframe tbody tr th:only-of-type {\n",
       "        vertical-align: middle;\n",
       "    }\n",
       "\n",
       "    .dataframe tbody tr th {\n",
       "        vertical-align: top;\n",
       "    }\n",
       "\n",
       "    .dataframe thead th {\n",
       "        text-align: right;\n",
       "    }\n",
       "</style>\n",
       "<table border=\"1\" class=\"dataframe\">\n",
       "  <thead>\n",
       "    <tr style=\"text-align: right;\">\n",
       "      <th></th>\n",
       "      <th>identifier</th>\n",
       "      <th>type</th>\n",
       "      <th>source</th>\n",
       "      <th>title</th>\n",
       "      <th>description</th>\n",
       "      <th>url</th>\n",
       "      <th>name</th>\n",
       "      <th>path</th>\n",
       "      <th>size</th>\n",
       "      <th>creator</th>\n",
       "      <th>created_on</th>\n",
       "      <th>modified_on</th>\n",
       "      <th>download_url</th>\n",
       "    </tr>\n",
       "  </thead>\n",
       "  <tbody>\n",
       "    <tr>\n",
       "      <th>0</th>\n",
       "      <td>0aa05d06-0ad5-4c89-b59e-1af5c17e7739</td>\n",
       "      <td>Paper</td>\n",
       "      <td>external</td>\n",
       "      <td>None</td>\n",
       "      <td>None</td>\n",
       "      <td>https://journals.asm.org/doi/epdf/10.1128/jcm....</td>\n",
       "      <td>None</td>\n",
       "      <td>https://journals.asm.org/doi/epdf/10.1128/jcm....</td>\n",
       "      <td>NaN</td>\n",
       "      <td>liza.poltavchenko00@gmail.com</td>\n",
       "      <td>2022-03-25T12:12:18.548321+0000</td>\n",
       "      <td>2022-03-25T12:12:19.385625+0000</td>\n",
       "      <td>https://journals.asm.org/doi/epdf/10.1128/jcm....</td>\n",
       "    </tr>\n",
       "    <tr>\n",
       "      <th>1</th>\n",
       "      <td>1872179f-6e5b-43db-a535-bbbe562e0263</td>\n",
       "      <td>Document</td>\n",
       "      <td>internal</td>\n",
       "      <td>None</td>\n",
       "      <td>None</td>\n",
       "      <td>None</td>\n",
       "      <td>life_cycle_of_great_white_shark.txt</td>\n",
       "      <td>life_cycle_of_great_white_shark.txt</td>\n",
       "      <td>1000.0</td>\n",
       "      <td>liza.poltavchenko00@gmail.com</td>\n",
       "      <td>2022-03-25T11:54:04.216070+0000</td>\n",
       "      <td>2022-03-25T11:54:08.773328+0000</td>\n",
       "      <td>https://rohub2020-rohub.apps.paas-dev.psnc.pl/...</td>\n",
       "    </tr>\n",
       "    <tr>\n",
       "      <th>2</th>\n",
       "      <td>5bb4fc3a-30b6-4551-9c3c-9bcdf0962394</td>\n",
       "      <td>File</td>\n",
       "      <td>internal</td>\n",
       "      <td>None</td>\n",
       "      <td>None</td>\n",
       "      <td>None</td>\n",
       "      <td>presentation.pdf</td>\n",
       "      <td>presentation.pdf</td>\n",
       "      <td>NaN</td>\n",
       "      <td>liza.poltavchenko00@gmail.com</td>\n",
       "      <td>2022-03-25T12:16:13.648398+0000</td>\n",
       "      <td>2022-03-25T12:16:16.374553+0000</td>\n",
       "      <td>https://rohub2020-rohub.apps.paas-dev.psnc.pl/...</td>\n",
       "    </tr>\n",
       "    <tr>\n",
       "      <th>3</th>\n",
       "      <td>29690986-efc0-4dec-a7aa-0966f6daa1c9</td>\n",
       "      <td>Other</td>\n",
       "      <td>internal</td>\n",
       "      <td>None</td>\n",
       "      <td>None</td>\n",
       "      <td>None</td>\n",
       "      <td>resources.zip</td>\n",
       "      <td>resources.zip</td>\n",
       "      <td>32912886.0</td>\n",
       "      <td>liza.poltavchenko00@gmail.com</td>\n",
       "      <td>2022-03-25T12:17:54.943091+0000</td>\n",
       "      <td>2022-03-25T12:17:57.529986+0000</td>\n",
       "      <td>https://rohub2020-rohub.apps.paas-dev.psnc.pl/...</td>\n",
       "    </tr>\n",
       "    <tr>\n",
       "      <th>4</th>\n",
       "      <td>f7f77553-200d-4120-a1d2-ff0a359ff488</td>\n",
       "      <td>File</td>\n",
       "      <td>internal</td>\n",
       "      <td>None</td>\n",
       "      <td>None</td>\n",
       "      <td>None</td>\n",
       "      <td>video_1.mp4</td>\n",
       "      <td>video_1.mp4</td>\n",
       "      <td>NaN</td>\n",
       "      <td>liza.poltavchenko00@gmail.com</td>\n",
       "      <td>2022-03-25T12:16:14.331689+0000</td>\n",
       "      <td>2022-03-25T12:16:16.657621+0000</td>\n",
       "      <td>https://rohub2020-rohub.apps.paas-dev.psnc.pl/...</td>\n",
       "    </tr>\n",
       "    <tr>\n",
       "      <th>5</th>\n",
       "      <td>2a161917-90fa-4b57-8121-df42d9d68f69</td>\n",
       "      <td>File</td>\n",
       "      <td>internal</td>\n",
       "      <td>None</td>\n",
       "      <td>None</td>\n",
       "      <td>None</td>\n",
       "      <td>video_2.mp4</td>\n",
       "      <td>video_2.mp4</td>\n",
       "      <td>NaN</td>\n",
       "      <td>liza.poltavchenko00@gmail.com</td>\n",
       "      <td>2022-03-25T12:16:15.120380+0000</td>\n",
       "      <td>2022-03-25T12:16:17.648394+0000</td>\n",
       "      <td>https://rohub2020-rohub.apps.paas-dev.psnc.pl/...</td>\n",
       "    </tr>\n",
       "  </tbody>\n",
       "</table>\n",
       "</div>"
      ],
      "text/plain": [
       "                             identifier      type    source title description  \\\n",
       "0  0aa05d06-0ad5-4c89-b59e-1af5c17e7739     Paper  external  None        None   \n",
       "1  1872179f-6e5b-43db-a535-bbbe562e0263  Document  internal  None        None   \n",
       "2  5bb4fc3a-30b6-4551-9c3c-9bcdf0962394      File  internal  None        None   \n",
       "3  29690986-efc0-4dec-a7aa-0966f6daa1c9     Other  internal  None        None   \n",
       "4  f7f77553-200d-4120-a1d2-ff0a359ff488      File  internal  None        None   \n",
       "5  2a161917-90fa-4b57-8121-df42d9d68f69      File  internal  None        None   \n",
       "\n",
       "                                                 url  \\\n",
       "0  https://journals.asm.org/doi/epdf/10.1128/jcm....   \n",
       "1                                               None   \n",
       "2                                               None   \n",
       "3                                               None   \n",
       "4                                               None   \n",
       "5                                               None   \n",
       "\n",
       "                                  name  \\\n",
       "0                                 None   \n",
       "1  life_cycle_of_great_white_shark.txt   \n",
       "2                     presentation.pdf   \n",
       "3                        resources.zip   \n",
       "4                          video_1.mp4   \n",
       "5                          video_2.mp4   \n",
       "\n",
       "                                                path        size  \\\n",
       "0  https://journals.asm.org/doi/epdf/10.1128/jcm....         NaN   \n",
       "1                life_cycle_of_great_white_shark.txt      1000.0   \n",
       "2                                   presentation.pdf         NaN   \n",
       "3                                      resources.zip  32912886.0   \n",
       "4                                        video_1.mp4         NaN   \n",
       "5                                        video_2.mp4         NaN   \n",
       "\n",
       "                         creator                       created_on  \\\n",
       "0  liza.poltavchenko00@gmail.com  2022-03-25T12:12:18.548321+0000   \n",
       "1  liza.poltavchenko00@gmail.com  2022-03-25T11:54:04.216070+0000   \n",
       "2  liza.poltavchenko00@gmail.com  2022-03-25T12:16:13.648398+0000   \n",
       "3  liza.poltavchenko00@gmail.com  2022-03-25T12:17:54.943091+0000   \n",
       "4  liza.poltavchenko00@gmail.com  2022-03-25T12:16:14.331689+0000   \n",
       "5  liza.poltavchenko00@gmail.com  2022-03-25T12:16:15.120380+0000   \n",
       "\n",
       "                       modified_on  \\\n",
       "0  2022-03-25T12:12:19.385625+0000   \n",
       "1  2022-03-25T11:54:08.773328+0000   \n",
       "2  2022-03-25T12:16:16.374553+0000   \n",
       "3  2022-03-25T12:17:57.529986+0000   \n",
       "4  2022-03-25T12:16:16.657621+0000   \n",
       "5  2022-03-25T12:16:17.648394+0000   \n",
       "\n",
       "                                        download_url  \n",
       "0  https://journals.asm.org/doi/epdf/10.1128/jcm....  \n",
       "1  https://rohub2020-rohub.apps.paas-dev.psnc.pl/...  \n",
       "2  https://rohub2020-rohub.apps.paas-dev.psnc.pl/...  \n",
       "3  https://rohub2020-rohub.apps.paas-dev.psnc.pl/...  \n",
       "4  https://rohub2020-rohub.apps.paas-dev.psnc.pl/...  \n",
       "5  https://rohub2020-rohub.apps.paas-dev.psnc.pl/...  "
      ]
     },
     "execution_count": 24,
     "metadata": {},
     "output_type": "execute_result"
    }
   ],
   "source": [
    "ro.list_resources()"
   ]
  },
  {
   "cell_type": "markdown",
   "metadata": {},
   "source": [
    "## Loading an existing Resource\n",
    "Before one can work with an existing resource, it has to be loaded using the `rohub.resource_load()` function, which expects one argument - the resource  identifier. This will return a reusable python object, exactly as it was with creation."
   ]
  },
  {
   "cell_type": "markdown",
   "metadata": {},
   "source": [
    "### Example 1 - loading our own Recource"
   ]
  },
  {
   "cell_type": "code",
   "execution_count": 26,
   "metadata": {},
   "outputs": [
    {
     "name": "stdout",
     "output_type": "stream",
     "text": [
      "Resource was successfully loaded with id = f7f77553-200d-4120-a1d2-ff0a359ff488\n"
     ]
    }
   ],
   "source": [
    "ro_resources = ro.list_resources()\n",
    "loaded_res_id = ro_resources.loc[4, 'identifier']\n",
    "loaded_res = rohub.resource_load(identifier = loaded_res_id)"
   ]
  },
  {
   "cell_type": "code",
   "execution_count": 27,
   "metadata": {},
   "outputs": [
    {
     "data": {
      "text/plain": [
       "{'identifier': 'f7f77553-200d-4120-a1d2-ff0a359ff488',\n",
       " 'type': 'File',\n",
       " 'source': 'internal',\n",
       " 'title': None,\n",
       " 'description': None,\n",
       " 'url': None,\n",
       " 'folder': None,\n",
       " 'path': 'video_1.mp4',\n",
       " 'size': None,\n",
       " 'creator': 'liza.poltavchenko00@gmail.com',\n",
       " 'created_on': '2022-03-25T12:16:14.331689+0000',\n",
       " 'modified_on': '2022-03-25T12:16:16.657621+0000',\n",
       " 'download_url': 'https://rohub2020-rohub.apps.paas-dev.psnc.pl/api/resources/f7f77553-200d-4120-a1d2-ff0a359ff488/download/'}"
      ]
     },
     "execution_count": 27,
     "metadata": {},
     "output_type": "execute_result"
    }
   ],
   "source": [
    "loaded_res.show_metadata()"
   ]
  },
  {
   "cell_type": "markdown",
   "metadata": {},
   "source": [
    "### Example 2 - loading Resource that belongs to someone else"
   ]
  },
  {
   "cell_type": "code",
   "execution_count": 36,
   "metadata": {},
   "outputs": [
    {
     "data": {
      "text/html": [
       "<div>\n",
       "<style scoped>\n",
       "    .dataframe tbody tr th:only-of-type {\n",
       "        vertical-align: middle;\n",
       "    }\n",
       "\n",
       "    .dataframe tbody tr th {\n",
       "        vertical-align: top;\n",
       "    }\n",
       "\n",
       "    .dataframe thead th {\n",
       "        text-align: right;\n",
       "    }\n",
       "</style>\n",
       "<table border=\"1\" class=\"dataframe\">\n",
       "  <thead>\n",
       "    <tr style=\"text-align: right;\">\n",
       "      <th></th>\n",
       "      <th>identifier</th>\n",
       "      <th>type</th>\n",
       "      <th>source</th>\n",
       "      <th>title</th>\n",
       "      <th>description</th>\n",
       "      <th>url</th>\n",
       "      <th>name</th>\n",
       "      <th>path</th>\n",
       "      <th>size</th>\n",
       "      <th>creator</th>\n",
       "      <th>created_on</th>\n",
       "      <th>modified_on</th>\n",
       "      <th>download_url</th>\n",
       "    </tr>\n",
       "  </thead>\n",
       "  <tbody>\n",
       "    <tr>\n",
       "      <th>6</th>\n",
       "      <td>44c1f126-91c3-4e79-9959-e8d5f051d239</td>\n",
       "      <td>PROCESS</td>\n",
       "      <td>external</td>\n",
       "      <td>None</td>\n",
       "      <td>None</td>\n",
       "      <td>http://google.pl</td>\n",
       "      <td>None</td>\n",
       "      <td>http://google.pl</td>\n",
       "      <td>NaN</td>\n",
       "      <td>bjaniak@man.poznan.pl</td>\n",
       "      <td>2022-03-15T17:17:06.887932+0000</td>\n",
       "      <td>2022-03-15T17:17:08.940298+0000</td>\n",
       "      <td>http://google.pl</td>\n",
       "    </tr>\n",
       "    <tr>\n",
       "      <th>7</th>\n",
       "      <td>135de6db-e7c8-41f1-8d2f-8b743299702e</td>\n",
       "      <td>PROCESS</td>\n",
       "      <td>internal</td>\n",
       "      <td>new title</td>\n",
       "      <td>None</td>\n",
       "      <td>None</td>\n",
       "      <td>new title</td>\n",
       "      <td>bogusz_parent_folder/rohub.png</td>\n",
       "      <td>2900.0</td>\n",
       "      <td>bjaniak@man.poznan.pl</td>\n",
       "      <td>2022-02-03T18:00:54.018159+0000</td>\n",
       "      <td>2022-03-22T11:36:06.103468+0000</td>\n",
       "      <td>https://rohub2020-rohub.apps.paas-dev.psnc.pl/...</td>\n",
       "    </tr>\n",
       "  </tbody>\n",
       "</table>\n",
       "</div>"
      ],
      "text/plain": [
       "                             identifier     type    source      title  \\\n",
       "6  44c1f126-91c3-4e79-9959-e8d5f051d239  PROCESS  external       None   \n",
       "7  135de6db-e7c8-41f1-8d2f-8b743299702e  PROCESS  internal  new title   \n",
       "\n",
       "  description               url       name                            path  \\\n",
       "6        None  http://google.pl       None                http://google.pl   \n",
       "7        None              None  new title  bogusz_parent_folder/rohub.png   \n",
       "\n",
       "     size                creator                       created_on  \\\n",
       "6     NaN  bjaniak@man.poznan.pl  2022-03-15T17:17:06.887932+0000   \n",
       "7  2900.0  bjaniak@man.poznan.pl  2022-02-03T18:00:54.018159+0000   \n",
       "\n",
       "                       modified_on  \\\n",
       "6  2022-03-15T17:17:08.940298+0000   \n",
       "7  2022-03-22T11:36:06.103468+0000   \n",
       "\n",
       "                                        download_url  \n",
       "6                                   http://google.pl  \n",
       "7  https://rohub2020-rohub.apps.paas-dev.psnc.pl/...  "
      ]
     },
     "execution_count": 36,
     "metadata": {},
     "output_type": "execute_result"
    }
   ],
   "source": [
    "ro_id = '812f30bc-5ab1-409f-9fa8-0023f2e445f7'\n",
    "ro_resources = rohub.ros_list_resources(identifier = ro_id)\n",
    "ro_resources[6:]"
   ]
  },
  {
   "cell_type": "code",
   "execution_count": 37,
   "metadata": {},
   "outputs": [
    {
     "name": "stdout",
     "output_type": "stream",
     "text": [
      "Resource was successfully loaded with id = 135de6db-e7c8-41f1-8d2f-8b743299702e\n"
     ]
    },
    {
     "data": {
      "text/plain": [
       "{'identifier': '135de6db-e7c8-41f1-8d2f-8b743299702e',\n",
       " 'type': 'PROCESS',\n",
       " 'source': 'internal',\n",
       " 'title': 'new title',\n",
       " 'description': None,\n",
       " 'url': None,\n",
       " 'folder': 'bogusz_parent_folder',\n",
       " 'path': 'bogusz_parent_folder/rohub.png',\n",
       " 'size': 2900,\n",
       " 'creator': 'bjaniak@man.poznan.pl',\n",
       " 'created_on': '2022-02-03T18:00:54.018159+0000',\n",
       " 'modified_on': '2022-03-22T11:36:06.103468+0000',\n",
       " 'download_url': 'https://rohub2020-rohub.apps.paas-dev.psnc.pl/api/resources/135de6db-e7c8-41f1-8d2f-8b743299702e/download/'}"
      ]
     },
     "execution_count": 37,
     "metadata": {},
     "output_type": "execute_result"
    }
   ],
   "source": [
    "loaded_res2_id = ro_resources.loc[7, 'identifier']\n",
    "loaded_res2 = rohub.resource_load(identifier = loaded_res2_id)\n",
    "loaded_res2.show_metadata()"
   ]
  },
  {
   "cell_type": "markdown",
   "metadata": {},
   "source": [
    "Even though we can't modify the Resource that we don't have appropriate permissions to, we still may want to load to inspect, and download its content locally. "
   ]
  },
  {
   "cell_type": "markdown",
   "metadata": {},
   "source": [
    "## Downloading Resource\n",
    "\n",
    "To download the selected resource to the local file storage, we can use the Resource object method `.download()`. The function has two parameters: a filename, including the extension and a path where the file should be downloaded. If we don't specify a path to the function, the resource will be downloaded into the current working directory by default.\n",
    "\n",
    "Let's try to download another user's resource represented by the `loaded_res2` variable. \n",
    "\n",
    "First, we should check the filename of the loaded resource from the metadata to give the correct extension to the downloaded resource."
   ]
  },
  {
   "cell_type": "code",
   "execution_count": 38,
   "metadata": {},
   "outputs": [
    {
     "data": {
      "text/plain": [
       "'rohub.png'"
      ]
     },
     "execution_count": 38,
     "metadata": {},
     "output_type": "execute_result"
    }
   ],
   "source": [
    "loaded_res2.filename"
   ]
  },
  {
   "cell_type": "markdown",
   "metadata": {},
   "source": [
    "### Example 1 - downloading the Resource to the current working directory\n",
    "\n",
    "By default, the resource is saved to the current working directory and expects only one required parameter - filename."
   ]
  },
  {
   "cell_type": "code",
   "execution_count": 40,
   "metadata": {},
   "outputs": [
    {
     "name": "stdout",
     "output_type": "stream",
     "text": [
      "File was successfully downloaded.\n"
     ]
    },
    {
     "data": {
      "text/plain": [
       "'res_image.png'"
      ]
     },
     "execution_count": 40,
     "metadata": {},
     "output_type": "execute_result"
    }
   ],
   "source": [
    "res_filename = 'res_image.png'\n",
    "loaded_res2.download(resource_filename = res_filename)"
   ]
  },
  {
   "cell_type": "markdown",
   "metadata": {},
   "source": [
    "Now let's use the `ls` command and find the downloaded resource. "
   ]
  },
  {
   "cell_type": "code",
   "execution_count": 47,
   "metadata": {},
   "outputs": [
    {
     "name": "stdout",
     "output_type": "stream",
     "text": [
      " Volume in drive C has no label.\n",
      " Volume Serial Number is 9AD7-138D\n",
      "\n",
      " Directory of C:\\Users\\liza\\Desktop\\rohub_tutorial\n",
      "\n",
      "27.03.2022  12:14    <DIR>          .\n",
      "27.03.2022  12:14    <DIR>          ..\n",
      "25.03.2022  13:53             1˙000 life_cycle_of_great_white_shark.txt\n",
      "27.03.2022  12:12             2˙900 res_image.png\n",
      "27.03.2022  12:14           187˙464 tutorial_part3.ipynb\n",
      "               3 File(s)        191˙364 bytes\n",
      "               2 Dir(s)  222˙762˙053˙632 bytes free\n"
     ]
    }
   ],
   "source": [
    "ls"
   ]
  },
  {
   "cell_type": "markdown",
   "metadata": {},
   "source": [
    "### Example 2 - downloading the Resource to a specific folder\n",
    "\n",
    "Now let's try to download our resource to another existing folder. For this purpose, to set the path attribute to a specific folder. If the folder does not exist, it will be automatically created."
   ]
  },
  {
   "cell_type": "code",
   "execution_count": 48,
   "metadata": {},
   "outputs": [
    {
     "name": "stdout",
     "output_type": "stream",
     "text": [
      "File was successfully downloaded into Resources.\n"
     ]
    },
    {
     "data": {
      "text/plain": [
       "'Resources\\\\res_image2.png'"
      ]
     },
     "execution_count": 48,
     "metadata": {},
     "output_type": "execute_result"
    }
   ],
   "source": [
    "res_filename = \"res_image2.png\"\n",
    "res_path = 'Resources'\n",
    "loaded_res2.download(resource_filename = res_filename, path = res_path)"
   ]
  },
  {
   "cell_type": "code",
   "execution_count": 56,
   "metadata": {},
   "outputs": [
    {
     "name": "stdout",
     "output_type": "stream",
     "text": [
      "C:\\Users\\liza\\Desktop\\rohub_tutorial\\Resources\n"
     ]
    }
   ],
   "source": [
    "cd Resources"
   ]
  },
  {
   "cell_type": "code",
   "execution_count": 57,
   "metadata": {},
   "outputs": [
    {
     "name": "stdout",
     "output_type": "stream",
     "text": [
      " Volume in drive C has no label.\n",
      " Volume Serial Number is 9AD7-138D\n",
      "\n",
      " Directory of C:\\Users\\liza\\Desktop\\rohub_tutorial\\Resources\n",
      "\n",
      "27.03.2022  12:20    <DIR>          .\n",
      "27.03.2022  12:20    <DIR>          ..\n",
      "27.03.2022  12:20             2˙900 res_image2.png\n",
      "               1 File(s)          2˙900 bytes\n",
      "               2 Dir(s)  222˙761˙934˙848 bytes free\n"
     ]
    }
   ],
   "source": [
    "ls"
   ]
  },
  {
   "cell_type": "markdown",
   "metadata": {},
   "source": [
    "## Modifying Resource's metadata\n",
    "After creating or loading a resource, we can edit the resource's metadata.\n",
    "\n",
    "### Example 1 - editing our own resource\n",
    "Let's try to edit the metadata of our own resource that was previously loaded and is represented by the variable `loaded_res`."
   ]
  },
  {
   "cell_type": "code",
   "execution_count": 59,
   "metadata": {},
   "outputs": [
    {
     "data": {
      "text/plain": [
       "{'identifier': 'f7f77553-200d-4120-a1d2-ff0a359ff488',\n",
       " 'type': 'File',\n",
       " 'source': 'internal',\n",
       " 'title': None,\n",
       " 'description': None,\n",
       " 'url': None,\n",
       " 'folder': None,\n",
       " 'path': 'video_1.mp4',\n",
       " 'size': None,\n",
       " 'creator': 'liza.poltavchenko00@gmail.com',\n",
       " 'created_on': '2022-03-25T12:16:14.331689+0000',\n",
       " 'modified_on': '2022-03-25T12:16:16.657621+0000',\n",
       " 'download_url': 'https://rohub2020-rohub.apps.paas-dev.psnc.pl/api/resources/f7f77553-200d-4120-a1d2-ff0a359ff488/download/'}"
      ]
     },
     "execution_count": 59,
     "metadata": {},
     "output_type": "execute_result"
    }
   ],
   "source": [
    "loaded_res.show_metadata()"
   ]
  },
  {
   "cell_type": "markdown",
   "metadata": {},
   "source": [
    "There is no title associated with this resource when displaying metadata. We can aim at adding one.\n",
    "\n",
    "To confirm, we can access the title attribute directly. As expected, there is no title value."
   ]
  },
  {
   "cell_type": "code",
   "execution_count": 60,
   "metadata": {},
   "outputs": [
    {
     "name": "stdout",
     "output_type": "stream",
     "text": [
      "None\n"
     ]
    }
   ],
   "source": [
    "print(loaded_res.title)"
   ]
  },
  {
   "cell_type": "markdown",
   "metadata": {},
   "source": [
    "Now let's set a new value for the title that will be relevant to its content; this video shows a swimming shark.\n",
    "![video2](./screens/video2_screen.png)"
   ]
  },
  {
   "cell_type": "code",
   "execution_count": 69,
   "metadata": {},
   "outputs": [],
   "source": [
    "new_title = 'A swimming shark'\n",
    "loaded_res.title = new_title"
   ]
  },
  {
   "cell_type": "code",
   "execution_count": 70,
   "metadata": {},
   "outputs": [
    {
     "data": {
      "text/plain": [
       "'A swimming shark'"
      ]
     },
     "execution_count": 70,
     "metadata": {},
     "output_type": "execute_result"
    }
   ],
   "source": [
    "loaded_res.title"
   ]
  },
  {
   "cell_type": "markdown",
   "metadata": {},
   "source": [
    "We have provided a new title for our resource object, however, if we take a look in the service, or through the API we can see that the changes we made locally didn't appear there!\n",
    "![res_before_update](./screens/res_before_updating.png)"
   ]
  },
  {
   "cell_type": "markdown",
   "metadata": {},
   "source": [
    "By design, changes we make locally have to be explicitly updated to appear in the API/Portal. This works similar to modifying and updating Research Objects."
   ]
  },
  {
   "cell_type": "markdown",
   "metadata": {},
   "source": [
    "We can use the `update_metadata()` function to update our local resource so that it becomes aligned with service data and visible in the API or Portal."
   ]
  },
  {
   "cell_type": "code",
   "execution_count": 71,
   "metadata": {},
   "outputs": [
    {
     "data": {
      "text/plain": [
       "{'title': 'A swimming shark', 'type': 'File'}"
      ]
     },
     "execution_count": 71,
     "metadata": {},
     "output_type": "execute_result"
    }
   ],
   "source": [
    "loaded_res.update_metadata()"
   ]
  },
  {
   "cell_type": "markdown",
   "metadata": {},
   "source": [
    "Now, we can see that changes are published in the portal. We also see the original path with a new title.\n",
    "![res_after_update](./screens/res_after_update.png)"
   ]
  },
  {
   "cell_type": "markdown",
   "metadata": {},
   "source": [
    "### Example 2 - editing a Resource that belongs to someone else \n",
    "\n",
    "In this example, let's try to edit the metadata of a resource that belongs to another user. We could use the one that was previously loaded and is represented by the variable `loaded_res2`."
   ]
  },
  {
   "cell_type": "code",
   "execution_count": 72,
   "metadata": {},
   "outputs": [
    {
     "data": {
      "text/plain": [
       "{'identifier': '135de6db-e7c8-41f1-8d2f-8b743299702e',\n",
       " 'type': 'PROCESS',\n",
       " 'source': 'internal',\n",
       " 'title': 'new title',\n",
       " 'description': None,\n",
       " 'url': None,\n",
       " 'folder': 'bogusz_parent_folder',\n",
       " 'path': 'bogusz_parent_folder/rohub.png',\n",
       " 'size': 2900,\n",
       " 'creator': 'bjaniak@man.poznan.pl',\n",
       " 'created_on': '2022-02-03T18:00:54.018159+0000',\n",
       " 'modified_on': '2022-03-22T11:36:06.103468+0000',\n",
       " 'download_url': 'https://rohub2020-rohub.apps.paas-dev.psnc.pl/api/resources/135de6db-e7c8-41f1-8d2f-8b743299702e/download/'}"
      ]
     },
     "execution_count": 72,
     "metadata": {},
     "output_type": "execute_result"
    }
   ],
   "source": [
    "loaded_res2.show_metadata()"
   ]
  },
  {
   "cell_type": "markdown",
   "metadata": {},
   "source": [
    "We can try to set a new value for the title by referring to the creator of resource."
   ]
  },
  {
   "cell_type": "code",
   "execution_count": 76,
   "metadata": {},
   "outputs": [
    {
     "data": {
      "text/plain": [
       "'bjaniak@man.poznan.pl'"
      ]
     },
     "execution_count": 76,
     "metadata": {},
     "output_type": "execute_result"
    }
   ],
   "source": [
    "loaded_res2.creator"
   ]
  },
  {
   "cell_type": "code",
   "execution_count": 77,
   "metadata": {},
   "outputs": [
    {
     "data": {
      "text/plain": [
       "{'identifier': '135de6db-e7c8-41f1-8d2f-8b743299702e',\n",
       " 'type': 'PROCESS',\n",
       " 'source': 'internal',\n",
       " 'title': 'bjaniak_res_image',\n",
       " 'description': None,\n",
       " 'url': None,\n",
       " 'folder': 'bogusz_parent_folder',\n",
       " 'path': 'bogusz_parent_folder/rohub.png',\n",
       " 'size': 2900,\n",
       " 'creator': 'bjaniak@man.poznan.pl',\n",
       " 'created_on': '2022-02-03T18:00:54.018159+0000',\n",
       " 'modified_on': '2022-03-22T11:36:06.103468+0000',\n",
       " 'download_url': 'https://rohub2020-rohub.apps.paas-dev.psnc.pl/api/resources/135de6db-e7c8-41f1-8d2f-8b743299702e/download/'}"
      ]
     },
     "execution_count": 77,
     "metadata": {},
     "output_type": "execute_result"
    }
   ],
   "source": [
    "new_title = 'bjaniak_res_image'\n",
    "loaded_res2.title = new_title\n",
    "loaded_res2.show_metadata()"
   ]
  },
  {
   "cell_type": "code",
   "execution_count": null,
   "metadata": {},
   "outputs": [],
   "source": [
    "loaded_res2.update_metadata()"
   ]
  },
  {
   "cell_type": "markdown",
   "metadata": {},
   "source": [
    "An error has occurred: `SystemExit: {\"detail\":\"You do not have permission to perform this action.\"}`.\n",
    "\n",
    "Similar to updating a Research Object - we can play with resources locally, but we can't publish changes unless we have sufficient permissions.\n",
    "\n",
    "Only the resource creator can publish changes! "
   ]
  },
  {
   "cell_type": "markdown",
   "metadata": {},
   "source": [
    "## Modifying Resource's content\n",
    "\n",
    "In addition to updating the metadata of a resource, we can also update the content of a resource, for this we can use the `update_content` function of the Resource object.\n",
    "\n",
    "The library provides a separate method `update_content()` for updating resources' content. \n",
    "\n",
    "This function has two parameters that are mutually exclusive:\n",
    "- `input_url` which is used to update the content for the external resource\n",
    "- `file_path` which is used to update the content for the internal resource\n",
    "\n",
    "**The resource content will be overwritten!**"
   ]
  },
  {
   "cell_type": "markdown",
   "metadata": {},
   "source": [
    "### Example 1 - updating content of external Resource"
   ]
  },
  {
   "cell_type": "code",
   "execution_count": 78,
   "metadata": {},
   "outputs": [
    {
     "data": {
      "text/plain": [
       "{'identifier': '43833c23-2242-48ef-8f0a-d925c0e1d3e9',\n",
       " 'shared_link': 'https://w3id.org/ro-id-dev/43833c23-2242-48ef-8f0a-d925c0e1d3e9',\n",
       " 'title': 'Shark research',\n",
       " 'description': 'Similarities and differences in the life cycle of different sharks.',\n",
       " 'status': 'LIVE',\n",
       " 'access_mode': 'PUBLIC',\n",
       " 'type': 'Bibliography-centric Research Object',\n",
       " 'template': 'Bibliography Centric Research Object folders structure',\n",
       " 'created': '2022-02-27T13:32:54.305241Z',\n",
       " 'creator': 'liza.poltavchenko00@gmail.com',\n",
       " 'modificator': 'liza.poltavchenko00@gmail.com',\n",
       " 'modified': '2022-03-25T11:54:08.805007Z',\n",
       " 'importer': None,\n",
       " 'research_areas': ['Biology', 'Zoology'],\n",
       " 'owner': 'liza.poltavchenko00@gmail.com',\n",
       " 'editors': ['bjaniak@man.poznan.pl'],\n",
       " 'readers': [],\n",
       " 'rating': '0.00',\n",
       " 'number_of_ratings': 0,\n",
       " 'number_of_likes': 0,\n",
       " 'number_of_dislikes': 0,\n",
       " 'completness': 51,\n",
       " 'size': 4423,\n",
       " 'creation_mode': 'MANUAL',\n",
       " 'doi': None,\n",
       " 'api_link': 'https://rohub2020-rohub.apps.paas-dev.psnc.pl/api/ros/43833c23-2242-48ef-8f0a-d925c0e1d3e9/'}"
      ]
     },
     "execution_count": 78,
     "metadata": {},
     "output_type": "execute_result"
    }
   ],
   "source": [
    "ro.show_metadata()"
   ]
  },
  {
   "cell_type": "code",
   "execution_count": 79,
   "metadata": {},
   "outputs": [
    {
     "data": {
      "text/html": [
       "<div>\n",
       "<style scoped>\n",
       "    .dataframe tbody tr th:only-of-type {\n",
       "        vertical-align: middle;\n",
       "    }\n",
       "\n",
       "    .dataframe tbody tr th {\n",
       "        vertical-align: top;\n",
       "    }\n",
       "\n",
       "    .dataframe thead th {\n",
       "        text-align: right;\n",
       "    }\n",
       "</style>\n",
       "<table border=\"1\" class=\"dataframe\">\n",
       "  <thead>\n",
       "    <tr style=\"text-align: right;\">\n",
       "      <th></th>\n",
       "      <th>identifier</th>\n",
       "      <th>type</th>\n",
       "      <th>source</th>\n",
       "      <th>title</th>\n",
       "      <th>description</th>\n",
       "      <th>url</th>\n",
       "      <th>name</th>\n",
       "      <th>path</th>\n",
       "      <th>size</th>\n",
       "      <th>creator</th>\n",
       "      <th>created_on</th>\n",
       "      <th>modified_on</th>\n",
       "      <th>download_url</th>\n",
       "    </tr>\n",
       "  </thead>\n",
       "  <tbody>\n",
       "    <tr>\n",
       "      <th>0</th>\n",
       "      <td>0aa05d06-0ad5-4c89-b59e-1af5c17e7739</td>\n",
       "      <td>Paper</td>\n",
       "      <td>external</td>\n",
       "      <td>None</td>\n",
       "      <td>None</td>\n",
       "      <td>https://journals.asm.org/doi/epdf/10.1128/jcm....</td>\n",
       "      <td>None</td>\n",
       "      <td>https://journals.asm.org/doi/epdf/10.1128/jcm....</td>\n",
       "      <td>NaN</td>\n",
       "      <td>liza.poltavchenko00@gmail.com</td>\n",
       "      <td>2022-03-25T12:12:18.548321+0000</td>\n",
       "      <td>2022-03-25T12:12:19.385625+0000</td>\n",
       "      <td>https://journals.asm.org/doi/epdf/10.1128/jcm....</td>\n",
       "    </tr>\n",
       "    <tr>\n",
       "      <th>1</th>\n",
       "      <td>1872179f-6e5b-43db-a535-bbbe562e0263</td>\n",
       "      <td>Document</td>\n",
       "      <td>internal</td>\n",
       "      <td>None</td>\n",
       "      <td>None</td>\n",
       "      <td>None</td>\n",
       "      <td>life_cycle_of_great_white_shark.txt</td>\n",
       "      <td>life_cycle_of_great_white_shark.txt</td>\n",
       "      <td>1000.0</td>\n",
       "      <td>liza.poltavchenko00@gmail.com</td>\n",
       "      <td>2022-03-25T11:54:04.216070+0000</td>\n",
       "      <td>2022-03-25T11:54:08.773328+0000</td>\n",
       "      <td>https://rohub2020-rohub.apps.paas-dev.psnc.pl/...</td>\n",
       "    </tr>\n",
       "    <tr>\n",
       "      <th>2</th>\n",
       "      <td>5bb4fc3a-30b6-4551-9c3c-9bcdf0962394</td>\n",
       "      <td>File</td>\n",
       "      <td>internal</td>\n",
       "      <td>None</td>\n",
       "      <td>None</td>\n",
       "      <td>None</td>\n",
       "      <td>presentation.pdf</td>\n",
       "      <td>presentation.pdf</td>\n",
       "      <td>NaN</td>\n",
       "      <td>liza.poltavchenko00@gmail.com</td>\n",
       "      <td>2022-03-25T12:16:13.648398+0000</td>\n",
       "      <td>2022-03-25T12:16:16.374553+0000</td>\n",
       "      <td>https://rohub2020-rohub.apps.paas-dev.psnc.pl/...</td>\n",
       "    </tr>\n",
       "    <tr>\n",
       "      <th>3</th>\n",
       "      <td>29690986-efc0-4dec-a7aa-0966f6daa1c9</td>\n",
       "      <td>Other</td>\n",
       "      <td>internal</td>\n",
       "      <td>None</td>\n",
       "      <td>None</td>\n",
       "      <td>None</td>\n",
       "      <td>resources.zip</td>\n",
       "      <td>resources.zip</td>\n",
       "      <td>32912886.0</td>\n",
       "      <td>liza.poltavchenko00@gmail.com</td>\n",
       "      <td>2022-03-25T12:17:54.943091+0000</td>\n",
       "      <td>2022-03-25T12:17:57.529986+0000</td>\n",
       "      <td>https://rohub2020-rohub.apps.paas-dev.psnc.pl/...</td>\n",
       "    </tr>\n",
       "    <tr>\n",
       "      <th>4</th>\n",
       "      <td>f7f77553-200d-4120-a1d2-ff0a359ff488</td>\n",
       "      <td>File</td>\n",
       "      <td>internal</td>\n",
       "      <td>A swimming shark</td>\n",
       "      <td>None</td>\n",
       "      <td>None</td>\n",
       "      <td>A swimming shark</td>\n",
       "      <td>video_1.mp4</td>\n",
       "      <td>12221703.0</td>\n",
       "      <td>liza.poltavchenko00@gmail.com</td>\n",
       "      <td>2022-03-25T12:16:14.331689+0000</td>\n",
       "      <td>2022-03-27T10:31:48.385952+0000</td>\n",
       "      <td>https://rohub2020-rohub.apps.paas-dev.psnc.pl/...</td>\n",
       "    </tr>\n",
       "    <tr>\n",
       "      <th>5</th>\n",
       "      <td>2a161917-90fa-4b57-8121-df42d9d68f69</td>\n",
       "      <td>File</td>\n",
       "      <td>internal</td>\n",
       "      <td>None</td>\n",
       "      <td>None</td>\n",
       "      <td>None</td>\n",
       "      <td>video_2.mp4</td>\n",
       "      <td>video_2.mp4</td>\n",
       "      <td>NaN</td>\n",
       "      <td>liza.poltavchenko00@gmail.com</td>\n",
       "      <td>2022-03-25T12:16:15.120380+0000</td>\n",
       "      <td>2022-03-25T12:16:17.648394+0000</td>\n",
       "      <td>https://rohub2020-rohub.apps.paas-dev.psnc.pl/...</td>\n",
       "    </tr>\n",
       "  </tbody>\n",
       "</table>\n",
       "</div>"
      ],
      "text/plain": [
       "                             identifier      type    source             title  \\\n",
       "0  0aa05d06-0ad5-4c89-b59e-1af5c17e7739     Paper  external              None   \n",
       "1  1872179f-6e5b-43db-a535-bbbe562e0263  Document  internal              None   \n",
       "2  5bb4fc3a-30b6-4551-9c3c-9bcdf0962394      File  internal              None   \n",
       "3  29690986-efc0-4dec-a7aa-0966f6daa1c9     Other  internal              None   \n",
       "4  f7f77553-200d-4120-a1d2-ff0a359ff488      File  internal  A swimming shark   \n",
       "5  2a161917-90fa-4b57-8121-df42d9d68f69      File  internal              None   \n",
       "\n",
       "  description                                                url  \\\n",
       "0        None  https://journals.asm.org/doi/epdf/10.1128/jcm....   \n",
       "1        None                                               None   \n",
       "2        None                                               None   \n",
       "3        None                                               None   \n",
       "4        None                                               None   \n",
       "5        None                                               None   \n",
       "\n",
       "                                  name  \\\n",
       "0                                 None   \n",
       "1  life_cycle_of_great_white_shark.txt   \n",
       "2                     presentation.pdf   \n",
       "3                        resources.zip   \n",
       "4                     A swimming shark   \n",
       "5                          video_2.mp4   \n",
       "\n",
       "                                                path        size  \\\n",
       "0  https://journals.asm.org/doi/epdf/10.1128/jcm....         NaN   \n",
       "1                life_cycle_of_great_white_shark.txt      1000.0   \n",
       "2                                   presentation.pdf         NaN   \n",
       "3                                      resources.zip  32912886.0   \n",
       "4                                        video_1.mp4  12221703.0   \n",
       "5                                        video_2.mp4         NaN   \n",
       "\n",
       "                         creator                       created_on  \\\n",
       "0  liza.poltavchenko00@gmail.com  2022-03-25T12:12:18.548321+0000   \n",
       "1  liza.poltavchenko00@gmail.com  2022-03-25T11:54:04.216070+0000   \n",
       "2  liza.poltavchenko00@gmail.com  2022-03-25T12:16:13.648398+0000   \n",
       "3  liza.poltavchenko00@gmail.com  2022-03-25T12:17:54.943091+0000   \n",
       "4  liza.poltavchenko00@gmail.com  2022-03-25T12:16:14.331689+0000   \n",
       "5  liza.poltavchenko00@gmail.com  2022-03-25T12:16:15.120380+0000   \n",
       "\n",
       "                       modified_on  \\\n",
       "0  2022-03-25T12:12:19.385625+0000   \n",
       "1  2022-03-25T11:54:08.773328+0000   \n",
       "2  2022-03-25T12:16:16.374553+0000   \n",
       "3  2022-03-25T12:17:57.529986+0000   \n",
       "4  2022-03-27T10:31:48.385952+0000   \n",
       "5  2022-03-25T12:16:17.648394+0000   \n",
       "\n",
       "                                        download_url  \n",
       "0  https://journals.asm.org/doi/epdf/10.1128/jcm....  \n",
       "1  https://rohub2020-rohub.apps.paas-dev.psnc.pl/...  \n",
       "2  https://rohub2020-rohub.apps.paas-dev.psnc.pl/...  \n",
       "3  https://rohub2020-rohub.apps.paas-dev.psnc.pl/...  \n",
       "4  https://rohub2020-rohub.apps.paas-dev.psnc.pl/...  \n",
       "5  https://rohub2020-rohub.apps.paas-dev.psnc.pl/...  "
      ]
     },
     "execution_count": 79,
     "metadata": {},
     "output_type": "execute_result"
    }
   ],
   "source": [
    "my_res = ro.list_resources()\n",
    "my_res"
   ]
  },
  {
   "cell_type": "code",
   "execution_count": 80,
   "metadata": {},
   "outputs": [
    {
     "name": "stdout",
     "output_type": "stream",
     "text": [
      "Resource was successfully loaded with id = 0aa05d06-0ad5-4c89-b59e-1af5c17e7739\n"
     ]
    }
   ],
   "source": [
    "article_res_id = my_res.loc[0, 'identifier']\n",
    "article_res = rohub.resource_load(identifier = article_res_id)"
   ]
  },
  {
   "cell_type": "markdown",
   "metadata": {},
   "source": [
    "Let's confirm that this is indeed an external Resource."
   ]
  },
  {
   "cell_type": "code",
   "execution_count": 81,
   "metadata": {},
   "outputs": [
    {
     "data": {
      "text/plain": [
       "{'identifier': '0aa05d06-0ad5-4c89-b59e-1af5c17e7739',\n",
       " 'type': 'Paper',\n",
       " 'source': 'external',\n",
       " 'title': None,\n",
       " 'description': None,\n",
       " 'url': 'https://journals.asm.org/doi/epdf/10.1128/jcm.20.5.849-851.1984',\n",
       " 'folder': None,\n",
       " 'path': 'https://journals.asm.org/doi/epdf/10.1128/jcm.20.5.849-851.1984',\n",
       " 'size': None,\n",
       " 'creator': 'liza.poltavchenko00@gmail.com',\n",
       " 'created_on': '2022-03-25T12:12:18.548321+0000',\n",
       " 'modified_on': '2022-03-25T12:12:19.385625+0000',\n",
       " 'download_url': 'https://journals.asm.org/doi/epdf/10.1128/jcm.20.5.849-851.1984'}"
      ]
     },
     "execution_count": 81,
     "metadata": {},
     "output_type": "execute_result"
    }
   ],
   "source": [
    "article_res.show_metadata()"
   ]
  },
  {
   "cell_type": "code",
   "execution_count": 82,
   "metadata": {},
   "outputs": [
    {
     "data": {
      "text/plain": [
       "{'identifier': '0aa05d06-0ad5-4c89-b59e-1af5c17e7739',\n",
       " 'shared_link': 'https://w3id.org/ro-id-dev/43833c23-2242-48ef-8f0a-d925c0e1d3e9/resources/0aa05d06-0ad5-4c89-b59e-1af5c17e7739',\n",
       " 'title': None,\n",
       " 'folder': None,\n",
       " 'ros': ['43833c23-2242-48ef-8f0a-d925c0e1d3e9'],\n",
       " 'description': None,\n",
       " 'url': 'https://en.wikipedia.org/wiki/Great_white_shark',\n",
       " 'name': None,\n",
       " 'filename': None,\n",
       " 'path': 'https://en.wikipedia.org/wiki/Great_white_shark',\n",
       " 'size': None,\n",
       " 'download_url': 'https://en.wikipedia.org/wiki/Great_white_shark',\n",
       " 'type': 'Paper',\n",
       " 'created': '2022-03-25T12:12:18.548321+0000',\n",
       " 'creator': 'liza.poltavchenko00@gmail.com',\n",
       " 'modificator': 'liza.poltavchenko00@gmail.com',\n",
       " 'modified': '2022-03-27T10:48:34.311541+0000',\n",
       " 'created_on': '2022-03-25T12:12:18.548321+0000',\n",
       " 'created_by': 'liza.poltavchenko00@gmail.com',\n",
       " 'modified_on': '2022-03-27T10:48:34.311541+0000',\n",
       " 'modified_by': 'liza.poltavchenko00@gmail.com',\n",
       " 'original_created_on': None,\n",
       " 'original_created_by': None,\n",
       " 'original_creator_name': None,\n",
       " 'authors_credits': ['liza.poltavchenko00@gmail.com'],\n",
       " 'contributors_credits': [],\n",
       " 'shared': False,\n",
       " 'doi': None,\n",
       " 'license': None,\n",
       " 'read_only': False,\n",
       " 'api_link': 'https://rohub2020-rohub.apps.paas-dev.psnc.pl/api/resources/0aa05d06-0ad5-4c89-b59e-1af5c17e7739/'}"
      ]
     },
     "execution_count": 82,
     "metadata": {},
     "output_type": "execute_result"
    }
   ],
   "source": [
    "new_url = 'https://en.wikipedia.org/wiki/Great_white_shark'\n",
    "article_res.update_content(input_url = new_url)"
   ]
  },
  {
   "cell_type": "markdown",
   "metadata": {},
   "source": [
    "We can now see the changes in the portal as well!\n",
    "![article_update](./screens/article_res_update.png)"
   ]
  },
  {
   "cell_type": "markdown",
   "metadata": {},
   "source": [
    "### Example 2 - updating content of internal Resource"
   ]
  },
  {
   "cell_type": "code",
   "execution_count": 83,
   "metadata": {},
   "outputs": [
    {
     "data": {
      "text/html": [
       "<div>\n",
       "<style scoped>\n",
       "    .dataframe tbody tr th:only-of-type {\n",
       "        vertical-align: middle;\n",
       "    }\n",
       "\n",
       "    .dataframe tbody tr th {\n",
       "        vertical-align: top;\n",
       "    }\n",
       "\n",
       "    .dataframe thead th {\n",
       "        text-align: right;\n",
       "    }\n",
       "</style>\n",
       "<table border=\"1\" class=\"dataframe\">\n",
       "  <thead>\n",
       "    <tr style=\"text-align: right;\">\n",
       "      <th></th>\n",
       "      <th>identifier</th>\n",
       "      <th>type</th>\n",
       "      <th>source</th>\n",
       "      <th>title</th>\n",
       "      <th>description</th>\n",
       "      <th>url</th>\n",
       "      <th>name</th>\n",
       "      <th>path</th>\n",
       "      <th>size</th>\n",
       "      <th>creator</th>\n",
       "      <th>created_on</th>\n",
       "      <th>modified_on</th>\n",
       "      <th>download_url</th>\n",
       "    </tr>\n",
       "  </thead>\n",
       "  <tbody>\n",
       "    <tr>\n",
       "      <th>0</th>\n",
       "      <td>0aa05d06-0ad5-4c89-b59e-1af5c17e7739</td>\n",
       "      <td>Paper</td>\n",
       "      <td>external</td>\n",
       "      <td>None</td>\n",
       "      <td>None</td>\n",
       "      <td>https://en.wikipedia.org/wiki/Great_white_shark</td>\n",
       "      <td>None</td>\n",
       "      <td>https://en.wikipedia.org/wiki/Great_white_shark</td>\n",
       "      <td>NaN</td>\n",
       "      <td>liza.poltavchenko00@gmail.com</td>\n",
       "      <td>2022-03-25T12:12:18.548321+0000</td>\n",
       "      <td>2022-03-27T10:48:34.905035+0000</td>\n",
       "      <td>https://en.wikipedia.org/wiki/Great_white_shark</td>\n",
       "    </tr>\n",
       "    <tr>\n",
       "      <th>1</th>\n",
       "      <td>1872179f-6e5b-43db-a535-bbbe562e0263</td>\n",
       "      <td>Document</td>\n",
       "      <td>internal</td>\n",
       "      <td>None</td>\n",
       "      <td>None</td>\n",
       "      <td>None</td>\n",
       "      <td>life_cycle_of_great_white_shark.txt</td>\n",
       "      <td>life_cycle_of_great_white_shark.txt</td>\n",
       "      <td>1000.0</td>\n",
       "      <td>liza.poltavchenko00@gmail.com</td>\n",
       "      <td>2022-03-25T11:54:04.216070+0000</td>\n",
       "      <td>2022-03-25T11:54:08.773328+0000</td>\n",
       "      <td>https://rohub2020-rohub.apps.paas-dev.psnc.pl/...</td>\n",
       "    </tr>\n",
       "    <tr>\n",
       "      <th>2</th>\n",
       "      <td>5bb4fc3a-30b6-4551-9c3c-9bcdf0962394</td>\n",
       "      <td>File</td>\n",
       "      <td>internal</td>\n",
       "      <td>None</td>\n",
       "      <td>None</td>\n",
       "      <td>None</td>\n",
       "      <td>presentation.pdf</td>\n",
       "      <td>presentation.pdf</td>\n",
       "      <td>NaN</td>\n",
       "      <td>liza.poltavchenko00@gmail.com</td>\n",
       "      <td>2022-03-25T12:16:13.648398+0000</td>\n",
       "      <td>2022-03-25T12:16:16.374553+0000</td>\n",
       "      <td>https://rohub2020-rohub.apps.paas-dev.psnc.pl/...</td>\n",
       "    </tr>\n",
       "    <tr>\n",
       "      <th>3</th>\n",
       "      <td>29690986-efc0-4dec-a7aa-0966f6daa1c9</td>\n",
       "      <td>Other</td>\n",
       "      <td>internal</td>\n",
       "      <td>None</td>\n",
       "      <td>None</td>\n",
       "      <td>None</td>\n",
       "      <td>resources.zip</td>\n",
       "      <td>resources.zip</td>\n",
       "      <td>32912886.0</td>\n",
       "      <td>liza.poltavchenko00@gmail.com</td>\n",
       "      <td>2022-03-25T12:17:54.943091+0000</td>\n",
       "      <td>2022-03-25T12:17:57.529986+0000</td>\n",
       "      <td>https://rohub2020-rohub.apps.paas-dev.psnc.pl/...</td>\n",
       "    </tr>\n",
       "    <tr>\n",
       "      <th>4</th>\n",
       "      <td>f7f77553-200d-4120-a1d2-ff0a359ff488</td>\n",
       "      <td>File</td>\n",
       "      <td>internal</td>\n",
       "      <td>A swimming shark</td>\n",
       "      <td>None</td>\n",
       "      <td>None</td>\n",
       "      <td>A swimming shark</td>\n",
       "      <td>video_1.mp4</td>\n",
       "      <td>12221703.0</td>\n",
       "      <td>liza.poltavchenko00@gmail.com</td>\n",
       "      <td>2022-03-25T12:16:14.331689+0000</td>\n",
       "      <td>2022-03-27T10:31:48.385952+0000</td>\n",
       "      <td>https://rohub2020-rohub.apps.paas-dev.psnc.pl/...</td>\n",
       "    </tr>\n",
       "    <tr>\n",
       "      <th>5</th>\n",
       "      <td>2a161917-90fa-4b57-8121-df42d9d68f69</td>\n",
       "      <td>File</td>\n",
       "      <td>internal</td>\n",
       "      <td>None</td>\n",
       "      <td>None</td>\n",
       "      <td>None</td>\n",
       "      <td>video_2.mp4</td>\n",
       "      <td>video_2.mp4</td>\n",
       "      <td>NaN</td>\n",
       "      <td>liza.poltavchenko00@gmail.com</td>\n",
       "      <td>2022-03-25T12:16:15.120380+0000</td>\n",
       "      <td>2022-03-25T12:16:17.648394+0000</td>\n",
       "      <td>https://rohub2020-rohub.apps.paas-dev.psnc.pl/...</td>\n",
       "    </tr>\n",
       "  </tbody>\n",
       "</table>\n",
       "</div>"
      ],
      "text/plain": [
       "                             identifier      type    source             title  \\\n",
       "0  0aa05d06-0ad5-4c89-b59e-1af5c17e7739     Paper  external              None   \n",
       "1  1872179f-6e5b-43db-a535-bbbe562e0263  Document  internal              None   \n",
       "2  5bb4fc3a-30b6-4551-9c3c-9bcdf0962394      File  internal              None   \n",
       "3  29690986-efc0-4dec-a7aa-0966f6daa1c9     Other  internal              None   \n",
       "4  f7f77553-200d-4120-a1d2-ff0a359ff488      File  internal  A swimming shark   \n",
       "5  2a161917-90fa-4b57-8121-df42d9d68f69      File  internal              None   \n",
       "\n",
       "  description                                              url  \\\n",
       "0        None  https://en.wikipedia.org/wiki/Great_white_shark   \n",
       "1        None                                             None   \n",
       "2        None                                             None   \n",
       "3        None                                             None   \n",
       "4        None                                             None   \n",
       "5        None                                             None   \n",
       "\n",
       "                                  name  \\\n",
       "0                                 None   \n",
       "1  life_cycle_of_great_white_shark.txt   \n",
       "2                     presentation.pdf   \n",
       "3                        resources.zip   \n",
       "4                     A swimming shark   \n",
       "5                          video_2.mp4   \n",
       "\n",
       "                                              path        size  \\\n",
       "0  https://en.wikipedia.org/wiki/Great_white_shark         NaN   \n",
       "1              life_cycle_of_great_white_shark.txt      1000.0   \n",
       "2                                 presentation.pdf         NaN   \n",
       "3                                    resources.zip  32912886.0   \n",
       "4                                      video_1.mp4  12221703.0   \n",
       "5                                      video_2.mp4         NaN   \n",
       "\n",
       "                         creator                       created_on  \\\n",
       "0  liza.poltavchenko00@gmail.com  2022-03-25T12:12:18.548321+0000   \n",
       "1  liza.poltavchenko00@gmail.com  2022-03-25T11:54:04.216070+0000   \n",
       "2  liza.poltavchenko00@gmail.com  2022-03-25T12:16:13.648398+0000   \n",
       "3  liza.poltavchenko00@gmail.com  2022-03-25T12:17:54.943091+0000   \n",
       "4  liza.poltavchenko00@gmail.com  2022-03-25T12:16:14.331689+0000   \n",
       "5  liza.poltavchenko00@gmail.com  2022-03-25T12:16:15.120380+0000   \n",
       "\n",
       "                       modified_on  \\\n",
       "0  2022-03-27T10:48:34.905035+0000   \n",
       "1  2022-03-25T11:54:08.773328+0000   \n",
       "2  2022-03-25T12:16:16.374553+0000   \n",
       "3  2022-03-25T12:17:57.529986+0000   \n",
       "4  2022-03-27T10:31:48.385952+0000   \n",
       "5  2022-03-25T12:16:17.648394+0000   \n",
       "\n",
       "                                        download_url  \n",
       "0    https://en.wikipedia.org/wiki/Great_white_shark  \n",
       "1  https://rohub2020-rohub.apps.paas-dev.psnc.pl/...  \n",
       "2  https://rohub2020-rohub.apps.paas-dev.psnc.pl/...  \n",
       "3  https://rohub2020-rohub.apps.paas-dev.psnc.pl/...  \n",
       "4  https://rohub2020-rohub.apps.paas-dev.psnc.pl/...  \n",
       "5  https://rohub2020-rohub.apps.paas-dev.psnc.pl/...  "
      ]
     },
     "execution_count": 83,
     "metadata": {},
     "output_type": "execute_result"
    }
   ],
   "source": [
    "my_res = ro.list_resources()\n",
    "my_res"
   ]
  },
  {
   "cell_type": "markdown",
   "metadata": {},
   "source": [
    "Let's pick a Resource containing a document named \"*life_cycle_of_great_white_shark.txt*\". "
   ]
  },
  {
   "cell_type": "code",
   "execution_count": 84,
   "metadata": {},
   "outputs": [
    {
     "name": "stdout",
     "output_type": "stream",
     "text": [
      "Resource was successfully loaded with id = 1872179f-6e5b-43db-a535-bbbe562e0263\n"
     ]
    },
    {
     "data": {
      "text/plain": [
       "{'identifier': '1872179f-6e5b-43db-a535-bbbe562e0263',\n",
       " 'type': 'Document',\n",
       " 'source': 'internal',\n",
       " 'title': None,\n",
       " 'description': None,\n",
       " 'url': None,\n",
       " 'folder': None,\n",
       " 'path': 'life_cycle_of_great_white_shark.txt',\n",
       " 'size': 1000,\n",
       " 'creator': 'liza.poltavchenko00@gmail.com',\n",
       " 'created_on': '2022-03-25T11:54:04.216070+0000',\n",
       " 'modified_on': '2022-03-25T11:54:08.773328+0000',\n",
       " 'download_url': 'https://rohub2020-rohub.apps.paas-dev.psnc.pl/api/resources/1872179f-6e5b-43db-a535-bbbe562e0263/download/'}"
      ]
     },
     "execution_count": 84,
     "metadata": {},
     "output_type": "execute_result"
    }
   ],
   "source": [
    "document_res_id = my_res.loc[1, 'identifier']\n",
    "document_res = rohub.resource_load(identifier = document_res_id)\n",
    "document_res.show_metadata()"
   ]
  },
  {
   "cell_type": "markdown",
   "metadata": {},
   "source": [
    "One important thing to notice is that this method requires that the path is pointing to an existing file. Users will be prompted if files don't exist and the content of the Resource will not be updated!"
   ]
  },
  {
   "cell_type": "code",
   "execution_count": 85,
   "metadata": {},
   "outputs": [
    {
     "data": {
      "text/plain": [
       "{'identifier': '1872179f-6e5b-43db-a535-bbbe562e0263',\n",
       " 'shared_link': 'https://w3id.org/ro-id-dev/43833c23-2242-48ef-8f0a-d925c0e1d3e9/resources/1872179f-6e5b-43db-a535-bbbe562e0263',\n",
       " 'title': None,\n",
       " 'folder': None,\n",
       " 'ros': ['43833c23-2242-48ef-8f0a-d925c0e1d3e9'],\n",
       " 'description': None,\n",
       " 'url': None,\n",
       " 'name': 'life_cycle_of_great_white_shark_ver2.txt',\n",
       " 'filename': 'life_cycle_of_great_white_shark_ver2.txt',\n",
       " 'path': 'life_cycle_of_great_white_shark_ver2.txt',\n",
       " 'size': 2127,\n",
       " 'download_url': 'https://rohub2020-rohub.apps.paas-dev.psnc.pl/api/resources/1872179f-6e5b-43db-a535-bbbe562e0263/download/',\n",
       " 'type': 'Document',\n",
       " 'created': '2022-03-25T11:54:04.216070+0000',\n",
       " 'creator': 'liza.poltavchenko00@gmail.com',\n",
       " 'modificator': 'liza.poltavchenko00@gmail.com',\n",
       " 'modified': '2022-03-27T10:52:35.909689+0000',\n",
       " 'created_on': '2022-03-25T11:54:04.216070+0000',\n",
       " 'created_by': 'liza.poltavchenko00@gmail.com',\n",
       " 'modified_on': '2022-03-27T10:52:35.909689+0000',\n",
       " 'modified_by': 'liza.poltavchenko00@gmail.com',\n",
       " 'original_created_on': None,\n",
       " 'original_created_by': None,\n",
       " 'original_creator_name': None,\n",
       " 'authors_credits': ['liza.poltavchenko00@gmail.com'],\n",
       " 'contributors_credits': [],\n",
       " 'shared': False,\n",
       " 'doi': None,\n",
       " 'license': None,\n",
       " 'read_only': False,\n",
       " 'api_link': 'https://rohub2020-rohub.apps.paas-dev.psnc.pl/api/resources/1872179f-6e5b-43db-a535-bbbe562e0263/'}"
      ]
     },
     "execution_count": 85,
     "metadata": {},
     "output_type": "execute_result"
    }
   ],
   "source": [
    "new_path = 'life_cycle_of_great_white_shark_ver2.txt'\n",
    "document_res.update_content(file_path = new_path)"
   ]
  },
  {
   "cell_type": "markdown",
   "metadata": {},
   "source": [
    "We can also see the update in the portal. \n",
    "![doc_after_update](./screens/document_after_update.png)"
   ]
  },
  {
   "cell_type": "markdown",
   "metadata": {},
   "source": [
    "## Folders\n",
    "\n",
    "For the convenience of navigating through the resources belonging to the same research object, we can create different folders to store our resources.\n",
    "\n",
    "### Creating a new folder\n",
    "\n",
    "We can use the `add_folders()` function to create/add a new folder to the loaded research object.\n",
    "\n",
    "Let's use the research object which is represented by the `ro` variable and create a new folder for media resources. "
   ]
  },
  {
   "cell_type": "code",
   "execution_count": 86,
   "metadata": {},
   "outputs": [
    {
     "data": {
      "text/plain": [
       "{'identifier': '201b7d33-6982-4a85-bd67-d92eeb788156',\n",
       " 'shared_link': 'https://w3id.org/ro-id-dev/43833c23-2242-48ef-8f0a-d925c0e1d3e9/folders/201b7d33-6982-4a85-bd67-d92eeb788156',\n",
       " 'name': 'Media',\n",
       " 'description': 'Videos, photos and images',\n",
       " 'parent_folder': None,\n",
       " 'ro': '43833c23-2242-48ef-8f0a-d925c0e1d3e9',\n",
       " 'created': '2022-03-27T10:54:02.304776+0000',\n",
       " 'creator': 'liza.poltavchenko00@gmail.com',\n",
       " 'modificator': None,\n",
       " 'modified': '2022-03-27T10:54:02.305365+0000',\n",
       " 'created_on': '2022-03-27T10:54:02.304776+0000',\n",
       " 'created_by': 'liza.poltavchenko00@gmail.com',\n",
       " 'modified_on': '2022-03-27T10:54:02.305365+0000',\n",
       " 'modified_by': None,\n",
       " 'original_created_on': None,\n",
       " 'original_created_by': None,\n",
       " 'original_creator_name': None,\n",
       " 'authors_credits': ['liza.poltavchenko00@gmail.com'],\n",
       " 'contributors_credits': [],\n",
       " 'path': 'Media',\n",
       " 'read_only': False,\n",
       " 'api_link': 'https://rohub2020-rohub.apps.paas-dev.psnc.pl/api/folders/201b7d33-6982-4a85-bd67-d92eeb788156/'}"
      ]
     },
     "execution_count": 86,
     "metadata": {},
     "output_type": "execute_result"
    }
   ],
   "source": [
    "folder_name = \"Media\"\n",
    "folder_description = \"Videos, photos and images\"\n",
    "ro.add_folders(name = folder_name, description = folder_description)"
   ]
  },
  {
   "cell_type": "markdown",
   "metadata": {},
   "source": [
    "We can use the `list_folders()` function to list folders associated with research object and check our new folder."
   ]
  },
  {
   "cell_type": "code",
   "execution_count": 87,
   "metadata": {},
   "outputs": [
    {
     "data": {
      "text/html": [
       "<div>\n",
       "<style scoped>\n",
       "    .dataframe tbody tr th:only-of-type {\n",
       "        vertical-align: middle;\n",
       "    }\n",
       "\n",
       "    .dataframe tbody tr th {\n",
       "        vertical-align: top;\n",
       "    }\n",
       "\n",
       "    .dataframe thead th {\n",
       "        text-align: right;\n",
       "    }\n",
       "</style>\n",
       "<table border=\"1\" class=\"dataframe\">\n",
       "  <thead>\n",
       "    <tr style=\"text-align: right;\">\n",
       "      <th></th>\n",
       "      <th>identifier</th>\n",
       "      <th>name</th>\n",
       "      <th>description</th>\n",
       "      <th>creator</th>\n",
       "      <th>created_on</th>\n",
       "      <th>modified_on</th>\n",
       "      <th>path</th>\n",
       "    </tr>\n",
       "  </thead>\n",
       "  <tbody>\n",
       "    <tr>\n",
       "      <th>0</th>\n",
       "      <td>843b6081-89de-41c8-8fce-c47b5ea789f5</td>\n",
       "      <td>biblio</td>\n",
       "      <td>None</td>\n",
       "      <td>liza.poltavchenko00@gmail.com</td>\n",
       "      <td>2022-02-27T13:32:54.720931+0000</td>\n",
       "      <td>2022-02-27T13:32:54.721650+0000</td>\n",
       "      <td>biblio</td>\n",
       "    </tr>\n",
       "    <tr>\n",
       "      <th>1</th>\n",
       "      <td>201b7d33-6982-4a85-bd67-d92eeb788156</td>\n",
       "      <td>Media</td>\n",
       "      <td>Videos, photos and images</td>\n",
       "      <td>liza.poltavchenko00@gmail.com</td>\n",
       "      <td>2022-03-27T10:54:02.304776+0000</td>\n",
       "      <td>2022-03-27T10:54:02.305365+0000</td>\n",
       "      <td>Media</td>\n",
       "    </tr>\n",
       "  </tbody>\n",
       "</table>\n",
       "</div>"
      ],
      "text/plain": [
       "                             identifier    name                description  \\\n",
       "0  843b6081-89de-41c8-8fce-c47b5ea789f5  biblio                       None   \n",
       "1  201b7d33-6982-4a85-bd67-d92eeb788156   Media  Videos, photos and images   \n",
       "\n",
       "                         creator                       created_on  \\\n",
       "0  liza.poltavchenko00@gmail.com  2022-02-27T13:32:54.720931+0000   \n",
       "1  liza.poltavchenko00@gmail.com  2022-03-27T10:54:02.304776+0000   \n",
       "\n",
       "                       modified_on    path  \n",
       "0  2022-02-27T13:32:54.721650+0000  biblio  \n",
       "1  2022-03-27T10:54:02.305365+0000   Media  "
      ]
     },
     "execution_count": 87,
     "metadata": {},
     "output_type": "execute_result"
    }
   ],
   "source": [
    "ro_folders = ro.list_folders()\n",
    "ro_folders"
   ]
  },
  {
   "cell_type": "markdown",
   "metadata": {},
   "source": [
    "We also can see the new folder in portal.\n",
    "![media_folder](./screens/media_folder.png)"
   ]
  },
  {
   "cell_type": "markdown",
   "metadata": {},
   "source": [
    "Name is a required parameter of the `add_folders()` function. However, the description is optional. `parent_folder` is another optional parameter that can be used to pass a path to the parent folder under which the new folder should be created.\n",
    "\n",
    "Let's try to create a subfolder in the \"*Media*\" folder, which will be called \"*Videos*\". "
   ]
  },
  {
   "cell_type": "code",
   "execution_count": 89,
   "metadata": {},
   "outputs": [
    {
     "data": {
      "text/plain": [
       "{'identifier': '33cb9497-af92-44bc-a197-8269b9b8759f',\n",
       " 'shared_link': 'https://w3id.org/ro-id-dev/43833c23-2242-48ef-8f0a-d925c0e1d3e9/folders/33cb9497-af92-44bc-a197-8269b9b8759f',\n",
       " 'name': 'Videos',\n",
       " 'description': None,\n",
       " 'parent_folder': '201b7d33-6982-4a85-bd67-d92eeb788156',\n",
       " 'ro': '43833c23-2242-48ef-8f0a-d925c0e1d3e9',\n",
       " 'created': '2022-03-27T10:56:21.675908+0000',\n",
       " 'creator': 'liza.poltavchenko00@gmail.com',\n",
       " 'modificator': None,\n",
       " 'modified': '2022-03-27T10:56:21.676459+0000',\n",
       " 'created_on': '2022-03-27T10:56:21.675908+0000',\n",
       " 'created_by': 'liza.poltavchenko00@gmail.com',\n",
       " 'modified_on': '2022-03-27T10:56:21.676459+0000',\n",
       " 'modified_by': None,\n",
       " 'original_created_on': None,\n",
       " 'original_created_by': None,\n",
       " 'original_creator_name': None,\n",
       " 'authors_credits': ['liza.poltavchenko00@gmail.com'],\n",
       " 'contributors_credits': [],\n",
       " 'path': 'Media/Videos',\n",
       " 'read_only': False,\n",
       " 'api_link': 'https://rohub2020-rohub.apps.paas-dev.psnc.pl/api/folders/33cb9497-af92-44bc-a197-8269b9b8759f/'}"
      ]
     },
     "execution_count": 89,
     "metadata": {},
     "output_type": "execute_result"
    }
   ],
   "source": [
    "subfolder_parent = ro_folders.loc[1, 'path']\n",
    "subfolder_name = \"Videos\"\n",
    "\n",
    "ro.add_folders(name = subfolder_name, parent_folder = subfolder_parent)"
   ]
  },
  {
   "cell_type": "markdown",
   "metadata": {},
   "source": [
    "Now we can see that the \"Media\" folder has one entry in the \"Details\" column, and it contains the new \"Videos\" folder.\n",
    "![entries](./screens/one_entries.png)\n",
    "![videos_folder](./screens/videos_folder.png)"
   ]
  },
  {
   "cell_type": "markdown",
   "metadata": {},
   "source": [
    "Let's create another subfolder for short videos inside the \"Videos\" directory.\n",
    "The correct full path to the \"Videos\" folder is \"Media/Video\". For the sake of presentation, let's pass the wrong path to a non-existing folder."
   ]
  },
  {
   "cell_type": "code",
   "execution_count": 90,
   "metadata": {},
   "outputs": [
    {
     "name": "stdout",
     "output_type": "stream",
     "text": [
      "Aborted...\n",
      "Sorry, folder with provided path doesn't exist. Please make sure you are sending a correct path!\n"
     ]
    },
    {
     "data": {
      "text/plain": [
       "{'identifier': '389c7803-23bd-405c-861d-dda7707c7c95',\n",
       " 'shared_link': 'https://w3id.org/ro-id-dev/43833c23-2242-48ef-8f0a-d925c0e1d3e9/folders/389c7803-23bd-405c-861d-dda7707c7c95',\n",
       " 'name': 'Shorts',\n",
       " 'description': None,\n",
       " 'parent_folder': None,\n",
       " 'ro': '43833c23-2242-48ef-8f0a-d925c0e1d3e9',\n",
       " 'created': '2022-03-27T10:58:58.251426+0000',\n",
       " 'creator': 'liza.poltavchenko00@gmail.com',\n",
       " 'modificator': None,\n",
       " 'modified': '2022-03-27T10:58:58.252024+0000',\n",
       " 'created_on': '2022-03-27T10:58:58.251426+0000',\n",
       " 'created_by': 'liza.poltavchenko00@gmail.com',\n",
       " 'modified_on': '2022-03-27T10:58:58.252024+0000',\n",
       " 'modified_by': None,\n",
       " 'original_created_on': None,\n",
       " 'original_created_by': None,\n",
       " 'original_creator_name': None,\n",
       " 'authors_credits': ['liza.poltavchenko00@gmail.com'],\n",
       " 'contributors_credits': [],\n",
       " 'path': 'Shorts',\n",
       " 'read_only': False,\n",
       " 'api_link': 'https://rohub2020-rohub.apps.paas-dev.psnc.pl/api/folders/389c7803-23bd-405c-861d-dda7707c7c95/'}"
      ]
     },
     "execution_count": 90,
     "metadata": {},
     "output_type": "execute_result"
    }
   ],
   "source": [
    "subfolder_parent = \"Videos\"\n",
    "subfolder_name = \"Shorts\"\n",
    "\n",
    "ro.add_folders(name = subfolder_name, parent_folder = subfolder_parent)"
   ]
  },
  {
   "cell_type": "markdown",
   "metadata": {},
   "source": [
    "The \"Shorts\" folder has been created, but it is in the Home folder because the path to the \"Movies\" folder doesn't exist!\n",
    "![shotrs](./screens/shorts_folder.png)"
   ]
  },
  {
   "cell_type": "code",
   "execution_count": 91,
   "metadata": {},
   "outputs": [
    {
     "data": {
      "text/html": [
       "<div>\n",
       "<style scoped>\n",
       "    .dataframe tbody tr th:only-of-type {\n",
       "        vertical-align: middle;\n",
       "    }\n",
       "\n",
       "    .dataframe tbody tr th {\n",
       "        vertical-align: top;\n",
       "    }\n",
       "\n",
       "    .dataframe thead th {\n",
       "        text-align: right;\n",
       "    }\n",
       "</style>\n",
       "<table border=\"1\" class=\"dataframe\">\n",
       "  <thead>\n",
       "    <tr style=\"text-align: right;\">\n",
       "      <th></th>\n",
       "      <th>identifier</th>\n",
       "      <th>name</th>\n",
       "      <th>description</th>\n",
       "      <th>creator</th>\n",
       "      <th>created_on</th>\n",
       "      <th>modified_on</th>\n",
       "      <th>path</th>\n",
       "    </tr>\n",
       "  </thead>\n",
       "  <tbody>\n",
       "    <tr>\n",
       "      <th>0</th>\n",
       "      <td>843b6081-89de-41c8-8fce-c47b5ea789f5</td>\n",
       "      <td>biblio</td>\n",
       "      <td>None</td>\n",
       "      <td>liza.poltavchenko00@gmail.com</td>\n",
       "      <td>2022-02-27T13:32:54.720931+0000</td>\n",
       "      <td>2022-02-27T13:32:54.721650+0000</td>\n",
       "      <td>biblio</td>\n",
       "    </tr>\n",
       "    <tr>\n",
       "      <th>1</th>\n",
       "      <td>201b7d33-6982-4a85-bd67-d92eeb788156</td>\n",
       "      <td>Media</td>\n",
       "      <td>Videos, photos and images</td>\n",
       "      <td>liza.poltavchenko00@gmail.com</td>\n",
       "      <td>2022-03-27T10:54:02.304776+0000</td>\n",
       "      <td>2022-03-27T10:54:02.305365+0000</td>\n",
       "      <td>Media</td>\n",
       "    </tr>\n",
       "    <tr>\n",
       "      <th>2</th>\n",
       "      <td>389c7803-23bd-405c-861d-dda7707c7c95</td>\n",
       "      <td>Shorts</td>\n",
       "      <td>None</td>\n",
       "      <td>liza.poltavchenko00@gmail.com</td>\n",
       "      <td>2022-03-27T10:58:58.251426+0000</td>\n",
       "      <td>2022-03-27T10:58:58.252024+0000</td>\n",
       "      <td>Shorts</td>\n",
       "    </tr>\n",
       "    <tr>\n",
       "      <th>3</th>\n",
       "      <td>33cb9497-af92-44bc-a197-8269b9b8759f</td>\n",
       "      <td>Videos</td>\n",
       "      <td>None</td>\n",
       "      <td>liza.poltavchenko00@gmail.com</td>\n",
       "      <td>2022-03-27T10:56:21.675908+0000</td>\n",
       "      <td>2022-03-27T10:56:21.676459+0000</td>\n",
       "      <td>Media/Videos</td>\n",
       "    </tr>\n",
       "  </tbody>\n",
       "</table>\n",
       "</div>"
      ],
      "text/plain": [
       "                             identifier    name                description  \\\n",
       "0  843b6081-89de-41c8-8fce-c47b5ea789f5  biblio                       None   \n",
       "1  201b7d33-6982-4a85-bd67-d92eeb788156   Media  Videos, photos and images   \n",
       "2  389c7803-23bd-405c-861d-dda7707c7c95  Shorts                       None   \n",
       "3  33cb9497-af92-44bc-a197-8269b9b8759f  Videos                       None   \n",
       "\n",
       "                         creator                       created_on  \\\n",
       "0  liza.poltavchenko00@gmail.com  2022-02-27T13:32:54.720931+0000   \n",
       "1  liza.poltavchenko00@gmail.com  2022-03-27T10:54:02.304776+0000   \n",
       "2  liza.poltavchenko00@gmail.com  2022-03-27T10:58:58.251426+0000   \n",
       "3  liza.poltavchenko00@gmail.com  2022-03-27T10:56:21.675908+0000   \n",
       "\n",
       "                       modified_on          path  \n",
       "0  2022-02-27T13:32:54.721650+0000        biblio  \n",
       "1  2022-03-27T10:54:02.305365+0000         Media  \n",
       "2  2022-03-27T10:58:58.252024+0000        Shorts  \n",
       "3  2022-03-27T10:56:21.676459+0000  Media/Videos  "
      ]
     },
     "execution_count": 91,
     "metadata": {},
     "output_type": "execute_result"
    }
   ],
   "source": [
    "ro.list_folders()"
   ]
  },
  {
   "cell_type": "markdown",
   "metadata": {},
   "source": [
    "### Add a resource to the specific folder\n",
    "\n",
    "The `add_external_resource()` and `add_internal_resource()` functions have an option parameter \"*folder*\" that allow to locate resource directly in the specific folder. If omitted, the Resource will be placed in the \"*Home*\" folder by default, which we have seen previously. One thing to note is that the \"*Home*\" folder **doesn't exist** outside of the portal - if we do load a Resource either in the library or through the API, we can see that this \"*Home*\" folder is simply portal representation for the lack of folder. \n",
    "\n",
    "\n",
    "### Example 1 - adding a new Resource to the specific folder\n",
    "\n",
    "Now let's try to add/create a new external resource and locate it in the \"Media\" folder. \n",
    "\n",
    "For example, let's try to add [an image](https://images.unsplash.com/photo-1586115457457-b3753fe50cf1?ixlib=rb-1.2.1&ixid=MnwxMjA3fDB8MHxwaG90by1wYWdlfHx8fGVufDB8fHx8&auto=format&fit=crop&w=1088&q=80) of a greate white shark. We can pick \"*Image*\" as a resource type for this use case."
   ]
  },
  {
   "cell_type": "code",
   "execution_count": 92,
   "metadata": {},
   "outputs": [
    {
     "name": "stdout",
     "output_type": "stream",
     "text": [
      "Resource was successfully created with id = 52484997-ccbe-46dc-a672-add1ed299a0e\n"
     ]
    }
   ],
   "source": [
    "image_res_title = \"A great white shark photo\"\n",
    "image_res_type = \"Image\"\n",
    "image_res_url = \"https://images.unsplash.com/photo-1586115457457-b3753fe50cf1?ixlib=rb-1.2.1&ixid=MnwxMjA3fDB8MHxwaG90by1wYWdlfHx8fGVufDB8fHx8&auto=format&fit=crop&w=1088&q=80\"\n",
    "image_res_folder = \"Media\"\n",
    "\n",
    "image_res = ro.add_external_resource(res_type = image_res_type, input_url = image_res_url, title = image_res_title, folder = image_res_folder)"
   ]
  },
  {
   "cell_type": "code",
   "execution_count": 93,
   "metadata": {},
   "outputs": [
    {
     "data": {
      "text/plain": [
       "{'identifier': '52484997-ccbe-46dc-a672-add1ed299a0e',\n",
       " 'type': 'Image',\n",
       " 'source': 'external',\n",
       " 'title': 'A great white shark photo',\n",
       " 'description': None,\n",
       " 'url': 'https://images.unsplash.com/photo-1586115457457-b3753fe50cf1?ixlib=rb-1.2.1&ixid=MnwxMjA3fDB8MHxwaG90by1wYWdlfHx8fGVufDB8fHx8&auto=format&fit=crop&w=1088&q=80',\n",
       " 'folder': 'Media',\n",
       " 'path': 'https://images.unsplash.com/photo-1586115457457-b3753fe50cf1?ixlib=rb-1.2.1&ixid=MnwxMjA3fDB8MHxwaG90by1wYWdlfHx8fGVufDB8fHx8&auto=format&fit=crop&w=1088&q=80',\n",
       " 'size': None,\n",
       " 'creator': 'liza.poltavchenko00@gmail.com',\n",
       " 'created_on': '2022-03-27T11:01:11.971405+0000',\n",
       " 'modified_on': '2022-03-27T11:01:11.972051+0000',\n",
       " 'download_url': 'https://images.unsplash.com/photo-1586115457457-b3753fe50cf1?ixlib=rb-1.2.1&ixid=MnwxMjA3fDB8MHxwaG90by1wYWdlfHx8fGVufDB8fHx8&auto=format&fit=crop&w=1088&q=80'}"
      ]
     },
     "execution_count": 93,
     "metadata": {},
     "output_type": "execute_result"
    }
   ],
   "source": [
    "image_res.show_metadata()"
   ]
  },
  {
   "cell_type": "markdown",
   "metadata": {},
   "source": [
    "As we expected, our new image appeared directly in the \"*Media*\" folder.\n",
    "![image_res](./screens/image_resource.png)"
   ]
  },
  {
   "cell_type": "markdown",
   "metadata": {},
   "source": [
    "At this point, we know how to list all folders associated with the Research Object. We also know how to list all Resources for a specific Research Object. There is one additional attribute that can become handy. Research Object can access its content, which displays a list of dictionaries showing a complete structure of resources - folders relation within the Research Object.\n",
    "\n",
    "To load the content so that it is accessible on-demand as a `content` attribute, one has to load it by running `get_content()` first."
   ]
  },
  {
   "cell_type": "markdown",
   "metadata": {},
   "source": [
    "The \"folder\" parameter of the `add_internal_resource` function works in the same way."
   ]
  },
  {
   "cell_type": "markdown",
   "metadata": {},
   "source": [
    "### Example 2 -  moving an existing Resource to the specific folder\n",
    "\n",
    "We can change the location of a Resource by updating its metadata. That way, we can move a specific Resource to the folder of our choice.\n",
    "\n",
    "Let's try to load a video Resource called \"*A swimming shark*\""
   ]
  },
  {
   "cell_type": "code",
   "execution_count": 97,
   "metadata": {},
   "outputs": [
    {
     "data": {
      "text/html": [
       "<div>\n",
       "<style scoped>\n",
       "    .dataframe tbody tr th:only-of-type {\n",
       "        vertical-align: middle;\n",
       "    }\n",
       "\n",
       "    .dataframe tbody tr th {\n",
       "        vertical-align: top;\n",
       "    }\n",
       "\n",
       "    .dataframe thead th {\n",
       "        text-align: right;\n",
       "    }\n",
       "</style>\n",
       "<table border=\"1\" class=\"dataframe\">\n",
       "  <thead>\n",
       "    <tr style=\"text-align: right;\">\n",
       "      <th></th>\n",
       "      <th>identifier</th>\n",
       "      <th>type</th>\n",
       "      <th>source</th>\n",
       "      <th>title</th>\n",
       "      <th>description</th>\n",
       "      <th>url</th>\n",
       "      <th>name</th>\n",
       "      <th>path</th>\n",
       "      <th>size</th>\n",
       "      <th>creator</th>\n",
       "      <th>created_on</th>\n",
       "      <th>modified_on</th>\n",
       "      <th>download_url</th>\n",
       "    </tr>\n",
       "  </thead>\n",
       "  <tbody>\n",
       "    <tr>\n",
       "      <th>0</th>\n",
       "      <td>0aa05d06-0ad5-4c89-b59e-1af5c17e7739</td>\n",
       "      <td>Paper</td>\n",
       "      <td>external</td>\n",
       "      <td>None</td>\n",
       "      <td>None</td>\n",
       "      <td>https://en.wikipedia.org/wiki/Great_white_shark</td>\n",
       "      <td>None</td>\n",
       "      <td>https://en.wikipedia.org/wiki/Great_white_shark</td>\n",
       "      <td>NaN</td>\n",
       "      <td>liza.poltavchenko00@gmail.com</td>\n",
       "      <td>2022-03-25T12:12:18.548321+0000</td>\n",
       "      <td>2022-03-27T10:48:34.905035+0000</td>\n",
       "      <td>https://en.wikipedia.org/wiki/Great_white_shark</td>\n",
       "    </tr>\n",
       "    <tr>\n",
       "      <th>1</th>\n",
       "      <td>52484997-ccbe-46dc-a672-add1ed299a0e</td>\n",
       "      <td>Image</td>\n",
       "      <td>external</td>\n",
       "      <td>A great white shark photo</td>\n",
       "      <td>None</td>\n",
       "      <td>https://images.unsplash.com/photo-158611545745...</td>\n",
       "      <td>A great white shark photo</td>\n",
       "      <td>https://images.unsplash.com/photo-158611545745...</td>\n",
       "      <td>NaN</td>\n",
       "      <td>liza.poltavchenko00@gmail.com</td>\n",
       "      <td>2022-03-27T11:01:11.971405+0000</td>\n",
       "      <td>2022-03-27T11:01:13.689529+0000</td>\n",
       "      <td>https://images.unsplash.com/photo-158611545745...</td>\n",
       "    </tr>\n",
       "    <tr>\n",
       "      <th>2</th>\n",
       "      <td>1872179f-6e5b-43db-a535-bbbe562e0263</td>\n",
       "      <td>Document</td>\n",
       "      <td>internal</td>\n",
       "      <td>None</td>\n",
       "      <td>None</td>\n",
       "      <td>None</td>\n",
       "      <td>life_cycle_of_great_white_shark_ver2.txt</td>\n",
       "      <td>life_cycle_of_great_white_shark_ver2.txt</td>\n",
       "      <td>2127.0</td>\n",
       "      <td>liza.poltavchenko00@gmail.com</td>\n",
       "      <td>2022-03-25T11:54:04.216070+0000</td>\n",
       "      <td>2022-03-27T10:52:36.803226+0000</td>\n",
       "      <td>https://rohub2020-rohub.apps.paas-dev.psnc.pl/...</td>\n",
       "    </tr>\n",
       "    <tr>\n",
       "      <th>3</th>\n",
       "      <td>5bb4fc3a-30b6-4551-9c3c-9bcdf0962394</td>\n",
       "      <td>File</td>\n",
       "      <td>internal</td>\n",
       "      <td>None</td>\n",
       "      <td>None</td>\n",
       "      <td>None</td>\n",
       "      <td>presentation.pdf</td>\n",
       "      <td>presentation.pdf</td>\n",
       "      <td>NaN</td>\n",
       "      <td>liza.poltavchenko00@gmail.com</td>\n",
       "      <td>2022-03-25T12:16:13.648398+0000</td>\n",
       "      <td>2022-03-25T12:16:16.374553+0000</td>\n",
       "      <td>https://rohub2020-rohub.apps.paas-dev.psnc.pl/...</td>\n",
       "    </tr>\n",
       "    <tr>\n",
       "      <th>4</th>\n",
       "      <td>29690986-efc0-4dec-a7aa-0966f6daa1c9</td>\n",
       "      <td>Other</td>\n",
       "      <td>internal</td>\n",
       "      <td>None</td>\n",
       "      <td>None</td>\n",
       "      <td>None</td>\n",
       "      <td>resources.zip</td>\n",
       "      <td>resources.zip</td>\n",
       "      <td>32912886.0</td>\n",
       "      <td>liza.poltavchenko00@gmail.com</td>\n",
       "      <td>2022-03-25T12:17:54.943091+0000</td>\n",
       "      <td>2022-03-25T12:17:57.529986+0000</td>\n",
       "      <td>https://rohub2020-rohub.apps.paas-dev.psnc.pl/...</td>\n",
       "    </tr>\n",
       "    <tr>\n",
       "      <th>5</th>\n",
       "      <td>f7f77553-200d-4120-a1d2-ff0a359ff488</td>\n",
       "      <td>File</td>\n",
       "      <td>internal</td>\n",
       "      <td>A swimming shark</td>\n",
       "      <td>None</td>\n",
       "      <td>None</td>\n",
       "      <td>A swimming shark</td>\n",
       "      <td>video_1.mp4</td>\n",
       "      <td>12221703.0</td>\n",
       "      <td>liza.poltavchenko00@gmail.com</td>\n",
       "      <td>2022-03-25T12:16:14.331689+0000</td>\n",
       "      <td>2022-03-27T10:31:48.385952+0000</td>\n",
       "      <td>https://rohub2020-rohub.apps.paas-dev.psnc.pl/...</td>\n",
       "    </tr>\n",
       "    <tr>\n",
       "      <th>6</th>\n",
       "      <td>2a161917-90fa-4b57-8121-df42d9d68f69</td>\n",
       "      <td>File</td>\n",
       "      <td>internal</td>\n",
       "      <td>None</td>\n",
       "      <td>None</td>\n",
       "      <td>None</td>\n",
       "      <td>video_2.mp4</td>\n",
       "      <td>video_2.mp4</td>\n",
       "      <td>NaN</td>\n",
       "      <td>liza.poltavchenko00@gmail.com</td>\n",
       "      <td>2022-03-25T12:16:15.120380+0000</td>\n",
       "      <td>2022-03-25T12:16:17.648394+0000</td>\n",
       "      <td>https://rohub2020-rohub.apps.paas-dev.psnc.pl/...</td>\n",
       "    </tr>\n",
       "  </tbody>\n",
       "</table>\n",
       "</div>"
      ],
      "text/plain": [
       "                             identifier      type    source  \\\n",
       "0  0aa05d06-0ad5-4c89-b59e-1af5c17e7739     Paper  external   \n",
       "1  52484997-ccbe-46dc-a672-add1ed299a0e     Image  external   \n",
       "2  1872179f-6e5b-43db-a535-bbbe562e0263  Document  internal   \n",
       "3  5bb4fc3a-30b6-4551-9c3c-9bcdf0962394      File  internal   \n",
       "4  29690986-efc0-4dec-a7aa-0966f6daa1c9     Other  internal   \n",
       "5  f7f77553-200d-4120-a1d2-ff0a359ff488      File  internal   \n",
       "6  2a161917-90fa-4b57-8121-df42d9d68f69      File  internal   \n",
       "\n",
       "                       title description  \\\n",
       "0                       None        None   \n",
       "1  A great white shark photo        None   \n",
       "2                       None        None   \n",
       "3                       None        None   \n",
       "4                       None        None   \n",
       "5           A swimming shark        None   \n",
       "6                       None        None   \n",
       "\n",
       "                                                 url  \\\n",
       "0    https://en.wikipedia.org/wiki/Great_white_shark   \n",
       "1  https://images.unsplash.com/photo-158611545745...   \n",
       "2                                               None   \n",
       "3                                               None   \n",
       "4                                               None   \n",
       "5                                               None   \n",
       "6                                               None   \n",
       "\n",
       "                                       name  \\\n",
       "0                                      None   \n",
       "1                 A great white shark photo   \n",
       "2  life_cycle_of_great_white_shark_ver2.txt   \n",
       "3                          presentation.pdf   \n",
       "4                             resources.zip   \n",
       "5                          A swimming shark   \n",
       "6                               video_2.mp4   \n",
       "\n",
       "                                                path        size  \\\n",
       "0    https://en.wikipedia.org/wiki/Great_white_shark         NaN   \n",
       "1  https://images.unsplash.com/photo-158611545745...         NaN   \n",
       "2           life_cycle_of_great_white_shark_ver2.txt      2127.0   \n",
       "3                                   presentation.pdf         NaN   \n",
       "4                                      resources.zip  32912886.0   \n",
       "5                                        video_1.mp4  12221703.0   \n",
       "6                                        video_2.mp4         NaN   \n",
       "\n",
       "                         creator                       created_on  \\\n",
       "0  liza.poltavchenko00@gmail.com  2022-03-25T12:12:18.548321+0000   \n",
       "1  liza.poltavchenko00@gmail.com  2022-03-27T11:01:11.971405+0000   \n",
       "2  liza.poltavchenko00@gmail.com  2022-03-25T11:54:04.216070+0000   \n",
       "3  liza.poltavchenko00@gmail.com  2022-03-25T12:16:13.648398+0000   \n",
       "4  liza.poltavchenko00@gmail.com  2022-03-25T12:17:54.943091+0000   \n",
       "5  liza.poltavchenko00@gmail.com  2022-03-25T12:16:14.331689+0000   \n",
       "6  liza.poltavchenko00@gmail.com  2022-03-25T12:16:15.120380+0000   \n",
       "\n",
       "                       modified_on  \\\n",
       "0  2022-03-27T10:48:34.905035+0000   \n",
       "1  2022-03-27T11:01:13.689529+0000   \n",
       "2  2022-03-27T10:52:36.803226+0000   \n",
       "3  2022-03-25T12:16:16.374553+0000   \n",
       "4  2022-03-25T12:17:57.529986+0000   \n",
       "5  2022-03-27T10:31:48.385952+0000   \n",
       "6  2022-03-25T12:16:17.648394+0000   \n",
       "\n",
       "                                        download_url  \n",
       "0    https://en.wikipedia.org/wiki/Great_white_shark  \n",
       "1  https://images.unsplash.com/photo-158611545745...  \n",
       "2  https://rohub2020-rohub.apps.paas-dev.psnc.pl/...  \n",
       "3  https://rohub2020-rohub.apps.paas-dev.psnc.pl/...  \n",
       "4  https://rohub2020-rohub.apps.paas-dev.psnc.pl/...  \n",
       "5  https://rohub2020-rohub.apps.paas-dev.psnc.pl/...  \n",
       "6  https://rohub2020-rohub.apps.paas-dev.psnc.pl/...  "
      ]
     },
     "execution_count": 97,
     "metadata": {},
     "output_type": "execute_result"
    }
   ],
   "source": [
    "my_res = ro.list_resources()\n",
    "my_res"
   ]
  },
  {
   "cell_type": "code",
   "execution_count": 98,
   "metadata": {},
   "outputs": [
    {
     "name": "stdout",
     "output_type": "stream",
     "text": [
      "Resource was successfully loaded with id = f7f77553-200d-4120-a1d2-ff0a359ff488\n"
     ]
    }
   ],
   "source": [
    "video_res_id = my_res.loc[5, 'identifier']\n",
    "video_res = rohub.resource_load(identifier = video_res_id)"
   ]
  },
  {
   "cell_type": "code",
   "execution_count": 99,
   "metadata": {},
   "outputs": [
    {
     "name": "stdout",
     "output_type": "stream",
     "text": [
      "None\n"
     ]
    }
   ],
   "source": [
    "print(video_res.folder)"
   ]
  },
  {
   "cell_type": "markdown",
   "metadata": {},
   "source": [
    "As expected, there is no information associated with the folder since the Resource is not placed in any directory (as explained before, the \"*Home*\" directory is just the way portal denotes lack of it). "
   ]
  },
  {
   "cell_type": "markdown",
   "metadata": {},
   "source": [
    "![screen_home_folder_with_video_res](./screens/home_folder_with_video_res.png)"
   ]
  },
  {
   "cell_type": "code",
   "execution_count": 100,
   "metadata": {},
   "outputs": [
    {
     "data": {
      "text/html": [
       "<div>\n",
       "<style scoped>\n",
       "    .dataframe tbody tr th:only-of-type {\n",
       "        vertical-align: middle;\n",
       "    }\n",
       "\n",
       "    .dataframe tbody tr th {\n",
       "        vertical-align: top;\n",
       "    }\n",
       "\n",
       "    .dataframe thead th {\n",
       "        text-align: right;\n",
       "    }\n",
       "</style>\n",
       "<table border=\"1\" class=\"dataframe\">\n",
       "  <thead>\n",
       "    <tr style=\"text-align: right;\">\n",
       "      <th></th>\n",
       "      <th>identifier</th>\n",
       "      <th>name</th>\n",
       "      <th>description</th>\n",
       "      <th>creator</th>\n",
       "      <th>created_on</th>\n",
       "      <th>modified_on</th>\n",
       "      <th>path</th>\n",
       "    </tr>\n",
       "  </thead>\n",
       "  <tbody>\n",
       "    <tr>\n",
       "      <th>0</th>\n",
       "      <td>843b6081-89de-41c8-8fce-c47b5ea789f5</td>\n",
       "      <td>biblio</td>\n",
       "      <td>None</td>\n",
       "      <td>liza.poltavchenko00@gmail.com</td>\n",
       "      <td>2022-02-27T13:32:54.720931+0000</td>\n",
       "      <td>2022-02-27T13:32:54.721650+0000</td>\n",
       "      <td>biblio</td>\n",
       "    </tr>\n",
       "    <tr>\n",
       "      <th>1</th>\n",
       "      <td>201b7d33-6982-4a85-bd67-d92eeb788156</td>\n",
       "      <td>Media</td>\n",
       "      <td>Videos, photos and images</td>\n",
       "      <td>liza.poltavchenko00@gmail.com</td>\n",
       "      <td>2022-03-27T10:54:02.304776+0000</td>\n",
       "      <td>2022-03-27T10:54:02.305365+0000</td>\n",
       "      <td>Media</td>\n",
       "    </tr>\n",
       "    <tr>\n",
       "      <th>2</th>\n",
       "      <td>389c7803-23bd-405c-861d-dda7707c7c95</td>\n",
       "      <td>Shorts</td>\n",
       "      <td>None</td>\n",
       "      <td>liza.poltavchenko00@gmail.com</td>\n",
       "      <td>2022-03-27T10:58:58.251426+0000</td>\n",
       "      <td>2022-03-27T10:58:58.252024+0000</td>\n",
       "      <td>Shorts</td>\n",
       "    </tr>\n",
       "    <tr>\n",
       "      <th>3</th>\n",
       "      <td>33cb9497-af92-44bc-a197-8269b9b8759f</td>\n",
       "      <td>Videos</td>\n",
       "      <td>None</td>\n",
       "      <td>liza.poltavchenko00@gmail.com</td>\n",
       "      <td>2022-03-27T10:56:21.675908+0000</td>\n",
       "      <td>2022-03-27T10:56:21.676459+0000</td>\n",
       "      <td>Media/Videos</td>\n",
       "    </tr>\n",
       "  </tbody>\n",
       "</table>\n",
       "</div>"
      ],
      "text/plain": [
       "                             identifier    name                description  \\\n",
       "0  843b6081-89de-41c8-8fce-c47b5ea789f5  biblio                       None   \n",
       "1  201b7d33-6982-4a85-bd67-d92eeb788156   Media  Videos, photos and images   \n",
       "2  389c7803-23bd-405c-861d-dda7707c7c95  Shorts                       None   \n",
       "3  33cb9497-af92-44bc-a197-8269b9b8759f  Videos                       None   \n",
       "\n",
       "                         creator                       created_on  \\\n",
       "0  liza.poltavchenko00@gmail.com  2022-02-27T13:32:54.720931+0000   \n",
       "1  liza.poltavchenko00@gmail.com  2022-03-27T10:54:02.304776+0000   \n",
       "2  liza.poltavchenko00@gmail.com  2022-03-27T10:58:58.251426+0000   \n",
       "3  liza.poltavchenko00@gmail.com  2022-03-27T10:56:21.675908+0000   \n",
       "\n",
       "                       modified_on          path  \n",
       "0  2022-02-27T13:32:54.721650+0000        biblio  \n",
       "1  2022-03-27T10:54:02.305365+0000         Media  \n",
       "2  2022-03-27T10:58:58.252024+0000        Shorts  \n",
       "3  2022-03-27T10:56:21.676459+0000  Media/Videos  "
      ]
     },
     "execution_count": 100,
     "metadata": {},
     "output_type": "execute_result"
    }
   ],
   "source": [
    "my_folders = ro.list_folders()\n",
    "my_folders"
   ]
  },
  {
   "cell_type": "markdown",
   "metadata": {},
   "source": [
    "Now, let's pick a path we would like move our Resource into."
   ]
  },
  {
   "cell_type": "code",
   "execution_count": 101,
   "metadata": {},
   "outputs": [
    {
     "data": {
      "text/plain": [
       "'Media/Videos'"
      ]
     },
     "execution_count": 101,
     "metadata": {},
     "output_type": "execute_result"
    }
   ],
   "source": [
    "videos_path = my_folders.loc[3, 'path']\n",
    "videos_path"
   ]
  },
  {
   "cell_type": "code",
   "execution_count": 102,
   "metadata": {},
   "outputs": [],
   "source": [
    "video_res.folder = videos_path"
   ]
  },
  {
   "cell_type": "code",
   "execution_count": 103,
   "metadata": {},
   "outputs": [
    {
     "data": {
      "text/plain": [
       "{'title': 'A swimming shark',\n",
       " 'folder': '33cb9497-af92-44bc-a197-8269b9b8759f',\n",
       " 'type': 'File'}"
      ]
     },
     "execution_count": 103,
     "metadata": {},
     "output_type": "execute_result"
    }
   ],
   "source": [
    "video_res.update_metadata()"
   ]
  },
  {
   "cell_type": "markdown",
   "metadata": {},
   "source": [
    "Great, our Resource is now under the directory we have chosen"
   ]
  },
  {
   "cell_type": "markdown",
   "metadata": {},
   "source": [
    "Now we can see that the video was moved to \"Videos\" folder in portal.\n",
    "![new_videos_folder](./screens/videos_folder_2.png)"
   ]
  },
  {
   "cell_type": "markdown",
   "metadata": {},
   "source": [
    "### Deleting a folder\n",
    "\n",
    "The `delete_folder` function deletes the selected folder. This function has one parameter: the path to the specific folder.\n",
    "\n",
    "Let's get the path to the folder \"Shorts\" from the table of folders belonging to the research object `ro` and delete this folder. "
   ]
  },
  {
   "cell_type": "code",
   "execution_count": 106,
   "metadata": {},
   "outputs": [
    {
     "data": {
      "text/html": [
       "<div>\n",
       "<style scoped>\n",
       "    .dataframe tbody tr th:only-of-type {\n",
       "        vertical-align: middle;\n",
       "    }\n",
       "\n",
       "    .dataframe tbody tr th {\n",
       "        vertical-align: top;\n",
       "    }\n",
       "\n",
       "    .dataframe thead th {\n",
       "        text-align: right;\n",
       "    }\n",
       "</style>\n",
       "<table border=\"1\" class=\"dataframe\">\n",
       "  <thead>\n",
       "    <tr style=\"text-align: right;\">\n",
       "      <th></th>\n",
       "      <th>identifier</th>\n",
       "      <th>name</th>\n",
       "      <th>description</th>\n",
       "      <th>creator</th>\n",
       "      <th>created_on</th>\n",
       "      <th>modified_on</th>\n",
       "      <th>path</th>\n",
       "    </tr>\n",
       "  </thead>\n",
       "  <tbody>\n",
       "    <tr>\n",
       "      <th>0</th>\n",
       "      <td>843b6081-89de-41c8-8fce-c47b5ea789f5</td>\n",
       "      <td>biblio</td>\n",
       "      <td>None</td>\n",
       "      <td>liza.poltavchenko00@gmail.com</td>\n",
       "      <td>2022-02-27T13:32:54.720931+0000</td>\n",
       "      <td>2022-02-27T13:32:54.721650+0000</td>\n",
       "      <td>biblio</td>\n",
       "    </tr>\n",
       "    <tr>\n",
       "      <th>1</th>\n",
       "      <td>201b7d33-6982-4a85-bd67-d92eeb788156</td>\n",
       "      <td>Media</td>\n",
       "      <td>Videos, photos and images</td>\n",
       "      <td>liza.poltavchenko00@gmail.com</td>\n",
       "      <td>2022-03-27T10:54:02.304776+0000</td>\n",
       "      <td>2022-03-27T10:54:02.305365+0000</td>\n",
       "      <td>Media</td>\n",
       "    </tr>\n",
       "    <tr>\n",
       "      <th>2</th>\n",
       "      <td>389c7803-23bd-405c-861d-dda7707c7c95</td>\n",
       "      <td>Shorts</td>\n",
       "      <td>None</td>\n",
       "      <td>liza.poltavchenko00@gmail.com</td>\n",
       "      <td>2022-03-27T10:58:58.251426+0000</td>\n",
       "      <td>2022-03-27T10:58:58.252024+0000</td>\n",
       "      <td>Shorts</td>\n",
       "    </tr>\n",
       "    <tr>\n",
       "      <th>3</th>\n",
       "      <td>33cb9497-af92-44bc-a197-8269b9b8759f</td>\n",
       "      <td>Videos</td>\n",
       "      <td>None</td>\n",
       "      <td>liza.poltavchenko00@gmail.com</td>\n",
       "      <td>2022-03-27T10:56:21.675908+0000</td>\n",
       "      <td>2022-03-27T10:56:21.676459+0000</td>\n",
       "      <td>Media/Videos</td>\n",
       "    </tr>\n",
       "  </tbody>\n",
       "</table>\n",
       "</div>"
      ],
      "text/plain": [
       "                             identifier    name                description  \\\n",
       "0  843b6081-89de-41c8-8fce-c47b5ea789f5  biblio                       None   \n",
       "1  201b7d33-6982-4a85-bd67-d92eeb788156   Media  Videos, photos and images   \n",
       "2  389c7803-23bd-405c-861d-dda7707c7c95  Shorts                       None   \n",
       "3  33cb9497-af92-44bc-a197-8269b9b8759f  Videos                       None   \n",
       "\n",
       "                         creator                       created_on  \\\n",
       "0  liza.poltavchenko00@gmail.com  2022-02-27T13:32:54.720931+0000   \n",
       "1  liza.poltavchenko00@gmail.com  2022-03-27T10:54:02.304776+0000   \n",
       "2  liza.poltavchenko00@gmail.com  2022-03-27T10:58:58.251426+0000   \n",
       "3  liza.poltavchenko00@gmail.com  2022-03-27T10:56:21.675908+0000   \n",
       "\n",
       "                       modified_on          path  \n",
       "0  2022-02-27T13:32:54.721650+0000        biblio  \n",
       "1  2022-03-27T10:54:02.305365+0000         Media  \n",
       "2  2022-03-27T10:58:58.252024+0000        Shorts  \n",
       "3  2022-03-27T10:56:21.676459+0000  Media/Videos  "
      ]
     },
     "execution_count": 106,
     "metadata": {},
     "output_type": "execute_result"
    }
   ],
   "source": [
    "ro_folders = ro.list_folders()\n",
    "ro_folders"
   ]
  },
  {
   "cell_type": "code",
   "execution_count": 107,
   "metadata": {},
   "outputs": [
    {
     "name": "stdout",
     "output_type": "stream",
     "text": [
      "Folder successfully deleted!\n"
     ]
    }
   ],
   "source": [
    "shorts_path = ro_folders.loc[2, 'path']\n",
    "\n",
    "ro.delete_folder(path = shorts_path)"
   ]
  },
  {
   "cell_type": "markdown",
   "metadata": {},
   "source": [
    "Let's reload the folders list to inspect changes."
   ]
  },
  {
   "cell_type": "code",
   "execution_count": 108,
   "metadata": {},
   "outputs": [
    {
     "data": {
      "text/html": [
       "<div>\n",
       "<style scoped>\n",
       "    .dataframe tbody tr th:only-of-type {\n",
       "        vertical-align: middle;\n",
       "    }\n",
       "\n",
       "    .dataframe tbody tr th {\n",
       "        vertical-align: top;\n",
       "    }\n",
       "\n",
       "    .dataframe thead th {\n",
       "        text-align: right;\n",
       "    }\n",
       "</style>\n",
       "<table border=\"1\" class=\"dataframe\">\n",
       "  <thead>\n",
       "    <tr style=\"text-align: right;\">\n",
       "      <th></th>\n",
       "      <th>identifier</th>\n",
       "      <th>name</th>\n",
       "      <th>description</th>\n",
       "      <th>creator</th>\n",
       "      <th>created_on</th>\n",
       "      <th>modified_on</th>\n",
       "      <th>path</th>\n",
       "    </tr>\n",
       "  </thead>\n",
       "  <tbody>\n",
       "    <tr>\n",
       "      <th>0</th>\n",
       "      <td>843b6081-89de-41c8-8fce-c47b5ea789f5</td>\n",
       "      <td>biblio</td>\n",
       "      <td>None</td>\n",
       "      <td>liza.poltavchenko00@gmail.com</td>\n",
       "      <td>2022-02-27T13:32:54.720931+0000</td>\n",
       "      <td>2022-02-27T13:32:54.721650+0000</td>\n",
       "      <td>biblio</td>\n",
       "    </tr>\n",
       "    <tr>\n",
       "      <th>1</th>\n",
       "      <td>201b7d33-6982-4a85-bd67-d92eeb788156</td>\n",
       "      <td>Media</td>\n",
       "      <td>Videos, photos and images</td>\n",
       "      <td>liza.poltavchenko00@gmail.com</td>\n",
       "      <td>2022-03-27T10:54:02.304776+0000</td>\n",
       "      <td>2022-03-27T10:54:02.305365+0000</td>\n",
       "      <td>Media</td>\n",
       "    </tr>\n",
       "    <tr>\n",
       "      <th>2</th>\n",
       "      <td>33cb9497-af92-44bc-a197-8269b9b8759f</td>\n",
       "      <td>Videos</td>\n",
       "      <td>None</td>\n",
       "      <td>liza.poltavchenko00@gmail.com</td>\n",
       "      <td>2022-03-27T10:56:21.675908+0000</td>\n",
       "      <td>2022-03-27T10:56:21.676459+0000</td>\n",
       "      <td>Media/Videos</td>\n",
       "    </tr>\n",
       "  </tbody>\n",
       "</table>\n",
       "</div>"
      ],
      "text/plain": [
       "                             identifier    name                description  \\\n",
       "0  843b6081-89de-41c8-8fce-c47b5ea789f5  biblio                       None   \n",
       "1  201b7d33-6982-4a85-bd67-d92eeb788156   Media  Videos, photos and images   \n",
       "2  33cb9497-af92-44bc-a197-8269b9b8759f  Videos                       None   \n",
       "\n",
       "                         creator                       created_on  \\\n",
       "0  liza.poltavchenko00@gmail.com  2022-02-27T13:32:54.720931+0000   \n",
       "1  liza.poltavchenko00@gmail.com  2022-03-27T10:54:02.304776+0000   \n",
       "2  liza.poltavchenko00@gmail.com  2022-03-27T10:56:21.675908+0000   \n",
       "\n",
       "                       modified_on          path  \n",
       "0  2022-02-27T13:32:54.721650+0000        biblio  \n",
       "1  2022-03-27T10:54:02.305365+0000         Media  \n",
       "2  2022-03-27T10:56:21.676459+0000  Media/Videos  "
      ]
     },
     "execution_count": 108,
     "metadata": {},
     "output_type": "execute_result"
    }
   ],
   "source": [
    "ro_folders = ro.list_folders()\n",
    "ro_folders"
   ]
  },
  {
   "cell_type": "markdown",
   "metadata": {},
   "source": [
    "The \"*Shorts*\" folder is now gone."
   ]
  },
  {
   "cell_type": "markdown",
   "metadata": {},
   "source": [
    "Fortunately, we could delete the \"*Shorts*\" directory as it didn't contain any entries. How about the situation where the selected folder does contain other folders or resources?\n",
    "\n",
    "Let's try to see what happens. "
   ]
  },
  {
   "cell_type": "code",
   "execution_count": null,
   "metadata": {},
   "outputs": [],
   "source": [
    "media_path = ro_folders.loc[1, 'path']\n",
    "\n",
    "ro.delete_folder(path = media_path)"
   ]
  },
  {
   "cell_type": "markdown",
   "metadata": {},
   "source": [
    "An error has occurred: `{\"detail\":\"Folder Media contains nested Folders or Resources and can't be deleted.\"}`.\n",
    "\n",
    "We should delete all entries in the folder before we have permission to delete that folder itself."
   ]
  },
  {
   "cell_type": "markdown",
   "metadata": {},
   "source": [
    "## Deleting Resource\n",
    "\n",
    "`resource_delete()` at the rohub level can delete a Resource without loading it as a Python object. It is a quick and clean way of deleting resources, but if one would like to inspect a Resource before deleting it, a better choice is to do this in two steps:\n",
    "\n",
    "1) load a Resource object;    \n",
    "2) use Resource representation as a class to access the `delete()` method.\n",
    "\n",
    "### Example 1 - deleting Resource directly\n",
    "\n",
    "Let's choose one of the resources that is associated with the `ro` object. "
   ]
  },
  {
   "cell_type": "code",
   "execution_count": 109,
   "metadata": {},
   "outputs": [
    {
     "data": {
      "text/html": [
       "<div>\n",
       "<style scoped>\n",
       "    .dataframe tbody tr th:only-of-type {\n",
       "        vertical-align: middle;\n",
       "    }\n",
       "\n",
       "    .dataframe tbody tr th {\n",
       "        vertical-align: top;\n",
       "    }\n",
       "\n",
       "    .dataframe thead th {\n",
       "        text-align: right;\n",
       "    }\n",
       "</style>\n",
       "<table border=\"1\" class=\"dataframe\">\n",
       "  <thead>\n",
       "    <tr style=\"text-align: right;\">\n",
       "      <th></th>\n",
       "      <th>identifier</th>\n",
       "      <th>type</th>\n",
       "      <th>source</th>\n",
       "      <th>title</th>\n",
       "      <th>description</th>\n",
       "      <th>url</th>\n",
       "      <th>name</th>\n",
       "      <th>path</th>\n",
       "      <th>size</th>\n",
       "      <th>creator</th>\n",
       "      <th>created_on</th>\n",
       "      <th>modified_on</th>\n",
       "      <th>download_url</th>\n",
       "    </tr>\n",
       "  </thead>\n",
       "  <tbody>\n",
       "    <tr>\n",
       "      <th>3</th>\n",
       "      <td>5bb4fc3a-30b6-4551-9c3c-9bcdf0962394</td>\n",
       "      <td>File</td>\n",
       "      <td>internal</td>\n",
       "      <td>None</td>\n",
       "      <td>None</td>\n",
       "      <td>None</td>\n",
       "      <td>presentation.pdf</td>\n",
       "      <td>presentation.pdf</td>\n",
       "      <td>NaN</td>\n",
       "      <td>liza.poltavchenko00@gmail.com</td>\n",
       "      <td>2022-03-25T12:16:13.648398+0000</td>\n",
       "      <td>2022-03-25T12:16:16.374553+0000</td>\n",
       "      <td>https://rohub2020-rohub.apps.paas-dev.psnc.pl/...</td>\n",
       "    </tr>\n",
       "    <tr>\n",
       "      <th>4</th>\n",
       "      <td>29690986-efc0-4dec-a7aa-0966f6daa1c9</td>\n",
       "      <td>Other</td>\n",
       "      <td>internal</td>\n",
       "      <td>None</td>\n",
       "      <td>None</td>\n",
       "      <td>None</td>\n",
       "      <td>resources.zip</td>\n",
       "      <td>resources.zip</td>\n",
       "      <td>32912886.0</td>\n",
       "      <td>liza.poltavchenko00@gmail.com</td>\n",
       "      <td>2022-03-25T12:17:54.943091+0000</td>\n",
       "      <td>2022-03-25T12:17:57.529986+0000</td>\n",
       "      <td>https://rohub2020-rohub.apps.paas-dev.psnc.pl/...</td>\n",
       "    </tr>\n",
       "    <tr>\n",
       "      <th>5</th>\n",
       "      <td>f7f77553-200d-4120-a1d2-ff0a359ff488</td>\n",
       "      <td>File</td>\n",
       "      <td>internal</td>\n",
       "      <td>A swimming shark</td>\n",
       "      <td>None</td>\n",
       "      <td>None</td>\n",
       "      <td>A swimming shark</td>\n",
       "      <td>Media/Videos/video_1.mp4</td>\n",
       "      <td>12221703.0</td>\n",
       "      <td>liza.poltavchenko00@gmail.com</td>\n",
       "      <td>2022-03-25T12:16:14.331689+0000</td>\n",
       "      <td>2022-03-27T11:20:40.512910+0000</td>\n",
       "      <td>https://rohub2020-rohub.apps.paas-dev.psnc.pl/...</td>\n",
       "    </tr>\n",
       "    <tr>\n",
       "      <th>6</th>\n",
       "      <td>2a161917-90fa-4b57-8121-df42d9d68f69</td>\n",
       "      <td>File</td>\n",
       "      <td>internal</td>\n",
       "      <td>None</td>\n",
       "      <td>None</td>\n",
       "      <td>None</td>\n",
       "      <td>video_2.mp4</td>\n",
       "      <td>video_2.mp4</td>\n",
       "      <td>NaN</td>\n",
       "      <td>liza.poltavchenko00@gmail.com</td>\n",
       "      <td>2022-03-25T12:16:15.120380+0000</td>\n",
       "      <td>2022-03-25T12:16:17.648394+0000</td>\n",
       "      <td>https://rohub2020-rohub.apps.paas-dev.psnc.pl/...</td>\n",
       "    </tr>\n",
       "  </tbody>\n",
       "</table>\n",
       "</div>"
      ],
      "text/plain": [
       "                             identifier   type    source             title  \\\n",
       "3  5bb4fc3a-30b6-4551-9c3c-9bcdf0962394   File  internal              None   \n",
       "4  29690986-efc0-4dec-a7aa-0966f6daa1c9  Other  internal              None   \n",
       "5  f7f77553-200d-4120-a1d2-ff0a359ff488   File  internal  A swimming shark   \n",
       "6  2a161917-90fa-4b57-8121-df42d9d68f69   File  internal              None   \n",
       "\n",
       "  description   url              name                      path        size  \\\n",
       "3        None  None  presentation.pdf          presentation.pdf         NaN   \n",
       "4        None  None     resources.zip             resources.zip  32912886.0   \n",
       "5        None  None  A swimming shark  Media/Videos/video_1.mp4  12221703.0   \n",
       "6        None  None       video_2.mp4               video_2.mp4         NaN   \n",
       "\n",
       "                         creator                       created_on  \\\n",
       "3  liza.poltavchenko00@gmail.com  2022-03-25T12:16:13.648398+0000   \n",
       "4  liza.poltavchenko00@gmail.com  2022-03-25T12:17:54.943091+0000   \n",
       "5  liza.poltavchenko00@gmail.com  2022-03-25T12:16:14.331689+0000   \n",
       "6  liza.poltavchenko00@gmail.com  2022-03-25T12:16:15.120380+0000   \n",
       "\n",
       "                       modified_on  \\\n",
       "3  2022-03-25T12:16:16.374553+0000   \n",
       "4  2022-03-25T12:17:57.529986+0000   \n",
       "5  2022-03-27T11:20:40.512910+0000   \n",
       "6  2022-03-25T12:16:17.648394+0000   \n",
       "\n",
       "                                        download_url  \n",
       "3  https://rohub2020-rohub.apps.paas-dev.psnc.pl/...  \n",
       "4  https://rohub2020-rohub.apps.paas-dev.psnc.pl/...  \n",
       "5  https://rohub2020-rohub.apps.paas-dev.psnc.pl/...  \n",
       "6  https://rohub2020-rohub.apps.paas-dev.psnc.pl/...  "
      ]
     },
     "execution_count": 109,
     "metadata": {},
     "output_type": "execute_result"
    }
   ],
   "source": [
    "ro_resources = ro.list_resources()\n",
    "ro_resources[3:]"
   ]
  },
  {
   "cell_type": "code",
   "execution_count": 110,
   "metadata": {},
   "outputs": [
    {
     "data": {
      "text/plain": [
       "'5bb4fc3a-30b6-4551-9c3c-9bcdf0962394'"
      ]
     },
     "execution_count": 110,
     "metadata": {},
     "output_type": "execute_result"
    }
   ],
   "source": [
    "presentation_id = ro_resources.loc[3, 'identifier']\n",
    "presentation_id"
   ]
  },
  {
   "cell_type": "code",
   "execution_count": 111,
   "metadata": {},
   "outputs": [
    {
     "name": "stdout",
     "output_type": "stream",
     "text": [
      "Resource successfully deleted!\n"
     ]
    }
   ],
   "source": [
    "rohub.resource_delete(identifier = presentation_id)"
   ]
  },
  {
   "cell_type": "markdown",
   "metadata": {},
   "source": [
    "Let's reload the resources list to confirm that deletion was successful."
   ]
  },
  {
   "cell_type": "code",
   "execution_count": 112,
   "metadata": {},
   "outputs": [
    {
     "data": {
      "text/html": [
       "<div>\n",
       "<style scoped>\n",
       "    .dataframe tbody tr th:only-of-type {\n",
       "        vertical-align: middle;\n",
       "    }\n",
       "\n",
       "    .dataframe tbody tr th {\n",
       "        vertical-align: top;\n",
       "    }\n",
       "\n",
       "    .dataframe thead th {\n",
       "        text-align: right;\n",
       "    }\n",
       "</style>\n",
       "<table border=\"1\" class=\"dataframe\">\n",
       "  <thead>\n",
       "    <tr style=\"text-align: right;\">\n",
       "      <th></th>\n",
       "      <th>identifier</th>\n",
       "      <th>type</th>\n",
       "      <th>source</th>\n",
       "      <th>title</th>\n",
       "      <th>description</th>\n",
       "      <th>url</th>\n",
       "      <th>name</th>\n",
       "      <th>path</th>\n",
       "      <th>size</th>\n",
       "      <th>creator</th>\n",
       "      <th>created_on</th>\n",
       "      <th>modified_on</th>\n",
       "      <th>download_url</th>\n",
       "    </tr>\n",
       "  </thead>\n",
       "  <tbody>\n",
       "  </tbody>\n",
       "</table>\n",
       "</div>"
      ],
      "text/plain": [
       "Empty DataFrame\n",
       "Columns: [identifier, type, source, title, description, url, name, path, size, creator, created_on, modified_on, download_url]\n",
       "Index: []"
      ]
     },
     "execution_count": 112,
     "metadata": {},
     "output_type": "execute_result"
    }
   ],
   "source": [
    "ro_resources = ro.list_resources()\n",
    "ro_resources[ro_resources.identifier == presentation_id]"
   ]
  },
  {
   "cell_type": "markdown",
   "metadata": {},
   "source": [
    "### Example 2 - loading and deleting Resource"
   ]
  },
  {
   "cell_type": "code",
   "execution_count": 114,
   "metadata": {},
   "outputs": [
    {
     "data": {
      "text/html": [
       "<div>\n",
       "<style scoped>\n",
       "    .dataframe tbody tr th:only-of-type {\n",
       "        vertical-align: middle;\n",
       "    }\n",
       "\n",
       "    .dataframe tbody tr th {\n",
       "        vertical-align: top;\n",
       "    }\n",
       "\n",
       "    .dataframe thead th {\n",
       "        text-align: right;\n",
       "    }\n",
       "</style>\n",
       "<table border=\"1\" class=\"dataframe\">\n",
       "  <thead>\n",
       "    <tr style=\"text-align: right;\">\n",
       "      <th></th>\n",
       "      <th>identifier</th>\n",
       "      <th>type</th>\n",
       "      <th>source</th>\n",
       "      <th>title</th>\n",
       "      <th>description</th>\n",
       "      <th>url</th>\n",
       "      <th>name</th>\n",
       "      <th>path</th>\n",
       "      <th>size</th>\n",
       "      <th>creator</th>\n",
       "      <th>created_on</th>\n",
       "      <th>modified_on</th>\n",
       "      <th>download_url</th>\n",
       "    </tr>\n",
       "  </thead>\n",
       "  <tbody>\n",
       "    <tr>\n",
       "      <th>3</th>\n",
       "      <td>29690986-efc0-4dec-a7aa-0966f6daa1c9</td>\n",
       "      <td>Other</td>\n",
       "      <td>internal</td>\n",
       "      <td>None</td>\n",
       "      <td>None</td>\n",
       "      <td>None</td>\n",
       "      <td>resources.zip</td>\n",
       "      <td>resources.zip</td>\n",
       "      <td>32912886.0</td>\n",
       "      <td>liza.poltavchenko00@gmail.com</td>\n",
       "      <td>2022-03-25T12:17:54.943091+0000</td>\n",
       "      <td>2022-03-25T12:17:57.529986+0000</td>\n",
       "      <td>https://rohub2020-rohub.apps.paas-dev.psnc.pl/...</td>\n",
       "    </tr>\n",
       "    <tr>\n",
       "      <th>4</th>\n",
       "      <td>f7f77553-200d-4120-a1d2-ff0a359ff488</td>\n",
       "      <td>File</td>\n",
       "      <td>internal</td>\n",
       "      <td>A swimming shark</td>\n",
       "      <td>None</td>\n",
       "      <td>None</td>\n",
       "      <td>A swimming shark</td>\n",
       "      <td>Media/Videos/video_1.mp4</td>\n",
       "      <td>12221703.0</td>\n",
       "      <td>liza.poltavchenko00@gmail.com</td>\n",
       "      <td>2022-03-25T12:16:14.331689+0000</td>\n",
       "      <td>2022-03-27T11:20:40.512910+0000</td>\n",
       "      <td>https://rohub2020-rohub.apps.paas-dev.psnc.pl/...</td>\n",
       "    </tr>\n",
       "    <tr>\n",
       "      <th>5</th>\n",
       "      <td>2a161917-90fa-4b57-8121-df42d9d68f69</td>\n",
       "      <td>File</td>\n",
       "      <td>internal</td>\n",
       "      <td>None</td>\n",
       "      <td>None</td>\n",
       "      <td>None</td>\n",
       "      <td>video_2.mp4</td>\n",
       "      <td>video_2.mp4</td>\n",
       "      <td>NaN</td>\n",
       "      <td>liza.poltavchenko00@gmail.com</td>\n",
       "      <td>2022-03-25T12:16:15.120380+0000</td>\n",
       "      <td>2022-03-25T12:16:17.648394+0000</td>\n",
       "      <td>https://rohub2020-rohub.apps.paas-dev.psnc.pl/...</td>\n",
       "    </tr>\n",
       "  </tbody>\n",
       "</table>\n",
       "</div>"
      ],
      "text/plain": [
       "                             identifier   type    source             title  \\\n",
       "3  29690986-efc0-4dec-a7aa-0966f6daa1c9  Other  internal              None   \n",
       "4  f7f77553-200d-4120-a1d2-ff0a359ff488   File  internal  A swimming shark   \n",
       "5  2a161917-90fa-4b57-8121-df42d9d68f69   File  internal              None   \n",
       "\n",
       "  description   url              name                      path        size  \\\n",
       "3        None  None     resources.zip             resources.zip  32912886.0   \n",
       "4        None  None  A swimming shark  Media/Videos/video_1.mp4  12221703.0   \n",
       "5        None  None       video_2.mp4               video_2.mp4         NaN   \n",
       "\n",
       "                         creator                       created_on  \\\n",
       "3  liza.poltavchenko00@gmail.com  2022-03-25T12:17:54.943091+0000   \n",
       "4  liza.poltavchenko00@gmail.com  2022-03-25T12:16:14.331689+0000   \n",
       "5  liza.poltavchenko00@gmail.com  2022-03-25T12:16:15.120380+0000   \n",
       "\n",
       "                       modified_on  \\\n",
       "3  2022-03-25T12:17:57.529986+0000   \n",
       "4  2022-03-27T11:20:40.512910+0000   \n",
       "5  2022-03-25T12:16:17.648394+0000   \n",
       "\n",
       "                                        download_url  \n",
       "3  https://rohub2020-rohub.apps.paas-dev.psnc.pl/...  \n",
       "4  https://rohub2020-rohub.apps.paas-dev.psnc.pl/...  \n",
       "5  https://rohub2020-rohub.apps.paas-dev.psnc.pl/...  "
      ]
     },
     "execution_count": 114,
     "metadata": {},
     "output_type": "execute_result"
    }
   ],
   "source": [
    "ro_resources[3:]"
   ]
  },
  {
   "cell_type": "markdown",
   "metadata": {},
   "source": [
    "For example, we can use the resources.zip file in the third row. "
   ]
  },
  {
   "cell_type": "code",
   "execution_count": 115,
   "metadata": {},
   "outputs": [
    {
     "name": "stdout",
     "output_type": "stream",
     "text": [
      "Resource was successfully loaded with id = 29690986-efc0-4dec-a7aa-0966f6daa1c9\n"
     ]
    }
   ],
   "source": [
    "zip_res_id = ro_resources.loc[3, 'identifier']\n",
    "zip_res = rohub.resource_load(identifier = zip_res_id)"
   ]
  },
  {
   "cell_type": "code",
   "execution_count": 116,
   "metadata": {},
   "outputs": [
    {
     "name": "stdout",
     "output_type": "stream",
     "text": [
      "Resource successfully deleted!\n"
     ]
    }
   ],
   "source": [
    "zip_res.delete()"
   ]
  },
  {
   "cell_type": "code",
   "execution_count": 117,
   "metadata": {},
   "outputs": [
    {
     "data": {
      "text/html": [
       "<div>\n",
       "<style scoped>\n",
       "    .dataframe tbody tr th:only-of-type {\n",
       "        vertical-align: middle;\n",
       "    }\n",
       "\n",
       "    .dataframe tbody tr th {\n",
       "        vertical-align: top;\n",
       "    }\n",
       "\n",
       "    .dataframe thead th {\n",
       "        text-align: right;\n",
       "    }\n",
       "</style>\n",
       "<table border=\"1\" class=\"dataframe\">\n",
       "  <thead>\n",
       "    <tr style=\"text-align: right;\">\n",
       "      <th></th>\n",
       "      <th>identifier</th>\n",
       "      <th>type</th>\n",
       "      <th>source</th>\n",
       "      <th>title</th>\n",
       "      <th>description</th>\n",
       "      <th>url</th>\n",
       "      <th>name</th>\n",
       "      <th>path</th>\n",
       "      <th>size</th>\n",
       "      <th>creator</th>\n",
       "      <th>created_on</th>\n",
       "      <th>modified_on</th>\n",
       "      <th>download_url</th>\n",
       "    </tr>\n",
       "  </thead>\n",
       "  <tbody>\n",
       "  </tbody>\n",
       "</table>\n",
       "</div>"
      ],
      "text/plain": [
       "Empty DataFrame\n",
       "Columns: [identifier, type, source, title, description, url, name, path, size, creator, created_on, modified_on, download_url]\n",
       "Index: []"
      ]
     },
     "execution_count": 117,
     "metadata": {},
     "output_type": "execute_result"
    }
   ],
   "source": [
    "ro_resources = ro.list_resources()\n",
    "ro_resources[ro_resources.identifier == zip_res_id]"
   ]
  }
 ],
 "metadata": {
  "kernelspec": {
   "display_name": "Python 3",
   "language": "python",
   "name": "python3"
  },
  "language_info": {
   "codemirror_mode": {
    "name": "ipython",
    "version": 3
   },
   "file_extension": ".py",
   "mimetype": "text/x-python",
   "name": "python",
   "nbconvert_exporter": "python",
   "pygments_lexer": "ipython3",
   "version": "3.8.3"
  }
 },
 "nbformat": 4,
 "nbformat_minor": 5
}
