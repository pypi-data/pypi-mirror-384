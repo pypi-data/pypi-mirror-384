{
 "cells": [
  {
   "cell_type": "markdown",
   "id": "73aebb4e-62d9-4317-b8a9-1d61d7b0b3a4",
   "metadata": {},
   "source": [
    "This is the basic template to run i10_bluesky with jupyter notebook. "
   ]
  },
  {
   "cell_type": "markdown",
   "id": "5ab621b6-ab2d-4cb2-9826-6268f1e535f0",
   "metadata": {},
   "source": [
    "Load bluesky engine"
   ]
  },
  {
   "cell_type": "code",
   "execution_count": 2,
   "id": "06bf8848-752c-4044-80f7-278842552cd6",
   "metadata": {},
   "outputs": [],
   "source": [
    "from bluesky.run_engine import RunEngine\n",
    "\n",
    "RE= RunEngine()"
   ]
  },
  {
   "cell_type": "markdown",
   "id": "eb289173-3054-4ebe-b93a-7b2882d01d36",
   "metadata": {},
   "source": [
    "Load all the devices in i10 dodal and connect to it.\n",
    "Also imported all the devices factory function so deivces can be access by either <device_name>() or devices[<device_name>])"
   ]
  },
  {
   "cell_type": "code",
   "execution_count": 6,
   "id": "82cdf5a4-2be9-4f8d-b5d9-06a463505d8a",
   "metadata": {},
   "outputs": [
    {
     "name": "stdout",
     "output_type": "stream",
     "text": [
      "{'idd_la_angle': TypeError(\"idd_la_angle() got an unexpected keyword argument 'connect_immediately'\"), 'idu_la_angle': TypeError(\"idu_la_angle() got an unexpected keyword argument 'connect_immediately'\"), 'idd': TypeError(\"idd() got an unexpected keyword argument 'connect_immediately'\"), 'idu': TypeError(\"idu() got an unexpected keyword argument 'connect_immediately'\"), 'idd_pol': TypeError(\"idd_pol() got an unexpected keyword argument 'connect_immediately'\"), 'idu_pol': TypeError(\"idu_pol() got an unexpected keyword argument 'connect_immediately'\"), 'idd_gap_phase': TypeError(\"idd_gap_phase() got an unexpected keyword argument 'connect_immediately'\"), 'idu_gap_phase': TypeError(\"idu_gap_phase() got an unexpected keyword argument 'connect_immediately'\"), 'pgm': TypeError(\"pgm() got an unexpected keyword argument 'connect_immediately'\"), 'idu_jaw': TypeError(\"idu_jaw() got an unexpected keyword argument 'connect_immediately'\"), 'idu_phase_axes': TypeError(\"idu_phase_axes() got an unexpected keyword argument 'connect_immediately'\"), 'idu_gap': TypeError(\"idu_gap() got an unexpected keyword argument 'connect_immediately'\"), 'idd_jaw': TypeError(\"idd_jaw() got an unexpected keyword argument 'connect_immediately'\"), 'idd_phase_axes': TypeError(\"idd_phase_axes() got an unexpected keyword argument 'connect_immediately'\"), 'idd_gap': TypeError(\"idd_gap() got an unexpected keyword argument 'connect_immediately'\")}\n"
     ]
    }
   ],
   "source": [
    "from dodal.beamlines.i10 import *\n",
    "from dodal.utils import make_all_devices\n",
    "\n",
    "devices, error = make_all_devices(\"dodal.beamlines.i10\",connect_immediately = True)\n",
    "print(error)"
   ]
  }
 ],
 "metadata": {
  "kernelspec": {
   "display_name": "Python 3 (ipykernel)",
   "language": "python",
   "name": "python3"
  },
  "language_info": {
   "codemirror_mode": {
    "name": "ipython",
    "version": 3
   },
   "file_extension": ".py",
   "mimetype": "text/x-python",
   "name": "python",
   "nbconvert_exporter": "python",
   "pygments_lexer": "ipython3",
   "version": "3.11.11"
  }
 },
 "nbformat": 4,
 "nbformat_minor": 5
}
