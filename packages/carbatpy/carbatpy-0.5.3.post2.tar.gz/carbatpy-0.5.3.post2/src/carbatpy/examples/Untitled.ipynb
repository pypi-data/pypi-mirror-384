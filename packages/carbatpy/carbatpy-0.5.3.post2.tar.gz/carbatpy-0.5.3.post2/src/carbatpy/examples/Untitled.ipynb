{
 "cells": [
  {
   "cell_type": "markdown",
   "id": "a40fe2e3-6e9a-45de-8b6b-d44f20d1e32c",
   "metadata": {},
   "source": [
    "## Fluid Properties\n",
    "Using carbatpy"
   ]
  },
  {
   "cell_type": "code",
   "execution_count": 8,
   "id": "fc368e6c-8c87-465c-9d4c-64434a405405",
   "metadata": {},
   "outputs": [],
   "source": [
    "import carbatpy as cb"
   ]
  },
  {
   "cell_type": "markdown",
   "id": "328d328e-4cef-4f00-845d-41a80eb3a029",
   "metadata": {},
   "source": [
    "Select a fluid, calculate a state and print it out:"
   ]
  },
  {
   "cell_type": "code",
   "execution_count": 9,
   "id": "7cc6e047-92e7-4e50-83f6-d7939e2218e7",
   "metadata": {},
   "outputs": [
    {
     "name": "stdout",
     "output_type": "stream",
     "text": [
      "\n",
      "Propane * Pentane, composition: [0.5, 0.5]\n",
      "Quality: 0.500\n",
      "Temperature    : 300.0\n",
      "Pressure    : 379460.57378442714\n",
      "spec_Enthalpy    : 303152.18232409254\n",
      "spec_Volume    : 0.06372419421111167\n",
      "spec_Entropy    : 1298.150388321101\n",
      "quality_mass    : 0.5\n",
      "spec_internal_Energy    : 278971.378263395\n",
      "x    : [0.32429888 0.67570112]\n",
      "y    : [0.84797745 0.15202255]\n",
      "z    : [0.62066457 0.37933543]\n"
     ]
    }
   ],
   "source": [
    "FLUID = \"Propane * Pentane\"\n",
    "    \n",
    "comp = [.5, .5]\n",
    "myFluid = cb.init_fluid(FLUID, comp)\n",
    "\n",
    "quality = 0.5       # is interpreted by carbatpy as mol/mol to calculate state\n",
    "# but given back in string as kg/kg\n",
    "st0 = myFluid.set_state([300., quality], \"TQ\")\n",
    "myFluid.print_state()"
   ]
  },
  {
   "cell_type": "markdown",
   "id": "736720e4-610e-4f2c-9abb-cc8fba6ac3a3",
   "metadata": {},
   "source": [
    "The properties can be accessed from a dictionary:"
   ]
  },
  {
   "cell_type": "code",
   "execution_count": 10,
   "id": "45f5c7b1-a2b9-4d6e-9ff6-072d29fd5508",
   "metadata": {},
   "outputs": [
    {
     "data": {
      "text/plain": [
       "{'Temperature': 300.0,\n",
       " 'Pressure': 379460.57378442714,\n",
       " 'spec_Enthalpy': 303152.18232409254,\n",
       " 'spec_Volume': 0.06372419421111167,\n",
       " 'spec_Entropy': 1298.150388321101,\n",
       " 'quality_mass': 0.5,\n",
       " 'spec_internal_Energy': 278971.378263395,\n",
       " 'x': array([0.32429888, 0.67570112]),\n",
       " 'y': array([0.84797745, 0.15202255]),\n",
       " 'z': array([0.62066457, 0.37933543])}"
      ]
     },
     "execution_count": 10,
     "metadata": {},
     "output_type": "execute_result"
    }
   ],
   "source": [
    "myFluid.val_dict"
   ]
  },
  {
   "cell_type": "markdown",
   "id": "099a3fa2-732c-45a2-9ab1-173aa597342f",
   "metadata": {},
   "source": [
    "or using the properties (FluidState Class):"
   ]
  },
  {
   "cell_type": "code",
   "execution_count": 11,
   "id": "e4187cda-ec15-43dc-9554-ec4a6163cf93",
   "metadata": {},
   "outputs": [
    {
     "data": {
      "text/plain": [
       "303152.18232409254"
      ]
     },
     "execution_count": 11,
     "metadata": {},
     "output_type": "execute_result"
    }
   ],
   "source": [
    "myFluid.properties.enthalpy"
   ]
  },
  {
   "cell_type": "markdown",
   "id": "740fad11-e426-4e69-bdf4-a29c90852672",
   "metadata": {},
   "source": [
    "You are interested in transport properties? First check the Default settings:"
   ]
  },
  {
   "cell_type": "code",
   "execution_count": 12,
   "id": "8e096506-00db-4b80-91ef-ceb0643b965f",
   "metadata": {},
   "outputs": [
    {
     "data": {
      "text/plain": [
       "{'Fluid_Defaults': {'PROPS': 'REFPROP',\n",
       "  'DLL_SELECT': '2dll',\n",
       "  'UNITS': 'MASS BASE SI',\n",
       "  'Property_Names': ('Temperature',\n",
       "   'Pressure',\n",
       "   'spec_Enthalpy',\n",
       "   'spec_Volume',\n",
       "   'spec_Entropy',\n",
       "   'quality_mass',\n",
       "   'spec_internal_Energy',\n",
       "   'viscosity',\n",
       "   'thermal_conductivity',\n",
       "   'Prandtl_number',\n",
       "   'isobaric_heat_capacity',\n",
       "   'speed_of_sound',\n",
       "   'molecular_mass'),\n",
       "  'Property_Names_Short': {'temperature': 'T',\n",
       "   'pressure': 'p',\n",
       "   'enthalpy': 'h',\n",
       "   'sp_volume': 'v',\n",
       "   'entropy': 's',\n",
       "   'quality': 'q',\n",
       "   'int_energy': 'u',\n",
       "   'viscosity': 'eta',\n",
       "   'thermal_conductivity': 'k',\n",
       "   'prandtl': 'Pr',\n",
       "   'cp': 'cp',\n",
       "   'speed_of_sound': 'w_s',\n",
       "   'molecular_mass': 'M'},\n",
       "  'THERMO_STRING': 'T;P;H;V;S;QMASS;E',\n",
       "  'TRANS_STRING': 'T;P;H;V;S;QMASS;E;VIS;TCX;PRANDTL;CP;W;M',\n",
       "  'THERMO_TREND': ['T', 'P', 'H', 'D', 'S', 'QEOS', 'U'],\n",
       "  'TRANS_TREND': ['T',\n",
       "   'P',\n",
       "   'H',\n",
       "   'D',\n",
       "   'S',\n",
       "   'QEOS',\n",
       "   'U',\n",
       "   'ETA',\n",
       "   'TCX',\n",
       "   'CP',\n",
       "   'WS'],\n",
       "  'TREND': {'TREND_INSTALLED': True,\n",
       "   'USE_TREND': False,\n",
       "   'TREND_DLL': 'C:\\\\Users\\\\atakan\\\\sciebo\\\\Progs\\\\TREND_50\\\\TREND_x64.dll',\n",
       "   'TREND_PATH': 'C:\\\\Users\\\\atakan\\\\sciebo\\\\Progs\\\\TREND_50'},\n",
       "  'RPPREFIX': 'C:/Program Files (x86)/REFPROP'},\n",
       " 'General': {'T_SUR': 288.15,\n",
       "  'P_SUR': 101300.0,\n",
       "  'RES_DIR': 'C:\\\\Users\\\\atakan\\\\sciebo\\\\results',\n",
       "  'CB_DIR': 'C:\\\\Users\\\\atakan\\\\sciebo\\\\Python\\\\carbatpy\\\\src\\\\carbatpy',\n",
       "  'CB_DATA': 'C:\\\\Users\\\\atakan\\\\sciebo\\\\Python\\\\carbatpy\\\\src\\\\carbatpy\\\\data'}}"
      ]
     },
     "execution_count": 12,
     "metadata": {},
     "output_type": "execute_result"
    }
   ],
   "source": [
    "cb.CB_DEFAULTS"
   ]
  },
  {
   "cell_type": "markdown",
   "id": "af5b9935-fa2f-4fa2-a384-8bc2992ceddd",
   "metadata": {},
   "source": [
    "Then we need the TRANS_STRING the default is the THERMOSTRING:"
   ]
  },
  {
   "cell_type": "code",
   "execution_count": 17,
   "id": "50c93d29-4ec8-4274-b1ca-2ad6fcadff21",
   "metadata": {},
   "outputs": [],
   "source": [
    "TS = cb.CB_DEFAULTS['Fluid_Defaults']['TRANS_STRING']\n",
    "state = myFluid.set_state([300, 1e5], \"TP\", TS)"
   ]
  },
  {
   "cell_type": "code",
   "execution_count": 18,
   "id": "8fa62583-759c-4615-8579-690e2140bd96",
   "metadata": {},
   "outputs": [
    {
     "data": {
      "text/plain": [
       "{'Temperature': 300.0,\n",
       " 'Pressure': 100000.0,\n",
       " 'spec_Enthalpy': 453021.3769789692,\n",
       " 'spec_Volume': 0.4170208242631057,\n",
       " 'spec_Entropy': 1871.0035937100859,\n",
       " 'quality_mass': -9999990.0,\n",
       " 'spec_internal_Energy': 411319.29455265857,\n",
       " 'viscosity': 7.431933119286727e-06,\n",
       " 'thermal_conductivity': 0.016293724405010007,\n",
       " 'Prandtl_number': 0.7777062281522813,\n",
       " 'isobaric_heat_capacity': 1705.0383454997057,\n",
       " 'speed_of_sound': 211.58293060385915,\n",
       " 'molecular_mass': 0.0581222,\n",
       " 'x': None,\n",
       " 'y': None,\n",
       " 'z': array('d', [0.5, 0.5])}"
      ]
     },
     "execution_count": 18,
     "metadata": {},
     "output_type": "execute_result"
    }
   ],
   "source": [
    "myFluid.val_dict"
   ]
  },
  {
   "cell_type": "code",
   "execution_count": null,
   "id": "3360e189-04f6-46da-b05a-3c9549f9bb1f",
   "metadata": {},
   "outputs": [],
   "source": []
  }
 ],
 "metadata": {
  "kernelspec": {
   "display_name": "Python 3 (ipykernel)",
   "language": "python",
   "name": "python3"
  },
  "language_info": {
   "codemirror_mode": {
    "name": "ipython",
    "version": 3
   },
   "file_extension": ".py",
   "mimetype": "text/x-python",
   "name": "python",
   "nbconvert_exporter": "python",
   "pygments_lexer": "ipython3",
   "version": "3.12.4"
  }
 },
 "nbformat": 4,
 "nbformat_minor": 5
}
