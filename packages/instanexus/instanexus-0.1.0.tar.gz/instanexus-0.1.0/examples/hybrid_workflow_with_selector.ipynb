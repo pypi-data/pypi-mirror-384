{
 "cells": [
  {
   "cell_type": "markdown",
   "id": "d9b66b4c",
   "metadata": {},
   "source": [
    "## Hybrid de novo protein assembly workflow\n",
    "\n",
    "The hybrid assembly workflow considers contigs obtained from 2 assembly methods: greedy and DBG."
   ]
  },
  {
   "cell_type": "code",
   "execution_count": 1,
   "id": "0b9dafa8",
   "metadata": {},
   "outputs": [],
   "source": [
    "import os\n",
    "import sys\n",
    "\n",
    "script_dir = os.getcwd()\n",
    "sys.path.append(os.path.join(script_dir, \"../src\"))\n",
    "\n",
    "# my modules\n",
    "import dbg\n",
    "import greedy_method as greedy\n",
    "import mapping as map\n",
    "import consensus as cons\n",
    "import alignment as align\n",
    "import clustering as clus\n",
    "import preprocessing as prep\n",
    "import compute_statistics as comp_stat\n",
    "import model_peptide_selector as selector\n",
    "\n",
    "# import libraries\n",
    "from pathlib import Path\n",
    "\n",
    "import joblib\n",
    "import json\n",
    "import Bio\n",
    "import pandas as pd\n",
    "import matplotlib.pyplot as plt\n",
    "import seaborn as sns"
   ]
  },
  {
   "cell_type": "code",
   "execution_count": 2,
   "id": "8645e16f",
   "metadata": {},
   "outputs": [],
   "source": [
    "try:\n",
    "    # works if you are in a script: __file__ exists\n",
    "    BASE_DIR = Path(__file__).resolve().parents[2]\n",
    "except NameError:\n",
    "    # works if you are in a notebook: __file__ does not exist\n",
    "    BASE_DIR = Path().resolve()\n",
    "    # go up until the project folder\n",
    "    while BASE_DIR.name != \"InstaNexus\" and BASE_DIR != BASE_DIR.parent:\n",
    "        BASE_DIR = BASE_DIR.parent\n",
    "\n",
    "JSON_DIR = BASE_DIR / \"json\"\n",
    "INPUT_DIR = BASE_DIR / \"inputs\"\n",
    "FASTA_DIR = BASE_DIR / \"fasta\"\n",
    "OUTPUTS_DIR = BASE_DIR / \"outputs\"\n",
    "FIGURES_DIR = BASE_DIR / \"figures\""
   ]
  },
  {
   "cell_type": "code",
   "execution_count": 3,
   "id": "3287f4a9",
   "metadata": {},
   "outputs": [],
   "source": [
    "def get_sample_metadata(run, chain=\"\", json_path=JSON_DIR / \"sample_metadata.json\"):\n",
    "    with open(json_path, \"r\") as f:\n",
    "        all_meta = json.load(f)\n",
    "\n",
    "    if run not in all_meta:\n",
    "        raise ValueError(f\"Run '{run}' not found in metadata.\")\n",
    "\n",
    "    entries = all_meta[run]\n",
    "\n",
    "    for entry in entries:\n",
    "        if entry[\"chain\"] == chain:\n",
    "            return entry\n",
    "\n",
    "    raise ValueError(f\"No metadata found for run '{run}' with chain '{chain}'.\")"
   ]
  },
  {
   "cell_type": "code",
   "execution_count": 4,
   "id": "7e967e37",
   "metadata": {},
   "outputs": [],
   "source": [
    "def get_colors_from_run(cat, is_scaffold=False, json_path=JSON_DIR / \"colors.json\"):\n",
    "    if not os.path.exists(json_path):\n",
    "        raise FileNotFoundError(f\"Missing color file: {json_path}\")\n",
    "\n",
    "    with open(json_path, \"r\") as f:\n",
    "        colors = json.load(f)\n",
    "\n",
    "    category = cat.split(\"_\")[0].lower()\n",
    "    key = \"scaffold\" if is_scaffold else \"contig\"\n",
    "\n",
    "    try:\n",
    "        return colors[category][key]\n",
    "    except KeyError:\n",
    "        raise ValueError(f\"Color not defined for category '{category}' and key '{key}'\")"
   ]
  },
  {
   "cell_type": "code",
   "execution_count": 5,
   "id": "ccaf9cbc",
   "metadata": {},
   "outputs": [],
   "source": [
    "def get_combination_name(\n",
    "    ass_method,\n",
    "    conf,\n",
    "    kmer_size,\n",
    "    size_threshold,\n",
    "    min_overlap\n",
    "):\n",
    "    if ass_method in (\"dbg\", \"hybrid\"):\n",
    "        return f\"comb_{ass_method}_c{conf}_ks{kmer_size}_ts{size_threshold}_mo{min_overlap}\"\n",
    "    \n",
    "    elif ass_method == \"greedy\":\n",
    "        return f\"comb_{ass_method}_c{conf}_ts{size_threshold}_mo{min_overlap}\""
   ]
  },
  {
   "cell_type": "code",
   "execution_count": 6,
   "id": "de65b29e",
   "metadata": {},
   "outputs": [
    {
     "name": "stdout",
     "output_type": "stream",
     "text": [
      "light\n",
      "['Thermo', 'Papain', 'Chemo', 'Trypsin', 'Elastase', 'ProtK', 'GluC']\n"
     ]
    }
   ],
   "source": [
    "run = \"ma1\"\n",
    "chain = \"light\"\n",
    "\n",
    "meta = get_sample_metadata(run, chain)\n",
    "\n",
    "protein = meta[\"protein\"]\n",
    "chain = meta[\"chain\"]\n",
    "proteases = meta[\"proteases\"]\n",
    "\n",
    "print(chain)\n",
    "print(proteases)"
   ]
  },
  {
   "cell_type": "code",
   "execution_count": 8,
   "id": "bf1b0f45",
   "metadata": {},
   "outputs": [],
   "source": [
    "ass_method = \"hybrid\"\n",
    "kmer_size = 6\n",
    "conf = 0.95\n",
    "size_threshold = 0\n",
    "min_overlap = 2"
   ]
  },
  {
   "cell_type": "code",
   "execution_count": 9,
   "id": "efe91ca4",
   "metadata": {},
   "outputs": [
    {
     "name": "stdout",
     "output_type": "stream",
     "text": [
      "comb_hybrid_c0.95_ks6_ts0_mo2\n"
     ]
    }
   ],
   "source": [
    "comb = get_combination_name(\n",
    "    ass_method,\n",
    "    conf,\n",
    "    kmer_size,\n",
    "    size_threshold,\n",
    "    min_overlap)\n",
    "\n",
    "print(comb)"
   ]
  },
  {
   "cell_type": "code",
   "execution_count": 10,
   "id": "3461c687",
   "metadata": {},
   "outputs": [],
   "source": [
    "params = {\n",
    "    \"ass_method\": ass_method,\n",
    "    \"conf\": conf,\n",
    "    \"size_threshold\": size_threshold,\n",
    "    \"min_overlap\": min_overlap\n",
    "}"
   ]
  },
  {
   "cell_type": "code",
   "execution_count": 11,
   "id": "02a6bcdd",
   "metadata": {},
   "outputs": [],
   "source": [
    "folder_outputs = OUTPUTS_DIR / f\"{run}{chain}\"\n",
    "\n",
    "prep.create_directory(folder_outputs)\n",
    "\n",
    "combination_folder_out = os.path.join(\n",
    "    folder_outputs,\n",
    "    f\"comb_{ass_method}_c{conf}_ks{kmer_size}_ts{size_threshold}_mo{min_overlap}\",\n",
    ")\n",
    "\n",
    "prep.create_subdirectories_outputs(combination_folder_out)"
   ]
  },
  {
   "cell_type": "markdown",
   "id": "cea5b8cd",
   "metadata": {},
   "source": [
    "### Data cleaning"
   ]
  },
  {
   "cell_type": "code",
   "execution_count": 12,
   "id": "44d02d5d",
   "metadata": {},
   "outputs": [
    {
     "data": {
      "text/html": [
       "<div>\n",
       "<style scoped>\n",
       "    .dataframe tbody tr th:only-of-type {\n",
       "        vertical-align: middle;\n",
       "    }\n",
       "\n",
       "    .dataframe tbody tr th {\n",
       "        vertical-align: top;\n",
       "    }\n",
       "\n",
       "    .dataframe thead th {\n",
       "        text-align: right;\n",
       "    }\n",
       "</style>\n",
       "<table border=\"1\" class=\"dataframe\">\n",
       "  <thead>\n",
       "    <tr style=\"text-align: right;\">\n",
       "      <th></th>\n",
       "      <th>experiment_name</th>\n",
       "      <th>scan_number</th>\n",
       "      <th>preds</th>\n",
       "      <th>log_probs</th>\n",
       "      <th>protease</th>\n",
       "    </tr>\n",
       "  </thead>\n",
       "  <tbody>\n",
       "    <tr>\n",
       "      <th>0</th>\n",
       "      <td>20240628_FJ_Jubba_MP_Easy15_35min_1835_DDA_The...</td>\n",
       "      <td>49</td>\n",
       "      <td>VLLPLSLLR</td>\n",
       "      <td>-11.921587</td>\n",
       "      <td>Thermo</td>\n",
       "    </tr>\n",
       "    <tr>\n",
       "      <th>1</th>\n",
       "      <td>20240628_FJ_Jubba_MP_Easy15_35min_1835_DDA_The...</td>\n",
       "      <td>52</td>\n",
       "      <td>KLLLLKKK</td>\n",
       "      <td>-23.506060</td>\n",
       "      <td>Thermo</td>\n",
       "    </tr>\n",
       "    <tr>\n",
       "      <th>2</th>\n",
       "      <td>20240628_FJ_Jubba_MP_Easy15_35min_1835_DDA_The...</td>\n",
       "      <td>56</td>\n",
       "      <td>NaN</td>\n",
       "      <td>-1.000000</td>\n",
       "      <td>Thermo</td>\n",
       "    </tr>\n",
       "    <tr>\n",
       "      <th>3</th>\n",
       "      <td>20240628_FJ_Jubba_MP_Easy15_35min_1835_DDA_The...</td>\n",
       "      <td>57</td>\n",
       "      <td>VLVLSDTNSDSDDDK</td>\n",
       "      <td>-24.000002</td>\n",
       "      <td>Thermo</td>\n",
       "    </tr>\n",
       "    <tr>\n",
       "      <th>4</th>\n",
       "      <td>20240628_FJ_Jubba_MP_Easy15_35min_1835_DDA_The...</td>\n",
       "      <td>72</td>\n",
       "      <td>LPQLLLLGR</td>\n",
       "      <td>-10.374332</td>\n",
       "      <td>Thermo</td>\n",
       "    </tr>\n",
       "    <tr>\n",
       "      <th>5</th>\n",
       "      <td>20240628_FJ_Jubba_MP_Easy15_35min_1835_DDA_The...</td>\n",
       "      <td>75</td>\n",
       "      <td>NaN</td>\n",
       "      <td>-1.000000</td>\n",
       "      <td>Thermo</td>\n",
       "    </tr>\n",
       "    <tr>\n",
       "      <th>6</th>\n",
       "      <td>20240628_FJ_Jubba_MP_Easy15_35min_1835_DDA_The...</td>\n",
       "      <td>86</td>\n",
       "      <td>PSPEEDEEEEQK</td>\n",
       "      <td>-14.129684</td>\n",
       "      <td>Thermo</td>\n",
       "    </tr>\n",
       "    <tr>\n",
       "      <th>7</th>\n",
       "      <td>20240628_FJ_Jubba_MP_Easy15_35min_1835_DDA_The...</td>\n",
       "      <td>89</td>\n",
       "      <td>CMDCDDDEDEDSK</td>\n",
       "      <td>-24.807180</td>\n",
       "      <td>Thermo</td>\n",
       "    </tr>\n",
       "    <tr>\n",
       "      <th>8</th>\n",
       "      <td>20240628_FJ_Jubba_MP_Easy15_35min_1835_DDA_The...</td>\n",
       "      <td>110</td>\n",
       "      <td>LLVPLLAPK</td>\n",
       "      <td>-10.222238</td>\n",
       "      <td>Thermo</td>\n",
       "    </tr>\n",
       "    <tr>\n",
       "      <th>9</th>\n",
       "      <td>20240628_FJ_Jubba_MP_Easy15_35min_1835_DDA_The...</td>\n",
       "      <td>148</td>\n",
       "      <td>HCCEGGGGGGGGGGGK</td>\n",
       "      <td>-28.656862</td>\n",
       "      <td>Thermo</td>\n",
       "    </tr>\n",
       "  </tbody>\n",
       "</table>\n",
       "</div>"
      ],
      "text/plain": [
       "                                     experiment_name  scan_number  \\\n",
       "0  20240628_FJ_Jubba_MP_Easy15_35min_1835_DDA_The...           49   \n",
       "1  20240628_FJ_Jubba_MP_Easy15_35min_1835_DDA_The...           52   \n",
       "2  20240628_FJ_Jubba_MP_Easy15_35min_1835_DDA_The...           56   \n",
       "3  20240628_FJ_Jubba_MP_Easy15_35min_1835_DDA_The...           57   \n",
       "4  20240628_FJ_Jubba_MP_Easy15_35min_1835_DDA_The...           72   \n",
       "5  20240628_FJ_Jubba_MP_Easy15_35min_1835_DDA_The...           75   \n",
       "6  20240628_FJ_Jubba_MP_Easy15_35min_1835_DDA_The...           86   \n",
       "7  20240628_FJ_Jubba_MP_Easy15_35min_1835_DDA_The...           89   \n",
       "8  20240628_FJ_Jubba_MP_Easy15_35min_1835_DDA_The...          110   \n",
       "9  20240628_FJ_Jubba_MP_Easy15_35min_1835_DDA_The...          148   \n",
       "\n",
       "              preds  log_probs protease  \n",
       "0         VLLPLSLLR -11.921587   Thermo  \n",
       "1          KLLLLKKK -23.506060   Thermo  \n",
       "2               NaN  -1.000000   Thermo  \n",
       "3   VLVLSDTNSDSDDDK -24.000002   Thermo  \n",
       "4         LPQLLLLGR -10.374332   Thermo  \n",
       "5               NaN  -1.000000   Thermo  \n",
       "6      PSPEEDEEEEQK -14.129684   Thermo  \n",
       "7     CMDCDDDEDEDSK -24.807180   Thermo  \n",
       "8         LLVPLLAPK -10.222238   Thermo  \n",
       "9  HCCEGGGGGGGGGGGK -28.656862   Thermo  "
      ]
     },
     "execution_count": 12,
     "metadata": {},
     "output_type": "execute_result"
    }
   ],
   "source": [
    "#protein_norm = prep.normalize_sequence(protein)\n",
    "\n",
    "df = pd.read_csv(INPUT_DIR / f\"{run}.csv\")\n",
    "\n",
    "df[\"protease\"] = df[\"experiment_name\"].apply(\n",
    "    lambda name: prep.extract_protease(name, proteases)\n",
    ")\n",
    "\n",
    "df.head(10)"
   ]
  },
  {
   "cell_type": "code",
   "execution_count": 13,
   "id": "01880cb8",
   "metadata": {},
   "outputs": [],
   "source": [
    "df = prep.clean_dataframe(df)"
   ]
  },
  {
   "cell_type": "code",
   "execution_count": 14,
   "id": "4d6f9a9e",
   "metadata": {},
   "outputs": [],
   "source": [
    "df[\"cleaned_preds\"] = df[\"preds\"].apply(prep.remove_modifications)"
   ]
  },
  {
   "cell_type": "code",
   "execution_count": 15,
   "id": "a4756bcd",
   "metadata": {},
   "outputs": [
    {
     "data": {
      "text/plain": [
       "cleaned_preds\n",
       "LFPPKPKDT        30\n",
       "LFPPKPKDTLY      25\n",
       "DLVMTQSPSS       23\n",
       "TLSKADYEKHKVY    20\n",
       "DLVMTQSPSSL      19\n",
       "                 ..\n",
       "FGQGTKVELKRTV     2\n",
       "LVKGFYPSDLLG      2\n",
       "LVKRVVG           2\n",
       "FGLDRLLR          2\n",
       "YVPRGPG           2\n",
       "Name: count, Length: 1664, dtype: int64"
      ]
     },
     "execution_count": 15,
     "metadata": {},
     "output_type": "execute_result"
    }
   ],
   "source": [
    "df[df.duplicated(subset=[\"cleaned_preds\"], keep=False)][[\"cleaned_preds\"]].value_counts()"
   ]
  },
  {
   "cell_type": "code",
   "execution_count": 16,
   "id": "00b36611",
   "metadata": {},
   "outputs": [
    {
     "name": "stdout",
     "output_type": "stream",
     "text": [
      "71525    RGGGGGGGGGGGGGGGGGGGGGGGGGGGGGR\n",
      "77062    QPPRLLRHLLQQTPTPGLVQKNLLTVMRLLT\n",
      "31831    MLVMTQSPPEEEEELKPSPGPPTLTNTLSNY\n",
      "25822    LGSSSSSHSSSSSSSSSPSEDSDSPPEEEDK\n",
      "3607     NPSSASFSPQSSSLQSSHLLSLHQELHTGEK\n",
      "                      ...               \n",
      "75243                              FLLLR\n",
      "24999                              LYSKL\n",
      "71                                 PREAK\n",
      "23391                              YCQRY\n",
      "23199                               MDCC\n",
      "Name: cleaned_preds, Length: 71308, dtype: object\n"
     ]
    }
   ],
   "source": [
    "print(df.loc[df[\"cleaned_preds\"].str.len().sort_values(ascending=False).index, \"cleaned_preds\"])"
   ]
  },
  {
   "cell_type": "code",
   "execution_count": 17,
   "id": "39f69979",
   "metadata": {},
   "outputs": [
    {
     "data": {
      "text/plain": [
       "array(['Papain', 'Chemo', 'Thermo', 'ProtK', 'Trypsin', 'Elastase',\n",
       "       'GluC'], dtype=object)"
      ]
     },
     "execution_count": 17,
     "metadata": {},
     "output_type": "execute_result"
    }
   ],
   "source": [
    "df.protease.unique()"
   ]
  },
  {
   "cell_type": "code",
   "execution_count": 18,
   "id": "1d428dbe",
   "metadata": {},
   "outputs": [],
   "source": [
    "cleaned_psms = df[\"cleaned_preds\"].tolist()"
   ]
  },
  {
   "cell_type": "code",
   "execution_count": 19,
   "id": "3677f4d7",
   "metadata": {},
   "outputs": [],
   "source": [
    "filtered_psms = prep.filter_contaminants(\n",
    "cleaned_psms, run, FASTA_DIR / \"contaminants.fasta\"\n",
    ")"
   ]
  },
  {
   "cell_type": "code",
   "execution_count": 20,
   "id": "2e7719a5",
   "metadata": {},
   "outputs": [],
   "source": [
    "df = df[df[\"cleaned_preds\"].isin(filtered_psms)]"
   ]
  },
  {
   "cell_type": "markdown",
   "id": "87d49170",
   "metadata": {},
   "source": [
    "### Peptide selection"
   ]
  },
  {
   "cell_type": "code",
   "execution_count": null,
   "id": "01b6b188",
   "metadata": {},
   "outputs": [],
   "source": [
    "model_path = BASE_DIR / \"peptide_selector.pkl\""
   ]
  },
  {
   "cell_type": "code",
   "execution_count": null,
   "id": "46ec50af",
   "metadata": {},
   "outputs": [],
   "source": [
    "bundle = joblib.load(model_path)\n",
    "model = bundle[\"model\"]\n",
    "threshold = bundle[\"threshold\"]\n",
    "feature_cols = bundle[\"features\"]\n",
    "\n",
    "print(f\"Model loaded from {model_path}\")"
   ]
  },
  {
   "cell_type": "code",
   "execution_count": null,
   "id": "c042d27f",
   "metadata": {},
   "outputs": [],
   "source": [
    "aa_props = selector.load_aa_properties(JSON_DIR / \"aa_properties.json\")\n",
    "protease_rules = selector.load_protease_rules(JSON_DIR / \"protease_rules.json\")\n",
    "\n",
    "df =selector.build_reference_free_features(df, aa_props, protease_rules)"
   ]
  },
  {
   "cell_type": "code",
   "execution_count": null,
   "id": "48f4aefd",
   "metadata": {},
   "outputs": [],
   "source": [
    "df.columns"
   ]
  },
  {
   "cell_type": "code",
   "execution_count": null,
   "id": "f98cf453",
   "metadata": {},
   "outputs": [],
   "source": [
    "df[\"protease\"] = df[\"protease\"].astype(\"category\").cat.codes"
   ]
  },
  {
   "cell_type": "code",
   "execution_count": null,
   "id": "ac69e360",
   "metadata": {},
   "outputs": [],
   "source": [
    "df.head(5)"
   ]
  },
  {
   "cell_type": "code",
   "execution_count": null,
   "id": "52fd2ee1",
   "metadata": {},
   "outputs": [],
   "source": [
    "X = df[feature_cols]\n",
    "df[\"model_score\"] = model.predict_proba(X)[:, 1]\n",
    "df[\"accepted\"] = (df[\"model_score\"] >= threshold).astype(int)\n",
    "\n",
    "# Keep accepted peptides only\n",
    "accepted = df[df[\"accepted\"] == 1]"
   ]
  },
  {
   "cell_type": "code",
   "execution_count": null,
   "id": "8772c907",
   "metadata": {},
   "outputs": [],
   "source": [
    "accepted_df = accepted.reset_index(drop=True)\n",
    "\n",
    "accepted_df.head(5)"
   ]
  },
  {
   "cell_type": "code",
   "execution_count": null,
   "id": "3e6ef0f7",
   "metadata": {},
   "outputs": [],
   "source": [
    "print(f\"Total PSMs: {len(df)}, Accepted: {len(accepted)}, Rejected: {len(df) - len(accepted)}\")"
   ]
  },
  {
   "cell_type": "code",
   "execution_count": null,
   "id": "40547d85",
   "metadata": {},
   "outputs": [],
   "source": [
    "def plot_peptide_length_distribution(df, output_dir=\"figures\"):\n",
    "    \"\"\"Plot peptide length distribution (Accepted vs Discarded) using counts.\"\"\"\n",
    "    df = df.copy()\n",
    "    df[\"status\"] = df[\"accepted\"].map({1: \"Accepted\", 0: \"Discarded\"})\n",
    "\n",
    "    plt.figure(figsize=(8, 5))\n",
    "    ax = sns.histplot(\n",
    "        data=df,\n",
    "        x=\"seq_length\",\n",
    "        hue=\"status\",\n",
    "        bins=30,\n",
    "        kde=False,\n",
    "        alpha=0.6,\n",
    "        stat=\"count\",\n",
    "        palette={\"Accepted\": \"#FF7F0E\", \"Discarded\": \"#1F77B4\"},\n",
    "    )\n",
    "    ax.set_title(\"Peptide length distribution\")\n",
    "    ax.set_xlabel(\"Peptide length\")\n",
    "    ax.set_ylabel(\"Count\")\n",
    "    ax.legend(title=None)\n",
    "    ax.grid(False)\n",
    "    ax.tick_params(bottom=True, left=True, top=False, right=False)\n",
    "\n",
    "    # Force legend to appear with proper labels\n",
    "    handles, labels = ax.get_legend_handles_labels()\n",
    "    if handles and labels:\n",
    "        ax.legend(handles=handles, labels=labels, title=None, frameon=False, loc=\"upper right\")\n",
    "\n",
    "    plt.tight_layout()\n",
    "    Path(output_dir).mkdir(parents=True, exist_ok=True)\n",
    "    #plt.savefig(Path(output_dir) / \"peptide_length_distribution.svg\", format=\"svg\")\n",
    "    plt.show()\n"
   ]
  },
  {
   "cell_type": "code",
   "execution_count": null,
   "id": "905e78c4",
   "metadata": {},
   "outputs": [],
   "source": [
    "plot_peptide_length_distribution(df, FIGURES_DIR)"
   ]
  },
  {
   "cell_type": "code",
   "execution_count": null,
   "id": "39aede1b",
   "metadata": {},
   "outputs": [],
   "source": [
    "protein_norm = prep.normalize_sequence(protein)"
   ]
  },
  {
   "cell_type": "code",
   "execution_count": null,
   "id": "c0d55bf5",
   "metadata": {},
   "outputs": [],
   "source": [
    "final_psms = accepted_df[\"cleaned_preds\"].tolist()"
   ]
  },
  {
   "cell_type": "code",
   "execution_count": null,
   "id": "ac9b3582",
   "metadata": {},
   "outputs": [],
   "source": [
    "# show me final_psms duplicates\n",
    "print(len(final_psms))"
   ]
  },
  {
   "cell_type": "code",
   "execution_count": null,
   "id": "54013a0c",
   "metadata": {},
   "outputs": [],
   "source": [
    "unique_peptides = list(set(final_psms)) # remove duplicates\n",
    "print(len(unique_peptides))"
   ]
  },
  {
   "cell_type": "code",
   "execution_count": null,
   "id": "2cbbcf90",
   "metadata": {},
   "outputs": [],
   "source": [
    "non_redundant = []\n",
    "sorted_peps = sorted(unique_peptides, key=len, reverse=True)\n",
    "\n",
    "for pep in sorted_peps:\n",
    "    if not any(pep in other for other in non_redundant):\n",
    "        non_redundant.append(pep)\n"
   ]
  },
  {
   "cell_type": "code",
   "execution_count": null,
   "id": "c63e89c1",
   "metadata": {},
   "outputs": [],
   "source": [
    "print(len(non_redundant))"
   ]
  },
  {
   "cell_type": "code",
   "execution_count": null,
   "id": "ec8bfecf",
   "metadata": {},
   "outputs": [],
   "source": [
    "# remove short peptides\n",
    "filtered = [p for p in non_redundant if len(p) >= 7]\n",
    "print(len(filtered))"
   ]
  },
  {
   "cell_type": "code",
   "execution_count": null,
   "id": "3d151953",
   "metadata": {},
   "outputs": [],
   "source": [
    "from Bio import pairwise2\n",
    "from collections import Counter, defaultdict\n",
    "\n",
    "\n",
    "def seq_identity(a, b):\n",
    "    \"\"\"Compute global sequence identity between two peptides.\"\"\"\n",
    "    aln_score = pairwise2.align.globalxx(a, b, one_alignment_only=True, score_only=True)\n",
    "    return aln_score / max(len(a), len(b))\n",
    "\n",
    "\n",
    "def cluster_peptides_by_identity_same_length(peptides, threshold=0.9):\n",
    "    \"\"\"\n",
    "    Cluster peptides by sequence identity only if they have the same length.\n",
    "    Select representative peptide based on highest frequency in the list.\n",
    "    \"\"\"\n",
    "    # Count occurrences in the input list\n",
    "    freq = Counter(peptides)\n",
    "\n",
    "    # Group peptides by length\n",
    "    by_length = defaultdict(list)\n",
    "    for pep in peptides:\n",
    "        by_length[len(pep)].append(pep)\n",
    "\n",
    "    clusters = []\n",
    "\n",
    "    # Cluster within each length group\n",
    "    for length_group in by_length.values():\n",
    "        local_clusters = []\n",
    "        for pep in length_group:\n",
    "            placed = False\n",
    "            for cluster in local_clusters:\n",
    "                if any(seq_identity(pep, c) >= threshold for c in cluster):\n",
    "                    cluster.append(pep)\n",
    "                    placed = True\n",
    "                    break\n",
    "            if not placed:\n",
    "                local_clusters.append([pep])\n",
    "        clusters.extend(local_clusters)\n",
    "\n",
    "    # Select representatives\n",
    "    representatives = []\n",
    "    for cluster in clusters:\n",
    "        cluster_sorted = sorted(cluster, key=lambda x: (freq[x], len(x)), reverse=True)\n",
    "        representatives.append(cluster_sorted[0])\n",
    "\n",
    "    return representatives, clusters\n"
   ]
  },
  {
   "cell_type": "code",
   "execution_count": null,
   "id": "2707df7f",
   "metadata": {},
   "outputs": [],
   "source": [
    "representatives, clusters = cluster_peptides_by_identity_same_length(filtered, threshold=0.9)\n",
    "\n",
    "print(f\"Original peptides: {len(filtered)}\")\n",
    "print(f\"Clusters found: {len(clusters)}\")\n",
    "print(f\"Non-redundant peptides: {len(representatives)}\")\n"
   ]
  },
  {
   "cell_type": "code",
   "execution_count": null,
   "id": "f4ad93c9",
   "metadata": {},
   "outputs": [],
   "source": [
    "representatives"
   ]
  },
  {
   "cell_type": "code",
   "execution_count": null,
   "id": "57f5685f",
   "metadata": {},
   "outputs": [],
   "source": [
    "mapped_psms = map.process_protein_contigs_scaffold(\n",
    "    representatives, protein_norm, max_mismatches, min_identity\n",
    ")"
   ]
  },
  {
   "cell_type": "code",
   "execution_count": null,
   "id": "ad2dac74",
   "metadata": {},
   "outputs": [],
   "source": [
    "mapped_psms[:5]"
   ]
  },
  {
   "cell_type": "code",
   "execution_count": null,
   "id": "a4103b00",
   "metadata": {},
   "outputs": [],
   "source": [
    "map.mapping_substitutions(mapped_psms, protein_norm, title= \"psms mapped in RF-selected peptides\")"
   ]
  },
  {
   "cell_type": "code",
   "execution_count": null,
   "id": "577215d3",
   "metadata": {},
   "outputs": [],
   "source": [
    "def plot_confidence_distribution(df, accepted_mask, output_dir, filename=\"psm_selected_rf_distribution.svg\"):\n",
    "    \"\"\"\n",
    "    Plot and save the distribution of peptide confidence scores using Seaborn.\"\"\"\n",
    "\n",
    "    accepted = df.loc[accepted_mask, \"conf\"]\n",
    "\n",
    "    plt.figure(figsize=(8, 5))\n",
    "    sns.histplot(\n",
    "        accepted,\n",
    "        bins=50,\n",
    "        kde=False,\n",
    "        color=\"#2E86AB\",\n",
    "        edgecolor=\"black\",\n",
    "        alpha=0.8,\n",
    "    )\n",
    "\n",
    "    plt.xlabel(\"Confidence score\", fontsize=12)\n",
    "    plt.ylabel(\"Peptide count\", fontsize=12)\n",
    "    plt.title(\"Distribution of accepted peptides\", fontsize=13, pad=15)\n",
    "    sns.despine()\n",
    "    plt.tight_layout()\n",
    "\n",
    "    # ensure directory exists\n",
    "    output_dir.mkdir(parents=True, exist_ok=True)\n",
    "    out_path = output_dir / filename\n",
    "    plt.savefig(out_path, format=\"svg\", dpi=300)\n",
    "    plt.close()\n",
    "\n",
    "    print(f\"Confidence distribution plot saved as: {out_path}\")"
   ]
  },
  {
   "cell_type": "code",
   "execution_count": null,
   "id": "ba3d3dc2",
   "metadata": {},
   "outputs": [],
   "source": [
    "plot_confidence_distribution(df, df[\"accepted\"] == 1, FIGURES_DIR)"
   ]
  },
  {
   "cell_type": "code",
   "execution_count": null,
   "id": "13b583c3",
   "metadata": {},
   "outputs": [],
   "source": [
    "def plot_length_distribution(df, output_dir, filename=\"length_distribution.svg\"):\n",
    "    \"\"\"\n",
    "    Plot peptide length distribution for accepted vs all peptides.\n",
    "\n",
    "    Parameters\n",
    "    ----------\n",
    "    df : pandas.DataFrame\n",
    "        Must contain 'seq_length' (int) and 'accepted' (0/1) columns.\n",
    "    output_dir : pathlib.Path\n",
    "        Directory where the SVG file will be saved.\n",
    "    filename : str\n",
    "        Output filename.\n",
    "\n",
    "    Returns\n",
    "    -------\n",
    "    pathlib.Path\n",
    "        Path to the saved SVG file.\n",
    "    \"\"\"\n",
    "    sns.set_theme(style=\"white\", font_scale=1.1)\n",
    "    plt.figure(figsize=(7, 5))\n",
    "\n",
    "    sns.kdeplot(\n",
    "        data=df,\n",
    "        x=\"seq_length\",\n",
    "        hue=\"accepted\",\n",
    "        common_norm=False,\n",
    "        fill=True,\n",
    "        alpha=0.5,\n",
    "        palette={0: \"#B0BEC5\", 1: \"#2E86AB\"},\n",
    "        linewidth=1.5,\n",
    "    )\n",
    "\n",
    "    plt.xlabel(\"Peptide Length (AAs)\", fontsize=12)\n",
    "    plt.ylabel(\"Density\", fontsize=12)\n",
    "    plt.title(\"Distribution of Peptide Lengths (Accepted vs All)\", fontsize=13, pad=12)\n",
    "    sns.despine()\n",
    "    plt.grid(False)\n",
    "    plt.tight_layout()\n",
    "\n",
    "    output_dir.mkdir(parents=True, exist_ok=True)\n",
    "    out_path = output_dir / filename\n",
    "    plt.savefig(out_path, format=\"svg\", dpi=300)\n",
    "    plt.close()\n",
    "\n",
    "    print(f\"Peptide length distribution saved as: {out_path}\")\n",
    "    return out_path\n"
   ]
  },
  {
   "cell_type": "raw",
   "id": "c2c1194f",
   "metadata": {
    "vscode": {
     "languageId": "raw"
    }
   },
   "source": [
    "#final_psms = [\"ADOT\",\"OTTOB\", \"OTTOB\",\"TTOB\",\"OBREVA\", \"REVADOA\", \"DOABAR\", \"BARC\", \"RCELLONA\"]\n",
    "\n",
    "final_psms = [\"TTOB\",\"OBREVA\", \"REVADOA\", \"DOABAR\", \"BARC\", \"RCELLONA\", \"ADOT\",\"OTTOB\", \"OTTOB\"]"
   ]
  },
  {
   "cell_type": "code",
   "execution_count": null,
   "id": "33157c2c",
   "metadata": {},
   "outputs": [],
   "source": [
    "greedy_psms = representatives.copy()\n",
    "dbg_psms = representatives.copy()\n",
    "print(len(greedy_psms), len(dbg_psms))"
   ]
  },
  {
   "cell_type": "markdown",
   "id": "22992f6f",
   "metadata": {},
   "source": [
    "### Optimised greedy contig approach"
   ]
  },
  {
   "cell_type": "code",
   "execution_count": null,
   "id": "5af84e51",
   "metadata": {},
   "outputs": [],
   "source": [
    "greedy_contigs = greedy.assemble_contigs(greedy_psms, min_overlap)"
   ]
  },
  {
   "cell_type": "code",
   "execution_count": null,
   "id": "1f62a4b7",
   "metadata": {},
   "outputs": [],
   "source": [
    "assembled_contigs = list(set(greedy_contigs))"
   ]
  },
  {
   "cell_type": "raw",
   "id": "7d3c2826",
   "metadata": {
    "vscode": {
     "languageId": "raw"
    }
   },
   "source": [
    "greedy_contigs = [\n",
    "    contig for contig in greedy_contigs if len(contig) > size_threshold\n",
    "]"
   ]
  },
  {
   "cell_type": "code",
   "execution_count": null,
   "id": "94a4d3bd",
   "metadata": {},
   "outputs": [],
   "source": [
    "greedy_contigs = sorted(greedy_contigs, key=len, reverse=True)"
   ]
  },
  {
   "cell_type": "code",
   "execution_count": null,
   "id": "746bdef5",
   "metadata": {},
   "outputs": [],
   "source": [
    "greedy_contigs"
   ]
  },
  {
   "cell_type": "code",
   "execution_count": null,
   "id": "2cb79b77",
   "metadata": {},
   "outputs": [],
   "source": [
    "print(greedy_contigs[:10])\n",
    "print(len(greedy_contigs))"
   ]
  },
  {
   "cell_type": "code",
   "execution_count": null,
   "id": "97061119",
   "metadata": {},
   "outputs": [],
   "source": [
    "greedy_contigs"
   ]
  },
  {
   "cell_type": "code",
   "execution_count": null,
   "id": "4543d7ed",
   "metadata": {},
   "outputs": [],
   "source": [
    "protein_norm"
   ]
  },
  {
   "cell_type": "code",
   "execution_count": null,
   "id": "3a14939b",
   "metadata": {},
   "outputs": [],
   "source": [
    "mapped_contigs = map.process_protein_contigs_scaffold(\n",
    "    greedy_contigs, protein_norm, max_mismatches, min_identity\n",
    ")"
   ]
  },
  {
   "cell_type": "code",
   "execution_count": null,
   "id": "e150d2db",
   "metadata": {},
   "outputs": [],
   "source": [
    "mapped_contigs"
   ]
  },
  {
   "cell_type": "code",
   "execution_count": null,
   "id": "b04f6065",
   "metadata": {},
   "outputs": [],
   "source": [
    "map.mapping_substitutions(mapped_contigs, protein_norm, title= \"psms mapped in RF-selected peptides\")"
   ]
  },
  {
   "cell_type": "markdown",
   "id": "7b9d222b",
   "metadata": {},
   "source": [
    "### Optimised DBG approach"
   ]
  },
  {
   "cell_type": "code",
   "execution_count": null,
   "id": "02f37d1c",
   "metadata": {},
   "outputs": [],
   "source": [
    "kmers = dbg.get_kmers(dbg_psms, kmer_size=4)"
   ]
  },
  {
   "cell_type": "code",
   "execution_count": null,
   "id": "5bef4c14",
   "metadata": {},
   "outputs": [],
   "source": [
    "edges = dbg.get_debruijn_edges_from_kmers(kmers)"
   ]
  },
  {
   "cell_type": "code",
   "execution_count": null,
   "id": "07a5712d",
   "metadata": {},
   "outputs": [],
   "source": [
    "dbg_contigs = dbg.assemble_contigs(edges)"
   ]
  },
  {
   "cell_type": "code",
   "execution_count": null,
   "id": "de6a2ed8",
   "metadata": {},
   "outputs": [],
   "source": [
    "dbg_contigs = sorted(dbg_contigs, key=len, reverse=True)"
   ]
  },
  {
   "cell_type": "code",
   "execution_count": null,
   "id": "ecb1c433",
   "metadata": {},
   "outputs": [],
   "source": [
    "dbg_contigs = list(set(dbg_contigs))"
   ]
  },
  {
   "cell_type": "code",
   "execution_count": null,
   "id": "2c30de12",
   "metadata": {},
   "outputs": [],
   "source": [
    "dbg_contigs = [seq for seq in dbg_contigs if len(seq) > size_threshold]"
   ]
  },
  {
   "cell_type": "code",
   "execution_count": null,
   "id": "ad5be998",
   "metadata": {},
   "outputs": [],
   "source": [
    "dbg_contigs = sorted(dbg_contigs, key=len, reverse=True)"
   ]
  },
  {
   "cell_type": "code",
   "execution_count": null,
   "id": "827c0cc9",
   "metadata": {},
   "outputs": [],
   "source": [
    "print(dbg_contigs[:5])\n",
    "print(len(dbg_contigs))"
   ]
  },
  {
   "cell_type": "code",
   "execution_count": null,
   "id": "e58b7234",
   "metadata": {},
   "outputs": [],
   "source": [
    "dbg_contigs"
   ]
  },
  {
   "cell_type": "markdown",
   "id": "e7303676",
   "metadata": {},
   "source": [
    "### Scaffolds"
   ]
  },
  {
   "cell_type": "code",
   "execution_count": null,
   "id": "f03f93dd",
   "metadata": {},
   "outputs": [],
   "source": [
    "total_contigs = greedy_contigs + dbg_contigs\n",
    "print(len(total_contigs))"
   ]
  },
  {
   "cell_type": "code",
   "execution_count": null,
   "id": "1bf9f67c",
   "metadata": {},
   "outputs": [],
   "source": [
    "total_contigs"
   ]
  },
  {
   "cell_type": "code",
   "execution_count": null,
   "id": "1c9cef04",
   "metadata": {},
   "outputs": [],
   "source": [
    "# order contigs by length\n",
    "total_contigs = sorted(total_contigs, key=len, reverse=True)"
   ]
  },
  {
   "cell_type": "code",
   "execution_count": null,
   "id": "746f7155",
   "metadata": {},
   "outputs": [],
   "source": [
    "# remove duplicates in the list\n",
    "total_contigs = list(set(total_contigs))"
   ]
  },
  {
   "cell_type": "code",
   "execution_count": null,
   "id": "35ef73a8",
   "metadata": {},
   "outputs": [],
   "source": [
    "len(total_contigs)"
   ]
  },
  {
   "cell_type": "code",
   "execution_count": null,
   "id": "bb2a4534",
   "metadata": {},
   "outputs": [],
   "source": [
    "assembled_scaffolds = dbg.create_scaffolds(assembled_contigs, min_overlap)\n",
    "\n",
    "assembled_scaffolds = list(set(assembled_scaffolds))\n",
    "\n",
    "assembled_scaffolds = sorted(assembled_scaffolds, key=len, reverse=True)\n",
    "\n",
    "assembled_scaffolds = [\n",
    "    scaffold for scaffold in assembled_scaffolds if len(scaffold) > size_threshold\n",
    "]\n",
    "\n",
    "assembled_scaffolds = dbg.merge_sequences(assembled_scaffolds)\n",
    "\n",
    "assembled_scaffolds = list(set(assembled_scaffolds))\n",
    "\n",
    "assembled_scaffolds = sorted(assembled_scaffolds, key=len, reverse=True)\n",
    "\n",
    "assembled_scaffolds = [\n",
    "    scaffold for scaffold in assembled_scaffolds if len(scaffold) > size_threshold\n",
    "]"
   ]
  },
  {
   "cell_type": "code",
   "execution_count": null,
   "id": "f63bdde2",
   "metadata": {},
   "outputs": [],
   "source": [
    "assembled_scaffolds"
   ]
  },
  {
   "cell_type": "code",
   "execution_count": null,
   "id": "0ce94987",
   "metadata": {},
   "outputs": [],
   "source": [
    "mapped_scaffolds = map.process_protein_contigs_scaffold(\n",
    "    assembled_scaffolds, protein_norm, max_mismatches, min_identity\n",
    ")\n",
    "\n",
    "map.mapping_substitutions(mapped_scaffolds, protein_norm, title= \"scaffolds mapped in RF-selected peptides\")"
   ]
  },
  {
   "cell_type": "code",
   "execution_count": null,
   "id": "e83a187e",
   "metadata": {},
   "outputs": [],
   "source": [
    "records = []\n",
    "\n",
    "for i, seq in enumerate(assembled_scaffolds):\n",
    "    record = Bio.SeqRecord.SeqRecord(\n",
    "        Bio.Seq.Seq(seq), id=f\"scaffold_{i+1}\", description=f\"length: {len(seq)}\"\n",
    "    )\n",
    "    records.append(record)"
   ]
  },
  {
   "cell_type": "code",
   "execution_count": null,
   "id": "ba417995",
   "metadata": {},
   "outputs": [],
   "source": [
    "Bio.SeqIO.write(\n",
    "    records,\n",
    "    f\"{combination_folder_out}/scaffolds/{ass_method}_scaffold_{conf}_{run}.fasta\",\n",
    "    \"fasta\",\n",
    ")"
   ]
  },
  {
   "cell_type": "markdown",
   "id": "dda48d5d",
   "metadata": {},
   "source": [
    "### Clustering"
   ]
  },
  {
   "cell_type": "code",
   "execution_count": null,
   "id": "84e284ad",
   "metadata": {},
   "outputs": [],
   "source": [
    "scaffolds_folder_out = OUTPUTS_DIR / f\"{run}{chain}/{comb}/scaffolds\"\n",
    "print(f\"scaffolds_folder_out: {scaffolds_folder_out}\")"
   ]
  },
  {
   "cell_type": "code",
   "execution_count": null,
   "id": "8ae9be1f",
   "metadata": {},
   "outputs": [],
   "source": [
    "clus.cluster_fasta_files(input_folder=scaffolds_folder_out)"
   ]
  },
  {
   "cell_type": "code",
   "execution_count": null,
   "id": "3693a180",
   "metadata": {},
   "outputs": [],
   "source": [
    "cluster_folder_out = os.path.join(scaffolds_folder_out, \"cluster\")\n",
    "print(cluster_folder_out)"
   ]
  },
  {
   "cell_type": "code",
   "execution_count": null,
   "id": "aae70362",
   "metadata": {},
   "outputs": [],
   "source": [
    "cluster_tsv_folder = os.path.join(scaffolds_folder_out, \"cluster\")\n",
    "output_base_folder = os.path.join(scaffolds_folder_out, \"cluster_fasta\")\n",
    "\n",
    "for fasta_file in os.listdir(scaffolds_folder_out):\n",
    "    if fasta_file.endswith(\".fasta\"):\n",
    "        fasta_path = os.path.join(scaffolds_folder_out, fasta_file)\n",
    "        clus.process_fasta_and_clusters(\n",
    "            fasta_path, cluster_tsv_folder, output_base_folder\n",
    "        )"
   ]
  },
  {
   "cell_type": "markdown",
   "id": "1e013de1",
   "metadata": {},
   "source": [
    "### Alignment"
   ]
  },
  {
   "cell_type": "code",
   "execution_count": null,
   "id": "5f2bdc4b",
   "metadata": {},
   "outputs": [],
   "source": [
    "cluster_fasta_folder = os.path.join(scaffolds_folder_out, \"cluster_fasta\")\n",
    "align_folder = os.path.join(scaffolds_folder_out, \"align\")\n",
    "prep.create_directory(align_folder)"
   ]
  },
  {
   "cell_type": "code",
   "execution_count": null,
   "id": "8753851c",
   "metadata": {},
   "outputs": [],
   "source": [
    "for cluster_folder in os.listdir(cluster_fasta_folder):\n",
    "    cluster_folder_path = os.path.join(cluster_fasta_folder, cluster_folder)\n",
    "    if os.path.isdir(cluster_folder_path):\n",
    "\n",
    "        output_cluster_folder = os.path.join(align_folder, cluster_folder)\n",
    "        os.makedirs(output_cluster_folder, exist_ok=True)\n",
    "\n",
    "        for fasta_file in os.listdir(cluster_folder_path):\n",
    "            if fasta_file.endswith(\".fasta\"):\n",
    "                fasta_file_path = os.path.join(cluster_folder_path, fasta_file)\n",
    "                base_filename = os.path.splitext(fasta_file)[0]\n",
    "                output_file = os.path.join(\n",
    "                    output_cluster_folder, f\"{base_filename}_out.afa\"\n",
    "                )\n",
    "\n",
    "                align.align_or_copy_fasta(fasta_file_path, output_file)\n",
    "\n",
    "print(\"All alignment tasks completed.\")"
   ]
  },
  {
   "cell_type": "markdown",
   "id": "aed6ef84",
   "metadata": {},
   "source": [
    "### Consensus"
   ]
  },
  {
   "cell_type": "code",
   "execution_count": null,
   "id": "6c6ec0cc",
   "metadata": {},
   "outputs": [],
   "source": [
    "consensus_folder = os.path.join(scaffolds_folder_out, \"consensus\")"
   ]
  },
  {
   "cell_type": "code",
   "execution_count": null,
   "id": "65b550bd",
   "metadata": {},
   "outputs": [],
   "source": [
    "cons.process_alignment_files(align_folder, consensus_folder)"
   ]
  },
  {
   "cell_type": "code",
   "execution_count": null,
   "id": "16de0d35",
   "metadata": {},
   "outputs": [],
   "source": [
    "all_sequences = cons.load_all_consensus_sequences(consensus_folder)"
   ]
  },
  {
   "cell_type": "code",
   "execution_count": null,
   "id": "17d7e3fb",
   "metadata": {},
   "outputs": [],
   "source": [
    "all_sequences"
   ]
  }
 ],
 "metadata": {
  "kernelspec": {
   "display_name": "instanexus",
   "language": "python",
   "name": "python3"
  },
  "language_info": {
   "codemirror_mode": {
    "name": "ipython",
    "version": 3
   },
   "file_extension": ".py",
   "mimetype": "text/x-python",
   "name": "python",
   "nbconvert_exporter": "python",
   "pygments_lexer": "ipython3",
   "version": "3.11.13"
  }
 },
 "nbformat": 4,
 "nbformat_minor": 5
}
