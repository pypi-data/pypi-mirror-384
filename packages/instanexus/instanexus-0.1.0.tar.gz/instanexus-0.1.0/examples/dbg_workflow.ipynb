{
 "cells": [
  {
   "cell_type": "markdown",
   "id": "f70c4cce",
   "metadata": {},
   "source": [
    "## De Bruijn assembly workflow"
   ]
  },
  {
   "cell_type": "raw",
   "id": "92c4004e",
   "metadata": {
    "vscode": {
     "languageId": "raw"
    }
   },
   "source": [
    "r\"\"\" Full assembly workflow with a dbg approach.\n",
    " _____  _______  _    _ \n",
    "|  __ \\|__   __|| |  | |\n",
    "| |  | |  | |   | |  | |\n",
    "| |  | |  | |   | |  | |\n",
    "| |__| |  | |   | |__| |\n",
    "|_____/   |_|   |______|\n",
    "\n",
    "__authors__ = Marco Reverenna & Konstantinos Kalogeropoulus\n",
    "__copyright__ = Copyright 2025-2026\n",
    "__research-group__ = DTU Biosustain (Multi-omics Network Analytics) and DTU Bioengineering\n",
    "__date__ = 26 Jun 2025\n",
    "__maintainer__ = Marco Reverenna\n",
    "__email__ = marcor@dtu.dk\n",
    "__status__ = Dev\n",
    "\"\"\""
   ]
  },
  {
   "cell_type": "code",
   "execution_count": 1,
   "id": "f1530db3",
   "metadata": {},
   "outputs": [],
   "source": [
    "import os\n",
    "import sys\n",
    "\n",
    "script_dir = os.getcwd()\n",
    "sys.path.append(os.path.join(script_dir, \"../src\"))"
   ]
  },
  {
   "cell_type": "code",
   "execution_count": 2,
   "id": "7d0c60dd",
   "metadata": {},
   "outputs": [],
   "source": [
    "# my modules\n",
    "import dbg\n",
    "import mapping as map\n",
    "import consensus as cons\n",
    "import alignment as align\n",
    "import clustering as clus\n",
    "import preprocessing as prep\n",
    "import compute_statistics as comp_stat\n",
    "\n",
    "# import libraries\n",
    "from pathlib import Path\n",
    "\n",
    "import json\n",
    "import Bio\n",
    "import pandas as pd"
   ]
  },
  {
   "cell_type": "code",
   "execution_count": 3,
   "id": "22e47005",
   "metadata": {},
   "outputs": [],
   "source": [
    "try:\n",
    "    # works if you are in a script: __file__ exists\n",
    "    BASE_DIR = Path(__file__).resolve().parents[2]\n",
    "except NameError:\n",
    "    # works if you are in a notebook: __file__ does not exist\n",
    "    BASE_DIR = Path().resolve()\n",
    "    # go up until the project folder\n",
    "    while BASE_DIR.name != \"InstaNexus\" and BASE_DIR != BASE_DIR.parent:\n",
    "        BASE_DIR = BASE_DIR.parent\n",
    "\n",
    "JSON_DIR = BASE_DIR / \"json\"\n",
    "INPUT_DIR = BASE_DIR / \"inputs\"\n",
    "FASTA_DIR = BASE_DIR / \"fasta\"\n",
    "OUTPUTS_DIR = BASE_DIR / \"outputs\"\n",
    "FIGURES_DIR = BASE_DIR / \"figures\""
   ]
  },
  {
   "cell_type": "code",
   "execution_count": 4,
   "id": "2ec8c528",
   "metadata": {},
   "outputs": [],
   "source": [
    "def get_sample_metadata(run, chain=\"\", json_path=JSON_DIR / \"sample_metadata.json\"):\n",
    "    with open(json_path, \"r\") as f:\n",
    "        all_meta = json.load(f)\n",
    "\n",
    "    if run not in all_meta:\n",
    "        raise ValueError(f\"Run '{run}' not found in metadata.\")\n",
    "\n",
    "    entries = all_meta[run]\n",
    "\n",
    "    for entry in entries:\n",
    "        if entry[\"chain\"] == chain:\n",
    "            return entry\n",
    "\n",
    "    raise ValueError(f\"No metadata found for run '{run}' with chain '{chain}'.\")"
   ]
  },
  {
   "cell_type": "code",
   "execution_count": 5,
   "id": "cb35a38a",
   "metadata": {},
   "outputs": [],
   "source": [
    "def get_colors_from_run(cat, is_scaffold=False, json_path=JSON_DIR / \"colors.json\"):\n",
    "    if not os.path.exists(json_path):\n",
    "        raise FileNotFoundError(f\"Missing color file: {json_path}\")\n",
    "\n",
    "    with open(json_path, \"r\") as f:\n",
    "        colors = json.load(f)\n",
    "\n",
    "    category = cat.split(\"_\")[0].lower()\n",
    "    key = \"scaffold\" if is_scaffold else \"contig\"\n",
    "\n",
    "    try:\n",
    "        return colors[category][key]\n",
    "    except KeyError:\n",
    "        raise ValueError(f\"Color not defined for category '{category}' and key '{key}'\")"
   ]
  },
  {
   "cell_type": "code",
   "execution_count": 6,
   "id": "68e4877e",
   "metadata": {},
   "outputs": [],
   "source": [
    "def get_combination_name(\n",
    "    ass_method,\n",
    "    conf,\n",
    "    kmer_size,\n",
    "    size_threshold,\n",
    "    min_overlap,\n",
    "    min_identity,\n",
    "    max_mismatches,\n",
    "):\n",
    "    if ass_method == \"dbg\":\n",
    "        return f\"comb_{ass_method}_c{conf}_ks{kmer_size}_ts{size_threshold}_mo{min_overlap}_mi{min_identity}_mm{max_mismatches}\"\n",
    "    else:\n",
    "        return f\"comb_{ass_method}_c{conf}_ts{size_threshold}_mo{min_overlap}_mi{min_identity}_mm{max_mismatches}\""
   ]
  },
  {
   "cell_type": "code",
   "execution_count": 7,
   "id": "317cadb5",
   "metadata": {},
   "outputs": [],
   "source": [
    "run = \"bsa\"\n",
    "\n",
    "meta = get_sample_metadata(run, chain=\"\")\n",
    "\n",
    "protein = meta[\"protein\"]\n",
    "chain = meta[\"chain\"]\n",
    "proteases = meta[\"proteases\"]"
   ]
  },
  {
   "cell_type": "code",
   "execution_count": null,
   "id": "21b216f9",
   "metadata": {},
   "outputs": [],
   "source": [
    "# antibodies,ma3heavy,dbg,comb_dbg_c0.9_ks7_ts0_mo4_mi0.8_mm12,39,0.968,72,0.251,30,0.144,0.939,0.907,0.619\n",
    "# nb6 comb_dbg_c0.86_ks6_ts0_mo4_mi0.9_mm12\n",
    "# bd17 comb_dbg_c0.88_ks7_ts10_mo4_mi0.9_mm12\n",
    "# bd15 comb_dbg_c0.92_ks6_ts0_mo4_mi0.9_mm12\n",
    "\n",
    "# best contig dbg results\n",
    "\n",
    "# ma1 heavy comb_dbg_c0.88_ks7_ts0_mo4_mi0.9_mm14\n",
    "# ma2 heavy comb_dbg_c0.86_ks6_ts0_mo3_mi0.9_mm10\n",
    "# ma3 heavy comb_dbg_c0.88_ks6_ts0_mo4_mi0.8_mm8\n",
    "\n",
    "# ma1 light comb_dbg_c0.86_ks7_ts0_mo4_mi0.9_mm8\n",
    "# ma2 light comb_dbg_c0.92_ks7_ts5_mo3_mi0.9_mm10\n",
    "# ma3 light comb_dbg_c0.92_ks6_ts10_mo3_mi0.8_mm14"
   ]
  },
  {
   "cell_type": "code",
   "execution_count": 8,
   "id": "7c7cf3fb",
   "metadata": {},
   "outputs": [],
   "source": [
    "ass_method = \"dbg\"\n",
    "kmer_size = 7\n",
    "conf = 0.8\n",
    "size_threshold = 20\n",
    "min_overlap = 3\n",
    "min_identity = 0.8\n",
    "max_mismatches = 20"
   ]
  },
  {
   "cell_type": "code",
   "execution_count": 9,
   "id": "e01d685f",
   "metadata": {},
   "outputs": [
    {
     "name": "stdout",
     "output_type": "stream",
     "text": [
      "comb_dbg_c0.8_ks7_ts20_mo3_mi0.8_mm20\n"
     ]
    }
   ],
   "source": [
    "comb = get_combination_name(\n",
    "    ass_method,\n",
    "    conf,\n",
    "    kmer_size,\n",
    "    size_threshold,\n",
    "    min_overlap,\n",
    "    min_identity,\n",
    "    max_mismatches,\n",
    ")\n",
    "\n",
    "print(comb)"
   ]
  },
  {
   "cell_type": "code",
   "execution_count": 10,
   "id": "07014c6e",
   "metadata": {},
   "outputs": [],
   "source": [
    "params = {\n",
    "    \"ass_method\": ass_method,\n",
    "    \"conf\": conf,\n",
    "    \"kmer_size\": kmer_size,\n",
    "    \"min_overlap\": min_overlap,\n",
    "    \"min_identity\": min_identity,\n",
    "    \"max_mismatches\": max_mismatches,\n",
    "    \"size_threshold\": size_threshold,\n",
    "}"
   ]
  },
  {
   "cell_type": "code",
   "execution_count": 11,
   "id": "47e2ae45",
   "metadata": {},
   "outputs": [],
   "source": [
    "folder_outputs = OUTPUTS_DIR / f\"{run}{chain}\"\n",
    "\n",
    "prep.create_directory(folder_outputs)\n",
    "\n",
    "combination_folder_out = os.path.join(\n",
    "    folder_outputs,\n",
    "    f\"comb_{ass_method}_c{conf}_ks{kmer_size}_ts{size_threshold}_mo{min_overlap}_mi{min_identity}_mm{max_mismatches}\",\n",
    ")\n",
    "\n",
    "prep.create_subdirectories_outputs(combination_folder_out)"
   ]
  },
  {
   "cell_type": "markdown",
   "id": "93b3bd7a",
   "metadata": {},
   "source": [
    "### Data cleaning"
   ]
  },
  {
   "cell_type": "code",
   "execution_count": 12,
   "id": "a5ec6df1",
   "metadata": {},
   "outputs": [],
   "source": [
    "protein_norm = prep.normalize_sequence(protein)\n",
    "\n",
    "df = pd.read_csv(INPUT_DIR / f\"{run}.csv\")"
   ]
  },
  {
   "cell_type": "code",
   "execution_count": 13,
   "id": "617126fa",
   "metadata": {},
   "outputs": [],
   "source": [
    "df[\"protease\"] = df[\"experiment_name\"].apply(\n",
    "    lambda name: prep.extract_protease(name, proteases)\n",
    ")\n",
    "\n",
    "df = prep.clean_dataframe(df)"
   ]
  },
  {
   "cell_type": "code",
   "execution_count": 14,
   "id": "9390368f",
   "metadata": {},
   "outputs": [],
   "source": [
    "df[\"cleaned_preds\"] = df[\"preds\"].apply(prep.remove_modifications)"
   ]
  },
  {
   "cell_type": "code",
   "execution_count": 15,
   "id": "24628576",
   "metadata": {},
   "outputs": [],
   "source": [
    "cleaned_psms = df[\"cleaned_preds\"].tolist()"
   ]
  },
  {
   "cell_type": "code",
   "execution_count": 16,
   "id": "5999e45f",
   "metadata": {},
   "outputs": [],
   "source": [
    "filtered_psms = prep.filter_contaminants(\n",
    "    cleaned_psms, run, FASTA_DIR / \"contaminants.fasta\"\n",
    ")"
   ]
  },
  {
   "cell_type": "code",
   "execution_count": 17,
   "id": "7748914d",
   "metadata": {},
   "outputs": [],
   "source": [
    "df = df[df[\"cleaned_preds\"].isin(filtered_psms)]"
   ]
  },
  {
   "cell_type": "code",
   "execution_count": 18,
   "id": "fbb9803d",
   "metadata": {},
   "outputs": [],
   "source": [
    "df[\"mapped\"] = df[\"cleaned_preds\"].apply(\n",
    "    lambda x: \"True\" if x in protein_norm else \"False\"\n",
    ")"
   ]
  },
  {
   "cell_type": "code",
   "execution_count": 19,
   "id": "0683b91e",
   "metadata": {},
   "outputs": [],
   "source": [
    "df = df[df[\"conf\"] > conf]"
   ]
  },
  {
   "cell_type": "code",
   "execution_count": 20,
   "id": "4a4399de",
   "metadata": {},
   "outputs": [],
   "source": [
    "df.reset_index(drop=True, inplace=True)"
   ]
  },
  {
   "cell_type": "code",
   "execution_count": 21,
   "id": "d31a46e1",
   "metadata": {},
   "outputs": [],
   "source": [
    "final_psms = df[\"cleaned_preds\"].tolist()"
   ]
  },
  {
   "cell_type": "code",
   "execution_count": 22,
   "id": "ca2ae98e",
   "metadata": {},
   "outputs": [],
   "source": [
    "mapped_psms = map.process_protein_contigs_scaffold(\n",
    "    final_psms, protein_norm, max_mismatches, min_identity\n",
    ")"
   ]
  },
  {
   "cell_type": "markdown",
   "id": "b041a6dd",
   "metadata": {},
   "source": [
    "### Assembly"
   ]
  },
  {
   "cell_type": "code",
   "execution_count": 23,
   "id": "9dc55fa5",
   "metadata": {},
   "outputs": [],
   "source": [
    "kmers = dbg.get_kmers(final_psms, kmer_size=kmer_size)"
   ]
  },
  {
   "cell_type": "code",
   "execution_count": 24,
   "id": "183e6403",
   "metadata": {},
   "outputs": [],
   "source": [
    "edges = dbg.get_debruijn_edges_from_kmers(kmers)"
   ]
  },
  {
   "cell_type": "code",
   "execution_count": 25,
   "id": "67b9d64d",
   "metadata": {},
   "outputs": [
    {
     "name": "stderr",
     "output_type": "stream",
     "text": [
      "Traversing nodes: 100%|██████████| 333/333 [00:00<00:00, 208525.42it/s]\n"
     ]
    }
   ],
   "source": [
    "assembled_contigs = dbg.assemble_contigs(edges)"
   ]
  },
  {
   "cell_type": "code",
   "execution_count": 26,
   "id": "26c62d0c",
   "metadata": {},
   "outputs": [],
   "source": [
    "assembled_contigs = sorted(assembled_contigs, key=len, reverse=True)"
   ]
  },
  {
   "cell_type": "code",
   "execution_count": 27,
   "id": "d3e0770a",
   "metadata": {},
   "outputs": [],
   "source": [
    "assembled_contigs = list(set(assembled_contigs))"
   ]
  },
  {
   "cell_type": "code",
   "execution_count": 28,
   "id": "1c5a7812",
   "metadata": {},
   "outputs": [],
   "source": [
    "assembled_contigs = [seq for seq in assembled_contigs if len(seq) > size_threshold]"
   ]
  },
  {
   "cell_type": "code",
   "execution_count": 29,
   "id": "ccc966b9",
   "metadata": {},
   "outputs": [],
   "source": [
    "assembled_contigs = sorted(assembled_contigs, key=len, reverse=True)"
   ]
  },
  {
   "cell_type": "code",
   "execution_count": null,
   "id": "f8dd0547",
   "metadata": {},
   "outputs": [],
   "source": [
    "# assembled_contigs = list(dict.fromkeys(assembled_contigs))\n",
    "\n",
    "# assembled_contigs = [seq for seq in assembled_contigs if len(seq) > size_threshold]\n",
    "\n",
    "# assembled_contigs = sorted(assembled_contigs, key=len, reverse=True)\n",
    "\n",
    "# set could be the problem"
   ]
  },
  {
   "cell_type": "code",
   "execution_count": null,
   "id": "2b0abb86",
   "metadata": {},
   "outputs": [],
   "source": [
    "records = [\n",
    "    Bio.SeqRecord.SeqRecord(\n",
    "        Bio.Seq.Seq(contig), id=f\"contig_{idx+1}\", description=f\"length: {len(contig)}\"\n",
    "    )\n",
    "    for idx, contig in enumerate(assembled_contigs)\n",
    "]"
   ]
  },
  {
   "cell_type": "code",
   "execution_count": null,
   "id": "f3f681f1",
   "metadata": {},
   "outputs": [],
   "source": [
    "Bio.SeqIO.write(\n",
    "    records,\n",
    "    f\"{combination_folder_out}/contigs/{ass_method}_contig_{conf}_{run}.fasta\",\n",
    "    \"fasta\",\n",
    ")"
   ]
  },
  {
   "cell_type": "code",
   "execution_count": 30,
   "id": "181b8eb6",
   "metadata": {},
   "outputs": [],
   "source": [
    "mapped_contigs = map.process_protein_contigs_scaffold(\n",
    "    assembled_contigs, protein_norm, max_mismatches, min_identity\n",
    ")"
   ]
  },
  {
   "cell_type": "code",
   "execution_count": 31,
   "id": "69b6aeae",
   "metadata": {},
   "outputs": [],
   "source": [
    "df_contigs_mapped = map.create_dataframe_from_mapped_sequences(data=mapped_contigs)"
   ]
  },
  {
   "cell_type": "code",
   "execution_count": 32,
   "id": "e7a11b56",
   "metadata": {},
   "outputs": [
    {
     "data": {
      "text/plain": [
       "{'ass_method': 'dbg',\n",
       " 'conf': 0.8,\n",
       " 'kmer_size': 7,\n",
       " 'min_overlap': 3,\n",
       " 'min_identity': 0.8,\n",
       " 'max_mismatches': 20,\n",
       " 'size_threshold': 20,\n",
       " 'reference_start': 0,\n",
       " 'reference_end': 608,\n",
       " 'total_sequences': 278,\n",
       " 'average_length': 29.194244604316548,\n",
       " 'min_length': 22,\n",
       " 'max_length': 51,\n",
       " 'coverage': 0.662828947368421,\n",
       " 'mean_identity': 0.9023056708308186,\n",
       " 'median_identity': 0.9018429487179487,\n",
       " 'perfect_matches': 10,\n",
       " 'total_mismatches': 32,\n",
       " 'N50': 28,\n",
       " 'N90': 24}"
      ]
     },
     "execution_count": 32,
     "metadata": {},
     "output_type": "execute_result"
    }
   ],
   "source": [
    "comp_stat.compute_assembly_statistics(\n",
    "    df=df_contigs_mapped,\n",
    "    sequence_type=\"contigs\",\n",
    "    output_folder=f\"{combination_folder_out}/statistics\",\n",
    "    reference=protein_norm,\n",
    "    **params,\n",
    ")"
   ]
  },
  {
   "cell_type": "code",
   "execution_count": null,
   "id": "24ad4e0f",
   "metadata": {},
   "outputs": [],
   "source": [
    "map.mapping_substitutions(\n",
    "    mapped_sequences=mapped_contigs,\n",
    "    prot_seq=protein_norm,\n",
    "    title=f\"Contig mapping to reference sequence, {run}\",\n",
    "    contig_colors=get_colors_from_run(\"nanobodies\", is_scaffold=False),\n",
    "    match_color=get_colors_from_run(\"bsa\", is_scaffold=False),\n",
    "    output_file=FIGURES_DIR / f\"fig_X_{run}_substitution_map_contigs_dbg.svg\",\n",
    "    output_folder=\".\",\n",
    ")"
   ]
  },
  {
   "cell_type": "raw",
   "id": "b2419c98",
   "metadata": {
    "vscode": {
     "languageId": "raw"
    }
   },
   "source": [
    "assembled_scaffolds = dbg.scaffold_iterative(assembled_contigs, min_overlap, size_threshold)"
   ]
  },
  {
   "cell_type": "markdown",
   "id": "da367e3b",
   "metadata": {},
   "source": [
    "In case scaffold_iterative is too slow or does not work, it is recommeneded to run only the few iteration in the following raw cell"
   ]
  },
  {
   "cell_type": "code",
   "execution_count": null,
   "id": "64653e54",
   "metadata": {},
   "outputs": [],
   "source": [
    "assembled_scaffolds = dbg.create_scaffolds(assembled_contigs, min_overlap)\n",
    "\n",
    "assembled_scaffolds = list(set(assembled_scaffolds))\n",
    "\n",
    "assembled_scaffolds = sorted(assembled_scaffolds, key=len, reverse=True)\n",
    "\n",
    "assembled_scaffolds = [\n",
    "    scaffold for scaffold in assembled_scaffolds if len(scaffold) > size_threshold\n",
    "]\n",
    "\n",
    "assembled_scaffolds = dbg.merge_sequences(assembled_scaffolds)\n",
    "\n",
    "assembled_scaffolds = list(set(assembled_scaffolds))\n",
    "\n",
    "assembled_scaffolds = sorted(assembled_scaffolds, key=len, reverse=True)\n",
    "\n",
    "assembled_scaffolds = [\n",
    "    scaffold for scaffold in assembled_scaffolds if len(scaffold) > size_threshold\n",
    "]"
   ]
  },
  {
   "cell_type": "code",
   "execution_count": null,
   "id": "98a93c3e",
   "metadata": {},
   "outputs": [],
   "source": [
    "records = []\n",
    "for i, seq in enumerate(assembled_scaffolds):\n",
    "    record = Bio.SeqRecord.SeqRecord(\n",
    "        Bio.Seq.Seq(seq), id=f\"scaffold_{i+1}\", description=f\"length: {len(seq)}\"\n",
    "    )\n",
    "    records.append(record)"
   ]
  },
  {
   "cell_type": "code",
   "execution_count": null,
   "id": "a72fb26e",
   "metadata": {},
   "outputs": [],
   "source": [
    "Bio.SeqIO.write(\n",
    "    records,\n",
    "    f\"{combination_folder_out}/scaffolds/{ass_method}_scaffold_{conf}_{kmer_size}_{run}.fasta\",\n",
    "    \"fasta\",\n",
    ")"
   ]
  },
  {
   "cell_type": "code",
   "execution_count": null,
   "id": "012699cb",
   "metadata": {},
   "outputs": [],
   "source": [
    "mapped_scaffolds = map.process_protein_contigs_scaffold(\n",
    "    assembled_scaffolds, protein_norm, max_mismatches, min_identity\n",
    ")"
   ]
  },
  {
   "cell_type": "code",
   "execution_count": null,
   "id": "ac2056dd",
   "metadata": {},
   "outputs": [],
   "source": [
    "df_scaffolds_mapped = map.create_dataframe_from_mapped_sequences(data=mapped_scaffolds)"
   ]
  },
  {
   "cell_type": "code",
   "execution_count": null,
   "id": "818e48e2",
   "metadata": {},
   "outputs": [],
   "source": [
    "comp_stat.compute_assembly_statistics(\n",
    "    df=df_scaffolds_mapped,\n",
    "    sequence_type=\"scaffolds\",\n",
    "    output_folder=f\"{combination_folder_out}/statistics\",\n",
    "    reference=protein_norm,\n",
    "    **params,\n",
    ")"
   ]
  },
  {
   "cell_type": "code",
   "execution_count": null,
   "id": "ae869804",
   "metadata": {},
   "outputs": [],
   "source": [
    "map.mapping_substitutions(\n",
    "    mapped_sequences=mapped_scaffolds,\n",
    "    prot_seq=protein_norm,\n",
    "    title=f\"Scaffold mapping to reference sequence, {run} {chain}\",\n",
    "    contig_colors=get_colors_from_run(\"bsa\", is_scaffold=True),\n",
    "    match_color=get_colors_from_run(\"bsa\", is_scaffold=True),\n",
    "    output_file=f\"fig_X_{run}{chain}_substitution_map_scaffolds_dbg.svg\",\n",
    "    output_folder=FIGURES_DIR,\n",
    ")"
   ]
  },
  {
   "cell_type": "markdown",
   "id": "d2424e5e",
   "metadata": {},
   "source": [
    "### Clustering"
   ]
  },
  {
   "cell_type": "code",
   "execution_count": null,
   "id": "060a9c63",
   "metadata": {},
   "outputs": [],
   "source": [
    "scaffolds_folder_out = OUTPUTS_DIR / f\"{run}{chain}/{comb}/scaffolds\"\n",
    "print(f\"scaffolds_folder_out: {scaffolds_folder_out}\")"
   ]
  },
  {
   "cell_type": "code",
   "execution_count": null,
   "id": "00cc83e6",
   "metadata": {},
   "outputs": [],
   "source": [
    "clus.cluster_fasta_files(input_folder=scaffolds_folder_out)"
   ]
  },
  {
   "cell_type": "code",
   "execution_count": null,
   "id": "40ee2548",
   "metadata": {},
   "outputs": [],
   "source": [
    "cluster_folder_out = os.path.join(scaffolds_folder_out, \"cluster\")\n",
    "print(cluster_folder_out)"
   ]
  },
  {
   "cell_type": "code",
   "execution_count": null,
   "id": "18ae29d3",
   "metadata": {},
   "outputs": [],
   "source": [
    "cluster_tsv_folder = os.path.join(scaffolds_folder_out, \"cluster\")\n",
    "output_base_folder = os.path.join(scaffolds_folder_out, \"cluster_fasta\")\n",
    "\n",
    "for fasta_file in os.listdir(scaffolds_folder_out):\n",
    "    if fasta_file.endswith(\".fasta\"):\n",
    "        fasta_path = os.path.join(scaffolds_folder_out, fasta_file)\n",
    "        clus.process_fasta_and_clusters(\n",
    "            fasta_path, cluster_tsv_folder, output_base_folder\n",
    "        )"
   ]
  },
  {
   "cell_type": "markdown",
   "id": "27d21fff",
   "metadata": {},
   "source": [
    "### Alignment"
   ]
  },
  {
   "cell_type": "code",
   "execution_count": null,
   "id": "c4d00320",
   "metadata": {},
   "outputs": [],
   "source": [
    "cluster_fasta_folder = os.path.join(scaffolds_folder_out, \"cluster_fasta\")\n",
    "align_folder = os.path.join(scaffolds_folder_out, \"align\")\n",
    "prep.create_directory(align_folder)"
   ]
  },
  {
   "cell_type": "code",
   "execution_count": null,
   "id": "6385a52b",
   "metadata": {},
   "outputs": [],
   "source": [
    "for cluster_folder in os.listdir(cluster_fasta_folder):\n",
    "    cluster_folder_path = os.path.join(cluster_fasta_folder, cluster_folder)\n",
    "    if os.path.isdir(cluster_folder_path):\n",
    "\n",
    "        output_cluster_folder = os.path.join(align_folder, cluster_folder)\n",
    "        os.makedirs(output_cluster_folder, exist_ok=True)\n",
    "\n",
    "        for fasta_file in os.listdir(cluster_folder_path):\n",
    "            if fasta_file.endswith(\".fasta\"):\n",
    "                fasta_file_path = os.path.join(cluster_folder_path, fasta_file)\n",
    "                base_filename = os.path.splitext(fasta_file)[0]\n",
    "                output_file = os.path.join(\n",
    "                    output_cluster_folder, f\"{base_filename}_out.afa\"\n",
    "                )\n",
    "\n",
    "                align.align_or_copy_fasta(fasta_file_path, output_file)\n",
    "\n",
    "print(\"All alignment tasks completed.\")"
   ]
  },
  {
   "cell_type": "markdown",
   "id": "1c3b672a",
   "metadata": {},
   "source": [
    "### Consensus"
   ]
  },
  {
   "cell_type": "code",
   "execution_count": null,
   "id": "4cc73154",
   "metadata": {},
   "outputs": [],
   "source": [
    "consensus_folder = os.path.join(scaffolds_folder_out, \"consensus\")"
   ]
  },
  {
   "cell_type": "code",
   "execution_count": null,
   "id": "34b179a0",
   "metadata": {},
   "outputs": [],
   "source": [
    "cons.process_alignment_files(align_folder, consensus_folder)"
   ]
  },
  {
   "cell_type": "code",
   "execution_count": null,
   "id": "b0483e63",
   "metadata": {},
   "outputs": [],
   "source": [
    "all_sequences = cons.load_all_consensus_sequences(consensus_folder)"
   ]
  }
 ],
 "metadata": {
  "kernelspec": {
   "display_name": "instanexus",
   "language": "python",
   "name": "python3"
  },
  "language_info": {
   "codemirror_mode": {
    "name": "ipython",
    "version": 3
   },
   "file_extension": ".py",
   "mimetype": "text/x-python",
   "name": "python",
   "nbconvert_exporter": "python",
   "pygments_lexer": "ipython3",
   "version": "3.11.13"
  }
 },
 "nbformat": 4,
 "nbformat_minor": 5
}
