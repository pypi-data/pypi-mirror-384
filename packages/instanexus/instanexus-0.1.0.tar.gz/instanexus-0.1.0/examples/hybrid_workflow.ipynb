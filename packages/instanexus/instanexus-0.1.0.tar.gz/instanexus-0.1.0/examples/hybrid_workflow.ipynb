{
 "cells": [
  {
   "cell_type": "markdown",
   "id": "d9b66b4c",
   "metadata": {},
   "source": [
    "## Hybrid de novo protein assembly workflow\n",
    "\n",
    "The hybrid assembly workflow considers contigs obtained from 2 assembly methods: greedy and DBG."
   ]
  },
  {
   "cell_type": "code",
   "execution_count": 1,
   "id": "57ba8c25",
   "metadata": {},
   "outputs": [],
   "source": [
    "import os\n",
    "import sys\n",
    "\n",
    "script_dir = os.getcwd()\n",
    "sys.path.append(os.path.join(script_dir, \"../src\"))"
   ]
  },
  {
   "cell_type": "code",
   "execution_count": 21,
   "id": "0b9dafa8",
   "metadata": {},
   "outputs": [],
   "source": [
    "# my modules\n",
    "import dbg\n",
    "import greedy_method as greedy\n",
    "import mapping as map\n",
    "import consensus as cons\n",
    "import alignment as align\n",
    "import clustering as clus\n",
    "import preprocessing as prep\n",
    "import compute_statistics as comp_stat\n",
    "import model_peptide_selector as selector\n",
    "\n",
    "# import libraries\n",
    "from pathlib import Path\n",
    "from Bio import SeqIO\n",
    "\n",
    "import joblib\n",
    "import json\n",
    "import Bio\n",
    "import pandas as pd\n",
    "import matplotlib.pyplot as plt\n",
    "import seaborn as sns"
   ]
  },
  {
   "cell_type": "code",
   "execution_count": 3,
   "id": "8645e16f",
   "metadata": {},
   "outputs": [],
   "source": [
    "try:\n",
    "    # works if you are in a script: __file__ exists\n",
    "    BASE_DIR = Path(__file__).resolve().parents[2]\n",
    "except NameError:\n",
    "    # works if you are in a notebook: __file__ does not exist\n",
    "    BASE_DIR = Path().resolve()\n",
    "    # go up until the project folder\n",
    "    while BASE_DIR.name != \"InstaNexus\" and BASE_DIR != BASE_DIR.parent:\n",
    "        BASE_DIR = BASE_DIR.parent\n",
    "\n",
    "JSON_DIR = BASE_DIR / \"json\"\n",
    "INPUT_DIR = BASE_DIR / \"inputs\"\n",
    "FASTA_DIR = BASE_DIR / \"fasta\"\n",
    "OUTPUTS_DIR = BASE_DIR / \"outputs\"\n",
    "FIGURES_DIR = BASE_DIR / \"figures\""
   ]
  },
  {
   "cell_type": "code",
   "execution_count": 4,
   "id": "3287f4a9",
   "metadata": {},
   "outputs": [],
   "source": [
    "def get_sample_metadata(run, chain=\"\", json_path=JSON_DIR / \"sample_metadata.json\"):\n",
    "    with open(json_path, \"r\") as f:\n",
    "        all_meta = json.load(f)\n",
    "\n",
    "    if run not in all_meta:\n",
    "        raise ValueError(f\"Run '{run}' not found in metadata.\")\n",
    "\n",
    "    entries = all_meta[run]\n",
    "\n",
    "    for entry in entries:\n",
    "        if entry[\"chain\"] == chain:\n",
    "            return entry\n",
    "\n",
    "    raise ValueError(f\"No metadata found for run '{run}' with chain '{chain}'.\")"
   ]
  },
  {
   "cell_type": "code",
   "execution_count": 5,
   "id": "7e967e37",
   "metadata": {},
   "outputs": [],
   "source": [
    "def get_colors_from_run(cat, is_scaffold=False, json_path=JSON_DIR / \"colors.json\"):\n",
    "    if not os.path.exists(json_path):\n",
    "        raise FileNotFoundError(f\"Missing color file: {json_path}\")\n",
    "\n",
    "    with open(json_path, \"r\") as f:\n",
    "        colors = json.load(f)\n",
    "\n",
    "    category = cat.split(\"_\")[0].lower()\n",
    "    key = \"scaffold\" if is_scaffold else \"contig\"\n",
    "\n",
    "    try:\n",
    "        return colors[category][key]\n",
    "    except KeyError:\n",
    "        raise ValueError(f\"Color not defined for category '{category}' and key '{key}'\")"
   ]
  },
  {
   "cell_type": "code",
   "execution_count": 6,
   "id": "ccaf9cbc",
   "metadata": {},
   "outputs": [],
   "source": [
    "def get_combination_name(\n",
    "    ass_method,\n",
    "    conf,\n",
    "    kmer_size,\n",
    "    size_threshold,\n",
    "    min_overlap\n",
    "):\n",
    "    if ass_method in (\"dbg\", \"hybrid\"):\n",
    "        return f\"comb_{ass_method}_c{conf}_ks{kmer_size}_ts{size_threshold}_mo{min_overlap}\"\n",
    "    \n",
    "    elif ass_method == \"greedy\":\n",
    "        return f\"comb_{ass_method}_c{conf}_ts{size_threshold}_mo{min_overlap}\""
   ]
  },
  {
   "cell_type": "code",
   "execution_count": 7,
   "id": "de65b29e",
   "metadata": {},
   "outputs": [
    {
     "name": "stdout",
     "output_type": "stream",
     "text": [
      "light\n",
      "['Thermo', 'Papain', 'Chemo', 'Trypsin', 'Elastase', 'ProtK', 'GluC']\n"
     ]
    }
   ],
   "source": [
    "run = \"ma1\"\n",
    "chain = \"light\"\n",
    "\n",
    "meta = get_sample_metadata(run, chain)\n",
    "\n",
    "protein = meta[\"protein\"]\n",
    "chain = meta[\"chain\"]\n",
    "proteases = meta[\"proteases\"]\n",
    "\n",
    "print(chain)\n",
    "print(proteases)"
   ]
  },
  {
   "cell_type": "code",
   "execution_count": 8,
   "id": "bf1b0f45",
   "metadata": {},
   "outputs": [],
   "source": [
    "ass_method = \"hybrid\"\n",
    "kmer_size = 6\n",
    "conf = 0.95\n",
    "size_threshold = 0\n",
    "min_overlap = 2"
   ]
  },
  {
   "cell_type": "code",
   "execution_count": 9,
   "id": "efe91ca4",
   "metadata": {},
   "outputs": [
    {
     "name": "stdout",
     "output_type": "stream",
     "text": [
      "comb_hybrid_c0.95_ks6_ts0_mo2\n"
     ]
    }
   ],
   "source": [
    "comb = get_combination_name(\n",
    "    ass_method,\n",
    "    conf,\n",
    "    kmer_size,\n",
    "    size_threshold,\n",
    "    min_overlap)\n",
    "\n",
    "print(comb)"
   ]
  },
  {
   "cell_type": "code",
   "execution_count": 10,
   "id": "3461c687",
   "metadata": {},
   "outputs": [],
   "source": [
    "params = {\n",
    "    \"ass_method\": ass_method,\n",
    "    \"conf\": conf,\n",
    "    \"size_threshold\": size_threshold,\n",
    "    \"min_overlap\": min_overlap\n",
    "}"
   ]
  },
  {
   "cell_type": "code",
   "execution_count": 11,
   "id": "02a6bcdd",
   "metadata": {},
   "outputs": [],
   "source": [
    "folder_outputs = OUTPUTS_DIR / f\"{run}{chain}\"\n",
    "\n",
    "prep.create_directory(folder_outputs)\n",
    "\n",
    "combination_folder_out = os.path.join(\n",
    "    folder_outputs,\n",
    "    f\"comb_{ass_method}_c{conf}_ks{kmer_size}_ts{size_threshold}_mo{min_overlap}\",\n",
    ")\n",
    "\n",
    "prep.create_subdirectories_outputs(combination_folder_out)"
   ]
  },
  {
   "cell_type": "markdown",
   "id": "cea5b8cd",
   "metadata": {},
   "source": [
    "### Data cleaning"
   ]
  },
  {
   "cell_type": "code",
   "execution_count": 12,
   "id": "88371e65",
   "metadata": {},
   "outputs": [],
   "source": [
    "protein_norm = prep.normalize_sequence(protein)"
   ]
  },
  {
   "cell_type": "code",
   "execution_count": 13,
   "id": "44d02d5d",
   "metadata": {},
   "outputs": [
    {
     "data": {
      "text/html": [
       "<div>\n",
       "<style scoped>\n",
       "    .dataframe tbody tr th:only-of-type {\n",
       "        vertical-align: middle;\n",
       "    }\n",
       "\n",
       "    .dataframe tbody tr th {\n",
       "        vertical-align: top;\n",
       "    }\n",
       "\n",
       "    .dataframe thead th {\n",
       "        text-align: right;\n",
       "    }\n",
       "</style>\n",
       "<table border=\"1\" class=\"dataframe\">\n",
       "  <thead>\n",
       "    <tr style=\"text-align: right;\">\n",
       "      <th></th>\n",
       "      <th>experiment_name</th>\n",
       "      <th>scan_number</th>\n",
       "      <th>preds</th>\n",
       "      <th>log_probs</th>\n",
       "      <th>protease</th>\n",
       "    </tr>\n",
       "  </thead>\n",
       "  <tbody>\n",
       "    <tr>\n",
       "      <th>0</th>\n",
       "      <td>20240628_FJ_Jubba_MP_Easy15_35min_1835_DDA_The...</td>\n",
       "      <td>49</td>\n",
       "      <td>VLLPLSLLR</td>\n",
       "      <td>-11.921587</td>\n",
       "      <td>Thermo</td>\n",
       "    </tr>\n",
       "    <tr>\n",
       "      <th>1</th>\n",
       "      <td>20240628_FJ_Jubba_MP_Easy15_35min_1835_DDA_The...</td>\n",
       "      <td>52</td>\n",
       "      <td>KLLLLKKK</td>\n",
       "      <td>-23.506060</td>\n",
       "      <td>Thermo</td>\n",
       "    </tr>\n",
       "    <tr>\n",
       "      <th>2</th>\n",
       "      <td>20240628_FJ_Jubba_MP_Easy15_35min_1835_DDA_The...</td>\n",
       "      <td>56</td>\n",
       "      <td>NaN</td>\n",
       "      <td>-1.000000</td>\n",
       "      <td>Thermo</td>\n",
       "    </tr>\n",
       "    <tr>\n",
       "      <th>3</th>\n",
       "      <td>20240628_FJ_Jubba_MP_Easy15_35min_1835_DDA_The...</td>\n",
       "      <td>57</td>\n",
       "      <td>VLVLSDTNSDSDDDK</td>\n",
       "      <td>-24.000002</td>\n",
       "      <td>Thermo</td>\n",
       "    </tr>\n",
       "    <tr>\n",
       "      <th>4</th>\n",
       "      <td>20240628_FJ_Jubba_MP_Easy15_35min_1835_DDA_The...</td>\n",
       "      <td>72</td>\n",
       "      <td>LPQLLLLGR</td>\n",
       "      <td>-10.374332</td>\n",
       "      <td>Thermo</td>\n",
       "    </tr>\n",
       "    <tr>\n",
       "      <th>5</th>\n",
       "      <td>20240628_FJ_Jubba_MP_Easy15_35min_1835_DDA_The...</td>\n",
       "      <td>75</td>\n",
       "      <td>NaN</td>\n",
       "      <td>-1.000000</td>\n",
       "      <td>Thermo</td>\n",
       "    </tr>\n",
       "    <tr>\n",
       "      <th>6</th>\n",
       "      <td>20240628_FJ_Jubba_MP_Easy15_35min_1835_DDA_The...</td>\n",
       "      <td>86</td>\n",
       "      <td>PSPEEDEEEEQK</td>\n",
       "      <td>-14.129684</td>\n",
       "      <td>Thermo</td>\n",
       "    </tr>\n",
       "    <tr>\n",
       "      <th>7</th>\n",
       "      <td>20240628_FJ_Jubba_MP_Easy15_35min_1835_DDA_The...</td>\n",
       "      <td>89</td>\n",
       "      <td>CMDCDDDEDEDSK</td>\n",
       "      <td>-24.807180</td>\n",
       "      <td>Thermo</td>\n",
       "    </tr>\n",
       "    <tr>\n",
       "      <th>8</th>\n",
       "      <td>20240628_FJ_Jubba_MP_Easy15_35min_1835_DDA_The...</td>\n",
       "      <td>110</td>\n",
       "      <td>LLVPLLAPK</td>\n",
       "      <td>-10.222238</td>\n",
       "      <td>Thermo</td>\n",
       "    </tr>\n",
       "    <tr>\n",
       "      <th>9</th>\n",
       "      <td>20240628_FJ_Jubba_MP_Easy15_35min_1835_DDA_The...</td>\n",
       "      <td>148</td>\n",
       "      <td>HCCEGGGGGGGGGGGK</td>\n",
       "      <td>-28.656862</td>\n",
       "      <td>Thermo</td>\n",
       "    </tr>\n",
       "  </tbody>\n",
       "</table>\n",
       "</div>"
      ],
      "text/plain": [
       "                                     experiment_name  scan_number  \\\n",
       "0  20240628_FJ_Jubba_MP_Easy15_35min_1835_DDA_The...           49   \n",
       "1  20240628_FJ_Jubba_MP_Easy15_35min_1835_DDA_The...           52   \n",
       "2  20240628_FJ_Jubba_MP_Easy15_35min_1835_DDA_The...           56   \n",
       "3  20240628_FJ_Jubba_MP_Easy15_35min_1835_DDA_The...           57   \n",
       "4  20240628_FJ_Jubba_MP_Easy15_35min_1835_DDA_The...           72   \n",
       "5  20240628_FJ_Jubba_MP_Easy15_35min_1835_DDA_The...           75   \n",
       "6  20240628_FJ_Jubba_MP_Easy15_35min_1835_DDA_The...           86   \n",
       "7  20240628_FJ_Jubba_MP_Easy15_35min_1835_DDA_The...           89   \n",
       "8  20240628_FJ_Jubba_MP_Easy15_35min_1835_DDA_The...          110   \n",
       "9  20240628_FJ_Jubba_MP_Easy15_35min_1835_DDA_The...          148   \n",
       "\n",
       "              preds  log_probs protease  \n",
       "0         VLLPLSLLR -11.921587   Thermo  \n",
       "1          KLLLLKKK -23.506060   Thermo  \n",
       "2               NaN  -1.000000   Thermo  \n",
       "3   VLVLSDTNSDSDDDK -24.000002   Thermo  \n",
       "4         LPQLLLLGR -10.374332   Thermo  \n",
       "5               NaN  -1.000000   Thermo  \n",
       "6      PSPEEDEEEEQK -14.129684   Thermo  \n",
       "7     CMDCDDDEDEDSK -24.807180   Thermo  \n",
       "8         LLVPLLAPK -10.222238   Thermo  \n",
       "9  HCCEGGGGGGGGGGGK -28.656862   Thermo  "
      ]
     },
     "execution_count": 13,
     "metadata": {},
     "output_type": "execute_result"
    }
   ],
   "source": [
    "df = pd.read_csv(INPUT_DIR / f\"{run}.csv\")\n",
    "\n",
    "df[\"protease\"] = df[\"experiment_name\"].apply(\n",
    "    lambda name: prep.extract_protease(name, proteases)\n",
    ")\n",
    "\n",
    "df.head(10)"
   ]
  },
  {
   "cell_type": "code",
   "execution_count": 14,
   "id": "8ac3a6b1",
   "metadata": {},
   "outputs": [
    {
     "data": {
      "text/plain": [
       "array(['Thermo', 'Papain', 'Chemo', 'Trypsin', 'Elastase', 'ProtK',\n",
       "       'GluC'], dtype=object)"
      ]
     },
     "execution_count": 14,
     "metadata": {},
     "output_type": "execute_result"
    }
   ],
   "source": [
    "df.protease.unique()"
   ]
  },
  {
   "cell_type": "code",
   "execution_count": 15,
   "id": "01880cb8",
   "metadata": {},
   "outputs": [],
   "source": [
    "df = prep.clean_dataframe(df)"
   ]
  },
  {
   "cell_type": "code",
   "execution_count": 16,
   "id": "a1d96795",
   "metadata": {},
   "outputs": [
    {
     "data": {
      "text/html": [
       "<div>\n",
       "<style scoped>\n",
       "    .dataframe tbody tr th:only-of-type {\n",
       "        vertical-align: middle;\n",
       "    }\n",
       "\n",
       "    .dataframe tbody tr th {\n",
       "        vertical-align: top;\n",
       "    }\n",
       "\n",
       "    .dataframe thead th {\n",
       "        text-align: right;\n",
       "    }\n",
       "</style>\n",
       "<table border=\"1\" class=\"dataframe\">\n",
       "  <thead>\n",
       "    <tr style=\"text-align: right;\">\n",
       "      <th></th>\n",
       "      <th>experiment_name</th>\n",
       "      <th>scan_number</th>\n",
       "      <th>preds</th>\n",
       "      <th>log_probs</th>\n",
       "      <th>protease</th>\n",
       "      <th>conf</th>\n",
       "    </tr>\n",
       "  </thead>\n",
       "  <tbody>\n",
       "    <tr>\n",
       "      <th>19671</th>\n",
       "      <td>20240628_FJ_Jubba_MP_Easy15_35min_1835_DDA_Pap...</td>\n",
       "      <td>10553</td>\n",
       "      <td>DYFPEPVT</td>\n",
       "      <td>-0.000135</td>\n",
       "      <td>Papain</td>\n",
       "      <td>0.999865</td>\n",
       "    </tr>\n",
       "    <tr>\n",
       "      <th>12570</th>\n",
       "      <td>20240628_FJ_Jubba_MP_Easy15_35min_1835_DDA_Pap...</td>\n",
       "      <td>2359</td>\n",
       "      <td>LFPPKPKD</td>\n",
       "      <td>-0.000173</td>\n",
       "      <td>Papain</td>\n",
       "      <td>0.999827</td>\n",
       "    </tr>\n",
       "    <tr>\n",
       "      <th>12531</th>\n",
       "      <td>20240628_FJ_Jubba_MP_Easy15_35min_1835_DDA_Pap...</td>\n",
       "      <td>2315</td>\n",
       "      <td>CSVMHEALH</td>\n",
       "      <td>-0.000177</td>\n",
       "      <td>Papain</td>\n",
       "      <td>0.999823</td>\n",
       "    </tr>\n",
       "    <tr>\n",
       "      <th>27565</th>\n",
       "      <td>20240628_FJ_Jubba_MP_Easy15_35min_1835_DDA_Che...</td>\n",
       "      <td>5996</td>\n",
       "      <td>LFPPKPKDTLY</td>\n",
       "      <td>-0.000201</td>\n",
       "      <td>Chemo</td>\n",
       "      <td>0.999799</td>\n",
       "    </tr>\n",
       "    <tr>\n",
       "      <th>4364</th>\n",
       "      <td>20240628_FJ_Jubba_MP_Easy15_35min_1835_DDA_The...</td>\n",
       "      <td>6010</td>\n",
       "      <td>LFPPKPKDTLY</td>\n",
       "      <td>-0.000211</td>\n",
       "      <td>Thermo</td>\n",
       "      <td>0.999789</td>\n",
       "    </tr>\n",
       "  </tbody>\n",
       "</table>\n",
       "</div>"
      ],
      "text/plain": [
       "                                         experiment_name  scan_number  \\\n",
       "19671  20240628_FJ_Jubba_MP_Easy15_35min_1835_DDA_Pap...        10553   \n",
       "12570  20240628_FJ_Jubba_MP_Easy15_35min_1835_DDA_Pap...         2359   \n",
       "12531  20240628_FJ_Jubba_MP_Easy15_35min_1835_DDA_Pap...         2315   \n",
       "27565  20240628_FJ_Jubba_MP_Easy15_35min_1835_DDA_Che...         5996   \n",
       "4364   20240628_FJ_Jubba_MP_Easy15_35min_1835_DDA_The...         6010   \n",
       "\n",
       "             preds  log_probs protease      conf  \n",
       "19671     DYFPEPVT  -0.000135   Papain  0.999865  \n",
       "12570     LFPPKPKD  -0.000173   Papain  0.999827  \n",
       "12531    CSVMHEALH  -0.000177   Papain  0.999823  \n",
       "27565  LFPPKPKDTLY  -0.000201    Chemo  0.999799  \n",
       "4364   LFPPKPKDTLY  -0.000211   Thermo  0.999789  "
      ]
     },
     "execution_count": 16,
     "metadata": {},
     "output_type": "execute_result"
    }
   ],
   "source": [
    "df.head()"
   ]
  },
  {
   "cell_type": "code",
   "execution_count": 17,
   "id": "4d6f9a9e",
   "metadata": {},
   "outputs": [],
   "source": [
    "df[\"cleaned_preds\"] = df[\"preds\"].apply(prep.remove_modifications)"
   ]
  },
  {
   "cell_type": "code",
   "execution_count": 19,
   "id": "509283bc",
   "metadata": {},
   "outputs": [
    {
     "data": {
      "text/html": [
       "<div>\n",
       "<style scoped>\n",
       "    .dataframe tbody tr th:only-of-type {\n",
       "        vertical-align: middle;\n",
       "    }\n",
       "\n",
       "    .dataframe tbody tr th {\n",
       "        vertical-align: top;\n",
       "    }\n",
       "\n",
       "    .dataframe thead th {\n",
       "        text-align: right;\n",
       "    }\n",
       "</style>\n",
       "<table border=\"1\" class=\"dataframe\">\n",
       "  <thead>\n",
       "    <tr style=\"text-align: right;\">\n",
       "      <th></th>\n",
       "      <th>experiment_name</th>\n",
       "      <th>scan_number</th>\n",
       "      <th>preds</th>\n",
       "      <th>log_probs</th>\n",
       "      <th>protease</th>\n",
       "      <th>conf</th>\n",
       "      <th>cleaned_preds</th>\n",
       "    </tr>\n",
       "  </thead>\n",
       "  <tbody>\n",
       "    <tr>\n",
       "      <th>19671</th>\n",
       "      <td>20240628_FJ_Jubba_MP_Easy15_35min_1835_DDA_Pap...</td>\n",
       "      <td>10553</td>\n",
       "      <td>DYFPEPVT</td>\n",
       "      <td>-0.000135</td>\n",
       "      <td>Papain</td>\n",
       "      <td>0.999865</td>\n",
       "      <td>DYFPEPVT</td>\n",
       "    </tr>\n",
       "    <tr>\n",
       "      <th>12570</th>\n",
       "      <td>20240628_FJ_Jubba_MP_Easy15_35min_1835_DDA_Pap...</td>\n",
       "      <td>2359</td>\n",
       "      <td>LFPPKPKD</td>\n",
       "      <td>-0.000173</td>\n",
       "      <td>Papain</td>\n",
       "      <td>0.999827</td>\n",
       "      <td>LFPPKPKD</td>\n",
       "    </tr>\n",
       "    <tr>\n",
       "      <th>12531</th>\n",
       "      <td>20240628_FJ_Jubba_MP_Easy15_35min_1835_DDA_Pap...</td>\n",
       "      <td>2315</td>\n",
       "      <td>CSVMHEALH</td>\n",
       "      <td>-0.000177</td>\n",
       "      <td>Papain</td>\n",
       "      <td>0.999823</td>\n",
       "      <td>CSVMHEALH</td>\n",
       "    </tr>\n",
       "    <tr>\n",
       "      <th>27565</th>\n",
       "      <td>20240628_FJ_Jubba_MP_Easy15_35min_1835_DDA_Che...</td>\n",
       "      <td>5996</td>\n",
       "      <td>LFPPKPKDTLY</td>\n",
       "      <td>-0.000201</td>\n",
       "      <td>Chemo</td>\n",
       "      <td>0.999799</td>\n",
       "      <td>LFPPKPKDTLY</td>\n",
       "    </tr>\n",
       "    <tr>\n",
       "      <th>4364</th>\n",
       "      <td>20240628_FJ_Jubba_MP_Easy15_35min_1835_DDA_The...</td>\n",
       "      <td>6010</td>\n",
       "      <td>LFPPKPKDTLY</td>\n",
       "      <td>-0.000211</td>\n",
       "      <td>Thermo</td>\n",
       "      <td>0.999789</td>\n",
       "      <td>LFPPKPKDTLY</td>\n",
       "    </tr>\n",
       "    <tr>\n",
       "      <th>60271</th>\n",
       "      <td>20240628_FJ_Jubba_MP_Easy15_35min_1835_DDA_Pro...</td>\n",
       "      <td>4915</td>\n",
       "      <td>CQASQDLSNY</td>\n",
       "      <td>-0.000217</td>\n",
       "      <td>ProtK</td>\n",
       "      <td>0.999783</td>\n",
       "      <td>CQASQDLSNY</td>\n",
       "    </tr>\n",
       "    <tr>\n",
       "      <th>4984</th>\n",
       "      <td>20240628_FJ_Jubba_MP_Easy15_35min_1835_DDA_The...</td>\n",
       "      <td>6741</td>\n",
       "      <td>LFPPKPKDTLY</td>\n",
       "      <td>-0.000226</td>\n",
       "      <td>Thermo</td>\n",
       "      <td>0.999774</td>\n",
       "      <td>LFPPKPKDTLY</td>\n",
       "    </tr>\n",
       "    <tr>\n",
       "      <th>29948</th>\n",
       "      <td>20240628_FJ_Jubba_MP_Easy15_35min_1835_DDA_Che...</td>\n",
       "      <td>8931</td>\n",
       "      <td>NWYVDGVEVH</td>\n",
       "      <td>-0.000230</td>\n",
       "      <td>Chemo</td>\n",
       "      <td>0.999770</td>\n",
       "      <td>NWYVDGVEVH</td>\n",
       "    </tr>\n",
       "    <tr>\n",
       "      <th>28077</th>\n",
       "      <td>20240628_FJ_Jubba_MP_Easy15_35min_1835_DDA_Che...</td>\n",
       "      <td>6645</td>\n",
       "      <td>LFPPKPKDTLY</td>\n",
       "      <td>-0.000235</td>\n",
       "      <td>Chemo</td>\n",
       "      <td>0.999765</td>\n",
       "      <td>LFPPKPKDTLY</td>\n",
       "    </tr>\n",
       "    <tr>\n",
       "      <th>13649</th>\n",
       "      <td>20240628_FJ_Jubba_MP_Easy15_35min_1835_DDA_Pap...</td>\n",
       "      <td>3595</td>\n",
       "      <td>NKALPAPLEKTLSK</td>\n",
       "      <td>-0.000240</td>\n",
       "      <td>Papain</td>\n",
       "      <td>0.999760</td>\n",
       "      <td>NKALPAPLEKTLSK</td>\n",
       "    </tr>\n",
       "  </tbody>\n",
       "</table>\n",
       "</div>"
      ],
      "text/plain": [
       "                                         experiment_name  scan_number  \\\n",
       "19671  20240628_FJ_Jubba_MP_Easy15_35min_1835_DDA_Pap...        10553   \n",
       "12570  20240628_FJ_Jubba_MP_Easy15_35min_1835_DDA_Pap...         2359   \n",
       "12531  20240628_FJ_Jubba_MP_Easy15_35min_1835_DDA_Pap...         2315   \n",
       "27565  20240628_FJ_Jubba_MP_Easy15_35min_1835_DDA_Che...         5996   \n",
       "4364   20240628_FJ_Jubba_MP_Easy15_35min_1835_DDA_The...         6010   \n",
       "60271  20240628_FJ_Jubba_MP_Easy15_35min_1835_DDA_Pro...         4915   \n",
       "4984   20240628_FJ_Jubba_MP_Easy15_35min_1835_DDA_The...         6741   \n",
       "29948  20240628_FJ_Jubba_MP_Easy15_35min_1835_DDA_Che...         8931   \n",
       "28077  20240628_FJ_Jubba_MP_Easy15_35min_1835_DDA_Che...         6645   \n",
       "13649  20240628_FJ_Jubba_MP_Easy15_35min_1835_DDA_Pap...         3595   \n",
       "\n",
       "                preds  log_probs protease      conf   cleaned_preds  \n",
       "19671        DYFPEPVT  -0.000135   Papain  0.999865        DYFPEPVT  \n",
       "12570        LFPPKPKD  -0.000173   Papain  0.999827        LFPPKPKD  \n",
       "12531       CSVMHEALH  -0.000177   Papain  0.999823       CSVMHEALH  \n",
       "27565     LFPPKPKDTLY  -0.000201    Chemo  0.999799     LFPPKPKDTLY  \n",
       "4364      LFPPKPKDTLY  -0.000211   Thermo  0.999789     LFPPKPKDTLY  \n",
       "60271      CQASQDLSNY  -0.000217    ProtK  0.999783      CQASQDLSNY  \n",
       "4984      LFPPKPKDTLY  -0.000226   Thermo  0.999774     LFPPKPKDTLY  \n",
       "29948      NWYVDGVEVH  -0.000230    Chemo  0.999770      NWYVDGVEVH  \n",
       "28077     LFPPKPKDTLY  -0.000235    Chemo  0.999765     LFPPKPKDTLY  \n",
       "13649  NKALPAPLEKTLSK  -0.000240   Papain  0.999760  NKALPAPLEKTLSK  "
      ]
     },
     "execution_count": 19,
     "metadata": {},
     "output_type": "execute_result"
    }
   ],
   "source": [
    "df.head(10)"
   ]
  },
  {
   "cell_type": "code",
   "execution_count": 20,
   "id": "2ac871a5",
   "metadata": {},
   "outputs": [
    {
     "data": {
      "text/plain": [
       "(71308, 7)"
      ]
     },
     "execution_count": 20,
     "metadata": {},
     "output_type": "execute_result"
    }
   ],
   "source": [
    "df.shape"
   ]
  },
  {
   "cell_type": "code",
   "execution_count": 22,
   "id": "1945e3e8",
   "metadata": {},
   "outputs": [],
   "source": [
    "def filter_contaminants_df(df, seq_col, run, contaminants_fasta):\n",
    "\n",
    "    contam_records = []\n",
    "    for record in SeqIO.parse(contaminants_fasta, \"fasta\"):\n",
    "        if run == \"bsa\" and \"Bovine serum albumin precursor\" in record.description:\n",
    "            continue\n",
    "        contam_records.append(str(record.seq))\n",
    "\n",
    "    mask = ~df[seq_col].apply(\n",
    "        lambda seq: any(seq in contam_seq for contam_seq in contam_records)\n",
    "    )\n",
    "\n",
    "    filtered_df = df[mask].copy()\n",
    "    removed_count = (~mask).sum()\n",
    "\n",
    "    print(f\"Removed {removed_count} contaminant sequences, {len(filtered_df)} remaining.\")\n",
    "    return filtered_df"
   ]
  },
  {
   "cell_type": "code",
   "execution_count": 23,
   "id": "329a7933",
   "metadata": {},
   "outputs": [
    {
     "name": "stdout",
     "output_type": "stream",
     "text": [
      "Removed 276 contaminant sequences, 71032 remaining.\n"
     ]
    }
   ],
   "source": [
    "df = filter_contaminants_df(df, \"cleaned_preds\", run, FASTA_DIR / \"contaminants.fasta\")"
   ]
  },
  {
   "cell_type": "code",
   "execution_count": 26,
   "id": "a1aab00d",
   "metadata": {},
   "outputs": [],
   "source": [
    "df.reset_index(drop=True, inplace=True)"
   ]
  },
  {
   "cell_type": "code",
   "execution_count": 28,
   "id": "aac0d21f",
   "metadata": {},
   "outputs": [
    {
     "data": {
      "text/html": [
       "<div>\n",
       "<style scoped>\n",
       "    .dataframe tbody tr th:only-of-type {\n",
       "        vertical-align: middle;\n",
       "    }\n",
       "\n",
       "    .dataframe tbody tr th {\n",
       "        vertical-align: top;\n",
       "    }\n",
       "\n",
       "    .dataframe thead th {\n",
       "        text-align: right;\n",
       "    }\n",
       "</style>\n",
       "<table border=\"1\" class=\"dataframe\">\n",
       "  <thead>\n",
       "    <tr style=\"text-align: right;\">\n",
       "      <th></th>\n",
       "      <th>experiment_name</th>\n",
       "      <th>scan_number</th>\n",
       "      <th>preds</th>\n",
       "      <th>log_probs</th>\n",
       "      <th>protease</th>\n",
       "      <th>conf</th>\n",
       "      <th>cleaned_preds</th>\n",
       "    </tr>\n",
       "  </thead>\n",
       "  <tbody>\n",
       "    <tr>\n",
       "      <th>0</th>\n",
       "      <td>20240628_FJ_Jubba_MP_Easy15_35min_1835_DDA_Pap...</td>\n",
       "      <td>10553</td>\n",
       "      <td>DYFPEPVT</td>\n",
       "      <td>-0.000135</td>\n",
       "      <td>Papain</td>\n",
       "      <td>0.999865</td>\n",
       "      <td>DYFPEPVT</td>\n",
       "    </tr>\n",
       "    <tr>\n",
       "      <th>1</th>\n",
       "      <td>20240628_FJ_Jubba_MP_Easy15_35min_1835_DDA_Pap...</td>\n",
       "      <td>2359</td>\n",
       "      <td>LFPPKPKD</td>\n",
       "      <td>-0.000173</td>\n",
       "      <td>Papain</td>\n",
       "      <td>0.999827</td>\n",
       "      <td>LFPPKPKD</td>\n",
       "    </tr>\n",
       "    <tr>\n",
       "      <th>2</th>\n",
       "      <td>20240628_FJ_Jubba_MP_Easy15_35min_1835_DDA_Pap...</td>\n",
       "      <td>2315</td>\n",
       "      <td>CSVMHEALH</td>\n",
       "      <td>-0.000177</td>\n",
       "      <td>Papain</td>\n",
       "      <td>0.999823</td>\n",
       "      <td>CSVMHEALH</td>\n",
       "    </tr>\n",
       "    <tr>\n",
       "      <th>3</th>\n",
       "      <td>20240628_FJ_Jubba_MP_Easy15_35min_1835_DDA_Che...</td>\n",
       "      <td>5996</td>\n",
       "      <td>LFPPKPKDTLY</td>\n",
       "      <td>-0.000201</td>\n",
       "      <td>Chemo</td>\n",
       "      <td>0.999799</td>\n",
       "      <td>LFPPKPKDTLY</td>\n",
       "    </tr>\n",
       "    <tr>\n",
       "      <th>4</th>\n",
       "      <td>20240628_FJ_Jubba_MP_Easy15_35min_1835_DDA_The...</td>\n",
       "      <td>6010</td>\n",
       "      <td>LFPPKPKDTLY</td>\n",
       "      <td>-0.000211</td>\n",
       "      <td>Thermo</td>\n",
       "      <td>0.999789</td>\n",
       "      <td>LFPPKPKDTLY</td>\n",
       "    </tr>\n",
       "  </tbody>\n",
       "</table>\n",
       "</div>"
      ],
      "text/plain": [
       "                                     experiment_name  scan_number  \\\n",
       "0  20240628_FJ_Jubba_MP_Easy15_35min_1835_DDA_Pap...        10553   \n",
       "1  20240628_FJ_Jubba_MP_Easy15_35min_1835_DDA_Pap...         2359   \n",
       "2  20240628_FJ_Jubba_MP_Easy15_35min_1835_DDA_Pap...         2315   \n",
       "3  20240628_FJ_Jubba_MP_Easy15_35min_1835_DDA_Che...         5996   \n",
       "4  20240628_FJ_Jubba_MP_Easy15_35min_1835_DDA_The...         6010   \n",
       "\n",
       "         preds  log_probs protease      conf cleaned_preds  \n",
       "0     DYFPEPVT  -0.000135   Papain  0.999865      DYFPEPVT  \n",
       "1     LFPPKPKD  -0.000173   Papain  0.999827      LFPPKPKD  \n",
       "2    CSVMHEALH  -0.000177   Papain  0.999823     CSVMHEALH  \n",
       "3  LFPPKPKDTLY  -0.000201    Chemo  0.999799   LFPPKPKDTLY  \n",
       "4  LFPPKPKDTLY  -0.000211   Thermo  0.999789   LFPPKPKDTLY  "
      ]
     },
     "execution_count": 28,
     "metadata": {},
     "output_type": "execute_result"
    }
   ],
   "source": [
    "df.head()"
   ]
  },
  {
   "cell_type": "markdown",
   "id": "42ca0cf9",
   "metadata": {},
   "source": [
    "### Comments\n",
    "\n",
    "A reference free approach assume you do not have any reference protein.\\\n",
    "In this scenario it is not possible to know when the PSM coverage is 100%.\\\n",
    "Having high PSM coverage would allow a graph based approach to work properly.\\ "
   ]
  },
  {
   "cell_type": "code",
   "execution_count": 29,
   "id": "52b6e813",
   "metadata": {},
   "outputs": [
    {
     "name": "stdout",
     "output_type": "stream",
     "text": [
      "0.95\n"
     ]
    }
   ],
   "source": [
    "print(conf)\n",
    "\n",
    "df = df[df[\"conf\"] > conf]"
   ]
  },
  {
   "cell_type": "code",
   "execution_count": 33,
   "id": "379b2d65",
   "metadata": {},
   "outputs": [],
   "source": [
    "filtered_preds = df[\"cleaned_preds\"].tolist()"
   ]
  },
  {
   "cell_type": "code",
   "execution_count": 34,
   "id": "90da2497",
   "metadata": {},
   "outputs": [
    {
     "data": {
      "text/plain": [
       "['DYFPEPVT', 'LFPPKPKD', 'CSVMHEALH', 'LFPPKPKDTLY', 'LFPPKPKDTLY']"
      ]
     },
     "execution_count": 34,
     "metadata": {},
     "output_type": "execute_result"
    }
   ],
   "source": [
    "filtered_preds[:5]"
   ]
  },
  {
   "cell_type": "markdown",
   "id": "22992f6f",
   "metadata": {},
   "source": [
    "### Hybrid assembly"
   ]
  },
  {
   "cell_type": "code",
   "execution_count": 35,
   "id": "5af84e51",
   "metadata": {},
   "outputs": [
    {
     "name": "stderr",
     "output_type": "stream",
     "text": [
      "Finding overlaps: 1654it [00:03, 481.01it/s]\n",
      "Finding overlaps: 1402it [00:02, 550.71it/s]\n",
      "Finding overlaps: 1226it [00:01, 619.45it/s]\n",
      "Finding overlaps: 1084it [00:01, 696.13it/s]\n",
      "Finding overlaps: 967it [00:01, 773.77it/s]\n",
      "Finding overlaps: 879it [00:01, 863.97it/s]\n",
      "Finding overlaps: 810it [00:00, 928.87it/s]\n",
      "Finding overlaps: 748it [00:00, 997.25it/s] \n",
      "Finding overlaps: 698it [00:00, 1060.10it/s]\n",
      "Finding overlaps: 655it [00:00, 1127.22it/s]\n",
      "Finding overlaps: 620it [00:00, 1165.81it/s]\n",
      "Finding overlaps: 592it [00:00, 1238.30it/s]\n",
      "Finding overlaps: 570it [00:00, 1257.30it/s]\n",
      "Finding overlaps: 556it [00:00, 1278.16it/s]\n",
      "Finding overlaps: 545it [00:00, 1304.58it/s]\n",
      "Finding overlaps: 536it [00:00, 1308.69it/s]\n",
      "Finding overlaps: 530it [00:00, 1339.45it/s]\n",
      "Finding overlaps: 524it [00:00, 1352.94it/s]\n",
      "Finding overlaps: 518it [00:00, 1356.83it/s]\n",
      "Finding overlaps: 514it [00:00, 1353.87it/s]\n",
      "Finding overlaps: 511it [00:00, 1322.89it/s]\n",
      "Finding overlaps: 510it [00:00, 1342.90it/s]\n"
     ]
    }
   ],
   "source": [
    "greedy_contigs = greedy.assemble_contigs(filtered_preds, min_overlap)"
   ]
  },
  {
   "cell_type": "code",
   "execution_count": null,
   "id": "1f62a4b7",
   "metadata": {},
   "outputs": [],
   "source": [
    "assembled_contigs = list(set(greedy_contigs)) # Remove duplicates"
   ]
  },
  {
   "cell_type": "code",
   "execution_count": null,
   "id": "9be82a48",
   "metadata": {},
   "outputs": [],
   "source": [
    "print(len(final_psms))\n",
    "print(len(assembled_contigs))"
   ]
  },
  {
   "cell_type": "code",
   "execution_count": null,
   "id": "9f275a18",
   "metadata": {},
   "outputs": [],
   "source": [
    "# print the minimum length of the assembled_contigs\n",
    "print(min([len(c) for c in assembled_contigs]))\n",
    "print(max([len(c) for c in assembled_contigs]))"
   ]
  },
  {
   "cell_type": "raw",
   "id": "7d3c2826",
   "metadata": {
    "vscode": {
     "languageId": "raw"
    }
   },
   "source": [
    "greedy_contigs = [\n",
    "    contig for contig in greedy_contigs if len(contig) > size_threshold\n",
    "]"
   ]
  },
  {
   "cell_type": "code",
   "execution_count": null,
   "id": "94a4d3bd",
   "metadata": {},
   "outputs": [],
   "source": [
    "assembled_contigs = sorted(assembled_contigs, key=len, reverse=True)"
   ]
  },
  {
   "cell_type": "code",
   "execution_count": null,
   "id": "31777d84",
   "metadata": {},
   "outputs": [],
   "source": [
    "display(assembled_contigs[:5])\n",
    "print(len(assembled_contigs))"
   ]
  },
  {
   "cell_type": "code",
   "execution_count": null,
   "id": "75a6774e",
   "metadata": {},
   "outputs": [],
   "source": [
    "# remove sequences shorter than 7 from a list of strings\n",
    "assembled_contigs = [c for c in assembled_contigs if len(c) >= 7]\n",
    "print(len(assembled_contigs))"
   ]
  },
  {
   "cell_type": "markdown",
   "id": "7b9d222b",
   "metadata": {},
   "source": [
    "### Optimised DBG approach"
   ]
  },
  {
   "cell_type": "code",
   "execution_count": null,
   "id": "02f37d1c",
   "metadata": {},
   "outputs": [],
   "source": [
    "kmers = dbg.get_kmers(assembled_contigs, kmer_size=9)"
   ]
  },
  {
   "cell_type": "code",
   "execution_count": null,
   "id": "41d76e3c",
   "metadata": {},
   "outputs": [],
   "source": [
    "print(len(kmers))"
   ]
  },
  {
   "cell_type": "code",
   "execution_count": null,
   "id": "5bef4c14",
   "metadata": {},
   "outputs": [],
   "source": [
    "edges = dbg.get_debruijn_edges_from_kmers(kmers)"
   ]
  },
  {
   "cell_type": "code",
   "execution_count": null,
   "id": "07a5712d",
   "metadata": {},
   "outputs": [],
   "source": [
    "dbg_contigs = dbg.assemble_contigs(edges)"
   ]
  },
  {
   "cell_type": "code",
   "execution_count": null,
   "id": "de6a2ed8",
   "metadata": {},
   "outputs": [],
   "source": [
    "dbg_contigs = sorted(dbg_contigs, key=len, reverse=True)"
   ]
  },
  {
   "cell_type": "code",
   "execution_count": null,
   "id": "ecb1c433",
   "metadata": {},
   "outputs": [],
   "source": [
    "dbg_contigs = list(set(dbg_contigs))"
   ]
  },
  {
   "cell_type": "code",
   "execution_count": null,
   "id": "2c30de12",
   "metadata": {},
   "outputs": [],
   "source": [
    "dbg_contigs = [seq for seq in dbg_contigs if len(seq) > size_threshold]"
   ]
  },
  {
   "cell_type": "code",
   "execution_count": null,
   "id": "ad5be998",
   "metadata": {},
   "outputs": [],
   "source": [
    "dbg_contigs = sorted(dbg_contigs, key=len, reverse=True)"
   ]
  },
  {
   "cell_type": "code",
   "execution_count": null,
   "id": "827c0cc9",
   "metadata": {},
   "outputs": [],
   "source": [
    "print(dbg_contigs[:5])\n",
    "print(len(dbg_contigs))"
   ]
  },
  {
   "cell_type": "code",
   "execution_count": null,
   "id": "e58b7234",
   "metadata": {},
   "outputs": [],
   "source": [
    "dbg_contigs"
   ]
  },
  {
   "cell_type": "markdown",
   "id": "e7303676",
   "metadata": {},
   "source": [
    "### Scaffolds"
   ]
  },
  {
   "cell_type": "code",
   "execution_count": null,
   "id": "bb2a4534",
   "metadata": {},
   "outputs": [],
   "source": [
    "assembled_scaffolds = dbg.create_scaffolds(dbg_contigs, min_overlap)\n",
    "\n",
    "assembled_scaffolds = list(set(assembled_scaffolds))\n",
    "\n",
    "assembled_scaffolds = sorted(assembled_scaffolds, key=len, reverse=True)\n",
    "\n",
    "assembled_scaffolds = [\n",
    "    scaffold for scaffold in assembled_scaffolds if len(scaffold) > size_threshold\n",
    "]\n",
    "\n",
    "assembled_scaffolds = dbg.merge_sequences(assembled_scaffolds)\n",
    "\n",
    "assembled_scaffolds = list(set(assembled_scaffolds))\n",
    "\n",
    "assembled_scaffolds = sorted(assembled_scaffolds, key=len, reverse=True)\n",
    "\n",
    "assembled_scaffolds = [\n",
    "    scaffold for scaffold in assembled_scaffolds if len(scaffold) > size_threshold\n",
    "]"
   ]
  },
  {
   "cell_type": "code",
   "execution_count": null,
   "id": "8cf47b25",
   "metadata": {},
   "outputs": [],
   "source": [
    "protein_norm = prep.normalize_sequence(protein)"
   ]
  },
  {
   "cell_type": "code",
   "execution_count": null,
   "id": "584844c7",
   "metadata": {},
   "outputs": [],
   "source": [
    "protein_norm"
   ]
  },
  {
   "cell_type": "code",
   "execution_count": null,
   "id": "f63bdde2",
   "metadata": {},
   "outputs": [],
   "source": [
    "assembled_scaffolds"
   ]
  },
  {
   "cell_type": "code",
   "execution_count": null,
   "id": "0ce94987",
   "metadata": {},
   "outputs": [],
   "source": [
    "mapped_scaffolds = map.process_protein_contigs_scaffold(\n",
    "    assembled_scaffolds, protein_norm, max_mismatches, min_identity\n",
    ")\n",
    "\n",
    "map.mapping_substitutions(mapped_scaffolds, protein_norm, title= \"scaffolds mapped in RF-selected peptides\")"
   ]
  },
  {
   "cell_type": "code",
   "execution_count": null,
   "id": "e83a187e",
   "metadata": {},
   "outputs": [],
   "source": [
    "records = []\n",
    "\n",
    "for i, seq in enumerate(assembled_scaffolds):\n",
    "    record = Bio.SeqRecord.SeqRecord(\n",
    "        Bio.Seq.Seq(seq), id=f\"scaffold_{i+1}\", description=f\"length: {len(seq)}\"\n",
    "    )\n",
    "    records.append(record)"
   ]
  },
  {
   "cell_type": "code",
   "execution_count": null,
   "id": "ba417995",
   "metadata": {},
   "outputs": [],
   "source": [
    "Bio.SeqIO.write(\n",
    "    records,\n",
    "    f\"{combination_folder_out}/scaffolds/{ass_method}_scaffold_{conf}_{run}.fasta\",\n",
    "    \"fasta\",\n",
    ")"
   ]
  },
  {
   "cell_type": "markdown",
   "id": "dda48d5d",
   "metadata": {},
   "source": [
    "### Clustering"
   ]
  },
  {
   "cell_type": "code",
   "execution_count": null,
   "id": "84e284ad",
   "metadata": {},
   "outputs": [],
   "source": [
    "scaffolds_folder_out = OUTPUTS_DIR / f\"{run}{chain}/{comb}/scaffolds\"\n",
    "print(f\"scaffolds_folder_out: {scaffolds_folder_out}\")"
   ]
  },
  {
   "cell_type": "code",
   "execution_count": null,
   "id": "8ae9be1f",
   "metadata": {},
   "outputs": [],
   "source": [
    "clus.cluster_fasta_files(input_folder=scaffolds_folder_out)"
   ]
  },
  {
   "cell_type": "code",
   "execution_count": null,
   "id": "3693a180",
   "metadata": {},
   "outputs": [],
   "source": [
    "cluster_folder_out = os.path.join(scaffolds_folder_out, \"cluster\")\n",
    "print(cluster_folder_out)"
   ]
  },
  {
   "cell_type": "code",
   "execution_count": null,
   "id": "aae70362",
   "metadata": {},
   "outputs": [],
   "source": [
    "cluster_tsv_folder = os.path.join(scaffolds_folder_out, \"cluster\")\n",
    "output_base_folder = os.path.join(scaffolds_folder_out, \"cluster_fasta\")\n",
    "\n",
    "for fasta_file in os.listdir(scaffolds_folder_out):\n",
    "    if fasta_file.endswith(\".fasta\"):\n",
    "        fasta_path = os.path.join(scaffolds_folder_out, fasta_file)\n",
    "        clus.process_fasta_and_clusters(\n",
    "            fasta_path, cluster_tsv_folder, output_base_folder\n",
    "        )"
   ]
  },
  {
   "cell_type": "markdown",
   "id": "1e013de1",
   "metadata": {},
   "source": [
    "### Alignment"
   ]
  },
  {
   "cell_type": "code",
   "execution_count": null,
   "id": "5f2bdc4b",
   "metadata": {},
   "outputs": [],
   "source": [
    "cluster_fasta_folder = os.path.join(scaffolds_folder_out, \"cluster_fasta\")\n",
    "align_folder = os.path.join(scaffolds_folder_out, \"align\")\n",
    "prep.create_directory(align_folder)"
   ]
  },
  {
   "cell_type": "code",
   "execution_count": null,
   "id": "8753851c",
   "metadata": {},
   "outputs": [],
   "source": [
    "for cluster_folder in os.listdir(cluster_fasta_folder):\n",
    "    cluster_folder_path = os.path.join(cluster_fasta_folder, cluster_folder)\n",
    "    if os.path.isdir(cluster_folder_path):\n",
    "\n",
    "        output_cluster_folder = os.path.join(align_folder, cluster_folder)\n",
    "        os.makedirs(output_cluster_folder, exist_ok=True)\n",
    "\n",
    "        for fasta_file in os.listdir(cluster_folder_path):\n",
    "            if fasta_file.endswith(\".fasta\"):\n",
    "                fasta_file_path = os.path.join(cluster_folder_path, fasta_file)\n",
    "                base_filename = os.path.splitext(fasta_file)[0]\n",
    "                output_file = os.path.join(\n",
    "                    output_cluster_folder, f\"{base_filename}_out.afa\"\n",
    "                )\n",
    "\n",
    "                align.align_or_copy_fasta(fasta_file_path, output_file)\n",
    "\n",
    "print(\"All alignment tasks completed.\")"
   ]
  },
  {
   "cell_type": "markdown",
   "id": "aed6ef84",
   "metadata": {},
   "source": [
    "### Consensus"
   ]
  },
  {
   "cell_type": "code",
   "execution_count": null,
   "id": "6c6ec0cc",
   "metadata": {},
   "outputs": [],
   "source": [
    "consensus_folder = os.path.join(scaffolds_folder_out, \"consensus\")"
   ]
  },
  {
   "cell_type": "code",
   "execution_count": null,
   "id": "65b550bd",
   "metadata": {},
   "outputs": [],
   "source": [
    "cons.process_alignment_files(align_folder, consensus_folder)"
   ]
  },
  {
   "cell_type": "code",
   "execution_count": null,
   "id": "16de0d35",
   "metadata": {},
   "outputs": [],
   "source": [
    "all_sequences = cons.load_all_consensus_sequences(consensus_folder)"
   ]
  },
  {
   "cell_type": "code",
   "execution_count": null,
   "id": "17d7e3fb",
   "metadata": {},
   "outputs": [],
   "source": [
    "all_sequences"
   ]
  }
 ],
 "metadata": {
  "kernelspec": {
   "display_name": "instanexus",
   "language": "python",
   "name": "python3"
  },
  "language_info": {
   "codemirror_mode": {
    "name": "ipython",
    "version": 3
   },
   "file_extension": ".py",
   "mimetype": "text/x-python",
   "name": "python",
   "nbconvert_exporter": "python",
   "pygments_lexer": "ipython3",
   "version": "3.11.13"
  }
 },
 "nbformat": 4,
 "nbformat_minor": 5
}
