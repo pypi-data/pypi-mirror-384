{
 "cells": [
  {
   "cell_type": "markdown",
   "id": "5b2fa4ac",
   "metadata": {},
   "source": [
    "## Composite score notebook"
   ]
  },
  {
   "cell_type": "code",
   "execution_count": null,
   "id": "f7df6937",
   "metadata": {},
   "outputs": [],
   "source": [
    "import os\n",
    "import pandas as pd\n",
    "import plotly.graph_objects as go\n",
    "from sklearn.preprocessing import MinMaxScaler\n",
    "import json\n",
    "import numpy as np\n",
    "import re\n",
    "import glob"
   ]
  },
  {
   "cell_type": "code",
   "execution_count": null,
   "id": "71819e62",
   "metadata": {},
   "outputs": [],
   "source": [
    "def plot_composite_scores_plotly(\n",
    "    df_contigs,\n",
    "    df_scaffolds,\n",
    "    runs_to_include,\n",
    "    contig_color,\n",
    "    scaffold_color,\n",
    "    title,\n",
    "    title_x_axis,\n",
    "    save=True,\n",
    "    output_dir=\".\",\n",
    "    file_suffix=\"\",\n",
    "):\n",
    "\n",
    "    binder_set = {\"BIND15\", \"BIND16\", \"BIND17\"}\n",
    "\n",
    "    if binder_set.issubset(set(runs_to_include)):\n",
    "        width, height = 600, 500\n",
    "    else:\n",
    "        width, height = 1200, 500\n",
    "\n",
    "    contigs_scores = (\n",
    "        df_contigs.groupby(\"run\")[\"composite_score\"]\n",
    "        .max()\n",
    "        .reindex(runs_to_include)\n",
    "        .fillna(0)\n",
    "    )\n",
    "    scaffolds_scores = (\n",
    "        df_scaffolds.groupby(\"run\")[\"composite_score\"]\n",
    "        .max()\n",
    "        .reindex(runs_to_include)\n",
    "        .fillna(0)\n",
    "    )\n",
    "\n",
    "    fig = go.Figure()\n",
    "\n",
    "    fig.add_trace(\n",
    "        go.Bar(\n",
    "            x=runs_to_include,\n",
    "            y=contigs_scores,\n",
    "            name=\"Contigs\",\n",
    "            marker_color=contig_color,\n",
    "        )\n",
    "    )\n",
    "\n",
    "    fig.add_trace(\n",
    "        go.Bar(\n",
    "            x=runs_to_include,\n",
    "            y=scaffolds_scores,\n",
    "            name=\"Scaffolds\",\n",
    "            marker_color=scaffold_color,\n",
    "        )\n",
    "    )\n",
    "\n",
    "    fig.update_layout(\n",
    "        title=title,\n",
    "        xaxis=dict(\n",
    "            title=title_x_axis,\n",
    "            showline=True,\n",
    "            mirror=False,\n",
    "            linecolor=\"black\",\n",
    "            ticks=\"outside\",\n",
    "            tickangle=0,\n",
    "        ),\n",
    "        yaxis=dict(\n",
    "            title=\"Composite score\",\n",
    "            showline=True,\n",
    "            mirror=False,\n",
    "            linecolor=\"black\",\n",
    "            ticks=\"outside\",\n",
    "            range=[0, 1],\n",
    "        ),\n",
    "        barmode=\"group\",\n",
    "        bargap=0.3,\n",
    "        width=width,\n",
    "        height=height,\n",
    "        plot_bgcolor=\"white\",\n",
    "        paper_bgcolor=\"white\",\n",
    "    )\n",
    "\n",
    "    if save:\n",
    "        os.makedirs(output_dir, exist_ok=True)\n",
    "        filename = f\"{title_x_axis}_composite_score_grouped_barplot{file_suffix}.svg\"\n",
    "        fig.write_image(os.path.join(output_dir, filename), format=\"svg\", scale=2)\n",
    "\n",
    "\n",
    "def plot_max_coverage_plotly(\n",
    "    df_contigs,\n",
    "    df_scaffolds,\n",
    "    runs_to_include,\n",
    "    title,\n",
    "    title_x_axis,\n",
    "    contig_color,\n",
    "    scaffold_color,\n",
    "    save=True,\n",
    "    output_dir=\".\",\n",
    "    file_suffix=\"\",\n",
    "):\n",
    "\n",
    "    binder_set = {\"BIND15\", \"BIND16\", \"BIND17\"}\n",
    "\n",
    "    if binder_set.issubset(set(runs_to_include)):\n",
    "        width, height = 600, 500\n",
    "    else:\n",
    "        width, height = 1200, 500\n",
    "\n",
    "    max_contigs = (\n",
    "        df_contigs.groupby(\"run\")[\"coverage\"].max().reindex(runs_to_include).fillna(0)\n",
    "    )\n",
    "    max_scaffolds = (\n",
    "        df_scaffolds.groupby(\"run\")[\"coverage\"].max().reindex(runs_to_include).fillna(0)\n",
    "    )\n",
    "\n",
    "    fig = go.Figure()\n",
    "\n",
    "    fig.add_trace(\n",
    "        go.Bar(\n",
    "            x=runs_to_include, y=max_contigs, name=\"Contigs\", marker_color=contig_color\n",
    "        )\n",
    "    )\n",
    "\n",
    "    fig.add_trace(\n",
    "        go.Bar(\n",
    "            x=runs_to_include,\n",
    "            y=max_scaffolds,\n",
    "            name=\"Scaffolds\",\n",
    "            marker_color=scaffold_color,\n",
    "        )\n",
    "    )\n",
    "\n",
    "    fig.update_layout(\n",
    "        title=title,\n",
    "        xaxis=dict(\n",
    "            title=title_x_axis,\n",
    "            showline=True,\n",
    "            linecolor=\"black\",\n",
    "            ticks=\"outside\",\n",
    "        ),\n",
    "        yaxis=dict(\n",
    "            title=\"Max Coverage\",\n",
    "            showline=True,\n",
    "            linecolor=\"black\",\n",
    "            ticks=\"outside\",\n",
    "            range=[0, 1],\n",
    "        ),\n",
    "        barmode=\"group\",\n",
    "        bargap=0.3,\n",
    "        width=width,\n",
    "        height=height,\n",
    "        plot_bgcolor=\"white\",\n",
    "        paper_bgcolor=\"white\",\n",
    "    )\n",
    "\n",
    "    if save:\n",
    "        os.makedirs(output_dir, exist_ok=True)\n",
    "        filename = f\"{title_x_axis}_max_coverage_grouped_barplot{file_suffix}.svg\"\n",
    "        fig.write_image(os.path.join(output_dir, filename), format=\"svg\", scale=2)"
   ]
  },
  {
   "cell_type": "code",
   "execution_count": null,
   "id": "03c0707b",
   "metadata": {},
   "outputs": [],
   "source": [
    "def compute_composite_score(*dfs):\n",
    "    metrics = [\"total_sequences\", \"max_length\", \"N50\", \"coverage\"]\n",
    "    weights = {\"total_sequences\": 0.1, \"max_length\": 0.1, \"N50\": 0.3, \"coverage\": 0.5}\n",
    "    df_full = pd.concat(dfs, ignore_index=True)\n",
    "\n",
    "    results = []\n",
    "    for method, group_df in df_full.groupby(\"ass_method\"):\n",
    "        df_metrics = group_df[metrics].copy()\n",
    "\n",
    "        scaler = MinMaxScaler()\n",
    "        scaled = scaler.fit_transform(df_metrics)\n",
    "        df_scaled = pd.DataFrame(scaled, columns=metrics, index=group_df.index)\n",
    "        df_scaled[\"total_sequences\"] = 1 - df_scaled[\"total_sequences\"]\n",
    "\n",
    "        df_scaled[\"composite_score\"] = df_scaled[list(weights)].dot(pd.Series(weights))\n",
    "        df_scaled = df_scaled.rename(columns={col: f\"{col}_scaled\" for col in metrics})\n",
    "\n",
    "        df_result = pd.concat(\n",
    "            [group_df.reset_index(drop=True), df_scaled.reset_index(drop=True)], axis=1\n",
    "        )\n",
    "        results.append(df_result)\n",
    "\n",
    "    final_df = pd.concat(results, ignore_index=True)\n",
    "    final_df = final_df.sort_values(by=\"composite_score\", ascending=False)\n",
    "\n",
    "    cols = (\n",
    "        [\"category\", \"source\", \"ass_method\"]\n",
    "        + [val for m in metrics for val in (m, f\"{m}_scaled\")]\n",
    "        + [\"composite_score\", \"run\"]\n",
    "    )\n",
    "\n",
    "    return final_df[cols] if \"category\" in final_df.columns else final_df\n",
    "\n",
    "\n",
    "def extract_grid_params_from_source(df):\n",
    "\n",
    "    pattern_dbg = re.compile(\n",
    "        r\"c(?P<conf>[\\d.]+)_ks(?P<kmer_size>\\d+)_ts(?P<size_threshold>\\d+)_mo(?P<min_overlap>\\d+)_mi(?P<min_identity>[\\d.]+)_mm(?P<max_mismatches>\\d+)\"\n",
    "    )\n",
    "\n",
    "    pattern_greedy = re.compile(\n",
    "        r\"c(?P<conf>[\\d.]+)_ts(?P<size_threshold>\\d+)_mo(?P<min_overlap>\\d+)_mi(?P<min_identity>[\\d.]+)_mm(?P<max_mismatches>\\d+)\"\n",
    "    )\n",
    "\n",
    "    param_cols = [\n",
    "        \"conf\",\n",
    "        \"kmer_size\",\n",
    "        \"size_threshold\",\n",
    "        \"min_overlap\",\n",
    "        \"min_identity\",\n",
    "        \"max_mismatches\",\n",
    "    ]\n",
    "    for col in param_cols:\n",
    "        df[col] = pd.NA\n",
    "\n",
    "    for idx, row in df.iterrows():\n",
    "        source_str = row[\"source\"]\n",
    "        method = row.get(\"ass_method\", None)\n",
    "\n",
    "        if method == \"dbg\":\n",
    "            match = pattern_dbg.search(source_str)\n",
    "        elif method == \"greedy\":\n",
    "            match = pattern_greedy.search(source_str)\n",
    "        else:\n",
    "            match = None\n",
    "\n",
    "        if match:\n",
    "            for param in param_cols:\n",
    "                if param in match.groupdict():\n",
    "                    df.at[idx, param] = pd.to_numeric(\n",
    "                        match.group(param), errors=\"coerce\"\n",
    "                    )\n",
    "\n",
    "    return df\n",
    "\n",
    "\n",
    "def combine_json_to_csv(run, type_sequence):\n",
    "    \"\"\"\n",
    "    Walks through directories, reads JSON files, and combines them into separate CSV files per method.\n",
    "    type_sequence: can be contigs or scaffolds, for example.\n",
    "    \"\"\"\n",
    "    base_path = \"../outputs/\" + run\n",
    "    dataframes_by_method = {}\n",
    "    files_added = {}\n",
    "\n",
    "    for root, dirs, _ in os.walk(base_path):\n",
    "        for dir_name in dirs:\n",
    "            if dir_name.startswith(\"comb_dbg\"):\n",
    "                method = \"dbg\"\n",
    "            elif dir_name.startswith(\"comb_greedy\"):\n",
    "                method = \"greedy\"\n",
    "            else:\n",
    "                method = \"other\"\n",
    "\n",
    "            json_path = os.path.join(\n",
    "                root, dir_name, \"statistics\", f\"{type_sequence}_stats.json\"\n",
    "            )\n",
    "\n",
    "            if os.path.exists(json_path):\n",
    "                try:\n",
    "                    with open(json_path, \"r\") as f:\n",
    "                        data = json.load(f)\n",
    "\n",
    "                    df = pd.json_normalize(data)\n",
    "                    df[\"source\"] = dir_name\n",
    "\n",
    "                    if method not in dataframes_by_method:\n",
    "                        dataframes_by_method[method] = []\n",
    "                        files_added[method] = 0\n",
    "\n",
    "                    dataframes_by_method[method].append(df)\n",
    "                    files_added[method] += 1\n",
    "                except Exception as e:\n",
    "                    print(f\"Error loading {json_path}: {e}\")\n",
    "\n",
    "    for method, dfs in dataframes_by_method.items():\n",
    "        if dfs:\n",
    "            combined_df = pd.concat(dfs, ignore_index=True)\n",
    "            combined_df[\"sequence_type\"] = type_sequence\n",
    "            combined_df[\"run\"] = run\n",
    "            combined_df[\"ass_method\"] = method\n",
    "\n",
    "            output_file = os.path.join(\n",
    "                base_path, f\"{type_sequence}_combined_stats_{method}.csv\"\n",
    "            )\n",
    "            combined_df.to_csv(output_file, index=False, sep=\",\", header=True)\n",
    "            print(f\"[{method}] Combined JSON saved to CSV: {output_file}\")\n",
    "            print(f\"[{method}] Files successfully added: {files_added[method]}\")\n",
    "        else:\n",
    "            print(f\"[{method}] No dataframes to concatenate.\")\n",
    "\n",
    "\n",
    "def summarize_mode(df, group_col=\"run\", value_cols=None):\n",
    "    if value_cols is None:\n",
    "        value_cols = df.columns.difference([group_col, \"source\"])\n",
    "\n",
    "    modes = []\n",
    "    for grp, sub in df.groupby(group_col):\n",
    "        row = {group_col: grp}\n",
    "        for col in value_cols:\n",
    "            try:\n",
    "                row[f\"{col}_mode\"] = sub[col].mode().iloc[0]\n",
    "            except Exception:\n",
    "                row[f\"{col}_mode\"] = None\n",
    "        modes.append(row)\n",
    "    return pd.DataFrame(modes)\n",
    "\n",
    "\n",
    "def summarize_mode_by_category(df, category_col=\"category\", value_cols=None):\n",
    "    \"\"\"Compute the mode (most frequent value) per category for given value columns.\n",
    "\n",
    "    Args:\n",
    "        df: DataFrame with composite scores.\n",
    "        category_col: column indicating category.\n",
    "        value_cols: list of metric columns to compute mode for.\n",
    "\n",
    "    Returns:\n",
    "        DataFrame with one row per category and _mode columns.\n",
    "    \"\"\"\n",
    "    if value_cols is None:\n",
    "        value_cols = df.columns.difference(\n",
    "            [\"run\", \"source\", \"composite_score\", \"category\"]\n",
    "        )\n",
    "\n",
    "    modes = []\n",
    "    for cat, sub in df.groupby(category_col):\n",
    "        row = {category_col: cat}\n",
    "        for col in value_cols:\n",
    "            try:\n",
    "                row[f\"{col}_mode\"] = sub[col].mode().iloc[0]\n",
    "            except Exception:\n",
    "                row[f\"{col}_mode\"] = None\n",
    "        modes.append(row)\n",
    "    return pd.DataFrame(modes)\n",
    "\n",
    "\n",
    "def get_category(name):\n",
    "\n",
    "    l = name.lower()\n",
    "    if l == \"bsa\":\n",
    "        return \"bsa\"\n",
    "    if l.startswith(\"nb\"):\n",
    "        return \"nanobodies\"\n",
    "    if l.startswith(\"bind\"):\n",
    "        return \"binders\"\n",
    "    if l.startswith(\"pama\"):\n",
    "        return \"policlonals\"\n",
    "    return \"antibodies\"\n",
    "\n",
    "\n",
    "def summarize_best_param_modes_by_category(df, category_col=\"category\"):\n",
    "    \"\"\"Compute the mode of parameters for the best composite score per category.\n",
    "    Args:\n",
    "        df: DataFrame with composite scores and parameters.\n",
    "        category_col: column indicating category.\n",
    "    \"\"\"\n",
    "    df = extract_grid_params_from_source(df)\n",
    "\n",
    "    param_cols = [\n",
    "        \"conf\",\n",
    "        \"size_threshold\",\n",
    "        \"min_identity\",\n",
    "        \"max_mismatches\",\n",
    "        \"kmer_size\",\n",
    "        \"min_overlap\",\n",
    "    ]\n",
    "\n",
    "    mode_rows = []\n",
    "\n",
    "    for category, sub_df in df.groupby(category_col):\n",
    "        best_rows = sub_df.loc[sub_df.groupby(\"run\")[\"composite_score\"].idxmax()]\n",
    "\n",
    "        row = {\"category\": category}\n",
    "        for param in param_cols:\n",
    "            try:\n",
    "                row[f\"{param}_mode\"] = best_rows[param].mode().iloc[0]\n",
    "            except Exception:\n",
    "                row[f\"{param}_mode\"] = None\n",
    "        mode_rows.append(row)\n",
    "\n",
    "    return pd.DataFrame(mode_rows)"
   ]
  },
  {
   "cell_type": "code",
   "execution_count": null,
   "id": "db582631",
   "metadata": {},
   "outputs": [],
   "source": [
    "order_by_cat = {\n",
    "    \"policlonals\": [\n",
    "        \"pama1light\",\n",
    "        \"pama1heavy\",\n",
    "        \"pama2light\",\n",
    "        \"pama2heavy\",\n",
    "        \"pama3light\",\n",
    "        \"pama3heavy\",\n",
    "    ],\n",
    "    \"antibodies\": [\n",
    "        \"ma1light\",\n",
    "        \"ma1heavy\",\n",
    "        \"ma2light\",\n",
    "        \"ma2heavy\",\n",
    "        \"ma3light\",\n",
    "        \"ma3heavy\",\n",
    "    ],\n",
    "    \"nanobodies\": [\n",
    "        \"NB1\",\n",
    "        \"NB2\",\n",
    "        \"NB3\",\n",
    "        \"NB4\",\n",
    "        \"NB5\",\n",
    "        \"NB6\",\n",
    "        \"NB8\",\n",
    "        \"NB10\",\n",
    "        \"NB12\",\n",
    "        \"NB13\",\n",
    "    ],\n",
    "    \"binders\": [\"BIND15\", \"BIND16\", \"BIND17\"],\n",
    "    \"bsa\": [\"bsa\"],\n",
    "}"
   ]
  },
  {
   "cell_type": "code",
   "execution_count": null,
   "id": "7fb27b941602401d91542211134fc71a",
   "metadata": {},
   "outputs": [],
   "source": [
    "output_base = \"../outputs\"\n",
    "runs = [\n",
    "    d for d in os.listdir(output_base) if os.path.isdir(os.path.join(output_base, d))\n",
    "]\n",
    "seq_types = [\"contigs\", \"scaffolds\"]\n",
    "\n",
    "for r in runs:\n",
    "    for seq in seq_types:\n",
    "        combine_json_to_csv(run=r, type_sequence=seq)\n",
    "\n",
    "contig_dfs, scaffold_dfs = [], []\n",
    "\n",
    "for r in runs:\n",
    "    cat = get_category(r)\n",
    "\n",
    "    contig_csvs = glob.glob(\n",
    "        os.path.join(output_base, r, \"contigs_combined_stats_*.csv\")\n",
    "    )\n",
    "    scaffold_csvs = glob.glob(\n",
    "        os.path.join(output_base, r, \"scaffolds_combined_stats_*.csv\")\n",
    "    )\n",
    "\n",
    "    for c_path in contig_csvs:\n",
    "        df = pd.read_csv(c_path)\n",
    "        df[\"run\"] = r\n",
    "        df[\"category\"] = cat\n",
    "        contig_dfs.append(df)\n",
    "\n",
    "    for s_path in scaffold_csvs:\n",
    "        df = pd.read_csv(s_path)\n",
    "        df[\"run\"] = r\n",
    "        df[\"category\"] = cat\n",
    "        scaffold_dfs.append(df)\n",
    "\n",
    "contigs = pd.concat(contig_dfs, ignore_index=True) if contig_dfs else pd.DataFrame()\n",
    "scaffolds = (\n",
    "    pd.concat(scaffold_dfs, ignore_index=True) if scaffold_dfs else pd.DataFrame()\n",
    ")\n",
    "\n",
    "contigs_dbg = contigs[contigs[\"ass_method\"] == \"dbg\"]\n",
    "contigs_greedy = contigs[contigs[\"ass_method\"] == \"greedy\"]\n",
    "\n",
    "scaffolds_dbg = scaffolds[scaffolds[\"ass_method\"] == \"dbg\"]\n",
    "scaffolds_greedy = scaffolds[scaffolds[\"ass_method\"] == \"greedy\"]\n",
    "\n",
    "contig_scores_dbg = (\n",
    "    compute_composite_score(contigs_dbg) if not contigs_dbg.empty else pd.DataFrame()\n",
    ")\n",
    "contig_scores_greedy = (\n",
    "    compute_composite_score(contigs_greedy)\n",
    "    if not contigs_greedy.empty\n",
    "    else pd.DataFrame()\n",
    ")\n",
    "\n",
    "scaffold_scores_dbg = (\n",
    "    compute_composite_score(scaffolds_dbg)\n",
    "    if not scaffolds_dbg.empty\n",
    "    else pd.DataFrame()\n",
    ")\n",
    "scaffold_scores_greedy = (\n",
    "    compute_composite_score(scaffolds_greedy)\n",
    "    if not scaffolds_greedy.empty\n",
    "    else pd.DataFrame()\n",
    ")\n",
    "\n",
    "summary_dir = \"summary_tables\"\n",
    "os.makedirs(summary_dir, exist_ok=True)\n",
    "\n",
    "for cat in contig_scores_dbg[\"category\"].dropna().unique():\n",
    "    subdir = os.path.join(summary_dir, cat)\n",
    "    os.makedirs(subdir, exist_ok=True)\n",
    "    df_cat = contig_scores_dbg[contig_scores_dbg[\"category\"] == cat]\n",
    "    df_cat.to_csv(os.path.join(subdir, f\"contig_scores_{cat}_dbg.csv\"), index=False)\n",
    "\n",
    "for cat in contig_scores_greedy[\"category\"].dropna().unique():\n",
    "    subdir = os.path.join(summary_dir, cat)\n",
    "    os.makedirs(subdir, exist_ok=True)\n",
    "    df_cat = contig_scores_greedy[contig_scores_greedy[\"category\"] == cat]\n",
    "    df_cat.to_csv(os.path.join(subdir, f\"contig_scores_{cat}_greedy.csv\"), index=False)\n",
    "\n",
    "for cat in scaffold_scores_dbg[\"category\"].dropna().unique():\n",
    "    subdir = os.path.join(summary_dir, cat)\n",
    "    os.makedirs(subdir, exist_ok=True)\n",
    "    df_cat = scaffold_scores_dbg[scaffold_scores_dbg[\"category\"] == cat]\n",
    "    df_cat.to_csv(os.path.join(subdir, f\"scaffold_scores_{cat}_dbg.csv\"), index=False)\n",
    "\n",
    "for cat in scaffold_scores_greedy[\"category\"].dropna().unique():\n",
    "    subdir = os.path.join(summary_dir, cat)\n",
    "    os.makedirs(subdir, exist_ok=True)\n",
    "    df_cat = scaffold_scores_greedy[scaffold_scores_greedy[\"category\"] == cat]\n",
    "    df_cat.to_csv(\n",
    "        os.path.join(subdir, f\"scaffold_scores_{cat}_greedy.csv\"), index=False\n",
    "    )\n",
    "\n",
    "gridsearch_params_dict = {\n",
    "    \"dbg\": [\n",
    "        \"kmer_size\",\n",
    "        \"min_identity\",\n",
    "        \"max_mismatches\",\n",
    "        \"size_threshold\",\n",
    "        \"min_overlap\",\n",
    "        \"conf\",\n",
    "    ],\n",
    "    \"greedy\": [\n",
    "        \"min_identity\",\n",
    "        \"max_mismatches\",\n",
    "        \"size_threshold\",\n",
    "        \"min_overlap\",\n",
    "        \"conf\",\n",
    "    ],\n",
    "}\n",
    "\n",
    "\n",
    "summary_dir = \"summary_tables\"\n",
    "os.makedirs(summary_dir, exist_ok=True)\n",
    "\n",
    "cats = (\n",
    "    pd.concat(\n",
    "        [\n",
    "            contig_scores_dbg,\n",
    "            contig_scores_greedy,\n",
    "            scaffold_scores_dbg,\n",
    "            scaffold_scores_greedy,\n",
    "        ]\n",
    "    )[\"category\"]\n",
    "    .dropna()\n",
    "    .unique()\n",
    ")\n",
    "\n",
    "for cat in cats:\n",
    "    subdir = os.path.join(summary_dir, cat)\n",
    "    os.makedirs(subdir, exist_ok=True)\n",
    "\n",
    "    contig_sub = contig_scores_dbg[contig_scores_dbg[\"category\"] == cat]\n",
    "    scaffold_sub = scaffold_scores_dbg[scaffold_scores_dbg[\"category\"] == cat]\n",
    "\n",
    "    wanted = order_by_cat.get(cat, [])\n",
    "\n",
    "    actual_runs = contig_sub[\"run\"].unique()\n",
    "\n",
    "    run_ids = [r for r in wanted if r in actual_runs]\n",
    "\n",
    "    if cat == \"antibodies\":\n",
    "        contig_color, scaffold_color = (\n",
    "            \"#8dd3c7\",\n",
    "            \"#1b9e77\",\n",
    "        )\n",
    "    elif cat == \"nanobodies\":\n",
    "        contig_color, scaffold_color = \"#a6cee3\", \"#1f78b4\"\n",
    "    elif cat == \"binders\":\n",
    "        contig_color, scaffold_color = \"#D8D9E8\", \"#BCBDD9\"\n",
    "    elif cat == \"bsa\":\n",
    "        contig_color, scaffold_color = \"#fdbb84\", \"#e34a33\"\n",
    "    else:\n",
    "        contig_color, scaffold_color = \"lightgrey\", \"darkgrey\"\n",
    "\n",
    "    best_contigs = contig_sub.loc[contig_sub.groupby(\"run\")[\"composite_score\"].idxmax()]\n",
    "    best_scaffolds = scaffold_sub.loc[\n",
    "        scaffold_sub.groupby(\"run\")[\"composite_score\"].idxmax()\n",
    "    ]\n",
    "\n",
    "    gridsearch_params = gridsearch_params_dict[\"dbg\"]\n",
    "\n",
    "    def format_table(df):\n",
    "        df = df.copy()\n",
    "        float_cols = df.select_dtypes(include=\"float\").columns\n",
    "        df[float_cols] = df[float_cols].round(3)\n",
    "        ordered_cols = (\n",
    "            [\"category\", \"run\", \"ass_method\", \"source\"]\n",
    "            + [c for c in gridsearch_params if c in df.columns]\n",
    "            + [\n",
    "                c\n",
    "                for c in df.columns\n",
    "                if c\n",
    "                not in [\"category\", \"run\", \"ass_method\", \"source\"] + gridsearch_params\n",
    "            ]\n",
    "        )\n",
    "        return df[ordered_cols]\n",
    "\n",
    "    best_contigs_formatted = format_table(best_contigs)\n",
    "    best_scaffolds_formatted = format_table(best_scaffolds)\n",
    "\n",
    "    best_contigs_formatted.to_csv(\n",
    "        os.path.join(subdir, f\"contig_scores_{cat}_dbg.csv\"), index=False\n",
    "    )\n",
    "    best_scaffolds_formatted.to_csv(\n",
    "        os.path.join(subdir, f\"scaffold_scores_{cat}_dbg.csv\"), index=False\n",
    "    )\n",
    "\n",
    "    composite_dir = os.path.join(\"barplot_composite\", cat)\n",
    "    plot_composite_scores_plotly(\n",
    "        contig_sub,\n",
    "        scaffold_sub,\n",
    "        run_ids,\n",
    "        contig_color,\n",
    "        scaffold_color,\n",
    "        title=\"Composite score comparison - dbg\",\n",
    "        title_x_axis=cat,\n",
    "        save=True,\n",
    "        output_dir=composite_dir,\n",
    "        file_suffix=\"_dbg\",\n",
    "    )\n",
    "\n",
    "    coverage_dir = os.path.join(\"barplot_coverage\", cat)\n",
    "    plot_max_coverage_plotly(\n",
    "        contig_sub,\n",
    "        scaffold_sub,\n",
    "        run_ids,\n",
    "        title=\"Max coverage comparison - dbg\",\n",
    "        title_x_axis=cat,\n",
    "        contig_color=contig_color,\n",
    "        scaffold_color=scaffold_color,\n",
    "        save=True,\n",
    "        output_dir=coverage_dir,\n",
    "        file_suffix=\"_dbg\",\n",
    "    )\n",
    "\n",
    "\n",
    "for cat in cats:\n",
    "    subdir = os.path.join(summary_dir, cat)\n",
    "    os.makedirs(subdir, exist_ok=True)\n",
    "\n",
    "    contig_sub = contig_scores_greedy[contig_scores_greedy[\"category\"] == cat]\n",
    "    scaffold_sub = scaffold_scores_greedy[scaffold_scores_greedy[\"category\"] == cat]\n",
    "\n",
    "    wanted = order_by_cat.get(cat, [])\n",
    "\n",
    "    actual_runs = contig_sub[\"run\"].unique()\n",
    "\n",
    "    run_ids = [r for r in wanted if r in actual_runs]\n",
    "\n",
    "    if cat == \"antibodies\":\n",
    "        contig_color, scaffold_color = (\n",
    "            \"#8dd3c7\",\n",
    "            \"#1b9e77\",\n",
    "        )\n",
    "    elif cat == \"nanobodies\":\n",
    "        contig_color, scaffold_color = \"#a6cee3\", \"#1f78b4\"\n",
    "    elif cat == \"binders\":\n",
    "        contig_color, scaffold_color = \"#D8D9E8\", \"#BCBDD9\"\n",
    "    elif cat == \"bsa\":\n",
    "        contig_color, scaffold_color = \"#fdbb84\", \"#e34a33\"\n",
    "    else:\n",
    "        contig_color, scaffold_color = \"lightgrey\", \"darkgrey\"\n",
    "\n",
    "    best_contigs = contig_sub.loc[contig_sub.groupby(\"run\")[\"composite_score\"].idxmax()]\n",
    "    best_scaffolds = scaffold_sub.loc[\n",
    "        scaffold_sub.groupby(\"run\")[\"composite_score\"].idxmax()\n",
    "    ]\n",
    "\n",
    "    gridsearch_params = gridsearch_params_dict[\"greedy\"]\n",
    "\n",
    "    def format_table(df):\n",
    "        df = df.copy()\n",
    "        float_cols = df.select_dtypes(include=\"float\").columns\n",
    "        df[float_cols] = df[float_cols].round(3)\n",
    "        ordered_cols = (\n",
    "            [\"category\", \"run\", \"ass_method\", \"source\"]\n",
    "            + [c for c in gridsearch_params if c in df.columns]\n",
    "            + [\n",
    "                c\n",
    "                for c in df.columns\n",
    "                if c\n",
    "                not in [\"category\", \"run\", \"ass_method\", \"source\"] + gridsearch_params\n",
    "            ]\n",
    "        )\n",
    "        return df[ordered_cols]\n",
    "\n",
    "    best_contigs_formatted = format_table(best_contigs)\n",
    "    best_scaffolds_formatted = format_table(best_scaffolds)\n",
    "\n",
    "    best_contigs_formatted.to_csv(\n",
    "        os.path.join(subdir, f\"contig_scores_{cat}_greedy.csv\"), index=False\n",
    "    )\n",
    "    best_scaffolds_formatted.to_csv(\n",
    "        os.path.join(subdir, f\"scaffold_scores_{cat}_greedy.csv\"), index=False\n",
    "    )\n",
    "\n",
    "    composite_dir = os.path.join(\"barplot_composite\", cat)\n",
    "    plot_composite_scores_plotly(\n",
    "        contig_sub,\n",
    "        scaffold_sub,\n",
    "        run_ids,\n",
    "        contig_color,\n",
    "        scaffold_color,\n",
    "        title=\"Composite score comparison - greedy\",\n",
    "        title_x_axis=cat,\n",
    "        save=True,\n",
    "        output_dir=composite_dir,\n",
    "        file_suffix=\"_greedy\",\n",
    "    )\n",
    "\n",
    "    coverage_dir = os.path.join(\"barplot_coverage\", cat)\n",
    "    plot_max_coverage_plotly(\n",
    "        contig_sub,\n",
    "        scaffold_sub,\n",
    "        run_ids,\n",
    "        title=\"Max coverage comparison - greedy\",\n",
    "        title_x_axis=cat,\n",
    "        contig_color=contig_color,\n",
    "        scaffold_color=scaffold_color,\n",
    "        save=True,\n",
    "        output_dir=coverage_dir,\n",
    "        file_suffix=\"_greedy\",\n",
    "    )\n",
    "\n",
    "\n",
    "# DBG contigs\n",
    "best_param_modes_contigs_dbg = summarize_best_param_modes_by_category(contig_scores_dbg)\n",
    "cols = [\"category\"] + [\n",
    "    c for c in best_param_modes_contigs_dbg.columns if c != \"category\"\n",
    "]\n",
    "best_param_modes_contigs_dbg = best_param_modes_contigs_dbg[cols]\n",
    "best_param_modes_contigs_dbg[\n",
    "    best_param_modes_contigs_dbg.select_dtypes(include=\"float\").columns\n",
    "] = best_param_modes_contigs_dbg.select_dtypes(include=\"float\").round(3)\n",
    "best_param_modes_contigs_dbg = best_param_modes_contigs_dbg.sort_values(by=\"category\")\n",
    "best_param_modes_contigs_dbg.to_csv(\n",
    "    os.path.join(summary_dir, \"best_param_modes_contigs_dbg.csv\"), index=False\n",
    ")\n",
    "\n",
    "# DBG scaffolds\n",
    "best_param_modes_scaffolds_dbg = summarize_best_param_modes_by_category(\n",
    "    scaffold_scores_dbg\n",
    ")\n",
    "cols = [\"category\"] + [\n",
    "    c for c in best_param_modes_scaffolds_dbg.columns if c != \"category\"\n",
    "]\n",
    "best_param_modes_scaffolds_dbg = best_param_modes_scaffolds_dbg[cols]\n",
    "best_param_modes_scaffolds_dbg[\n",
    "    best_param_modes_scaffolds_dbg.select_dtypes(include=\"float\").columns\n",
    "] = best_param_modes_scaffolds_dbg.select_dtypes(include=\"float\").round(3)\n",
    "best_param_modes_scaffolds_dbg = best_param_modes_scaffolds_dbg.sort_values(\n",
    "    by=\"category\"\n",
    ")\n",
    "best_param_modes_scaffolds_dbg.to_csv(\n",
    "    os.path.join(summary_dir, \"best_param_modes_scaffolds_dbg.csv\"), index=False\n",
    ")\n",
    "\n",
    "# GREEDY contigs\n",
    "best_param_modes_contigs_greedy = summarize_best_param_modes_by_category(\n",
    "    contig_scores_greedy\n",
    ")\n",
    "cols = [\"category\"] + [\n",
    "    c for c in best_param_modes_contigs_greedy.columns if c != \"category\"\n",
    "]\n",
    "best_param_modes_contigs_greedy = best_param_modes_contigs_greedy[cols]\n",
    "best_param_modes_contigs_greedy[\n",
    "    best_param_modes_contigs_greedy.select_dtypes(include=\"float\").columns\n",
    "] = best_param_modes_contigs_greedy.select_dtypes(include=\"float\").round(3)\n",
    "best_param_modes_contigs_greedy = best_param_modes_contigs_greedy.sort_values(\n",
    "    by=\"category\"\n",
    ")\n",
    "best_param_modes_contigs_greedy.to_csv(\n",
    "    os.path.join(summary_dir, \"best_param_modes_contigs_greedy.csv\"), index=False\n",
    ")\n",
    "\n",
    "# GREEDY scaffolds\n",
    "best_param_modes_scaffolds_greedy = summarize_best_param_modes_by_category(\n",
    "    scaffold_scores_greedy\n",
    ")\n",
    "cols = [\"category\"] + [\n",
    "    c for c in best_param_modes_scaffolds_greedy.columns if c != \"category\"\n",
    "]\n",
    "best_param_modes_scaffolds_greedy = best_param_modes_scaffolds_greedy[cols]\n",
    "best_param_modes_scaffolds_greedy[\n",
    "    best_param_modes_scaffolds_greedy.select_dtypes(include=\"float\").columns\n",
    "] = best_param_modes_scaffolds_greedy.select_dtypes(include=\"float\").round(3)\n",
    "best_param_modes_scaffolds_greedy = best_param_modes_scaffolds_greedy.sort_values(\n",
    "    by=\"category\"\n",
    ")\n",
    "best_param_modes_scaffolds_greedy.to_csv(\n",
    "    os.path.join(summary_dir, \"best_param_modes_scaffolds_greedy.csv\"), index=False\n",
    ")"
   ]
  },
  {
   "cell_type": "code",
   "execution_count": null,
   "id": "1c0847ee",
   "metadata": {},
   "outputs": [],
   "source": [
    "def plot_coverage_boxplots(contig_path: str, scaffold_path: str):\n",
    "    contig_df = pd.read_csv(contig_path)\n",
    "    scaffold_df = pd.read_csv(scaffold_path)\n",
    "\n",
    "    contig_coverage = contig_df[\"coverage\"]\n",
    "    scaffold_coverage = scaffold_df[\"coverage\"]\n",
    "\n",
    "    fig = go.Figure()\n",
    "\n",
    "    fig.add_trace(\n",
    "        go.Box(\n",
    "            y=contig_coverage,\n",
    "            x=[0] * len(contig_coverage),\n",
    "            name=\"Contig\",\n",
    "            marker_color=\"#a6cee3\",\n",
    "            boxmean=True,\n",
    "            boxpoints=False,\n",
    "        )\n",
    "    )\n",
    "\n",
    "    fig.add_trace(\n",
    "        go.Box(\n",
    "            y=scaffold_coverage,\n",
    "            x=[1] * len(scaffold_coverage),\n",
    "            name=\"Scaffold\",\n",
    "            marker_color=\"#1f78b4\",\n",
    "            boxmean=True,\n",
    "            boxpoints=False,\n",
    "        )\n",
    "    )\n",
    "\n",
    "    jittered_x_contig = np.random.normal(\n",
    "        loc=-0.5, scale=0.03, size=len(contig_coverage)\n",
    "    )\n",
    "    fig.add_trace(\n",
    "        go.Scatter(\n",
    "            x=jittered_x_contig,\n",
    "            y=contig_coverage,\n",
    "            mode=\"markers\",\n",
    "            marker=dict(color=\"#a6cee3\", size=6),\n",
    "            showlegend=False,\n",
    "        )\n",
    "    )\n",
    "\n",
    "    jittered_x_scaffold = np.random.normal(\n",
    "        loc=1.5, scale=0.03, size=len(scaffold_coverage)\n",
    "    )\n",
    "    fig.add_trace(\n",
    "        go.Scatter(\n",
    "            x=jittered_x_scaffold,\n",
    "            y=scaffold_coverage,\n",
    "            mode=\"markers\",\n",
    "            marker=dict(color=\"#1f78b4\", size=6),\n",
    "            showlegend=False,\n",
    "        )\n",
    "    )\n",
    "\n",
    "    fig.update_layout(\n",
    "        title=\"Coverage comparison: contig and scaffold\",\n",
    "        yaxis=dict(\n",
    "            title=\"Coverage\",\n",
    "            showgrid=True,\n",
    "            zeroline=True,\n",
    "            showline=True,\n",
    "            linecolor=\"black\",\n",
    "            linewidth=1,\n",
    "            ticks=\"outside\",\n",
    "            range=[0.94, 0.98],\n",
    "        ),\n",
    "        xaxis=dict(\n",
    "            title=\"\",\n",
    "            showline=True,\n",
    "            linecolor=\"black\",\n",
    "            linewidth=1,\n",
    "            ticks=\"outside\",\n",
    "            tickvals=[0, 1],\n",
    "            ticktext=[\"Contig\", \"Scaffold\"],\n",
    "        ),\n",
    "        width=500,\n",
    "        height=400,\n",
    "        template=\"plotly_white\",\n",
    "    )\n",
    "\n",
    "    fig.show()\n",
    "    fig.write_image(\"coverage_boxplot_separated_dots.svg\", format=\"svg\", scale=2)"
   ]
  },
  {
   "cell_type": "code",
   "execution_count": 6,
   "id": "9d254b9a",
   "metadata": {},
   "outputs": [
    {
     "data": {
      "application/vnd.plotly.v1+json": {
       "config": {
        "plotlyServerURL": "https://plot.ly"
       },
       "data": [
        {
         "boxmean": true,
         "boxpoints": false,
         "marker": {
          "color": "#a6cee3"
         },
         "name": "Contig",
         "type": "box",
         "x": [
          0,
          0,
          0,
          0,
          0,
          0,
          0,
          0,
          0,
          0
         ],
         "y": [
          0.968,
          0.975,
          0.974,
          0.968,
          0.947,
          0.969,
          0.966,
          0.968,
          0.975,
          0.968
         ]
        },
        {
         "boxmean": true,
         "boxpoints": false,
         "marker": {
          "color": "#1f78b4"
         },
         "name": "Scaffold",
         "type": "box",
         "x": [
          1,
          1,
          1,
          1,
          1,
          1,
          1,
          1,
          1,
          1
         ],
         "y": [
          0.968,
          0.975,
          0.968,
          0.968,
          0.947,
          0.957,
          0.966,
          0.968,
          0.975,
          0.968
         ]
        },
        {
         "marker": {
          "color": "#a6cee3",
          "size": 6
         },
         "mode": "markers",
         "showlegend": false,
         "type": "scatter",
         "x": [
          -0.5018207707869369,
          -0.42307010248737953,
          -0.4787635718109122,
          -0.4878131166020427,
          -0.5203629911458635,
          -0.4685924545138234,
          -0.541764818772858,
          -0.4938243110897622,
          -0.4669652953192369,
          -0.47968350113445296
         ],
         "y": [
          0.968,
          0.975,
          0.974,
          0.968,
          0.947,
          0.969,
          0.966,
          0.968,
          0.975,
          0.968
         ]
        },
        {
         "marker": {
          "color": "#1f78b4",
          "size": 6
         },
         "mode": "markers",
         "showlegend": false,
         "type": "scatter",
         "x": [
          1.5173719256785858,
          1.4673761275370936,
          1.4561870919236286,
          1.480810720923346,
          1.4662940845758805,
          1.548700987815791,
          1.4944835467748123,
          1.4723185335193865,
          1.4913234679823018,
          1.48458449478315
         ],
         "y": [
          0.968,
          0.975,
          0.968,
          0.968,
          0.947,
          0.957,
          0.966,
          0.968,
          0.975,
          0.968
         ]
        }
       ],
       "layout": {
        "height": 400,
        "template": {
         "data": {
          "bar": [
           {
            "error_x": {
             "color": "#2a3f5f"
            },
            "error_y": {
             "color": "#2a3f5f"
            },
            "marker": {
             "line": {
              "color": "white",
              "width": 0.5
             },
             "pattern": {
              "fillmode": "overlay",
              "size": 10,
              "solidity": 0.2
             }
            },
            "type": "bar"
           }
          ],
          "barpolar": [
           {
            "marker": {
             "line": {
              "color": "white",
              "width": 0.5
             },
             "pattern": {
              "fillmode": "overlay",
              "size": 10,
              "solidity": 0.2
             }
            },
            "type": "barpolar"
           }
          ],
          "carpet": [
           {
            "aaxis": {
             "endlinecolor": "#2a3f5f",
             "gridcolor": "#C8D4E3",
             "linecolor": "#C8D4E3",
             "minorgridcolor": "#C8D4E3",
             "startlinecolor": "#2a3f5f"
            },
            "baxis": {
             "endlinecolor": "#2a3f5f",
             "gridcolor": "#C8D4E3",
             "linecolor": "#C8D4E3",
             "minorgridcolor": "#C8D4E3",
             "startlinecolor": "#2a3f5f"
            },
            "type": "carpet"
           }
          ],
          "choropleth": [
           {
            "colorbar": {
             "outlinewidth": 0,
             "ticks": ""
            },
            "type": "choropleth"
           }
          ],
          "contour": [
           {
            "colorbar": {
             "outlinewidth": 0,
             "ticks": ""
            },
            "colorscale": [
             [
              0,
              "#0d0887"
             ],
             [
              0.1111111111111111,
              "#46039f"
             ],
             [
              0.2222222222222222,
              "#7201a8"
             ],
             [
              0.3333333333333333,
              "#9c179e"
             ],
             [
              0.4444444444444444,
              "#bd3786"
             ],
             [
              0.5555555555555556,
              "#d8576b"
             ],
             [
              0.6666666666666666,
              "#ed7953"
             ],
             [
              0.7777777777777778,
              "#fb9f3a"
             ],
             [
              0.8888888888888888,
              "#fdca26"
             ],
             [
              1,
              "#f0f921"
             ]
            ],
            "type": "contour"
           }
          ],
          "contourcarpet": [
           {
            "colorbar": {
             "outlinewidth": 0,
             "ticks": ""
            },
            "type": "contourcarpet"
           }
          ],
          "heatmap": [
           {
            "colorbar": {
             "outlinewidth": 0,
             "ticks": ""
            },
            "colorscale": [
             [
              0,
              "#0d0887"
             ],
             [
              0.1111111111111111,
              "#46039f"
             ],
             [
              0.2222222222222222,
              "#7201a8"
             ],
             [
              0.3333333333333333,
              "#9c179e"
             ],
             [
              0.4444444444444444,
              "#bd3786"
             ],
             [
              0.5555555555555556,
              "#d8576b"
             ],
             [
              0.6666666666666666,
              "#ed7953"
             ],
             [
              0.7777777777777778,
              "#fb9f3a"
             ],
             [
              0.8888888888888888,
              "#fdca26"
             ],
             [
              1,
              "#f0f921"
             ]
            ],
            "type": "heatmap"
           }
          ],
          "heatmapgl": [
           {
            "colorbar": {
             "outlinewidth": 0,
             "ticks": ""
            },
            "colorscale": [
             [
              0,
              "#0d0887"
             ],
             [
              0.1111111111111111,
              "#46039f"
             ],
             [
              0.2222222222222222,
              "#7201a8"
             ],
             [
              0.3333333333333333,
              "#9c179e"
             ],
             [
              0.4444444444444444,
              "#bd3786"
             ],
             [
              0.5555555555555556,
              "#d8576b"
             ],
             [
              0.6666666666666666,
              "#ed7953"
             ],
             [
              0.7777777777777778,
              "#fb9f3a"
             ],
             [
              0.8888888888888888,
              "#fdca26"
             ],
             [
              1,
              "#f0f921"
             ]
            ],
            "type": "heatmapgl"
           }
          ],
          "histogram": [
           {
            "marker": {
             "pattern": {
              "fillmode": "overlay",
              "size": 10,
              "solidity": 0.2
             }
            },
            "type": "histogram"
           }
          ],
          "histogram2d": [
           {
            "colorbar": {
             "outlinewidth": 0,
             "ticks": ""
            },
            "colorscale": [
             [
              0,
              "#0d0887"
             ],
             [
              0.1111111111111111,
              "#46039f"
             ],
             [
              0.2222222222222222,
              "#7201a8"
             ],
             [
              0.3333333333333333,
              "#9c179e"
             ],
             [
              0.4444444444444444,
              "#bd3786"
             ],
             [
              0.5555555555555556,
              "#d8576b"
             ],
             [
              0.6666666666666666,
              "#ed7953"
             ],
             [
              0.7777777777777778,
              "#fb9f3a"
             ],
             [
              0.8888888888888888,
              "#fdca26"
             ],
             [
              1,
              "#f0f921"
             ]
            ],
            "type": "histogram2d"
           }
          ],
          "histogram2dcontour": [
           {
            "colorbar": {
             "outlinewidth": 0,
             "ticks": ""
            },
            "colorscale": [
             [
              0,
              "#0d0887"
             ],
             [
              0.1111111111111111,
              "#46039f"
             ],
             [
              0.2222222222222222,
              "#7201a8"
             ],
             [
              0.3333333333333333,
              "#9c179e"
             ],
             [
              0.4444444444444444,
              "#bd3786"
             ],
             [
              0.5555555555555556,
              "#d8576b"
             ],
             [
              0.6666666666666666,
              "#ed7953"
             ],
             [
              0.7777777777777778,
              "#fb9f3a"
             ],
             [
              0.8888888888888888,
              "#fdca26"
             ],
             [
              1,
              "#f0f921"
             ]
            ],
            "type": "histogram2dcontour"
           }
          ],
          "mesh3d": [
           {
            "colorbar": {
             "outlinewidth": 0,
             "ticks": ""
            },
            "type": "mesh3d"
           }
          ],
          "parcoords": [
           {
            "line": {
             "colorbar": {
              "outlinewidth": 0,
              "ticks": ""
             }
            },
            "type": "parcoords"
           }
          ],
          "pie": [
           {
            "automargin": true,
            "type": "pie"
           }
          ],
          "scatter": [
           {
            "fillpattern": {
             "fillmode": "overlay",
             "size": 10,
             "solidity": 0.2
            },
            "type": "scatter"
           }
          ],
          "scatter3d": [
           {
            "line": {
             "colorbar": {
              "outlinewidth": 0,
              "ticks": ""
             }
            },
            "marker": {
             "colorbar": {
              "outlinewidth": 0,
              "ticks": ""
             }
            },
            "type": "scatter3d"
           }
          ],
          "scattercarpet": [
           {
            "marker": {
             "colorbar": {
              "outlinewidth": 0,
              "ticks": ""
             }
            },
            "type": "scattercarpet"
           }
          ],
          "scattergeo": [
           {
            "marker": {
             "colorbar": {
              "outlinewidth": 0,
              "ticks": ""
             }
            },
            "type": "scattergeo"
           }
          ],
          "scattergl": [
           {
            "marker": {
             "colorbar": {
              "outlinewidth": 0,
              "ticks": ""
             }
            },
            "type": "scattergl"
           }
          ],
          "scattermapbox": [
           {
            "marker": {
             "colorbar": {
              "outlinewidth": 0,
              "ticks": ""
             }
            },
            "type": "scattermapbox"
           }
          ],
          "scatterpolar": [
           {
            "marker": {
             "colorbar": {
              "outlinewidth": 0,
              "ticks": ""
             }
            },
            "type": "scatterpolar"
           }
          ],
          "scatterpolargl": [
           {
            "marker": {
             "colorbar": {
              "outlinewidth": 0,
              "ticks": ""
             }
            },
            "type": "scatterpolargl"
           }
          ],
          "scatterternary": [
           {
            "marker": {
             "colorbar": {
              "outlinewidth": 0,
              "ticks": ""
             }
            },
            "type": "scatterternary"
           }
          ],
          "surface": [
           {
            "colorbar": {
             "outlinewidth": 0,
             "ticks": ""
            },
            "colorscale": [
             [
              0,
              "#0d0887"
             ],
             [
              0.1111111111111111,
              "#46039f"
             ],
             [
              0.2222222222222222,
              "#7201a8"
             ],
             [
              0.3333333333333333,
              "#9c179e"
             ],
             [
              0.4444444444444444,
              "#bd3786"
             ],
             [
              0.5555555555555556,
              "#d8576b"
             ],
             [
              0.6666666666666666,
              "#ed7953"
             ],
             [
              0.7777777777777778,
              "#fb9f3a"
             ],
             [
              0.8888888888888888,
              "#fdca26"
             ],
             [
              1,
              "#f0f921"
             ]
            ],
            "type": "surface"
           }
          ],
          "table": [
           {
            "cells": {
             "fill": {
              "color": "#EBF0F8"
             },
             "line": {
              "color": "white"
             }
            },
            "header": {
             "fill": {
              "color": "#C8D4E3"
             },
             "line": {
              "color": "white"
             }
            },
            "type": "table"
           }
          ]
         },
         "layout": {
          "annotationdefaults": {
           "arrowcolor": "#2a3f5f",
           "arrowhead": 0,
           "arrowwidth": 1
          },
          "autotypenumbers": "strict",
          "coloraxis": {
           "colorbar": {
            "outlinewidth": 0,
            "ticks": ""
           }
          },
          "colorscale": {
           "diverging": [
            [
             0,
             "#8e0152"
            ],
            [
             0.1,
             "#c51b7d"
            ],
            [
             0.2,
             "#de77ae"
            ],
            [
             0.3,
             "#f1b6da"
            ],
            [
             0.4,
             "#fde0ef"
            ],
            [
             0.5,
             "#f7f7f7"
            ],
            [
             0.6,
             "#e6f5d0"
            ],
            [
             0.7,
             "#b8e186"
            ],
            [
             0.8,
             "#7fbc41"
            ],
            [
             0.9,
             "#4d9221"
            ],
            [
             1,
             "#276419"
            ]
           ],
           "sequential": [
            [
             0,
             "#0d0887"
            ],
            [
             0.1111111111111111,
             "#46039f"
            ],
            [
             0.2222222222222222,
             "#7201a8"
            ],
            [
             0.3333333333333333,
             "#9c179e"
            ],
            [
             0.4444444444444444,
             "#bd3786"
            ],
            [
             0.5555555555555556,
             "#d8576b"
            ],
            [
             0.6666666666666666,
             "#ed7953"
            ],
            [
             0.7777777777777778,
             "#fb9f3a"
            ],
            [
             0.8888888888888888,
             "#fdca26"
            ],
            [
             1,
             "#f0f921"
            ]
           ],
           "sequentialminus": [
            [
             0,
             "#0d0887"
            ],
            [
             0.1111111111111111,
             "#46039f"
            ],
            [
             0.2222222222222222,
             "#7201a8"
            ],
            [
             0.3333333333333333,
             "#9c179e"
            ],
            [
             0.4444444444444444,
             "#bd3786"
            ],
            [
             0.5555555555555556,
             "#d8576b"
            ],
            [
             0.6666666666666666,
             "#ed7953"
            ],
            [
             0.7777777777777778,
             "#fb9f3a"
            ],
            [
             0.8888888888888888,
             "#fdca26"
            ],
            [
             1,
             "#f0f921"
            ]
           ]
          },
          "colorway": [
           "#636efa",
           "#EF553B",
           "#00cc96",
           "#ab63fa",
           "#FFA15A",
           "#19d3f3",
           "#FF6692",
           "#B6E880",
           "#FF97FF",
           "#FECB52"
          ],
          "font": {
           "color": "#2a3f5f"
          },
          "geo": {
           "bgcolor": "white",
           "lakecolor": "white",
           "landcolor": "white",
           "showlakes": true,
           "showland": true,
           "subunitcolor": "#C8D4E3"
          },
          "hoverlabel": {
           "align": "left"
          },
          "hovermode": "closest",
          "mapbox": {
           "style": "light"
          },
          "paper_bgcolor": "white",
          "plot_bgcolor": "white",
          "polar": {
           "angularaxis": {
            "gridcolor": "#EBF0F8",
            "linecolor": "#EBF0F8",
            "ticks": ""
           },
           "bgcolor": "white",
           "radialaxis": {
            "gridcolor": "#EBF0F8",
            "linecolor": "#EBF0F8",
            "ticks": ""
           }
          },
          "scene": {
           "xaxis": {
            "backgroundcolor": "white",
            "gridcolor": "#DFE8F3",
            "gridwidth": 2,
            "linecolor": "#EBF0F8",
            "showbackground": true,
            "ticks": "",
            "zerolinecolor": "#EBF0F8"
           },
           "yaxis": {
            "backgroundcolor": "white",
            "gridcolor": "#DFE8F3",
            "gridwidth": 2,
            "linecolor": "#EBF0F8",
            "showbackground": true,
            "ticks": "",
            "zerolinecolor": "#EBF0F8"
           },
           "zaxis": {
            "backgroundcolor": "white",
            "gridcolor": "#DFE8F3",
            "gridwidth": 2,
            "linecolor": "#EBF0F8",
            "showbackground": true,
            "ticks": "",
            "zerolinecolor": "#EBF0F8"
           }
          },
          "shapedefaults": {
           "line": {
            "color": "#2a3f5f"
           }
          },
          "ternary": {
           "aaxis": {
            "gridcolor": "#DFE8F3",
            "linecolor": "#A2B1C6",
            "ticks": ""
           },
           "baxis": {
            "gridcolor": "#DFE8F3",
            "linecolor": "#A2B1C6",
            "ticks": ""
           },
           "bgcolor": "white",
           "caxis": {
            "gridcolor": "#DFE8F3",
            "linecolor": "#A2B1C6",
            "ticks": ""
           }
          },
          "title": {
           "x": 0.05
          },
          "xaxis": {
           "automargin": true,
           "gridcolor": "#EBF0F8",
           "linecolor": "#EBF0F8",
           "ticks": "",
           "title": {
            "standoff": 15
           },
           "zerolinecolor": "#EBF0F8",
           "zerolinewidth": 2
          },
          "yaxis": {
           "automargin": true,
           "gridcolor": "#EBF0F8",
           "linecolor": "#EBF0F8",
           "ticks": "",
           "title": {
            "standoff": 15
           },
           "zerolinecolor": "#EBF0F8",
           "zerolinewidth": 2
          }
         }
        },
        "title": {
         "text": "Coverage comparison: contig and scaffold"
        },
        "width": 500,
        "xaxis": {
         "linecolor": "black",
         "linewidth": 1,
         "showline": true,
         "ticks": "outside",
         "ticktext": [
          "Contig",
          "Scaffold"
         ],
         "tickvals": [
          0,
          1
         ],
         "title": {
          "text": ""
         }
        },
        "yaxis": {
         "linecolor": "black",
         "linewidth": 1,
         "range": [
          0.94,
          0.98
         ],
         "showgrid": true,
         "showline": true,
         "ticks": "outside",
         "title": {
          "text": "Coverage"
         },
         "zeroline": true
        }
       }
      },
      "text/html": [
       "<div>                            <div id=\"80d458b4-ef71-4d60-af1b-562349b8419c\" class=\"plotly-graph-div\" style=\"height:400px; width:500px;\"></div>            <script type=\"text/javascript\">                require([\"plotly\"], function(Plotly) {                    window.PLOTLYENV=window.PLOTLYENV || {};                                    if (document.getElementById(\"80d458b4-ef71-4d60-af1b-562349b8419c\")) {                    Plotly.newPlot(                        \"80d458b4-ef71-4d60-af1b-562349b8419c\",                        [{\"boxmean\":true,\"boxpoints\":false,\"marker\":{\"color\":\"#a6cee3\"},\"name\":\"Contig\",\"x\":[0,0,0,0,0,0,0,0,0,0],\"y\":[0.968,0.975,0.974,0.968,0.947,0.969,0.966,0.968,0.975,0.968],\"type\":\"box\"},{\"boxmean\":true,\"boxpoints\":false,\"marker\":{\"color\":\"#1f78b4\"},\"name\":\"Scaffold\",\"x\":[1,1,1,1,1,1,1,1,1,1],\"y\":[0.968,0.975,0.968,0.968,0.947,0.957,0.966,0.968,0.975,0.968],\"type\":\"box\"},{\"marker\":{\"color\":\"#a6cee3\",\"size\":6},\"mode\":\"markers\",\"showlegend\":false,\"x\":[-0.5018207707869369,-0.42307010248737953,-0.4787635718109122,-0.4878131166020427,-0.5203629911458635,-0.4685924545138234,-0.541764818772858,-0.49382431108976227,-0.4669652953192369,-0.47968350113445296],\"y\":[0.968,0.975,0.974,0.968,0.947,0.969,0.966,0.968,0.975,0.968],\"type\":\"scatter\"},{\"marker\":{\"color\":\"#1f78b4\",\"size\":6},\"mode\":\"markers\",\"showlegend\":false,\"x\":[1.5173719256785858,1.4673761275370936,1.4561870919236286,1.480810720923346,1.4662940845758803,1.548700987815791,1.4944835467748125,1.4723185335193865,1.4913234679823018,1.48458449478315],\"y\":[0.968,0.975,0.968,0.968,0.947,0.957,0.966,0.968,0.975,0.968],\"type\":\"scatter\"}],                        {\"template\":{\"data\":{\"barpolar\":[{\"marker\":{\"line\":{\"color\":\"white\",\"width\":0.5},\"pattern\":{\"fillmode\":\"overlay\",\"size\":10,\"solidity\":0.2}},\"type\":\"barpolar\"}],\"bar\":[{\"error_x\":{\"color\":\"#2a3f5f\"},\"error_y\":{\"color\":\"#2a3f5f\"},\"marker\":{\"line\":{\"color\":\"white\",\"width\":0.5},\"pattern\":{\"fillmode\":\"overlay\",\"size\":10,\"solidity\":0.2}},\"type\":\"bar\"}],\"carpet\":[{\"aaxis\":{\"endlinecolor\":\"#2a3f5f\",\"gridcolor\":\"#C8D4E3\",\"linecolor\":\"#C8D4E3\",\"minorgridcolor\":\"#C8D4E3\",\"startlinecolor\":\"#2a3f5f\"},\"baxis\":{\"endlinecolor\":\"#2a3f5f\",\"gridcolor\":\"#C8D4E3\",\"linecolor\":\"#C8D4E3\",\"minorgridcolor\":\"#C8D4E3\",\"startlinecolor\":\"#2a3f5f\"},\"type\":\"carpet\"}],\"choropleth\":[{\"colorbar\":{\"outlinewidth\":0,\"ticks\":\"\"},\"type\":\"choropleth\"}],\"contourcarpet\":[{\"colorbar\":{\"outlinewidth\":0,\"ticks\":\"\"},\"type\":\"contourcarpet\"}],\"contour\":[{\"colorbar\":{\"outlinewidth\":0,\"ticks\":\"\"},\"colorscale\":[[0.0,\"#0d0887\"],[0.1111111111111111,\"#46039f\"],[0.2222222222222222,\"#7201a8\"],[0.3333333333333333,\"#9c179e\"],[0.4444444444444444,\"#bd3786\"],[0.5555555555555556,\"#d8576b\"],[0.6666666666666666,\"#ed7953\"],[0.7777777777777778,\"#fb9f3a\"],[0.8888888888888888,\"#fdca26\"],[1.0,\"#f0f921\"]],\"type\":\"contour\"}],\"heatmapgl\":[{\"colorbar\":{\"outlinewidth\":0,\"ticks\":\"\"},\"colorscale\":[[0.0,\"#0d0887\"],[0.1111111111111111,\"#46039f\"],[0.2222222222222222,\"#7201a8\"],[0.3333333333333333,\"#9c179e\"],[0.4444444444444444,\"#bd3786\"],[0.5555555555555556,\"#d8576b\"],[0.6666666666666666,\"#ed7953\"],[0.7777777777777778,\"#fb9f3a\"],[0.8888888888888888,\"#fdca26\"],[1.0,\"#f0f921\"]],\"type\":\"heatmapgl\"}],\"heatmap\":[{\"colorbar\":{\"outlinewidth\":0,\"ticks\":\"\"},\"colorscale\":[[0.0,\"#0d0887\"],[0.1111111111111111,\"#46039f\"],[0.2222222222222222,\"#7201a8\"],[0.3333333333333333,\"#9c179e\"],[0.4444444444444444,\"#bd3786\"],[0.5555555555555556,\"#d8576b\"],[0.6666666666666666,\"#ed7953\"],[0.7777777777777778,\"#fb9f3a\"],[0.8888888888888888,\"#fdca26\"],[1.0,\"#f0f921\"]],\"type\":\"heatmap\"}],\"histogram2dcontour\":[{\"colorbar\":{\"outlinewidth\":0,\"ticks\":\"\"},\"colorscale\":[[0.0,\"#0d0887\"],[0.1111111111111111,\"#46039f\"],[0.2222222222222222,\"#7201a8\"],[0.3333333333333333,\"#9c179e\"],[0.4444444444444444,\"#bd3786\"],[0.5555555555555556,\"#d8576b\"],[0.6666666666666666,\"#ed7953\"],[0.7777777777777778,\"#fb9f3a\"],[0.8888888888888888,\"#fdca26\"],[1.0,\"#f0f921\"]],\"type\":\"histogram2dcontour\"}],\"histogram2d\":[{\"colorbar\":{\"outlinewidth\":0,\"ticks\":\"\"},\"colorscale\":[[0.0,\"#0d0887\"],[0.1111111111111111,\"#46039f\"],[0.2222222222222222,\"#7201a8\"],[0.3333333333333333,\"#9c179e\"],[0.4444444444444444,\"#bd3786\"],[0.5555555555555556,\"#d8576b\"],[0.6666666666666666,\"#ed7953\"],[0.7777777777777778,\"#fb9f3a\"],[0.8888888888888888,\"#fdca26\"],[1.0,\"#f0f921\"]],\"type\":\"histogram2d\"}],\"histogram\":[{\"marker\":{\"pattern\":{\"fillmode\":\"overlay\",\"size\":10,\"solidity\":0.2}},\"type\":\"histogram\"}],\"mesh3d\":[{\"colorbar\":{\"outlinewidth\":0,\"ticks\":\"\"},\"type\":\"mesh3d\"}],\"parcoords\":[{\"line\":{\"colorbar\":{\"outlinewidth\":0,\"ticks\":\"\"}},\"type\":\"parcoords\"}],\"pie\":[{\"automargin\":true,\"type\":\"pie\"}],\"scatter3d\":[{\"line\":{\"colorbar\":{\"outlinewidth\":0,\"ticks\":\"\"}},\"marker\":{\"colorbar\":{\"outlinewidth\":0,\"ticks\":\"\"}},\"type\":\"scatter3d\"}],\"scattercarpet\":[{\"marker\":{\"colorbar\":{\"outlinewidth\":0,\"ticks\":\"\"}},\"type\":\"scattercarpet\"}],\"scattergeo\":[{\"marker\":{\"colorbar\":{\"outlinewidth\":0,\"ticks\":\"\"}},\"type\":\"scattergeo\"}],\"scattergl\":[{\"marker\":{\"colorbar\":{\"outlinewidth\":0,\"ticks\":\"\"}},\"type\":\"scattergl\"}],\"scattermapbox\":[{\"marker\":{\"colorbar\":{\"outlinewidth\":0,\"ticks\":\"\"}},\"type\":\"scattermapbox\"}],\"scatterpolargl\":[{\"marker\":{\"colorbar\":{\"outlinewidth\":0,\"ticks\":\"\"}},\"type\":\"scatterpolargl\"}],\"scatterpolar\":[{\"marker\":{\"colorbar\":{\"outlinewidth\":0,\"ticks\":\"\"}},\"type\":\"scatterpolar\"}],\"scatter\":[{\"fillpattern\":{\"fillmode\":\"overlay\",\"size\":10,\"solidity\":0.2},\"type\":\"scatter\"}],\"scatterternary\":[{\"marker\":{\"colorbar\":{\"outlinewidth\":0,\"ticks\":\"\"}},\"type\":\"scatterternary\"}],\"surface\":[{\"colorbar\":{\"outlinewidth\":0,\"ticks\":\"\"},\"colorscale\":[[0.0,\"#0d0887\"],[0.1111111111111111,\"#46039f\"],[0.2222222222222222,\"#7201a8\"],[0.3333333333333333,\"#9c179e\"],[0.4444444444444444,\"#bd3786\"],[0.5555555555555556,\"#d8576b\"],[0.6666666666666666,\"#ed7953\"],[0.7777777777777778,\"#fb9f3a\"],[0.8888888888888888,\"#fdca26\"],[1.0,\"#f0f921\"]],\"type\":\"surface\"}],\"table\":[{\"cells\":{\"fill\":{\"color\":\"#EBF0F8\"},\"line\":{\"color\":\"white\"}},\"header\":{\"fill\":{\"color\":\"#C8D4E3\"},\"line\":{\"color\":\"white\"}},\"type\":\"table\"}]},\"layout\":{\"annotationdefaults\":{\"arrowcolor\":\"#2a3f5f\",\"arrowhead\":0,\"arrowwidth\":1},\"autotypenumbers\":\"strict\",\"coloraxis\":{\"colorbar\":{\"outlinewidth\":0,\"ticks\":\"\"}},\"colorscale\":{\"diverging\":[[0,\"#8e0152\"],[0.1,\"#c51b7d\"],[0.2,\"#de77ae\"],[0.3,\"#f1b6da\"],[0.4,\"#fde0ef\"],[0.5,\"#f7f7f7\"],[0.6,\"#e6f5d0\"],[0.7,\"#b8e186\"],[0.8,\"#7fbc41\"],[0.9,\"#4d9221\"],[1,\"#276419\"]],\"sequential\":[[0.0,\"#0d0887\"],[0.1111111111111111,\"#46039f\"],[0.2222222222222222,\"#7201a8\"],[0.3333333333333333,\"#9c179e\"],[0.4444444444444444,\"#bd3786\"],[0.5555555555555556,\"#d8576b\"],[0.6666666666666666,\"#ed7953\"],[0.7777777777777778,\"#fb9f3a\"],[0.8888888888888888,\"#fdca26\"],[1.0,\"#f0f921\"]],\"sequentialminus\":[[0.0,\"#0d0887\"],[0.1111111111111111,\"#46039f\"],[0.2222222222222222,\"#7201a8\"],[0.3333333333333333,\"#9c179e\"],[0.4444444444444444,\"#bd3786\"],[0.5555555555555556,\"#d8576b\"],[0.6666666666666666,\"#ed7953\"],[0.7777777777777778,\"#fb9f3a\"],[0.8888888888888888,\"#fdca26\"],[1.0,\"#f0f921\"]]},\"colorway\":[\"#636efa\",\"#EF553B\",\"#00cc96\",\"#ab63fa\",\"#FFA15A\",\"#19d3f3\",\"#FF6692\",\"#B6E880\",\"#FF97FF\",\"#FECB52\"],\"font\":{\"color\":\"#2a3f5f\"},\"geo\":{\"bgcolor\":\"white\",\"lakecolor\":\"white\",\"landcolor\":\"white\",\"showlakes\":true,\"showland\":true,\"subunitcolor\":\"#C8D4E3\"},\"hoverlabel\":{\"align\":\"left\"},\"hovermode\":\"closest\",\"mapbox\":{\"style\":\"light\"},\"paper_bgcolor\":\"white\",\"plot_bgcolor\":\"white\",\"polar\":{\"angularaxis\":{\"gridcolor\":\"#EBF0F8\",\"linecolor\":\"#EBF0F8\",\"ticks\":\"\"},\"bgcolor\":\"white\",\"radialaxis\":{\"gridcolor\":\"#EBF0F8\",\"linecolor\":\"#EBF0F8\",\"ticks\":\"\"}},\"scene\":{\"xaxis\":{\"backgroundcolor\":\"white\",\"gridcolor\":\"#DFE8F3\",\"gridwidth\":2,\"linecolor\":\"#EBF0F8\",\"showbackground\":true,\"ticks\":\"\",\"zerolinecolor\":\"#EBF0F8\"},\"yaxis\":{\"backgroundcolor\":\"white\",\"gridcolor\":\"#DFE8F3\",\"gridwidth\":2,\"linecolor\":\"#EBF0F8\",\"showbackground\":true,\"ticks\":\"\",\"zerolinecolor\":\"#EBF0F8\"},\"zaxis\":{\"backgroundcolor\":\"white\",\"gridcolor\":\"#DFE8F3\",\"gridwidth\":2,\"linecolor\":\"#EBF0F8\",\"showbackground\":true,\"ticks\":\"\",\"zerolinecolor\":\"#EBF0F8\"}},\"shapedefaults\":{\"line\":{\"color\":\"#2a3f5f\"}},\"ternary\":{\"aaxis\":{\"gridcolor\":\"#DFE8F3\",\"linecolor\":\"#A2B1C6\",\"ticks\":\"\"},\"baxis\":{\"gridcolor\":\"#DFE8F3\",\"linecolor\":\"#A2B1C6\",\"ticks\":\"\"},\"bgcolor\":\"white\",\"caxis\":{\"gridcolor\":\"#DFE8F3\",\"linecolor\":\"#A2B1C6\",\"ticks\":\"\"}},\"title\":{\"x\":0.05},\"xaxis\":{\"automargin\":true,\"gridcolor\":\"#EBF0F8\",\"linecolor\":\"#EBF0F8\",\"ticks\":\"\",\"title\":{\"standoff\":15},\"zerolinecolor\":\"#EBF0F8\",\"zerolinewidth\":2},\"yaxis\":{\"automargin\":true,\"gridcolor\":\"#EBF0F8\",\"linecolor\":\"#EBF0F8\",\"ticks\":\"\",\"title\":{\"standoff\":15},\"zerolinecolor\":\"#EBF0F8\",\"zerolinewidth\":2}}},\"yaxis\":{\"title\":{\"text\":\"Coverage\"},\"showgrid\":true,\"zeroline\":true,\"showline\":true,\"linecolor\":\"black\",\"linewidth\":1,\"ticks\":\"outside\",\"range\":[0.94,0.98]},\"xaxis\":{\"title\":{\"text\":\"\"},\"showline\":true,\"linecolor\":\"black\",\"linewidth\":1,\"ticks\":\"outside\",\"tickvals\":[0,1],\"ticktext\":[\"Contig\",\"Scaffold\"]},\"title\":{\"text\":\"Coverage comparison: contig and scaffold\"},\"width\":500,\"height\":400},                        {\"responsive\": true}                    ).then(function(){\n",
       "                            \n",
       "var gd = document.getElementById('80d458b4-ef71-4d60-af1b-562349b8419c');\n",
       "var x = new MutationObserver(function (mutations, observer) {{\n",
       "        var display = window.getComputedStyle(gd).display;\n",
       "        if (!display || display === 'none') {{\n",
       "            console.log([gd, 'removed!']);\n",
       "            Plotly.purge(gd);\n",
       "            observer.disconnect();\n",
       "        }}\n",
       "}});\n",
       "\n",
       "// Listen for the removal of the full notebook cells\n",
       "var notebookContainer = gd.closest('#notebook-container');\n",
       "if (notebookContainer) {{\n",
       "    x.observe(notebookContainer, {childList: true});\n",
       "}}\n",
       "\n",
       "// Listen for the clearing of the current output cell\n",
       "var outputEl = gd.closest('.output');\n",
       "if (outputEl) {{\n",
       "    x.observe(outputEl, {childList: true});\n",
       "}}\n",
       "\n",
       "                        })                };                });            </script>        </div>"
      ]
     },
     "metadata": {},
     "output_type": "display_data"
    }
   ],
   "source": [
    "plot_coverage_boxplots(\n",
    "    \"summary_tables/nanobodies/contig_scores_nanobodies_greedy.csv\",\n",
    "    \"summary_tables/nanobodies/scaffold_scores_nanobodies_greedy.csv\",\n",
    ")"
   ]
  }
 ],
 "metadata": {
  "kernelspec": {
   "display_name": "assembly",
   "language": "python",
   "name": "python3"
  },
  "language_info": {
   "codemirror_mode": {
    "name": "ipython",
    "version": 3
   },
   "file_extension": ".py",
   "mimetype": "text/x-python",
   "name": "python",
   "nbconvert_exporter": "python",
   "pygments_lexer": "ipython3",
   "version": "3.12.2"
  }
 },
 "nbformat": 4,
 "nbformat_minor": 5
}
