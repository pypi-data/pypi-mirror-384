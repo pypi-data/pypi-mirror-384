{
 "cells": [
  {
   "cell_type": "markdown",
   "metadata": {},
   "source": [
    "# PropFlow Analyzer: Complete Tutorial\n",
    "\n",
    "This notebook provides a comprehensive guide to using PropFlow's analyzer module for capturing, analyzing, and visualizing belief propagation dynamics.\n",
    "\n",
    "## Table of Contents\n",
    "1. [Setup and Imports](#setup)\n",
    "2. [Basic Snapshot Recording](#basic-recording)\n",
    "3. [Creating a Factor Graph](#factor-graph)\n",
    "4. [Recording BP Execution](#recording-execution)\n",
    "5. [Analyzing Snapshots](#analyzing-snapshots)\n",
    "6. [Visualizing Argmin Trajectories](#visualization)\n",
    "7. [Advanced Analysis: Message Flow](#message-flow)\n",
    "8. [Convergence Detection](#convergence)\n",
    "9. [Saving and Loading Snapshots](#persistence)\n",
    "10. [Comparative Analysis](#comparative-analysis)"
   ]
  },
  {
   "cell_type": "markdown",
   "metadata": {},
   "source": [
    "## 1. Setup and Imports <a name=\"setup\"></a>\n",
    "\n",
    "First, let's import all the necessary modules from PropFlow and the analyzer."
   ]
  },
  {
   "cell_type": "code",
   "execution_count": null,
   "metadata": {},
   "outputs": [],
   "source": [
    "import numpy as np\n",
    "import matplotlib.pyplot as plt\n",
    "import json\n",
    "from pathlib import Path\n",
    "import pandas as pd\n",
    "\n",
    "\n",
    "# PropFlow core imports\n",
    "from propflow import (\n",
    "    FactorGraph,\n",
    "    VariableAgent,\n",
    "    FactorAgent,\n",
    "    BPEngine,\n",
    "    DampingEngine,\n",
    "    SplitEngine,\n",
    "    FGBuilder,\n",
    "    CTFactory,\n",
    ")\n",
    "\n",
    "# Analyzer imports\n",
    "from analyzer.snapshot_recorder import EngineSnapshotRecorder, MessageSnapshot\n",
    "from analyzer.snapshot_visualizer import SnapshotVisualizer\n",
    "\n",
    "# Set random seed for reproducibility\n",
    "np.random.seed(42)\n",
    "\n",
    "# Configure matplotlib\n",
    "plt.rcParams['figure.figsize'] = (12, 6)\n",
    "plt.rcParams['figure.dpi'] = 100\n",
    "\n",
    "print(\"✓ All imports successful!\")"
   ]
  },
  {
   "cell_type": "markdown",
   "metadata": {},
   "source": [
    "## 2. Basic Snapshot Recording <a name=\"basic-recording\"></a>\n",
    "\n",
    "Let's start with a simple example to understand how the `EngineSnapshotRecorder` works."
   ]
  },
  {
   "cell_type": "code",
   "execution_count": null,
   "metadata": {},
   "outputs": [],
   "source": [
    "# Create a simple 2-variable problem\n",
    "v1 = VariableAgent(\"X1\", domain=3)\n",
    "v2 = VariableAgent(\"X2\", domain=3)\n",
    "\n",
    "# Define a simple cost table that prefers matching values\n",
    "cost_table = np.array([\n",
    "    [0, 5, 10],   # X1=0 with X2=0,1,2\n",
    "    [5, 0, 5],    # X1=1 with X2=0,1,2\n",
    "    [10, 5, 0]    # X1=2 with X2=0,1,2\n",
    "])\n",
    "\n",
    "def fixed_table(**kwargs):\n",
    "    return cost_table\n",
    "\n",
    "factor = FactorAgent(\"F_12\", domain=3, ct_creation_func=fixed_table)\n",
    "fg_simple = FactorGraph([v1, v2], [factor], edges={factor: [v1, v2]})\n",
    "\n",
    "print(\"Simple factor graph created:\")\n",
    "print(f\"  Variables: {[v.name for v in fg_simple.variables]}\")\n",
    "print(f\"  Factors: {[f.name for f in fg_simple.factors]}\")\n",
    "print(f\"\\nCost table (prefers matching values):\")\n",
    "print(cost_table)"
   ]
  },
  {
   "cell_type": "markdown",
   "metadata": {},
   "source": [
    "## 3. Creating a Factor Graph <a name=\"factor-graph\"></a>\n",
    "\n",
    "Let's create a more interesting factor graph - a cycle graph with 6 variables."
   ]
  },
  {
   "cell_type": "code",
   "execution_count": null,
   "metadata": {},
   "outputs": [],
   "source": [
    "# Build a cycle (ring) graph\n",
    "num_vars = 6\n",
    "domain_size = 4\n",
    "\n",
    "fg_cycle = FGBuilder.build_cycle_graph(\n",
    "    num_vars=num_vars,\n",
    "    domain_size=domain_size,\n",
    "    ct_factory=CTFactory.random_int.fn,\n",
    "    ct_params={\"low\": 0, \"high\": 20}\n",
    ")\n",
    "\n",
    "print(f\"Cycle graph created:\")\n",
    "print(f\"  Number of variables: {len(fg_cycle.variables)}\")\n",
    "print(f\"  Number of factors: {len(fg_cycle.factors)}\")\n",
    "print(f\"  Domain size: {domain_size}\")\n",
    "print(f\"\\nVariables: {[v.name for v in fg_cycle.variables]}\")\n",
    "print(f\"Factors: {[f.name for f in fg_cycle.factors]}\")"
   ]
  },
  {
   "cell_type": "markdown",
   "metadata": {},
   "source": [
    "## 4. Recording BP Execution <a name=\"recording-execution\"></a>\n",
    "\n",
    "Now let's run belief propagation and record every step of the execution."
   ]
  },
  {
   "cell_type": "code",
   "execution_count": null,
   "metadata": {},
   "outputs": [],
   "source": [
    "# Create a BP engine\n",
    "engine = BPEngine(factor_graph=fg_cycle)\n",
    "\n",
    "# Wrap the engine with the recorder\n",
    "recorder = EngineSnapshotRecorder(engine)\n",
    "\n",
    "# Record 20 iterations\n",
    "max_steps = 20\n",
    "snapshots = recorder.record_run(max_steps=max_steps)\n",
    "\n",
    "print(f\"✓ Recorded {len(snapshots)} iterations\")\n",
    "print(f\"\\nFirst snapshot structure:\")\n",
    "print(f\"  Keys: {list(snapshots[0].keys())}\")\n",
    "print(f\"  Step: {snapshots[0]['step']}\")\n",
    "print(f\"  Number of messages: {len(snapshots[0]['messages'])}\")\n",
    "print(f\"  Assignments: {snapshots[0]['assignments']}\")\n",
    "print(f\"  Cost: {snapshots[0]['cost']:.2f}\")"
   ]
  },
  {
   "cell_type": "markdown",
   "metadata": {},
   "source": [
    "## 5. Analyzing Snapshots <a name=\"analyzing-snapshots\"></a>\n",
    "\n",
    "Let's explore the captured data in detail."
   ]
  },
  {
   "cell_type": "code",
   "execution_count": null,
   "metadata": {},
   "outputs": [],
   "source": [
    "# Extract cost trajectory\n",
    "costs = [snap['cost'] for snap in snapshots]\n",
    "steps = [snap['step'] for snap in snapshots]\n",
    "\n",
    "# Plot cost convergence\n",
    "plt.figure(figsize=(10, 5))\n",
    "plt.plot(steps, costs, marker='o', linewidth=2, markersize=6)\n",
    "plt.xlabel('Iteration', fontsize=12)\n",
    "plt.ylabel('Global Cost', fontsize=12)\n",
    "plt.title('Cost Convergence Over Time', fontsize=14, fontweight='bold')\n",
    "plt.grid(True, alpha=0.3)\n",
    "plt.tight_layout()\n",
    "plt.show()\n",
    "\n",
    "print(f\"Initial cost: {costs[0]:.2f}\")\n",
    "print(f\"Final cost: {costs[-1]:.2f}\")\n",
    "print(f\"Cost reduction: {costs[0] - costs[-1]:.2f} ({100*(costs[0]-costs[-1])/costs[0]:.1f}%)\")"
   ]
  },
  {
   "cell_type": "markdown",
   "metadata": {},
   "source": [
    "### 5.1 Message Statistics\n",
    "\n",
    "Analyze the message flow throughout the execution."
   ]
  },
  {
   "cell_type": "code",
   "execution_count": null,
   "metadata": {},
   "outputs": [],
   "source": [
    "# Collect message statistics\n",
    "message_counts = [len(snap['messages']) for snap in snapshots]\n",
    "neutral_counts = [snap['neutral_messages'] for snap in snapshots]\n",
    "neutral_ratio = [n/m if m > 0 else 0 for n, m in zip(neutral_counts, message_counts)]\n",
    "\n",
    "# Create a DataFrame for easy viewing\n",
    "df_stats = pd.DataFrame({\n",
    "    'Step': steps,\n",
    "    'Cost': costs,\n",
    "    'Total Messages': message_counts,\n",
    "    'Neutral Messages': neutral_counts,\n",
    "    'Neutral Ratio': neutral_ratio\n",
    "})\n",
    "\n",
    "print(\"Message Statistics Summary:\")\n",
    "print(df_stats.head(10))\n",
    "print(\"\\n...\\n\")\n",
    "print(df_stats.tail(5))"
   ]
  },
  {
   "cell_type": "code",
   "execution_count": null,
   "metadata": {},
   "outputs": [],
   "source": [
    "# Plot neutral message ratio\n",
    "fig, axes = plt.subplots(1, 2, figsize=(14, 5))\n",
    "\n",
    "# Neutral messages over time\n",
    "axes[0].plot(steps, neutral_counts, marker='o', color='coral', label='Neutral Messages')\n",
    "axes[0].plot(steps, message_counts, marker='s', color='skyblue', alpha=0.6, label='Total Messages')\n",
    "axes[0].set_xlabel('Iteration')\n",
    "axes[0].set_ylabel('Message Count')\n",
    "axes[0].set_title('Message Counts Over Time')\n",
    "axes[0].legend()\n",
    "axes[0].grid(True, alpha=0.3)\n",
    "\n",
    "# Neutral ratio\n",
    "axes[1].plot(steps, neutral_ratio, marker='o', color='purple')\n",
    "axes[1].set_xlabel('Iteration')\n",
    "axes[1].set_ylabel('Neutral Message Ratio')\n",
    "axes[1].set_title('Proportion of Neutral Messages')\n",
    "axes[1].grid(True, alpha=0.3)\n",
    "axes[1].set_ylim([0, 1.05])\n",
    "\n",
    "plt.tight_layout()\n",
    "plt.show()"
   ]
  },
  {
   "cell_type": "markdown",
   "metadata": {},
   "source": [
    "### 5.2 Assignment Trajectory\n",
    "\n",
    "Track how variable assignments change over iterations."
   ]
  },
  {
   "cell_type": "code",
   "execution_count": null,
   "metadata": {},
   "outputs": [],
   "source": [
    "# Extract assignment trajectories\n",
    "variables = sorted(snapshots[0]['assignments'].keys())\n",
    "assignment_trajectories = {var: [] for var in variables}\n",
    "\n",
    "for snap in snapshots:\n",
    "    for var in variables:\n",
    "        assignment_trajectories[var].append(snap['assignments'].get(var, None))\n",
    "\n",
    "# Plot assignment changes\n",
    "plt.figure(figsize=(12, 6))\n",
    "for var in variables:\n",
    "    plt.plot(steps, assignment_trajectories[var], marker='o', label=var, linewidth=2, markersize=5)\n",
    "\n",
    "plt.xlabel('Iteration', fontsize=12)\n",
    "plt.ylabel('Assignment Value', fontsize=12)\n",
    "plt.title('Variable Assignments Over Time', fontsize=14, fontweight='bold')\n",
    "plt.legend(loc='best', ncol=2)\n",
    "plt.grid(True, alpha=0.3)\n",
    "plt.yticks(range(domain_size))\n",
    "plt.tight_layout()\n",
    "plt.show()\n",
    "\n",
    "# Check for convergence (stable assignments)\n",
    "stable_from = None\n",
    "for i in range(1, len(snapshots)):\n",
    "    if all(assignment_trajectories[var][i] == assignment_trajectories[var][i-1] for var in variables):\n",
    "        if stable_from is None:\n",
    "            stable_from = i\n",
    "    else:\n",
    "        stable_from = None\n",
    "\n",
    "if stable_from is not None:\n",
    "    print(f\"\\n✓ Assignments stabilized at iteration {stable_from}\")\n",
    "else:\n",
    "    print(f\"\\n⚠ Assignments did not stabilize within {max_steps} iterations\")"
   ]
  },
  {
   "cell_type": "markdown",
   "metadata": {},
   "source": [
    "## 6. Visualizing Argmin Trajectories <a name=\"visualization\"></a>\n",
    "\n",
    "Use the `SnapshotVisualizer` to visualize belief argmin trajectories."
   ]
  },
  {
   "cell_type": "code",
   "execution_count": null,
   "metadata": {},
   "outputs": [],
   "source": [
    "# Create visualizer from snapshots\n",
    "visualizer = SnapshotVisualizer.from_object(snapshots)\n",
    "\n",
    "# Get list of variables\n",
    "viz_variables = visualizer.variables()\n",
    "print(f\"Variables available for visualization: {viz_variables}\")\n",
    "\n",
    "# Get argmin series\n",
    "argmin_series = visualizer.argmin_series()\n",
    "\n",
    "print(\"\\nArgmin trajectories:\")\n",
    "for var, series in argmin_series.items():\n",
    "    print(f\"  {var}: {series}\")"
   ]
  },
  {
   "cell_type": "code",
   "execution_count": null,
   "metadata": {},
   "outputs": [],
   "source": [
    "# Plot argmin trajectories per variable\n",
    "visualizer.plot_argmin_per_variable(show=True, figsize=(12, 8))"
   ]
  },
  {
   "cell_type": "markdown",
   "metadata": {},
   "source": [
    "### 6.1 Selective Variable Visualization\n",
    "\n",
    "You can also visualize specific variables of interest."
   ]
  },
  {
   "cell_type": "code",
   "execution_count": null,
   "metadata": {},
   "outputs": [],
   "source": [
    "# Visualize only first 3 variables\n",
    "selected_vars = viz_variables[:3]\n",
    "print(f\"Visualizing: {selected_vars}\")\n",
    "\n",
    "visualizer.plot_argmin_per_variable(\n",
    "    vars_filter=selected_vars,\n",
    "    show=True,\n",
    "    figsize=(12, 6)\n",
    ")"
   ]
  },
  {
   "cell_type": "markdown",
   "metadata": {},
   "source": [
    "## 7. Advanced Analysis: Message Flow <a name=\"message-flow\"></a>\n",
    "\n",
    "Dive deeper into the message passing dynamics."
   ]
  },
  {
   "cell_type": "code",
   "execution_count": null,
   "metadata": {},
   "outputs": [],
   "source": [
    "# Analyze a specific iteration in detail\n",
    "iteration = 5\n",
    "snap = snapshots[iteration]\n",
    "\n",
    "print(f\"\\n=== Detailed Analysis of Iteration {iteration} ===\")\n",
    "print(f\"\\nGlobal Cost: {snap['cost']:.2f}\")\n",
    "print(f\"Assignments: {snap['assignments']}\")\n",
    "print(f\"\\nMessage Flow:\")\n",
    "\n",
    "# Group messages by flow direction\n",
    "v2f_messages = [msg for msg in snap['messages'] if msg['flow'] == 'variable_to_factor']\n",
    "f2v_messages = [msg for msg in snap['messages'] if msg['flow'] == 'factor_to_variable']\n",
    "\n",
    "print(f\"  Variable → Factor: {len(v2f_messages)} messages\")\n",
    "print(f\"  Factor → Variable: {len(f2v_messages)} messages\")\n",
    "\n",
    "# Show sample messages\n",
    "print(f\"\\nSample Factor → Variable messages:\")\n",
    "for i, msg in enumerate(f2v_messages[:3]):\n",
    "    print(f\"\\n  Message {i+1}:\")\n",
    "    print(f\"    {msg['sender']} → {msg['recipient']}\")\n",
    "    print(f\"    Values: {[f'{v:.2f}' for v in msg['values']]}\")\n",
    "    print(f\"    Argmin: {msg['argmin_index']} (value: {msg['values'][msg['argmin_index']]:.2f})\")\n",
    "    print(f\"    Neutral: {msg['neutral']}\")"
   ]
  },
  {
   "cell_type": "code",
   "execution_count": null,
   "metadata": {},
   "outputs": [],
   "source": [
    "# Visualize message value distributions at a specific iteration\n",
    "iteration = 10\n",
    "snap = snapshots[iteration]\n",
    "\n",
    "fig, axes = plt.subplots(2, 1, figsize=(12, 8))\n",
    "\n",
    "# Variable to Factor messages\n",
    "v2f_msgs = [msg for msg in snap['messages'] if msg['flow'] == 'variable_to_factor']\n",
    "for i, msg in enumerate(v2f_msgs[:4]):  # Show first 4 messages\n",
    "    axes[0].plot(msg['values'], marker='o', label=f\"{msg['sender']}→{msg['recipient']}\")\n",
    "axes[0].set_xlabel('Domain Value')\n",
    "axes[0].set_ylabel('Message Value')\n",
    "axes[0].set_title(f'Variable → Factor Messages (Iteration {iteration})')\n",
    "axes[0].legend()\n",
    "axes[0].grid(True, alpha=0.3)\n",
    "\n",
    "# Factor to Variable messages\n",
    "f2v_msgs = [msg for msg in snap['messages'] if msg['flow'] == 'factor_to_variable']\n",
    "for i, msg in enumerate(f2v_msgs[:4]):  # Show first 4 messages\n",
    "    axes[1].plot(msg['values'], marker='s', label=f\"{msg['sender']}→{msg['recipient']}\")\n",
    "axes[1].set_xlabel('Domain Value')\n",
    "axes[1].set_ylabel('Message Value')\n",
    "axes[1].set_title(f'Factor → Variable Messages (Iteration {iteration})')\n",
    "axes[1].legend()\n",
    "axes[1].grid(True, alpha=0.3)\n",
    "\n",
    "plt.tight_layout()\n",
    "plt.show()"
   ]
  },
  {
   "cell_type": "markdown",
   "metadata": {},
   "source": [
    "## 8. Convergence Detection <a name=\"convergence\"></a>\n",
    "\n",
    "Analyze convergence patterns and detect when the algorithm stabilizes."
   ]
  },
  {
   "cell_type": "code",
   "execution_count": null,
   "metadata": {},
   "outputs": [],
   "source": [
    "# Detect cost convergence\n",
    "cost_changes = [abs(costs[i] - costs[i-1]) for i in range(1, len(costs))]\n",
    "\n",
    "plt.figure(figsize=(12, 5))\n",
    "plt.semilogy(range(1, len(costs)), cost_changes, marker='o', linewidth=2)\n",
    "plt.xlabel('Iteration', fontsize=12)\n",
    "plt.ylabel('|Cost Change| (log scale)', fontsize=12)\n",
    "plt.title('Cost Change Magnitude Over Time', fontsize=14, fontweight='bold')\n",
    "plt.grid(True, alpha=0.3, which='both')\n",
    "plt.axhline(y=0.01, color='r', linestyle='--', label='Threshold = 0.01')\n",
    "plt.legend()\n",
    "plt.tight_layout()\n",
    "plt.show()\n",
    "\n",
    "# Find convergence point\n",
    "threshold = 0.01\n",
    "converged_at = None\n",
    "for i, change in enumerate(cost_changes):\n",
    "    if change < threshold:\n",
    "        converged_at = i + 1\n",
    "        break\n",
    "\n",
    "if converged_at:\n",
    "    print(f\"\\n✓ Cost converged (threshold={threshold}) at iteration {converged_at}\")\n",
    "else:\n",
    "    print(f\"\\n⚠ Cost did not converge below threshold {threshold}\")"
   ]
  },
  {
   "cell_type": "markdown",
   "metadata": {},
   "source": [
    "## 9. Saving and Loading Snapshots <a name=\"persistence\"></a>\n",
    "\n",
    "Persist snapshots to disk for later analysis."
   ]
  },
  {
   "cell_type": "code",
   "execution_count": null,
   "metadata": {},
   "outputs": [],
   "source": [
    "# Create results directory\n",
    "results_dir = Path(\"notebook_results\")\n",
    "results_dir.mkdir(exist_ok=True)\n",
    "\n",
    "# Save snapshots to JSON\n",
    "snapshot_path = results_dir / \"cycle_snapshots.json\"\n",
    "recorder.to_json(snapshot_path)\n",
    "print(f\"✓ Saved snapshots to: {snapshot_path}\")\n",
    "\n",
    "# Load snapshots back\n",
    "with open(snapshot_path, 'r') as f:\n",
    "    loaded_snapshots = json.load(f)\n",
    "\n",
    "print(f\"✓ Loaded {len(loaded_snapshots)} snapshots from disk\")\n",
    "print(f\"  First step: {loaded_snapshots[0]['step']}\")\n",
    "print(f\"  Last step: {loaded_snapshots[-1]['step']}\")"
   ]
  },
  {
   "cell_type": "code",
   "execution_count": null,
   "metadata": {},
   "outputs": [],
   "source": [
    "# Create visualizer from loaded JSON\n",
    "viz_from_file = SnapshotVisualizer.from_json(snapshot_path)\n",
    "\n",
    "# Save visualization plots\n",
    "plot_path = results_dir / \"argmin_trajectories.png\"\n",
    "combined_path = results_dir / \"argmin_combined.png\"\n",
    "\n",
    "viz_from_file.plot_argmin_per_variable(\n",
    "    show=False,\n",
    "    savepath=str(plot_path),\n",
    "    combined_savepath=str(combined_path)\n",
    ")\n",
    "\n",
    "print(f\"✓ Saved plots:\")\n",
    "print(f\"  Per-variable: {plot_path}\")\n",
    "print(f\"  Combined: {combined_path}\")"
   ]
  },
  {
   "cell_type": "markdown",
   "metadata": {},
   "source": [
    "## 10. Comparative Analysis <a name=\"comparative-analysis\"></a>\n",
    "\n",
    "Compare different BP variants using the analyzer."
   ]
  },
  {
   "cell_type": "code",
   "execution_count": null,
   "metadata": {},
   "outputs": [],
   "source": [
    "# Build a test problem\n",
    "np.random.seed(42)\n",
    "test_fg = FGBuilder.build_cycle_graph(\n",
    "    num_vars=8,\n",
    "    domain_size=5,\n",
    "    ct_factory=CTFactory.random_int.fn,\n",
    "    ct_params={\"low\": 0, \"high\": 30}\n",
    ")\n",
    "\n",
    "# Define engine configurations to compare\n",
    "engine_configs = [\n",
    "    (\"Standard BP\", BPEngine(factor_graph=test_fg)),\n",
    "    (\"Damping (0.9)\", DampingEngine(factor_graph=test_fg, damping_factor=0.9)),\n",
    "    (\"Damping (0.5)\", DampingEngine(factor_graph=test_fg, damping_factor=0.5)),\n",
    "]\n",
    "\n",
    "# Run and record each engine\n",
    "max_iters = 30\n",
    "comparison_results = {}\n",
    "\n",
    "for name, engine in engine_configs:\n",
    "    recorder = EngineSnapshotRecorder(engine)\n",
    "    snapshots = recorder.record_run(max_steps=max_iters)\n",
    "    comparison_results[name] = {\n",
    "        'snapshots': snapshots,\n",
    "        'costs': [s['cost'] for s in snapshots],\n",
    "        'recorder': recorder\n",
    "    }\n",
    "    print(f\"✓ Recorded {name}: {len(snapshots)} iterations\")\n",
    "\n",
    "print(\"\\nComparison complete!\")"
   ]
  },
  {
   "cell_type": "code",
   "execution_count": null,
   "metadata": {},
   "outputs": [],
   "source": [
    "# Plot cost comparison\n",
    "plt.figure(figsize=(12, 6))\n",
    "\n",
    "for name, result in comparison_results.items():\n",
    "    plt.plot(range(len(result['costs'])), result['costs'], \n",
    "             marker='o', linewidth=2, markersize=4, label=name)\n",
    "\n",
    "plt.xlabel('Iteration', fontsize=12)\n",
    "plt.ylabel('Global Cost', fontsize=12)\n",
    "plt.title('Cost Convergence Comparison', fontsize=14, fontweight='bold')\n",
    "plt.legend(fontsize=11)\n",
    "plt.grid(True, alpha=0.3)\n",
    "plt.tight_layout()\n",
    "plt.show()\n",
    "\n",
    "# Print final costs\n",
    "print(\"\\nFinal Costs:\")\n",
    "for name, result in comparison_results.items():\n",
    "    final_cost = result['costs'][-1]\n",
    "    initial_cost = result['costs'][0]\n",
    "    reduction = 100 * (initial_cost - final_cost) / initial_cost\n",
    "    print(f\"  {name:20s}: {final_cost:7.2f} (reduction: {reduction:5.1f}%)\")"
   ]
  },
  {
   "cell_type": "code",
   "execution_count": null,
   "metadata": {},
   "outputs": [],
   "source": [
    "# Compare argmin trajectories for one variable\n",
    "target_var = \"V_0\"  # First variable\n",
    "\n",
    "plt.figure(figsize=(12, 6))\n",
    "\n",
    "for name, result in comparison_results.items():\n",
    "    viz = SnapshotVisualizer.from_object(result['snapshots'])\n",
    "    series = viz.argmin_series([target_var])\n",
    "    plt.plot(range(len(series[target_var])), series[target_var], \n",
    "             marker='o', linewidth=2, markersize=5, label=name)\n",
    "\n",
    "plt.xlabel('Iteration', fontsize=12)\n",
    "plt.ylabel('Argmin Value', fontsize=12)\n",
    "plt.title(f'Argmin Trajectory Comparison for {target_var}', fontsize=14, fontweight='bold')\n",
    "plt.legend(fontsize=11)\n",
    "plt.grid(True, alpha=0.3)\n",
    "plt.tight_layout()\n",
    "plt.show()"
   ]
  },
  {
   "cell_type": "markdown",
   "metadata": {},
   "source": [
    "## Summary\n",
    "\n",
    "This notebook demonstrated the complete workflow for using PropFlow's analyzer module:\n",
    "\n",
    "1. **Recording**: Capture every iteration of BP execution with `EngineSnapshotRecorder`\n",
    "2. **Analysis**: Extract and analyze costs, assignments, and message statistics\n",
    "3. **Visualization**: Plot argmin trajectories using `SnapshotVisualizer`\n",
    "4. **Message Flow**: Dive deep into message passing dynamics\n",
    "5. **Convergence**: Detect and analyze convergence patterns\n",
    "6. **Persistence**: Save and load snapshots for reproducible analysis\n",
    "7. **Comparison**: Compare different BP variants side-by-side\n",
    "\n",
    "### Key Takeaways\n",
    "\n",
    "- The analyzer is **non-invasive** - it wraps engines without modifying them\n",
    "- **Complete capture** - every message, assignment, and cost is recorded\n",
    "- **Flexible analysis** - snapshots are JSON-compatible for integration with other tools\n",
    "- **Visual insights** - built-in visualization for quick understanding of dynamics\n",
    "\n",
    "### Next Steps\n",
    "\n",
    "- Experiment with different graph topologies (random, grid, tree)\n",
    "- Try other engine variants (SplitEngine, CostReductionEngine)\n",
    "- Analyze larger problems with snapshot sampling\n",
    "- Build custom analysis tools using the snapshot data"
   ]
  }
 ],
 "metadata": {
  "kernelspec": {
   "display_name": "Python 3",
   "language": "python",
   "name": "python3"
  },
  "language_info": {
   "codemirror_mode": {
    "name": "ipython",
    "version": 3
   },
   "file_extension": ".py",
   "mimetype": "text/x-python",
   "name": "python",
   "nbconvert_exporter": "python",
   "pygments_lexer": "ipython3",
   "version": "3.10.0"
  }
 },
 "nbformat": 4,
 "nbformat_minor": 4
}
