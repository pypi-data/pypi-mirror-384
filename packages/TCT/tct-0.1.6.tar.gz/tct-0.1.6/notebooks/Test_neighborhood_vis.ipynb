{
 "cells": [
  {
   "cell_type": "code",
   "execution_count": 9,
   "id": "a5b00e77",
   "metadata": {},
   "outputs": [],
   "source": [
    "# Test \n",
    "from TCT import name_resolver\n",
    "from TCT import node_normalizer\n",
    "from TCT import translator_query\n",
    "from TCT import translator_metakg\n",
    "from TCT import TCT_Visualization\n",
    "from TCT import TCT"
   ]
  },
  {
   "cell_type": "code",
   "execution_count": 2,
   "id": "9e896647",
   "metadata": {},
   "outputs": [],
   "source": [
    "APInames, metaKG, Translator_KP_info = translator_metakg.load_translator_resources()\n",
    "#Translator_KP_info "
   ]
  },
  {
   "cell_type": "code",
   "execution_count": 3,
   "id": "380a2b15",
   "metadata": {},
   "outputs": [],
   "source": [
    "All_predicates = list(set(metaKG['Predicate']))\n",
    "All_categories = list((set(list(set(metaKG['Subject']))+list(set(metaKG['Object'])))))\n",
    "API_withMetaKG = list(set(metaKG['API']))\n",
    "\n",
    "    # generate a dictionary of API and its predicates\n",
    "API_predicates = {}\n",
    "for api in API_withMetaKG:\n",
    "    API_predicates[api] = list(set(metaKG[metaKG['API'] == api]['Predicate']))"
   ]
  },
  {
   "cell_type": "code",
   "execution_count": 4,
   "id": "0e2b6dbd",
   "metadata": {},
   "outputs": [
    {
     "name": "stdout",
     "output_type": "stream",
     "text": [
      "TranslatorNode(curie='MONDO:0019391', label='Fanconi anemia', types=['biolink:Disease', 'biolink:DiseaseOrPhenotypicFeature', 'biolink:BiologicalEntity', 'biolink:ThingWithTaxon', 'biolink:NamedThing', 'biolink:Entity'], synonyms=None, curie_synonyms=None)\n",
      "TranslatorNode(curie='MONDO:0009215', label='Fanconi anemia complementation group A', types=['biolink:Disease', 'biolink:DiseaseOrPhenotypicFeature', 'biolink:BiologicalEntity', 'biolink:ThingWithTaxon', 'biolink:NamedThing', 'biolink:Entity'], synonyms=None, curie_synonyms=None)\n",
      "TranslatorNode(curie='MONDO:0011584', label='Fanconi anemia complementation group D1', types=['biolink:Disease', 'biolink:DiseaseOrPhenotypicFeature', 'biolink:BiologicalEntity', 'biolink:ThingWithTaxon', 'biolink:NamedThing', 'biolink:Entity'], synonyms=None, curie_synonyms=None)\n",
      "TranslatorNode(curie='MONDO:0009213', label='Fanconi anemia complementation group C', types=['biolink:Disease', 'biolink:DiseaseOrPhenotypicFeature', 'biolink:BiologicalEntity', 'biolink:ThingWithTaxon', 'biolink:NamedThing', 'biolink:Entity'], synonyms=None, curie_synonyms=None)\n",
      "TranslatorNode(curie='MONDO:0010351', label='Fanconi anemia complementation group B', types=['biolink:Disease', 'biolink:DiseaseOrPhenotypicFeature', 'biolink:BiologicalEntity', 'biolink:ThingWithTaxon', 'biolink:NamedThing', 'biolink:Entity'], synonyms=None, curie_synonyms=None)\n",
      "TranslatorNode(curie='MONDO:0011325', label='Fanconi anemia complementation group F', types=['biolink:Disease', 'biolink:DiseaseOrPhenotypicFeature', 'biolink:BiologicalEntity', 'biolink:ThingWithTaxon', 'biolink:NamedThing', 'biolink:Entity'], synonyms=None, curie_synonyms=None)\n",
      "TranslatorNode(curie='MONDO:0012186', label='Fanconi anemia complementation group I', types=['biolink:Disease', 'biolink:DiseaseOrPhenotypicFeature', 'biolink:BiologicalEntity', 'biolink:ThingWithTaxon', 'biolink:NamedThing', 'biolink:Entity'], synonyms=None, curie_synonyms=None)\n",
      "TranslatorNode(curie='MONDO:0012187', label='Fanconi anemia complementation group J', types=['biolink:Disease', 'biolink:DiseaseOrPhenotypicFeature', 'biolink:BiologicalEntity', 'biolink:ThingWithTaxon', 'biolink:NamedThing', 'biolink:Entity'], synonyms=None, curie_synonyms=None)\n",
      "TranslatorNode(curie='MONDO:0012565', label='Fanconi anemia complementation group N', types=['biolink:Disease', 'biolink:DiseaseOrPhenotypicFeature', 'biolink:BiologicalEntity', 'biolink:ThingWithTaxon', 'biolink:NamedThing', 'biolink:Entity'], synonyms=None, curie_synonyms=None)\n",
      "TranslatorNode(curie='MONDO:0013565', label='Fanconi anemia complementation group G', types=['biolink:Disease', 'biolink:DiseaseOrPhenotypicFeature', 'biolink:BiologicalEntity', 'biolink:ThingWithTaxon', 'biolink:NamedThing', 'biolink:Entity'], synonyms=None, curie_synonyms=None)\n"
     ]
    }
   ],
   "source": [
    "input_node_1 = \"fanconi anemia\"\n",
    "input_node_info = name_resolver.lookup(input_node_1, return_top_response=False,  biolink_type=\"biolink:Disease\")\n",
    "for k in input_node_info:\n",
    "    print(k)\n"
   ]
  },
  {
   "cell_type": "code",
   "execution_count": 5,
   "id": "84d82ae4",
   "metadata": {},
   "outputs": [],
   "source": [
    "input_node_1_id = \"MONDO:0019391\"\n",
    "input_node_1_category = [\"biolink:Disease\",'biolink:DiseaseOrPhenotypicFeature']\n",
    "\n",
    "input_node_2_category = [\"biolink:Gene\", 'biolink:Protein', 'biolink:Drug']"
   ]
  },
  {
   "cell_type": "code",
   "execution_count": 10,
   "id": "cb49ec5b",
   "metadata": {},
   "outputs": [
    {
     "name": "stdout",
     "output_type": "stream",
     "text": [
      "['biolink:occurs_together_in_literature_with', 'biolink:gene_associated_with_condition', 'biolink:disrupted_by', 'biolink:close_match', 'biolink:is_sequence_variant_of', 'biolink:subject_of_treatment_application_or_study_for_treatment_by', 'biolink:associated_with_resistance_to', 'biolink:has_participant', 'biolink:same_as', 'biolink:associated_with_sensitivity_to', 'biolink:related_to', 'biolink:coexists_with', 'biolink:condition_associated_with_gene', 'biolink:subclass_of', 'biolink:expressed_in', 'biolink:contraindicated_in', 'biolink:condition_prevented_by', 'biolink:disrupts', 'biolink:treats', 'biolink:target_for', 'biolink:located_in', 'biolink:derives_from', 'biolink:has_adverse_event', 'biolink:physically_interacts_with', 'biolink:associated_with', 'biolink:contribution_from', 'biolink:in_clinical_trials_for', 'biolink:produces', 'biolink:regulates', 'biolink:has_target', 'biolink:treats_or_applied_or_studied_to_treat', 'biolink:applied_to_treat', 'biolink:preventative_for_condition', 'biolink:negatively_correlated_with', 'biolink:has_input', 'biolink:contraindicated_for', 'biolink:actively_involved_in', 'biolink:interacts_with', 'biolink:genetically_associated_with', 'biolink:predisposes_to_condition', 'biolink:drug_regulatory_status_world_wide', 'biolink:exacerbates_condition', 'biolink:produced_by', 'biolink:precedes', 'biolink:correlated_with', 'biolink:affected_by', 'biolink:caused_by', 'biolink:contributes_to', 'biolink:condition_predisposed_by', 'biolink:associated_with_decreased_likelihood_of', 'biolink:has_part', 'biolink:affects', 'biolink:occurs_in', 'biolink:has_biomarker', 'biolink:manifestation_of', 'biolink:part_of', 'biolink:positively_correlated_with', 'biolink:has_phenotype', 'biolink:associated_with_increased_likelihood_of', 'biolink:causes', 'biolink:biomarker_for', 'biolink:ameliorates_condition']\n"
     ]
    }
   ],
   "source": [
    "from TCT import TCT\n",
    "sele_predicates, sele_APIs, API_URLs = TCT.sele_predicates_API(input_node_1_category,\n",
    "                                                                input_node_2_category,\n",
    "                                                                metaKG, APInames)\n",
    "\n",
    "print(sele_predicates)"
   ]
  },
  {
   "cell_type": "code",
   "execution_count": 11,
   "id": "50ae6edf",
   "metadata": {},
   "outputs": [],
   "source": [
    "query_json = TCT.format_query_json([input_node_1_id], [],\n",
    "                                   [input_node_1_category],\n",
    "                                   input_node_2_category,\n",
    "                                   sele_predicates)"
   ]
  },
  {
   "cell_type": "code",
   "execution_count": 12,
   "id": "272adaeb",
   "metadata": {},
   "outputs": [
    {
     "name": "stdout",
     "output_type": "stream",
     "text": [
      "CATRAX BigGIM DrugResponse Performance Phase KP - TRAPI 1.5.0: Success!\n",
      "Automat-pharos(Trapi v1.5.0): Success!\n",
      "Automat-monarchinitiative(Trapi v1.5.0): Success!\n",
      "Automat-robokop(Trapi v1.5.0): Success!\n",
      "RTX KG2 - TRAPI 1.5.0: Success!\n",
      "BioThings Explorer (BTE) TRAPI: Success!\n"
     ]
    }
   ],
   "source": [
    "result = translator_query.parallel_api_query(query_json=query_json,\n",
    "                             select_APIs= sele_APIs,\n",
    "                             APInames=APInames,\n",
    "                             API_predicates=API_predicates,\n",
    "                             max_workers=len(sele_APIs))"
   ]
  },
  {
   "cell_type": "code",
   "execution_count": 16,
   "id": "cac22788",
   "metadata": {},
   "outputs": [
    {
     "name": "stdout",
     "output_type": "stream",
     "text": [
      "NCBIGene:28755: no preferred name\n",
      "NodeNorm does not know about these identifiers: NCBIGene:130005444,RGD:9404643,NCBIGene:100616102,orphanet:121709,orphanet:121693,NCBIGene:129996245,orphanet:121700,WB:WBGene00004297,WB:WBGene00001773,NCBIGene:130058347,NCBIGene:126862571,NCBIGene:28874,orphanet:121722,orphanet:118208,NCBIGene:130059839,orphanet:119068,WB:WBGene00001771,orphanet:121715,NCBIGene:130005443,NCBIGene:130055524,NCBIGene:28299,NCBIGene:NaN,NCBIGene:100187761,orphanet:229784,NCBIGene:130058543,orphanet:121595,WB:WBGene00012767,NCBIGene:100616496,orphanet:138447,WB:WBGene00020935,NCBIGene:129390903,NCBIGene:105376906,WB:WBGene00001753,orphanet:299649,NCBIGene:132090450,orphanet:498301,NCBIGene:470,orphanet:119080,NCBIGene:50975,NCBIGene:8105,NCBIGene:112486220,NCBIGene:130002128,orphanet:121719,NCBIGene:266710,NCBIGene:130061310,NCBIGene:100862688,ENSEMBL:ENSP00000368464,NCBIGene:2656,NCBIGene:907,WB:WBGene00001749,orphanet:119072,WB:WBGene00001759,WB:WBGene00001049,orphanet:121705,WB:WBGene00000264,NCBIGene:107303338,WB:WBGene00008140,orphanet:121726,NCBIGene:118027463,orphanet:259354,WB:WBGene00011415,NCBIGene:111589215,NCBIGene:100187828,ENSEMBL:SNORD3@,NCBIGene:130059837,ENSEMBL:pRNA,ENSEMBL:ENSP00000316898,orphanet:121730,NCBIGene:8066,orphanet:477480,ENSEMBL:hsa-miR-1304-3p\n",
      "gene_associated_with_condit.html\n"
     ]
    }
   ],
   "source": [
    "dic_graph = TCT_Visualization.visualize_neighborhood_graph(result, show_label=True, height=\"500\", width=\"100%\")"
   ]
  },
  {
   "cell_type": "code",
   "execution_count": 17,
   "id": "7530a405",
   "metadata": {},
   "outputs": [
    {
     "data": {
      "text/plain": [
       "{'gene_associated_with_condit': <networkx.classes.digraph.DiGraph at 0x32a922510>,\n",
       " 'contributes_t': <networkx.classes.digraph.DiGraph at 0x32a9225d0>,\n",
       " 'treats_or_applied_or_studied_to_treat': <networkx.classes.digraph.DiGraph at 0x3289d4aa0>,\n",
       " 'genetically_associated_with': <networkx.classes.digraph.DiGraph at 0x3289d7ee0>,\n",
       " 'contraindicated_': <networkx.classes.digraph.DiGraph at 0x3289d7d80>,\n",
       " 'close_match': <networkx.classes.digraph.DiGraph at 0x3289d78b0>,\n",
       " 'causes': <networkx.classes.digraph.DiGraph at 0x328b7f1d0>,\n",
       " 'related_t': <networkx.classes.digraph.DiGraph at 0x328b7f070>,\n",
       " 'marker_for': <networkx.classes.digraph.DiGraph at 0x328b7efc0>,\n",
       " '_clinical_trials_for': <networkx.classes.digraph.DiGraph at 0x328b7ef10>,\n",
       " 'affects': <networkx.classes.digraph.DiGraph at 0x328b7ee60>,\n",
       " 'ccurs_together_in_literature_with': <networkx.classes.digraph.DiGraph at 0x328b7edb0>,\n",
       " 'subclass_of': <networkx.classes.digraph.DiGraph at 0x1085aa4c0>}"
      ]
     },
     "execution_count": 17,
     "metadata": {},
     "output_type": "execute_result"
    }
   ],
   "source": [
    "dic_graph"
   ]
  },
  {
   "cell_type": "code",
   "execution_count": 19,
   "id": "0334ee44",
   "metadata": {},
   "outputs": [
    {
     "name": "stdout",
     "output_type": "stream",
     "text": [
      "merged_graph.html\n"
     ]
    },
    {
     "data": {
      "text/html": [
       "\n",
       "        <iframe\n",
       "            width=\"100%\"\n",
       "            height=\"1000px\"\n",
       "            src=\"merged_graph.html\"\n",
       "            frameborder=\"0\"\n",
       "            allowfullscreen\n",
       "            \n",
       "        ></iframe>\n",
       "        "
      ],
      "text/plain": [
       "<IPython.lib.display.IFrame at 0x328b49bd0>"
      ]
     },
     "execution_count": 19,
     "metadata": {},
     "output_type": "execute_result"
    }
   ],
   "source": [
    "import networkx as nx\n",
    "from pyvis.network import Network\n",
    "G1 = dic_graph['marker_for']\n",
    "G2 = dic_graph['gene_associated_with_condit']\n",
    "G_merged = nx.compose(G1, G2)\n",
    "selected_nodes = [n for n, d in G_merged.degree() if d > 1]\n",
    "subgraph = G_merged.subgraph(selected_nodes).copy()\n",
    "\n",
    "net = Network(height=\"1000px\", width=\"100%\", notebook=True, cdn_resources=\"in_line\")\n",
    "net.from_nx(subgraph)\n",
    "\n",
    "# Remove edge labels before passing to PyVis\n",
    "for u, v, d in subgraph.edges(data=True):\n",
    "    d.pop(\"label\", None)  # remove 'label' if it exists\n",
    "\n",
    "\n",
    "for e in net.edges:\n",
    "    e[\"title\"] = \"\\n\".join([f\"{k}: {v}\" for k,v in subgraph[e[\"from\"]][e[\"to\"]].items()])\n",
    "# add title in the figure\n",
    "title_html = f\"<h3>merged_graph</h3>\"\n",
    "net.title = title_html + f\"<p>Nodes: {net.num_nodes()} Edges: {net.num_edges()}</p>\"\n",
    "net.show(\"merged_graph.html\")"
   ]
  }
 ],
 "metadata": {
  "kernelspec": {
   "display_name": "my-rdkit-env",
   "language": "python",
   "name": "python3"
  },
  "language_info": {
   "codemirror_mode": {
    "name": "ipython",
    "version": 3
   },
   "file_extension": ".py",
   "mimetype": "text/x-python",
   "name": "python",
   "nbconvert_exporter": "python",
   "pygments_lexer": "ipython3",
   "version": "3.13.5"
  }
 },
 "nbformat": 4,
 "nbformat_minor": 5
}
