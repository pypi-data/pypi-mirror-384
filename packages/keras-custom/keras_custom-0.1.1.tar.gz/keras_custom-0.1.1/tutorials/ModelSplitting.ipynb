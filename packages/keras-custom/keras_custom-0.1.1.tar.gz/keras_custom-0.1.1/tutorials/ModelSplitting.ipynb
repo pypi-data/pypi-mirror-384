{
 "cells": [
  {
   "cell_type": "markdown",
   "id": "e180ad92-2158-4b0d-9635-7b439e4a225e",
   "metadata": {},
   "source": [
    "# Model Splitting: Creating Nested Models While Maintaining Functionality\n"
   ]
  },
  {
   "cell_type": "markdown",
   "id": "183d7f09-6dae-48f1-9738-7cf204079c12",
   "metadata": {},
   "source": [
    "In this tutorial, we will demonstrate how to split an existing Keras model into a sequence of nested models. The goal is to preserve the same underlying function of the original model but restructure it into smaller, modular components for easier inspection or experimentation."
   ]
  },
  {
   "cell_type": "markdown",
   "id": "33c11b5b-7282-4126-a615-816ea532174b",
   "metadata": {},
   "source": [
    "## Step 1: Setting Up the Environment\n",
    "\n",
    "If you're running this tutorial on **Google Colab**, follow these steps to install the required libraries and dependencies:"
   ]
  },
  {
   "cell_type": "code",
   "execution_count": null,
   "id": "a2f40c96-c94a-4886-93d0-64f0a339e5da",
   "metadata": {},
   "outputs": [],
   "source": [
    "# On Colab: install the library\n",
    "on_colab = \"google.colab\" in str(get_ipython())\n",
    "if on_colab:\n",
    "    import sys  # noqa: avoid having this import removed by pycln\n",
    "\n",
    "    # install dev version for dev doc, or release version for release doc\n",
    "    !{sys.executable} -m pip install -U pip\n",
    "    !{sys.executable} -m pip install git+https://github.com/ducoffeM/keras_custom@main#egg=decomon\n",
    "    # install desired backend (by default torch)\n",
    "    !{sys.executable} -m pip install \"torch\"\n",
    "    !{sys.executable} -m pip install \"keras\"\n",
    "\n",
    "    # extra librabry used in this notebook\n",
    "    !{sys.executable} -m pip install \"numpy\"\n",
    "    # missing imports IPython"
   ]
  },
  {
   "cell_type": "markdown",
   "id": "a97564f9-a24e-4bd9-bf3f-a0643c4cb172",
   "metadata": {},
   "source": [
    "## Step 2: Import Required Libraries\n",
    "Next, we import the necessary libraries for our model and image processing."
   ]
  },
  {
   "cell_type": "code",
   "execution_count": null,
   "id": "f15f0d82-f2a3-49d0-9b0f-b7975655f59e",
   "metadata": {},
   "outputs": [],
   "source": [
    "import os\n",
    "\n",
    "import keras\n",
    "import keras.backend as K\n",
    "import numpy as np\n",
    "from IPython.display import HTML, Image, display\n",
    "from keras.applications.resnet50 import ResNet50, decode_predictions, preprocess_input\n",
    "from keras.layers import Activation\n",
    "from keras.models import Model, Sequential"
   ]
  },
  {
   "cell_type": "markdown",
   "id": "6ea3c8c8-b504-4a7f-8894-1fad81964a8d",
   "metadata": {},
   "source": [
    "## Step 3: Download and Preprocess the Image\n",
    "We will use an image of an elephant for our prediction. If the image file is not present, it will be downloaded from the web."
   ]
  },
  {
   "cell_type": "code",
   "execution_count": null,
   "id": "47e0c3df-e9ed-4115-b350-437b34662399",
   "metadata": {},
   "outputs": [],
   "source": [
    "# Check if the image is already available\n",
    "if not os.path.isfile(\"elephant.jpg\"):\n",
    "    !wget https://upload.wikimedia.org/wikipedia/commons/f/f9/Zoorashia_elephant.jpg -O elephant.jpg\n",
    "\n",
    "# Load and preprocess the image\n",
    "img_path = \"elephant.jpg\"\n",
    "img = keras.utils.load_img(img_path, target_size=(224, 224))\n",
    "x = keras.utils.img_to_array(img)\n",
    "x = np.expand_dims(x, axis=0)  # Add batch dimension\n",
    "x = preprocess_input(x)  # Preprocess image for ResNet50"
   ]
  },
  {
   "cell_type": "markdown",
   "id": "7f6c01d9-cc65-4f70-b8b7-fa1b186c64ef",
   "metadata": {},
   "source": [
    "## Step 4: Load the Pre-trained Model\n",
    "We will use the ResNet50 model pre-trained on ImageNet to make predictions."
   ]
  },
  {
   "cell_type": "code",
   "execution_count": null,
   "id": "dd20184c-7888-4558-846a-ce10363a5cee",
   "metadata": {},
   "outputs": [],
   "source": [
    "# Load the ResNet50 model without the final classification layer\n",
    "model = ResNet50(weights=\"imagenet\", classifier_activation=None)\n",
    "\n",
    "# Make a prediction\n",
    "preds = model.predict(x)\n",
    "\n",
    "# Decode the predictions to show the top 3 predictions\n",
    "print(\"Predicted:\", decode_predictions(preds, top=3)[0])"
   ]
  },
  {
   "cell_type": "markdown",
   "id": "f1292a6e-9c17-40ab-9301-18d2bb677ee4",
   "metadata": {},
   "source": [
    "## Step 5: Split the Model into Nested Models\n",
    "The goal is to break down the ResNet50 model into smaller, modular nested models. Each nested model will correspond to a part of the original model up to a specific layer. The split will be based on the activations of certain layers.\n",
    "\n",
    "**Identify Layers to Split**\n",
    "We will first identify the layers with activation functions (ReLU layers) and choose some layers to use as split points. For simplicity, let's pick layers at indices [0, 4, 8, 12, -1]."
   ]
  },
  {
   "cell_type": "code",
   "execution_count": null,
   "id": "ff9b7726-8634-4373-9c6e-721f6fafe7ee",
   "metadata": {},
   "outputs": [],
   "source": [
    "import keras_custom\n",
    "from keras_custom.model import get_nested_model\n",
    "\n",
    "# Identify activation layers (ReLU) in the model\n",
    "relu_name = [\n",
    "    e.name for e in model.layers if isinstance(e, Activation) and e.name.split(\"_\")[-1] == \"out\"\n",
    "]\n",
    "\n",
    "# Select layers to split at\n",
    "indices = [0, 4, 8, 12, -1]\n",
    "split = [relu_name[i] for i in indices] + [model.layers[-1].name]"
   ]
  },
  {
   "cell_type": "markdown",
   "id": "fffcda6a-df0b-4e90-8be4-156ea49a2fcc",
   "metadata": {},
   "source": [
    "**Create Nested Models**\n",
    "\n",
    "Now, we will create a list of nested models by using the selected layers for the splits. Each nested model is built starting from the previous layer."
   ]
  },
  {
   "cell_type": "code",
   "execution_count": null,
   "id": "a9d2af4f-7c18-4323-8980-0cab5645a555",
   "metadata": {},
   "outputs": [],
   "source": [
    "# Initialize variables\n",
    "layer_in = None\n",
    "input_shape_wo_batch = list(model.input.shape[1:])\n",
    "nested_models = []\n",
    "\n",
    "# Loop through the selected split layers and create nested models\n",
    "for name in split:\n",
    "    layer_out = model.get_layer(name)\n",
    "    nested_model = get_nested_model(model, layer_out, layer_in, input_shape_wo_batch)\n",
    "    layer_in = layer_out\n",
    "    nested_models.append(nested_model)\n",
    "\n",
    "# Combine all nested models into a Sequential model\n",
    "model_seq = Sequential(layers=nested_models)"
   ]
  },
  {
   "cell_type": "markdown",
   "id": "246260bc-9acd-4bc6-8c42-5ec3d627c37b",
   "metadata": {},
   "source": [
    "## Step 6: Verify Predictions\n",
    "We can now check whether the nested model produces the same predictions as the original ResNet50 model."
   ]
  },
  {
   "cell_type": "code",
   "execution_count": null,
   "id": "e5aba7da-ee4a-4e12-933f-fd423810537e",
   "metadata": {},
   "outputs": [],
   "source": [
    "# Make predictions using the nested model sequence\n",
    "preds_ = model_seq.predict(x)\n",
    "\n",
    "# Ensure the predictions are almost identical\n",
    "np.testing.assert_almost_equal(preds, preds_)\n",
    "\n",
    "# Print the prediction results\n",
    "print(\"Predicted:\", decode_predictions(preds, top=3)[0])"
   ]
  },
  {
   "cell_type": "markdown",
   "id": "63b34704-df4a-4475-b14c-fe5f6a99f612",
   "metadata": {},
   "source": [
    "## Step 7: Visualize the Nested Model Architecture\n",
    "Finally, we can visualize the architecture of the newly created model using Keras' built-in plot_model function."
   ]
  },
  {
   "cell_type": "code",
   "execution_count": null,
   "id": "a4e528e5-53eb-4929-af02-eaf3973d8dc0",
   "metadata": {},
   "outputs": [],
   "source": [
    "# Save model architecture visualization to a file\n",
    "dot_img_file_backward = \"./ResNet50_nested.png\"\n",
    "keras.utils.plot_model(\n",
    "    model_seq, to_file=dot_img_file_backward, show_shapes=True, show_layer_names=True\n",
    ")\n",
    "\n",
    "# Display the model architecture image\n",
    "display(\n",
    "    HTML(\n",
    "        '<div style=\"text-align: center;\"><img src=\"{}\" width=\"800\"/></div>'.format(\n",
    "            dot_img_file_backward\n",
    "        )\n",
    "    )\n",
    ")"
   ]
  },
  {
   "cell_type": "markdown",
   "id": "eb72c2f2-622f-40e7-adfa-5f7456c05e6c",
   "metadata": {},
   "source": [
    "# Conclusion\n",
    "\n",
    "In this tutorial, we successfully split the ResNet50 model into a sequence of nested models. Each nested model corresponds to a portion of the original model, and we verified that the nested models produce the same predictions as the original model. This approach can be useful for visualizing and debugging complex models by breaking them down into smaller components."
   ]
  },
  {
   "cell_type": "code",
   "execution_count": null,
   "id": "c7734f50-eee8-4029-88ff-14d1a1018296",
   "metadata": {},
   "outputs": [],
   "source": []
  }
 ],
 "metadata": {
  "kernelspec": {
   "display_name": "Python 3 (ipykernel)",
   "language": "python",
   "name": "python3"
  },
  "language_info": {
   "codemirror_mode": {
    "name": "ipython",
    "version": 3
   },
   "file_extension": ".py",
   "mimetype": "text/x-python",
   "name": "python",
   "nbconvert_exporter": "python",
   "pygments_lexer": "ipython3",
   "version": "3.9.6"
  }
 },
 "nbformat": 4,
 "nbformat_minor": 5
}
