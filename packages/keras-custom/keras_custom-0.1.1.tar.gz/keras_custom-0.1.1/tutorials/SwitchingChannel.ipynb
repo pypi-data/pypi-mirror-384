{
 "cells": [
  {
   "cell_type": "markdown",
   "id": "dfb10771-2e07-4c14-a4f2-d56057f503dd",
   "metadata": {},
   "source": [
    "# Tutorial: Switching the `data_format` in Keras Models"
   ]
  },
  {
   "cell_type": "markdown",
   "id": "283dddf3-4319-48df-985c-6985faef13e2",
   "metadata": {},
   "source": [
    "In this tutorial, we will demonstrate how to modify the input channel order (i.e., `data_format`) of a pre-trained Keras model. Specifically, we will swap between the `channels_first` and `channels_last` formats, allowing the model to process input images in a different format while maintaining the same underlying functionality.\n",
    "\n",
    "We will also walk you through splitting an existing model into smaller, modular components for easier experimentation."
   ]
  },
  {
   "cell_type": "markdown",
   "id": "1f15faca-5f02-434c-86c4-b1450031739b",
   "metadata": {},
   "source": [
    "## Step 1: Setting Up the Environment\n",
    "\n",
    "If you're running this tutorial on **Google Colab**, follow these steps to install the required libraries and dependencies:"
   ]
  },
  {
   "cell_type": "code",
   "execution_count": null,
   "id": "9321c482-54fb-4a85-9249-f481ecee1876",
   "metadata": {},
   "outputs": [],
   "source": [
    "# On Colab: install the library\n",
    "on_colab = \"google.colab\" in str(get_ipython())\n",
    "if on_colab:\n",
    "    import sys  # noqa: avoid having this import removed by pycln\n",
    "\n",
    "    # install dev version for dev doc, or release version for release doc\n",
    "    !{sys.executable} -m pip install -U pip\n",
    "    !{sys.executable} -m pip install git+https://github.com/ducoffeM/keras_custom@main#egg=decomon\n",
    "    # install desired backend (by default torch)\n",
    "    !{sys.executable} -m pip install \"torch\"\n",
    "    !{sys.executable} -m pip install \"keras\"\n",
    "\n",
    "    # extra librabry used in this notebook\n",
    "    !{sys.executable} -m pip install \"numpy\"\n",
    "    # missing imports IPython"
   ]
  },
  {
   "cell_type": "markdown",
   "id": "3ea8eae6-5d2f-4d6f-a25d-a45e464068c8",
   "metadata": {},
   "source": [
    "## Step 2: Import Required Libraries\n",
    "First, we need to import the necessary libraries for model manipulation and image preprocessing."
   ]
  },
  {
   "cell_type": "code",
   "execution_count": null,
   "id": "74b99611-4118-4473-96cb-8e68accac50e",
   "metadata": {},
   "outputs": [],
   "source": [
    "import os\n",
    "\n",
    "import keras\n",
    "import numpy as np\n",
    "from IPython.display import HTML, Image, display\n",
    "from keras.applications.resnet50 import ResNet50, decode_predictions, preprocess_input\n",
    "from keras.layers import Activation\n",
    "from keras.models import Model, Sequential"
   ]
  },
  {
   "cell_type": "markdown",
   "id": "ebb7e82c-2d0b-4a10-a379-7f0079aa66c6",
   "metadata": {},
   "source": [
    "## Step 3: Download and Preprocess the Image\n",
    "We will use an image of an elephant for our prediction. If the image file is not present, it will be downloaded from the web."
   ]
  },
  {
   "cell_type": "code",
   "execution_count": null,
   "id": "d12b1fce-4ed2-40c0-a77d-e5b29b4e2fbe",
   "metadata": {},
   "outputs": [],
   "source": [
    "# Check if the image is already available\n",
    "if not os.path.isfile(\"elephant.jpg\"):\n",
    "    !wget https://upload.wikimedia.org/wikipedia/commons/f/f9/Zoorashia_elephant.jpg -O elephant.jpg\n",
    "\n",
    "# Load and preprocess the image\n",
    "img_path = \"elephant.jpg\"\n",
    "img = keras.utils.load_img(img_path, target_size=(224, 224))\n",
    "x = keras.utils.img_to_array(img)\n",
    "x = np.expand_dims(x, axis=0)  # Add batch dimension\n",
    "x = preprocess_input(x)  # Preprocess image for ResNet50"
   ]
  },
  {
   "cell_type": "markdown",
   "id": "ac123eb5-1595-444e-9f3e-a054bfff9f90",
   "metadata": {},
   "source": [
    "## Step 4: Load the Pre-trained Model\n",
    "Next, we load the pre-trained ResNet50 model without the final classification layer. This allows us to use the model for feature extraction or to make predictions without the final dense layer."
   ]
  },
  {
   "cell_type": "code",
   "execution_count": null,
   "id": "a6fc83e5-47cb-4b91-ad01-363fca901281",
   "metadata": {},
   "outputs": [],
   "source": [
    "# Load the ResNet50 model without the final classification layer\n",
    "model = ResNet50(weights=\"imagenet\", classifier_activation=None)\n",
    "\n",
    "# Make a prediction\n",
    "preds = model.predict(x)\n",
    "\n",
    "# Decode the predictions to show the top 3 predictions\n",
    "print(\"Predicted:\", decode_predictions(preds, top=3)[0])"
   ]
  },
  {
   "cell_type": "markdown",
   "id": "6196a33b-3b3c-4d5a-9749-9f7ce7d7e5a6",
   "metadata": {},
   "source": [
    "## Step 5: Switch the Input Channel Format\n",
    "\n",
    "In this step, we will modify the input channel format of the model. Specifically, we will switch between `channels_first` and `channels_last`.\n",
    "This is useful when you need to work with models built with different channel order conventions.\n",
    "\n",
    "We will use a custom utility function switch_model_input_channel, which handles this transformation."
   ]
  },
  {
   "cell_type": "code",
   "execution_count": null,
   "id": "54712709-7442-423b-b1c9-cb13d10d3dd4",
   "metadata": {},
   "outputs": [],
   "source": [
    "def get_data_format(model):\n",
    "    for layer in model.layers:\n",
    "        if hasattr(layer, \"data_format\"):\n",
    "            return layer.data_format\n",
    "    return \"channels_first\""
   ]
  },
  {
   "cell_type": "code",
   "execution_count": null,
   "id": "3b45a0ec-8078-4b8b-b43c-a547a8f8d1fe",
   "metadata": {},
   "outputs": [],
   "source": [
    "from keras_custom.model.channel import switch_model_input_channel\n",
    "\n",
    "original_data_format = get_data_format(model)\n",
    "# Switch the channel format of the model to 'channels_last'\n",
    "model_last, _ = switch_model_input_channel(model, original_data_format)\n",
    "\n",
    "# Permute the input image to match the 'channels_last' format\n",
    "if original_data_format == \"channels_first\":\n",
    "    y = np.transpose(\n",
    "        x, (0, 2, 3, 1)\n",
    "    )  # Change the dimensions to (batch_size, height, width, channel)\n",
    "else:\n",
    "    y = np.transpose(\n",
    "        x, (0, 3, 1, 2)\n",
    "    )  # Change the dimensions to (batch_size, channel, height, width)\n",
    "\n",
    "# Make a prediction with the modified model\n",
    "preds_ = model_last.predict(y)\n",
    "\n",
    "np.testing.assert_almost_equal(preds, preds_, decimal=5)"
   ]
  },
  {
   "cell_type": "code",
   "execution_count": null,
   "id": "a4ba8a50-cb25-4629-ba93-c33eb13efbb2",
   "metadata": {},
   "outputs": [],
   "source": [
    "# Decode the predictions to show the top 3 predictions\n",
    "print(\"Predicted (with switched channel format):\", decode_predictions(preds_, top=3)[0])"
   ]
  },
  {
   "cell_type": "markdown",
   "id": "76082102-0381-4b9a-b873-f78b32cbe0a7",
   "metadata": {},
   "source": [
    "### Key Points:\n",
    "- The `switch_model_input_channel` function swaps the channel format of the model.\n",
    "- We use `np.transpose` to reorder the image dimensions, switching from `(batch_size, height, width, channels)` to `(batch_size, channels, height, width)` for `channels_first`.\n",
    "- After modifying the model, we make a prediction using the transformed model.\n"
   ]
  },
  {
   "cell_type": "markdown",
   "id": "a8cd18ef-7895-4849-ba9b-e8acf253343d",
   "metadata": {},
   "source": [
    "### Conclusion\n",
    "\n",
    "In this tutorial, we demonstrated how to:\n",
    "\n",
    "- Load and preprocess an image for use with a pre-trained Keras model.\n",
    "- Use ResNet50 to make predictions on the image.\n",
    "- Modify the input channel format (`channels_first` to `channels_last` and vice versa) for the model using a custom utility function.\n",
    "- Apply the necessary transformations to the input tensor to match the new channel format and make predictions.\n",
    "\n",
    "This approach allows you to experiment with different input formats for your Keras models without modifying the underlying architecture, making it a useful technique for working with models in different environments or frameworks.\n"
   ]
  },
  {
   "cell_type": "code",
   "execution_count": null,
   "id": "11bda533-a033-4d4a-ac96-57003bdd5e3a",
   "metadata": {},
   "outputs": [],
   "source": []
  }
 ],
 "metadata": {
  "kernelspec": {
   "display_name": "Python 3 (ipykernel)",
   "language": "python",
   "name": "python3"
  },
  "language_info": {
   "codemirror_mode": {
    "name": "ipython",
    "version": 3
   },
   "file_extension": ".py",
   "mimetype": "text/x-python",
   "name": "python",
   "nbconvert_exporter": "python",
   "pygments_lexer": "ipython3",
   "version": "3.9.6"
  }
 },
 "nbformat": 4,
 "nbformat_minor": 5
}
