{
 "cells": [
  {
   "cell_type": "code",
   "id": "initial_id",
   "metadata": {
    "collapsed": true,
    "ExecuteTime": {
     "end_time": "2025-10-12T01:41:35.935325700Z",
     "start_time": "2025-10-12T01:41:05.916905900Z"
    }
   },
   "source": [
    "\n",
    "import sys\n",
    "import logging\n",
    "import time\n",
    "import psutil\n",
    "import os\n",
    "from pathlib import Path\n",
    "from typing import Dict, Tuple\n",
    "import warnings\n",
    "warnings.filterwarnings('ignore')\n",
    "\n",
    "import pandas as pd\n",
    "import numpy as np\n",
    "import matplotlib.pyplot as plt\n",
    "import seaborn as sns\n",
    "\n",
    "# ENAHOPY imports\n",
    "try:\n",
    "    from enahopy.loader import ENAHODataDownloader, ENAHOConfig\n",
    "    from enahopy.loader.core.cache import CacheManager\n",
    "except ImportError:\n",
    "    print(\"ERROR: enahopy no está instalado. Instale con: pip install enahopy\")\n",
    "    sys.exit(1)\n"
   ],
   "outputs": [],
   "execution_count": 1
  },
  {
   "metadata": {
    "ExecuteTime": {
     "end_time": "2025-10-12T01:42:15.576626600Z",
     "start_time": "2025-10-12T01:42:13.447242700Z"
    }
   },
   "cell_type": "code",
   "source": [
    "    def load_sumaria_module(self, year: int, downloader: ENAHODataDownloader) -> pd.DataFrame:\n",
    "        \"\"\"Carga el módulo sumaria\"\"\"\n",
    "        logger.info(f\"Descargando módulo sumaria año {year}...\")\n",
    "\n",
    "        try:\n",
    "            # Intentar descargar módulo sumaria (código 34)\n",
    "            result = downloader.download(\n",
    "                modules=['34'],  # Sumarias (Variables Calculadas)\n",
    "                years=[str(year)],\n",
    "                output_dir='./data',\n",
    "                decompress=True,\n",
    "                load_dta=True\n",
    "            )\n",
    "\n",
    "            # Extraer DataFrame del resultado\n",
    "            if result and (str(year), '34') in result:\n",
    "                # Obtener el primer archivo del módulo\n",
    "                module_files = result[(str(year), '34')]\n",
    "                if module_files:\n",
    "                    first_file = list(module_files.values())[0]\n",
    "                    logger.info(f\"Módulo sumaria cargado: {first_file.shape[0]} hogares, {first_file.shape[1]} variables\")\n",
    "                    return first_file\n",
    "\n",
    "            raise ValueError(\"No se pudo cargar el módulo sumaria\"))"
   ],
   "id": "780d63f5d674e337",
   "outputs": [
    {
     "ename": "NameError",
     "evalue": "name 'downloader' is not defined",
     "output_type": "error",
     "traceback": [
      "\u001B[1;31m---------------------------------------------------------------------------\u001B[0m",
      "\u001B[1;31mNameError\u001B[0m                                 Traceback (most recent call last)",
      "Cell \u001B[1;32mIn[2], line 1\u001B[0m\n\u001B[1;32m----> 1\u001B[0m result \u001B[38;5;241m=\u001B[39m downloader\u001B[38;5;241m.\u001B[39mdownload(\n\u001B[0;32m      2\u001B[0m                 modules\u001B[38;5;241m=\u001B[39m[\u001B[38;5;124m'\u001B[39m\u001B[38;5;124m34\u001B[39m\u001B[38;5;124m'\u001B[39m],  \u001B[38;5;66;03m# Sumarias (Variables Calculadas)\u001B[39;00m\n\u001B[0;32m      3\u001B[0m                 years\u001B[38;5;241m=\u001B[39m[\u001B[38;5;28mstr\u001B[39m(year)],\n\u001B[0;32m      4\u001B[0m                 output_dir\u001B[38;5;241m=\u001B[39m\u001B[38;5;124m'\u001B[39m\u001B[38;5;124m./data\u001B[39m\u001B[38;5;124m'\u001B[39m,\n\u001B[0;32m      5\u001B[0m                 decompress\u001B[38;5;241m=\u001B[39m\u001B[38;5;28;01mTrue\u001B[39;00m,\n\u001B[0;32m      6\u001B[0m                 load_dta\u001B[38;5;241m=\u001B[39m\u001B[38;5;28;01mTrue\u001B[39;00m\n\u001B[0;32m      7\u001B[0m             )\n",
      "\u001B[1;31mNameError\u001B[0m: name 'downloader' is not defined"
     ]
    }
   ],
   "execution_count": 2
  }
 ],
 "metadata": {
  "kernelspec": {
   "display_name": "Python 3",
   "language": "python",
   "name": "python3"
  },
  "language_info": {
   "codemirror_mode": {
    "name": "ipython",
    "version": 2
   },
   "file_extension": ".py",
   "mimetype": "text/x-python",
   "name": "python",
   "nbconvert_exporter": "python",
   "pygments_lexer": "ipython2",
   "version": "2.7.6"
  }
 },
 "nbformat": 4,
 "nbformat_minor": 5
}
