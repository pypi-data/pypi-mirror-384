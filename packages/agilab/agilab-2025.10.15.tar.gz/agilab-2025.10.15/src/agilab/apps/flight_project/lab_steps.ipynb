{
  "cells": [
    {
      "cell_type": "code",
      "execution_count": null,
      "metadata": {},
      "outputs": [],
      "source": [
        "from scipy.signal import savgol_filter\n",
        "\n",
        "# Assume 'col_long' is the name of the column to be smoothed\n",
        "df['col_long_smoothed'] = savgol_filter(df['col_long'], window_length=5, polyorder=2)\n"
      ]
    },
    {
      "cell_type": "code",
      "execution_count": null,
      "metadata": {},
      "outputs": [],
      "source": [
        "import pandas as pd\n",
        "from pykalman import KalmanFilter\n",
        "\n",
        "# Assuming df is already loaded and 'lat' is the column to be smoothed\n",
        "kf = KalmanFilter(initial_state_mean=df['lat'].iloc[0], \n",
        "                  n_dim_obs=1)\n",
        "\n",
        "# Fit the Kalman Filter\n",
        "kf = kf.em(df['lat'], n_iter=10)\n",
        "\n",
        "# Smooth the 'lat' column\n",
        "(smoothed_state_means, _) = kf.smooth(df['lat'].values)\n",
        "\n",
        "# Add the smoothed lat column back to the dataframe\n",
        "df['smoothed_lat'] = smoothed_state_means\n"
      ]
    },
    {
      "cell_type": "code",
      "execution_count": null,
      "metadata": {},
      "outputs": [],
      "source": [
        "df['day'] = df['date_column'].dt.day  # Replace 'date_column' with the actual name of your date column\n"
      ]
    },
    {
      "cell_type": "code",
      "execution_count": null,
      "metadata": {},
      "outputs": [],
      "source": [
        "df['day'] = df['date_column'].dt.day  # Assuming 'date_column' is the name of the column containing date values"
      ]
    },
    {
      "cell_type": "code",
      "execution_count": null,
      "metadata": {},
      "outputs": [],
      "source": []
    },
    {
      "cell_type": "code",
      "execution_count": null,
      "metadata": {},
      "outputs": [],
      "source": []
    },
    {
      "cell_type": "code",
      "execution_count": null,
      "metadata": {},
      "outputs": [],
      "source": [
        "from scipy.signal import savgol_filter\n",
        "\n",
        "column = 'long'\n",
        "if column not in df.columns:\n",
        "    raise KeyError(f\"Column '{column}' not found in dataframe\")\n",
        "\n",
        "window_length = 7  # must be odd and >= 5\n",
        "polyorder = 2\n",
        "if window_length >= len(df):\n",
        "    window_length = len(df) - 1 if len(df) % 2 == 0 else len(df)\n",
        "    window_length = max(window_length, 5)\n",
        "    if window_length % 2 == 0:\n",
        "        window_length -= 1\n",
        "\n",
        "df[f\"{column}_smooth\"] = savgol_filter(\n",
        "    df[column].to_numpy(),\n",
        "    window_length=window_length,\n",
        "    polyorder=polyorder,\n",
        "    mode='interp',\n",
        ")"
      ]
    }
  ],
  "metadata": {},
  "nbformat": 4,
  "nbformat_minor": 5
}