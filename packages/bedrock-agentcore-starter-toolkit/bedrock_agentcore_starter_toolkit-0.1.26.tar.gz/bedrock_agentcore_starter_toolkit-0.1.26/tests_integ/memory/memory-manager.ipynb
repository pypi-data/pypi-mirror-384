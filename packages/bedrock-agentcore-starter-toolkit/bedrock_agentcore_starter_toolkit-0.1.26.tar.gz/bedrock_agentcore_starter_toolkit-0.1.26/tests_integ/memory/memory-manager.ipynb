{
 "cells": [
  {
   "cell_type": "code",
   "execution_count": 1,
   "metadata": {
    "ExecuteTime": {
     "end_time": "2025-09-27T19:47:26.324483Z",
     "start_time": "2025-09-27T19:47:26.322462Z"
    }
   },
   "outputs": [],
   "source": [
    "from bedrock_agentcore_starter_toolkit.operations.memory.manager import Memory, MemoryManager\n",
    "from bedrock_agentcore_starter_toolkit.operations.memory.models.strategies import (\n",
    "    ConsolidationConfig,\n",
    "    CustomSemanticStrategy,\n",
    "    CustomSummaryStrategy,\n",
    "    CustomUserPreferenceStrategy,\n",
    "    ExtractionConfig,\n",
    "    SemanticStrategy,\n",
    "    SummaryStrategy,\n",
    ")"
   ]
  },
  {
   "cell_type": "code",
   "execution_count": 2,
   "metadata": {},
   "outputs": [
    {
     "name": "stderr",
     "output_type": "stream",
     "text": [
      "✅ MemoryManager initialized for region: None\n"
     ]
    }
   ],
   "source": [
    "manager = MemoryManager()"
   ]
  },
  {
   "cell_type": "code",
   "execution_count": 13,
   "metadata": {},
   "outputs": [
    {
     "name": "stderr",
     "output_type": "stream",
     "text": [
      "Deleted memory: CustomerSupportSemantic10-j28CWNGRR7\n",
      "🔎 Retrieving memory resource with ID: CustomerSupportSemantic10-j28CWNGRR7...\n",
      "  ✅ Found memory: CustomerSupportSemantic10-j28CWNGRR7\n"
     ]
    },
    {
     "name": "stdout",
     "output_type": "stream",
     "text": [
      "🔍 DEBUG: Memory status DELETING\n"
     ]
    },
    {
     "name": "stderr",
     "output_type": "stream",
     "text": [
      "Deleted memory: DemoLongTermMemory1-mIRDJI3wdV\n",
      "🔎 Retrieving memory resource with ID: DemoLongTermMemory1-mIRDJI3wdV...\n",
      "  ✅ Found memory: DemoLongTermMemory1-mIRDJI3wdV\n"
     ]
    },
    {
     "name": "stdout",
     "output_type": "stream",
     "text": [
      "🔍 DEBUG: Memory status DELETING\n"
     ]
    }
   ],
   "source": [
    "for memory in manager.list_memories():\n",
    "    try:\n",
    "        manager.delete_memory(memory_id=memory.id)\n",
    "        pass\n",
    "    except Exception:\n",
    "        pass\n",
    "    try:\n",
    "        status = manager.get_memory(memory_id=memory.id).status\n",
    "    except Exception:\n",
    "        status = \"DELETED\"\n",
    "    print(f\"🔍 DEBUG: Memory status {status}\")"
   ]
  },
  {
   "cell_type": "code",
   "execution_count": null,
   "metadata": {},
   "outputs": [
    {
     "name": "stderr",
     "output_type": "stream",
     "text": [
      "Memory already exists. Using existing memory ID: qDemoMemory-RQOZg27WYc\n",
      "🔎 Retrieving memory resource with ID: qDemoMemory-RQOZg27WYc...\n",
      "  ✅ Found memory: qDemoMemory-RQOZg27WYc\n",
      "Existing {'type': 'SEMANTIC', 'name': 'SemanticStrategy', 'description': None, 'namespaces': ['/strategies/{memoryStrategyId}/actors/{actorId}']}\n",
      "Requested {'type': 'SEMANTIC', 'name': 'SemanticStrategya', 'description': None, 'namespaces': []}\n"
     ]
    },
    {
     "ename": "ValueError",
     "evalue": "Strategy mismatch for memory 'qDemoMemory'. Strategy 1 mismatch: name: value mismatch ('SemanticStrategy' vs 'SemanticStrategya') Cannot use existing memory with different strategy configuration.",
     "output_type": "error",
     "traceback": [
      "\u001b[0;31m---------------------------------------------------------------------------\u001b[0m",
      "\u001b[0;31mValueError\u001b[0m                                Traceback (most recent call last)",
      "Cell \u001b[0;32mIn[5], line 1\u001b[0m\n\u001b[0;32m----> 1\u001b[0m memory \u001b[38;5;241m=\u001b[39m \u001b[43mmanager\u001b[49m\u001b[38;5;241;43m.\u001b[39;49m\u001b[43mget_or_create_memory\u001b[49m\u001b[43m(\u001b[49m\n\u001b[1;32m      2\u001b[0m \u001b[43m    \u001b[49m\u001b[43mname\u001b[49m\u001b[38;5;241;43m=\u001b[39;49m\u001b[38;5;124;43m\"\u001b[39;49m\u001b[38;5;124;43mqDemoMemory\u001b[39;49m\u001b[38;5;124;43m\"\u001b[39;49m\u001b[43m,\u001b[49m\n\u001b[1;32m      3\u001b[0m \u001b[43m    \u001b[49m\u001b[43mstrategies\u001b[49m\u001b[38;5;241;43m=\u001b[39;49m\u001b[43m[\u001b[49m\n\u001b[1;32m      4\u001b[0m \u001b[43m        \u001b[49m\u001b[43mSemanticStrategy\u001b[49m\u001b[43m(\u001b[49m\n\u001b[1;32m      5\u001b[0m \u001b[43m            \u001b[49m\u001b[43mname\u001b[49m\u001b[38;5;241;43m=\u001b[39;49m\u001b[38;5;124;43m\"\u001b[39;49m\u001b[38;5;124;43mSemanticStrategya\u001b[39;49m\u001b[38;5;124;43m\"\u001b[39;49m\u001b[43m,\u001b[49m\n\u001b[1;32m      6\u001b[0m \u001b[43m            \u001b[49m\u001b[38;5;66;43;03m# namespaces=['/strategies/{memoryStrategyId}/actors/{actorId}'],\u001b[39;49;00m\n\u001b[1;32m      7\u001b[0m \u001b[43m        \u001b[49m\u001b[43m)\u001b[49m\n\u001b[1;32m      8\u001b[0m \u001b[43m    \u001b[49m\u001b[43m]\u001b[49m\n\u001b[1;32m      9\u001b[0m \u001b[43m)\u001b[49m\n",
      "File \u001b[0;32m~/PersonalWorkspace/bedrock-agentcore-starter-toolkit/src/bedrock_agentcore_starter_toolkit/operations/memory/manager.py:436\u001b[0m, in \u001b[0;36mMemoryManager.get_or_create_memory\u001b[0;34m(self, name, strategies, description, event_expiry_days, memory_execution_role_arn, encryption_key_arn)\u001b[0m\n\u001b[1;32m    434\u001b[0m             existing_strategies \u001b[38;5;241m=\u001b[39m memory\u001b[38;5;241m.\u001b[39mget(\u001b[38;5;124m\"\u001b[39m\u001b[38;5;124mstrategies\u001b[39m\u001b[38;5;124m\"\u001b[39m, memory\u001b[38;5;241m.\u001b[39mget(\u001b[38;5;124m\"\u001b[39m\u001b[38;5;124mmemoryStrategies\u001b[39m\u001b[38;5;124m\"\u001b[39m, []))\n\u001b[1;32m    435\u001b[0m             memory_name \u001b[38;5;241m=\u001b[39m memory\u001b[38;5;241m.\u001b[39mget(\u001b[38;5;124m\"\u001b[39m\u001b[38;5;124mname\u001b[39m\u001b[38;5;124m\"\u001b[39m)\n\u001b[0;32m--> 436\u001b[0m             \u001b[43mvalidate_existing_memory_strategies\u001b[49m\u001b[43m(\u001b[49m\u001b[43mexisting_strategies\u001b[49m\u001b[43m,\u001b[49m\u001b[43m \u001b[49m\u001b[43mstrategies\u001b[49m\u001b[43m,\u001b[49m\u001b[43m \u001b[49m\u001b[43mmemory_name\u001b[49m\u001b[43m)\u001b[49m\n\u001b[1;32m    438\u001b[0m     \u001b[38;5;28;01mreturn\u001b[39;00m memory\n\u001b[1;32m    439\u001b[0m \u001b[38;5;28;01mexcept\u001b[39;00m ClientError \u001b[38;5;28;01mas\u001b[39;00m e:\n\u001b[1;32m    440\u001b[0m     \u001b[38;5;66;03m# Failed to create memory\u001b[39;00m\n",
      "File \u001b[0;32m~/PersonalWorkspace/bedrock-agentcore-starter-toolkit/src/bedrock_agentcore_starter_toolkit/operations/memory/strategy_validator.py:397\u001b[0m, in \u001b[0;36mvalidate_existing_memory_strategies\u001b[0;34m(memory_strategies, requested_strategies, memory_name)\u001b[0m\n\u001b[1;32m    394\u001b[0m matches, error_message \u001b[38;5;241m=\u001b[39m StrategyComparator\u001b[38;5;241m.\u001b[39mcompare_strategies(memory_strategies, requested_strategies)\n\u001b[1;32m    396\u001b[0m \u001b[38;5;28;01mif\u001b[39;00m \u001b[38;5;129;01mnot\u001b[39;00m matches:\n\u001b[0;32m--> 397\u001b[0m     \u001b[38;5;28;01mraise\u001b[39;00m \u001b[38;5;167;01mValueError\u001b[39;00m(\n\u001b[1;32m    398\u001b[0m         \u001b[38;5;124mf\u001b[39m\u001b[38;5;124m\"\u001b[39m\u001b[38;5;124mStrategy mismatch for memory \u001b[39m\u001b[38;5;124m'\u001b[39m\u001b[38;5;132;01m{\u001b[39;00mmemory_name\u001b[38;5;132;01m}\u001b[39;00m\u001b[38;5;124m'\u001b[39m\u001b[38;5;124m. \u001b[39m\u001b[38;5;132;01m{\u001b[39;00merror_message\u001b[38;5;132;01m}\u001b[39;00m\u001b[38;5;124m \u001b[39m\u001b[38;5;124m\"\u001b[39m\n\u001b[1;32m    399\u001b[0m         \u001b[38;5;124mf\u001b[39m\u001b[38;5;124m\"\u001b[39m\u001b[38;5;124mCannot use existing memory with different strategy configuration.\u001b[39m\u001b[38;5;124m\"\u001b[39m\n\u001b[1;32m    400\u001b[0m     )\n\u001b[1;32m    402\u001b[0m \u001b[38;5;66;03m# Log successful validation\u001b[39;00m\n\u001b[1;32m    403\u001b[0m strategy_types \u001b[38;5;241m=\u001b[39m [s\u001b[38;5;241m.\u001b[39mget(\u001b[38;5;124m\"\u001b[39m\u001b[38;5;124mtype\u001b[39m\u001b[38;5;124m\"\u001b[39m, s\u001b[38;5;241m.\u001b[39mget(\u001b[38;5;124m\"\u001b[39m\u001b[38;5;124mmemoryStrategyType\u001b[39m\u001b[38;5;124m\"\u001b[39m, \u001b[38;5;124m\"\u001b[39m\u001b[38;5;124munknown\u001b[39m\u001b[38;5;124m\"\u001b[39m)) \u001b[38;5;28;01mfor\u001b[39;00m s \u001b[38;5;129;01min\u001b[39;00m memory_strategies]\n",
      "\u001b[0;31mValueError\u001b[0m: Strategy mismatch for memory 'qDemoMemory'. Strategy 1 mismatch: name: value mismatch ('SemanticStrategy' vs 'SemanticStrategya') Cannot use existing memory with different strategy configuration."
     ]
    }
   ],
   "source": [
    "memory = manager.get_or_create_memory(\n",
    "    name=\"qDemoMemory\",\n",
    "    strategies=[\n",
    "        SemanticStrategy(\n",
    "            name=\"SemanticStrategy\",\n",
    "            namespaces=[\"/strategies/{memoryStrategyId}/actors/{actorId}\"],\n",
    "        )\n",
    "    ],\n",
    ")"
   ]
  },
  {
   "cell_type": "code",
   "execution_count": 8,
   "metadata": {},
   "outputs": [
    {
     "name": "stderr",
     "output_type": "stream",
     "text": [
      "Updated memory strategies for: DemoMemory-zon5lHECjS\n"
     ]
    },
    {
     "data": {
      "text/plain": [
       "{'arn': 'arn:aws:bedrock-agentcore:us-east-1:328307993871:memory/DemoMemory-zon5lHECjS', 'id': 'DemoMemory-zon5lHECjS', 'name': 'DemoMemory', 'eventExpiryDuration': 90, 'status': 'ACTIVE', 'createdAt': datetime.datetime(2025, 9, 30, 22, 36, 26, 183000, tzinfo=tzlocal()), 'updatedAt': datetime.datetime(2025, 9, 30, 22, 36, 28, 864000, tzinfo=tzlocal()), 'strategies': [{'strategyId': 'SemanticStrategy-wEMM9fABMq', 'name': 'SemanticStrategy', 'description': 'Brief description', 'type': 'SUMMARIZATION', 'namespaces': ['/strategies/{memoryStrategyId}/actors/{actorId}/sessions/{sessionId}'], 'createdAt': datetime.datetime(2025, 9, 30, 22, 36, 29, 33000, tzinfo=tzlocal()), 'updatedAt': datetime.datetime(2025, 9, 30, 22, 36, 29, 33000, tzinfo=tzlocal()), 'status': 'CREATING'}]}"
      ]
     },
     "execution_count": 8,
     "metadata": {},
     "output_type": "execute_result"
    }
   ],
   "source": [
    "manager.add_summary_strategy(\n",
    "    memory_id=memory.id,\n",
    "    name=\"SemanticStrategy\",\n",
    "    description=\"Brief description\",\n",
    ")"
   ]
  },
  {
   "cell_type": "code",
   "execution_count": null,
   "metadata": {
    "ExecuteTime": {
     "end_time": "2025-09-27T19:47:26.904721Z",
     "start_time": "2025-09-27T19:47:26.328638Z"
    }
   },
   "outputs": [
    {
     "name": "stderr",
     "output_type": "stream",
     "text": [
      "Memory already exists. Using existing memory ID: LargeDemoLongTermMemory-wKcX9pCmQV\n",
      "🔎 Retrieving memory resource with ID: LargeDemoLongTermMemory-wKcX9pCmQV...\n"
     ]
    },
    {
     "name": "stdout",
     "output_type": "stream",
     "text": [
      "🔍 DEBUG: Starting control plane operations...\n"
     ]
    },
    {
     "name": "stderr",
     "output_type": "stream",
     "text": [
      "  ✅ Found memory: LargeDemoLongTermMemory-wKcX9pCmQV\n"
     ]
    },
    {
     "ename": "ValueError",
     "evalue": "Strategy mismatch for memory 'LargeDemoLongTermMemory'. Strategy count mismatch. Existing memory has 3 strategies: ['CUSTOM', 'CUSTOM', 'CUSTOM'], but 4 strategies were requested: ['CUSTOM', 'CUSTOM', 'CUSTOM', 'SUMMARIZATION']. Cannot use existing memory with different strategy configuration.",
     "output_type": "error",
     "traceback": [
      "\u001b[0;31m---------------------------------------------------------------------------\u001b[0m",
      "\u001b[0;31mValueError\u001b[0m                                Traceback (most recent call last)",
      "Cell \u001b[0;32mIn[19], line 4\u001b[0m\n\u001b[1;32m      1\u001b[0m \u001b[38;5;28mprint\u001b[39m(\u001b[38;5;124m\"\u001b[39m\u001b[38;5;124m🔍 DEBUG: Starting control plane operations...\u001b[39m\u001b[38;5;124m\"\u001b[39m)\n\u001b[1;32m      3\u001b[0m \u001b[38;5;66;03m# Memory creation using strategies with data classes\u001b[39;00m\n\u001b[0;32m----> 4\u001b[0m memory1: Memory \u001b[38;5;241m=\u001b[39m \u001b[43mmanager\u001b[49m\u001b[38;5;241;43m.\u001b[39;49m\u001b[43mget_or_create_memory\u001b[49m\u001b[43m(\u001b[49m\n\u001b[1;32m      5\u001b[0m \u001b[43m    \u001b[49m\u001b[43mname\u001b[49m\u001b[38;5;241;43m=\u001b[39;49m\u001b[38;5;124;43m\"\u001b[39;49m\u001b[38;5;124;43mLargeDemoLongTermMemory\u001b[39;49m\u001b[38;5;124;43m\"\u001b[39;49m\u001b[43m,\u001b[49m\n\u001b[1;32m      6\u001b[0m \u001b[43m    \u001b[49m\u001b[43mdescription\u001b[49m\u001b[38;5;241;43m=\u001b[39;49m\u001b[38;5;124;43m\"\u001b[39;49m\u001b[38;5;124;43mA temporary memory for short-lived conversations.\u001b[39;49m\u001b[38;5;124;43m\"\u001b[39;49m\u001b[43m,\u001b[49m\n\u001b[1;32m      7\u001b[0m \u001b[43m    \u001b[49m\u001b[43mmemory_execution_role_arn\u001b[49m\u001b[38;5;241;43m=\u001b[39;49m\u001b[38;5;124;43m\"\u001b[39;49m\u001b[38;5;124;43marn:aws:iam::328307993871:role/AgentCoreMemoryTestRole-24edafc2\u001b[39;49m\u001b[38;5;124;43m\"\u001b[39;49m\u001b[43m,\u001b[49m\n\u001b[1;32m      8\u001b[0m \u001b[43m    \u001b[49m\u001b[43mstrategies\u001b[49m\u001b[38;5;241;43m=\u001b[39;49m\u001b[43m[\u001b[49m\n\u001b[1;32m      9\u001b[0m \u001b[43m        \u001b[49m\u001b[43mSummaryStrategy\u001b[49m\u001b[43m(\u001b[49m\n\u001b[1;32m     10\u001b[0m \u001b[43m            \u001b[49m\u001b[43mname\u001b[49m\u001b[38;5;241;43m=\u001b[39;49m\u001b[38;5;124;43m\"\u001b[39;49m\u001b[38;5;124;43mSummaryStrategy\u001b[39;49m\u001b[38;5;124;43m\"\u001b[39;49m\u001b[43m,\u001b[49m\n\u001b[1;32m     11\u001b[0m \u001b[43m            \u001b[49m\u001b[43mdescription\u001b[49m\u001b[38;5;241;43m=\u001b[39;49m\u001b[38;5;124;43m\"\u001b[39;49m\u001b[38;5;124;43mA strategy for summarizing the conversation.\u001b[39;49m\u001b[38;5;124;43m\"\u001b[39;49m\u001b[43m,\u001b[49m\n\u001b[1;32m     12\u001b[0m \u001b[43m            \u001b[49m\u001b[43mnamespaces\u001b[49m\u001b[38;5;241;43m=\u001b[39;49m\u001b[43m[\u001b[49m\u001b[38;5;124;43m\"\u001b[39;49m\u001b[38;5;124;43msupport/user/\u001b[39;49m\u001b[38;5;132;43;01m{actorId}\u001b[39;49;00m\u001b[38;5;124;43m/\u001b[39;49m\u001b[38;5;132;43;01m{sessionId}\u001b[39;49;00m\u001b[38;5;124;43m\"\u001b[39;49m\u001b[43m]\u001b[49m\u001b[43m,\u001b[49m\n\u001b[1;32m     13\u001b[0m \u001b[43m        \u001b[49m\u001b[43m)\u001b[49m\u001b[43m,\u001b[49m\n\u001b[1;32m     14\u001b[0m \u001b[43m        \u001b[49m\u001b[43mCustomSemanticStrategy\u001b[49m\u001b[43m(\u001b[49m\n\u001b[1;32m     15\u001b[0m \u001b[43m            \u001b[49m\u001b[43mname\u001b[49m\u001b[38;5;241;43m=\u001b[39;49m\u001b[38;5;124;43m\"\u001b[39;49m\u001b[38;5;124;43mSemanticStrategy\u001b[39;49m\u001b[38;5;124;43m\"\u001b[39;49m\u001b[43m,\u001b[49m\n\u001b[1;32m     16\u001b[0m \u001b[43m            \u001b[49m\u001b[43mdescription\u001b[49m\u001b[38;5;241;43m=\u001b[39;49m\u001b[38;5;124;43m\"\u001b[39;49m\u001b[38;5;124;43mA strategy for semantic understanding.\u001b[39;49m\u001b[38;5;124;43m\"\u001b[39;49m\u001b[43m,\u001b[49m\n\u001b[1;32m     17\u001b[0m \u001b[43m            \u001b[49m\u001b[43mextraction_config\u001b[49m\u001b[38;5;241;43m=\u001b[39;49m\u001b[43mExtractionConfig\u001b[49m\u001b[43m(\u001b[49m\n\u001b[1;32m     18\u001b[0m \u001b[43m                \u001b[49m\u001b[43mappend_to_prompt\u001b[49m\u001b[38;5;241;43m=\u001b[39;49m\u001b[38;5;124;43m\"\u001b[39;49m\u001b[38;5;124;43mExtract insights\u001b[39;49m\u001b[38;5;124;43m\"\u001b[39;49m\u001b[43m,\u001b[49m\n\u001b[1;32m     19\u001b[0m \u001b[43m                \u001b[49m\u001b[43mmodel_id\u001b[49m\u001b[38;5;241;43m=\u001b[39;49m\u001b[38;5;124;43m\"\u001b[39;49m\u001b[38;5;124;43manthropic.claude-3-sonnet-20240229-v1:0\u001b[39;49m\u001b[38;5;124;43m\"\u001b[39;49m\n\u001b[1;32m     20\u001b[0m \u001b[43m            \u001b[49m\u001b[43m)\u001b[49m\u001b[43m,\u001b[49m\n\u001b[1;32m     21\u001b[0m \u001b[43m            \u001b[49m\u001b[43mconsolidation_config\u001b[49m\u001b[38;5;241;43m=\u001b[39;49m\u001b[43mConsolidationConfig\u001b[49m\u001b[43m(\u001b[49m\n\u001b[1;32m     22\u001b[0m \u001b[43m                \u001b[49m\u001b[43mappend_to_prompt\u001b[49m\u001b[38;5;241;43m=\u001b[39;49m\u001b[38;5;124;43m\"\u001b[39;49m\u001b[38;5;124;43mConsolidate semantic insights\u001b[39;49m\u001b[38;5;124;43m\"\u001b[39;49m\u001b[43m,\u001b[49m\n\u001b[1;32m     23\u001b[0m \u001b[43m                \u001b[49m\u001b[43mmodel_id\u001b[49m\u001b[38;5;241;43m=\u001b[39;49m\u001b[38;5;124;43m\"\u001b[39;49m\u001b[38;5;124;43manthropic.claude-3-sonnet-20240229-v1:0\u001b[39;49m\u001b[38;5;124;43m\"\u001b[39;49m\n\u001b[1;32m     24\u001b[0m \u001b[43m            \u001b[49m\u001b[43m)\u001b[49m\u001b[43m,\u001b[49m\n\u001b[1;32m     25\u001b[0m \u001b[43m            \u001b[49m\u001b[43mnamespaces\u001b[49m\u001b[38;5;241;43m=\u001b[39;49m\u001b[43m[\u001b[49m\u001b[38;5;124;43m\"\u001b[39;49m\u001b[38;5;124;43msupport/user/\u001b[39;49m\u001b[38;5;132;43;01m{actorId}\u001b[39;49;00m\u001b[38;5;124;43m/\u001b[39;49m\u001b[38;5;132;43;01m{sessionId}\u001b[39;49;00m\u001b[38;5;124;43m\"\u001b[39;49m\u001b[43m]\u001b[49m\u001b[43m,\u001b[49m\n\u001b[1;32m     26\u001b[0m \u001b[43m        \u001b[49m\u001b[43m)\u001b[49m\u001b[43m,\u001b[49m\n\u001b[1;32m     27\u001b[0m \u001b[43m        \u001b[49m\u001b[43mCustomSummaryStrategy\u001b[49m\u001b[43m(\u001b[49m\n\u001b[1;32m     28\u001b[0m \u001b[43m            \u001b[49m\u001b[43mname\u001b[49m\u001b[38;5;241;43m=\u001b[39;49m\u001b[38;5;124;43m\"\u001b[39;49m\u001b[38;5;124;43mSummaryStrategy\u001b[39;49m\u001b[38;5;124;43m\"\u001b[39;49m\u001b[43m,\u001b[49m\n\u001b[1;32m     29\u001b[0m \u001b[43m            \u001b[49m\u001b[43mdescription\u001b[49m\u001b[38;5;241;43m=\u001b[39;49m\u001b[38;5;124;43m\"\u001b[39;49m\u001b[38;5;124;43mA strategy for summarizing the conversation.\u001b[39;49m\u001b[38;5;124;43m\"\u001b[39;49m\u001b[43m,\u001b[49m\n\u001b[1;32m     30\u001b[0m \u001b[43m            \u001b[49m\u001b[43mconsolidation_config\u001b[49m\u001b[38;5;241;43m=\u001b[39;49m\u001b[43mConsolidationConfig\u001b[49m\u001b[43m(\u001b[49m\n\u001b[1;32m     31\u001b[0m \u001b[43m                \u001b[49m\u001b[43mappend_to_prompt\u001b[49m\u001b[38;5;241;43m=\u001b[39;49m\u001b[38;5;124;43m\"\u001b[39;49m\u001b[38;5;124;43mSummarize conversation highlights\u001b[39;49m\u001b[38;5;124;43m\"\u001b[39;49m\u001b[43m,\u001b[49m\n\u001b[1;32m     32\u001b[0m \u001b[43m                \u001b[49m\u001b[43mmodel_id\u001b[49m\u001b[38;5;241;43m=\u001b[39;49m\u001b[38;5;124;43m\"\u001b[39;49m\u001b[38;5;124;43manthropic.claude-3-sonnet-20240229-v1:0\u001b[39;49m\u001b[38;5;124;43m\"\u001b[39;49m\n\u001b[1;32m     33\u001b[0m \u001b[43m            \u001b[49m\u001b[43m)\u001b[49m\u001b[43m,\u001b[49m\n\u001b[1;32m     34\u001b[0m \u001b[43m            \u001b[49m\u001b[43mnamespaces\u001b[49m\u001b[38;5;241;43m=\u001b[39;49m\u001b[43m[\u001b[49m\u001b[38;5;124;43m\"\u001b[39;49m\u001b[38;5;124;43msupport/user/\u001b[39;49m\u001b[38;5;132;43;01m{actorId}\u001b[39;49;00m\u001b[38;5;124;43m/\u001b[39;49m\u001b[38;5;132;43;01m{sessionId}\u001b[39;49;00m\u001b[38;5;124;43m\"\u001b[39;49m\u001b[43m]\u001b[49m\u001b[43m,\u001b[49m\n\u001b[1;32m     35\u001b[0m \u001b[43m        \u001b[49m\u001b[43m)\u001b[49m\u001b[43m,\u001b[49m\n\u001b[1;32m     36\u001b[0m \u001b[43m        \u001b[49m\u001b[43mCustomUserPreferenceStrategy\u001b[49m\u001b[43m(\u001b[49m\n\u001b[1;32m     37\u001b[0m \u001b[43m            \u001b[49m\u001b[43mname\u001b[49m\u001b[38;5;241;43m=\u001b[39;49m\u001b[38;5;124;43m\"\u001b[39;49m\u001b[38;5;124;43mUserPreferenceStrategy\u001b[39;49m\u001b[38;5;124;43m\"\u001b[39;49m\u001b[43m,\u001b[49m\n\u001b[1;32m     38\u001b[0m \u001b[43m            \u001b[49m\u001b[43mdescription\u001b[49m\u001b[38;5;241;43m=\u001b[39;49m\u001b[38;5;124;43m\"\u001b[39;49m\u001b[38;5;124;43mA strategy for user preference.\u001b[39;49m\u001b[38;5;124;43m\"\u001b[39;49m\u001b[43m,\u001b[49m\n\u001b[1;32m     39\u001b[0m \u001b[43m            \u001b[49m\u001b[43mextraction_config\u001b[49m\u001b[38;5;241;43m=\u001b[39;49m\u001b[43mExtractionConfig\u001b[49m\u001b[43m(\u001b[49m\n\u001b[1;32m     40\u001b[0m \u001b[43m                \u001b[49m\u001b[43mappend_to_prompt\u001b[49m\u001b[38;5;241;43m=\u001b[39;49m\u001b[38;5;124;43m\"\u001b[39;49m\u001b[38;5;124;43mExtract insights\u001b[39;49m\u001b[38;5;124;43m\"\u001b[39;49m\u001b[43m,\u001b[49m\n\u001b[1;32m     41\u001b[0m \u001b[43m                \u001b[49m\u001b[43mmodel_id\u001b[49m\u001b[38;5;241;43m=\u001b[39;49m\u001b[38;5;124;43m\"\u001b[39;49m\u001b[38;5;124;43manthropic.claude-3-sonnet-20240229-v1:0\u001b[39;49m\u001b[38;5;124;43m\"\u001b[39;49m\n\u001b[1;32m     42\u001b[0m \u001b[43m            \u001b[49m\u001b[43m)\u001b[49m\u001b[43m,\u001b[49m\n\u001b[1;32m     43\u001b[0m \u001b[43m            \u001b[49m\u001b[43mconsolidation_config\u001b[49m\u001b[38;5;241;43m=\u001b[39;49m\u001b[43mConsolidationConfig\u001b[49m\u001b[43m(\u001b[49m\n\u001b[1;32m     44\u001b[0m \u001b[43m                \u001b[49m\u001b[43mappend_to_prompt\u001b[49m\u001b[38;5;241;43m=\u001b[39;49m\u001b[38;5;124;43m\"\u001b[39;49m\u001b[38;5;124;43mConsolidate user preferences\u001b[39;49m\u001b[38;5;124;43m\"\u001b[39;49m\u001b[43m,\u001b[49m\n\u001b[1;32m     45\u001b[0m \u001b[43m                \u001b[49m\u001b[43mmodel_id\u001b[49m\u001b[38;5;241;43m=\u001b[39;49m\u001b[38;5;124;43m\"\u001b[39;49m\u001b[38;5;124;43manthropic.claude-3-sonnet-20240229-v1:0\u001b[39;49m\u001b[38;5;124;43m\"\u001b[39;49m\n\u001b[1;32m     46\u001b[0m \u001b[43m            \u001b[49m\u001b[43m)\u001b[49m\u001b[43m,\u001b[49m\n\u001b[1;32m     47\u001b[0m \u001b[43m            \u001b[49m\u001b[43mnamespaces\u001b[49m\u001b[38;5;241;43m=\u001b[39;49m\u001b[43m[\u001b[49m\u001b[38;5;124;43m'\u001b[39;49m\u001b[38;5;124;43m/strategies/\u001b[39;49m\u001b[38;5;132;43;01m{memoryStrategyId}\u001b[39;49;00m\u001b[38;5;124;43m/actors/\u001b[39;49m\u001b[38;5;132;43;01m{actorId}\u001b[39;49;00m\u001b[38;5;124;43m'\u001b[39;49m\u001b[43m]\u001b[49m\n\u001b[1;32m     48\u001b[0m \u001b[43m        \u001b[49m\u001b[43m)\u001b[49m\n\u001b[1;32m     49\u001b[0m \u001b[43m    \u001b[49m\u001b[43m]\u001b[49m\u001b[43m,\u001b[49m\n\u001b[1;32m     50\u001b[0m \u001b[43m)\u001b[49m\n\u001b[1;32m     51\u001b[0m \u001b[38;5;28mprint\u001b[39m(\u001b[38;5;124m\"\u001b[39m\u001b[38;5;124m🔍 DEBUG: long-term memory created successfully\u001b[39m\u001b[38;5;124m\"\u001b[39m)\n\u001b[1;32m     52\u001b[0m memory1\n",
      "File \u001b[0;32m~/PersonalWorkspace/bedrock-agentcore-starter-toolkit/src/bedrock_agentcore_starter_toolkit/operations/memory/manager.py:437\u001b[0m, in \u001b[0;36mMemoryManager.get_or_create_memory\u001b[0;34m(self, name, strategies, description, event_expiry_days, memory_execution_role_arn, encryption_key_arn)\u001b[0m\n\u001b[1;32m    435\u001b[0m             existing_strategies \u001b[38;5;241m=\u001b[39m memory\u001b[38;5;241m.\u001b[39mget(\u001b[38;5;124m\"\u001b[39m\u001b[38;5;124mstrategies\u001b[39m\u001b[38;5;124m\"\u001b[39m, memory\u001b[38;5;241m.\u001b[39mget(\u001b[38;5;124m\"\u001b[39m\u001b[38;5;124mmemoryStrategies\u001b[39m\u001b[38;5;124m\"\u001b[39m, []))\n\u001b[1;32m    436\u001b[0m             memory_name \u001b[38;5;241m=\u001b[39m memory\u001b[38;5;241m.\u001b[39mget(\u001b[38;5;124m\"\u001b[39m\u001b[38;5;124mname\u001b[39m\u001b[38;5;124m\"\u001b[39m)\n\u001b[0;32m--> 437\u001b[0m             \u001b[43mvalidate_existing_memory_strategies\u001b[49m\u001b[43m(\u001b[49m\u001b[43mexisting_strategies\u001b[49m\u001b[43m,\u001b[49m\u001b[43m \u001b[49m\u001b[43mstrategies\u001b[49m\u001b[43m,\u001b[49m\u001b[43m \u001b[49m\u001b[43mmemory_name\u001b[49m\u001b[43m)\u001b[49m\n\u001b[1;32m    439\u001b[0m     \u001b[38;5;28;01mreturn\u001b[39;00m memory\n\u001b[1;32m    440\u001b[0m \u001b[38;5;28;01mexcept\u001b[39;00m ClientError \u001b[38;5;28;01mas\u001b[39;00m e:\n\u001b[1;32m    441\u001b[0m     \u001b[38;5;66;03m# Failed to create memory\u001b[39;00m\n",
      "File \u001b[0;32m~/PersonalWorkspace/bedrock-agentcore-starter-toolkit/src/bedrock_agentcore_starter_toolkit/operations/memory/strategy_validator.py:383\u001b[0m, in \u001b[0;36mvalidate_existing_memory_strategies\u001b[0;34m(memory_strategies, requested_strategies, memory_name)\u001b[0m\n\u001b[1;32m    378\u001b[0m matches, error_message \u001b[38;5;241m=\u001b[39m StrategyComparator\u001b[38;5;241m.\u001b[39mcompare_strategies(\n\u001b[1;32m    379\u001b[0m     memory_strategies, requested_strategies\n\u001b[1;32m    380\u001b[0m )\n\u001b[1;32m    382\u001b[0m \u001b[38;5;28;01mif\u001b[39;00m \u001b[38;5;129;01mnot\u001b[39;00m matches:\n\u001b[0;32m--> 383\u001b[0m     \u001b[38;5;28;01mraise\u001b[39;00m \u001b[38;5;167;01mValueError\u001b[39;00m(\n\u001b[1;32m    384\u001b[0m         \u001b[38;5;124mf\u001b[39m\u001b[38;5;124m\"\u001b[39m\u001b[38;5;124mStrategy mismatch for memory \u001b[39m\u001b[38;5;124m'\u001b[39m\u001b[38;5;132;01m{\u001b[39;00mmemory_name\u001b[38;5;132;01m}\u001b[39;00m\u001b[38;5;124m'\u001b[39m\u001b[38;5;124m. \u001b[39m\u001b[38;5;132;01m{\u001b[39;00merror_message\u001b[38;5;132;01m}\u001b[39;00m\u001b[38;5;124m \u001b[39m\u001b[38;5;124m\"\u001b[39m\n\u001b[1;32m    385\u001b[0m         \u001b[38;5;124mf\u001b[39m\u001b[38;5;124m\"\u001b[39m\u001b[38;5;124mCannot use existing memory with different strategy configuration.\u001b[39m\u001b[38;5;124m\"\u001b[39m\n\u001b[1;32m    386\u001b[0m     )\n\u001b[1;32m    388\u001b[0m \u001b[38;5;66;03m# Log successful validation\u001b[39;00m\n\u001b[1;32m    389\u001b[0m strategy_types \u001b[38;5;241m=\u001b[39m [s\u001b[38;5;241m.\u001b[39mget(\u001b[38;5;124m\"\u001b[39m\u001b[38;5;124mtype\u001b[39m\u001b[38;5;124m\"\u001b[39m, s\u001b[38;5;241m.\u001b[39mget(\u001b[38;5;124m\"\u001b[39m\u001b[38;5;124mmemoryStrategyType\u001b[39m\u001b[38;5;124m\"\u001b[39m, \u001b[38;5;124m\"\u001b[39m\u001b[38;5;124munknown\u001b[39m\u001b[38;5;124m\"\u001b[39m)) \u001b[38;5;28;01mfor\u001b[39;00m s \u001b[38;5;129;01min\u001b[39;00m memory_strategies]\n",
      "\u001b[0;31mValueError\u001b[0m: Strategy mismatch for memory 'LargeDemoLongTermMemory'. Strategy count mismatch. Existing memory has 3 strategies: ['CUSTOM', 'CUSTOM', 'CUSTOM'], but 4 strategies were requested: ['CUSTOM', 'CUSTOM', 'CUSTOM', 'SUMMARIZATION']. Cannot use existing memory with different strategy configuration."
     ]
    }
   ],
   "source": [
    "print(\"🔍 DEBUG: Starting control plane operations...\")\n",
    "\n",
    "# Memory creation using strategies with data classes\n",
    "memory1: Memory = manager.get_or_create_memory(\n",
    "    name=\"LargeDemoLongTermMemory\",\n",
    "    description=\"A temporary memory for short-lived conversations.\",\n",
    "    memory_execution_role_arn=\"arn:aws:iam::328307993871:role/AgentCoreMemoryTestRole-24edafc2\",\n",
    "    strategies=[\n",
    "        CustomSemanticStrategy(\n",
    "            name=\"SemanticStrategy\",\n",
    "            description=\"A strategy for semantic understanding.\",\n",
    "            extraction_config=ExtractionConfig(\n",
    "                append_to_prompt=\"Extract insights\", model_id=\"anthropic.claude-3-sonnet-20240229-v1:0\"\n",
    "            ),\n",
    "            consolidation_config=ConsolidationConfig(\n",
    "                append_to_prompt=\"Consolidate semantic insights\", model_id=\"anthropic.claude-3-sonnet-20240229-v1:0\"\n",
    "            ),\n",
    "            namespaces=[\"support/user/{actorId}/{sessionId}\"],\n",
    "        ),\n",
    "        CustomSummaryStrategy(\n",
    "            name=\"SummaryStrategy\",\n",
    "            description=\"A strategy for summarizing the conversation.\",\n",
    "            consolidation_config=ConsolidationConfig(\n",
    "                append_to_prompt=\"Summarize conversation highlights\", model_id=\"anthropic.claude-3-sonnet-20240229-v1:0\"\n",
    "            ),\n",
    "            namespaces=[\"support/user/{actorId}/{sessionId}\"],\n",
    "        ),\n",
    "        CustomUserPreferenceStrategy(\n",
    "            name=\"UserPreferenceStrategy\",\n",
    "            description=\"A strategy for user preference.\",\n",
    "            extraction_config=ExtractionConfig(\n",
    "                append_to_prompt=\"Extract insights\", model_id=\"anthropic.claude-3-sonnet-20240229-v1:0\"\n",
    "            ),\n",
    "            consolidation_config=ConsolidationConfig(\n",
    "                append_to_prompt=\"Consolidate user preferences\", model_id=\"anthropic.claude-3-sonnet-20240229-v1:0\"\n",
    "            ),\n",
    "            namespaces=[\"/strategies/{memoryStrategyId}/actors/{actorId}\"],\n",
    "        ),\n",
    "    ],\n",
    ")\n",
    "print(\"🔍 DEBUG: long-term memory created successfully\")\n",
    "memory1"
   ]
  },
  {
   "cell_type": "code",
   "execution_count": 5,
   "metadata": {
    "ExecuteTime": {
     "end_time": "2025-09-27T19:47:27.197308Z",
     "start_time": "2025-09-27T19:47:26.910254Z"
    }
   },
   "outputs": [
    {
     "name": "stderr",
     "output_type": "stream",
     "text": [
      "Memory already exists. Using existing memory ID: DemoLongTermMemory2-ZsKBvw2Oqs\n",
      "🔎 Retrieving memory resource with ID: DemoLongTermMemory2-ZsKBvw2Oqs...\n",
      "  ✅ Found memory: DemoLongTermMemory2-ZsKBvw2Oqs\n",
      "Existing {'type': 'SEMANTIC', 'name': 'SemanticStrategy', 'description': 'A strategy for semantic understanding.', 'namespaces': ['support/user/{actorId}/{sessionId}']}\n",
      "Requested {'type': 'SEMANTIC', 'name': 'SemanticStrategy', 'description': 'A strategy for semantic understanding.', 'namespaces': ['support/user/{actorId}/{sessionId}']}\n",
      "Universal strategy validation passed for memory DemoLongTermMemory2. Strategies match: [SEMANTIC]\n"
     ]
    },
    {
     "name": "stdout",
     "output_type": "stream",
     "text": [
      "🔍 DEBUG: Long-term memory created successfully\n"
     ]
    },
    {
     "data": {
      "text/plain": [
       "{'arn': 'arn:aws:bedrock-agentcore:us-east-1:328307993871:memory/DemoLongTermMemory2-ZsKBvw2Oqs', 'id': 'DemoLongTermMemory2-ZsKBvw2Oqs', 'name': 'DemoLongTermMemory2', 'description': 'A temporary memory for long-lived conversations.', 'eventExpiryDuration': 90, 'status': 'ACTIVE', 'createdAt': datetime.datetime(2025, 9, 30, 1, 10, 8, 881000, tzinfo=tzlocal()), 'updatedAt': datetime.datetime(2025, 9, 30, 1, 10, 9, 61000, tzinfo=tzlocal()), 'strategies': [{'strategyId': 'SemanticStrategy-NaqKkU3ZpK', 'name': 'SemanticStrategy', 'description': 'A strategy for semantic understanding.', 'type': 'SEMANTIC', 'namespaces': ['support/user/{actorId}/{sessionId}'], 'createdAt': datetime.datetime(2025, 9, 30, 1, 10, 8, 881000, tzinfo=tzlocal()), 'updatedAt': datetime.datetime(2025, 9, 30, 1, 10, 9, 61000, tzinfo=tzlocal()), 'status': 'ACTIVE'}]}"
      ]
     },
     "execution_count": 5,
     "metadata": {},
     "output_type": "execute_result"
    }
   ],
   "source": [
    "# Memory creation using strategies without data classes\n",
    "memory2: Memory = manager.get_or_create_memory(\n",
    "    name=\"DemoLongTermMemory2\",\n",
    "    description=\"A temporary memory for long-lived conversations.\",\n",
    "    strategies=[\n",
    "        {\n",
    "            \"semanticMemoryStrategy\": {\n",
    "                \"name\": \"SemanticStrategy\",\n",
    "                \"description\": \"A strategy for semantic understanding.\",\n",
    "                \"namespaces\": [\"support/user/{actorId}/{sessionId}\"],\n",
    "            }\n",
    "        }\n",
    "    ],\n",
    ")\n",
    "print(\"🔍 DEBUG: Long-term memory created successfully\")\n",
    "memory2"
   ]
  },
  {
   "cell_type": "code",
   "execution_count": 6,
   "metadata": {},
   "outputs": [
    {
     "name": "stderr",
     "output_type": "stream",
     "text": [
      "Memory already exists. Using existing memory ID: DemoLongTermMemory3-EQGD6pFqrh\n",
      "🔎 Retrieving memory resource with ID: DemoLongTermMemory3-EQGD6pFqrh...\n",
      "  ✅ Found memory: DemoLongTermMemory3-EQGD6pFqrh\n",
      "Existing {'type': 'USER_PREFERENCE', 'name': 'UserPreferenceStrategy', 'description': 'A strategy for user preference.', 'namespaces': ['/strategies/{memoryStrategyId}/actors/{actorId}']}\n",
      "Requested {'type': 'USER_PREFERENCE', 'name': 'UserPreferenceStrategy', 'description': 'A strategy for user preference.', 'namespaces': ['/strategies/{memoryStrategyId}/actors/{actorId}']}\n",
      "Universal strategy validation passed for memory DemoLongTermMemory3. Strategies match: [USER_PREFERENCE]\n"
     ]
    },
    {
     "name": "stdout",
     "output_type": "stream",
     "text": [
      "🔍 DEBUG: Long-term memory created successfully\n"
     ]
    },
    {
     "data": {
      "text/plain": [
       "{'arn': 'arn:aws:bedrock-agentcore:us-east-1:328307993871:memory/DemoLongTermMemory3-EQGD6pFqrh', 'id': 'DemoLongTermMemory3-EQGD6pFqrh', 'name': 'DemoLongTermMemory3', 'description': 'A temporary memory for long-lived conversations.', 'eventExpiryDuration': 90, 'status': 'ACTIVE', 'createdAt': datetime.datetime(2025, 9, 30, 1, 13, 7, 602000, tzinfo=tzlocal()), 'updatedAt': datetime.datetime(2025, 9, 30, 1, 13, 8, 134000, tzinfo=tzlocal()), 'strategies': [{'strategyId': 'UserPreferenceStrategy-swPkj5ELUU', 'name': 'UserPreferenceStrategy', 'description': 'A strategy for user preference.', 'type': 'USER_PREFERENCE', 'namespaces': ['/strategies/{memoryStrategyId}/actors/{actorId}'], 'createdAt': datetime.datetime(2025, 9, 30, 1, 13, 7, 604000, tzinfo=tzlocal()), 'updatedAt': datetime.datetime(2025, 9, 30, 1, 13, 8, 134000, tzinfo=tzlocal()), 'status': 'ACTIVE'}]}"
      ]
     },
     "execution_count": 6,
     "metadata": {},
     "output_type": "execute_result"
    }
   ],
   "source": [
    "# Memory creation using strategies without data classes\n",
    "from bedrock_agentcore_starter_toolkit.operations.memory.models.strategies.user_preference import UserPreferenceStrategy\n",
    "\n",
    "memory3: Memory = manager.get_or_create_memory(\n",
    "    name=\"DemoLongTermMemory3\",\n",
    "    description=\"A temporary memory for long-lived conversations.\",\n",
    "    strategies=[\n",
    "        UserPreferenceStrategy(\n",
    "            name=\"UserPreferenceStrategy\",\n",
    "            description=\"A strategy for user preference.\",\n",
    "            namespaces=[\"/strategies/{memoryStrategyId}/actors/{actorId}\"],\n",
    "        )\n",
    "    ],\n",
    ")\n",
    "print(\"🔍 DEBUG: Long-term memory created successfully\")\n",
    "memory3"
   ]
  },
  {
   "cell_type": "code",
   "execution_count": 7,
   "metadata": {},
   "outputs": [
    {
     "data": {
      "text/plain": [
       "[{'strategyId': 'UserPreferenceStrategy-swPkj5ELUU', 'name': 'UserPreferenceStrategy', 'description': 'A strategy for user preference.', 'type': 'USER_PREFERENCE', 'namespaces': ['/strategies/{memoryStrategyId}/actors/{actorId}'], 'createdAt': datetime.datetime(2025, 9, 30, 1, 13, 7, 604000, tzinfo=tzlocal()), 'updatedAt': datetime.datetime(2025, 9, 30, 1, 13, 8, 134000, tzinfo=tzlocal()), 'status': 'ACTIVE'}]"
      ]
     },
     "execution_count": 7,
     "metadata": {},
     "output_type": "execute_result"
    }
   ],
   "source": [
    "# Confirm server default namespaces are applied\n",
    "manager.get_memory_strategies(memory_id=memory3.id)"
   ]
  },
  {
   "cell_type": "code",
   "execution_count": 8,
   "metadata": {
    "ExecuteTime": {
     "end_time": "2025-09-27T19:47:27.306295Z",
     "start_time": "2025-09-27T19:47:27.203230Z"
    }
   },
   "outputs": [
    {
     "name": "stdout",
     "output_type": "stream",
     "text": [
      "🔍 DEBUG: Memory found : {'arn': 'arn:aws:bedrock-agentcore:us-east-1:328307993871:memory/DemoLongTermMemory2-ZsKBvw2Oqs', 'id': 'DemoLongTermMemory2-ZsKBvw2Oqs', 'status': 'ACTIVE', 'createdAt': datetime.datetime(2025, 9, 30, 1, 10, 8, 881000, tzinfo=tzlocal()), 'updatedAt': datetime.datetime(2025, 9, 30, 1, 10, 9, 61000, tzinfo=tzlocal()), 'memoryId': 'DemoLongTermMemory2-ZsKBvw2Oqs'}\n",
      "🔍 DEBUG: Memory found : {'arn': 'arn:aws:bedrock-agentcore:us-east-1:328307993871:memory/DemoLongTermMemory3-EQGD6pFqrh', 'id': 'DemoLongTermMemory3-EQGD6pFqrh', 'status': 'ACTIVE', 'createdAt': datetime.datetime(2025, 9, 30, 1, 13, 7, 602000, tzinfo=tzlocal()), 'updatedAt': datetime.datetime(2025, 9, 30, 1, 13, 8, 134000, tzinfo=tzlocal()), 'memoryId': 'DemoLongTermMemory3-EQGD6pFqrh'}\n",
      "🔍 DEBUG: Memory found : {'arn': 'arn:aws:bedrock-agentcore:us-east-1:328307993871:memory/LargeDemoLongTermMemory-wKcX9pCmQV', 'id': 'LargeDemoLongTermMemory-wKcX9pCmQV', 'status': 'ACTIVE', 'createdAt': datetime.datetime(2025, 9, 30, 1, 7, 13, 810000, tzinfo=tzlocal()), 'updatedAt': datetime.datetime(2025, 9, 30, 1, 7, 14, 28000, tzinfo=tzlocal()), 'memoryId': 'LargeDemoLongTermMemory-wKcX9pCmQV'}\n"
     ]
    }
   ],
   "source": [
    "# List all memories\n",
    "for memory_summary in manager.list_memories():\n",
    "    print(f\"🔍 DEBUG: Memory found : {memory_summary}\")"
   ]
  },
  {
   "cell_type": "code",
   "execution_count": 9,
   "metadata": {
    "ExecuteTime": {
     "end_time": "2025-09-27T19:47:27.462204Z",
     "start_time": "2025-09-27T19:47:27.316095Z"
    }
   },
   "outputs": [
    {
     "data": {
      "text/plain": [
       "[{'strategyId': 'SemanticStrategy-yavcUMBQKA', 'name': 'SemanticStrategy', 'description': 'A strategy for semantic understanding.', 'configuration': {'type': 'SEMANTIC_OVERRIDE', 'extraction': {'customExtractionConfiguration': {'semanticExtractionOverride': {'appendToPrompt': 'Extract insights', 'modelId': 'anthropic.claude-3-sonnet-20240229-v1:0'}}}, 'consolidation': {'customConsolidationConfiguration': {'semanticConsolidationOverride': {'appendToPrompt': 'Consolidate semantic insights', 'modelId': 'anthropic.claude-3-sonnet-20240229-v1:0'}}}}, 'type': 'CUSTOM', 'namespaces': ['support/user/{actorId}/{sessionId}'], 'createdAt': datetime.datetime(2025, 9, 30, 1, 7, 13, 810000, tzinfo=tzlocal()), 'updatedAt': datetime.datetime(2025, 9, 30, 1, 7, 14, 28000, tzinfo=tzlocal()), 'status': 'ACTIVE'},\n",
       " {'strategyId': 'SummaryStrategy-bJtrdBGkWN', 'name': 'SummaryStrategy', 'description': 'A strategy for summarizing the conversation.', 'configuration': {'type': 'SUMMARY_OVERRIDE', 'consolidation': {'customConsolidationConfiguration': {'summaryConsolidationOverride': {'appendToPrompt': 'Summarize conversation highlights', 'modelId': 'anthropic.claude-3-sonnet-20240229-v1:0'}}}}, 'type': 'CUSTOM', 'namespaces': ['support/user/{actorId}/{sessionId}'], 'createdAt': datetime.datetime(2025, 9, 30, 1, 7, 13, 810000, tzinfo=tzlocal()), 'updatedAt': datetime.datetime(2025, 9, 30, 1, 7, 14, 28000, tzinfo=tzlocal()), 'status': 'ACTIVE'},\n",
       " {'strategyId': 'UserPreferenceStrategy-IPfICy7X1r', 'name': 'UserPreferenceStrategy', 'description': 'A strategy for user preference.', 'configuration': {'type': 'USER_PREFERENCE_OVERRIDE', 'extraction': {'customExtractionConfiguration': {'userPreferenceExtractionOverride': {'appendToPrompt': 'Extract insights', 'modelId': 'anthropic.claude-3-sonnet-20240229-v1:0'}}}, 'consolidation': {'customConsolidationConfiguration': {'userPreferenceConsolidationOverride': {'appendToPrompt': 'Consolidate user preferences', 'modelId': 'anthropic.claude-3-sonnet-20240229-v1:0'}}}}, 'type': 'CUSTOM', 'namespaces': ['/strategies/{memoryStrategyId}/actors/{actorId}'], 'createdAt': datetime.datetime(2025, 9, 30, 1, 7, 13, 810000, tzinfo=tzlocal()), 'updatedAt': datetime.datetime(2025, 9, 30, 1, 7, 14, 28000, tzinfo=tzlocal()), 'status': 'ACTIVE'}]"
      ]
     },
     "execution_count": 9,
     "metadata": {},
     "output_type": "execute_result"
    }
   ],
   "source": [
    "# Get all the memory strategies available\n",
    "strategies = manager.get_memory_strategies(memory_id=memory1.id)\n",
    "strategies"
   ]
  },
  {
   "cell_type": "code",
   "execution_count": 10,
   "metadata": {
    "ExecuteTime": {
     "end_time": "2025-09-27T19:47:27.468260Z",
     "start_time": "2025-09-27T19:47:27.465987Z"
    }
   },
   "outputs": [
    {
     "name": "stdout",
     "output_type": "stream",
     "text": [
      "🔍 DEBUG: Summary strategy already exists - skipping memory update\n"
     ]
    }
   ],
   "source": [
    "if \"SummaryStrategy\" not in [strategy.name for strategy in strategies]:\n",
    "    manager.add_strategy_and_wait(\n",
    "        memory_id=memory2.id,\n",
    "        strategy=SummaryStrategy(\n",
    "            name=\"SummaryStrategy\",\n",
    "            description=\"A strategy for summarizing the conversation.\",\n",
    "            namespaces=[\"support/user/{actorId}/{sessionId}\"],\n",
    "        ),\n",
    "    )\n",
    "    print(\"🔍 DEBUG: Summary strategy added successfully\")\n",
    "else:\n",
    "    print(\"🔍 DEBUG: Summary strategy already exists - skipping memory update\")"
   ]
  },
  {
   "cell_type": "code",
   "execution_count": 11,
   "metadata": {
    "ExecuteTime": {
     "end_time": "2025-09-27T19:47:27.477723Z",
     "start_time": "2025-09-27T19:47:27.474865Z"
    }
   },
   "outputs": [
    {
     "data": {
      "text/plain": [
       "'A temporary memory for short-lived conversations.'"
      ]
     },
     "execution_count": 11,
     "metadata": {},
     "output_type": "execute_result"
    }
   ],
   "source": [
    "# Using direct access capability to show memory fields\n",
    "memory1.description"
   ]
  },
  {
   "cell_type": "code",
   "execution_count": 12,
   "metadata": {
    "ExecuteTime": {
     "end_time": "2025-09-27T19:47:27.636202Z",
     "start_time": "2025-09-27T19:47:27.486734Z"
    }
   },
   "outputs": [
    {
     "name": "stderr",
     "output_type": "stream",
     "text": [
      "🔎 Retrieving memory resource with ID: LargeDemoLongTermMemory-wKcX9pCmQV...\n",
      "  ✅ Found memory: LargeDemoLongTermMemory-wKcX9pCmQV\n"
     ]
    }
   ],
   "source": [
    "# Fetch the memory again to see the updated strategies\n",
    "get_response = manager.get_memory(memory_id=memory1.id)"
   ]
  },
  {
   "cell_type": "code",
   "execution_count": 13,
   "metadata": {
    "ExecuteTime": {
     "end_time": "2025-09-27T19:47:27.644091Z",
     "start_time": "2025-09-27T19:47:27.642076Z"
    }
   },
   "outputs": [
    {
     "data": {
      "text/plain": [
       "'ACTIVE'"
      ]
     },
     "execution_count": 13,
     "metadata": {},
     "output_type": "execute_result"
    }
   ],
   "source": [
    "get_response.status"
   ]
  },
  {
   "cell_type": "code",
   "execution_count": 14,
   "metadata": {
    "ExecuteTime": {
     "end_time": "2025-09-27T19:47:27.813467Z",
     "start_time": "2025-09-27T19:47:27.658577Z"
    }
   },
   "outputs": [
    {
     "data": {
      "text/plain": [
       "[{'strategyId': 'SemanticStrategy-yavcUMBQKA', 'name': 'SemanticStrategy', 'description': 'A strategy for semantic understanding.', 'configuration': {'type': 'SEMANTIC_OVERRIDE', 'extraction': {'customExtractionConfiguration': {'semanticExtractionOverride': {'appendToPrompt': 'Extract insights', 'modelId': 'anthropic.claude-3-sonnet-20240229-v1:0'}}}, 'consolidation': {'customConsolidationConfiguration': {'semanticConsolidationOverride': {'appendToPrompt': 'Consolidate semantic insights', 'modelId': 'anthropic.claude-3-sonnet-20240229-v1:0'}}}}, 'type': 'CUSTOM', 'namespaces': ['support/user/{actorId}/{sessionId}'], 'createdAt': datetime.datetime(2025, 9, 30, 1, 7, 13, 810000, tzinfo=tzlocal()), 'updatedAt': datetime.datetime(2025, 9, 30, 1, 7, 14, 28000, tzinfo=tzlocal()), 'status': 'ACTIVE'},\n",
       " {'strategyId': 'SummaryStrategy-bJtrdBGkWN', 'name': 'SummaryStrategy', 'description': 'A strategy for summarizing the conversation.', 'configuration': {'type': 'SUMMARY_OVERRIDE', 'consolidation': {'customConsolidationConfiguration': {'summaryConsolidationOverride': {'appendToPrompt': 'Summarize conversation highlights', 'modelId': 'anthropic.claude-3-sonnet-20240229-v1:0'}}}}, 'type': 'CUSTOM', 'namespaces': ['support/user/{actorId}/{sessionId}'], 'createdAt': datetime.datetime(2025, 9, 30, 1, 7, 13, 810000, tzinfo=tzlocal()), 'updatedAt': datetime.datetime(2025, 9, 30, 1, 7, 14, 28000, tzinfo=tzlocal()), 'status': 'ACTIVE'},\n",
       " {'strategyId': 'UserPreferenceStrategy-IPfICy7X1r', 'name': 'UserPreferenceStrategy', 'description': 'A strategy for user preference.', 'configuration': {'type': 'USER_PREFERENCE_OVERRIDE', 'extraction': {'customExtractionConfiguration': {'userPreferenceExtractionOverride': {'appendToPrompt': 'Extract insights', 'modelId': 'anthropic.claude-3-sonnet-20240229-v1:0'}}}, 'consolidation': {'customConsolidationConfiguration': {'userPreferenceConsolidationOverride': {'appendToPrompt': 'Consolidate user preferences', 'modelId': 'anthropic.claude-3-sonnet-20240229-v1:0'}}}}, 'type': 'CUSTOM', 'namespaces': ['/strategies/{memoryStrategyId}/actors/{actorId}'], 'createdAt': datetime.datetime(2025, 9, 30, 1, 7, 13, 810000, tzinfo=tzlocal()), 'updatedAt': datetime.datetime(2025, 9, 30, 1, 7, 14, 28000, tzinfo=tzlocal()), 'status': 'ACTIVE'}]"
      ]
     },
     "execution_count": 14,
     "metadata": {},
     "output_type": "execute_result"
    }
   ],
   "source": [
    "manager.get_memory_strategies(memory_id=memory1.id)"
   ]
  },
  {
   "cell_type": "code",
   "execution_count": 15,
   "metadata": {
    "ExecuteTime": {
     "end_time": "2025-09-27T19:47:27.923072Z",
     "start_time": "2025-09-27T19:47:27.817910Z"
    }
   },
   "outputs": [
    {
     "name": "stdout",
     "output_type": "stream",
     "text": [
      "ACTIVE\n",
      "ACTIVE\n",
      "ACTIVE\n"
     ]
    }
   ],
   "source": [
    "for memory in manager.list_memories():\n",
    "    print(memory.status)"
   ]
  },
  {
   "cell_type": "code",
   "execution_count": 16,
   "metadata": {
    "ExecuteTime": {
     "end_time": "2025-09-27T19:47:28.097043Z",
     "start_time": "2025-09-27T19:47:27.932179Z"
    }
   },
   "outputs": [
    {
     "data": {
      "text/plain": [
       "['SemanticStrategy-yavcUMBQKA',\n",
       " 'SummaryStrategy-bJtrdBGkWN',\n",
       " 'UserPreferenceStrategy-IPfICy7X1r']"
      ]
     },
     "execution_count": 16,
     "metadata": {},
     "output_type": "execute_result"
    }
   ],
   "source": [
    "[strategy.strategyId for strategy in manager.get_memory_strategies(memory_id=memory1.id)]"
   ]
  },
  {
   "cell_type": "code",
   "execution_count": 17,
   "metadata": {
    "ExecuteTime": {
     "end_time": "2025-09-27T19:47:28.106744Z",
     "start_time": "2025-09-27T19:47:28.105228Z"
    }
   },
   "outputs": [],
   "source": [
    "# try:\n",
    "#     for memory in manager.list_memories():\n",
    "#         manager.delete_memory(memory_id=memory.id)\n",
    "# except Exception as e:\n",
    "#     print(f\"🔍 DEBUG: Error deleting memory: {e}\")\n",
    "#     pass"
   ]
  },
  {
   "cell_type": "code",
   "execution_count": 18,
   "metadata": {
    "ExecuteTime": {
     "end_time": "2025-09-27T19:47:28.514982Z",
     "start_time": "2025-09-27T19:47:28.113961Z"
    }
   },
   "outputs": [
    {
     "name": "stderr",
     "output_type": "stream",
     "text": [
      "🔎 Retrieving memory resource with ID: DemoLongTermMemory2-ZsKBvw2Oqs...\n",
      "  ✅ Found memory: DemoLongTermMemory2-ZsKBvw2Oqs\n",
      "🔎 Retrieving memory resource with ID: DemoLongTermMemory3-EQGD6pFqrh...\n",
      "  ✅ Found memory: DemoLongTermMemory3-EQGD6pFqrh\n",
      "🔎 Retrieving memory resource with ID: LargeDemoLongTermMemory-wKcX9pCmQV...\n"
     ]
    },
    {
     "name": "stdout",
     "output_type": "stream",
     "text": [
      "🔍 DEBUG: Memory found with status: ACTIVE\n",
      "🔍 DEBUG: Memory found with status: ACTIVE\n"
     ]
    },
    {
     "name": "stderr",
     "output_type": "stream",
     "text": [
      "  ✅ Found memory: LargeDemoLongTermMemory-wKcX9pCmQV\n"
     ]
    },
    {
     "name": "stdout",
     "output_type": "stream",
     "text": [
      "🔍 DEBUG: Memory found with status: ACTIVE\n"
     ]
    }
   ],
   "source": [
    "try:\n",
    "    for memory in manager.list_memories():\n",
    "        memory = manager.get_memory(memory_id=memory.id)\n",
    "        print(f\"🔍 DEBUG: Memory found with status: {memory.status}\")\n",
    "except Exception as e:\n",
    "    print(f\"🔍 DEBUG: Memory deletion confirmed. Error: {e}\")"
   ]
  }
 ],
 "metadata": {
  "kernelspec": {
   "display_name": "data_science",
   "language": "python",
   "name": "python3"
  },
  "language_info": {
   "codemirror_mode": {
    "name": "ipython",
    "version": 3
   },
   "file_extension": ".py",
   "mimetype": "text/x-python",
   "name": "python",
   "nbconvert_exporter": "python",
   "pygments_lexer": "ipython3",
   "version": "3.11.9"
  }
 },
 "nbformat": 4,
 "nbformat_minor": 4
}
