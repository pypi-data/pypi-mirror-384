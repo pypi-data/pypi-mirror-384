{
 "cells": [
  {
   "cell_type": "markdown",
   "id": "4d27b9ca-f241-4702-9d70-da6f05434018",
   "metadata": {},
   "source": [
    "# guppy and hugr to qir conversion and submission to H1 and H2\n"
   ]
  },
  {
   "cell_type": "markdown",
   "id": "eb8e7aad-dea6-4f66-9fea-75f75a41c567",
   "metadata": {},
   "source": [
    "This example shows how to convert guppy to qir which can be submitted directly to H1 and H2 device, emulator and syntax checker.\n",
    "\n",
    "You need to install hugr-qir, guppy and pytket-quantinuum for this notebook to work.\n",
    "\n",
    "### Current guppy features that can't be converted:\n",
    "- loops with condition not known at compiletime\n",
    "- functions returning qubit arrays\n",
    "- RNG functions\n",
    "- dynamic qubit allocation\n"
   ]
  },
  {
   "cell_type": "code",
   "execution_count": 1,
   "id": "b3fc5880-263e-4f67-afe2-1b999f932d63",
   "metadata": {},
   "outputs": [],
   "source": [
    "# You can write your guppy directly in a notebook or in a separate file\n",
    "import sys\n",
    "from typing import no_type_check\n",
    "\n",
    "from guppylang import guppy, qubit\n",
    "from guppylang.std.builtins import result\n",
    "from guppylang.std.quantum import h, measure\n",
    "\n",
    "\n",
    "@guppy\n",
    "@no_type_check\n",
    "def main() -> None:\n",
    "    q0 = qubit()\n",
    "    q1 = qubit()\n",
    "\n",
    "    h(q0)\n",
    "    h(q1)\n",
    "\n",
    "    b0 = measure(q0)\n",
    "    b1 = measure(q1)\n",
    "    b2 = b0 ^ b1\n",
    "\n",
    "    result(\"0\", b2)"
   ]
  },
  {
   "cell_type": "markdown",
   "id": "3c09161b-c90c-43ae-84ae-d09144a54909",
   "metadata": {},
   "source": [
    "# Convert hugr to qir\n",
    "\n",
    "By default, the function will automatically check the generated QIR to capture most of the issues that could happen.\n",
    "This will show an error message with more details about the problem the check can be turned off using the keyword argument `validate_qir = False`"
   ]
  },
  {
   "cell_type": "code",
   "execution_count": 2,
   "id": "2fae032f-9ddd-43c6-9818-2114d0663463",
   "metadata": {},
   "outputs": [],
   "source": [
    "from hugr_qir.hugr_to_qir import hugr_to_qir\n",
    "from hugr_qir.output import OutputFormat\n",
    "\n",
    "guppy_qir_bitcode_string = hugr_to_qir(main.compile(), output_format=OutputFormat.BASE64)\n"
   ]
  },
  {
   "cell_type": "code",
   "execution_count": 3,
   "id": "c6152003-59fa-4386-afe4-c4eb10e8c75f",
   "metadata": {},
   "outputs": [
    {
     "name": "stdout",
     "output_type": "stream",
     "text": [
      "; ModuleID = 'hugr-qir'\n",
      "source_filename = \"hugr-qir\"\n",
      "target datalayout = \"e-m:e-i8:8:32-i16:16:32-i64:64-i128:128-n32:64-S128\"\n",
      "target triple = \"aarch64-unknown-linux-gnu\"\n",
      "\n",
      "%Qubit = type opaque\n",
      "%Result = type opaque\n",
      "\n",
      "@0 = private unnamed_addr constant [2 x i8] c\"0\\00\", align 1\n",
      "\n",
      "define void @__hugr__.main.1() local_unnamed_addr #0 {\n",
      "alloca_block:\n",
      "  tail call void @__quantum__qis__phasedx__body(double 0x3FF921FB54442D18, double 0xBFF921FB54442D18, %Qubit* null)\n",
      "  tail call void @__quantum__qis__rz__body(double 0x400921FB54442D18, %Qubit* null)\n",
      "  tail call void @__quantum__qis__mz__body(%Qubit* null, %Result* null)\n",
      "  %0 = tail call i1 @__quantum__qis__read_result__body(%Result* null)\n",
      "  tail call void @__quantum__qis__phasedx__body(double 0x3FF921FB54442D18, double 0xBFF921FB54442D18, %Qubit* nonnull inttoptr (i64 1 to %Qubit*))\n",
      "  tail call void @__quantum__qis__rz__body(double 0x400921FB54442D18, %Qubit* nonnull inttoptr (i64 1 to %Qubit*))\n",
      "  tail call void @__quantum__qis__mz__body(%Qubit* nonnull inttoptr (i64 1 to %Qubit*), %Result* nonnull inttoptr (i64 1 to %Result*))\n",
      "  %1 = tail call i1 @__quantum__qis__read_result__body(%Result* nonnull inttoptr (i64 1 to %Result*))\n",
      "  %2 = xor i1 %0, %1\n",
      "  tail call void @__quantum__rt__bool_record_output(i1 %2, i8* getelementptr inbounds ([2 x i8], [2 x i8]* @0, i64 0, i64 0))\n",
      "  ret void\n",
      "}\n",
      "\n",
      "declare void @__quantum__qis__phasedx__body(double, double, %Qubit*) local_unnamed_addr\n",
      "\n",
      "declare void @__quantum__qis__rz__body(double, %Qubit*) local_unnamed_addr\n",
      "\n",
      "declare void @__quantum__qis__mz__body(%Qubit*, %Result*) local_unnamed_addr\n",
      "\n",
      "declare i1 @__quantum__qis__read_result__body(%Result*) local_unnamed_addr\n",
      "\n",
      "declare void @__quantum__rt__bool_record_output(i1, i8*) local_unnamed_addr\n",
      "\n",
      "attributes #0 = { \"entry_point\" \"output_labeling_schema\" \"qir_profiles\"=\"custom\" \"required_num_qubits\"=\"2\" \"required_num_results\"=\"2\" }\n",
      "\n",
      "!llvm.module.flags = !{!0, !1, !2, !3}\n",
      "\n",
      "!0 = !{i32 1, !\"qir_major_version\", i32 1}\n",
      "!1 = !{i32 7, !\"qir_minor_version\", i32 0}\n",
      "!2 = !{i32 1, !\"dynamic_qubit_management\", i1 false}\n",
      "!3 = !{i32 1, !\"dynamic_result_management\", i1 false}\n",
      "\n"
     ]
    }
   ],
   "source": [
    "# The QIR is normally returned as base64 encoded llvm bitcode.\n",
    "# To get a human-readable LLVM assemly language string use the keyword argument `output_format = OutputFormat.LLVM_IR`\n",
    "from hugr_qir.output import OutputFormat\n",
    "\n",
    "\n",
    "guppy_qir = hugr_to_qir(main.compile(), output_format=OutputFormat.LLVM_IR)\n",
    "print(guppy_qir)"
   ]
  },
  {
   "cell_type": "code",
   "execution_count": 4,
   "id": "83ed49d7-4ba2-400f-9c6d-43c8e41dd70a",
   "metadata": {},
   "outputs": [
    {
     "name": "stdout",
     "output_type": "stream",
     "text": [
      "Enter your Quantinuum email:  melf.johannsen@quantinuum.com\n",
      "Enter your Quantinuum password:  ········\n"
     ]
    }
   ],
   "source": [
    "# set up a pytket-quantinnum backend\n",
    "# This required credentials for the device\n",
    "\n",
    "from pytket.extensions.quantinuum import QuantinuumBackend, Language\n",
    "\n",
    "backend = QuantinuumBackend(device_name=\"H1-1SC\")\n",
    "backend.login()\n"
   ]
  },
  {
   "cell_type": "code",
   "execution_count": 5,
   "id": "6271cd9e-20af-451b-92b1-289fde0e83cc",
   "metadata": {},
   "outputs": [
    {
     "name": "stderr",
     "output_type": "stream",
     "text": [
      "/run/user/1002/ipykernel_63242/2897221857.py:3: DeprecationWarning: Submission of programs to remote devices from pytket-quantinuum is deprecated, and will not be possible after October 2025. Please use qnexus ( https://docs.quantinuum.com/nexus/index.html ) instead.\n",
      "  h = backend.submit_program(Language.QIR, guppy_qir_bitcode_string, n_shots=10)\n"
     ]
    },
    {
     "name": "stdout",
     "output_type": "stream",
     "text": [
      "('91540f47d0b44ec4bec6f919e05ea01f', 'null', -1, 'null')\n",
      "[[0]\n",
      " [0]\n",
      " [0]\n",
      " [0]\n",
      " [0]\n",
      " [0]\n",
      " [0]\n",
      " [0]\n",
      " [0]\n",
      " [0]]\n"
     ]
    }
   ],
   "source": [
    "# Submit the qir to the device (which expects the base64 encoded llvm binary)\n",
    "\n",
    "h = backend.submit_program(Language.QIR, guppy_qir_bitcode_string, n_shots=10)\n",
    "r = backend.get_result(h)\n",
    "shots = r.get_shots()\n",
    "assert len(shots) == 10\n",
    "print(h)\n",
    "print(shots)"
   ]
  },
  {
   "cell_type": "code",
   "execution_count": 6,
   "id": "5ed13976-8439-4a52-8189-81d6fac99244",
   "metadata": {},
   "outputs": [],
   "source": [
    "from typing import no_type_check\n",
    "\n",
    "from guppylang import guppy, qubit\n",
    "from guppylang.std.builtins import result\n",
    "from guppylang.std.quantum import h, measure\n",
    "\n",
    "\n",
    "@guppy\n",
    "@no_type_check\n",
    "def main() -> None:\n",
    "    q0 = qubit()\n",
    "    q1 = qubit()\n",
    "\n",
    "    for _ in range(10):\n",
    "        q3 = qubit()\n",
    "        h(q3)\n",
    "        b = measure(q3)\n",
    "        if b:\n",
    "            h(q0)\n",
    "\n",
    "    result(\"0\", measure(q0))\n",
    "    result(\"1\", measure(q1))\n",
    "\n"
   ]
  },
  {
   "cell_type": "code",
   "execution_count": 7,
   "id": "f65a2c40-26ae-4f0b-be28-9ab39a3c6da9",
   "metadata": {
    "scrolled": true
   },
   "outputs": [
    {
     "name": "stdout",
     "output_type": "stream",
     "text": [
      "; ModuleID = 'hugr-qir'\n",
      "source_filename = \"hugr-qir\"\n",
      "target datalayout = \"e-m:e-i8:8:32-i16:16:32-i64:64-i128:128-n32:64-S128\"\n",
      "target triple = \"aarch64-unknown-linux-gnu\"\n",
      "\n",
      "%Qubit = type opaque\n",
      "%Result = type opaque\n",
      "\n",
      "@0 = private unnamed_addr constant [2 x i8] c\"0\\00\", align 1\n",
      "@1 = private unnamed_addr constant [2 x i8] c\"1\\00\", align 1\n",
      "\n",
      "define void @__hugr__.main.1() local_unnamed_addr #0 {\n",
      "alloca_block:\n",
      "  tail call void @__quantum__qis__phasedx__body(double 0x3FF921FB54442D18, double 0xBFF921FB54442D18, %Qubit* nonnull inttoptr (i64 2 to %Qubit*))\n",
      "  tail call void @__quantum__qis__rz__body(double 0x400921FB54442D18, %Qubit* nonnull inttoptr (i64 2 to %Qubit*))\n",
      "  tail call void @__quantum__qis__mz__body(%Qubit* nonnull inttoptr (i64 2 to %Qubit*), %Result* nonnull inttoptr (i64 2 to %Result*))\n",
      "  %0 = tail call i1 @__quantum__qis__read_result__body(%Result* nonnull inttoptr (i64 2 to %Result*))\n",
      "  br i1 %0, label %21, label %cond_309_case_0\n",
      "\n",
      "cond_309_case_0:                                  ; preds = %alloca_block, %21\n",
      "  tail call void @__quantum__qis__phasedx__body(double 0x3FF921FB54442D18, double 0xBFF921FB54442D18, %Qubit* nonnull inttoptr (i64 2 to %Qubit*))\n",
      "  tail call void @__quantum__qis__rz__body(double 0x400921FB54442D18, %Qubit* nonnull inttoptr (i64 2 to %Qubit*))\n",
      "  tail call void @__quantum__qis__mz__body(%Qubit* nonnull inttoptr (i64 2 to %Qubit*), %Result* nonnull inttoptr (i64 2 to %Result*))\n",
      "  %1 = tail call i1 @__quantum__qis__read_result__body(%Result* nonnull inttoptr (i64 2 to %Result*))\n",
      "  br i1 %1, label %2, label %cond_309_case_0.1\n",
      "\n",
      "2:                                                ; preds = %cond_309_case_0\n",
      "  tail call void @__quantum__qis__phasedx__body(double 0x3FF921FB54442D18, double 0xBFF921FB54442D18, %Qubit* null)\n",
      "  tail call void @__quantum__qis__rz__body(double 0x400921FB54442D18, %Qubit* null)\n",
      "  br label %cond_309_case_0.1\n",
      "\n",
      "cond_309_case_0.1:                                ; preds = %2, %cond_309_case_0\n",
      "  tail call void @__quantum__qis__phasedx__body(double 0x3FF921FB54442D18, double 0xBFF921FB54442D18, %Qubit* nonnull inttoptr (i64 2 to %Qubit*))\n",
      "  tail call void @__quantum__qis__rz__body(double 0x400921FB54442D18, %Qubit* nonnull inttoptr (i64 2 to %Qubit*))\n",
      "  tail call void @__quantum__qis__mz__body(%Qubit* nonnull inttoptr (i64 2 to %Qubit*), %Result* nonnull inttoptr (i64 2 to %Result*))\n",
      "  %3 = tail call i1 @__quantum__qis__read_result__body(%Result* nonnull inttoptr (i64 2 to %Result*))\n",
      "  br i1 %3, label %4, label %cond_309_case_0.2\n",
      "\n",
      "4:                                                ; preds = %cond_309_case_0.1\n",
      "  tail call void @__quantum__qis__phasedx__body(double 0x3FF921FB54442D18, double 0xBFF921FB54442D18, %Qubit* null)\n",
      "  tail call void @__quantum__qis__rz__body(double 0x400921FB54442D18, %Qubit* null)\n",
      "  br label %cond_309_case_0.2\n",
      "\n",
      "cond_309_case_0.2:                                ; preds = %4, %cond_309_case_0.1\n",
      "  tail call void @__quantum__qis__phasedx__body(double 0x3FF921FB54442D18, double 0xBFF921FB54442D18, %Qubit* nonnull inttoptr (i64 2 to %Qubit*))\n",
      "  tail call void @__quantum__qis__rz__body(double 0x400921FB54442D18, %Qubit* nonnull inttoptr (i64 2 to %Qubit*))\n",
      "  tail call void @__quantum__qis__mz__body(%Qubit* nonnull inttoptr (i64 2 to %Qubit*), %Result* nonnull inttoptr (i64 2 to %Result*))\n",
      "  %5 = tail call i1 @__quantum__qis__read_result__body(%Result* nonnull inttoptr (i64 2 to %Result*))\n",
      "  br i1 %5, label %6, label %cond_309_case_0.3\n",
      "\n",
      "6:                                                ; preds = %cond_309_case_0.2\n",
      "  tail call void @__quantum__qis__phasedx__body(double 0x3FF921FB54442D18, double 0xBFF921FB54442D18, %Qubit* null)\n",
      "  tail call void @__quantum__qis__rz__body(double 0x400921FB54442D18, %Qubit* null)\n",
      "  br label %cond_309_case_0.3\n",
      "\n",
      "cond_309_case_0.3:                                ; preds = %6, %cond_309_case_0.2\n",
      "  tail call void @__quantum__qis__phasedx__body(double 0x3FF921FB54442D18, double 0xBFF921FB54442D18, %Qubit* nonnull inttoptr (i64 2 to %Qubit*))\n",
      "  tail call void @__quantum__qis__rz__body(double 0x400921FB54442D18, %Qubit* nonnull inttoptr (i64 2 to %Qubit*))\n",
      "  tail call void @__quantum__qis__mz__body(%Qubit* nonnull inttoptr (i64 2 to %Qubit*), %Result* nonnull inttoptr (i64 2 to %Result*))\n",
      "  %7 = tail call i1 @__quantum__qis__read_result__body(%Result* nonnull inttoptr (i64 2 to %Result*))\n",
      "  br i1 %7, label %8, label %cond_309_case_0.4\n",
      "\n",
      "8:                                                ; preds = %cond_309_case_0.3\n",
      "  tail call void @__quantum__qis__phasedx__body(double 0x3FF921FB54442D18, double 0xBFF921FB54442D18, %Qubit* null)\n",
      "  tail call void @__quantum__qis__rz__body(double 0x400921FB54442D18, %Qubit* null)\n",
      "  br label %cond_309_case_0.4\n",
      "\n",
      "cond_309_case_0.4:                                ; preds = %8, %cond_309_case_0.3\n",
      "  tail call void @__quantum__qis__phasedx__body(double 0x3FF921FB54442D18, double 0xBFF921FB54442D18, %Qubit* nonnull inttoptr (i64 2 to %Qubit*))\n",
      "  tail call void @__quantum__qis__rz__body(double 0x400921FB54442D18, %Qubit* nonnull inttoptr (i64 2 to %Qubit*))\n",
      "  tail call void @__quantum__qis__mz__body(%Qubit* nonnull inttoptr (i64 2 to %Qubit*), %Result* nonnull inttoptr (i64 2 to %Result*))\n",
      "  %9 = tail call i1 @__quantum__qis__read_result__body(%Result* nonnull inttoptr (i64 2 to %Result*))\n",
      "  br i1 %9, label %10, label %cond_309_case_0.5\n",
      "\n",
      "10:                                               ; preds = %cond_309_case_0.4\n",
      "  tail call void @__quantum__qis__phasedx__body(double 0x3FF921FB54442D18, double 0xBFF921FB54442D18, %Qubit* null)\n",
      "  tail call void @__quantum__qis__rz__body(double 0x400921FB54442D18, %Qubit* null)\n",
      "  br label %cond_309_case_0.5\n",
      "\n",
      "cond_309_case_0.5:                                ; preds = %10, %cond_309_case_0.4\n",
      "  tail call void @__quantum__qis__phasedx__body(double 0x3FF921FB54442D18, double 0xBFF921FB54442D18, %Qubit* nonnull inttoptr (i64 2 to %Qubit*))\n",
      "  tail call void @__quantum__qis__rz__body(double 0x400921FB54442D18, %Qubit* nonnull inttoptr (i64 2 to %Qubit*))\n",
      "  tail call void @__quantum__qis__mz__body(%Qubit* nonnull inttoptr (i64 2 to %Qubit*), %Result* nonnull inttoptr (i64 2 to %Result*))\n",
      "  %11 = tail call i1 @__quantum__qis__read_result__body(%Result* nonnull inttoptr (i64 2 to %Result*))\n",
      "  br i1 %11, label %12, label %cond_309_case_0.6\n",
      "\n",
      "12:                                               ; preds = %cond_309_case_0.5\n",
      "  tail call void @__quantum__qis__phasedx__body(double 0x3FF921FB54442D18, double 0xBFF921FB54442D18, %Qubit* null)\n",
      "  tail call void @__quantum__qis__rz__body(double 0x400921FB54442D18, %Qubit* null)\n",
      "  br label %cond_309_case_0.6\n",
      "\n",
      "cond_309_case_0.6:                                ; preds = %12, %cond_309_case_0.5\n",
      "  tail call void @__quantum__qis__phasedx__body(double 0x3FF921FB54442D18, double 0xBFF921FB54442D18, %Qubit* nonnull inttoptr (i64 2 to %Qubit*))\n",
      "  tail call void @__quantum__qis__rz__body(double 0x400921FB54442D18, %Qubit* nonnull inttoptr (i64 2 to %Qubit*))\n",
      "  tail call void @__quantum__qis__mz__body(%Qubit* nonnull inttoptr (i64 2 to %Qubit*), %Result* nonnull inttoptr (i64 2 to %Result*))\n",
      "  %13 = tail call i1 @__quantum__qis__read_result__body(%Result* nonnull inttoptr (i64 2 to %Result*))\n",
      "  br i1 %13, label %14, label %cond_309_case_0.7\n",
      "\n",
      "14:                                               ; preds = %cond_309_case_0.6\n",
      "  tail call void @__quantum__qis__phasedx__body(double 0x3FF921FB54442D18, double 0xBFF921FB54442D18, %Qubit* null)\n",
      "  tail call void @__quantum__qis__rz__body(double 0x400921FB54442D18, %Qubit* null)\n",
      "  br label %cond_309_case_0.7\n",
      "\n",
      "cond_309_case_0.7:                                ; preds = %14, %cond_309_case_0.6\n",
      "  tail call void @__quantum__qis__phasedx__body(double 0x3FF921FB54442D18, double 0xBFF921FB54442D18, %Qubit* nonnull inttoptr (i64 2 to %Qubit*))\n",
      "  tail call void @__quantum__qis__rz__body(double 0x400921FB54442D18, %Qubit* nonnull inttoptr (i64 2 to %Qubit*))\n",
      "  tail call void @__quantum__qis__mz__body(%Qubit* nonnull inttoptr (i64 2 to %Qubit*), %Result* nonnull inttoptr (i64 2 to %Result*))\n",
      "  %15 = tail call i1 @__quantum__qis__read_result__body(%Result* nonnull inttoptr (i64 2 to %Result*))\n",
      "  br i1 %15, label %16, label %cond_309_case_0.8\n",
      "\n",
      "16:                                               ; preds = %cond_309_case_0.7\n",
      "  tail call void @__quantum__qis__phasedx__body(double 0x3FF921FB54442D18, double 0xBFF921FB54442D18, %Qubit* null)\n",
      "  tail call void @__quantum__qis__rz__body(double 0x400921FB54442D18, %Qubit* null)\n",
      "  br label %cond_309_case_0.8\n",
      "\n",
      "cond_309_case_0.8:                                ; preds = %16, %cond_309_case_0.7\n",
      "  tail call void @__quantum__qis__phasedx__body(double 0x3FF921FB54442D18, double 0xBFF921FB54442D18, %Qubit* nonnull inttoptr (i64 2 to %Qubit*))\n",
      "  tail call void @__quantum__qis__rz__body(double 0x400921FB54442D18, %Qubit* nonnull inttoptr (i64 2 to %Qubit*))\n",
      "  tail call void @__quantum__qis__mz__body(%Qubit* nonnull inttoptr (i64 2 to %Qubit*), %Result* nonnull inttoptr (i64 2 to %Result*))\n",
      "  %17 = tail call i1 @__quantum__qis__read_result__body(%Result* nonnull inttoptr (i64 2 to %Result*))\n",
      "  br i1 %17, label %18, label %cond_309_case_0.9\n",
      "\n",
      "18:                                               ; preds = %cond_309_case_0.8\n",
      "  tail call void @__quantum__qis__phasedx__body(double 0x3FF921FB54442D18, double 0xBFF921FB54442D18, %Qubit* null)\n",
      "  tail call void @__quantum__qis__rz__body(double 0x400921FB54442D18, %Qubit* null)\n",
      "  br label %cond_309_case_0.9\n",
      "\n",
      "cond_309_case_0.9:                                ; preds = %18, %cond_309_case_0.8\n",
      "  tail call void @__quantum__qis__mz__body(%Qubit* null, %Result* null)\n",
      "  %19 = tail call i1 @__quantum__qis__read_result__body(%Result* null)\n",
      "  tail call void @__quantum__rt__bool_record_output(i1 %19, i8* getelementptr inbounds ([2 x i8], [2 x i8]* @0, i64 0, i64 0))\n",
      "  tail call void @__quantum__qis__mz__body(%Qubit* nonnull inttoptr (i64 1 to %Qubit*), %Result* nonnull inttoptr (i64 1 to %Result*))\n",
      "  %20 = tail call i1 @__quantum__qis__read_result__body(%Result* nonnull inttoptr (i64 1 to %Result*))\n",
      "  tail call void @__quantum__rt__bool_record_output(i1 %20, i8* getelementptr inbounds ([2 x i8], [2 x i8]* @1, i64 0, i64 0))\n",
      "  ret void\n",
      "\n",
      "21:                                               ; preds = %alloca_block\n",
      "  tail call void @__quantum__qis__phasedx__body(double 0x3FF921FB54442D18, double 0xBFF921FB54442D18, %Qubit* null)\n",
      "  tail call void @__quantum__qis__rz__body(double 0x400921FB54442D18, %Qubit* null)\n",
      "  br label %cond_309_case_0\n",
      "}\n",
      "\n",
      "declare void @__quantum__qis__mz__body(%Qubit*, %Result*) local_unnamed_addr\n",
      "\n",
      "declare i1 @__quantum__qis__read_result__body(%Result*) local_unnamed_addr\n",
      "\n",
      "declare void @__quantum__rt__bool_record_output(i1, i8*) local_unnamed_addr\n",
      "\n",
      "declare void @__quantum__qis__phasedx__body(double, double, %Qubit*) local_unnamed_addr\n",
      "\n",
      "declare void @__quantum__qis__rz__body(double, %Qubit*) local_unnamed_addr\n",
      "\n",
      "attributes #0 = { \"entry_point\" \"output_labeling_schema\" \"qir_profiles\"=\"custom\" \"required_num_qubits\"=\"3\" \"required_num_results\"=\"3\" }\n",
      "\n",
      "!llvm.module.flags = !{!0, !1, !2, !3}\n",
      "\n",
      "!0 = !{i32 1, !\"qir_major_version\", i32 1}\n",
      "!1 = !{i32 7, !\"qir_minor_version\", i32 0}\n",
      "!2 = !{i32 1, !\"dynamic_qubit_management\", i1 false}\n",
      "!3 = !{i32 1, !\"dynamic_result_management\", i1 false}\n",
      "\n"
     ]
    }
   ],
   "source": [
    "guppy_qir = hugr_to_qir(main.compile(), output_format=OutputFormat.LLVM_IR)\n",
    "print(guppy_qir)\n"
   ]
  },
  {
   "cell_type": "markdown",
   "id": "fbdc6827-3cb4-46c1-b2d8-96e864e82857",
   "metadata": {},
   "source": [
    "Constructing a similar example like the one above with a loop which numbers of execution depends on the measurement results inside the loop leads to the generation of QIR which is valid within the standard, but can't be understood by the device."
   ]
  },
  {
   "cell_type": "code",
   "execution_count": 8,
   "id": "278320c9-ed96-4556-af12-f7522b938d27",
   "metadata": {},
   "outputs": [],
   "source": [
    "\n",
    "from typing import no_type_check\n",
    "\n",
    "from guppylang import guppy, qubit\n",
    "from guppylang.std.builtins import result\n",
    "from guppylang.std.quantum import h, measure\n",
    "\n",
    "@guppy\n",
    "@no_type_check\n",
    "def main() -> None:\n",
    "    q0 = qubit()\n",
    "    q1 = qubit()\n",
    "    \n",
    "    i = 0\n",
    "    while i < 10:\n",
    "        q3 = qubit()\n",
    "        h(q3)\n",
    "        b = measure(q3)\n",
    "        if b:\n",
    "            h(q0)\n",
    "            i += 1\n",
    "\n",
    "    result(\"0\", measure(q0))\n",
    "    result(\"1\", measure(q1))"
   ]
  },
  {
   "cell_type": "code",
   "execution_count": 9,
   "id": "8f80b44f-f4a2-4703-b02e-40e1bdf032f0",
   "metadata": {},
   "outputs": [
    {
     "name": "stdout",
     "output_type": "stream",
     "text": [
      "; ModuleID = 'hugr-qir'\n",
      "source_filename = \"hugr-qir\"\n",
      "target datalayout = \"e-m:e-i8:8:32-i16:16:32-i64:64-i128:128-n32:64-S128\"\n",
      "target triple = \"aarch64-unknown-linux-gnu\"\n",
      "\n",
      "%Qubit = type opaque\n",
      "%Result = type opaque\n",
      "\n",
      "@0 = private unnamed_addr constant [2 x i8] c\"0\\00\", align 1\n",
      "@1 = private unnamed_addr constant [2 x i8] c\"1\\00\", align 1\n",
      "\n",
      "define void @__hugr__.main.1() local_unnamed_addr #0 {\n",
      "alloca_block:\n",
      "  br label %cond_exit_176\n",
      "\n",
      "cond_104_case_0:                                  ; preds = %cond_exit_176, %4\n",
      "  %\"65_0.0\" = phi i64 [ %5, %4 ], [ %\"15_0.0221\", %cond_exit_176 ]\n",
      "  %0 = icmp slt i64 %\"65_0.0\", 10\n",
      "  br i1 %0, label %cond_exit_176, label %cond_132_case_1\n",
      "\n",
      "cond_132_case_1:                                  ; preds = %cond_104_case_0\n",
      "  tail call void @__quantum__qis__mz__body(%Qubit* null, %Result* null)\n",
      "  %1 = tail call i1 @__quantum__qis__read_result__body(%Result* null)\n",
      "  tail call void @__quantum__rt__bool_record_output(i1 %1, i8* getelementptr inbounds ([2 x i8], [2 x i8]* @0, i64 0, i64 0))\n",
      "  tail call void @__quantum__qis__mz__body(%Qubit* nonnull inttoptr (i64 2 to %Qubit*), %Result* nonnull inttoptr (i64 2 to %Result*))\n",
      "  %2 = tail call i1 @__quantum__qis__read_result__body(%Result* nonnull inttoptr (i64 2 to %Result*))\n",
      "  tail call void @__quantum__rt__bool_record_output(i1 %2, i8* getelementptr inbounds ([2 x i8], [2 x i8]* @1, i64 0, i64 0))\n",
      "  ret void\n",
      "\n",
      "cond_exit_176:                                    ; preds = %alloca_block, %cond_104_case_0\n",
      "  %\"15_0.0221\" = phi i64 [ 0, %alloca_block ], [ %\"65_0.0\", %cond_104_case_0 ]\n",
      "  tail call void @__quantum__qis__phasedx__body(double 0x3FF921FB54442D18, double 0xBFF921FB54442D18, %Qubit* nonnull inttoptr (i64 1 to %Qubit*))\n",
      "  tail call void @__quantum__qis__rz__body(double 0x400921FB54442D18, %Qubit* nonnull inttoptr (i64 1 to %Qubit*))\n",
      "  tail call void @__quantum__qis__mz__body(%Qubit* nonnull inttoptr (i64 1 to %Qubit*), %Result* nonnull inttoptr (i64 1 to %Result*))\n",
      "  %3 = tail call i1 @__quantum__qis__read_result__body(%Result* nonnull inttoptr (i64 1 to %Result*))\n",
      "  br i1 %3, label %4, label %cond_104_case_0\n",
      "\n",
      "4:                                                ; preds = %cond_exit_176\n",
      "  %5 = add nsw i64 %\"15_0.0221\", 1\n",
      "  tail call void @__quantum__qis__phasedx__body(double 0x3FF921FB54442D18, double 0xBFF921FB54442D18, %Qubit* null)\n",
      "  tail call void @__quantum__qis__rz__body(double 0x400921FB54442D18, %Qubit* null)\n",
      "  br label %cond_104_case_0\n",
      "}\n",
      "\n",
      "declare void @__quantum__qis__phasedx__body(double, double, %Qubit*) local_unnamed_addr\n",
      "\n",
      "declare void @__quantum__qis__rz__body(double, %Qubit*) local_unnamed_addr\n",
      "\n",
      "declare void @__quantum__qis__mz__body(%Qubit*, %Result*) local_unnamed_addr\n",
      "\n",
      "declare i1 @__quantum__qis__read_result__body(%Result*) local_unnamed_addr\n",
      "\n",
      "declare void @__quantum__rt__bool_record_output(i1, i8*) local_unnamed_addr\n",
      "\n",
      "attributes #0 = { \"entry_point\" \"output_labeling_schema\" \"qir_profiles\"=\"custom\" \"required_num_qubits\"=\"3\" \"required_num_results\"=\"3\" }\n",
      "\n",
      "!llvm.module.flags = !{!0, !1, !2, !3}\n",
      "\n",
      "!0 = !{i32 1, !\"qir_major_version\", i32 1}\n",
      "!1 = !{i32 7, !\"qir_minor_version\", i32 0}\n",
      "!2 = !{i32 1, !\"dynamic_qubit_management\", i1 false}\n",
      "!3 = !{i32 1, !\"dynamic_result_management\", i1 false}\n",
      "\n"
     ]
    }
   ],
   "source": [
    "guppy_qir = hugr_to_qir(main.compile(), output_format=OutputFormat.LLVM_IR, validate_qir=False)\n",
    "print(guppy_qir)"
   ]
  },
  {
   "cell_type": "code",
   "execution_count": 10,
   "id": "8b682b22-fd52-4b39-8c81-20939880862d",
   "metadata": {},
   "outputs": [
    {
     "name": "stdout",
     "output_type": "stream",
     "text": [
      "Validation failed as expected:\n",
      "Found loop in CFG containing the block: cond_exit_176\n"
     ]
    }
   ],
   "source": [
    "# this will fail because of the loop in the generated QIR\n",
    "\n",
    "try:\n",
    "    guppy_qir = hugr_to_qir(main.compile(), output_format=OutputFormat.LLVM_IR, validate_qir=True)\n",
    "    print(guppy_qir)\n",
    "except Exception as e:\n",
    "    print('Validation failed as expected:')\n",
    "    print(e)"
   ]
  },
  {
   "cell_type": "code",
   "execution_count": null,
   "id": "2abbcf4f-7a49-4cab-8c49-d0e7b3614e97",
   "metadata": {},
   "outputs": [],
   "source": []
  },
  {
   "cell_type": "markdown",
   "id": "4ca04d5a-8f98-4f9f-b3eb-edb85e47b7ed",
   "metadata": {},
   "source": [
    "# Submission via Nexus"
   ]
  },
  {
   "cell_type": "markdown",
   "id": "9bb213a5-53f1-4c06-82c2-c9b206eb3b74",
   "metadata": {},
   "source": [
    "QIR can be submitted via Nexus, too. It needs to be installed via `pip install qnexus`. This requires a different QIR format for the submission, which can be generated from hugr-qir via the format flag `OutputFormat.BITCODE`."
   ]
  },
  {
   "cell_type": "code",
   "execution_count": null,
   "id": "cb155a65-fffb-403d-ad9c-c23a1529b69f",
   "metadata": {},
   "outputs": [],
   "source": [
    "import qnexus as qnx\n",
    "\n",
    "qnx.login()"
   ]
  },
  {
   "cell_type": "code",
   "execution_count": 12,
   "id": "e2e26846-45b2-450a-8826-67a541cc2a68",
   "metadata": {},
   "outputs": [],
   "source": [
    "import datetime\n",
    "\n",
    "project = qnx.projects.get_or_create(name=\"QIR-Demonstration\")\n",
    "qnx.context.set_active_project(project)\n",
    "\n",
    "qir_name = \"HUGR-QIR\"\n",
    "jobname_suffix = datetime.datetime.now().strftime(\"%Y_%m_%d-%H-%M-%S\")"
   ]
  },
  {
   "cell_type": "code",
   "execution_count": 13,
   "id": "707fc82d-627b-4f9b-913b-82494fa94c8e",
   "metadata": {},
   "outputs": [],
   "source": [
    "# You can write your guppy directly in a notebook or in a separate file\n",
    "import sys\n",
    "from typing import no_type_check\n",
    "\n",
    "from guppylang import guppy, qubit\n",
    "from guppylang.std.builtins import result\n",
    "from guppylang.std.quantum import h, measure\n",
    "\n",
    "\n",
    "@guppy\n",
    "@no_type_check\n",
    "def main() -> None:\n",
    "    q0 = qubit()\n",
    "    q1 = qubit()\n",
    "\n",
    "    h(q0)\n",
    "    h(q1)\n",
    "\n",
    "    b0 = measure(q0)\n",
    "    b1 = measure(q1)\n",
    "    b2 = b0 ^ b1\n",
    "\n",
    "    result(\"0\", b2)"
   ]
  },
  {
   "cell_type": "code",
   "execution_count": 14,
   "id": "beb82dd3-cfa4-43b0-aef3-7887fb85328a",
   "metadata": {},
   "outputs": [],
   "source": [
    "from hugr_qir.hugr_to_qir import hugr_to_qir\n",
    "\n",
    "guppy_qir_bitcode = hugr_to_qir(main.compile(), output_format=OutputFormat.BITCODE)"
   ]
  },
  {
   "cell_type": "code",
   "execution_count": null,
   "id": "8c79a46c-c74a-4e9f-95e5-3477f32a6e24",
   "metadata": {},
   "outputs": [],
   "source": []
  },
  {
   "cell_type": "code",
   "execution_count": 15,
   "id": "13f6ec6c-11e0-40d1-91ec-ac1478f92b2f",
   "metadata": {},
   "outputs": [],
   "source": [
    "qir_program_ref = qnx.qir.upload(qir=guppy_qir_bitcode, name=qir_name, project=project)"
   ]
  },
  {
   "cell_type": "code",
   "execution_count": 16,
   "id": "19995ba6-145f-42c6-8c39-506bde9c8e42",
   "metadata": {},
   "outputs": [
    {
     "data": {
      "text/plain": [
       "JobStatus(status=<JobStatusEnum.COMPLETED: 'COMPLETED'>, message='The job is completed.', error_detail=None, completed_time=datetime.datetime(2025, 9, 4, 9, 26, 55, 990444, tzinfo=datetime.timezone.utc), queued_time=None, submitted_time=datetime.datetime(2025, 9, 4, 9, 26, 27, 386952, tzinfo=datetime.timezone.utc), running_time=None, cancelled_time=None, error_time=None, queue_position=None)"
      ]
     },
     "execution_count": 16,
     "metadata": {},
     "output_type": "execute_result"
    }
   ],
   "source": [
    "# Run on the H1-1 Syntax checker\n",
    "device_name = \"H1-1SC\"\n",
    "\n",
    "qnx.context.set_active_project(project)\n",
    "config = qnx.QuantinuumConfig(device_name=device_name)\n",
    "\n",
    "job_name = f\"execution-job-qir-{qir_name}-{device_name}-{jobname_suffix}\"\n",
    "ref_execute_job = qnx.start_execute_job(\n",
    "    programs=[qir_program_ref],\n",
    "    n_shots=[10],\n",
    "    backend_config=config,\n",
    "    name=job_name,\n",
    ")\n",
    "\n",
    "qnx.jobs.wait_for(ref_execute_job)"
   ]
  },
  {
   "cell_type": "code",
   "execution_count": 17,
   "id": "063658f0-c97d-4608-ad76-b06afcd7c046",
   "metadata": {},
   "outputs": [
    {
     "data": {
      "text/plain": [
       "Counter({(0,): 10})"
      ]
     },
     "execution_count": 17,
     "metadata": {},
     "output_type": "execute_result"
    }
   ],
   "source": [
    "qir_result = qnx.jobs.results(ref_execute_job)[0].download_result()\n",
    "qir_result.get_counts()"
   ]
  },
  {
   "cell_type": "code",
   "execution_count": null,
   "id": "1fa078cd-85c1-4c56-bbc5-590f390a0d41",
   "metadata": {},
   "outputs": [],
   "source": []
  }
 ],
 "metadata": {
  "kernelspec": {
   "display_name": "venv",
   "language": "python",
   "name": "python3"
  },
  "language_info": {
   "codemirror_mode": {
    "name": "ipython",
    "version": 3
   },
   "file_extension": ".py",
   "mimetype": "text/x-python",
   "name": "python",
   "nbconvert_exporter": "python",
   "pygments_lexer": "ipython3",
   "version": "3.12.9"
  }
 },
 "nbformat": 4,
 "nbformat_minor": 5
}
