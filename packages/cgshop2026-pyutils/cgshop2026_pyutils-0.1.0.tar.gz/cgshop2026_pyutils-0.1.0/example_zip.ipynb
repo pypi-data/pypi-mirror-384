{
 "cells": [
  {
   "cell_type": "markdown",
   "id": "460d9bac",
   "metadata": {},
   "source": [
    "# This file shows how to verify solutions from a zip archive"
   ]
  },
  {
   "cell_type": "markdown",
   "id": "0ab0820c",
   "metadata": {},
   "source": [
    "The `InstanceDatabase` class can read instances directly from a zip file. This is useful for handling multiple instances stored in a single archive."
   ]
  },
  {
   "cell_type": "code",
   "execution_count": 1,
   "id": "761f8245",
   "metadata": {},
   "outputs": [
    {
     "name": "stdout",
     "output_type": "stream",
     "text": [
      "Instance: test_instance_1\n",
      "Instance: test_instance_1_copy\n"
     ]
    }
   ],
   "source": [
    "from cgshop2026_pyutils.instance_database import InstanceDatabase\n",
    "\n",
    "db = InstanceDatabase(\"./test_instances.zip\")\n",
    "for instance in db:\n",
    "    print(f\"Instance: {instance.instance_uid}\")"
   ]
  },
  {
   "cell_type": "markdown",
   "id": "7719c5e2",
   "metadata": {},
   "source": [
    "Using the `ZipSolutionIterator`, you can iterate over solutions stored in a zip file, allowing for efficient verification of multiple solutions without extracting them first."
   ]
  },
  {
   "cell_type": "code",
   "execution_count": 2,
   "id": "375ea93b",
   "metadata": {},
   "outputs": [
    {
     "name": "stdout",
     "output_type": "stream",
     "text": [
      "Verifying solution for instance: test_instance_1_copy\n",
      "No errors found in solution. Objective value: 3\n",
      "Verifying solution for instance: test_instance_1\n",
      "No errors found in solution. Objective value: 3\n",
      "Verifying solution for instance: test_instance_1\n",
      "Errors found in solution: ['Error when flipping edge (3, 5) in triangulation: Edge is not flippable.']\n"
     ]
    }
   ],
   "source": [
    "from cgshop2026_pyutils.zip import ZipSolutionIterator\n",
    "from cgshop2026_pyutils.verify import check_for_errors\n",
    "zip_iterator = ZipSolutionIterator(\"./test_solutions.zip\")\n",
    "for solution in zip_iterator:\n",
    "    print(f\"Verifying solution for instance: {solution.instance_uid}\")\n",
    "    instance = db[solution.instance_uid]\n",
    "    errors = check_for_errors(instance, solution)\n",
    "    if errors:\n",
    "        print(f\"Errors found in solution: {errors}\")\n",
    "    else:\n",
    "        print(\"No errors found in solution. Objective value:\", solution.objective_value)\n"
   ]
  }
 ],
 "metadata": {
  "kernelspec": {
   "display_name": "cgshop312",
   "language": "python",
   "name": "python3"
  },
  "language_info": {
   "codemirror_mode": {
    "name": "ipython",
    "version": 3
   },
   "file_extension": ".py",
   "mimetype": "text/x-python",
   "name": "python",
   "nbconvert_exporter": "python",
   "pygments_lexer": "ipython3",
   "version": "3.12.11"
  }
 },
 "nbformat": 4,
 "nbformat_minor": 5
}
