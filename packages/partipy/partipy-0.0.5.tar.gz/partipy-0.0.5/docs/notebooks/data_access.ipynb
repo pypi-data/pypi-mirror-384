{
 "cells": [
  {
   "cell_type": "markdown",
   "id": "1942694e",
   "metadata": {},
   "source": [
    "\n",
    "# Accessing Cached Results in ParTIpy\n",
    "\n",
    "This tutorial walks through how archetypal analysis (AA) results are cached inside an `AnnData` object and shows how to retrieve those artifacts using the public accessor functions provided by ParTIpy.\n"
   ]
  },
  {
   "cell_type": "markdown",
   "id": "29d6b2fd",
   "metadata": {},
   "source": [
    "\n",
    "## Setup\n",
    "\n",
    "We start by importing the dependencies we will use. The examples below assume you already configured which embedding to use via `set_obsm` and that you have an `AnnData` object named `adata`.\n"
   ]
  },
  {
   "cell_type": "code",
   "execution_count": 1,
   "id": "735e645c",
   "metadata": {},
   "outputs": [
    {
     "name": "stderr",
     "output_type": "stream",
     "text": [
      "OMP: Info #276: omp_set_nested routine deprecated, please use omp_set_max_active_levels instead.\n",
      "100%|██████████| 50/50 [00:09<00:00,  5.04it/s]\n"
     ]
    },
    {
     "data": {
      "text/plain": [
       "AnnData object with n_obs × n_vars = 1999 × 8354\n",
       "    obs: 'cell_type', 'zone', 'run_id', 'time_point', 'UMAP_X', 'UMAP_Y'\n",
       "    var: 'highly_variable', 'means', 'dispersions', 'dispersions_norm'\n",
       "    uns: 'log1p', 'hvg', 'pca', 'AA_pca', 'AA_config'\n",
       "    obsm: 'X_pca'\n",
       "    varm: 'PCs'\n",
       "    layers: 'z_scaled'"
      ]
     },
     "execution_count": 1,
     "metadata": {},
     "output_type": "execute_result"
    }
   ],
   "source": [
    "import anndata as ad\n",
    "import numpy as np\n",
    "import partipy as pt\n",
    "import scanpy as sc\n",
    "\n",
    "from partipy.datasets import load_hepatocyte_data_2\n",
    "\n",
    "adata = load_hepatocyte_data_2()\n",
    "\n",
    "sc.pp.normalize_total(adata)\n",
    "sc.pp.log1p(adata)\n",
    "sc.pp.highly_variable_genes(adata)\n",
    "sc.pp.pca(adata, mask_var=\"highly_variable\")\n",
    "adata.layers[\"z_scaled\"]= sc.pp.scale(adata.X, max_value=10, copy=True)\n",
    "\n",
    "pt.compute_shuffled_pca(adata, mask_var=\"highly_variable\")\n",
    "pt.set_obsm(adata=adata, obsm_key=\"X_pca\", n_dimensions=3)\n",
    "\n",
    "adata"
   ]
  },
  {
   "cell_type": "markdown",
   "id": "ae8c914a",
   "metadata": {},
   "source": [
    "## Computing and Caching Results\n",
    "\n",
    "The high-level ParTIpy routines both perform the computation *and* persist their outputs to `adata.uns`. Each cache entry is keyed by the full `ArchetypeConfig`, so repeated calls with the same settings reuse what was already computed.\n",
    "\n",
    "| Function | Cached location | Notes |\n",
    "| --- | --- | --- |\n",
    "| `compute_archetypes` | `adata.uns['AA_results'][ArchetypeConfig]` | Stores weights (`A`/`B`), archetypes (`Z`), RSS traces, and variance explained when `archetypes_only=False`. |\n",
    "| `compute_selection_metrics` | `adata.uns['AA_selection_metrics'][ArchetypeConfig]`<br>`adata.uns['AA_results'][ArchetypeConfig]` | Evaluates multiple archetype counts; each fit is cached or reused via `compute_archetypes`. Use `pt.summarize_aa_metrics` to combine them for plotting. |\n",
    "| `compute_archetype_weights` | `adata.uns['AA_cell_weights'][ArchetypeConfig]` | Saves the cell-by-archetype weight matrix. |\n",
    "| `compute_bootstrap_variance` | `adata.uns['AA_bootstrap'][ArchetypeConfig]`<br>`adata.uns['AA_results'][ArchetypeConfig]` | Aligns bootstrap archetypes to the cached reference fit, reusing or populating AA results as needed. |\n",
    "\n",
    "A few practical tips:\n",
    "\n",
    "- Use `force_recompute=True` on any compute function to refresh a cached entry.\n",
    "- Keep track of the configuration you ran—filters passed to the getter utilities must uniquely identify one `ArchetypeConfig`.\n",
    "- Once results are cached, the getter functions (`get_aa_result`, `get_aa_metrics`, `get_aa_cell_weights`, `get_aa_bootstrap`, `summarize_aa_metrics`) provide the recommended read-only interface.\n",
    "\n",
    "The following cell runs a compact example that populates each cache so you can experiment with the accessors in later sections."
   ]
  },
  {
   "cell_type": "code",
   "execution_count": 2,
   "id": "6cb95870",
   "metadata": {},
   "outputs": [
    {
     "name": "stdout",
     "output_type": "stream",
     "text": [
      "Applied length scale is 3.12.\n"
     ]
    }
   ],
   "source": [
    "\n",
    "# Run archetypal analysis for three archetypes and cache the full result payload\n",
    "pt.compute_archetypes(\n",
    "    adata=adata,\n",
    "    n_archetypes=3,\n",
    "    save_to_anndata=True,\n",
    "    archetypes_only=False,\n",
    ")\n",
    "\n",
    "# Evaluate a small grid of archetype counts; metrics are saved in adata.uns[\"AA_selection_metrics\"]\n",
    "pt.compute_selection_metrics(\n",
    "    adata=adata,\n",
    "    n_archetypes_list=[2, 3, 4],\n",
    ")\n",
    "\n",
    "# Cache cell weights and bootstrap variance for later inspection\n",
    "pt.compute_archetype_weights(adata, result_filters={\"n_archetypes\": 3})\n",
    "\n",
    "pt.compute_bootstrap_variance(\n",
    "    adata=adata,\n",
    "    n_bootstrap=5,\n",
    "    n_archetypes_list=[3],\n",
    "    save_to_anndata=True,\n",
    ")\n"
   ]
  },
  {
   "cell_type": "markdown",
   "id": "13e3dd77",
   "metadata": {},
   "source": [
    "\n",
    "## Retrieving Cached AA Results\n",
    "\n",
    "`get_aa_result` returns the payload that was stored by `compute_archetypes`. You can optionally pass filters to disambiguate between multiple cached configurations. Filters accept any field of `ArchetypeConfig`, for example `n_archetypes`, `delta`, or `optim`.\n"
   ]
  },
  {
   "cell_type": "code",
   "execution_count": 3,
   "id": "2cfbc0f2",
   "metadata": {},
   "outputs": [
    {
     "name": "stdout",
     "output_type": "stream",
     "text": [
      "Archetypes shape: (4, 3)\n",
      "[[-4.1829314   4.8940554  -0.42909184]\n",
      " [ 3.4212031  -2.0040917  -5.227825  ]\n",
      " [-3.1794775  -3.8219402   1.0898299 ]\n",
      " [ 7.8230276   0.9535061   3.1575007 ]]\n"
     ]
    }
   ],
   "source": [
    "# Retrieve the only cached AA result and inspect the archetype coordinates\n",
    "result_payload = pt.get_aa_result(adata, n_archetypes=4)\n",
    "A = result_payload[\"A\"]\n",
    "B = result_payload[\"B\"]\n",
    "Z = result_payload[\"Z\"]\n",
    "print(\"Archetypes shape:\", Z.shape)\n",
    "print(Z)"
   ]
  },
  {
   "cell_type": "markdown",
   "id": "24abaebe",
   "metadata": {},
   "source": [
    "## Accessing Selection Metrics\n",
    "\n",
    "Selection diagnostics (variance explained, RSS, etc.) are stored per configuration in `adata.uns[\"AA_selection_metrics\"]`. Use `get_aa_metrics` to retrieve a specific table, or call `pt.summarize_aa_metrics` to concatenate the entries that share the same optimization settings (aside from the number of archetypes)."
   ]
  },
  {
   "cell_type": "code",
   "execution_count": 4,
   "id": "8ed31dbf",
   "metadata": {},
   "outputs": [
    {
     "data": {
      "text/html": [
       "<div>\n",
       "<style scoped>\n",
       "    .dataframe tbody tr th:only-of-type {\n",
       "        vertical-align: middle;\n",
       "    }\n",
       "\n",
       "    .dataframe tbody tr th {\n",
       "        vertical-align: top;\n",
       "    }\n",
       "\n",
       "    .dataframe thead th {\n",
       "        text-align: right;\n",
       "    }\n",
       "</style>\n",
       "<table border=\"1\" class=\"dataframe\">\n",
       "  <thead>\n",
       "    <tr style=\"text-align: right;\">\n",
       "      <th></th>\n",
       "      <th>k</th>\n",
       "      <th>n_archetypes</th>\n",
       "      <th>n_restarts</th>\n",
       "      <th>seed</th>\n",
       "      <th>varexpl</th>\n",
       "      <th>IC</th>\n",
       "      <th>RSS</th>\n",
       "    </tr>\n",
       "  </thead>\n",
       "  <tbody>\n",
       "    <tr>\n",
       "      <th>0</th>\n",
       "      <td>2</td>\n",
       "      <td>2</td>\n",
       "      <td>5</td>\n",
       "      <td>42</td>\n",
       "      <td>0.505511</td>\n",
       "      <td>4112.441228</td>\n",
       "      <td>2965.446045</td>\n",
       "    </tr>\n",
       "    <tr>\n",
       "      <th>1</th>\n",
       "      <td>3</td>\n",
       "      <td>3</td>\n",
       "      <td>5</td>\n",
       "      <td>42</td>\n",
       "      <td>0.780190</td>\n",
       "      <td>4045.360678</td>\n",
       "      <td>1318.203125</td>\n",
       "    </tr>\n",
       "    <tr>\n",
       "      <th>2</th>\n",
       "      <td>4</td>\n",
       "      <td>4</td>\n",
       "      <td>5</td>\n",
       "      <td>42</td>\n",
       "      <td>0.933783</td>\n",
       "      <td>4357.642608</td>\n",
       "      <td>397.105713</td>\n",
       "    </tr>\n",
       "  </tbody>\n",
       "</table>\n",
       "</div>"
      ],
      "text/plain": [
       "   k  n_archetypes  n_restarts seed   varexpl           IC          RSS\n",
       "0  2             2           5   42  0.505511  4112.441228  2965.446045\n",
       "1  3             3           5   42  0.780190  4045.360678  1318.203125\n",
       "2  4             4           5   42  0.933783  4357.642608   397.105713"
      ]
     },
     "execution_count": 4,
     "metadata": {},
     "output_type": "execute_result"
    }
   ],
   "source": [
    "metrics_df = pt.summarize_aa_metrics(adata)\n",
    "metrics_df"
   ]
  },
  {
   "cell_type": "markdown",
   "id": "289971c9",
   "metadata": {},
   "source": [
    "\n",
    "## Accessing Bootstrap Results\n",
    "\n",
    "Bootstrap runs are stored in `adata.uns[\"AA_bootstrap\"]` as tidy DataFrames. Use `get_aa_bootstrap` to read them back for plotting or downstream analysis. As with other getters, filters ensure the correct configuration is selected.\n"
   ]
  },
  {
   "cell_type": "code",
   "execution_count": 5,
   "id": "d078f7a5",
   "metadata": {},
   "outputs": [
    {
     "data": {
      "text/html": [
       "<div>\n",
       "<style scoped>\n",
       "    .dataframe tbody tr th:only-of-type {\n",
       "        vertical-align: middle;\n",
       "    }\n",
       "\n",
       "    .dataframe tbody tr th {\n",
       "        vertical-align: top;\n",
       "    }\n",
       "\n",
       "    .dataframe thead th {\n",
       "        text-align: right;\n",
       "    }\n",
       "</style>\n",
       "<table border=\"1\" class=\"dataframe\">\n",
       "  <thead>\n",
       "    <tr style=\"text-align: right;\">\n",
       "      <th></th>\n",
       "      <th>X_pca_0</th>\n",
       "      <th>X_pca_1</th>\n",
       "      <th>X_pca_2</th>\n",
       "      <th>archetype</th>\n",
       "      <th>iter</th>\n",
       "      <th>reference</th>\n",
       "      <th>mean_variance</th>\n",
       "      <th>variance_per_archetype</th>\n",
       "    </tr>\n",
       "  </thead>\n",
       "  <tbody>\n",
       "    <tr>\n",
       "      <th>0</th>\n",
       "      <td>-4.239301</td>\n",
       "      <td>4.869498</td>\n",
       "      <td>-0.415050</td>\n",
       "      <td>0</td>\n",
       "      <td>1</td>\n",
       "      <td>False</td>\n",
       "      <td>0.026822</td>\n",
       "      <td>0.028961</td>\n",
       "    </tr>\n",
       "    <tr>\n",
       "      <th>1</th>\n",
       "      <td>7.639462</td>\n",
       "      <td>0.079809</td>\n",
       "      <td>-0.067928</td>\n",
       "      <td>1</td>\n",
       "      <td>1</td>\n",
       "      <td>False</td>\n",
       "      <td>0.026822</td>\n",
       "      <td>0.017955</td>\n",
       "    </tr>\n",
       "    <tr>\n",
       "      <th>2</th>\n",
       "      <td>-2.752828</td>\n",
       "      <td>-3.950900</td>\n",
       "      <td>0.186937</td>\n",
       "      <td>2</td>\n",
       "      <td>1</td>\n",
       "      <td>False</td>\n",
       "      <td>0.026822</td>\n",
       "      <td>0.033550</td>\n",
       "    </tr>\n",
       "    <tr>\n",
       "      <th>0</th>\n",
       "      <td>-3.541122</td>\n",
       "      <td>4.984828</td>\n",
       "      <td>-0.393629</td>\n",
       "      <td>0</td>\n",
       "      <td>2</td>\n",
       "      <td>False</td>\n",
       "      <td>0.026822</td>\n",
       "      <td>0.028961</td>\n",
       "    </tr>\n",
       "    <tr>\n",
       "      <th>1</th>\n",
       "      <td>7.669269</td>\n",
       "      <td>-0.178665</td>\n",
       "      <td>-0.022822</td>\n",
       "      <td>1</td>\n",
       "      <td>2</td>\n",
       "      <td>False</td>\n",
       "      <td>0.026822</td>\n",
       "      <td>0.017955</td>\n",
       "    </tr>\n",
       "  </tbody>\n",
       "</table>\n",
       "</div>"
      ],
      "text/plain": [
       "    X_pca_0   X_pca_1   X_pca_2 archetype  iter  reference  mean_variance  \\\n",
       "0 -4.239301  4.869498 -0.415050         0     1      False       0.026822   \n",
       "1  7.639462  0.079809 -0.067928         1     1      False       0.026822   \n",
       "2 -2.752828 -3.950900  0.186937         2     1      False       0.026822   \n",
       "0 -3.541122  4.984828 -0.393629         0     2      False       0.026822   \n",
       "1  7.669269 -0.178665 -0.022822         1     2      False       0.026822   \n",
       "\n",
       "   variance_per_archetype  \n",
       "0                0.028961  \n",
       "1                0.017955  \n",
       "2                0.033550  \n",
       "0                0.028961  \n",
       "1                0.017955  "
      ]
     },
     "execution_count": 5,
     "metadata": {},
     "output_type": "execute_result"
    }
   ],
   "source": [
    "bootstrap_df = pt.get_aa_bootstrap(adata, n_archetypes=3)\n",
    "bootstrap_df.head()"
   ]
  },
  {
   "cell_type": "markdown",
   "id": "cf7ba8ff",
   "metadata": {},
   "source": [
    "\n",
    "## Accessing Cached Cell Weights\n",
    "\n",
    "All cell weight matrices computed via `compute_archetype_weights` live in `adata.uns[\"AA_cell_weights\"]`. To retrieve one, call `get_aa_cell_weights`. Setting `return_config=True` also returns the `ArchetypeConfig` key that was matched.\n"
   ]
  },
  {
   "cell_type": "code",
   "execution_count": 6,
   "id": "e6b28fa8",
   "metadata": {},
   "outputs": [
    {
     "name": "stdout",
     "output_type": "stream",
     "text": [
      "obsm_key='X_pca' n_dimensions=(0, 1, 2) n_archetypes=3 init='plus_plus' optim='projected_gradients' weight=None max_iter=500 rel_tol=0.0001 early_stopping=True coreset_algorithm=None coreset_fraction=0.1 coreset_size=None delta=0.0 seed=42 optim_kwargs=()\n",
      "Weights shape: (1999, 3)\n"
     ]
    }
   ],
   "source": [
    "config, weights = pt.get_aa_cell_weights(adata, return_config=True)\n",
    "print(config)\n",
    "print(\"Weights shape:\", weights.shape)"
   ]
  },
  {
   "cell_type": "markdown",
   "id": "e0eb0a67",
   "metadata": {},
   "source": [
    "\n",
    "## Tips for Working with Cached Results\n",
    "\n",
    "- Every getter raises a descriptive `ValueError` if the requested configuration is missing or the cache is empty. Handle these exceptions to provide actionable messages in your pipelines.\n",
    "- To refresh a cached entry, rerun the corresponding compute function with `force_recompute=True`.\n",
    "- When you plan to keep several configurations, pass explicit filters (for example, `delta=0.1`, `optim=\"frank_wolfe\"`) to the getter utilities to avoid ambiguity.\n",
    "\n",
    "With these helpers you can treat the `AnnData` object as the single source of truth for all AA artifacts, keeping reproducible analyses compact and self-contained.\n"
   ]
  },
  {
   "cell_type": "code",
   "execution_count": null,
   "id": "890cf63a",
   "metadata": {},
   "outputs": [],
   "source": []
  },
  {
   "cell_type": "code",
   "execution_count": null,
   "id": "a7a0f467",
   "metadata": {},
   "outputs": [],
   "source": []
  },
  {
   "cell_type": "code",
   "execution_count": null,
   "id": "56e81476",
   "metadata": {},
   "outputs": [],
   "source": []
  }
 ],
 "metadata": {
  "kernelspec": {
   "display_name": "partipy",
   "language": "python",
   "name": "python3"
  },
  "language_info": {
   "codemirror_mode": {
    "name": "ipython",
    "version": 3
   },
   "file_extension": ".py",
   "mimetype": "text/x-python",
   "name": "python",
   "nbconvert_exporter": "python",
   "pygments_lexer": "ipython3",
   "version": "3.11.0"
  }
 },
 "nbformat": 4,
 "nbformat_minor": 5
}
