{
 "cells": [
  {
   "cell_type": "markdown",
   "metadata": {},
   "source": "# Pydantic v1 Backward Compatibility Test"
  },
  {
   "cell_type": "code",
   "execution_count": null,
   "metadata": {},
   "outputs": [],
   "source": "# Test basic Pydantic v1 imports and version\nfrom dyff.audit.analysis import AnalysisContext\nimport pydantic\n\nprint(f\"Testing Pydantic version: {pydantic.VERSION}\")\nprint(f\"Expected: 1.x.x for v1 compatibility\")\n\n# Verify we have v1\nassert pydantic.VERSION.startswith('1.'), f\"Expected Pydantic v1, got {pydantic.VERSION}\"\nprint(\"Pydantic v1 version confirmed\")\n\n# Create context\nctx = AnalysisContext()"
  },
  {
   "cell_type": "code",
   "execution_count": null,
   "metadata": {},
   "outputs": [],
   "source": "# Test Pydantic v1 specific patterns\nfrom pydantic import BaseModel, Extra\n\nclass TestModel(BaseModel):\n    name: str\n    value: int\n    \n    class Config:\n        extra = Extra.ignore\n\n# Test parse_obj (v1 method)\ndata = {\"name\": \"test\", \"value\": 42, \"extra_field\": \"ignored\"}\nmodel = TestModel.parse_obj(data)\nprint(f\"parse_obj success: {model.name}, {model.value}\")\n\n# Test __fields__ (v1 attribute)\nfields = TestModel.__fields__\nprint(f\"__fields__ available: {list(fields.keys())}\")\nassert 'name' in fields and 'value' in fields\n\nprint(\"All Pydantic v1 patterns work correctly\")"
  },
  {
   "cell_type": "code",
   "execution_count": null,
   "metadata": {},
   "outputs": [],
   "source": "# Test dataset access and generate output\nprint(\"Testing dataset access...\")\n\n# Test that we can access inputs \ndataset = ctx.open_input_dataset(\"dummy_input\")\nprint(f\"Opened dummy_input dataset with {dataset.count_rows()} rows\")\n\n# Generate success conclusion and result\nctx.Conclusion(text=\"Pydantic v1 patterns work correctly in this container\", indicator=\"Information\")\n\nprint(\"Pydantic v1 test complete\")\nprint(\"Container running Pydantic v1 successfully\")"
  }
 ],
 "metadata": {
  "kernelspec": {
   "display_name": "Python 3",
   "language": "python",
   "name": "python3"
  },
  "language_info": {
   "codemirror_mode": {
    "name": "ipython",
    "version": 3
   },
   "file_extension": ".py",
   "mimetype": "text/x-python",
   "name": "python",
   "nbconvert_exporter": "python",
   "pygments_lexer": "ipython3",
   "version": "3.9.0"
  }
 },
 "nbformat": 4,
 "nbformat_minor": 4
}
