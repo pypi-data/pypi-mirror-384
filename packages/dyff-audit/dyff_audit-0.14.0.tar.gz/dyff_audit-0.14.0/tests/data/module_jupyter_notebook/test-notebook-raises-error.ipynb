{
 "cells": [
  {
   "cell_type": "code",
   "execution_count": null,
   "metadata": {},
   "outputs": [],
   "source": [
    "from dyff.audit.analysis import AnalysisContext\n",
    "ctx = AnalysisContext()\n",
    "ctx.TitleCard(\n",
    "    headline=\"This notebook raises an error\",\n",
    "    author=\"DSRI\",\n",
    "    summary_phrase=\"Summary\",\n",
    "    summary_text=\"Text\",\n",
    ")\n",
    "ctx.Conclusion(text=\"Deliberate error\", indicator=\"Hazard\")\n",
    "ctx.Score(output=\"int\", text=\"int\", quantity=9)\n",
    "raise AssertionError(\"deliberate error\")"
   ]
  }
 ],
 "metadata": {
  "language_info": {
   "name": "python"
  }
 },
 "nbformat": 4,
 "nbformat_minor": 2
}
