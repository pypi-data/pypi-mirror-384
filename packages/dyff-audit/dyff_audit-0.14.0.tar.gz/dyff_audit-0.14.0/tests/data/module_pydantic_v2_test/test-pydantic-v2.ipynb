{
 "cells": [
  {
   "cell_type": "markdown",
   "metadata": {},
   "source": "# Pydantic v2 Backward Compatibility Test"
  },
  {
   "cell_type": "code",
   "execution_count": null,
   "metadata": {},
   "outputs": [],
   "source": "# Test basic Pydantic v2 imports and version\nfrom dyff.audit.analysis import AnalysisContext\nimport pydantic\n\nprint(f\"Testing Pydantic version: {pydantic.VERSION}\")\nprint(f\"Expected: 2.x.x for v2 compatibility\")\n\n# Verify we have v2\nassert pydantic.VERSION.startswith('2.'), f\"Expected Pydantic v2, got {pydantic.VERSION}\"\nprint(\"Pydantic v2 version confirmed\")\n\n# Create context\nctx = AnalysisContext()"
  },
  {
   "cell_type": "code",
   "execution_count": null,
   "metadata": {},
   "outputs": [],
   "source": "# Test Pydantic v2 specific patterns\nfrom pydantic import BaseModel, ConfigDict\n\nclass TestModel(BaseModel):\n    model_config = ConfigDict(extra='ignore')\n    \n    name: str\n    value: int\n\n# Test model_validate (v2 method)\ndata = {\"name\": \"test\", \"value\": 42, \"extra_field\": \"ignored\"}\nmodel = TestModel.model_validate(data)\nprint(f\"model_validate success: {model.name}, {model.value}\")\n\n# Test model_fields (v2 attribute)\nfields = TestModel.model_fields\nprint(f\"model_fields available: {list(fields.keys())}\")\nassert 'name' in fields and 'value' in fields\n\n# Test backward compatibility - v1 methods should still work\ntry:\n    model_v1_compat = TestModel.parse_obj(data)\n    print(f\"parse_obj backward compatibility: SUCCESS\")\nexcept Exception as e:\n    print(f\"parse_obj backward compatibility: {e}\")\n\nprint(\"All Pydantic v2 patterns work correctly\")"
  },
  {
   "cell_type": "code",
   "execution_count": null,
   "metadata": {},
   "outputs": [],
   "source": "# Test dataset access and generate output\nprint(\"Testing dataset access...\")\n\n# Test that we can access inputs \ndataset = ctx.open_input_dataset(\"dummy_input\")\nprint(f\"Opened dummy_input dataset with {dataset.count_rows()} rows\")\n\n# Generate success conclusion and result\nctx.Conclusion(text=\"Pydantic v2 patterns work correctly in this container\", indicator=\"Information\")\n\nprint(\"Pydantic v2 test complete\")\nprint(\"Container running Pydantic v2 successfully\")"
  }
 ],
 "metadata": {
  "kernelspec": {
   "display_name": "Python 3",
   "language": "python",
   "name": "python3"
  },
  "language_info": {
   "codemirror_mode": {
    "name": "ipython",
    "version": 3
   },
   "file_extension": ".py",
   "mimetype": "text/x-python",
   "name": "python",
   "nbconvert_exporter": "python",
   "pygments_lexer": "ipython3",
   "version": "3.9.0"
  }
 },
 "nbformat": 4,
 "nbformat_minor": 4
}
