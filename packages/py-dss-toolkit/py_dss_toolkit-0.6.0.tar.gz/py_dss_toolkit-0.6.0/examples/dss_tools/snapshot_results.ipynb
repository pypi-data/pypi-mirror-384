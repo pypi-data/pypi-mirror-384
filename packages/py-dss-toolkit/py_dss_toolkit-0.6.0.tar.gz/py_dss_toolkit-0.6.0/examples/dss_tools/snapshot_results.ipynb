{
 "cells": [
  {
   "cell_type": "markdown",
   "id": "744786c5",
   "metadata": {},
   "source": [
    "# Exploring SnapShot Results Capabilities with `py_dss_toolkit`: A Hands-on Example\n",
    "This notebook demonstrates how to compile and solve a DSS model, and then retrieve key results, such as circuit summaries, voltages, powers, and currents."
   ]
  },
  {
   "cell_type": "code",
   "execution_count": 1,
   "id": "b6787797",
   "metadata": {
    "ExecuteTime": {
     "end_time": "2025-08-20T10:19:12.555282Z",
     "start_time": "2025-08-20T10:19:11.691197Z"
    }
   },
   "outputs": [],
   "source": [
    "import py_dss_interface\n",
    "from py_dss_toolkit import dss_tools"
   ]
  },
  {
   "cell_type": "markdown",
   "id": "e67f70ce",
   "metadata": {},
   "source": [
    "Define the path to the DSS file"
   ]
  },
  {
   "cell_type": "code",
   "execution_count": 2,
   "id": "83949144",
   "metadata": {
    "ExecuteTime": {
     "end_time": "2025-08-20T10:19:12.572371Z",
     "start_time": "2025-08-20T10:19:12.567330Z"
    }
   },
   "outputs": [],
   "source": [
    "import ipynbname\n",
    "nb_path = ipynbname.path()\n",
    "dss_file = nb_path.parent.parent.joinpath(\"feeders\", \"123bus\", \"IEEE123Master.dss\")"
   ]
  },
  {
   "cell_type": "markdown",
   "id": "aafbf2db",
   "metadata": {},
   "source": [
    "Create an instance of DSS"
   ]
  },
  {
   "cell_type": "code",
   "execution_count": 3,
   "id": "a3dd837d",
   "metadata": {
    "ExecuteTime": {
     "end_time": "2025-08-20T10:19:12.597462Z",
     "start_time": "2025-08-20T10:19:12.577149Z"
    }
   },
   "outputs": [],
   "source": [
    "dss = py_dss_interface.DSS()"
   ]
  },
  {
   "cell_type": "markdown",
   "id": "51407ca1",
   "metadata": {},
   "source": [
    "Connect DSS instance to the dss_tools"
   ]
  },
  {
   "cell_type": "code",
   "execution_count": 4,
   "id": "aaf4d2d7ffb5032b",
   "metadata": {
    "ExecuteTime": {
     "end_time": "2025-08-20T10:19:12.721001Z",
     "start_time": "2025-08-20T10:19:12.711610Z"
    },
    "collapsed": false,
    "jupyter": {
     "outputs_hidden": false
    }
   },
   "outputs": [],
   "source": [
    "dss_tools.update_dss(dss)"
   ]
  },
  {
   "cell_type": "markdown",
   "id": "2dee7153f2efa7b4",
   "metadata": {
    "collapsed": false,
    "jupyter": {
     "outputs_hidden": false
    }
   },
   "source": [
    "Compile the DSS model from the specified file, load bus coordinates for visualization"
   ]
  },
  {
   "cell_type": "code",
   "execution_count": 5,
   "id": "9fb56d963cf30733",
   "metadata": {
    "ExecuteTime": {
     "end_time": "2025-08-20T10:19:12.742754Z",
     "start_time": "2025-08-20T10:19:12.729178Z"
    },
    "collapsed": false,
    "jupyter": {
     "outputs_hidden": false
    }
   },
   "outputs": [
    {
     "data": {
      "text/plain": [
       "''"
      ]
     },
     "execution_count": 5,
     "metadata": {},
     "output_type": "execute_result"
    }
   ],
   "source": [
    "dss.text(f\"compile [{dss_file}]\")\n",
    "dss.text(f\"buscoords buscoords.dat\")"
   ]
  },
  {
   "cell_type": "markdown",
   "id": "2a5b4f1b6558baa0",
   "metadata": {
    "collapsed": false,
    "jupyter": {
     "outputs_hidden": false
    }
   },
   "source": [
    "Solve the power flow using the `solve_snapshot` method from dss_tools with customized parameters. For example, we set the maximum control iterations to 20. There are other parameters you can change."
   ]
  },
  {
   "cell_type": "code",
   "execution_count": 6,
   "id": "b010b3d6",
   "metadata": {
    "ExecuteTime": {
     "end_time": "2025-08-20T10:19:12.765437Z",
     "start_time": "2025-08-20T10:19:12.750686Z"
    }
   },
   "outputs": [],
   "source": [
    "dss_tools.simulation.solve_snapshot(max_control_iter=20)"
   ]
  },
  {
   "cell_type": "markdown",
   "id": "6bee4aca",
   "metadata": {},
   "source": [
    "Retrieve the circuit summary as a DataFrame"
   ]
  },
  {
   "cell_type": "code",
   "execution_count": 7,
   "id": "8a901920",
   "metadata": {
    "ExecuteTime": {
     "end_time": "2025-08-20T10:19:12.795600Z",
     "start_time": "2025-08-20T10:19:12.784624Z"
    }
   },
   "outputs": [
    {
     "data": {
      "text/html": [
       "<div>\n",
       "<style scoped>\n",
       "    .dataframe tbody tr th:only-of-type {\n",
       "        vertical-align: middle;\n",
       "    }\n",
       "\n",
       "    .dataframe tbody tr th {\n",
       "        vertical-align: top;\n",
       "    }\n",
       "\n",
       "    .dataframe thead th {\n",
       "        text-align: right;\n",
       "    }\n",
       "</style>\n",
       "<table border=\"1\" class=\"dataframe\">\n",
       "  <thead>\n",
       "    <tr style=\"text-align: right;\">\n",
       "      <th></th>\n",
       "      <th>Results</th>\n",
       "    </tr>\n",
       "  </thead>\n",
       "  <tbody>\n",
       "    <tr>\n",
       "      <th>P feeder (kW)</th>\n",
       "      <td>3615.241922</td>\n",
       "    </tr>\n",
       "    <tr>\n",
       "      <th>Q feeder (kvar)</th>\n",
       "      <td>1311.514987</td>\n",
       "    </tr>\n",
       "    <tr>\n",
       "      <th>P losses (kW)</th>\n",
       "      <td>95.976865</td>\n",
       "    </tr>\n",
       "    <tr>\n",
       "      <th>Q losses (kvar)</th>\n",
       "      <td>192.504095</td>\n",
       "    </tr>\n",
       "    <tr>\n",
       "      <th>max voltage (pu)</th>\n",
       "      <td>1.049961</td>\n",
       "    </tr>\n",
       "    <tr>\n",
       "      <th>min voltage (pu)</th>\n",
       "      <td>0.979211</td>\n",
       "    </tr>\n",
       "  </tbody>\n",
       "</table>\n",
       "</div>"
      ],
      "text/plain": [
       "                      Results\n",
       "P feeder (kW)     3615.241922\n",
       "Q feeder (kvar)   1311.514987\n",
       "P losses (kW)       95.976865\n",
       "Q losses (kvar)    192.504095\n",
       "max voltage (pu)     1.049961\n",
       "min voltage (pu)     0.979211"
      ]
     },
     "execution_count": 7,
     "metadata": {},
     "output_type": "execute_result"
    }
   ],
   "source": [
    "circuit_summary_df = dss_tools.results.summary_df\n",
    "circuit_summary_df"
   ]
  },
  {
   "cell_type": "markdown",
   "id": "fe1e2869",
   "metadata": {},
   "source": [
    "Get the magnitudes and angles of voltages (line-neutral) for each node"
   ]
  },
  {
   "cell_type": "code",
   "execution_count": 8,
   "id": "e8272000",
   "metadata": {
    "ExecuteTime": {
     "end_time": "2025-08-20T10:19:12.926324Z",
     "start_time": "2025-08-20T10:19:12.830912Z"
    }
   },
   "outputs": [
    {
     "data": {
      "text/plain": [
       "(         node1     node2     node3\n",
       " 150   0.999990  0.999994  0.999993\n",
       " 150r  1.037486  1.037492  1.037490\n",
       " 149   1.037486  1.037492  1.037490\n",
       " 1     1.024960  1.035118  1.028590\n",
       " 2          NaN  1.034896       NaN,\n",
       "          node1       node2       node3\n",
       " 150  -0.001453 -120.000956  119.998818\n",
       " 150r -0.001954 -120.001285  119.998410\n",
       " 149  -0.001949 -120.001282  119.998414\n",
       " 1    -0.648331 -120.316266  119.619434\n",
       " 2          NaN -120.320463         NaN)"
      ]
     },
     "execution_count": 8,
     "metadata": {},
     "output_type": "execute_result"
    }
   ],
   "source": [
    "mag_voltage_ln_nodes_df = dss_tools.results.voltage_ln_nodes[0]\n",
    "angle_voltage_ln_nodes_df = dss_tools.results.voltage_ln_nodes[1]\n",
    "\n",
    "mag_voltage_ln_nodes_df.head(), angle_voltage_ln_nodes_df.head()"
   ]
  },
  {
   "cell_type": "markdown",
   "id": "48f96fb701f830de",
   "metadata": {},
   "source": [
    "You can get the voltage line-line nodes similar to when you use 'Show Voltage LL Nodes'"
   ]
  },
  {
   "cell_type": "code",
   "execution_count": 9,
   "id": "d5402d67cf1e510d",
   "metadata": {
    "ExecuteTime": {
     "end_time": "2025-08-20T10:19:13.085393Z",
     "start_time": "2025-08-20T10:19:13.010863Z"
    }
   },
   "outputs": [
    {
     "data": {
      "text/plain": [
       "(         node1     node2     node3\n",
       " 150   0.999990  0.999995  0.999993\n",
       " 150r  1.037485  1.037493  1.037490\n",
       " 149   1.037485  1.037492  1.037490\n",
       " 1     1.028315  1.032190  1.028158\n",
       " 2          NaN       NaN       NaN,\n",
       "           node1      node2       node3\n",
       " 150   29.998865 -90.001086  149.998630\n",
       " 150r  29.998474 -90.001461  149.998158\n",
       " 149   29.998480 -90.001458  149.998161\n",
       " 1     29.681916 -90.452916  149.427382\n",
       " 2           NaN        NaN         NaN)"
      ]
     },
     "execution_count": 9,
     "metadata": {},
     "output_type": "execute_result"
    }
   ],
   "source": [
    "mag_voltage_ll_nodes_df = dss_tools.results.voltage_ll_nodes[0]\n",
    "angle_voltage_ll_nodes_df = dss_tools.results.voltage_ll_nodes[1]\n",
    "mag_voltage_ll_nodes_df.head(), angle_voltage_ll_nodes_df.head()"
   ]
  },
  {
   "cell_type": "markdown",
   "id": "edc7c6b3",
   "metadata": {},
   "source": [
    "Retrieve the active and reactive powers (P and Q) for each element in the system"
   ]
  },
  {
   "cell_type": "code",
   "execution_count": 10,
   "id": "b7adc485",
   "metadata": {
    "ExecuteTime": {
     "end_time": "2025-08-20T10:19:13.427453Z",
     "start_time": "2025-08-20T10:19:13.193905Z"
    }
   },
   "outputs": [
    {
     "data": {
      "text/plain": [
       "(                   Terminal1.1  Terminal1.2  Terminal1.3  Terminal1.0  \\\n",
       " transformer.reg1a  1463.277554   962.106773  1189.857596          0.0   \n",
       " line.l115          1463.277006   962.106543  1189.857248          NaN   \n",
       " line.l1                    NaN    20.003555          NaN          NaN   \n",
       " line.l2                    NaN          NaN   102.853919          NaN   \n",
       " line.l3            1411.964368   941.731825  1079.372647          NaN   \n",
       " \n",
       "                    Terminal2.1  Terminal2.2  Terminal2.3  Terminal2.0  \n",
       " transformer.reg1a -1463.277405  -962.106710 -1189.857502          0.0  \n",
       " line.l115         -1451.964535  -961.735379 -1182.226566          NaN  \n",
       " line.l1                    NaN   -19.999990          NaN          NaN  \n",
       " line.l2                    NaN          NaN  -102.717428          NaN  \n",
       " line.l3           -1403.458648  -941.604701 -1074.807433          NaN  ,\n",
       "                    Terminal1.1  Terminal1.2  Terminal1.3  Terminal1.0  \\\n",
       " transformer.reg1a   578.377078   336.317427   396.820482          0.0   \n",
       " line.l115           578.362223   336.311195   396.811043          NaN   \n",
       " line.l1                    NaN    10.002679          NaN          NaN   \n",
       " line.l2                    NaN          NaN    51.546065          NaN   \n",
       " line.l3             535.037850   320.260507   334.052709          NaN   \n",
       " \n",
       "                    Terminal2.1  Terminal2.2  Terminal2.3  Terminal2.0  \n",
       " transformer.reg1a  -578.362223  -336.311195  -396.811043          0.0  \n",
       " line.l115          -555.037937  -330.263186  -385.598773          NaN  \n",
       " line.l1                    NaN    -9.999990          NaN          NaN  \n",
       " line.l2                    NaN          NaN   -51.408999          NaN  \n",
       " line.l3            -518.556797  -315.598782  -327.499751          NaN  )"
      ]
     },
     "execution_count": 10,
     "metadata": {},
     "output_type": "execute_result"
    }
   ],
   "source": [
    "p_elements_df = dss_tools.results.powers_elements[0]\n",
    "q_elements_df = dss_tools.results.powers_elements[1]\n",
    "\n",
    "p_elements_df.head(), q_elements_df.head()"
   ]
  },
  {
   "cell_type": "markdown",
   "id": "01f6ead8",
   "metadata": {},
   "source": [
    "Get the magnitudes and angles of currents for each element in the system"
   ]
  },
  {
   "cell_type": "code",
   "execution_count": 11,
   "id": "af17c1df",
   "metadata": {
    "ExecuteTime": {
     "end_time": "2025-08-20T10:19:13.763048Z",
     "start_time": "2025-08-20T10:19:13.538769Z"
    }
   },
   "outputs": [
    {
     "data": {
      "text/plain": [
       "(                   Terminal1.1  Terminal1.2  Terminal1.3  Terminal1.0  \\\n",
       " transformer.reg1a   655.119865   424.352923   522.235105   183.173775   \n",
       " line.l115           631.440834   409.014866   503.359137          NaN   \n",
       " line.l1                    NaN     8.995957          NaN          NaN   \n",
       " line.l2                    NaN          NaN    46.569548          NaN   \n",
       " line.l3             613.365422   400.100368   457.360338          NaN   \n",
       " \n",
       "                    Terminal2.1  Terminal2.2  Terminal2.3  Terminal2.0  \n",
       " transformer.reg1a   631.440834   409.014866   503.359137   176.553037  \n",
       " line.l115           631.441479   409.015224   503.359437          NaN  \n",
       " line.l1                    NaN     8.996124          NaN          NaN  \n",
       " line.l2                    NaN          NaN    46.569785          NaN  \n",
       " line.l3             613.365893   400.100628   457.360543          NaN  ,\n",
       "                    Terminal1.1  Terminal1.2  Terminal1.3  Terminal1.0  \\\n",
       " transformer.reg1a   -21.568426  -139.268719   101.555147   178.099475   \n",
       " line.l115           -21.568426  -139.268719   101.555147          NaN   \n",
       " line.l1                    NaN  -146.883382          NaN          NaN   \n",
       " line.l2                    NaN          NaN    93.001329          NaN   \n",
       " line.l3             -21.401610  -139.098208   102.422774          NaN   \n",
       " \n",
       "                    Terminal2.1  Terminal2.2  Terminal2.3  Terminal2.0  \n",
       " transformer.reg1a   158.431574    40.731281   -78.444853    -1.900525  \n",
       " line.l115           158.431470    40.731089   -78.444985          NaN  \n",
       " line.l1                    NaN    33.114497          NaN          NaN  \n",
       " line.l2                    NaN          NaN   -86.999252          NaN  \n",
       " line.l3             158.598310    40.901645   -77.577334          NaN  )"
      ]
     },
     "execution_count": 11,
     "metadata": {},
     "output_type": "execute_result"
    }
   ],
   "source": [
    "mag_current_df = dss_tools.results.currents_elements[0]\n",
    "angle_current_df = dss_tools.results.currents_elements[1]\n",
    "\n",
    "mag_current_df.head(), angle_current_df.head()"
   ]
  },
  {
   "cell_type": "markdown",
   "id": "d1994b9d02d5c0a5",
   "metadata": {},
   "source": [
    "Get the loading of the elements."
   ]
  },
  {
   "cell_type": "code",
   "execution_count": 12,
   "id": "fb2b333aea64a123",
   "metadata": {
    "ExecuteTime": {
     "end_time": "2025-08-20T10:19:13.907772Z",
     "start_time": "2025-08-20T10:19:13.783009Z"
    }
   },
   "outputs": [
    {
     "data": {
      "text/html": [
       "<div>\n",
       "<style scoped>\n",
       "    .dataframe tbody tr th:only-of-type {\n",
       "        vertical-align: middle;\n",
       "    }\n",
       "\n",
       "    .dataframe tbody tr th {\n",
       "        vertical-align: top;\n",
       "    }\n",
       "\n",
       "    .dataframe thead th {\n",
       "        text-align: right;\n",
       "    }\n",
       "</style>\n",
       "<table border=\"1\" class=\"dataframe\">\n",
       "  <thead>\n",
       "    <tr style=\"text-align: right;\">\n",
       "      <th></th>\n",
       "      <th>Terminal1.1</th>\n",
       "      <th>Terminal1.2</th>\n",
       "      <th>Terminal1.3</th>\n",
       "      <th>Terminal1.0</th>\n",
       "      <th>Terminal2.1</th>\n",
       "      <th>Terminal2.2</th>\n",
       "      <th>Terminal2.3</th>\n",
       "      <th>Terminal2.0</th>\n",
       "    </tr>\n",
       "  </thead>\n",
       "  <tbody>\n",
       "    <tr>\n",
       "      <th>transformer.reg1a</th>\n",
       "      <td>85.824649</td>\n",
       "      <td>55.592790</td>\n",
       "      <td>68.415945</td>\n",
       "      <td>23.996868</td>\n",
       "      <td>82.722553</td>\n",
       "      <td>53.583412</td>\n",
       "      <td>65.943080</td>\n",
       "      <td>23.129511</td>\n",
       "    </tr>\n",
       "    <tr>\n",
       "      <th>line.l115</th>\n",
       "      <td>157.860208</td>\n",
       "      <td>102.253716</td>\n",
       "      <td>125.839784</td>\n",
       "      <td>NaN</td>\n",
       "      <td>157.860370</td>\n",
       "      <td>102.253806</td>\n",
       "      <td>125.839859</td>\n",
       "      <td>NaN</td>\n",
       "    </tr>\n",
       "    <tr>\n",
       "      <th>line.l1</th>\n",
       "      <td>NaN</td>\n",
       "      <td>2.248989</td>\n",
       "      <td>NaN</td>\n",
       "      <td>NaN</td>\n",
       "      <td>NaN</td>\n",
       "      <td>2.249031</td>\n",
       "      <td>NaN</td>\n",
       "      <td>NaN</td>\n",
       "    </tr>\n",
       "    <tr>\n",
       "      <th>line.l2</th>\n",
       "      <td>NaN</td>\n",
       "      <td>NaN</td>\n",
       "      <td>11.642387</td>\n",
       "      <td>NaN</td>\n",
       "      <td>NaN</td>\n",
       "      <td>NaN</td>\n",
       "      <td>11.642446</td>\n",
       "      <td>NaN</td>\n",
       "    </tr>\n",
       "    <tr>\n",
       "      <th>line.l3</th>\n",
       "      <td>153.341356</td>\n",
       "      <td>100.025092</td>\n",
       "      <td>114.340085</td>\n",
       "      <td>NaN</td>\n",
       "      <td>153.341473</td>\n",
       "      <td>100.025157</td>\n",
       "      <td>114.340136</td>\n",
       "      <td>NaN</td>\n",
       "    </tr>\n",
       "  </tbody>\n",
       "</table>\n",
       "</div>"
      ],
      "text/plain": [
       "                   Terminal1.1  Terminal1.2  Terminal1.3  Terminal1.0  \\\n",
       "transformer.reg1a    85.824649    55.592790    68.415945    23.996868   \n",
       "line.l115           157.860208   102.253716   125.839784          NaN   \n",
       "line.l1                    NaN     2.248989          NaN          NaN   \n",
       "line.l2                    NaN          NaN    11.642387          NaN   \n",
       "line.l3             153.341356   100.025092   114.340085          NaN   \n",
       "\n",
       "                   Terminal2.1  Terminal2.2  Terminal2.3  Terminal2.0  \n",
       "transformer.reg1a    82.722553    53.583412    65.943080    23.129511  \n",
       "line.l115           157.860370   102.253806   125.839859          NaN  \n",
       "line.l1                    NaN     2.249031          NaN          NaN  \n",
       "line.l2                    NaN          NaN    11.642446          NaN  \n",
       "line.l3             153.341473   100.025157   114.340136          NaN  "
      ]
     },
     "execution_count": 12,
     "metadata": {},
     "output_type": "execute_result"
    }
   ],
   "source": [
    "current_loading_df = dss_tools.results.current_loading_percent\n",
    "current_loading_df.head()"
   ]
  },
  {
   "cell_type": "markdown",
   "id": "a510a091d29d21e9",
   "metadata": {},
   "source": [
    "Get the loading of the elements using the emergency amps."
   ]
  },
  {
   "cell_type": "code",
   "execution_count": 13,
   "id": "64d16b62c6939ef1",
   "metadata": {
    "ExecuteTime": {
     "end_time": "2025-08-20T10:19:14.102263Z",
     "start_time": "2025-08-20T10:19:13.952899Z"
    }
   },
   "outputs": [
    {
     "data": {
      "text/html": [
       "<div>\n",
       "<style scoped>\n",
       "    .dataframe tbody tr th:only-of-type {\n",
       "        vertical-align: middle;\n",
       "    }\n",
       "\n",
       "    .dataframe tbody tr th {\n",
       "        vertical-align: top;\n",
       "    }\n",
       "\n",
       "    .dataframe thead th {\n",
       "        text-align: right;\n",
       "    }\n",
       "</style>\n",
       "<table border=\"1\" class=\"dataframe\">\n",
       "  <thead>\n",
       "    <tr style=\"text-align: right;\">\n",
       "      <th></th>\n",
       "      <th>Terminal1.1</th>\n",
       "      <th>Terminal1.2</th>\n",
       "      <th>Terminal1.3</th>\n",
       "      <th>Terminal1.0</th>\n",
       "      <th>Terminal2.1</th>\n",
       "      <th>Terminal2.2</th>\n",
       "      <th>Terminal2.3</th>\n",
       "      <th>Terminal2.0</th>\n",
       "    </tr>\n",
       "  </thead>\n",
       "  <tbody>\n",
       "    <tr>\n",
       "      <th>transformer.reg1a</th>\n",
       "      <td>62.938076</td>\n",
       "      <td>40.768046</td>\n",
       "      <td>50.171693</td>\n",
       "      <td>17.597703</td>\n",
       "      <td>60.663206</td>\n",
       "      <td>39.294502</td>\n",
       "      <td>48.358258</td>\n",
       "      <td>16.961642</td>\n",
       "    </tr>\n",
       "    <tr>\n",
       "      <th>line.l115</th>\n",
       "      <td>105.240139</td>\n",
       "      <td>68.169144</td>\n",
       "      <td>83.893190</td>\n",
       "      <td>NaN</td>\n",
       "      <td>105.240247</td>\n",
       "      <td>68.169204</td>\n",
       "      <td>83.893239</td>\n",
       "      <td>NaN</td>\n",
       "    </tr>\n",
       "    <tr>\n",
       "      <th>line.l1</th>\n",
       "      <td>NaN</td>\n",
       "      <td>1.499326</td>\n",
       "      <td>NaN</td>\n",
       "      <td>NaN</td>\n",
       "      <td>NaN</td>\n",
       "      <td>1.499354</td>\n",
       "      <td>NaN</td>\n",
       "      <td>NaN</td>\n",
       "    </tr>\n",
       "    <tr>\n",
       "      <th>line.l2</th>\n",
       "      <td>NaN</td>\n",
       "      <td>NaN</td>\n",
       "      <td>7.761591</td>\n",
       "      <td>NaN</td>\n",
       "      <td>NaN</td>\n",
       "      <td>NaN</td>\n",
       "      <td>7.761631</td>\n",
       "      <td>NaN</td>\n",
       "    </tr>\n",
       "    <tr>\n",
       "      <th>line.l3</th>\n",
       "      <td>102.227570</td>\n",
       "      <td>66.683395</td>\n",
       "      <td>76.226723</td>\n",
       "      <td>NaN</td>\n",
       "      <td>102.227649</td>\n",
       "      <td>66.683438</td>\n",
       "      <td>76.226757</td>\n",
       "      <td>NaN</td>\n",
       "    </tr>\n",
       "  </tbody>\n",
       "</table>\n",
       "</div>"
      ],
      "text/plain": [
       "                   Terminal1.1  Terminal1.2  Terminal1.3  Terminal1.0  \\\n",
       "transformer.reg1a    62.938076    40.768046    50.171693    17.597703   \n",
       "line.l115           105.240139    68.169144    83.893190          NaN   \n",
       "line.l1                    NaN     1.499326          NaN          NaN   \n",
       "line.l2                    NaN          NaN     7.761591          NaN   \n",
       "line.l3             102.227570    66.683395    76.226723          NaN   \n",
       "\n",
       "                   Terminal2.1  Terminal2.2  Terminal2.3  Terminal2.0  \n",
       "transformer.reg1a    60.663206    39.294502    48.358258    16.961642  \n",
       "line.l115           105.240247    68.169204    83.893239          NaN  \n",
       "line.l1                    NaN     1.499354          NaN          NaN  \n",
       "line.l2                    NaN          NaN     7.761631          NaN  \n",
       "line.l3             102.227649    66.683438    76.226757          NaN  "
      ]
     },
     "execution_count": 13,
     "metadata": {},
     "output_type": "execute_result"
    }
   ],
   "source": [
    "dss_tools.results.set_violation_current_limit_type(\"emerg_amps\")\n",
    "current_loading_df = dss_tools.results.current_loading_percent\n",
    "current_loading_df.head()"
   ]
  },
  {
   "cell_type": "markdown",
   "id": "38ff83005d937abe",
   "metadata": {},
   "source": [
    "Get nodal voltage violations, voltages outside the default range of 0.95 and 1.05 pu"
   ]
  },
  {
   "cell_type": "code",
   "execution_count": 14,
   "id": "b860f09075fea833",
   "metadata": {
    "ExecuteTime": {
     "end_time": "2025-08-20T10:19:14.174573Z",
     "start_time": "2025-08-20T10:19:14.125791Z"
    }
   },
   "outputs": [
    {
     "data": {
      "text/html": [
       "<div>\n",
       "<style scoped>\n",
       "    .dataframe tbody tr th:only-of-type {\n",
       "        vertical-align: middle;\n",
       "    }\n",
       "\n",
       "    .dataframe tbody tr th {\n",
       "        vertical-align: top;\n",
       "    }\n",
       "\n",
       "    .dataframe thead th {\n",
       "        text-align: right;\n",
       "    }\n",
       "</style>\n",
       "<table border=\"1\" class=\"dataframe\">\n",
       "  <thead>\n",
       "    <tr style=\"text-align: right;\">\n",
       "      <th></th>\n",
       "      <th>node1</th>\n",
       "      <th>node2</th>\n",
       "      <th>node3</th>\n",
       "    </tr>\n",
       "  </thead>\n",
       "  <tbody>\n",
       "  </tbody>\n",
       "</table>\n",
       "</div>"
      ],
      "text/plain": [
       "Empty DataFrame\n",
       "Columns: [node1, node2, node3]\n",
       "Index: []"
      ]
     },
     "execution_count": 14,
     "metadata": {},
     "output_type": "execute_result"
    }
   ],
   "source": [
    "violations_mag_voltage_ln_nodes_df = dss_tools.results.violation_voltage_ln_nodes\n",
    "# Undervoltage\n",
    "violations_mag_voltage_ln_nodes_df[0].head()\n",
    "# Overvoltage\n",
    "violations_mag_voltage_ln_nodes_df[1].head()"
   ]
  },
  {
   "cell_type": "markdown",
   "id": "9ec119d5b27bd686",
   "metadata": {},
   "source": [
    "Change the range to 0.98 and 1.04 pu."
   ]
  },
  {
   "cell_type": "code",
   "execution_count": 15,
   "id": "f403c940841ba096",
   "metadata": {
    "ExecuteTime": {
     "end_time": "2025-08-20T10:19:14.317251Z",
     "start_time": "2025-08-20T10:19:14.266514Z"
    }
   },
   "outputs": [],
   "source": [
    "dss_tools.results.set_violation_voltage_ln_limits(v_min_pu=0.98, v_max_pu=1.04)\n",
    "violations_mag_voltage_ln_nodes_df = dss_tools.results.violation_voltage_ln_nodes"
   ]
  },
  {
   "cell_type": "code",
   "execution_count": 16,
   "id": "d19b2ff4421dff23",
   "metadata": {
    "ExecuteTime": {
     "end_time": "2025-08-20T10:19:14.388153Z",
     "start_time": "2025-08-20T10:19:14.373518Z"
    }
   },
   "outputs": [
    {
     "data": {
      "text/html": [
       "<div>\n",
       "<style scoped>\n",
       "    .dataframe tbody tr th:only-of-type {\n",
       "        vertical-align: middle;\n",
       "    }\n",
       "\n",
       "    .dataframe tbody tr th {\n",
       "        vertical-align: top;\n",
       "    }\n",
       "\n",
       "    .dataframe thead th {\n",
       "        text-align: right;\n",
       "    }\n",
       "</style>\n",
       "<table border=\"1\" class=\"dataframe\">\n",
       "  <thead>\n",
       "    <tr style=\"text-align: right;\">\n",
       "      <th></th>\n",
       "      <th>node1</th>\n",
       "      <th>node2</th>\n",
       "      <th>node3</th>\n",
       "    </tr>\n",
       "  </thead>\n",
       "  <tbody>\n",
       "    <tr>\n",
       "      <th>64</th>\n",
       "      <td>0.979896</td>\n",
       "      <td>1.016154</td>\n",
       "      <td>0.993659</td>\n",
       "    </tr>\n",
       "    <tr>\n",
       "      <th>65</th>\n",
       "      <td>0.979211</td>\n",
       "      <td>1.015822</td>\n",
       "      <td>0.990654</td>\n",
       "    </tr>\n",
       "    <tr>\n",
       "      <th>66</th>\n",
       "      <td>0.979450</td>\n",
       "      <td>1.016063</td>\n",
       "      <td>0.989139</td>\n",
       "    </tr>\n",
       "  </tbody>\n",
       "</table>\n",
       "</div>"
      ],
      "text/plain": [
       "       node1     node2     node3\n",
       "64  0.979896  1.016154  0.993659\n",
       "65  0.979211  1.015822  0.990654\n",
       "66  0.979450  1.016063  0.989139"
      ]
     },
     "execution_count": 16,
     "metadata": {},
     "output_type": "execute_result"
    }
   ],
   "source": [
    "# Undervoltage\n",
    "violations_mag_voltage_ln_nodes_df[0].head()"
   ]
  },
  {
   "cell_type": "code",
   "execution_count": 17,
   "id": "1930005f1a60e441",
   "metadata": {
    "ExecuteTime": {
     "end_time": "2025-08-20T10:19:14.468505Z",
     "start_time": "2025-08-20T10:19:14.452803Z"
    }
   },
   "outputs": [
    {
     "data": {
      "text/html": [
       "<div>\n",
       "<style scoped>\n",
       "    .dataframe tbody tr th:only-of-type {\n",
       "        vertical-align: middle;\n",
       "    }\n",
       "\n",
       "    .dataframe tbody tr th {\n",
       "        vertical-align: top;\n",
       "    }\n",
       "\n",
       "    .dataframe thead th {\n",
       "        text-align: right;\n",
       "    }\n",
       "</style>\n",
       "<table border=\"1\" class=\"dataframe\">\n",
       "  <thead>\n",
       "    <tr style=\"text-align: right;\">\n",
       "      <th></th>\n",
       "      <th>node1</th>\n",
       "      <th>node2</th>\n",
       "      <th>node3</th>\n",
       "    </tr>\n",
       "  </thead>\n",
       "  <tbody>\n",
       "    <tr>\n",
       "      <th>67</th>\n",
       "      <td>1.041080</td>\n",
       "      <td>1.044678</td>\n",
       "      <td>1.034176</td>\n",
       "    </tr>\n",
       "    <tr>\n",
       "      <th>72</th>\n",
       "      <td>1.041488</td>\n",
       "      <td>1.043832</td>\n",
       "      <td>1.033952</td>\n",
       "    </tr>\n",
       "    <tr>\n",
       "      <th>97</th>\n",
       "      <td>1.040082</td>\n",
       "      <td>1.044185</td>\n",
       "      <td>1.033443</td>\n",
       "    </tr>\n",
       "    <tr>\n",
       "      <th>76</th>\n",
       "      <td>1.041406</td>\n",
       "      <td>1.043345</td>\n",
       "      <td>1.034566</td>\n",
       "    </tr>\n",
       "    <tr>\n",
       "      <th>77</th>\n",
       "      <td>1.042572</td>\n",
       "      <td>1.044538</td>\n",
       "      <td>1.035443</td>\n",
       "    </tr>\n",
       "  </tbody>\n",
       "</table>\n",
       "</div>"
      ],
      "text/plain": [
       "       node1     node2     node3\n",
       "67  1.041080  1.044678  1.034176\n",
       "72  1.041488  1.043832  1.033952\n",
       "97  1.040082  1.044185  1.033443\n",
       "76  1.041406  1.043345  1.034566\n",
       "77  1.042572  1.044538  1.035443"
      ]
     },
     "execution_count": 17,
     "metadata": {},
     "output_type": "execute_result"
    }
   ],
   "source": [
    "# Overvoltage\n",
    "violations_mag_voltage_ln_nodes_df[1].head()"
   ]
  },
  {
   "cell_type": "markdown",
   "id": "40789ef9de284578",
   "metadata": {},
   "source": [
    "Get elements with thermal violations"
   ]
  },
  {
   "cell_type": "code",
   "execution_count": 18,
   "id": "bee2533c51ccb4d8",
   "metadata": {
    "ExecuteTime": {
     "end_time": "2025-08-20T10:19:14.520828Z",
     "start_time": "2025-08-20T10:19:14.514800Z"
    }
   },
   "outputs": [
    {
     "data": {
      "text/plain": [
       "'emerg_amps'"
      ]
     },
     "execution_count": 18,
     "metadata": {},
     "output_type": "execute_result"
    }
   ],
   "source": [
    "dss_tools.results.get_violation_current_limit_type()"
   ]
  },
  {
   "cell_type": "code",
   "execution_count": 19,
   "id": "ccf0662349078d41",
   "metadata": {
    "ExecuteTime": {
     "end_time": "2025-08-20T10:19:14.821707Z",
     "start_time": "2025-08-20T10:19:14.648522Z"
    }
   },
   "outputs": [
    {
     "data": {
      "text/html": [
       "<div>\n",
       "<style scoped>\n",
       "    .dataframe tbody tr th:only-of-type {\n",
       "        vertical-align: middle;\n",
       "    }\n",
       "\n",
       "    .dataframe tbody tr th {\n",
       "        vertical-align: top;\n",
       "    }\n",
       "\n",
       "    .dataframe thead th {\n",
       "        text-align: right;\n",
       "    }\n",
       "</style>\n",
       "<table border=\"1\" class=\"dataframe\">\n",
       "  <thead>\n",
       "    <tr style=\"text-align: right;\">\n",
       "      <th></th>\n",
       "      <th>Terminal1.1</th>\n",
       "      <th>Terminal1.2</th>\n",
       "      <th>Terminal1.3</th>\n",
       "      <th>Terminal1.0</th>\n",
       "      <th>Terminal2.1</th>\n",
       "      <th>Terminal2.2</th>\n",
       "      <th>Terminal2.3</th>\n",
       "      <th>Terminal2.0</th>\n",
       "    </tr>\n",
       "  </thead>\n",
       "  <tbody>\n",
       "    <tr>\n",
       "      <th>line.l115</th>\n",
       "      <td>157.860208</td>\n",
       "      <td>102.253716</td>\n",
       "      <td>125.839784</td>\n",
       "      <td>NaN</td>\n",
       "      <td>157.860370</td>\n",
       "      <td>102.253806</td>\n",
       "      <td>125.839859</td>\n",
       "      <td>NaN</td>\n",
       "    </tr>\n",
       "    <tr>\n",
       "      <th>line.l3</th>\n",
       "      <td>153.341356</td>\n",
       "      <td>100.025092</td>\n",
       "      <td>114.340085</td>\n",
       "      <td>NaN</td>\n",
       "      <td>153.341473</td>\n",
       "      <td>100.025157</td>\n",
       "      <td>114.340136</td>\n",
       "      <td>NaN</td>\n",
       "    </tr>\n",
       "    <tr>\n",
       "      <th>line.l7</th>\n",
       "      <td>151.063751</td>\n",
       "      <td>100.025157</td>\n",
       "      <td>114.340136</td>\n",
       "      <td>NaN</td>\n",
       "      <td>151.063828</td>\n",
       "      <td>100.025200</td>\n",
       "      <td>114.340169</td>\n",
       "      <td>NaN</td>\n",
       "    </tr>\n",
       "    <tr>\n",
       "      <th>line.l10</th>\n",
       "      <td>139.515774</td>\n",
       "      <td>97.793473</td>\n",
       "      <td>114.340169</td>\n",
       "      <td>NaN</td>\n",
       "      <td>139.515886</td>\n",
       "      <td>97.793535</td>\n",
       "      <td>114.340218</td>\n",
       "      <td>NaN</td>\n",
       "    </tr>\n",
       "    <tr>\n",
       "      <th>line.sw1</th>\n",
       "      <td>157.860208</td>\n",
       "      <td>102.253716</td>\n",
       "      <td>125.839784</td>\n",
       "      <td>NaN</td>\n",
       "      <td>157.860208</td>\n",
       "      <td>102.253716</td>\n",
       "      <td>125.839784</td>\n",
       "      <td>NaN</td>\n",
       "    </tr>\n",
       "  </tbody>\n",
       "</table>\n",
       "</div>"
      ],
      "text/plain": [
       "           Terminal1.1  Terminal1.2  Terminal1.3  Terminal1.0  Terminal2.1  \\\n",
       "line.l115   157.860208   102.253716   125.839784          NaN   157.860370   \n",
       "line.l3     153.341356   100.025092   114.340085          NaN   153.341473   \n",
       "line.l7     151.063751   100.025157   114.340136          NaN   151.063828   \n",
       "line.l10    139.515774    97.793473   114.340169          NaN   139.515886   \n",
       "line.sw1    157.860208   102.253716   125.839784          NaN   157.860208   \n",
       "\n",
       "           Terminal2.2  Terminal2.3  Terminal2.0  \n",
       "line.l115   102.253806   125.839859          NaN  \n",
       "line.l3     100.025157   114.340136          NaN  \n",
       "line.l7     100.025200   114.340169          NaN  \n",
       "line.l10     97.793535   114.340218          NaN  \n",
       "line.sw1    102.253716   125.839784          NaN  "
      ]
     },
     "execution_count": 19,
     "metadata": {},
     "output_type": "execute_result"
    }
   ],
   "source": [
    "# Back to normal amps\n",
    "dss_tools.results.set_violation_current_limit_type(\"norm_amps\")\n",
    "violations_mag_current_df = dss_tools.results.violation_currents_elements\n",
    "violations_mag_current_df.head()"
   ]
  },
  {
   "cell_type": "markdown",
   "id": "8abebda04c10339",
   "metadata": {},
   "source": [
    "Get thermal violations using the emergency amps."
   ]
  },
  {
   "cell_type": "code",
   "execution_count": 20,
   "id": "23b28d21856a56db",
   "metadata": {
    "ExecuteTime": {
     "end_time": "2025-08-20T10:19:15.030997Z",
     "start_time": "2025-08-20T10:19:14.876930Z"
    }
   },
   "outputs": [
    {
     "data": {
      "text/html": [
       "<div>\n",
       "<style scoped>\n",
       "    .dataframe tbody tr th:only-of-type {\n",
       "        vertical-align: middle;\n",
       "    }\n",
       "\n",
       "    .dataframe tbody tr th {\n",
       "        vertical-align: top;\n",
       "    }\n",
       "\n",
       "    .dataframe thead th {\n",
       "        text-align: right;\n",
       "    }\n",
       "</style>\n",
       "<table border=\"1\" class=\"dataframe\">\n",
       "  <thead>\n",
       "    <tr style=\"text-align: right;\">\n",
       "      <th></th>\n",
       "      <th>Terminal1.1</th>\n",
       "      <th>Terminal1.2</th>\n",
       "      <th>Terminal1.3</th>\n",
       "      <th>Terminal1.0</th>\n",
       "      <th>Terminal2.1</th>\n",
       "      <th>Terminal2.2</th>\n",
       "      <th>Terminal2.3</th>\n",
       "      <th>Terminal2.0</th>\n",
       "    </tr>\n",
       "  </thead>\n",
       "  <tbody>\n",
       "    <tr>\n",
       "      <th>line.l115</th>\n",
       "      <td>105.240139</td>\n",
       "      <td>68.169144</td>\n",
       "      <td>83.893190</td>\n",
       "      <td>NaN</td>\n",
       "      <td>105.240247</td>\n",
       "      <td>68.169204</td>\n",
       "      <td>83.893239</td>\n",
       "      <td>NaN</td>\n",
       "    </tr>\n",
       "    <tr>\n",
       "      <th>line.l3</th>\n",
       "      <td>102.227570</td>\n",
       "      <td>66.683395</td>\n",
       "      <td>76.226723</td>\n",
       "      <td>NaN</td>\n",
       "      <td>102.227649</td>\n",
       "      <td>66.683438</td>\n",
       "      <td>76.226757</td>\n",
       "      <td>NaN</td>\n",
       "    </tr>\n",
       "    <tr>\n",
       "      <th>line.l7</th>\n",
       "      <td>100.709168</td>\n",
       "      <td>66.683438</td>\n",
       "      <td>76.226757</td>\n",
       "      <td>NaN</td>\n",
       "      <td>100.709219</td>\n",
       "      <td>66.683466</td>\n",
       "      <td>76.226779</td>\n",
       "      <td>NaN</td>\n",
       "    </tr>\n",
       "    <tr>\n",
       "      <th>line.sw1</th>\n",
       "      <td>105.240139</td>\n",
       "      <td>68.169144</td>\n",
       "      <td>83.893190</td>\n",
       "      <td>NaN</td>\n",
       "      <td>105.240139</td>\n",
       "      <td>68.169144</td>\n",
       "      <td>83.893190</td>\n",
       "      <td>NaN</td>\n",
       "    </tr>\n",
       "  </tbody>\n",
       "</table>\n",
       "</div>"
      ],
      "text/plain": [
       "           Terminal1.1  Terminal1.2  Terminal1.3  Terminal1.0  Terminal2.1  \\\n",
       "line.l115   105.240139    68.169144    83.893190          NaN   105.240247   \n",
       "line.l3     102.227570    66.683395    76.226723          NaN   102.227649   \n",
       "line.l7     100.709168    66.683438    76.226757          NaN   100.709219   \n",
       "line.sw1    105.240139    68.169144    83.893190          NaN   105.240139   \n",
       "\n",
       "           Terminal2.2  Terminal2.3  Terminal2.0  \n",
       "line.l115    68.169204    83.893239          NaN  \n",
       "line.l3      66.683438    76.226757          NaN  \n",
       "line.l7      66.683466    76.226779          NaN  \n",
       "line.sw1     68.169144    83.893190          NaN  "
      ]
     },
     "execution_count": 20,
     "metadata": {},
     "output_type": "execute_result"
    }
   ],
   "source": [
    "dss_tools.results.set_violation_current_limit_type(\"emerg_amps\")\n",
    "violations_mag_current_df = dss_tools.results.violation_currents_elements\n",
    "violations_mag_current_df.head()"
   ]
  },
  {
   "cell_type": "markdown",
   "id": "1e368965",
   "metadata": {},
   "source": [
    "### Conclusion\n",
    "In this notebook, we explored the SnapShot Results capabilities of py_dss_toolkit.\n",
    "We compiled and solved a DSS model, then retrieved key metrics such as circuit summary data, voltages, powers, and currents.\n",
    "If you have suggestions or ideas on what could be added to this tool, please don't hesitate to reach out. Your feedback is invaluable in helping improve this tool's functionality."
   ]
  }
 ],
 "metadata": {
  "kernelspec": {
   "display_name": ".venv",
   "language": "python",
   "name": "python3"
  },
  "language_info": {
   "codemirror_mode": {
    "name": "ipython",
    "version": 3
   },
   "file_extension": ".py",
   "mimetype": "text/x-python",
   "name": "python",
   "nbconvert_exporter": "python",
   "pygments_lexer": "ipython3",
   "version": "3.12.7"
  }
 },
 "nbformat": 4,
 "nbformat_minor": 5
}
