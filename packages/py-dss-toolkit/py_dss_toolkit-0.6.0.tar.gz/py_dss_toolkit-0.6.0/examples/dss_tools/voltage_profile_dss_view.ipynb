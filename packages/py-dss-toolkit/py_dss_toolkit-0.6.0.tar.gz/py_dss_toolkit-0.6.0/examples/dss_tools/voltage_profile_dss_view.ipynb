{
 "cells": [
  {
   "cell_type": "markdown",
   "id": "921dafe5667e2eaf",
   "metadata": {
    "collapsed": false
   },
   "source": [
    "# Voltage Profile DSSView View Example\n",
    "\n",
    "This notebook demonstrates how to use the `py_dss_toolkit` package to visualize the DSSView version of the voltage profile of a distribution feeder. The example covers compiling a DSS model, solving a snapshot simulation, and generating various voltage profile plots.\n"
   ]
  },
  {
   "cell_type": "code",
   "execution_count": 1,
   "id": "9ad9f1bd5bd101ae",
   "metadata": {
    "ExecuteTime": {
     "end_time": "2025-07-03T16:07:53.102954Z",
     "start_time": "2025-07-03T16:07:52.479031Z"
    },
    "collapsed": false
   },
   "outputs": [],
   "source": [
    "import py_dss_interface\n",
    "from py_dss_toolkit import dss_tools"
   ]
  },
  {
   "cell_type": "markdown",
   "id": "ae46aaf7930379dd",
   "metadata": {
    "collapsed": false
   },
   "source": [
    "Define the path to the DSS file"
   ]
  },
  {
   "cell_type": "code",
   "execution_count": 2,
   "id": "cf27c2ce67da8910",
   "metadata": {
    "ExecuteTime": {
     "end_time": "2025-07-03T16:07:53.111523Z",
     "start_time": "2025-07-03T16:07:53.105136Z"
    },
    "collapsed": false
   },
   "outputs": [],
   "source": [
    "import ipynbname\n",
    "nb_path = ipynbname.path()\n",
    "dss_file = nb_path.parent.parent.joinpath(\"feeders\", \"123bus\", \"IEEE123Master.dss\")"
   ]
  },
  {
   "cell_type": "markdown",
   "id": "1a09f82796c1f37d",
   "metadata": {
    "collapsed": false
   },
   "source": [
    "Create an instance of DSS"
   ]
  },
  {
   "cell_type": "code",
   "execution_count": 3,
   "id": "5bd488ce5fcc53c6",
   "metadata": {
    "ExecuteTime": {
     "end_time": "2025-07-03T16:07:53.217455Z",
     "start_time": "2025-07-03T16:07:53.199049Z"
    },
    "collapsed": false
   },
   "outputs": [],
   "source": [
    "dss = py_dss_interface.DSS()"
   ]
  },
  {
   "cell_type": "markdown",
   "id": "4d0f44a4b6eaae0",
   "metadata": {
    "collapsed": false
   },
   "source": [
    "Connect DSS instance to the dss_tools"
   ]
  },
  {
   "cell_type": "code",
   "execution_count": 4,
   "id": "eba6ac3df7899df8",
   "metadata": {
    "ExecuteTime": {
     "end_time": "2025-07-03T16:07:53.230041Z",
     "start_time": "2025-07-03T16:07:53.225021Z"
    },
    "collapsed": false
   },
   "outputs": [],
   "source": [
    "dss_tools.update_dss(dss)"
   ]
  },
  {
   "cell_type": "markdown",
   "id": "84b83c6605fc92b6",
   "metadata": {
    "collapsed": false
   },
   "source": [
    "Compile the DSS model from the specified file, load bus coordinates for visualization"
   ]
  },
  {
   "cell_type": "code",
   "execution_count": 5,
   "id": "1cff1d260a7cef0e",
   "metadata": {
    "ExecuteTime": {
     "end_time": "2025-07-03T16:07:53.248831Z",
     "start_time": "2025-07-03T16:07:53.235770Z"
    },
    "collapsed": false
   },
   "outputs": [
    {
     "data": {
      "text/plain": [
       "''"
      ]
     },
     "execution_count": 5,
     "metadata": {},
     "output_type": "execute_result"
    }
   ],
   "source": [
    "dss.text(f\"compile [{dss_file}]\")\n",
    "dss.text(f\"buscoords buscoords.dat\")"
   ]
  },
  {
   "cell_type": "markdown",
   "id": "ccc7d5d6ff3dce10",
   "metadata": {
    "collapsed": false
   },
   "source": [
    "Add EnergyMeter and Solve Snapshot. An energymeter is added at the feeder head, and a snapshot simulation is solved to prepare for plotting the voltage profile."
   ]
  },
  {
   "cell_type": "code",
   "execution_count": 6,
   "id": "7049fbb7271bd4c4",
   "metadata": {
    "ExecuteTime": {
     "end_time": "2025-07-03T16:07:53.274540Z",
     "start_time": "2025-07-03T16:07:53.264798Z"
    },
    "collapsed": false
   },
   "outputs": [],
   "source": [
    "dss_tools.model.add_line_in_vsource(add_meter=True)\n",
    "dss_tools.simulation.solve_snapshot()"
   ]
  },
  {
   "cell_type": "markdown",
   "id": "7532e0777631bc9e",
   "metadata": {
    "collapsed": false
   },
   "source": [
    "### Plot Voltage Profile using DSSView\n",
    "\n",
    "The voltage profile of the feeder is plotted using the DSSView program, the same one OpenDSS uses to plot the voltage profile. The plot is not shown in the Notebook, it is shown in a interface created by DSSView."
   ]
  },
  {
   "cell_type": "code",
   "execution_count": 7,
   "id": "8d70d057d5280c1f",
   "metadata": {
    "ExecuteTime": {
     "end_time": "2025-07-03T16:07:53.662722Z",
     "start_time": "2025-07-03T16:07:53.274540Z"
    },
    "collapsed": false
   },
   "outputs": [],
   "source": [
    "dss_tools.dss_view.voltage_profile()"
   ]
  },
  {
   "cell_type": "markdown",
   "id": "11e1d4f668a56fd3",
   "metadata": {
    "collapsed": false
   },
   "source": [
    "### Conclusion\n",
    "\n",
    "In this notebook, we demonstrated how to visualize the DSSView option of the voltage profile of a distribution feeder using the `py_dss_toolkit` package. We covered the process of compiling a DSS model, adding an energymeter, solving a snapshot simulation, and generating various voltage profile plots. The `py_dss_toolkit` package provides flexibility in customizing the plots, allowing users to adjust titles, annotate specific buses, and modify Matplotlib attributes to suit their needs.\n"
   ]
  }
 ],
 "metadata": {
  "kernelspec": {
   "display_name": ".venv",
   "language": "python",
   "name": "python3"
  },
  "language_info": {
   "codemirror_mode": {
    "name": "ipython",
    "version": 3
   },
   "file_extension": ".py",
   "mimetype": "text/x-python",
   "name": "python",
   "nbconvert_exporter": "python",
   "pygments_lexer": "ipython3",
   "version": "3.12.7"
  }
 },
 "nbformat": 4,
 "nbformat_minor": 5
}
