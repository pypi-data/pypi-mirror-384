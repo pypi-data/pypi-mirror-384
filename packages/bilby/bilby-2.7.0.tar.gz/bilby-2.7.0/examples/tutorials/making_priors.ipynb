{
 "cells": [
  {
   "cell_type": "markdown",
   "metadata": {},
   "source": [
    "# Prior Distributions with `Bilby`\n",
    "\n",
    "Prior distributions are a core component of any Bayesian problem and specifying them in codes can be one of the most confusing elements of a code.\n",
    "The `prior` modules in `Bilby` provide functionality for specifying prior distributions in a natural way.\n",
    "\n",
    "We have a range of predefined types of prior distribution and each kind has methods to:\n",
    "\n",
    "1. draw samples, `prior.sample`.\n",
    "2. calculate the prior probability, `prior.prob`.\n",
    "3. rescale samples from a unit cube to the prior distribution, `prior.rescale`.\n",
    "   This is especially useful when using nested samplers as it avoids the need for rejection sampling.\n",
    "4. Calculate the log prior probability, `prior.log_prob`.\n",
    "\n",
    "In addition to the predefined prior distributions there is functionality to specify your own prior, either from a pair of arrays, or from a file.\n",
    "\n",
    "Each prior distribution can also be given a `name` and may have a different `latex_label` for plotting.\n",
    "If no name is provided, the default is `None` (this should probably by `''`)."
   ]
  },
  {
   "cell_type": "code",
   "execution_count": null,
   "metadata": {},
   "outputs": [],
   "source": [
    "import bilby\n",
    "import matplotlib.pyplot as plt\n",
    "import numpy as np\n",
    "\n",
    "%matplotlib inline"
   ]
  },
  {
   "cell_type": "markdown",
   "metadata": {},
   "source": [
    "## Prior Instantiation\n",
    "\n",
    "Below we demonstrate instantiating a range of prior distributions.\n",
    "\n",
    "Note that when a `latex_label` is not specified, the `name` is used."
   ]
  },
  {
   "cell_type": "code",
   "execution_count": null,
   "metadata": {},
   "outputs": [],
   "source": [
    "fig = plt.figure(figsize=(12, 5))\n",
    "\n",
    "priors = [\n",
    "    bilby.core.prior.Uniform(minimum=5, maximum=50),\n",
    "    bilby.core.prior.LogUniform(minimum=5, maximum=50),\n",
    "    bilby.core.prior.PowerLaw(name=\"name\", alpha=2, minimum=100, maximum=1000),\n",
    "    bilby.gw.prior.UniformComovingVolume(\n",
    "        name=\"luminosity_distance\", minimum=100, maximum=1000, latex_label=\"label\"\n",
    "    ),\n",
    "    bilby.gw.prior.AlignedSpin(),\n",
    "    bilby.core.prior.Gaussian(name=\"name\", mu=0, sigma=1, latex_label=\"label\"),\n",
    "    bilby.core.prior.TruncatedGaussian(\n",
    "        name=\"name\", mu=1, sigma=0.4, minimum=-1, maximum=1, latex_label=\"label\"\n",
    "    ),\n",
    "    bilby.core.prior.Cosine(name=\"name\", latex_label=\"label\"),\n",
    "    bilby.core.prior.Sine(name=\"name\", latex_label=\"label\"),\n",
    "    bilby.core.prior.Interped(\n",
    "        name=\"name\",\n",
    "        xx=np.linspace(0, 10, 1000),\n",
    "        yy=np.linspace(0, 10, 1000) ** 4,\n",
    "        minimum=3,\n",
    "        maximum=5,\n",
    "        latex_label=\"label\",\n",
    "    ),\n",
    "]\n",
    "\n",
    "for ii, prior in enumerate(priors):\n",
    "    fig.add_subplot(2, 5, 1 + ii)\n",
    "    plt.hist(prior.sample(100000), bins=100, histtype=\"step\", density=True)\n",
    "    if not isinstance(prior, bilby.core.prior.Gaussian):\n",
    "        plt.plot(\n",
    "            np.linspace(prior.minimum, prior.maximum, 1000),\n",
    "            prior.prob(np.linspace(prior.minimum, prior.maximum, 1000)),\n",
    "        )\n",
    "    else:\n",
    "        plt.plot(np.linspace(-5, 5, 1000), prior.prob(np.linspace(-5, 5, 1000)))\n",
    "    plt.xlabel(\"{}\".format(prior.latex_label))\n",
    "\n",
    "plt.tight_layout()\n",
    "plt.show()\n",
    "plt.close()"
   ]
  },
  {
   "cell_type": "markdown",
   "metadata": {},
   "source": [
    "## Define an Analytic Prior\n",
    "\n",
    "Adding a new analytic is achieved as follows."
   ]
  },
  {
   "cell_type": "code",
   "execution_count": null,
   "metadata": {},
   "outputs": [],
   "source": [
    "class Exponential(bilby.core.prior.Prior):\n",
    "    \"\"\"Define a new prior class where p(x) ~ exp(alpha * x)\"\"\"\n",
    "\n",
    "    def __init__(self, alpha, minimum, maximum, name=None, latex_label=None):\n",
    "        super(Exponential, self).__init__(\n",
    "            name=name, latex_label=latex_label, minimum=minimum, maximum=maximum\n",
    "        )\n",
    "        self.alpha = alpha\n",
    "\n",
    "    def rescale(self, val):\n",
    "        return (\n",
    "            np.log(\n",
    "                (np.exp(self.alpha * self.maximum) - np.exp(self.alpha * self.minimum))\n",
    "                * val\n",
    "                + np.exp(self.alpha * self.minimum)\n",
    "            )\n",
    "            / self.alpha\n",
    "        )\n",
    "\n",
    "    def prob(self, val):\n",
    "        in_prior = (val >= self.minimum) & (val <= self.maximum)\n",
    "        return (\n",
    "            self.alpha\n",
    "            * np.exp(self.alpha * val)\n",
    "            / (np.exp(self.alpha * self.maximum) - np.exp(self.alpha * self.minimum))\n",
    "            * in_prior\n",
    "        )"
   ]
  },
  {
   "cell_type": "code",
   "execution_count": null,
   "metadata": {},
   "outputs": [],
   "source": [
    "prior = Exponential(name=\"name\", alpha=-1, minimum=0, maximum=10)\n",
    "\n",
    "plt.figure(figsize=(12, 5))\n",
    "plt.hist(prior.sample(100000), bins=100, histtype=\"step\", density=True)\n",
    "plt.plot(\n",
    "    np.linspace(prior.minimum, prior.maximum, 1000),\n",
    "    prior.prob(np.linspace(prior.minimum, prior.maximum, 1000)),\n",
    ")\n",
    "plt.xlabel(\"{}\".format(prior.latex_label))\n",
    "plt.show()\n",
    "plt.close()"
   ]
  }
 ],
 "metadata": {},
 "nbformat": 4,
 "nbformat_minor": 4
}
