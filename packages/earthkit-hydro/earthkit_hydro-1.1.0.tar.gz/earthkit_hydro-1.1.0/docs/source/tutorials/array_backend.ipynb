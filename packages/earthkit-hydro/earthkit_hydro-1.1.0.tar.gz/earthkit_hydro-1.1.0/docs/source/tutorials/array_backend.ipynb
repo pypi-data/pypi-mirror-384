{
 "cells": [
  {
   "cell_type": "code",
   "execution_count": 1,
   "id": "45d08de9",
   "metadata": {},
   "outputs": [],
   "source": [
    "import earthkit.hydro as ekh\n",
    "import numpy as np\n",
    "import cupy as cp\n",
    "import torch\n",
    "import xarray as xr"
   ]
  },
  {
   "cell_type": "markdown",
   "id": "ddb95d08",
   "metadata": {},
   "source": [
    "# Switching array backends\n",
    "\n",
    "By default, earthkit-hydro uses numpy, but it is designed to be array backend agnostic. The backend of the river network object is easily changed via the `to_device` method as follows. This operation is in-place."
   ]
  },
  {
   "cell_type": "code",
   "execution_count": 2,
   "id": "b4e92203",
   "metadata": {},
   "outputs": [
    {
     "name": "stdout",
     "output_type": "stream",
     "text": [
      "Cache disabled.\n",
      "numpy\n",
      "Cache disabled.\n",
      "torch\n"
     ]
    }
   ],
   "source": [
    "numpy_network = ekh.river_network.load(\"efas\", \"5\", use_cache=False)\n",
    "print(numpy_network.array_backend)\n",
    "torch_network = ekh.river_network.load(\"efas\", \"5\", use_cache=False).to_device(array_backend=\"torch\")\n",
    "print(torch_network.array_backend)"
   ]
  },
  {
   "cell_type": "markdown",
   "id": "82eb863d",
   "metadata": {},
   "source": [
    "All operations are then computed in the exact same manner. Inputs must match the river network array backend i.e. it is not possible to input a numpy array to a operation with a torch-backed river network.\n",
    "\n",
    "Many backends such as jax, tensorflow and cupy are supported, but we show as an example numpy and torch below:"
   ]
  },
  {
   "cell_type": "code",
   "execution_count": 3,
   "id": "6e8cb9b4",
   "metadata": {},
   "outputs": [
    {
     "data": {
      "text/plain": [
       "array([[ 1.,  1.,  1., ..., nan, nan, nan],\n",
       "       [ 1.,  2.,  4., ..., nan, nan, nan],\n",
       "       [ 1.,  2.,  1., ..., nan, nan, nan],\n",
       "       ...,\n",
       "       [nan, nan, nan, ...,  1.,  2.,  1.],\n",
       "       [nan, nan, nan, ...,  1.,  6.,  8.],\n",
       "       [nan, nan, nan, ...,  2.,  1.,  1.]], shape=(2970, 4530))"
      ]
     },
     "execution_count": 3,
     "metadata": {},
     "output_type": "execute_result"
    }
   ],
   "source": [
    "ekh.upstream.array.sum(numpy_network, np.ones(numpy_network.shape))"
   ]
  },
  {
   "cell_type": "code",
   "execution_count": 4,
   "id": "683d6fd7",
   "metadata": {},
   "outputs": [
    {
     "data": {
      "text/plain": [
       "tensor([[1., 1., 1.,  ..., nan, nan, nan],\n",
       "        [1., 2., 4.,  ..., nan, nan, nan],\n",
       "        [1., 2., 1.,  ..., nan, nan, nan],\n",
       "        ...,\n",
       "        [nan, nan, nan,  ..., 1., 2., 1.],\n",
       "        [nan, nan, nan,  ..., 1., 6., 8.],\n",
       "        [nan, nan, nan,  ..., 2., 1., 1.]])"
      ]
     },
     "execution_count": 4,
     "metadata": {},
     "output_type": "execute_result"
    }
   ],
   "source": [
    "ekh.upstream.array.sum(torch_network, torch.ones(torch_network.shape))"
   ]
  },
  {
   "cell_type": "markdown",
   "id": "c3d99563",
   "metadata": {},
   "source": [
    "## Differentiability\n",
    "\n",
    "Operations in earthkit-hydro are differentiable, which means that array backends with autograd behaviour can propagate gradients through operations."
   ]
  },
  {
   "cell_type": "code",
   "execution_count": 5,
   "id": "1154a40b",
   "metadata": {},
   "outputs": [
    {
     "data": {
      "text/plain": [
       "tensor([1., 4., 1.,  ..., 3., 3., 2.])"
      ]
     },
     "execution_count": 5,
     "metadata": {},
     "output_type": "execute_result"
    }
   ],
   "source": [
    "initial_tensor = torch.ones(torch_network.n_nodes, requires_grad=True)\n",
    "\n",
    "output_tensor = ekh.upstream.array.sum(torch_network, initial_tensor, return_type=\"masked\")\n",
    "\n",
    "loss = output_tensor.sum()\n",
    "\n",
    "loss.backward()\n",
    "\n",
    "initial_tensor.grad"
   ]
  },
  {
   "cell_type": "markdown",
   "id": "d4d3b39e",
   "metadata": {},
   "source": [
    "## GPU\n",
    "\n",
    "Many array backend libraries such as torch have the concept of a device. By default, this is the CPU. However, operations on the GPU can be of interest to speed up operations. The `to_device` method can also be used to convert between devices."
   ]
  },
  {
   "cell_type": "code",
   "execution_count": 6,
   "id": "e199c2f1",
   "metadata": {},
   "outputs": [
    {
     "name": "stdout",
     "output_type": "stream",
     "text": [
      "cpu\n",
      "cuda\n"
     ]
    }
   ],
   "source": [
    "print(torch_network.device)\n",
    "torch_network = torch_network.to_device(device=\"cuda\", array_backend=\"torch\")\n",
    "print(torch_network.device)"
   ]
  },
  {
   "cell_type": "markdown",
   "id": "086ef23f",
   "metadata": {},
   "source": [
    "Operations can then be conducted on the GPU."
   ]
  },
  {
   "cell_type": "code",
   "execution_count": 7,
   "id": "c775c9b6",
   "metadata": {},
   "outputs": [
    {
     "data": {
      "text/plain": [
       "tensor([1., 1., 1.,  ..., 2., 1., 1.], device='cuda:0')"
      ]
     },
     "execution_count": 7,
     "metadata": {},
     "output_type": "execute_result"
    }
   ],
   "source": [
    "ekh.upstream.array.sum(torch_network, torch.ones(numpy_network.shape, device=torch_network.device), return_type=\"masked\")"
   ]
  },
  {
   "cell_type": "markdown",
   "id": "8f0b64ac",
   "metadata": {},
   "source": [
    "## xarray\n",
    "\n",
    "xarray does not support array backends such as torch, tensorflow etc., but it does support both cupy and numpy. Therefore it is possible to leverage the GPU for xarray operations by using a cupy array backend."
   ]
  },
  {
   "cell_type": "code",
   "execution_count": 8,
   "id": "e25b8f9e",
   "metadata": {},
   "outputs": [],
   "source": [
    "example_arr_numpy = np.random.rand(10, *numpy_network.shape)\n",
    "example_arr_cupy = cp.random.rand(10, *numpy_network.shape)\n",
    "\n",
    "lat = numpy_network.coords['lat']\n",
    "lon = numpy_network.coords['lon']\n",
    "step = np.arange(10)\n",
    "\n",
    "example_da_numpy = xr.DataArray(\n",
    "    example_arr_numpy,\n",
    "    dims = [\"step\", \"lat\", \"lon\"],\n",
    "    coords = {\"step\": step, \"lat\": lat, \"lon\": lon},\n",
    "    name = \"precip\",\n",
    "    attrs={\"units\": \"m\", \"description\": \"Sample precipitation data\"}\n",
    ")\n",
    "\n",
    "example_da_cupy = xr.DataArray(\n",
    "    example_arr_cupy,\n",
    "    dims = [\"step\", \"lat\", \"lon\"],\n",
    "    coords = {\"step\": step, \"lat\": lat, \"lon\": lon},\n",
    "    name = \"precip\",\n",
    "    attrs={\"units\": \"m\", \"description\": \"Sample precipitation data\"}\n",
    ")"
   ]
  },
  {
   "cell_type": "code",
   "execution_count": 9,
   "id": "fa5c37a3",
   "metadata": {},
   "outputs": [
    {
     "name": "stdout",
     "output_type": "stream",
     "text": [
      "4.49 s ± 25.6 ms per loop (mean ± std. dev. of 7 runs, 1 loop each)\n"
     ]
    }
   ],
   "source": [
    "%timeit ekh.upstream.sum(numpy_network, example_da_numpy)"
   ]
  },
  {
   "cell_type": "code",
   "execution_count": 10,
   "id": "1d313e18",
   "metadata": {},
   "outputs": [],
   "source": [
    "cupy_network = numpy_network.to_device(device=\"cuda\")"
   ]
  },
  {
   "cell_type": "code",
   "execution_count": 11,
   "id": "9d94e1b0",
   "metadata": {},
   "outputs": [
    {
     "name": "stdout",
     "output_type": "stream",
     "text": [
      "171 ms ± 650 μs per loop (mean ± std. dev. of 7 runs, 1 loop each)\n"
     ]
    }
   ],
   "source": [
    "%timeit ekh.upstream.sum(cupy_network, example_da_cupy)"
   ]
  },
  {
   "cell_type": "markdown",
   "id": "2e277e80",
   "metadata": {},
   "source": [
    "As seen, this gives a large speedup by moving to the GPU."
   ]
  }
 ],
 "metadata": {
  "kernelspec": {
   "display_name": "ekh (gpu)",
   "language": "python",
   "name": "ekh"
  },
  "language_info": {
   "codemirror_mode": {
    "name": "ipython",
    "version": 3
   },
   "file_extension": ".py",
   "mimetype": "text/x-python",
   "name": "python",
   "nbconvert_exporter": "python",
   "pygments_lexer": "ipython3",
   "version": "3.12.10"
  }
 },
 "nbformat": 4,
 "nbformat_minor": 5
}
