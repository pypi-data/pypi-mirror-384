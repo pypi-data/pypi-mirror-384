{
 "cells": [
  {
   "cell_type": "code",
   "execution_count": 1,
   "id": "f1047b78",
   "metadata": {},
   "outputs": [],
   "source": [
    "import earthkit.hydro as ekh"
   ]
  },
  {
   "cell_type": "markdown",
   "id": "8ea8ca7d",
   "metadata": {},
   "source": [
    "# Loading/creating river networks\n",
    "\n",
    "This notebooks goes through all of the different options for loading a river network.\n",
    "\n",
    "There are two methods\n",
    "- `ekh.river_network.load` (recommended)\n",
    "- `ekh.river_network.create` (advanced use only)"
   ]
  },
  {
   "cell_type": "markdown",
   "id": "0751f034",
   "metadata": {},
   "source": [
    "## Loading river networks\n",
    "\n",
    "A chosen network can then be loaded easily using `river_network.load`. For example, loading the EFAS v5 network is done with"
   ]
  },
  {
   "cell_type": "code",
   "execution_count": 3,
   "id": "aee70ac8",
   "metadata": {},
   "outputs": [
    {
     "name": "stdout",
     "output_type": "stream",
     "text": [
      "River network not found in cache (/var/folders/td/yqnxcqpx39dc855vwjtv5hj40000gn/T/tmp75g6_e5n_earthkit_hydro/0.2_c3b54d239de177b0e6b8abf8b506b79bc227f3d173ad1e346c9cc89471cad1e0.joblib).\n",
      "River network loaded, saving to cache (/var/folders/td/yqnxcqpx39dc855vwjtv5hj40000gn/T/tmp75g6_e5n_earthkit_hydro/0.2_c3b54d239de177b0e6b8abf8b506b79bc227f3d173ad1e346c9cc89471cad1e0.joblib).\n"
     ]
    }
   ],
   "source": [
    "network = ekh.river_network.load(\"efas\", \"5\")"
   ]
  },
  {
   "cell_type": "markdown",
   "id": "ed764d73",
   "metadata": {},
   "source": [
    "## Creating river networks\n",
    "\n",
    "Obviously not all river networks will be available. In advanced cases therefore, users may need to create their own river network with `river_network.create`.\n",
    "\n",
    "Many river network formats are supported, as are many filetypes and data sources. As an example, we can load a local netCDF file using the PCRaster river network format via"
   ]
  },
  {
   "cell_type": "code",
   "execution_count": 4,
   "id": "21bc9f8c",
   "metadata": {},
   "outputs": [
    {
     "name": "stdout",
     "output_type": "stream",
     "text": [
      "River network not found in cache (/var/folders/td/yqnxcqpx39dc855vwjtv5hj40000gn/T/tmp75g6_e5n_earthkit_hydro/0.2_d49eb4193bdab4aa653eac88fc0d9dea6c7ecbe5ae64cf639230e2c2fdf612e4.joblib).\n",
      "River network loaded, saving to cache (/var/folders/td/yqnxcqpx39dc855vwjtv5hj40000gn/T/tmp75g6_e5n_earthkit_hydro/0.2_d49eb4193bdab4aa653eac88fc0d9dea6c7ecbe5ae64cf639230e2c2fdf612e4.joblib).\n"
     ]
    }
   ],
   "source": [
    "network = ekh.river_network.create(\"local_pcraster_efas_network_file.nc\", \"pcr_d8\", \"file\")"
   ]
  },
  {
   "cell_type": "markdown",
   "id": "aff0387d",
   "metadata": {},
   "source": [
    "This creation step can be expensive, particularly for large network since it involves finding the topological ordering of the graph. Therefore, if the network will be reused for further analyses, it is recommended to save it explicitly somewhere."
   ]
  },
  {
   "cell_type": "code",
   "execution_count": 5,
   "id": "c6af51d1",
   "metadata": {},
   "outputs": [],
   "source": [
    "network.export(\"my_river_network.joblib\")"
   ]
  },
  {
   "cell_type": "markdown",
   "id": "6b0e9dc7",
   "metadata": {},
   "source": [
    "The saved network can then be cheaply reloaded in later analyses via"
   ]
  },
  {
   "cell_type": "code",
   "execution_count": 6,
   "id": "a1c6b317",
   "metadata": {},
   "outputs": [
    {
     "name": "stdout",
     "output_type": "stream",
     "text": [
      "River network not found in cache (/var/folders/td/yqnxcqpx39dc855vwjtv5hj40000gn/T/tmp75g6_e5n_earthkit_hydro/0.2_cd239cb18e6e841065a4fed044c6ac667853b385ef8406da2c1cf86471f003a8.joblib).\n",
      "River network loaded, saving to cache (/var/folders/td/yqnxcqpx39dc855vwjtv5hj40000gn/T/tmp75g6_e5n_earthkit_hydro/0.2_cd239cb18e6e841065a4fed044c6ac667853b385ef8406da2c1cf86471f003a8.joblib).\n"
     ]
    }
   ],
   "source": [
    "network = ekh.river_network.create(\"my_river_network.joblib\", \"precomputed\", \"file\")"
   ]
  },
  {
   "cell_type": "markdown",
   "id": "a20b4e76",
   "metadata": {},
   "source": [
    "## Caching\n",
    "\n",
    "Networks are automatically cached to temporary storage for faster reloading within the same script. This temporary storage is however still only temporary, which is why exporting and saving explicitly is required if one wants to ensure the availability of the precomputed network.\n",
    "\n",
    "The cache can however be modified. To disable it, the `use_cache=False` flag can be passed"
   ]
  },
  {
   "cell_type": "code",
   "execution_count": 7,
   "id": "72f2b722",
   "metadata": {},
   "outputs": [
    {
     "name": "stdout",
     "output_type": "stream",
     "text": [
      "Cache disabled.\n"
     ]
    }
   ],
   "source": [
    "network = ekh.river_network.load(\"efas\", \"5\", use_cache=False)"
   ]
  },
  {
   "cell_type": "markdown",
   "id": "44358e73",
   "metadata": {},
   "source": [
    "The cache can also be set to a non-temporary storage location, in which case it becomes _permanent_."
   ]
  },
  {
   "cell_type": "code",
   "execution_count": 8,
   "id": "a2ee7e97",
   "metadata": {},
   "outputs": [
    {
     "name": "stdout",
     "output_type": "stream",
     "text": [
      "River network not found in cache (./0.2_c3b54d239de177b0e6b8abf8b506b79bc227f3d173ad1e346c9cc89471cad1e0.joblib).\n",
      "River network loaded, saving to cache (./0.2_c3b54d239de177b0e6b8abf8b506b79bc227f3d173ad1e346c9cc89471cad1e0.joblib).\n"
     ]
    }
   ],
   "source": [
    "network = ekh.river_network.load(\"efas\", \"5\", cache_dir=\".\")"
   ]
  },
  {
   "cell_type": "markdown",
   "id": "5ade93ba",
   "metadata": {},
   "source": [
    "For further customisation options, view the API reference."
   ]
  }
 ],
 "metadata": {
  "kernelspec": {
   "display_name": "ekh",
   "language": "python",
   "name": "python3"
  },
  "language_info": {
   "codemirror_mode": {
    "name": "ipython",
    "version": 3
   },
   "file_extension": ".py",
   "mimetype": "text/x-python",
   "name": "python",
   "nbconvert_exporter": "python",
   "pygments_lexer": "ipython3",
   "version": "3.11.13"
  }
 },
 "nbformat": 4,
 "nbformat_minor": 5
}
