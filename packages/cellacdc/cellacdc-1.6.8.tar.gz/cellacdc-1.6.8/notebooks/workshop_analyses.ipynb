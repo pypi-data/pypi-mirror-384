{
 "cells": [
  {
   "cell_type": "code",
   "execution_count": null,
   "id": "3418ef5a",
   "metadata": {},
   "outputs": [],
   "source": [
    "import os\n",
    "import sys\n",
    "import numpy as np\n",
    "import pandas as pd\n",
    "from scipy.spatial import distance_matrix\n",
    "pd.set_option(\"display.max_columns\", 200)\n",
    "pd.set_option(\"display.max_rows\", 50)\n",
    "pd.set_option('display.max_colwidth', 150)\n",
    "import matplotlib.pyplot as plt\n",
    "import seaborn as sns\n",
    "sns.set_theme()\n",
    "try:\n",
    "    from cellacdc import cca_functions\n",
    "    from cellacdc import myutils\n",
    "except FileNotFoundError:\n",
    "    # Check if user has developer version --> add the Cell_ACDC/cellacdc\n",
    "    # folder to path and import from there\n",
    "    sys.path.insert(0, '../cellacdc/')\n",
    "    from cellacdc import cca_functions\n",
    "    from cellacdc import myutils"
   ]
  },
  {
   "cell_type": "code",
   "execution_count": null,
   "id": "64830244",
   "metadata": {
    "ExecuteTime": {
     "end_time": "2021-09-27T15:42:53.764798Z",
     "start_time": "2021-09-27T15:42:53.616798Z"
    }
   },
   "outputs": [],
   "source": [
    "%load_ext autoreload\n",
    "%autoreload 2"
   ]
  },
  {
   "attachments": {},
   "cell_type": "markdown",
   "id": "386f3306",
   "metadata": {},
   "source": [
    "# configurations\n",
    "- follow the file selection dialog:\n",
    "    - select microscopy folder in first step\n",
    "    - select positions of the selected folder in second step\n",
    "- repeat to add more positions to the analysis\n",
    "- positions selected within one iteration of the dialog will be pooled together in the following analyses"
   ]
  },
  {
   "cell_type": "code",
   "execution_count": null,
   "id": "9bcdab2b",
   "metadata": {
    "ExecuteTime": {
     "end_time": "2021-09-27T15:43:09.821037Z",
     "start_time": "2021-09-27T15:42:54.282989Z"
    }
   },
   "outputs": [],
   "source": [
    "data_dirs, positions, app = cca_functions.configuration_dialog()\n",
    "file_names = [os.path.split(path)[-1] for path in data_dirs]\n",
    "image_folders = [[os.path.join(data_dir, pos_str, 'Images') for pos_str in pos_list] for pos_list, data_dir in zip(positions, data_dirs)]\n",
    "# determine available channels based on first(!) position.\n",
    "# Warn user if one or more of the channels are not available for some positions\n",
    "first_pos_dirs = [os.path.join(data_dir, positions[0][0], 'Images') for data_dir in data_dirs]\n",
    "first_pos_files = [myutils.listdir(first_pos_dir) for first_pos_dir in first_pos_dirs]\n",
    "channels = [cca_functions.find_available_channels(fpf, fpd)[0] for fpf, fpd in zip(first_pos_files, first_pos_dirs)]\n",
    "basenames = [cca_functions.find_available_channels(fpf, fpd)[1] for fpf, fpd in zip(first_pos_files, first_pos_dirs)]\n",
    "segm_endnames = [cca_functions.get_segm_endname(fpd, bn) for fpd, bn in zip(first_pos_dirs, basenames)]\n"
   ]
  },
  {
   "attachments": {},
   "cell_type": "markdown",
   "id": "324b26ef-52e7-4020-8cd1-8c178bec0799",
   "metadata": {},
   "source": [
    "# load data and perform all needed calculations on image data"
   ]
  },
  {
   "cell_type": "code",
   "execution_count": null,
   "id": "21df0290-66e2-4059-a25f-ec2c835238d2",
   "metadata": {},
   "outputs": [],
   "source": [
    "data_dirs, positions, file_names, image_folders, segm_endnames, channels"
   ]
  },
  {
   "cell_type": "code",
   "execution_count": null,
   "id": "97125a6e",
   "metadata": {
    "ExecuteTime": {
     "end_time": "2021-09-27T15:43:13.776899Z",
     "start_time": "2021-09-27T15:43:11.964964Z"
    },
    "scrolled": true
   },
   "outputs": [],
   "source": [
    "overall_df = cca_functions.load_acdc_output_only(\n",
    "    file_names,\n",
    "    image_folders,\n",
    "    positions,\n",
    "    segm_endnames\n",
    ")\n",
    "is_timelapse_data = True # Maybe not needed"
   ]
  },
  {
   "cell_type": "code",
   "execution_count": null,
   "id": "03fc647e",
   "metadata": {},
   "outputs": [],
   "source": [
    "print(overall_df.shape)\n",
    "overall_df"
   ]
  },
  {
   "cell_type": "code",
   "execution_count": null,
   "id": "84bea3ef",
   "metadata": {
    "ExecuteTime": {
     "end_time": "2021-09-27T15:43:14.104476Z",
     "start_time": "2021-09-27T15:43:13.932425Z"
    }
   },
   "outputs": [],
   "source": [
    "# if cell cycle annotations were performed in ACDC, extend the dataframe by a join on each cells relative cell\n",
    "if 'cell_cycle_stage' in overall_df.columns:\n",
    "    overall_df_with_rel = cca_functions.calculate_relatives_data(overall_df, channels)\n",
    "    # If working with timelapse data build dataframe grouped by phases\n",
    "    group_cols = [\n",
    "        'Cell_ID', 'generation_num', 'cell_cycle_stage', 'relationship', 'position', 'file', \n",
    "        'max_frame_pos', 'selection_subset', 'max_t'\n",
    "    ]\n",
    "    # calculate data grouped by phase only in the case, that timelapse data is available\n",
    "    if is_timelapse_data and 'max_t' in overall_df_with_rel.columns:\n",
    "        phase_grouped = cca_functions.calculate_per_phase_quantities(overall_df_with_rel, group_cols, channels)\n",
    "        # append phase-grouped data to overall_df_with_rel\n",
    "        overall_df_with_rel = overall_df_with_rel.merge(\n",
    "            phase_grouped,\n",
    "            how='left',\n",
    "            on=group_cols\n",
    "        )\n",
    "        overall_df_with_rel['time_in_phase'] = overall_df_with_rel['frame_i'] - overall_df_with_rel['phase_begin'] + 1\n",
    "        overall_df_with_rel['time_in_cell_cycle'] = overall_df_with_rel.groupby(['Cell_ID', 'generation_num', 'position', 'file'])['frame_i'].transform('cumcount') + 1"
   ]
  },
  {
   "attachments": {},
   "cell_type": "markdown",
   "id": "73928ee9",
   "metadata": {
    "heading_collapsed": true,
    "tags": []
   },
   "source": [
    "# Example plots as starting point"
   ]
  },
  {
   "cell_type": "markdown",
   "id": "40a59eec",
   "metadata": {},
   "source": [
    "## Selection subset example\n",
    "(Try if more than one selection subset was selected)"
   ]
  },
  {
   "cell_type": "code",
   "execution_count": null,
   "id": "1bfdc51a",
   "metadata": {},
   "outputs": [],
   "source": [
    "overall_df.head()"
   ]
  },
  {
   "cell_type": "code",
   "execution_count": null,
   "id": "1af7e28c",
   "metadata": {},
   "outputs": [],
   "source": [
    "fig, axs = plt.subplots(1, 3, figsize=(15, 5))\n",
    "sns.lineplot(data=overall_df, x='frame_i', y='cell_area_um2', hue='selection_subset', ci='sd', ax=axs[0])\n",
    "sns.lineplot(\n",
    "    data=overall_df.groupby(['frame_i', 'selection_subset']).size().reset_index(drop=False), \n",
    "    x='frame_i', \n",
    "    y=0, \n",
    "    hue='selection_subset', \n",
    "    ci='sd', \n",
    "    ax=axs[1]\n",
    "    )\n",
    "track_lengths = overall_df.groupby(\n",
    "    ['selection_subset', 'Cell_ID']\n",
    "    )['frame_i'].apply(lambda x: x.max() - x.min()).reset_index(drop=False)\n",
    "sns.histplot(data=track_lengths, x='frame_i', kde=True, ax=axs[2], hue='selection_subset', multiple='dodge')\n",
    "axs[0].set_title('Mean cell area over time')\n",
    "axs[1].set_title('Number of cells over time')\n",
    "axs[2].set_title('Track length distribution')"
   ]
  },
  {
   "cell_type": "markdown",
   "id": "e203ca8b",
   "metadata": {},
   "source": [
    "## For rest of the figures, use only one selection subset"
   ]
  },
  {
   "cell_type": "code",
   "execution_count": null,
   "metadata": {},
   "outputs": [],
   "source": [
    "plot_data = overall_df.loc[overall_df['selection_subset'] == 0]"
   ]
  },
  {
   "cell_type": "markdown",
   "id": "ae8639e0",
   "metadata": {},
   "source": [
    "## Cell counts over time"
   ]
  },
  {
   "cell_type": "code",
   "execution_count": null,
   "id": "6f7a3c20",
   "metadata": {},
   "outputs": [],
   "source": [
    "plt.figure(figsize=(18, 6))\n",
    "# First Panel: Number of Cells per Frame\n",
    "plt.subplot(1, 3, 1)\n",
    "plot_data.groupby('frame_i').size().plot(kind='line')\n",
    "plt.xlabel('Frame')\n",
    "plt.ylabel('Number of Cells')\n",
    "plt.title('Number of Cells per Frame')\n",
    "\n",
    "# Second Panel: Mean Cell Volume over Time\n",
    "plt.subplot(1, 3, 2)\n",
    "sns.lineplot(data=plot_data, x='frame_i', y='cell_area_um2', ci='sd')\n",
    "plt.xlabel('Frame')\n",
    "plt.ylabel('Mean Cell area (µm²)')\n",
    "plt.title('Mean Cell area over Time')\n",
    "\n",
    "# Third Panel: Total Area of All Cells over Time\n",
    "plt.subplot(1, 3, 3)\n",
    "plot_data.groupby('frame_i')['cell_area_um2'].sum().plot(kind='line')\n",
    "plt.xlabel('Frame')\n",
    "plt.ylabel('Total Cell area (µm²)')\n",
    "plt.title('Total Cell area over Time')\n",
    "\n",
    "plt.tight_layout()\n",
    "plt.show()\n"
   ]
  },
  {
   "cell_type": "markdown",
   "id": "712c385a",
   "metadata": {},
   "source": [
    "## Volume distribution on first and last frames"
   ]
  },
  {
   "cell_type": "code",
   "execution_count": null,
   "id": "e4f75283",
   "metadata": {},
   "outputs": [],
   "source": [
    "# Filter the DataFrame for the first frame\n",
    "first_frame_df = plot_data[plot_data['frame_i'] == 0]\n",
    "\n",
    "# Filter the DataFrame for the last frame\n",
    "last_frame_df = plot_data[plot_data['frame_i'] == plot_data['frame_i'].max()]\n",
    "# Calculate the total number of cells in each frame\n",
    "first_frame_total_cells = len(first_frame_df)\n",
    "last_frame_total_cells = len(last_frame_df)\n",
    "\n",
    "# Plot the volume distributions\n",
    "plt.figure(figsize=(10, 6))\n",
    "sns.histplot(data=first_frame_df, x='cell_area_um2', kde=True, label='First Frame', stat='density')\n",
    "sns.histplot(data=last_frame_df, x='cell_area_um2', kde=True, label='Last Frame', stat='density')\n",
    "plt.xlabel('Cell Area (µm²)')\n",
    "plt.ylabel('Density')\n",
    "plt.title('Relative Volume Distribution of Cells')\n",
    "plt.legend()\n",
    "\n",
    "# Add text annotations for the relative counts\n",
    "print(f'Cell count first frame: {first_frame_total_cells}')\n",
    "print(f'Cell count last frame: {last_frame_total_cells}')\n",
    "\n",
    "plt.show()\n"
   ]
  },
  {
   "cell_type": "markdown",
   "id": "85743dcf",
   "metadata": {},
   "source": [
    "## Track lengths before correction"
   ]
  },
  {
   "cell_type": "code",
   "execution_count": null,
   "id": "7ee92230",
   "metadata": {},
   "outputs": [],
   "source": [
    "# Calculate track lengths\n",
    "track_lengths = plot_data.groupby('Cell_ID')['frame_i'].apply(lambda x: x.max() - x.min())\n",
    "\n",
    "# Plot track length distribution\n",
    "plt.figure(figsize=(10, 6))\n",
    "sns.histplot(data=track_lengths, kde=True)\n",
    "plt.xlabel('Track Length')\n",
    "plt.ylabel('Count')\n",
    "plt.title('Distribution of Track Lengths')\n",
    "plt.show()\n"
   ]
  },
  {
   "cell_type": "markdown",
   "id": "02b9832a",
   "metadata": {},
   "source": [
    "## Visualize paths of cells that have been tracked for more than 20 frames"
   ]
  },
  {
   "cell_type": "code",
   "execution_count": null,
   "id": "d9f7c75b",
   "metadata": {},
   "outputs": [],
   "source": [
    "filtered_df = plot_data[plot_data['Cell_ID'].map(track_lengths) > 20]\n",
    "plt.figure(figsize=(21, 7))\n",
    "# First Panel: Volume over time lineplot\n",
    "plt.subplot(1, 2, 1)\n",
    "for cell_id, cell_data in filtered_df.groupby('Cell_ID'):\n",
    "    plt.plot(cell_data['frame_i'], cell_data['cell_area_um2'], label=f'Cell {cell_id}')\n",
    "plt.xlabel('Frame')\n",
    "plt.ylabel('Cell Area (µm²)')\n",
    "plt.title('Volume over Time')\n",
    "plt.legend().set_visible(False)  # Hide the legend\n",
    "\n",
    "# Second Panel: Traces of all cells\n",
    "plt.subplot(1, 2, 2)\n",
    "for cell_id, cell_data in filtered_df.groupby('Cell_ID'):\n",
    "    plt.plot(cell_data['centroid-1'], cell_data['centroid-0'], label=f'Cell {cell_id}')\n",
    "plt.xlabel('X-coordinate')\n",
    "plt.title('Traces of Cells')\n",
    "plt.legend().set_visible(False)  # Hide the legend\n",
    "maxCentroidAll = filtered_df[['centroid-0', 'centroid-1']].max().max()\n",
    "plt.xlim(0, maxCentroidAll+50)\n",
    "plt.ylim(0, maxCentroidAll+50)\n",
    "\n",
    "plt.tight_layout()\n",
    "plt.show()\n",
    "\n"
   ]
  },
  {
   "cell_type": "markdown",
   "id": "65733d22",
   "metadata": {},
   "source": [
    "## Traveled distance vs. cell volume and (per frame) movement vs. growth"
   ]
  },
  {
   "cell_type": "code",
   "execution_count": null,
   "id": "ae3fc728",
   "metadata": {},
   "outputs": [],
   "source": [
    "def frame_by_frame_dist(centroid_series):\n",
    "    \"\"\"\n",
    "    Calculate the frame-by-frame distance of a centroid series\n",
    "    \"\"\"\n",
    "    xSeries = centroid_series['centroid-1']\n",
    "    ySeries = centroid_series['centroid-0']\n",
    "    # Calculate the distance between each frame\n",
    "    dists = np.sqrt((xSeries.diff() ** 2) + (ySeries.diff() ** 2))\n",
    "    return dists"
   ]
  },
  {
   "cell_type": "code",
   "execution_count": null,
   "id": "d3a30b05",
   "metadata": {},
   "outputs": [],
   "source": [
    "\n",
    "# Left panel: Total traveled distance vs. mean volume\n",
    "plt.figure(figsize=(14, 7))\n",
    "plt.subplot(1, 2, 1)\n",
    "for cell_id, cell_data in filtered_df.groupby('Cell_ID'):\n",
    "    plt.scatter(cell_data['cell_area_um2'].mean(), np.max(distance_matrix(cell_data[['centroid-0', 'centroid-1']], cell_data[['centroid-0', 'centroid-1']])))\n",
    "\n",
    "plt.xlabel('Mean Area [µm²]')\n",
    "plt.ylabel('Total Traveled Distance')\n",
    "plt.title('Total Traveled Distance vs. Mean Area')\n",
    "\n",
    "# Right panel: Frame-by-frame distance vs. frame-by-frame growth\n",
    "plt.subplot(1, 2, 2)\n",
    "for cell_id, cell_data in filtered_df.groupby('Cell_ID'):\n",
    "    plt.scatter(frame_by_frame_dist(cell_data[['centroid-0', 'centroid-1']])[1:], np.diff(cell_data['cell_area_um2']), alpha=0.4)\n",
    "\n",
    "plt.xlabel('Frame-by-Frame Distance')\n",
    "plt.ylabel('Frame-by-Frame Growth [Area in µm²]')\n",
    "plt.title('Frame-by-Frame Distance vs. Frame-by-Frame Growth')\n",
    "\n",
    "plt.tight_layout()\n",
    "plt.show()\n"
   ]
  },
  {
   "cell_type": "code",
   "execution_count": null,
   "id": "16838f36",
   "metadata": {},
   "outputs": [],
   "source": []
  }
 ],
 "metadata": {
  "kernelspec": {
   "display_name": "Python 3 (ipykernel)",
   "language": "python",
   "name": "python3"
  },
  "language_info": {
   "codemirror_mode": {
    "name": "ipython",
    "version": 3
   },
   "file_extension": ".py",
   "mimetype": "text/x-python",
   "name": "python",
   "nbconvert_exporter": "python",
   "pygments_lexer": "ipython3",
   "version": "3.9.16"
  },
  "vscode": {
   "interpreter": {
    "hash": "7e8275d694ef84453541222ec5918cb0f61c7fe24dd52ad0dce0f017ae5e30db"
   }
  }
 },
 "nbformat": 4,
 "nbformat_minor": 5
}
